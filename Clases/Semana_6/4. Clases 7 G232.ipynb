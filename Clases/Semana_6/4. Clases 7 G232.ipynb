{
 "cells": [
  {
   "cell_type": "code",
   "execution_count": 1,
   "id": "76aa3e14",
   "metadata": {},
   "outputs": [
    {
     "name": "stdout",
     "output_type": "stream",
     "text": [
      "('a', 'b', 'c', 'd', 'e', 'f', 12, 12.4, True, [5, 6])\n",
      "<class 'tuple'>\n"
     ]
    }
   ],
   "source": [
    "t='a','b','c','d','e','f',12,12.4,True,[5,6]\n",
    "print(t)\n",
    "print(type(t))"
   ]
  },
  {
   "cell_type": "code",
   "execution_count": 2,
   "id": "b007c0e0",
   "metadata": {},
   "outputs": [
    {
     "name": "stdout",
     "output_type": "stream",
     "text": [
      "('a', 'b', 'c', 'd', 'e', 'f', 12, 12.4, True, [5, 6])\n",
      "<class 'tuple'>\n"
     ]
    }
   ],
   "source": [
    "t=('a','b','c','d','e','f',12,12.4,True,[5,6])\n",
    "print(t)\n",
    "print(type(t))"
   ]
  },
  {
   "cell_type": "code",
   "execution_count": 4,
   "id": "749409f4",
   "metadata": {},
   "outputs": [
    {
     "name": "stdout",
     "output_type": "stream",
     "text": [
      "e\n"
     ]
    }
   ],
   "source": [
    "#Las tuplas indexables, podemos manejar indices\n",
    "#Tambien son inmutables, no se pueden modificar valores\n",
    "#SOn ordenadas, manejan indices ordenados para acceder a los valores \n",
    "t=('a', 'b', 'c', 'd', 'e', 'f', 12, 12.4, True, [5, 6])\n",
    "print(t[4])"
   ]
  },
  {
   "cell_type": "code",
   "execution_count": 6,
   "id": "0c93e62c",
   "metadata": {},
   "outputs": [
    {
     "name": "stdout",
     "output_type": "stream",
     "text": [
      "{'clave1': 10, 'clave2': 56.7}\n",
      "<class 'dict'>\n"
     ]
    },
    {
     "ename": "KeyError",
     "evalue": "0",
     "output_type": "error",
     "traceback": [
      "\u001b[0;31m---------------------------------------------------------------------------\u001b[0m",
      "\u001b[0;31mKeyError\u001b[0m                                  Traceback (most recent call last)",
      "\u001b[0;32m<ipython-input-6-f382eacadd67>\u001b[0m in \u001b[0;36m<module>\u001b[0;34m\u001b[0m\n\u001b[1;32m      3\u001b[0m \u001b[0mprint\u001b[0m\u001b[0;34m(\u001b[0m\u001b[0mdiccionario\u001b[0m\u001b[0;34m)\u001b[0m\u001b[0;34m\u001b[0m\u001b[0;34m\u001b[0m\u001b[0m\n\u001b[1;32m      4\u001b[0m \u001b[0mprint\u001b[0m\u001b[0;34m(\u001b[0m\u001b[0mtype\u001b[0m\u001b[0;34m(\u001b[0m\u001b[0mdiccionario\u001b[0m\u001b[0;34m)\u001b[0m\u001b[0;34m)\u001b[0m\u001b[0;34m\u001b[0m\u001b[0;34m\u001b[0m\u001b[0m\n\u001b[0;32m----> 5\u001b[0;31m \u001b[0mdiccionario\u001b[0m\u001b[0;34m[\u001b[0m\u001b[0;36m0\u001b[0m\u001b[0;34m]\u001b[0m\u001b[0;34m\u001b[0m\u001b[0;34m\u001b[0m\u001b[0m\n\u001b[0m",
      "\u001b[0;31mKeyError\u001b[0m: 0"
     ]
    }
   ],
   "source": [
    "#Los diccionarios son mutables pero no son ordenado, no manejan indices\n",
    "diccionario={'clave1':10,'clave2':56.7}\n",
    "print(diccionario)\n",
    "print(type(diccionario))\n",
    "# diccionario[0]"
   ]
  },
  {
   "cell_type": "code",
   "execution_count": 8,
   "id": "8acdc285",
   "metadata": {},
   "outputs": [
    {
     "name": "stdout",
     "output_type": "stream",
     "text": [
      "{'clave1': 10, 'clave2': 'Hola'}\n"
     ]
    }
   ],
   "source": [
    "diccionario['clave2']='Hola'\n",
    "print(diccionario)"
   ]
  },
  {
   "cell_type": "code",
   "execution_count": 11,
   "id": "c2a4e264",
   "metadata": {
    "scrolled": true
   },
   "outputs": [
    {
     "name": "stdout",
     "output_type": "stream",
     "text": [
      "[1, 3, 5, 6, 7, 7]\n",
      "6\n",
      "[1, 3, 5, 'hola', 7, 7]\n"
     ]
    }
   ],
   "source": [
    "#Lista\n",
    "#Lista es mutable y es ordenada maneja indices\n",
    "lista=[1,3,5,6,7,7]\n",
    "print(lista)\n",
    "print(lista[3])\n",
    "lista[3]='hola'\n",
    "print(lista)"
   ]
  },
  {
   "cell_type": "code",
   "execution_count": 12,
   "id": "664ec073",
   "metadata": {},
   "outputs": [
    {
     "name": "stdout",
     "output_type": "stream",
     "text": [
      "('a',)\n",
      "<class 'tuple'>\n"
     ]
    }
   ],
   "source": [
    "#Crear una tupla de un solo elemento\n",
    "t1=('a',)\n",
    "print(t1)\n",
    "print(type(t1))"
   ]
  },
  {
   "cell_type": "code",
   "execution_count": 13,
   "id": "bf2df1d6",
   "metadata": {
    "scrolled": true
   },
   "outputs": [
    {
     "name": "stdout",
     "output_type": "stream",
     "text": [
      "('a',)\n",
      "<class 'tuple'>\n"
     ]
    }
   ],
   "source": [
    "#Crear una tupla de un solo elemento\n",
    "t1='a',\n",
    "print(t1)\n",
    "print(type(t1))"
   ]
  },
  {
   "cell_type": "code",
   "execution_count": 15,
   "id": "c960e5be",
   "metadata": {
    "scrolled": true
   },
   "outputs": [
    {
     "name": "stdout",
     "output_type": "stream",
     "text": [
      "a\n",
      "<class 'str'>\n"
     ]
    }
   ],
   "source": [
    "#Se esta creando una variable con  un valor string de 'a'\n",
    "#NOTA: NO ES UNA TUPLA\n",
    "t1=('a')\n",
    "print(t1)\n",
    "print(type(t1))"
   ]
  },
  {
   "cell_type": "code",
   "execution_count": 17,
   "id": "8a309476",
   "metadata": {},
   "outputs": [
    {
     "name": "stdout",
     "output_type": "stream",
     "text": [
      "<class 'tuple'>\n"
     ]
    },
    {
     "data": {
      "text/plain": [
       "['__add__',\n",
       " '__class__',\n",
       " '__class_getitem__',\n",
       " '__contains__',\n",
       " '__delattr__',\n",
       " '__dir__',\n",
       " '__doc__',\n",
       " '__eq__',\n",
       " '__format__',\n",
       " '__ge__',\n",
       " '__getattribute__',\n",
       " '__getitem__',\n",
       " '__getnewargs__',\n",
       " '__gt__',\n",
       " '__hash__',\n",
       " '__init__',\n",
       " '__init_subclass__',\n",
       " '__iter__',\n",
       " '__le__',\n",
       " '__len__',\n",
       " '__lt__',\n",
       " '__mul__',\n",
       " '__ne__',\n",
       " '__new__',\n",
       " '__reduce__',\n",
       " '__reduce_ex__',\n",
       " '__repr__',\n",
       " '__rmul__',\n",
       " '__setattr__',\n",
       " '__sizeof__',\n",
       " '__str__',\n",
       " '__subclasshook__',\n",
       " 'count',\n",
       " 'index']"
      ]
     },
     "execution_count": 17,
     "metadata": {},
     "output_type": "execute_result"
    }
   ],
   "source": [
    "print(type(t))\n",
    "dir(t)"
   ]
  },
  {
   "cell_type": "code",
   "execution_count": 20,
   "id": "8967b016",
   "metadata": {},
   "outputs": [
    {
     "name": "stdout",
     "output_type": "stream",
     "text": [
      "()\n",
      "<class 'tuple'>\n"
     ]
    }
   ],
   "source": [
    "#Crear una tupla con la funcion TUPLE()\n",
    "t=tuple()\n",
    "print(t)\n",
    "print(type(t))"
   ]
  },
  {
   "cell_type": "code",
   "execution_count": 21,
   "id": "e29e7b64",
   "metadata": {},
   "outputs": [
    {
     "name": "stdout",
     "output_type": "stream",
     "text": [
      "('b', 'a', 'n', 'a', 'n', 'a')\n",
      "<class 'tuple'>\n"
     ]
    }
   ],
   "source": [
    "#Crear una tupla con la funcion TUPLE()\n",
    "t=tuple('banana')\n",
    "print(t)\n",
    "print(type(t))"
   ]
  },
  {
   "cell_type": "code",
   "execution_count": 22,
   "id": "17017087",
   "metadata": {},
   "outputs": [
    {
     "name": "stdout",
     "output_type": "stream",
     "text": [
      "(2, 34, 5, 6, 7, 7)\n",
      "<class 'tuple'>\n"
     ]
    }
   ],
   "source": [
    "#Crear una tupla con la funcion TUPLE()\n",
    "t=tuple([2,34,5,6,7,7])\n",
    "print(t)\n",
    "print(type(t))"
   ]
  },
  {
   "cell_type": "code",
   "execution_count": 24,
   "id": "1385b418",
   "metadata": {},
   "outputs": [
    {
     "name": "stdout",
     "output_type": "stream",
     "text": [
      "('clave1', 'clave2')\n"
     ]
    }
   ],
   "source": [
    "#Convertir un diccionario en tupla\n",
    "diccionario={'clave1':10,'clave2':56.7}\n",
    "t=tuple(diccionario)\n",
    "print(t)"
   ]
  },
  {
   "cell_type": "code",
   "execution_count": 25,
   "id": "c48022d8",
   "metadata": {},
   "outputs": [
    {
     "name": "stdout",
     "output_type": "stream",
     "text": [
      "(('clave1', 10), ('clave2', 56.7))\n"
     ]
    }
   ],
   "source": [
    "#Convertir un diccionario en tupla\n",
    "diccionario={'clave1':10,'clave2':56.7}\n",
    "t=tuple(diccionario.items())\n",
    "print(t)"
   ]
  },
  {
   "cell_type": "code",
   "execution_count": 26,
   "id": "659f0ef6",
   "metadata": {},
   "outputs": [
    {
     "name": "stdout",
     "output_type": "stream",
     "text": [
      "('clave1', 'clave2')\n"
     ]
    }
   ],
   "source": [
    "#Convertir un diccionario en tupla\n",
    "diccionario={'clave1':10,'clave2':56.7}\n",
    "t=tuple(diccionario.keys())\n",
    "print(t)"
   ]
  },
  {
   "cell_type": "code",
   "execution_count": 27,
   "id": "8d744e67",
   "metadata": {
    "scrolled": true
   },
   "outputs": [
    {
     "name": "stdout",
     "output_type": "stream",
     "text": [
      "(10, 56.7)\n"
     ]
    }
   ],
   "source": [
    "#Convertir un diccionario en tupla\n",
    "diccionario={'clave1':10,'clave2':56.7}\n",
    "t=tuple(diccionario.values())\n",
    "print(t)"
   ]
  },
  {
   "cell_type": "code",
   "execution_count": 29,
   "id": "59e1d3d4",
   "metadata": {
    "scrolled": true
   },
   "outputs": [
    {
     "name": "stdout",
     "output_type": "stream",
     "text": [
      "6\n"
     ]
    }
   ],
   "source": [
    "#Indice en una tupla\n",
    "tupla=(1,3,5,6,7,7)\n",
    "print(tupla[3])"
   ]
  },
  {
   "cell_type": "code",
   "execution_count": 30,
   "id": "e4c2834f",
   "metadata": {},
   "outputs": [
    {
     "name": "stdout",
     "output_type": "stream",
     "text": [
      "(3, 5, 6)\n"
     ]
    }
   ],
   "source": [
    "print(tupla[1:4])"
   ]
  },
  {
   "cell_type": "code",
   "execution_count": 33,
   "id": "23c35a11",
   "metadata": {},
   "outputs": [
    {
     "name": "stdout",
     "output_type": "stream",
     "text": [
      "(1, 3, 5)\n"
     ]
    }
   ],
   "source": [
    "#Los tres primeros elementos\n",
    "print(tupla[:3])"
   ]
  },
  {
   "cell_type": "code",
   "execution_count": 37,
   "id": "f5292680",
   "metadata": {},
   "outputs": [
    {
     "name": "stdout",
     "output_type": "stream",
     "text": [
      "(6, 7, 7)\n"
     ]
    }
   ],
   "source": [
    "#SI EL PRIMER INDICE EN UNA REBANDA ES IGUAL O MAYOR QUE EL SEGUNDO, VOY A OBTENER EN ESTE CASO UNA TUPLA VACIA\n",
    "#desde el tercer elemento hasta el final\n",
    "print(tupla[3:])"
   ]
  },
  {
   "cell_type": "code",
   "execution_count": 38,
   "id": "100fc52f",
   "metadata": {},
   "outputs": [
    {
     "name": "stdout",
     "output_type": "stream",
     "text": [
      "(1, 3, 5, 6, 7, 7)\n"
     ]
    }
   ],
   "source": [
    "#rebanada slicing \n",
    "print(tupla[:])"
   ]
  },
  {
   "cell_type": "code",
   "execution_count": 41,
   "id": "e0138564",
   "metadata": {
    "scrolled": true
   },
   "outputs": [
    {
     "ename": "TypeError",
     "evalue": "'tuple' object does not support item assignment",
     "output_type": "error",
     "traceback": [
      "\u001b[0;31m---------------------------------------------------------------------------\u001b[0m",
      "\u001b[0;31mTypeError\u001b[0m                                 Traceback (most recent call last)",
      "\u001b[0;32m<ipython-input-41-0ef64e5105a5>\u001b[0m in \u001b[0;36m<module>\u001b[0;34m\u001b[0m\n\u001b[1;32m      1\u001b[0m \u001b[0;31m#Las tuplas son inmutables\u001b[0m\u001b[0;34m\u001b[0m\u001b[0;34m\u001b[0m\u001b[0;34m\u001b[0m\u001b[0m\n\u001b[0;32m----> 2\u001b[0;31m \u001b[0mtupla\u001b[0m\u001b[0;34m[\u001b[0m\u001b[0;36m3\u001b[0m\u001b[0;34m]\u001b[0m\u001b[0;34m=\u001b[0m\u001b[0;36m4\u001b[0m\u001b[0;34m\u001b[0m\u001b[0;34m\u001b[0m\u001b[0m\n\u001b[0m",
      "\u001b[0;31mTypeError\u001b[0m: 'tuple' object does not support item assignment"
     ]
    }
   ],
   "source": [
    "#Las tuplas son inmutables\n",
    "tupla[3]=4"
   ]
  },
  {
   "cell_type": "code",
   "execution_count": 42,
   "id": "3b990639",
   "metadata": {},
   "outputs": [
    {
     "name": "stdout",
     "output_type": "stream",
     "text": [
      "('A', 3, 5, 6, 7, 7)\n"
     ]
    }
   ],
   "source": [
    "#Asignacion o remplazo de una tupla por otra\n",
    "tupla=(1,3,5,6,7,7)\n",
    "tupla=('A',)+tupla[1:]\n",
    "print(tupla)"
   ]
  },
  {
   "cell_type": "code",
   "execution_count": 43,
   "id": "846420b1",
   "metadata": {
    "scrolled": true
   },
   "outputs": [
    {
     "name": "stdout",
     "output_type": "stream",
     "text": [
      "(1, 3, 5, 6, 7, 7, 25.54)\n"
     ]
    }
   ],
   "source": [
    "tupla=(1,3,5,6,7,7,25.54)\n",
    "print(tupla)"
   ]
  },
  {
   "cell_type": "code",
   "execution_count": 44,
   "id": "4576c035",
   "metadata": {},
   "outputs": [
    {
     "data": {
      "text/plain": [
       "True"
      ]
     },
     "execution_count": 44,
     "metadata": {},
     "output_type": "execute_result"
    }
   ],
   "source": [
    "#COMPARACION DE TUPLAS\n",
    "(0,1,2)<(0,3,4)"
   ]
  },
  {
   "cell_type": "code",
   "execution_count": 45,
   "id": "9a09a8ef",
   "metadata": {},
   "outputs": [
    {
     "data": {
      "text/plain": [
       "True"
      ]
     },
     "execution_count": 45,
     "metadata": {},
     "output_type": "execute_result"
    }
   ],
   "source": [
    "#COMPARACION DE TUPLAS\n",
    "(0,1,20000)<(0,3,4)"
   ]
  },
  {
   "cell_type": "code",
   "execution_count": 46,
   "id": "f7b1fa2b",
   "metadata": {},
   "outputs": [
    {
     "data": {
      "text/plain": [
       "False"
      ]
     },
     "execution_count": 46,
     "metadata": {},
     "output_type": "execute_result"
    }
   ],
   "source": [
    "#COMPARACION DE TUPLAS\n",
    "(0,5,20000)<(0,3,4)"
   ]
  },
  {
   "cell_type": "code",
   "execution_count": 48,
   "id": "c419f36b",
   "metadata": {},
   "outputs": [
    {
     "name": "stdout",
     "output_type": "stream",
     "text": [
      "[('c', 2), ('f', 35), ('f', 3), ('a', 10)]\n",
      "[('a', 10), ('c', 2), ('f', 3), ('f', 35)]\n"
     ]
    }
   ],
   "source": [
    "#DSU\n",
    "lista=[('c',2),('f',35),('f',3),('a',10)]\n",
    "print(lista)\n",
    "lista.sort()\n",
    "print(lista)"
   ]
  },
  {
   "cell_type": "code",
   "execution_count": 50,
   "id": "220511f0",
   "metadata": {},
   "outputs": [
    {
     "name": "stdout",
     "output_type": "stream",
     "text": [
      "['but', 'soft', 'what', 'light', 'in', 'yonder', 'window', 'breaks']\n"
     ]
    }
   ],
   "source": [
    "#DSU\n",
    "txt='but soft what light in yonder window breaks'\n",
    "palabra=txt.split()\n",
    "print(palabra)"
   ]
  },
  {
   "cell_type": "code",
   "execution_count": 54,
   "id": "9ea9b439",
   "metadata": {
    "scrolled": true
   },
   "outputs": [
    {
     "name": "stdout",
     "output_type": "stream",
     "text": [
      "[(3, 'but'), (4, 'soft'), (4, 'what'), (5, 'light'), (2, 'in'), (6, 'yonder'), (6, 'window'), (6, 'breaks')]\n"
     ]
    }
   ],
   "source": [
    "l=list()\n",
    "for subcadena in palabra:\n",
    "#     print(subcadena, ' ', len(subcadena))\n",
    "    l.append((len(subcadena),subcadena))\n",
    "print(l)"
   ]
  },
  {
   "cell_type": "code",
   "execution_count": 59,
   "id": "bc0b9932",
   "metadata": {
    "scrolled": true
   },
   "outputs": [
    {
     "name": "stdout",
     "output_type": "stream",
     "text": [
      "[(6, 'yonder'), (6, 'window'), (6, 'breaks'), (5, 'light'), (4, 'what'), (4, 'soft'), (3, 'but'), (2, 'in')]\n",
      "\n",
      "\n",
      "['yonder', 'window', 'breaks', 'light', 'what', 'soft', 'but', 'in']\n"
     ]
    }
   ],
   "source": [
    "l.sort(reverse=True)\n",
    "print(l)\n",
    "res=list()\n",
    "for long, palabra in l:\n",
    "    res.append(palabra)\n",
    "#     print(long, palabra)\n",
    "\n",
    "print('\\n')\n",
    "print(res)"
   ]
  },
  {
   "cell_type": "code",
   "execution_count": 60,
   "id": "5d64685b",
   "metadata": {},
   "outputs": [
    {
     "name": "stdout",
     "output_type": "stream",
     "text": [
      "have\n",
      "fun\n"
     ]
    }
   ],
   "source": [
    "#Asignacion multiple de  una tupla\n",
    "m=['have','fun']\n",
    "x,y=m\n",
    "print(x)\n",
    "print(y)"
   ]
  },
  {
   "cell_type": "code",
   "execution_count": 63,
   "id": "44b044c8",
   "metadata": {},
   "outputs": [
    {
     "name": "stdout",
     "output_type": "stream",
     "text": [
      "have\n",
      "fun\n"
     ]
    }
   ],
   "source": [
    "m=['have','fun']\n",
    "x=m[0]\n",
    "y=m[1]\n",
    "print(x)\n",
    "print(y)"
   ]
  },
  {
   "cell_type": "code",
   "execution_count": 67,
   "id": "dad4daaf",
   "metadata": {},
   "outputs": [
    {
     "name": "stdout",
     "output_type": "stream",
     "text": [
      "have\n",
      "fun\n"
     ]
    }
   ],
   "source": [
    "#Asignacion multiple de  una tupla\n",
    "m=['have','fun']\n",
    "(x,y)=m\n",
    "print(x)\n",
    "print(y)"
   ]
  },
  {
   "cell_type": "code",
   "execution_count": 68,
   "id": "1a4ff4e6",
   "metadata": {},
   "outputs": [
    {
     "name": "stdout",
     "output_type": "stream",
     "text": [
      "have\n",
      "fun\n",
      "\n",
      "\n",
      "fun\n",
      "have\n"
     ]
    }
   ],
   "source": [
    "#Hemos invertido los valores de la variable x y la variable y\n",
    "print(x)\n",
    "print(y)\n",
    "\n",
    "x,y=y,x\n",
    "print('\\n')\n",
    "print(x)\n",
    "print(y)"
   ]
  },
  {
   "cell_type": "code",
   "execution_count": 69,
   "id": "628d1471",
   "metadata": {},
   "outputs": [
    {
     "name": "stdout",
     "output_type": "stream",
     "text": [
      "1 2 4\n"
     ]
    }
   ],
   "source": [
    "#Las variables en la izquierda deben corresponder a los valores que se van a  asignar en la derecha\n",
    "a,b,c=1,2,4\n",
    "print(a, b, c)"
   ]
  },
  {
   "cell_type": "code",
   "execution_count": 70,
   "id": "1e57ddb1",
   "metadata": {
    "scrolled": true
   },
   "outputs": [
    {
     "ename": "ValueError",
     "evalue": "not enough values to unpack (expected 3, got 2)",
     "output_type": "error",
     "traceback": [
      "\u001b[0;31m---------------------------------------------------------------------------\u001b[0m",
      "\u001b[0;31mValueError\u001b[0m                                Traceback (most recent call last)",
      "\u001b[0;32m<ipython-input-70-46277441f300>\u001b[0m in \u001b[0;36m<module>\u001b[0;34m\u001b[0m\n\u001b[1;32m      1\u001b[0m \u001b[0;31m#Las variables en la izquierda deben corresponder a los valores que se van a  asignar en la derecha\u001b[0m\u001b[0;34m\u001b[0m\u001b[0;34m\u001b[0m\u001b[0;34m\u001b[0m\u001b[0m\n\u001b[0;32m----> 2\u001b[0;31m \u001b[0ma\u001b[0m\u001b[0;34m,\u001b[0m\u001b[0mb\u001b[0m\u001b[0;34m,\u001b[0m\u001b[0mc\u001b[0m\u001b[0;34m=\u001b[0m\u001b[0;36m1\u001b[0m\u001b[0;34m,\u001b[0m\u001b[0;36m2\u001b[0m\u001b[0;34m\u001b[0m\u001b[0;34m\u001b[0m\u001b[0m\n\u001b[0m\u001b[1;32m      3\u001b[0m \u001b[0mprint\u001b[0m\u001b[0;34m(\u001b[0m\u001b[0ma\u001b[0m\u001b[0;34m,\u001b[0m \u001b[0mb\u001b[0m\u001b[0;34m,\u001b[0m \u001b[0mc\u001b[0m\u001b[0;34m)\u001b[0m\u001b[0;34m\u001b[0m\u001b[0;34m\u001b[0m\u001b[0m\n",
      "\u001b[0;31mValueError\u001b[0m: not enough values to unpack (expected 3, got 2)"
     ]
    }
   ],
   "source": [
    "#Las variables en la izquierda deben corresponder a los valores que se van a  asignar en la derecha\n",
    "a,b,c=1,2\n",
    "print(a, b, c)"
   ]
  },
  {
   "cell_type": "code",
   "execution_count": 71,
   "id": "bacd4ac2",
   "metadata": {},
   "outputs": [
    {
     "name": "stdout",
     "output_type": "stream",
     "text": [
      "monty\n",
      "python.org\n"
     ]
    }
   ],
   "source": [
    "#Funcion split para separar un string en un valor especifico\n",
    "#asignar los valores a una tupla\n",
    "addr='monty@python.org'\n",
    "uname,domain=addr.split('@')\n",
    "print(uname)\n",
    "print(domain)"
   ]
  },
  {
   "cell_type": "code",
   "execution_count": 72,
   "id": "091f7200",
   "metadata": {},
   "outputs": [
    {
     "name": "stdout",
     "output_type": "stream",
     "text": [
      "['monty', 'python.org']\n"
     ]
    }
   ],
   "source": [
    "#Funcion split para separar un string en un valor especifico\n",
    "#asignar los valores a una tupla\n",
    "addr='monty@python.org'\n",
    "lista=addr.split('@')\n",
    "print(lista)"
   ]
  },
  {
   "cell_type": "code",
   "execution_count": 73,
   "id": "bf2ffac8",
   "metadata": {},
   "outputs": [
    {
     "name": "stdout",
     "output_type": "stream",
     "text": [
      "{'a': 23, 'd': 24, 'c': 10, 'b': 3}\n"
     ]
    }
   ],
   "source": [
    "#Diccionarios y Tuplas\n",
    "diccionario={'a':23,'d':24,'c':10,'b':3}\n",
    "print(diccionario)"
   ]
  },
  {
   "cell_type": "code",
   "execution_count": 76,
   "id": "ccdcb1ba",
   "metadata": {},
   "outputs": [
    {
     "name": "stdout",
     "output_type": "stream",
     "text": [
      "[('a', 23), ('d', 24), ('c', 10), ('b', 3)]\n"
     ]
    }
   ],
   "source": [
    "t=list(diccionario.items())\n",
    "print(t)"
   ]
  },
  {
   "cell_type": "code",
   "execution_count": 79,
   "id": "78693030",
   "metadata": {},
   "outputs": [
    {
     "name": "stdout",
     "output_type": "stream",
     "text": [
      "[('a', 23), ('b', 3), ('c', 10), ('d', 24)]\n"
     ]
    }
   ],
   "source": [
    "t.sort()\n",
    "print(t)"
   ]
  },
  {
   "cell_type": "code",
   "execution_count": 78,
   "id": "9af04f54",
   "metadata": {
    "scrolled": true
   },
   "outputs": [
    {
     "ename": "KeyError",
     "evalue": "0",
     "output_type": "error",
     "traceback": [
      "\u001b[0;31m---------------------------------------------------------------------------\u001b[0m",
      "\u001b[0;31mKeyError\u001b[0m                                  Traceback (most recent call last)",
      "\u001b[0;32m<ipython-input-78-47d67a0cbdef>\u001b[0m in \u001b[0;36m<module>\u001b[0;34m\u001b[0m\n\u001b[1;32m      1\u001b[0m \u001b[0;31m#Los diccionario no son indexados, por lo tanto no podemos acceder\u001b[0m\u001b[0;34m\u001b[0m\u001b[0;34m\u001b[0m\u001b[0;34m\u001b[0m\u001b[0m\n\u001b[1;32m      2\u001b[0m \u001b[0;31m#a los elementos mediante un indice, sino mediante una clave\u001b[0m\u001b[0;34m\u001b[0m\u001b[0;34m\u001b[0m\u001b[0;34m\u001b[0m\u001b[0m\n\u001b[0;32m----> 3\u001b[0;31m \u001b[0mdiccionario\u001b[0m\u001b[0;34m[\u001b[0m\u001b[0;36m0\u001b[0m\u001b[0;34m]\u001b[0m\u001b[0;34m\u001b[0m\u001b[0;34m\u001b[0m\u001b[0m\n\u001b[0m",
      "\u001b[0;31mKeyError\u001b[0m: 0"
     ]
    }
   ],
   "source": [
    "#Los diccionario no son indexados, por lo tanto no podemos acceder\n",
    "#a los elementos mediante un indice, sino mediante una clave\n",
    "diccionario[0]"
   ]
  },
  {
   "cell_type": "code",
   "execution_count": 81,
   "id": "d3b17f84",
   "metadata": {},
   "outputs": [
    {
     "name": "stdout",
     "output_type": "stream",
     "text": [
      "{}\n",
      "{('Jhonnyer', 'Galindez'): 3232323233}\n"
     ]
    }
   ],
   "source": [
    "#USar una tupla como las claves en un diccionario\n",
    "nombre='Jhonnyer'\n",
    "apellido='Galindez'\n",
    "numero=3232323233\n",
    "# diccionario={}\n",
    "diccionario=dict()\n",
    "print(diccionario)\n",
    "diccionario[nombre,apellido]=numero\n",
    "print(diccionario)"
   ]
  },
  {
   "cell_type": "code",
   "execution_count": 84,
   "id": "0de7e1c4",
   "metadata": {},
   "outputs": [
    {
     "name": "stdout",
     "output_type": "stream",
     "text": [
      "Jhonnyer Galindez 3232323233\n"
     ]
    }
   ],
   "source": [
    "#Recorro un diccionaro compuesto por una tupla como clave\n",
    "for nom, ape in diccionario:\n",
    "    print(nom, ape , diccionario[nom,ape])"
   ]
  },
  {
   "cell_type": "code",
   "execution_count": 86,
   "id": "432f376b",
   "metadata": {},
   "outputs": [
    {
     "name": "stdout",
     "output_type": "stream",
     "text": [
      "{('Jhonnyer', 'Galindez'): 3232323233}\n"
     ]
    }
   ],
   "source": [
    "#USar una tupla como las claves en un diccionario\n",
    "nombre='Jhonnyer'\n",
    "apellido='Galindez'\n",
    "directorio=(nombre,apellido)\n",
    "numero=3232323233\n",
    "diccionario=dict()\n",
    "diccionario[directorio]=numero\n",
    "print(diccionario)"
   ]
  },
  {
   "cell_type": "code",
   "execution_count": 90,
   "id": "33e51979",
   "metadata": {},
   "outputs": [
    {
     "name": "stdout",
     "output_type": "stream",
     "text": [
      "Jhonnyer Galindez 3232323233\n"
     ]
    }
   ],
   "source": [
    "#Obtengo los valores por separados de la tupla del diccionario en la clave\n",
    "for nom, ape in diccionario:\n",
    "    print(nom, ape, diccionario[directorio])"
   ]
  },
  {
   "cell_type": "code",
   "execution_count": 91,
   "id": "ec13c40e",
   "metadata": {
    "scrolled": true
   },
   "outputs": [
    {
     "name": "stdout",
     "output_type": "stream",
     "text": [
      "('Jhonnyer', 'Galindez') 3232323233\n"
     ]
    }
   ],
   "source": [
    "#Dire es una variable que obtiene toda la tupla del diccionario en la clave\n",
    "for dire in diccionario:\n",
    "    print(dire, diccionario[directorio])"
   ]
  },
  {
   "cell_type": "code",
   "execution_count": 92,
   "id": "69cbe5b2",
   "metadata": {},
   "outputs": [
    {
     "name": "stdout",
     "output_type": "stream",
     "text": [
      "{'texto1': 12, 'texto2': 98, 'texto3': 'hola', 'texto4': True}\n"
     ]
    }
   ],
   "source": [
    "# DICCIONARIO\n",
    "\n",
    "diccionario={'texto1':12,'texto2':98,'texto3':'hola','texto4':True}\n",
    "print(diccionario)"
   ]
  },
  {
   "cell_type": "code",
   "execution_count": 96,
   "id": "3d546ab4",
   "metadata": {},
   "outputs": [
    {
     "data": {
      "text/plain": [
       "98"
      ]
     },
     "execution_count": 96,
     "metadata": {},
     "output_type": "execute_result"
    }
   ],
   "source": [
    "diccionario['texto2']"
   ]
  },
  {
   "cell_type": "code",
   "execution_count": 95,
   "id": "9ba6d9c9",
   "metadata": {},
   "outputs": [
    {
     "data": {
      "text/plain": [
       "'hola'"
      ]
     },
     "execution_count": 95,
     "metadata": {},
     "output_type": "execute_result"
    }
   ],
   "source": [
    "#Acceder a un valor en un diccionario, debo pasar entre corchetes la palabra clave que quiero buscar en el diccionario\n",
    "diccionario['texto3']"
   ]
  },
  {
   "cell_type": "code",
   "execution_count": 94,
   "id": "29575579",
   "metadata": {},
   "outputs": [
    {
     "ename": "KeyError",
     "evalue": "0",
     "output_type": "error",
     "traceback": [
      "\u001b[0;31m---------------------------------------------------------------------------\u001b[0m",
      "\u001b[0;31mKeyError\u001b[0m                                  Traceback (most recent call last)",
      "\u001b[0;32m<ipython-input-94-461039d50a4c>\u001b[0m in \u001b[0;36m<module>\u001b[0;34m\u001b[0m\n\u001b[1;32m      1\u001b[0m \u001b[0;31m#El diccionario no maneja indices, solo maneja claves\u001b[0m\u001b[0;34m\u001b[0m\u001b[0;34m\u001b[0m\u001b[0;34m\u001b[0m\u001b[0m\n\u001b[0;32m----> 2\u001b[0;31m \u001b[0mdiccionario\u001b[0m\u001b[0;34m[\u001b[0m\u001b[0;36m0\u001b[0m\u001b[0;34m]\u001b[0m\u001b[0;34m\u001b[0m\u001b[0;34m\u001b[0m\u001b[0m\n\u001b[0m",
      "\u001b[0;31mKeyError\u001b[0m: 0"
     ]
    }
   ],
   "source": [
    "#El diccionario no maneja indices, solo maneja claves\n",
    "diccionario[0]"
   ]
  },
  {
   "cell_type": "code",
   "execution_count": 97,
   "id": "5b2821e3",
   "metadata": {},
   "outputs": [
    {
     "data": {
      "text/plain": [
       "['__add__',\n",
       " '__class__',\n",
       " '__class_getitem__',\n",
       " '__contains__',\n",
       " '__delattr__',\n",
       " '__dir__',\n",
       " '__doc__',\n",
       " '__eq__',\n",
       " '__format__',\n",
       " '__ge__',\n",
       " '__getattribute__',\n",
       " '__getitem__',\n",
       " '__getnewargs__',\n",
       " '__gt__',\n",
       " '__hash__',\n",
       " '__init__',\n",
       " '__init_subclass__',\n",
       " '__iter__',\n",
       " '__le__',\n",
       " '__len__',\n",
       " '__lt__',\n",
       " '__mul__',\n",
       " '__ne__',\n",
       " '__new__',\n",
       " '__reduce__',\n",
       " '__reduce_ex__',\n",
       " '__repr__',\n",
       " '__rmul__',\n",
       " '__setattr__',\n",
       " '__sizeof__',\n",
       " '__str__',\n",
       " '__subclasshook__',\n",
       " 'count',\n",
       " 'index']"
      ]
     },
     "execution_count": 97,
     "metadata": {},
     "output_type": "execute_result"
    }
   ],
   "source": [
    "dir(directorio)"
   ]
  },
  {
   "cell_type": "code",
   "execution_count": 104,
   "id": "ca38ff62",
   "metadata": {},
   "outputs": [
    {
     "data": {
      "text/plain": [
       "2"
      ]
     },
     "execution_count": 104,
     "metadata": {},
     "output_type": "execute_result"
    }
   ],
   "source": [
    "#Metodo count\n",
    "tupla=(4,5,'hola',True,False,True)\n",
    "tupla.count(True)"
   ]
  },
  {
   "cell_type": "code",
   "execution_count": 105,
   "id": "5e725779",
   "metadata": {},
   "outputs": [
    {
     "data": {
      "text/plain": [
       "0"
      ]
     },
     "execution_count": 105,
     "metadata": {},
     "output_type": "execute_result"
    }
   ],
   "source": [
    "tupla.count('avion')"
   ]
  },
  {
   "cell_type": "code",
   "execution_count": 99,
   "id": "0b49e12f",
   "metadata": {
    "scrolled": true
   },
   "outputs": [
    {
     "data": {
      "text/plain": [
       "1"
      ]
     },
     "execution_count": 99,
     "metadata": {},
     "output_type": "execute_result"
    }
   ],
   "source": [
    "tupla.count('hola')"
   ]
  },
  {
   "cell_type": "code",
   "execution_count": 100,
   "id": "1f897f30",
   "metadata": {},
   "outputs": [
    {
     "data": {
      "text/plain": [
       "3"
      ]
     },
     "execution_count": 100,
     "metadata": {},
     "output_type": "execute_result"
    }
   ],
   "source": [
    "#Metodo INDEX()\n",
    "tupla=(4,5,'hola',True,False,True)\n",
    "tupla.index(True)"
   ]
  },
  {
   "cell_type": "code",
   "execution_count": 101,
   "id": "3673ca11",
   "metadata": {},
   "outputs": [
    {
     "data": {
      "text/plain": [
       "5"
      ]
     },
     "execution_count": 101,
     "metadata": {},
     "output_type": "execute_result"
    }
   ],
   "source": [
    "#Metodo INDEX()\n",
    "tupla=(4,5,'hola',True,False,True)\n",
    "tupla.index(True,4)"
   ]
  },
  {
   "cell_type": "code",
   "execution_count": 107,
   "id": "ac382c11",
   "metadata": {},
   "outputs": [
    {
     "ename": "ValueError",
     "evalue": "tuple.index(x): x not in tuple",
     "output_type": "error",
     "traceback": [
      "\u001b[0;31m---------------------------------------------------------------------------\u001b[0m",
      "\u001b[0;31mValueError\u001b[0m                                Traceback (most recent call last)",
      "\u001b[0;32m<ipython-input-107-19bb23c861b0>\u001b[0m in \u001b[0;36m<module>\u001b[0;34m\u001b[0m\n\u001b[1;32m      1\u001b[0m \u001b[0;31m#Metodo INDEX()\u001b[0m\u001b[0;34m\u001b[0m\u001b[0;34m\u001b[0m\u001b[0;34m\u001b[0m\u001b[0m\n\u001b[1;32m      2\u001b[0m \u001b[0mtupla\u001b[0m\u001b[0;34m=\u001b[0m\u001b[0;34m(\u001b[0m\u001b[0;36m4\u001b[0m\u001b[0;34m,\u001b[0m\u001b[0;36m5\u001b[0m\u001b[0;34m,\u001b[0m\u001b[0;34m'hola'\u001b[0m\u001b[0;34m,\u001b[0m\u001b[0;32mTrue\u001b[0m\u001b[0;34m,\u001b[0m\u001b[0;32mFalse\u001b[0m\u001b[0;34m,\u001b[0m\u001b[0;32mTrue\u001b[0m\u001b[0;34m)\u001b[0m\u001b[0;34m\u001b[0m\u001b[0;34m\u001b[0m\u001b[0m\n\u001b[0;32m----> 3\u001b[0;31m \u001b[0mtupla\u001b[0m\u001b[0;34m.\u001b[0m\u001b[0mindex\u001b[0m\u001b[0;34m(\u001b[0m\u001b[0;34m'Avion'\u001b[0m\u001b[0;34m)\u001b[0m\u001b[0;34m\u001b[0m\u001b[0;34m\u001b[0m\u001b[0m\n\u001b[0m",
      "\u001b[0;31mValueError\u001b[0m: tuple.index(x): x not in tuple"
     ]
    }
   ],
   "source": [
    "#Metodo INDEX()\n",
    "tupla=(4,5,'hola',True,False,True)\n",
    "tupla.index('Avion')"
   ]
  },
  {
   "cell_type": "code",
   "execution_count": 108,
   "id": "badc2fa7",
   "metadata": {
    "scrolled": true
   },
   "outputs": [
    {
     "ename": "ValueError",
     "evalue": "tuple.index(x): x not in tuple",
     "output_type": "error",
     "traceback": [
      "\u001b[0;31m---------------------------------------------------------------------------\u001b[0m",
      "\u001b[0;31mValueError\u001b[0m                                Traceback (most recent call last)",
      "\u001b[0;32m<ipython-input-108-4480d6ce11d8>\u001b[0m in \u001b[0;36m<module>\u001b[0;34m\u001b[0m\n\u001b[1;32m      1\u001b[0m \u001b[0;31m#Metodo INDEX()\u001b[0m\u001b[0;34m\u001b[0m\u001b[0;34m\u001b[0m\u001b[0;34m\u001b[0m\u001b[0m\n\u001b[1;32m      2\u001b[0m \u001b[0mtupla\u001b[0m\u001b[0;34m=\u001b[0m\u001b[0;34m(\u001b[0m\u001b[0;36m4\u001b[0m\u001b[0;34m,\u001b[0m\u001b[0;36m5\u001b[0m\u001b[0;34m,\u001b[0m\u001b[0;34m'hola'\u001b[0m\u001b[0;34m,\u001b[0m\u001b[0;32mTrue\u001b[0m\u001b[0;34m,\u001b[0m\u001b[0;32mFalse\u001b[0m\u001b[0;34m,\u001b[0m\u001b[0;32mTrue\u001b[0m\u001b[0;34m)\u001b[0m\u001b[0;34m\u001b[0m\u001b[0;34m\u001b[0m\u001b[0m\n\u001b[0;32m----> 3\u001b[0;31m \u001b[0mtupla\u001b[0m\u001b[0;34m.\u001b[0m\u001b[0mindex\u001b[0m\u001b[0;34m(\u001b[0m\u001b[0;32mTrue\u001b[0m\u001b[0;34m,\u001b[0m\u001b[0;36m8\u001b[0m\u001b[0;34m)\u001b[0m\u001b[0;34m\u001b[0m\u001b[0;34m\u001b[0m\u001b[0m\n\u001b[0m",
      "\u001b[0;31mValueError\u001b[0m: tuple.index(x): x not in tuple"
     ]
    }
   ],
   "source": [
    "#Metodo INDEX()\n",
    "tupla=(4,5,'hola',True,False,True)\n",
    "tupla.index(True,8)"
   ]
  },
  {
   "cell_type": "markdown",
   "id": "83822755",
   "metadata": {},
   "source": [
    "# RANGE en un for\n",
    "\n",
    "i=0, i<len(tecnologias), i++"
   ]
  },
  {
   "cell_type": "code",
   "execution_count": 109,
   "id": "829c9740",
   "metadata": {},
   "outputs": [
    {
     "name": "stdout",
     "output_type": "stream",
     "text": [
      "0 zope\n",
      "1 plone\n",
      "2 pyramid\n"
     ]
    }
   ],
   "source": [
    "tecnologias=('zope','plone','pyramid')\n",
    "for i in range(0,len(tecnologias)):\n",
    "    print(i, tecnologias[i])"
   ]
  },
  {
   "cell_type": "code",
   "execution_count": 110,
   "id": "994792fa",
   "metadata": {},
   "outputs": [
    {
     "name": "stdout",
     "output_type": "stream",
     "text": [
      "0 zope\n",
      "1 plone\n",
      "2 pyramid\n"
     ]
    }
   ],
   "source": [
    "tecnologias=('zope','plone','pyramid')\n",
    "for i in range(len(tecnologias)):\n",
    "    print(i, tecnologias[i])"
   ]
  },
  {
   "cell_type": "code",
   "execution_count": 111,
   "id": "8027b9f8",
   "metadata": {},
   "outputs": [
    {
     "name": "stdout",
     "output_type": "stream",
     "text": [
      "0 zope\n",
      "1 plone\n",
      "2 pyramid\n"
     ]
    }
   ],
   "source": [
    "tecnologias=('zope','plone','pyramid')\n",
    "for indice, valor in enumerate(tecnologias):\n",
    "    print(indice, valor)"
   ]
  },
  {
   "cell_type": "code",
   "execution_count": 113,
   "id": "03b45a51",
   "metadata": {},
   "outputs": [
    {
     "name": "stdout",
     "output_type": "stream",
     "text": [
      "0 zope\n",
      "1 plone\n",
      "2 pyramid\n"
     ]
    }
   ],
   "source": [
    "#Reccorrer la tupla utilizando el bucle while\n",
    "tecnologias=('zope','plone','pyramid')\n",
    "#Caracteristicas de un bucle while\n",
    "#Ejecuta el cuerpo del bucle solo mientras la condicion sea verdadera\n",
    "#Tiene un contador, llamado variable de iteracion, que permite que el bucle while en un momento la condicion \n",
    "#sea falsa\n",
    "# len(tecnologias)\n",
    "i=0\n",
    "while i<len(tecnologias):\n",
    "    print(i, tecnologias[i])\n",
    "    #i=i+1\n",
    "    i+=1\n"
   ]
  }
 ],
 "metadata": {
  "kernelspec": {
   "display_name": "Python 3",
   "language": "python",
   "name": "python3"
  },
  "language_info": {
   "codemirror_mode": {
    "name": "ipython",
    "version": 3
   },
   "file_extension": ".py",
   "mimetype": "text/x-python",
   "name": "python",
   "nbconvert_exporter": "python",
   "pygments_lexer": "ipython3",
   "version": "3.9.1"
  }
 },
 "nbformat": 4,
 "nbformat_minor": 5
}
