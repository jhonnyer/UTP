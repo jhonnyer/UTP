{
 "cells": [
  {
   "cell_type": "code",
   "execution_count": 3,
   "id": "181ab3cd",
   "metadata": {},
   "outputs": [
    {
     "name": "stdout",
     "output_type": "stream",
     "text": [
      "Hola mundo\n",
      "2\n",
      "Hola mundo\n",
      "2\n",
      "Hola mundo\n",
      "2\n"
     ]
    }
   ],
   "source": [
    "def saludo():\n",
    "    print(\"Hola mundo\")\n",
    "    n=1\n",
    "    print(n+1)\n",
    "    \n",
    "def repetir_saludo():\n",
    "    saludo()\n",
    "    saludo()\n",
    "    saludo()\n",
    "\n",
    "repetir_saludo()"
   ]
  }
 ],
 "metadata": {
  "kernelspec": {
   "display_name": "Python 3",
   "language": "python",
   "name": "python3"
  },
  "language_info": {
   "codemirror_mode": {
    "name": "ipython",
    "version": 3
   },
   "file_extension": ".py",
   "mimetype": "text/x-python",
   "name": "python",
   "nbconvert_exporter": "python",
   "pygments_lexer": "ipython3",
   "version": "3.9.1"
  }
 },
 "nbformat": 4,
 "nbformat_minor": 5
}
