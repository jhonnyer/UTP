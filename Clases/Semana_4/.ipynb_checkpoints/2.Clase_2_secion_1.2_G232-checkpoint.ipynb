{
 "cells": [
  {
   "cell_type": "code",
   "execution_count": 1,
   "id": "854ba6e6",
   "metadata": {
    "scrolled": true
   },
   "outputs": [
    {
     "name": "stdout",
     "output_type": "stream",
     "text": [
      "30\n",
      "30\n"
     ]
    }
   ],
   "source": [
    "#Pasando parametros por posicion\n",
    "def sumar(a,b):\n",
    "    c=a+b\n",
    "    print(c)\n",
    "    return c\n",
    "\n",
    "var_externa=sumar(10,20)\n",
    "print(var_externa)"
   ]
  },
  {
   "cell_type": "code",
   "execution_count": 2,
   "id": "1c586d24",
   "metadata": {},
   "outputs": [
    {
     "name": "stdout",
     "output_type": "stream",
     "text": [
      "15\n"
     ]
    },
    {
     "data": {
      "text/plain": [
       "15"
      ]
     },
     "execution_count": 2,
     "metadata": {},
     "output_type": "execute_result"
    }
   ],
   "source": [
    "#Pasamos argumentos por nombre\n",
    "b=10\n",
    "a=5\n",
    "sumar(a,b)"
   ]
  },
  {
   "cell_type": "code",
   "execution_count": 3,
   "id": "d8a15daa",
   "metadata": {
    "scrolled": true
   },
   "outputs": [
    {
     "name": "stdout",
     "output_type": "stream",
     "text": [
      "None\n"
     ]
    }
   ],
   "source": [
    "#Definicion funcion sintacticamente con sentencia pass\n",
    "def consultar_genero(letra_genero):pass\n",
    "\n",
    "type(consultar_genero)\n",
    "consultar_genero('M')\n",
    "c=consultar_genero('M')\n",
    "print(c)"
   ]
  },
  {
   "cell_type": "code",
   "execution_count": 4,
   "id": "2244fbfc",
   "metadata": {
    "scrolled": true
   },
   "outputs": [
    {
     "name": "stdout",
     "output_type": "stream",
     "text": [
      "30\n",
      "\n",
      "\n",
      "Fin\n",
      "30\n"
     ]
    }
   ],
   "source": [
    "#Funcion con return\n",
    "def otra_suma(num1,num2):\n",
    "    print(num1+num2)\n",
    "    print(\"\\n\")\n",
    "    print(\"Fin\")\n",
    "    return num1+num2\n",
    "\n",
    "var_ext=otra_suma(10,20)\n",
    "print(var_ext)"
   ]
  },
  {
   "cell_type": "code",
   "execution_count": 5,
   "id": "ddb29613",
   "metadata": {},
   "outputs": [
    {
     "name": "stdout",
     "output_type": "stream",
     "text": [
      "30\n",
      "\n",
      "\n",
      "Fin\n",
      "(10, 20, 30)\n"
     ]
    }
   ],
   "source": [
    "#Funcion con mas de 2 return\n",
    "def otra_suma(num1,num2):\n",
    "    print(num1+num2)\n",
    "    print(\"\\n\")\n",
    "    print(\"Fin\")\n",
    "    c=num1+num2\n",
    "    return num1, num2, c\n",
    "\n",
    "var_ext=otra_suma(10,20)\n",
    "print(var_ext)"
   ]
  },
  {
   "cell_type": "code",
   "execution_count": 6,
   "id": "e504a955",
   "metadata": {},
   "outputs": [
    {
     "name": "stdout",
     "output_type": "stream",
     "text": [
      "30\n",
      "\n",
      "\n",
      "Fin\n",
      "10\n",
      "20\n",
      "30\n"
     ]
    }
   ],
   "source": [
    "#Asignacion multiple\n",
    "num1,num2,c=otra_suma(10,20)\n",
    "print(num1)\n",
    "print(num2)\n",
    "print(c)"
   ]
  },
  {
   "cell_type": "code",
   "execution_count": 7,
   "id": "a9604c27",
   "metadata": {},
   "outputs": [
    {
     "name": "stdout",
     "output_type": "stream",
     "text": [
      "30\n",
      "\n",
      "\n",
      "Fin\n",
      "10\n",
      "20\n",
      "30\n",
      "60\n"
     ]
    }
   ],
   "source": [
    "#Asignacion multiple\n",
    "a,b,c=otra_suma(10,20)\n",
    "print(a)\n",
    "print(b)\n",
    "print(c)\n",
    "d=c*2\n",
    "print(d)"
   ]
  },
  {
   "cell_type": "code",
   "execution_count": 8,
   "id": "cf536fa4",
   "metadata": {},
   "outputs": [
    {
     "name": "stdout",
     "output_type": "stream",
     "text": [
      "200\n",
      "200\n",
      "200\n"
     ]
    }
   ],
   "source": [
    "#Asignacion multiple variables\n",
    "var1=var2=var3=200\n",
    "print(var1)\n",
    "print(var2)\n",
    "print(var3)\n"
   ]
  },
  {
   "cell_type": "code",
   "execution_count": 9,
   "id": "350a8900",
   "metadata": {},
   "outputs": [
    {
     "name": "stdout",
     "output_type": "stream",
     "text": [
      "200\n",
      "300\n",
      "300\n"
     ]
    }
   ],
   "source": [
    "#Asignacion multiple variables\n",
    "var1,var2,var3=200,300,300\n",
    "print(var1)\n",
    "print(var2)\n",
    "print(var3)\n"
   ]
  },
  {
   "cell_type": "code",
   "execution_count": 10,
   "id": "32c09d90",
   "metadata": {},
   "outputs": [
    {
     "ename": "ValueError",
     "evalue": "too many values to unpack (expected 3)",
     "output_type": "error",
     "traceback": [
      "\u001b[0;31m---------------------------------------------------------------------------\u001b[0m",
      "\u001b[0;31mValueError\u001b[0m                                Traceback (most recent call last)",
      "\u001b[0;32m<ipython-input-10-4354594480ae>\u001b[0m in \u001b[0;36m<module>\u001b[0;34m\u001b[0m\n\u001b[1;32m      1\u001b[0m \u001b[0;31m#Asignacion multiple variables\u001b[0m\u001b[0;34m\u001b[0m\u001b[0;34m\u001b[0m\u001b[0;34m\u001b[0m\u001b[0m\n\u001b[0;32m----> 2\u001b[0;31m \u001b[0mvar1\u001b[0m\u001b[0;34m,\u001b[0m\u001b[0mvar2\u001b[0m\u001b[0;34m,\u001b[0m\u001b[0mvar3\u001b[0m\u001b[0;34m=\u001b[0m\u001b[0;36m200\u001b[0m\u001b[0;34m,\u001b[0m\u001b[0;36m300\u001b[0m\u001b[0;34m,\u001b[0m\u001b[0;36m300\u001b[0m\u001b[0;34m,\u001b[0m \u001b[0;36m1\u001b[0m\u001b[0;34m\u001b[0m\u001b[0;34m\u001b[0m\u001b[0m\n\u001b[0m\u001b[1;32m      3\u001b[0m \u001b[0mprint\u001b[0m\u001b[0;34m(\u001b[0m\u001b[0mvar1\u001b[0m\u001b[0;34m)\u001b[0m\u001b[0;34m\u001b[0m\u001b[0;34m\u001b[0m\u001b[0m\n\u001b[1;32m      4\u001b[0m \u001b[0mprint\u001b[0m\u001b[0;34m(\u001b[0m\u001b[0mvar2\u001b[0m\u001b[0;34m)\u001b[0m\u001b[0;34m\u001b[0m\u001b[0;34m\u001b[0m\u001b[0m\n\u001b[1;32m      5\u001b[0m \u001b[0mprint\u001b[0m\u001b[0;34m(\u001b[0m\u001b[0mvar3\u001b[0m\u001b[0;34m)\u001b[0m\u001b[0;34m\u001b[0m\u001b[0;34m\u001b[0m\u001b[0m\n",
      "\u001b[0;31mValueError\u001b[0m: too many values to unpack (expected 3)"
     ]
    }
   ],
   "source": [
    "#Asignacion multiple variables\n",
    "var1,var2,var3=200,300,300, 1\n",
    "print(var1)\n",
    "print(var2)\n",
    "print(var3)\n"
   ]
  },
  {
   "cell_type": "code",
   "execution_count": null,
   "id": "6fd7650f",
   "metadata": {},
   "outputs": [],
   "source": [
    "#Definir una funcion con una variable interna, no se puede acceder desde el exterior\n",
    "def test1():\n",
    "    n=10\n",
    "    print(n)\n",
    "    return n\n",
    "    \n",
    "test1()\n",
    "print(n)"
   ]
  },
  {
   "cell_type": "code",
   "execution_count": null,
   "id": "05e6c61a",
   "metadata": {},
   "outputs": [],
   "source": [
    "#Definido variable externa que puede ser utilizada dentro de la funcion\n",
    "m=10\n",
    "def test2():\n",
    "    a=m*2\n",
    "    print(a)\n",
    "    print(m)\n",
    "\n",
    "test2()"
   ]
  },
  {
   "cell_type": "code",
   "execution_count": null,
   "id": "0b4fd796",
   "metadata": {},
   "outputs": [],
   "source": [
    "#definido una variable antes de llamar la funcion\n",
    "def test3():\n",
    "    print(l)\n",
    "    return l*2\n",
    "l=10\n",
    "resultado=test3()\n",
    "print(resultado)"
   ]
  },
  {
   "cell_type": "code",
   "execution_count": null,
   "id": "d9b82c5d",
   "metadata": {},
   "outputs": [],
   "source": [
    "#Variable interna de la funcion, es diferente a la variable externa, se crea en este caso una copia\n",
    "def test4():\n",
    "    x=10 #Variable que solo existe en la funcion\n",
    "    print(x)\n",
    "    \n",
    "#Variable externa\n",
    "x=5\n",
    "test4()\n",
    "print(x)"
   ]
  },
  {
   "cell_type": "code",
   "execution_count": null,
   "id": "7702c75f",
   "metadata": {},
   "outputs": [],
   "source": [
    "#Variable global modificada dentro de una funcion\n",
    "def test5():\n",
    "    global x #Variable global que se accede desde el exterior\n",
    "    x=6\n",
    "    print(x)\n",
    "\n",
    "x=23\n",
    "test5()\n",
    "print(x)\n",
    "test5()\n"
   ]
  },
  {
   "cell_type": "code",
   "execution_count": null,
   "id": "fcf175f2",
   "metadata": {},
   "outputs": [],
   "source": [
    "#Variable global modificada dentro de una funcion\n",
    "def test5(a,b):\n",
    "    global x #Variable global que se accede desde el exterior\n",
    "    x=a+b\n",
    "\n",
    "x=23\n",
    "test5(2,5)\n",
    "print(x)\n",
    "test5(7,6)\n",
    "print(x)\n",
    "x=\"Hola\"\n",
    "print(x)\n",
    "x=1.2\n",
    "print(x)"
   ]
  },
  {
   "cell_type": "code",
   "execution_count": null,
   "id": "d90dd0fc",
   "metadata": {},
   "outputs": [],
   "source": [
    "def test6(num):\n",
    "    return num, num*2, num*4, 'Hola', 1.2\n",
    "\n",
    "v1,v2,v3,v4,v5=test6(10)\n",
    "print(v1)\n",
    "print(v2)\n",
    "print(v3)\n",
    "print(v4)\n",
    "print(v5)"
   ]
  },
  {
   "cell_type": "code",
   "execution_count": null,
   "id": "64abb2b2",
   "metadata": {},
   "outputs": [],
   "source": [
    "cad=\"hola mundo\"\n",
    "print(cad[:4])"
   ]
  },
  {
   "cell_type": "code",
   "execution_count": null,
   "id": "f97bb7c5",
   "metadata": {},
   "outputs": [],
   "source": [
    "def saludo():\n",
    "    print(\"Hola mundo\")\n",
    "    \n",
    "saludo()"
   ]
  },
  {
   "cell_type": "code",
   "execution_count": null,
   "id": "d235140d",
   "metadata": {},
   "outputs": [],
   "source": [
    "def mi_funcion(nombre,apellido):\n",
    "    nombre_completo=nombre,apellido\n",
    "    print(nombre_completo)\n",
    "    \n",
    "mi_funcion('David')"
   ]
  },
  {
   "cell_type": "code",
   "execution_count": null,
   "id": "1eeed3e4",
   "metadata": {},
   "outputs": [],
   "source": [
    "def saludar(nombre=\"None\",mensaje='Hola'):\n",
    "    print(mensaje, nombre)\n",
    "    \n",
    "saludar('Jhonnyer')"
   ]
  },
  {
   "cell_type": "code",
   "execution_count": null,
   "id": "b6f3b860",
   "metadata": {},
   "outputs": [],
   "source": [
    "saludar(mensaje=\"Hola\")\n",
    "saludar()"
   ]
  },
  {
   "cell_type": "code",
   "execution_count": null,
   "id": "880d9ee9",
   "metadata": {},
   "outputs": [],
   "source": [
    "saludar(mensaje=\"Buen dia\",nombre=\"Jhonnyer\")\n"
   ]
  },
  {
   "cell_type": "code",
   "execution_count": 12,
   "id": "d2259fed",
   "metadata": {},
   "outputs": [
    {
     "name": "stdout",
     "output_type": "stream",
     "text": [
      "Jhonnyer Gonzales\n",
      "Luis Gonzales\n"
     ]
    }
   ],
   "source": [
    "#Ejemplo\n",
    "def my_function(fname):\n",
    "    print(fname+\" Gonzales\")\n",
    "\n",
    "my_function(\"Jhonnyer\")\n",
    "my_function(\"Luis\")"
   ]
  },
  {
   "cell_type": "code",
   "execution_count": 14,
   "id": "b16029cb",
   "metadata": {},
   "outputs": [
    {
     "name": "stdout",
     "output_type": "stream",
     "text": [
      "12 Gonzales\n"
     ]
    }
   ],
   "source": [
    "my_function('12')"
   ]
  },
  {
   "cell_type": "code",
   "execution_count": 15,
   "id": "c9079163",
   "metadata": {},
   "outputs": [
    {
     "name": "stdout",
     "output_type": "stream",
     "text": [
      "3.4\n"
     ]
    }
   ],
   "source": [
    "#Ejemplo\n",
    "def my_function(fname):\n",
    "    print(fname+1.4)\n",
    "\n",
    "my_function(2)"
   ]
  },
  {
   "cell_type": "code",
   "execution_count": 18,
   "id": "318ee22c",
   "metadata": {},
   "outputs": [
    {
     "name": "stdout",
     "output_type": "stream",
     "text": [
      "Hola\n"
     ]
    }
   ],
   "source": [
    "def prueba():\n",
    "    print(\"Hola\")\n",
    "\n",
    "prueba()"
   ]
  },
  {
   "cell_type": "code",
   "execution_count": 24,
   "id": "5eaf47b3",
   "metadata": {},
   "outputs": [
    {
     "name": "stdout",
     "output_type": "stream",
     "text": [
      "Hola Mundo\n"
     ]
    }
   ],
   "source": [
    "cad1=\"Hola\"\n",
    "cad2=\"Mundo\"\n",
    "# frase=cad1+cad2\n",
    "frase=cad1+\" \"+cad2\n",
    "print(frase)"
   ]
  },
  {
   "cell_type": "code",
   "execution_count": 28,
   "id": "4d191b8d",
   "metadata": {},
   "outputs": [
    {
     "name": "stdout",
     "output_type": "stream",
     "text": [
      "Luis Zuñiga\n"
     ]
    }
   ],
   "source": [
    "#Funcion con cadena de caracteres o string\n",
    "def my_function(fname,lname):\n",
    "    print(fname+\" \"+lname)\n",
    "    \n",
    "my_function(lname=\"Zuñiga\",fname=\"Luis\")"
   ]
  },
  {
   "cell_type": "code",
   "execution_count": 27,
   "id": "a7836d91",
   "metadata": {},
   "outputs": [
    {
     "ename": "TypeError",
     "evalue": "my_function() missing 1 required positional argument: 'fname'",
     "output_type": "error",
     "traceback": [
      "\u001b[0;31m---------------------------------------------------------------------------\u001b[0m",
      "\u001b[0;31mTypeError\u001b[0m                                 Traceback (most recent call last)",
      "\u001b[0;32m<ipython-input-27-15fad90a10a9>\u001b[0m in \u001b[0;36m<module>\u001b[0;34m\u001b[0m\n\u001b[0;32m----> 1\u001b[0;31m \u001b[0mmy_function\u001b[0m\u001b[0;34m(\u001b[0m\u001b[0mlname\u001b[0m\u001b[0;34m=\u001b[0m\u001b[0;34m\"Zuñiga\"\u001b[0m\u001b[0;34m)\u001b[0m\u001b[0;34m\u001b[0m\u001b[0;34m\u001b[0m\u001b[0m\n\u001b[0m",
      "\u001b[0;31mTypeError\u001b[0m: my_function() missing 1 required positional argument: 'fname'"
     ]
    }
   ],
   "source": [
    "my_function(lname=\"Zuñiga\")"
   ]
  },
  {
   "cell_type": "code",
   "execution_count": 29,
   "id": "1296a456",
   "metadata": {},
   "outputs": [
    {
     "name": "stdout",
     "output_type": "stream",
     "text": [
      "Jhonnyer Galindez\n"
     ]
    }
   ],
   "source": [
    "my_function(\"Jhonnyer\",\"Galindez\")"
   ]
  }
 ],
 "metadata": {
  "kernelspec": {
   "display_name": "Python 3",
   "language": "python",
   "name": "python3"
  },
  "language_info": {
   "codemirror_mode": {
    "name": "ipython",
    "version": 3
   },
   "file_extension": ".py",
   "mimetype": "text/x-python",
   "name": "python",
   "nbconvert_exporter": "python",
   "pygments_lexer": "ipython3",
   "version": "3.9.1"
  }
 },
 "nbformat": 4,
 "nbformat_minor": 5
}
