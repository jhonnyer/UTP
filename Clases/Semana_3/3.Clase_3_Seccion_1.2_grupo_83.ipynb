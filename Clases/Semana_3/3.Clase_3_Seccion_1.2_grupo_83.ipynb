{
 "cells": [
  {
   "cell_type": "code",
   "execution_count": 1,
   "id": "632df27e",
   "metadata": {},
   "outputs": [
    {
     "name": "stdout",
     "output_type": "stream",
     "text": [
      "1\n"
     ]
    }
   ],
   "source": [
    "var=1\n",
    "print(var)"
   ]
  },
  {
   "cell_type": "code",
   "execution_count": 3,
   "id": "0a40ca21",
   "metadata": {},
   "outputs": [
    {
     "name": "stdout",
     "output_type": "stream",
     "text": [
      "10   1.2   Hola mundo\n",
      "<class 'int'>\n",
      "<class 'float'>\n",
      "<class 'str'>\n"
     ]
    }
   ],
   "source": [
    "var1=10\n",
    "var2=1.2\n",
    "var3=\"Hola mundo\"\n",
    "print(var1,' ',var2,' ',var3)\n",
    "\n",
    "\n",
    "print(type(var1))\n",
    "print(type(var2))\n",
    "print(type(var3))"
   ]
  },
  {
   "cell_type": "code",
   "execution_count": 4,
   "id": "5ad5844f",
   "metadata": {},
   "outputs": [
    {
     "name": "stdout",
     "output_type": "stream",
     "text": [
      "10\n",
      "12\n"
     ]
    }
   ],
   "source": [
    "#Declaracion de variables\n",
    "van=10\n",
    "_van=12\n",
    "print(van)\n",
    "print(_van)"
   ]
  },
  {
   "cell_type": "code",
   "execution_count": 5,
   "id": "79199f99",
   "metadata": {},
   "outputs": [
    {
     "ename": "SyntaxError",
     "evalue": "invalid syntax (<ipython-input-5-6b506a79bca8>, line 2)",
     "output_type": "error",
     "traceback": [
      "\u001b[0;36m  File \u001b[0;32m\"<ipython-input-5-6b506a79bca8>\"\u001b[0;36m, line \u001b[0;32m2\u001b[0m\n\u001b[0;31m    3var=2\u001b[0m\n\u001b[0m     ^\u001b[0m\n\u001b[0;31mSyntaxError\u001b[0m\u001b[0;31m:\u001b[0m invalid syntax\n"
     ]
    }
   ],
   "source": [
    "#Declaracion de variables con error\n",
    "3var=2\n",
    "print(3var)"
   ]
  },
  {
   "cell_type": "code",
   "execution_count": 6,
   "id": "bebc20cb",
   "metadata": {},
   "outputs": [
    {
     "ename": "SyntaxError",
     "evalue": "invalid syntax (<ipython-input-6-549683485c12>, line 1)",
     "output_type": "error",
     "traceback": [
      "\u001b[0;36m  File \u001b[0;32m\"<ipython-input-6-549683485c12>\"\u001b[0;36m, line \u001b[0;32m1\u001b[0m\n\u001b[0;31m    @var=19\u001b[0m\n\u001b[0m        ^\u001b[0m\n\u001b[0;31mSyntaxError\u001b[0m\u001b[0;31m:\u001b[0m invalid syntax\n"
     ]
    }
   ],
   "source": [
    "@var=19\n",
    "print(@var)"
   ]
  },
  {
   "cell_type": "code",
   "execution_count": 7,
   "id": "58fc7e9c",
   "metadata": {},
   "outputs": [
    {
     "ename": "SyntaxError",
     "evalue": "invalid syntax (<ipython-input-7-7e31fa78afca>, line 1)",
     "output_type": "error",
     "traceback": [
      "\u001b[0;36m  File \u001b[0;32m\"<ipython-input-7-7e31fa78afca>\"\u001b[0;36m, line \u001b[0;32m1\u001b[0m\n\u001b[0;31m    var 1=12\u001b[0m\n\u001b[0m        ^\u001b[0m\n\u001b[0;31mSyntaxError\u001b[0m\u001b[0;31m:\u001b[0m invalid syntax\n"
     ]
    }
   ],
   "source": [
    "var 1=12\n",
    "print(var 1)"
   ]
  },
  {
   "cell_type": "code",
   "execution_count": 9,
   "id": "ccc53454",
   "metadata": {},
   "outputs": [
    {
     "name": "stdout",
     "output_type": "stream",
     "text": [
      "12\n"
     ]
    }
   ],
   "source": [
    "#Declaracion variable con guion abajo \n",
    "var_1=12\n",
    "print(var_1)"
   ]
  },
  {
   "cell_type": "code",
   "execution_count": 10,
   "id": "5c14d242",
   "metadata": {},
   "outputs": [
    {
     "name": "stdout",
     "output_type": "stream",
     "text": [
      "13\n",
      "12\n"
     ]
    }
   ],
   "source": [
    "#Variables diferentes, python distingue entre mayusculas y minusculas\n",
    "var1=13\n",
    "vaR1=12\n",
    "print(var1)\n",
    "print(vaR1)"
   ]
  },
  {
   "cell_type": "code",
   "execution_count": 11,
   "id": "a41a323e",
   "metadata": {},
   "outputs": [
    {
     "name": "stdout",
     "output_type": "stream",
     "text": [
      "25\n"
     ]
    }
   ],
   "source": [
    "suma=var1+vaR1\n",
    "print(suma)"
   ]
  },
  {
   "cell_type": "markdown",
   "id": "c0ce64d5",
   "metadata": {},
   "source": [
    "# Inicio del proyecto"
   ]
  },
  {
   "cell_type": "code",
   "execution_count": 11,
   "id": "a32b96ac",
   "metadata": {},
   "outputs": [
    {
     "name": "stdout",
     "output_type": "stream",
     "text": [
      "1.2\n"
     ]
    }
   ],
   "source": [
    "var=1.2\n",
    "print(var)"
   ]
  },
  {
   "cell_type": "code",
   "execution_count": 12,
   "id": "ba9edf31",
   "metadata": {},
   "outputs": [
    {
     "name": "stdout",
     "output_type": "stream",
     "text": [
      "11.120000000000001\n"
     ]
    }
   ],
   "source": [
    "enter=10\n",
    "flotante=1.12\n",
    "caracter=\"Hola\"\n",
    "binario=1\n",
    "#Podemos operar entero+entero; entero+flotante; flotante+flotante\n",
    "sumar=enter+flotante\n",
    "print(sumar)"
   ]
  },
  {
   "cell_type": "code",
   "execution_count": 13,
   "id": "7d27b18f",
   "metadata": {},
   "outputs": [
    {
     "name": "stdout",
     "output_type": "stream",
     "text": [
      "10\n"
     ]
    }
   ],
   "source": [
    "#convertir flotante en entero\n",
    "varx=10.99\n",
    "varx=int(varx)\n",
    "print(varx)"
   ]
  },
  {
   "cell_type": "code",
   "execution_count": 15,
   "id": "5a4cdd05",
   "metadata": {},
   "outputs": [
    {
     "name": "stdout",
     "output_type": "stream",
     "text": [
      "10.0\n"
     ]
    }
   ],
   "source": [
    "#convertir entero a flotante\n",
    "x=10\n",
    "x=float(x)\n",
    "print(x)"
   ]
  },
  {
   "cell_type": "code",
   "execution_count": 17,
   "id": "fa17c661",
   "metadata": {},
   "outputs": [],
   "source": [
    "a=1\n",
    "b=2"
   ]
  },
  {
   "cell_type": "code",
   "execution_count": 18,
   "id": "4e078082",
   "metadata": {},
   "outputs": [
    {
     "name": "stdout",
     "output_type": "stream",
     "text": [
      "3\n"
     ]
    }
   ],
   "source": [
    "c=a+b\n",
    "print(c)"
   ]
  },
  {
   "cell_type": "code",
   "execution_count": 14,
   "id": "9c0989ae",
   "metadata": {},
   "outputs": [
    {
     "name": "stdout",
     "output_type": "stream",
     "text": [
      "120\n",
      "120\n"
     ]
    }
   ],
   "source": [
    "#Asignar un valor a una variable a partir de otra variable definida anteriormente\n",
    "var1=120\n",
    "print(var1)\n",
    "var2=var1\n",
    "print(var2)"
   ]
  },
  {
   "cell_type": "code",
   "execution_count": 17,
   "id": "136f15b4",
   "metadata": {},
   "outputs": [
    {
     "name": "stdout",
     "output_type": "stream",
     "text": [
      "Hola mundo\n",
      "10\n"
     ]
    }
   ],
   "source": [
    "#Cadena de caracteres\n",
    "caracter=\"Hola mundo\"\n",
    "print(caracter)\n",
    "print(len(caracter))"
   ]
  },
  {
   "cell_type": "code",
   "execution_count": 21,
   "id": "f96647f4",
   "metadata": {},
   "outputs": [
    {
     "name": "stdout",
     "output_type": "stream",
     "text": [
      "Hola mundo\n"
     ]
    }
   ],
   "source": [
    "#Cadena de caracteres\n",
    "caracter='Hola mundo'\n",
    "print(caracter)"
   ]
  },
  {
   "cell_type": "code",
   "execution_count": 16,
   "id": "9992b3dd",
   "metadata": {},
   "outputs": [
    {
     "name": "stdout",
     "output_type": "stream",
     "text": [
      "Hola 'mundo'\n",
      "12\n"
     ]
    }
   ],
   "source": [
    "#Cadena de caracteres\n",
    "caracter=\"Hola 'mundo'\"\n",
    "print(caracter)\n",
    "print(len(caracter))"
   ]
  },
  {
   "cell_type": "code",
   "execution_count": 23,
   "id": "e84925af",
   "metadata": {},
   "outputs": [
    {
     "name": "stdout",
     "output_type": "stream",
     "text": [
      "Hola \"mundo\"\n"
     ]
    }
   ],
   "source": [
    "#Cadena de caracteres\n",
    "caracter='Hola \"mundo\"'\n",
    "print(caracter)"
   ]
  },
  {
   "cell_type": "code",
   "execution_count": 24,
   "id": "a530a8ab",
   "metadata": {},
   "outputs": [
    {
     "ename": "SyntaxError",
     "evalue": "invalid syntax (<ipython-input-24-3fec4615ec14>, line 1)",
     "output_type": "error",
     "traceback": [
      "\u001b[0;36m  File \u001b[0;32m\"<ipython-input-24-3fec4615ec14>\"\u001b[0;36m, line \u001b[0;32m1\u001b[0m\n\u001b[0;31m    var 1=120\u001b[0m\n\u001b[0m        ^\u001b[0m\n\u001b[0;31mSyntaxError\u001b[0m\u001b[0;31m:\u001b[0m invalid syntax\n"
     ]
    }
   ],
   "source": [
    "var 1=120\n",
    "print(var 1)"
   ]
  },
  {
   "cell_type": "code",
   "execution_count": 25,
   "id": "6a101950",
   "metadata": {},
   "outputs": [
    {
     "ename": "SyntaxError",
     "evalue": "invalid syntax (<ipython-input-25-26363d461d15>, line 1)",
     "output_type": "error",
     "traceback": [
      "\u001b[0;36m  File \u001b[0;32m\"<ipython-input-25-26363d461d15>\"\u001b[0;36m, line \u001b[0;32m1\u001b[0m\n\u001b[0;31m    @var1=120\u001b[0m\n\u001b[0m         ^\u001b[0m\n\u001b[0;31mSyntaxError\u001b[0m\u001b[0;31m:\u001b[0m invalid syntax\n"
     ]
    }
   ],
   "source": [
    "@var1=120\n",
    "print(@var1)"
   ]
  },
  {
   "cell_type": "code",
   "execution_count": 26,
   "id": "473a3cca",
   "metadata": {},
   "outputs": [
    {
     "ename": "SyntaxError",
     "evalue": "invalid syntax (<ipython-input-26-54d721bd59f1>, line 1)",
     "output_type": "error",
     "traceback": [
      "\u001b[0;36m  File \u001b[0;32m\"<ipython-input-26-54d721bd59f1>\"\u001b[0;36m, line \u001b[0;32m1\u001b[0m\n\u001b[0;31m    1var=120\u001b[0m\n\u001b[0m     ^\u001b[0m\n\u001b[0;31mSyntaxError\u001b[0m\u001b[0;31m:\u001b[0m invalid syntax\n"
     ]
    }
   ],
   "source": [
    "1var=120\n",
    "print(1var)"
   ]
  },
  {
   "cell_type": "code",
   "execution_count": 27,
   "id": "80121642",
   "metadata": {},
   "outputs": [
    {
     "ename": "SyntaxError",
     "evalue": "cannot assign to operator (<ipython-input-27-ce930e589683>, line 1)",
     "output_type": "error",
     "traceback": [
      "\u001b[0;36m  File \u001b[0;32m\"<ipython-input-27-ce930e589683>\"\u001b[0;36m, line \u001b[0;32m1\u001b[0m\n\u001b[0;31m    var*1=120\u001b[0m\n\u001b[0m    ^\u001b[0m\n\u001b[0;31mSyntaxError\u001b[0m\u001b[0;31m:\u001b[0m cannot assign to operator\n"
     ]
    }
   ],
   "source": [
    "var*1=120\n",
    "print(var*1)"
   ]
  },
  {
   "cell_type": "code",
   "execution_count": 18,
   "id": "d4106e5b",
   "metadata": {},
   "outputs": [
    {
     "name": "stdout",
     "output_type": "stream",
     "text": [
      "10\n",
      "20\n",
      "30\n",
      "40\n"
     ]
    }
   ],
   "source": [
    "#Definicion correcta de variables\n",
    "var1=10\n",
    "print(var1)\n",
    "var_2=20\n",
    "print(var_2)\n",
    "_var3=30\n",
    "print(_var3)\n",
    "var_v=40\n",
    "print(var_v)"
   ]
  },
  {
   "cell_type": "code",
   "execution_count": 32,
   "id": "9db332b3",
   "metadata": {},
   "outputs": [
    {
     "name": "stdout",
     "output_type": "stream",
     "text": [
      "Automovil\n"
     ]
    }
   ],
   "source": [
    "animal=\"Automovil\"\n",
    "print(animal)"
   ]
  },
  {
   "cell_type": "code",
   "execution_count": 33,
   "id": "25b9b5c7",
   "metadata": {},
   "outputs": [],
   "source": [
    "animal_caballo=\"Pelo castaño\""
   ]
  },
  {
   "cell_type": "code",
   "execution_count": 39,
   "id": "d0d855f7",
   "metadata": {},
   "outputs": [
    {
     "ename": "SyntaxError",
     "evalue": "invalid syntax (<ipython-input-39-1617bd0acf5a>, line 6)",
     "output_type": "error",
     "traceback": [
      "\u001b[0;36m  File \u001b[0;32m\"<ipython-input-39-1617bd0acf5a>\"\u001b[0;36m, line \u001b[0;32m6\u001b[0m\n\u001b[0;31m    else:\u001b[0m\n\u001b[0m    ^\u001b[0m\n\u001b[0;31mSyntaxError\u001b[0m\u001b[0;31m:\u001b[0m invalid syntax\n"
     ]
    }
   ],
   "source": [
    "print(\"Hola \")\n",
    "x=10\n",
    "\n",
    "if x>0:\n",
    "    print(\"hola mundo\"\n",
    "else:\n",
    "    print(\"Adios\")"
   ]
  },
  {
   "cell_type": "code",
   "execution_count": 19,
   "id": "b490eb6f",
   "metadata": {},
   "outputs": [
    {
     "name": "stdout",
     "output_type": "stream",
     "text": [
      "200\n",
      "200\n",
      "200\n"
     ]
    }
   ],
   "source": [
    "#Asignacion multiple\n",
    "var1=var2=var3=200\n",
    "print(var1)\n",
    "print(var2)\n",
    "print(var3)"
   ]
  },
  {
   "cell_type": "code",
   "execution_count": 45,
   "id": "b8c18377",
   "metadata": {},
   "outputs": [
    {
     "name": "stdout",
     "output_type": "stream",
     "text": [
      "10\n",
      "20\n",
      "30\n"
     ]
    }
   ],
   "source": [
    "#Asignacion multiple\n",
    "var1, var2, var3= 10,20,30\n",
    "print(var1)\n",
    "print(var2)\n",
    "print(var3)"
   ]
  },
  {
   "cell_type": "code",
   "execution_count": 21,
   "id": "fe643231",
   "metadata": {},
   "outputs": [
    {
     "ename": "ValueError",
     "evalue": "too many values to unpack (expected 3)",
     "output_type": "error",
     "traceback": [
      "\u001b[0;31m---------------------------------------------------------------------------\u001b[0m",
      "\u001b[0;31mValueError\u001b[0m                                Traceback (most recent call last)",
      "\u001b[0;32m<ipython-input-21-5d39d3ce7e60>\u001b[0m in \u001b[0;36m<module>\u001b[0;34m\u001b[0m\n\u001b[1;32m      1\u001b[0m \u001b[0;31m#Asignacion multiple con error\u001b[0m\u001b[0;34m\u001b[0m\u001b[0;34m\u001b[0m\u001b[0;34m\u001b[0m\u001b[0m\n\u001b[0;32m----> 2\u001b[0;31m \u001b[0mvar1\u001b[0m\u001b[0;34m,\u001b[0m \u001b[0mvar2\u001b[0m\u001b[0;34m,\u001b[0m \u001b[0mvar3\u001b[0m\u001b[0;34m=\u001b[0m \u001b[0;36m10\u001b[0m\u001b[0;34m,\u001b[0m\u001b[0;36m20\u001b[0m\u001b[0;34m,\u001b[0m\u001b[0;36m30\u001b[0m\u001b[0;34m,\u001b[0m\u001b[0;36m35\u001b[0m\u001b[0;34m\u001b[0m\u001b[0;34m\u001b[0m\u001b[0m\n\u001b[0m\u001b[1;32m      3\u001b[0m \u001b[0mprint\u001b[0m\u001b[0;34m(\u001b[0m\u001b[0mvar1\u001b[0m\u001b[0;34m)\u001b[0m\u001b[0;34m\u001b[0m\u001b[0;34m\u001b[0m\u001b[0m\n\u001b[1;32m      4\u001b[0m \u001b[0mprint\u001b[0m\u001b[0;34m(\u001b[0m\u001b[0mvar2\u001b[0m\u001b[0;34m)\u001b[0m\u001b[0;34m\u001b[0m\u001b[0;34m\u001b[0m\u001b[0m\n\u001b[1;32m      5\u001b[0m \u001b[0mprint\u001b[0m\u001b[0;34m(\u001b[0m\u001b[0mvar3\u001b[0m\u001b[0;34m)\u001b[0m\u001b[0;34m\u001b[0m\u001b[0;34m\u001b[0m\u001b[0m\n",
      "\u001b[0;31mValueError\u001b[0m: too many values to unpack (expected 3)"
     ]
    }
   ],
   "source": [
    "#Asignacion multiple con error\n",
    "var1, var2, var3= 10,20,30,35 \n",
    "print(var1)\n",
    "print(var2)\n",
    "print(var3)"
   ]
  },
  {
   "cell_type": "code",
   "execution_count": 43,
   "id": "205b8232",
   "metadata": {},
   "outputs": [
    {
     "ename": "ValueError",
     "evalue": "not enough values to unpack (expected 3, got 2)",
     "output_type": "error",
     "traceback": [
      "\u001b[0;31m---------------------------------------------------------------------------\u001b[0m",
      "\u001b[0;31mValueError\u001b[0m                                Traceback (most recent call last)",
      "\u001b[0;32m<ipython-input-43-daf9ef7c1131>\u001b[0m in \u001b[0;36m<module>\u001b[0;34m\u001b[0m\n\u001b[1;32m      1\u001b[0m \u001b[0;31m#Asignacion multiple\u001b[0m\u001b[0;34m\u001b[0m\u001b[0;34m\u001b[0m\u001b[0;34m\u001b[0m\u001b[0m\n\u001b[0;32m----> 2\u001b[0;31m \u001b[0mvar1\u001b[0m\u001b[0;34m,\u001b[0m \u001b[0mvar2\u001b[0m\u001b[0;34m,\u001b[0m \u001b[0mvar3\u001b[0m\u001b[0;34m=\u001b[0m \u001b[0;36m10\u001b[0m\u001b[0;34m,\u001b[0m\u001b[0;36m20\u001b[0m\u001b[0;34m\u001b[0m\u001b[0;34m\u001b[0m\u001b[0m\n\u001b[0m\u001b[1;32m      3\u001b[0m \u001b[0mprint\u001b[0m\u001b[0;34m(\u001b[0m\u001b[0mvar1\u001b[0m\u001b[0;34m)\u001b[0m\u001b[0;34m\u001b[0m\u001b[0;34m\u001b[0m\u001b[0m\n\u001b[1;32m      4\u001b[0m \u001b[0mprint\u001b[0m\u001b[0;34m(\u001b[0m\u001b[0mvar2\u001b[0m\u001b[0;34m)\u001b[0m\u001b[0;34m\u001b[0m\u001b[0;34m\u001b[0m\u001b[0m\n\u001b[1;32m      5\u001b[0m \u001b[0mprint\u001b[0m\u001b[0;34m(\u001b[0m\u001b[0mvar3\u001b[0m\u001b[0;34m)\u001b[0m\u001b[0;34m\u001b[0m\u001b[0;34m\u001b[0m\u001b[0m\n",
      "\u001b[0;31mValueError\u001b[0m: not enough values to unpack (expected 3, got 2)"
     ]
    }
   ],
   "source": [
    "#Asignacion multiple\n",
    "var1, var2, var3= 10,20 \n",
    "print(var1)\n",
    "print(var2)\n",
    "print(var3)"
   ]
  },
  {
   "cell_type": "code",
   "execution_count": 48,
   "id": "a552436a",
   "metadata": {},
   "outputs": [
    {
     "name": "stdout",
     "output_type": "stream",
     "text": [
      "5\n"
     ]
    },
    {
     "data": {
      "text/plain": [
       "int"
      ]
     },
     "execution_count": 48,
     "metadata": {},
     "output_type": "execute_result"
    }
   ],
   "source": [
    "x=2+3\n",
    "print(x)\n",
    "type(x)"
   ]
  },
  {
   "cell_type": "code",
   "execution_count": 22,
   "id": "f5bfaa5f",
   "metadata": {},
   "outputs": [
    {
     "name": "stdout",
     "output_type": "stream",
     "text": [
      "19.990000000000002\n"
     ]
    },
    {
     "data": {
      "text/plain": [
       "float"
      ]
     },
     "execution_count": 22,
     "metadata": {},
     "output_type": "execute_result"
    }
   ],
   "source": [
    "numero1=10\n",
    "numero2=9.99\n",
    "numero3=numero1+numero2\n",
    "print(numero3)\n",
    "type(numero3)"
   ]
  },
  {
   "cell_type": "code",
   "execution_count": 52,
   "id": "e16f6d88",
   "metadata": {},
   "outputs": [
    {
     "name": "stdout",
     "output_type": "stream",
     "text": [
      "Hola mundo\n"
     ]
    },
    {
     "data": {
      "text/plain": [
       "str"
      ]
     },
     "execution_count": 52,
     "metadata": {},
     "output_type": "execute_result"
    }
   ],
   "source": [
    "caracter=\"Hola mundo\"\n",
    "print(caracter)\n",
    "type(caracter)"
   ]
  },
  {
   "cell_type": "code",
   "execution_count": 24,
   "id": "9fdd432b",
   "metadata": {},
   "outputs": [
    {
     "name": "stdout",
     "output_type": "stream",
     "text": [
      "Hola mundo\n"
     ]
    }
   ],
   "source": [
    "#Union cadenas\n",
    "cad1=\"Hola \"\n",
    "cad2=\"mundo\"\n",
    "frase=cad1+cad2\n",
    "print(frase)"
   ]
  },
  {
   "cell_type": "code",
   "execution_count": 54,
   "id": "f5762915",
   "metadata": {},
   "outputs": [
    {
     "data": {
      "text/plain": [
       "11"
      ]
     },
     "execution_count": 54,
     "metadata": {},
     "output_type": "execute_result"
    }
   ],
   "source": [
    "#suma \n",
    "8+3 #suma "
   ]
  },
  {
   "cell_type": "code",
   "execution_count": 55,
   "id": "e03ef2b9",
   "metadata": {},
   "outputs": [
    {
     "data": {
      "text/plain": [
       "5"
      ]
     },
     "execution_count": 55,
     "metadata": {},
     "output_type": "execute_result"
    }
   ],
   "source": [
    "8-3 #resta"
   ]
  },
  {
   "cell_type": "code",
   "execution_count": 56,
   "id": "a496559e",
   "metadata": {},
   "outputs": [
    {
     "data": {
      "text/plain": [
       "12"
      ]
     },
     "execution_count": 56,
     "metadata": {},
     "output_type": "execute_result"
    }
   ],
   "source": [
    "2*6 #multiplicacion"
   ]
  },
  {
   "cell_type": "code",
   "execution_count": 57,
   "id": "b4e11925",
   "metadata": {},
   "outputs": [
    {
     "data": {
      "text/plain": [
       "6.0"
      ]
     },
     "execution_count": 57,
     "metadata": {},
     "output_type": "execute_result"
    }
   ],
   "source": [
    "12/2 #division"
   ]
  },
  {
   "cell_type": "code",
   "execution_count": 59,
   "id": "f9bfd5db",
   "metadata": {},
   "outputs": [
    {
     "data": {
      "text/plain": [
       "4"
      ]
     },
     "execution_count": 59,
     "metadata": {},
     "output_type": "execute_result"
    }
   ],
   "source": [
    "12//3 #Division entera"
   ]
  },
  {
   "cell_type": "code",
   "execution_count": 61,
   "id": "2861a707",
   "metadata": {},
   "outputs": [
    {
     "data": {
      "text/plain": [
       "1"
      ]
     },
     "execution_count": 61,
     "metadata": {},
     "output_type": "execute_result"
    }
   ],
   "source": [
    "7%3 #Modulo (retorna el resto de una division)\n"
   ]
  },
  {
   "cell_type": "code",
   "execution_count": 64,
   "id": "102275d6",
   "metadata": {},
   "outputs": [
    {
     "name": "stdout",
     "output_type": "stream",
     "text": [
      "10 es un numero par\n"
     ]
    }
   ],
   "source": [
    "x=10\n",
    "if x%2==0:\n",
    "    print(x, \"es un numero par\")\n",
    "else:\n",
    "    print(x, \"es un numero impar\")"
   ]
  },
  {
   "cell_type": "code",
   "execution_count": 72,
   "id": "dc5d58f7",
   "metadata": {},
   "outputs": [
    {
     "name": "stdout",
     "output_type": "stream",
     "text": [
      "Tienes gasolina\n"
     ]
    }
   ],
   "source": [
    "x=1\n",
    "if x==1:\n",
    "    print(\"Tienes gasolina\")\n",
    "else:\n",
    "    print(\"No tienes gasolina\")"
   ]
  },
  {
   "cell_type": "code",
   "execution_count": 66,
   "id": "cf5cc5a1",
   "metadata": {},
   "outputs": [
    {
     "name": "stdout",
     "output_type": "stream",
     "text": [
      "49\n"
     ]
    }
   ],
   "source": [
    "cuadrado=7**2 #potencia de 2 (7*7)\n",
    "print(cuadrado)"
   ]
  },
  {
   "cell_type": "code",
   "execution_count": 69,
   "id": "c2400459",
   "metadata": {},
   "outputs": [
    {
     "name": "stdout",
     "output_type": "stream",
     "text": [
      "8\n"
     ]
    }
   ],
   "source": [
    "cubico=2**3 #potencia al cubo (2*2*2)\n",
    "print(cubico)"
   ]
  },
  {
   "cell_type": "code",
   "execution_count": 71,
   "id": "95466034",
   "metadata": {},
   "outputs": [
    {
     "name": "stdout",
     "output_type": "stream",
     "text": [
      "5.744562646538029\n"
     ]
    }
   ],
   "source": [
    "x=15+18\n",
    "raiz=x**(1/2)\n",
    "print(raiz)"
   ]
  },
  {
   "cell_type": "code",
   "execution_count": 75,
   "id": "630b2d4e",
   "metadata": {},
   "outputs": [
    {
     "name": "stdout",
     "output_type": "stream",
     "text": [
      "2.5\n"
     ]
    }
   ],
   "source": [
    "#Tener en cuenta reglas de precedencia\n",
    "n1=1\n",
    "n2=2\n",
    "n3=3\n",
    "n4=4\n",
    "\n",
    "promedio=(n1+n2+n3+n4)/4\n",
    "print(promedio)"
   ]
  },
  {
   "cell_type": "code",
   "execution_count": 78,
   "id": "d5cf1725",
   "metadata": {},
   "outputs": [
    {
     "name": "stdout",
     "output_type": "stream",
     "text": [
      "Hola mundo \n"
     ]
    },
    {
     "data": {
      "text/plain": [
       "11"
      ]
     },
     "execution_count": 78,
     "metadata": {},
     "output_type": "execute_result"
    }
   ],
   "source": [
    "caracter=\"Hola mundo \"\n",
    "print(caracter)\n",
    "len(caracter)"
   ]
  },
  {
   "cell_type": "code",
   "execution_count": 79,
   "id": "f8a043ca",
   "metadata": {},
   "outputs": [
    {
     "name": "stdout",
     "output_type": "stream",
     "text": [
      "13\n"
     ]
    }
   ],
   "source": [
    "n1=10\n",
    "n2=30\n",
    "n3=n1+n3\n",
    "print(n3)"
   ]
  },
  {
   "cell_type": "code",
   "execution_count": 84,
   "id": "d74034d8",
   "metadata": {},
   "outputs": [
    {
     "name": "stdout",
     "output_type": "stream",
     "text": [
      "Hola de nuevo\n",
      "Hola Hola Hola  \n",
      "\n",
      "Fin\n"
     ]
    }
   ],
   "source": [
    "cad1=\"Hola \"\n",
    "cad2=\"de nuevo\"\n",
    "cad3=cad1+cad2\n",
    "print(cad3)\n",
    "\n",
    "cad4=cad1*3\n",
    "print(cad4,'\\n')\n",
    "print(\"Fin\")"
   ]
  }
 ],
 "metadata": {
  "kernelspec": {
   "display_name": "Python 3",
   "language": "python",
   "name": "python3"
  },
  "language_info": {
   "codemirror_mode": {
    "name": "ipython",
    "version": 3
   },
   "file_extension": ".py",
   "mimetype": "text/x-python",
   "name": "python",
   "nbconvert_exporter": "python",
   "pygments_lexer": "ipython3",
   "version": "3.9.1"
  }
 },
 "nbformat": 4,
 "nbformat_minor": 5
}
