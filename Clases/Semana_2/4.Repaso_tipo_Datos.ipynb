{
 "cells": [
  {
   "cell_type": "code",
   "execution_count": 2,
   "id": "f77d5f55",
   "metadata": {},
   "outputs": [
    {
     "name": "stdout",
     "output_type": "stream",
     "text": [
      "a\n"
     ]
    }
   ],
   "source": [
    "#Una cadena es una secuencia de caracteres, se puede acceder a cada letra de ella\n",
    "fruta=\"banana\"\n",
    "letra=fruta[1]\n",
    "print(letra)"
   ]
  },
  {
   "cell_type": "code",
   "execution_count": 1,
   "id": "8a51da44",
   "metadata": {},
   "outputs": [
    {
     "name": "stdout",
     "output_type": "stream",
     "text": [
      "hola mundo\n"
     ]
    }
   ],
   "source": [
    "print(\"hola mundo\")"
   ]
  },
  {
   "cell_type": "code",
   "execution_count": null,
   "id": "38aa7408",
   "metadata": {},
   "outputs": [],
   "source": [
    "101010101"
   ]
  },
  {
   "cell_type": "code",
   "execution_count": 4,
   "id": "f1ecd585",
   "metadata": {},
   "outputs": [
    {
     "ename": "TypeError",
     "evalue": "string indices must be integers",
     "output_type": "error",
     "traceback": [
      "\u001b[0;31m---------------------------------------------------------------------------\u001b[0m",
      "\u001b[0;31mTypeError\u001b[0m                                 Traceback (most recent call last)",
      "\u001b[0;32m<ipython-input-4-da8c1f73222e>\u001b[0m in \u001b[0;36m<module>\u001b[0;34m\u001b[0m\n\u001b[1;32m      1\u001b[0m \u001b[0;31m#el indice debe ser un entero\u001b[0m\u001b[0;34m\u001b[0m\u001b[0;34m\u001b[0m\u001b[0;34m\u001b[0m\u001b[0m\n\u001b[0;32m----> 2\u001b[0;31m \u001b[0mletra\u001b[0m \u001b[0;34m=\u001b[0m \u001b[0mfruta\u001b[0m\u001b[0;34m[\u001b[0m\u001b[0;36m1.5\u001b[0m\u001b[0;34m]\u001b[0m\u001b[0;34m\u001b[0m\u001b[0;34m\u001b[0m\u001b[0m\n\u001b[0m",
      "\u001b[0;31mTypeError\u001b[0m: string indices must be integers"
     ]
    }
   ],
   "source": [
    "#el indice debe ser un entero\n",
    "letra = fruta[1.5]"
   ]
  },
  {
   "cell_type": "code",
   "execution_count": 7,
   "id": "92016d04",
   "metadata": {},
   "outputs": [
    {
     "name": "stdout",
     "output_type": "stream",
     "text": [
      "6\n",
      "a\n",
      "a\n",
      "n\n"
     ]
    }
   ],
   "source": [
    "#tamano cadena\n",
    "tamano=len(fruta)\n",
    "print(tamano)\n",
    "\n",
    "ult_letra=fruta[tamano-1]\n",
    "print(ult_letra)\n",
    "\n",
    "ult_letra=fruta[-1]\n",
    "print(ult_letra)\n",
    "\n",
    "penult_letra=fruta[-2]\n",
    "print(penult_letra)"
   ]
  },
  {
   "cell_type": "code",
   "execution_count": 10,
   "id": "f93bd0ab",
   "metadata": {},
   "outputs": [
    {
     "name": "stdout",
     "output_type": "stream",
     "text": [
      "b\n",
      "a\n",
      "n\n",
      "a\n",
      "n\n",
      "a\n"
     ]
    }
   ],
   "source": [
    "#recorrer cadena con while\n",
    "indice = 0\n",
    "while indice < len(fruta):\n",
    "    letra = fruta[indice]\n",
    "    print(letra)\n",
    "    indice = indice + 1"
   ]
  },
  {
   "cell_type": "code",
   "execution_count": 9,
   "id": "d8447270",
   "metadata": {},
   "outputs": [
    {
     "name": "stdout",
     "output_type": "stream",
     "text": [
      "a\n",
      "n\n",
      "a\n",
      "n\n",
      "a\n",
      "b\n"
     ]
    }
   ],
   "source": [
    "# Ejercicio 1: Escribe un bucle while que comience con el último carácter\n",
    "# en la cadena y haga un recorrido hacia atrás hasta el primer carácter\n",
    "# en la cadena, imprimiendo cada letra en una línea independiente.\n",
    "tam=len(fruta)\n",
    "indice=tam-1\n",
    "# print(indice)\n",
    "while indice<len(fruta):\n",
    "    letra = fruta[indice]\n",
    "    print(letra)\n",
    "    indice = indice - 1\n",
    "    if indice<0:\n",
    "        break"
   ]
  },
  {
   "cell_type": "code",
   "execution_count": 10,
   "id": "160798d8",
   "metadata": {},
   "outputs": [
    {
     "name": "stdout",
     "output_type": "stream",
     "text": [
      "b\n",
      "a\n",
      "n\n",
      "a\n",
      "n\n",
      "a\n"
     ]
    }
   ],
   "source": [
    "for caracter in fruta:\n",
    "    print(caracter)"
   ]
  },
  {
   "cell_type": "code",
   "execution_count": 13,
   "id": "a9f5e465",
   "metadata": {},
   "outputs": [
    {
     "name": "stdout",
     "output_type": "stream",
     "text": [
      "na\n",
      "ban\n",
      "ana\n",
      "\n",
      "banana\n"
     ]
    }
   ],
   "source": [
    "#Rebanado de una cadena\n",
    "fruta=\"banana\"\n",
    "print(fruta[2:4])\n",
    "print(fruta[:3])\n",
    "print(fruta[3:])\n",
    "print(fruta[3:3])\n",
    "print(fruta[:])"
   ]
  },
  {
   "cell_type": "code",
   "execution_count": 14,
   "id": "c092cf40",
   "metadata": {},
   "outputs": [
    {
     "ename": "TypeError",
     "evalue": "'str' object does not support item assignment",
     "output_type": "error",
     "traceback": [
      "\u001b[0;31m---------------------------------------------------------------------------\u001b[0m",
      "\u001b[0;31mTypeError\u001b[0m                                 Traceback (most recent call last)",
      "\u001b[0;32m<ipython-input-14-4a5a63895fee>\u001b[0m in \u001b[0;36m<module>\u001b[0;34m\u001b[0m\n\u001b[1;32m      1\u001b[0m \u001b[0;31m#cadena son inmutables\u001b[0m\u001b[0;34m\u001b[0m\u001b[0;34m\u001b[0m\u001b[0;34m\u001b[0m\u001b[0m\n\u001b[0;32m----> 2\u001b[0;31m \u001b[0mfruta\u001b[0m\u001b[0;34m[\u001b[0m\u001b[0;36m0\u001b[0m\u001b[0;34m]\u001b[0m\u001b[0;34m=\u001b[0m\u001b[0;34m\"j\"\u001b[0m\u001b[0;34m\u001b[0m\u001b[0;34m\u001b[0m\u001b[0m\n\u001b[0m",
      "\u001b[0;31mTypeError\u001b[0m: 'str' object does not support item assignment"
     ]
    }
   ],
   "source": [
    "#cadena son inmutables\n",
    "fruta[0]=\"j\""
   ]
  },
  {
   "cell_type": "code",
   "execution_count": 15,
   "id": "640c72d2",
   "metadata": {},
   "outputs": [
    {
     "name": "stdout",
     "output_type": "stream",
     "text": [
      "hola\n"
     ]
    }
   ],
   "source": [
    "#asignar una nueva variable de la original\n",
    "saludo=\"Jola\"\n",
    "new_saludo=\"h\"+saludo[1:]\n",
    "print(new_saludo)"
   ]
  },
  {
   "cell_type": "code",
   "execution_count": 17,
   "id": "b951abce",
   "metadata": {},
   "outputs": [
    {
     "name": "stdout",
     "output_type": "stream",
     "text": [
      "3\n"
     ]
    }
   ],
   "source": [
    "palabra = 'banana'\n",
    "contador = 0\n",
    "for letra in palabra:\n",
    "    if letra == 'a':\n",
    "        contador = contador + 1\n",
    "print(contador)"
   ]
  },
  {
   "cell_type": "code",
   "execution_count": 18,
   "id": "255145e8",
   "metadata": {},
   "outputs": [
    {
     "name": "stdout",
     "output_type": "stream",
     "text": [
      "3\n"
     ]
    }
   ],
   "source": [
    "def cuenta(cad,let):\n",
    "    contador=0\n",
    "    for letra in palabra:\n",
    "        if letra == 'a':\n",
    "            contador = contador + 1\n",
    "    print(contador)\n",
    "    \n",
    "cuenta(\"Banana\",\"a\")"
   ]
  },
  {
   "cell_type": "code",
   "execution_count": 19,
   "id": "d04e8a3a",
   "metadata": {},
   "outputs": [
    {
     "name": "stdout",
     "output_type": "stream",
     "text": [
      "3\n"
     ]
    }
   ],
   "source": [
    "def cuenta(cad,let):\n",
    "    contador=0\n",
    "    for letra in palabra:\n",
    "        if letra == 'a':\n",
    "            contador = contador + 1\n",
    "    print(contador)\n",
    "\n",
    "lists=[1,2,3,4,1,4,1,4]\n",
    "cuenta(lists,1)"
   ]
  },
  {
   "cell_type": "code",
   "execution_count": 20,
   "id": "41479fed",
   "metadata": {},
   "outputs": [
    {
     "data": {
      "text/plain": [
       "True"
      ]
     },
     "execution_count": 20,
     "metadata": {},
     "output_type": "execute_result"
    }
   ],
   "source": [
    "\"a\" in \"banana\""
   ]
  },
  {
   "cell_type": "code",
   "execution_count": 21,
   "id": "e390bcc4",
   "metadata": {},
   "outputs": [
    {
     "data": {
      "text/plain": [
       "False"
      ]
     },
     "execution_count": 21,
     "metadata": {},
     "output_type": "execute_result"
    }
   ],
   "source": [
    "\"semilla\" in \"banana\""
   ]
  },
  {
   "cell_type": "code",
   "execution_count": 23,
   "id": "052628ed",
   "metadata": {},
   "outputs": [
    {
     "ename": "TypeError",
     "evalue": "'in <string>' requires string as left operand, not int",
     "output_type": "error",
     "traceback": [
      "\u001b[0;31m---------------------------------------------------------------------------\u001b[0m",
      "\u001b[0;31mTypeError\u001b[0m                                 Traceback (most recent call last)",
      "\u001b[0;32m<ipython-input-23-b172b70264bc>\u001b[0m in \u001b[0;36m<module>\u001b[0;34m\u001b[0m\n\u001b[0;32m----> 1\u001b[0;31m \u001b[0;36m2\u001b[0m \u001b[0;32min\u001b[0m \u001b[0;34m\"banana\"\u001b[0m\u001b[0;34m\u001b[0m\u001b[0;34m\u001b[0m\u001b[0m\n\u001b[0m",
      "\u001b[0;31mTypeError\u001b[0m: 'in <string>' requires string as left operand, not int"
     ]
    }
   ],
   "source": [
    "2 in \"banana\""
   ]
  },
  {
   "cell_type": "code",
   "execution_count": 28,
   "id": "eaa5c415",
   "metadata": {},
   "outputs": [
    {
     "name": "stdout",
     "output_type": "stream",
     "text": [
      "la palabra es:  hola\n"
     ]
    }
   ],
   "source": [
    "palabra=\"hola\"\n",
    "if palabra == 'banana':\n",
    "    print('Muy bien, bananas.')\n",
    "else:\n",
    "    print(\"la palabra es: \",palabra)"
   ]
  },
  {
   "cell_type": "code",
   "execution_count": 29,
   "id": "096724d8",
   "metadata": {},
   "outputs": [
    {
     "name": "stdout",
     "output_type": "stream",
     "text": [
      "Tu palabra, hola, está después de banana.\n"
     ]
    }
   ],
   "source": [
    "if palabra < 'banana':\n",
    "    print('Tu palabra, ' + palabra + ', está antes de banana.')\n",
    "elif palabra > 'banana':\n",
    "    print('Tu palabra, ' + palabra + ', está después de banana.')\n",
    "else:\n",
    "    print('Muy bien, bananas.')"
   ]
  },
  {
   "cell_type": "code",
   "execution_count": 30,
   "id": "4d4eb760",
   "metadata": {},
   "outputs": [
    {
     "data": {
      "text/plain": [
       "['__add__',\n",
       " '__class__',\n",
       " '__contains__',\n",
       " '__delattr__',\n",
       " '__dir__',\n",
       " '__doc__',\n",
       " '__eq__',\n",
       " '__format__',\n",
       " '__ge__',\n",
       " '__getattribute__',\n",
       " '__getitem__',\n",
       " '__getnewargs__',\n",
       " '__gt__',\n",
       " '__hash__',\n",
       " '__init__',\n",
       " '__init_subclass__',\n",
       " '__iter__',\n",
       " '__le__',\n",
       " '__len__',\n",
       " '__lt__',\n",
       " '__mod__',\n",
       " '__mul__',\n",
       " '__ne__',\n",
       " '__new__',\n",
       " '__reduce__',\n",
       " '__reduce_ex__',\n",
       " '__repr__',\n",
       " '__rmod__',\n",
       " '__rmul__',\n",
       " '__setattr__',\n",
       " '__sizeof__',\n",
       " '__str__',\n",
       " '__subclasshook__',\n",
       " 'capitalize',\n",
       " 'casefold',\n",
       " 'center',\n",
       " 'count',\n",
       " 'encode',\n",
       " 'endswith',\n",
       " 'expandtabs',\n",
       " 'find',\n",
       " 'format',\n",
       " 'format_map',\n",
       " 'index',\n",
       " 'isalnum',\n",
       " 'isalpha',\n",
       " 'isascii',\n",
       " 'isdecimal',\n",
       " 'isdigit',\n",
       " 'isidentifier',\n",
       " 'islower',\n",
       " 'isnumeric',\n",
       " 'isprintable',\n",
       " 'isspace',\n",
       " 'istitle',\n",
       " 'isupper',\n",
       " 'join',\n",
       " 'ljust',\n",
       " 'lower',\n",
       " 'lstrip',\n",
       " 'maketrans',\n",
       " 'partition',\n",
       " 'removeprefix',\n",
       " 'removesuffix',\n",
       " 'replace',\n",
       " 'rfind',\n",
       " 'rindex',\n",
       " 'rjust',\n",
       " 'rpartition',\n",
       " 'rsplit',\n",
       " 'rstrip',\n",
       " 'split',\n",
       " 'splitlines',\n",
       " 'startswith',\n",
       " 'strip',\n",
       " 'swapcase',\n",
       " 'title',\n",
       " 'translate',\n",
       " 'upper',\n",
       " 'zfill']"
      ]
     },
     "execution_count": 30,
     "metadata": {},
     "output_type": "execute_result"
    }
   ],
   "source": [
    "cosa = 'Hola mundo'\n",
    "type(cosa)\n",
    "dir(cosa)"
   ]
  },
  {
   "cell_type": "code",
   "execution_count": 31,
   "id": "756ad2a7",
   "metadata": {},
   "outputs": [
    {
     "name": "stdout",
     "output_type": "stream",
     "text": [
      "Help on method_descriptor:\n",
      "\n",
      "capitalize(self, /)\n",
      "    Return a capitalized version of the string.\n",
      "    \n",
      "    More specifically, make the first character have upper case and the rest lower\n",
      "    case.\n",
      "\n"
     ]
    }
   ],
   "source": [
    "help(str.capitalize)"
   ]
  },
  {
   "cell_type": "code",
   "execution_count": 32,
   "id": "487d426d",
   "metadata": {},
   "outputs": [
    {
     "name": "stdout",
     "output_type": "stream",
     "text": [
      "BANANA\n"
     ]
    }
   ],
   "source": [
    "palabra=\"banana\"\n",
    "new_palabra=palabra.upper()\n",
    "print(new_palabra)"
   ]
  },
  {
   "cell_type": "code",
   "execution_count": 39,
   "id": "20c0b0b2",
   "metadata": {},
   "outputs": [
    {
     "name": "stdout",
     "output_type": "stream",
     "text": [
      "1\n"
     ]
    }
   ],
   "source": [
    "indice = palabra.find('a')\n",
    "print(indice)"
   ]
  },
  {
   "cell_type": "code",
   "execution_count": 40,
   "id": "3603bc7c",
   "metadata": {},
   "outputs": [
    {
     "data": {
      "text/plain": [
       "2"
      ]
     },
     "execution_count": 40,
     "metadata": {},
     "output_type": "execute_result"
    }
   ],
   "source": [
    "palabra.find('na')"
   ]
  },
  {
   "cell_type": "code",
   "execution_count": 41,
   "id": "7ccd6e7a",
   "metadata": {},
   "outputs": [
    {
     "data": {
      "text/plain": [
       "4"
      ]
     },
     "execution_count": 41,
     "metadata": {},
     "output_type": "execute_result"
    }
   ],
   "source": [
    "palabra.find('na', 3)"
   ]
  },
  {
   "cell_type": "code",
   "execution_count": 44,
   "id": "66c4757e",
   "metadata": {},
   "outputs": [
    {
     "data": {
      "text/plain": [
       "'Aquí vamos'"
      ]
     },
     "execution_count": 44,
     "metadata": {},
     "output_type": "execute_result"
    }
   ],
   "source": [
    "linea = ' Aquí vamos '\n",
    "linea.strip()"
   ]
  },
  {
   "cell_type": "code",
   "execution_count": 56,
   "id": "dc9ed556",
   "metadata": {},
   "outputs": [
    {
     "data": {
      "text/plain": [
       "True"
      ]
     },
     "execution_count": 56,
     "metadata": {},
     "output_type": "execute_result"
    }
   ],
   "source": [
    "linea = 'Que tengas buen dia'\n",
    "linea.startswith('Que')"
   ]
  },
  {
   "cell_type": "code",
   "execution_count": 46,
   "id": "27c9f1ff",
   "metadata": {},
   "outputs": [
    {
     "data": {
      "text/plain": [
       "False"
      ]
     },
     "execution_count": 46,
     "metadata": {},
     "output_type": "execute_result"
    }
   ],
   "source": [
    "linea.startswith('q')"
   ]
  },
  {
   "cell_type": "code",
   "execution_count": 59,
   "id": "afbff0ce",
   "metadata": {},
   "outputs": [
    {
     "name": "stdout",
     "output_type": "stream",
     "text": [
      "Que tengas buen dia\n"
     ]
    },
    {
     "data": {
      "text/plain": [
       "True"
      ]
     },
     "execution_count": 59,
     "metadata": {},
     "output_type": "execute_result"
    }
   ],
   "source": [
    "linea.lower()\n",
    "print(linea)\n",
    "linea.lower().startswith('q')"
   ]
  },
  {
   "cell_type": "code",
   "execution_count": 71,
   "id": "85214c6b",
   "metadata": {},
   "outputs": [
    {
     "data": {
      "text/plain": [
       "1"
      ]
     },
     "execution_count": 71,
     "metadata": {},
     "output_type": "execute_result"
    }
   ],
   "source": [
    "#Contar cuantas veces se repite una letra\n",
    "linea.count('t')"
   ]
  },
  {
   "cell_type": "code",
   "execution_count": 80,
   "id": "0d2faf12",
   "metadata": {},
   "outputs": [
    {
     "name": "stdout",
     "output_type": "stream",
     "text": [
      "21\n",
      "31\n",
      "uct.ac.za\n"
     ]
    }
   ],
   "source": [
    "#Encontrar la direccion del correo, primero filtrar posicion de donde esta la arroba\n",
    "mensaje=\"From stephen.marquard@uct.ac.za Sat Jan 5 09:14:16 2008\"\n",
    "filtrar=mensaje.find('@')\n",
    "print(filtrar)\n",
    "\n",
    "#Obtener el resto del mensaje despues de la arroba\n",
    "message=mensaje.find(' ',filtrar)\n",
    "print(message)\n",
    "\n",
    "direccion=mensaje[filtrar+1:message]\n",
    "print(direccion)"
   ]
  },
  {
   "cell_type": "code",
   "execution_count": 99,
   "id": "8edf2cca",
   "metadata": {},
   "outputs": [
    {
     "data": {
      "text/plain": [
       "'42'"
      ]
     },
     "execution_count": 99,
     "metadata": {},
     "output_type": "execute_result"
    }
   ],
   "source": [
    "camellos = 42\n",
    "dia=12\n",
    "'%d' % camellos"
   ]
  },
  {
   "cell_type": "code",
   "execution_count": 84,
   "id": "92a4aba6",
   "metadata": {},
   "outputs": [
    {
     "data": {
      "text/plain": [
       "'Yo he visto 42 camellos'"
      ]
     },
     "execution_count": 84,
     "metadata": {},
     "output_type": "execute_result"
    }
   ],
   "source": [
    "'Yo he visto %d camellos' % camellos"
   ]
  },
  {
   "cell_type": "code",
   "execution_count": 100,
   "id": "3f97d2e7",
   "metadata": {},
   "outputs": [
    {
     "data": {
      "text/plain": [
       "'Yo he visto 42 camellos en 12 dias'"
      ]
     },
     "execution_count": 100,
     "metadata": {},
     "output_type": "execute_result"
    }
   ],
   "source": [
    "'Yo he visto %d camellos en %d dias' % (camellos,dia)"
   ]
  },
  {
   "cell_type": "code",
   "execution_count": 95,
   "id": "f6b413da",
   "metadata": {},
   "outputs": [
    {
     "data": {
      "text/plain": [
       "'En 3 años yo he visto 0.1 camellos.'"
      ]
     },
     "execution_count": 95,
     "metadata": {},
     "output_type": "execute_result"
    }
   ],
   "source": [
    "'En %d años yo he visto %g %s.' % (3, 0.1, 'camellos')"
   ]
  },
  {
   "cell_type": "code",
   "execution_count": 101,
   "id": "967b2c5e",
   "metadata": {},
   "outputs": [
    {
     "ename": "TypeError",
     "evalue": "not enough arguments for format string",
     "output_type": "error",
     "traceback": [
      "\u001b[0;31m---------------------------------------------------------------------------\u001b[0m",
      "\u001b[0;31mTypeError\u001b[0m                                 Traceback (most recent call last)",
      "\u001b[0;32m<ipython-input-101-4a97654d37a9>\u001b[0m in \u001b[0;36m<module>\u001b[0;34m\u001b[0m\n\u001b[0;32m----> 1\u001b[0;31m \u001b[0;34m'%d %d %d'\u001b[0m \u001b[0;34m%\u001b[0m \u001b[0;34m(\u001b[0m\u001b[0;36m1\u001b[0m\u001b[0;34m,\u001b[0m \u001b[0;36m2\u001b[0m\u001b[0;34m)\u001b[0m\u001b[0;34m\u001b[0m\u001b[0;34m\u001b[0m\u001b[0m\n\u001b[0m",
      "\u001b[0;31mTypeError\u001b[0m: not enough arguments for format string"
     ]
    }
   ],
   "source": [
    "'%d %d %d' % (1, 2)"
   ]
  },
  {
   "cell_type": "code",
   "execution_count": 102,
   "id": "d8e3546e",
   "metadata": {},
   "outputs": [
    {
     "ename": "TypeError",
     "evalue": "%d format: a number is required, not str",
     "output_type": "error",
     "traceback": [
      "\u001b[0;31m---------------------------------------------------------------------------\u001b[0m",
      "\u001b[0;31mTypeError\u001b[0m                                 Traceback (most recent call last)",
      "\u001b[0;32m<ipython-input-102-5cda57500969>\u001b[0m in \u001b[0;36m<module>\u001b[0;34m\u001b[0m\n\u001b[0;32m----> 1\u001b[0;31m \u001b[0;34m'%d'\u001b[0m \u001b[0;34m%\u001b[0m \u001b[0;34m'dolares'\u001b[0m\u001b[0;34m\u001b[0m\u001b[0;34m\u001b[0m\u001b[0m\n\u001b[0m",
      "\u001b[0;31mTypeError\u001b[0m: %d format: a number is required, not str"
     ]
    }
   ],
   "source": [
    "'%d' % 'dolares'"
   ]
  },
  {
   "cell_type": "code",
   "execution_count": 104,
   "id": "07033f0f",
   "metadata": {},
   "outputs": [
    {
     "name": "stdout",
     "output_type": "stream",
     "text": [
      "> \n"
     ]
    },
    {
     "ename": "IndexError",
     "evalue": "string index out of range",
     "output_type": "error",
     "traceback": [
      "\u001b[0;31m---------------------------------------------------------------------------\u001b[0m",
      "\u001b[0;31mIndexError\u001b[0m                                Traceback (most recent call last)",
      "\u001b[0;32m<ipython-input-104-80172d33867a>\u001b[0m in \u001b[0;36m<module>\u001b[0;34m\u001b[0m\n\u001b[1;32m      1\u001b[0m \u001b[0;32mwhile\u001b[0m \u001b[0;32mTrue\u001b[0m\u001b[0;34m:\u001b[0m\u001b[0;34m\u001b[0m\u001b[0;34m\u001b[0m\u001b[0m\n\u001b[1;32m      2\u001b[0m     \u001b[0mlinea\u001b[0m \u001b[0;34m=\u001b[0m \u001b[0minput\u001b[0m\u001b[0;34m(\u001b[0m\u001b[0;34m'> '\u001b[0m\u001b[0;34m)\u001b[0m\u001b[0;34m\u001b[0m\u001b[0;34m\u001b[0m\u001b[0m\n\u001b[0;32m----> 3\u001b[0;31m     \u001b[0;32mif\u001b[0m \u001b[0mlinea\u001b[0m\u001b[0;34m[\u001b[0m\u001b[0;36m0\u001b[0m\u001b[0;34m]\u001b[0m \u001b[0;34m==\u001b[0m \u001b[0;34m'#'\u001b[0m \u001b[0;34m:\u001b[0m\u001b[0;34m\u001b[0m\u001b[0;34m\u001b[0m\u001b[0m\n\u001b[0m\u001b[1;32m      4\u001b[0m         \u001b[0;32mcontinue\u001b[0m\u001b[0;34m\u001b[0m\u001b[0;34m\u001b[0m\u001b[0m\n\u001b[1;32m      5\u001b[0m     \u001b[0;32mif\u001b[0m \u001b[0mlinea\u001b[0m \u001b[0;34m==\u001b[0m \u001b[0;34m'fin'\u001b[0m\u001b[0;34m:\u001b[0m\u001b[0;34m\u001b[0m\u001b[0;34m\u001b[0m\u001b[0m\n",
      "\u001b[0;31mIndexError\u001b[0m: string index out of range"
     ]
    }
   ],
   "source": [
    "#Falla cuando ingresa una linea vacia en el programa\n",
    "while True:\n",
    "    linea = input('> ')\n",
    "    if linea[0] == '#' :\n",
    "        continue\n",
    "    if linea == 'fin':\n",
    "        break\n",
    "    print(linea)\n",
    "print('¡Terminado!')"
   ]
  },
  {
   "cell_type": "code",
   "execution_count": 105,
   "id": "0d1b1270",
   "metadata": {},
   "outputs": [
    {
     "name": "stdout",
     "output_type": "stream",
     "text": [
      "> \n",
      "\n",
      "> dsf\n",
      "dsf\n",
      "> dsf\n",
      "dsf\n",
      "> #\n",
      "> dsf\n",
      "dsf\n",
      "> fin\n",
      "¡Terminado!\n"
     ]
    }
   ],
   "source": [
    "#Falla cuando ingresa una linea vacia en el programa\n",
    "while True:\n",
    "    linea = input('> ')\n",
    "    #Esta linea devuelve False si la cadena esta vacia, entonces no falla el sistema\n",
    "    if linea.startswith('#'):\n",
    "        continue\n",
    "    if linea == 'fin':\n",
    "        break\n",
    "    print(linea)\n",
    "print('¡Terminado!')"
   ]
  },
  {
   "cell_type": "code",
   "execution_count": 106,
   "id": "95549c2e",
   "metadata": {},
   "outputs": [
    {
     "name": "stdout",
     "output_type": "stream",
     "text": [
      "> \n",
      "\n",
      "> \n",
      "\n",
      "> df\n",
      "df\n",
      "> dsf\n",
      "dsf\n",
      "> fin\n",
      "¡Terminado!\n"
     ]
    }
   ],
   "source": [
    "#Falla cuando ingresa una linea vacia en el programa\n",
    "while True:\n",
    "    linea = input('> ')\n",
    "    #PAtron guardian\n",
    "    if len(linea) > 0 and linea[0] == '#':\n",
    "        continue\n",
    "    if linea == 'fin':\n",
    "        break\n",
    "    print(linea)\n",
    "print('¡Terminado!')"
   ]
  },
  {
   "cell_type": "code",
   "execution_count": 113,
   "id": "e9bb59d1",
   "metadata": {},
   "outputs": [
    {
     "name": "stdout",
     "output_type": "stream",
     "text": [
      "18\n",
      "0.8475\n",
      "2.5425\n"
     ]
    }
   ],
   "source": [
    "# Ejercicio 5: Toma el siguiente código en Python que almacena una cadena:\n",
    "# Utiliza find y una parte de la cadena para extraer la porción de la cadena\n",
    "# después del carácter dos puntos y después utiliza la función float para\n",
    "# convertir la cadena extraída en un número de punto flotante.\n",
    "str = 'X-DSPAM-Confidence:0.8475'\n",
    "filtro=str.find(':')\n",
    "print(filtro)\n",
    "mensaje=str[filtro+1:]\n",
    "#Convertir a flotante\n",
    "message=float(mensaje)\n",
    "print(message)\n",
    "x=message*3\n",
    "print(x)\n"
   ]
  },
  {
   "cell_type": "code",
   "execution_count": 114,
   "id": "b732a2eb",
   "metadata": {},
   "outputs": [
    {
     "data": {
      "text/plain": [
       "'spacious'"
      ]
     },
     "execution_count": 114,
     "metadata": {},
     "output_type": "execute_result"
    }
   ],
   "source": [
    "'   spacious   '.strip()\n"
   ]
  },
  {
   "cell_type": "code",
   "execution_count": 122,
   "id": "e8026b50",
   "metadata": {},
   "outputs": [
    {
     "data": {
      "text/plain": [
       "'example'"
      ]
     },
     "execution_count": 122,
     "metadata": {},
     "output_type": "execute_result"
    }
   ],
   "source": [
    "'www.example.com'.strip('cmowz.')\n"
   ]
  },
  {
   "cell_type": "code",
   "execution_count": 4,
   "id": "e0493723",
   "metadata": {},
   "outputs": [
    {
     "name": "stdout",
     "output_type": "stream",
     "text": [
      "Hola\n",
      "Mundo!\n",
      "11\n"
     ]
    }
   ],
   "source": [
    "#Salto de linea caracteres el salto de linea se considera un caracter\n",
    "cosa = 'Hola\\nMundo!'\n",
    "print(cosa)\n",
    "print(len(cosa))"
   ]
  },
  {
   "cell_type": "code",
   "execution_count": 5,
   "id": "350968e3",
   "metadata": {},
   "outputs": [
    {
     "name": "stdout",
     "output_type": "stream",
     "text": [
      "1 2\t 3\n",
      " 4\n"
     ]
    }
   ],
   "source": [
    "# Estos errores pueden ser difíciles de depurar debido a que los espacios, tabuladores, y saltos de línea son invisibles normalmente\n",
    "s = '1 2\\t 3\\n 4'\n",
    "print(s)"
   ]
  },
  {
   "cell_type": "code",
   "execution_count": 6,
   "id": "8c9a8582",
   "metadata": {},
   "outputs": [
    {
     "name": "stdout",
     "output_type": "stream",
     "text": [
      "'1 2\\t 3\\n 4'\n"
     ]
    }
   ],
   "source": [
    "# La función nativa repr puede ayudarte. Recibe cualquier objeto como argumento\n",
    "# y devuelve una representación del objeto como una cadena. En el caso de las\n",
    "# cadenas, representa los espacios en blanco con secuencias de barras invertidas:\n",
    "print(repr(s))"
   ]
  }
 ],
 "metadata": {
  "kernelspec": {
   "display_name": "Python 3",
   "language": "python",
   "name": "python3"
  },
  "language_info": {
   "codemirror_mode": {
    "name": "ipython",
    "version": 3
   },
   "file_extension": ".py",
   "mimetype": "text/x-python",
   "name": "python",
   "nbconvert_exporter": "python",
   "pygments_lexer": "ipython3",
   "version": "3.9.1"
  }
 },
 "nbformat": 4,
 "nbformat_minor": 5
}
