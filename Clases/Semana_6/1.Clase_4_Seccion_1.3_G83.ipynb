{
 "cells": [
  {
   "cell_type": "code",
   "execution_count": 1,
   "id": "f83fbc9a",
   "metadata": {},
   "outputs": [
    {
     "name": "stdout",
     "output_type": "stream",
     "text": [
      "Esta bien, bananas\n"
     ]
    }
   ],
   "source": [
    "palabra='Banana'\n",
    "if palabra=='banana':\n",
    "    print(\"Esta bien, bananas\")\n",
    "else:\n",
    "    print(\"Error\")"
   ]
  },
  {
   "cell_type": "code",
   "execution_count": 2,
   "id": "12b869f7",
   "metadata": {},
   "outputs": [
    {
     "name": "stdout",
     "output_type": "stream",
     "text": [
      "10\n",
      "Hola\n"
     ]
    }
   ],
   "source": [
    "var=10\n",
    "VAR='Hola'\n",
    "print(var)\n",
    "print(VAR)"
   ]
  },
  {
   "cell_type": "markdown",
   "id": "9553afa2",
   "metadata": {},
   "source": [
    "ABCDE----XYZ, abcde......xyz"
   ]
  },
  {
   "cell_type": "code",
   "execution_count": 7,
   "id": "f9e19bc9",
   "metadata": {},
   "outputs": [
    {
     "name": "stdout",
     "output_type": "stream",
     "text": [
      "Tu palabra canana, viene despues que banana\n"
     ]
    }
   ],
   "source": [
    "palabra='canana'\n",
    "if palabra<'banana':\n",
    "    print(\"Tu palabra \"+palabra+\", viene antes que banana\")\n",
    "elif palabra>'banana':\n",
    "    print(\"Tu palabra \"+palabra+\", viene despues que banana\")\n",
    "else:\n",
    "    print(\"Esta bien, banana\")"
   ]
  },
  {
   "cell_type": "code",
   "execution_count": 10,
   "id": "73928f13",
   "metadata": {},
   "outputs": [
    {
     "name": "stdout",
     "output_type": "stream",
     "text": [
      "<class 'str'>\n",
      "<class 'int'>\n",
      "<class 'float'>\n"
     ]
    }
   ],
   "source": [
    "variable=\"Hola\"\n",
    "print(type(variable))\n",
    "entero=20\n",
    "print(type(entero))\n",
    "flotante=29.3\n",
    "print(type(flotante))"
   ]
  },
  {
   "cell_type": "code",
   "execution_count": 12,
   "id": "ca4dc64a",
   "metadata": {},
   "outputs": [
    {
     "data": {
      "text/plain": [
       "['__abs__',\n",
       " '__add__',\n",
       " '__and__',\n",
       " '__bool__',\n",
       " '__ceil__',\n",
       " '__class__',\n",
       " '__delattr__',\n",
       " '__dir__',\n",
       " '__divmod__',\n",
       " '__doc__',\n",
       " '__eq__',\n",
       " '__float__',\n",
       " '__floor__',\n",
       " '__floordiv__',\n",
       " '__format__',\n",
       " '__ge__',\n",
       " '__getattribute__',\n",
       " '__getnewargs__',\n",
       " '__gt__',\n",
       " '__hash__',\n",
       " '__index__',\n",
       " '__init__',\n",
       " '__init_subclass__',\n",
       " '__int__',\n",
       " '__invert__',\n",
       " '__le__',\n",
       " '__lshift__',\n",
       " '__lt__',\n",
       " '__mod__',\n",
       " '__mul__',\n",
       " '__ne__',\n",
       " '__neg__',\n",
       " '__new__',\n",
       " '__or__',\n",
       " '__pos__',\n",
       " '__pow__',\n",
       " '__radd__',\n",
       " '__rand__',\n",
       " '__rdivmod__',\n",
       " '__reduce__',\n",
       " '__reduce_ex__',\n",
       " '__repr__',\n",
       " '__rfloordiv__',\n",
       " '__rlshift__',\n",
       " '__rmod__',\n",
       " '__rmul__',\n",
       " '__ror__',\n",
       " '__round__',\n",
       " '__rpow__',\n",
       " '__rrshift__',\n",
       " '__rshift__',\n",
       " '__rsub__',\n",
       " '__rtruediv__',\n",
       " '__rxor__',\n",
       " '__setattr__',\n",
       " '__sizeof__',\n",
       " '__str__',\n",
       " '__sub__',\n",
       " '__subclasshook__',\n",
       " '__truediv__',\n",
       " '__trunc__',\n",
       " '__xor__',\n",
       " 'as_integer_ratio',\n",
       " 'bit_length',\n",
       " 'conjugate',\n",
       " 'denominator',\n",
       " 'from_bytes',\n",
       " 'imag',\n",
       " 'numerator',\n",
       " 'real',\n",
       " 'to_bytes']"
      ]
     },
     "execution_count": 12,
     "metadata": {},
     "output_type": "execute_result"
    }
   ],
   "source": [
    "dir(entero)"
   ]
  },
  {
   "cell_type": "code",
   "execution_count": 13,
   "id": "8738ace0",
   "metadata": {},
   "outputs": [
    {
     "data": {
      "text/plain": [
       "['__abs__',\n",
       " '__add__',\n",
       " '__bool__',\n",
       " '__ceil__',\n",
       " '__class__',\n",
       " '__delattr__',\n",
       " '__dir__',\n",
       " '__divmod__',\n",
       " '__doc__',\n",
       " '__eq__',\n",
       " '__float__',\n",
       " '__floor__',\n",
       " '__floordiv__',\n",
       " '__format__',\n",
       " '__ge__',\n",
       " '__getattribute__',\n",
       " '__getformat__',\n",
       " '__getnewargs__',\n",
       " '__gt__',\n",
       " '__hash__',\n",
       " '__init__',\n",
       " '__init_subclass__',\n",
       " '__int__',\n",
       " '__le__',\n",
       " '__lt__',\n",
       " '__mod__',\n",
       " '__mul__',\n",
       " '__ne__',\n",
       " '__neg__',\n",
       " '__new__',\n",
       " '__pos__',\n",
       " '__pow__',\n",
       " '__radd__',\n",
       " '__rdivmod__',\n",
       " '__reduce__',\n",
       " '__reduce_ex__',\n",
       " '__repr__',\n",
       " '__rfloordiv__',\n",
       " '__rmod__',\n",
       " '__rmul__',\n",
       " '__round__',\n",
       " '__rpow__',\n",
       " '__rsub__',\n",
       " '__rtruediv__',\n",
       " '__set_format__',\n",
       " '__setattr__',\n",
       " '__sizeof__',\n",
       " '__str__',\n",
       " '__sub__',\n",
       " '__subclasshook__',\n",
       " '__truediv__',\n",
       " '__trunc__',\n",
       " 'as_integer_ratio',\n",
       " 'conjugate',\n",
       " 'fromhex',\n",
       " 'hex',\n",
       " 'imag',\n",
       " 'is_integer',\n",
       " 'real']"
      ]
     },
     "execution_count": 13,
     "metadata": {},
     "output_type": "execute_result"
    }
   ],
   "source": [
    "dir(flotante)"
   ]
  },
  {
   "cell_type": "code",
   "execution_count": 11,
   "id": "10883161",
   "metadata": {
    "scrolled": true
   },
   "outputs": [
    {
     "data": {
      "text/plain": [
       "['__add__',\n",
       " '__class__',\n",
       " '__contains__',\n",
       " '__delattr__',\n",
       " '__dir__',\n",
       " '__doc__',\n",
       " '__eq__',\n",
       " '__format__',\n",
       " '__ge__',\n",
       " '__getattribute__',\n",
       " '__getitem__',\n",
       " '__getnewargs__',\n",
       " '__gt__',\n",
       " '__hash__',\n",
       " '__init__',\n",
       " '__init_subclass__',\n",
       " '__iter__',\n",
       " '__le__',\n",
       " '__len__',\n",
       " '__lt__',\n",
       " '__mod__',\n",
       " '__mul__',\n",
       " '__ne__',\n",
       " '__new__',\n",
       " '__reduce__',\n",
       " '__reduce_ex__',\n",
       " '__repr__',\n",
       " '__rmod__',\n",
       " '__rmul__',\n",
       " '__setattr__',\n",
       " '__sizeof__',\n",
       " '__str__',\n",
       " '__subclasshook__',\n",
       " 'capitalize',\n",
       " 'casefold',\n",
       " 'center',\n",
       " 'count',\n",
       " 'encode',\n",
       " 'endswith',\n",
       " 'expandtabs',\n",
       " 'find',\n",
       " 'format',\n",
       " 'format_map',\n",
       " 'index',\n",
       " 'isalnum',\n",
       " 'isalpha',\n",
       " 'isascii',\n",
       " 'isdecimal',\n",
       " 'isdigit',\n",
       " 'isidentifier',\n",
       " 'islower',\n",
       " 'isnumeric',\n",
       " 'isprintable',\n",
       " 'isspace',\n",
       " 'istitle',\n",
       " 'isupper',\n",
       " 'join',\n",
       " 'ljust',\n",
       " 'lower',\n",
       " 'lstrip',\n",
       " 'maketrans',\n",
       " 'partition',\n",
       " 'removeprefix',\n",
       " 'removesuffix',\n",
       " 'replace',\n",
       " 'rfind',\n",
       " 'rindex',\n",
       " 'rjust',\n",
       " 'rpartition',\n",
       " 'rsplit',\n",
       " 'rstrip',\n",
       " 'split',\n",
       " 'splitlines',\n",
       " 'startswith',\n",
       " 'strip',\n",
       " 'swapcase',\n",
       " 'title',\n",
       " 'translate',\n",
       " 'upper',\n",
       " 'zfill']"
      ]
     },
     "execution_count": 11,
     "metadata": {},
     "output_type": "execute_result"
    }
   ],
   "source": [
    "dir(variable)\n"
   ]
  },
  {
   "cell_type": "code",
   "execution_count": 14,
   "id": "16824113",
   "metadata": {},
   "outputs": [
    {
     "name": "stdout",
     "output_type": "stream",
     "text": [
      "HOLA MUNDO\n"
     ]
    }
   ],
   "source": [
    "palabra=\"Hola mundo\"\n",
    "palabra_nueva=palabra.upper()\n",
    "print(palabra_nueva)"
   ]
  },
  {
   "cell_type": "code",
   "execution_count": 15,
   "id": "62e0fbe5",
   "metadata": {},
   "outputs": [
    {
     "name": "stdout",
     "output_type": "stream",
     "text": [
      "hola mundo\n"
     ]
    }
   ],
   "source": [
    "palabra=\"HOLA MUNDO\"\n",
    "palabra_nueva=palabra.lower()\n",
    "print(palabra_nueva)"
   ]
  },
  {
   "cell_type": "code",
   "execution_count": 16,
   "id": "5d85f43b",
   "metadata": {},
   "outputs": [
    {
     "name": "stdout",
     "output_type": "stream",
     "text": [
      "1\n"
     ]
    }
   ],
   "source": [
    "#METODO FIND\n",
    "palabra='banana'\n",
    "index=palabra.find('a')\n",
    "print(index)"
   ]
  },
  {
   "cell_type": "code",
   "execution_count": 17,
   "id": "a1dffc12",
   "metadata": {},
   "outputs": [
    {
     "name": "stdout",
     "output_type": "stream",
     "text": [
      "2\n"
     ]
    }
   ],
   "source": [
    "#METODO FIND\n",
    "palabra='banana'\n",
    "index=palabra.find('na')\n",
    "print(index)"
   ]
  },
  {
   "cell_type": "code",
   "execution_count": 18,
   "id": "aa0004cf",
   "metadata": {},
   "outputs": [
    {
     "name": "stdout",
     "output_type": "stream",
     "text": [
      "5\n"
     ]
    }
   ],
   "source": [
    "#METODO FIND\n",
    "palabra='Hola mundo'\n",
    "index=palabra.find('mundo')\n",
    "print(index)"
   ]
  },
  {
   "cell_type": "code",
   "execution_count": 19,
   "id": "1873363e",
   "metadata": {},
   "outputs": [
    {
     "name": "stdout",
     "output_type": "stream",
     "text": [
      "-1\n"
     ]
    }
   ],
   "source": [
    "#METODO FIND\n",
    "palabra='Hola mundo'\n",
    "index=palabra.find('paz')\n",
    "print(index)"
   ]
  },
  {
   "cell_type": "code",
   "execution_count": 20,
   "id": "647c496b",
   "metadata": {},
   "outputs": [
    {
     "data": {
      "text/plain": [
       "'Hola mundo'"
      ]
     },
     "execution_count": 20,
     "metadata": {},
     "output_type": "execute_result"
    }
   ],
   "source": [
    "linea=\"  Hola mundo  \"\n",
    "linea.strip()"
   ]
  },
  {
   "cell_type": "code",
   "execution_count": 21,
   "id": "9182c659",
   "metadata": {},
   "outputs": [
    {
     "data": {
      "text/plain": [
       "'  Hola mundo'"
      ]
     },
     "execution_count": 21,
     "metadata": {},
     "output_type": "execute_result"
    }
   ],
   "source": [
    "linea=\"  Hola mundo  \"\n",
    "linea.rstrip()"
   ]
  },
  {
   "cell_type": "code",
   "execution_count": 22,
   "id": "6d140fdf",
   "metadata": {},
   "outputs": [
    {
     "data": {
      "text/plain": [
       "'  Hola mundo'"
      ]
     },
     "execution_count": 22,
     "metadata": {},
     "output_type": "execute_result"
    }
   ],
   "source": [
    "linea=\"  Hola mundo \\n\"\n",
    "linea.rstrip()"
   ]
  },
  {
   "cell_type": "code",
   "execution_count": 26,
   "id": "a6ab8ca8",
   "metadata": {},
   "outputs": [
    {
     "name": "stdout",
     "output_type": "stream",
     "text": [
      "Adios\n"
     ]
    }
   ],
   "source": [
    "#Metodo startswith\n",
    "linea='Que tengas un buen dia'\n",
    "linea.startswith('que')\n",
    "if linea.startswith('que'):\n",
    "    print(\"Bienvenido\")\n",
    "else:\n",
    "    print(\"Adios\")"
   ]
  },
  {
   "cell_type": "code",
   "execution_count": 28,
   "id": "6fff3db2",
   "metadata": {},
   "outputs": [
    {
     "name": "stdout",
     "output_type": "stream",
     "text": [
      "que tengas un buen dia\n",
      "True\n",
      "Bienvenido\n"
     ]
    }
   ],
   "source": [
    "#Metodo startswith, metodo lower\n",
    "linea='Que tengas un buen dia'\n",
    "print(linea.lower())\n",
    "print(linea.lower().startswith('que'))\n",
    "if linea.lower().startswith('que'):\n",
    "    print(\"Bienvenido\")\n",
    "else:\n",
    "    print(\"Adios\")"
   ]
  },
  {
   "cell_type": "code",
   "execution_count": 29,
   "id": "81863ac9",
   "metadata": {},
   "outputs": [
    {
     "name": "stdout",
     "output_type": "stream",
     "text": [
      "QUE TENGAS UN BUEN DIA\n",
      "True\n",
      "Bienvenido\n"
     ]
    }
   ],
   "source": [
    "#Metodo startswith, metodo lower\n",
    "linea='Que tengas un buen dia'\n",
    "print(linea.upper())\n",
    "print(linea.upper().startswith('QUE'))\n",
    "if linea.upper().startswith('QUE'):\n",
    "    print(\"Bienvenido\")\n",
    "else:\n",
    "    print(\"Adios\")"
   ]
  },
  {
   "cell_type": "code",
   "execution_count": 36,
   "id": "cb9f463b",
   "metadata": {},
   "outputs": [
    {
     "data": {
      "text/plain": [
       "'mundo'"
      ]
     },
     "execution_count": 36,
     "metadata": {},
     "output_type": "execute_result"
    }
   ],
   "source": [
    "cad1=\"Hola mundo\"\n",
    "#El primer indice indica desde donde quiero realizar la rebanada, es decir el valor de la posicion es incluido\n",
    "#El segundo indice, hasta donde va la rebanada, este indice no es incluido\n",
    "cad1[5:]"
   ]
  },
  {
   "cell_type": "code",
   "execution_count": 37,
   "id": "0ba8b32f",
   "metadata": {},
   "outputs": [
    {
     "data": {
      "text/plain": [
       "'mundo, bienvenidos al curso de programacion'"
      ]
     },
     "execution_count": 37,
     "metadata": {},
     "output_type": "execute_result"
    }
   ],
   "source": [
    "cad1=\"Hola mundo, bienvenidos al curso de programacion\"\n",
    "#El primer indice indica desde donde quiero realizar la rebanada, es decir el valor de la posicion es incluido\n",
    "#El segundo indice, hasta donde va la rebanada, este indice no es incluido\n",
    "cad1[5:]"
   ]
  },
  {
   "cell_type": "code",
   "execution_count": 38,
   "id": "4a3a1aa7",
   "metadata": {},
   "outputs": [
    {
     "data": {
      "text/plain": [
       "'mundo'"
      ]
     },
     "execution_count": 38,
     "metadata": {},
     "output_type": "execute_result"
    }
   ],
   "source": [
    "cad1=\"Hola mundo, bienvenidos al curso de programacion\"\n",
    "#El primer indice indica desde donde quiero realizar la rebanada, es decir el valor de la posicion es incluido\n",
    "#El segundo indice, hasta donde va la rebanada, este indice no es incluido\n",
    "cad1[5:10]"
   ]
  },
  {
   "cell_type": "code",
   "execution_count": 39,
   "id": "f0948b05",
   "metadata": {},
   "outputs": [
    {
     "data": {
      "text/plain": [
       "10"
      ]
     },
     "execution_count": 39,
     "metadata": {},
     "output_type": "execute_result"
    }
   ],
   "source": [
    "cad1.find(',')"
   ]
  },
  {
   "cell_type": "code",
   "execution_count": 40,
   "id": "68104601",
   "metadata": {},
   "outputs": [
    {
     "name": "stdout",
     "output_type": "stream",
     "text": [
      "19\n"
     ]
    }
   ],
   "source": [
    "data='De stephen.marquard@uct.ac.za Sat Jan 5 09:14:16 2008'\n",
    "posicion=data.find('@')\n",
    "print(posicion)"
   ]
  },
  {
   "cell_type": "code",
   "execution_count": 41,
   "id": "29f8042e",
   "metadata": {},
   "outputs": [
    {
     "name": "stdout",
     "output_type": "stream",
     "text": [
      "29\n"
     ]
    }
   ],
   "source": [
    "data='De stephen.marquard@uct.ac.za Sat Jan 5 09:14:16 2008'\n",
    "espacio_posicion=data.find(' ',posicion)\n",
    "print(espacio_posicion)"
   ]
  },
  {
   "cell_type": "code",
   "execution_count": 42,
   "id": "034be9d6",
   "metadata": {
    "scrolled": true
   },
   "outputs": [
    {
     "data": {
      "text/plain": [
       "'uct.ac.za'"
      ]
     },
     "execution_count": 42,
     "metadata": {},
     "output_type": "execute_result"
    }
   ],
   "source": [
    "data[posicion+1:espacio_posicion]"
   ]
  },
  {
   "cell_type": "code",
   "execution_count": 43,
   "id": "0ea13589",
   "metadata": {},
   "outputs": [
    {
     "data": {
      "text/plain": [
       "'42'"
      ]
     },
     "execution_count": 43,
     "metadata": {},
     "output_type": "execute_result"
    }
   ],
   "source": [
    "camello=42\n",
    "'%d' %camello"
   ]
  },
  {
   "cell_type": "code",
   "execution_count": 44,
   "id": "3805c2df",
   "metadata": {},
   "outputs": [
    {
     "data": {
      "text/plain": [
       "'He visto 42 camellos'"
      ]
     },
     "execution_count": 44,
     "metadata": {},
     "output_type": "execute_result"
    }
   ],
   "source": [
    "camello=42\n",
    "'He visto %d camellos' %camello"
   ]
  },
  {
   "cell_type": "code",
   "execution_count": 46,
   "id": "a5d8ac44",
   "metadata": {},
   "outputs": [
    {
     "data": {
      "text/plain": [
       "'He visto 42.600000 camellos'"
      ]
     },
     "execution_count": 46,
     "metadata": {},
     "output_type": "execute_result"
    }
   ],
   "source": [
    "camello=42.6\n",
    "'He visto %f camellos' %camello"
   ]
  },
  {
   "cell_type": "code",
   "execution_count": 52,
   "id": "da8e79f9",
   "metadata": {},
   "outputs": [
    {
     "name": "stdout",
     "output_type": "stream",
     "text": [
      "Hola\n",
      "Mundo \tHola\n"
     ]
    }
   ],
   "source": [
    "cad1=\"Hola\\nMundo \\tHola\"\n",
    "print(cad1)"
   ]
  },
  {
   "cell_type": "code",
   "execution_count": 51,
   "id": "4763f052",
   "metadata": {},
   "outputs": [
    {
     "name": "stdout",
     "output_type": "stream",
     "text": [
      "Hola\\nMundo \\tHola\n"
     ]
    }
   ],
   "source": [
    "cad1=r\"Hola\\nMundo \\tHola\"\n",
    "print(cad1)"
   ]
  },
  {
   "cell_type": "code",
   "execution_count": 55,
   "id": "e6853277",
   "metadata": {},
   "outputs": [
    {
     "name": "stdout",
     "output_type": "stream",
     "text": [
      "4\n",
      "1\n",
      "3\n"
     ]
    }
   ],
   "source": [
    "cadena='un uno, un dos, un tres'\n",
    "print(cadena.count('un'))\n",
    "print(cadena.count('un',10))\n",
    "print(cadena.count('un',0,10))"
   ]
  },
  {
   "cell_type": "code",
   "execution_count": 56,
   "id": "845031c7",
   "metadata": {},
   "outputs": [
    {
     "name": "stdout",
     "output_type": "stream",
     "text": [
      "u\n",
      "n\n",
      " \n",
      "u\n",
      "n\n",
      "o\n",
      ",\n",
      " \n",
      "u\n",
      "n\n",
      " \n",
      "d\n",
      "o\n",
      "s\n",
      ",\n",
      " \n",
      "u\n",
      "n\n",
      " \n",
      "t\n",
      "r\n",
      "e\n",
      "s\n"
     ]
    }
   ],
   "source": [
    "cadena='un uno, un dos, un tres'\n",
    "for i in cadena:\n",
    "    print(i)"
   ]
  },
  {
   "cell_type": "code",
   "execution_count": 58,
   "id": "7b099634",
   "metadata": {},
   "outputs": [
    {
     "name": "stdout",
     "output_type": "stream",
     "text": [
      "0 u\n",
      "1 n\n",
      "2  \n",
      "3 u\n",
      "4 n\n",
      "5 o\n",
      "6 ,\n",
      "7  \n",
      "8 u\n",
      "9 n\n",
      "10  \n",
      "11 d\n",
      "12 o\n",
      "13 s\n",
      "14 ,\n",
      "15  \n",
      "16 u\n",
      "17 n\n",
      "18  \n",
      "19 t\n",
      "20 r\n",
      "21 e\n",
      "22 s\n"
     ]
    }
   ],
   "source": [
    "cadena='un uno, un dos, un tres'\n",
    "for i in range(len(cadena)):\n",
    "    print(i, cadena[i])"
   ]
  },
  {
   "cell_type": "code",
   "execution_count": 60,
   "id": "d9ed0fab",
   "metadata": {},
   "outputs": [
    {
     "name": "stdout",
     "output_type": "stream",
     "text": [
      "['un', 'uno,', 'un', 'dos,', 'un', 'tres']\n",
      "0 u\n",
      "1 n\n",
      "2  \n",
      "3 u\n",
      "4 n\n",
      "5 o\n"
     ]
    }
   ],
   "source": [
    "cadena='un uno, un dos, un tres'\n",
    "cadena1=cadena.split()\n",
    "print(cadena1)\n",
    "for i in range(len(cadena1)):\n",
    "    print(i, cadena[i])"
   ]
  },
  {
   "cell_type": "code",
   "execution_count": 63,
   "id": "64ad06bb",
   "metadata": {},
   "outputs": [
    {
     "name": "stdout",
     "output_type": "stream",
     "text": [
      "0 un\n",
      "1 uno,\n",
      "2 un\n",
      "3 dos,\n",
      "4 un\n",
      "5 tres\n",
      "La palabra 'un' se repitio 3 veces\n"
     ]
    }
   ],
   "source": [
    "cont=0\n",
    "for i,valor in enumerate(cadena1):\n",
    "    print(i, valor)\n",
    "    if valor=='un':\n",
    "        cont+=1\n",
    "    \n",
    "print(\"La palabra 'un' se repitio {} veces\".format(cont))"
   ]
  },
  {
   "cell_type": "code",
   "execution_count": 65,
   "id": "d673b905",
   "metadata": {},
   "outputs": [
    {
     "name": "stdout",
     "output_type": "stream",
     "text": [
      "xxx xxxo, xxx dos, xxx tres\n",
      "xxx xxxo, un dos, un tres\n"
     ]
    }
   ],
   "source": [
    "cadena='un uno, un dos, un tres'\n",
    "print(cadena.replace('un','xxx'))\n",
    "print(cadena.replace('un','xxx',2))"
   ]
  },
  {
   "cell_type": "code",
   "execution_count": 66,
   "id": "5fe12957",
   "metadata": {},
   "outputs": [
    {
     "name": "stdout",
     "output_type": "stream",
     "text": [
      "El valor es: 12\n"
     ]
    }
   ],
   "source": [
    "#Metodo Format\n",
    "print(\"El valor es: {}\".format(12))"
   ]
  },
  {
   "cell_type": "code",
   "execution_count": 67,
   "id": "e9bc6109",
   "metadata": {
    "scrolled": true
   },
   "outputs": [
    {
     "name": "stdout",
     "output_type": "stream",
     "text": [
      "El valor es: 12\n"
     ]
    }
   ],
   "source": [
    "#Metodo Format\n",
    "v1=12\n",
    "print(\"El valor es: {}\".format(v1))"
   ]
  },
  {
   "cell_type": "code",
   "execution_count": 68,
   "id": "94b14712",
   "metadata": {},
   "outputs": [
    {
     "name": "stdout",
     "output_type": "stream",
     "text": [
      "El valor es: 12.455\n"
     ]
    }
   ],
   "source": [
    "#Metodo Format\n",
    "v1=12.455\n",
    "print(\"El valor es: {}\".format(v1))"
   ]
  },
  {
   "cell_type": "code",
   "execution_count": 71,
   "id": "7b445c4f",
   "metadata": {},
   "outputs": [
    {
     "name": "stdout",
     "output_type": "stream",
     "text": [
      "Los valores son: 12, 23 y 34.5\n"
     ]
    }
   ],
   "source": [
    "#Metodo Format\n",
    "v1=12\n",
    "v2=23\n",
    "v3=34.5\n",
    "print(\"Los valores son: {}, {} y {}\".format(v1,v2,v3))"
   ]
  },
  {
   "cell_type": "code",
   "execution_count": 72,
   "id": "6e96815e",
   "metadata": {},
   "outputs": [
    {
     "name": "stdout",
     "output_type": "stream",
     "text": [
      "Los valores son: 34.5, 23 y 12\n"
     ]
    }
   ],
   "source": [
    "#Metodo Format\n",
    "v1=12\n",
    "v2=23\n",
    "v3=34.5\n",
    "print(\"Los valores son: {2}, {1} y {0}\".format(v1,v2,v3))"
   ]
  },
  {
   "cell_type": "code",
   "execution_count": 73,
   "id": "106f0449",
   "metadata": {},
   "outputs": [
    {
     "name": "stdout",
     "output_type": "stream",
     "text": [
      "Los valores son: 12, 23 y 34.5\n"
     ]
    }
   ],
   "source": [
    "#Metodo Format\n",
    "a=12\n",
    "b=23\n",
    "c=34.5\n",
    "print(\"Los valores son: {v1}, {v2} y {v3}\".format(v1=a,v2=b,v3=c))"
   ]
  },
  {
   "cell_type": "code",
   "execution_count": 76,
   "id": "ce844be2",
   "metadata": {},
   "outputs": [
    {
     "name": "stdout",
     "output_type": "stream",
     "text": [
      "Los valores son: 12\n"
     ]
    }
   ],
   "source": [
    "#Metodo Format\n",
    "a=12\n",
    "\n",
    "print(\"Los valores son: %d\" %a)"
   ]
  },
  {
   "cell_type": "code",
   "execution_count": 77,
   "id": "2ec88be0",
   "metadata": {},
   "outputs": [
    {
     "name": "stdout",
     "output_type": "stream",
     "text": [
      "Los valores son:  12 , 23  y  34.5\n"
     ]
    }
   ],
   "source": [
    "a=12\n",
    "b=23\n",
    "c=34.5\n",
    "print(\"Los valores son: \",a,\",\",b,\" y \",c)"
   ]
  },
  {
   "cell_type": "code",
   "execution_count": 80,
   "id": "ba598639",
   "metadata": {},
   "outputs": [
    {
     "name": "stdout",
     "output_type": "stream",
     "text": [
      "Los valores son: 12, 23 y 34.5\n"
     ]
    }
   ],
   "source": [
    "a=12\n",
    "b=23\n",
    "c=34.5\n",
    "print(\"Los valores son: \"+str(a)+\", \"+str(b)+\" y \"+str(c))"
   ]
  },
  {
   "cell_type": "code",
   "execution_count": 82,
   "id": "050fb2e7",
   "metadata": {},
   "outputs": [
    {
     "name": "stdout",
     "output_type": "stream",
     "text": [
      "Hola mundo\n"
     ]
    }
   ],
   "source": [
    "#Metodo concatenar\n",
    "mensaje1='Hola'+' '+'mundo'\n",
    "print(mensaje1)"
   ]
  },
  {
   "cell_type": "code",
   "execution_count": 83,
   "id": "e85e12f7",
   "metadata": {},
   "outputs": [
    {
     "name": "stdout",
     "output_type": "stream",
     "text": [
      "Hola Hola Hola mundo\n"
     ]
    }
   ],
   "source": [
    "mensaje1='Hola '*3\n",
    "mensaje2='mundo'\n",
    "print(mensaje1+mensaje2)"
   ]
  },
  {
   "cell_type": "code",
   "execution_count": 85,
   "id": "90790273",
   "metadata": {},
   "outputs": [
    {
     "name": "stdout",
     "output_type": "stream",
     "text": [
      "'Hola'\n",
      "'Hola '\n",
      "'Hola mundo'\n"
     ]
    }
   ],
   "source": [
    "#EL metodo de añadir en un string\n",
    "mensaje3='Hola'\n",
    "print(\"'\"+mensaje3+\"'\")\n",
    "mensaje3+=' '\n",
    "print(\"'\"+mensaje3+\"'\")\n",
    "mensaje3+='mundo'\n",
    "print(\"'\"+mensaje3+\"'\")"
   ]
  },
  {
   "cell_type": "code",
   "execution_count": 88,
   "id": "e615570d",
   "metadata": {},
   "outputs": [
    {
     "name": "stdout",
     "output_type": "stream",
     "text": [
      "11\n"
     ]
    }
   ],
   "source": [
    "numerica=10\n",
    "numerica+=1\n",
    "print(numerica)"
   ]
  },
  {
   "cell_type": "code",
   "execution_count": 89,
   "id": "6baceeb3",
   "metadata": {},
   "outputs": [
    {
     "name": "stdout",
     "output_type": "stream",
     "text": [
      "9\n"
     ]
    }
   ],
   "source": [
    "numerica=10\n",
    "numerica-=1\n",
    "print(numerica)"
   ]
  },
  {
   "cell_type": "code",
   "execution_count": 90,
   "id": "45b4bc5f",
   "metadata": {},
   "outputs": [
    {
     "name": "stdout",
     "output_type": "stream",
     "text": [
      "20\n"
     ]
    }
   ],
   "source": [
    "numerica=10\n",
    "numerica*=2\n",
    "print(numerica)"
   ]
  },
  {
   "cell_type": "code",
   "execution_count": 91,
   "id": "d72ebc9f",
   "metadata": {},
   "outputs": [
    {
     "name": "stdout",
     "output_type": "stream",
     "text": [
      "5.0\n"
     ]
    }
   ],
   "source": [
    "numerica=10\n",
    "numerica/=2\n",
    "print(numerica)"
   ]
  }
 ],
 "metadata": {
  "kernelspec": {
   "display_name": "Python 3",
   "language": "python",
   "name": "python3"
  },
  "language_info": {
   "codemirror_mode": {
    "name": "ipython",
    "version": 3
   },
   "file_extension": ".py",
   "mimetype": "text/x-python",
   "name": "python",
   "nbconvert_exporter": "python",
   "pygments_lexer": "ipython3",
   "version": "3.9.1"
  }
 },
 "nbformat": 4,
 "nbformat_minor": 5
}
