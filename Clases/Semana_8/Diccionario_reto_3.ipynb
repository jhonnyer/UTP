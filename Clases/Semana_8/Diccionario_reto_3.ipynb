{
 "cells": [
  {
   "cell_type": "code",
   "execution_count": 1,
   "id": "1dff9564",
   "metadata": {},
   "outputs": [
    {
     "name": "stdout",
     "output_type": "stream",
     "text": [
      "{20170136837: {'nombres': 'Jorge Juan', 'apellidos': 'Moreno, Lopez', 'documento': 88481595, 'programa': 'ARQU', 'materias': [{'facultad': 'Arquitectura', 'codigo': 'ARQU-2113', 'nota': 2.97, 'creditos': 2, 'retirada': 'No'}, {'facultad': 'Arquitectura', 'codigo': 'ARQU-5048', 'nota': 4.26, 'creditos': 0, 'retirada': 'No'}]}, 20130225137: {'nombres': 'Sara Carolina', 'apellidos': 'Gómez, Fernández', 'documento': 58770043, 'programa': 'ARQD', 'materias': [{'facultad': 'Arquitectura', 'codigo': 'ARQU-7738', 'nota': 3.36, 'creditos': 3, 'retirada': 'No'}, {'facultad': 'Arquitectura', 'codigo': 'ARQU-7698', 'nota': 1.59, 'creditos': 4, 'retirada': 'Si'}]}}\n"
     ]
    }
   ],
   "source": [
    "info={\n",
    "    20170136837:{\n",
    "        'nombres':'Jorge Juan',\n",
    "        'apellidos':'Moreno, Lopez',\n",
    "        'documento':88481595,\n",
    "        'programa':'ARQU',\n",
    "        'materias':[\n",
    "            {\n",
    "                'facultad':'Arquitectura',\n",
    "                'codigo':'ARQU-2113',\n",
    "                'nota':2.97,\n",
    "                'creditos':2,\n",
    "                'retirada':'No'\n",
    "            },\n",
    "            {\n",
    "                'facultad':'Arquitectura',\n",
    "                'codigo':'ARQU-5048',\n",
    "                'nota':4.26,\n",
    "                'creditos':0,\n",
    "                'retirada':'No'\n",
    "            }\n",
    "        ]\n",
    "        \n",
    "    },\n",
    "    20130225137:{\n",
    "        'nombres':'Sara Carolina',\n",
    "        'apellidos':'Gómez, Fernández',\n",
    "        'documento':58770043,\n",
    "        'programa':'ARQD',\n",
    "        'materias':[\n",
    "            {\n",
    "                'facultad':'Arquitectura',\n",
    "                'codigo':'ARQU-7738',\n",
    "                'nota':3.36,\n",
    "                'creditos':3,\n",
    "                'retirada':'No'\n",
    "            },\n",
    "            {\n",
    "                'facultad':'Arquitectura',\n",
    "                'codigo':'ARQU-7698',\n",
    "                'nota':1.59,\n",
    "                'creditos':4,\n",
    "                'retirada':'Si'\n",
    "            }\n",
    "        ]\n",
    "        \n",
    "    }\n",
    "    \n",
    "}\n",
    "\n",
    "print(info)"
   ]
  }
 ],
 "metadata": {
  "kernelspec": {
   "display_name": "Python 3",
   "language": "python",
   "name": "python3"
  },
  "language_info": {
   "codemirror_mode": {
    "name": "ipython",
    "version": 3
   },
   "file_extension": ".py",
   "mimetype": "text/x-python",
   "name": "python",
   "nbconvert_exporter": "python",
   "pygments_lexer": "ipython3",
   "version": "3.9.1"
  }
 },
 "nbformat": 4,
 "nbformat_minor": 5
}
