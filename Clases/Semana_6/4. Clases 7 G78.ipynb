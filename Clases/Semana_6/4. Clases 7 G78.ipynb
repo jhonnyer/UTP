{
 "cells": [
  {
   "cell_type": "code",
   "execution_count": 1,
   "id": "41bf47a9",
   "metadata": {},
   "outputs": [
    {
     "name": "stdout",
     "output_type": "stream",
     "text": [
      "('a', 'b', 'c', 'd', 'e')\n",
      "<class 'tuple'>\n"
     ]
    }
   ],
   "source": [
    "t='a','b','c','d','e'\n",
    "print(t)\n",
    "print(type(t))"
   ]
  },
  {
   "cell_type": "code",
   "execution_count": 2,
   "id": "b76a39d2",
   "metadata": {},
   "outputs": [
    {
     "name": "stdout",
     "output_type": "stream",
     "text": [
      "('esto es una cadena', 'b', 'c', 'd', '3', 12, 3.45, True, [4, 5])\n"
     ]
    }
   ],
   "source": [
    "t=('esto es una cadena','b','c','d','3',12,3.45,True,[4,5])\n",
    "print(t)"
   ]
  },
  {
   "cell_type": "code",
   "execution_count": 3,
   "id": "4ebf6365",
   "metadata": {},
   "outputs": [
    {
     "data": {
      "text/plain": [
       "'esto es una cadena'"
      ]
     },
     "execution_count": 3,
     "metadata": {},
     "output_type": "execute_result"
    }
   ],
   "source": [
    "t[0]"
   ]
  },
  {
   "cell_type": "code",
   "execution_count": 4,
   "id": "e482a663",
   "metadata": {},
   "outputs": [
    {
     "name": "stdout",
     "output_type": "stream",
     "text": [
      "('a',)\n",
      "<class 'tuple'>\n"
     ]
    }
   ],
   "source": [
    "#Crear tupla con un unico elemento\n",
    "t1=('a',)\n",
    "print(t1)\n",
    "print(type(t1))"
   ]
  },
  {
   "cell_type": "code",
   "execution_count": 5,
   "id": "736647a9",
   "metadata": {},
   "outputs": [
    {
     "name": "stdout",
     "output_type": "stream",
     "text": [
      "a\n",
      "<class 'str'>\n"
     ]
    }
   ],
   "source": [
    "#Forma de no definir una tupla\n",
    "t2=('a')\n",
    "print(t2)\n",
    "print(type(t2))"
   ]
  },
  {
   "cell_type": "code",
   "execution_count": 6,
   "id": "65c64596",
   "metadata": {},
   "outputs": [
    {
     "name": "stdout",
     "output_type": "stream",
     "text": [
      "()\n",
      "<class 'tuple'>\n"
     ]
    }
   ],
   "source": [
    "#Funcion Tuple()\n",
    "t=tuple()\n",
    "print(t)\n",
    "print(type(t))"
   ]
  },
  {
   "cell_type": "code",
   "execution_count": 7,
   "id": "023ba0f9",
   "metadata": {
    "scrolled": true
   },
   "outputs": [
    {
     "name": "stdout",
     "output_type": "stream",
     "text": [
      "('l', 'u', 'p', 'i', 'n', 'e', 's')\n"
     ]
    }
   ],
   "source": [
    "t=tuple('lupines')\n",
    "print(t)"
   ]
  },
  {
   "cell_type": "code",
   "execution_count": 8,
   "id": "6ba06e81",
   "metadata": {},
   "outputs": [
    {
     "name": "stdout",
     "output_type": "stream",
     "text": [
      "(1, 4, 5, 'hola', 1.4)\n"
     ]
    }
   ],
   "source": [
    "t=tuple([1,4,5,'hola',1.4])\n",
    "print(t)"
   ]
  },
  {
   "cell_type": "code",
   "execution_count": 11,
   "id": "ab299342",
   "metadata": {},
   "outputs": [
    {
     "name": "stdout",
     "output_type": "stream",
     "text": [
      "{'clave1': 12, 'clave2': 'hola', 'clave3': 1.34}\n",
      "('clave1', 'clave2', 'clave3')\n"
     ]
    }
   ],
   "source": [
    "diccionario={'clave1':12,'clave2':'hola','clave3':1.34}\n",
    "print(diccionario)\n",
    "t=tuple(diccionario)\n",
    "print(t)"
   ]
  },
  {
   "cell_type": "code",
   "execution_count": 14,
   "id": "85069a43",
   "metadata": {},
   "outputs": [
    {
     "data": {
      "text/plain": [
       "('b', 'c', 'd')"
      ]
     },
     "execution_count": 14,
     "metadata": {},
     "output_type": "execute_result"
    }
   ],
   "source": [
    "#Rebanada o el slicing va tomar en cuenta el primer indice, el segundo indice no lo mostrar\n",
    "t=('esto es una cadena','b','c','d','3')\n",
    "t[1:4]\n"
   ]
  },
  {
   "cell_type": "code",
   "execution_count": 15,
   "id": "ca6e97bd",
   "metadata": {},
   "outputs": [
    {
     "data": {
      "text/plain": [
       "'d'"
      ]
     },
     "execution_count": 15,
     "metadata": {},
     "output_type": "execute_result"
    }
   ],
   "source": [
    "t[3]"
   ]
  },
  {
   "cell_type": "code",
   "execution_count": 17,
   "id": "68666e59",
   "metadata": {},
   "outputs": [
    {
     "ename": "TypeError",
     "evalue": "'tuple' object does not support item assignment",
     "output_type": "error",
     "traceback": [
      "\u001b[0;31m---------------------------------------------------------------------------\u001b[0m",
      "\u001b[0;31mTypeError\u001b[0m                                 Traceback (most recent call last)",
      "\u001b[0;32m<ipython-input-17-9a94445acb67>\u001b[0m in \u001b[0;36m<module>\u001b[0;34m\u001b[0m\n\u001b[1;32m      1\u001b[0m \u001b[0;31m#Tuplas son inmutables,  no se poden modificar\u001b[0m\u001b[0;34m\u001b[0m\u001b[0;34m\u001b[0m\u001b[0;34m\u001b[0m\u001b[0m\n\u001b[0;32m----> 2\u001b[0;31m \u001b[0mt\u001b[0m\u001b[0;34m[\u001b[0m\u001b[0;36m3\u001b[0m\u001b[0;34m]\u001b[0m\u001b[0;34m=\u001b[0m\u001b[0;36m56\u001b[0m\u001b[0;34m\u001b[0m\u001b[0;34m\u001b[0m\u001b[0m\n\u001b[0m",
      "\u001b[0;31mTypeError\u001b[0m: 'tuple' object does not support item assignment"
     ]
    }
   ],
   "source": [
    "#Tuplas son inmutables,  no se poden modificar\n",
    "t[3]=56"
   ]
  },
  {
   "cell_type": "code",
   "execution_count": 19,
   "id": "3b7abfae",
   "metadata": {
    "scrolled": true
   },
   "outputs": [
    {
     "name": "stdout",
     "output_type": "stream",
     "text": [
      "('esto es una cadena', 'b', 'c', 'd', '3')\n",
      "('A', 'b', 'c', 'd', '3')\n"
     ]
    }
   ],
   "source": [
    "#Una tupla no la podemos modificar los valores, pero si podemos\n",
    "#Asignarle una nueva tupla\n",
    "t=('esto es una cadena','b','c','d','3')\n",
    "print(t)\n",
    "t=('A',)+t[1:]\n",
    "print(t)"
   ]
  },
  {
   "cell_type": "code",
   "execution_count": 20,
   "id": "55d7422a",
   "metadata": {},
   "outputs": [
    {
     "data": {
      "text/plain": [
       "True"
      ]
     },
     "execution_count": 20,
     "metadata": {},
     "output_type": "execute_result"
    }
   ],
   "source": [
    "#Comparar tuplas\n",
    "(0,1,2)<(0,3,4)"
   ]
  },
  {
   "cell_type": "code",
   "execution_count": 21,
   "id": "4b4d5901",
   "metadata": {},
   "outputs": [
    {
     "data": {
      "text/plain": [
       "True"
      ]
     },
     "execution_count": 21,
     "metadata": {},
     "output_type": "execute_result"
    }
   ],
   "source": [
    "#Comparar tuplas\n",
    "(0,1,200000)<(0,3,4)"
   ]
  },
  {
   "cell_type": "code",
   "execution_count": 28,
   "id": "78eef551",
   "metadata": {},
   "outputs": [
    {
     "name": "stdout",
     "output_type": "stream",
     "text": [
      "(5, 3, 6, 7, 2, 4, 11, 4, 2, 1)\n",
      "[1, 2, 2, 3, 4, 4, 5, 6, 7, 11]\n",
      "(1, 2, 2, 3, 4, 4, 5, 6, 7, 11)\n"
     ]
    }
   ],
   "source": [
    "#Utilizado el metodo list para convertir una tupla en una lista y posteriormente ordenarla con el metodo sort()\n",
    "tupla=(5,3,6,7,2,4,11,4,2,1)\n",
    "print(tupla)\n",
    "tupla=list(tupla)\n",
    "tupla.sort()\n",
    "print(tupla)\n",
    "tupla=tuple(tupla)\n",
    "print(tupla)"
   ]
  },
  {
   "cell_type": "code",
   "execution_count": 25,
   "id": "b0ed8271",
   "metadata": {
    "scrolled": true
   },
   "outputs": [
    {
     "data": {
      "text/plain": [
       "['__add__',\n",
       " '__class__',\n",
       " '__class_getitem__',\n",
       " '__contains__',\n",
       " '__delattr__',\n",
       " '__dir__',\n",
       " '__doc__',\n",
       " '__eq__',\n",
       " '__format__',\n",
       " '__ge__',\n",
       " '__getattribute__',\n",
       " '__getitem__',\n",
       " '__getnewargs__',\n",
       " '__gt__',\n",
       " '__hash__',\n",
       " '__init__',\n",
       " '__init_subclass__',\n",
       " '__iter__',\n",
       " '__le__',\n",
       " '__len__',\n",
       " '__lt__',\n",
       " '__mul__',\n",
       " '__ne__',\n",
       " '__new__',\n",
       " '__reduce__',\n",
       " '__reduce_ex__',\n",
       " '__repr__',\n",
       " '__rmul__',\n",
       " '__setattr__',\n",
       " '__sizeof__',\n",
       " '__str__',\n",
       " '__subclasshook__',\n",
       " 'count',\n",
       " 'index']"
      ]
     },
     "execution_count": 25,
     "metadata": {},
     "output_type": "execute_result"
    }
   ],
   "source": [
    "dir(tupla)"
   ]
  },
  {
   "cell_type": "code",
   "execution_count": 37,
   "id": "73343dc9",
   "metadata": {},
   "outputs": [
    {
     "name": "stdout",
     "output_type": "stream",
     "text": [
      "['but', 'soft', 'what', 'light', 'in', 'yonder', 'window', 'breaks']\n"
     ]
    }
   ],
   "source": [
    "#Funcion split() que nos permite convertir un texto en una lista\n",
    "#En este caso los elementos separados por un espacio\n",
    "txt=\"but soft what light in yonder window breaks\"\n",
    "palabra=txt.split()\n",
    "print(palabra)"
   ]
  },
  {
   "cell_type": "code",
   "execution_count": 38,
   "id": "a5b93639",
   "metadata": {
    "scrolled": true
   },
   "outputs": [
    {
     "name": "stdout",
     "output_type": "stream",
     "text": [
      "[(3, 'but'), (4, 'soft'), (4, 'what'), (5, 'light'), (2, 'in'), (6, 'yonder'), (6, 'window'), (6, 'breaks')]\n"
     ]
    }
   ],
   "source": [
    "lista=list()\n",
    "for valor in palabra:\n",
    "    lista.append((len(valor),valor))\n",
    "\n",
    "print(lista)"
   ]
  },
  {
   "cell_type": "code",
   "execution_count": 32,
   "id": "c261b625",
   "metadata": {},
   "outputs": [
    {
     "name": "stdout",
     "output_type": "stream",
     "text": [
      "[(6, 'yonder'), (6, 'window'), (6, 'breaks'), (5, 'light'), (4, 'what'), (4, 'soft'), (3, 'but'), (2, 'in')]\n"
     ]
    }
   ],
   "source": [
    "lista.sort(reverse=True)\n",
    "print(lista)"
   ]
  },
  {
   "cell_type": "code",
   "execution_count": 34,
   "id": "a6800933",
   "metadata": {},
   "outputs": [
    {
     "name": "stdout",
     "output_type": "stream",
     "text": [
      "6 yonder\n",
      "6 window\n",
      "6 breaks\n",
      "5 light\n",
      "4 what\n",
      "4 soft\n",
      "3 but\n",
      "2 in\n",
      "['yonder', 'window', 'breaks', 'light', 'what', 'soft', 'but', 'in']\n"
     ]
    }
   ],
   "source": [
    "res=list()\n",
    "for lon,palabra in lista:\n",
    "    print(lon, palabra)\n",
    "    res.append(palabra)\n",
    "\n",
    "print(res)\n",
    "    "
   ]
  },
  {
   "cell_type": "code",
   "execution_count": 39,
   "id": "0da86f26",
   "metadata": {},
   "outputs": [
    {
     "name": "stdout",
     "output_type": "stream",
     "text": [
      "('yonder', 'window', 'breaks', 'light', 'what', 'soft', 'but', 'in')\n",
      "<class 'tuple'>\n"
     ]
    }
   ],
   "source": [
    "res=tuple(res)\n",
    "print(res)\n",
    "print(type(res))"
   ]
  },
  {
   "cell_type": "code",
   "execution_count": 40,
   "id": "e17177a0",
   "metadata": {},
   "outputs": [
    {
     "name": "stdout",
     "output_type": "stream",
     "text": [
      "have\n",
      "fun\n"
     ]
    }
   ],
   "source": [
    "#Asignacion multiple en una tupla\n",
    "m=['have','fun']\n",
    "x,y=m\n",
    "print(x)\n",
    "print(y)"
   ]
  },
  {
   "cell_type": "code",
   "execution_count": 41,
   "id": "34edb603",
   "metadata": {},
   "outputs": [
    {
     "name": "stdout",
     "output_type": "stream",
     "text": [
      "have\n",
      "fun\n"
     ]
    }
   ],
   "source": [
    "#Asignacion en una tupla\n",
    "m=['have','fun']\n",
    "x=m[0]\n",
    "y=m[1]\n",
    "print(x)\n",
    "print(y)"
   ]
  },
  {
   "cell_type": "code",
   "execution_count": 45,
   "id": "2dd51d75",
   "metadata": {},
   "outputs": [
    {
     "name": "stdout",
     "output_type": "stream",
     "text": [
      "have\n",
      "fun\n"
     ]
    }
   ],
   "source": [
    "#Asignacion multiple en una tupla\n",
    "m=['have','fun']\n",
    "(x,y)=m\n",
    "print(x)\n",
    "print(y)"
   ]
  },
  {
   "cell_type": "code",
   "execution_count": 46,
   "id": "bb8545ea",
   "metadata": {},
   "outputs": [
    {
     "name": "stdout",
     "output_type": "stream",
     "text": [
      "fun\n",
      "have\n"
     ]
    }
   ],
   "source": [
    "#Intercambiado los valores de la tupla, especificamente de x y de y\n",
    "(x,y)=y,x\n",
    "print(x)\n",
    "print(y)"
   ]
  },
  {
   "cell_type": "code",
   "execution_count": 48,
   "id": "f282e70c",
   "metadata": {},
   "outputs": [
    {
     "name": "stdout",
     "output_type": "stream",
     "text": [
      "have\n",
      "fun\n",
      "1\n",
      "3\n",
      "5\n"
     ]
    }
   ],
   "source": [
    "#Asignacion multiple en una tupla\n",
    "m=['have','fun',1,3,5]\n",
    "(a,b,c,d,e)=m\n",
    "print(a)\n",
    "print(b)\n",
    "print(c)\n",
    "print(d)\n",
    "print(e)\n",
    "(a,b,c)=c,b,a"
   ]
  },
  {
   "cell_type": "code",
   "execution_count": 50,
   "id": "44fcf186",
   "metadata": {
    "scrolled": true
   },
   "outputs": [
    {
     "name": "stdout",
     "output_type": "stream",
     "text": [
      "1\n",
      "fun\n",
      "have\n",
      "3\n",
      "5\n"
     ]
    }
   ],
   "source": [
    "print(a)\n",
    "print(b)\n",
    "print(c)\n",
    "print(d)\n",
    "print(e)"
   ]
  },
  {
   "cell_type": "code",
   "execution_count": 52,
   "id": "8b2cabae",
   "metadata": {
    "scrolled": true
   },
   "outputs": [
    {
     "ename": "ValueError",
     "evalue": "too many values to unpack (expected 3)",
     "output_type": "error",
     "traceback": [
      "\u001b[0;31m---------------------------------------------------------------------------\u001b[0m",
      "\u001b[0;31mValueError\u001b[0m                                Traceback (most recent call last)",
      "\u001b[0;32m<ipython-input-52-b314e70a0ce1>\u001b[0m in \u001b[0;36m<module>\u001b[0;34m\u001b[0m\n\u001b[1;32m      1\u001b[0m \u001b[0;31m#Porque las variables en el lado izquierdo deben coincidir con los\u001b[0m\u001b[0;34m\u001b[0m\u001b[0;34m\u001b[0m\u001b[0;34m\u001b[0m\u001b[0m\n\u001b[1;32m      2\u001b[0m \u001b[0;31m#valores en el lado derecho\u001b[0m\u001b[0;34m\u001b[0m\u001b[0;34m\u001b[0m\u001b[0;34m\u001b[0m\u001b[0m\n\u001b[0;32m----> 3\u001b[0;31m \u001b[0ma\u001b[0m\u001b[0;34m,\u001b[0m\u001b[0mb\u001b[0m\u001b[0;34m,\u001b[0m\u001b[0mc\u001b[0m\u001b[0;34m=\u001b[0m\u001b[0;36m1\u001b[0m\u001b[0;34m,\u001b[0m\u001b[0;36m4\u001b[0m\u001b[0;34m,\u001b[0m\u001b[0;36m5\u001b[0m\u001b[0;34m,\u001b[0m\u001b[0;36m6\u001b[0m\u001b[0;34m\u001b[0m\u001b[0;34m\u001b[0m\u001b[0m\n\u001b[0m",
      "\u001b[0;31mValueError\u001b[0m: too many values to unpack (expected 3)"
     ]
    }
   ],
   "source": [
    "#Porque las variables en el lado izquierdo deben coincidir con los\n",
    "#valores en el lado derecho\n",
    "a,b,c=1,4,5,6"
   ]
  },
  {
   "cell_type": "code",
   "execution_count": 55,
   "id": "6d036309",
   "metadata": {},
   "outputs": [
    {
     "name": "stdout",
     "output_type": "stream",
     "text": [
      "monty\n",
      "python.org\n"
     ]
    }
   ],
   "source": [
    "#Funcion split()\n",
    "addr='monty@python.org'\n",
    "uname,domain=addr.split('@')\n",
    "print(uname)\n",
    "print(domain)"
   ]
  },
  {
   "cell_type": "code",
   "execution_count": 54,
   "id": "c9b10215",
   "metadata": {
    "scrolled": true
   },
   "outputs": [
    {
     "name": "stdout",
     "output_type": "stream",
     "text": [
      "['Hola', 'mundo', 'espero', 'que', 'esten', 'muy', 'bien']\n"
     ]
    }
   ],
   "source": [
    "variable='Hola mundo espero que esten muy bien'\n",
    "l=variable.split()\n",
    "print(l)"
   ]
  },
  {
   "cell_type": "code",
   "execution_count": 61,
   "id": "d3cef2df",
   "metadata": {},
   "outputs": [
    {
     "name": "stdout",
     "output_type": "stream",
     "text": [
      "['a', 'c', 'b']\n"
     ]
    }
   ],
   "source": [
    "#Diccionarios y tuplas \n",
    "diccionario={'a':10,'c':22,'b':1}\n",
    "t=list(diccionario.keys())\n",
    "print(t)"
   ]
  },
  {
   "cell_type": "code",
   "execution_count": 62,
   "id": "b8718647",
   "metadata": {},
   "outputs": [
    {
     "name": "stdout",
     "output_type": "stream",
     "text": [
      "[10, 22, 1]\n"
     ]
    }
   ],
   "source": [
    "t=list(diccionario.values())\n",
    "print(t)"
   ]
  },
  {
   "cell_type": "code",
   "execution_count": 63,
   "id": "e544d6a0",
   "metadata": {},
   "outputs": [
    {
     "name": "stdout",
     "output_type": "stream",
     "text": [
      "[('a', 10), ('c', 22), ('b', 1)]\n"
     ]
    }
   ],
   "source": [
    "#Va a devolver una tupla con los elementos clave-valor y almacena en \n",
    "#una lista\n",
    "t=list(diccionario.items())\n",
    "print(t)"
   ]
  },
  {
   "cell_type": "code",
   "execution_count": 64,
   "id": "9b7328c0",
   "metadata": {
    "scrolled": true
   },
   "outputs": [
    {
     "name": "stdout",
     "output_type": "stream",
     "text": [
      "[('a', 10), ('b', 1), ('c', 22)]\n"
     ]
    }
   ],
   "source": [
    "t.sort()\n",
    "print(t)"
   ]
  },
  {
   "cell_type": "code",
   "execution_count": 68,
   "id": "99e664d0",
   "metadata": {},
   "outputs": [
    {
     "name": "stdout",
     "output_type": "stream",
     "text": [
      "{}\n",
      "{('Jhonnyer', 'Galindez'): 3223424324}\n"
     ]
    }
   ],
   "source": [
    "#Usar una tupla como una clave en un diccionario\n",
    "nombre='Jhonnyer'\n",
    "apellido='Galindez'\n",
    "numero=3223424324\n",
    "dic=dict()\n",
    "print(dic)\n",
    "dic[nombre,apellido]=numero\n",
    "print(dic)"
   ]
  },
  {
   "cell_type": "code",
   "execution_count": 72,
   "id": "7f1d35b7",
   "metadata": {},
   "outputs": [
    {
     "name": "stdout",
     "output_type": "stream",
     "text": [
      "Jhonnyer Galindez 3223424324\n"
     ]
    }
   ],
   "source": [
    "#Recorrer el diccionario e imprimir resultado numero\n",
    "for nom, ap in dic:\n",
    "    print(nom,ap, dic[(nom,ap)])"
   ]
  },
  {
   "cell_type": "code",
   "execution_count": 75,
   "id": "363ed727",
   "metadata": {
    "scrolled": true
   },
   "outputs": [
    {
     "name": "stdout",
     "output_type": "stream",
     "text": [
      "<class 'tuple'>\n",
      "{}\n"
     ]
    }
   ],
   "source": [
    "directorio=('Jhonnyer','Galindez')\n",
    "print(type(directorio))\n",
    "numero=3223424324\n",
    "diccionario=dict()\n",
    "print(diccionario)"
   ]
  },
  {
   "cell_type": "code",
   "execution_count": 76,
   "id": "31e28fe4",
   "metadata": {},
   "outputs": [
    {
     "name": "stdout",
     "output_type": "stream",
     "text": [
      "{'clave': 45}\n"
     ]
    }
   ],
   "source": [
    "diccionario['clave']=45\n",
    "print(diccionario)"
   ]
  },
  {
   "cell_type": "code",
   "execution_count": 77,
   "id": "abb5422c",
   "metadata": {},
   "outputs": [
    {
     "name": "stdout",
     "output_type": "stream",
     "text": [
      "{'clave': 45, ('Jhonnyer', 'Galindez'): 3223424324}\n"
     ]
    }
   ],
   "source": [
    "diccionario[directorio]=numero\n",
    "print(diccionario)"
   ]
  },
  {
   "cell_type": "code",
   "execution_count": 83,
   "id": "32441edb",
   "metadata": {},
   "outputs": [
    {
     "name": "stdout",
     "output_type": "stream",
     "text": [
      "Jhonnyer Galindez 3223424324\n"
     ]
    }
   ],
   "source": [
    "#Recorrer el diccionario e imprimir resultado numero\n",
    "directorio=('Jhonnyer','Galindez')\n",
    "numero=3223424324\n",
    "diccionario=dict()\n",
    "diccionario[directorio]=numero\n",
    "# print(diccionario)\n",
    "for nom, ap in diccionario:\n",
    "    print(nom,ap, diccionario[(directorio)])\n"
   ]
  },
  {
   "cell_type": "code",
   "execution_count": 86,
   "id": "94afe218",
   "metadata": {},
   "outputs": [
    {
     "name": "stdout",
     "output_type": "stream",
     "text": [
      "2\n",
      "1\n"
     ]
    }
   ],
   "source": [
    "#Metodo count()\n",
    "valores=['python','hola',True,False,1.34,6,7,8,6,True]\n",
    "print(valores.count(True))\n",
    "print(valores.count('python'))"
   ]
  },
  {
   "cell_type": "code",
   "execution_count": 94,
   "id": "0f306bd5",
   "metadata": {},
   "outputs": [
    {
     "name": "stdout",
     "output_type": "stream",
     "text": [
      "2\n",
      "0\n"
     ]
    }
   ],
   "source": [
    "#Metodo index()\n",
    "valores=('python','hola',True,False,1.34,6,7,8,6,True)\n",
    "print(valores.index(True))\n",
    "print(valores.index('python'))"
   ]
  },
  {
   "cell_type": "code",
   "execution_count": 93,
   "id": "a8ea42c2",
   "metadata": {
    "scrolled": true
   },
   "outputs": [
    {
     "name": "stdout",
     "output_type": "stream",
     "text": [
      "9\n"
     ]
    }
   ],
   "source": [
    "\n",
    "print(valores.index(True,3))"
   ]
  },
  {
   "cell_type": "code",
   "execution_count": 95,
   "id": "cff963b0",
   "metadata": {},
   "outputs": [
    {
     "name": "stdout",
     "output_type": "stream",
     "text": [
      "0 zope\n",
      "1 plone\n",
      "2 pyramid\n"
     ]
    }
   ],
   "source": [
    "tecnologias=('zope','plone','pyramid')\n",
    "for i in range(0, len(tecnologias)):\n",
    "    print(i, tecnologias[i])"
   ]
  },
  {
   "cell_type": "code",
   "execution_count": 96,
   "id": "b33e1c59",
   "metadata": {},
   "outputs": [
    {
     "name": "stdout",
     "output_type": "stream",
     "text": [
      "0 zope\n",
      "1 plone\n",
      "2 pyramid\n"
     ]
    }
   ],
   "source": [
    "tecnologias=('zope','plone','pyramid')\n",
    "for i in range(len(tecnologias)):\n",
    "    print(i, tecnologias[i])"
   ]
  },
  {
   "cell_type": "code",
   "execution_count": 97,
   "id": "31ad8576",
   "metadata": {},
   "outputs": [
    {
     "name": "stdout",
     "output_type": "stream",
     "text": [
      "0 zope\n",
      "1 plone\n",
      "2 pyramid\n"
     ]
    }
   ],
   "source": [
    "for i, valor in enumerate(tecnologias):\n",
    "    print(i, valor)"
   ]
  },
  {
   "cell_type": "code",
   "execution_count": 99,
   "id": "c8414537",
   "metadata": {},
   "outputs": [
    {
     "name": "stdout",
     "output_type": "stream",
     "text": [
      "0 zope\n",
      "1 plone\n",
      "2 pyramid\n"
     ]
    }
   ],
   "source": [
    "#CICLO WHILE\n",
    "tecnologias=('zope','plone','pyramid')\n",
    "cont=0\n",
    "while cont<3:\n",
    "    print(cont, tecnologias[cont])\n",
    "    cont+=1\n",
    "    "
   ]
  }
 ],
 "metadata": {
  "kernelspec": {
   "display_name": "Python 3",
   "language": "python",
   "name": "python3"
  },
  "language_info": {
   "codemirror_mode": {
    "name": "ipython",
    "version": 3
   },
   "file_extension": ".py",
   "mimetype": "text/x-python",
   "name": "python",
   "nbconvert_exporter": "python",
   "pygments_lexer": "ipython3",
   "version": "3.9.1"
  }
 },
 "nbformat": 4,
 "nbformat_minor": 5
}
