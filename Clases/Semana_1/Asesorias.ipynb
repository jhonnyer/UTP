{
 "cells": [
  {
   "cell_type": "code",
   "execution_count": 1,
   "id": "0c768189",
   "metadata": {},
   "outputs": [
    {
     "name": "stdout",
     "output_type": "stream",
     "text": [
      "150\n"
     ]
    }
   ],
   "source": [
    "n=150\n",
    "print(n)"
   ]
  },
  {
   "cell_type": "code",
   "execution_count": 10,
   "id": "9b800b20",
   "metadata": {},
   "outputs": [
    {
     "data": {
      "text/plain": [
       "33"
      ]
     },
     "execution_count": 10,
     "metadata": {},
     "output_type": "execute_result"
    }
   ],
   "source": [
    "n=10\n",
    "m=23\n",
    "l=n+m\n",
    "l"
   ]
  },
  {
   "cell_type": "code",
   "execution_count": 6,
   "id": "73993f9d",
   "metadata": {},
   "outputs": [
    {
     "name": "stdout",
     "output_type": "stream",
     "text": [
      "Puedes viajar\n",
      "Tu gasolina ha diminuido y actualmente tienes,  9\n"
     ]
    }
   ],
   "source": [
    "x=10 #tiene gasolina\n",
    "\n",
    "if x>=1:\n",
    "    x-=1\n",
    "    print(\"Puedes viajar\")\n",
    "    if x>=1:\n",
    "        print(\"Tu gasolina ha diminuido y actualmente tienes, \",x)\n",
    "else:\n",
    "    print(\"No puedes viajar\")"
   ]
  },
  {
   "cell_type": "code",
   "execution_count": null,
   "id": "a36dec5a",
   "metadata": {},
   "outputs": [],
   "source": [
    "10.16cm³ 10.16799³ ....... 100cm³ "
   ]
  },
  {
   "cell_type": "code",
   "execution_count": null,
   "id": "2f095413",
   "metadata": {},
   "outputs": [],
   "source": [
    "nota_1 = 2\n",
    "nota_2 = 5\n",
    "nota_media = (nota_1 + nota_2) / 2\n",
    "\n",
    "nota_media"
   ]
  },
  {
   "cell_type": "code",
   "execution_count": null,
   "id": "73bf04ee",
   "metadata": {},
   "outputs": [],
   "source": [
    "c1 = \"Una cadena\"\n",
    "c2 = \"otra cadena\"\n",
    "print(\"Una cadena \" + c2)"
   ]
  },
  {
   "cell_type": "code",
   "execution_count": null,
   "id": "ee8e8385",
   "metadata": {},
   "outputs": [],
   "source": [
    "diez_espacios = \" \" * 10\n",
    "print(diez_espacios + \"un texto a diez espacios\")"
   ]
  },
  {
   "cell_type": "code",
   "execution_count": null,
   "id": "0041896d",
   "metadata": {},
   "outputs": [],
   "source": [
    "palabra = \"Python\"\n",
    "palabra[0] # carácter en la posición 0"
   ]
  },
  {
   "cell_type": "code",
   "execution_count": null,
   "id": "d8f69b69",
   "metadata": {},
   "outputs": [],
   "source": [
    "palabra[-1]"
   ]
  },
  {
   "cell_type": "code",
   "execution_count": null,
   "id": "e0db8dc4",
   "metadata": {},
   "outputs": [],
   "source": [
    "# Slicing en las cadenas\n",
    "# El slicing es una capacidad de las cadenas que devuelve un subconjunto o subcadena utilizando dos índices [inicio:fin]:\n",
    "\n",
    "# El primer índice indica donde empieza la subcadena (se incluye el carácter).\n",
    "# El segundo índice indica donde acaba la subcadena (se excluye el carácter).\n",
    "\n",
    "palabra = \"Python\"\n",
    "palabra[0:2]"
   ]
  },
  {
   "cell_type": "code",
   "execution_count": null,
   "id": "cb53dee4",
   "metadata": {},
   "outputs": [],
   "source": [
    "palabra[:2] + palabra[2:]"
   ]
  },
  {
   "cell_type": "code",
   "execution_count": null,
   "id": "142e9326",
   "metadata": {},
   "outputs": [],
   "source": [
    "# Inmutabilidad\n",
    "# Una propiedad de las cadenas es que no se puede modificar su contenido. Si intentamos reasignar un carácter, no nos dejará:\n",
    "\n",
    "\n",
    "palabra[0] = \"N\""
   ]
  },
  {
   "cell_type": "code",
   "execution_count": 12,
   "id": "41a84e4b",
   "metadata": {},
   "outputs": [
    {
     "data": {
      "text/plain": [
       "'Nython'"
      ]
     },
     "execution_count": 12,
     "metadata": {},
     "output_type": "execute_result"
    }
   ],
   "source": [
    "# Sin embargo, utilizando slicing y concatenación podemos generar nuevas cadenas fácilmente:\n",
    "\n",
    "\n",
    "palabra = \"N\" + palabra[1:]\n",
    "palabra"
   ]
  },
  {
   "cell_type": "code",
   "execution_count": 13,
   "id": "fe27adb3",
   "metadata": {},
   "outputs": [
    {
     "data": {
      "text/plain": [
       "6"
      ]
     },
     "execution_count": 13,
     "metadata": {},
     "output_type": "execute_result"
    }
   ],
   "source": [
    "# Un ejemplo de función útil que soportan las cadenas es len(), que nos permite saber su longitud (el número de caracteres que contienen):\n",
    "\n",
    "\n",
    "palabra = \"Python\"\n",
    "len(palabra)"
   ]
  },
  {
   "cell_type": "code",
   "execution_count": null,
   "id": "551f098d",
   "metadata": {},
   "outputs": [],
   "source": [
    "# Las listas  tratan de un tipo compuesto de dato que puede almacenar distintos valores (llamados ítems o elementos) ordenados entre [ ] y separados con comas:\n",
    "\n",
    "\n",
    "numeros = [1,2,3,4]\n",
    "numeros\n",
    " "
   ]
  },
  {
   "cell_type": "code",
   "execution_count": null,
   "id": "50f7e5fb",
   "metadata": {},
   "outputs": [],
   "source": [
    "# Índices y slicing\n",
    "# Funcionan de una forma muy similar a las cadenas de caracteres:\n",
    "\n",
    "\n",
    "datos = [4, \"Una cadena\", -15, 3.14, \"Otra cadena\"]\n",
    "\n",
    "print(datos[0])\n",
    "print(datos[-1])\n",
    "print(datos[2:])"
   ]
  },
  {
   "cell_type": "code",
   "execution_count": null,
   "id": "85ed1629",
   "metadata": {},
   "outputs": [],
   "source": [
    "# Suma de listas\n",
    "# Da como resultado una nueva lista que incluye todos los ítems:\n",
    "\n",
    "\n",
    "numeros + [5,6,7,8]"
   ]
  },
  {
   "cell_type": "code",
   "execution_count": null,
   "id": "992da806",
   "metadata": {},
   "outputs": [],
   "source": [
    "# Mutabilidad\n",
    "# A diferencia de las cadenas, en las listas sí podemos modificar sus ítems utilizando índices:\n",
    "\n",
    "\n",
    "pares = [0,2,4,5,8,10]\n",
    "pares[3] = 6\n",
    "pares"
   ]
  },
  {
   "cell_type": "code",
   "execution_count": null,
   "id": "e2488564",
   "metadata": {},
   "outputs": [],
   "source": [
    "# Integran funcionalidades internas como el método .append() para añadir un ítem al final de la lista:\n",
    "\n",
    "\n",
    "pares.append(12)\n",
    "pares.append(7*2)\n",
    "pares"
   ]
  },
  {
   "cell_type": "code",
   "execution_count": null,
   "id": "971ccef8",
   "metadata": {},
   "outputs": [],
   "source": [
    "# Y una peculiaridad es que también aceptan asignación con slicing para modificar varios ítems en conjunto:\n",
    "\n",
    "\n",
    "letras = ['a','b','c','d','e','f']\n",
    "letras[:3]"
   ]
  },
  {
   "cell_type": "code",
   "execution_count": null,
   "id": "e91a8cd6",
   "metadata": {},
   "outputs": [],
   "source": [
    "letras[:3] = ['A','B','C']\n",
    "letras"
   ]
  },
  {
   "cell_type": "code",
   "execution_count": null,
   "id": "98310cc6",
   "metadata": {},
   "outputs": [],
   "source": [
    "# Asignar una lista vacía equivale a borrar los ítems de la lista o sublista:\n",
    "\n",
    "\n",
    "letras[:3] = []\n",
    "letras"
   ]
  },
  {
   "cell_type": "code",
   "execution_count": null,
   "id": "79a68f89",
   "metadata": {},
   "outputs": [],
   "source": [
    "letras = []\n",
    "letras"
   ]
  },
  {
   "cell_type": "code",
   "execution_count": null,
   "id": "e4ddb74f",
   "metadata": {},
   "outputs": [],
   "source": [
    "# La función len() funciona con las listas del mismo modo que en las cadenas:\n",
    "\n",
    "\n",
    "print(len(letras))\n",
    "print(len(pares))"
   ]
  },
  {
   "cell_type": "code",
   "execution_count": null,
   "id": "98fc2fef",
   "metadata": {},
   "outputs": [],
   "source": [
    "# Listas anidadas\n",
    "# Podemos manipular fácilmente este tipo de estructuras utilizando múltiples índices, como si nos refieréramos a las filas y columnas de una tabla:\n",
    "\n",
    "\n",
    "a = [1,2,3]\n",
    "b = [4,5,6]\n",
    "c = [7,8,9]\n",
    "r = [a,b,c]\n",
    "\n",
    "r"
   ]
  },
  {
   "cell_type": "code",
   "execution_count": 29,
   "id": "9eed3072",
   "metadata": {},
   "outputs": [
    {
     "name": "stdout",
     "output_type": "stream",
     "text": [
      "[1, 2, 3]\n",
      "[7, 8, 9]\n",
      "1\n",
      "5\n",
      "9\n",
      "9\n"
     ]
    }
   ],
   "source": [
    "print(r[0])       # Primera sublista\n",
    "print(r[-1])      # Última sublista\n",
    "\n",
    "print(r[0][0])    # Primera sublista, y de ella, primer ítem\n",
    "print(r[1][1])    # Segunda sublista, y de ella, segundo ítem\n",
    "print(r[2][2])    # Tercera sublista, y de ella, tercer ítem\n",
    "print(r[-1][-1])  # Última sublista, y de ella, último ítem\n"
   ]
  },
  {
   "cell_type": "code",
   "execution_count": 30,
   "id": "d3aecc3b",
   "metadata": {},
   "outputs": [
    {
     "name": "stdout",
     "output_type": "stream",
     "text": [
      "Introduce un valor: 34\n"
     ]
    },
    {
     "data": {
      "text/plain": [
       "'34'"
      ]
     },
     "execution_count": 30,
     "metadata": {},
     "output_type": "execute_result"
    }
   ],
   "source": [
    "valor = input(\"Introduce un valor: \")  # Podemos mostrar un mensaje\n",
    "valor"
   ]
  },
  {
   "cell_type": "code",
   "execution_count": 31,
   "id": "2cd2e34f",
   "metadata": {},
   "outputs": [
    {
     "name": "stdout",
     "output_type": "stream",
     "text": [
      "Introduce un número entero: 23\n"
     ]
    },
    {
     "ename": "TypeError",
     "evalue": "can only concatenate str (not \"int\") to str",
     "output_type": "error",
     "traceback": [
      "\u001b[0;31m---------------------------------------------------------------------------\u001b[0m",
      "\u001b[0;31mTypeError\u001b[0m                                 Traceback (most recent call last)",
      "\u001b[0;32m<ipython-input-31-2378b4e0842e>\u001b[0m in \u001b[0;36m<module>\u001b[0;34m\u001b[0m\n\u001b[1;32m      1\u001b[0m \u001b[0mvalor\u001b[0m \u001b[0;34m=\u001b[0m \u001b[0minput\u001b[0m\u001b[0;34m(\u001b[0m\u001b[0;34m\"Introduce un número entero: \"\u001b[0m\u001b[0;34m)\u001b[0m\u001b[0;34m\u001b[0m\u001b[0;34m\u001b[0m\u001b[0m\n\u001b[0;32m----> 2\u001b[0;31m \u001b[0mvalor\u001b[0m \u001b[0;34m+\u001b[0m \u001b[0;36m50\u001b[0m\u001b[0;34m\u001b[0m\u001b[0;34m\u001b[0m\u001b[0m\n\u001b[0m",
      "\u001b[0;31mTypeError\u001b[0m: can only concatenate str (not \"int\") to str"
     ]
    }
   ],
   "source": [
    "valor = input(\"Introduce un número entero: \")\n",
    "valor + 50  "
   ]
  },
  {
   "cell_type": "code",
   "execution_count": 32,
   "id": "78b5c6f7",
   "metadata": {},
   "outputs": [
    {
     "name": "stdout",
     "output_type": "stream",
     "text": [
      "Introduce un número entero: 34\n"
     ]
    },
    {
     "data": {
      "text/plain": [
       "68"
      ]
     },
     "execution_count": 32,
     "metadata": {},
     "output_type": "execute_result"
    }
   ],
   "source": [
    "valor = int(input(\"Introduce un número entero: \"))\n",
    "valor * 2\n"
   ]
  },
  {
   "cell_type": "code",
   "execution_count": 33,
   "id": "785879a9",
   "metadata": {},
   "outputs": [
    {
     "name": "stdout",
     "output_type": "stream",
     "text": [
      "Introduce un número entero o flotante: 3.4\n"
     ]
    },
    {
     "data": {
      "text/plain": [
       "6.8"
      ]
     },
     "execution_count": 33,
     "metadata": {},
     "output_type": "execute_result"
    }
   ],
   "source": [
    "valor = float(input(\"Introduce un número entero o flotante: \"))\n",
    "valor * 2"
   ]
  },
  {
   "cell_type": "code",
   "execution_count": 35,
   "id": "c85baa4d",
   "metadata": {},
   "outputs": [
    {
     "data": {
      "text/plain": [
       "' '"
      ]
     },
     "execution_count": 35,
     "metadata": {},
     "output_type": "execute_result"
    }
   ],
   "source": [
    "# Identifica el tipo de dato (int, float, string o list) de los siguientes valores literales:\n",
    "\"Hola Mundo\"     \n",
    "[1, 10, 100]      \n",
    "-25              \n",
    "1.167             \n",
    "[\"Hola\", \"Mundo\"] \n",
    "' '    "
   ]
  },
  {
   "cell_type": "code",
   "execution_count": 37,
   "id": "0cea2729",
   "metadata": {},
   "outputs": [
    {
     "name": "stdout",
     "output_type": "stream",
     "text": [
      "50\n",
      "15\n",
      "Hola Mundo\n",
      "Hola Hola \n",
      "3\n",
      "[2, 3]\n",
      "[1, 2, 3, 1, 2, 3]\n"
     ]
    }
   ],
   "source": [
    "# Ejercicio 2\n",
    "# Determina mentalmente (sin programar) el resultado que aparecerá por pantalla en las siguientes operaciones con variables:\n",
    "\n",
    "\n",
    "a = 10\n",
    "b = -5\n",
    "c = \"Hola \"\n",
    "d = [1, 2, 3] \n",
    "\n",
    "print(a * 5)\n",
    "print(a - b)\n",
    "print(c + \"Mundo\")\n",
    "print(c * 2)\n",
    "print(d[-1])\n",
    "print(d[1:])\n",
    "print(d + d)   "
   ]
  },
  {
   "cell_type": "code",
   "execution_count": 39,
   "id": "07f84b3f",
   "metadata": {},
   "outputs": [
    {
     "name": "stdout",
     "output_type": "stream",
     "text": [
      "La nota media es 14.0\n"
     ]
    }
   ],
   "source": [
    "# Ejercicio 3\n",
    "# El siguiente código pretende realizar una media entre 3 números, pero no funciona correctamente. ¿Eres capaz de identificar el problema y solucionarlo?\n",
    "\n",
    "\n",
    "numero_1 = 9\n",
    "numero_2 = 3\n",
    "numero_3 = 6\n",
    "\n",
    "media = numero_1 + numero_2 + numero_3 / 3\n",
    "print(\"La nota media es\", media)"
   ]
  },
  {
   "cell_type": "code",
   "execution_count": 41,
   "id": "3ee1f64e",
   "metadata": {},
   "outputs": [
    {
     "name": "stdout",
     "output_type": "stream",
     "text": [
      "La nota media es 6.0\n"
     ]
    }
   ],
   "source": [
    "# Ejercicio 3\n",
    "# El siguiente código pretende realizar una media entre 3 números, pero no funciona correctamente. ¿Eres capaz de identificar el problema y solucionarlo?\n",
    "\n",
    "\n",
    "numero_1 = 9\n",
    "numero_2 = 3\n",
    "numero_3 = 6\n",
    "\n",
    "media = (numero_1 + numero_2 + numero_3) / 3\n",
    "print(\"La nota media es\", media)"
   ]
  },
  {
   "cell_type": "code",
   "execution_count": 42,
   "id": "8b564b93",
   "metadata": {},
   "outputs": [
    {
     "name": "stdout",
     "output_type": "stream",
     "text": [
      "Nota final es:  5.949999999999999\n"
     ]
    }
   ],
   "source": [
    "# Ejercicio 4\n",
    "# A partir del ejercicio anterior, vamos a suponer que cada número es una nota, y lo que queremos es obtener la nota final. El problema es que cada nota tiene un valor porcentual:\n",
    "\n",
    "# La primera nota vale un 15% del total\n",
    "# La segunda nota vale un 35% del total\n",
    "# La tercera nota vale un 50% del total\n",
    "# Desarrolla un programa para calcular perfectamente la nota final:\n",
    "\n",
    "\n",
    "nota_1 = 10\n",
    "nota_2 = 7\n",
    "nota_3 = 4\n",
    "\n",
    "nota_final=(nota_1*0.15)+(7*0.35)+(4*0.5)\n",
    "print(\"Nota final es: \",nota_final)"
   ]
  },
  {
   "cell_type": "code",
   "execution_count": 49,
   "id": "231862d5",
   "metadata": {},
   "outputs": [
    {
     "name": "stdout",
     "output_type": "stream",
     "text": [
      "[[1, 1, 1, 3], [2, 2, 2, 6], [3, 3, 3, 9], [4, 4, 4, 12]]\n"
     ]
    }
   ],
   "source": [
    "# Ejercicio 5\n",
    "# La siguiente matriz (o lista con listas anidadas) debe cumplir una condición, y es que en cada fila el cuarto elemento siempre debe ser el resultado de sumar los tres primeros. ¿Eres capaz de modificar las sumas incorrectas utilizando la técnica del slicing?\n",
    "\n",
    "# Ayuda\n",
    "\n",
    "# La función llamada sum(lista) devuelve una suma de todos los elementos de la lista ¡Pruébalo!\n",
    "\n",
    "\n",
    "matriz = [ \n",
    "    [1, 1, 1, 3],\n",
    "    [2, 2, 2, 7],\n",
    "    [3, 3, 3, 9],\n",
    "    [4, 4, 4, 13]\n",
    "]\n",
    "\n",
    "\n",
    "matriz[1][-1]=sum(matriz[1][:-1])\n",
    "# matriz[3][-1]=sum(matriz[3][:-1])\n",
    "matriz[-1][-1]=sum(matriz[-1][:-1])\n",
    "print(matriz)"
   ]
  },
  {
   "cell_type": "code",
   "execution_count": 56,
   "id": "ff176f9f",
   "metadata": {},
   "outputs": [
    {
     "name": "stdout",
     "output_type": "stream",
     "text": [
      "10,Juan Pérez\n",
      "10\n"
     ]
    }
   ],
   "source": [
    "# Ejercicio 6\n",
    "# Al realizar una consulta en un registro hemos obtenido una cadena de texto corrupta al revés. Al parecer contiene el nombre de un alumno y la nota de un exámen. ¿Cómo podríamos formatear la cadena y conseguir una estructura como la siguiente?\n",
    "\n",
    "# Nombre Apellido ha sacado un Nota de nota.\n",
    "\n",
    "# Ayuda\n",
    "\n",
    "# Para voltear una cadena rápidamente utilizando slicing podemos utilizar un tercer índice -1: cadena[::-1]\n",
    "\n",
    "\n",
    "cadena = \"zeréP nauJ,01\"\n",
    "\n",
    "cadena1=cadena[::-1]\n",
    "print(cadena1)\n",
    "print(cadena1[0:2])"
   ]
  },
  {
   "cell_type": "code",
   "execution_count": 60,
   "id": "7d844b9d",
   "metadata": {},
   "outputs": [
    {
     "name": "stdout",
     "output_type": "stream",
     "text": [
      "[6, 5, 4, 3, 1]\n"
     ]
    }
   ],
   "source": [
    "lista=[1,3,4,5,6]\n",
    "list1=lista[::-1]\n",
    "print(list1)\n"
   ]
  },
  {
   "cell_type": "code",
   "execution_count": 62,
   "id": "364d47da",
   "metadata": {},
   "outputs": [
    {
     "data": {
      "text/plain": [
       "[1, 3, 4, 8, 9, 16, 20]"
      ]
     },
     "execution_count": 62,
     "metadata": {},
     "output_type": "execute_result"
    }
   ],
   "source": [
    "numeros = [16, 4, 9, 1, 3, 20, 8]\n",
    "numeros.sort()\n",
    "numeros\n",
    "[1, 3, 4, 8, 9, 16, 20]"
   ]
  },
  {
   "cell_type": "code",
   "execution_count": 84,
   "id": "ac3b5a6e",
   "metadata": {},
   "outputs": [
    {
     "name": "stdout",
     "output_type": "stream",
     "text": [
      "1\n"
     ]
    }
   ],
   "source": [
    "numeros = [16, 4, 9, 1, 3, 20, 8]\n",
    "minimo=min(numeros)\n",
    "print(minimo)\n"
   ]
  },
  {
   "cell_type": "code",
   "execution_count": 65,
   "id": "833a2238",
   "metadata": {},
   "outputs": [
    {
     "name": "stdout",
     "output_type": "stream",
     "text": [
      "20\n"
     ]
    }
   ],
   "source": [
    "numeros = [16, 4, 9, 1, 3, 20, 8]\n",
    "maximo=max(numeros)\n",
    "print(maximo)\n"
   ]
  },
  {
   "cell_type": "code",
   "execution_count": 70,
   "id": "851908ee",
   "metadata": {},
   "outputs": [
    {
     "name": "stdout",
     "output_type": "stream",
     "text": [
      "[4, 9, 1, 3, 20, 8]\n"
     ]
    }
   ],
   "source": [
    "numeros.pop(0)\n",
    "print(numeros)"
   ]
  },
  {
   "cell_type": "code",
   "execution_count": 77,
   "id": "ee2431df",
   "metadata": {},
   "outputs": [
    {
     "name": "stdout",
     "output_type": "stream",
     "text": [
      "[16, 1, 3, 8]\n"
     ]
    }
   ],
   "source": [
    "numeros.pop(3)\n",
    "print(numeros)"
   ]
  },
  {
   "cell_type": "code",
   "execution_count": 86,
   "id": "53e43a81",
   "metadata": {},
   "outputs": [
    {
     "name": "stdout",
     "output_type": "stream",
     "text": [
      "1\n",
      "[16, 1, 3, 20, 8]\n"
     ]
    }
   ],
   "source": [
    "print(minimo)\n",
    "numeros.pop(minimo)\n",
    "print(numeros)"
   ]
  },
  {
   "cell_type": "code",
   "execution_count": 88,
   "id": "62f6378c",
   "metadata": {},
   "outputs": [
    {
     "name": "stdout",
     "output_type": "stream",
     "text": [
      "[16, 1, 3, 20, 8]\n",
      "[16, 3, 20, 8]\n"
     ]
    }
   ],
   "source": [
    "print(numeros)\n",
    "numeros.remove(minimo)\n",
    "print(numeros)"
   ]
  },
  {
   "cell_type": "code",
   "execution_count": null,
   "id": "6370a0f6",
   "metadata": {},
   "outputs": [],
   "source": [
    " 19|__________________________| "
   ]
  }
 ],
 "metadata": {
  "kernelspec": {
   "display_name": "Python 3",
   "language": "python",
   "name": "python3"
  },
  "language_info": {
   "codemirror_mode": {
    "name": "ipython",
    "version": 3
   },
   "file_extension": ".py",
   "mimetype": "text/x-python",
   "name": "python",
   "nbconvert_exporter": "python",
   "pygments_lexer": "ipython3",
   "version": "3.9.1"
  }
 },
 "nbformat": 4,
 "nbformat_minor": 5
}
