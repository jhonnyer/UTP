{
 "cells": [
  {
   "cell_type": "code",
   "execution_count": 15,
   "id": "a6aaec56",
   "metadata": {},
   "outputs": [
    {
     "ename": "UnboundLocalError",
     "evalue": "local variable 'resta' referenced before assignment",
     "output_type": "error",
     "traceback": [
      "\u001b[0;31m---------------------------------------------------------------------------\u001b[0m",
      "\u001b[0;31mUnboundLocalError\u001b[0m                         Traceback (most recent call last)",
      "\u001b[0;32m<ipython-input-15-633bbf2d3c4d>\u001b[0m in \u001b[0;36m<module>\u001b[0;34m\u001b[0m\n\u001b[1;32m     26\u001b[0m \u001b[0;34m\u001b[0m\u001b[0m\n\u001b[1;32m     27\u001b[0m \u001b[0mobjeto\u001b[0m\u001b[0;34m=\u001b[0m\u001b[0mOperacion\u001b[0m\u001b[0;34m(\u001b[0m\u001b[0;36m5\u001b[0m\u001b[0;34m,\u001b[0m\u001b[0;36m2\u001b[0m\u001b[0;34m)\u001b[0m\u001b[0;34m\u001b[0m\u001b[0;34m\u001b[0m\u001b[0m\n\u001b[0;32m---> 28\u001b[0;31m \u001b[0mresultado\u001b[0m\u001b[0;34m=\u001b[0m\u001b[0mobjeto\u001b[0m\u001b[0;34m.\u001b[0m\u001b[0msuma\u001b[0m\u001b[0;34m(\u001b[0m\u001b[0;34m)\u001b[0m\u001b[0;34m\u001b[0m\u001b[0;34m\u001b[0m\u001b[0m\n\u001b[0m\u001b[1;32m     29\u001b[0m \u001b[0mprint\u001b[0m\u001b[0;34m(\u001b[0m\u001b[0;34m\"El resultado del metodo es: %s\"\u001b[0m\u001b[0;34m%\u001b[0m\u001b[0mresultado\u001b[0m\u001b[0;34m)\u001b[0m\u001b[0;34m\u001b[0m\u001b[0;34m\u001b[0m\u001b[0m\n",
      "\u001b[0;32m<ipython-input-15-633bbf2d3c4d>\u001b[0m in \u001b[0;36msuma\u001b[0;34m(self)\u001b[0m\n\u001b[1;32m      6\u001b[0m      \u001b[0;32mdef\u001b[0m \u001b[0msuma\u001b[0m\u001b[0;34m(\u001b[0m\u001b[0mself\u001b[0m\u001b[0;34m)\u001b[0m\u001b[0;34m:\u001b[0m\u001b[0;34m\u001b[0m\u001b[0;34m\u001b[0m\u001b[0m\n\u001b[1;32m      7\u001b[0m          \u001b[0mresul\u001b[0m\u001b[0;34m=\u001b[0m\u001b[0mself\u001b[0m\u001b[0;34m.\u001b[0m\u001b[0mnumero1\u001b[0m\u001b[0;34m+\u001b[0m\u001b[0mself\u001b[0m\u001b[0;34m.\u001b[0m\u001b[0mnumero2\u001b[0m\u001b[0;34m\u001b[0m\u001b[0;34m\u001b[0m\u001b[0m\n\u001b[0;32m----> 8\u001b[0;31m          \u001b[0mresta\u001b[0m\u001b[0;34m=\u001b[0m\u001b[0mresta\u001b[0m\u001b[0;34m(\u001b[0m\u001b[0;34m)\u001b[0m\u001b[0;34m\u001b[0m\u001b[0;34m\u001b[0m\u001b[0m\n\u001b[0m\u001b[1;32m      9\u001b[0m          \u001b[0;32mreturn\u001b[0m \u001b[0mresul\u001b[0m\u001b[0;34m,\u001b[0m\u001b[0mresta\u001b[0m\u001b[0;34m\u001b[0m\u001b[0;34m\u001b[0m\u001b[0m\n\u001b[1;32m     10\u001b[0m \u001b[0;34m\u001b[0m\u001b[0m\n",
      "\u001b[0;31mUnboundLocalError\u001b[0m: local variable 'resta' referenced before assignment"
     ]
    }
   ],
   "source": [
    "class Operacion():\n",
    "     def __init__(self, digito1, digito2):\n",
    "         self.numero1=digito1\n",
    "         self.numero2=digito2\n",
    "    \n",
    "     def suma(self):\n",
    "         resul=self.numero1+self.numero2\n",
    "         return resul,resta\n",
    "    \n",
    "     def resta(self):\n",
    "         resul=self.numero1-self.numero2\n",
    "         return resul\n",
    "    \n",
    "     def multiplicacion(self):\n",
    "         resul=self.numero1*self.numero2\n",
    "         return resul\n",
    "    \n",
    "     def division(self):\n",
    "         resul=self.numero1/self.numero2\n",
    "         return resul\n",
    "     \n",
    "     def cambiarAtributos(self,atr1, atr2):\n",
    "        self.numero1=atr1\n",
    "        self.numero2=atr2\n",
    "    \n",
    "objeto=Operacion(5,2)\n",
    "resultado=objeto.suma()\n",
    "print(\"El resultado del metodo es: %s\"%resultado)\n"
   ]
  },
  {
   "cell_type": "code",
   "execution_count": 3,
   "id": "ef93f053",
   "metadata": {},
   "outputs": [
    {
     "name": "stdout",
     "output_type": "stream",
     "text": [
      "El resultado del metodo resta es :3\n",
      "El resultado del metodo multiplicacion es :10\n",
      "El resultado del metodo division es :2.5\n"
     ]
    }
   ],
   "source": [
    "resta=objeto.resta()\n",
    "print(\"El resultado del metodo resta es :%s\"%resta)\n",
    "\n",
    "multiplicacion=objeto.multiplicacion()\n",
    "print(\"El resultado del metodo multiplicacion es :%s\"%multiplicacion)\n",
    "\n",
    "division=objeto.division()\n",
    "print(\"El resultado del metodo division es :%s\"%division)\n"
   ]
  },
  {
   "cell_type": "code",
   "execution_count": 14,
   "id": "7e69cd80",
   "metadata": {
    "scrolled": true
   },
   "outputs": [
    {
     "name": "stdout",
     "output_type": "stream",
     "text": [
      "15\n"
     ]
    }
   ],
   "source": [
    "objeto.cambiarAtributos(9,6)\n",
    "res=objeto.suma()\n",
    "print(res)"
   ]
  },
  {
   "cell_type": "code",
   "execution_count": 10,
   "id": "b2ecff0f",
   "metadata": {},
   "outputs": [
    {
     "name": "stdout",
     "output_type": "stream",
     "text": [
      "11\n"
     ]
    }
   ],
   "source": [
    "objeto1=Operacion(5,6)\n",
    "resul=objeto1.suma()\n",
    "print(resul)"
   ]
  },
  {
   "cell_type": "code",
   "execution_count": 8,
   "id": "d9e4843f",
   "metadata": {},
   "outputs": [
    {
     "name": "stdout",
     "output_type": "stream",
     "text": [
      "9\n"
     ]
    }
   ],
   "source": [
    "objeto2=Operacion(3,6)\n",
    "resul=objeto2.suma()\n",
    "print(resul)"
   ]
  }
 ],
 "metadata": {
  "kernelspec": {
   "display_name": "Python 3",
   "language": "python",
   "name": "python3"
  },
  "language_info": {
   "codemirror_mode": {
    "name": "ipython",
    "version": 3
   },
   "file_extension": ".py",
   "mimetype": "text/x-python",
   "name": "python",
   "nbconvert_exporter": "python",
   "pygments_lexer": "ipython3",
   "version": "3.9.1"
  }
 },
 "nbformat": 4,
 "nbformat_minor": 5
}
