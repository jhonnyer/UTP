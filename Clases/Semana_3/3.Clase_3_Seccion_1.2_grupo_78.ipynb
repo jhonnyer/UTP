{
 "cells": [
  {
   "cell_type": "code",
   "execution_count": 1,
   "id": "133dfd0f",
   "metadata": {},
   "outputs": [
    {
     "name": "stdout",
     "output_type": "stream",
     "text": [
      "10\n",
      "4\n"
     ]
    }
   ],
   "source": [
    "v=10\n",
    "_a=4\n",
    "print(v)\n",
    "print(_a)"
   ]
  },
  {
   "cell_type": "code",
   "execution_count": 2,
   "id": "478b9d15",
   "metadata": {},
   "outputs": [
    {
     "ename": "SyntaxError",
     "evalue": "invalid syntax (<ipython-input-2-bdbb354a5002>, line 1)",
     "output_type": "error",
     "traceback": [
      "\u001b[0;36m  File \u001b[0;32m\"<ipython-input-2-bdbb354a5002>\"\u001b[0;36m, line \u001b[0;32m1\u001b[0m\n\u001b[0;31m    3a=4\u001b[0m\n\u001b[0m     ^\u001b[0m\n\u001b[0;31mSyntaxError\u001b[0m\u001b[0;31m:\u001b[0m invalid syntax\n"
     ]
    }
   ],
   "source": [
    "3a=4\n",
    "print(3a)"
   ]
  },
  {
   "cell_type": "code",
   "execution_count": 3,
   "id": "2f24cab5",
   "metadata": {},
   "outputs": [
    {
     "name": "stdout",
     "output_type": "stream",
     "text": [
      "30\n",
      "50\n"
     ]
    }
   ],
   "source": [
    "var1=30\n",
    "VAR1=50\n",
    "print(var1)\n",
    "print(VAR1)"
   ]
  },
  {
   "cell_type": "code",
   "execution_count": 4,
   "id": "09e9ac50",
   "metadata": {},
   "outputs": [
    {
     "name": "stdout",
     "output_type": "stream",
     "text": [
      "La suma de 1+2\n",
      "3\n"
     ]
    }
   ],
   "source": [
    "def sumar():\n",
    "    print(\"La suma de 1+2\")\n",
    "    a=1\n",
    "    b=2\n",
    "    c=a+b\n",
    "    print(c)\n",
    "    \n",
    "sumar()"
   ]
  },
  {
   "cell_type": "code",
   "execution_count": 6,
   "id": "84519f54",
   "metadata": {},
   "outputs": [],
   "source": [
    "var=1.2"
   ]
  },
  {
   "cell_type": "markdown",
   "id": "2b36a4a6",
   "metadata": {},
   "source": [
    "# Declaracion de variables"
   ]
  },
  {
   "cell_type": "code",
   "execution_count": 7,
   "id": "df571d2a",
   "metadata": {},
   "outputs": [
    {
     "name": "stdout",
     "output_type": "stream",
     "text": [
      "4.2\n"
     ]
    }
   ],
   "source": [
    "z=var+3\n",
    "print(z)"
   ]
  },
  {
   "cell_type": "code",
   "execution_count": 8,
   "id": "afa1be70",
   "metadata": {},
   "outputs": [
    {
     "name": "stdout",
     "output_type": "stream",
     "text": [
      "1.2\n"
     ]
    }
   ],
   "source": [
    "var1=1.20\n",
    "print(var1)"
   ]
  },
  {
   "cell_type": "code",
   "execution_count": 9,
   "id": "7d1f25c3",
   "metadata": {},
   "outputs": [
    {
     "name": "stdout",
     "output_type": "stream",
     "text": [
      "1\n"
     ]
    }
   ],
   "source": [
    "var1=int(var1)\n",
    "print(var1)"
   ]
  },
  {
   "cell_type": "code",
   "execution_count": 11,
   "id": "3aca33ac",
   "metadata": {},
   "outputs": [
    {
     "name": "stdout",
     "output_type": "stream",
     "text": [
      "1\n",
      "2\n"
     ]
    }
   ],
   "source": [
    "var2=var1\n",
    "print(var2)\n",
    "z=var1+var2\n",
    "print(z)"
   ]
  },
  {
   "cell_type": "code",
   "execution_count": 12,
   "id": "60b8bfca",
   "metadata": {},
   "outputs": [
    {
     "name": "stdout",
     "output_type": "stream",
     "text": [
      "hola mundo\n"
     ]
    }
   ],
   "source": [
    "variable=\"hola mundo\"\n",
    "print(variable)"
   ]
  },
  {
   "cell_type": "code",
   "execution_count": 13,
   "id": "85f0ca94",
   "metadata": {
    "collapsed": true
   },
   "outputs": [
    {
     "name": "stdout",
     "output_type": "stream",
     "text": [
      "hola mundo\n"
     ]
    }
   ],
   "source": [
    "variable='hola mundo'\n",
    "print(variable)"
   ]
  },
  {
   "cell_type": "code",
   "execution_count": 15,
   "id": "411a1943",
   "metadata": {},
   "outputs": [
    {
     "name": "stdout",
     "output_type": "stream",
     "text": [
      "Hola 'mundo'\n"
     ]
    }
   ],
   "source": [
    "variable=\"Hola 'mundo'\"\n",
    "print(variable)"
   ]
  },
  {
   "cell_type": "code",
   "execution_count": 18,
   "id": "58ca7390",
   "metadata": {},
   "outputs": [
    {
     "name": "stdout",
     "output_type": "stream",
     "text": [
      "Hola \"mundo\"\n"
     ]
    }
   ],
   "source": [
    "#Variable de texto\n",
    "variable='Hola \"mundo\"'\n",
    "print(variable)"
   ]
  },
  {
   "cell_type": "code",
   "execution_count": 19,
   "id": "5941e766",
   "metadata": {},
   "outputs": [
    {
     "name": "stdout",
     "output_type": "stream",
     "text": [
      "Hola\n",
      "Hola\n"
     ]
    }
   ],
   "source": [
    "print(z)\n",
    "z=\"Hola\"\n",
    "print(z)"
   ]
  },
  {
   "cell_type": "code",
   "execution_count": 21,
   "id": "45e443fc",
   "metadata": {},
   "outputs": [
    {
     "name": "stdout",
     "output_type": "stream",
     "text": [
      "3.14\n",
      "10\n"
     ]
    }
   ],
   "source": [
    "#Variable Pi\n",
    "PI=3.14\n",
    "a=10\n",
    "\n",
    "print(PI)\n",
    "print(a)"
   ]
  },
  {
   "cell_type": "code",
   "execution_count": 24,
   "id": "cdb6ea54",
   "metadata": {},
   "outputs": [
    {
     "name": "stdout",
     "output_type": "stream",
     "text": [
      "El resultado es:  31.400000000000002\n"
     ]
    }
   ],
   "source": [
    "x=PI*a\n",
    "print(\"El resultado es: \",x)"
   ]
  },
  {
   "cell_type": "code",
   "execution_count": 25,
   "id": "a17e52a5",
   "metadata": {},
   "outputs": [
    {
     "ename": "SyntaxError",
     "evalue": "unexpected EOF while parsing (<ipython-input-25-688950385000>, line 1)",
     "output_type": "error",
     "traceback": [
      "\u001b[0;36m  File \u001b[0;32m\"<ipython-input-25-688950385000>\"\u001b[0;36m, line \u001b[0;32m1\u001b[0m\n\u001b[0;31m    print(x\u001b[0m\n\u001b[0m           ^\u001b[0m\n\u001b[0;31mSyntaxError\u001b[0m\u001b[0;31m:\u001b[0m unexpected EOF while parsing\n"
     ]
    }
   ],
   "source": [
    "print(x"
   ]
  },
  {
   "cell_type": "code",
   "execution_count": 26,
   "id": "be79474e",
   "metadata": {},
   "outputs": [
    {
     "ename": "IndentationError",
     "evalue": "unexpected indent (<ipython-input-26-71b2f52d1ec4>, line 2)",
     "output_type": "error",
     "traceback": [
      "\u001b[0;36m  File \u001b[0;32m\"<ipython-input-26-71b2f52d1ec4>\"\u001b[0;36m, line \u001b[0;32m2\u001b[0m\n\u001b[0;31m    print(x)\u001b[0m\n\u001b[0m    ^\u001b[0m\n\u001b[0;31mIndentationError\u001b[0m\u001b[0;31m:\u001b[0m unexpected indent\n"
     ]
    }
   ],
   "source": [
    "x=10\n",
    " print(x)"
   ]
  },
  {
   "cell_type": "code",
   "execution_count": 27,
   "id": "be92b816",
   "metadata": {},
   "outputs": [
    {
     "ename": "SyntaxError",
     "evalue": "invalid syntax (<ipython-input-27-3fec4615ec14>, line 1)",
     "output_type": "error",
     "traceback": [
      "\u001b[0;36m  File \u001b[0;32m\"<ipython-input-27-3fec4615ec14>\"\u001b[0;36m, line \u001b[0;32m1\u001b[0m\n\u001b[0;31m    var 1=120\u001b[0m\n\u001b[0m        ^\u001b[0m\n\u001b[0;31mSyntaxError\u001b[0m\u001b[0;31m:\u001b[0m invalid syntax\n"
     ]
    }
   ],
   "source": [
    "var 1=120\n",
    "print(var 1)"
   ]
  },
  {
   "cell_type": "code",
   "execution_count": 28,
   "id": "43c6fe1f",
   "metadata": {},
   "outputs": [
    {
     "ename": "SyntaxError",
     "evalue": "invalid syntax (<ipython-input-28-180d1cff63ef>, line 1)",
     "output_type": "error",
     "traceback": [
      "\u001b[0;36m  File \u001b[0;32m\"<ipython-input-28-180d1cff63ef>\"\u001b[0;36m, line \u001b[0;32m1\u001b[0m\n\u001b[0;31m    @var=120\u001b[0m\n\u001b[0m        ^\u001b[0m\n\u001b[0;31mSyntaxError\u001b[0m\u001b[0;31m:\u001b[0m invalid syntax\n"
     ]
    }
   ],
   "source": [
    "@var=120\n",
    "print(@var)"
   ]
  },
  {
   "cell_type": "code",
   "execution_count": 29,
   "id": "6694f448",
   "metadata": {},
   "outputs": [
    {
     "ename": "SyntaxError",
     "evalue": "invalid syntax (<ipython-input-29-38a8e0663fdb>, line 1)",
     "output_type": "error",
     "traceback": [
      "\u001b[0;36m  File \u001b[0;32m\"<ipython-input-29-38a8e0663fdb>\"\u001b[0;36m, line \u001b[0;32m1\u001b[0m\n\u001b[0;31m    1var=1\u001b[0m\n\u001b[0m     ^\u001b[0m\n\u001b[0;31mSyntaxError\u001b[0m\u001b[0;31m:\u001b[0m invalid syntax\n"
     ]
    }
   ],
   "source": [
    "1var=1\n",
    "print(1var)"
   ]
  },
  {
   "cell_type": "code",
   "execution_count": 30,
   "id": "e90bcd7d",
   "metadata": {},
   "outputs": [
    {
     "ename": "SyntaxError",
     "evalue": "cannot assign to operator (<ipython-input-30-08125e12e9ff>, line 1)",
     "output_type": "error",
     "traceback": [
      "\u001b[0;36m  File \u001b[0;32m\"<ipython-input-30-08125e12e9ff>\"\u001b[0;36m, line \u001b[0;32m1\u001b[0m\n\u001b[0;31m    var-1=120\u001b[0m\n\u001b[0m    ^\u001b[0m\n\u001b[0;31mSyntaxError\u001b[0m\u001b[0;31m:\u001b[0m cannot assign to operator\n"
     ]
    }
   ],
   "source": [
    "var-1=120\n",
    "print(var-1)"
   ]
  },
  {
   "cell_type": "code",
   "execution_count": 31,
   "id": "4f83354a",
   "metadata": {},
   "outputs": [
    {
     "name": "stdout",
     "output_type": "stream",
     "text": [
      "10 11 12 13\n"
     ]
    }
   ],
   "source": [
    "var1=10\n",
    "_var1=11\n",
    "var_1=12\n",
    "var_hola=13\n",
    "print(var1, _var1, var_1,var_hola)"
   ]
  },
  {
   "cell_type": "code",
   "execution_count": 32,
   "id": "a0276a58",
   "metadata": {},
   "outputs": [
    {
     "name": "stdout",
     "output_type": "stream",
     "text": [
      "200\n",
      "200\n",
      "200\n"
     ]
    }
   ],
   "source": [
    "var1=var2=var3=200\n",
    "print(var1)\n",
    "print(var2)\n",
    "print(var3)"
   ]
  },
  {
   "cell_type": "code",
   "execution_count": 33,
   "id": "5c61e370",
   "metadata": {},
   "outputs": [
    {
     "name": "stdout",
     "output_type": "stream",
     "text": [
      "10\n",
      "20\n",
      "30\n"
     ]
    }
   ],
   "source": [
    "var1, var2, var3= 10, 20, 30\n",
    "print(var1)\n",
    "print(var2)\n",
    "print(var3)"
   ]
  },
  {
   "cell_type": "code",
   "execution_count": 34,
   "id": "48aa381f",
   "metadata": {},
   "outputs": [
    {
     "data": {
      "text/plain": [
       "5"
      ]
     },
     "execution_count": 34,
     "metadata": {},
     "output_type": "execute_result"
    }
   ],
   "source": [
    "2+3"
   ]
  },
  {
   "cell_type": "code",
   "execution_count": 35,
   "id": "56d11377",
   "metadata": {},
   "outputs": [
    {
     "name": "stdout",
     "output_type": "stream",
     "text": [
      "19.990000000000002\n"
     ]
    },
    {
     "data": {
      "text/plain": [
       "float"
      ]
     },
     "execution_count": 35,
     "metadata": {},
     "output_type": "execute_result"
    }
   ],
   "source": [
    "num1=10\n",
    "num2=9.99\n",
    "num3=num1+num2\n",
    "print(num3)\n",
    "type(num3)"
   ]
  },
  {
   "cell_type": "code",
   "execution_count": 38,
   "id": "3f3dbbd6",
   "metadata": {},
   "outputs": [
    {
     "name": "stdout",
     "output_type": "stream",
     "text": [
      "20.09\n"
     ]
    },
    {
     "data": {
      "text/plain": [
       "float"
      ]
     },
     "execution_count": 38,
     "metadata": {},
     "output_type": "execute_result"
    }
   ],
   "source": [
    "num1=10.1\n",
    "num2=9.99\n",
    "num3=num1+num2\n",
    "print(num3)\n",
    "type(num3)"
   ]
  },
  {
   "cell_type": "code",
   "execution_count": 36,
   "id": "d80cdca7",
   "metadata": {},
   "outputs": [
    {
     "name": "stdout",
     "output_type": "stream",
     "text": [
      "19\n"
     ]
    },
    {
     "data": {
      "text/plain": [
       "int"
      ]
     },
     "execution_count": 36,
     "metadata": {},
     "output_type": "execute_result"
    }
   ],
   "source": [
    "num1=10\n",
    "num2=9\n",
    "num3=num1+num2\n",
    "print(num3)\n",
    "type(num3)"
   ]
  },
  {
   "cell_type": "code",
   "execution_count": 37,
   "id": "a6bc46ae",
   "metadata": {},
   "outputs": [
    {
     "data": {
      "text/plain": [
       "str"
      ]
     },
     "execution_count": 37,
     "metadata": {},
     "output_type": "execute_result"
    }
   ],
   "source": [
    "z=\"hola mundo\"\n",
    "type(z)"
   ]
  },
  {
   "cell_type": "code",
   "execution_count": 40,
   "id": "06df9907",
   "metadata": {},
   "outputs": [
    {
     "name": "stdout",
     "output_type": "stream",
     "text": [
      "3\n"
     ]
    },
    {
     "data": {
      "text/plain": [
       "str"
      ]
     },
     "execution_count": 40,
     "metadata": {},
     "output_type": "execute_result"
    }
   ],
   "source": [
    "ab='3'\n",
    "print(ab)\n",
    "type(ab)"
   ]
  },
  {
   "cell_type": "code",
   "execution_count": 42,
   "id": "a1002150",
   "metadata": {},
   "outputs": [
    {
     "name": "stdout",
     "output_type": "stream",
     "text": [
      "<class 'int'>\n"
     ]
    }
   ],
   "source": [
    "type(int(ab))\n",
    "ba=int(ab)\n",
    "print(type(ba))"
   ]
  },
  {
   "cell_type": "code",
   "execution_count": 46,
   "id": "a238b15b",
   "metadata": {},
   "outputs": [
    {
     "name": "stdout",
     "output_type": "stream",
     "text": [
      "Inserte un numero: 12\n",
      "12\n",
      "14\n",
      "14.0\n"
     ]
    },
    {
     "data": {
      "text/plain": [
       "float"
      ]
     },
     "execution_count": 46,
     "metadata": {},
     "output_type": "execute_result"
    }
   ],
   "source": [
    "a=input(\"Inserte un numero: \")\n",
    "print(a)\n",
    "type(a)\n",
    "c=int(a)+2\n",
    "print(c)\n",
    "d=float(a)+2\n",
    "print(d)\n",
    "type(d)"
   ]
  },
  {
   "cell_type": "code",
   "execution_count": 48,
   "id": "74f8996f",
   "metadata": {},
   "outputs": [
    {
     "data": {
      "text/plain": [
       "3"
      ]
     },
     "execution_count": 48,
     "metadata": {},
     "output_type": "execute_result"
    }
   ],
   "source": [
    "8-5 #Resta"
   ]
  },
  {
   "cell_type": "code",
   "execution_count": 49,
   "id": "a390828d",
   "metadata": {},
   "outputs": [
    {
     "data": {
      "text/plain": [
       "12"
      ]
     },
     "execution_count": 49,
     "metadata": {},
     "output_type": "execute_result"
    }
   ],
   "source": [
    "2*6 #Multiplicacion"
   ]
  },
  {
   "cell_type": "code",
   "execution_count": 52,
   "id": "4a4c535e",
   "metadata": {},
   "outputs": [
    {
     "name": "stdout",
     "output_type": "stream",
     "text": [
      "4.0\n"
     ]
    },
    {
     "data": {
      "text/plain": [
       "float"
      ]
     },
     "execution_count": 52,
     "metadata": {},
     "output_type": "execute_result"
    }
   ],
   "source": [
    "a=12/3 #Division\n",
    "print(a)\n",
    "type(a)"
   ]
  },
  {
   "cell_type": "code",
   "execution_count": 54,
   "id": "7b37bee8",
   "metadata": {},
   "outputs": [
    {
     "data": {
      "text/plain": [
       "4"
      ]
     },
     "execution_count": 54,
     "metadata": {},
     "output_type": "execute_result"
    }
   ],
   "source": [
    "12//3 #Division entera"
   ]
  },
  {
   "cell_type": "code",
   "execution_count": 55,
   "id": "e946d94a",
   "metadata": {},
   "outputs": [
    {
     "data": {
      "text/plain": [
       "1"
      ]
     },
     "execution_count": 55,
     "metadata": {},
     "output_type": "execute_result"
    }
   ],
   "source": [
    "7%3 #Modulo o retorna el sobrante o remanente de la division\n"
   ]
  },
  {
   "cell_type": "code",
   "execution_count": 56,
   "id": "25a07e61",
   "metadata": {},
   "outputs": [
    {
     "name": "stdout",
     "output_type": "stream",
     "text": [
      "A es un numero impar\n"
     ]
    }
   ],
   "source": [
    "a=11\n",
    "if a%2==0:\n",
    "    print(\"A es un numero par\")\n",
    "else:\n",
    "    print(\"A es un numero impar\")"
   ]
  },
  {
   "cell_type": "code",
   "execution_count": 59,
   "id": "000ccd18",
   "metadata": {
    "scrolled": true
   },
   "outputs": [
    {
     "name": "stdout",
     "output_type": "stream",
     "text": [
      "49\n"
     ]
    }
   ],
   "source": [
    "cuadrado=7**2 #potencia de dos\n",
    "print(cuadrado)"
   ]
  },
  {
   "cell_type": "code",
   "execution_count": 62,
   "id": "3967518e",
   "metadata": {},
   "outputs": [
    {
     "name": "stdout",
     "output_type": "stream",
     "text": [
      "8\n"
     ]
    }
   ],
   "source": [
    "#potencia de dos (2*2*2)\n",
    "cubico=2**3\n",
    "print(cubico)"
   ]
  },
  {
   "cell_type": "code",
   "execution_count": 63,
   "id": "38adfec9",
   "metadata": {},
   "outputs": [
    {
     "name": "stdout",
     "output_type": "stream",
     "text": [
      "5.744562646538029\n"
     ]
    }
   ],
   "source": [
    "x=15+18\n",
    "raiz=x**(1/2) #Raiz cuadrada\n",
    "print(raiz)"
   ]
  },
  {
   "cell_type": "code",
   "execution_count": 64,
   "id": "12dd4984",
   "metadata": {},
   "outputs": [
    {
     "data": {
      "text/plain": [
       "1"
      ]
     },
     "execution_count": 64,
     "metadata": {},
     "output_type": "execute_result"
    }
   ],
   "source": [
    "5-3-1"
   ]
  },
  {
   "cell_type": "code",
   "execution_count": 66,
   "id": "b62348f4",
   "metadata": {},
   "outputs": [
    {
     "data": {
      "text/plain": [
       "27"
      ]
     },
     "execution_count": 66,
     "metadata": {},
     "output_type": "execute_result"
    }
   ],
   "source": [
    "3*3**2"
   ]
  },
  {
   "cell_type": "code",
   "execution_count": 68,
   "id": "7bdd502d",
   "metadata": {},
   "outputs": [
    {
     "data": {
      "text/plain": [
       "10"
      ]
     },
     "execution_count": 68,
     "metadata": {},
     "output_type": "execute_result"
    }
   ],
   "source": [
    "var=\"Hola mundo\"\n",
    "len(var)"
   ]
  },
  {
   "cell_type": "code",
   "execution_count": 69,
   "id": "8bd18c67",
   "metadata": {},
   "outputs": [
    {
     "name": "stdout",
     "output_type": "stream",
     "text": [
      "16\n"
     ]
    }
   ],
   "source": [
    "primer_numero=7\n",
    "segundo_numero=9\n",
    "suma=primer_numero+segundo_numero\n",
    "print(suma)"
   ]
  },
  {
   "cell_type": "code",
   "execution_count": 72,
   "id": "a1f73187",
   "metadata": {},
   "outputs": [
    {
     "name": "stdout",
     "output_type": "stream",
     "text": [
      "Hola de nuevo\n"
     ]
    },
    {
     "data": {
      "text/plain": [
       "13"
      ]
     },
     "execution_count": 72,
     "metadata": {},
     "output_type": "execute_result"
    }
   ],
   "source": [
    "primer_cadena=\"Hola \"\n",
    "segundo_cadena=\"de nuevo\"\n",
    "frase=primer_cadena+segundo_cadena\n",
    "print(frase)\n",
    "len(frase)"
   ]
  }
 ],
 "metadata": {
  "kernelspec": {
   "display_name": "Python 3",
   "language": "python",
   "name": "python3"
  },
  "language_info": {
   "codemirror_mode": {
    "name": "ipython",
    "version": 3
   },
   "file_extension": ".py",
   "mimetype": "text/x-python",
   "name": "python",
   "nbconvert_exporter": "python",
   "pygments_lexer": "ipython3",
   "version": "3.9.1"
  }
 },
 "nbformat": 4,
 "nbformat_minor": 5
}
