{
 "cells": [
  {
   "cell_type": "code",
   "execution_count": 31,
   "id": "4b5cc000",
   "metadata": {},
   "outputs": [
    {
     "name": "stdout",
     "output_type": "stream",
     "text": [
      "{20170136837: {'nombres': 'Jorge Juan', 'apellidos': 'Moreno, Lopez', 'documento': 88481595, 'programa': 'ARQU', 'materias': [{'facultad': 'Arquitectura', 'codigo': 'ARQU-2113', 'nota': 2.97, 'creditos': 2, 'retirada': 'No'}, {'facultad': 'Arquitectura', 'codigo': 'ARQU-5048', 'nota': 4.26, 'creditos': 0, 'retirada': 'No'}]}, 20130225137: {'nombres': 'Sara Carolina', 'apellidos': 'Gómez, Fernández', 'documento': 58770043, 'programa': 'ARQD', 'materias': [{'facultad': 'Arquitectura', 'codigo': 'ARQU-7738', 'nota': 3.36, 'creditos': 3, 'retirada': 'No'}, {'facultad': 'Arquitectura', 'codigo': 'ARQU-7698', 'nota': 1.59, 'creditos': 4, 'retirada': 'Si'}]}}\n"
     ]
    }
   ],
   "source": [
    "info={\n",
    "    20170136837:{\n",
    "        'nombres':'Jorge Juan',\n",
    "        'apellidos':'Moreno, Lopez',\n",
    "        'documento':88481595,\n",
    "        'programa':'ARQU',\n",
    "        'materias':[\n",
    "            {\n",
    "                'facultad':'Arquitectura',\n",
    "                'codigo':'ARQU-2113',\n",
    "                'nota':2.97,\n",
    "                'creditos':2,\n",
    "                'retirada':'No'\n",
    "            },\n",
    "            {\n",
    "                'facultad':'Arquitectura',\n",
    "                'codigo':'ARQU-5048',\n",
    "                'nota':4.26,\n",
    "                'creditos':0,\n",
    "                'retirada':'No'\n",
    "            }\n",
    "        ]\n",
    "        \n",
    "    },\n",
    "    20130225137:{\n",
    "        'nombres':'Sara Carolina',\n",
    "        'apellidos':'Gómez, Fernández',\n",
    "        'documento':58770043,\n",
    "        'programa':'ARQD',\n",
    "        'materias':[\n",
    "            {\n",
    "                'facultad':'Arquitectura',\n",
    "                'codigo':'ARQU-7738',\n",
    "                'nota':3.36,\n",
    "                'creditos':3,\n",
    "                'retirada':'No'\n",
    "            },\n",
    "            {\n",
    "                'facultad':'Arquitectura',\n",
    "                'codigo':'ARQU-7698',\n",
    "                'nota':1.59,\n",
    "                'creditos':4,\n",
    "                'retirada':'Si'\n",
    "            }\n",
    "        ]\n",
    "        \n",
    "    }\n",
    "    \n",
    "}\n",
    "\n",
    "print(info)"
   ]
  },
  {
   "cell_type": "code",
   "execution_count": 10,
   "id": "2c1d38f9",
   "metadata": {},
   "outputs": [
    {
     "name": "stdout",
     "output_type": "stream",
     "text": [
      "{'nombres': 'Sara Carolina', 'apellidos': 'Gómez, Fernández', 'documento': 58770043, 'programa': 'ARQD', 'promedio': 0, 'correo': '', 'codigo': 20130225137}\n",
      "[{'facultad': 'Arquitectura', 'codigo': 'ARQU-7738', 'nota': 3.36, 'creditos': 3, 'retirada': 'No'}, {'facultad': 'Arquitectura', 'codigo': 'ARQU-7698', 'nota': 1.59, 'creditos': 4, 'retirada': 'Si'}]\n"
     ]
    }
   ],
   "source": [
    "for a in info:\n",
    "    #La variable a corresponde a las claves de los estudiantes en el diccionario info\n",
    "    #print(a)\n",
    "    #print(info[a]) #Accediendo a los valores de cada estudiante mediante la clave a\n",
    "    #print()\n",
    "    participante={}\n",
    "    participante=info[a]\n",
    "    #Metodo setdefault Recorre el diccionario info buscando la clave promedio, si no se encuentra crea una clave\n",
    "    #promedio y añade un valor por defecto de 0\n",
    "    participante.setdefault('promedio',0) \n",
    "    participante.setdefault('correo','') \n",
    "    participante.setdefault('codigo',a) \n",
    "    materias=participante.pop('materias')\n",
    "    \n",
    "print(participante)\n",
    "print(materias)"
   ]
  },
  {
   "cell_type": "code",
   "execution_count": 14,
   "id": "ed246262",
   "metadata": {},
   "outputs": [
    {
     "name": "stdout",
     "output_type": "stream",
     "text": [
      "10.08\n",
      "3\n"
     ]
    }
   ],
   "source": [
    "sumatoria=0\n",
    "cantidad=0\n",
    "#Aqui encontramo el promedio ponderado de las notas de un estudiante que no haya retirado una materia\n",
    "for m in materias:\n",
    "    if m['retirada']=='No':\n",
    "        sumatoria+=m['nota']*m['creditos']\n",
    "        cantidad+=m['creditos']\n",
    "    if cantidad>0 and sumatoria>0:\n",
    "        participante['promedio']=sumatoria/cantidad\n",
    "    \n",
    "print(sumatoria)\n",
    "print(cantidad)"
   ]
  },
  {
   "cell_type": "code",
   "execution_count": 28,
   "id": "b2f682f4",
   "metadata": {},
   "outputs": [
    {
     "name": "stdout",
     "output_type": "stream",
     "text": [
      "{'nombres': 'Sara Carolina', 'apellidos': 'Gómez, Fernández', 'documento': 58770043, 'programa': 'ARQD', 'promedio': 3.36, 'correo': 'sc.gómez43', 'codigo': 20130225137}\n",
      "SC.Gómez43\n",
      "\n",
      "sc.gómez43\n",
      "{'nombres': 'Sara Carolina', 'apellidos': 'Gómez, Fernández', 'documento': 58770043, 'programa': 'ARQD', 'promedio': 3.36, 'correo': 'sc.gómez43', 'codigo': 20130225137}\n"
     ]
    }
   ],
   "source": [
    "ganador={}\n",
    "mayorPromedio=0\n",
    "#Si el promedio del estudiante participante es mayor al valor del mayorPromedio, entonces guardo la informacion\n",
    "#de ese usuario participante en el usuario ganador\n",
    "if participante['promedio']>mayorPromedio:\n",
    "    ganador=participante \n",
    "    mayorPromedio=participante['promedio']\n",
    "#Si existen usuarios con el mismo promedio\n",
    "elif participante['promedio']==mayorPromedio:\n",
    "    anioGanador=int(str(ganador['codigo'])[0:4])\n",
    "    anioParti=int(str(participante['codigo'])[0:4])\n",
    "    periodoGanador=int(str(ganador['codigo'])[4:6])\n",
    "    periodoParti=int(str(participante['codigo'])[4:6])\n",
    "    #Vamos a evaluar las condiciones si los promedios de uno o mas estudiantes son iguales, en este caso\n",
    "    #se decide a partir del año de ingreso del estudiante en la universidad\n",
    "    if anioParti<anioGanador:\n",
    "        ganador=participante\n",
    "        mayorPromedio=participante['promedio']\n",
    "    #Sino, si los años de ingreso de ambos estudiantes son iguales, se procede a evaluar a partir del periodo\n",
    "    #de ingreso de ambos estudiantes\n",
    "    elif anioParti==anioGanador:\n",
    "        #Evaluando a partir del periodo de ingreso de los estudiantes en la universidad\n",
    "        if periodoParti<periodoGanador:\n",
    "            ganador=participante\n",
    "            mayorPromedio=participante['promedio']\n",
    "            \n",
    "print(ganador)\n",
    "#Aqui solamente estamos encontrando la posicion para el nombre del espacio, y para el apellido de la coma(,)\n",
    "#Las variables que estamos construyendo aqui nos permiten utilizar en el slicing para obtener la primer \n",
    "#letra del primer nombre y segundo nombre del usuario, asimismo para el apellido\n",
    "corteNombre=ganador['nombres'].find(' ')\n",
    "corteApellidos=ganador['apellidos'].find(',')\n",
    "\n",
    "#Cuando evaluamos una condicion y la igualamos a -1, quiere decir que no encontro nada\n",
    "#Se evalua si el usuario tiene dos nombres, por eso se evalua la condicion si encuentra un espacio en el valor de la clave nombre\n",
    "if not(ganador['nombres'].find(' ')==-1): #En este caso el nombre esta compuesto por dos nombres\n",
    "    c=ganador['nombres'][:1]+ganador['nombres'][corteNombre+1:corteNombre+2]+'.'+ganador['apellidos'][:corteApellidos]+str(ganador['documento'])[-2:]\n",
    "    print(c)\n",
    "#Si el usuario tiene un nombre ingresa a esta condicion\n",
    "else:\n",
    "    c=ganador['nombres'][:1]+ganador['apellidos'][:1]+ganador['apellidos'][corteApellidos+2:]+str(ganador['documento'])[-2:]\n",
    "\n",
    "#La funcion lower me permite convertir un texto en minuscula\n",
    "c=c.lower()\n",
    "\n",
    "print()\n",
    "print(c)\n",
    "\n",
    "ganador['correo']=c\n",
    "print(ganador)"
   ]
  },
  {
   "cell_type": "code",
   "execution_count": 4,
   "id": "adaf3b44",
   "metadata": {},
   "outputs": [
    {
     "data": {
      "text/plain": [
       "[20130225137,\n",
       " 'Sara Carolina',\n",
       " 'Gómez, Fernández',\n",
       " 58770043,\n",
       " 'ARQD',\n",
       " 3.36,\n",
       " 'sc.gómez43']"
      ]
     },
     "execution_count": 4,
     "metadata": {},
     "output_type": "execute_result"
    }
   ],
   "source": [
    "info={\n",
    "    20170136837:{\n",
    "        'nombres':'Jorge Juan',\n",
    "        'apellidos':'Moreno, Lopez',\n",
    "        'documento':88481595,\n",
    "        'programa':'ARQU',\n",
    "        'materias':[\n",
    "            {\n",
    "                'facultad':'Arquitectura',\n",
    "                'codigo':'ARQU-2113',\n",
    "                'nota':2.97,\n",
    "                'creditos':2,\n",
    "                'retirada':'No'\n",
    "            },\n",
    "            {\n",
    "                'facultad':'Arquitectura',\n",
    "                'codigo':'ARQU-5048',\n",
    "                'nota':4.26,\n",
    "                'creditos':0,\n",
    "                'retirada':'No'\n",
    "            }\n",
    "        ]\n",
    "        \n",
    "    },\n",
    "    20130225137:{\n",
    "        'nombres':'Sara Carolina',\n",
    "        'apellidos':'Gómez, Fernández',\n",
    "        'documento':58770043,\n",
    "        'programa':'ARQD',\n",
    "        'materias':[\n",
    "            {\n",
    "                'facultad':'Arquitectura',\n",
    "                'codigo':'ARQU-7738',\n",
    "                'nota':3.36,\n",
    "                'creditos':3,\n",
    "                'retirada':'No'\n",
    "            },\n",
    "            {\n",
    "                'facultad':'Arquitectura',\n",
    "                'codigo':'ARQU-7698',\n",
    "                'nota':1.59,\n",
    "                'creditos':4,\n",
    "                'retirada':'Si'\n",
    "            }\n",
    "        ]\n",
    "        \n",
    "    }\n",
    "    \n",
    "}\n",
    "\n",
    "def Seleccion(info: dict) -> list:\n",
    "    ganador={}\n",
    "  \n",
    "    mayorPromedio=0\n",
    "    for a in info:\n",
    "        \n",
    "        participante={}#{'nombre':'', 'apellido':'', 'documento':0, 'programa':'','promedio':0,'correo':''}\n",
    "        participante=info[a]\n",
    "        participante.setdefault('promedio',0)\n",
    "        participante.setdefault('correo','')\n",
    "        participante.setdefault('codigo',a)\n",
    "        materias= participante.pop('materias')\n",
    "        sumatoria=0\n",
    "        cantidad=0\n",
    "        for m in materias:\n",
    "            if m['retirada']=='No':\n",
    "                sumatoria+=m['nota']*m['creditos']\n",
    "                cantidad+=m['creditos']\n",
    "        if cantidad >0 and sumatoria>0:\n",
    "            participante['promedio']=sumatoria/cantidad\n",
    "            \n",
    "        if participante['promedio']>mayorPromedio:\n",
    "            ganador=participante\n",
    "            mayorPromedio=participante['promedio']\n",
    "        elif participante['promedio']==mayorPromedio: #and not(participante['promedio']==0):\n",
    "            añoGanador=int(str(ganador['codigo'])[0:4])\n",
    "            añoParti=int(str(participante['codigo'])[0:4])\n",
    "            periodoGanador=int(str(ganador['codigo'])[4:6])\n",
    "            periodoParti=int(str(participante['codigo'])[4:6])\n",
    "            \n",
    "            if añoParti< añoGanador:\n",
    "                ganador=participante\n",
    "                mayorPromedio=participante['promedio']   \n",
    "            elif añoParti== añoGanador:\n",
    "                if periodoParti< periodoGanador:\n",
    "                    ganador=participante\n",
    "                    mayorPromedio=participante['promedio']     \n",
    "    \n",
    "    corteNombre=ganador['nombres'].find(' ')\n",
    "    corteApellido=ganador['apellidos'].find(',')\n",
    "   \n",
    "    if not(ganador['nombres'].find(' ')==-1):        \n",
    "        c=ganador['nombres'][:1]+ganador['nombres'][corteNombre+1:corteNombre+2]+\".\"+ganador['apellidos'][:corteApellido]+str(ganador['documento'])[-2:]  \n",
    "    else:\n",
    "        c= ganador['nombres'][:1] + ganador['apellidos'][:1]+\".\"+ganador['apellidos'][corteApellido+2:]+str(ganador['documento'])[-2:]  \n",
    "    c=c.lower()\n",
    "      \n",
    "    ganador['correo']=c\n",
    "    return [ganador['codigo'], ganador['nombres'], ganador['apellidos'], ganador['documento'], ganador['programa'], ganador['promedio'],ganador['correo']]\n",
    "\n",
    "\n",
    "Seleccion(info)"
   ]
  },
  {
   "cell_type": "code",
   "execution_count": 32,
   "id": "ddd2a45c",
   "metadata": {},
   "outputs": [
    {
     "data": {
      "text/plain": [
       "[20130225137,\n",
       " 'Sara Carolina',\n",
       " 'Gómez, Fernández',\n",
       " 58770043,\n",
       " 'ARQD',\n",
       " 3.36,\n",
       " 'sc.gómez43']"
      ]
     },
     "execution_count": 32,
     "metadata": {},
     "output_type": "execute_result"
    }
   ],
   "source": [
    "Seleccion(info)"
   ]
  }
 ],
 "metadata": {
  "kernelspec": {
   "display_name": "Python 3",
   "language": "python",
   "name": "python3"
  },
  "language_info": {
   "codemirror_mode": {
    "name": "ipython",
    "version": 3
   },
   "file_extension": ".py",
   "mimetype": "text/x-python",
   "name": "python",
   "nbconvert_exporter": "python",
   "pygments_lexer": "ipython3",
   "version": "3.9.1"
  }
 },
 "nbformat": 4,
 "nbformat_minor": 5
}
