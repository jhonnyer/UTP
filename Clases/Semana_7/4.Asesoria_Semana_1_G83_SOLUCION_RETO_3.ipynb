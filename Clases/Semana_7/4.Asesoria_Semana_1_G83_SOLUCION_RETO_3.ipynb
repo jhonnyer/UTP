{
 "cells": [
  {
   "cell_type": "code",
   "execution_count": 2,
   "id": "56aa9c21",
   "metadata": {},
   "outputs": [
    {
     "name": "stdout",
     "output_type": "stream",
     "text": [
      "{'key1': 12}\n"
     ]
    }
   ],
   "source": [
    "#Diccionarios\n",
    "info={'key1':12}\n",
    "print(info)"
   ]
  },
  {
   "cell_type": "code",
   "execution_count": 3,
   "id": "06df2f3e",
   "metadata": {},
   "outputs": [
    {
     "name": "stdout",
     "output_type": "stream",
     "text": [
      "{'key1': 12, 'key2': 'hola', 'key3': 2.3, 'key4': [1, 2, 3], 'key5': {'titulo': 'español', 'descripcion': 'literatura'}}\n"
     ]
    }
   ],
   "source": [
    "#Diccionarios\n",
    "info={'key1':12,'key2':'hola','key3':2.3,'key4':[1,2,3],'key5':{'titulo':'español','descripcion':'literatura'}}\n",
    "print(info)"
   ]
  },
  {
   "cell_type": "code",
   "execution_count": 11,
   "id": "639ecc37",
   "metadata": {},
   "outputs": [
    {
     "name": "stdout",
     "output_type": "stream",
     "text": [
      "12\n",
      "[1, 2, 3]\n",
      "3\n",
      "\n",
      "{'titulo': 'español', 'descripcion': 'literatura'}\n",
      "\n",
      "literatura\n"
     ]
    }
   ],
   "source": [
    "print(info['key1'])\n",
    "print(info['key4'])\n",
    "#Acceder a los elementos de la lista que esta en la key4, el elemento en la posicion 2\n",
    "print(info['key4'][2])\n",
    "#Acceder a la key5 que contiene un diccionario\n",
    "print()\n",
    "print(info['key5'])\n",
    "#Acceder a los elementos del diccionario en la key5 lo hago mediante un corchete, y en el \n",
    "#corchete coloco la clave\n",
    "print()\n",
    "print(info['key5']['descripcion'])"
   ]
  },
  {
   "cell_type": "code",
   "execution_count": 12,
   "id": "fb0cbad4",
   "metadata": {},
   "outputs": [
    {
     "name": "stdout",
     "output_type": "stream",
     "text": [
      "{'key1': 12, 'key2': 'hola', 'key3': 2.3, 'key4': [1, 2, 3], 'key5': {'titulo': 'español', 'descripcion': 'Verbos'}}\n"
     ]
    }
   ],
   "source": [
    "#Modificar un valor de este diccionario\n",
    "info['key5']['descripcion']='Verbos'\n",
    "print(info)"
   ]
  },
  {
   "cell_type": "code",
   "execution_count": 15,
   "id": "d18783b9",
   "metadata": {},
   "outputs": [
    {
     "name": "stdout",
     "output_type": "stream",
     "text": [
      "{'key1': 12, 'key2': 'hola', 'key3': 2.3, 'key4': [1, 2, 3], 'key5': {'titulo': 'español', 'descripcion': 'literatura'}}\n",
      "12\n"
     ]
    }
   ],
   "source": [
    "#Diccionarios, voy a utilizr el valor de un diccionrio numerico y lo voy a operar\n",
    "info={'key1':12,'key2':'hola','key3':2.3,'key4':[1,2,3],'key5':{'titulo':'español','descripcion':'literatura'}}\n",
    "print(info)\n",
    "\n",
    "#HE almacenado de valor numerico de un valor del diccionario correspondiente a la key1\n",
    "#y lo he almacenado en la variable var\n",
    "var=info['key1']\n",
    "print(var)"
   ]
  },
  {
   "cell_type": "code",
   "execution_count": 17,
   "id": "0fe0b4fc",
   "metadata": {
    "scrolled": true
   },
   "outputs": [
    {
     "name": "stdout",
     "output_type": "stream",
     "text": [
      "{'key1': 12, 'key2': 'hola', 'key3': 2.3, 'key4': [1, 2, 3], 'key5': {'titulo': 'español', 'descripcion': 'literatura'}}\n",
      "24\n",
      "\n",
      "{'key1': 24, 'key2': 'hola', 'key3': 2.3, 'key4': [1, 2, 3], 'key5': {'titulo': 'español', 'descripcion': 'literatura'}}\n"
     ]
    }
   ],
   "source": [
    "#Diccionarios, voy a utilizr el valor de un diccionrio numerico y lo voy a operar\n",
    "info={'key1':12,'key2':'hola','key3':2.3,'key4':[1,2,3],'key5':{'titulo':'español','descripcion':'literatura'}}\n",
    "print(info)\n",
    "\n",
    "#HE almacenado de valor numerico de un valor del diccionario correspondiente a la key1\n",
    "#y lo he almacenado en la variable var\n",
    "info['key1']*=2\n",
    "print(info['key1'])\n",
    "print()\n",
    "print(info)"
   ]
  },
  {
   "cell_type": "code",
   "execution_count": 436,
   "id": "87b72600",
   "metadata": {},
   "outputs": [
    {
     "name": "stdout",
     "output_type": "stream",
     "text": [
      "{20170136837: {'nombres': 'Jorge Juan', 'apellidos': 'Moreno, Lopez', 'documento': 88481595, 'programa': 'ARQU', 'materias': [{'facultad': 'Arquitectura', 'codigo': 'ARQU-2113', 'nota': 2.97, 'creditos': 2, 'retirada': 'No'}, {'facultad': 'Arquitectura', 'codigo': 'ARQU-5048', 'nota': 4.26, 'creditos': 0, 'retirada': 'No'}]}, 20130225137: {'nombres': 'Sara Carolina', 'apellidos': 'Gómez, Fernández', 'documento': 58770043, 'programa': 'ARQD', 'materias': [{'facultad': 'Arquitectura', 'codigo': 'ARQU-7738', 'nota': 3.36, 'creditos': 3, 'retirada': 'No'}, {'facultad': 'Arquitectura', 'codigo': 'ARQU-7698', 'nota': 1.59, 'creditos': 4, 'retirada': 'Si'}]}}\n"
     ]
    }
   ],
   "source": [
    "# DIccionario del ejercicio\n",
    "\n",
    "info={\n",
    "    20170136837:{\n",
    "        'nombres':'Jorge Juan',\n",
    "        'apellidos':'Moreno, Lopez',\n",
    "        'documento':88481595,\n",
    "        'programa':'ARQU',\n",
    "        'materias':[\n",
    "            {\n",
    "                'facultad':'Arquitectura',\n",
    "                'codigo':'ARQU-2113',\n",
    "                'nota':2.97,\n",
    "                'creditos':2,\n",
    "                'retirada':'No'\n",
    "            },\n",
    "            {\n",
    "                'facultad':'Arquitectura',\n",
    "                'codigo':'ARQU-5048',\n",
    "                'nota':4.26,\n",
    "                'creditos':0,\n",
    "                'retirada':'No'\n",
    "            }\n",
    "        ]\n",
    "        \n",
    "    },\n",
    "    20130225137:{\n",
    "        'nombres':'Sara Carolina',\n",
    "        'apellidos':'Gómez, Fernández',\n",
    "        'documento':58770043,\n",
    "        'programa':'ARQD',\n",
    "        'materias':[\n",
    "            {\n",
    "                'facultad':'Arquitectura',\n",
    "                'codigo':'ARQU-7738',\n",
    "                'nota':3.36,\n",
    "                'creditos':3,\n",
    "                'retirada':'No'\n",
    "            },\n",
    "            {\n",
    "                'facultad':'Arquitectura',\n",
    "                'codigo':'ARQU-7698',\n",
    "                'nota':1.59,\n",
    "                'creditos':4,\n",
    "                'retirada':'Si'\n",
    "            }\n",
    "        ]\n",
    "        \n",
    "    }\n",
    "    \n",
    "}\n",
    "\n",
    "print(info)"
   ]
  },
  {
   "cell_type": "code",
   "execution_count": 25,
   "id": "3cf21b53",
   "metadata": {},
   "outputs": [
    {
     "data": {
      "text/plain": [
       "[{'facultad': 'Arquitectura',\n",
       "  'codigo': 'ARQU-7738',\n",
       "  'nota': 3.36,\n",
       "  'creditos': 3,\n",
       "  'retirada': 'No'},\n",
       " {'facultad': 'Arquitectura',\n",
       "  'codigo': 'ARQU-7698',\n",
       "  'nota': 1.59,\n",
       "  'creditos': 4,\n",
       "  'retirada': 'Si'}]"
      ]
     },
     "execution_count": 25,
     "metadata": {},
     "output_type": "execute_result"
    }
   ],
   "source": [
    "#Vamos a acceder a la nota de sara carolina\n",
    "#primero accedemos a los datos de sara  mediante el codigo\n",
    "#Despues accedemos a las materias\n",
    "info[20130225137]['materias']\n"
   ]
  },
  {
   "cell_type": "code",
   "execution_count": 37,
   "id": "8e4490c1",
   "metadata": {},
   "outputs": [
    {
     "name": "stdout",
     "output_type": "stream",
     "text": [
      "3.36\n"
     ]
    }
   ],
   "source": [
    "#Vamos a acceder a la nota de sara carolina\n",
    "#primero accedemos a los datos de sara  mediante el codigo\n",
    "#Despues accedemos a las materias\n",
    "if info[20130225137]['materias'][0]['retirada']=='No':\n",
    "    var=info[20130225137]['materias'][0]['nota']\n",
    "    print(var)\n",
    "else:\n",
    "    print(\"Adios\")"
   ]
  },
  {
   "cell_type": "code",
   "execution_count": 304,
   "id": "d468e6eb",
   "metadata": {},
   "outputs": [
    {
     "name": "stdout",
     "output_type": "stream",
     "text": [
      "[(20170136837, {'nombres': 'Jorge Juan', 'apellidos': 'Moreno, Lopez', 'documento': 88481595, 'programa': 'ARQU', 'materias': [{'facultad': 'Arquitectura', 'codigo': 'ARQU-2113', 'nota': 2.97, 'creditos': 2, 'retirada': 'No'}, {'facultad': 'Arquitectura', 'codigo': 'ARQU-5048', 'nota': 4.26, 'creditos': 0, 'retirada': 'No'}]})]\n",
      "[(20170136837, {'nombres': 'Jorge Juan', 'apellidos': 'Moreno, Lopez', 'documento': 88481595, 'programa': 'ARQU', 'materias': [{'facultad': 'Arquitectura', 'codigo': 'ARQU-2113', 'nota': 2.97, 'creditos': 2, 'retirada': 'No'}, {'facultad': 'Arquitectura', 'codigo': 'ARQU-5048', 'nota': 4.26, 'creditos': 0, 'retirada': 'No'}]}), (20130225137, {'nombres': 'Sara Carolina', 'apellidos': 'Gómez, Fernández', 'documento': 58770043, 'programa': 'ARQD', 'materias': [{'facultad': 'Arquitectura', 'codigo': 'ARQU-7738', 'nota': 3.36, 'creditos': 3, 'retirada': 'No'}, {'facultad': 'Arquitectura', 'codigo': 'ARQU-7698', 'nota': 1.59, 'creditos': 4, 'retirada': 'Si'}]})]\n",
      "\n",
      "Recorrer materias por cada estudiante\n",
      "\n",
      "20170136837 [{'facultad': 'Arquitectura', 'codigo': 'ARQU-2113', 'nota': 2.97, 'creditos': 2, 'retirada': 'No'}, {'facultad': 'Arquitectura', 'codigo': 'ARQU-5048', 'nota': 4.26, 'creditos': 0, 'retirada': 'No'}]\n",
      "\n",
      "20130225137 [{'facultad': 'Arquitectura', 'codigo': 'ARQU-7738', 'nota': 3.36, 'creditos': 3, 'retirada': 'No'}, {'facultad': 'Arquitectura', 'codigo': 'ARQU-7698', 'nota': 1.59, 'creditos': 4, 'retirada': 'Si'}]\n",
      "\n",
      "Lista 2\n",
      "\n",
      "[(20170136837, [{'facultad': 'Arquitectura', 'codigo': 'ARQU-2113', 'nota': 2.97, 'creditos': 2, 'retirada': 'No'}, {'facultad': 'Arquitectura', 'codigo': 'ARQU-5048', 'nota': 4.26, 'creditos': 0, 'retirada': 'No'}]), (20130225137, [{'facultad': 'Arquitectura', 'codigo': 'ARQU-7738', 'nota': 3.36, 'creditos': 3, 'retirada': 'No'}, {'facultad': 'Arquitectura', 'codigo': 'ARQU-7698', 'nota': 1.59, 'creditos': 4, 'retirada': 'Si'}])]\n",
      "\n"
     ]
    }
   ],
   "source": [
    "#Yo tengo los datos de los estudiantes\n",
    "lista1=list()\n",
    "for i,valor in info.items():\n",
    "    lista1.append((i,valor))\n",
    "    print(lista1)\n",
    "print()\n",
    "# print(lista[1])\n",
    "\n",
    "print(\"Recorrer materias por cada estudiante\")\n",
    "#Hasta aqui yo tengo los datos de las materias por cada estudiante\n",
    "print()\n",
    "lista2=list()\n",
    "for i in lista1:\n",
    "    print(i[0],i[1]['materias'])\n",
    "    lis=i[0],i[1]['materias']\n",
    "    lista2.append(lis)\n",
    "    print()\n",
    "print(\"Lista 2\")\n",
    "print()\n",
    "print(lista2)\n",
    "\n",
    "print()\n",
    "# lista2=dict(lista2)\n",
    "# print()\n",
    "# print(lista2)"
   ]
  },
  {
   "cell_type": "code",
   "execution_count": 325,
   "id": "0de0238a",
   "metadata": {
    "scrolled": false
   },
   "outputs": [
    {
     "name": "stdout",
     "output_type": "stream",
     "text": [
      "\n",
      "Codigos de los estudiantes\n",
      "[20170136837, 20130225137]\n",
      "\n",
      "\n",
      "Lista 3\n",
      "\n",
      "[[{'facultad': 'Arquitectura', 'codigo': 'ARQU-2113', 'nota': 2.97, 'creditos': 2, 'retirada': 'No'}, {'facultad': 'Arquitectura', 'codigo': 'ARQU-5048', 'nota': 4.26, 'creditos': 0, 'retirada': 'No'}], [{'facultad': 'Arquitectura', 'codigo': 'ARQU-7738', 'nota': 3.36, 'creditos': 3, 'retirada': 'No'}, {'facultad': 'Arquitectura', 'codigo': 'ARQU-7698', 'nota': 1.59, 'creditos': 4, 'retirada': 'Si'}]]\n",
      "\n",
      "Recorrer las notas por cada estudiante a partir de la lista 3\n",
      "Codigo estudiante:  20170136837  Nota:  2.97  Retirada:  No\n",
      "Codigo estudiante:  20170136837  Nota:  4.26  Retirada:  No\n",
      "Codigo estudiante:  20130225137  Nota:  3.36  Retirada:  No\n",
      "[(20170136837, 2.97, 'ARQU-2113'), (20170136837, 4.26, 'ARQU-5048'), (20130225137, 3.36, 'ARQU-7738')]\n",
      "\n",
      "{}\n",
      "\n",
      "Recorrer las notas por cada estudiante a partir de la lista 2\n",
      "20170136837 2.97 4.26\n",
      "20170136837 2.97 4.26\n",
      "20130225137 3.36 1.59\n",
      "\n",
      "{20170136837: [2.97], 20130225137: [3.36]}\n"
     ]
    }
   ],
   "source": [
    "print()\n",
    "#Creo una lista con los codigos de los estudiantes\n",
    "print(\"Codigos de los estudiantes\")\n",
    "keys_info=info.keys()\n",
    "keys_info=list(keys_info)\n",
    "print(keys_info)\n",
    "print()\n",
    "\n",
    "\n",
    "#Encuentro unicamente las materias\n",
    "print()\n",
    "lista3=[]\n",
    "for i in lista2:\n",
    "    lista3.append(i[1])\n",
    "    #De la tupla de lista2, muestro unicamente la informaicon de las materias\n",
    "    #print(i[1])\n",
    "print(\"Lista 3\")\n",
    "print()\n",
    "print(lista3)\n",
    "print()\n",
    "\n",
    "\n",
    "#Funcion correcta para obtener solo las notas\n",
    "print(\"Recorrer las notas por cada estudiante a partir de la lista 3\")\n",
    "#Hasta aqui yo tengo los datos de las materias por cada estudiante\n",
    "aux1=dict()\n",
    "notas=list()\n",
    "for i_k,i in zip(keys_info,lista3):\n",
    "    for x in range(len(lista3)):\n",
    "        if i[x]['retirada']=='No' or i[1]['retirada']=='No':\n",
    "            print('Codigo estudiante: ',i_k, ' Nota: ',i[x]['nota'], ' Retirada: ',i[x]['retirada'])\n",
    "            notas.append((i_k,i[x]['nota'],i[x]['codigo']))\n",
    "print(notas)            \n",
    "print()\n",
    "print(aux1)\n",
    "print()\n",
    "\n",
    "\n",
    "#Funcion correcta para obtener solo las notas\n",
    "print(\"Recorrer las notas por cada estudiante a partir de la lista 2\")\n",
    "#Hasta aqui yo tengo los datos de las materias por cada estudiante\n",
    "aux=dict()\n",
    "for i_k,i in zip(keys_info,lista2):\n",
    "    for x in range(len(lista2)):\n",
    "        if i[1][x]['retirada']=='No':\n",
    "            print(i_k, i[1][0]['nota'], i[1][1]['nota'],)\n",
    "            aux.setdefault(i_k,[i[1][x]['nota']])\n",
    "print()\n",
    "print(aux)"
   ]
  },
  {
   "cell_type": "code",
   "execution_count": 179,
   "id": "59f2a9c7",
   "metadata": {
    "scrolled": true
   },
   "outputs": [
    {
     "data": {
      "text/plain": [
       "['__class__',\n",
       " '__class_getitem__',\n",
       " '__contains__',\n",
       " '__delattr__',\n",
       " '__delitem__',\n",
       " '__dir__',\n",
       " '__doc__',\n",
       " '__eq__',\n",
       " '__format__',\n",
       " '__ge__',\n",
       " '__getattribute__',\n",
       " '__getitem__',\n",
       " '__gt__',\n",
       " '__hash__',\n",
       " '__init__',\n",
       " '__init_subclass__',\n",
       " '__ior__',\n",
       " '__iter__',\n",
       " '__le__',\n",
       " '__len__',\n",
       " '__lt__',\n",
       " '__ne__',\n",
       " '__new__',\n",
       " '__or__',\n",
       " '__reduce__',\n",
       " '__reduce_ex__',\n",
       " '__repr__',\n",
       " '__reversed__',\n",
       " '__ror__',\n",
       " '__setattr__',\n",
       " '__setitem__',\n",
       " '__sizeof__',\n",
       " '__str__',\n",
       " '__subclasshook__',\n",
       " 'clear',\n",
       " 'copy',\n",
       " 'fromkeys',\n",
       " 'get',\n",
       " 'items',\n",
       " 'keys',\n",
       " 'pop',\n",
       " 'popitem',\n",
       " 'setdefault',\n",
       " 'update',\n",
       " 'values']"
      ]
     },
     "execution_count": 179,
     "metadata": {},
     "output_type": "execute_result"
    }
   ],
   "source": [
    "dir(info)"
   ]
  },
  {
   "cell_type": "markdown",
   "id": "d9fab9ba",
   "metadata": {},
   "source": [
    "# Desarrollo ejercicio\n"
   ]
  },
  {
   "cell_type": "code",
   "execution_count": 439,
   "id": "b8b27d3e",
   "metadata": {},
   "outputs": [
    {
     "name": "stdout",
     "output_type": "stream",
     "text": [
      "{20170136837: {'nombres': 'Jorge Juan', 'apellidos': 'Moreno, Lopez', 'documento': 88481595, 'programa': 'ARQU', 'materias': [{'facultad': 'Arquitectura', 'codigo': 'ARQU-2113', 'nota': 2.97, 'creditos': 2, 'retirada': 'No'}, {'facultad': 'Arquitectura', 'codigo': 'ARQU-5048', 'nota': 4.26, 'creditos': 0, 'retirada': 'No'}]}, 20130225137: {'nombres': 'Sara Carolina', 'apellidos': 'Gómez, Fernández', 'documento': 58770043, 'programa': 'ARQD', 'materias': [{'facultad': 'Arquitectura', 'codigo': 'ARQU-7738', 'nota': 3.36, 'creditos': 3, 'retirada': 'No'}, {'facultad': 'Arquitectura', 'codigo': 'ARQU-7698', 'nota': 1.59, 'creditos': 4, 'retirada': 'Si'}]}}\n"
     ]
    }
   ],
   "source": [
    "info={\n",
    "    20170136837:{\n",
    "        'nombres':'Jorge Juan',\n",
    "        'apellidos':'Moreno, Lopez',\n",
    "        'documento':88481595,\n",
    "        'programa':'ARQU',\n",
    "        'materias':[\n",
    "            {\n",
    "                'facultad':'Arquitectura',\n",
    "                'codigo':'ARQU-2113',\n",
    "                'nota':2.97,\n",
    "                'creditos':2,\n",
    "                'retirada':'No'\n",
    "            },\n",
    "            {\n",
    "                'facultad':'Arquitectura',\n",
    "                'codigo':'ARQU-5048',\n",
    "                'nota':4.26,\n",
    "                'creditos':0,\n",
    "                'retirada':'No'\n",
    "            }\n",
    "        ]\n",
    "        \n",
    "    },\n",
    "    20130225137:{\n",
    "        'nombres':'Sara Carolina',\n",
    "        'apellidos':'Gómez, Fernández',\n",
    "        'documento':58770043,\n",
    "        'programa':'ARQD',\n",
    "        'materias':[\n",
    "            {\n",
    "                'facultad':'Arquitectura',\n",
    "                'codigo':'ARQU-7738',\n",
    "                'nota':3.36,\n",
    "                'creditos':3,\n",
    "                'retirada':'No'\n",
    "            },\n",
    "            {\n",
    "                'facultad':'Arquitectura',\n",
    "                'codigo':'ARQU-7698',\n",
    "                'nota':1.59,\n",
    "                'creditos':4,\n",
    "                'retirada':'Si'\n",
    "            }\n",
    "        ]\n",
    "        \n",
    "    }\n",
    "    \n",
    "}\n",
    "\n",
    "print(info)"
   ]
  },
  {
   "cell_type": "code",
   "execution_count": 440,
   "id": "afbed757",
   "metadata": {},
   "outputs": [
    {
     "name": "stdout",
     "output_type": "stream",
     "text": [
      "\n",
      "\n",
      "Materias\n",
      "\n",
      "{'nombres': 'Jorge Juan', 'apellidos': 'Moreno, Lopez', 'documento': 88481595, 'programa': 'ARQU', 'promedio': 2.97, 'correo': '', 'codigo': 20170136837}\n",
      "c1:  JJ.Moreno95\n",
      "[20170136837, 'Jorge Juan', 'Moreno, Lopez', 88481595, 'ARQU', 2.97, 'jj.moreno95']\n",
      "\n",
      "\n",
      "Materias\n",
      "\n",
      "{'nombres': 'Sara Carolina', 'apellidos': 'Gómez, Fernández', 'documento': 58770043, 'programa': 'ARQD', 'promedio': 3.36, 'correo': '', 'codigo': 20130225137}\n",
      "c1:  SC.Gómez43\n",
      "[20130225137, 'Sara Carolina', 'Gómez, Fernández', 58770043, 'ARQD', 3.36, 'sc.gomez43']\n"
     ]
    }
   ],
   "source": [
    "ganador={}\n",
    "mayorPromedio=0\n",
    "for a in info:\n",
    "    participante={}\n",
    "#     print(a)\n",
    "    participante=info[a]\n",
    "#     print(participante)\n",
    "    print()\n",
    "    participante.setdefault('promedio',0)\n",
    "    participante.setdefault('correo','')\n",
    "    participante.setdefault('codigo',a)\n",
    "    #Recupera unicamente las materias\n",
    "    materias= participante.pop('materias')\n",
    "    sumatoria=0\n",
    "    cantidad=0\n",
    "#     print(participante)\n",
    "    print()\n",
    "    print(\"Materias\")\n",
    "    print()\n",
    "#     print(materias)\n",
    "    for m in materias:\n",
    "        if m['retirada']=='No':\n",
    "            sumatoria+=m['nota']*m['creditos']\n",
    "            cantidad+=m['creditos']\n",
    "    if cantidad >0 and sumatoria>0:\n",
    "            participante['promedio']=sumatoria/cantidad\n",
    "            \n",
    "    #Diccionario participante tiene promedio ajustado\n",
    "    #print(participante)\n",
    "    #Si el promedio de un participante es mayor que el valor de mayorPromedio\n",
    "    #en el diccionario ganador, guarda los datos de ese participante\n",
    "    if participante['promedio']>mayorPromedio:\n",
    "        ganador=participante\n",
    "        #EL nuevo valor de mayorPromedio es igual a participante['promedio'] en la iteracion\n",
    "        mayorPromedio=participante['promedio']\n",
    "    elif participante['promedio']==mayorPromedio: #and not(participante['promedio']==0):\n",
    "        #Condicion de desempate, verifica el año de ingreso del estudiante que esta en la variable codigo los 4 primeros elementos (20130225137)\n",
    "        añoGanador=int(str(ganador['codigo'])[0:4]) #Solo muestra las iniciales de la materia\n",
    "        añoParti=int(str(participante['codigo'])[0:4]) #Solo muestra las iniciales de la materia\n",
    "        periodoGanador=int(str(ganador['codigo'])[4:6]) #Solo muestra periodo ganador\n",
    "        periodoParti=int(str(participante['codigo'])[4:6]) #Solo muestra periodo participante\n",
    "        \n",
    "        #IMPRIMO VARIABLES DE DESEMPATE SI LAS HAY\n",
    "        print(añoGanador)\n",
    "        print(añoParti)\n",
    "        print(periodoGanador)\n",
    "        print(periodoParti)\n",
    "        \n",
    "        if añoParti< añoGanador:\n",
    "            ganador=participante\n",
    "            mayorPromedio=participante['promedio']   \n",
    "        elif añoParti== añoGanador:\n",
    "            if periodoParti< periodoGanador:\n",
    "                ganador=participante\n",
    "                mayorPromedio=participante['promedio'] \n",
    "    \n",
    "    print(ganador)\n",
    "    \n",
    "    #Encuentra posicion donde se encuentra el espacio y la coma (,)\n",
    "    corteNombre=ganador['nombres'].find(' ')\n",
    "    corteApellido=ganador['apellidos'].find(',')\n",
    "\n",
    "    if not(ganador['nombres'].find(' ')==-1):        \n",
    "        c=ganador['nombres'][:1]+ganador['nombres'][corteNombre+1:corteNombre+2]+\".\"+ganador['apellidos'][:corteApellido]+str(ganador['documento'])[-2:]  \n",
    "        print('c1: ',c)\n",
    "    else:\n",
    "        c= ganador['nombres'][:1] + ganador['apellidos'][:1]+\".\"+ganador['apellidos'][corteApellido+2:]+str(ganador['documento'])[-2:]  \n",
    "        print('c2: ',c)\n",
    "    c=c.lower()\n",
    "    \n",
    "    for u in range(0,len(c)):\n",
    "       y=c[u:u+1]\n",
    "       if y =='á':\n",
    "            c=c[0:u]+'a'+c[u+1:]\n",
    "       elif y =='é':\n",
    "            c=c[0:u]+'e'+c[u+1:]   \n",
    "       elif y =='ì':\n",
    "            c=c[0:u]+'i'+c[u+1:]\n",
    "       elif y =='ó':\n",
    "            c=c[0:u]+'o'+c[u+1:]\n",
    "       elif y =='ù':\n",
    "            c=c[0:u]+'u'+c[u+1:]   \n",
    "            \n",
    "    ganador['correo']=c\n",
    "    \n",
    "    print([ganador['codigo'], ganador['nombres'], ganador['apellidos'], ganador['documento'], ganador['programa'], ganador['promedio'],ganador['correo']])"
   ]
  }
 ],
 "metadata": {
  "kernelspec": {
   "display_name": "Python 3",
   "language": "python",
   "name": "python3"
  },
  "language_info": {
   "codemirror_mode": {
    "name": "ipython",
    "version": 3
   },
   "file_extension": ".py",
   "mimetype": "text/x-python",
   "name": "python",
   "nbconvert_exporter": "python",
   "pygments_lexer": "ipython3",
   "version": "3.9.1"
  }
 },
 "nbformat": 4,
 "nbformat_minor": 5
}
