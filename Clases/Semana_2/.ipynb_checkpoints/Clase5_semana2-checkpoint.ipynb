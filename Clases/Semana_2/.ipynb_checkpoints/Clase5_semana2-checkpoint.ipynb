{
 "cells": [
  {
   "cell_type": "code",
   "execution_count": 51,
   "id": "98c2a9d7",
   "metadata": {},
   "outputs": [
    {
     "name": "stdout",
     "output_type": "stream",
     "text": [
      "hola mundo\n"
     ]
    }
   ],
   "source": [
    "print(\"hola mundo\")"
   ]
  },
  {
   "cell_type": "code",
   "execution_count": 83,
   "id": "58569808",
   "metadata": {},
   "outputs": [
    {
     "name": "stdout",
     "output_type": "stream",
     "text": [
      "No tiene gasolina\n",
      "Encender el carro\n",
      "Error\n"
     ]
    }
   ],
   "source": [
    "# inicio\n",
    "# verificar si tiene gasolina\n",
    "# si tiene gasolina, encender el carro\n",
    "# viajar\n",
    "\n",
    "# ir a la bomba y comprar gasolina\n",
    "# Echar gasolinna en el tanque del carro\n",
    "# si tiene gasolina, encender el carro\n",
    "# viajar\n",
    "\n",
    "x=1\n",
    "if x==1:\n",
    "    print(\"tiene gasolina\")\n",
    "    print(\"Encender el carro\")\n",
    "    print(\"viajar\")\n",
    "else: \n",
    "    print(\"no tiene\")"
   ]
  },
  {
   "cell_type": "code",
   "execution_count": null,
   "id": "31615385",
   "metadata": {},
   "outputs": [],
   "source": [
    "# if else is not while def ..."
   ]
  },
  {
   "cell_type": "code",
   "execution_count": 79,
   "id": "4b2cc247",
   "metadata": {},
   "outputs": [
    {
     "name": "stdout",
     "output_type": "stream",
     "text": [
      "18\n",
      "3\n",
      "-3\n"
     ]
    }
   ],
   "source": [
    "# inicio\n",
    "#pedir primer numero\n",
    "#pedir segundo numero\n",
    "#Hacer operacion\n",
    "#mostrar resultado\n",
    "\n",
    "x=12+6\n",
    "print(x)\n",
    "\n",
    "#Constante de pi\n",
    "PI=3.14159\n",
    "\n",
    "#Ecuacion que me permite hallar un valor\n",
    "x=(5-6)*3\n",
    "y=x+3\n",
    "z=y+3\n",
    "print(z)\n",
    "\n",
    "y=(5-6)*3\n",
    "print(y)\n",
    "\n",
    "# MAyor precedencia ()\n",
    "# Multiplicacion/division\n",
    "# suma y resta"
   ]
  },
  {
   "cell_type": "code",
   "execution_count": 47,
   "id": "6d771484",
   "metadata": {},
   "outputs": [
    {
     "name": "stdout",
     "output_type": "stream",
     "text": [
      "ingrese el primer numero\n"
     ]
    },
    {
     "ename": "TypeError",
     "evalue": "int() argument must be a string, a bytes-like object or a number, not 'NoneType'",
     "output_type": "error",
     "traceback": [
      "\u001b[0;31m---------------------------------------------------------------------------\u001b[0m",
      "\u001b[0;31mTypeError\u001b[0m                                 Traceback (most recent call last)",
      "\u001b[0;32m<ipython-input-47-55ba69221727>\u001b[0m in \u001b[0;36m<module>\u001b[0;34m\u001b[0m\n\u001b[1;32m      5\u001b[0m \u001b[0;31m# mostrar resultado\u001b[0m\u001b[0;34m\u001b[0m\u001b[0;34m\u001b[0m\u001b[0;34m\u001b[0m\u001b[0m\n\u001b[1;32m      6\u001b[0m \u001b[0;34m\u001b[0m\u001b[0m\n\u001b[0;32m----> 7\u001b[0;31m \u001b[0mx\u001b[0m\u001b[0;34m=\u001b[0m\u001b[0mint\u001b[0m\u001b[0;34m(\u001b[0m\u001b[0mprint\u001b[0m\u001b[0;34m(\u001b[0m\u001b[0;34m\"ingrese el primer numero\"\u001b[0m\u001b[0;34m)\u001b[0m\u001b[0;34m)\u001b[0m\u001b[0;34m\u001b[0m\u001b[0;34m\u001b[0m\u001b[0m\n\u001b[0m\u001b[1;32m      8\u001b[0m \u001b[0mc\u001b[0m\u001b[0;34m=\u001b[0m\u001b[0mint\u001b[0m\u001b[0;34m(\u001b[0m\u001b[0minput\u001b[0m\u001b[0;34m(\u001b[0m\u001b[0;34m\"Ingrese el segundo numero\"\u001b[0m\u001b[0;34m)\u001b[0m\u001b[0;34m)\u001b[0m\u001b[0;34m\u001b[0m\u001b[0;34m\u001b[0m\u001b[0m\n\u001b[1;32m      9\u001b[0m \u001b[0mz\u001b[0m\u001b[0;34m=\u001b[0m\u001b[0mx\u001b[0m\u001b[0;34m+\u001b[0m\u001b[0mc\u001b[0m\u001b[0;34m\u001b[0m\u001b[0;34m\u001b[0m\u001b[0m\n",
      "\u001b[0;31mTypeError\u001b[0m: int() argument must be a string, a bytes-like object or a number, not 'NoneType'"
     ]
    }
   ],
   "source": [
    "# Inicio\n",
    "# Ingresar el primer numero\n",
    "# ingresar el segundo numero\n",
    "# operar\n",
    "# mostrar resultado\n",
    "\n",
    "x=int(print(\"ingrese el primer numero\"))\n",
    "c=int(input(\"Ingrese el segundo numero\"))\n",
    "z=x+c\n",
    "print(z)"
   ]
  },
  {
   "cell_type": "code",
   "execution_count": 49,
   "id": "c33afe6e",
   "metadata": {},
   "outputs": [
    {
     "name": "stdout",
     "output_type": "stream",
     "text": [
      "ingrese el primer numero4\n",
      "Ingrese el segundo numero5\n",
      "9\n"
     ]
    }
   ],
   "source": [
    "x=int(input(\"ingrese el primer numero\"))\n",
    "c=int(input(\"Ingrese el segundo numero\"))\n",
    "z=x+c\n",
    "print(z)"
   ]
  },
  {
   "cell_type": "code",
   "execution_count": 6,
   "id": "2329ba51",
   "metadata": {},
   "outputs": [
    {
     "name": "stdout",
     "output_type": "stream",
     "text": [
      "hola\n",
      "hola mundo\n",
      "Adios\n"
     ]
    }
   ],
   "source": [
    "print(\"hola\")\n",
    "print(\"hola mundo\")\n",
    "print(\"Adios\")"
   ]
  },
  {
   "cell_type": "code",
   "execution_count": 40,
   "id": "65ddbe40",
   "metadata": {},
   "outputs": [
    {
     "name": "stdout",
     "output_type": "stream",
     "text": [
      "No Tengo gasolina\n"
     ]
    }
   ],
   "source": [
    "# Primero: Verifique si tiene gasolina\n",
    "# segundo: Si tiene gasolina, encienda el auto\n",
    "# Tercero: Viaje a Cali\n",
    "\n",
    "# ______________\n",
    "\n",
    "# Primero: Vaya a una gosolineria y compre gasolina\n",
    "# segundo: Ingrese la gasolina al tanque\n",
    "# Tercero: Encienda el auto\n",
    "\n",
    "x=10\n",
    "if x>0:\n",
    "    print(\"No Tengo gasolina\")\n",
    "else:\n",
    "    print(\"SI tengo gasolina\")\n"
   ]
  },
  {
   "cell_type": "code",
   "execution_count": null,
   "id": "d36b81f6",
   "metadata": {},
   "outputs": [],
   "source": [
    "# primero: definir materiales\n",
    "# segundo: REalizar pata de la mesa\n",
    "# tercero: Realizar el meson\n",
    "# Cuarto: Unir las piezas\n",
    "# Quinto: Probar o verifcar mesa\n",
    "# Sexto: La entrega del producto final"
   ]
  },
  {
   "cell_type": "code",
   "execution_count": 27,
   "id": "003af27a",
   "metadata": {},
   "outputs": [
    {
     "name": "stdout",
     "output_type": "stream",
     "text": [
      "16\n"
     ]
    }
   ],
   "source": [
    "# Mayor que >\n",
    "# menor que <\n",
    "a=12+4\n",
    "print(a)"
   ]
  },
  {
   "cell_type": "code",
   "execution_count": 39,
   "id": "f112eaf5",
   "metadata": {},
   "outputs": [
    {
     "name": "stdout",
     "output_type": "stream",
     "text": [
      "13.566\n"
     ]
    }
   ],
   "source": [
    "#variable pi\n",
    "pi=3.1415\n",
    "z=2\n",
    "#Calcular un valor de algo\n",
    "m=(2*pi)*z\n",
    "y=m+1\n",
    "#imprime valor de y en la pantalla\n",
    "print(y)"
   ]
  },
  {
   "cell_type": "code",
   "execution_count": 73,
   "id": "c50fec45",
   "metadata": {},
   "outputs": [
    {
     "name": "stdout",
     "output_type": "stream",
     "text": [
      "1.6666666666666665\n"
     ]
    }
   ],
   "source": [
    "x=1/3 #paginas web\n",
    "y=1/5 #tiendas supermercados\n",
    "z=2/5 #almacenes\n",
    "w=1/8 #placitas campesinos\n",
    "\n",
    "a=x/y\n",
    "print(a)\n"
   ]
  },
  {
   "cell_type": "code",
   "execution_count": 38,
   "id": "6301e6cb",
   "metadata": {},
   "outputs": [
    {
     "name": "stdout",
     "output_type": "stream",
     "text": [
      "9\n"
     ]
    }
   ],
   "source": [
    "m=2\n",
    "a=3\n",
    "c=3\n",
    "\n",
    "# 2*3=6\n",
    "\n",
    "# 6/3\n",
    "\n",
    "x=c+(m*a)\n",
    "print(x)"
   ]
  },
  {
   "cell_type": "code",
   "execution_count": 74,
   "id": "669e03e2",
   "metadata": {},
   "outputs": [
    {
     "name": "stdout",
     "output_type": "stream",
     "text": [
      "[4. 8.]\n"
     ]
    }
   ],
   "source": [
    "# Ecuaciones\n",
    "# y=2x\n",
    "# y=x+4\n",
    "#Remplazo y de la primera ecuacion en la segunda ecuacion\n",
    "# 2x=x+4\n",
    "# 2x-x=4\n",
    "# x=4\n",
    "\n",
    "#remplazo x en la segunda ecuacion\n",
    "# y=4+4\n",
    "\n",
    "# Igualo ecuacion 1 y 2 a cero o el numero entero\n",
    "# 2x-y=0\n",
    "# x-y=-4\n",
    "\n",
    "#funcion para hallar solucion a una ecuacion lineal\n",
    "import numpy as np\n",
    "a=np.array([[2,-1],[1,-1]])\n",
    "# b= Almacena los valores del vector solucion \n",
    "b=np.array([0,-4])\n",
    "# print(a)\n",
    "# print(b)\n",
    "x=np.linalg.solve(a,b)\n",
    "print(x)"
   ]
  },
  {
   "cell_type": "code",
   "execution_count": null,
   "id": "65b14317",
   "metadata": {},
   "outputs": [],
   "source": [
    "vel_m=12\n",
    "# print\n",
    "# if"
   ]
  },
  {
   "cell_type": "code",
   "execution_count": 77,
   "id": "6a1d5ea5",
   "metadata": {},
   "outputs": [
    {
     "name": "stdout",
     "output_type": "stream",
     "text": [
      "No puedes acceder al sistema\n",
      "Por favor registrate\n",
      "Ingresa al modulo x\n"
     ]
    }
   ],
   "source": [
    "x=0\n",
    "if x>0:\n",
    "    print(\"Usuario registrado\")\n",
    "else:\n",
    "    print(\"No puedes acceder al sistema\")\n",
    "    print(\"Por favor registrate\")\n",
    "    print(\"Ingresa al modulo x\")\n",
    "\n"
   ]
  }
 ],
 "metadata": {
  "kernelspec": {
   "display_name": "Python 3",
   "language": "python",
   "name": "python3"
  },
  "language_info": {
   "codemirror_mode": {
    "name": "ipython",
    "version": 3
   },
   "file_extension": ".py",
   "mimetype": "text/x-python",
   "name": "python",
   "nbconvert_exporter": "python",
   "pygments_lexer": "ipython3",
   "version": "3.9.1"
  }
 },
 "nbformat": 4,
 "nbformat_minor": 5
}
