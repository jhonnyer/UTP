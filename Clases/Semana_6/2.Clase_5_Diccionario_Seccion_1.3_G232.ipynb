{
 "cells": [
  {
   "cell_type": "code",
   "execution_count": 1,
   "id": "5595303a",
   "metadata": {},
   "outputs": [
    {
     "name": "stdout",
     "output_type": "stream",
     "text": [
      "{}\n",
      "<class 'dict'>\n"
     ]
    }
   ],
   "source": [
    "#Definir un diccionario\n",
    "diccionario={}\n",
    "print(diccionario)\n",
    "print(type(diccionario))"
   ]
  },
  {
   "cell_type": "code",
   "execution_count": 2,
   "id": "4eb98bf8",
   "metadata": {},
   "outputs": [
    {
     "name": "stdout",
     "output_type": "stream",
     "text": [
      "{}\n",
      "<class 'dict'>\n"
     ]
    }
   ],
   "source": [
    "#Definir un diccionario\n",
    "diccionario=dict()\n",
    "print(diccionario)\n",
    "print(type(diccionario))"
   ]
  },
  {
   "cell_type": "code",
   "execution_count": 3,
   "id": "3c3b98f6",
   "metadata": {},
   "outputs": [
    {
     "data": {
      "text/plain": [
       "['__class__',\n",
       " '__class_getitem__',\n",
       " '__contains__',\n",
       " '__delattr__',\n",
       " '__delitem__',\n",
       " '__dir__',\n",
       " '__doc__',\n",
       " '__eq__',\n",
       " '__format__',\n",
       " '__ge__',\n",
       " '__getattribute__',\n",
       " '__getitem__',\n",
       " '__gt__',\n",
       " '__hash__',\n",
       " '__init__',\n",
       " '__init_subclass__',\n",
       " '__ior__',\n",
       " '__iter__',\n",
       " '__le__',\n",
       " '__len__',\n",
       " '__lt__',\n",
       " '__ne__',\n",
       " '__new__',\n",
       " '__or__',\n",
       " '__reduce__',\n",
       " '__reduce_ex__',\n",
       " '__repr__',\n",
       " '__reversed__',\n",
       " '__ror__',\n",
       " '__setattr__',\n",
       " '__setitem__',\n",
       " '__sizeof__',\n",
       " '__str__',\n",
       " '__subclasshook__',\n",
       " 'clear',\n",
       " 'copy',\n",
       " 'fromkeys',\n",
       " 'get',\n",
       " 'items',\n",
       " 'keys',\n",
       " 'pop',\n",
       " 'popitem',\n",
       " 'setdefault',\n",
       " 'update',\n",
       " 'values']"
      ]
     },
     "execution_count": 3,
     "metadata": {},
     "output_type": "execute_result"
    }
   ],
   "source": [
    "dir(diccionario)"
   ]
  },
  {
   "cell_type": "code",
   "execution_count": 4,
   "id": "32df0807",
   "metadata": {},
   "outputs": [
    {
     "name": "stdout",
     "output_type": "stream",
     "text": [
      "{'total': 55}\n",
      "{'valor': 12.55}\n",
      "{'valor1': 12.55, 'valor2': 'Hola mundo'}\n"
     ]
    }
   ],
   "source": [
    "diccionario={'total':55}\n",
    "print(diccionario)\n",
    "otrodiccionario1={'valor':12.55}\n",
    "print(otrodiccionario1)\n",
    "otrodiccionario2={'valor1':12.55, 'valor2':'Hola mundo'}\n",
    "print(otrodiccionario2)"
   ]
  },
  {
   "cell_type": "code",
   "execution_count": 5,
   "id": "ab01982a",
   "metadata": {},
   "outputs": [
    {
     "name": "stdout",
     "output_type": "stream",
     "text": [
      "{'total': 55, 'descuento': True, 15: '15'}\n"
     ]
    }
   ],
   "source": [
    "diccionario={'total':55,'descuento':True,15:'15'}\n",
    "print(diccionario)"
   ]
  },
  {
   "cell_type": "code",
   "execution_count": 7,
   "id": "30d85638",
   "metadata": {},
   "outputs": [
    {
     "name": "stdout",
     "output_type": "stream",
     "text": [
      "{'nombre': 7, 'telefono': 345455, 'edad': 33, 'ciudad': 'Pereira'}\n"
     ]
    }
   ],
   "source": [
    "diccionarioEjemploExcel={'nombre':5+2,'telefono':345455,'edad':33,'ciudad':'Pereira'}\n",
    "print(diccionarioEjemploExcel)"
   ]
  },
  {
   "cell_type": "code",
   "execution_count": 8,
   "id": "8807b498",
   "metadata": {},
   "outputs": [
    {
     "name": "stdout",
     "output_type": "stream",
     "text": [
      "{'total': 55, 'descuento': True, 'subtotal': 15}\n"
     ]
    }
   ],
   "source": [
    "#Definir diccionario con funcion dict()\n",
    "diccionario=dict(total=55,descuento=True,subtotal=15)\n",
    "print(diccionario)"
   ]
  },
  {
   "cell_type": "code",
   "execution_count": 25,
   "id": "d99e97af",
   "metadata": {},
   "outputs": [
    {
     "name": "stdout",
     "output_type": "stream",
     "text": [
      "{'nombre': 'Juan', 'edad': 23, 'curso': 'Curso de python', 'skills': {'programacion': True, 'base_datos': False}, 'No medallas': 10, 'lista': [1, 3, 'hola']}\n"
     ]
    }
   ],
   "source": [
    "usuario={\n",
    "    'nombre':'Juan',\n",
    "    'edad':23,\n",
    "    'curso':'Curso de python',\n",
    "    'skills':{\n",
    "        'programacion':True,\n",
    "        'base_datos':False\n",
    "    },\n",
    "    'No medallas':10,\n",
    "    'lista':[1,3,'hola']\n",
    "}\n",
    "print(usuario)"
   ]
  },
  {
   "cell_type": "code",
   "execution_count": 14,
   "id": "7ed8a2d2",
   "metadata": {},
   "outputs": [
    {
     "name": "stdout",
     "output_type": "stream",
     "text": [
      "{'nombre': 'Juan', 'edad': 23, 'curso': 'Curso de python', 'skills': {'programación': True, 'base_datos': False}, 'No medallas': 10}\n"
     ]
    }
   ],
   "source": [
    "print(usuario)"
   ]
  },
  {
   "cell_type": "code",
   "execution_count": 30,
   "id": "ee96db47",
   "metadata": {},
   "outputs": [
    {
     "name": "stdout",
     "output_type": "stream",
     "text": [
      "23\n",
      "Curso de python\n",
      "{'programacion': True, 'base_datos': False}\n",
      "True\n",
      "[1, 3, 'hola']\n",
      "hola\n",
      "Hola mundo\n"
     ]
    }
   ],
   "source": [
    "#Acceder a los datos de un diccionario\n",
    "print(usuario['edad'])\n",
    "print(usuario['curso'])\n",
    "print(usuario['skills'])\n",
    "print(usuario['skills']['programacion'])\n",
    "#Acceder a una lista en un diccionario\n",
    "print(usuario['lista'])\n",
    "print(usuario['lista'][2])\n",
    "\n",
    "#Condicional que permite verificar un valor en un diccionario\n",
    "if usuario['skills']['programacion']:\n",
    "    print(\"Hola mundo\")\n",
    "else:\n",
    "    print(\"Hasta luego\")"
   ]
  },
  {
   "cell_type": "code",
   "execution_count": null,
   "id": "b6427cda",
   "metadata": {},
   "outputs": [],
   "source": []
  },
  {
   "cell_type": "code",
   "execution_count": 13,
   "id": "0980c59b",
   "metadata": {},
   "outputs": [
    {
     "ename": "KeyError",
     "evalue": "3",
     "output_type": "error",
     "traceback": [
      "\u001b[0;31m---------------------------------------------------------------------------\u001b[0m",
      "\u001b[0;31mKeyError\u001b[0m                                  Traceback (most recent call last)",
      "\u001b[0;32m<ipython-input-13-0d7b440fb735>\u001b[0m in \u001b[0;36m<module>\u001b[0;34m\u001b[0m\n\u001b[0;32m----> 1\u001b[0;31m \u001b[0musuario\u001b[0m\u001b[0;34m[\u001b[0m\u001b[0;36m3\u001b[0m\u001b[0;34m]\u001b[0m\u001b[0;34m\u001b[0m\u001b[0;34m\u001b[0m\u001b[0m\n\u001b[0m",
      "\u001b[0;31mKeyError\u001b[0m: 3"
     ]
    }
   ],
   "source": [
    "usuario[3]"
   ]
  },
  {
   "cell_type": "code",
   "execution_count": 11,
   "id": "e17a9d0c",
   "metadata": {},
   "outputs": [
    {
     "data": {
      "text/plain": [
       "'o'"
      ]
     },
     "execution_count": 11,
     "metadata": {},
     "output_type": "execute_result"
    }
   ],
   "source": [
    "cad='Hola mundo'\n",
    "cad[1]"
   ]
  },
  {
   "cell_type": "code",
   "execution_count": 12,
   "id": "f791838f",
   "metadata": {},
   "outputs": [
    {
     "data": {
      "text/plain": [
       "'hola'"
      ]
     },
     "execution_count": 12,
     "metadata": {},
     "output_type": "execute_result"
    }
   ],
   "source": [
    "lista=[10,340,'hola']\n",
    "lista[2]"
   ]
  },
  {
   "cell_type": "code",
   "execution_count": 36,
   "id": "bb45903c",
   "metadata": {},
   "outputs": [
    {
     "name": "stdout",
     "output_type": "stream",
     "text": [
      "{'total': 55, 'descuento': True, 'subtotal': '15'}\n",
      "15\n"
     ]
    }
   ],
   "source": [
    "#Funcion DICT()\n",
    "diccionario=dict(total=55,descuento=True,subtotal='15')\n",
    "print(diccionario)\n",
    "print(diccionario['subtotal'])"
   ]
  },
  {
   "cell_type": "code",
   "execution_count": 38,
   "id": "b08dda1c",
   "metadata": {},
   "outputs": [
    {
     "name": "stdout",
     "output_type": "stream",
     "text": [
      "{}\n",
      "{'marca': 'Mazda'}\n",
      "{'marca': 'Subaru'}\n",
      "Subaru\n"
     ]
    }
   ],
   "source": [
    "#Añadiendo un valor al diccionario\n",
    "diccionario=dict()\n",
    "print(diccionario)\n",
    "diccionario['marca']='Mazda'\n",
    "print(diccionario)\n",
    "\n",
    "#Modificar un valor al diccionario\n",
    "diccionario['marca']='Subaru'\n",
    "print(diccionario)\n",
    "#Imprimir un valor en especifico, relacionado con la clave marca\n",
    "print(diccionario['marca'])"
   ]
  },
  {
   "cell_type": "code",
   "execution_count": 39,
   "id": "76e5ee0f",
   "metadata": {},
   "outputs": [
    {
     "name": "stdout",
     "output_type": "stream",
     "text": [
      "{'Eduardo': 1, 'Fernando': 2, 'Uriel': 3, 'Rafael': 4}\n"
     ]
    }
   ],
   "source": [
    "diccionario={'Eduardo':1,'Fernando':2,'Uriel':3,'Rafael':4}\n",
    "print(diccionario)"
   ]
  },
  {
   "cell_type": "code",
   "execution_count": 41,
   "id": "4566ad8b",
   "metadata": {},
   "outputs": [
    {
     "data": {
      "text/plain": [
       "dict_keys(['Eduardo', 'Fernando', 'Uriel', 'Rafael'])"
      ]
     },
     "execution_count": 41,
     "metadata": {},
     "output_type": "execute_result"
    }
   ],
   "source": [
    "#Metodo KEYS(); tiene un valor de retorno\n",
    "diccionario.keys()"
   ]
  },
  {
   "cell_type": "code",
   "execution_count": 49,
   "id": "4645030a",
   "metadata": {},
   "outputs": [
    {
     "name": "stdout",
     "output_type": "stream",
     "text": [
      "dict_keys(['Eduardo', 'Fernando', 'Uriel', 'Rafael'])\n"
     ]
    }
   ],
   "source": [
    "#Metodo KEYS(); tiene un valor de retorno\n",
    "var=diccionario.keys()\n",
    "print(var)"
   ]
  },
  {
   "cell_type": "code",
   "execution_count": 50,
   "id": "f13467c6",
   "metadata": {},
   "outputs": [
    {
     "name": "stdout",
     "output_type": "stream",
     "text": [
      "['Eduardo', 'Fernando', 'Uriel', 'Rafael']\n",
      "Fernando\n"
     ]
    }
   ],
   "source": [
    "#Convertir un diccionario las claves en una lista\n",
    "var=list(var)\n",
    "print(var)\n",
    "print(var[1])"
   ]
  },
  {
   "cell_type": "code",
   "execution_count": 45,
   "id": "177304ff",
   "metadata": {},
   "outputs": [
    {
     "name": "stdout",
     "output_type": "stream",
     "text": [
      "dict_values([1, 2, 3, 4])\n"
     ]
    }
   ],
   "source": [
    "#Metodo values(); tiene un valor de retorno, con los valores del diccionario\n",
    "valores=diccionario.values()\n",
    "print(valores)"
   ]
  },
  {
   "cell_type": "code",
   "execution_count": 51,
   "id": "b4eb4e96",
   "metadata": {},
   "outputs": [
    {
     "name": "stdout",
     "output_type": "stream",
     "text": [
      "{'clave1': 234, 'cadena': True, 'clave3': 'Valor 1'}\n",
      "<class 'dict'>\n"
     ]
    }
   ],
   "source": [
    "diccionario={\n",
    "    'clave1':234,\n",
    "    'cadena':True,\n",
    "    'clave3':'Valor 1'\n",
    "}\n",
    "print(diccionario)\n",
    "print(type(diccionario))"
   ]
  },
  {
   "cell_type": "code",
   "execution_count": 52,
   "id": "898ec638",
   "metadata": {},
   "outputs": [
    {
     "data": {
      "text/plain": [
       "234"
      ]
     },
     "execution_count": 52,
     "metadata": {},
     "output_type": "execute_result"
    }
   ],
   "source": [
    "diccionario['clave1']"
   ]
  },
  {
   "cell_type": "code",
   "execution_count": 53,
   "id": "b79e6496",
   "metadata": {},
   "outputs": [
    {
     "data": {
      "text/plain": [
       "'Valor 1'"
      ]
     },
     "execution_count": 53,
     "metadata": {},
     "output_type": "execute_result"
    }
   ],
   "source": [
    "diccionario['clave3']"
   ]
  },
  {
   "cell_type": "code",
   "execution_count": 55,
   "id": "cbe7ddfe",
   "metadata": {},
   "outputs": [
    {
     "name": "stdout",
     "output_type": "stream",
     "text": [
      "{'python': 2.5, 'zope': 2.13, 'plone': 5.1, 'django': 2.1}\n"
     ]
    }
   ],
   "source": [
    "versiones=dict(python=2.5,zope=2.13,plone=5.1,django=2.1)\n",
    "print(versiones)"
   ]
  },
  {
   "cell_type": "code",
   "execution_count": 56,
   "id": "2b50017b",
   "metadata": {},
   "outputs": [
    {
     "data": {
      "text/plain": [
       "2.13"
      ]
     },
     "execution_count": 56,
     "metadata": {},
     "output_type": "execute_result"
    }
   ],
   "source": [
    "versiones['zope']"
   ]
  },
  {
   "cell_type": "code",
   "execution_count": 58,
   "id": "9957bd5f",
   "metadata": {},
   "outputs": [
    {
     "name": "stdout",
     "output_type": "stream",
     "text": [
      "{'python': 2.5, 'zope': 2.13, 'plone': 5.1, 'django': 2.1}\n",
      "{}\n"
     ]
    }
   ],
   "source": [
    "# MEtodo de CLEAR(), limpiar o borrar los elementos del diccionario\n",
    "versiones=dict(python=2.5,zope=2.13,plone=5.1,django=2.1)\n",
    "print(versiones)\n",
    "versiones.clear()\n",
    "print(versiones)"
   ]
  },
  {
   "cell_type": "code",
   "execution_count": 60,
   "id": "681eae36",
   "metadata": {},
   "outputs": [
    {
     "name": "stdout",
     "output_type": "stream",
     "text": [
      "{'python': 2.5, 'zope': 2.13, 'plone': 5.1, 'django': 2.1}\n",
      "True\n"
     ]
    }
   ],
   "source": [
    "# Metodo de COPY(); crea una copia de un diccionario\n",
    "versiones=dict(python=2.5,zope=2.13,plone=5.1,django=2.1)\n",
    "otra_version=versiones.copy()\n",
    "print(otra_version)\n",
    "print(otra_version==versiones)"
   ]
  },
  {
   "cell_type": "code",
   "execution_count": 61,
   "id": "3f6938f3",
   "metadata": {},
   "outputs": [
    {
     "name": "stdout",
     "output_type": "stream",
     "text": [
      "{'python': 2.5, 'zope': 2.13, 'plone': 5.1, 'django': 2.1}\n",
      "{'python': 2.5, 'zope': 2.13, 'plone': 5.1, 'django': 2.1}\n"
     ]
    }
   ],
   "source": [
    "print(versiones)\n",
    "print(otra_version)"
   ]
  },
  {
   "cell_type": "code",
   "execution_count": 66,
   "id": "8ec4aa14",
   "metadata": {},
   "outputs": [
    {
     "name": "stdout",
     "output_type": "stream",
     "text": [
      "{'python': None, 'zope': None, 'plone': None}\n",
      "Nuevo diccionario {'python': None, 'zope': None, 'plone': None}\n",
      "Nuevo diccionario {'python': None, 'zope': None, 'plone': None}\n",
      "Nuevo diccionario {'python': None, 'zope': None, 'plone': None}\n",
      "Nuevo diccionario  {'python': None, 'zope': None, 'plone': None}\n"
     ]
    }
   ],
   "source": [
    "#Metodo FromKeys()\n",
    "secuencia=('python','zope','plone')\n",
    "versiones=dict.fromkeys(secuencia)\n",
    "print(versiones)\n",
    "print(\"Nuevo diccionario %s\" %str(versiones))\n",
    "print(\"Nuevo diccionario {}\".format(str(versiones)))\n",
    "print(\"Nuevo diccionario \"+str(versiones))\n",
    "print(\"Nuevo diccionario \",versiones)\n"
   ]
  },
  {
   "cell_type": "code",
   "execution_count": 67,
   "id": "70a91c41",
   "metadata": {},
   "outputs": [
    {
     "name": "stdout",
     "output_type": "stream",
     "text": [
      "{'python': 0.1, 'zope': 0.1, 'plone': 0.1}\n",
      "Nuevo diccionario {'python': 0.1, 'zope': 0.1, 'plone': 0.1}\n",
      "Nuevo diccionario {'python': 0.1, 'zope': 0.1, 'plone': 0.1}\n",
      "Nuevo diccionario {'python': 0.1, 'zope': 0.1, 'plone': 0.1}\n",
      "Nuevo diccionario  {'python': 0.1, 'zope': 0.1, 'plone': 0.1}\n"
     ]
    }
   ],
   "source": [
    "#Metodo FromKeys()\n",
    "secuencia=('python','zope','plone')\n",
    "versiones=dict.fromkeys(secuencia,0.1)\n",
    "print(versiones)\n",
    "print(\"Nuevo diccionario %s\" %str(versiones))\n",
    "print(\"Nuevo diccionario {}\".format(str(versiones)))\n",
    "print(\"Nuevo diccionario \"+str(versiones))\n",
    "print(\"Nuevo diccionario \",versiones)\n"
   ]
  },
  {
   "cell_type": "code",
   "execution_count": 68,
   "id": "58f858b6",
   "metadata": {},
   "outputs": [
    {
     "data": {
      "text/plain": [
       "5.1"
      ]
     },
     "execution_count": 68,
     "metadata": {},
     "output_type": "execute_result"
    }
   ],
   "source": [
    "#Metodo get()\n",
    "versiones=dict(python=2.5,zope=2.13,plone=5.1,django=2.1)\n",
    "versiones.get('plone')"
   ]
  },
  {
   "cell_type": "code",
   "execution_count": 71,
   "id": "1303e3c3",
   "metadata": {},
   "outputs": [
    {
     "name": "stdout",
     "output_type": "stream",
     "text": [
      "None\n"
     ]
    }
   ],
   "source": [
    "#Metodo get()\n",
    "versiones=dict(python=2.5,zope=2.13,plone=5.1,django=2.1)\n",
    "print(versiones.get('php'))"
   ]
  },
  {
   "cell_type": "code",
   "execution_count": 72,
   "id": "7c4ed59d",
   "metadata": {},
   "outputs": [
    {
     "data": {
      "text/plain": [
       "dict_items([('python', 2.5), ('zope', 2.13), ('plone', 5.1), ('django', 2.1)])"
      ]
     },
     "execution_count": 72,
     "metadata": {},
     "output_type": "execute_result"
    }
   ],
   "source": [
    "#Metodo items()\n",
    "versiones=dict(python=2.5,zope=2.13,plone=5.1,django=2.1)\n",
    "versiones.items()"
   ]
  },
  {
   "cell_type": "code",
   "execution_count": 75,
   "id": "8776b16a",
   "metadata": {},
   "outputs": [
    {
     "name": "stdout",
     "output_type": "stream",
     "text": [
      "dict_items([('python', 2.5), ('zope', 2.13), ('plone', 5.1), ('django', 2.1)])\n",
      "\n",
      "Lista con la clave_valor del diccionario\n",
      "\n",
      "[('python', 2.5), ('zope', 2.13), ('plone', 5.1), ('django', 2.1)]\n"
     ]
    }
   ],
   "source": [
    "var=versiones.items()\n",
    "print(var)\n",
    "#Convertido en una lista\n",
    "print(\"\\nLista con la clave_valor del diccionario\\n\")\n",
    "var=list(var)\n",
    "print(var)"
   ]
  },
  {
   "cell_type": "code",
   "execution_count": 76,
   "id": "7fd3f546",
   "metadata": {},
   "outputs": [
    {
     "data": {
      "text/plain": [
       "{'python': 2.5, 'zope': 2.13, 'plone': 5.1, 'django': 2.1}"
      ]
     },
     "execution_count": 76,
     "metadata": {},
     "output_type": "execute_result"
    }
   ],
   "source": [
    "#Metodo POP()\n",
    "versiones=dict(python=2.5,zope=2.13,plone=5.1,django=2.1)\n",
    "versiones"
   ]
  },
  {
   "cell_type": "code",
   "execution_count": 77,
   "id": "a5f1fd4e",
   "metadata": {},
   "outputs": [
    {
     "name": "stdout",
     "output_type": "stream",
     "text": [
      "2.1\n"
     ]
    },
    {
     "data": {
      "text/plain": [
       "{'python': 2.5, 'zope': 2.13, 'plone': 5.1}"
      ]
     },
     "execution_count": 77,
     "metadata": {},
     "output_type": "execute_result"
    }
   ],
   "source": [
    "print(versiones.pop('django'))\n",
    "versiones"
   ]
  },
  {
   "cell_type": "code",
   "execution_count": 78,
   "id": "138c7b64",
   "metadata": {},
   "outputs": [
    {
     "name": "stdout",
     "output_type": "stream",
     "text": [
      "5.1\n",
      "{'python': 2.5, 'zope': 2.13}\n"
     ]
    }
   ],
   "source": [
    "var=versiones.pop('plone')\n",
    "print(var)\n",
    "print(versiones)"
   ]
  },
  {
   "cell_type": "code",
   "execution_count": 79,
   "id": "2c22b0b1",
   "metadata": {},
   "outputs": [
    {
     "ename": "KeyError",
     "evalue": "'plone'",
     "output_type": "error",
     "traceback": [
      "\u001b[0;31m---------------------------------------------------------------------------\u001b[0m",
      "\u001b[0;31mKeyError\u001b[0m                                  Traceback (most recent call last)",
      "\u001b[0;32m<ipython-input-79-b89be270d053>\u001b[0m in \u001b[0;36m<module>\u001b[0;34m\u001b[0m\n\u001b[0;32m----> 1\u001b[0;31m \u001b[0mversiones\u001b[0m\u001b[0;34m.\u001b[0m\u001b[0mpop\u001b[0m\u001b[0;34m(\u001b[0m\u001b[0;34m'plone'\u001b[0m\u001b[0;34m)\u001b[0m\u001b[0;34m\u001b[0m\u001b[0;34m\u001b[0m\u001b[0m\n\u001b[0m",
      "\u001b[0;31mKeyError\u001b[0m: 'plone'"
     ]
    }
   ],
   "source": [
    "versiones.pop('plone')"
   ]
  },
  {
   "cell_type": "code",
   "execution_count": 82,
   "id": "657a9c94",
   "metadata": {},
   "outputs": [
    {
     "data": {
      "text/plain": [
       "{'python': 2.5, 'zope': 2.13, 'plone': 5.1}"
      ]
     },
     "execution_count": 82,
     "metadata": {},
     "output_type": "execute_result"
    }
   ],
   "source": [
    "versiones=dict(python=2.5,zope=2.13,plone=5.1)\n",
    "versiones"
   ]
  },
  {
   "cell_type": "code",
   "execution_count": 83,
   "id": "1898fa30",
   "metadata": {},
   "outputs": [
    {
     "name": "stdout",
     "output_type": "stream",
     "text": [
      "{'django': 2.1}\n"
     ]
    }
   ],
   "source": [
    "versiones_adicional=dict(django=2.1)\n",
    "print(versiones_adicional)"
   ]
  },
  {
   "cell_type": "code",
   "execution_count": 87,
   "id": "09117ad5",
   "metadata": {},
   "outputs": [
    {
     "name": "stdout",
     "output_type": "stream",
     "text": [
      "{'python': 2.5, 'zope': 2.13, 'plone': 5.1, 'django': 2.1}\n"
     ]
    }
   ],
   "source": [
    "versiones.update(versiones_adicional)\n",
    "print(versiones)"
   ]
  },
  {
   "cell_type": "code",
   "execution_count": 89,
   "id": "9e1b1491",
   "metadata": {},
   "outputs": [
    {
     "name": "stdout",
     "output_type": "stream",
     "text": [
      "{'python': 2.7, 'zope': 2.13, 'plone': 5.1}\n",
      "3\n"
     ]
    }
   ],
   "source": [
    "#Funcion len()\n",
    "versiones=dict(python=2.7,zope=2.13,plone=5.1)\n",
    "print(versiones)\n",
    "print(len(versiones))"
   ]
  },
  {
   "cell_type": "code",
   "execution_count": 90,
   "id": "3bbe7385",
   "metadata": {},
   "outputs": [
    {
     "name": "stdout",
     "output_type": "stream",
     "text": [
      "6\n"
     ]
    }
   ],
   "source": [
    "usuario={\n",
    "    'nombre':'Juan',\n",
    "    'edad':23,\n",
    "    'curso':'Curso de python',\n",
    "    'skills':{\n",
    "        'programacion':True,\n",
    "        'base_datos':False\n",
    "    },\n",
    "    'No medallas':10,\n",
    "    'lista':[1,3,'hola']\n",
    "}\n",
    "print(len(usuario))"
   ]
  },
  {
   "cell_type": "code",
   "execution_count": 91,
   "id": "f1d51a44",
   "metadata": {},
   "outputs": [
    {
     "name": "stdout",
     "output_type": "stream",
     "text": [
      "{'python': 2.7, 'zope': 2.13, 'plone': 5.1}\n",
      "{'zope': 2.13, 'plone': 5.1}\n"
     ]
    }
   ],
   "source": [
    "#Sentencia del\n",
    "versiones=dict(python=2.7,zope=2.13,plone=5.1)\n",
    "print(versiones)\n",
    "del versiones['python']\n",
    "print(versiones)"
   ]
  },
  {
   "cell_type": "code",
   "execution_count": 92,
   "id": "f616bfd2",
   "metadata": {},
   "outputs": [
    {
     "name": "stdout",
     "output_type": "stream",
     "text": [
      "{'plone': 5.1}\n"
     ]
    }
   ],
   "source": [
    "del(versiones['zope'])\n",
    "print(versiones)"
   ]
  },
  {
   "cell_type": "code",
   "execution_count": 94,
   "id": "31034372",
   "metadata": {},
   "outputs": [
    {
     "ename": "SyntaxError",
     "evalue": "invalid syntax (<ipython-input-94-bebacb802acf>, line 1)",
     "output_type": "error",
     "traceback": [
      "\u001b[0;36m  File \u001b[0;32m\"<ipython-input-94-bebacb802acf>\"\u001b[0;36m, line \u001b[0;32m1\u001b[0m\n\u001b[0;31m    va=del(versiones['zope'])\u001b[0m\n\u001b[0m       ^\u001b[0m\n\u001b[0;31mSyntaxError\u001b[0m\u001b[0;31m:\u001b[0m invalid syntax\n"
     ]
    }
   ],
   "source": [
    "va=del(versiones['zope'])\n",
    "print(va)"
   ]
  },
  {
   "cell_type": "code",
   "execution_count": 93,
   "id": "92810ee0",
   "metadata": {
    "scrolled": true
   },
   "outputs": [
    {
     "ename": "KeyError",
     "evalue": "'zope'",
     "output_type": "error",
     "traceback": [
      "\u001b[0;31m---------------------------------------------------------------------------\u001b[0m",
      "\u001b[0;31mKeyError\u001b[0m                                  Traceback (most recent call last)",
      "\u001b[0;32m<ipython-input-93-7cfb16397838>\u001b[0m in \u001b[0;36m<module>\u001b[0;34m\u001b[0m\n\u001b[0;32m----> 1\u001b[0;31m \u001b[0;32mdel\u001b[0m\u001b[0;34m(\u001b[0m\u001b[0mversiones\u001b[0m\u001b[0;34m[\u001b[0m\u001b[0;34m'zope'\u001b[0m\u001b[0;34m]\u001b[0m\u001b[0;34m)\u001b[0m\u001b[0;34m\u001b[0m\u001b[0;34m\u001b[0m\u001b[0m\n\u001b[0m\u001b[1;32m      2\u001b[0m \u001b[0mprint\u001b[0m\u001b[0;34m(\u001b[0m\u001b[0mversiones\u001b[0m\u001b[0;34m)\u001b[0m\u001b[0;34m\u001b[0m\u001b[0;34m\u001b[0m\u001b[0m\n",
      "\u001b[0;31mKeyError\u001b[0m: 'zope'"
     ]
    }
   ],
   "source": [
    "del(versiones['zope'])\n",
    "print(versiones)"
   ]
  },
  {
   "cell_type": "code",
   "execution_count": 99,
   "id": "8fd87cd3",
   "metadata": {},
   "outputs": [
    {
     "name": "stdout",
     "output_type": "stream",
     "text": [
      "Daniel\n",
      "David\n",
      "Los nombres son diferentes\n"
     ]
    }
   ],
   "source": [
    "# Ejercicio\n",
    "Estudiantes={\n",
    "    'Alumno1':{'nombre':'Daniel','edad':13,'estutura':1.75,'grado':'Master'},\n",
    "    'Alumno2':{'nombre':'David','edad':32,'estutura':1.85,'grado':'Doctor'},\n",
    "}\n",
    "\n",
    "print(Estudiantes['Alumno1']['nombre'])\n",
    "print(Estudiantes['Alumno2']['nombre'])\n",
    "\n",
    "if Estudiantes['Alumno1']['nombre']==Estudiantes['Alumno2']['nombre']:\n",
    "    print(\"Los nombres son identicos\")\n",
    "else:\n",
    "    print(\"Los nombres son diferentes\")"
   ]
  },
  {
   "cell_type": "code",
   "execution_count": 102,
   "id": "bb2bdbdd",
   "metadata": {},
   "outputs": [
    {
     "name": "stdout",
     "output_type": "stream",
     "text": [
      "{'Juan': 27, 'Luis': 24, 'Isabella': 17}\n",
      "{'Juan': 27, 'Luis': 25, 'Isabella': 17}\n",
      "42\n"
     ]
    }
   ],
   "source": [
    "#Modificar un valor directamente de un diccionario\n",
    "edades={'Juan':27,'Luis':24,'Isabella':17}\n",
    "print(edades)\n",
    "#Modificar una edad en especifico\n",
    "edades['Luis']+=1\n",
    "print(edades)\n",
    "#Sumar valores, edad de luis y juan\n",
    "edad_suma=edades['Luis']+edades['Isabella']\n",
    "print(edad_suma)"
   ]
  },
  {
   "cell_type": "code",
   "execution_count": 108,
   "id": "223cca99",
   "metadata": {},
   "outputs": [
    {
     "data": {
      "text/plain": [
       "17"
      ]
     },
     "execution_count": 108,
     "metadata": {},
     "output_type": "execute_result"
    }
   ],
   "source": [
    "edades={'Juan':27,'Luis':24,'Isabella':17}\n",
    "\n",
    "edades['Isabella']"
   ]
  },
  {
   "cell_type": "code",
   "execution_count": 104,
   "id": "0b4d7ce1",
   "metadata": {},
   "outputs": [
    {
     "name": "stdout",
     "output_type": "stream",
     "text": [
      "Juan\n",
      "Luis\n",
      "Isabella\n"
     ]
    }
   ],
   "source": [
    "#Recorrer diccionario edades\n",
    "edades={'Juan':27,'Luis':24,'Isabella':17}\n",
    "\n",
    "for edad in edades:\n",
    "    print(edad)"
   ]
  },
  {
   "cell_type": "code",
   "execution_count": 109,
   "id": "a0d88564",
   "metadata": {},
   "outputs": [
    {
     "name": "stdout",
     "output_type": "stream",
     "text": [
      "Juan   27\n",
      "Luis   24\n",
      "Isabella   17\n"
     ]
    }
   ],
   "source": [
    "for edad in edades:\n",
    "    print(edad,' ',edades[edad])"
   ]
  },
  {
   "cell_type": "code",
   "execution_count": 113,
   "id": "0543f80e",
   "metadata": {},
   "outputs": [
    {
     "name": "stdout",
     "output_type": "stream",
     "text": [
      "0 Juan 27\n",
      "1 Luis 24\n",
      "2 Isabella 17\n"
     ]
    }
   ],
   "source": [
    "for i, key in enumerate(edades):\n",
    "    print(i, key, edades[key])"
   ]
  },
  {
   "cell_type": "code",
   "execution_count": 114,
   "id": "8b4563e5",
   "metadata": {},
   "outputs": [
    {
     "name": "stdout",
     "output_type": "stream",
     "text": [
      "Juan 27\n",
      "Luis 24\n",
      "Isabella 17\n"
     ]
    }
   ],
   "source": [
    "#Metodo items()\n",
    "for clave, valor in edades.items():\n",
    "    print(clave, valor)"
   ]
  },
  {
   "cell_type": "code",
   "execution_count": 115,
   "id": "82cc3e19",
   "metadata": {},
   "outputs": [
    {
     "name": "stdout",
     "output_type": "stream",
     "text": [
      "27\n",
      "24\n",
      "17\n"
     ]
    }
   ],
   "source": [
    "#Metodo values()\n",
    "for valor in edades.values():\n",
    "    print(valor)"
   ]
  },
  {
   "cell_type": "code",
   "execution_count": 116,
   "id": "92d5b02e",
   "metadata": {},
   "outputs": [
    {
     "name": "stdout",
     "output_type": "stream",
     "text": [
      "Juan\n",
      "Luis\n",
      "Isabella\n"
     ]
    }
   ],
   "source": [
    "#Metodo keys()\n",
    "for key in edades.keys():\n",
    "    print(key)"
   ]
  },
  {
   "cell_type": "code",
   "execution_count": 117,
   "id": "4b5ade23",
   "metadata": {},
   "outputs": [
    {
     "name": "stdout",
     "output_type": "stream",
     "text": [
      "{'Alumno1': {'nombre': 'Daniel', 'edad': 12, 'estatura': 1.75, 'grado': 'Master'}, 'Alumno2': {'nombre': 'Daniel', 'edad': 35, 'estatura': 1.85, 'grado': 'Doctor'}}\n"
     ]
    }
   ],
   "source": [
    "Estudiantes={\n",
    "             'Alumno1':{'nombre':'Daniel','edad':12,'estatura':1.75,'grado':'Master'},\n",
    "             'Alumno2':{'nombre':'Daniel','edad':35,'estatura':1.85,'grado':'Doctor'}\n",
    "            }\n",
    "print(Estudiantes)"
   ]
  },
  {
   "cell_type": "code",
   "execution_count": 121,
   "id": "359e2841",
   "metadata": {},
   "outputs": [
    {
     "name": "stdout",
     "output_type": "stream",
     "text": [
      "Alumno1 {'nombre': 'Daniel', 'edad': 12, 'estatura': 1.75, 'grado': 'Master'}\n",
      "\n",
      "\n",
      "nombre Daniel\n",
      "edad 12\n",
      "estatura 1.75\n",
      "grado Master\n",
      "Alumno2 {'nombre': 'Daniel', 'edad': 35, 'estatura': 1.85, 'grado': 'Doctor'}\n",
      "\n",
      "\n",
      "nombre Daniel\n",
      "edad 35\n",
      "estatura 1.85\n",
      "grado Doctor\n"
     ]
    }
   ],
   "source": [
    "#Recorrer los diccionarios\n",
    "for clave, valor in Estudiantes.items():\n",
    "    print(clave,valor)\n",
    "    print(\"\\n\")\n",
    "    for clave1, valor1 in valor.items():\n",
    "        print(clave1, valor1)"
   ]
  },
  {
   "cell_type": "markdown",
   "id": "524bd560",
   "metadata": {},
   "source": [
    "# Ejercicio \n",
    "\n",
    "\n",
    "Se va a desarrollar un videojuego y se te encarga configurar y balancear cada clase de personaje con el que se puede jugar. Partiendo que la estadística base para cada caracteristica de los personajes es 2, se deben cumplir las siguientes condiciones:\n",
    "\n",
    "El caballero tiene el doble de vida y defensa que un guerrero.\n",
    "\n",
    "El guerrero tiene el doble de ataque y alcance que un caballero.\n",
    "\n",
    "El arquero tiene la misma vida y ataque que un guerrero, pero la mitad de su defensa y el doble de su alcance.\n",
    "Muestra como quedan las propiedades de los tres personajes."
   ]
  },
  {
   "cell_type": "code",
   "execution_count": 126,
   "id": "a8f8b4a2",
   "metadata": {},
   "outputs": [
    {
     "name": "stdout",
     "output_type": "stream",
     "text": [
      "{'vida': 2, 'ataque': 2, 'defensa': 2, 'alcance': 2}\n"
     ]
    }
   ],
   "source": [
    "#Metodo FromKeys()\n",
    "secuencia=('vida','ataque','defensa','alcance')\n",
    "personajes=dict.fromkeys(secuencia,2)\n",
    "# print(personajes)\n",
    "caballero=dict(personajes)\n",
    "print(caballero)\n",
    "guerrero={}\n",
    "arquero={}"
   ]
  }
 ],
 "metadata": {
  "kernelspec": {
   "display_name": "Python 3",
   "language": "python",
   "name": "python3"
  },
  "language_info": {
   "codemirror_mode": {
    "name": "ipython",
    "version": 3
   },
   "file_extension": ".py",
   "mimetype": "text/x-python",
   "name": "python",
   "nbconvert_exporter": "python",
   "pygments_lexer": "ipython3",
   "version": "3.9.1"
  }
 },
 "nbformat": 4,
 "nbformat_minor": 5
}
