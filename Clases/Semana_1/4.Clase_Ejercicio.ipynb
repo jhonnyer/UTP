{
 "cells": [
  {
   "cell_type": "code",
   "execution_count": 12,
   "id": "3644c31c",
   "metadata": {},
   "outputs": [
    {
     "name": "stdout",
     "output_type": "stream",
     "text": [
      "2\n"
     ]
    }
   ],
   "source": [
    "gan_lulo=12-10\n",
    "print(gan_lulo)\n",
    "# 5+6*10=65"
   ]
  },
  {
   "cell_type": "code",
   "execution_count": 13,
   "id": "a6cd9b79",
   "metadata": {},
   "outputs": [
    {
     "name": "stdout",
     "output_type": "stream",
     "text": [
      "Ingrese el valor del producto indicado lulo 45\n",
      "Ingrese el valor del producto indicado tomate 23\n",
      "Ingrese el valor del producto indicado Aguacate 123\n",
      "Ingrese el valor del producto indicado Naranja 56\n",
      "{'lulo': 45.0, 'tomate': 23.0, 'Aguacate': 123.0, 'Naranja': 56.0}\n",
      "La gancia del lulo es:  33.0\n",
      "La gancia del tomate es:  18.0\n",
      "La gancia del aguacate es:  116.0\n"
     ]
    }
   ],
   "source": [
    "#clave-valor\n",
    "\n",
    "\n",
    "producto={'lulo':'',\"tomate\":'','Aguacate':'','Naranja':''}\n",
    "costo_produccion={'lulo':12,\"tomate\":5,'Aguacate':7,'Naranja':9}\n",
    "vt=[]\n",
    "\n",
    "for i, p in enumerate(producto):\n",
    "#     print(i, p)\n",
    "    vt=float(input(\"Ingrese el valor del producto indicado {} \".format(p)))\n",
    "    producto[p]=vt\n",
    "    \n",
    "print(producto)\n",
    "#Funcion para hallar el valor de un producto \n",
    "gan_lulo=producto['lulo']-costo_produccion['lulo']\n",
    "print(\"La gancia del lulo es: \",gan_lulo)\n",
    "\n",
    "gan_tom=producto['tomate']-costo_produccion['tomate']\n",
    "print(\"La gancia del tomate es: \",gan_tom)\n",
    "\n",
    "gan_aguac=producto['Aguacate']-costo_produccion['Aguacate']\n",
    "print(\"La gancia del aguacate es: \",gan_aguac)"
   ]
  },
  {
   "cell_type": "code",
   "execution_count": 10,
   "id": "e86e3bdb",
   "metadata": {},
   "outputs": [
    {
     "name": "stdout",
     "output_type": "stream",
     "text": [
      "[4. 8.]\n"
     ]
    }
   ],
   "source": [
    "# Ecuaciones\n",
    "# y=2x\n",
    "# y=x+4\n",
    "#Remplazo y de la primera ecuacion en la segunda ecuacion\n",
    "# 2x=x+4\n",
    "# 2x-x=4\n",
    "# x=4\n",
    "\n",
    "#remplazo x en la segunda ecuacion\n",
    "# y=4+4\n",
    "\n",
    "# Igualo ecuacion 1 y 2 a cero o el numero entero\n",
    "# 2x-y=0\n",
    "# x-y=-4\n",
    "\n",
    "\n",
    "import numpy as np\n",
    "a=np.array([[2,-1],[1,-1]])\n",
    "# b= Almacena los valores del vector solucion \n",
    "b=np.array([0,-4])\n",
    "# print(a)\n",
    "# print(b)\n",
    "x=np.linalg.solve(a,b)\n",
    "print(x)"
   ]
  },
  {
   "cell_type": "code",
   "execution_count": 15,
   "id": "ec0a49b5",
   "metadata": {},
   "outputs": [
    {
     "name": "stdout",
     "output_type": "stream",
     "text": [
      "La cancha esta disponible, puedes usuarla\n"
     ]
    }
   ],
   "source": [
    "x=1\n",
    "\n",
    "if x==1:\n",
    "    print(\"La cancha esta disponible, puedes usuarla\")\n",
    "else:\n",
    "    print(\"La cancha no esta disponible\")"
   ]
  }
 ],
 "metadata": {
  "kernelspec": {
   "display_name": "Python 3",
   "language": "python",
   "name": "python3"
  },
  "language_info": {
   "codemirror_mode": {
    "name": "ipython",
    "version": 3
   },
   "file_extension": ".py",
   "mimetype": "text/x-python",
   "name": "python",
   "nbconvert_exporter": "python",
   "pygments_lexer": "ipython3",
   "version": "3.9.1"
  }
 },
 "nbformat": 4,
 "nbformat_minor": 5
}
