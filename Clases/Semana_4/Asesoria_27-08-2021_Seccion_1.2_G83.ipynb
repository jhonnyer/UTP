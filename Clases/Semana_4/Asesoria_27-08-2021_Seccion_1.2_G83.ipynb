{
 "cells": [
  {
   "cell_type": "code",
   "execution_count": 1,
   "id": "043a9b1d",
   "metadata": {},
   "outputs": [
    {
     "ename": "SyntaxError",
     "evalue": "invalid syntax (<ipython-input-1-3b74969cc8a1>, line 8)",
     "output_type": "error",
     "traceback": [
      "\u001b[0;36m  File \u001b[0;32m\"<ipython-input-1-3b74969cc8a1>\"\u001b[0;36m, line \u001b[0;32m8\u001b[0m\n\u001b[0;31m    var 1=10\u001b[0m\n\u001b[0m        ^\u001b[0m\n\u001b[0;31mSyntaxError\u001b[0m\u001b[0;31m:\u001b[0m invalid syntax\n"
     ]
    }
   ],
   "source": [
    "#variables tienen un reglas para declararlas, aplican para declarar o definir el nombre de una funcion\n",
    "#Teniamos unas formas incorrectas de declarar una variable\n",
    "\n",
    "#Utilizar palabras reservadas de python\n",
    "#No debe empezar por números y caracteres especiales\n",
    "#No puede tener espacios\n",
    "#No tener caracteres especiales como tildes\n",
    "#No debe tener operadores matematicas como por ejemplo +,-,/,*\n",
    "var 1=10\n",
    "prin(var 1)"
   ]
  },
  {
   "cell_type": "code",
   "execution_count": 15,
   "id": "dd95bb37",
   "metadata": {},
   "outputs": [
    {
     "name": "stdout",
     "output_type": "stream",
     "text": [
      "10\n",
      "2\n",
      "10\n",
      "Hola\n",
      "12.3\n"
     ]
    }
   ],
   "source": [
    "#Declarar variable correctamente\n",
    "var=10\n",
    "Var=2\n",
    "print(var)\n",
    "print(Var)\n",
    "\n",
    "var1=10\n",
    "print(var1)\n",
    "\n",
    "var_ext=\"Hola\"\n",
    "print(var_ext)\n",
    "\n",
    "var_1=12.3\n",
    "print(var_1)"
   ]
  },
  {
   "cell_type": "code",
   "execution_count": 14,
   "id": "bce922cc",
   "metadata": {},
   "outputs": [
    {
     "name": "stdout",
     "output_type": "stream",
     "text": [
      "<class 'str'>\n",
      "9\n",
      "Hola\n",
      "<class 'str'>\n",
      "1.4\n",
      "<class 'str'>\n",
      "<class 'int'>\n",
      "<class 'float'>\n"
     ]
    }
   ],
   "source": [
    "# Tipos de variable\n",
    "#String, esta entre comillas simples o comillas dobles\n",
    "cad=\"Frase * *\"\n",
    "print(type(cad))\n",
    "print(len(cad))\n",
    "\n",
    "cad1='Hola'\n",
    "print(cad1)\n",
    "print(type(cad1))\n",
    "\n",
    "cad2='1.4'\n",
    "print(cad2)\n",
    "print(type(cad2))\n",
    "\n",
    "#Entero\n",
    "v1=10\n",
    "print(type(v1))\n",
    "\n",
    "#Flotante\n",
    "v2=12.45\n",
    "print(type(v2))"
   ]
  },
  {
   "cell_type": "code",
   "execution_count": 6,
   "id": "60710cf4",
   "metadata": {},
   "outputs": [
    {
     "name": "stdout",
     "output_type": "stream",
     "text": [
      "10.0\n",
      "<class 'float'>\n"
     ]
    }
   ],
   "source": [
    "#Convertir variables de un tipo a otro \n",
    "\n",
    "#Podemos convertir de un entero a un flotante\n",
    "v1=10\n",
    "v1=float(v1)\n",
    "print(v1)\n",
    "print(type(v1))"
   ]
  },
  {
   "cell_type": "code",
   "execution_count": 16,
   "id": "d0cb8f40",
   "metadata": {},
   "outputs": [
    {
     "name": "stdout",
     "output_type": "stream",
     "text": [
      "12\n",
      "<class 'int'>\n"
     ]
    }
   ],
   "source": [
    "# Convertir una variable de tipo flotante a tipo entero\n",
    "v2=12.3453457\n",
    "v2=int(v2)\n",
    "print(v2)\n",
    "print(type(v2))"
   ]
  },
  {
   "cell_type": "code",
   "execution_count": 19,
   "id": "2d44799f",
   "metadata": {},
   "outputs": [
    {
     "name": "stdout",
     "output_type": "stream",
     "text": [
      "12.35\n"
     ]
    }
   ],
   "source": [
    "#Mostrando una variable de tipo flotante con 2 decimales\n",
    "v3=12.34543534\n",
    "v3=\"{:.2f}\".format(v3)\n",
    "print(v3)"
   ]
  },
  {
   "cell_type": "code",
   "execution_count": 22,
   "id": "903dcc55",
   "metadata": {},
   "outputs": [
    {
     "name": "stdout",
     "output_type": "stream",
     "text": [
      "12\n",
      "13\n"
     ]
    }
   ],
   "source": [
    "#Redondear una variable de tipo flotante a un entero\n",
    "v3=12.34543534\n",
    "v3=round(v3)\n",
    "print(v3)\n",
    "\n",
    "v4=12.64543534\n",
    "v4=round(v4)\n",
    "print(v4)\n",
    "\n"
   ]
  },
  {
   "cell_type": "code",
   "execution_count": 24,
   "id": "cc65914a",
   "metadata": {},
   "outputs": [
    {
     "name": "stdout",
     "output_type": "stream",
     "text": [
      "<class 'str'>\n",
      "12.4\n",
      "<class 'float'>\n"
     ]
    }
   ],
   "source": [
    "#convertir una variable de tipo string numerico a un flotante o a un entero\n",
    "#Convertido de un string a un tipo flotante\n",
    "a='12.4'\n",
    "print(type(a))\n",
    "a=float(a)\n",
    "print(a)\n",
    "print(type(a))"
   ]
  },
  {
   "cell_type": "code",
   "execution_count": 25,
   "id": "2559044b",
   "metadata": {},
   "outputs": [
    {
     "name": "stdout",
     "output_type": "stream",
     "text": [
      "<class 'str'>\n",
      "12\n",
      "<class 'int'>\n"
     ]
    }
   ],
   "source": [
    "#convertir una variable de tipo string numerico a un flotante o a un entero\n",
    "#Convertido de un string a un tipo entero\n",
    "a='12'\n",
    "print(type(a))\n",
    "a=int(a)\n",
    "print(a)\n",
    "print(type(a))"
   ]
  },
  {
   "cell_type": "code",
   "execution_count": 26,
   "id": "d3ffb010",
   "metadata": {},
   "outputs": [
    {
     "name": "stdout",
     "output_type": "stream",
     "text": [
      "<class 'str'>\n"
     ]
    },
    {
     "ename": "ValueError",
     "evalue": "invalid literal for int() with base 10: 'Hola'",
     "output_type": "error",
     "traceback": [
      "\u001b[0;31m---------------------------------------------------------------------------\u001b[0m",
      "\u001b[0;31mValueError\u001b[0m                                Traceback (most recent call last)",
      "\u001b[0;32m<ipython-input-26-e045a7dc12cd>\u001b[0m in \u001b[0;36m<module>\u001b[0;34m\u001b[0m\n\u001b[1;32m      2\u001b[0m \u001b[0ma\u001b[0m\u001b[0;34m=\u001b[0m\u001b[0;34m'Hola'\u001b[0m\u001b[0;34m\u001b[0m\u001b[0;34m\u001b[0m\u001b[0m\n\u001b[1;32m      3\u001b[0m \u001b[0mprint\u001b[0m\u001b[0;34m(\u001b[0m\u001b[0mtype\u001b[0m\u001b[0;34m(\u001b[0m\u001b[0ma\u001b[0m\u001b[0;34m)\u001b[0m\u001b[0;34m)\u001b[0m\u001b[0;34m\u001b[0m\u001b[0;34m\u001b[0m\u001b[0m\n\u001b[0;32m----> 4\u001b[0;31m \u001b[0ma\u001b[0m\u001b[0;34m=\u001b[0m\u001b[0mint\u001b[0m\u001b[0;34m(\u001b[0m\u001b[0ma\u001b[0m\u001b[0;34m)\u001b[0m\u001b[0;34m\u001b[0m\u001b[0;34m\u001b[0m\u001b[0m\n\u001b[0m\u001b[1;32m      5\u001b[0m \u001b[0mprint\u001b[0m\u001b[0;34m(\u001b[0m\u001b[0ma\u001b[0m\u001b[0;34m)\u001b[0m\u001b[0;34m\u001b[0m\u001b[0;34m\u001b[0m\u001b[0m\n\u001b[1;32m      6\u001b[0m \u001b[0mprint\u001b[0m\u001b[0;34m(\u001b[0m\u001b[0mtype\u001b[0m\u001b[0;34m(\u001b[0m\u001b[0ma\u001b[0m\u001b[0;34m)\u001b[0m\u001b[0;34m)\u001b[0m\u001b[0;34m\u001b[0m\u001b[0;34m\u001b[0m\u001b[0m\n",
      "\u001b[0;31mValueError\u001b[0m: invalid literal for int() with base 10: 'Hola'"
     ]
    }
   ],
   "source": [
    "#No podemos hacer una conversion de tipo string a un flotante o a un entero cuando es una letra o una frase\n",
    "a='Hola'\n",
    "print(type(a))\n",
    "a=int(a)\n",
    "print(a)\n",
    "print(type(a))"
   ]
  },
  {
   "cell_type": "code",
   "execution_count": 28,
   "id": "7095558b",
   "metadata": {},
   "outputs": [
    {
     "name": "stdout",
     "output_type": "stream",
     "text": [
      "22.45\n",
      "10 12.45\n",
      "<class 'str'>\n",
      "<class 'str'>\n",
      "<class 'str'>\n"
     ]
    }
   ],
   "source": [
    "#Finalmente, podemos convertir de un entero o un flotante a un string\n",
    "a=10 #Entero\n",
    "b=12.45 #Flotante\n",
    "d=a+b\n",
    "print(d)\n",
    "\n",
    "a=str(a)\n",
    "b=str(b)\n",
    "c=a+\" \"+b\n",
    "print(c)\n",
    "print(type(a))\n",
    "print(type(b))\n",
    "print(type(c))"
   ]
  },
  {
   "cell_type": "markdown",
   "id": "72b52cce",
   "metadata": {},
   "source": [
    "# Funciones\n"
   ]
  },
  {
   "cell_type": "code",
   "execution_count": 31,
   "id": "ae027e19",
   "metadata": {},
   "outputs": [
    {
     "name": "stdout",
     "output_type": "stream",
     "text": [
      "Hola mundo\n"
     ]
    }
   ],
   "source": [
    "#Bloque de codigo que me permite ejecutar una sentencias cuando la funcion es llamada\n",
    "# Definir una funcion sin parametros\n",
    "def saludo():\n",
    "    print(\"Hola mundo\")\n",
    "#Comando para llamar o invocar una funcion. Nombre de la funcion, seguido con 2 parentesis\n",
    "saludo()"
   ]
  },
  {
   "cell_type": "code",
   "execution_count": 33,
   "id": "2da4e670",
   "metadata": {},
   "outputs": [
    {
     "name": "stdout",
     "output_type": "stream",
     "text": [
      "Hola mundo\n",
      "10\n"
     ]
    }
   ],
   "source": [
    "#Bloque de codigo que me permite ejecutar una sentencias cuando la funcion es llamada\n",
    "# Definir una funcion sin parametros, pero que utiliza la sentencia return\n",
    "def saludo():\n",
    "    print(\"Hola mundo\")\n",
    "    return 10\n",
    "#Comando para llamar o invocar una funcion. Nombre de la funcion, seguido con 2 parentesis\n",
    "var_ext=saludo()\n",
    "print(var_ext)"
   ]
  },
  {
   "cell_type": "code",
   "execution_count": 34,
   "id": "bcb63b41",
   "metadata": {},
   "outputs": [
    {
     "name": "stdout",
     "output_type": "stream",
     "text": [
      "Hola mundo\n",
      "None\n"
     ]
    }
   ],
   "source": [
    "#Bloque de codigo que me permite ejecutar una sentencias cuando la funcion es llamada\n",
    "# Definir una funcion sin parametros, pero que utiliza la sentencia return\n",
    "def saludo():\n",
    "    print(\"Hola mundo\")\n",
    "\n",
    "#Comando para llamar o invocar una funcion. Nombre de la funcion, seguido con 2 parentesis\n",
    "var_ext=saludo()\n",
    "print(var_ext)"
   ]
  },
  {
   "cell_type": "code",
   "execution_count": 35,
   "id": "dc4e8755",
   "metadata": {},
   "outputs": [
    {
     "name": "stdout",
     "output_type": "stream",
     "text": [
      "Hola mundo\n",
      "20\n"
     ]
    }
   ],
   "source": [
    "#Bloque de codigo que me permite ejecutar una sentencias cuando la funcion es llamada\n",
    "# Definir una funcion sin parametros, pero que utiliza la sentencia return\n",
    "def saludo():\n",
    "    print(\"Hola mundo\")\n",
    "    c=10*2\n",
    "    return c\n",
    "#Comando para llamar o invocar una funcion. Nombre de la funcion, seguido con 2 parentesis\n",
    "var_ext=saludo()\n",
    "print(var_ext)"
   ]
  },
  {
   "cell_type": "code",
   "execution_count": 39,
   "id": "cb489314",
   "metadata": {},
   "outputs": [
    {
     "name": "stdout",
     "output_type": "stream",
     "text": [
      "El valor de var es:  30\n"
     ]
    }
   ],
   "source": [
    "#Funcion con parametros\n",
    "\n",
    "def suma(a,b):\n",
    "    c=a+b\n",
    "#     print(c)\n",
    "    return c\n",
    "#Argumentos por posicion\n",
    "var=suma(10,20)\n",
    "print(\"El valor de var es: \",var)"
   ]
  },
  {
   "cell_type": "code",
   "execution_count": 40,
   "id": "6244a2d2",
   "metadata": {},
   "outputs": [
    {
     "name": "stdout",
     "output_type": "stream",
     "text": [
      "57.3\n"
     ]
    }
   ],
   "source": [
    "#Argumentos por nombre\n",
    "a=12\n",
    "b=45.3\n",
    "var1=suma(a,b)\n",
    "print(var1)"
   ]
  },
  {
   "cell_type": "code",
   "execution_count": 41,
   "id": "6374db69",
   "metadata": {},
   "outputs": [
    {
     "name": "stdout",
     "output_type": "stream",
     "text": [
      "Hola mundo\n"
     ]
    }
   ],
   "source": [
    "#Argumentos por nombre\n",
    "a=\"Hola \"\n",
    "b=\"mundo\"\n",
    "var1=suma(a,b)\n",
    "print(var1)"
   ]
  },
  {
   "cell_type": "code",
   "execution_count": 45,
   "id": "769d8dad",
   "metadata": {},
   "outputs": [
    {
     "ename": "TypeError",
     "evalue": "can only concatenate str (not \"float\") to str",
     "output_type": "error",
     "traceback": [
      "\u001b[0;31m---------------------------------------------------------------------------\u001b[0m",
      "\u001b[0;31mTypeError\u001b[0m                                 Traceback (most recent call last)",
      "\u001b[0;32m<ipython-input-45-dde9183ab7cf>\u001b[0m in \u001b[0;36m<module>\u001b[0;34m\u001b[0m\n\u001b[1;32m      2\u001b[0m \u001b[0ma\u001b[0m\u001b[0;34m=\u001b[0m\u001b[0;34m\"Hola \"\u001b[0m\u001b[0;34m\u001b[0m\u001b[0;34m\u001b[0m\u001b[0m\n\u001b[1;32m      3\u001b[0m \u001b[0mb\u001b[0m\u001b[0;34m=\u001b[0m\u001b[0;36m3.4\u001b[0m\u001b[0;34m\u001b[0m\u001b[0;34m\u001b[0m\u001b[0m\n\u001b[0;32m----> 4\u001b[0;31m \u001b[0mvar1\u001b[0m\u001b[0;34m=\u001b[0m\u001b[0msuma\u001b[0m\u001b[0;34m(\u001b[0m\u001b[0ma\u001b[0m\u001b[0;34m,\u001b[0m\u001b[0mb\u001b[0m\u001b[0;34m)\u001b[0m\u001b[0;34m\u001b[0m\u001b[0;34m\u001b[0m\u001b[0m\n\u001b[0m\u001b[1;32m      5\u001b[0m \u001b[0mprint\u001b[0m\u001b[0;34m(\u001b[0m\u001b[0mvar1\u001b[0m\u001b[0;34m)\u001b[0m\u001b[0;34m\u001b[0m\u001b[0;34m\u001b[0m\u001b[0m\n",
      "\u001b[0;32m<ipython-input-39-d7309778d42c>\u001b[0m in \u001b[0;36msuma\u001b[0;34m(a, b)\u001b[0m\n\u001b[1;32m      2\u001b[0m \u001b[0;34m\u001b[0m\u001b[0m\n\u001b[1;32m      3\u001b[0m \u001b[0;32mdef\u001b[0m \u001b[0msuma\u001b[0m\u001b[0;34m(\u001b[0m\u001b[0ma\u001b[0m\u001b[0;34m,\u001b[0m\u001b[0mb\u001b[0m\u001b[0;34m)\u001b[0m\u001b[0;34m:\u001b[0m\u001b[0;34m\u001b[0m\u001b[0;34m\u001b[0m\u001b[0m\n\u001b[0;32m----> 4\u001b[0;31m     \u001b[0mc\u001b[0m\u001b[0;34m=\u001b[0m\u001b[0ma\u001b[0m\u001b[0;34m+\u001b[0m\u001b[0mb\u001b[0m\u001b[0;34m\u001b[0m\u001b[0;34m\u001b[0m\u001b[0m\n\u001b[0m\u001b[1;32m      5\u001b[0m \u001b[0;31m#     print(c)\u001b[0m\u001b[0;34m\u001b[0m\u001b[0;34m\u001b[0m\u001b[0;34m\u001b[0m\u001b[0m\n\u001b[1;32m      6\u001b[0m     \u001b[0;32mreturn\u001b[0m \u001b[0mc\u001b[0m\u001b[0;34m\u001b[0m\u001b[0;34m\u001b[0m\u001b[0m\n",
      "\u001b[0;31mTypeError\u001b[0m: can only concatenate str (not \"float\") to str"
     ]
    }
   ],
   "source": [
    "#Argumentos por nombre, error no puedo unir un string con un dato numerico\n",
    "a=\"Hola \"\n",
    "b=3.4\n",
    "var1=suma(a,b)\n",
    "print(var1)"
   ]
  },
  {
   "cell_type": "code",
   "execution_count": 53,
   "id": "29f4460c",
   "metadata": {},
   "outputs": [
    {
     "name": "stdout",
     "output_type": "stream",
     "text": [
      "La nota minima fue:  3.4\n",
      "La nota maximo fue:  4.6\n",
      "La resta entre la nota maxima y la nota minima es:  1.1999999999999997\n",
      "12.0\n",
      "El estudiante con el codigo Est12345 tiene una sumatoria de notas de: 12.0\n"
     ]
    }
   ],
   "source": [
    "#argumentos por keywords, que hacen referencia a los parametros de la funcion.\n",
    "#Estas utilizan un formato clave-valor\n",
    "def notas(codigo:str,n1:float,n2:float,n3:float,n4:float):\n",
    "#     suma=n1+n2+n3+n4\n",
    "    minimo=min(n1,n2,n3,n4)\n",
    "    print(\"La nota minima fue: \",minimo)\n",
    "    maximo=max(n1,n2,n3,n4)\n",
    "    print(\"La nota maximo fue: \",maximo)\n",
    "    resta=maximo-minimo\n",
    "    print(\"La resta entre la nota maxima y la nota minima es: \",resta)\n",
    "    suma=sum((n1,n2,n3))\n",
    "    print(suma)\n",
    "    print(\"El estudiante con el codigo {} tiene una sumatoria de notas de: {}\".format(codigo,suma))\n",
    "    \n",
    "codigo=\"Est12345\"\n",
    "n1=3.4\n",
    "n2=4\n",
    "n3=4.6\n",
    "n4=3.8\n",
    "\n",
    "notas(n1=n1,n2=n2,n3=n3,n4=n4,codigo=codigo)"
   ]
  }
 ],
 "metadata": {
  "kernelspec": {
   "display_name": "Python 3",
   "language": "python",
   "name": "python3"
  },
  "language_info": {
   "codemirror_mode": {
    "name": "ipython",
    "version": 3
   },
   "file_extension": ".py",
   "mimetype": "text/x-python",
   "name": "python",
   "nbconvert_exporter": "python",
   "pygments_lexer": "ipython3",
   "version": "3.9.1"
  }
 },
 "nbformat": 4,
 "nbformat_minor": 5
}
