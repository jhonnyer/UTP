{
 "cells": [
  {
   "cell_type": "code",
   "execution_count": 3,
   "id": "65fb7fff",
   "metadata": {},
   "outputs": [
    {
     "name": "stdout",
     "output_type": "stream",
     "text": [
      "('a', 'b', 'c', 'd', 'e')\n"
     ]
    }
   ],
   "source": [
    "# Tuplas  es una lista de valores separados por comas, no es necesario parentesis pero sirve para identificarlas\n",
    "t = 'a', 'b', 'c', 'd', 'e'\n",
    "print(t)"
   ]
  },
  {
   "cell_type": "code",
   "execution_count": 4,
   "id": "6e0dbc46",
   "metadata": {},
   "outputs": [
    {
     "name": "stdout",
     "output_type": "stream",
     "text": [
      "('a', 'b', 'c', 'd', 'e')\n"
     ]
    }
   ],
   "source": [
    "t = ('a', 'b', 'c', 'd', 'e')\n",
    "print(t)"
   ]
  },
  {
   "cell_type": "code",
   "execution_count": 6,
   "id": "02cba867",
   "metadata": {},
   "outputs": [
    {
     "data": {
      "text/plain": [
       "tuple"
      ]
     },
     "execution_count": 6,
     "metadata": {},
     "output_type": "execute_result"
    }
   ],
   "source": [
    "# Para crear una tupla con un solo elemento, es necesario terminar con una coma al final\n",
    "t1 = ('a',)\n",
    "type(t1)"
   ]
  },
  {
   "cell_type": "code",
   "execution_count": 7,
   "id": "ec180c69",
   "metadata": {},
   "outputs": [
    {
     "data": {
      "text/plain": [
       "str"
      ]
     },
     "execution_count": 7,
     "metadata": {},
     "output_type": "execute_result"
    }
   ],
   "source": [
    "# Sin la coma, Python considera ('a') como una expresión con una cadena entre\n",
    "# paréntesis que es evaluada como de tipo cadena (string):\n",
    "t2 = ('a')\n",
    "type(t2)"
   ]
  },
  {
   "cell_type": "code",
   "execution_count": 8,
   "id": "a8684c30",
   "metadata": {},
   "outputs": [
    {
     "name": "stdout",
     "output_type": "stream",
     "text": [
      "()\n"
     ]
    }
   ],
   "source": [
    "# Otra forma de construir una tupla es utilizando la función interna tuple. Sin\n",
    "# argumentos, ésta crea una tupla vacía:\n",
    "t = tuple()\n",
    "print(t)"
   ]
  },
  {
   "cell_type": "code",
   "execution_count": 9,
   "id": "eb689f7d",
   "metadata": {},
   "outputs": [
    {
     "name": "stdout",
     "output_type": "stream",
     "text": [
      "('a', 'l', 't', 'r', 'a', 'm', 'u', 'c', 'e', 's')\n"
     ]
    }
   ],
   "source": [
    "# Si el argumento es una secuencia (cadena, lista, o tupla), el resultado de la llamada\n",
    "# a tuple es una tupla con los elementos de la secuencia:\n",
    "t = tuple('altramuces')\n",
    "print(t)"
   ]
  },
  {
   "cell_type": "code",
   "execution_count": 10,
   "id": "3db06976",
   "metadata": {
    "scrolled": true
   },
   "outputs": [
    {
     "name": "stdout",
     "output_type": "stream",
     "text": [
      "a\n"
     ]
    }
   ],
   "source": [
    "# La mayoría de los operadores de listas también funcionan en tuplas. El operador\n",
    "# corchete indexa un elemento:\n",
    "t = ('a', 'b', 'c', 'd', 'e')\n",
    "print(t[0])"
   ]
  },
  {
   "cell_type": "code",
   "execution_count": 11,
   "id": "54cff3f2",
   "metadata": {},
   "outputs": [
    {
     "name": "stdout",
     "output_type": "stream",
     "text": [
      "('b', 'c')\n"
     ]
    }
   ],
   "source": [
    "# Y el operador de rebanado (slice) selecciona un rango de elementos.\n",
    "print(t[1:3])"
   ]
  },
  {
   "cell_type": "code",
   "execution_count": 12,
   "id": "73157fd3",
   "metadata": {},
   "outputs": [
    {
     "ename": "TypeError",
     "evalue": "'tuple' object does not support item assignment",
     "output_type": "error",
     "traceback": [
      "\u001b[0;31m---------------------------------------------------------------------------\u001b[0m",
      "\u001b[0;31mTypeError\u001b[0m                                 Traceback (most recent call last)",
      "\u001b[0;32m<ipython-input-12-be6a8a2318d5>\u001b[0m in \u001b[0;36m<module>\u001b[0;34m\u001b[0m\n\u001b[1;32m      1\u001b[0m \u001b[0;31m# Pero si se intenta modificar uno de los elementos de la tupla, se produce un error:\u001b[0m\u001b[0;34m\u001b[0m\u001b[0;34m\u001b[0m\u001b[0;34m\u001b[0m\u001b[0m\n\u001b[0;32m----> 2\u001b[0;31m \u001b[0mt\u001b[0m\u001b[0;34m[\u001b[0m\u001b[0;36m0\u001b[0m\u001b[0;34m]\u001b[0m \u001b[0;34m=\u001b[0m \u001b[0;34m'A'\u001b[0m\u001b[0;34m\u001b[0m\u001b[0;34m\u001b[0m\u001b[0m\n\u001b[0m",
      "\u001b[0;31mTypeError\u001b[0m: 'tuple' object does not support item assignment"
     ]
    }
   ],
   "source": [
    "# Pero si se intenta modificar uno de los elementos de la tupla, se produce un error:\n",
    "t[0] = 'A'"
   ]
  },
  {
   "cell_type": "code",
   "execution_count": 13,
   "id": "92baca24",
   "metadata": {},
   "outputs": [
    {
     "name": "stdout",
     "output_type": "stream",
     "text": [
      "('A', 'b', 'c', 'd', 'e')\n"
     ]
    }
   ],
   "source": [
    "# No se puede modificar los elementos de una tupla, pero sí se puede reemplazar una\n",
    "# tupla por otra:\n",
    "t = ('A',) + t[1:]\n",
    "print(t)"
   ]
  },
  {
   "cell_type": "code",
   "execution_count": 14,
   "id": "7426ae80",
   "metadata": {},
   "outputs": [
    {
     "data": {
      "text/plain": [
       "True"
      ]
     },
     "execution_count": 14,
     "metadata": {},
     "output_type": "execute_result"
    }
   ],
   "source": [
    "#Comparacion de tuplas\n",
    "(0, 1, 2) < (0, 3, 4)"
   ]
  },
  {
   "cell_type": "code",
   "execution_count": 15,
   "id": "1bda47df",
   "metadata": {},
   "outputs": [
    {
     "data": {
      "text/plain": [
       "True"
      ]
     },
     "execution_count": 15,
     "metadata": {},
     "output_type": "execute_result"
    }
   ],
   "source": [
    "(0, 1, 2000000) < (0, 3, 4)"
   ]
  },
  {
   "cell_type": "code",
   "execution_count": 28,
   "id": "b2dab718",
   "metadata": {
    "scrolled": true
   },
   "outputs": [
    {
     "name": "stdout",
     "output_type": "stream",
     "text": [
      "['Pero', 'qué', 'luz', 'se', 'deja', 'ver', 'allí'] \n",
      "\n",
      "Lita t con las palabras y su longitud\n",
      "[(4, 'Pero'), (3, 'qué'), (3, 'luz'), (2, 'se'), (4, 'deja'), (3, 'ver'), (4, 'allí')] \n",
      "\n",
      "lista t ordenada por tamaño de mayor a meno: reverse=True\n",
      "[(4, 'deja'), (4, 'allí'), (4, 'Pero'), (3, 'ver'), (3, 'qué'), (3, 'luz'), (2, 'se')] \n",
      "\n",
      "['deja', 'allí', 'Pero', 'ver', 'qué', 'luz', 'se']\n"
     ]
    }
   ],
   "source": [
    "# La función sort funciona de la misma manera. Ordena inicialmente por el primer\n",
    "# elemento, pero en el caso de que ambos elementos sean iguales, ordena por el\n",
    "# segundo elemento, y así sucesivamente.\n",
    "\n",
    "txt = 'Pero qué luz se deja ver allí'\n",
    "palabras = txt.split()\n",
    "print(palabras,'\\n')\n",
    "t = list()\n",
    "for palabra in palabras:\n",
    "    t.append((len(palabra), palabra))\n",
    "print(\"Lita t con las palabras y su longitud\")\n",
    "print(t,'\\n')\n",
    "\n",
    "t.sort(reverse=True)\n",
    "print(\"lista t ordenada por tamaño de mayor a meno: reverse=True\")\n",
    "print(t,'\\n')\n",
    "res = list()\n",
    "for longitud, palabra in t:\n",
    "    res.append(palabra)\n",
    "print(res)"
   ]
  },
  {
   "cell_type": "code",
   "execution_count": 30,
   "id": "13629029",
   "metadata": {},
   "outputs": [
    {
     "name": "stdout",
     "output_type": "stream",
     "text": [
      "pásalo\n",
      "bien\n"
     ]
    }
   ],
   "source": [
    "#Asignación de Tuplas\n",
    "# En este ejemplo tenemos una lista de dos elementos (la cual es una secuencia) y\n",
    "# asignamos el primer y segundo elementos de la secuencia a las variables x y y en\n",
    "# una única sentencia.\n",
    "m = [ 'pásalo', 'bien' ]\n",
    "x, y = m\n",
    "print(x)\n",
    "print(y)"
   ]
  },
  {
   "cell_type": "code",
   "execution_count": 31,
   "id": "474a49e0",
   "metadata": {},
   "outputs": [
    {
     "name": "stdout",
     "output_type": "stream",
     "text": [
      "pásalo\n",
      "bien\n"
     ]
    }
   ],
   "source": [
    "# No es magia, Python traduce aproximadamente la sintaxis de asignación de la\n",
    "# tupla de este modo\n",
    "m = [ 'pásalo', 'bien' ]\n",
    "x = m[0]\n",
    "y = m[1]\n",
    "\n",
    "print(x)\n",
    "print(y)"
   ]
  },
  {
   "cell_type": "code",
   "execution_count": 32,
   "id": "e1ff9d0a",
   "metadata": {},
   "outputs": [
    {
     "name": "stdout",
     "output_type": "stream",
     "text": [
      "pásalo\n",
      "bien\n"
     ]
    }
   ],
   "source": [
    "# Estilísticamente, cuando se utiliza una tupla en el lado izquierdo de la asignación,\n",
    "# se omiten los paréntesis, pero lo que se muestra a continuación es una sintaxis\n",
    "# igualmente válida:\n",
    "m = [ 'pásalo', 'bien' ]\n",
    "(x, y) = m\n",
    "print(x)\n",
    "print(y)"
   ]
  },
  {
   "cell_type": "code",
   "execution_count": 34,
   "id": "ac13e37c",
   "metadata": {},
   "outputs": [
    {
     "name": "stdout",
     "output_type": "stream",
     "text": [
      "bien\n",
      "pásalo\n"
     ]
    }
   ],
   "source": [
    "x, y = y, x\n",
    "print(x)\n",
    "print(y)"
   ]
  },
  {
   "cell_type": "code",
   "execution_count": 35,
   "id": "2f8c8794",
   "metadata": {},
   "outputs": [
    {
     "ename": "ValueError",
     "evalue": "too many values to unpack (expected 2)",
     "output_type": "error",
     "traceback": [
      "\u001b[0;31m---------------------------------------------------------------------------\u001b[0m",
      "\u001b[0;31mValueError\u001b[0m                                Traceback (most recent call last)",
      "\u001b[0;32m<ipython-input-35-d850e262bf7d>\u001b[0m in \u001b[0;36m<module>\u001b[0;34m\u001b[0m\n\u001b[1;32m      1\u001b[0m \u001b[0;31m# El número de variables en el lado izquierdo y el número de valores en el lado\u001b[0m\u001b[0;34m\u001b[0m\u001b[0;34m\u001b[0m\u001b[0;34m\u001b[0m\u001b[0m\n\u001b[1;32m      2\u001b[0m \u001b[0;31m# derecho deben ser iguales:\u001b[0m\u001b[0;34m\u001b[0m\u001b[0;34m\u001b[0m\u001b[0;34m\u001b[0m\u001b[0m\n\u001b[0;32m----> 3\u001b[0;31m \u001b[0ma\u001b[0m\u001b[0;34m,\u001b[0m \u001b[0mb\u001b[0m \u001b[0;34m=\u001b[0m \u001b[0;36m1\u001b[0m\u001b[0;34m,\u001b[0m \u001b[0;36m2\u001b[0m\u001b[0;34m,\u001b[0m \u001b[0;36m3\u001b[0m\u001b[0;34m\u001b[0m\u001b[0;34m\u001b[0m\u001b[0m\n\u001b[0m",
      "\u001b[0;31mValueError\u001b[0m: too many values to unpack (expected 2)"
     ]
    }
   ],
   "source": [
    "# El número de variables en el lado izquierdo y el número de valores en el lado\n",
    "# derecho deben ser iguales:\n",
    "a, b = 1, 2, 3"
   ]
  },
  {
   "cell_type": "code",
   "execution_count": 37,
   "id": "2eecb4fe",
   "metadata": {},
   "outputs": [
    {
     "name": "stdout",
     "output_type": "stream",
     "text": [
      "1 2\n"
     ]
    }
   ],
   "source": [
    "a, b = 1, 2\n",
    "print(a,b)"
   ]
  },
  {
   "cell_type": "code",
   "execution_count": 39,
   "id": "cab0d16d",
   "metadata": {},
   "outputs": [
    {
     "name": "stdout",
     "output_type": "stream",
     "text": [
      "monty\n",
      "python.org\n"
     ]
    }
   ],
   "source": [
    "# Generalizando más, el lado derecho puede ser cualquier tipo de secuencia (cadena,\n",
    "# lista, o tupla). Por ejemplo, para dividir una dirección de e-mail en nombre de\n",
    "# usuario y dominio, se podría escribir:\n",
    "dir = 'monty@python.org'\n",
    "nombre, dominio = dir.split('@')\n",
    "print(nombre)\n",
    "print(dominio)"
   ]
  },
  {
   "cell_type": "code",
   "execution_count": 43,
   "id": "eb76eefd",
   "metadata": {},
   "outputs": [
    {
     "name": "stdout",
     "output_type": "stream",
     "text": [
      "[('a', 10), ('b', 1), ('c', 22)]\n"
     ]
    }
   ],
   "source": [
    "d = {'a':10, 'b':1, 'c':22}\n",
    "#Guarda los elementos de un diccionario por clave-valor en una lista\n",
    "t = list(d.items())\n",
    "print(t)"
   ]
  },
  {
   "cell_type": "code",
   "execution_count": 44,
   "id": "0d98e4ef",
   "metadata": {},
   "outputs": [
    {
     "name": "stdout",
     "output_type": "stream",
     "text": [
      "[('a', 10), ('b', 1), ('c', 22)]\n"
     ]
    }
   ],
   "source": [
    "#Ordena la lista \n",
    "# La nueva lista está ordenada en orden alfabético ascendente de acuerdo al valor de sus claves.\n",
    "t.sort()\n",
    "print(t)"
   ]
  },
  {
   "cell_type": "code",
   "execution_count": 45,
   "id": "baa79258",
   "metadata": {},
   "outputs": [
    {
     "name": "stdout",
     "output_type": "stream",
     "text": [
      "10 a\n",
      "1 b\n",
      "22 c\n"
     ]
    }
   ],
   "source": [
    "# La combinación de items, asignación de tuplas, y for, produce un buen patrón de\n",
    "# diseño de código para recorrer las claves y valores de un diccionario en un único\n",
    "# bucle:\n",
    "for clave, valor in list(d.items()):\n",
    "    print(valor, clave)"
   ]
  },
  {
   "cell_type": "code",
   "execution_count": 47,
   "id": "b4bae4d7",
   "metadata": {},
   "outputs": [
    {
     "name": "stdout",
     "output_type": "stream",
     "text": [
      "10 a\n",
      "1 b\n",
      "22 c\n"
     ]
    }
   ],
   "source": [
    "#Recorre una lista con tuplas clave-valor sacadas de un diccionario\n",
    "for clave, valor in t:\n",
    "    print(valor, clave)"
   ]
  },
  {
   "cell_type": "code",
   "execution_count": 51,
   "id": "823df6c1",
   "metadata": {},
   "outputs": [
    {
     "name": "stdout",
     "output_type": "stream",
     "text": [
      "[(10, 'a'), (1, 'b'), (22, 'c')] \n",
      "\n",
      "[(22, 'c'), (10, 'a'), (1, 'b')]\n"
     ]
    }
   ],
   "source": [
    "# Para hacer esto, primero se crea una lista de tuplas donde cada tupla es (valor,\n",
    "# clave). El método items dará una lista de tuplas (clave, valor), pero esta vez\n",
    "# se pretende ordenar por valor, no por clave. Una vez que se ha construido la lista\n",
    "# con las tuplas clave-valor, es sencillo ordenar la lista en orden inverso e imprimir\n",
    "# la nueva lista ordenada.\n",
    "d = {'a':10, 'b':1, 'c':22}\n",
    "l = list()\n",
    "for clave, valor in d.items():\n",
    "    l.append( (valor, clave))\n",
    "print(l,'\\n')\n",
    "#ordeno la lista por valor\n",
    "l.sort(reverse=True)\n",
    "print(l)"
   ]
  },
  {
   "cell_type": "code",
   "execution_count": 2,
   "id": "050621f0",
   "metadata": {},
   "outputs": [
    {
     "name": "stdout",
     "output_type": "stream",
     "text": [
      "{('Galindez', 'Jhonnyer'): 3128243249}\n"
     ]
    }
   ],
   "source": [
    "# Usaríamos por ejemplo una clave compuesta si quisiéramos crear un directorio\n",
    "# telefónico que mapea pares appellido, nombre con números telefónicos. Asumiendo\n",
    "# que hemos definido las variables apellido, nombre, y número, podríamos escribir\n",
    "# una sentencia de asignación de diccionario como sigue:\n",
    "apellido=\"Galindez\"\n",
    "nombre=\"Jhonnyer\"\n",
    "numero=3128243249\n",
    "directorio=dict()\n",
    "directorio[apellido,nombre] = numero\n",
    "print(directorio)"
   ]
  },
  {
   "cell_type": "code",
   "execution_count": 3,
   "id": "176cc4c7",
   "metadata": {},
   "outputs": [
    {
     "name": "stdout",
     "output_type": "stream",
     "text": [
      "Jhonnyer Galindez 3128243249\n"
     ]
    }
   ],
   "source": [
    "#Recorrer el directorio e imprimir resultado\n",
    "for apellido, nombre in directorio:\n",
    "    print(nombre, apellido, directorio[apellido,nombre])"
   ]
  },
  {
   "cell_type": "code",
   "execution_count": 4,
   "id": "3aef6131",
   "metadata": {},
   "outputs": [
    {
     "name": "stdout",
     "output_type": "stream",
     "text": [
      "{('Jhonnyer', 'Galindez'): 3128243249}\n"
     ]
    }
   ],
   "source": [
    "direc=(\"Jhonnyer\",\"Galindez\")\n",
    "numero=3128243249\n",
    "directorio=dict()\n",
    "directorio[direc] = numero\n",
    "print(directorio)"
   ]
  },
  {
   "cell_type": "code",
   "execution_count": 7,
   "id": "c4201d69",
   "metadata": {},
   "outputs": [
    {
     "name": "stdout",
     "output_type": "stream",
     "text": [
      "('Jhonnyer', 'Galindez') 3128243249\n"
     ]
    }
   ],
   "source": [
    "for direc in directorio:\n",
    "    print(direc, directorio[direc])"
   ]
  }
 ],
 "metadata": {
  "kernelspec": {
   "display_name": "Python 3",
   "language": "python",
   "name": "python3"
  },
  "language_info": {
   "codemirror_mode": {
    "name": "ipython",
    "version": 3
   },
   "file_extension": ".py",
   "mimetype": "text/x-python",
   "name": "python",
   "nbconvert_exporter": "python",
   "pygments_lexer": "ipython3",
   "version": "3.9.1"
  }
 },
 "nbformat": 4,
 "nbformat_minor": 5
}
