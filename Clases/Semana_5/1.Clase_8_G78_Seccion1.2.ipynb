{
 "cells": [
  {
   "cell_type": "code",
   "execution_count": 15,
   "id": "9c31ac1c",
   "metadata": {},
   "outputs": [
    {
     "name": "stdout",
     "output_type": "stream",
     "text": [
      "10\n",
      "3.9\n",
      "El promedio ajustado del estudiante AA0010276 es: 3.9\n"
     ]
    }
   ],
   "source": [
    "def nota_quices(codigo:str, nota1:int, nota2:int, nota3:int, nota4:int, nota5:int):\n",
    "    v_min=min(nota1, nota2, nota3, nota4, nota5)\n",
    "    print(v_min)\n",
    "    suma=(nota1+nota2+nota3+nota4+nota5-v_min)\n",
    "    operacion=round(suma/80,2)\n",
    "    print(operacion)\n",
    "    print(\"El promedio ajustado del estudiante {} es: {}\" .format(codigo, operacion))\n",
    "    #operación=((nota1+nota2+nota3+nota4+nota5-v_min)/(50))\n",
    "\n",
    "#Nota1: 20%\n",
    "#Nota2: 20%\n",
    "#Nota3: 20%\n",
    "#Nota4: 20%\n",
    "100\n",
    "\n",
    "codigo='AA0010276'\n",
    "nota1=10\n",
    "nota2=78\n",
    "nota3=78\n",
    "nota4=78\n",
    "nota5=78\n",
    "         \n",
    "nota_quices(codigo,nota1,nota2,nota3,nota4,nota4)\n",
    "    "
   ]
  },
  {
   "cell_type": "code",
   "execution_count": 9,
   "id": "55e5fcb9",
   "metadata": {},
   "outputs": [
    {
     "name": "stdout",
     "output_type": "stream",
     "text": [
      "2\n",
      "3.5\n",
      "El promedio ajustado del estudiante AA0010276 es: 3.5\n"
     ]
    }
   ],
   "source": [
    "def nota_quices(codigo:str, nota1:int, nota2:int, nota3:int, nota4:int, nota5:int):\n",
    "    v_min=min(nota1, nota2, nota3, nota4, nota5)\n",
    "    print(v_min)\n",
    "    operacion=(nota1+nota2+nota3+nota4+nota5-v_min)/4\n",
    "    print(operacion)\n",
    "    print(\"El promedio ajustado del estudiante {} es: {}\" .format(codigo, operacion))\n",
    "    #operación=((nota1+nota2+nota3+nota4+nota5-v_min)/(50))\n",
    "\n",
    "#Nota1: 20%\n",
    "#Nota2: 20%\n",
    "#Nota3: 20%\n",
    "#Nota4: 20%\n",
    "#Nota5: 20%\n",
    "\n",
    "codigo='AA0010276'\n",
    "nota1=5\n",
    "nota2=4\n",
    "nota3=3\n",
    "nota4=2\n",
    "nota5=1\n",
    "         \n",
    "nota_quices(codigo,nota1,nota2,nota3,nota4,nota4)\n",
    "    "
   ]
  }
 ],
 "metadata": {
  "kernelspec": {
   "display_name": "Python 3",
   "language": "python",
   "name": "python3"
  },
  "language_info": {
   "codemirror_mode": {
    "name": "ipython",
    "version": 3
   },
   "file_extension": ".py",
   "mimetype": "text/x-python",
   "name": "python",
   "nbconvert_exporter": "python",
   "pygments_lexer": "ipython3",
   "version": "3.9.1"
  }
 },
 "nbformat": 4,
 "nbformat_minor": 5
}
