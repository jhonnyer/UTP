{
 "cells": [
  {
   "cell_type": "code",
   "execution_count": 1,
   "id": "e678a653",
   "metadata": {},
   "outputs": [
    {
     "name": "stdout",
     "output_type": "stream",
     "text": [
      "('a', 'b', 'c')\n",
      "<class 'tuple'>\n"
     ]
    }
   ],
   "source": [
    "#Definir una tupla\n",
    "t='a','b','c'\n",
    "print(t)\n",
    "print(type(t))"
   ]
  },
  {
   "cell_type": "code",
   "execution_count": 2,
   "id": "dae76acc",
   "metadata": {},
   "outputs": [
    {
     "name": "stdout",
     "output_type": "stream",
     "text": [
      "('a', 'b', 'c', 12, 1.3, True, False, [1, 5])\n",
      "<class 'tuple'>\n"
     ]
    }
   ],
   "source": [
    "#Definir una tupla\n",
    "t=('a','b','c',12,1.3,True, False, [1,5])\n",
    "print(t)\n",
    "print(type(t))"
   ]
  },
  {
   "cell_type": "code",
   "execution_count": 3,
   "id": "21a73cde",
   "metadata": {},
   "outputs": [
    {
     "name": "stdout",
     "output_type": "stream",
     "text": [
      "('a',)\n",
      "<class 'tuple'>\n"
     ]
    }
   ],
   "source": [
    "#Definir una tupla con un solo elemento\n",
    "t=('a',)\n",
    "print(t)\n",
    "print(type(t))"
   ]
  },
  {
   "cell_type": "code",
   "execution_count": 4,
   "id": "63c105d2",
   "metadata": {},
   "outputs": [
    {
     "name": "stdout",
     "output_type": "stream",
     "text": [
      "a\n",
      "<class 'str'>\n"
     ]
    }
   ],
   "source": [
    "#Esta es una forma incorrecta de crear una tupla, hace falta la coma despues del valor\n",
    "t2=('a')\n",
    "print(t2)\n",
    "print(type(t2))"
   ]
  },
  {
   "cell_type": "code",
   "execution_count": 5,
   "id": "cd9a1464",
   "metadata": {},
   "outputs": [
    {
     "name": "stdout",
     "output_type": "stream",
     "text": [
      "()\n",
      "<class 'tuple'>\n"
     ]
    }
   ],
   "source": [
    "#Crear una tupla vacia\n",
    "t=tuple()\n",
    "print(t)\n",
    "print(type(t))"
   ]
  },
  {
   "cell_type": "code",
   "execution_count": 6,
   "id": "68e75485",
   "metadata": {},
   "outputs": [
    {
     "name": "stdout",
     "output_type": "stream",
     "text": [
      "('b', 'a', 'n', 'a', 'n', 'a', 's')\n"
     ]
    }
   ],
   "source": [
    "#Creado una tupla a partir de la funcion tuple()\n",
    "tupla=tuple('bananas')\n",
    "print(tupla)"
   ]
  },
  {
   "cell_type": "code",
   "execution_count": 7,
   "id": "4968c02f",
   "metadata": {},
   "outputs": [
    {
     "name": "stdout",
     "output_type": "stream",
     "text": [
      "(1, 2, 3, 5, 'hola', 1.23)\n"
     ]
    }
   ],
   "source": [
    "tupla=tuple([1,2,3,5,'hola',1.23])\n",
    "print(tupla)"
   ]
  },
  {
   "cell_type": "code",
   "execution_count": 8,
   "id": "1e4ccfb5",
   "metadata": {},
   "outputs": [
    {
     "name": "stdout",
     "output_type": "stream",
     "text": [
      "(1, 2, 3, 5, 'hola', 1.23)\n",
      "1\n",
      "hola\n"
     ]
    }
   ],
   "source": [
    "#Una tupla es indexada, maneja indices para acceder a los elementos de la tupla\n",
    "tupla=tuple([1,2,3,5,'hola',1.23])\n",
    "print(tupla)\n",
    "print(tupla[0])\n",
    "print(tupla[4])"
   ]
  },
  {
   "cell_type": "code",
   "execution_count": 9,
   "id": "43731dc3",
   "metadata": {},
   "outputs": [
    {
     "data": {
      "text/plain": [
       "(2, 3, 5)"
      ]
     },
     "execution_count": 9,
     "metadata": {},
     "output_type": "execute_result"
    }
   ],
   "source": [
    "#Rebanada o slicing en una tupla\n",
    "tupla[1:4]"
   ]
  },
  {
   "cell_type": "code",
   "execution_count": 10,
   "id": "904856ea",
   "metadata": {},
   "outputs": [
    {
     "data": {
      "text/plain": [
       "(2, 5)"
      ]
     },
     "execution_count": 10,
     "metadata": {},
     "output_type": "execute_result"
    }
   ],
   "source": [
    "#Rebanada o slicing en una tupla\n",
    "tupla[1:5:2]"
   ]
  },
  {
   "cell_type": "code",
   "execution_count": 11,
   "id": "3a9fd6c0",
   "metadata": {},
   "outputs": [
    {
     "data": {
      "text/plain": [
       "'hola'"
      ]
     },
     "execution_count": 11,
     "metadata": {},
     "output_type": "execute_result"
    }
   ],
   "source": [
    "tupla[4]"
   ]
  },
  {
   "cell_type": "code",
   "execution_count": 12,
   "id": "34886c95",
   "metadata": {},
   "outputs": [
    {
     "ename": "TypeError",
     "evalue": "'tuple' object does not support item assignment",
     "output_type": "error",
     "traceback": [
      "\u001b[0;31m---------------------------------------------------------------------------\u001b[0m",
      "\u001b[0;31mTypeError\u001b[0m                                 Traceback (most recent call last)",
      "\u001b[0;32m<ipython-input-12-25321ab55447>\u001b[0m in \u001b[0;36m<module>\u001b[0;34m\u001b[0m\n\u001b[1;32m      1\u001b[0m \u001b[0;31m#Las tuplas son inmutables\u001b[0m\u001b[0;34m\u001b[0m\u001b[0;34m\u001b[0m\u001b[0;34m\u001b[0m\u001b[0m\n\u001b[0;32m----> 2\u001b[0;31m \u001b[0mtupla\u001b[0m\u001b[0;34m[\u001b[0m\u001b[0;36m4\u001b[0m\u001b[0;34m]\u001b[0m\u001b[0;34m=\u001b[0m\u001b[0;36m56\u001b[0m\u001b[0;34m\u001b[0m\u001b[0;34m\u001b[0m\u001b[0m\n\u001b[0m",
      "\u001b[0;31mTypeError\u001b[0m: 'tuple' object does not support item assignment"
     ]
    }
   ],
   "source": [
    "#Las tuplas son inmutables\n",
    "tupla[4]=56"
   ]
  },
  {
   "cell_type": "code",
   "execution_count": null,
   "id": "efcb8a3e",
   "metadata": {},
   "outputs": [],
   "source": [
    "cad='Hola mundo'\n",
    "cad[5]"
   ]
  },
  {
   "cell_type": "code",
   "execution_count": null,
   "id": "47719c2f",
   "metadata": {
    "scrolled": true
   },
   "outputs": [],
   "source": [
    "cad[5]=3"
   ]
  },
  {
   "cell_type": "code",
   "execution_count": 13,
   "id": "80842a2d",
   "metadata": {},
   "outputs": [
    {
     "name": "stdout",
     "output_type": "stream",
     "text": [
      "(1, 2, 3, 5, 'hola', 1.23)\n"
     ]
    }
   ],
   "source": [
    "#CReamos una tupla\n",
    "tupla=(1, 2, 3, 5, 'hola', 1.23)\n",
    "print(tupla)"
   ]
  },
  {
   "cell_type": "code",
   "execution_count": 14,
   "id": "13343ff4",
   "metadata": {},
   "outputs": [
    {
     "data": {
      "text/plain": [
       "['__add__',\n",
       " '__class__',\n",
       " '__class_getitem__',\n",
       " '__contains__',\n",
       " '__delattr__',\n",
       " '__dir__',\n",
       " '__doc__',\n",
       " '__eq__',\n",
       " '__format__',\n",
       " '__ge__',\n",
       " '__getattribute__',\n",
       " '__getitem__',\n",
       " '__getnewargs__',\n",
       " '__gt__',\n",
       " '__hash__',\n",
       " '__init__',\n",
       " '__init_subclass__',\n",
       " '__iter__',\n",
       " '__le__',\n",
       " '__len__',\n",
       " '__lt__',\n",
       " '__mul__',\n",
       " '__ne__',\n",
       " '__new__',\n",
       " '__reduce__',\n",
       " '__reduce_ex__',\n",
       " '__repr__',\n",
       " '__rmul__',\n",
       " '__setattr__',\n",
       " '__sizeof__',\n",
       " '__str__',\n",
       " '__subclasshook__',\n",
       " 'count',\n",
       " 'index']"
      ]
     },
     "execution_count": 14,
     "metadata": {},
     "output_type": "execute_result"
    }
   ],
   "source": [
    "dir(tupla)"
   ]
  },
  {
   "cell_type": "code",
   "execution_count": null,
   "id": "ef02ca14",
   "metadata": {
    "scrolled": true
   },
   "outputs": [],
   "source": [
    "#Asignarle a la tupla otro valor de otra tupla\n",
    "tupla=('A',)+tupla[1:]\n",
    "print(tupla)"
   ]
  },
  {
   "cell_type": "code",
   "execution_count": null,
   "id": "9fc5902f",
   "metadata": {},
   "outputs": [],
   "source": [
    "#Comparacion de tuplas\n",
    "(0,1,2)<(0,3,4)\n"
   ]
  },
  {
   "cell_type": "code",
   "execution_count": null,
   "id": "97c4c4dc",
   "metadata": {},
   "outputs": [],
   "source": [
    "#Comparacion de tuplas\n",
    "(0,1,20000)<(0,3,4)\n"
   ]
  },
  {
   "cell_type": "code",
   "execution_count": null,
   "id": "f374e464",
   "metadata": {},
   "outputs": [],
   "source": [
    "#Comparacion de tuplas\n",
    "(0,5,2)<(0,3,4)\n"
   ]
  },
  {
   "cell_type": "code",
   "execution_count": null,
   "id": "80190198",
   "metadata": {},
   "outputs": [],
   "source": [
    "lista=[('b',3),('c',14),('a',6),('g',4),('b',1)]\n",
    "print(lista)"
   ]
  },
  {
   "cell_type": "code",
   "execution_count": null,
   "id": "c9c4efca",
   "metadata": {
    "scrolled": true
   },
   "outputs": [],
   "source": [
    "lista.sort()\n",
    "print(lista)"
   ]
  },
  {
   "cell_type": "code",
   "execution_count": null,
   "id": "c0558014",
   "metadata": {
    "scrolled": true
   },
   "outputs": [],
   "source": [
    "#PATRON DSU\n",
    "#Funcion split(), dividir el texto separado por espacios y las palabras las va a almacenar\n",
    "#en una lista denominada palabras\n",
    "txt='but soft what light in yonder window breaks'\n",
    "palabras=txt.split()\n",
    "print(palabras)"
   ]
  },
  {
   "cell_type": "code",
   "execution_count": null,
   "id": "0488ca2c",
   "metadata": {},
   "outputs": [],
   "source": [
    "l=list()\n",
    "for valor in palabras:\n",
    "    print(valor)\n",
    "    l.append((len(valor),valor))\n",
    "print(l)"
   ]
  },
  {
   "cell_type": "code",
   "execution_count": null,
   "id": "33f8bf36",
   "metadata": {
    "scrolled": true
   },
   "outputs": [],
   "source": [
    "l.sort(reverse=True)\n",
    "print(l)\n",
    "res=list()\n",
    "for long, palabra in l:\n",
    "    print(long, palabra)\n",
    "    res.append(palabra)    \n",
    "\n",
    "print(res)"
   ]
  },
  {
   "cell_type": "code",
   "execution_count": null,
   "id": "0a3405ff",
   "metadata": {},
   "outputs": [],
   "source": [
    "#ASignacion multiple de tuplas\n",
    "m=['have','fun']\n",
    "x,y=m\n",
    "print(x)\n",
    "print(y)"
   ]
  },
  {
   "cell_type": "code",
   "execution_count": null,
   "id": "ec9fa88e",
   "metadata": {},
   "outputs": [],
   "source": [
    "#ASignacion por medio de indices\n",
    "m=['have','fun']\n",
    "x=m[0]\n",
    "y=m[1]\n",
    "print(x)\n",
    "print(y)"
   ]
  },
  {
   "cell_type": "code",
   "execution_count": null,
   "id": "edc6c4d8",
   "metadata": {},
   "outputs": [],
   "source": [
    "#ASignacion multiple de tuplas\n",
    "m=['have','fun']\n",
    "x,y,z=m\n",
    "print(x)\n",
    "print(y)"
   ]
  },
  {
   "cell_type": "code",
   "execution_count": null,
   "id": "a31249e7",
   "metadata": {},
   "outputs": [],
   "source": [
    "#ASignacion multiple de tuplas\n",
    "m=['have','fun']\n",
    "(x,y)=m\n",
    "print(x)\n",
    "print(y)"
   ]
  },
  {
   "cell_type": "code",
   "execution_count": null,
   "id": "292301cf",
   "metadata": {},
   "outputs": [],
   "source": [
    "print(\"Valor de x: \",x)\n",
    "print(\"Valor de y: \",y)\n",
    "\n",
    "x,y=y,x\n",
    "\n",
    "print('\\n')\n",
    "print(\"Valor de x: \",x)\n",
    "print(\"Valor de y: \",y)\n"
   ]
  },
  {
   "cell_type": "code",
   "execution_count": null,
   "id": "f0612c08",
   "metadata": {},
   "outputs": [],
   "source": [
    "#Funcion split retorna una lista\n",
    "addr='monty@python.org'\n",
    "l=addr.split('@')\n",
    "print(l)"
   ]
  },
  {
   "cell_type": "code",
   "execution_count": null,
   "id": "bdbe6e66",
   "metadata": {
    "scrolled": true
   },
   "outputs": [],
   "source": [
    "#Funcion split retorna una lista, pero los voy a almacenar en una tupla\n",
    "addr='monty@python.org'\n",
    "uname, domain=addr.split('@')\n",
    "print(uname)\n",
    "print(domain)"
   ]
  },
  {
   "cell_type": "code",
   "execution_count": null,
   "id": "f57a6f38",
   "metadata": {},
   "outputs": [],
   "source": [
    "#Diccionario y TUPLAS\n",
    "d={'a':10,'g':1,'c':22,'b':23}\n",
    "print(d)\n",
    "#List() permite crear una lista \n",
    "#Funcion items() devuelve el par clave-valor\n",
    "t1=list(d.items())\n",
    "print(t1)"
   ]
  },
  {
   "cell_type": "code",
   "execution_count": null,
   "id": "ee1e973c",
   "metadata": {},
   "outputs": [],
   "source": [
    "#He ordenado una lista con tuplas de forma ascendente\n",
    "t1.sort()\n",
    "print(t1)"
   ]
  },
  {
   "cell_type": "code",
   "execution_count": null,
   "id": "f1ddd61a",
   "metadata": {},
   "outputs": [],
   "source": [
    "#He ordenado una lista con tuplas de forma descendente\n",
    "t1.sort(reverse=True)\n",
    "print(t1)"
   ]
  },
  {
   "cell_type": "code",
   "execution_count": null,
   "id": "547f6426",
   "metadata": {},
   "outputs": [],
   "source": [
    "#Funcion keys() devuelve la clave\n",
    "t2=list(d.keys())\n",
    "print(t2)"
   ]
  },
  {
   "cell_type": "code",
   "execution_count": null,
   "id": "98925284",
   "metadata": {
    "scrolled": true
   },
   "outputs": [],
   "source": [
    "#Funcion values() devuelve el valor\n",
    "t2=list(d.values())\n",
    "print(t2)"
   ]
  },
  {
   "cell_type": "code",
   "execution_count": null,
   "id": "b12cbe9e",
   "metadata": {},
   "outputs": [],
   "source": [
    "nombre='Jhonnyer'\n",
    "apellido='Galindez'\n",
    "tupla=(nombre,apellido)\n",
    "print(tupla)"
   ]
  },
  {
   "cell_type": "code",
   "execution_count": null,
   "id": "e34ce692",
   "metadata": {},
   "outputs": [],
   "source": [
    "#Asignamos un nuevo valor a un diccionario\n",
    "diccionario['clave']='Valor'\n",
    "print(diccionario)"
   ]
  },
  {
   "cell_type": "code",
   "execution_count": null,
   "id": "b916a663",
   "metadata": {},
   "outputs": [],
   "source": [
    "#TUPLAS COMO UNA CLAVE EN UN DICCIONARIO\n",
    "#VOY A CREAR UN DIRECTORIO TELEFONICO\n",
    "nombre='Jhonnyer'\n",
    "apellido='Galindez'\n",
    "numero=322334545\n",
    "diccionario=dict()\n",
    "print(diccionario)\n",
    "diccionario[nombre,apellido]=numero\n",
    "print(diccionario)"
   ]
  },
  {
   "cell_type": "code",
   "execution_count": null,
   "id": "2427fe10",
   "metadata": {},
   "outputs": [],
   "source": [
    "nom='Juan'\n",
    "apel='Burbano'\n",
    "tupla=nom,apel\n",
    "numero=322335667\n",
    "diccionario[tupla]=numero\n",
    "print(diccionario)"
   ]
  },
  {
   "cell_type": "code",
   "execution_count": null,
   "id": "28ce7481",
   "metadata": {},
   "outputs": [],
   "source": [
    "#Recorrer el diccionario\n",
    "for nombre,apellido in diccionario:\n",
    "    print(nombre, apellido, diccionario[nombre,apellido])"
   ]
  },
  {
   "cell_type": "code",
   "execution_count": null,
   "id": "9706f64e",
   "metadata": {},
   "outputs": [],
   "source": [
    "#Recorrer el diccionario\n",
    "for dirw in diccionario:\n",
    "    print(dirw, diccionario[dirw])"
   ]
  },
  {
   "cell_type": "code",
   "execution_count": 15,
   "id": "d3acae4a",
   "metadata": {},
   "outputs": [
    {
     "name": "stdout",
     "output_type": "stream",
     "text": [
      "(1, 3, 5)\n"
     ]
    }
   ],
   "source": [
    "#funcion que me permite observar los metodos de un tipo de dato\n",
    "tupla_vacia=(1,3,5)\n",
    "print(tupla_vacia)"
   ]
  },
  {
   "cell_type": "code",
   "execution_count": 19,
   "id": "b33d0027",
   "metadata": {},
   "outputs": [
    {
     "data": {
      "text/plain": [
       "5"
      ]
     },
     "execution_count": 19,
     "metadata": {},
     "output_type": "execute_result"
    }
   ],
   "source": [
    "#Metodo count(), permite verificar cuantas veces esta repetido un elemento en una tupla en este caso\n",
    "tupla_elementos=[1,2,4,6,7,4,67,4,66,4,6,4]\n",
    "tupla_elementos.count(4)"
   ]
  },
  {
   "cell_type": "code",
   "execution_count": 20,
   "id": "9f655938",
   "metadata": {},
   "outputs": [
    {
     "data": {
      "text/plain": [
       "2"
      ]
     },
     "execution_count": 20,
     "metadata": {},
     "output_type": "execute_result"
    }
   ],
   "source": [
    "#MEtodo index(), devuelve la primer posicion en la que se encuentra un elemento en una tupla\n",
    "tupla_elementos.index(4)"
   ]
  },
  {
   "cell_type": "code",
   "execution_count": 21,
   "id": "bcf335fd",
   "metadata": {},
   "outputs": [
    {
     "data": {
      "text/plain": [
       "5"
      ]
     },
     "execution_count": 21,
     "metadata": {},
     "output_type": "execute_result"
    }
   ],
   "source": [
    "#MEtodo index(), devuelve la primer posicion en la que se encuentra un elemento en una tupla\n",
    "tupla_elementos.index(4,3)"
   ]
  },
  {
   "cell_type": "code",
   "execution_count": 23,
   "id": "a6b350be",
   "metadata": {},
   "outputs": [
    {
     "ename": "ValueError",
     "evalue": "4 is not in list",
     "output_type": "error",
     "traceback": [
      "\u001b[0;31m---------------------------------------------------------------------------\u001b[0m",
      "\u001b[0;31mValueError\u001b[0m                                Traceback (most recent call last)",
      "\u001b[0;32m<ipython-input-23-6a76fa346f7c>\u001b[0m in \u001b[0;36m<module>\u001b[0;34m\u001b[0m\n\u001b[1;32m      1\u001b[0m \u001b[0;31m#MEtodo index(), ERROR del rango de la longitud de la tupla\u001b[0m\u001b[0;34m\u001b[0m\u001b[0;34m\u001b[0m\u001b[0;34m\u001b[0m\u001b[0m\n\u001b[0;32m----> 2\u001b[0;31m \u001b[0mtupla_elementos\u001b[0m\u001b[0;34m.\u001b[0m\u001b[0mindex\u001b[0m\u001b[0;34m(\u001b[0m\u001b[0;36m4\u001b[0m\u001b[0;34m,\u001b[0m\u001b[0;36m20\u001b[0m\u001b[0;34m)\u001b[0m\u001b[0;34m\u001b[0m\u001b[0;34m\u001b[0m\u001b[0m\n\u001b[0m",
      "\u001b[0;31mValueError\u001b[0m: 4 is not in list"
     ]
    }
   ],
   "source": [
    "#MEtodo index(), ERROR del rango de la longitud de la tupla \n",
    "tupla_elementos.index(4,20)"
   ]
  },
  {
   "cell_type": "code",
   "execution_count": 25,
   "id": "51a7fc2c",
   "metadata": {
    "scrolled": true
   },
   "outputs": [
    {
     "ename": "ValueError",
     "evalue": "20 is not in list",
     "output_type": "error",
     "traceback": [
      "\u001b[0;31m---------------------------------------------------------------------------\u001b[0m",
      "\u001b[0;31mValueError\u001b[0m                                Traceback (most recent call last)",
      "\u001b[0;32m<ipython-input-25-18c6d3fad460>\u001b[0m in \u001b[0;36m<module>\u001b[0;34m\u001b[0m\n\u001b[1;32m      1\u001b[0m \u001b[0;31m#MEtodo index(), ERROR el elemento no se encuentra en la tupla\u001b[0m\u001b[0;34m\u001b[0m\u001b[0;34m\u001b[0m\u001b[0;34m\u001b[0m\u001b[0m\n\u001b[0;32m----> 2\u001b[0;31m \u001b[0mtupla_elementos\u001b[0m\u001b[0;34m.\u001b[0m\u001b[0mindex\u001b[0m\u001b[0;34m(\u001b[0m\u001b[0;36m20\u001b[0m\u001b[0;34m)\u001b[0m\u001b[0;34m\u001b[0m\u001b[0;34m\u001b[0m\u001b[0m\n\u001b[0m",
      "\u001b[0;31mValueError\u001b[0m: 20 is not in list"
     ]
    }
   ],
   "source": [
    "#MEtodo index(), ERROR el elemento no se encuentra en la tupla\n",
    "tupla_elementos.index(20)"
   ]
  },
  {
   "cell_type": "markdown",
   "id": "be15d3d1",
   "metadata": {},
   "source": [
    "# Range (start, stop, step)\n",
    "\n",
    "start: Donde empieza el recorrido\n",
    "\n",
    "stop: Donde finaliza el recorrido\n",
    "\n",
    "step: Los pasos o saltos del recorrido, es decir puede ser de 1 en uno, 2 en 2,...\n",
    "\n",
    "for x=0;x<valor,x++"
   ]
  },
  {
   "cell_type": "code",
   "execution_count": 27,
   "id": "d515174b",
   "metadata": {},
   "outputs": [
    {
     "name": "stdout",
     "output_type": "stream",
     "text": [
      "0 zope\n",
      "1 plone\n",
      "2 pyramid\n"
     ]
    }
   ],
   "source": [
    "#Recorriendo una tupla\n",
    "tecnologias=('zope','plone','pyramid')\n",
    "for i in range(0,len(tecnologias)):\n",
    "    print(i, tecnologias[i])"
   ]
  },
  {
   "cell_type": "code",
   "execution_count": 28,
   "id": "b5dd26c0",
   "metadata": {},
   "outputs": [
    {
     "name": "stdout",
     "output_type": "stream",
     "text": [
      "0 zope\n",
      "1 plone\n",
      "2 pyramid\n"
     ]
    }
   ],
   "source": [
    "#Recorriendo una tupla\n",
    "tecnologias=('zope','plone','pyramid')\n",
    "for i in range(len(tecnologias)):\n",
    "    print(i, tecnologias[i])"
   ]
  },
  {
   "cell_type": "code",
   "execution_count": 29,
   "id": "02583a39",
   "metadata": {},
   "outputs": [
    {
     "name": "stdout",
     "output_type": "stream",
     "text": [
      "0 zope\n",
      "1 plone\n",
      "2 pyramid\n"
     ]
    }
   ],
   "source": [
    "#Recorriendo una tupla\n",
    "tecnologias=('zope','plone','pyramid')\n",
    "for indice, valor in enumerate(tecnologias):\n",
    "    print(indice, valor)"
   ]
  },
  {
   "cell_type": "code",
   "execution_count": 36,
   "id": "b1f9db3d",
   "metadata": {},
   "outputs": [
    {
     "name": "stdout",
     "output_type": "stream",
     "text": [
      "0 zope\n",
      "1 plone\n",
      "2 pyramid\n"
     ]
    }
   ],
   "source": [
    "#Recorrer la tupla mediante un ciclo while\n",
    "tecnologias=('zope','plone','pyramid')\n",
    "#Caracteristicas de un bucle while\n",
    "#Se repite el cuerpo mientras la condiccion sea verdadera\n",
    "#Variable de iteracion que me va permitir que en un momento la condicion del ciclo while sea falsa\n",
    "# len(tecnologias)\n",
    "x=0\n",
    "while x<len(tecnologias):\n",
    "    print(x, tecnologias[x])\n",
    "    x+=1"
   ]
  },
  {
   "cell_type": "code",
   "execution_count": 35,
   "id": "174263f4",
   "metadata": {},
   "outputs": [
    {
     "data": {
      "text/plain": [
       "'plone'"
      ]
     },
     "execution_count": 35,
     "metadata": {},
     "output_type": "execute_result"
    }
   ],
   "source": [
    "tecnologias=('zope','plone','pyramid')\n",
    "tecnologias[1]"
   ]
  }
 ],
 "metadata": {
  "kernelspec": {
   "display_name": "Python 3",
   "language": "python",
   "name": "python3"
  },
  "language_info": {
   "codemirror_mode": {
    "name": "ipython",
    "version": 3
   },
   "file_extension": ".py",
   "mimetype": "text/x-python",
   "name": "python",
   "nbconvert_exporter": "python",
   "pygments_lexer": "ipython3",
   "version": "3.9.1"
  }
 },
 "nbformat": 4,
 "nbformat_minor": 5
}
