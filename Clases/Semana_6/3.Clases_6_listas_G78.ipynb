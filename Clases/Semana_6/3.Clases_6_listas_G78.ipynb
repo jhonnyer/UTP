{
 "cells": [
  {
   "cell_type": "code",
   "execution_count": 1,
   "id": "8d41ecd8",
   "metadata": {},
   "outputs": [
    {
     "name": "stdout",
     "output_type": "stream",
     "text": [
      "{'clave1': 56, 'clave2': 'Hola', 'clave3': 1.35, 'clave4': True}\n"
     ]
    }
   ],
   "source": [
    "diccionario={'clave1':56,'clave2':'Hola','clave3':1.35,'clave4':True}\n",
    "print(diccionario)"
   ]
  },
  {
   "cell_type": "code",
   "execution_count": 3,
   "id": "bd7d9674",
   "metadata": {},
   "outputs": [
    {
     "name": "stdout",
     "output_type": "stream",
     "text": [
      "{'clave1': 1787, 'clave2': 'Hola', 'clave3': 1.35, 'clave4': True}\n"
     ]
    }
   ],
   "source": [
    "diccionario['clave1']=1787\n",
    "print(diccionario)"
   ]
  },
  {
   "cell_type": "code",
   "execution_count": 4,
   "id": "47022220",
   "metadata": {},
   "outputs": [
    {
     "data": {
      "text/plain": [
       "'m'"
      ]
     },
     "execution_count": 4,
     "metadata": {},
     "output_type": "execute_result"
    }
   ],
   "source": [
    "#Las cadenas de string no son mutables\n",
    "cad='Hola mundo'\n",
    "cad[5]"
   ]
  },
  {
   "cell_type": "code",
   "execution_count": 5,
   "id": "e6100cf7",
   "metadata": {},
   "outputs": [
    {
     "ename": "TypeError",
     "evalue": "'str' object does not support item assignment",
     "output_type": "error",
     "traceback": [
      "\u001b[0;31m---------------------------------------------------------------------------\u001b[0m",
      "\u001b[0;31mTypeError\u001b[0m                                 Traceback (most recent call last)",
      "\u001b[0;32m<ipython-input-5-567a415b6c87>\u001b[0m in \u001b[0;36m<module>\u001b[0;34m\u001b[0m\n\u001b[0;32m----> 1\u001b[0;31m \u001b[0mcad\u001b[0m\u001b[0;34m[\u001b[0m\u001b[0;36m5\u001b[0m\u001b[0;34m]\u001b[0m\u001b[0;34m=\u001b[0m\u001b[0;34m'c'\u001b[0m\u001b[0;34m\u001b[0m\u001b[0;34m\u001b[0m\u001b[0m\n\u001b[0m",
      "\u001b[0;31mTypeError\u001b[0m: 'str' object does not support item assignment"
     ]
    }
   ],
   "source": [
    "cad[5]='c'"
   ]
  },
  {
   "cell_type": "code",
   "execution_count": 6,
   "id": "e207a204",
   "metadata": {},
   "outputs": [
    {
     "name": "stdout",
     "output_type": "stream",
     "text": [
      "[1, 5, 6, 7, 'Hola', True, 1.24, 6]\n",
      "<class 'list'>\n"
     ]
    }
   ],
   "source": [
    "#Definir una lista\n",
    "lista=[1,5,6,7,'Hola',True,1.24,6]\n",
    "print(lista)\n",
    "print(type(lista))"
   ]
  },
  {
   "cell_type": "code",
   "execution_count": 8,
   "id": "eb52753b",
   "metadata": {},
   "outputs": [
    {
     "data": {
      "text/plain": [
       "'Hola'"
      ]
     },
     "execution_count": 8,
     "metadata": {},
     "output_type": "execute_result"
    }
   ],
   "source": [
    "lista[4]"
   ]
  },
  {
   "cell_type": "code",
   "execution_count": 7,
   "id": "fe749b00",
   "metadata": {},
   "outputs": [
    {
     "data": {
      "text/plain": [
       "1"
      ]
     },
     "execution_count": 7,
     "metadata": {},
     "output_type": "execute_result"
    }
   ],
   "source": [
    "lista[0]"
   ]
  },
  {
   "cell_type": "code",
   "execution_count": 10,
   "id": "b6af9b66",
   "metadata": {},
   "outputs": [
    {
     "name": "stdout",
     "output_type": "stream",
     "text": [
      "[1, 5, 6, 7, 9, True, 1.24, 6]\n"
     ]
    }
   ],
   "source": [
    "#LAS LISTAS VAN A SER MUTABLES\n",
    "lista[4]=9\n",
    "print(lista)"
   ]
  },
  {
   "cell_type": "code",
   "execution_count": 20,
   "id": "932c08a7",
   "metadata": {},
   "outputs": [
    {
     "name": "stdout",
     "output_type": "stream",
     "text": [
      "[1, 2.5, 4, 5, 'DevCode', [5, 6], 4]\n",
      "1\n",
      "2.5\n",
      "DevCode\n",
      "[5, 6]\n",
      "6\n",
      "[2.5, 4, 5, 'DevCode', [5, 6], 4]\n",
      "[2.5, 4, 5, 'DevCode', [5, 6]]\n",
      "[2.5, 5, [5, 6]]\n"
     ]
    }
   ],
   "source": [
    "lista=[1,2.5,4,5,'DevCode',[5,6],4]\n",
    "print(lista)\n",
    "#Elemento primera posicion\n",
    "print(lista[0])\n",
    "print(lista[1])\n",
    "print(lista[4])\n",
    "print(lista[5])\n",
    "#Accedeo a una lista anidada dentro de otra lista\n",
    "print(lista[5][1])\n",
    "#Rebanada en las listas o slicing\n",
    "print(lista[1:])\n",
    "#Slicing desde una posicion 1 hasta la posicion 6, sabemos que la posicion 6 no sera tenida en cuenta\n",
    "print(lista[1:6])\n",
    "#Slicing 3 parametros. Primero argumento, indica de donde empieza, el segundo hasta donde va, el tercero los saltos\n",
    "print(lista[1:6:2])"
   ]
  },
  {
   "cell_type": "code",
   "execution_count": 21,
   "id": "31faaa15",
   "metadata": {},
   "outputs": [
    {
     "name": "stdout",
     "output_type": "stream",
     "text": [
      "[]\n"
     ]
    }
   ],
   "source": [
    "#Creacion de una lista vacia\n",
    "lista=[]\n",
    "print(lista)"
   ]
  },
  {
   "cell_type": "code",
   "execution_count": 22,
   "id": "6a773b12",
   "metadata": {},
   "outputs": [
    {
     "name": "stdout",
     "output_type": "stream",
     "text": [
      "['Pepe', 25]\n"
     ]
    }
   ],
   "source": [
    "nombre='Pepe'\n",
    "edad=25\n",
    "lista=[nombre,edad]\n",
    "print(lista)"
   ]
  },
  {
   "cell_type": "code",
   "execution_count": 23,
   "id": "cd746711",
   "metadata": {},
   "outputs": [
    {
     "name": "stdout",
     "output_type": "stream",
     "text": [
      "['Pepe', 25]\n"
     ]
    }
   ],
   "source": [
    "nombre='Juan'\n",
    "print(lista)"
   ]
  },
  {
   "cell_type": "code",
   "execution_count": 25,
   "id": "d5986a66",
   "metadata": {},
   "outputs": [
    {
     "name": "stdout",
     "output_type": "stream",
     "text": [
      "[['Ana', 'Bernardo'], [22, 12]]\n",
      "12\n"
     ]
    }
   ],
   "source": [
    "nombres=['Ana','Bernardo']\n",
    "edades=[22,12]\n",
    "lista=[nombres,edades]\n",
    "print(lista)\n",
    "print(lista[1][1])"
   ]
  },
  {
   "cell_type": "code",
   "execution_count": 26,
   "id": "e1e784c1",
   "metadata": {},
   "outputs": [
    {
     "name": "stdout",
     "output_type": "stream",
     "text": [
      "['Ana', 'Bernardo', 'Cristiana']\n",
      "[['Ana', 'Bernardo', 'Cristiana'], [22, 12]]\n"
     ]
    }
   ],
   "source": [
    "nombres+=['Cristiana']\n",
    "print(nombres)\n",
    "print(lista)"
   ]
  },
  {
   "cell_type": "code",
   "execution_count": 28,
   "id": "f1f45984",
   "metadata": {},
   "outputs": [
    {
     "name": "stdout",
     "output_type": "stream",
     "text": [
      "['pan', 'huevos', 100, 1234]\n",
      "pan\n"
     ]
    }
   ],
   "source": [
    "factura=['pan','huevos',100,1234]\n",
    "print(factura)\n",
    "print(factura[0])"
   ]
  },
  {
   "cell_type": "code",
   "execution_count": 30,
   "id": "5a998111",
   "metadata": {},
   "outputs": [
    {
     "name": "stdout",
     "output_type": "stream",
     "text": [
      "100\n",
      "1234\n"
     ]
    }
   ],
   "source": [
    "print(factura[2])\n",
    "print(factura[3])"
   ]
  },
  {
   "cell_type": "code",
   "execution_count": 32,
   "id": "beaba022",
   "metadata": {},
   "outputs": [
    {
     "name": "stdout",
     "output_type": "stream",
     "text": [
      "['pan', 'tomates', 100, 1234]\n"
     ]
    }
   ],
   "source": [
    "#Modificar un valor\n",
    "factura[1]='tomates'\n",
    "print(factura)"
   ]
  },
  {
   "cell_type": "code",
   "execution_count": 34,
   "id": "f90f7042",
   "metadata": {},
   "outputs": [
    {
     "name": "stdout",
     "output_type": "stream",
     "text": [
      "4\n",
      "['pan', 'tomates', 100, 1234]\n"
     ]
    }
   ],
   "source": [
    "print(len(factura))\n",
    "print(factura)"
   ]
  },
  {
   "cell_type": "code",
   "execution_count": 37,
   "id": "3185442e",
   "metadata": {},
   "outputs": [
    {
     "name": "stdout",
     "output_type": "stream",
     "text": [
      "[['Ana', 'Bernardo', 'Cristiana'], [22, 12]]\n",
      "2\n"
     ]
    },
    {
     "data": {
      "text/plain": [
       "'Cristiana'"
      ]
     },
     "execution_count": 37,
     "metadata": {},
     "output_type": "execute_result"
    }
   ],
   "source": [
    "print(lista)\n",
    "print(len(lista))\n",
    "lista[0][2]"
   ]
  },
  {
   "cell_type": "code",
   "execution_count": 43,
   "id": "865571fd",
   "metadata": {
    "scrolled": true
   },
   "outputs": [
    {
     "name": "stdout",
     "output_type": "stream",
     "text": [
      "['pan', 'tomates', 100, 1234]\n",
      "4\n",
      "3\n"
     ]
    }
   ],
   "source": [
    "#Numero de elementos de una lista y posicion ultima de una lista\n",
    "print(factura)\n",
    "print(len(factura))\n",
    "print(len(factura)-1)"
   ]
  },
  {
   "cell_type": "code",
   "execution_count": 44,
   "id": "810ccf34",
   "metadata": {},
   "outputs": [
    {
     "name": "stdout",
     "output_type": "stream",
     "text": [
      "1234\n",
      "100\n",
      "tomates\n",
      "pan\n"
     ]
    }
   ],
   "source": [
    "#Obtener el valor de los elementos de una lista desde la derecha a la izquierda\n",
    "print(factura[-1])\n",
    "print(factura[-2])\n",
    "print(factura[-3])\n",
    "print(factura[-4])"
   ]
  },
  {
   "cell_type": "code",
   "execution_count": 45,
   "id": "894ac2e1",
   "metadata": {},
   "outputs": [
    {
     "data": {
      "text/plain": [
       "'pan'"
      ]
     },
     "execution_count": 45,
     "metadata": {},
     "output_type": "execute_result"
    }
   ],
   "source": [
    "factura[-len(factura)]"
   ]
  },
  {
   "cell_type": "code",
   "execution_count": 46,
   "id": "3d09b23d",
   "metadata": {},
   "outputs": [
    {
     "data": {
      "text/plain": [
       "True"
      ]
     },
     "execution_count": 46,
     "metadata": {},
     "output_type": "execute_result"
    }
   ],
   "source": [
    "factura[-len(factura)]==factura[0]"
   ]
  },
  {
   "cell_type": "code",
   "execution_count": 48,
   "id": "302ed4ac",
   "metadata": {
    "scrolled": true
   },
   "outputs": [
    {
     "data": {
      "text/plain": [
       "['__add__',\n",
       " '__class__',\n",
       " '__class_getitem__',\n",
       " '__contains__',\n",
       " '__delattr__',\n",
       " '__delitem__',\n",
       " '__dir__',\n",
       " '__doc__',\n",
       " '__eq__',\n",
       " '__format__',\n",
       " '__ge__',\n",
       " '__getattribute__',\n",
       " '__getitem__',\n",
       " '__gt__',\n",
       " '__hash__',\n",
       " '__iadd__',\n",
       " '__imul__',\n",
       " '__init__',\n",
       " '__init_subclass__',\n",
       " '__iter__',\n",
       " '__le__',\n",
       " '__len__',\n",
       " '__lt__',\n",
       " '__mul__',\n",
       " '__ne__',\n",
       " '__new__',\n",
       " '__reduce__',\n",
       " '__reduce_ex__',\n",
       " '__repr__',\n",
       " '__reversed__',\n",
       " '__rmul__',\n",
       " '__setattr__',\n",
       " '__setitem__',\n",
       " '__sizeof__',\n",
       " '__str__',\n",
       " '__subclasshook__',\n",
       " 'append',\n",
       " 'clear',\n",
       " 'copy',\n",
       " 'count',\n",
       " 'extend',\n",
       " 'index',\n",
       " 'insert',\n",
       " 'pop',\n",
       " 'remove',\n",
       " 'reverse',\n",
       " 'sort']"
      ]
     },
     "execution_count": 48,
     "metadata": {},
     "output_type": "execute_result"
    }
   ],
   "source": [
    "dir(factura)"
   ]
  },
  {
   "cell_type": "code",
   "execution_count": 54,
   "id": "d5228210",
   "metadata": {},
   "outputs": [
    {
     "data": {
      "text/plain": [
       "[2.5, 3.6, 4, 5]"
      ]
     },
     "execution_count": 54,
     "metadata": {},
     "output_type": "execute_result"
    }
   ],
   "source": [
    "versiones_plone=[2.5,3.6,4,5]\n",
    "versiones_plone"
   ]
  },
  {
   "cell_type": "code",
   "execution_count": 57,
   "id": "8f04d4a1",
   "metadata": {
    "scrolled": true
   },
   "outputs": [
    {
     "name": "stdout",
     "output_type": "stream",
     "text": [
      "[2.5, 3.6, 4, 5, 6, 6, 6]\n"
     ]
    }
   ],
   "source": [
    "versiones_plone.append(6)\n",
    "print(versiones_plone)"
   ]
  },
  {
   "cell_type": "code",
   "execution_count": 58,
   "id": "c7031796",
   "metadata": {},
   "outputs": [
    {
     "name": "stdout",
     "output_type": "stream",
     "text": [
      "[2.5, 3.6, 4, 5, 6, 6, 6, 'Hola']\n"
     ]
    }
   ],
   "source": [
    "versiones_plone.append('Hola')\n",
    "print(versiones_plone)"
   ]
  },
  {
   "cell_type": "code",
   "execution_count": 65,
   "id": "fabc5441",
   "metadata": {},
   "outputs": [
    {
     "name": "stdout",
     "output_type": "stream",
     "text": [
      "dict_keys(['nombre', 'Apellido', 'Edad'])\n",
      "['nombre', 'Apellido', 'Edad']\n"
     ]
    }
   ],
   "source": [
    "#Convertir tipo de dato diccionario de llaves en una lista\n",
    "diccionario={'nombre':'Jhonnyer','Apellido':'Galindez','Edad':26}\n",
    "llaves=diccionario.keys()\n",
    "print(llaves)\n",
    "key=list(llaves)\n",
    "print(key)\n"
   ]
  },
  {
   "cell_type": "code",
   "execution_count": 67,
   "id": "a3576310",
   "metadata": {},
   "outputs": [
    {
     "name": "stdout",
     "output_type": "stream",
     "text": [
      "5\n"
     ]
    }
   ],
   "source": [
    "#Metodo COUNT()\n",
    "versiones_plone=[2.5,3.6,4,5,6,5,6,5,5,5]\n",
    "print(versiones_plone.count(5))"
   ]
  },
  {
   "cell_type": "code",
   "execution_count": 70,
   "id": "3127666b",
   "metadata": {},
   "outputs": [
    {
     "name": "stdout",
     "output_type": "stream",
     "text": [
      "[2.5, 3.6, 4, 5, 6, 5, 6, 5, 5, 5]\n"
     ]
    }
   ],
   "source": [
    "#Metodo extend()\n",
    "versiones_plone=[2.5,3.6,4,5,6,5,6,5,5,5]\n",
    "print(versiones_plone)"
   ]
  },
  {
   "cell_type": "code",
   "execution_count": 72,
   "id": "7f87e7d6",
   "metadata": {},
   "outputs": [
    {
     "name": "stdout",
     "output_type": "stream",
     "text": [
      "[2.5, 3.6, 4, 5, 6, 5, 6, 5, 5, 5, 3]\n"
     ]
    }
   ],
   "source": [
    "versiones_plone.extend([3])\n",
    "print(versiones_plone)"
   ]
  },
  {
   "cell_type": "code",
   "execution_count": 73,
   "id": "dbf035b2",
   "metadata": {},
   "outputs": [
    {
     "name": "stdout",
     "output_type": "stream",
     "text": [
      "[2.5, 3.6, 4, 5, 6, 5, 6, 5, 5, 5, 3, 4, 5, 6]\n"
     ]
    }
   ],
   "source": [
    "versiones_plone.extend(range(4,7))\n",
    "print(versiones_plone)"
   ]
  },
  {
   "cell_type": "code",
   "execution_count": 76,
   "id": "53db8f58",
   "metadata": {},
   "outputs": [
    {
     "name": "stdout",
     "output_type": "stream",
     "text": [
      "4\n",
      "3\n"
     ]
    },
    {
     "data": {
      "text/plain": [
       "5"
      ]
     },
     "execution_count": 76,
     "metadata": {},
     "output_type": "execute_result"
    }
   ],
   "source": [
    "#Metodo Index\n",
    "versiones_plone=[2.5,3.6,4,5,6,5,6,5,5,5]\n",
    "print(versiones_plone.index(6))\n",
    "print(versiones_plone.index(5))\n",
    "versiones_plone[3]"
   ]
  },
  {
   "cell_type": "code",
   "execution_count": 79,
   "id": "df4a96d5",
   "metadata": {},
   "outputs": [
    {
     "name": "stdout",
     "output_type": "stream",
     "text": [
      "4\n",
      "3\n",
      "5\n"
     ]
    }
   ],
   "source": [
    "#Metodo Index\n",
    "versiones_plone=[2.5,3.6,4,5,6,5,6,5,5,5]\n",
    "print(versiones_plone.index(6,2))\n",
    "print(versiones_plone.index(5,2))\n",
    "print(versiones_plone.index(5,4))\n"
   ]
  },
  {
   "cell_type": "code",
   "execution_count": 80,
   "id": "6ec3f84a",
   "metadata": {
    "scrolled": true
   },
   "outputs": [
    {
     "ename": "ValueError",
     "evalue": "5 is not in list",
     "output_type": "error",
     "traceback": [
      "\u001b[0;31m---------------------------------------------------------------------------\u001b[0m",
      "\u001b[0;31mValueError\u001b[0m                                Traceback (most recent call last)",
      "\u001b[0;32m<ipython-input-80-77cf75ae9f18>\u001b[0m in \u001b[0;36m<module>\u001b[0;34m\u001b[0m\n\u001b[0;32m----> 1\u001b[0;31m \u001b[0mprint\u001b[0m\u001b[0;34m(\u001b[0m\u001b[0mversiones_plone\u001b[0m\u001b[0;34m.\u001b[0m\u001b[0mindex\u001b[0m\u001b[0;34m(\u001b[0m\u001b[0;36m5\u001b[0m\u001b[0;34m,\u001b[0m\u001b[0;36m10\u001b[0m\u001b[0;34m)\u001b[0m\u001b[0;34m)\u001b[0m\u001b[0;34m\u001b[0m\u001b[0;34m\u001b[0m\u001b[0m\n\u001b[0m",
      "\u001b[0;31mValueError\u001b[0m: 5 is not in list"
     ]
    }
   ],
   "source": [
    "print(versiones_plone.index(5,10))\n"
   ]
  },
  {
   "cell_type": "code",
   "execution_count": 81,
   "id": "d4b168df",
   "metadata": {},
   "outputs": [
    {
     "name": "stdout",
     "output_type": "stream",
     "text": [
      "[2.5, 3.6, 6.9, 4, 5, 6]\n"
     ]
    }
   ],
   "source": [
    "#Metodo Insert()\n",
    "versiones_plone=[2.5,3.6,4,5,6]\n",
    "versiones_plone.insert(2,6.9)\n",
    "print(versiones_plone)"
   ]
  },
  {
   "cell_type": "code",
   "execution_count": 82,
   "id": "8cddb9d9",
   "metadata": {},
   "outputs": [
    {
     "name": "stdout",
     "output_type": "stream",
     "text": [
      "[2.5, 3.6, 6.9, 4, 'Hola', 5, 6]\n"
     ]
    }
   ],
   "source": [
    "versiones_plone.insert(4,'Hola')\n",
    "print(versiones_plone)"
   ]
  },
  {
   "cell_type": "code",
   "execution_count": 83,
   "id": "5a9f3d58",
   "metadata": {},
   "outputs": [
    {
     "data": {
      "text/plain": [
       "6"
      ]
     },
     "execution_count": 83,
     "metadata": {},
     "output_type": "execute_result"
    }
   ],
   "source": [
    "#Metodo pop()\n",
    "versiones_plone=[2.5,3.6,4,5,6]\n",
    "versiones_plone.pop()"
   ]
  },
  {
   "cell_type": "code",
   "execution_count": 84,
   "id": "4ffce0d2",
   "metadata": {
    "scrolled": false
   },
   "outputs": [
    {
     "name": "stdout",
     "output_type": "stream",
     "text": [
      "[2.5, 3.6, 4, 5]\n"
     ]
    }
   ],
   "source": [
    "print(versiones_plone)"
   ]
  },
  {
   "cell_type": "code",
   "execution_count": 85,
   "id": "53446661",
   "metadata": {
    "scrolled": true
   },
   "outputs": [
    {
     "name": "stdout",
     "output_type": "stream",
     "text": [
      "5\n",
      "[2.5, 3.6, 4]\n"
     ]
    }
   ],
   "source": [
    "var=versiones_plone.pop()\n",
    "print(var)\n",
    "print(versiones_plone)"
   ]
  },
  {
   "cell_type": "code",
   "execution_count": 87,
   "id": "7d4c0f30",
   "metadata": {},
   "outputs": [
    {
     "name": "stdout",
     "output_type": "stream",
     "text": [
      "3.6\n",
      "[2.5, 4, 5, 6]\n"
     ]
    }
   ],
   "source": [
    "#MEtodo pop(), eliminar un elemento en una posicion especifica\n",
    "versiones_plone=[2.5,3.6,4,5,6]\n",
    "var=versiones_plone.pop(1)\n",
    "print(var)\n",
    "print(versiones_plone)"
   ]
  },
  {
   "cell_type": "code",
   "execution_count": 88,
   "id": "c5085a8d",
   "metadata": {},
   "outputs": [
    {
     "name": "stdout",
     "output_type": "stream",
     "text": [
      "[3.6, 4, 5, 6]\n"
     ]
    }
   ],
   "source": [
    "#Metodo REMOVE(), elimina un valor dentro de la lista\n",
    "versiones_plone=[2.5,3.6,4,5,6]\n",
    "versiones_plone.remove(2.5)\n",
    "print(versiones_plone)"
   ]
  },
  {
   "cell_type": "code",
   "execution_count": 90,
   "id": "7fb6d34f",
   "metadata": {
    "scrolled": true
   },
   "outputs": [
    {
     "ename": "ValueError",
     "evalue": "list.remove(x): x not in list",
     "output_type": "error",
     "traceback": [
      "\u001b[0;31m---------------------------------------------------------------------------\u001b[0m",
      "\u001b[0;31mValueError\u001b[0m                                Traceback (most recent call last)",
      "\u001b[0;32m<ipython-input-90-f55d2e43665c>\u001b[0m in \u001b[0;36m<module>\u001b[0;34m\u001b[0m\n\u001b[1;32m      1\u001b[0m \u001b[0;31m#Metodo REMOVE(), elimina un valor dentro de la lista, ERROR si el elemento no esta en la lista\u001b[0m\u001b[0;34m\u001b[0m\u001b[0;34m\u001b[0m\u001b[0;34m\u001b[0m\u001b[0m\n\u001b[1;32m      2\u001b[0m \u001b[0mversiones_plone\u001b[0m\u001b[0;34m=\u001b[0m\u001b[0;34m[\u001b[0m\u001b[0;36m3.6\u001b[0m\u001b[0;34m,\u001b[0m\u001b[0;36m4\u001b[0m\u001b[0;34m,\u001b[0m\u001b[0;36m5\u001b[0m\u001b[0;34m,\u001b[0m\u001b[0;36m6\u001b[0m\u001b[0;34m]\u001b[0m\u001b[0;34m\u001b[0m\u001b[0;34m\u001b[0m\u001b[0m\n\u001b[0;32m----> 3\u001b[0;31m \u001b[0mversiones_plone\u001b[0m\u001b[0;34m.\u001b[0m\u001b[0mremove\u001b[0m\u001b[0;34m(\u001b[0m\u001b[0;36m2.5\u001b[0m\u001b[0;34m)\u001b[0m\u001b[0;34m\u001b[0m\u001b[0;34m\u001b[0m\u001b[0m\n\u001b[0m\u001b[1;32m      4\u001b[0m \u001b[0mprint\u001b[0m\u001b[0;34m(\u001b[0m\u001b[0mversiones_plone\u001b[0m\u001b[0;34m)\u001b[0m\u001b[0;34m\u001b[0m\u001b[0;34m\u001b[0m\u001b[0m\n",
      "\u001b[0;31mValueError\u001b[0m: list.remove(x): x not in list"
     ]
    }
   ],
   "source": [
    "#Metodo REMOVE(), elimina un valor dentro de la lista, ERROR si el elemento no esta en la lista\n",
    "versiones_plone=[3.6,4,5,6]\n",
    "versiones_plone.remove(2.5)\n",
    "print(versiones_plone)"
   ]
  },
  {
   "cell_type": "code",
   "execution_count": 94,
   "id": "5c48a5be",
   "metadata": {},
   "outputs": [
    {
     "name": "stdout",
     "output_type": "stream",
     "text": [
      "[2.5, 3.6, 4, 5, 6]\n",
      "[6, 5, 4, 3.6, 2.5]\n"
     ]
    }
   ],
   "source": [
    "#Metodo REVERSE(), voltea la lista\n",
    "versiones_plone=[2.5,3.6,4,5,6]\n",
    "print(versiones_plone)\n",
    "versiones_plone.reverse()\n",
    "print(versiones_plone)"
   ]
  },
  {
   "cell_type": "code",
   "execution_count": 100,
   "id": "55db62c6",
   "metadata": {
    "scrolled": true
   },
   "outputs": [
    {
     "name": "stdout",
     "output_type": "stream",
     "text": [
      "[5, 6, 2, 4, 1, 5, 7, 9, 11, 6, 35, 3]\n",
      "[1, 2, 3, 4, 5, 5, 6, 6, 7, 9, 11, 35]\n"
     ]
    }
   ],
   "source": [
    "#Metodo SORT(), ordenamiento número de menor a mayor\n",
    "versiones=[5,6,2,4,1,5,7,9,11,6,35,3]\n",
    "print(versiones)\n",
    "versiones.sort()\n",
    "print(versiones)"
   ]
  },
  {
   "cell_type": "code",
   "execution_count": 101,
   "id": "b0d1c461",
   "metadata": {},
   "outputs": [
    {
     "name": "stdout",
     "output_type": "stream",
     "text": [
      "[1, 2, 3, 4, 5, 5, 6, 6, 7, 9, 11, 35]\n",
      "[35, 11, 9, 7, 6, 6, 5, 5, 4, 3, 2, 1]\n"
     ]
    }
   ],
   "source": [
    "#Metodo sort(reverse=True) ordena de mayor a menor\n",
    "print(versiones)\n",
    "versiones.sort(reverse=True)\n",
    "print(versiones)"
   ]
  },
  {
   "cell_type": "code",
   "execution_count": 108,
   "id": "6d4b7955",
   "metadata": {
    "scrolled": true
   },
   "outputs": [
    {
     "name": "stdout",
     "output_type": "stream",
     "text": [
      "['Hola', 'casa', 'abecedario', 'Habitacion', 'dormitorio']\n",
      "['Habitacion', 'Hola', 'abecedario', 'casa', 'dormitorio']\n"
     ]
    }
   ],
   "source": [
    "#Metodo sort con una cadena de string, ordena alfabeticamente\n",
    "lista_string=['Hola','casa','abecedario','Habitacion','dormitorio']\n",
    "print(lista_string)\n",
    "lista_string.sort()\n",
    "print(lista_string)"
   ]
  },
  {
   "cell_type": "code",
   "execution_count": 109,
   "id": "530f1186",
   "metadata": {},
   "outputs": [
    {
     "name": "stdout",
     "output_type": "stream",
     "text": [
      "['Hola,', 'como', 'estas', 'tu']\n"
     ]
    }
   ],
   "source": [
    "#Iterar sobre una lista, funcion split en una cadena de string\n",
    "mensaje='Hola, como estas tu'\n",
    "lista_mensaje=mensaje.split()\n",
    "print(lista_mensaje)"
   ]
  },
  {
   "cell_type": "code",
   "execution_count": 110,
   "id": "3cba8cac",
   "metadata": {},
   "outputs": [
    {
     "name": "stdout",
     "output_type": "stream",
     "text": [
      "Hola,\n",
      "como\n",
      "estas\n",
      "tu\n"
     ]
    }
   ],
   "source": [
    "for palabra in lista_mensaje:\n",
    "    print(palabra)"
   ]
  },
  {
   "cell_type": "code",
   "execution_count": 113,
   "id": "10182dd8",
   "metadata": {},
   "outputs": [
    {
     "name": "stdout",
     "output_type": "stream",
     "text": [
      "0 Hola,\n",
      "1 como\n",
      "2 estas\n",
      "3 tu\n"
     ]
    }
   ],
   "source": [
    "#Recorre el indice de las posiciones de la lista y su valor\n",
    "for indice in range(len(lista_mensaje)):\n",
    "    print(indice, lista_mensaje[indice])"
   ]
  },
  {
   "cell_type": "code",
   "execution_count": 115,
   "id": "539f8507",
   "metadata": {
    "scrolled": true
   },
   "outputs": [
    {
     "name": "stdout",
     "output_type": "stream",
     "text": [
      "0 Hola,\n",
      "1 como\n",
      "2 estas\n",
      "3 tu\n"
     ]
    }
   ],
   "source": [
    "# Recorre el indice de las posiciones de la lista y su valor, mediante funcion enumerate\n",
    "for indice, valor in enumerate(lista_mensaje):\n",
    "    print(indice, valor)"
   ]
  },
  {
   "cell_type": "code",
   "execution_count": 118,
   "id": "19027128",
   "metadata": {},
   "outputs": [
    {
     "name": "stdout",
     "output_type": "stream",
     "text": [
      "¿Cuál es tu nombre?, la respuesta es: Leonardo\n",
      "¿Cuál es tu objetivo?, la respuesta es: aprender Python\n",
      "¿Cuál es tu sistema operativo?, la respuesta es: Linux\n"
     ]
    }
   ],
   "source": [
    "#Iterando sobre dos listas mediante la función ZIP()\n",
    "preguntas=['nombre','objetivo','sistema operativo']\n",
    "respuestas=['Leonardo','aprender Python','Linux']\n",
    "\n",
    "for pregunta, respuesta in zip(preguntas,respuestas):\n",
    "    print('¿Cuál es tu {0}?, la respuesta es: {1}'.format(pregunta,respuesta))"
   ]
  },
  {
   "cell_type": "code",
   "execution_count": 131,
   "id": "acfdb1cc",
   "metadata": {},
   "outputs": [
    {
     "name": "stdout",
     "output_type": "stream",
     "text": [
      "Ramón García,7.6,Historia dsadsa sadsasa \n",
      "Ramón García\n",
      "7.6\n",
      "Historia\n",
      "['Ramón García', '7.6', 'Historia']\n",
      "El estudiante Ramón García ha sacado una nota de: 7.6 en la materia de: Historia\n"
     ]
    }
   ],
   "source": [
    "# Ejercicio\n",
    "# Variables del ejercicio (no las modifiques)\n",
    "cadena_corrupta = \" asasdas asdasd airotsiH,6.7,aícraG nómaR\"\n",
    "#Slicing para voltear una cadena\n",
    "cadena_volteada=cadena_corrupta[::-1]\n",
    "print(cadena_volteada)\n",
    "cadena_volteada.find(',')\n",
    "nombre=cadena_volteada[0:12]\n",
    "print(nombre)\n",
    "nota=cadena_volteada[13:16]\n",
    "print(nota)\n",
    "materia=cadena_volteada[17:25]\n",
    "print(materia)\n",
    "lista_formateada=[nombre,nota,materia]\n",
    "print(lista_formateada)\n",
    "print(\"El estudiante {} ha sacado una nota de: {} en la materia de: {}\".format(lista_formateada[0],lista_formateada[1],lista_formateada[2]))"
   ]
  },
  {
   "cell_type": "code",
   "execution_count": 136,
   "id": "e333d515",
   "metadata": {},
   "outputs": [
    {
     "name": "stdout",
     "output_type": "stream",
     "text": [
      "[1, 2, 3, 4, 5, 6, 7, 8]\n",
      "[1, 2, 3, 4, 5, 6, 7, 9]\n",
      "[1, 2, 3, 4, 5, 6, 7, 9, 10, 20]\n"
     ]
    }
   ],
   "source": [
    "# Ejercicio 2\n",
    "numero=[1,2,3,4]\n",
    "#Lista concatenada o unir dos listas\n",
    "num=numero+[5,6,7,8]\n",
    "print(num)\n",
    "#Cambiar un valor de una lista\n",
    "num[7]=9\n",
    "print(num)\n",
    "#Añadir un nuevo valor a una lista\n",
    "num.append(10)\n",
    "num.append(10*2)\n",
    "print(num)"
   ]
  },
  {
   "cell_type": "code",
   "execution_count": 139,
   "id": "abb406f7",
   "metadata": {},
   "outputs": [
    {
     "name": "stdout",
     "output_type": "stream",
     "text": [
      "['a', 'b', 'c', 'd', 'e', 'f']\n",
      "['A', 'B', 'C', 'd', 'e', 'f']\n",
      "['d', 'e', 'f']\n"
     ]
    }
   ],
   "source": [
    "#ejercicio 3\n",
    "letras=['a','b','c','d','e','f']\n",
    "print(letras)\n",
    "#Utilizar el slicing para cambiar los 3 primeros valores de la lista\n",
    "letras[:3]=['A','B','C']\n",
    "print(letras)\n",
    "#Asignarle unos valores vacios, o eliminar valores de la lista con slicing\n",
    "letras[:3]=[]\n",
    "print(letras)"
   ]
  },
  {
   "cell_type": "code",
   "execution_count": 142,
   "id": "de593dc1",
   "metadata": {},
   "outputs": [
    {
     "name": "stdout",
     "output_type": "stream",
     "text": [
      "[[1, 2, 3], [4, 5, 6], [7, 8, 9]]\n",
      "8\n"
     ]
    }
   ],
   "source": [
    "#Ejercicio 4\n",
    "a=[1,2,3]\n",
    "b=[4,5,6]\n",
    "c=[7,8,9]\n",
    "r=[a,b,c]\n",
    "print(r)\n",
    "print(r[2][1])"
   ]
  },
  {
   "cell_type": "code",
   "execution_count": 149,
   "id": "bd18bd64",
   "metadata": {},
   "outputs": [
    {
     "name": "stdout",
     "output_type": "stream",
     "text": [
      "[[1, 1, 1, 3], [2, 2, 2, 7], [3, 3, 3, 9], [4, 4, 4, 13]]\n",
      "[4, 4, 4, 13]\n",
      "[4, 4, 4, 13]\n",
      "[[1, 1, 1, 3], [2, 2, 2, 6], [3, 3, 3, 9], [4, 4, 4, 12]]\n"
     ]
    }
   ],
   "source": [
    "# Ejercicio 5\n",
    "matriz=[\n",
    "    [1,1,1,3],\n",
    "    [2,2,2,7],\n",
    "    [3,3,3,9],\n",
    "    [4,4,4,13]\n",
    "]\n",
    "print(matriz)\n",
    "\n",
    "print(matriz[3])\n",
    "print(matriz[-1])\n",
    "\n",
    "#Modificar el ultimo valor de la ultima lista anidada\n",
    "matriz[-1][-1]=sum(matriz[-1][:-1])\n",
    "\n",
    "#Modificar el ultimo valor de la lista en la posicion 1 anidada\n",
    "matriz[1][-1]=sum(matriz[1][:-1])\n",
    "print(matriz)"
   ]
  },
  {
   "cell_type": "code",
   "execution_count": 155,
   "id": "4ceffdcb",
   "metadata": {},
   "outputs": [
    {
     "name": "stdout",
     "output_type": "stream",
     "text": [
      "6 Distribucion\n",
      "2 Diseño\n",
      "1 Concepción\n",
      "7 Mantenimiento\n",
      "4 Producción\n",
      "3 Planificación\n",
      "5 Pruebas\n",
      "\n",
      "\n",
      "1 Concepción\n",
      "2 Diseño\n",
      "3 Planificación\n",
      "4 Producción\n",
      "5 Pruebas\n",
      "6 Distribucion\n",
      "7 Mantenimiento\n"
     ]
    }
   ],
   "source": [
    "#ejercicio \n",
    "tareas=[\n",
    "    [6,\"Distribucion\"],\n",
    "    [2,\"Diseño\"],\n",
    "    [1,\"Concepción\"],\n",
    "    [7,\"Mantenimiento\"],\n",
    "    [4,\"Producción\"],\n",
    "    [3,\"Planificación\"],\n",
    "    [5,\"Pruebas\"]\n",
    "]\n",
    "\n",
    "# print(tareas)\n",
    "\n",
    "for tarea in tareas:\n",
    "    print(tarea[0],tarea[1])\n",
    "print('\\n')\n",
    "tareas.sort()\n",
    "# print(tareas)\n",
    "for tarea in tareas:\n",
    "    print(tarea[0],tarea[1])\n"
   ]
  }
 ],
 "metadata": {
  "kernelspec": {
   "display_name": "Python 3",
   "language": "python",
   "name": "python3"
  },
  "language_info": {
   "codemirror_mode": {
    "name": "ipython",
    "version": 3
   },
   "file_extension": ".py",
   "mimetype": "text/x-python",
   "name": "python",
   "nbconvert_exporter": "python",
   "pygments_lexer": "ipython3",
   "version": "3.9.1"
  }
 },
 "nbformat": 4,
 "nbformat_minor": 5
}
