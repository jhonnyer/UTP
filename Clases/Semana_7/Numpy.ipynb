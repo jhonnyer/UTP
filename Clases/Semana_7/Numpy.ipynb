{
 "cells": [
  {
   "cell_type": "code",
   "execution_count": 3,
   "id": "d04a79a7",
   "metadata": {},
   "outputs": [
    {
     "name": "stdout",
     "output_type": "stream",
     "text": [
      "Vector numpy\n",
      "Tipo objeto: <class 'numpy.ndarray'>\n",
      "Suma: 4999950000\n",
      "Tiempo de ejecución: 0.0012536048889160156\n",
      "------------------------- \n",
      "\n",
      "lista\n",
      "Tipo objeto: <class 'list'>\n",
      "Suma: 4999950000\n",
      "Tiempo de ejecución: 0.005128622055053711\n"
     ]
    }
   ],
   "source": [
    "#Tiempo de ejecucion de un array numpy  VS una Lista\n",
    "import numpy as np\n",
    "import time\n",
    "import sys\n",
    "\n",
    "tamano=100000\n",
    "print(\"Vector numpy\")\n",
    "t_vector=time.time()\n",
    "vector_numpy=np.arange(tamano)\n",
    "suma_vector=vector_numpy.sum()\n",
    "print(\"Tipo objeto: \"+str(type(vector_numpy)))\n",
    "print(\"Suma: \"+str(suma_vector))\n",
    "print(\"Tiempo de ejecución: \"+str(time.time()-t_vector))\n",
    "\n",
    "print(\"------------------------- \\n\")\n",
    "print(\"lista\")\n",
    "t_lista=time.time()\n",
    "lista=list(range(tamano))\n",
    "suma_lista=(sum(lista))\n",
    "print(\"Tipo objeto: \"+str(type(lista)))\n",
    "print(\"Suma: \"+str(suma_lista))\n",
    "print(\"Tiempo de ejecución: \"+str(time.time()-t_lista))"
   ]
  }
 ],
 "metadata": {
  "kernelspec": {
   "display_name": "Python 3",
   "language": "python",
   "name": "python3"
  },
  "language_info": {
   "codemirror_mode": {
    "name": "ipython",
    "version": 3
   },
   "file_extension": ".py",
   "mimetype": "text/x-python",
   "name": "python",
   "nbconvert_exporter": "python",
   "pygments_lexer": "ipython3",
   "version": "3.9.1"
  }
 },
 "nbformat": 4,
 "nbformat_minor": 5
}
