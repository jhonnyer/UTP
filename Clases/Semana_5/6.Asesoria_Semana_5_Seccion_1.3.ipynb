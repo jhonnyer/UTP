{
 "cells": [
  {
   "cell_type": "markdown",
   "id": "aff4a263",
   "metadata": {},
   "source": [
    "# Condicional IF"
   ]
  },
  {
   "cell_type": "code",
   "execution_count": 1,
   "id": "e17981ea",
   "metadata": {},
   "outputs": [
    {
     "name": "stdout",
     "output_type": "stream",
     "text": [
      "Se cumple la condición\n",
      "También se muestre este print\n"
     ]
    }
   ],
   "source": [
    "if True:  # equivale a if not False\n",
    "    print(\"Se cumple la condición\")\n",
    "    print(\"También se muestre este print\")"
   ]
  },
  {
   "cell_type": "code",
   "execution_count": 2,
   "id": "660efede",
   "metadata": {},
   "outputs": [
    {
     "name": "stdout",
     "output_type": "stream",
     "text": [
      "Fin\n"
     ]
    }
   ],
   "source": [
    "if not True:  # equivale a if False\n",
    "    print(\"Se cumple la condición\")\n",
    "    print(\"También se muestre este print\")\n",
    "else:\n",
    "    print(\"Fin\")"
   ]
  },
  {
   "cell_type": "code",
   "execution_count": 3,
   "id": "a5943e73",
   "metadata": {},
   "outputs": [
    {
     "name": "stdout",
     "output_type": "stream",
     "text": [
      "a vale 5\n"
     ]
    }
   ],
   "source": [
    "a = 5\n",
    "if a == 2:\n",
    "    print(\"a vale 2\")\n",
    "if a == 5:\n",
    "    print(\"a vale 5\")"
   ]
  },
  {
   "cell_type": "code",
   "execution_count": 4,
   "id": "bf49a885",
   "metadata": {},
   "outputs": [
    {
     "name": "stdout",
     "output_type": "stream",
     "text": [
      "El valor de a es:  5\n",
      "El valor de b es:  10\n",
      "El valor de a es: 5 \n",
      "El valor de b es: 10\n"
     ]
    }
   ],
   "source": [
    "a = 5\n",
    "b = 10\n",
    "if a == 5 and b==10:\n",
    "    print(\"El valor de a es: \",a)\n",
    "    print(\"El valor de b es: \",b)\n",
    "    print(\"El valor de a es: \"+str(a)+\" \\nEl valor de b es: \"+str(b))"
   ]
  },
  {
   "cell_type": "code",
   "execution_count": 5,
   "id": "f4e9e643",
   "metadata": {},
   "outputs": [
    {
     "name": "stdout",
     "output_type": "stream",
     "text": [
      "11 es un número impar\n"
     ]
    }
   ],
   "source": [
    "n = 11\n",
    "if n % 2 == 0:\n",
    "    print(n,\"es un número par\")\n",
    "else:\n",
    "    print(n,\"es un número impar\")"
   ]
  },
  {
   "cell_type": "code",
   "execution_count": 9,
   "id": "327bb653",
   "metadata": {},
   "outputs": [
    {
     "name": "stdout",
     "output_type": "stream",
     "text": [
      "Introduce una nota: 8\n",
      "Notable\n",
      "Bien\n",
      "Suficiente\n"
     ]
    }
   ],
   "source": [
    "nota = float(input(\"Introduce una nota: \"))\n",
    "#verificacion de nota no funcionando correctamente porque cumple varias condiciones\n",
    "if nota >= 9:\n",
    "    print(\"Sobresaliente\")\n",
    "if nota >= 7:\n",
    "    print(\"Notable\")\n",
    "if nota >= 6:\n",
    "    print(\"Bien\")\n",
    "if nota >= 5:\n",
    "    print(\"Suficiente\")\n",
    "else:\n",
    "    print(\"Insuficiente\")"
   ]
  },
  {
   "cell_type": "code",
   "execution_count": 73,
   "id": "407d1056",
   "metadata": {},
   "outputs": [
    {
     "name": "stdout",
     "output_type": "stream",
     "text": [
      "Ingrese una nota: 3.9\n",
      "suficiente\n"
     ]
    }
   ],
   "source": [
    "nota=float(input(\"Ingrese una nota: \"))\n",
    "while nota>5 or nota<0:\n",
    "    print(\"Nota incorrecta, ingrese nuevamente una nota\")\n",
    "    nota=float(input(\"Ingrese una nota: \"))\n",
    "    \n",
    "if nota>=4.7:\n",
    "    print(\"Excelente\")\n",
    "elif nota>=4 and nota<4.7:\n",
    "    print(\"Sobresaliente\")\n",
    "elif nota>=3:\n",
    "    print(\"suficiente\")\n",
    "else:\n",
    "    print(\"Insuficiente, perdiste el examen\")"
   ]
  },
  {
   "cell_type": "code",
   "execution_count": 80,
   "id": "69d5f13f",
   "metadata": {},
   "outputs": [
    {
     "name": "stdout",
     "output_type": "stream",
     "text": [
      "H\n",
      "o\n",
      "l\n",
      "a\n",
      " \n",
      "m\n",
      "u\n",
      "n\n",
      "d\n",
      "o\n"
     ]
    }
   ],
   "source": [
    "cad='Hola mundo'\n",
    "for i in cad:\n",
    "    print(i)"
   ]
  },
  {
   "cell_type": "code",
   "execution_count": 7,
   "id": "821a466d",
   "metadata": {
    "scrolled": true
   },
   "outputs": [
    {
     "name": "stdout",
     "output_type": "stream",
     "text": [
      "Introduce una nota: 10\n",
      "Sobresaliente\n"
     ]
    }
   ],
   "source": [
    "nota = float(input(\"Introduce una nota: \"))\n",
    "\n",
    "if nota >= 9:\n",
    "    print(\"Sobresaliente\")\n",
    "elif nota >= 7:\n",
    "    print(\"Notable\")\n",
    "elif nota >= 6:\n",
    "    print(\"Bien\")\n",
    "elif nota >= 5:\n",
    "    print(\"Suficiente\")\n",
    "else:\n",
    "    print(\"Insuficiente\")"
   ]
  },
  {
   "cell_type": "markdown",
   "id": "fb80859f",
   "metadata": {},
   "source": [
    "EJERCICIO: \n",
    "\n",
    "Utilizando condicion if-elif-else hacer un programa que compare longitud de dos variables (cadena_1 y cadena_2) y en funcion del resultado almacenar el valor en otra variable llamada resultado.\n",
    "\n",
    "Si cadena_1 es mas larga que cadena_2, la variable resultado debe tener el valor entero 1.\n",
    "Si cadena_1 es mas corta que cadena_2, el resultado debe tener el valor 2\n",
    "Si cadena_1 y cadena_2 tiene la misma longitud, la variable resultado debe tener valor 0"
   ]
  },
  {
   "cell_type": "code",
   "execution_count": 10,
   "id": "4809cf64",
   "metadata": {},
   "outputs": [
    {
     "name": "stdout",
     "output_type": "stream",
     "text": [
      "2\n"
     ]
    }
   ],
   "source": [
    "cadena_1=[2,4,5,67,78]\n",
    "cadena_2=[4,5,6,7,8,9,3,3,5,6,7,8]\n",
    "\n",
    "long_cad1=len(cadena_1)\n",
    "long_cad2=len(cadena_2)\n",
    "\n",
    "if long_cad1>long_cad2:\n",
    "    resultado=1\n",
    "elif long_cad1<long_cad2:\n",
    "    resultado=2\n",
    "else:\n",
    "    resultado=0\n",
    "print(resultado)"
   ]
  },
  {
   "cell_type": "markdown",
   "id": "4d2c4cb7",
   "metadata": {},
   "source": [
    "# Condicional WHILE"
   ]
  },
  {
   "cell_type": "code",
   "execution_count": 12,
   "id": "451ad8e4",
   "metadata": {},
   "outputs": [
    {
     "name": "stdout",
     "output_type": "stream",
     "text": [
      "Iteración de c : 1\n",
      "Iteración de c : 2\n",
      "Iteración de c : 3\n",
      "Iteración de c : 4\n",
      "Iteración de c : 5\n",
      "Iteración de c : 6\n"
     ]
    }
   ],
   "source": [
    "c = 0\n",
    "while c <= 5:\n",
    "    c+=1\n",
    "    print(\"Iteración de c :\", c)"
   ]
  },
  {
   "cell_type": "code",
   "execution_count": 18,
   "id": "b0cd68e4",
   "metadata": {},
   "outputs": [
    {
     "name": "stdout",
     "output_type": "stream",
     "text": [
      "c vale 1\n",
      "c vale 2\n",
      "c vale 3\n",
      "c vale 4\n",
      "c vale 5\n",
      "c vale 6\n",
      "Se ha completado la iteracion, la variable c tiene un valor de:  6\n"
     ]
    }
   ],
   "source": [
    "#CICLO WHILE CON CONDICION ELSE ENCADENADA\n",
    "c = 0\n",
    "while c <= 5:\n",
    "    c+=1\n",
    "    print(\"c vale\", c)\n",
    "else:\n",
    "    print(\"Se ha completado la iteracion, la variable c tiene un valor de: \",c)"
   ]
  },
  {
   "cell_type": "code",
   "execution_count": 79,
   "id": "a9c5929f",
   "metadata": {},
   "outputs": [
    {
     "name": "stdout",
     "output_type": "stream",
     "text": [
      "1\n",
      "2\n",
      "3\n",
      "4\n",
      "6\n",
      "7\n",
      "8\n",
      "9\n",
      "10\n",
      "11\n",
      "12\n",
      "13\n",
      "14\n",
      "Fin\n"
     ]
    }
   ],
   "source": [
    "x=0\n",
    "while x>=0:\n",
    "    x+=1\n",
    "    if x==5:\n",
    "        continue\n",
    "    if x==15:\n",
    "        break\n",
    "    print(x)\n",
    "print(\"Fin\")"
   ]
  },
  {
   "cell_type": "code",
   "execution_count": 76,
   "id": "78e0c04b",
   "metadata": {},
   "outputs": [
    {
     "data": {
      "text/plain": [
       "False"
      ]
     },
     "execution_count": 76,
     "metadata": {},
     "output_type": "execute_result"
    }
   ],
   "source": [
    "0<0"
   ]
  },
  {
   "cell_type": "code",
   "execution_count": 17,
   "id": "166f2c37",
   "metadata": {},
   "outputs": [
    {
     "name": "stdout",
     "output_type": "stream",
     "text": [
      "Valor de c:  1\n",
      "Valor de c:  2\n",
      "El bucle ha sido roto cuando 'c' equivale a:  3\n"
     ]
    }
   ],
   "source": [
    "#cICLO WHILE CON CONDICION IF Y BREAK PARA ROMPER EL BUCLE SI SE CUMPLE LA CONDICION\n",
    "c = 0\n",
    "while c <= 5:\n",
    "    c+=1\n",
    "    if (c==3):\n",
    "        print(\"El bucle ha sido roto cuando 'c' equivale a: \",c)\n",
    "        break\n",
    "    print(\"Valor de c: \", c)\n",
    "else:\n",
    "    print(\"Se ha completado la iteracion cuando c tiene un valor de: \",c)"
   ]
  },
  {
   "cell_type": "code",
   "execution_count": 21,
   "id": "b82effc0",
   "metadata": {},
   "outputs": [
    {
     "name": "stdout",
     "output_type": "stream",
     "text": [
      "c vale 1\n",
      "c vale 2\n",
      "El bucle ha sido roto cuando la variable c equivale a:  3\n",
      "c vale 4\n",
      "c vale 5\n",
      "c vale 6\n",
      "Se ha completado la iteracion, el valor de c es:  6\n"
     ]
    }
   ],
   "source": [
    "#CICLO WHILE CON CONDICION IF Y CONTINUE PARA ROMPER EL BUCLE SI SE CUMPLE LA CONDICION Y CONTINUAR OTRA ITERACION\n",
    "c = 0\n",
    "while c <= 5:\n",
    "    c+=1\n",
    "    if (c==3):\n",
    "        print(\"El bucle ha sido roto cuando la variable c equivale a: \",c)\n",
    "        continue\n",
    "    print(\"c vale\", c)\n",
    "else:\n",
    "    print(\"Se ha completado la iteracion, el valor de c es: \",c)"
   ]
  },
  {
   "cell_type": "code",
   "execution_count": 23,
   "id": "c4e6937d",
   "metadata": {
    "scrolled": true
   },
   "outputs": [
    {
     "name": "stdout",
     "output_type": "stream",
     "text": [
      "c vale 1\n",
      "c vale 2\n",
      "El bucle ha sido roto cuando la variable c equivale a:  3\n",
      "c vale 4\n",
      "Fin del ciclo\n"
     ]
    }
   ],
   "source": [
    "#CICLO WHILE CON CONDICION IF Y CONTINUE PARA ROMPER EL BUCLE SI SE CUMPLE LA CONDICION Y CONTINUAR OTRA ITERACION\n",
    "#Sentencia break para romper toda la iteracion del bucle\n",
    "c = 0\n",
    "while c <= 5:\n",
    "    c+=1\n",
    "    if (c==3):\n",
    "        print(\"El bucle ha sido roto cuando la variable c equivale a: \",c)\n",
    "        continue\n",
    "    if c==5:\n",
    "        print(\"Fin del ciclo\")\n",
    "        break\n",
    "    print(\"c vale\", c)\n",
    "else:\n",
    "    print(\"Se ha completado la iteracion, el valor de c es: \",c)"
   ]
  },
  {
   "cell_type": "code",
   "execution_count": 24,
   "id": "c939f74c",
   "metadata": {},
   "outputs": [
    {
     "name": "stdout",
     "output_type": "stream",
     "text": [
      "Valor de c: 1\n",
      "Valor de c: 2\n",
      "El bucle ha sido roto cuando la variable c equivale a:  3\n",
      "El bucle ha sido roto cuando la variable c equivale a:  4\n",
      "Valor de c: 5\n",
      "Valor de c: 6\n",
      "Se ha completado la iteracion, el valor de c es:  6\n"
     ]
    }
   ],
   "source": [
    "#cICLO WHILE CON CONDICION IF Y CONTINUE PARA ROMPER EL BUCLE SI SE CUMPLE LA CONDICION Y CONTINUAR OTRA ITERACION\n",
    "c = 0\n",
    "while c <= 5:\n",
    "    c+=1\n",
    "    if c==3 or c==4:\n",
    "        print(\"El bucle ha sido roto cuando la variable c equivale a: \",c)\n",
    "        continue \n",
    "    print(\"Valor de c:\", c)\n",
    "else:\n",
    "    print(\"Se ha completado la iteracion, el valor de c es: \",c)"
   ]
  },
  {
   "cell_type": "code",
   "execution_count": 25,
   "id": "a52ce0c0",
   "metadata": {},
   "outputs": [
    {
     "name": "stdout",
     "output_type": "stream",
     "text": [
      "Bienvenido al menú interactivo\n",
      "¿Qué quieres hacer? Escribe una opción\n",
      "    1) Saludar\n",
      "    2) Sumar dos números\n",
      "    3) Salir\n",
      "3\n",
      "¡Hasta luego! Ha sido un placer ayudarte \n",
      "\n"
     ]
    }
   ],
   "source": [
    "print(\"Bienvenido al menú interactivo\")\n",
    "while(True):\n",
    "    print(\"\"\"¿Qué quieres hacer? Escribe una opción\n",
    "    1) Saludar\n",
    "    2) Sumar dos números\n",
    "    3) Salir\"\"\")\n",
    "    opcion = input()\n",
    "    if opcion == '1':\n",
    "        print(\"Hola, espero que te lo estés pasando bien \\n\")\n",
    "    elif opcion == '2':\n",
    "        n1 = float(input(\"Introduce el primer número: \"))\n",
    "        n2 = float(input(\"Introduce el segundo número: \"))\n",
    "        print(\"El resultado de la suma es: \",n1+n2)\n",
    "    elif opcion =='3':\n",
    "        print(\"¡Hasta luego! Ha sido un placer ayudarte \\n\")\n",
    "        break\n",
    "    else:\n",
    "        print(\"Comando desconocido, vuelve a intentarlo \\n\")"
   ]
  },
  {
   "cell_type": "markdown",
   "id": "2f8253b5",
   "metadata": {},
   "source": [
    "# EJERCICIO:\n",
    "\n",
    "Realiza un programa que lea un numero por teclado y lo almacena en una variable llamada numero. Si el numero introducido no es multiple de cinco, debe introducirse nuevamente hasta que lo sea"
   ]
  },
  {
   "cell_type": "code",
   "execution_count": 28,
   "id": "b1e1cf47",
   "metadata": {},
   "outputs": [
    {
     "name": "stdout",
     "output_type": "stream",
     "text": [
      "Escribe un  numero entero multiplo de 5: 10\n",
      "El numero 10 es multiplo de 5\n"
     ]
    }
   ],
   "source": [
    "numero=int(input(\"Escribe un  numero entero multiplo de 5: \"))\n",
    "while numero%5!=0:\n",
    "    numero=int(input(\"El numero digitado no es multiplo de 5, escribe un numero entero \"))\n",
    "else:\n",
    "    print(\"El numero \"+str(numero)+\" es multiplo de 5\")"
   ]
  },
  {
   "cell_type": "markdown",
   "id": "e9630d82",
   "metadata": {},
   "source": [
    "# CICLO FOR"
   ]
  },
  {
   "cell_type": "code",
   "execution_count": 31,
   "id": "dd81bb69",
   "metadata": {},
   "outputs": [
    {
     "name": "stdout",
     "output_type": "stream",
     "text": [
      "0\n",
      "1\n",
      "2\n",
      "3\n",
      "4\n",
      "5\n",
      "6\n",
      "7\n",
      "8\n",
      "9\n"
     ]
    }
   ],
   "source": [
    "#RECORRER UNA LISTA MEDIANTE CICLO WHILE\n",
    "numeros=[0,1,2,3,4,5,6,7,8,9]\n",
    "indice=0\n",
    "while(indice<len(numeros)):\n",
    "    print(numeros[indice])\n",
    "    indice+=1"
   ]
  },
  {
   "cell_type": "code",
   "execution_count": 35,
   "id": "47eec815",
   "metadata": {},
   "outputs": [
    {
     "name": "stdout",
     "output_type": "stream",
     "text": [
      "1\n",
      "1\n",
      "2\n",
      "3\n",
      "4\n",
      "5\n",
      "6\n",
      "7\n",
      "8\n",
      "9\n"
     ]
    }
   ],
   "source": [
    "#RECORRER UNA LISTA MEDIANTE CICLO FOR\n",
    "#RECORRIDO OBTIENE EL VALOR DE CADA ELEMENTO EN LA LISTA\n",
    "numeros=[1,1,2,3,4,5,6,7,8,9]\n",
    "for numero in numeros:\n",
    "    print(numero)"
   ]
  },
  {
   "cell_type": "code",
   "execution_count": 34,
   "id": "10088caf",
   "metadata": {},
   "outputs": [
    {
     "name": "stdout",
     "output_type": "stream",
     "text": [
      "0\n",
      "1\n",
      "2\n",
      "3\n",
      "4\n",
      "5\n",
      "6\n",
      "7\n",
      "8\n",
      "9\n"
     ]
    }
   ],
   "source": [
    "#RECORRER UNA LISTA MEDIANTE CICLO FOR\n",
    "# RECORRIDO OBTIENE LA POSICION DE CADA ELEMENTO\n",
    "numeros=[1,1,2,3,4,5,6,7,8,9]\n",
    "for numero in range(len(numeros)):\n",
    "    print(numero)"
   ]
  },
  {
   "cell_type": "code",
   "execution_count": 38,
   "id": "77cb8f5f",
   "metadata": {},
   "outputs": [
    {
     "data": {
      "text/plain": [
       "[10, 20, 30, 40, 50, 60, 70, 80, 90, 100]"
      ]
     },
     "execution_count": 38,
     "metadata": {},
     "output_type": "execute_result"
    }
   ],
   "source": [
    "#RECORRER UNA LISTA CON FOR Y CAMBIAR EL VALOR DE LOS DATOS DE LA LISTA CON UN PRODUCTO ASIGNACION, \n",
    "#ACCEDIENDO MEDIANTE EL INDICE\n",
    "indice = 0\n",
    "numeros = [1, 2, 3, 4, 5, 6, 7, 8, 9, 10]\n",
    "for numero in numeros:\n",
    "    numeros[indice] *= 10\n",
    "    indice+=1\n",
    "numeros"
   ]
  },
  {
   "cell_type": "code",
   "execution_count": 37,
   "id": "4394c7c5",
   "metadata": {},
   "outputs": [
    {
     "data": {
      "text/plain": [
       "[10, 20, 30, 40, 50, 60, 70, 80, 90, 100]"
      ]
     },
     "execution_count": 37,
     "metadata": {},
     "output_type": "execute_result"
    }
   ],
   "source": [
    "#RECORRER UNA LISTA CON FOR Y CAMBIAR EL VALOR DE LOS DATOS DE LA LISTA CON UN PRODUCTO ASIGNACION, \n",
    "#ACCEDIENDO MEDIANTE EL INDICE\n",
    "numeros = [1, 2, 3, 4, 5, 6, 7, 8, 9, 10]\n",
    "for i in range(len(numeros)):\n",
    "    numeros[i] *= 10\n",
    "numeros"
   ]
  },
  {
   "cell_type": "code",
   "execution_count": 40,
   "id": "f9ecaa80",
   "metadata": {},
   "outputs": [
    {
     "data": {
      "text/plain": [
       "[10, 20, 30, 40, 50, 60, 70, 80, 90, 100]"
      ]
     },
     "execution_count": 40,
     "metadata": {},
     "output_type": "execute_result"
    }
   ],
   "source": [
    "#RECORRER UNA LISTA CON FOR Y UTILIZAR FUNCION ENUMERATE QUE CREA UN INDICE DE LA LISTA NUMEROS\n",
    "numeros = [1, 2, 3, 4, 5, 6, 7, 8, 9, 10]\n",
    "for indice,numero in enumerate(numeros):\n",
    "    numeros[indice] *= 10\n",
    "numeros"
   ]
  },
  {
   "cell_type": "code",
   "execution_count": 41,
   "id": "31966fd6",
   "metadata": {},
   "outputs": [
    {
     "name": "stdout",
     "output_type": "stream",
     "text": [
      "H\n",
      "o\n",
      "l\n",
      "a\n",
      " \n",
      "a\n",
      "m\n",
      "i\n",
      "g\n",
      "o\n",
      "s\n"
     ]
    }
   ],
   "source": [
    "cadena = \"Hola amigos\"\n",
    "for caracter in cadena:\n",
    "    print(caracter)"
   ]
  },
  {
   "cell_type": "code",
   "execution_count": 42,
   "id": "b638ef61",
   "metadata": {},
   "outputs": [
    {
     "ename": "TypeError",
     "evalue": "'str' object does not support item assignment",
     "output_type": "error",
     "traceback": [
      "\u001b[0;31m---------------------------------------------------------------------------\u001b[0m",
      "\u001b[0;31mTypeError\u001b[0m                                 Traceback (most recent call last)",
      "\u001b[0;32m<ipython-input-42-ec47383d9edc>\u001b[0m in \u001b[0;36m<module>\u001b[0;34m\u001b[0m\n\u001b[1;32m      1\u001b[0m \u001b[0;31m#Aparece error, por que la variable de caracteres es inmutable\u001b[0m\u001b[0;34m\u001b[0m\u001b[0;34m\u001b[0m\u001b[0;34m\u001b[0m\u001b[0m\n\u001b[1;32m      2\u001b[0m \u001b[0;32mfor\u001b[0m \u001b[0mi\u001b[0m\u001b[0;34m,\u001b[0m \u001b[0mc\u001b[0m \u001b[0;32min\u001b[0m \u001b[0menumerate\u001b[0m\u001b[0;34m(\u001b[0m\u001b[0mcadena\u001b[0m\u001b[0;34m)\u001b[0m\u001b[0;34m:\u001b[0m\u001b[0;34m\u001b[0m\u001b[0;34m\u001b[0m\u001b[0m\n\u001b[0;32m----> 3\u001b[0;31m     \u001b[0mcadena\u001b[0m\u001b[0;34m[\u001b[0m\u001b[0mi\u001b[0m\u001b[0;34m]\u001b[0m \u001b[0;34m=\u001b[0m \u001b[0;34m\"*\"\u001b[0m\u001b[0;34m\u001b[0m\u001b[0;34m\u001b[0m\u001b[0m\n\u001b[0m",
      "\u001b[0;31mTypeError\u001b[0m: 'str' object does not support item assignment"
     ]
    }
   ],
   "source": [
    "#Aparece error, por que la variable de caracteres es inmutable\n",
    "for i, c in enumerate(cadena):\n",
    "    cadena[i] = \"*\""
   ]
  },
  {
   "cell_type": "code",
   "execution_count": 43,
   "id": "2375692c",
   "metadata": {},
   "outputs": [
    {
     "data": {
      "text/plain": [
       "'HHoollaa  aammiiggooss'"
      ]
     },
     "execution_count": 43,
     "metadata": {},
     "output_type": "execute_result"
    }
   ],
   "source": [
    "cadena = \"Hola amigos\"\n",
    "cadena2 = \"\"\n",
    "for caracter in cadena:\n",
    "    cadena2 += caracter * 2 \n",
    "cadena2"
   ]
  },
  {
   "cell_type": "code",
   "execution_count": 44,
   "id": "f3ccdfab",
   "metadata": {},
   "outputs": [
    {
     "name": "stdout",
     "output_type": "stream",
     "text": [
      "0\n",
      "1\n",
      "2\n",
      "3\n",
      "4\n",
      "5\n",
      "6\n",
      "7\n",
      "8\n",
      "9\n"
     ]
    },
    {
     "data": {
      "text/plain": [
       "range(0, 10)"
      ]
     },
     "execution_count": 44,
     "metadata": {},
     "output_type": "execute_result"
    }
   ],
   "source": [
    "for i in range(10):\n",
    "    print(i)\n",
    "range(10)"
   ]
  },
  {
   "cell_type": "code",
   "execution_count": 45,
   "id": "3b82e9af",
   "metadata": {},
   "outputs": [
    {
     "data": {
      "text/plain": [
       "[0, 1, 2, 3, 4, 5, 6, 7, 8, 9]"
      ]
     },
     "execution_count": 45,
     "metadata": {},
     "output_type": "execute_result"
    }
   ],
   "source": [
    "#lIST PERMITE CREAR UNA LISTA DE RANGE 10 SIMILAR A PYTHON 2\n",
    "list(range(10))"
   ]
  },
  {
   "cell_type": "code",
   "execution_count": 46,
   "id": "37495f7a",
   "metadata": {},
   "outputs": [
    {
     "data": {
      "text/plain": [
       "[1, 2, 3, 4, 5, 6, 7]"
      ]
     },
     "execution_count": 46,
     "metadata": {},
     "output_type": "execute_result"
    }
   ],
   "source": [
    "#lIST PERMITE CREAR UNA LISTA DE RANGE 10 SIMILAR A PYTHON 2\n",
    "list(range(1,8))"
   ]
  },
  {
   "cell_type": "code",
   "execution_count": 47,
   "id": "1fdf9290",
   "metadata": {},
   "outputs": [
    {
     "data": {
      "text/plain": [
       "[1, 3, 5, 7]"
      ]
     },
     "execution_count": 47,
     "metadata": {},
     "output_type": "execute_result"
    }
   ],
   "source": [
    "#lIST PERMITE CREAR UNA LISTA DE RANGE 10 SIMILAR A PYTHON 2\n",
    "list(range(1,9,2))"
   ]
  },
  {
   "cell_type": "code",
   "execution_count": 50,
   "id": "bae7b22e",
   "metadata": {},
   "outputs": [
    {
     "name": "stdout",
     "output_type": "stream",
     "text": [
      "Introduce un numero entero entre 1 y 9: 8\n",
      "[0, 8, 16, 24, 32, 40, 48, 56, 64, 72, 80, 88, 96]\n"
     ]
    }
   ],
   "source": [
    "#INTRODUCE UN NUMERO ENTERO POR TECLADO ENTRE 0 Y 9, VERIFICA SI ES CORRECTO, POSTERIORMENTE, IMPRIMIR LOS NUMEROS \n",
    "#MULTIPLOS DEL NUMERO INGRESADO POR TECLADO HASTA EL NUMERO 100\n",
    "multiplos = []\n",
    "\n",
    "# Completa el ejercicio\n",
    "numero = int(input(\"Introduce un numero entero entre 1 y 9: \"))\n",
    "while numero <0 or numero >9:\n",
    "    numero = int(input(\"Introduce un numero entero entre 1 y 9: \"))\n",
    "multiplos=list(range(0,101,numero))\n",
    "print(multiplos)"
   ]
  },
  {
   "cell_type": "markdown",
   "id": "34880f96",
   "metadata": {},
   "source": [
    "# Ejercicio 1\n",
    "\n",
    "Realiza un programa que sume todos los números enteros pares desde el 0 hasta el 100\n",
    "\n",
    "Puedes utilizar la funciones sum() y range() para hacerlo más fácil.\n",
    "\n",
    "El tercer parámetro en la función range(inicio, fin, salto) indica un salto de números, pruébalo."
   ]
  },
  {
   "cell_type": "code",
   "execution_count": 51,
   "id": "7e81cfa6",
   "metadata": {},
   "outputs": [
    {
     "name": "stdout",
     "output_type": "stream",
     "text": [
      "2550\n"
     ]
    }
   ],
   "source": [
    "#FORMA 1 CON FUNCION \n",
    "suma=sum(range(0,101,2))\n",
    "print(suma)"
   ]
  },
  {
   "cell_type": "code",
   "execution_count": 52,
   "id": "a9990e32",
   "metadata": {},
   "outputs": [
    {
     "name": "stdout",
     "output_type": "stream",
     "text": [
      "El resultado de la suma es:  2550\n"
     ]
    }
   ],
   "source": [
    "#FORMA 2 CON BUCLE FOR\n",
    "sum=0\n",
    "num=0\n",
    "while num<=100:\n",
    "    if num%2==0:\n",
    "        sum+=num\n",
    "    num+=1\n",
    "print(\"El resultado de la suma es: \",sum)"
   ]
  },
  {
   "cell_type": "markdown",
   "id": "94f169c9",
   "metadata": {},
   "source": [
    "# Ejercicio 2\n",
    "\n",
    "Realiza un programa que lea un número impar por teclado. Si el usuario no introduce un número impar, debe repetise el proceso hasta que lo introduzca correctamente."
   ]
  },
  {
   "cell_type": "code",
   "execution_count": 53,
   "id": "d0269983",
   "metadata": {},
   "outputs": [
    {
     "name": "stdout",
     "output_type": "stream",
     "text": [
      "Por favor ingresa un numero impar: 10\n",
      "El número ingresado no es impar, por favor ingresar nuevamente un numero impar: 19\n",
      "El numero impar ingresado es:  19\n"
     ]
    }
   ],
   "source": [
    "numero=int(input(\"Por favor ingresa un numero impar: \"))\n",
    "while numero%2==0:\n",
    "    numero=int(input(\"El número ingresado no es impar, por favor ingresar nuevamente un numero impar: \"))\n",
    "else:\n",
    "    print(\"El numero impar ingresado es: \",numero)"
   ]
  },
  {
   "cell_type": "markdown",
   "id": "a74e034e",
   "metadata": {},
   "source": [
    "# Ejercicio 3\n",
    "\n",
    "Realiza un programa que pida al usuario cuantos números quiere introducir. Luego lee todos los números y realiza una media aritmética.\n"
   ]
  },
  {
   "cell_type": "code",
   "execution_count": 58,
   "id": "53e86be3",
   "metadata": {},
   "outputs": [
    {
     "name": "stdout",
     "output_type": "stream",
     "text": [
      "Ingresa la cantidad de números que deseas introducir para evaluar una media aritmetica: 4\n",
      "Ingresa un número: 4\n",
      "Ingresa un número: 3\n",
      "Ingresa un número: 4\n",
      "Ingresa un número: 5\n",
      "\n",
      "La cantidad de numeros introducidos es:  4 . La suma de los numeros introducidos es:  16.0 . La media aritmetica de los numeros introducidos es:  4.0\n"
     ]
    }
   ],
   "source": [
    "repeticion=int(input(\"Ingresa la cantidad de números que deseas introducir para evaluar una media aritmetica: \"))\n",
    "sum=0\n",
    "for i in range(repeticion):\n",
    "    sum+=float(input(\"Ingresa un número: \"))\n",
    "print(\"\\nLa cantidad de numeros introducidos es: \",repeticion, \". La suma de los numeros introducidos es: \", sum, \". La media aritmetica de los numeros introducidos es: \",sum/repeticion)"
   ]
  },
  {
   "cell_type": "markdown",
   "id": "7b0d0c0a",
   "metadata": {},
   "source": [
    "# Ejercicio 4\n",
    "\n",
    "\n",
    "Realiza un programa que pida al usuario un número entero del 0 al 9, y que mientras el número no sea correcto se repita el proceso. Luego debe comprobar si el número se encuentra en la lista de números y notificarlo:\n",
    "\n",
    "Concepto útil\n",
    "\n",
    "La sintaxis [valor] in [lista] permite comprobar si un valor se encuentra en una lista (devuelve True o False)."
   ]
  },
  {
   "cell_type": "code",
   "execution_count": 60,
   "id": "95053b28",
   "metadata": {},
   "outputs": [
    {
     "name": "stdout",
     "output_type": "stream",
     "text": [
      "Ingresa un numero entero entre el 0 y el 9: 8\n",
      "El numero ingresado:  8  no se encuentra en la lista numeros\n"
     ]
    }
   ],
   "source": [
    "numeros=[1,3,5,7,9]\n",
    "while True:\n",
    "    num=int(input(\"Ingresa un numero entero entre el 0 y el 9: \"))\n",
    "    if num>=0 and num<=9:\n",
    "        break\n",
    "    else:\n",
    "        print(\"Dato incorrecto, vuelve  a digitar el numero \")\n",
    "        \n",
    "#Verificacion si el numero esta en la lista        \n",
    "if num in numeros:\n",
    "            print(\"El numero ingresado: \",num,\" se encuentra en la lista numeros: \",numeros)\n",
    "else:\n",
    "            print(\"El numero ingresado: \",num,\" no se encuentra en la lista numeros\")"
   ]
  },
  {
   "cell_type": "markdown",
   "id": "b562463a",
   "metadata": {},
   "source": [
    "# Ejercicio 5\n",
    "\n",
    "\n",
    "Dadas dos listas, debes generar una tercera con todos los elementos que se repitan en ellas, pero no debe repetirse ningún elemento en la nueva lista:\n",
    "\n",
    "\n",
    "lista_1 = [\"h\",'o','l','a',' ', 'm','u','n','d','o']\n",
    "lista_2 = [\"h\",'o','l','a',' ', 'l','u','n','a']\n",
    "\n",
    "# Completa el ejercicio aquí"
   ]
  },
  {
   "cell_type": "code",
   "execution_count": 61,
   "id": "fbabc92d",
   "metadata": {},
   "outputs": [
    {
     "name": "stdout",
     "output_type": "stream",
     "text": [
      "['h', 'o', 'l', 'a', ' ', 'u', 'n']\n"
     ]
    }
   ],
   "source": [
    "lista_1 = [\"h\",'o','l','a',' ', 'm','u','n','d','o'] \n",
    "lista_2 = [\"h\",'o','l','a',' ', 'l','u','n','a']\n",
    "\n",
    "lista_3=[]\n",
    "for l1 in lista_1:\n",
    "    #Verifica que la letra este repetida en la lista_2 y que no este en la lista nueva creada lista_3\n",
    "    if l1 in lista_2 and l1 not in lista_3:\n",
    "        lista_3.append(l1)\n",
    "print(lista_3)"
   ]
  }
 ],
 "metadata": {
  "kernelspec": {
   "display_name": "Python 3",
   "language": "python",
   "name": "python3"
  },
  "language_info": {
   "codemirror_mode": {
    "name": "ipython",
    "version": 3
   },
   "file_extension": ".py",
   "mimetype": "text/x-python",
   "name": "python",
   "nbconvert_exporter": "python",
   "pygments_lexer": "ipython3",
   "version": "3.9.1"
  }
 },
 "nbformat": 4,
 "nbformat_minor": 5
}
