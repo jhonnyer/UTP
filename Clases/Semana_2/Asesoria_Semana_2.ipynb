{
 "cells": [
  {
   "cell_type": "code",
   "execution_count": 55,
   "id": "5b0bdafe",
   "metadata": {},
   "outputs": [
    {
     "name": "stdout",
     "output_type": "stream",
     "text": [
      "Ingrese el valor de A: 5\n",
      "Ingrese el valor de B: 3\n",
      "Ingrese el valor de C: 1\n",
      "A es mayor \n"
     ]
    }
   ],
   "source": [
    "#Variables entrada numeros A,B,C van a tener valores, ingresados por teclado\n",
    "#comparar A, B y C deben deben ser distintos, sino mensaje de alerta y volver a pedir los numeros\n",
    "#Indentificar cual valor es el mayor , y cual es valor de la mitad y cual es el valor menor\n",
    "\n",
    "#Algoritmo\n",
    "\n",
    "#Inicio\n",
    "#ingrese el valor de A\n",
    "#ingrese el valor de B\n",
    "#ingrese el valor de C\n",
    "#Verificar valores de las variables A=B=C\n",
    "    #Si\n",
    "        #Colocar mensaje error \n",
    "        #solicitar los valores de A,B,C\n",
    "    #No \n",
    "        #Si Verificar A>B y A>C\n",
    "            #A es mayor\n",
    "        #sino si, verificar B>A y B>C\n",
    "             #B es mayor\n",
    "        #sino\n",
    "          # C es mayor\n",
    "#FIN\n",
    "            \n",
    "A=int(input(\"Ingrese el valor de A: \"))\n",
    "B=int(input(\"Ingrese el valor de B: \"))\n",
    "C=int(input(\"Ingrese el valor de C: \"))\n",
    "\n",
    "while A==B==C or A==B or A==C or B==C:\n",
    "    print(\"Error datos incorrectos\")\n",
    "    A=int(input(\"Ingrese el valor de A: \"))\n",
    "    B=int(input(\"Ingrese el valor de B: \"))\n",
    "    C=int(input(\"Ingrese el valor de C: \"))\n",
    "else:\n",
    "    if A>B and A>C:\n",
    "        print(\"A es mayor \")\n",
    "    elif B>A and B>C:\n",
    "        print(\"B es mayor\")\n",
    "    else:\n",
    "        print(\"C es mayor\")\n",
    "  "
   ]
  },
  {
   "cell_type": "code",
   "execution_count": null,
   "id": "99b83a51",
   "metadata": {},
   "outputs": [],
   "source": [
    "# 1  1  3  3  5  5 \n",
    "# 5  3  1  5  1  3\n",
    "# 3  5  5  1  3  1"
   ]
  },
  {
   "cell_type": "code",
   "execution_count": 58,
   "id": "b4c101b3",
   "metadata": {},
   "outputs": [
    {
     "name": "stdout",
     "output_type": "stream",
     "text": [
      "1\n",
      "2\n",
      "3\n",
      "4\n",
      "5\n",
      "La suma es:  10\n",
      "Las iteraciones fueron:  5\n"
     ]
    }
   ],
   "source": [
    "n=2\n",
    "c=0\n",
    "suma=0\n",
    "while c<5:\n",
    "    c=c+1\n",
    "    suma=suma+n\n",
    "    print(c)\n",
    "\n",
    "print(\"La suma es: \",suma)\n",
    "print(\"Las iteraciones fueron: \",c)"
   ]
  },
  {
   "cell_type": "code",
   "execution_count": 60,
   "id": "2548613b",
   "metadata": {},
   "outputs": [
    {
     "name": "stdout",
     "output_type": "stream",
     "text": [
      "ingrese un numero par: 2\n",
      "ingrese un numero par: 4\n",
      "ingrese un numero par: 6\n",
      "ingrese un numero par: 3\n",
      "La suma es:  12\n",
      "Las iteraciones fueron:  3\n",
      "Fin\n"
     ]
    }
   ],
   "source": [
    "par=int(input(\"ingrese un numero par: \"))\n",
    "suma=0\n",
    "iteracion=0\n",
    "while par%2==0:\n",
    "    suma=suma+par\n",
    "    iteracion=iteracion+1\n",
    "    par=int(input(\"ingrese un numero par: \"))\n",
    "print(\"La suma es: \",suma)\n",
    "print(\"Las iteraciones fueron: \",iteracion)\n",
    "print(\"Fin\")"
   ]
  }
 ],
 "metadata": {
  "kernelspec": {
   "display_name": "Python 3",
   "language": "python",
   "name": "python3"
  },
  "language_info": {
   "codemirror_mode": {
    "name": "ipython",
    "version": 3
   },
   "file_extension": ".py",
   "mimetype": "text/x-python",
   "name": "python",
   "nbconvert_exporter": "python",
   "pygments_lexer": "ipython3",
   "version": "3.9.1"
  }
 },
 "nbformat": 4,
 "nbformat_minor": 5
}
