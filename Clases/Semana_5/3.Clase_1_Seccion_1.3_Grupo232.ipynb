{
 "cells": [
  {
   "cell_type": "code",
   "execution_count": 113,
   "id": "96190796",
   "metadata": {},
   "outputs": [
    {
     "name": "stdout",
     "output_type": "stream",
     "text": [
      "Calculo centena\n",
      "1\n",
      "Calculo decena\n",
      "23\n",
      "2\n",
      "Calculo unidad\n",
      "3\n"
     ]
    }
   ],
   "source": [
    "# Calculo centena \n",
    "print(\"Calculo centena\")\n",
    "print(123//100)\n",
    "#Calculo decena\n",
    "print(\"Calculo decena\")\n",
    "print(123-1*100)\n",
    "print((123-1*100)//10)\n",
    "#Calculo unidad\n",
    "print(\"Calculo unidad\")\n",
    "print(123-(1*100)-(2*10))"
   ]
  },
  {
   "cell_type": "code",
   "execution_count": 117,
   "id": "0472dbe7",
   "metadata": {},
   "outputs": [
    {
     "name": "stdout",
     "output_type": "stream",
     "text": [
      "LIGHT\n",
      "SWEET\n",
      "BITTER\n",
      "BITTER\n",
      "CINNAMON\n"
     ]
    }
   ],
   "source": [
    "def palidromo(numero:int)->bool:\n",
    "    resultado=''\n",
    "    centena=numero//100\n",
    "    decena=(numero-centena*100)//10\n",
    "    unidad=numero-centena*100-decena*10\n",
    "    if centena==unidad:\n",
    "        resultado=True\n",
    "    else:\n",
    "        resultado==False\n",
    "    #print(resultado)\n",
    "    return resultado\n",
    "\n",
    "def espar(numero:int)->bool:\n",
    "    if numero%2==0:\n",
    "        resultado=True\n",
    "    else:\n",
    "        resultado=False\n",
    "    return resultado\n",
    "\n",
    "def clasificar_chocolate(codigo:int)->str:\n",
    "    if palidromo(codigo):\n",
    "        if espar(codigo):\n",
    "            resultado=\"SWEET\"\n",
    "        else:\n",
    "            resultado=\"BITTER\"\n",
    "    else:\n",
    "        if espar(codigo):\n",
    "            resultado=\"CINNAMON\"\n",
    "        else:\n",
    "            resultado=\"LIGHT\"\n",
    "    return resultado\n",
    "\n",
    "print(clasificar_chocolate(123))\n",
    "print(clasificar_chocolate(222))\n",
    "print(clasificar_chocolate(111))\n",
    "print(clasificar_chocolate(505))\n",
    "print(clasificar_chocolate(576))\n",
    "    "
   ]
  },
  {
   "cell_type": "code",
   "execution_count": 2,
   "id": "3c039efc",
   "metadata": {},
   "outputs": [
    {
     "name": "stdout",
     "output_type": "stream",
     "text": [
      "El carro no tiene gasolina\n"
     ]
    }
   ],
   "source": [
    "x=0 #Automovil tiene gasolina; si X=0 el automovil no tiene gasolina\n",
    "# if, for, while\n",
    "if x==1:\n",
    "    print(\"El carro tiene gasolina y puedo viajar\")\n",
    "else:\n",
    "    print(\"El carro no tiene gasolina\")"
   ]
  },
  {
   "cell_type": "code",
   "execution_count": 3,
   "id": "5558c949",
   "metadata": {},
   "outputs": [
    {
     "name": "stdout",
     "output_type": "stream",
     "text": [
      "10\n",
      "Hola\n"
     ]
    }
   ],
   "source": [
    "var=10\n",
    "VAR=\"Hola\"\n",
    "print(var)\n",
    "print(VAR)"
   ]
  },
  {
   "cell_type": "code",
   "execution_count": 6,
   "id": "c90b1002",
   "metadata": {},
   "outputs": [
    {
     "name": "stdout",
     "output_type": "stream",
     "text": [
      "<class 'bool'>\n",
      "<class 'bool'>\n",
      "9\n",
      "0\n"
     ]
    }
   ],
   "source": [
    "verdadero=True\n",
    "Falso=False \n",
    "\n",
    "print(type(verdadero))\n",
    "print(type(Falso))\n",
    "\n",
    "var1=verdadero*9\n",
    "var2=Falso*9\n",
    "print(var1)\n",
    "print(var2)"
   ]
  },
  {
   "cell_type": "code",
   "execution_count": 7,
   "id": "e1ef92e0",
   "metadata": {},
   "outputs": [
    {
     "data": {
      "text/plain": [
       "True"
      ]
     },
     "execution_count": 7,
     "metadata": {},
     "output_type": "execute_result"
    }
   ],
   "source": [
    "verdadero>Falso"
   ]
  },
  {
   "cell_type": "code",
   "execution_count": 10,
   "id": "a82c1a3d",
   "metadata": {},
   "outputs": [
    {
     "data": {
      "text/plain": [
       "False"
      ]
     },
     "execution_count": 10,
     "metadata": {},
     "output_type": "execute_result"
    }
   ],
   "source": [
    "not verdadero"
   ]
  },
  {
   "cell_type": "code",
   "execution_count": 11,
   "id": "10b9fa1e",
   "metadata": {},
   "outputs": [
    {
     "data": {
      "text/plain": [
       "True"
      ]
     },
     "execution_count": 11,
     "metadata": {},
     "output_type": "execute_result"
    }
   ],
   "source": [
    "not Falso"
   ]
  },
  {
   "cell_type": "code",
   "execution_count": 9,
   "id": "a31a57d3",
   "metadata": {},
   "outputs": [
    {
     "data": {
      "text/plain": [
       "False"
      ]
     },
     "execution_count": 9,
     "metadata": {},
     "output_type": "execute_result"
    }
   ],
   "source": [
    "Falso>verdadero"
   ]
  },
  {
   "cell_type": "markdown",
   "id": "ef7d175c",
   "metadata": {},
   "source": [
    "# Conjuncion\n",
    "\n",
    " Estoy vivo y me llamo Jhonnyer\n",
    "   TRUE      and     TRUE   => True\n",
    "  \n",
    " Estoy muerto y me llamo Jhonnyer\n",
    "     False   and    True    => False\n",
    "    \n",
    "# Disyuncion\n",
    "\n",
    " Estoy vivo o me llamo Jhonnyer\n",
    "   TRUE      and     TRUE   => True\n",
    "   \n",
    " Estoy vivo o me llamo Juan\n",
    "   True     o     False  => True\n",
    "   \n",
    "  No estoy vivo o me llamo Jhonnyer \n",
    "      False     o     True    => True"
   ]
  },
  {
   "cell_type": "markdown",
   "id": "cf1948dc",
   "metadata": {},
   "source": [
    "p: Te regalo flores\n",
    "q: Te regalo dulces\n",
    "    \n",
    "Comb 1: \n",
    "    Te regalo flores y dulces\n",
    "Comb 2: \n",
    "    Te regalo flores y no dulces\n",
    "Comb 3: \n",
    "    No te regalo flores y si dulces\n",
    "Comb 4:\n",
    "    No te regalo flores ni dulces"
   ]
  },
  {
   "cell_type": "code",
   "execution_count": null,
   "id": "98c51df9",
   "metadata": {},
   "outputs": [],
   "source": [
    "2¹=2\n",
    "0 1\n",
    "1 0\n",
    "\n",
    "2²=4 \n",
    "\n",
    "0 0 \n",
    "0 1\n",
    "1 0\n",
    "1 1 "
   ]
  },
  {
   "cell_type": "code",
   "execution_count": 13,
   "id": "332b364b",
   "metadata": {},
   "outputs": [
    {
     "data": {
      "text/plain": [
       "False"
      ]
     },
     "execution_count": 13,
     "metadata": {},
     "output_type": "execute_result"
    }
   ],
   "source": [
    "A=False\n",
    "A and True"
   ]
  },
  {
   "cell_type": "code",
   "execution_count": 16,
   "id": "8b54314f",
   "metadata": {},
   "outputs": [
    {
     "data": {
      "text/plain": [
       "False"
      ]
     },
     "execution_count": 16,
     "metadata": {},
     "output_type": "execute_result"
    }
   ],
   "source": [
    "A=True\n",
    "A and False"
   ]
  },
  {
   "cell_type": "code",
   "execution_count": 15,
   "id": "c46ad374",
   "metadata": {},
   "outputs": [
    {
     "data": {
      "text/plain": [
       "False"
      ]
     },
     "execution_count": 15,
     "metadata": {},
     "output_type": "execute_result"
    }
   ],
   "source": [
    "A=False\n",
    "A or False"
   ]
  },
  {
   "cell_type": "code",
   "execution_count": 17,
   "id": "92f1101c",
   "metadata": {},
   "outputs": [
    {
     "data": {
      "text/plain": [
       "False"
      ]
     },
     "execution_count": 17,
     "metadata": {},
     "output_type": "execute_result"
    }
   ],
   "source": [
    "A=True\n",
    "not A\n"
   ]
  },
  {
   "cell_type": "code",
   "execution_count": 18,
   "id": "2a343c44",
   "metadata": {},
   "outputs": [
    {
     "data": {
      "text/plain": [
       "True"
      ]
     },
     "execution_count": 18,
     "metadata": {},
     "output_type": "execute_result"
    }
   ],
   "source": [
    "A=False\n",
    "not A"
   ]
  },
  {
   "cell_type": "code",
   "execution_count": 21,
   "id": "d5789f8d",
   "metadata": {},
   "outputs": [
    {
     "data": {
      "text/plain": [
       "False"
      ]
     },
     "execution_count": 21,
     "metadata": {},
     "output_type": "execute_result"
    }
   ],
   "source": [
    "not (not A)"
   ]
  },
  {
   "cell_type": "markdown",
   "id": "73dba9f6",
   "metadata": {},
   "source": [
    "# Reducir esta expresion utilizando leyes de morgan y leyes fundamentales del algebra boleana\n",
    "\n",
    "p∧¬(q∨¬p) \n",
    "\n",
    "# Ley de morgan\n",
    "p∧(¬q∧p)\n",
    "\n",
    "# Ley conmutativa\n",
    "p∧(p∧¬q)\n",
    "\n",
    "# Ley asociativa\n",
    "(p∧p)¬q\n",
    "# Ley de identidad de la conjuncion \n",
    "\n",
    "### Respuesta\n",
    "p∧¬q   \n"
   ]
  },
  {
   "cell_type": "code",
   "execution_count": 22,
   "id": "6e7a524f",
   "metadata": {},
   "outputs": [
    {
     "data": {
      "text/plain": [
       "True"
      ]
     },
     "execution_count": 22,
     "metadata": {},
     "output_type": "execute_result"
    }
   ],
   "source": [
    "A=True\n",
    "\n",
    "A and A"
   ]
  },
  {
   "cell_type": "code",
   "execution_count": 23,
   "id": "9f7f2565",
   "metadata": {},
   "outputs": [
    {
     "data": {
      "text/plain": [
       "True"
      ]
     },
     "execution_count": 23,
     "metadata": {},
     "output_type": "execute_result"
    }
   ],
   "source": [
    "x=9\n",
    "x>0 "
   ]
  },
  {
   "cell_type": "code",
   "execution_count": 24,
   "id": "26153c03",
   "metadata": {},
   "outputs": [
    {
     "data": {
      "text/plain": [
       "True"
      ]
     },
     "execution_count": 24,
     "metadata": {},
     "output_type": "execute_result"
    }
   ],
   "source": [
    "x<10"
   ]
  },
  {
   "cell_type": "code",
   "execution_count": 26,
   "id": "f1aa6394",
   "metadata": {},
   "outputs": [
    {
     "data": {
      "text/plain": [
       "True"
      ]
     },
     "execution_count": 26,
     "metadata": {},
     "output_type": "execute_result"
    }
   ],
   "source": [
    "x>0 and x<10\n",
    "#True and True "
   ]
  },
  {
   "cell_type": "code",
   "execution_count": 27,
   "id": "51e15c12",
   "metadata": {},
   "outputs": [
    {
     "data": {
      "text/plain": [
       "False"
      ]
     },
     "execution_count": 27,
     "metadata": {},
     "output_type": "execute_result"
    }
   ],
   "source": [
    "x=11\n",
    "x>0 and x<10\n",
    "#True and False => False "
   ]
  },
  {
   "cell_type": "code",
   "execution_count": 28,
   "id": "4ccd0d70",
   "metadata": {},
   "outputs": [
    {
     "data": {
      "text/plain": [
       "False"
      ]
     },
     "execution_count": 28,
     "metadata": {},
     "output_type": "execute_result"
    }
   ],
   "source": [
    "n=11\n",
    "n%2==0 or n%3==0\n",
    "# False or False => False"
   ]
  },
  {
   "cell_type": "code",
   "execution_count": 30,
   "id": "45acc774",
   "metadata": {},
   "outputs": [
    {
     "data": {
      "text/plain": [
       "True"
      ]
     },
     "execution_count": 30,
     "metadata": {},
     "output_type": "execute_result"
    }
   ],
   "source": [
    "#Disyuncion, al menos una condicion fue verdadera o True\n",
    "n=10\n",
    "n%2==0 or n%3==0\n",
    "# True or False => True "
   ]
  },
  {
   "cell_type": "code",
   "execution_count": 29,
   "id": "33df9433",
   "metadata": {},
   "outputs": [
    {
     "data": {
      "text/plain": [
       "True"
      ]
     },
     "execution_count": 29,
     "metadata": {},
     "output_type": "execute_result"
    }
   ],
   "source": [
    "#Disyuncion, al menos una condicion fue verdadera o True\n",
    "n=18\n",
    "n%2==0 or n%3==0\n",
    "# True or True => True "
   ]
  },
  {
   "cell_type": "code",
   "execution_count": 33,
   "id": "bae70d4e",
   "metadata": {},
   "outputs": [
    {
     "data": {
      "text/plain": [
       "False"
      ]
     },
     "execution_count": 33,
     "metadata": {},
     "output_type": "execute_result"
    }
   ],
   "source": [
    "x=1\n",
    "y=5\n",
    "\n",
    "x>y"
   ]
  },
  {
   "cell_type": "code",
   "execution_count": 34,
   "id": "6c0fb0b4",
   "metadata": {},
   "outputs": [
    {
     "data": {
      "text/plain": [
       "True"
      ]
     },
     "execution_count": 34,
     "metadata": {},
     "output_type": "execute_result"
    }
   ],
   "source": [
    "not(x>y)"
   ]
  },
  {
   "cell_type": "code",
   "execution_count": 35,
   "id": "7a6ad16f",
   "metadata": {},
   "outputs": [
    {
     "data": {
      "text/plain": [
       "True"
      ]
     },
     "execution_count": 35,
     "metadata": {},
     "output_type": "execute_result"
    }
   ],
   "source": [
    "17 and True"
   ]
  },
  {
   "cell_type": "code",
   "execution_count": 37,
   "id": "e94da49c",
   "metadata": {},
   "outputs": [
    {
     "name": "stdout",
     "output_type": "stream",
     "text": [
      "9\n",
      "0\n"
     ]
    },
    {
     "data": {
      "text/plain": [
       "True"
      ]
     },
     "execution_count": 37,
     "metadata": {},
     "output_type": "execute_result"
    }
   ],
   "source": [
    "A=True\n",
    "B=False\n",
    "print(A*9)\n",
    "print(B*9)\n",
    "\n",
    "A>B"
   ]
  },
  {
   "cell_type": "code",
   "execution_count": 38,
   "id": "6356093b",
   "metadata": {},
   "outputs": [
    {
     "data": {
      "text/plain": [
       "False"
      ]
     },
     "execution_count": 38,
     "metadata": {},
     "output_type": "execute_result"
    }
   ],
   "source": [
    "B>A"
   ]
  },
  {
   "cell_type": "code",
   "execution_count": 39,
   "id": "7bf10134",
   "metadata": {},
   "outputs": [
    {
     "data": {
      "text/plain": [
       "True"
      ]
     },
     "execution_count": 39,
     "metadata": {},
     "output_type": "execute_result"
    }
   ],
   "source": [
    "x=6\n",
    "y=2\n",
    "x>=2 and (x/y)>2"
   ]
  },
  {
   "cell_type": "code",
   "execution_count": 40,
   "id": "7e731b35",
   "metadata": {},
   "outputs": [
    {
     "data": {
      "text/plain": [
       "False"
      ]
     },
     "execution_count": 40,
     "metadata": {},
     "output_type": "execute_result"
    }
   ],
   "source": [
    "x=1\n",
    "y=2\n",
    "x>=2 and (x/y)>2\n",
    "#False "
   ]
  },
  {
   "cell_type": "code",
   "execution_count": 41,
   "id": "7729355d",
   "metadata": {},
   "outputs": [
    {
     "ename": "ZeroDivisionError",
     "evalue": "division by zero",
     "output_type": "error",
     "traceback": [
      "\u001b[0;31m---------------------------------------------------------------------------\u001b[0m",
      "\u001b[0;31mZeroDivisionError\u001b[0m                         Traceback (most recent call last)",
      "\u001b[0;32m<ipython-input-41-73706a330178>\u001b[0m in \u001b[0;36m<module>\u001b[0;34m\u001b[0m\n\u001b[1;32m      1\u001b[0m \u001b[0mx\u001b[0m\u001b[0;34m=\u001b[0m\u001b[0;36m6\u001b[0m\u001b[0;34m\u001b[0m\u001b[0;34m\u001b[0m\u001b[0m\n\u001b[1;32m      2\u001b[0m \u001b[0my\u001b[0m\u001b[0;34m=\u001b[0m\u001b[0;36m0\u001b[0m\u001b[0;34m\u001b[0m\u001b[0;34m\u001b[0m\u001b[0m\n\u001b[0;32m----> 3\u001b[0;31m \u001b[0mx\u001b[0m\u001b[0;34m>=\u001b[0m\u001b[0;36m2\u001b[0m \u001b[0;32mand\u001b[0m \u001b[0;34m(\u001b[0m\u001b[0mx\u001b[0m\u001b[0;34m/\u001b[0m\u001b[0my\u001b[0m\u001b[0;34m)\u001b[0m\u001b[0;34m>\u001b[0m\u001b[0;36m2\u001b[0m\u001b[0;34m\u001b[0m\u001b[0;34m\u001b[0m\u001b[0m\n\u001b[0m\u001b[1;32m      4\u001b[0m \u001b[0;31m#True and ERROR\u001b[0m\u001b[0;34m\u001b[0m\u001b[0;34m\u001b[0m\u001b[0;34m\u001b[0m\u001b[0m\n",
      "\u001b[0;31mZeroDivisionError\u001b[0m: division by zero"
     ]
    }
   ],
   "source": [
    "x=6\n",
    "y=0\n",
    "x>=2 and (x/y)>2\n",
    "#True and ERROR "
   ]
  },
  {
   "cell_type": "code",
   "execution_count": 65,
   "id": "576b6f16",
   "metadata": {},
   "outputs": [
    {
     "data": {
      "text/plain": [
       "False"
      ]
     },
     "execution_count": 65,
     "metadata": {},
     "output_type": "execute_result"
    }
   ],
   "source": [
    "#Ejemplo uso de patron guardian\n",
    "x=6\n",
    "y=0\n",
    "x>=2 and y!=0 and (x/y)>2\n",
    "#True and False "
   ]
  },
  {
   "cell_type": "code",
   "execution_count": 59,
   "id": "099d3a40",
   "metadata": {},
   "outputs": [
    {
     "data": {
      "text/plain": [
       "False"
      ]
     },
     "execution_count": 59,
     "metadata": {},
     "output_type": "execute_result"
    }
   ],
   "source": [
    "#EJemplo patron guardian\n",
    "x=1\n",
    "y=0\n",
    "x>=2 and y!=0 and (x/y)>2\n",
    "#False"
   ]
  },
  {
   "cell_type": "code",
   "execution_count": 45,
   "id": "2d201889",
   "metadata": {},
   "outputs": [
    {
     "ename": "ZeroDivisionError",
     "evalue": "division by zero",
     "output_type": "error",
     "traceback": [
      "\u001b[0;31m---------------------------------------------------------------------------\u001b[0m",
      "\u001b[0;31mZeroDivisionError\u001b[0m                         Traceback (most recent call last)",
      "\u001b[0;32m<ipython-input-45-37712fd37929>\u001b[0m in \u001b[0;36m<module>\u001b[0;34m\u001b[0m\n\u001b[1;32m      2\u001b[0m \u001b[0mx\u001b[0m\u001b[0;34m=\u001b[0m\u001b[0;36m6\u001b[0m\u001b[0;34m\u001b[0m\u001b[0;34m\u001b[0m\u001b[0m\n\u001b[1;32m      3\u001b[0m \u001b[0my\u001b[0m\u001b[0;34m=\u001b[0m\u001b[0;36m0\u001b[0m\u001b[0;34m\u001b[0m\u001b[0;34m\u001b[0m\u001b[0m\n\u001b[0;32m----> 4\u001b[0;31m \u001b[0mx\u001b[0m\u001b[0;34m>=\u001b[0m\u001b[0;36m2\u001b[0m \u001b[0;32mand\u001b[0m \u001b[0;34m(\u001b[0m\u001b[0mx\u001b[0m\u001b[0;34m/\u001b[0m\u001b[0my\u001b[0m\u001b[0;34m)\u001b[0m\u001b[0;34m>\u001b[0m\u001b[0;36m2\u001b[0m \u001b[0;32mand\u001b[0m \u001b[0my\u001b[0m\u001b[0;34m!=\u001b[0m\u001b[0;36m0\u001b[0m\u001b[0;34m\u001b[0m\u001b[0;34m\u001b[0m\u001b[0m\n\u001b[0m\u001b[1;32m      5\u001b[0m \u001b[0;31m#True and ERROR\u001b[0m\u001b[0;34m\u001b[0m\u001b[0;34m\u001b[0m\u001b[0;34m\u001b[0m\u001b[0m\n",
      "\u001b[0;31mZeroDivisionError\u001b[0m: division by zero"
     ]
    }
   ],
   "source": [
    "#PATRON GUARDIAN EN UNA MALA POSICION\n",
    "x=6\n",
    "y=0\n",
    "x>=2 and (x/y)>2 and y!=0 \n",
    "#True and ERROR"
   ]
  },
  {
   "cell_type": "code",
   "execution_count": 52,
   "id": "497d424b",
   "metadata": {},
   "outputs": [
    {
     "data": {
      "text/plain": [
       "False"
      ]
     },
     "execution_count": 52,
     "metadata": {},
     "output_type": "execute_result"
    }
   ],
   "source": [
    "x=1\n",
    "x>1 and x<10"
   ]
  },
  {
   "cell_type": "code",
   "execution_count": 57,
   "id": "e1bef827",
   "metadata": {},
   "outputs": [
    {
     "name": "stdout",
     "output_type": "stream",
     "text": [
      "Ingrese un valor a retirar: 1000\n"
     ]
    },
    {
     "data": {
      "text/plain": [
       "True"
      ]
     },
     "execution_count": 57,
     "metadata": {},
     "output_type": "execute_result"
    }
   ],
   "source": [
    "cajero=100000\n",
    "cuenta=20000\n",
    "val_ret=int(input(\"Ingrese un valor a retirar: \"))\n",
    "cajero>=20000 and cuenta>=20000 and val_ret!=0 and val_ret<=cuenta"
   ]
  },
  {
   "cell_type": "code",
   "execution_count": 75,
   "id": "d5e8d634",
   "metadata": {},
   "outputs": [
    {
     "data": {
      "text/plain": [
       "False"
      ]
     },
     "execution_count": 75,
     "metadata": {},
     "output_type": "execute_result"
    }
   ],
   "source": [
    "#Ejemplo uso de patron guardian\n",
    "x=6\n",
    "y=0\n",
    "# y!=0 and (x/y)=2 and x>=2\n",
    "y>0 and (x/y)>2\n",
    "#True and False"
   ]
  },
  {
   "cell_type": "code",
   "execution_count": 74,
   "id": "61d5771e",
   "metadata": {},
   "outputs": [
    {
     "data": {
      "text/plain": [
       "False"
      ]
     },
     "execution_count": 74,
     "metadata": {},
     "output_type": "execute_result"
    }
   ],
   "source": [
    "x=6\n",
    "y=0\n",
    "y>0 and (x/y)>2 and x>=2"
   ]
  },
  {
   "cell_type": "code",
   "execution_count": 76,
   "id": "d76df975",
   "metadata": {},
   "outputs": [
    {
     "name": "stdout",
     "output_type": "stream",
     "text": [
      "LIGHT\n",
      "SWEET\n",
      "BITTER\n",
      "BITTER\n",
      "CINNAMON\n"
     ]
    }
   ],
   "source": [
    "# numero palindromo 121\n",
    "def palidromo(numero:int)->bool:\n",
    "    resultado=''\n",
    "    centena=numero//100\n",
    "    decena=(numero-centena*100)//10\n",
    "    unidad=numero-centena*100-decena*10\n",
    "    if centena==unidad:\n",
    "        resultado=True\n",
    "    else:\n",
    "        resultado==False\n",
    "    #print(resultado)\n",
    "    return resultado\n",
    "\n",
    "def espar(numero:int)->bool:\n",
    "    if numero%2==0:\n",
    "        resultado=True\n",
    "    else:\n",
    "        resultado=False\n",
    "    return resultado\n",
    "\n",
    "def clasificar_chocolate(codigo:int)->str:\n",
    "    if palidromo(codigo):\n",
    "        if espar(codigo):\n",
    "            resultado=\"SWEET\"\n",
    "        else:\n",
    "            resultado=\"BITTER\"\n",
    "    else:\n",
    "        if espar(codigo):\n",
    "            resultado=\"CINNAMON\"\n",
    "        else:\n",
    "            resultado=\"LIGHT\"\n",
    "    return resultado\n",
    "\n",
    "print(clasificar_chocolate(123))\n",
    "print(clasificar_chocolate(222))\n",
    "print(clasificar_chocolate(111))\n",
    "print(clasificar_chocolate(505))\n",
    "print(clasificar_chocolate(576))\n",
    "    "
   ]
  }
 ],
 "metadata": {
  "kernelspec": {
   "display_name": "Python 3",
   "language": "python",
   "name": "python3"
  },
  "language_info": {
   "codemirror_mode": {
    "name": "ipython",
    "version": 3
   },
   "file_extension": ".py",
   "mimetype": "text/x-python",
   "name": "python",
   "nbconvert_exporter": "python",
   "pygments_lexer": "ipython3",
   "version": "3.9.1"
  }
 },
 "nbformat": 4,
 "nbformat_minor": 5
}
