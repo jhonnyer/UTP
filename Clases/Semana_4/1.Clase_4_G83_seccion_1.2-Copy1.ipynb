{
 "cells": [
  {
   "cell_type": "code",
   "execution_count": 1,
   "id": "16ad98a5",
   "metadata": {},
   "outputs": [
    {
     "name": "stdout",
     "output_type": "stream",
     "text": [
      "Hola mundo\n",
      "1\n",
      "1.2\n",
      "12\n"
     ]
    }
   ],
   "source": [
    "print(\"Hola mundo\")\n",
    "print(1)\n",
    "print(1.2)\n",
    "var=12\n",
    "print(var)"
   ]
  },
  {
   "cell_type": "code",
   "execution_count": 2,
   "id": "a8e3496b",
   "metadata": {},
   "outputs": [
    {
     "name": "stdout",
     "output_type": "stream",
     "text": [
      "50\n",
      "10\n"
     ]
    }
   ],
   "source": [
    "var1=10\n",
    "var2=20\n",
    "var3=30\n",
    "var4=50\n",
    "maximo=max(var1,var2,var3,var4)\n",
    "print(maximo)\n",
    "\n",
    "minimo=min(var1,var2,var3,var4)\n",
    "print(minimo)"
   ]
  },
  {
   "cell_type": "code",
   "execution_count": 3,
   "id": "61d5d4c8",
   "metadata": {},
   "outputs": [
    {
     "name": "stdout",
     "output_type": "stream",
     "text": [
      "110\n",
      "200\n"
     ]
    }
   ],
   "source": [
    "var1=10\n",
    "var2=20\n",
    "var3=30\n",
    "var4=50\n",
    "suma=sum((var1,var2,var3,var4))\n",
    "print(suma)\n",
    "suma=suma+90\n",
    "print(suma)"
   ]
  },
  {
   "cell_type": "code",
   "execution_count": 4,
   "id": "c1bc48eb",
   "metadata": {
    "scrolled": true
   },
   "outputs": [
    {
     "name": "stdout",
     "output_type": "stream",
     "text": [
      "range(0, 5)\n"
     ]
    }
   ],
   "source": [
    "x=range(5)\n",
    "print(x)"
   ]
  },
  {
   "cell_type": "code",
   "execution_count": 5,
   "id": "eb3869b3",
   "metadata": {},
   "outputs": [
    {
     "name": "stdout",
     "output_type": "stream",
     "text": [
      "range(0, 5)\n"
     ]
    },
    {
     "data": {
      "text/plain": [
       "5"
      ]
     },
     "execution_count": 5,
     "metadata": {},
     "output_type": "execute_result"
    }
   ],
   "source": [
    "x=range(0,5)\n",
    "print(x)\n",
    "len(x)"
   ]
  },
  {
   "cell_type": "code",
   "execution_count": 6,
   "id": "8af39d72",
   "metadata": {},
   "outputs": [
    {
     "data": {
      "text/plain": [
       "10"
      ]
     },
     "execution_count": 6,
     "metadata": {},
     "output_type": "execute_result"
    }
   ],
   "source": [
    "cad=\"Hola mundo\"\n",
    "len(cad)\n"
   ]
  },
  {
   "cell_type": "code",
   "execution_count": 13,
   "id": "d6d94e6c",
   "metadata": {},
   "outputs": [
    {
     "name": "stdout",
     "output_type": "stream",
     "text": [
      "Hola\n",
      "30\n"
     ]
    }
   ],
   "source": [
    "def prueba1():\n",
    "    print(\"Hola\")\n",
    "    a=10+20\n",
    "    return a\n",
    "\n",
    "a=prueba1()\n",
    "print(a)"
   ]
  },
  {
   "cell_type": "code",
   "execution_count": 16,
   "id": "928183f8",
   "metadata": {},
   "outputs": [
    {
     "name": "stdout",
     "output_type": "stream",
     "text": [
      "hola\n",
      "None\n"
     ]
    }
   ],
   "source": [
    "def prueba():\n",
    "    print(\"hola\")\n",
    "#     return 10\n",
    "\n",
    "a=prueba()\n",
    "print(a)"
   ]
  },
  {
   "cell_type": "code",
   "execution_count": 17,
   "id": "8e8a1a8b",
   "metadata": {},
   "outputs": [
    {
     "name": "stdout",
     "output_type": "stream",
     "text": [
      "10\n",
      "Hola\n"
     ]
    }
   ],
   "source": [
    "var=10\n",
    "VAR=\"Hola\"\n",
    "print(var)\n",
    "print(VAR)"
   ]
  },
  {
   "cell_type": "code",
   "execution_count": 22,
   "id": "d64a0638",
   "metadata": {},
   "outputs": [
    {
     "name": "stdout",
     "output_type": "stream",
     "text": [
      "12\n",
      "24\n"
     ]
    }
   ],
   "source": [
    "#Definicion funcion con parametros y argumentos\n",
    "def suma(par1,par2):\n",
    "    #funcion que suma dos numeros\n",
    "    suma=par1+par2\n",
    "    return suma\n",
    "\n",
    "a=suma(2,10)\n",
    "print(a)\n",
    "b=a*2\n",
    "print(b)"
   ]
  },
  {
   "cell_type": "code",
   "execution_count": 30,
   "id": "e33e2d98",
   "metadata": {},
   "outputs": [
    {
     "name": "stdout",
     "output_type": "stream",
     "text": [
      "La clase esta genial\n",
      "Python es lo máximo\n",
      "hola\n"
     ]
    }
   ],
   "source": [
    "def imprime_cosas():\n",
    "    print(\"La clase esta genial\")\n",
    "    print(\"Python es lo máximo\")\n",
    "    x=5\n",
    "    return \"hola\"\n",
    "    \n",
    "a=imprime_cosas()\n",
    "print(a)"
   ]
  },
  {
   "cell_type": "code",
   "execution_count": 31,
   "id": "f4e10905",
   "metadata": {},
   "outputs": [
    {
     "ename": "SyntaxError",
     "evalue": "invalid syntax (<ipython-input-31-6d55de9349db>, line 2)",
     "output_type": "error",
     "traceback": [
      "\u001b[0;36m  File \u001b[0;32m\"<ipython-input-31-6d55de9349db>\"\u001b[0;36m, line \u001b[0;32m2\u001b[0m\n\u001b[0;31m    1var=10\u001b[0m\n\u001b[0m     ^\u001b[0m\n\u001b[0;31mSyntaxError\u001b[0m\u001b[0;31m:\u001b[0m invalid syntax\n"
     ]
    }
   ],
   "source": [
    "#Declaracion variables incorrecta\n",
    "1var=10\n",
    "@var=10\n",
    "var 1=10\n",
    "var f=10\n",
    "var*1=23\n",
    "var-f=12\n",
    "\n"
   ]
  },
  {
   "cell_type": "code",
   "execution_count": 32,
   "id": "080125e6",
   "metadata": {},
   "outputs": [],
   "source": [
    "#Declaracion variables correcta\n",
    "var=10\n",
    "VAr=10\n",
    "var_1=10\n",
    "var_f=10\n",
    "var1=23\n",
    "varf=12"
   ]
  },
  {
   "cell_type": "code",
   "execution_count": 36,
   "id": "4a546397",
   "metadata": {},
   "outputs": [
    {
     "name": "stdout",
     "output_type": "stream",
     "text": [
      "La clase esta genial\n",
      "Python es lo máximo\n",
      "\n",
      "\n",
      "La clase esta genial\n",
      "Python es lo máximo\n",
      "La clase esta genial\n",
      "Python es lo máximo\n",
      "\n",
      "\n",
      "La clase esta genial\n",
      "Python es lo máximo\n"
     ]
    }
   ],
   "source": [
    "def repetir_funcion():\n",
    "    imprime_cosas()\n",
    "    print(\"\\n\") #Salto de linea\n",
    "    imprime_cosas()\n",
    "    \n",
    "repetir_funcion()\n",
    "repetir_funcion()"
   ]
  },
  {
   "cell_type": "code",
   "execution_count": 43,
   "id": "59b21cf1",
   "metadata": {},
   "outputs": [
    {
     "name": "stdout",
     "output_type": "stream",
     "text": [
      "La clase esta genial\n",
      "Python es lo máximo\n",
      "\n",
      "\n",
      "La clase esta genial\n",
      "Python es lo máximo\n",
      "25\n"
     ]
    }
   ],
   "source": [
    "# repetir_funcion()\n",
    "def imprime_cosas():\n",
    "    print(\"La clase esta genial\")\n",
    "    print(\"Python es lo máximo\")\n",
    "    x=5\n",
    "    return x\n",
    "\n",
    "def repetir_funcion():\n",
    "    a=imprime_cosas()\n",
    "    print(\"\\n\") #Salto de linea\n",
    "    sum1=a+10\n",
    "    b=imprime_cosas()\n",
    "    oper2=b*2\n",
    "    c=sum1+oper2\n",
    "    return c\n",
    "    \n",
    "d=repetir_funcion()\n",
    "print(d)"
   ]
  }
 ],
 "metadata": {
  "kernelspec": {
   "display_name": "Python 3",
   "language": "python",
   "name": "python3"
  },
  "language_info": {
   "codemirror_mode": {
    "name": "ipython",
    "version": 3
   },
   "file_extension": ".py",
   "mimetype": "text/x-python",
   "name": "python",
   "nbconvert_exporter": "python",
   "pygments_lexer": "ipython3",
   "version": "3.9.1"
  }
 },
 "nbformat": 4,
 "nbformat_minor": 5
}
