#!/usr/bin/env python3
# -*- coding: utf-8 -*-
"""
Created on Mon Aug 30 13:47:59 2021

@author: root
"""
#FUncion para hallar el area de un triangulo
def area(par1:float,par2:float)->float:
    area=(par1*par2)/2
    return area

#Variables externas de la funcion area
lado1=10.4
lado2=20.2

#Invocar funcion area, y pasar argumentos lado1 y lado2
#Var_ext es una variable externa que va  a almacenar el valor que la funcion area esta retornando
var_ext=area(lado1,lado2)
print(var_ext)