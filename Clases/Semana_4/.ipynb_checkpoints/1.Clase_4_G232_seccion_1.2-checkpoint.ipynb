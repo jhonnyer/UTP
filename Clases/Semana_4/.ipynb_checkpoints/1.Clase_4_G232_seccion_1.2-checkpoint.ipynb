{
 "cells": [
  {
   "cell_type": "code",
   "execution_count": 1,
   "id": "6686882a",
   "metadata": {},
   "outputs": [
    {
     "name": "stdout",
     "output_type": "stream",
     "text": [
      "Hola 'mundo'\n"
     ]
    }
   ],
   "source": [
    "print(\"Hola 'mundo'\")"
   ]
  },
  {
   "cell_type": "code",
   "execution_count": 2,
   "id": "5fdfc9f2",
   "metadata": {},
   "outputs": [
    {
     "name": "stdout",
     "output_type": "stream",
     "text": [
      "\"Hola\" mundo\n"
     ]
    }
   ],
   "source": [
    "print('\"Hola\" mundo')"
   ]
  },
  {
   "cell_type": "code",
   "execution_count": 3,
   "id": "e0286a19",
   "metadata": {},
   "outputs": [
    {
     "name": "stdout",
     "output_type": "stream",
     "text": [
      "500\n",
      "10\n"
     ]
    }
   ],
   "source": [
    "var1=10\n",
    "var2=30\n",
    "var3=120\n",
    "var4=500\n",
    "maximo=max(var1,var2,var3,var4)\n",
    "print(maximo)\n",
    "\n",
    "minimo=min(var1,var2,var3,var4)\n",
    "print(minimo)"
   ]
  },
  {
   "cell_type": "code",
   "execution_count": 10,
   "id": "18c5afe8",
   "metadata": {},
   "outputs": [
    {
     "name": "stdout",
     "output_type": "stream",
     "text": [
      "La letra mas grande es: \" u \"\n",
      "La letra mas pequeña es: \" a \"\n"
     ]
    }
   ],
   "source": [
    "cad=\"holamundo\"\n",
    "maxi=max(cad)\n",
    "print('La letra mas grande es: \"',maxi,'\"')\n",
    "\n",
    "mini=min(cad)\n",
    "print('La letra mas pequeña es: \"',mini,'\"')"
   ]
  },
  {
   "cell_type": "code",
   "execution_count": 11,
   "id": "e0a78f27",
   "metadata": {},
   "outputs": [
    {
     "name": "stdout",
     "output_type": "stream",
     "text": [
      "<class 'int'>\n",
      "<class 'float'>\n",
      "<class 'str'>\n"
     ]
    }
   ],
   "source": [
    "a=10\n",
    "b=1.2\n",
    "c=\"Hola\"\n",
    "print(type(a))\n",
    "print(type(b))\n",
    "print(type(c))"
   ]
  },
  {
   "cell_type": "code",
   "execution_count": 12,
   "id": "6821877c",
   "metadata": {},
   "outputs": [
    {
     "name": "stdout",
     "output_type": "stream",
     "text": [
      "Help on built-in function print in module builtins:\n",
      "\n",
      "print(...)\n",
      "    print(value, ..., sep=' ', end='\\n', file=sys.stdout, flush=False)\n",
      "    \n",
      "    Prints the values to a stream, or to sys.stdout by default.\n",
      "    Optional keyword arguments:\n",
      "    file:  a file-like object (stream); defaults to the current sys.stdout.\n",
      "    sep:   string inserted between values, default a space.\n",
      "    end:   string appended after the last value, default a newline.\n",
      "    flush: whether to forcibly flush the stream.\n",
      "\n"
     ]
    }
   ],
   "source": [
    "help(print)"
   ]
  },
  {
   "cell_type": "code",
   "execution_count": 18,
   "id": "02f0f805",
   "metadata": {},
   "outputs": [
    {
     "name": "stdout",
     "output_type": "stream",
     "text": [
      "660\n",
      "700\n",
      "710\n"
     ]
    }
   ],
   "source": [
    "#funcion suma\n",
    "var1=10\n",
    "var2=30\n",
    "var3=120\n",
    "var4=500\n",
    "suma=sum((var1,var2,var3,var4))\n",
    "print(suma)\n",
    "n=suma+40\n",
    "print(n)\n",
    "suma=suma+50\n",
    "print(suma)"
   ]
  },
  {
   "cell_type": "code",
   "execution_count": 19,
   "id": "0e1d2edb",
   "metadata": {},
   "outputs": [
    {
     "name": "stdout",
     "output_type": "stream",
     "text": [
      "range(0, 5)\n"
     ]
    }
   ],
   "source": [
    "x=range(0,5)\n",
    "print(x)"
   ]
  },
  {
   "cell_type": "code",
   "execution_count": 22,
   "id": "970a065c",
   "metadata": {},
   "outputs": [
    {
     "name": "stdout",
     "output_type": "stream",
     "text": [
      "range(0, 5)\n"
     ]
    },
    {
     "data": {
      "text/plain": [
       "5"
      ]
     },
     "execution_count": 22,
     "metadata": {},
     "output_type": "execute_result"
    }
   ],
   "source": [
    "x=range(0,5)\n",
    "print(x)\n",
    "len(x)"
   ]
  },
  {
   "cell_type": "code",
   "execution_count": 24,
   "id": "6320aa08",
   "metadata": {},
   "outputs": [
    {
     "data": {
      "text/plain": [
       "10"
      ]
     },
     "execution_count": 24,
     "metadata": {},
     "output_type": "execute_result"
    }
   ],
   "source": [
    "cad1=\"Hola mundo\"\n",
    "len(cad1)\n"
   ]
  },
  {
   "cell_type": "code",
   "execution_count": 25,
   "id": "c854c6f6",
   "metadata": {},
   "outputs": [
    {
     "ename": "SyntaxError",
     "evalue": "invalid syntax (<ipython-input-25-1ac6689760d8>, line 2)",
     "output_type": "error",
     "traceback": [
      "\u001b[0;36m  File \u001b[0;32m\"<ipython-input-25-1ac6689760d8>\"\u001b[0;36m, line \u001b[0;32m2\u001b[0m\n\u001b[0;31m    1Var=12\u001b[0m\n\u001b[0m     ^\u001b[0m\n\u001b[0;31mSyntaxError\u001b[0m\u001b[0;31m:\u001b[0m invalid syntax\n"
     ]
    }
   ],
   "source": [
    "#Definicion de una variable incorrecta\n",
    "1Var=12\n",
    "@var=12\n",
    "var 1=12\n",
    "var f=12\n",
    "var*1=12\n",
    "var+1=12\n",
    "var-v=12\n"
   ]
  },
  {
   "cell_type": "code",
   "execution_count": 30,
   "id": "9c3a2565",
   "metadata": {},
   "outputs": [
    {
     "name": "stdout",
     "output_type": "stream",
     "text": [
      "12\n",
      "1\n",
      "Constante\n",
      "12\n",
      "14\n"
     ]
    }
   ],
   "source": [
    "#declaracion variable correcta\n",
    "ca=12\n",
    "Ca=1\n",
    "print(ca)\n",
    "print(Ca)\n",
    "\n",
    "CONSTANTE=\"Constante\"\n",
    "print(CONSTANTE)\n",
    "\n",
    "va_1=12\n",
    "va_a=14\n",
    "print(va_1)\n",
    "print(va_a)"
   ]
  },
  {
   "cell_type": "code",
   "execution_count": 31,
   "id": "e7408e53",
   "metadata": {},
   "outputs": [
    {
     "ename": "IndentationError",
     "evalue": "expected an indented block (<ipython-input-31-42d8244bc97a>, line 2)",
     "output_type": "error",
     "traceback": [
      "\u001b[0;36m  File \u001b[0;32m\"<ipython-input-31-42d8244bc97a>\"\u001b[0;36m, line \u001b[0;32m2\u001b[0m\n\u001b[0;31m    return\u001b[0m\n\u001b[0m    ^\u001b[0m\n\u001b[0;31mIndentationError\u001b[0m\u001b[0;31m:\u001b[0m expected an indented block\n"
     ]
    }
   ],
   "source": [
    "def fun():\n",
    "return"
   ]
  },
  {
   "cell_type": "code",
   "execution_count": 80,
   "id": "5f07cdaf",
   "metadata": {},
   "outputs": [
    {
     "ename": "IndentationError",
     "evalue": "unexpected indent (<ipython-input-80-1e8fe0d6c84b>, line 6)",
     "output_type": "error",
     "traceback": [
      "\u001b[0;36m  File \u001b[0;32m\"<ipython-input-80-1e8fe0d6c84b>\"\u001b[0;36m, line \u001b[0;32m6\u001b[0m\n\u001b[0;31m    return par\u001b[0m\n\u001b[0m    ^\u001b[0m\n\u001b[0;31mIndentationError\u001b[0m\u001b[0;31m:\u001b[0m unexpected indent\n"
     ]
    }
   ],
   "source": [
    "#definicion de una funcion\n",
    "def fun(parametro1,parametro2):\n",
    "    #Funcion que suma dos numeros\n",
    "    par=parametro1+parametro2\n",
    "    print(\"hola\")\n",
    "    return par\n",
    "\n",
    "fun(2,4)\n",
    "resultado=fun(2,4)\n",
    "print(resultado)\n",
    "resultado=resultado*2\n",
    "print(resultado)"
   ]
  },
  {
   "cell_type": "code",
   "execution_count": 46,
   "id": "f2069de6",
   "metadata": {},
   "outputs": [
    {
     "name": "stdout",
     "output_type": "stream",
     "text": [
      "30\n"
     ]
    }
   ],
   "source": [
    "var1=10\n",
    "var2=20\n",
    "suma=fun(var1,var2)\n",
    "print(suma)"
   ]
  },
  {
   "cell_type": "code",
   "execution_count": 47,
   "id": "3fe80020",
   "metadata": {},
   "outputs": [
    {
     "name": "stdout",
     "output_type": "stream",
     "text": [
      "Hola mundo\n"
     ]
    }
   ],
   "source": [
    "suma=fun(\"Hola \",\"mundo\")\n",
    "print(suma)"
   ]
  },
  {
   "cell_type": "code",
   "execution_count": 37,
   "id": "fbecfff4",
   "metadata": {},
   "outputs": [
    {
     "ename": "NameError",
     "evalue": "name 'prueba' is not defined",
     "output_type": "error",
     "traceback": [
      "\u001b[0;31m---------------------------------------------------------------------------\u001b[0m",
      "\u001b[0;31mNameError\u001b[0m                                 Traceback (most recent call last)",
      "\u001b[0;32m<ipython-input-37-7ab89cd2bfcc>\u001b[0m in \u001b[0;36m<module>\u001b[0;34m\u001b[0m\n\u001b[0;32m----> 1\u001b[0;31m \u001b[0mprueba\u001b[0m\u001b[0;34m(\u001b[0m\u001b[0;34m)\u001b[0m\u001b[0;34m\u001b[0m\u001b[0;34m\u001b[0m\u001b[0m\n\u001b[0m",
      "\u001b[0;31mNameError\u001b[0m: name 'prueba' is not defined"
     ]
    }
   ],
   "source": [
    "prueba()"
   ]
  },
  {
   "cell_type": "code",
   "execution_count": 79,
   "id": "c44b9003",
   "metadata": {},
   "outputs": [
    {
     "name": "stdout",
     "output_type": "stream",
     "text": [
      "La clase esta genial\n",
      "Python es lo máximo\n",
      "20\n"
     ]
    }
   ],
   "source": [
    "#Funcion con retorno\n",
    "def imprime_cosas():\n",
    "    print(\"La clase esta genial\")\n",
    "    print(\"Python es lo máximo\")\n",
    "    c=10*2\n",
    "    return c\n",
    "\n",
    "var=imprime_cosas()\n",
    "print(var)"
   ]
  },
  {
   "cell_type": "markdown",
   "id": "594e5074",
   "metadata": {},
   "source": [
    "|________|\n",
    "0 1 2 3 4"
   ]
  }
 ],
 "metadata": {
  "kernelspec": {
   "display_name": "Python 3",
   "language": "python",
   "name": "python3"
  },
  "language_info": {
   "codemirror_mode": {
    "name": "ipython",
    "version": 3
   },
   "file_extension": ".py",
   "mimetype": "text/x-python",
   "name": "python",
   "nbconvert_exporter": "python",
   "pygments_lexer": "ipython3",
   "version": "3.9.1"
  }
 },
 "nbformat": 4,
 "nbformat_minor": 5
}
