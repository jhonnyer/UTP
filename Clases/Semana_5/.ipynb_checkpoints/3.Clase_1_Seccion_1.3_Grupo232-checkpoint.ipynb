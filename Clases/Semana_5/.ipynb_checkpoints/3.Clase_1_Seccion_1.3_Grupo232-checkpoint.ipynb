{
 "cells": [
  {
   "cell_type": "code",
   "execution_count": 10,
   "id": "6363c033",
   "metadata": {},
   "outputs": [
    {
     "name": "stdout",
     "output_type": "stream",
     "text": [
      "Tu puedes viajar\n"
     ]
    }
   ],
   "source": [
    "x=1\n",
    "# x=0 #No tiene gasolina\n",
    "if x==1:\n",
    "    print(\"Tu puedes viajar\")\n",
    "else: \n",
    "    print(\"No tienes gasolina, no puedes viajar\")"
   ]
  },
  {
   "cell_type": "code",
   "execution_count": 11,
   "id": "b2c542de",
   "metadata": {},
   "outputs": [
    {
     "data": {
      "text/plain": [
       "True"
      ]
     },
     "execution_count": 11,
     "metadata": {},
     "output_type": "execute_result"
    }
   ],
   "source": [
    "x==1"
   ]
  },
  {
   "cell_type": "code",
   "execution_count": 13,
   "id": "0b17bc17",
   "metadata": {},
   "outputs": [
    {
     "data": {
      "text/plain": [
       "False"
      ]
     },
     "execution_count": 13,
     "metadata": {},
     "output_type": "execute_result"
    }
   ],
   "source": [
    "x=True\n",
    "# x=False\n",
    "\n",
    "not True "
   ]
  },
  {
   "cell_type": "code",
   "execution_count": 7,
   "id": "8706d377",
   "metadata": {},
   "outputs": [
    {
     "name": "stdout",
     "output_type": "stream",
     "text": [
      "Help on built-in function print in module builtins:\n",
      "\n",
      "print(...)\n",
      "    print(value, ..., sep=' ', end='\\n', file=sys.stdout, flush=False)\n",
      "    \n",
      "    Prints the values to a stream, or to sys.stdout by default.\n",
      "    Optional keyword arguments:\n",
      "    file:  a file-like object (stream); defaults to the current sys.stdout.\n",
      "    sep:   string inserted between values, default a space.\n",
      "    end:   string appended after the last value, default a newline.\n",
      "    flush: whether to forcibly flush the stream.\n",
      "\n"
     ]
    }
   ],
   "source": [
    "help(print)"
   ]
  },
  {
   "cell_type": "code",
   "execution_count": 22,
   "id": "2099cdee",
   "metadata": {},
   "outputs": [
    {
     "data": {
      "text/plain": [
       "False"
      ]
     },
     "execution_count": 22,
     "metadata": {},
     "output_type": "execute_result"
    }
   ],
   "source": [
    "x=True \n",
    "y=False\n",
    "\n",
    "x==True and y==7"
   ]
  },
  {
   "cell_type": "code",
   "execution_count": 21,
   "id": "6457397d",
   "metadata": {},
   "outputs": [
    {
     "data": {
      "text/plain": [
       "True"
      ]
     },
     "execution_count": 21,
     "metadata": {},
     "output_type": "execute_result"
    }
   ],
   "source": [
    "x==4 or y==False"
   ]
  },
  {
   "cell_type": "code",
   "execution_count": 19,
   "id": "10147b9d",
   "metadata": {},
   "outputs": [
    {
     "data": {
      "text/plain": [
       "True"
      ]
     },
     "execution_count": 19,
     "metadata": {},
     "output_type": "execute_result"
    }
   ],
   "source": [
    "x==True or y==5"
   ]
  },
  {
   "cell_type": "code",
   "execution_count": 20,
   "id": "3e01b853",
   "metadata": {},
   "outputs": [
    {
     "data": {
      "text/plain": [
       "False"
      ]
     },
     "execution_count": 20,
     "metadata": {},
     "output_type": "execute_result"
    }
   ],
   "source": [
    "x==4 or y==8"
   ]
  },
  {
   "cell_type": "code",
   "execution_count": 23,
   "id": "965afb58",
   "metadata": {},
   "outputs": [
    {
     "name": "stdout",
     "output_type": "stream",
     "text": [
      "2\n"
     ]
    }
   ],
   "source": [
    "x=-(-2)\n",
    "print(x)"
   ]
  },
  {
   "cell_type": "code",
   "execution_count": 28,
   "id": "6f59df5e",
   "metadata": {},
   "outputs": [
    {
     "data": {
      "text/plain": [
       "True"
      ]
     },
     "execution_count": 28,
     "metadata": {},
     "output_type": "execute_result"
    }
   ],
   "source": [
    "# Identidad de la conjuncion\n",
    "a=True\n",
    "a and True"
   ]
  },
  {
   "cell_type": "code",
   "execution_count": 29,
   "id": "e4ce9c64",
   "metadata": {},
   "outputs": [
    {
     "data": {
      "text/plain": [
       "True"
      ]
     },
     "execution_count": 29,
     "metadata": {},
     "output_type": "execute_result"
    }
   ],
   "source": [
    "a and a "
   ]
  },
  {
   "cell_type": "markdown",
   "id": "3c63d519",
   "metadata": {},
   "source": [
    "# Redusca esta expresion \n",
    "### utilización de la ley de morgan\n",
    "p ^ -(q v -p)\n",
    "p ^ (-q ^ p)\n",
    "\n",
    "# Ley conmutativa\n",
    "\n",
    "p ^ (p ^ -q)\n",
    "\n",
    "# Ley asociativa\n",
    "(p ^ p) ^ -q\n",
    "\n",
    "# Ley de identidad de la conjuncion\n",
    "\n",
    "p ^ -q\n"
   ]
  },
  {
   "cell_type": "code",
   "execution_count": 31,
   "id": "db5308eb",
   "metadata": {},
   "outputs": [
    {
     "name": "stdout",
     "output_type": "stream",
     "text": [
      "True\n"
     ]
    },
    {
     "data": {
      "text/plain": [
       "3"
      ]
     },
     "execution_count": 31,
     "metadata": {},
     "output_type": "execute_result"
    }
   ],
   "source": [
    "x=True\n",
    "print(x)\n",
    "x*3"
   ]
  },
  {
   "cell_type": "code",
   "execution_count": 37,
   "id": "86b0d3a7",
   "metadata": {},
   "outputs": [
    {
     "name": "stdout",
     "output_type": "stream",
     "text": [
      "False\n"
     ]
    }
   ],
   "source": [
    "a=not x\n",
    "print(a)"
   ]
  },
  {
   "cell_type": "code",
   "execution_count": 32,
   "id": "ba4c74d9",
   "metadata": {},
   "outputs": [
    {
     "data": {
      "text/plain": [
       "0"
      ]
     },
     "execution_count": 32,
     "metadata": {},
     "output_type": "execute_result"
    }
   ],
   "source": [
    "y=False\n",
    "y*4"
   ]
  },
  {
   "cell_type": "code",
   "execution_count": 33,
   "id": "b0249b29",
   "metadata": {},
   "outputs": [
    {
     "data": {
      "text/plain": [
       "True"
      ]
     },
     "execution_count": 33,
     "metadata": {},
     "output_type": "execute_result"
    }
   ],
   "source": [
    "x or False "
   ]
  },
  {
   "cell_type": "code",
   "execution_count": 34,
   "id": "1e975744",
   "metadata": {},
   "outputs": [
    {
     "data": {
      "text/plain": [
       "False"
      ]
     },
     "execution_count": 34,
     "metadata": {},
     "output_type": "execute_result"
    }
   ],
   "source": [
    "x and False"
   ]
  },
  {
   "cell_type": "code",
   "execution_count": 35,
   "id": "1d16ef5d",
   "metadata": {},
   "outputs": [
    {
     "data": {
      "text/plain": [
       "True"
      ]
     },
     "execution_count": 35,
     "metadata": {},
     "output_type": "execute_result"
    }
   ],
   "source": [
    "y or True "
   ]
  },
  {
   "cell_type": "code",
   "execution_count": 39,
   "id": "8c504e35",
   "metadata": {},
   "outputs": [
    {
     "data": {
      "text/plain": [
       "True"
      ]
     },
     "execution_count": 39,
     "metadata": {},
     "output_type": "execute_result"
    }
   ],
   "source": [
    "# Operador de igualdad ==\n",
    "x=10\n",
    "y=10\n",
    "\n",
    "x==y"
   ]
  },
  {
   "cell_type": "code",
   "execution_count": 42,
   "id": "fe35a00d",
   "metadata": {},
   "outputs": [
    {
     "name": "stdout",
     "output_type": "stream",
     "text": [
      "True\n",
      "False\n"
     ]
    }
   ],
   "source": [
    "# Operador de  mayor que\n",
    "x=20\n",
    "y=10\n",
    "\n",
    "print(x>y)\n",
    "print(y>x)"
   ]
  },
  {
   "cell_type": "code",
   "execution_count": 43,
   "id": "98945a9b",
   "metadata": {},
   "outputs": [
    {
     "data": {
      "text/plain": [
       "True"
      ]
     },
     "execution_count": 43,
     "metadata": {},
     "output_type": "execute_result"
    }
   ],
   "source": [
    "# Operador de mayor o igual que ==\n",
    "x=10\n",
    "y=10\n",
    "\n",
    "x>=y"
   ]
  },
  {
   "cell_type": "code",
   "execution_count": 45,
   "id": "bd314ce6",
   "metadata": {},
   "outputs": [
    {
     "name": "stdout",
     "output_type": "stream",
     "text": [
      "False\n",
      "True\n"
     ]
    }
   ],
   "source": [
    "# Operador de menor o igual que ==\n",
    "x=20\n",
    "y=20\n",
    "\n",
    "print(x<y)\n",
    "print(x<=y)"
   ]
  },
  {
   "cell_type": "code",
   "execution_count": 47,
   "id": "4ecfb3ca",
   "metadata": {},
   "outputs": [
    {
     "data": {
      "text/plain": [
       "False"
      ]
     },
     "execution_count": 47,
     "metadata": {},
     "output_type": "execute_result"
    }
   ],
   "source": [
    "# Diferente de \n",
    "x=20\n",
    "y=20\n",
    "\n",
    "x != y"
   ]
  },
  {
   "cell_type": "code",
   "execution_count": 51,
   "id": "7566cdf5",
   "metadata": {},
   "outputs": [
    {
     "data": {
      "text/plain": [
       "False"
      ]
     },
     "execution_count": 51,
     "metadata": {},
     "output_type": "execute_result"
    }
   ],
   "source": [
    "# COnjuncion copulativa\n",
    "a=10\n",
    "b=20\n",
    "c=10\n",
    "\n",
    "a==b and a==c"
   ]
  },
  {
   "cell_type": "code",
   "execution_count": 52,
   "id": "cedcdc31",
   "metadata": {},
   "outputs": [
    {
     "data": {
      "text/plain": [
       "True"
      ]
     },
     "execution_count": 52,
     "metadata": {},
     "output_type": "execute_result"
    }
   ],
   "source": [
    "# Disyuncion  adversativa\n",
    "a=10\n",
    "b=20\n",
    "c=10\n",
    "\n",
    "a==b or a==c"
   ]
  },
  {
   "cell_type": "code",
   "execution_count": 53,
   "id": "34ed6ee2",
   "metadata": {},
   "outputs": [
    {
     "data": {
      "text/plain": [
       "True"
      ]
     },
     "execution_count": 53,
     "metadata": {},
     "output_type": "execute_result"
    }
   ],
   "source": [
    "x=9\n",
    "x>0 and x<10"
   ]
  },
  {
   "cell_type": "code",
   "execution_count": 57,
   "id": "07b10a1b",
   "metadata": {},
   "outputs": [
    {
     "data": {
      "text/plain": [
       "True"
      ]
     },
     "execution_count": 57,
     "metadata": {},
     "output_type": "execute_result"
    }
   ],
   "source": [
    "n=12\n",
    "n%2==0 or n%3==0\n"
   ]
  },
  {
   "cell_type": "code",
   "execution_count": 61,
   "id": "f1a2c75f",
   "metadata": {},
   "outputs": [
    {
     "data": {
      "text/plain": [
       "False"
      ]
     },
     "execution_count": 61,
     "metadata": {},
     "output_type": "execute_result"
    }
   ],
   "source": [
    "# True=0\n",
    "# False=0\n",
    "\n",
    "n=100\n",
    "not (100 and True)"
   ]
  },
  {
   "cell_type": "code",
   "execution_count": 71,
   "id": "1f2a5a7b",
   "metadata": {},
   "outputs": [
    {
     "data": {
      "text/plain": [
       "True"
      ]
     },
     "execution_count": 71,
     "metadata": {},
     "output_type": "execute_result"
    }
   ],
   "source": [
    "x=5\n",
    "y=2\n",
    "\n",
    "x>=2"
   ]
  },
  {
   "cell_type": "code",
   "execution_count": 72,
   "id": "1885bce1",
   "metadata": {},
   "outputs": [
    {
     "data": {
      "text/plain": [
       "True"
      ]
     },
     "execution_count": 72,
     "metadata": {},
     "output_type": "execute_result"
    }
   ],
   "source": [
    "x=5\n",
    "y=2\n",
    "(x/y)>2"
   ]
  },
  {
   "cell_type": "code",
   "execution_count": 73,
   "id": "708ea31f",
   "metadata": {},
   "outputs": [
    {
     "data": {
      "text/plain": [
       "True"
      ]
     },
     "execution_count": 73,
     "metadata": {},
     "output_type": "execute_result"
    }
   ],
   "source": [
    "x=10\n",
    "y=2\n",
    "x>=2 and (x/y)>2\n",
    "#True and True = TRUE"
   ]
  },
  {
   "cell_type": "code",
   "execution_count": 75,
   "id": "a069637e",
   "metadata": {},
   "outputs": [
    {
     "data": {
      "text/plain": [
       "False"
      ]
     },
     "execution_count": 75,
     "metadata": {},
     "output_type": "execute_result"
    }
   ],
   "source": [
    "x=1\n",
    "y=2\n",
    "x>=2 and (x/y)>2\n",
    "#False "
   ]
  },
  {
   "cell_type": "code",
   "execution_count": 77,
   "id": "ee17bcbe",
   "metadata": {},
   "outputs": [
    {
     "ename": "ZeroDivisionError",
     "evalue": "division by zero",
     "output_type": "error",
     "traceback": [
      "\u001b[0;31m---------------------------------------------------------------------------\u001b[0m",
      "\u001b[0;31mZeroDivisionError\u001b[0m                         Traceback (most recent call last)",
      "\u001b[0;32m<ipython-input-77-5eceb786ce61>\u001b[0m in \u001b[0;36m<module>\u001b[0;34m\u001b[0m\n\u001b[1;32m      1\u001b[0m \u001b[0mx\u001b[0m\u001b[0;34m=\u001b[0m\u001b[0;36m10\u001b[0m\u001b[0;34m\u001b[0m\u001b[0;34m\u001b[0m\u001b[0m\n\u001b[1;32m      2\u001b[0m \u001b[0my\u001b[0m\u001b[0;34m=\u001b[0m\u001b[0;36m0\u001b[0m\u001b[0;34m\u001b[0m\u001b[0;34m\u001b[0m\u001b[0m\n\u001b[0;32m----> 3\u001b[0;31m \u001b[0mx\u001b[0m\u001b[0;34m>=\u001b[0m\u001b[0;36m2\u001b[0m \u001b[0;32mand\u001b[0m \u001b[0;34m(\u001b[0m\u001b[0mx\u001b[0m\u001b[0;34m/\u001b[0m\u001b[0my\u001b[0m\u001b[0;34m)\u001b[0m\u001b[0;34m>\u001b[0m\u001b[0;36m2\u001b[0m\u001b[0;34m\u001b[0m\u001b[0;34m\u001b[0m\u001b[0m\n\u001b[0m\u001b[1;32m      4\u001b[0m \u001b[0;31m#True and ERROR\u001b[0m\u001b[0;34m\u001b[0m\u001b[0;34m\u001b[0m\u001b[0;34m\u001b[0m\u001b[0m\n",
      "\u001b[0;31mZeroDivisionError\u001b[0m: division by zero"
     ]
    }
   ],
   "source": [
    "x=10\n",
    "y=0\n",
    "x>=2 and (x/y)>2\n",
    "#True and ERROR "
   ]
  },
  {
   "cell_type": "code",
   "execution_count": 91,
   "id": "8e7842fe",
   "metadata": {},
   "outputs": [
    {
     "data": {
      "text/plain": [
       "False"
      ]
     },
     "execution_count": 91,
     "metadata": {},
     "output_type": "execute_result"
    }
   ],
   "source": [
    "#Utilizar patron guardian para solucionar ese error\n",
    "x=10\n",
    "y=0\n",
    "x>=2  and y>0 and (x/y)>2\n",
    "#True and  True and False"
   ]
  },
  {
   "cell_type": "code",
   "execution_count": 74,
   "id": "d301f405",
   "metadata": {},
   "outputs": [
    {
     "data": {
      "text/plain": [
       "False"
      ]
     },
     "execution_count": 74,
     "metadata": {},
     "output_type": "execute_result"
    }
   ],
   "source": [
    "x=1\n",
    "y=0\n",
    "x>=2 and y!=0 and (x/y)>2"
   ]
  },
  {
   "cell_type": "code",
   "execution_count": 65,
   "id": "e67d7659",
   "metadata": {},
   "outputs": [
    {
     "data": {
      "text/plain": [
       "False"
      ]
     },
     "execution_count": 65,
     "metadata": {},
     "output_type": "execute_result"
    }
   ],
   "source": [
    "#Patron guardian \n",
    "x=6\n",
    "y=0\n",
    "x>=2 and y!=0 and (x/y)>2"
   ]
  },
  {
   "cell_type": "code",
   "execution_count": 64,
   "id": "90d98209",
   "metadata": {},
   "outputs": [
    {
     "ename": "ZeroDivisionError",
     "evalue": "division by zero",
     "output_type": "error",
     "traceback": [
      "\u001b[0;31m---------------------------------------------------------------------------\u001b[0m",
      "\u001b[0;31mZeroDivisionError\u001b[0m                         Traceback (most recent call last)",
      "\u001b[0;32m<ipython-input-64-619cbf29f713>\u001b[0m in \u001b[0;36m<module>\u001b[0;34m\u001b[0m\n\u001b[1;32m      1\u001b[0m \u001b[0mx\u001b[0m\u001b[0;34m=\u001b[0m\u001b[0;36m6\u001b[0m\u001b[0;34m\u001b[0m\u001b[0;34m\u001b[0m\u001b[0m\n\u001b[1;32m      2\u001b[0m \u001b[0my\u001b[0m\u001b[0;34m=\u001b[0m\u001b[0;36m0\u001b[0m\u001b[0;34m\u001b[0m\u001b[0;34m\u001b[0m\u001b[0m\n\u001b[0;32m----> 3\u001b[0;31m \u001b[0mx\u001b[0m\u001b[0;34m>=\u001b[0m\u001b[0;36m2\u001b[0m \u001b[0;32mand\u001b[0m \u001b[0;34m(\u001b[0m\u001b[0mx\u001b[0m\u001b[0;34m/\u001b[0m\u001b[0my\u001b[0m\u001b[0;34m)\u001b[0m\u001b[0;34m>\u001b[0m\u001b[0;36m2\u001b[0m \u001b[0;32mand\u001b[0m \u001b[0my\u001b[0m\u001b[0;34m!=\u001b[0m\u001b[0;36m0\u001b[0m\u001b[0;34m\u001b[0m\u001b[0;34m\u001b[0m\u001b[0m\n\u001b[0m",
      "\u001b[0;31mZeroDivisionError\u001b[0m: division by zero"
     ]
    }
   ],
   "source": [
    "x=6\n",
    "y=0\n",
    "x>=2 and (x/y)>2 and y!=0"
   ]
  },
  {
   "cell_type": "code",
   "execution_count": 102,
   "id": "410b2127",
   "metadata": {},
   "outputs": [
    {
     "name": "stdout",
     "output_type": "stream",
     "text": [
      "1\n",
      "2\n",
      "3\n"
     ]
    }
   ],
   "source": [
    "#Ejemplo calculo centena, decena y unidad\n",
    "numero=123\n",
    "centena=numero//100\n",
    "print(centena)\n",
    "decena=(numero-centena*100)//10\n",
    "print(decena)\n",
    "unidad=numero-centena*100-decena*10\n",
    "print(unidad)"
   ]
  },
  {
   "cell_type": "code",
   "execution_count": 113,
   "id": "96190796",
   "metadata": {},
   "outputs": [
    {
     "name": "stdout",
     "output_type": "stream",
     "text": [
      "Calculo centena\n",
      "1\n",
      "Calculo decena\n",
      "23\n",
      "2\n",
      "Calculo unidad\n",
      "3\n"
     ]
    }
   ],
   "source": [
    "# Calculo centena \n",
    "print(\"Calculo centena\")\n",
    "print(123//100)\n",
    "#Calculo decena\n",
    "print(\"Calculo decena\")\n",
    "print(123-1*100)\n",
    "print((123-1*100)//10)\n",
    "#Calculo unidad\n",
    "print(\"Calculo unidad\")\n",
    "print(123-(1*100)-(2*10))"
   ]
  },
  {
   "cell_type": "code",
   "execution_count": 117,
   "id": "0472dbe7",
   "metadata": {},
   "outputs": [
    {
     "name": "stdout",
     "output_type": "stream",
     "text": [
      "LIGHT\n",
      "SWEET\n",
      "BITTER\n",
      "BITTER\n",
      "CINNAMON\n"
     ]
    }
   ],
   "source": [
    "def palidromo(numero:int)->bool:\n",
    "    resultado=''\n",
    "    centena=numero//100\n",
    "    decena=(numero-centena*100)//10\n",
    "    unidad=numero-centena*100-decena*10\n",
    "    if centena==unidad:\n",
    "        resultado=True\n",
    "    else:\n",
    "        resultado==False\n",
    "    #print(resultado)\n",
    "    return resultado\n",
    "\n",
    "def espar(numero:int)->bool:\n",
    "    if numero%2==0:\n",
    "        resultado=True\n",
    "    else:\n",
    "        resultado=False\n",
    "    return resultado\n",
    "\n",
    "def clasificar_chocolate(codigo:int)->str:\n",
    "    if palidromo(codigo):\n",
    "        if espar(codigo):\n",
    "            resultado=\"SWEET\"\n",
    "        else:\n",
    "            resultado=\"BITTER\"\n",
    "    else:\n",
    "        if espar(codigo):\n",
    "            resultado=\"CINNAMON\"\n",
    "        else:\n",
    "            resultado=\"LIGHT\"\n",
    "    return resultado\n",
    "\n",
    "print(clasificar_chocolate(123))\n",
    "print(clasificar_chocolate(222))\n",
    "print(clasificar_chocolate(111))\n",
    "print(clasificar_chocolate(505))\n",
    "print(clasificar_chocolate(576))\n",
    "    "
   ]
  }
 ],
 "metadata": {
  "kernelspec": {
   "display_name": "Python 3",
   "language": "python",
   "name": "python3"
  },
  "language_info": {
   "codemirror_mode": {
    "name": "ipython",
    "version": 3
   },
   "file_extension": ".py",
   "mimetype": "text/x-python",
   "name": "python",
   "nbconvert_exporter": "python",
   "pygments_lexer": "ipython3",
   "version": "3.9.1"
  }
 },
 "nbformat": 4,
 "nbformat_minor": 5
}
