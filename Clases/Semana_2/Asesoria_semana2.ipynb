{
 "cells": [
  {
   "cell_type": "code",
   "execution_count": 32,
   "id": "b339026c",
   "metadata": {},
   "outputs": [
    {
     "name": "stdout",
     "output_type": "stream",
     "text": [
      "ingrese un valordsfdsf\n",
      "dsfdsf\n"
     ]
    }
   ],
   "source": [
    "hola=input(\"ingrese un valor\")\n",
    "print(hola)"
   ]
  },
  {
   "cell_type": "code",
   "execution_count": 19,
   "id": "c4f642ee",
   "metadata": {},
   "outputs": [
    {
     "name": "stdout",
     "output_type": "stream",
     "text": [
      "ingrese un valor: dsf\n"
     ]
    },
    {
     "ename": "ValueError",
     "evalue": "invalid literal for int() with base 10: 'dsf'",
     "output_type": "error",
     "traceback": [
      "\u001b[0;31m---------------------------------------------------------------------------\u001b[0m",
      "\u001b[0;31mValueError\u001b[0m                                Traceback (most recent call last)",
      "\u001b[0;32m<ipython-input-19-e94cc1ecf1ff>\u001b[0m in \u001b[0;36m<module>\u001b[0;34m\u001b[0m\n\u001b[1;32m      1\u001b[0m \u001b[0;31m#Funcion para sumar un numero\u001b[0m\u001b[0;34m\u001b[0m\u001b[0;34m\u001b[0m\u001b[0;34m\u001b[0m\u001b[0m\n\u001b[0;32m----> 2\u001b[0;31m \u001b[0mn\u001b[0m\u001b[0;34m=\u001b[0m\u001b[0mint\u001b[0m\u001b[0;34m(\u001b[0m\u001b[0minput\u001b[0m\u001b[0;34m(\u001b[0m\u001b[0;34m\"ingrese un valor: \"\u001b[0m\u001b[0;34m)\u001b[0m\u001b[0;34m)\u001b[0m\u001b[0;34m\u001b[0m\u001b[0;34m\u001b[0m\u001b[0m\n\u001b[0m\u001b[1;32m      3\u001b[0m \u001b[0ma\u001b[0m\u001b[0;34m=\u001b[0m\u001b[0;36m12\u001b[0m\u001b[0;34m+\u001b[0m\u001b[0mn\u001b[0m\u001b[0;34m\u001b[0m\u001b[0;34m\u001b[0m\u001b[0m\n\u001b[1;32m      4\u001b[0m \u001b[0mprint\u001b[0m\u001b[0;34m(\u001b[0m\u001b[0ma\u001b[0m\u001b[0;34m)\u001b[0m\u001b[0;34m\u001b[0m\u001b[0;34m\u001b[0m\u001b[0m\n\u001b[1;32m      5\u001b[0m \u001b[0;34m\u001b[0m\u001b[0m\n",
      "\u001b[0;31mValueError\u001b[0m: invalid literal for int() with base 10: 'dsf'"
     ]
    }
   ],
   "source": [
    "#Funcion para sumar un numero\n",
    "n=int(input(\"ingrese un valor: \"))\n",
    "a=12+n\n",
    "print(a)\n",
    "\n",
    "\n",
    "c=12*2\n",
    "print(c)"
   ]
  },
  {
   "cell_type": "code",
   "execution_count": 21,
   "id": "e530d0da",
   "metadata": {},
   "outputs": [
    {
     "name": "stdout",
     "output_type": "stream",
     "text": [
      "ingrese un valor:45\n",
      "57\n",
      "570\n",
      "24\n"
     ]
    }
   ],
   "source": [
    "n=input(\"ingrese un valor:\" )\n",
    "#Excepecion de ingreso de datos del cliente\n",
    "try:\n",
    "    b=int(n)\n",
    "    a=12+b\n",
    "    print(a)\n",
    "    v=a*10\n",
    "    print(v)\n",
    "except:\n",
    "    print(\"Numero ingresado incorrecto\")\n",
    "    \n",
    "c=12*2\n",
    "print(c)"
   ]
  },
  {
   "cell_type": "code",
   "execution_count": 23,
   "id": "2fbecef2",
   "metadata": {},
   "outputs": [
    {
     "name": "stdout",
     "output_type": "stream",
     "text": [
      "6\n"
     ]
    }
   ],
   "source": [
    "a=2\n",
    "b=3\n",
    "c=a*b\n",
    "print(c)"
   ]
  },
  {
   "cell_type": "code",
   "execution_count": null,
   "id": "57387cf6",
   "metadata": {},
   "outputs": [],
   "source": [
    "#inicio\n",
    "#primero numero\n",
    "#segundo numero\n",
    "#suma dos numeros\n",
    "#resultado\n",
    "#fin"
   ]
  },
  {
   "cell_type": "code",
   "execution_count": 31,
   "id": "0b7139bc",
   "metadata": {},
   "outputs": [
    {
     "name": "stdout",
     "output_type": "stream",
     "text": [
      "Tiene gasolina\n",
      "Tienes tanto de gasolina:  0\n",
      "No puedes viajar\n"
     ]
    }
   ],
   "source": [
    "x=2\n",
    "if x>0:\n",
    "    print(\"Tiene gasolina\")\n",
    "    x=x-2\n",
    "    print(\"Tienes tanto de gasolina: \",x)\n",
    "    if x>0:\n",
    "        print(\"Tiene gasolina\")\n",
    "        x=x-2\n",
    "        print(\"Tienes tanto de gasolina: \",x)\n",
    "    else:\n",
    "        print(\"No puedes viajar\")\n",
    "    \n",
    "else:\n",
    "    print(\"No puedes viajar\")"
   ]
  },
  {
   "cell_type": "code",
   "execution_count": 27,
   "id": "057afbdc",
   "metadata": {},
   "outputs": [
    {
     "data": {
      "text/plain": [
       "False"
      ]
     },
     "execution_count": 27,
     "metadata": {},
     "output_type": "execute_result"
    }
   ],
   "source": [
    "x==1"
   ]
  },
  {
   "cell_type": "code",
   "execution_count": 34,
   "id": "b0883633",
   "metadata": {},
   "outputs": [
    {
     "name": "stdout",
     "output_type": "stream",
     "text": [
      "Las perdidas de mi negocio fueron:  8000\n"
     ]
    }
   ],
   "source": [
    "ing=10000\n",
    "gas=18000\n",
    "if ing>gas:\n",
    "    ganancias=ing-gas\n",
    "    print(\"Las ganancias de mi negocio fueron: \",ganancias)\n",
    "else:\n",
    "    perdida=gas-ing\n",
    "    print(\"Las perdidas de mi negocio fueron: \",perdida)"
   ]
  },
  {
   "cell_type": "code",
   "execution_count": 38,
   "id": "059e4703",
   "metadata": {},
   "outputs": [
    {
     "name": "stdout",
     "output_type": "stream",
     "text": [
      "ingrese el valor a retirar: 699999\n",
      "No puedes retirar ese dinero\n",
      "El saldo de la cuenta es:  8000\n",
      "ingrese el valor a retirar: 5000\n"
     ]
    }
   ],
   "source": [
    "cuenta=8000\n",
    "cajero=10000\n",
    "if cajero==0 or cajero<cuenta:\n",
    "    print(\"el cajero no tiene dinero suficiente para una transacion\")\n",
    "else:\n",
    "    if cuenta==0:\n",
    "        print(\"no tengo salgo suficiente en la cuenta\")\n",
    "        print(\"no puedes retirar el dinero\")\n",
    "    else:\n",
    "        val_ret=int(input(\"ingrese el valor a retirar: \"))\n",
    "        if val_ret>cuenta:\n",
    "            print(\"No puedes retirar ese dinero\")\n",
    "            print(\"El saldo de la cuenta es: \",cuenta)\n",
    "            val_ret=int(input(\"ingrese el valor a retirar: \"))\n",
    "        else:\n",
    "            print(\"has retirado: $\",val_ret)\n",
    "            cuenta=cuenta-val_ret\n",
    "            print(\"Tu saldo es: \",cuenta)\n",
    "        "
   ]
  },
  {
   "cell_type": "code",
   "execution_count": 40,
   "id": "768efc84",
   "metadata": {},
   "outputs": [
    {
     "name": "stdout",
     "output_type": "stream",
     "text": [
      "Vas a realizar una nueva transación\n",
      "No tienes dinero suficiente \n"
     ]
    }
   ],
   "source": [
    "din_cuenta=10000\n",
    "din_cajero=20000\n",
    "din_ret=12000\n",
    "\n",
    "if din_cajero>0 and din_cajero>din_cuenta:\n",
    "    print(\"Vas a realizar una nueva transación\")\n",
    "    if din_cuenta>=din_ret:\n",
    "        print(\"Has retirado $\",din_ret)\n",
    "        din_cuenta=din_cuenta-din_ret\n",
    "        print(\"Tu nuevo saldo en la cuenta es: $\",din_cuenta)\n",
    "    else:\n",
    "        print(\"No tienes dinero suficiente \")\n",
    "else:\n",
    "    print(\"No tienes dinero suficiente\")"
   ]
  },
  {
   "cell_type": "code",
   "execution_count": 41,
   "id": "d6cf7df2",
   "metadata": {},
   "outputs": [
    {
     "name": "stdout",
     "output_type": "stream",
     "text": [
      "22\n"
     ]
    }
   ],
   "source": [
    "a=10\n",
    "b=12\n",
    "c=a+b\n",
    "print(c)"
   ]
  },
  {
   "cell_type": "code",
   "execution_count": 43,
   "id": "35f9b6b2",
   "metadata": {},
   "outputs": [
    {
     "name": "stdout",
     "output_type": "stream",
     "text": [
      "Vas a realizar una nueva transación\n",
      "ingrese el valor a retirar: 12323232\n",
      "No tienes dinero suficiente \n",
      "Vas a realizar una nueva transación\n",
      "ingrese el valor a retirar: 21323123\n",
      "No tienes dinero suficiente \n",
      "Vas a realizar una nueva transación\n",
      "ingrese el valor a retirar: 1232323\n",
      "No tienes dinero suficiente \n",
      "Vas a realizar una nueva transación\n",
      "ingrese el valor a retirar: 123123\n",
      "No tienes dinero suficiente \n",
      "Vas a realizar una nueva transación\n",
      "ingrese el valor a retirar: 1000\n",
      "Has retirado $ 1000.0\n",
      "Tu nuevo saldo en la cuenta es: $ 9000.0\n"
     ]
    }
   ],
   "source": [
    "din_cuenta=10000\n",
    "din_cajero=20000\n",
    "# din_ret=6000\n",
    "\n",
    "while din_cajero>0 and din_cajero>din_cuenta:\n",
    "    print(\"Vas a realizar una nueva transación\")\n",
    "    din_ret=float(input(\"ingrese el valor a retirar: \"))\n",
    "    if din_cuenta>=din_ret:\n",
    "        print(\"Has retirado $\",din_ret)\n",
    "        din_cuenta=din_cuenta-din_ret\n",
    "        print(\"Tu nuevo saldo en la cuenta es: $\",din_cuenta)\n",
    "        break\n",
    "    else:\n",
    "        print(\"No tienes dinero suficiente \")\n",
    "else:\n",
    "    print(\"No tienes dinero suficiente\")"
   ]
  },
  {
   "cell_type": "code",
   "execution_count": 39,
   "id": "b7852aec",
   "metadata": {},
   "outputs": [
    {
     "name": "stdout",
     "output_type": "stream",
     "text": [
      "Ingrese el valor a retirar: 11111111\n",
      "No puedes retirar el dinero\n",
      "El saldo en tu cuenta es:  9000\n",
      "Ingrese el valor a retirar: 1111111111111\n",
      "No puedes retirar el dinero\n",
      "El saldo en tu cuenta es:  9000\n",
      "Ingrese el valor a retirar: 111111111111111111\n",
      "No puedes retirar el dinero\n",
      "El saldo en tu cuenta es:  9000\n",
      "Ingrese el valor a retirar: 11111111111111111\n",
      "No puedes retirar el dinero\n",
      "El saldo en tu cuenta es:  9000\n",
      "Ingrese el valor a retirar: 8000\n",
      "Has retirado:  8000\n",
      "Tu saldo es:  1000\n"
     ]
    }
   ],
   "source": [
    "cuenta=9000\n",
    "cajero=19000\n",
    "def cal_ban(cuenta,cajero):\n",
    "    while cajero==0 or cajero<cuenta:\n",
    "        print(\"El cajero no tiene dinero suficiente para una transaccion\")\n",
    "        break\n",
    "    else:    \n",
    "        while cuenta==0:\n",
    "            print(\"No tienes saldo sufienciente en tu cuenta\")\n",
    "            print(\"Por favor retira la tarjeta\")\n",
    "            break\n",
    "        else:\n",
    "            valor_ret=int(input(\"Ingrese el valor a retirar: \"))\n",
    "            while valor_ret>cuenta:\n",
    "                print(\"No puedes retirar el dinero\")\n",
    "                print(\"El saldo en tu cuenta es: \",cuenta)\n",
    "                valor_ret=int(input(\"Ingrese el valor a retirar: \"))\n",
    "            else:\n",
    "                print(\"Has retirado: \",valor_ret)\n",
    "                cuenta=cuenta-valor_ret\n",
    "                print(\"Tu saldo es: \",cuenta)\n",
    "    return cuenta\n",
    "cuenta=cal_ban(cuenta,cajero)"
   ]
  },
  {
   "cell_type": "code",
   "execution_count": 40,
   "id": "3580cb70",
   "metadata": {},
   "outputs": [
    {
     "name": "stdout",
     "output_type": "stream",
     "text": [
      "Ingrese el valor a retirar: 1000\n",
      "Has retirado:  1000\n",
      "Tu saldo es:  0\n"
     ]
    }
   ],
   "source": [
    "cuenta=cal_ban(cuenta,cajero)"
   ]
  },
  {
   "cell_type": "code",
   "execution_count": 41,
   "id": "15e941f0",
   "metadata": {},
   "outputs": [
    {
     "name": "stdout",
     "output_type": "stream",
     "text": [
      "No tienes saldo sufienciente en tu cuenta\n",
      "Por favor retira la tarjeta\n"
     ]
    }
   ],
   "source": [
    "cuenta=cal_ban(cuenta,cajero)"
   ]
  }
 ],
 "metadata": {
  "kernelspec": {
   "display_name": "Python 3",
   "language": "python",
   "name": "python3"
  },
  "language_info": {
   "codemirror_mode": {
    "name": "ipython",
    "version": 3
   },
   "file_extension": ".py",
   "mimetype": "text/x-python",
   "name": "python",
   "nbconvert_exporter": "python",
   "pygments_lexer": "ipython3",
   "version": "3.9.1"
  }
 },
 "nbformat": 4,
 "nbformat_minor": 5
}
