{
 "cells": [
  {
   "cell_type": "code",
   "execution_count": null,
   "id": "82c145c1",
   "metadata": {},
   "outputs": [],
   "source": [
    "#Asignacion nombre de variables correctas\n",
    "var\n",
    "_var\n",
    "var1\n",
    "var_1"
   ]
  },
  {
   "cell_type": "code",
   "execution_count": 20,
   "id": "834cf026",
   "metadata": {},
   "outputs": [
    {
     "ename": "SyntaxError",
     "evalue": "invalid syntax (<ipython-input-20-9feef2078276>, line 2)",
     "output_type": "error",
     "traceback": [
      "\u001b[0;36m  File \u001b[0;32m\"<ipython-input-20-9feef2078276>\"\u001b[0;36m, line \u001b[0;32m2\u001b[0m\n\u001b[0;31m    2var=2\u001b[0m\n\u001b[0m     ^\u001b[0m\n\u001b[0;31mSyntaxError\u001b[0m\u001b[0;31m:\u001b[0m invalid syntax\n"
     ]
    }
   ],
   "source": [
    "#Variables mal declaradas\n",
    "2var=2\n",
    "print(2var)"
   ]
  },
  {
   "cell_type": "code",
   "execution_count": 21,
   "id": "1a71afe1",
   "metadata": {},
   "outputs": [
    {
     "ename": "SyntaxError",
     "evalue": "invalid syntax (<ipython-input-21-1bac881faf0d>, line 1)",
     "output_type": "error",
     "traceback": [
      "\u001b[0;36m  File \u001b[0;32m\"<ipython-input-21-1bac881faf0d>\"\u001b[0;36m, line \u001b[0;32m1\u001b[0m\n\u001b[0;31m    var 2\u001b[0m\n\u001b[0m        ^\u001b[0m\n\u001b[0;31mSyntaxError\u001b[0m\u001b[0;31m:\u001b[0m invalid syntax\n"
     ]
    }
   ],
   "source": [
    "var 2\n",
    "print(var2)"
   ]
  },
  {
   "cell_type": "code",
   "execution_count": 22,
   "id": "c2ec9083",
   "metadata": {},
   "outputs": [
    {
     "ename": "SyntaxError",
     "evalue": "invalid syntax (<ipython-input-22-8ae757c1f38c>, line 1)",
     "output_type": "error",
     "traceback": [
      "\u001b[0;36m  File \u001b[0;32m\"<ipython-input-22-8ae757c1f38c>\"\u001b[0;36m, line \u001b[0;32m1\u001b[0m\n\u001b[0;31m    var f=1\u001b[0m\n\u001b[0m        ^\u001b[0m\n\u001b[0;31mSyntaxError\u001b[0m\u001b[0;31m:\u001b[0m invalid syntax\n"
     ]
    }
   ],
   "source": [
    "var f=1\n",
    "print(var f)"
   ]
  },
  {
   "cell_type": "code",
   "execution_count": 23,
   "id": "d2aeb439",
   "metadata": {},
   "outputs": [
    {
     "ename": "SyntaxError",
     "evalue": "invalid syntax (<ipython-input-23-98995b7c0210>, line 1)",
     "output_type": "error",
     "traceback": [
      "\u001b[0;36m  File \u001b[0;32m\"<ipython-input-23-98995b7c0210>\"\u001b[0;36m, line \u001b[0;32m1\u001b[0m\n\u001b[0;31m    @var1=3\u001b[0m\n\u001b[0m         ^\u001b[0m\n\u001b[0;31mSyntaxError\u001b[0m\u001b[0;31m:\u001b[0m invalid syntax\n"
     ]
    }
   ],
   "source": [
    "@var1=3\n",
    "print(@var1)"
   ]
  },
  {
   "cell_type": "code",
   "execution_count": 24,
   "id": "a6f8de68",
   "metadata": {},
   "outputs": [
    {
     "ename": "SyntaxError",
     "evalue": "cannot assign to operator (<ipython-input-24-d1fe08191b8d>, line 1)",
     "output_type": "error",
     "traceback": [
      "\u001b[0;36m  File \u001b[0;32m\"<ipython-input-24-d1fe08191b8d>\"\u001b[0;36m, line \u001b[0;32m1\u001b[0m\n\u001b[0;31m    var-1=120\u001b[0m\n\u001b[0m    ^\u001b[0m\n\u001b[0;31mSyntaxError\u001b[0m\u001b[0;31m:\u001b[0m cannot assign to operator\n"
     ]
    }
   ],
   "source": [
    "var-1=120"
   ]
  },
  {
   "cell_type": "code",
   "execution_count": 96,
   "id": "4ad34f4b",
   "metadata": {},
   "outputs": [
    {
     "ename": "SyntaxError",
     "evalue": "invalid syntax (<ipython-input-96-21e844c684af>, line 7)",
     "output_type": "error",
     "traceback": [
      "\u001b[0;36m  File \u001b[0;32m\"<ipython-input-96-21e844c684af>\"\u001b[0;36m, line \u001b[0;32m7\u001b[0m\n\u001b[0;31m    else:\u001b[0m\n\u001b[0m    ^\u001b[0m\n\u001b[0;31mSyntaxError\u001b[0m\u001b[0;31m:\u001b[0m invalid syntax\n"
     ]
    }
   ],
   "source": [
    "x=10\n",
    "y=20\n",
    "w=y+x\n",
    "z=12\n",
    "if w==0:\n",
    "    print(\"Hola mundo\"\n",
    "else:\n",
    "    print(x)\n",
    "    print(z)\n",
    "    print(y)"
   ]
  },
  {
   "cell_type": "code",
   "execution_count": 37,
   "id": "b233f146",
   "metadata": {},
   "outputs": [
    {
     "name": "stdout",
     "output_type": "stream",
     "text": [
      "hola mundo\n"
     ]
    }
   ],
   "source": [
    "def suma():\n",
    "    print(\"hola mundo\")\n",
    "\n",
    "suma()"
   ]
  },
  {
   "cell_type": "code",
   "execution_count": 26,
   "id": "6a556a47",
   "metadata": {},
   "outputs": [
    {
     "name": "stdout",
     "output_type": "stream",
     "text": [
      "2\n",
      "3\n"
     ]
    }
   ],
   "source": [
    "var1=2\n",
    "VAR1=3\n",
    "print(var1)\n",
    "print(Var1)"
   ]
  },
  {
   "cell_type": "code",
   "execution_count": 6,
   "id": "5b4cf7d4",
   "metadata": {},
   "outputs": [
    {
     "name": "stdout",
     "output_type": "stream",
     "text": [
      "5\n"
     ]
    }
   ],
   "source": [
    "x=var1+VAR1\n",
    "print(x)"
   ]
  },
  {
   "cell_type": "markdown",
   "id": "7c5449f4",
   "metadata": {},
   "source": [
    "# Calculo de una operacion de suma"
   ]
  },
  {
   "cell_type": "code",
   "execution_count": 7,
   "id": "f9f6e6b5",
   "metadata": {},
   "outputs": [
    {
     "data": {
      "text/plain": [
       "9"
      ]
     },
     "execution_count": 7,
     "metadata": {},
     "output_type": "execute_result"
    }
   ],
   "source": [
    "4+5"
   ]
  },
  {
   "cell_type": "code",
   "execution_count": 8,
   "id": "3850661a",
   "metadata": {},
   "outputs": [
    {
     "name": "stdout",
     "output_type": "stream",
     "text": [
      "1.2\n"
     ]
    }
   ],
   "source": [
    "var1=1.20\n",
    "print(var1)"
   ]
  },
  {
   "cell_type": "code",
   "execution_count": 9,
   "id": "f59dced7",
   "metadata": {},
   "outputs": [
    {
     "name": "stdout",
     "output_type": "stream",
     "text": [
      "5\n"
     ]
    }
   ],
   "source": [
    "var2=5\n",
    "print(var2)"
   ]
  },
  {
   "cell_type": "code",
   "execution_count": 10,
   "id": "2fb81d4b",
   "metadata": {},
   "outputs": [
    {
     "name": "stdout",
     "output_type": "stream",
     "text": [
      "1\n"
     ]
    }
   ],
   "source": [
    "var1=int(var1)\n",
    "print(var1)"
   ]
  },
  {
   "cell_type": "code",
   "execution_count": 12,
   "id": "e130d895",
   "metadata": {},
   "outputs": [],
   "source": [
    "a=9\n",
    "b=10\n",
    "c=a+b"
   ]
  },
  {
   "cell_type": "code",
   "execution_count": 13,
   "id": "bd1ed808",
   "metadata": {},
   "outputs": [
    {
     "name": "stdout",
     "output_type": "stream",
     "text": [
      "19\n"
     ]
    }
   ],
   "source": [
    "print(c)"
   ]
  },
  {
   "cell_type": "code",
   "execution_count": 14,
   "id": "042a4a25",
   "metadata": {},
   "outputs": [
    {
     "name": "stdout",
     "output_type": "stream",
     "text": [
      "45\n"
     ]
    }
   ],
   "source": [
    "c=45\n",
    "print(c)"
   ]
  },
  {
   "cell_type": "code",
   "execution_count": 15,
   "id": "c8c18874",
   "metadata": {},
   "outputs": [
    {
     "name": "stdout",
     "output_type": "stream",
     "text": [
      "120\n"
     ]
    }
   ],
   "source": [
    "var3=120\n",
    "var4=var3\n",
    "print(var4)"
   ]
  },
  {
   "cell_type": "code",
   "execution_count": 17,
   "id": "a9013634",
   "metadata": {},
   "outputs": [
    {
     "name": "stdout",
     "output_type": "stream",
     "text": [
      "100 200\n",
      "100   200\n",
      "Variables 100 y 200 \n",
      "100\n",
      "200\n"
     ]
    }
   ],
   "source": [
    "var3=100\n",
    "var4=200\n",
    "print(var3,var4)\n",
    "print(var3,\" \",var4)\n",
    "print(\"Variables {} y {} \".format(var3,var4))\n",
    "print(var3)\n",
    "print(var4)"
   ]
  },
  {
   "cell_type": "code",
   "execution_count": 19,
   "id": "1f69ed74",
   "metadata": {},
   "outputs": [
    {
     "ename": "SyntaxError",
     "evalue": "unexpected EOF while parsing (<ipython-input-19-9b9779f39ddd>, line 2)",
     "output_type": "error",
     "traceback": [
      "\u001b[0;36m  File \u001b[0;32m\"<ipython-input-19-9b9779f39ddd>\"\u001b[0;36m, line \u001b[0;32m2\u001b[0m\n\u001b[0;31m    print(\"ola\"\u001b[0m\n\u001b[0m               ^\u001b[0m\n\u001b[0;31mSyntaxError\u001b[0m\u001b[0;31m:\u001b[0m unexpected EOF while parsing\n"
     ]
    }
   ],
   "source": [
    "print(\"Hola\")\n",
    "print(\"ola\""
   ]
  },
  {
   "cell_type": "code",
   "execution_count": 40,
   "id": "b93fd303",
   "metadata": {},
   "outputs": [
    {
     "name": "stdout",
     "output_type": "stream",
     "text": [
      "200   200   200\n",
      "Hola   Hola   Hola\n"
     ]
    }
   ],
   "source": [
    "#Asignacion multiple de variables\n",
    "var1=var2=var3=200\n",
    "print(var1,' ',var2,' ',var3)\n",
    "\n",
    "var1=var2=var3=\"Hola\"\n",
    "print(var1,' ',var2,' ',var3)"
   ]
  },
  {
   "cell_type": "code",
   "execution_count": 41,
   "id": "6d64b255",
   "metadata": {},
   "outputs": [
    {
     "name": "stdout",
     "output_type": "stream",
     "text": [
      "10\n",
      "20\n",
      "30\n"
     ]
    }
   ],
   "source": [
    "varx, vary, varz= 10,20,30\n",
    "print(varx)\n",
    "print(vary)\n",
    "print(varz)"
   ]
  },
  {
   "cell_type": "code",
   "execution_count": 43,
   "id": "714a3f5e",
   "metadata": {},
   "outputs": [
    {
     "data": {
      "text/plain": [
       "5"
      ]
     },
     "execution_count": 43,
     "metadata": {},
     "output_type": "execute_result"
    }
   ],
   "source": [
    "2+3 #suma"
   ]
  },
  {
   "cell_type": "code",
   "execution_count": 44,
   "id": "8cc2bc62",
   "metadata": {},
   "outputs": [
    {
     "name": "stdout",
     "output_type": "stream",
     "text": [
      "19.990000000000002\n"
     ]
    },
    {
     "data": {
      "text/plain": [
       "float"
      ]
     },
     "execution_count": 44,
     "metadata": {},
     "output_type": "execute_result"
    }
   ],
   "source": [
    "#Suma retorna un float\n",
    "numero1=10\n",
    "numero2=9.99\n",
    "numero3=numero1+numero2\n",
    "print(numero3)\n",
    "type(numero3)"
   ]
  },
  {
   "cell_type": "code",
   "execution_count": 45,
   "id": "1a7d9044",
   "metadata": {},
   "outputs": [
    {
     "name": "stdout",
     "output_type": "stream",
     "text": [
      "19\n"
     ]
    },
    {
     "data": {
      "text/plain": [
       "int"
      ]
     },
     "execution_count": 45,
     "metadata": {},
     "output_type": "execute_result"
    }
   ],
   "source": [
    "#Suma retorna un entero\n",
    "numero1=10\n",
    "numero2=9\n",
    "numero3=numero1+numero2\n",
    "print(numero3)\n",
    "type(numero3)"
   ]
  },
  {
   "cell_type": "code",
   "execution_count": 46,
   "id": "42a6badf",
   "metadata": {},
   "outputs": [
    {
     "data": {
      "text/plain": [
       "str"
      ]
     },
     "execution_count": 46,
     "metadata": {},
     "output_type": "execute_result"
    }
   ],
   "source": [
    "variable=\"Hola\"\n",
    "type(variable)"
   ]
  },
  {
   "cell_type": "code",
   "execution_count": 48,
   "id": "faa64014",
   "metadata": {},
   "outputs": [
    {
     "data": {
      "text/plain": [
       "9"
      ]
     },
     "execution_count": 48,
     "metadata": {},
     "output_type": "execute_result"
    }
   ],
   "source": [
    "8+1 #suma"
   ]
  },
  {
   "cell_type": "code",
   "execution_count": 49,
   "id": "efb5e886",
   "metadata": {},
   "outputs": [
    {
     "data": {
      "text/plain": [
       "18"
      ]
     },
     "execution_count": 49,
     "metadata": {},
     "output_type": "execute_result"
    }
   ],
   "source": [
    "3*6 #multiplicacion"
   ]
  },
  {
   "cell_type": "code",
   "execution_count": 50,
   "id": "261c6202",
   "metadata": {},
   "outputs": [
    {
     "data": {
      "text/plain": [
       "4.0"
      ]
     },
     "execution_count": 50,
     "metadata": {},
     "output_type": "execute_result"
    }
   ],
   "source": [
    "12/3 #division"
   ]
  },
  {
   "cell_type": "code",
   "execution_count": 51,
   "id": "d801f70f",
   "metadata": {},
   "outputs": [
    {
     "data": {
      "text/plain": [
       "4"
      ]
     },
     "execution_count": 51,
     "metadata": {},
     "output_type": "execute_result"
    }
   ],
   "source": [
    "12//3 #Division entera"
   ]
  },
  {
   "cell_type": "code",
   "execution_count": 52,
   "id": "020e7e28",
   "metadata": {},
   "outputs": [
    {
     "data": {
      "text/plain": [
       "1"
      ]
     },
     "execution_count": 52,
     "metadata": {},
     "output_type": "execute_result"
    }
   ],
   "source": [
    "7%3 #modulo (retorna el sobrante de la division)"
   ]
  },
  {
   "cell_type": "code",
   "execution_count": 55,
   "id": "ac762aad",
   "metadata": {},
   "outputs": [
    {
     "name": "stdout",
     "output_type": "stream",
     "text": [
      "X es un numero par\n"
     ]
    }
   ],
   "source": [
    "x=10\n",
    "if x%2==0:\n",
    "    print(\"X es un numero par\")\n",
    "else:\n",
    "    print(\"x es un numero impar\")"
   ]
  },
  {
   "cell_type": "code",
   "execution_count": 57,
   "id": "ff957af0",
   "metadata": {},
   "outputs": [
    {
     "name": "stdout",
     "output_type": "stream",
     "text": [
      "49\n"
     ]
    }
   ],
   "source": [
    "cuadrado=7**2 #potencia al cuadrado (7*7)\n",
    "print(cuadrado)"
   ]
  },
  {
   "cell_type": "code",
   "execution_count": 58,
   "id": "25e33a1e",
   "metadata": {},
   "outputs": [
    {
     "name": "stdout",
     "output_type": "stream",
     "text": [
      "8\n"
     ]
    }
   ],
   "source": [
    "cubico=2**3 #Potencia al cubo\n",
    "print(cubico)"
   ]
  },
  {
   "cell_type": "code",
   "execution_count": 61,
   "id": "21c8defd",
   "metadata": {},
   "outputs": [
    {
     "name": "stdout",
     "output_type": "stream",
     "text": [
      "3.0\n"
     ]
    }
   ],
   "source": [
    "x=5+4\n",
    "raiz=x**(1/2) #raiz cuadrada\n",
    "print(raiz)"
   ]
  },
  {
   "cell_type": "code",
   "execution_count": 63,
   "id": "93f37503",
   "metadata": {},
   "outputs": [
    {
     "data": {
      "text/plain": [
       "4"
      ]
     },
     "execution_count": 63,
     "metadata": {},
     "output_type": "execute_result"
    }
   ],
   "source": [
    "2*(3-1)"
   ]
  },
  {
   "cell_type": "code",
   "execution_count": 66,
   "id": "1a762de3",
   "metadata": {},
   "outputs": [
    {
     "name": "stdout",
     "output_type": "stream",
     "text": [
      "4.433333333333334\n"
     ]
    }
   ],
   "source": [
    "var1=5\n",
    "var2=3.6\n",
    "var3=4.7\n",
    "\n",
    "promedio=(var1+var2+var3)/3\n",
    "print(promedio)"
   ]
  },
  {
   "cell_type": "code",
   "execution_count": 67,
   "id": "24b437e2",
   "metadata": {},
   "outputs": [
    {
     "data": {
      "text/plain": [
       "3"
      ]
     },
     "execution_count": 67,
     "metadata": {},
     "output_type": "execute_result"
    }
   ],
   "source": [
    "2**1+1"
   ]
  },
  {
   "cell_type": "code",
   "execution_count": 69,
   "id": "3c19f221",
   "metadata": {},
   "outputs": [
    {
     "data": {
      "text/plain": [
       "1"
      ]
     },
     "execution_count": 69,
     "metadata": {},
     "output_type": "execute_result"
    }
   ],
   "source": [
    "#Cuando tienen misma precedencia se ejecuta de izquierda a derecha\n",
    "5-3-1"
   ]
  },
  {
   "cell_type": "code",
   "execution_count": 71,
   "id": "e5a961ec",
   "metadata": {
    "scrolled": true
   },
   "outputs": [
    {
     "data": {
      "text/plain": [
       "10"
      ]
     },
     "execution_count": 71,
     "metadata": {},
     "output_type": "execute_result"
    }
   ],
   "source": [
    "var=\"Hola mundo\"\n",
    "len(var)"
   ]
  },
  {
   "cell_type": "code",
   "execution_count": 74,
   "id": "af9083c3",
   "metadata": {},
   "outputs": [
    {
     "name": "stdout",
     "output_type": "stream",
     "text": [
      "30\n",
      "<class 'int'>\n"
     ]
    }
   ],
   "source": [
    "num1=10\n",
    "num2=20\n",
    "num3=num1+num2\n",
    "print(num3)\n",
    "print(type(num3))"
   ]
  },
  {
   "cell_type": "code",
   "execution_count": 75,
   "id": "59cc56df",
   "metadata": {
    "scrolled": true
   },
   "outputs": [
    {
     "name": "stdout",
     "output_type": "stream",
     "text": [
      "Hola de nuevo\n",
      "<class 'str'>\n"
     ]
    }
   ],
   "source": [
    "cad1=\"Hola \"\n",
    "cad2=\"de nuevo\"\n",
    "frase=cad1+cad2\n",
    "print(frase)\n",
    "print(type(frase))"
   ]
  },
  {
   "cell_type": "code",
   "execution_count": 76,
   "id": "d4c719bc",
   "metadata": {},
   "outputs": [
    {
     "name": "stdout",
     "output_type": "stream",
     "text": [
      "1.2\n",
      "<class 'float'>\n"
     ]
    }
   ],
   "source": [
    "va=1.2\n",
    "print(va)\n",
    "print(type(va))"
   ]
  },
  {
   "cell_type": "code",
   "execution_count": 82,
   "id": "b06e924e",
   "metadata": {
    "scrolled": true
   },
   "outputs": [
    {
     "name": "stdout",
     "output_type": "stream",
     "text": [
      "10.0\n",
      "<class 'float'>\n",
      "1\n",
      "<class 'int'>\n"
     ]
    }
   ],
   "source": [
    "#convertir entero a flotante\n",
    "var=10\n",
    "var=float(var)\n",
    "print(var)\n",
    "print(type(var))\n",
    "\n",
    "#convertir flotante a entero\n",
    "varz=1.256456\n",
    "varz=int(varz)\n",
    "print(varz)\n",
    "print(type(varz))"
   ]
  },
  {
   "cell_type": "code",
   "execution_count": 85,
   "id": "285e85ff",
   "metadata": {},
   "outputs": [
    {
     "name": "stdout",
     "output_type": "stream",
     "text": [
      "4\n",
      "<class 'str'>\n"
     ]
    }
   ],
   "source": [
    "vary='4'\n",
    "print(vary)\n",
    "print(type(vary))"
   ]
  },
  {
   "cell_type": "code",
   "execution_count": 90,
   "id": "968b71c7",
   "metadata": {},
   "outputs": [
    {
     "name": "stdout",
     "output_type": "stream",
     "text": [
      "3\n",
      "# Hola <class 'str'>\n",
      "2 <class 'str'>\n"
     ]
    }
   ],
   "source": [
    "varw=\"# Hola\"\n",
    "vart='2'\n",
    "var=3 #sddfdsf\n",
    "print(var)\n",
    "print(varw, type(varw))\n",
    "print(vart, type(vart))"
   ]
  },
  {
   "cell_type": "code",
   "execution_count": 91,
   "id": "648fc0eb",
   "metadata": {},
   "outputs": [
    {
     "name": "stdout",
     "output_type": "stream",
     "text": [
      "Ingrese algo 45\n",
      "45\n",
      "<class 'str'>\n"
     ]
    }
   ],
   "source": [
    "n=input(\"Ingrese algo \")\n",
    "print(n)\n",
    "print(type(n))"
   ]
  },
  {
   "cell_type": "code",
   "execution_count": 93,
   "id": "5bd676e4",
   "metadata": {},
   "outputs": [
    {
     "name": "stdout",
     "output_type": "stream",
     "text": [
      "48.0\n"
     ]
    }
   ],
   "source": [
    "n=float(n)\n",
    "m=n+3\n",
    "print(m)"
   ]
  },
  {
   "cell_type": "code",
   "execution_count": 94,
   "id": "a02151dd",
   "metadata": {},
   "outputs": [
    {
     "ename": "ValueError",
     "evalue": "invalid literal for int() with base 10: 'Hola'",
     "output_type": "error",
     "traceback": [
      "\u001b[0;31m---------------------------------------------------------------------------\u001b[0m",
      "\u001b[0;31mValueError\u001b[0m                                Traceback (most recent call last)",
      "\u001b[0;32m<ipython-input-94-4cc9a1bda5cb>\u001b[0m in \u001b[0;36m<module>\u001b[0;34m\u001b[0m\n\u001b[1;32m      1\u001b[0m \u001b[0mn\u001b[0m\u001b[0;34m=\u001b[0m\u001b[0;34m'Hola'\u001b[0m\u001b[0;34m\u001b[0m\u001b[0;34m\u001b[0m\u001b[0m\n\u001b[0;32m----> 2\u001b[0;31m \u001b[0mn\u001b[0m\u001b[0;34m=\u001b[0m\u001b[0mint\u001b[0m\u001b[0;34m(\u001b[0m\u001b[0mn\u001b[0m\u001b[0;34m)\u001b[0m\u001b[0;34m\u001b[0m\u001b[0;34m\u001b[0m\u001b[0m\n\u001b[0m\u001b[1;32m      3\u001b[0m \u001b[0mprint\u001b[0m\u001b[0;34m(\u001b[0m\u001b[0mn\u001b[0m\u001b[0;34m)\u001b[0m\u001b[0;34m\u001b[0m\u001b[0;34m\u001b[0m\u001b[0m\n",
      "\u001b[0;31mValueError\u001b[0m: invalid literal for int() with base 10: 'Hola'"
     ]
    }
   ],
   "source": [
    "n='Hola'\n",
    "n=int(n)\n",
    "print(n)"
   ]
  },
  {
   "cell_type": "code",
   "execution_count": 95,
   "id": "af6fe970",
   "metadata": {},
   "outputs": [
    {
     "name": "stdout",
     "output_type": "stream",
     "text": [
      "5.6\n"
     ]
    }
   ],
   "source": [
    "n='5.6'\n",
    "n=float(n)\n",
    "print(n)"
   ]
  },
  {
   "cell_type": "code",
   "execution_count": 98,
   "id": "8ee42275",
   "metadata": {},
   "outputs": [
    {
     "data": {
      "text/plain": [
       "1.3333333333333333"
      ]
     },
     "execution_count": 98,
     "metadata": {},
     "output_type": "execute_result"
    }
   ],
   "source": [
    "(2**2)*1/3"
   ]
  }
 ],
 "metadata": {
  "kernelspec": {
   "display_name": "Python 3",
   "language": "python",
   "name": "python3"
  },
  "language_info": {
   "codemirror_mode": {
    "name": "ipython",
    "version": 3
   },
   "file_extension": ".py",
   "mimetype": "text/x-python",
   "name": "python",
   "nbconvert_exporter": "python",
   "pygments_lexer": "ipython3",
   "version": "3.9.1"
  }
 },
 "nbformat": 4,
 "nbformat_minor": 5
}
