{
 "cells": [
  {
   "cell_type": "code",
   "execution_count": 2,
   "id": "789adcf8",
   "metadata": {},
   "outputs": [
    {
     "name": "stdout",
     "output_type": "stream",
     "text": [
      "(0, 1, 2, 3, 4)\n"
     ]
    },
    {
     "data": {
      "text/plain": [
       "0"
      ]
     },
     "execution_count": 2,
     "metadata": {},
     "output_type": "execute_result"
    }
   ],
   "source": [
    "tupla=(0,1,2,3,4)\n",
    "print(tupla)\n",
    "tupla[0]"
   ]
  },
  {
   "cell_type": "code",
   "execution_count": 22,
   "id": "e094bca0",
   "metadata": {},
   "outputs": [
    {
     "name": "stdout",
     "output_type": "stream",
     "text": [
      "{1: {'titulo': 'python', 'descripcion': 'mysql', 'estado': '', 'fecha inicio': '', 'fecha finalizado': ''}, 2: {'titulo': 'python', 'descripcion': 'mysql', 'estado': '', 'fecha inicio': '', 'fecha finalizado': ''}}\n"
     ]
    }
   ],
   "source": [
    "info={\n",
    "    1:{\n",
    "        'titulo':'python',\n",
    "        'descripcion':'mysql',\n",
    "        'estado':'',\n",
    "        'fecha inicio':'',\n",
    "        'fecha finalizado':'',\n",
    "    },\n",
    "    2:{\n",
    "        'titulo':'python',\n",
    "        'descripcion':'mysql',\n",
    "        'estado':'',\n",
    "        'fecha inicio':'',\n",
    "        'fecha finalizado':'',\n",
    "    }\n",
    "}\n",
    "\n",
    "print(info)"
   ]
  },
  {
   "cell_type": "code",
   "execution_count": 25,
   "id": "a9025e79",
   "metadata": {},
   "outputs": [
    {
     "name": "stdout",
     "output_type": "stream",
     "text": [
      "PHP\n"
     ]
    }
   ],
   "source": [
    "info[1]['titulo']='PHP'\n",
    "print(info[1]['titulo'])"
   ]
  },
  {
   "cell_type": "code",
   "execution_count": 29,
   "id": "e9a8e2e3",
   "metadata": {},
   "outputs": [],
   "source": [
    "info[1]['estado']='En espera'"
   ]
  },
  {
   "cell_type": "code",
   "execution_count": 31,
   "id": "fba0b700",
   "metadata": {},
   "outputs": [
    {
     "data": {
      "text/plain": [
       "'En espera'"
      ]
     },
     "execution_count": 31,
     "metadata": {},
     "output_type": "execute_result"
    }
   ],
   "source": [
    "info[1]['estado']"
   ]
  },
  {
   "cell_type": "code",
   "execution_count": 7,
   "id": "b4197e33",
   "metadata": {},
   "outputs": [
    {
     "data": {
      "text/plain": [
       "'python'"
      ]
     },
     "execution_count": 7,
     "metadata": {},
     "output_type": "execute_result"
    }
   ],
   "source": [
    "info[1]['titulo']"
   ]
  },
  {
   "cell_type": "code",
   "execution_count": 32,
   "id": "622abae2",
   "metadata": {},
   "outputs": [
    {
     "name": "stdout",
     "output_type": "stream",
     "text": [
      "1\n",
      "2\n"
     ]
    }
   ],
   "source": [
    "for d in info:\n",
    "    print(d)"
   ]
  },
  {
   "cell_type": "code",
   "execution_count": null,
   "id": "f194bf2b",
   "metadata": {},
   "outputs": [],
   "source": []
  },
  {
   "cell_type": "code",
   "execution_count": 13,
   "id": "8786fe5c",
   "metadata": {},
   "outputs": [
    {
     "name": "stdout",
     "output_type": "stream",
     "text": [
      "id titulo\n",
      "3 4\n"
     ]
    }
   ],
   "source": [
    "tupla=[('id','titulo'),(3,4)]\n",
    "for i in tupla:\n",
    "    print(i[0], i[1])"
   ]
  },
  {
   "cell_type": "code",
   "execution_count": 15,
   "id": "8dd186bf",
   "metadata": {},
   "outputs": [
    {
     "name": "stdout",
     "output_type": "stream",
     "text": [
      "{1: {'Titulo': 'Español', 'Descripcion': 'Literatura', 'Estado': 'En espera', 'Fecha inicio': '12/09/2021', 'Fecha finalizado': None}, 4: {'Titulo': 'Ingles', 'Descripcion': 'Verbos', 'Estado': 'En espera', 'Fecha inicio': '15/9/2021', 'Fecha finalizado': None}, 5: {'Titulo': 'ingles', 'Descripcion': 'ingles', 'Estado': 'En espera', 'Fecha inicio': '14/9/2021', 'Fecha finalizado': None}, 6: {'Titulo': 'Filosofia', 'Descripcion': 'Filosofia', 'Estado': 'En espera', 'Fecha inicio': '15/9/2021', 'Fecha finalizado': None}}\n"
     ]
    }
   ],
   "source": [
    "info={\n",
    "    1: {'Titulo': 'Español', 'Descripcion': 'Literatura', 'Estado': 'En espera', 'Fecha inicio': '12/09/2021', 'Fecha finalizado': None},\n",
    "    4: {'Titulo': 'Ingles', 'Descripcion': 'Verbos', 'Estado': 'En espera', 'Fecha inicio': '15/9/2021', 'Fecha finalizado': None},\n",
    "    5: {'Titulo': 'ingles', 'Descripcion': 'ingles', 'Estado': 'En espera', 'Fecha inicio': '14/9/2021', 'Fecha finalizado': None},\n",
    "    6: {'Titulo': 'Filosofia', 'Descripcion': 'Filosofia', 'Estado': 'En espera', 'Fecha inicio': '15/9/2021', 'Fecha finalizado': None}\n",
    "}\n",
    "print(info)"
   ]
  },
  {
   "cell_type": "code",
   "execution_count": 17,
   "id": "4a280397",
   "metadata": {},
   "outputs": [
    {
     "data": {
      "text/plain": [
       "{1: {'Titulo': 'Español',\n",
       "  'Descripcion': 'Literatura',\n",
       "  'Estado': 'En espera',\n",
       "  'Fecha inicio': '12/09/2021',\n",
       "  'Fecha finalizado': None},\n",
       " 4: {'Titulo': 'Ingles',\n",
       "  'Descripcion': 'Verbos',\n",
       "  'Estado': 'En espera',\n",
       "  'Fecha inicio': '15/9/2021',\n",
       "  'Fecha finalizado': None},\n",
       " 5: {'Titulo': 'ingles',\n",
       "  'Descripcion': 'ingles',\n",
       "  'Estado': 'En espera',\n",
       "  'Fecha inicio': '14/9/2021',\n",
       "  'Fecha finalizado': None},\n",
       " 6: {'Titulo': 'Filosofia',\n",
       "  'Descripcion': 'Filosofia',\n",
       "  'Estado': 'En espera',\n",
       "  'Fecha inicio': '15/9/2021',\n",
       "  'Fecha finalizado': None}}"
      ]
     },
     "execution_count": 17,
     "metadata": {},
     "output_type": "execute_result"
    }
   ],
   "source": [
    "def filtrar(info:dict,filtro:str):\n",
    "    aux={}\n",
    "    for i in info:\n",
    "        if info[i]['Estado']==filtro:\n",
    "            aux.setdefault(i,info[i])\n",
    "    return aux\n",
    "\n",
    "filtrar(info,'En espera')"
   ]
  }
 ],
 "metadata": {
  "kernelspec": {
   "display_name": "Python 3",
   "language": "python",
   "name": "python3"
  },
  "language_info": {
   "codemirror_mode": {
    "name": "ipython",
    "version": 3
   },
   "file_extension": ".py",
   "mimetype": "text/x-python",
   "name": "python",
   "nbconvert_exporter": "python",
   "pygments_lexer": "ipython3",
   "version": "3.9.1"
  }
 },
 "nbformat": 4,
 "nbformat_minor": 5
}
