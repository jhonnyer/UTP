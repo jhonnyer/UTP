{
 "cells": [
  {
   "cell_type": "code",
   "execution_count": 1,
   "id": "3b11d356",
   "metadata": {},
   "outputs": [
    {
     "name": "stdout",
     "output_type": "stream",
     "text": [
      "Hola mundo\n"
     ]
    }
   ],
   "source": [
    "print(\"Hola mundo\")"
   ]
  },
  {
   "cell_type": "code",
   "execution_count": 2,
   "id": "83168b43",
   "metadata": {},
   "outputs": [
    {
     "name": "stdout",
     "output_type": "stream",
     "text": [
      "1\n"
     ]
    }
   ],
   "source": [
    "print(1)"
   ]
  },
  {
   "cell_type": "code",
   "execution_count": 3,
   "id": "b02ce4f7",
   "metadata": {},
   "outputs": [
    {
     "name": "stdout",
     "output_type": "stream",
     "text": [
      "1.2\n"
     ]
    }
   ],
   "source": [
    "print(1.2)"
   ]
  },
  {
   "cell_type": "code",
   "execution_count": 9,
   "id": "4868e2ca",
   "metadata": {},
   "outputs": [
    {
     "name": "stdout",
     "output_type": "stream",
     "text": [
      "500\n",
      "El numero menor es:  10\n"
     ]
    }
   ],
   "source": [
    "v1=10\n",
    "v2=30\n",
    "v3=120\n",
    "v4=500\n",
    "maximo=max(v1,v2,v3,v4)\n",
    "print(maximo)\n",
    "\n",
    "minimo=min(v1,v2,v3,v4)\n",
    "print(\"El numero menor es: \",minimo)\n",
    "\n",
    "cad=\"Hola mundo\""
   ]
  },
  {
   "cell_type": "code",
   "execution_count": 5,
   "id": "bbbdab82",
   "metadata": {},
   "outputs": [
    {
     "name": "stdout",
     "output_type": "stream",
     "text": [
      "u\n"
     ]
    }
   ],
   "source": [
    "maxi=max(cad)\n",
    "print(maxi)"
   ]
  },
  {
   "cell_type": "code",
   "execution_count": 10,
   "id": "f9c08c0e",
   "metadata": {},
   "outputs": [
    {
     "name": "stdout",
     "output_type": "stream",
     "text": [
      "Caracter minimo: '   '\n"
     ]
    }
   ],
   "source": [
    "mini=min(cad)\n",
    "print(\"Caracter minimo: '\",mini,\"'\")"
   ]
  },
  {
   "cell_type": "code",
   "execution_count": 14,
   "id": "4aac0f22",
   "metadata": {},
   "outputs": [
    {
     "data": {
      "text/plain": [
       "str"
      ]
     },
     "execution_count": 14,
     "metadata": {},
     "output_type": "execute_result"
    }
   ],
   "source": [
    "type(mini)"
   ]
  },
  {
   "cell_type": "code",
   "execution_count": 13,
   "id": "652949f4",
   "metadata": {},
   "outputs": [
    {
     "name": "stdout",
     "output_type": "stream",
     "text": [
      "Hola\n"
     ]
    }
   ],
   "source": [
    "if mini==\" \":\n",
    "    print(\"Hola\")\n",
    "else:\n",
    "    print(\"Fin\")"
   ]
  },
  {
   "cell_type": "code",
   "execution_count": 17,
   "id": "2785d92e",
   "metadata": {},
   "outputs": [
    {
     "name": "stdout",
     "output_type": "stream",
     "text": [
      "<class 'int'>\n",
      "<class 'float'>\n"
     ]
    }
   ],
   "source": [
    "var=1\n",
    "print(type(var))\n",
    "vara=1.2\n",
    "print(type(vara))"
   ]
  },
  {
   "cell_type": "code",
   "execution_count": 7,
   "id": "c4a33932",
   "metadata": {},
   "outputs": [
    {
     "name": "stdout",
     "output_type": "stream",
     "text": [
      "Min character:  \n"
     ]
    }
   ],
   "source": [
    "str = \"this is real string-example....wow\";\n",
    "print(\"Min character: \" + min(str));"
   ]
  },
  {
   "cell_type": "code",
   "execution_count": 8,
   "id": "8adabb08",
   "metadata": {},
   "outputs": [
    {
     "name": "stdout",
     "output_type": "stream",
     "text": [
      "500\n"
     ]
    }
   ],
   "source": [
    "v1=10\n",
    "v2=30\n",
    "v3=120\n",
    "v4=500\n",
    "maximo=max(v1,v2,v3,v4)\n",
    "print(maximo)"
   ]
  },
  {
   "cell_type": "code",
   "execution_count": 18,
   "id": "9baeccbd",
   "metadata": {},
   "outputs": [
    {
     "name": "stdout",
     "output_type": "stream",
     "text": [
      "Help on built-in function print in module builtins:\n",
      "\n",
      "print(...)\n",
      "    print(value, ..., sep=' ', end='\\n', file=sys.stdout, flush=False)\n",
      "    \n",
      "    Prints the values to a stream, or to sys.stdout by default.\n",
      "    Optional keyword arguments:\n",
      "    file:  a file-like object (stream); defaults to the current sys.stdout.\n",
      "    sep:   string inserted between values, default a space.\n",
      "    end:   string appended after the last value, default a newline.\n",
      "    flush: whether to forcibly flush the stream.\n",
      "\n"
     ]
    }
   ],
   "source": [
    "help(print)"
   ]
  },
  {
   "cell_type": "code",
   "execution_count": 19,
   "id": "0c9697c2",
   "metadata": {},
   "outputs": [
    {
     "name": "stdout",
     "output_type": "stream",
     "text": [
      "Help on built-in function min in module builtins:\n",
      "\n",
      "min(...)\n",
      "    min(iterable, *[, default=obj, key=func]) -> value\n",
      "    min(arg1, arg2, *args, *[, key=func]) -> value\n",
      "    \n",
      "    With a single iterable argument, return its smallest item. The\n",
      "    default keyword-only argument specifies an object to return if\n",
      "    the provided iterable is empty.\n",
      "    With two or more arguments, return the smallest argument.\n",
      "\n"
     ]
    }
   ],
   "source": [
    "help(min)"
   ]
  },
  {
   "cell_type": "code",
   "execution_count": 20,
   "id": "9bbe88f9",
   "metadata": {},
   "outputs": [
    {
     "name": "stdout",
     "output_type": "stream",
     "text": [
      "Help on built-in function max in module builtins:\n",
      "\n",
      "max(...)\n",
      "    max(iterable, *[, default=obj, key=func]) -> value\n",
      "    max(arg1, arg2, *args, *[, key=func]) -> value\n",
      "    \n",
      "    With a single iterable argument, return its biggest item. The\n",
      "    default keyword-only argument specifies an object to return if\n",
      "    the provided iterable is empty.\n",
      "    With two or more arguments, return the largest argument.\n",
      "\n"
     ]
    }
   ],
   "source": [
    "help(max)"
   ]
  },
  {
   "cell_type": "code",
   "execution_count": 26,
   "id": "704dd94a",
   "metadata": {},
   "outputs": [
    {
     "name": "stdout",
     "output_type": "stream",
     "text": [
      "660\n",
      "661\n"
     ]
    }
   ],
   "source": [
    "var1=10\n",
    "var2=30\n",
    "var3=120\n",
    "var4=500\n",
    "\n",
    "sum((var1,var2,var3,var4))\n",
    "suma=sum((var1,var2,var3,var4))\n",
    "print(suma)\n",
    "n=suma+1\n",
    "print(n)"
   ]
  },
  {
   "cell_type": "code",
   "execution_count": 29,
   "id": "f1ef22e3",
   "metadata": {},
   "outputs": [
    {
     "name": "stdout",
     "output_type": "stream",
     "text": [
      "range(0, 5)\n"
     ]
    }
   ],
   "source": [
    "x=range(5)\n",
    "print(x)  #{0,1,2,3,4}"
   ]
  },
  {
   "cell_type": "code",
   "execution_count": 34,
   "id": "b2f25355",
   "metadata": {},
   "outputs": [
    {
     "name": "stdout",
     "output_type": "stream",
     "text": [
      "range(1, 5)\n"
     ]
    },
    {
     "data": {
      "text/plain": [
       "4"
      ]
     },
     "execution_count": 34,
     "metadata": {},
     "output_type": "execute_result"
    }
   ],
   "source": [
    "x=range(1,5)\n",
    "print(x)\n",
    "len(x)  #{1,2,3,4}"
   ]
  },
  {
   "cell_type": "code",
   "execution_count": 41,
   "id": "5a09f613",
   "metadata": {},
   "outputs": [
    {
     "name": "stdout",
     "output_type": "stream",
     "text": [
      "range(0, 7)\n"
     ]
    },
    {
     "data": {
      "text/plain": [
       "7"
      ]
     },
     "execution_count": 41,
     "metadata": {},
     "output_type": "execute_result"
    }
   ],
   "source": [
    "y=range(0,7)\n",
    "print(y)\n",
    "len(y) "
   ]
  },
  {
   "cell_type": "code",
   "execution_count": 43,
   "id": "66c024d0",
   "metadata": {},
   "outputs": [
    {
     "ename": "IndentationError",
     "evalue": "expected an indented block (<ipython-input-43-a57731d4bcee>, line 2)",
     "output_type": "error",
     "traceback": [
      "\u001b[0;36m  File \u001b[0;32m\"<ipython-input-43-a57731d4bcee>\"\u001b[0;36m, line \u001b[0;32m2\u001b[0m\n\u001b[0;31m    return\u001b[0m\n\u001b[0m    ^\u001b[0m\n\u001b[0;31mIndentationError\u001b[0m\u001b[0;31m:\u001b[0m expected an indented block\n"
     ]
    }
   ],
   "source": [
    "#Error de identacion\n",
    "def fun(paramtro1,parametro2):\n",
    "return\n",
    "\n",
    "fun(argumento1, argumento2)"
   ]
  },
  {
   "cell_type": "code",
   "execution_count": 56,
   "id": "54d8a3e6",
   "metadata": {},
   "outputs": [
    {
     "ename": "TypeError",
     "evalue": "fun() missing 2 required positional arguments: 'parametro1' and 'parametro2'",
     "output_type": "error",
     "traceback": [
      "\u001b[0;31m---------------------------------------------------------------------------\u001b[0m",
      "\u001b[0;31mTypeError\u001b[0m                                 Traceback (most recent call last)",
      "\u001b[0;32m<ipython-input-56-4b42c665fcb0>\u001b[0m in \u001b[0;36m<module>\u001b[0;34m\u001b[0m\n\u001b[1;32m      3\u001b[0m     \u001b[0;32mreturn\u001b[0m\u001b[0;34m\u001b[0m\u001b[0;34m\u001b[0m\u001b[0m\n\u001b[1;32m      4\u001b[0m \u001b[0;34m\u001b[0m\u001b[0m\n\u001b[0;32m----> 5\u001b[0;31m \u001b[0mfun\u001b[0m\u001b[0;34m(\u001b[0m\u001b[0;34m)\u001b[0m\u001b[0;34m\u001b[0m\u001b[0;34m\u001b[0m\u001b[0m\n\u001b[0m",
      "\u001b[0;31mTypeError\u001b[0m: fun() missing 2 required positional arguments: 'parametro1' and 'parametro2'"
     ]
    }
   ],
   "source": [
    "#Crear funcion\n",
    "def fun(parametro1,parametro2):\n",
    "    return\n",
    "\n",
    "fun()"
   ]
  },
  {
   "cell_type": "code",
   "execution_count": 60,
   "id": "681599d0",
   "metadata": {},
   "outputs": [
    {
     "name": "stdout",
     "output_type": "stream",
     "text": [
      "5\n",
      "None\n"
     ]
    }
   ],
   "source": [
    "#No retorna ningun valor\n",
    "def suma(a,b):\n",
    "    c=a+b\n",
    "    print(c)\n",
    "\n",
    "d=suma(2,3)\n",
    "print(d)"
   ]
  },
  {
   "cell_type": "code",
   "execution_count": 62,
   "id": "6ed0147b",
   "metadata": {},
   "outputs": [
    {
     "name": "stdout",
     "output_type": "stream",
     "text": [
      "5\n"
     ]
    }
   ],
   "source": [
    "#Retorn un valor\n",
    "def suma(a,b):\n",
    "    c=a+b\n",
    "    return c\n",
    "\n",
    "d=suma(2,3)\n",
    "print(d)"
   ]
  },
  {
   "cell_type": "code",
   "execution_count": 53,
   "id": "1300fee5",
   "metadata": {},
   "outputs": [
    {
     "name": "stdout",
     "output_type": "stream",
     "text": [
      "hola\n"
     ]
    }
   ],
   "source": [
    "x=1\n",
    "if x>0:\n",
    "    print(\"hola\")\n",
    "else:\n",
    "    print(\"fin\")"
   ]
  },
  {
   "cell_type": "code",
   "execution_count": 63,
   "id": "5be1640c",
   "metadata": {},
   "outputs": [],
   "source": [
    "#No siempre las funciones tienen parametros de entrada ni tienen return\n",
    "#Definir las funciones, es el mismo proceso de definir variables\n",
    "def imprimir_cosas():\n",
    "    print(\"La clase es genial\")\n",
    "    print(\"Python es lo máximo\")"
   ]
  },
  {
   "cell_type": "code",
   "execution_count": 67,
   "id": "e60ca2da",
   "metadata": {},
   "outputs": [
    {
     "name": "stdout",
     "output_type": "stream",
     "text": [
      "La clase es genial\n",
      "Python es lo máximo\n",
      "La clase es genial\n",
      "Python es lo máximo\n",
      "None\n"
     ]
    }
   ],
   "source": [
    "imprimir_cosas()\n",
    "a=imprimir_cosas()\n",
    "print(a)"
   ]
  }
 ],
 "metadata": {
  "kernelspec": {
   "display_name": "Python 3",
   "language": "python",
   "name": "python3"
  },
  "language_info": {
   "codemirror_mode": {
    "name": "ipython",
    "version": 3
   },
   "file_extension": ".py",
   "mimetype": "text/x-python",
   "name": "python",
   "nbconvert_exporter": "python",
   "pygments_lexer": "ipython3",
   "version": "3.9.1"
  }
 },
 "nbformat": 4,
 "nbformat_minor": 5
}
