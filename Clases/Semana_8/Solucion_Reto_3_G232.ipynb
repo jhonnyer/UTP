{
 "cells": [
  {
   "cell_type": "code",
   "execution_count": 24,
   "id": "fd902f26",
   "metadata": {},
   "outputs": [
    {
     "name": "stdout",
     "output_type": "stream",
     "text": [
      "20170136837\n",
      "20130225137\n",
      "{'nombres': 'Sara Carolina', 'apellidos': 'Gómez, Fernández', 'documento': 58770043, 'programa': 'ARQD', 'promedio': 0, 'correo': '', 'codigo': 20130225137}\n",
      "\n",
      "[{'facultad': 'Arquitectura', 'codigo': 'ARQU-7738', 'nota': 3.36, 'creditos': 3, 'retirada': 'No'}, {'facultad': 'Arquitectura', 'codigo': 'ARQU-7698', 'nota': 1.59, 'creditos': 4, 'retirada': 'Si'}]\n"
     ]
    }
   ],
   "source": [
    "for a in info:\n",
    "    print(a)\n",
    "    participante={}\n",
    "    participante=info[a]\n",
    "    participante.setdefault('promedio',0)\n",
    "    participante.setdefault('correo','')\n",
    "    participante.setdefault('codigo',a)\n",
    "    materias=participante.pop('materias')\n",
    "print(participante)\n",
    "print()\n",
    "print(materias)"
   ]
  },
  {
   "cell_type": "code",
   "execution_count": 32,
   "id": "34be44ec",
   "metadata": {},
   "outputs": [
    {
     "name": "stdout",
     "output_type": "stream",
     "text": [
      "10.08\n",
      "3\n",
      "{'nombres': 'Sara Carolina', 'apellidos': 'Gómez, Fernández', 'documento': 58770043, 'programa': 'ARQD', 'promedio': 3.36, 'correo': '', 'codigo': 20130225137}\n",
      "\n",
      "{'nombres': 'Sara Carolina', 'apellidos': 'Gómez, Fernández', 'documento': 58770043, 'programa': 'ARQD', 'promedio': 3.36, 'correo': '', 'codigo': 20130225137}\n"
     ]
    }
   ],
   "source": [
    "mayorPromedio=0\n",
    "sumatoria=0\n",
    "cantidad=0\n",
    "ganador={}\n",
    "for m in materias:\n",
    "    if m['retirada']=='No':\n",
    "        sumatoria+=m['nota']*m['creditos']\n",
    "        cantidad+=m['creditos']\n",
    "if cantidad>0 and sumatoria>0:\n",
    "    participante['promedio']=sumatoria/cantidad\n",
    "\n",
    "#Condicion que me permite evaluar los promedios de los estudiantes que estan participante en el concurso\n",
    "if participante['promedio']>mayorPromedio:\n",
    "    ganador=participante\n",
    "    mayorPromedio=participante['promedio']\n",
    "#Si el  promedio de varios estudiantes con el promedio mayor son iguales, se debe desempatar a partir del \n",
    "#año de ingreso y sino a partir del periodo de ingreso a la universidad\n",
    "elif participante['promedio']==mayorPromedio:\n",
    "    anioGanador=int(str(ganador['codigo'])[0:4])\n",
    "    anioParti=int(str(participante['codigo'])[0:4])\n",
    "    periodoGanador=int(str(ganador['codigo'])[4:6])\n",
    "    periodoPart=int(str(participante['codigo'])[4:6])\n",
    "\n",
    "    #La condicion para desempatar a partir del año de ingreso de los estudiantes\n",
    "    if anioPart<anioGanador:\n",
    "        ganador=participante\n",
    "        mayorPromedio=participante['promedio']\n",
    "    elif anioParti==anioGanador:\n",
    "        if periodoPart<periodoGanador:\n",
    "            ganador=participante\n",
    "            mayorPromedio=participante['promedio']\n",
    "\n",
    "print(sumatoria)\n",
    "print(cantidad)\n",
    "print(participante)\n",
    "print()\n",
    "print(ganador)\n",
    "# print(anioGanador)\n",
    "# print(anioParti)"
   ]
  },
  {
   "cell_type": "code",
   "execution_count": 45,
   "id": "061eac57",
   "metadata": {},
   "outputs": [
    {
     "name": "stdout",
     "output_type": "stream",
     "text": [
      "4\n",
      "5\n",
      "SC.Gómez43\n",
      "sc.gómez43\n"
     ]
    }
   ],
   "source": [
    "#Vamos a verificar el correo del estudiante ganador\n",
    "#Aqui solamente encontre la posicion del espacio tanto en el nombre como en el apellido del diccionario ganador\n",
    "corteNombre=ganador['nombres'].find(' ')\n",
    "corteApellido=ganador['apellidos'].find(',')\n",
    "print(corteNombre)\n",
    "print(corteApellido)\n",
    "\n",
    "#Condicion para crear el correo del estudiante\n",
    "#Cuando igualamos a -1 quiere decir que no se encontro algo, en este que el ganador no se encuntra\n",
    "if not(ganador['nombres'].find(' ')==-1):\n",
    "    #Variable c es donde voy a almacenar el correo\n",
    "    c=ganador['nombres'][:1]+ganador['nombres'][corteNombre+1:corteNombre+2]+'.'+ganador['apellidos'][:corteApellido]+str(ganador['documento'])[-2:]\n",
    "else:\n",
    "    c=ganador['nombres'][:1]+ganador['apellidos'][:1]+'.'+ganador['apellidos'][corteApellido+2:]+str(ganador['documento'])[-2:]\n",
    "\n",
    "print(c)\n",
    "c=c.lower() #Lower permite convertir el correo en minuscula\n",
    "print(c)\n"
   ]
  },
  {
   "cell_type": "code",
   "execution_count": 92,
   "id": "69cdb07a",
   "metadata": {},
   "outputs": [],
   "source": [
    "def Seleccion(info: dict) -> list:\n",
    "    ganador={}\n",
    "  \n",
    "    mayorPromedio=0\n",
    "    for a in info:\n",
    "        \n",
    "        participante={}#{'nombre':'', 'apellido':'', 'documento':0, 'programa':'','promedio':0,'correo':''}\n",
    "        participante=info[a]\n",
    "        participante.setdefault('promedio',0)\n",
    "        participante.setdefault('correo','')\n",
    "        participante.setdefault('codigo',a)\n",
    "        materias= participante.pop('materias')\n",
    "        sumatoria=0\n",
    "        cantidad=0\n",
    "        #EValuando si el estudiante retiro la materia o no la retiro\n",
    "        for m in materias:\n",
    "            if m['retirada']=='No':\n",
    "                sumatoria+=m['nota']*m['creditos']\n",
    "                cantidad+=m['creditos']\n",
    "        if cantidad >0 and sumatoria>0:\n",
    "            participante['promedio']=sumatoria/cantidad\n",
    "        #Vamos a evaluar el promedio de los estudiantes y vamos a obtener el promedio mayor. El estudiante\n",
    "        #con el promedio mayor, su informacion va a estar almacenado en el diccionario ganador\n",
    "        if participante['promedio']>mayorPromedio:\n",
    "            ganador=participante\n",
    "            mayorPromedio=participante['promedio']\n",
    "        #Si el promedio de dos estudiantes son iguales, entonces el desempate se hace por el año de ingreso\n",
    "        #del estudiante a la universidad, y si el año son iguales, el desempate se realiza a partir del periodo\n",
    "        #de ingreso a la universidad\n",
    "        elif participante['promedio']==mayorPromedio: #and not(participante['promedio']==0):\n",
    "            añoGanador=int(str(ganador['codigo'])[0:4])\n",
    "            añoParti=int(str(participante['codigo'])[0:4])\n",
    "            periodoGanador=int(str(ganador['codigo'])[4:6])\n",
    "            periodoParti=int(str(participante['codigo'])[4:6])\n",
    "            \n",
    "            if añoParti< añoGanador:\n",
    "                ganador=participante\n",
    "                mayorPromedio=participante['promedio']   \n",
    "            elif añoParti== añoGanador:\n",
    "                if periodoParti< periodoGanador:\n",
    "                    ganador=participante\n",
    "                    mayorPromedio=participante['promedio']     \n",
    "    \n",
    "    corteNombre=ganador['nombres'].find(' ')\n",
    "    corteApellido=ganador['apellidos'].find(',')\n",
    "    #construimos el correo del estudiante\n",
    "    if not(ganador['nombres'].find(' ')==-1):        \n",
    "        c=ganador['nombres'][:1]+ganador['nombres'][corteNombre+1:corteNombre+2]+\".\"+ganador['apellidos'][:corteApellido]+str(ganador['documento'])[-2:]  \n",
    "    else:\n",
    "        c= ganador['nombres'][:1] + ganador['apellidos'][:1]+\".\"+ganador['apellidos'][corteApellido+2:]+str(ganador['documento'])[-2:]  \n",
    "    c=c.lower() #Conviertiendo en minuscula el correo del estudiante\n",
    "    for u in range(0,len(c)):\n",
    "       y=c[u:u+1]\n",
    "       if y =='á':\n",
    "            c=c[0:u]+'a'+c[u+1:]\n",
    "       elif y =='é':\n",
    "            c=c[0:u]+'e'+c[u+1:]   \n",
    "       elif y =='ì':\n",
    "            c=c[0:u]+'i'+c[u+1:]\n",
    "       elif y =='ó':\n",
    "            c=c[0:u]+'o'+c[u+1:]\n",
    "       elif y =='ù':\n",
    "            c=c[0:u]+'u'+c[u+1:]  \n",
    "    ganador['correo']=c\n",
    "    return [ganador['codigo'],ganador['nombres'],ganador['apellidos'],ganador['documento'],ganador['programa'],ganador['promedio'],ganador['correo']]"
   ]
  },
  {
   "cell_type": "code",
   "execution_count": 93,
   "id": "48c16401",
   "metadata": {},
   "outputs": [
    {
     "data": {
      "text/plain": [
       "[20130225137,\n",
       " 'Sara Carolina',\n",
       " 'Gómez, Fernández',\n",
       " 58770043,\n",
       " 'ARQD',\n",
       " 3.36,\n",
       " 'sc.gomez43']"
      ]
     },
     "execution_count": 93,
     "metadata": {},
     "output_type": "execute_result"
    }
   ],
   "source": [
    "ganador=Seleccion(info)\n",
    "ganador"
   ]
  },
  {
   "cell_type": "code",
   "execution_count": 91,
   "id": "a8d37014",
   "metadata": {},
   "outputs": [
    {
     "name": "stdout",
     "output_type": "stream",
     "text": [
      "{20170136837: {'nombres': 'Jorge Juan', 'apellidos': 'Moreno, Lopez', 'documento': 88481595, 'programa': 'ARQU', 'materias': [{'facultad': 'Arquitectura', 'codigo': 'ARQU-2113', 'nota': 2.97, 'creditos': 2, 'retirada': 'No'}, {'facultad': 'Arquitectura', 'codigo': 'ARQU-5048', 'nota': 4.26, 'creditos': 0, 'retirada': 'No'}]}, 20130225137: {'nombres': 'Sara Carolina', 'apellidos': 'Gómez, Fernández', 'documento': 58770043, 'programa': 'ARQD', 'materias': [{'facultad': 'Arquitectura', 'codigo': 'ARQU-7738', 'nota': 3.36, 'creditos': 3, 'retirada': 'No'}, {'facultad': 'Arquitectura', 'codigo': 'ARQU-7698', 'nota': 1.59, 'creditos': 4, 'retirada': 'Si'}]}}\n"
     ]
    }
   ],
   "source": [
    "info={\n",
    "    20170136837:{\n",
    "        'nombres':'Jorge Juan',\n",
    "        'apellidos':'Moreno, Lopez',\n",
    "        'documento':88481595,\n",
    "        'programa':'ARQU',\n",
    "        'materias':[\n",
    "            {\n",
    "                'facultad':'Arquitectura',\n",
    "                'codigo':'ARQU-2113',\n",
    "                'nota':2.97,\n",
    "                'creditos':2,\n",
    "                'retirada':'No'\n",
    "            },\n",
    "            {\n",
    "                'facultad':'Arquitectura',\n",
    "                'codigo':'ARQU-5048',\n",
    "                'nota':4.26,\n",
    "                'creditos':0,\n",
    "                'retirada':'No'\n",
    "            }\n",
    "        ]\n",
    "        \n",
    "    },\n",
    "    20130225137:{\n",
    "        'nombres':'Sara Carolina',\n",
    "        'apellidos':'Gómez, Fernández',\n",
    "        'documento':58770043,\n",
    "        'programa':'ARQD',\n",
    "        'materias':[\n",
    "            {\n",
    "                'facultad':'Arquitectura',\n",
    "                'codigo':'ARQU-7738',\n",
    "                'nota':3.36,\n",
    "                'creditos':3,\n",
    "                'retirada':'No'\n",
    "            },\n",
    "            {\n",
    "                'facultad':'Arquitectura',\n",
    "                'codigo':'ARQU-7698',\n",
    "                'nota':1.59,\n",
    "                'creditos':4,\n",
    "                'retirada':'Si'\n",
    "            }\n",
    "        ]\n",
    "        \n",
    "    }\n",
    "    \n",
    "}\n",
    "\n",
    "print(info)"
   ]
  },
  {
   "cell_type": "code",
   "execution_count": null,
   "id": "f3d6029e",
   "metadata": {},
   "outputs": [],
   "source": []
  }
 ],
 "metadata": {
  "kernelspec": {
   "display_name": "Python 3",
   "language": "python",
   "name": "python3"
  },
  "language_info": {
   "codemirror_mode": {
    "name": "ipython",
    "version": 3
   },
   "file_extension": ".py",
   "mimetype": "text/x-python",
   "name": "python",
   "nbconvert_exporter": "python",
   "pygments_lexer": "ipython3",
   "version": "3.9.1"
  }
 },
 "nbformat": 4,
 "nbformat_minor": 5
}
