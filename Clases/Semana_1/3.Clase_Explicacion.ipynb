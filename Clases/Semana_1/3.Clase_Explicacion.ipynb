{
 "cells": [
  {
   "cell_type": "code",
   "execution_count": 60,
   "id": "3439945f",
   "metadata": {},
   "outputs": [
    {
     "name": "stdout",
     "output_type": "stream",
     "text": [
      "puedo viajar\n"
     ]
    }
   ],
   "source": [
    "x=1 #Tiene gasolina\n",
    "\n",
    "if x==1:\n",
    "    print(\"puedo viajar\")\n",
    "else:\n",
    "    print(\"No tienes gasolina, no puedes viajar\")"
   ]
  },
  {
   "cell_type": "markdown",
   "id": "c820b21a",
   "metadata": {},
   "source": [
    "va bien en el colegio\n",
    "[0-5]\n",
    "\n"
   ]
  },
  {
   "cell_type": "code",
   "execution_count": 74,
   "id": "d071ff37",
   "metadata": {},
   "outputs": [
    {
     "name": "stdout",
     "output_type": "stream",
     "text": [
      "[[ 2 -1]\n",
      " [ 1 -1]]\n",
      "[ 0 -4]\n",
      "[4. 8.]\n"
     ]
    }
   ],
   "source": [
    "# Ecuaciones\n",
    "# y=2x\n",
    "# y=x+4\n",
    "#Remplazo y de la primera ecuacion en la segunda ecuacion\n",
    "# 2x=x+4\n",
    "# 2x-x=4\n",
    "# x=4\n",
    "\n",
    "#remplazo x en la segunda ecuacion\n",
    "# y=4+4\n",
    "\n",
    "# Igualo ecuacion 1 y 2 a cero o el numero entero\n",
    "# 2x-y=0\n",
    "# x-y=-4\n",
    "\n",
    "\n",
    "import numpy as np\n",
    "a=np.array([[2,-1],[1,-1]])\n",
    "# b= Almacena los valores del vector solucion \n",
    "b=np.array([0,-4])\n",
    "print(a)\n",
    "print(b)\n",
    "x=np.linalg.solve(a,b)\n",
    "print(x)"
   ]
  },
  {
   "cell_type": "code",
   "execution_count": 67,
   "id": "58cdb0d4",
   "metadata": {},
   "outputs": [
    {
     "name": "stdout",
     "output_type": "stream",
     "text": [
      "2700\n",
      "Gaste 2700, y me sobraron 2300 \n"
     ]
    }
   ],
   "source": [
    "pan=200\n",
    "arroz=1000\n",
    "sal=1500\n",
    "# saber cuanto gaste al haber comprado un pan. un y una sal\n",
    "x=pan+arroz+sal\n",
    "print(x)\n",
    "\n",
    "y=5000\n",
    "\n",
    "vuelta=y-x\n",
    "print(\"Gaste {}, y me sobraron {} \".format(x,vuelta))"
   ]
  },
  {
   "cell_type": "code",
   "execution_count": 69,
   "id": "c867f75f",
   "metadata": {},
   "outputs": [
    {
     "name": "stdout",
     "output_type": "stream",
     "text": [
      "60\n"
     ]
    }
   ],
   "source": [
    "# 5+(6*10)=65\n",
    "# 5+x=65\n",
    "x=65-5\n",
    "\n",
    "print(x)\n"
   ]
  },
  {
   "cell_type": "code",
   "execution_count": 70,
   "id": "7f2801f0",
   "metadata": {},
   "outputs": [
    {
     "ename": "SyntaxError",
     "evalue": "invalid syntax (<ipython-input-70-a1dfebabe3c9>, line 1)",
     "output_type": "error",
     "traceback": [
      "\u001b[0;36m  File \u001b[0;32m\"<ipython-input-70-a1dfebabe3c9>\"\u001b[0;36m, line \u001b[0;32m1\u001b[0m\n\u001b[0;31m    2 v=1\u001b[0m\n\u001b[0m      ^\u001b[0m\n\u001b[0;31mSyntaxError\u001b[0m\u001b[0;31m:\u001b[0m invalid syntax\n"
     ]
    }
   ],
   "source": [
    "2 v=1\n",
    "print(2 v)"
   ]
  },
  {
   "cell_type": "code",
   "execution_count": 71,
   "id": "b3054f05",
   "metadata": {},
   "outputs": [
    {
     "ename": "SyntaxError",
     "evalue": "invalid syntax (<ipython-input-71-f551c91d57cc>, line 1)",
     "output_type": "error",
     "traceback": [
      "\u001b[0;36m  File \u001b[0;32m\"<ipython-input-71-f551c91d57cc>\"\u001b[0;36m, line \u001b[0;32m1\u001b[0m\n\u001b[0;31m    v 1=2\u001b[0m\n\u001b[0m      ^\u001b[0m\n\u001b[0;31mSyntaxError\u001b[0m\u001b[0;31m:\u001b[0m invalid syntax\n"
     ]
    }
   ],
   "source": [
    "v 1=2\n",
    "print(v 1)"
   ]
  },
  {
   "cell_type": "code",
   "execution_count": 72,
   "id": "6987ceeb",
   "metadata": {},
   "outputs": [
    {
     "name": "stdout",
     "output_type": "stream",
     "text": [
      "2\n"
     ]
    }
   ],
   "source": [
    "v1=2\n",
    "print(v1)"
   ]
  },
  {
   "cell_type": "code",
   "execution_count": 73,
   "id": "d9ed1e85",
   "metadata": {},
   "outputs": [
    {
     "name": "stdout",
     "output_type": "stream",
     "text": [
      "2\n"
     ]
    }
   ],
   "source": [
    "v_1=2\n",
    "print(v_1)"
   ]
  },
  {
   "cell_type": "code",
   "execution_count": null,
   "id": "13c2b3bc",
   "metadata": {},
   "outputs": [],
   "source": [
    "animale=['perro','gato','conejo','nevera','moto']"
   ]
  },
  {
   "cell_type": "code",
   "execution_count": 91,
   "id": "76ea2361",
   "metadata": {},
   "outputs": [
    {
     "name": "stdout",
     "output_type": "stream",
     "text": [
      "Ingresa el numero de estudiantes a matricular 234\n",
      "234.0\n",
      "Cupos diferencia  224.0\n",
      "posible cupo  244.0\n",
      "no voy a tener cupos disponibles\n"
     ]
    }
   ],
   "source": [
    "#Tengo un numero de estudiantes matriculados que van a ser 10, tengo un cupo de 20 estudiantes, necesito \n",
    "# matricular nuevos estudiantes. Programa que me permita ingresar nuevos estudiantes al curso pero que no supere el cupo\n",
    "\n",
    "m=10\n",
    "d=10\n",
    "x=20\n",
    "e=float(input(\"Ingresa el numero de estudiantes a matricular \"))\n",
    "print(e)\n",
    "df=e-d\n",
    "print(\"Cupos diferencia \",df)\n",
    "y=m+e\n",
    "print(\"posible cupo \",y)\n",
    "if y>20:\n",
    "    print(\"no voy a tener cupos disponibles\")\n",
    "else:\n",
    "    print(\"Estudiantes matriculados\")"
   ]
  },
  {
   "cell_type": "code",
   "execution_count": 96,
   "id": "7927c1c0",
   "metadata": {},
   "outputs": [
    {
     "name": "stdout",
     "output_type": "stream",
     "text": [
      "Ingresa el numero de estudiantes a matricular 3\n",
      "3\n",
      "Estudiantes matriculados 13. Cupos disponibles. 7\n",
      "Ingresa el numero de estudiantes a matricular 2\n",
      "Estudiantes matriculados:  15\n"
     ]
    }
   ],
   "source": [
    "#Tengo un numero de estudiantes matriculados que van a ser 10, tengo un cupo de 20 estudiantes, necesito \n",
    "# matricular nuevos estudiantes. Programa que me permita ingresar nuevos estudiantes al curso pero que no supere el cupo\n",
    "\n",
    "m=10\n",
    "d=10\n",
    "x=20\n",
    "e=int(input(\"Ingresa el numero de estudiantes a matricular \"))\n",
    "print(e)\n",
    "df=e-d\n",
    "# print(\"Cupos diferencia \",df)\n",
    "y=m+e\n",
    "# print(\"posible cupo \",y)\n",
    "while y>20:\n",
    "    y=m\n",
    "    z=x-m\n",
    "    print(\"No voy a tener cupos disponibles, cupo maximo 20, estudiantes matriculados 10. Cupos disponibles {}\".format(z))\n",
    "    e=int(input(\"Ingresa el numero de estudiantes a matricular \"))\n",
    "    y+=e\n",
    "else:\n",
    "    r=x-y\n",
    "    print(\"Estudiantes matriculados {}. Cupos disponibles. {}\".format(y,r))\n",
    "    e=int(input(\"Ingresa el numero de estudiantes a matricular \"))\n",
    "    if e>r:\n",
    "        print(\"El numero de cupos no esta disponible. Cupos disponibles: \",r)\n",
    "    else:\n",
    "        r=y+e\n",
    "        print(\"Estudiantes matriculados: \",r)\n",
    "        \n",
    "    "
   ]
  },
  {
   "cell_type": "code",
   "execution_count": 102,
   "id": "494e209f",
   "metadata": {},
   "outputs": [
    {
     "name": "stdout",
     "output_type": "stream",
     "text": [
      "En las paginas se recogieron 3.333333333333333 veces mas donaciones que en eventos publicos \n",
      "En las paginas se recogio un total:  66666\n",
      "Veces en donaciones 3.333333333333333. Ganancia en paginas 66666\n",
      "Veces en donaciones:  3.333333333333333  Ganancia en paginas  66666\n"
     ]
    }
   ],
   "source": [
    "pag=2/3\n",
    "camp=1/5\n",
    "eventos=1/6\n",
    "\n",
    "camp_valor=20000\n",
    "x=pag/camp\n",
    "\n",
    "pag_valor=int(x*camp_valor)\n",
    "print(\"En las paginas se recogieron {} veces mas donaciones que en eventos publicos \".format(x))\n",
    "print(\"En las paginas se recogio un total: \",pag_valor)\n",
    "\n",
    "print(\"Veces en donaciones {}. Ganancia en paginas {}\".format(x,pag_valor))\n",
    "\n",
    "print(\"Veces en donaciones: \",x,\" Ganancia en paginas \",pag_valor)\n",
    "\n"
   ]
  }
 ],
 "metadata": {
  "kernelspec": {
   "display_name": "Python 3",
   "language": "python",
   "name": "python3"
  },
  "language_info": {
   "codemirror_mode": {
    "name": "ipython",
    "version": 3
   },
   "file_extension": ".py",
   "mimetype": "text/x-python",
   "name": "python",
   "nbconvert_exporter": "python",
   "pygments_lexer": "ipython3",
   "version": "3.9.1"
  }
 },
 "nbformat": 4,
 "nbformat_minor": 5
}
