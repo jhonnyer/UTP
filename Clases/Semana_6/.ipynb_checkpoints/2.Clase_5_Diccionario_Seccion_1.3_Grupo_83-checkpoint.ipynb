{
 "cells": [
  {
   "cell_type": "code",
   "execution_count": 1,
   "id": "a18f5e91",
   "metadata": {},
   "outputs": [
    {
     "name": "stdout",
     "output_type": "stream",
     "text": [
      "{}\n",
      "<class 'dict'>\n"
     ]
    }
   ],
   "source": [
    "# DEfinicion de un diccionario\n",
    "diccionario={}\n",
    "print(diccionario)\n",
    "print(type(diccionario))"
   ]
  },
  {
   "cell_type": "code",
   "execution_count": 2,
   "id": "fe650614",
   "metadata": {},
   "outputs": [
    {
     "name": "stdout",
     "output_type": "stream",
     "text": [
      "{}\n",
      "<class 'dict'>\n"
     ]
    }
   ],
   "source": [
    "# DEfinicion de un diccionario\n",
    "diccionario=dict()\n",
    "print(diccionario)\n",
    "print(type(diccionario))"
   ]
  },
  {
   "cell_type": "code",
   "execution_count": 3,
   "id": "11e08d2a",
   "metadata": {},
   "outputs": [
    {
     "name": "stdout",
     "output_type": "stream",
     "text": [
      "{'total': 55}\n",
      "{'valor': 123.555}\n"
     ]
    }
   ],
   "source": [
    "diccionario={'total':55}\n",
    "print(diccionario)\n",
    "otrodiccionario={'valor':123.555}\n",
    "print(otrodiccionario)"
   ]
  },
  {
   "cell_type": "code",
   "execution_count": 5,
   "id": "d2686982",
   "metadata": {},
   "outputs": [
    {
     "name": "stdout",
     "output_type": "stream",
     "text": [
      "{'total': 55, 'valor1': 22.44, 'valor2': 'Hola mundo', 'valor3': [1, 5, 6, 'hola', 1.344], 'valor4': True}\n"
     ]
    }
   ],
   "source": [
    "diccionario={'total':55,'valor1':22.44,'valor2':'Hola mundo','valor3':[1,5,6,'hola',1.344],'valor4':True}\n",
    "print(diccionario)\n"
   ]
  },
  {
   "cell_type": "code",
   "execution_count": 6,
   "id": "9a438a32",
   "metadata": {},
   "outputs": [
    {
     "name": "stdout",
     "output_type": "stream",
     "text": [
      "{'nombre': 7, 'valor1': 22.44, 'valor2': 'Hola mundo', 'valor3': [1, 5, 6, 'hola', 1.344], 'valor4': True}\n"
     ]
    }
   ],
   "source": [
    "diccionario_Excel={'nombre':5+2,'valor1':22.44,'valor2':'Hola mundo','valor3':[1,5,6,'hola',1.344],'valor4':True}\n",
    "print(diccionario_Excel)\n"
   ]
  },
  {
   "cell_type": "code",
   "execution_count": 7,
   "id": "56da86a8",
   "metadata": {},
   "outputs": [
    {
     "name": "stdout",
     "output_type": "stream",
     "text": [
      "{'total': 55, 'descuento': True, 'subtotal': 15}\n"
     ]
    }
   ],
   "source": [
    "diccionario=dict(total=55,descuento=True,subtotal=15)\n",
    "print(diccionario)"
   ]
  },
  {
   "cell_type": "code",
   "execution_count": 9,
   "id": "0426505c",
   "metadata": {},
   "outputs": [
    {
     "name": "stdout",
     "output_type": "stream",
     "text": [
      "{'nombre': 'Juan', 'edad': 23, 'curso': 'Curso de python', 'skills': {'programacion': True, 'base_datos': False}, 'No medallas': 10}\n"
     ]
    }
   ],
   "source": [
    "usuario={\n",
    "    'nombre':'Juan',\n",
    "    'edad':23,\n",
    "    'curso':'Curso de python',\n",
    "    'skills':{\n",
    "        'programacion':True,\n",
    "        'base_datos':False\n",
    "    },\n",
    "    'No medallas':10\n",
    "}\n",
    "print(usuario)"
   ]
  },
  {
   "cell_type": "code",
   "execution_count": 16,
   "id": "ac82fcc5",
   "metadata": {},
   "outputs": [
    {
     "name": "stdout",
     "output_type": "stream",
     "text": [
      "23\n",
      "Curso de python\n",
      "{'programacion': True, 'base_datos': False}\n",
      "True\n"
     ]
    }
   ],
   "source": [
    "print(usuario['edad'])\n",
    "print(usuario['curso'])\n",
    "print(usuario['skills'])\n",
    "print(usuario['skills']['programacion'])"
   ]
  },
  {
   "cell_type": "code",
   "execution_count": 10,
   "id": "af56338c",
   "metadata": {},
   "outputs": [
    {
     "data": {
      "text/plain": [
       "'hola'"
      ]
     },
     "execution_count": 10,
     "metadata": {},
     "output_type": "execute_result"
    }
   ],
   "source": [
    "listas=[3,6,'hola']\n",
    "listas[2]"
   ]
  },
  {
   "cell_type": "code",
   "execution_count": 12,
   "id": "73e9309e",
   "metadata": {},
   "outputs": [
    {
     "data": {
      "text/plain": [
       "'m'"
      ]
     },
     "execution_count": 12,
     "metadata": {},
     "output_type": "execute_result"
    }
   ],
   "source": [
    "cad='Hola mundo'\n",
    "cad[5]"
   ]
  },
  {
   "cell_type": "code",
   "execution_count": 17,
   "id": "02ddf6d8",
   "metadata": {},
   "outputs": [
    {
     "name": "stdout",
     "output_type": "stream",
     "text": [
      "{'total': 55, 'descuento': True, 'subtotal': '15'}\n",
      "15\n"
     ]
    }
   ],
   "source": [
    "diccionario=dict(total=55,descuento=True,subtotal='15')\n",
    "print(diccionario)\n",
    "print(diccionario['subtotal'])"
   ]
  },
  {
   "cell_type": "code",
   "execution_count": 29,
   "id": "3f2eda5a",
   "metadata": {},
   "outputs": [
    {
     "name": "stdout",
     "output_type": "stream",
     "text": [
      "{'nombre': 'Juan', 'edad': 23, 'curso': 'Curso de python', 'skills': {'programacion': True, 'base_datos': False, 'lista1': [1, 3, 5, 5]}, 'No medallas': 10, 'lista': [1, 4, 6, 'hola', 1.35]}\n"
     ]
    }
   ],
   "source": [
    "usuario={\n",
    "    'nombre':'Juan',\n",
    "    'edad':23,\n",
    "    'curso':'Curso de python',\n",
    "    'skills':{\n",
    "        'programacion':True,\n",
    "        'base_datos':False,\n",
    "        'lista1':[1,3,5,5]\n",
    "    },\n",
    "    'No medallas':10,\n",
    "    'lista':[1,4,6,'hola',1.35]\n",
    "}\n",
    "print(usuario)"
   ]
  },
  {
   "cell_type": "code",
   "execution_count": 32,
   "id": "783de30d",
   "metadata": {},
   "outputs": [
    {
     "name": "stdout",
     "output_type": "stream",
     "text": [
      "[1, 4, 6, 'hola', 1.35]\n",
      "hola\n"
     ]
    }
   ],
   "source": [
    "print(usuario['lista'])\n",
    "print(usuario['lista'][3])"
   ]
  },
  {
   "cell_type": "code",
   "execution_count": 35,
   "id": "54a8e74f",
   "metadata": {},
   "outputs": [
    {
     "name": "stdout",
     "output_type": "stream",
     "text": [
      "{'programacion': True, 'base_datos': False, 'lista1': [1, 3, 5, 5]}\n",
      "[1, 3, 5, 5]\n",
      "5\n"
     ]
    }
   ],
   "source": [
    "print(usuario['skills'])\n",
    "print(usuario['skills']['lista1'])\n",
    "print(usuario['skills']['lista1'][2])"
   ]
  },
  {
   "cell_type": "code",
   "execution_count": 26,
   "id": "b9d894b3",
   "metadata": {},
   "outputs": [
    {
     "name": "stdout",
     "output_type": "stream",
     "text": [
      "{}\n",
      "{'marca': 'Mazda'}\n",
      "{'marca': 'Subaru'}\n",
      "Subaru\n"
     ]
    }
   ],
   "source": [
    "#Añadiendo un valor al diccionario\n",
    "diccionario=dict()\n",
    "print(diccionario)\n",
    "diccionario['marca']='Mazda'\n",
    "print(diccionario)\n",
    "#Modificar un valor en un diccionario\n",
    "diccionario['marca']='Subaru'\n",
    "print(diccionario)\n",
    "print(diccionario['marca'])"
   ]
  },
  {
   "cell_type": "code",
   "execution_count": 27,
   "id": "8944cdd8",
   "metadata": {},
   "outputs": [
    {
     "name": "stdout",
     "output_type": "stream",
     "text": [
      "{'marca': 'Subaru', 'color': 'Rojo', 'año': 2002, 'flotante': 13.55}\n"
     ]
    }
   ],
   "source": [
    "#Añadir valores a un diccionario\n",
    "diccionario['color']='Rojo'\n",
    "diccionario['año']=2002\n",
    "diccionario['flotante']=13.55\n",
    "print(diccionario)"
   ]
  },
  {
   "cell_type": "code",
   "execution_count": 36,
   "id": "3a62d04e",
   "metadata": {},
   "outputs": [
    {
     "data": {
      "text/plain": [
       "['__class__',\n",
       " '__class_getitem__',\n",
       " '__contains__',\n",
       " '__delattr__',\n",
       " '__delitem__',\n",
       " '__dir__',\n",
       " '__doc__',\n",
       " '__eq__',\n",
       " '__format__',\n",
       " '__ge__',\n",
       " '__getattribute__',\n",
       " '__getitem__',\n",
       " '__gt__',\n",
       " '__hash__',\n",
       " '__init__',\n",
       " '__init_subclass__',\n",
       " '__ior__',\n",
       " '__iter__',\n",
       " '__le__',\n",
       " '__len__',\n",
       " '__lt__',\n",
       " '__ne__',\n",
       " '__new__',\n",
       " '__or__',\n",
       " '__reduce__',\n",
       " '__reduce_ex__',\n",
       " '__repr__',\n",
       " '__reversed__',\n",
       " '__ror__',\n",
       " '__setattr__',\n",
       " '__setitem__',\n",
       " '__sizeof__',\n",
       " '__str__',\n",
       " '__subclasshook__',\n",
       " 'clear',\n",
       " 'copy',\n",
       " 'fromkeys',\n",
       " 'get',\n",
       " 'items',\n",
       " 'keys',\n",
       " 'pop',\n",
       " 'popitem',\n",
       " 'setdefault',\n",
       " 'update',\n",
       " 'values']"
      ]
     },
     "execution_count": 36,
     "metadata": {},
     "output_type": "execute_result"
    }
   ],
   "source": [
    "dir(diccionario)"
   ]
  },
  {
   "cell_type": "code",
   "execution_count": 37,
   "id": "c7bdd3d2",
   "metadata": {},
   "outputs": [
    {
     "name": "stdout",
     "output_type": "stream",
     "text": [
      "{'Eduardo': 1, 'Fernando': 2, 'Uriel': 3, 'Rafael': 4}\n"
     ]
    }
   ],
   "source": [
    "diccionario={'Eduardo':1,'Fernando':2,'Uriel':3,'Rafael':4}\n",
    "print(diccionario)"
   ]
  },
  {
   "cell_type": "code",
   "execution_count": 38,
   "id": "5d0d8ce8",
   "metadata": {},
   "outputs": [
    {
     "name": "stdout",
     "output_type": "stream",
     "text": [
      "{'Eduardo': 1, 'Fernando': 2, 'Uriel': 3, 'Rafael': 4}\n"
     ]
    }
   ],
   "source": [
    "diccionario={\n",
    "        'Eduardo':1, \n",
    "        'Fernando':2,\n",
    "        'Uriel':3,\n",
    "        'Rafael':4\n",
    "    }\n",
    "print(diccionario)"
   ]
  },
  {
   "cell_type": "code",
   "execution_count": 39,
   "id": "b3f801be",
   "metadata": {},
   "outputs": [
    {
     "data": {
      "text/plain": [
       "dict_keys(['Eduardo', 'Fernando', 'Uriel', 'Rafael'])"
      ]
     },
     "execution_count": 39,
     "metadata": {},
     "output_type": "execute_result"
    }
   ],
   "source": [
    "#Metodo keys()\n",
    "diccionario.keys()"
   ]
  },
  {
   "cell_type": "code",
   "execution_count": 45,
   "id": "3940f203",
   "metadata": {},
   "outputs": [
    {
     "name": "stdout",
     "output_type": "stream",
     "text": [
      "dict_keys(['Eduardo', 'Fernando', 'Uriel', 'Rafael'])\n",
      "<class 'dict_keys'>\n",
      "['Eduardo', 'Fernando', 'Uriel', 'Rafael']\n",
      "<class 'list'>\n",
      "Uriel\n"
     ]
    }
   ],
   "source": [
    "#Metodo Keys y convertido en una lista\n",
    "var=diccionario.keys()\n",
    "print(var)\n",
    "print(type(var))\n",
    "var=list(var)\n",
    "print(var)\n",
    "print(type(var))\n",
    "print(var[2])"
   ]
  },
  {
   "cell_type": "code",
   "execution_count": 46,
   "id": "52ab01c6",
   "metadata": {},
   "outputs": [
    {
     "name": "stdout",
     "output_type": "stream",
     "text": [
      "dict_values([1, 2, 3, 4])\n",
      "<class 'dict_values'>\n",
      "[1, 2, 3, 4]\n",
      "<class 'list'>\n",
      "3\n"
     ]
    }
   ],
   "source": [
    "#Metodo Values y convertido en una lista\n",
    "var=diccionario.values()\n",
    "print(var)\n",
    "print(type(var))\n",
    "var=list(var)\n",
    "print(var)\n",
    "print(type(var))\n",
    "print(var[2])"
   ]
  },
  {
   "cell_type": "code",
   "execution_count": 48,
   "id": "17b6a7e0",
   "metadata": {},
   "outputs": [
    {
     "name": "stdout",
     "output_type": "stream",
     "text": [
      "{'clave1': 1234, 'cadena': True, 'clave3': 'Valor 1'}\n",
      "<class 'dict'>\n"
     ]
    }
   ],
   "source": [
    "diccionario={\n",
    "    'clave1':1234,\n",
    "    'cadena':True,\n",
    "    'clave3':'Valor 1'\n",
    "}\n",
    "print(diccionario)\n",
    "print(type(diccionario))"
   ]
  },
  {
   "cell_type": "code",
   "execution_count": 49,
   "id": "c45ae989",
   "metadata": {},
   "outputs": [
    {
     "data": {
      "text/plain": [
       "1234"
      ]
     },
     "execution_count": 49,
     "metadata": {},
     "output_type": "execute_result"
    }
   ],
   "source": [
    "diccionario['clave1']"
   ]
  }
 ],
 "metadata": {
  "kernelspec": {
   "display_name": "Python 3",
   "language": "python",
   "name": "python3"
  },
  "language_info": {
   "codemirror_mode": {
    "name": "ipython",
    "version": 3
   },
   "file_extension": ".py",
   "mimetype": "text/x-python",
   "name": "python",
   "nbconvert_exporter": "python",
   "pygments_lexer": "ipython3",
   "version": "3.9.1"
  }
 },
 "nbformat": 4,
 "nbformat_minor": 5
}
