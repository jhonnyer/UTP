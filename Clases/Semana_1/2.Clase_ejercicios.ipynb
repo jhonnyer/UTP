{
 "cells": [
  {
   "cell_type": "code",
   "execution_count": 315,
   "id": "b9b5411c",
   "metadata": {},
   "outputs": [
    {
     "name": "stdout",
     "output_type": "stream",
     "text": [
      "No tienes gasolina\n"
     ]
    }
   ],
   "source": [
    "x=0 #tiene gasolina\n",
    "if x==1:\n",
    "    print(\"Puedes salir de viaje\")\n",
    "else:\n",
    "    print(\"No tienes gasolina\")\n"
   ]
  },
  {
   "cell_type": "code",
   "execution_count": 321,
   "id": "f716f0cb",
   "metadata": {},
   "outputs": [
    {
     "name": "stdout",
     "output_type": "stream",
     "text": [
      "13\n",
      "14\n"
     ]
    }
   ],
   "source": [
    "var=13\n",
    "p=14\n",
    "print(var)\n",
    "print(p)"
   ]
  },
  {
   "cell_type": "code",
   "execution_count": 317,
   "id": "fb71f5ad",
   "metadata": {},
   "outputs": [
    {
     "name": "stdout",
     "output_type": "stream",
     "text": [
      "hola mundo\n"
     ]
    }
   ],
   "source": [
    "var=\"hola mundo\"\n",
    "print(var)"
   ]
  },
  {
   "cell_type": "code",
   "execution_count": 319,
   "id": "961bbf96",
   "metadata": {
    "scrolled": true
   },
   "outputs": [
    {
     "name": "stdout",
     "output_type": "stream",
     "text": [
      "{'azul', 'verde', 'morado'}\n"
     ]
    }
   ],
   "source": [
    "colores={'azul','verde','morado'}\n",
    "print(colores)"
   ]
  },
  {
   "cell_type": "code",
   "execution_count": 322,
   "id": "ee0f8542",
   "metadata": {},
   "outputs": [
    {
     "name": "stdout",
     "output_type": "stream",
     "text": [
      "182\n"
     ]
    }
   ],
   "source": [
    "c=var*p\n",
    "print(c)"
   ]
  },
  {
   "cell_type": "code",
   "execution_count": 323,
   "id": "62e7e76b",
   "metadata": {},
   "outputs": [
    {
     "name": "stdout",
     "output_type": "stream",
     "text": [
      "[4. 8.]\n"
     ]
    }
   ],
   "source": [
    "# y=2x\n",
    "# y=x+4\n",
    "\n",
    "# 2x=x+4\n",
    "# x=4\n",
    "\n",
    "# y=x+4\n",
    "# y=8\n",
    "\n",
    "# 2x-y=0\n",
    "# x-y=-4\n",
    "\n",
    "\n",
    "import numpy as np\n",
    "a=np.array([[2,-1],[1,-1]])\n",
    "b=np.array([0,-4])\n",
    "\n",
    "x=np.linalg.solve(a,b)\n",
    "print(x)\n"
   ]
  },
  {
   "cell_type": "code",
   "execution_count": null,
   "id": "e7551ee5",
   "metadata": {},
   "outputs": [],
   "source": [
    "**Ejemplo:**\n",
    "|__|__|__|__|__|\n",
    "0  1  2  3  4  5\n",
    "6 valores\n"
   ]
  },
  {
   "cell_type": "markdown",
   "id": "f7496a23",
   "metadata": {},
   "source": [
    "**Ejemplo:** Definir una variable como la fracción de focos defectuosos en una inspección de 100 focos escogidos aleatoriamente en el almacen de una fabrica\n",
    "\n",
    "1/100    2/100    3/100    4/100 ....   10/100\n",
    "11/100   12/100   13/100   14/100 ....  20/100\n",
    "21/100   22/100   23/100   24/100 ....  30/100\n",
    "....\n",
    "....\n",
    "91/100   92/100   93/100   94/100 ....  100/100\n"
   ]
  },
  {
   "cell_type": "markdown",
   "id": "85abb560",
   "metadata": {},
   "source": [
    "**Ejemplo**\n",
    "Verificar el volumen de agua dentro de una lavadora de 200cm³\n",
    "\n",
    "|__________|____|____|____|__|__|||||||||||||____________|\n",
    "0                                        181.12 182.23  200\n"
   ]
  },
  {
   "cell_type": "code",
   "execution_count": 327,
   "id": "72b6b0b4",
   "metadata": {},
   "outputs": [
    {
     "name": "stdout",
     "output_type": "stream",
     "text": [
      "2\n",
      "Hola\n",
      "HolaHola\n"
     ]
    }
   ],
   "source": [
    "var=2\n",
    "print(var)\n",
    "\n",
    "p=\"Hola\"\n",
    "# p=1.5\n",
    "print(p)\n",
    "\n",
    "c=var*p\n",
    "print(c)\n",
    "\n"
   ]
  },
  {
   "cell_type": "code",
   "execution_count": 329,
   "id": "575fe80a",
   "metadata": {},
   "outputs": [
    {
     "name": "stdout",
     "output_type": "stream",
     "text": [
      "Ingrese un valor a sumar: 123\n"
     ]
    },
    {
     "ename": "TypeError",
     "evalue": "can only concatenate str (not \"int\") to str",
     "output_type": "error",
     "traceback": [
      "\u001b[0;31m---------------------------------------------------------------------------\u001b[0m",
      "\u001b[0;31mTypeError\u001b[0m                                 Traceback (most recent call last)",
      "\u001b[0;32m<ipython-input-329-1c802761761a>\u001b[0m in \u001b[0;36m<module>\u001b[0;34m\u001b[0m\n\u001b[1;32m      1\u001b[0m \u001b[0mv\u001b[0m\u001b[0;34m=\u001b[0m\u001b[0minput\u001b[0m\u001b[0;34m(\u001b[0m\u001b[0;34m\"Ingrese un valor a sumar: \"\u001b[0m\u001b[0;34m)\u001b[0m\u001b[0;34m\u001b[0m\u001b[0;34m\u001b[0m\u001b[0m\n\u001b[0;32m----> 2\u001b[0;31m \u001b[0mc\u001b[0m\u001b[0;34m=\u001b[0m\u001b[0mv\u001b[0m\u001b[0;34m+\u001b[0m\u001b[0;36m20\u001b[0m\u001b[0;34m\u001b[0m\u001b[0;34m\u001b[0m\u001b[0m\n\u001b[0m\u001b[1;32m      3\u001b[0m \u001b[0mprint\u001b[0m\u001b[0;34m(\u001b[0m\u001b[0mc\u001b[0m\u001b[0;34m)\u001b[0m\u001b[0;34m\u001b[0m\u001b[0;34m\u001b[0m\u001b[0m\n",
      "\u001b[0;31mTypeError\u001b[0m: can only concatenate str (not \"int\") to str"
     ]
    }
   ],
   "source": [
    "v=input(\"Ingrese un valor a sumar: \")\n",
    "c=v+20\n",
    "print(c)\n"
   ]
  },
  {
   "cell_type": "code",
   "execution_count": 333,
   "id": "ddbdc6e0",
   "metadata": {},
   "outputs": [
    {
     "name": "stdout",
     "output_type": "stream",
     "text": [
      "Ingrese un valor12.3\n",
      "22.3\n"
     ]
    }
   ],
   "source": [
    "ent=float(input(\"Ingrese un valor\"))\n",
    "c=ent+10\n",
    "print(c)"
   ]
  },
  {
   "cell_type": "code",
   "execution_count": 335,
   "id": "5bcf9482",
   "metadata": {},
   "outputs": [
    {
     "name": "stdout",
     "output_type": "stream",
     "text": [
      "El carro no tiene gasolina, no puedes viajar\n"
     ]
    }
   ],
   "source": [
    "x=0 #tiene gasolina\n",
    "\n",
    "if x==1:\n",
    "    print(\"El carro tiene gasolina, puedes viajar\")\n",
    "else:\n",
    "    print(\"El carro no tiene gasolina, no puedes viajar\")"
   ]
  },
  {
   "cell_type": "code",
   "execution_count": 336,
   "id": "023c46f1",
   "metadata": {},
   "outputs": [
    {
     "name": "stdout",
     "output_type": "stream",
     "text": [
      "0\n",
      "1\n",
      "2\n",
      "3\n",
      "4\n",
      "5\n",
      "6\n",
      "7\n",
      "8\n",
      "9\n",
      "[0, 1, 2, 3, 4, 5, 6, 7, 8, 9]\n"
     ]
    }
   ],
   "source": [
    "r=range(10)\n",
    "[0,1,2,3,4,5,6,7,8,9]\n",
    "data=[]\n",
    "for i in range(10):\n",
    "    data.append(i)\n",
    "    print(i)\n",
    "\n",
    "print(data)"
   ]
  },
  {
   "cell_type": "code",
   "execution_count": 338,
   "id": "7344830d",
   "metadata": {},
   "outputs": [
    {
     "name": "stdout",
     "output_type": "stream",
     "text": [
      "9.8\n",
      "19.6\n"
     ]
    }
   ],
   "source": [
    "GRAVEDAD=9.8\n",
    "\n",
    "print(GRAVEDAD)\n",
    "\n",
    "c=2*GRAVEDAD\n",
    "print(c)"
   ]
  },
  {
   "cell_type": "code",
   "execution_count": 357,
   "id": "f17fb6a6",
   "metadata": {},
   "outputs": [
    {
     "name": "stdout",
     "output_type": "stream",
     "text": [
      "roja\n",
      "verde\n",
      "violeta\n",
      "azul\n",
      "amarillo\n",
      "0 roja\n",
      "1 verde\n",
      "2 violeta\n",
      "3 azul\n",
      "4 amarillo\n",
      "['roja', 'verde', 'violeta', 'azul', 'amarillo']\n",
      "Jhonnyer tiene una camisa  amarillo  y unos zapatos  nike\n"
     ]
    }
   ],
   "source": [
    "# listas=['roja','azul','verde','amarillo','violeta']\n",
    "# listas[4]\n",
    "\n",
    "camisas={'roja','azul','verde','amarillo','violeta'}\n",
    "data=[]\n",
    "\n",
    "zapato=\"nike\"\n",
    "for cm in camisas:\n",
    "    data.append(cm)\n",
    "    print(cm)\n",
    "    \n",
    "    \n",
    "for i, d in enumerate(data):\n",
    "    print(i,d)\n",
    "\n",
    "print(data)\n",
    "print(\"Jhonnyer tiene una camisa \",data[4],\" y unos zapatos \",zapato)\n",
    "\n"
   ]
  },
  {
   "cell_type": "code",
   "execution_count": 367,
   "id": "8f1648f9",
   "metadata": {},
   "outputs": [
    {
     "name": "stdout",
     "output_type": "stream",
     "text": [
      "0 lulo\n"
     ]
    },
    {
     "ename": "KeyboardInterrupt",
     "evalue": "Interrupted by user",
     "output_type": "error",
     "traceback": [
      "\u001b[0;31m---------------------------------------------------------------------------\u001b[0m",
      "\u001b[0;31mKeyboardInterrupt\u001b[0m                         Traceback (most recent call last)",
      "\u001b[0;32m<ipython-input-367-3ac91524ccc9>\u001b[0m in \u001b[0;36m<module>\u001b[0;34m\u001b[0m\n\u001b[1;32m      6\u001b[0m \u001b[0;32mfor\u001b[0m \u001b[0mi\u001b[0m\u001b[0;34m,\u001b[0m \u001b[0mp\u001b[0m \u001b[0;32min\u001b[0m \u001b[0menumerate\u001b[0m\u001b[0;34m(\u001b[0m\u001b[0mproducto\u001b[0m\u001b[0;34m)\u001b[0m\u001b[0;34m:\u001b[0m\u001b[0;34m\u001b[0m\u001b[0;34m\u001b[0m\u001b[0m\n\u001b[1;32m      7\u001b[0m     \u001b[0mprint\u001b[0m\u001b[0;34m(\u001b[0m\u001b[0mi\u001b[0m\u001b[0;34m,\u001b[0m\u001b[0mp\u001b[0m\u001b[0;34m)\u001b[0m\u001b[0;34m\u001b[0m\u001b[0;34m\u001b[0m\u001b[0m\n\u001b[0;32m----> 8\u001b[0;31m     \u001b[0mvt\u001b[0m\u001b[0;34m=\u001b[0m\u001b[0mfloat\u001b[0m\u001b[0;34m(\u001b[0m\u001b[0minput\u001b[0m\u001b[0;34m(\u001b[0m\u001b[0;34m\"Ingrese el valor del producto {} \"\u001b[0m\u001b[0;34m.\u001b[0m\u001b[0mformat\u001b[0m\u001b[0;34m(\u001b[0m\u001b[0mp\u001b[0m\u001b[0;34m)\u001b[0m\u001b[0;34m)\u001b[0m\u001b[0;34m)\u001b[0m\u001b[0;34m\u001b[0m\u001b[0;34m\u001b[0m\u001b[0m\n\u001b[0m\u001b[1;32m      9\u001b[0m     \u001b[0mproducto\u001b[0m\u001b[0;34m[\u001b[0m\u001b[0mp\u001b[0m\u001b[0;34m]\u001b[0m\u001b[0;34m=\u001b[0m\u001b[0mvt\u001b[0m\u001b[0;34m\u001b[0m\u001b[0;34m\u001b[0m\u001b[0m\n\u001b[1;32m     10\u001b[0m     \u001b[0mventa\u001b[0m\u001b[0;34m.\u001b[0m\u001b[0mappend\u001b[0m\u001b[0;34m(\u001b[0m\u001b[0mvt\u001b[0m\u001b[0;34m)\u001b[0m\u001b[0;34m\u001b[0m\u001b[0;34m\u001b[0m\u001b[0m\n",
      "\u001b[0;32m~/miniconda3/lib/python3.9/site-packages/ipykernel/kernelbase.py\u001b[0m in \u001b[0;36mraw_input\u001b[0;34m(self, prompt)\u001b[0m\n\u001b[1;32m    858\u001b[0m                 \u001b[0;34m\"raw_input was called, but this frontend does not support input requests.\"\u001b[0m\u001b[0;34m\u001b[0m\u001b[0;34m\u001b[0m\u001b[0m\n\u001b[1;32m    859\u001b[0m             )\n\u001b[0;32m--> 860\u001b[0;31m         return self._input_request(str(prompt),\n\u001b[0m\u001b[1;32m    861\u001b[0m             \u001b[0mself\u001b[0m\u001b[0;34m.\u001b[0m\u001b[0m_parent_ident\u001b[0m\u001b[0;34m,\u001b[0m\u001b[0;34m\u001b[0m\u001b[0;34m\u001b[0m\u001b[0m\n\u001b[1;32m    862\u001b[0m             \u001b[0mself\u001b[0m\u001b[0;34m.\u001b[0m\u001b[0m_parent_header\u001b[0m\u001b[0;34m,\u001b[0m\u001b[0;34m\u001b[0m\u001b[0;34m\u001b[0m\u001b[0m\n",
      "\u001b[0;32m~/miniconda3/lib/python3.9/site-packages/ipykernel/kernelbase.py\u001b[0m in \u001b[0;36m_input_request\u001b[0;34m(self, prompt, ident, parent, password)\u001b[0m\n\u001b[1;32m    902\u001b[0m             \u001b[0;32mexcept\u001b[0m \u001b[0mKeyboardInterrupt\u001b[0m\u001b[0;34m:\u001b[0m\u001b[0;34m\u001b[0m\u001b[0;34m\u001b[0m\u001b[0m\n\u001b[1;32m    903\u001b[0m                 \u001b[0;31m# re-raise KeyboardInterrupt, to truncate traceback\u001b[0m\u001b[0;34m\u001b[0m\u001b[0;34m\u001b[0m\u001b[0;34m\u001b[0m\u001b[0m\n\u001b[0;32m--> 904\u001b[0;31m                 \u001b[0;32mraise\u001b[0m \u001b[0mKeyboardInterrupt\u001b[0m\u001b[0;34m(\u001b[0m\u001b[0;34m\"Interrupted by user\"\u001b[0m\u001b[0;34m)\u001b[0m \u001b[0;32mfrom\u001b[0m \u001b[0;32mNone\u001b[0m\u001b[0;34m\u001b[0m\u001b[0;34m\u001b[0m\u001b[0m\n\u001b[0m\u001b[1;32m    905\u001b[0m             \u001b[0;32mexcept\u001b[0m \u001b[0mException\u001b[0m \u001b[0;32mas\u001b[0m \u001b[0me\u001b[0m\u001b[0;34m:\u001b[0m\u001b[0;34m\u001b[0m\u001b[0;34m\u001b[0m\u001b[0m\n\u001b[1;32m    906\u001b[0m                 \u001b[0mself\u001b[0m\u001b[0;34m.\u001b[0m\u001b[0mlog\u001b[0m\u001b[0;34m.\u001b[0m\u001b[0mwarning\u001b[0m\u001b[0;34m(\u001b[0m\u001b[0;34m\"Invalid Message:\"\u001b[0m\u001b[0;34m,\u001b[0m \u001b[0mexc_info\u001b[0m\u001b[0;34m=\u001b[0m\u001b[0;32mTrue\u001b[0m\u001b[0;34m)\u001b[0m\u001b[0;34m\u001b[0m\u001b[0;34m\u001b[0m\u001b[0m\n",
      "\u001b[0;31mKeyboardInterrupt\u001b[0m: Interrupted by user"
     ]
    }
   ],
   "source": [
    "# clave-valor -  key-value\n",
    "producto={'lulo':'','tomate':'','aguacate':'','naranja':''}\n",
    "costo_producion={'lulo':12,'tomate':4,'aguacate':34,'naranja':11}\n",
    "venta=[]\n",
    "# costo_producion['tomate']\n",
    "for i, p in enumerate(producto):\n",
    "    print(i,p)\n",
    "    vt=float(input(\"Ingrese el valor del producto {} \".format(p)))\n",
    "    producto[p]=vt\n",
    "    venta.append(vt)\n",
    "\n",
    "print(producto)\n",
    "print(venta)\n",
    "\n",
    "#instruccion para hallar el valor de un producto\n",
    "gan_lulo=producto['lulo']-costo_producion['lulo']\n",
    "print(\"La ganancia del lulo es: \",gan_lulo)\n",
    "\n",
    "#instruccion para hallar el valor de un producto\n",
    "gan_tomate=producto['tomate']-costo_producion['tomate']\n",
    "print(\"La ganancia del tomate es: \",gan_tomate)"
   ]
  },
  {
   "cell_type": "code",
   "execution_count": 370,
   "id": "9a2c8383",
   "metadata": {},
   "outputs": [
    {
     "ename": "SyntaxError",
     "evalue": "invalid syntax (<ipython-input-370-04f04628fe0c>, line 2)",
     "output_type": "error",
     "traceback": [
      "\u001b[0;36m  File \u001b[0;32m\"<ipython-input-370-04f04628fe0c>\"\u001b[0;36m, line \u001b[0;32m2\u001b[0m\n\u001b[0;31m    2v=2\u001b[0m\n\u001b[0m     ^\u001b[0m\n\u001b[0;31mSyntaxError\u001b[0m\u001b[0;31m:\u001b[0m invalid syntax\n"
     ]
    }
   ],
   "source": [
    "#error \n",
    "2v=2\n",
    "\n",
    "print(2v)"
   ]
  },
  {
   "cell_type": "code",
   "execution_count": 371,
   "id": "8af80351",
   "metadata": {},
   "outputs": [
    {
     "ename": "SyntaxError",
     "evalue": "invalid syntax (<ipython-input-371-4b269d4b74e8>, line 2)",
     "output_type": "error",
     "traceback": [
      "\u001b[0;36m  File \u001b[0;32m\"<ipython-input-371-4b269d4b74e8>\"\u001b[0;36m, line \u001b[0;32m2\u001b[0m\n\u001b[0;31m    v 2=2\u001b[0m\n\u001b[0m      ^\u001b[0m\n\u001b[0;31mSyntaxError\u001b[0m\u001b[0;31m:\u001b[0m invalid syntax\n"
     ]
    }
   ],
   "source": [
    "#error\n",
    "v 2=2\n",
    "print(v 2)"
   ]
  },
  {
   "cell_type": "code",
   "execution_count": 372,
   "id": "d86398f2",
   "metadata": {},
   "outputs": [
    {
     "name": "stdout",
     "output_type": "stream",
     "text": [
      "2\n"
     ]
    }
   ],
   "source": [
    "v_2=2\n",
    "print(v_2)"
   ]
  },
  {
   "cell_type": "code",
   "execution_count": 373,
   "id": "092198fb",
   "metadata": {},
   "outputs": [
    {
     "name": "stdout",
     "output_type": "stream",
     "text": [
      "Hallar la solucion de x teniendo en cuenta la ecuación cuadratica ax²+bx+c\n",
      "Introduce el valor de a: 1\n",
      "Introduce el valor de b: 5\n",
      "Introduce el valor de c: 6\n",
      "1\n",
      "Soluciones del ejercicio: \n",
      "X1 es igual a: -2.0 y X2 es igual a: -3.0 \n"
     ]
    }
   ],
   "source": [
    "import math \n",
    "print(\"Hallar la solucion de x teniendo en cuenta la ecuación cuadratica ax²+bx+c\")\n",
    "\n",
    "#x=(-b+-(b²-4ac)^(1/2))/2a\n",
    "a=int(input(\"Introduce el valor de a: \"))\n",
    "b=int(input(\"Introduce el valor de b: \"))\n",
    "c=int(input(\"Introduce el valor de c: \"))\n",
    "\n",
    "d=(b*b)-4*a*c\n",
    "print(d)\n",
    "if d<0:\n",
    "    print(\"No existen soluciones reales para el ejercicio\")\n",
    "else:\n",
    "    x1=(-b+math.sqrt(d))/(2*a)\n",
    "    x2=(-b-math.sqrt(d))/(2*a)\n",
    "    \n",
    "    print(\"Soluciones del ejercicio: \")\n",
    "    print(\"X1 es igual a: {} y X2 es igual a: {} \".format(x1, x2))"
   ]
  },
  {
   "cell_type": "code",
   "execution_count": 374,
   "id": "00e3edb9",
   "metadata": {},
   "outputs": [
    {
     "name": "stdout",
     "output_type": "stream",
     "text": [
      "[-3. -2.]\n"
     ]
    }
   ],
   "source": [
    "import numpy as np\n",
    "from numpy.polynomial import Polynomial as P\n",
    "# x²-5x+6=0  para encontrar sus raices\n",
    "# p va aguardar la informacion del polinomio. Los polinomios se van a escribir de atras para adelante los coeficientes\n",
    "p=P([6,5,1])\n",
    "print(p.roots())"
   ]
  }
 ],
 "metadata": {
  "kernelspec": {
   "display_name": "Python 3",
   "language": "python",
   "name": "python3"
  },
  "language_info": {
   "codemirror_mode": {
    "name": "ipython",
    "version": 3
   },
   "file_extension": ".py",
   "mimetype": "text/x-python",
   "name": "python",
   "nbconvert_exporter": "python",
   "pygments_lexer": "ipython3",
   "version": "3.9.1"
  }
 },
 "nbformat": 4,
 "nbformat_minor": 5
}
