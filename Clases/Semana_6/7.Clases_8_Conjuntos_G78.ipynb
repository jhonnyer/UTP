{
 "cells": [
  {
   "cell_type": "code",
   "execution_count": 1,
   "id": "5ace0226",
   "metadata": {},
   "outputs": [
    {
     "name": "stdout",
     "output_type": "stream",
     "text": [
      "('1', 34, 1.53, True, 'hola', [9, 3, 5, 5])\n",
      "<class 'tuple'>\n"
     ]
    }
   ],
   "source": [
    "#Tuplas\n",
    "\n",
    "#Las tuplas son una coleccion de datos que puede almacenar cualquier tipo de dato(strin, un entero, flotante, lista)\n",
    "#Las tuplas son inmutables, es decir no se pueden modificar ni alterar\n",
    "#las tuplas son indexables, manejan indices\n",
    "#Para definir una tupla basta con colocar los elementos separados por coma o utilizar la funcion tuple\n",
    "\n",
    "#Ejemplo\n",
    "tupla1=('1',34,1.53,True,'hola',[9,3,5,5])\n",
    "print(tupla1)\n",
    "print(type(tupla1))"
   ]
  },
  {
   "cell_type": "code",
   "execution_count": 2,
   "id": "edde3a72",
   "metadata": {},
   "outputs": [
    {
     "name": "stdout",
     "output_type": "stream",
     "text": [
      "('1', 34, 1.53, True, 'hola', [9, 3, 5, 5])\n"
     ]
    }
   ],
   "source": [
    "tupla2=tuple(['1',34,1.53,True,'hola',[9,3,5,5]])\n",
    "print(tupla2)"
   ]
  },
  {
   "cell_type": "code",
   "execution_count": 3,
   "id": "f87a99ee",
   "metadata": {},
   "outputs": [
    {
     "data": {
      "text/plain": [
       "'1'"
      ]
     },
     "execution_count": 3,
     "metadata": {},
     "output_type": "execute_result"
    }
   ],
   "source": [
    "tupla1[0]"
   ]
  },
  {
   "cell_type": "code",
   "execution_count": 4,
   "id": "3b867d34",
   "metadata": {},
   "outputs": [
    {
     "ename": "TypeError",
     "evalue": "'tuple' object does not support item assignment",
     "output_type": "error",
     "traceback": [
      "\u001b[0;31m---------------------------------------------------------------------------\u001b[0m",
      "\u001b[0;31mTypeError\u001b[0m                                 Traceback (most recent call last)",
      "\u001b[0;32m<ipython-input-4-82e7c3bffec2>\u001b[0m in \u001b[0;36m<module>\u001b[0;34m\u001b[0m\n\u001b[0;32m----> 1\u001b[0;31m \u001b[0mtupla1\u001b[0m\u001b[0;34m[\u001b[0m\u001b[0;36m0\u001b[0m\u001b[0;34m]\u001b[0m\u001b[0;34m=\u001b[0m\u001b[0;36m4\u001b[0m\u001b[0;34m\u001b[0m\u001b[0;34m\u001b[0m\u001b[0m\n\u001b[0m",
      "\u001b[0;31mTypeError\u001b[0m: 'tuple' object does not support item assignment"
     ]
    }
   ],
   "source": [
    "tupla1[0]=4"
   ]
  },
  {
   "cell_type": "code",
   "execution_count": null,
   "id": "ae7bb8d7",
   "metadata": {},
   "outputs": [],
   "source": [
    "tupla1[1:4]"
   ]
  },
  {
   "cell_type": "code",
   "execution_count": null,
   "id": "793b3c30",
   "metadata": {},
   "outputs": [],
   "source": [
    "tupla1=('A',)+tupla1[1:]\n",
    "print(tupla1)"
   ]
  },
  {
   "cell_type": "markdown",
   "id": "bab3ddb6",
   "metadata": {},
   "source": [
    "# Conjuntos"
   ]
  },
  {
   "cell_type": "code",
   "execution_count": null,
   "id": "6ab15db5",
   "metadata": {
    "scrolled": true
   },
   "outputs": [],
   "source": [
    "s={1,4,5,'hola',True}\n",
    "print(s)\n",
    "print(type(s))"
   ]
  },
  {
   "cell_type": "code",
   "execution_count": null,
   "id": "d6f0281b",
   "metadata": {},
   "outputs": [],
   "source": [
    "#convertir una lista en un conjutn mediante la funcion set\n",
    "set([1,2,3,4])"
   ]
  },
  {
   "cell_type": "code",
   "execution_count": null,
   "id": "17405587",
   "metadata": {},
   "outputs": [],
   "source": [
    "lista=[1,2,3,4]\n",
    "var=set(lista)\n",
    "print(var)"
   ]
  },
  {
   "cell_type": "code",
   "execution_count": null,
   "id": "c702fac5",
   "metadata": {},
   "outputs": [],
   "source": [
    "#convertir un conjunto en una lista mediante la funcion list\n",
    "list({1,2,3,4})"
   ]
  },
  {
   "cell_type": "code",
   "execution_count": null,
   "id": "9acdc9cd",
   "metadata": {},
   "outputs": [],
   "source": [
    "#En un conjunto que tiene varios elementos repetivos, estos se van a eliminar\n",
    "c={1,3,2,9,3,1}\n",
    "print(c)"
   ]
  },
  {
   "cell_type": "code",
   "execution_count": null,
   "id": "7704f820",
   "metadata": {},
   "outputs": [],
   "source": [
    "a=set('Hola mundo bienvenidos al curso de python')\n",
    "print(a)"
   ]
  },
  {
   "cell_type": "code",
   "execution_count": null,
   "id": "4ba73d87",
   "metadata": {},
   "outputs": [],
   "source": [
    "unicos=set([2,4,5,6,7,4,4,44,4,4,4,55,6,7,5,5,5])\n",
    "print(unicos)"
   ]
  },
  {
   "cell_type": "code",
   "execution_count": null,
   "id": "15b685f6",
   "metadata": {},
   "outputs": [],
   "source": [
    "#Un conjunto no puede contener elementos mutables como listas o diccionario\n",
    "s={[1,2]}\n",
    "print(s)"
   ]
  },
  {
   "cell_type": "code",
   "execution_count": null,
   "id": "697b147a",
   "metadata": {},
   "outputs": [],
   "source": [
    "s={}\n",
    "print(s)\n",
    "print(type(s))"
   ]
  },
  {
   "cell_type": "code",
   "execution_count": null,
   "id": "c99aa9bb",
   "metadata": {},
   "outputs": [],
   "source": [
    "#en un diccionario los elementos van a ir en parejas clave-valor\n",
    "s={'clave1':'valor1','clav2':'valor2'}\n",
    "print(s)"
   ]
  },
  {
   "cell_type": "code",
   "execution_count": null,
   "id": "8e1fd3d0",
   "metadata": {},
   "outputs": [],
   "source": [
    "#en un diccionario los elementos van a ir en parejas clave-valor\n",
    "s={'clave1','valor1','clav2','valor2'}\n",
    "print(s)\n",
    "print(type(s))"
   ]
  },
  {
   "cell_type": "code",
   "execution_count": null,
   "id": "a93a43c8",
   "metadata": {},
   "outputs": [],
   "source": [
    "s=set()\n",
    "print(s)"
   ]
  },
  {
   "cell_type": "code",
   "execution_count": null,
   "id": "67995512",
   "metadata": {},
   "outputs": [],
   "source": [
    "s1=set([1,2,3,5])\n",
    "s2=set(range(10))\n",
    "print(s1)\n",
    "print(s2)\n"
   ]
  },
  {
   "cell_type": "code",
   "execution_count": null,
   "id": "ce9bcdbd",
   "metadata": {},
   "outputs": [],
   "source": [
    "#DE una lista o un diccionario que son elementos mutables podemos crear un conjunto\n",
    "#Pero un conjunto no puede contener ni listas ni diccionarios"
   ]
  },
  {
   "cell_type": "code",
   "execution_count": null,
   "id": "a91bac19",
   "metadata": {},
   "outputs": [],
   "source": [
    "#Los conjuntos son indexables, es decir no manejan indices, y son desordenados\n",
    "s2[4]"
   ]
  },
  {
   "cell_type": "code",
   "execution_count": null,
   "id": "145442ca",
   "metadata": {},
   "outputs": [],
   "source": [
    "#Reccorer un conjunto con un bucle for\n",
    "mi_conjunto={1,3,2,9,3,1}\n",
    "print(mi_conjunto)\n",
    "\n",
    "for num in mi_conjunto:\n",
    "    print(num)"
   ]
  },
  {
   "cell_type": "code",
   "execution_count": null,
   "id": "e049f82e",
   "metadata": {},
   "outputs": [],
   "source": [
    "dir(mi_conjunto)"
   ]
  },
  {
   "cell_type": "code",
   "execution_count": null,
   "id": "8b2cc1ab",
   "metadata": {},
   "outputs": [],
   "source": [
    "#Metodo clear que elimina los elementos de un conjunto\n",
    "mi_conjunto={1,3,2,9,3,1}\n",
    "mi_conjunto.clear()\n",
    "print(mi_conjunto)"
   ]
  },
  {
   "cell_type": "code",
   "execution_count": null,
   "id": "7616f098",
   "metadata": {},
   "outputs": [],
   "source": [
    "#MEtodo add()\n",
    "set_mutable1=set([4,5,3,3,5,6,7,2,3])\n",
    "print(set_mutable1)\n",
    "set_mutable1.add('hola')\n",
    "print(set_mutable1)"
   ]
  },
  {
   "cell_type": "code",
   "execution_count": null,
   "id": "5fff4bf4",
   "metadata": {},
   "outputs": [],
   "source": [
    "#Metodo copy()\n",
    "set_mutable1=set([4,5,3,3,5,6,7,2,3])\n",
    "print(set_mutable1)\n",
    "copia_set=set_mutable1.copy()\n",
    "print(copia_set)\n",
    "print(copia_set==set_mutable1)"
   ]
  },
  {
   "cell_type": "code",
   "execution_count": null,
   "id": "43a365ac",
   "metadata": {},
   "outputs": [],
   "source": [
    "set_mutable1=set([4,3,11,7,5,2,1,4])\n",
    "set_mutable2=set([11,5,9,2,4,8])\n",
    "print(set_mutable1)\n",
    "print(set_mutable2)"
   ]
  },
  {
   "cell_type": "code",
   "execution_count": null,
   "id": "60502086",
   "metadata": {},
   "outputs": [],
   "source": [
    "#Metodo difference\n",
    "print(set_mutable1.difference(set_mutable2))\n",
    "print(set_mutable2.difference(set_mutable1))"
   ]
  },
  {
   "cell_type": "code",
   "execution_count": null,
   "id": "904db00c",
   "metadata": {},
   "outputs": [],
   "source": [
    "#La diferencia la podemos realizar mediante el operador del simbolo menos(-)\n",
    "a={1,2,3,4}\n",
    "b={2,3}\n",
    "c=a-b\n",
    "print(c)"
   ]
  },
  {
   "cell_type": "code",
   "execution_count": null,
   "id": "1c38476c",
   "metadata": {},
   "outputs": [],
   "source": [
    "#un conjunto es igual a otro si ambos tienen los mismos elementos\n",
    "{1,2,3}=={3,2,1}"
   ]
  },
  {
   "cell_type": "code",
   "execution_count": null,
   "id": "fc032baf",
   "metadata": {},
   "outputs": [],
   "source": [
    "{1,2,3}=={1,2,6}"
   ]
  },
  {
   "cell_type": "code",
   "execution_count": null,
   "id": "f042aa4f",
   "metadata": {},
   "outputs": [],
   "source": [
    "#Metodo difference_update()\n",
    "proyecto1={'python','zope2','ZODB3','pytz'}\n",
    "proyecto2={'python','plone','diazo'}\n",
    "print(proyecto1)\n",
    "print(proyecto2)\n",
    "proyecto1.difference_update(proyecto2)\n",
    "print(proyecto1)"
   ]
  },
  {
   "cell_type": "code",
   "execution_count": null,
   "id": "39114c47",
   "metadata": {},
   "outputs": [],
   "source": [
    "#Metodo discard() elimina un elemento en un conjunto, si el elemento no esta, el conjunto\n",
    "#no se modifica\n",
    "paquetes={'python','zope','plone','django'}\n",
    "print(paquetes)\n",
    "paquetes.discard('django')\n",
    "print(paquetes)"
   ]
  },
  {
   "cell_type": "code",
   "execution_count": null,
   "id": "673cfa7f",
   "metadata": {},
   "outputs": [],
   "source": [
    "#Metodo intersection()\n",
    "set_mutable1=set([4,3,11,7,5,2,1,4])\n",
    "set_mutable2=set([11,5,9,2,4,8])\n",
    "print(set_mutable1)\n",
    "print(set_mutable2)"
   ]
  },
  {
   "cell_type": "code",
   "execution_count": null,
   "id": "e25784df",
   "metadata": {
    "scrolled": true
   },
   "outputs": [],
   "source": [
    "print(set_mutable1.intersection(set_mutable2))\n",
    "print(set_mutable2.intersection(set_mutable1))"
   ]
  },
  {
   "cell_type": "code",
   "execution_count": null,
   "id": "04411d74",
   "metadata": {
    "scrolled": true
   },
   "outputs": [],
   "source": [
    "#MEtodo de interseccion con el operador de &\n",
    "set_intersection=set_mutable1&set_mutable2\n",
    "print(set_intersection)"
   ]
  },
  {
   "cell_type": "code",
   "execution_count": 7,
   "id": "af5387fe",
   "metadata": {},
   "outputs": [
    {
     "name": "stdout",
     "output_type": "stream",
     "text": [
      "{'php', 'python', 'zope2', 'pytz'}\n",
      "{'z3c.form', 'plone', 'python', 'diazo', 'php'}\n",
      "{'django', 'python', 'django-filter', 'php'}\n",
      "\n",
      "\n",
      "{'python', 'php'}\n"
     ]
    }
   ],
   "source": [
    "#Metodo intersection_update\n",
    "#EL metodo intersecction update actualiza un conjunto\n",
    "#con los elementos que estan repeetidos el los conjuntos \n",
    "#que fueron pasados en el el argumento\n",
    "proyecto1={'python','zope2','pytz','php'}\n",
    "proyecto2={'python','plone','diazo','z3c.form','php'}\n",
    "proyecto3={'python','django','django-filter','php'}\n",
    "print(proyecto1)\n",
    "print(proyecto2)\n",
    "print(proyecto3)\n",
    "print('\\n')\n",
    "proyecto2.intersection_update(proyecto1,proyecto3)\n",
    "print(proyecto2)"
   ]
  },
  {
   "cell_type": "code",
   "execution_count": null,
   "id": "f3a10543",
   "metadata": {},
   "outputs": [],
   "source": [
    "#Metodo isdisjoin(), \n",
    "#Retorna True si no hay elementos comunes entre ambos conjuntos\n",
    "set_mutable1=set([4,3,11,7,5,2,1,4])\n",
    "set_mutable2=set([11,5,9,2,4,8])\n",
    "set_mutable3=set([12,13])\n",
    "print(set_mutable1)\n",
    "print(set_mutable2)\n",
    "print(set_mutable1.isdisjoint(set_mutable2))\n",
    "print(set_mutable1.isdisjoint(set_mutable3))"
   ]
  },
  {
   "cell_type": "markdown",
   "id": "887c5711",
   "metadata": {},
   "source": [
    "https://lucid.app/lucidchart/04c3bd8b-3000-46f5-a9ed-8bf0f60e7c5c/edit?page=0_0#"
   ]
  },
  {
   "cell_type": "code",
   "execution_count": null,
   "id": "c502aaa5",
   "metadata": {
    "scrolled": false
   },
   "outputs": [],
   "source": [
    "#Metodo issubset(), \n",
    "#Retorna True si el conjunto es un subconjunto del conjunto mutable\n",
    "#en el argumento\n",
    "set_mutable1=set([4,3,11,7,5,2,1,4])\n",
    "set_mutable2=set([11,5,9,2,4,8])\n",
    "set_mutable3=set([11,5,2,4])\n",
    "print('Conjunto set_mutable1: ',set_mutable1)\n",
    "print('Conjunto set_mutable2: ',set_mutable2)\n",
    "print('Conjunto set_mutable3: ',set_mutable3)\n",
    "#Este comando me retorna falso porque set_mutable1 no es  un subconjunto de set_mutable2\n",
    "print(set_mutable2.issuperset(set_mutable1))\n",
    "#Este comando retorna True porque set_mutable3 es un subconjunto de set_mutable1\n",
    "print(set_mutable3.issubset(s0et_mutable1))"
   ]
  },
  {
   "cell_type": "code",
   "execution_count": null,
   "id": "2e69d9bf",
   "metadata": {},
   "outputs": [],
   "source": [
    "#Metodo issuperset(), \n",
    "#Retorna True si el conjunto es un superset del conjunto mutable\n",
    "#en el argumento\n",
    "set_mutable1=set([4,3,11,7,5,2,1,4])\n",
    "set_mutable2=set([11,5,9,2,4,8])\n",
    "set_mutable3=set([11,5,2,4])\n",
    "print('Conjunto set_mutable1: ',set_mutable1)\n",
    "print('Conjunto set_mutable2: ',set_mutable2)\n",
    "print('Conjunto set_mutable3: ',set_mutable3)\n",
    "print(set_mutable1.issuperset(set_mutable2))\n",
    "print(set_mutable1.issuperset(set_mutable3))"
   ]
  },
  {
   "cell_type": "code",
   "execution_count": null,
   "id": "6636a335",
   "metadata": {},
   "outputs": [],
   "source": [
    "#Metodo POP()\n",
    "proyectos={'python','plone','diazo','z3c.form','php'}\n",
    "print(proyectos)\n",
    "\n",
    "proyectos.pop()\n",
    "print(proyectos)\n",
    "\n",
    "proyectos.pop()\n",
    "print(proyectos)\n",
    "\n",
    "#El metodo pop no recibe argumentos\n",
    "# proyectos.pop('python')\n",
    "\n"
   ]
  },
  {
   "cell_type": "code",
   "execution_count": null,
   "id": "3808906d",
   "metadata": {},
   "outputs": [],
   "source": [
    "proyectos.pop()\n",
    "print(proyectos)\n"
   ]
  },
  {
   "cell_type": "code",
   "execution_count": null,
   "id": "444a45ed",
   "metadata": {},
   "outputs": [],
   "source": [
    "proyectos.pop()\n",
    "print(proyectos)"
   ]
  },
  {
   "cell_type": "code",
   "execution_count": null,
   "id": "fdf9e479",
   "metadata": {},
   "outputs": [],
   "source": [
    "proyectos.pop()\n",
    "print(proyectos)"
   ]
  },
  {
   "cell_type": "code",
   "execution_count": null,
   "id": "2388ba03",
   "metadata": {},
   "outputs": [],
   "source": [
    "#Cuando el conjunto esta vacio lanza una instruccion de error\n",
    "#KeyError\n",
    "proyectos.pop()\n",
    "print(proyectos)"
   ]
  },
  {
   "cell_type": "code",
   "execution_count": null,
   "id": "279f5316",
   "metadata": {},
   "outputs": [],
   "source": [
    "#Metodo REMOVE() puedo indicar que elemento eliminar\n",
    "proyectos={'python','plone','diazo','z3c.form','php'}\n",
    "print(proyectos)\n",
    "\n",
    "proyectos.remove('diazo')\n",
    "print(proyectos)\n"
   ]
  },
  {
   "cell_type": "code",
   "execution_count": null,
   "id": "5ca22e0f",
   "metadata": {},
   "outputs": [],
   "source": [
    "#Si intento eliminar un elemento que no se encuentra en el conjunto me sale un error\n",
    "proyectos.remove('angular')"
   ]
  },
  {
   "cell_type": "code",
   "execution_count": 5,
   "id": "3a860c43",
   "metadata": {},
   "outputs": [
    {
     "ename": "NameError",
     "evalue": "name 'proyectos' is not defined",
     "output_type": "error",
     "traceback": [
      "\u001b[0;31m---------------------------------------------------------------------------\u001b[0m",
      "\u001b[0;31mNameError\u001b[0m                                 Traceback (most recent call last)",
      "\u001b[0;32m<ipython-input-5-b56bcd20ca41>\u001b[0m in \u001b[0;36m<module>\u001b[0;34m\u001b[0m\n\u001b[1;32m      1\u001b[0m \u001b[0;31m#Si intento eliminar un elemento que no se encuentra en el conjunto no me sale nada si utilizo metodo DISCARd\u001b[0m\u001b[0;34m\u001b[0m\u001b[0;34m\u001b[0m\u001b[0;34m\u001b[0m\u001b[0m\n\u001b[0;32m----> 2\u001b[0;31m \u001b[0mproyectos\u001b[0m\u001b[0;34m.\u001b[0m\u001b[0mdiscard\u001b[0m\u001b[0;34m(\u001b[0m\u001b[0;34m'angular'\u001b[0m\u001b[0;34m)\u001b[0m\u001b[0;34m\u001b[0m\u001b[0;34m\u001b[0m\u001b[0m\n\u001b[0m\u001b[1;32m      3\u001b[0m \u001b[0mprint\u001b[0m\u001b[0;34m(\u001b[0m\u001b[0mproyectos\u001b[0m\u001b[0;34m)\u001b[0m\u001b[0;34m\u001b[0m\u001b[0;34m\u001b[0m\u001b[0m\n\u001b[1;32m      4\u001b[0m \u001b[0mproyectos\u001b[0m\u001b[0;34m.\u001b[0m\u001b[0mdiscard\u001b[0m\u001b[0;34m(\u001b[0m\u001b[0;34m'php'\u001b[0m\u001b[0;34m)\u001b[0m\u001b[0;34m\u001b[0m\u001b[0;34m\u001b[0m\u001b[0m\n\u001b[1;32m      5\u001b[0m \u001b[0mprint\u001b[0m\u001b[0;34m(\u001b[0m\u001b[0mproyectos\u001b[0m\u001b[0;34m)\u001b[0m\u001b[0;34m\u001b[0m\u001b[0;34m\u001b[0m\u001b[0m\n",
      "\u001b[0;31mNameError\u001b[0m: name 'proyectos' is not defined"
     ]
    }
   ],
   "source": [
    "#Si intento eliminar un elemento que no se encuentra en el conjunto no me sale nada si utilizo metodo DISCARd\n",
    "proyectos.discard('angular')\n",
    "print(proyectos)\n",
    "proyectos.discard('php')\n",
    "print(proyectos)\n"
   ]
  },
  {
   "cell_type": "code",
   "execution_count": null,
   "id": "4b18b596",
   "metadata": {},
   "outputs": [],
   "source": [
    "#Metodo symmetric_difference\n",
    "#Devuelve los elementos que esten en un conjunto pero no en ambos\n",
    "set_mutable1=set([4,3,11,7,5,2,1,4])\n",
    "set_mutable2=set([11,5,9,2,4,8])\n",
    "print(set_mutable1)\n",
    "print(set_mutable2)\n",
    "print(set_mutable1.symmetric_difference(set_mutable2))"
   ]
  },
  {
   "cell_type": "code",
   "execution_count": null,
   "id": "ca1bde97",
   "metadata": {},
   "outputs": [],
   "source": [
    "#Metodo symmetric_difference_update\n",
    "#actualiza un conjunto con los elementos que esten en un conjunto, pero no en ambos\n",
    "proyecto1={'python','plone','django'}\n",
    "proyecto2={'django','zope','pyramid'}\n",
    "print(proyecto1)\n",
    "print(proyecto2)\n",
    "\n",
    "proyecto1.symmetric_difference_update(proyecto2)\n",
    "print(proyecto1)"
   ]
  },
  {
   "cell_type": "code",
   "execution_count": null,
   "id": "36124dfc",
   "metadata": {},
   "outputs": [],
   "source": [
    "#Metodo union\n",
    "set_mutable1=set([4,3,11,7,5,2,1,4])\n",
    "set_mutable2=set([11,5,9,2,4,8])\n",
    "print(set_mutable1)\n",
    "print(set_mutable2)\n",
    "print(set_mutable1.union(set_mutable2))\n"
   ]
  },
  {
   "cell_type": "code",
   "execution_count": null,
   "id": "43504928",
   "metadata": {},
   "outputs": [],
   "source": [
    "var=set_mutable1.union(set_mutable2)\n",
    "print(var)"
   ]
  },
  {
   "cell_type": "code",
   "execution_count": null,
   "id": "d7297a3f",
   "metadata": {},
   "outputs": [],
   "source": [
    "#Nosotros podemos realizar la union con el operador | \n",
    "a={1,2,3,4}\n",
    "b={5,6,7,8}\n",
    "c=a|b\n",
    "print(c)"
   ]
  },
  {
   "cell_type": "code",
   "execution_count": null,
   "id": "49d5f464",
   "metadata": {
    "scrolled": true
   },
   "outputs": [],
   "source": [
    "#Metodo update()\n",
    "version_plone_dev=set([5,1,6])\n",
    "print(version_plone_dev)\n",
    "version_plone=set([2.1,2.5,3.6,4])\n",
    "print(version_plone)\n",
    "version_plone.update(version_plone_dev)\n",
    "print(version_plone)"
   ]
  },
  {
   "cell_type": "code",
   "execution_count": null,
   "id": "7e876403",
   "metadata": {},
   "outputs": [],
   "source": [
    "#para una cadena, cuando se convierte en conjunto, cada letra sera un elemento en el conjunto separadas por coma\n",
    "cadena='Hola mundo'\n",
    "conjunto={1,2}\n",
    "conjunto.update(cadena)\n",
    "print(conjunto)"
   ]
  },
  {
   "cell_type": "code",
   "execution_count": null,
   "id": "1af400fd",
   "metadata": {},
   "outputs": [],
   "source": [
    "#Conjunto y un diccionario\n",
    "diccionario={'key1':12,'key2':'valor2'}\n",
    "print(diccionario)"
   ]
  },
  {
   "cell_type": "code",
   "execution_count": null,
   "id": "9bfc4bc4",
   "metadata": {},
   "outputs": [],
   "source": [
    "conjunto={'a','b'}\n",
    "print(conjunto)"
   ]
  },
  {
   "cell_type": "code",
   "execution_count": null,
   "id": "887c993d",
   "metadata": {},
   "outputs": [],
   "source": [
    "conjunto.update(diccionario.values())\n",
    "print(conjunto)"
   ]
  },
  {
   "cell_type": "code",
   "execution_count": null,
   "id": "1e74aba8",
   "metadata": {},
   "outputs": [],
   "source": [
    "#Valores de un diccionario\n",
    "diccionario.values()"
   ]
  }
 ],
 "metadata": {
  "kernelspec": {
   "display_name": "Python 3",
   "language": "python",
   "name": "python3"
  },
  "language_info": {
   "codemirror_mode": {
    "name": "ipython",
    "version": 3
   },
   "file_extension": ".py",
   "mimetype": "text/x-python",
   "name": "python",
   "nbconvert_exporter": "python",
   "pygments_lexer": "ipython3",
   "version": "3.9.1"
  }
 },
 "nbformat": 4,
 "nbformat_minor": 5
}
