{
 "cells": [
  {
   "cell_type": "markdown",
   "id": "48af2199",
   "metadata": {},
   "source": [
    "# Diccionarios "
   ]
  },
  {
   "cell_type": "code",
   "execution_count": 5,
   "id": "b1ac7fcc",
   "metadata": {},
   "outputs": [
    {
     "name": "stdout",
     "output_type": "stream",
     "text": [
      "{'key1': 13}\n",
      "{'key1': 13, 'key2': 'hola'}\n"
     ]
    }
   ],
   "source": [
    "# un diccionario esta formado por unas llaves, donde dentro de las llaves se tienen\n",
    "#unos elementos en una estructura clave-valor\n",
    "#Son diccionarios son mutables, osea que podemos modificar su valor\n",
    "#no son organizados, no podemos acceder a ellos mediante indices\n",
    "#Las claves y los valores pueden ser de cualquier tipo int,float, lista, otro diccionario\n",
    "diccionario={'key1':13}\n",
    "print(diccionario)\n",
    "#He añadido un valor al diccionario\n",
    "diccionario['key2']='hola'\n",
    "print(diccionario)"
   ]
  },
  {
   "cell_type": "code",
   "execution_count": 6,
   "id": "b13e8ba0",
   "metadata": {},
   "outputs": [
    {
     "name": "stdout",
     "output_type": "stream",
     "text": [
      "{'key1': 13, 'key2': 56.5}\n"
     ]
    }
   ],
   "source": [
    "#Modificar un valor del diccionario\n",
    "diccionario['key2']=56.5\n",
    "print(diccionario)"
   ]
  },
  {
   "cell_type": "code",
   "execution_count": 7,
   "id": "2af7bc68",
   "metadata": {},
   "outputs": [
    {
     "name": "stdout",
     "output_type": "stream",
     "text": [
      "56.5\n"
     ]
    }
   ],
   "source": [
    "print(diccionario['key2'])"
   ]
  },
  {
   "cell_type": "code",
   "execution_count": 53,
   "id": "d1b63789",
   "metadata": {},
   "outputs": [
    {
     "name": "stdout",
     "output_type": "stream",
     "text": [
      "{1: {'titulo': 'Español', 'Descripcion': 'Literatura', 'Estado': 'En espera'}, 2: {'titulo': 'Matematicas', 'Descripcion': 'Vectores', 'Estado': 'Finalizado', 'Tareas': {'tarea1': 'Matrices', 'tarea2': 'Vectores', 'tarea3': 'Ecuaciones diferenciales'}}, 3: {'titulo': 'Ingles', 'Descripcion': 'Verbos', 'Estado': 'Finalizado'}}\n"
     ]
    }
   ],
   "source": [
    "#Diccionario\n",
    "info={\n",
    "    1:{\n",
    "        'titulo':'Español',\n",
    "        'Descripcion':'Literatura',\n",
    "        'Estado':'En espera'\n",
    "    },\n",
    "    2:{\n",
    "        'titulo':'Matematicas',\n",
    "        'Descripcion':'Vectores',\n",
    "        'Estado':'Finalizado',\n",
    "        'Tareas':{\n",
    "            'tarea1':'Matrices',\n",
    "            'tarea2':'Vectores',\n",
    "            'tarea3':'Ecuaciones diferenciales'\n",
    "        }\n",
    "    },\n",
    "    3:{\n",
    "        'titulo':'Ingles',\n",
    "        'Descripcion':'Verbos',\n",
    "        'Estado':'Finalizado'\n",
    "    }\n",
    "}\n",
    "print(info)"
   ]
  },
  {
   "cell_type": "code",
   "execution_count": 58,
   "id": "03769658",
   "metadata": {},
   "outputs": [
    {
     "name": "stdout",
     "output_type": "stream",
     "text": [
      "1 En espera\n",
      "2 Finalizado\n",
      "3 Finalizado\n",
      "{1: {'titulo': 'Español', 'Descripcion': 'Literatura', 'Estado': 'En espera'}}\n"
     ]
    }
   ],
   "source": [
    "aux={}\n",
    "for i in info:\n",
    "    print(i, info[i]['Estado'])\n",
    "    if info[i]['Estado']=='En espera':\n",
    "        aux.setdefault(i, info[i])\n",
    "        \n",
    "print(aux)\n",
    "        \n",
    "#info[2]['Estado']=='En espera'"
   ]
  },
  {
   "cell_type": "code",
   "execution_count": 44,
   "id": "34ed96fb",
   "metadata": {
    "scrolled": true
   },
   "outputs": [
    {
     "name": "stdout",
     "output_type": "stream",
     "text": [
      "{1: {'titulo': 'Español', 'Descripcion': 'Literatura', 'Estado': 'En espera'}, 2: {'titulo': 'Matematicas', 'Descripcion': 'Vectores', 'Estado': 'Finalizado', 'Tareas': {'tarea1': 'Matrices', 'tarea2': 'Vectores', 'tarea3': 'Ecuaciones diferenciales'}}, 3: {'titulo': 'Ingles', 'Descripcion': 'Verbos', 'Estado': 'Finalizado'}}\n"
     ]
    }
   ],
   "source": [
    "info1=(\n",
    "    1,{\n",
    "        'titulo':'Español',\n",
    "        'Descripcion':'Literatura',\n",
    "        'Estado':'En espera'}\n",
    "    )\n",
    "print(info)"
   ]
  },
  {
   "cell_type": "code",
   "execution_count": 52,
   "id": "8432706c",
   "metadata": {},
   "outputs": [
    {
     "name": "stdout",
     "output_type": "stream",
     "text": [
      "1\n",
      "\n",
      "{'titulo': 'Español', 'Descripcion': 'Literatura', 'Estado': 'En espera'}\n",
      "\n"
     ]
    }
   ],
   "source": [
    "for i in info1:\n",
    "    print(i)\n",
    "    print()"
   ]
  },
  {
   "cell_type": "code",
   "execution_count": 19,
   "id": "501749f6",
   "metadata": {},
   "outputs": [
    {
     "data": {
      "text/plain": [
       "'Vectores'"
      ]
     },
     "execution_count": 19,
     "metadata": {},
     "output_type": "execute_result"
    }
   ],
   "source": [
    "info[2]['Tareas']['tarea2']"
   ]
  },
  {
   "cell_type": "code",
   "execution_count": 14,
   "id": "30784bbf",
   "metadata": {},
   "outputs": [
    {
     "data": {
      "text/plain": [
       "'Matematicas'"
      ]
     },
     "execution_count": 14,
     "metadata": {},
     "output_type": "execute_result"
    }
   ],
   "source": [
    "info[2]['titulo']"
   ]
  },
  {
   "cell_type": "code",
   "execution_count": 23,
   "id": "ab8992bd",
   "metadata": {},
   "outputs": [
    {
     "data": {
      "text/plain": [
       "dict_keys([1, 2, 3])"
      ]
     },
     "execution_count": 23,
     "metadata": {},
     "output_type": "execute_result"
    }
   ],
   "source": [
    "#Metodo keys retorna las claves principales, o externas de un diccionario\n",
    "info.keys()"
   ]
  },
  {
   "cell_type": "code",
   "execution_count": 25,
   "id": "e1987e76",
   "metadata": {},
   "outputs": [
    {
     "data": {
      "text/plain": [
       "dict_values([{'titulo': 'Español', 'Descripcion': 'Literatura', 'Estado': 'En espera'}, {'titulo': 'Matematicas', 'Descripcion': 'Vectores', 'Estado': 'Finalizado', 'Tareas': {'tarea1': 'Matrices', 'tarea2': 'Vectores', 'tarea3': 'Ecuaciones diferenciales'}}, {'titulo': 'Ingles', 'Descripcion': 'Verbos', 'Estado': 'Finalizado'}])"
      ]
     },
     "execution_count": 25,
     "metadata": {},
     "output_type": "execute_result"
    }
   ],
   "source": [
    "#Metodo values retorna los valores correspondientes a las claves de un diccionario\n",
    "info.values()"
   ]
  },
  {
   "cell_type": "code",
   "execution_count": 27,
   "id": "a1faf42e",
   "metadata": {},
   "outputs": [
    {
     "data": {
      "text/plain": [
       "dict_items([(1, {'titulo': 'Español', 'Descripcion': 'Literatura', 'Estado': 'En espera'}), (2, {'titulo': 'Matematicas', 'Descripcion': 'Vectores', 'Estado': 'Finalizado', 'Tareas': {'tarea1': 'Matrices', 'tarea2': 'Vectores', 'tarea3': 'Ecuaciones diferenciales'}}), (3, {'titulo': 'Ingles', 'Descripcion': 'Verbos', 'Estado': 'Finalizado'})])"
      ]
     },
     "execution_count": 27,
     "metadata": {},
     "output_type": "execute_result"
    }
   ],
   "source": [
    "#Metodo items retorna una tupla con la clave-valor de la informacion de un diccionario\n",
    "info.items()"
   ]
  },
  {
   "cell_type": "code",
   "execution_count": 33,
   "id": "2f8e89df",
   "metadata": {},
   "outputs": [
    {
     "name": "stdout",
     "output_type": "stream",
     "text": [
      "[(1, {'titulo': 'Español', 'Descripcion': 'Literatura', 'Estado': 'En espera'}), (2, {'titulo': 'Matematicas', 'Descripcion': 'Vectores', 'Estado': 'Finalizado', 'Tareas': {'tarea1': 'Matrices', 'tarea2': 'Vectores', 'tarea3': 'Ecuaciones diferenciales'}}), (3, {'titulo': 'Ingles', 'Descripcion': 'Verbos', 'Estado': 'Finalizado'})]\n"
     ]
    },
    {
     "data": {
      "text/plain": [
       "{'titulo': 'Ingles', 'Descripcion': 'Verbos', 'Estado': 'Finalizado'}"
      ]
     },
     "execution_count": 33,
     "metadata": {},
     "output_type": "execute_result"
    }
   ],
   "source": [
    "lista=list(info.items())\n",
    "print(lista)\n",
    "lista[2][1]"
   ]
  },
  {
   "cell_type": "code",
   "execution_count": 34,
   "id": "b0c36f59",
   "metadata": {},
   "outputs": [
    {
     "name": "stdout",
     "output_type": "stream",
     "text": [
      "{'titulo': 'Ingles', 'Descripcion': 'Verbos', 'Estado': 'Finalizado'}\n"
     ]
    }
   ],
   "source": [
    "dicc=dict(lista[2][1])\n",
    "print(dicc)"
   ]
  },
  {
   "cell_type": "code",
   "execution_count": 20,
   "id": "f3546f4b",
   "metadata": {
    "scrolled": true
   },
   "outputs": [
    {
     "data": {
      "text/plain": [
       "['__class__',\n",
       " '__class_getitem__',\n",
       " '__contains__',\n",
       " '__delattr__',\n",
       " '__delitem__',\n",
       " '__dir__',\n",
       " '__doc__',\n",
       " '__eq__',\n",
       " '__format__',\n",
       " '__ge__',\n",
       " '__getattribute__',\n",
       " '__getitem__',\n",
       " '__gt__',\n",
       " '__hash__',\n",
       " '__init__',\n",
       " '__init_subclass__',\n",
       " '__ior__',\n",
       " '__iter__',\n",
       " '__le__',\n",
       " '__len__',\n",
       " '__lt__',\n",
       " '__ne__',\n",
       " '__new__',\n",
       " '__or__',\n",
       " '__reduce__',\n",
       " '__reduce_ex__',\n",
       " '__repr__',\n",
       " '__reversed__',\n",
       " '__ror__',\n",
       " '__setattr__',\n",
       " '__setitem__',\n",
       " '__sizeof__',\n",
       " '__str__',\n",
       " '__subclasshook__',\n",
       " 'clear',\n",
       " 'copy',\n",
       " 'fromkeys',\n",
       " 'get',\n",
       " 'items',\n",
       " 'keys',\n",
       " 'pop',\n",
       " 'popitem',\n",
       " 'setdefault',\n",
       " 'update',\n",
       " 'values']"
      ]
     },
     "execution_count": 20,
     "metadata": {},
     "output_type": "execute_result"
    }
   ],
   "source": [
    "dir(info)"
   ]
  },
  {
   "cell_type": "code",
   "execution_count": 35,
   "id": "a446ab95",
   "metadata": {},
   "outputs": [
    {
     "name": "stdout",
     "output_type": "stream",
     "text": [
      "{'roots': {'Bookmark': {'children': [{'description': 'Source code of QupZilla', 'keyword': 'qz-git', 'name': 'QupZilla Git', 'type': 'url', 'url': 'https://github.com/QupZilla/qupzilla', 'visit_count': 0}, {'description': '', 'keyword': '', 'name': 'openSUSE Project', 'type': 'url', 'url': 'https://www.opensuse.org/', 'visit_count': 0}]}}}\n"
     ]
    }
   ],
   "source": [
    "dic={\n",
    "  \"roots\": {\n",
    "    \"Bookmark\": {\n",
    "      \"children\": [\n",
    "        {\n",
    "          \"description\": \"Source code of QupZilla\",\n",
    "          \"keyword\": \"qz-git\",\n",
    "          \"name\": \"QupZilla Git\",\n",
    "          \"type\": \"url\",\n",
    "          \"url\": \"https://github.com/QupZilla/qupzilla\",\n",
    "          \"visit_count\": 0\n",
    "        },\n",
    "        {\n",
    "          \"description\": \"\",\n",
    "          \"keyword\": \"\",\n",
    "          \"name\": \"openSUSE Project\",\n",
    "          \"type\": \"url\",\n",
    "          \"url\": \"https://www.opensuse.org/\",\n",
    "          \"visit_count\": 0\n",
    "        }\n",
    "      ]\n",
    "    }\n",
    "  }\n",
    "}\n",
    "\n",
    "print(dic)"
   ]
  },
  {
   "cell_type": "code",
   "execution_count": 41,
   "id": "ac921bc8",
   "metadata": {},
   "outputs": [
    {
     "data": {
      "text/plain": [
       "{'description': '',\n",
       " 'keyword': '',\n",
       " 'name': 'openSUSE Project',\n",
       " 'type': 'url',\n",
       " 'url': 'https://www.opensuse.org/',\n",
       " 'visit_count': 0}"
      ]
     },
     "execution_count": 41,
     "metadata": {},
     "output_type": "execute_result"
    }
   ],
   "source": [
    "dic['roots']['Bookmark']['children'][1]"
   ]
  }
 ],
 "metadata": {
  "kernelspec": {
   "display_name": "Python 3",
   "language": "python",
   "name": "python3"
  },
  "language_info": {
   "codemirror_mode": {
    "name": "ipython",
    "version": 3
   },
   "file_extension": ".py",
   "mimetype": "text/x-python",
   "name": "python",
   "nbconvert_exporter": "python",
   "pygments_lexer": "ipython3",
   "version": "3.9.1"
  }
 },
 "nbformat": 4,
 "nbformat_minor": 5
}
