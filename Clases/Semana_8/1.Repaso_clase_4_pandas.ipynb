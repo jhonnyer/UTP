{
 "cells": [
  {
   "cell_type": "code",
   "execution_count": 5,
   "id": "127ff93c",
   "metadata": {},
   "outputs": [
    {
     "data": {
      "text/plain": [
       "0    15\n",
       "1    12\n",
       "2    21\n",
       "dtype: int64"
      ]
     },
     "execution_count": 5,
     "metadata": {},
     "output_type": "execute_result"
    }
   ],
   "source": [
    "#Los indices por defecto son 0,1,2 como un array de datos\n",
    "import pandas as pd\n",
    "ventas=pd.Series([15,12,21])\n",
    "ventas"
   ]
  },
  {
   "cell_type": "code",
   "execution_count": 6,
   "id": "b39a3154",
   "metadata": {},
   "outputs": [
    {
     "data": {
      "text/plain": [
       "Ene    15\n",
       "Feb    12\n",
       "Mar    21\n",
       "dtype: int64"
      ]
     },
     "execution_count": 6,
     "metadata": {},
     "output_type": "execute_result"
    }
   ],
   "source": [
    "#Los indices van a ser definidos en una lista que se asigna a la variable index\n",
    "import pandas as pd\n",
    "ventas=pd.Series([15,12,21],index=['Ene','Feb','Mar'])\n",
    "ventas"
   ]
  },
  {
   "cell_type": "code",
   "execution_count": 8,
   "id": "ff578061",
   "metadata": {},
   "outputs": [
    {
     "data": {
      "text/plain": [
       "15"
      ]
     },
     "execution_count": 8,
     "metadata": {},
     "output_type": "execute_result"
    }
   ],
   "source": [
    "#Extraer elementos de la serie pueden extraerse con el nombre de la serie y entre corchetes, el indice\n",
    "#(posicion) del elemento\n",
    "ventas[0]"
   ]
  },
  {
   "cell_type": "code",
   "execution_count": 9,
   "id": "21f34e8d",
   "metadata": {},
   "outputs": [
    {
     "data": {
      "text/plain": [
       "15"
      ]
     },
     "execution_count": 9,
     "metadata": {},
     "output_type": "execute_result"
    }
   ],
   "source": [
    "#Extraer elementos de la serie pueden extraerse con el nombre de la serie y entre corchetes, el indice\n",
    "#(posicion) del elemento o con su etiqueta si se tiene\n",
    "ventas['Ene']"
   ]
  },
  {
   "cell_type": "code",
   "execution_count": 11,
   "id": "a5d95f07",
   "metadata": {},
   "outputs": [
    {
     "data": {
      "text/plain": [
       "dtype('int64')"
      ]
     },
     "execution_count": 11,
     "metadata": {},
     "output_type": "execute_result"
    }
   ],
   "source": [
    "#Una serie o columna en pandas solo puede contener datos de un mismo tipo\n",
    "#Ver tipo de dato de una serie\n",
    "ventas.dtype"
   ]
  },
  {
   "cell_type": "code",
   "execution_count": 12,
   "id": "74ec4264",
   "metadata": {},
   "outputs": [
    {
     "data": {
      "text/plain": [
       "Index(['Ene', 'Feb', 'Mar'], dtype='object')"
      ]
     },
     "execution_count": 12,
     "metadata": {},
     "output_type": "execute_result"
    }
   ],
   "source": [
    "#Se puede acceder a los objetos que contiene los indices y valores mediante los atributos index y values \n",
    "#de forma respectiva\n",
    "\n",
    "#Acceder a los indices\n",
    "ventas.index"
   ]
  },
  {
   "cell_type": "code",
   "execution_count": 13,
   "id": "583410cc",
   "metadata": {},
   "outputs": [
    {
     "data": {
      "text/plain": [
       "array([15, 12, 21])"
      ]
     },
     "execution_count": 13,
     "metadata": {},
     "output_type": "execute_result"
    }
   ],
   "source": [
    "#Se puede acceder a los objetos que contiene los indices y valores mediante los atributos index y values \n",
    "#de forma respectiva\n",
    "\n",
    "#Acceder a los valores\n",
    "ventas.values"
   ]
  },
  {
   "cell_type": "code",
   "execution_count": 14,
   "id": "3f9498bd",
   "metadata": {},
   "outputs": [
    {
     "data": {
      "text/plain": [
       "'Ventas 2020'"
      ]
     },
     "execution_count": 14,
     "metadata": {},
     "output_type": "execute_result"
    }
   ],
   "source": [
    "#La serie tiene un atributo name que se encuentra en el indice, una vez fijado se muestra en la estructura\n",
    "#al imprimir\n",
    "\n",
    "ventas.name=\"Ventas 2020\"\n",
    "ventas.name"
   ]
  },
  {
   "cell_type": "code",
   "execution_count": 15,
   "id": "7e571fa6",
   "metadata": {},
   "outputs": [
    {
     "data": {
      "text/plain": [
       "Ene    15\n",
       "Feb    12\n",
       "Mar    21\n",
       "Name: Ventas 2020, dtype: int64"
      ]
     },
     "execution_count": 15,
     "metadata": {},
     "output_type": "execute_result"
    }
   ],
   "source": [
    "ventas"
   ]
  },
  {
   "cell_type": "code",
   "execution_count": 16,
   "id": "06a63a8b",
   "metadata": {},
   "outputs": [
    {
     "data": {
      "text/plain": [
       "Meses\n",
       "Ene    15\n",
       "Feb    12\n",
       "Mar    21\n",
       "Name: Ventas 2020, dtype: int64"
      ]
     },
     "execution_count": 16,
     "metadata": {},
     "output_type": "execute_result"
    }
   ],
   "source": [
    "#Tambien podemos asignarle un nombre al indice de la serie\n",
    "ventas.index.name=\"Meses\"\n",
    "ventas"
   ]
  },
  {
   "cell_type": "code",
   "execution_count": 17,
   "id": "df459936",
   "metadata": {},
   "outputs": [
    {
     "data": {
      "text/plain": [
       "[Index(['Ene', 'Feb', 'Mar'], dtype='object', name='Meses')]"
      ]
     },
     "execution_count": 17,
     "metadata": {},
     "output_type": "execute_result"
    }
   ],
   "source": [
    "#Atribuito axes da un acceso a una lista con los ejes de la serie que contiene un elemento al tratarse \n",
    "#de una estructura unidimensional\n",
    "ventas.axes\n"
   ]
  },
  {
   "cell_type": "code",
   "execution_count": 18,
   "id": "8aa132e5",
   "metadata": {},
   "outputs": [
    {
     "data": {
      "text/plain": [
       "(3,)"
      ]
     },
     "execution_count": 18,
     "metadata": {},
     "output_type": "execute_result"
    }
   ],
   "source": [
    "#Atributo shape devuelve el tamaño de la serie\n",
    "ventas.shape"
   ]
  },
  {
   "cell_type": "markdown",
   "id": "ec7b3b54",
   "metadata": {},
   "source": [
    "# DataFrame\n",
    "\n",
    "Conjunto conformado por varias series o columnsa indexadas"
   ]
  },
  {
   "cell_type": "code",
   "execution_count": 24,
   "id": "3bfbd1ce",
   "metadata": {},
   "outputs": [
    {
     "name": "stdout",
     "output_type": "stream",
     "text": [
      "{'manzanas': [3, 2, 0, 1], 'naranjas': [0, 3, 7, 2]}\n"
     ]
    }
   ],
   "source": [
    "#Crear un Dataframe a partir de las ventas en una tienda de frutas, donde se tendra una columna por cada fruta\n",
    "#y una columna por cada compra del cliente\n",
    "\n",
    "datos={'manzanas':[3,2,0,1],'naranjas':[0,3,7,2]}\n",
    "print(datos)"
   ]
  },
  {
   "cell_type": "code",
   "execution_count": 25,
   "id": "7ac2e397",
   "metadata": {},
   "outputs": [
    {
     "data": {
      "text/html": [
       "<div>\n",
       "<style scoped>\n",
       "    .dataframe tbody tr th:only-of-type {\n",
       "        vertical-align: middle;\n",
       "    }\n",
       "\n",
       "    .dataframe tbody tr th {\n",
       "        vertical-align: top;\n",
       "    }\n",
       "\n",
       "    .dataframe thead th {\n",
       "        text-align: right;\n",
       "    }\n",
       "</style>\n",
       "<table border=\"1\" class=\"dataframe\">\n",
       "  <thead>\n",
       "    <tr style=\"text-align: right;\">\n",
       "      <th></th>\n",
       "      <th>manzanas</th>\n",
       "      <th>naranjas</th>\n",
       "    </tr>\n",
       "  </thead>\n",
       "  <tbody>\n",
       "    <tr>\n",
       "      <th>0</th>\n",
       "      <td>3</td>\n",
       "      <td>0</td>\n",
       "    </tr>\n",
       "    <tr>\n",
       "      <th>1</th>\n",
       "      <td>2</td>\n",
       "      <td>3</td>\n",
       "    </tr>\n",
       "    <tr>\n",
       "      <th>2</th>\n",
       "      <td>0</td>\n",
       "      <td>7</td>\n",
       "    </tr>\n",
       "    <tr>\n",
       "      <th>3</th>\n",
       "      <td>1</td>\n",
       "      <td>2</td>\n",
       "    </tr>\n",
       "  </tbody>\n",
       "</table>\n",
       "</div>"
      ],
      "text/plain": [
       "   manzanas  naranjas\n",
       "0         3         0\n",
       "1         2         3\n",
       "2         0         7\n",
       "3         1         2"
      ]
     },
     "execution_count": 25,
     "metadata": {},
     "output_type": "execute_result"
    }
   ],
   "source": [
    "#SE lo voy a pasar a pandas y creo un DATAFRAME\n",
    "compras=pd.DataFrame(datos)\n",
    "compras"
   ]
  },
  {
   "cell_type": "code",
   "execution_count": 26,
   "id": "92f33daa",
   "metadata": {
    "scrolled": true
   },
   "outputs": [
    {
     "data": {
      "text/html": [
       "<div>\n",
       "<style scoped>\n",
       "    .dataframe tbody tr th:only-of-type {\n",
       "        vertical-align: middle;\n",
       "    }\n",
       "\n",
       "    .dataframe tbody tr th {\n",
       "        vertical-align: top;\n",
       "    }\n",
       "\n",
       "    .dataframe thead th {\n",
       "        text-align: right;\n",
       "    }\n",
       "</style>\n",
       "<table border=\"1\" class=\"dataframe\">\n",
       "  <thead>\n",
       "    <tr style=\"text-align: right;\">\n",
       "      <th></th>\n",
       "      <th>manzanas</th>\n",
       "      <th>naranjas</th>\n",
       "    </tr>\n",
       "  </thead>\n",
       "  <tbody>\n",
       "    <tr>\n",
       "      <th>Juno</th>\n",
       "      <td>3</td>\n",
       "      <td>0</td>\n",
       "    </tr>\n",
       "    <tr>\n",
       "      <th>Robert</th>\n",
       "      <td>2</td>\n",
       "      <td>3</td>\n",
       "    </tr>\n",
       "    <tr>\n",
       "      <th>Lily</th>\n",
       "      <td>0</td>\n",
       "      <td>7</td>\n",
       "    </tr>\n",
       "    <tr>\n",
       "      <th>David</th>\n",
       "      <td>1</td>\n",
       "      <td>2</td>\n",
       "    </tr>\n",
       "  </tbody>\n",
       "</table>\n",
       "</div>"
      ],
      "text/plain": [
       "        manzanas  naranjas\n",
       "Juno           3         0\n",
       "Robert         2         3\n",
       "Lily           0         7\n",
       "David          1         2"
      ]
     },
     "execution_count": 26,
     "metadata": {},
     "output_type": "execute_result"
    }
   ],
   "source": [
    "#Cada elemento (Clave-valor) en datos corresponde a una columna en el DataFrame resultante\n",
    "#El indice en el dataframe se dio en la crecion como 0,1,2. Tambien se pudo haber añadido un indice en la creacion\n",
    "\n",
    "compras=pd.DataFrame(datos, index=['Juno','Robert','Lily','David'])\n",
    "compras"
   ]
  },
  {
   "cell_type": "code",
   "execution_count": 27,
   "id": "5dbe96e1",
   "metadata": {},
   "outputs": [
    {
     "data": {
      "text/plain": [
       "Index(['Juno', 'Robert', 'Lily', 'David'], dtype='object')"
      ]
     },
     "execution_count": 27,
     "metadata": {},
     "output_type": "execute_result"
    }
   ],
   "source": [
    "#las etiquetas de filas y columnas son accesibles a partir de sus indices o sus etiquetas \n",
    "compras.index"
   ]
  },
  {
   "cell_type": "code",
   "execution_count": 28,
   "id": "c2b0bb3d",
   "metadata": {},
   "outputs": [
    {
     "data": {
      "text/plain": [
       "Index(['manzanas', 'naranjas'], dtype='object')"
      ]
     },
     "execution_count": 28,
     "metadata": {},
     "output_type": "execute_result"
    }
   ],
   "source": [
    "#las etiquetas de filas y columnas son accesibles a partir de sus indices o sus etiquetas \n",
    "compras.columns"
   ]
  },
  {
   "cell_type": "code",
   "execution_count": 29,
   "id": "cfa6188b",
   "metadata": {},
   "outputs": [
    {
     "data": {
      "text/plain": [
       "[Index(['Juno', 'Robert', 'Lily', 'David'], dtype='object'),\n",
       " Index(['manzanas', 'naranjas'], dtype='object')]"
      ]
     },
     "execution_count": 29,
     "metadata": {},
     "output_type": "execute_result"
    }
   ],
   "source": [
    "#El atributo axes devuelve una lista con los ejes o indices de la estructura(2 al tratarse como una estructura)\n",
    "#Bidimensional\n",
    "compras.axes"
   ]
  },
  {
   "cell_type": "code",
   "execution_count": 31,
   "id": "c435f6d6",
   "metadata": {},
   "outputs": [
    {
     "data": {
      "text/html": [
       "<div>\n",
       "<style scoped>\n",
       "    .dataframe tbody tr th:only-of-type {\n",
       "        vertical-align: middle;\n",
       "    }\n",
       "\n",
       "    .dataframe tbody tr th {\n",
       "        vertical-align: top;\n",
       "    }\n",
       "\n",
       "    .dataframe thead th {\n",
       "        text-align: right;\n",
       "    }\n",
       "</style>\n",
       "<table border=\"1\" class=\"dataframe\">\n",
       "  <thead>\n",
       "    <tr style=\"text-align: right;\">\n",
       "      <th>Frutas</th>\n",
       "      <th>manzanas</th>\n",
       "      <th>naranjas</th>\n",
       "    </tr>\n",
       "    <tr>\n",
       "      <th>Clientes</th>\n",
       "      <th></th>\n",
       "      <th></th>\n",
       "    </tr>\n",
       "  </thead>\n",
       "  <tbody>\n",
       "    <tr>\n",
       "      <th>Juno</th>\n",
       "      <td>3</td>\n",
       "      <td>0</td>\n",
       "    </tr>\n",
       "    <tr>\n",
       "      <th>Robert</th>\n",
       "      <td>2</td>\n",
       "      <td>3</td>\n",
       "    </tr>\n",
       "    <tr>\n",
       "      <th>Lily</th>\n",
       "      <td>0</td>\n",
       "      <td>7</td>\n",
       "    </tr>\n",
       "    <tr>\n",
       "      <th>David</th>\n",
       "      <td>1</td>\n",
       "      <td>2</td>\n",
       "    </tr>\n",
       "  </tbody>\n",
       "</table>\n",
       "</div>"
      ],
      "text/plain": [
       "Frutas    manzanas  naranjas\n",
       "Clientes                    \n",
       "Juno             3         0\n",
       "Robert           2         3\n",
       "Lily             0         7\n",
       "David            1         2"
      ]
     },
     "execution_count": 31,
     "metadata": {},
     "output_type": "execute_result"
    }
   ],
   "source": [
    "#Todo indice de columnas y filas tiene un atributo name que podemos asignarle al imprimir la estructura\n",
    "\n",
    "#Asignar name a la fila index del dataframe\n",
    "compras.index.name=\"Clientes\"\n",
    "#Asignar name a la columna del dataframe\n",
    "compras.columns.name=\"Frutas\"\n",
    "compras"
   ]
  },
  {
   "cell_type": "code",
   "execution_count": 32,
   "id": "7648144f",
   "metadata": {},
   "outputs": [
    {
     "data": {
      "text/plain": [
       "array([[3, 0],\n",
       "       [2, 3],\n",
       "       [0, 7],\n",
       "       [1, 2]])"
      ]
     },
     "execution_count": 32,
     "metadata": {},
     "output_type": "execute_result"
    }
   ],
   "source": [
    "#Atributo values permite acceder a los valores del DataFrame con formato array Numpy 2dimensiones\n",
    "compras.values"
   ]
  },
  {
   "cell_type": "code",
   "execution_count": 33,
   "id": "7c76f58e",
   "metadata": {},
   "outputs": [
    {
     "data": {
      "text/plain": [
       "(4, 2)"
      ]
     },
     "execution_count": 33,
     "metadata": {},
     "output_type": "execute_result"
    }
   ],
   "source": [
    "#Atributo shape informa la dimension y el numero de elementos en cada dimension\n",
    "#En este ejemplo, compras tiene 4 filas y 2 columnas\n",
    "\n",
    "compras.shape"
   ]
  },
  {
   "cell_type": "code",
   "execution_count": 34,
   "id": "ea0b1253",
   "metadata": {},
   "outputs": [
    {
     "data": {
      "text/plain": [
       "0    7\n",
       "1    5\n",
       "2    3\n",
       "dtype: int64"
      ]
     },
     "execution_count": 34,
     "metadata": {},
     "output_type": "execute_result"
    }
   ],
   "source": [
    "#Creacion de series\n",
    "#pandas.Series; este constructor acepta 3 parametros\n",
    "\n",
    "#data: Estructura de datos tipo array, iterable, diccionario o valor escalar \n",
    "#index: estructura tipo array con la misma longitud que los datros\n",
    "#dtype: tipo de datos para la serie\n",
    "\n",
    "s=pd.Series([7,5,3])\n",
    "s"
   ]
  },
  {
   "cell_type": "code",
   "execution_count": 36,
   "id": "3db7f188",
   "metadata": {},
   "outputs": [
    {
     "data": {
      "text/plain": [
       "Ene    7\n",
       "Feb    5\n",
       "Mar    3\n",
       "dtype: int64"
      ]
     },
     "execution_count": 36,
     "metadata": {},
     "output_type": "execute_result"
    }
   ],
   "source": [
    "#Creacion de series\n",
    "#pandas.Series; este constructor acepta 3 parametros\n",
    "\n",
    "#data: Estructura de datos tipo array, iterable, diccionario o valor escalar \n",
    "#index: estructura tipo array con la misma longitud que los datros\n",
    "#dtype: tipo de datos para la serie\n",
    "\n",
    "s=pd.Series([7,5,3],index=['Ene','Feb','Mar'])\n",
    "s"
   ]
  },
  {
   "cell_type": "code",
   "execution_count": 38,
   "id": "1639ec48",
   "metadata": {},
   "outputs": [
    {
     "name": "stdout",
     "output_type": "stream",
     "text": [
      "{'Ene': 7, 'Feb': 5, 'Mar': 3}\n"
     ]
    },
    {
     "data": {
      "text/plain": [
       "Ene    7\n",
       "Feb    5\n",
       "Mar    3\n",
       "dtype: int64"
      ]
     },
     "execution_count": 38,
     "metadata": {},
     "output_type": "execute_result"
    }
   ],
   "source": [
    "#Utilizando un diccionario\n",
    "d={'Ene':7,'Feb':5,'Mar':3}\n",
    "print(d)\n",
    "s=pd.Series(d)\n",
    "s"
   ]
  },
  {
   "cell_type": "code",
   "execution_count": 40,
   "id": "16c3d8b8",
   "metadata": {},
   "outputs": [
    {
     "name": "stdout",
     "output_type": "stream",
     "text": [
      "{'Ene': 7, 'Feb': 5, 'Mar': 3}\n"
     ]
    },
    {
     "data": {
      "text/plain": [
       "Abril    NaN\n",
       "Mar      3.0\n",
       "Feb      5.0\n",
       "Ene      7.0\n",
       "dtype: float64"
      ]
     },
     "execution_count": 40,
     "metadata": {},
     "output_type": "execute_result"
    }
   ],
   "source": [
    "#Utilizando un diccionario\n",
    "#Utilizando las claves como etiquetas del indice y los valores del diccionario como valores de la serie\n",
    "#Si se incluye un indice explicitamente en el constructor, los valores en la serie tomaran en el orden en el \n",
    "#esten en el indice explicito. Si en este hay valores que no pertenecen al conjunto de claves del diccionario\n",
    "#se añaden a la serie con un valor NaN\n",
    "\n",
    "d={'Ene':7,'Feb':5,'Mar':3}\n",
    "print(d)\n",
    "s=pd.Series(d, index=['Abril','Mar','Feb','Ene'],dtype=int)\n",
    "s"
   ]
  }
 ],
 "metadata": {
  "kernelspec": {
   "display_name": "Python 3",
   "language": "python",
   "name": "python3"
  },
  "language_info": {
   "codemirror_mode": {
    "name": "ipython",
    "version": 3
   },
   "file_extension": ".py",
   "mimetype": "text/x-python",
   "name": "python",
   "nbconvert_exporter": "python",
   "pygments_lexer": "ipython3",
   "version": "3.9.1"
  }
 },
 "nbformat": 4,
 "nbformat_minor": 5
}
