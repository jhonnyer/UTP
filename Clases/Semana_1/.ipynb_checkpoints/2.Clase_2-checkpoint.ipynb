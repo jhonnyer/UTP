{
 "cells": [
  {
   "cell_type": "code",
   "execution_count": 16,
   "id": "05497cb6",
   "metadata": {},
   "outputs": [
    {
     "name": "stdout",
     "output_type": "stream",
     "text": [
      "Hallar la solucion de x teniendo en cuenta la ecuación cuadratica ax²+bx+c\n",
      "Introduce el valor de a: 3\n",
      "Introduce el valor de b: 2\n",
      "Introduce el valor de c: 1\n",
      "-8\n",
      "No existen soluciones reales para el ejercicio\n"
     ]
    }
   ],
   "source": [
    "import math \n",
    "print(\"Hallar la solucion de x teniendo en cuenta la ecuación cuadratica ax²+bx+c\")\n",
    "a=int(input(\"Introduce el valor de a: \"))\n",
    "b=int(input(\"Introduce el valor de b: \"))\n",
    "c=int(input(\"Introduce el valor de c: \"))\n",
    "\n",
    "d=(b*b)-4*a*c\n",
    "print(d)\n",
    "if d<0:\n",
    "    print(\"No existen soluciones reales para el ejercicio\")\n",
    "else:\n",
    "    x1=(-b+math.sqrt(d))/(2*a)\n",
    "    x2=(-b-math.sqrt(d))/(2*a)\n",
    "    \n",
    "    print(\"Soluciones del ejercicio: \")\n",
    "    print(\"X1 es igual a: {} y X2 es igual a: {} \".format(x1, x2))\n",
    "    "
   ]
  },
  {
   "cell_type": "code",
   "execution_count": 17,
   "id": "98908e98",
   "metadata": {},
   "outputs": [
    {
     "name": "stdout",
     "output_type": "stream",
     "text": [
      "[4. 8.]\n"
     ]
    }
   ],
   "source": [
    "# Ecuaciones\n",
    "# y=2x\n",
    "# y=x+4\n",
    "#Remplazo y de la primera ecuacion en la segunda ecuacion\n",
    "# 2x=x+4\n",
    "# 2x-x=4\n",
    "# x=4\n",
    "\n",
    "#remplazo x en la segunda ecuacion\n",
    "# y=4+4\n",
    "\n",
    "# Igualo ecuacion 1 y 2 a cero o el numero entero\n",
    "# 2x-y=0\n",
    "# x-y=-4\n",
    "\n",
    "\n",
    "import numpy as np\n",
    "a=np.array([[2,-1],[1,-1]])\n",
    "# b= Almacena los valores del vector solucion \n",
    "b=np.array([0,-4])\n",
    "\n",
    "x=np.linalg.solve(a,b)\n",
    "print(x)"
   ]
  },
  {
   "cell_type": "code",
   "execution_count": 14,
   "id": "68afbd43",
   "metadata": {},
   "outputs": [
    {
     "name": "stdout",
     "output_type": "stream",
     "text": [
      "[ 4. -2.  3.]\n"
     ]
    }
   ],
   "source": [
    "# Numpy: soporte para crear vectores y matrices grandes multidimensionales\n",
    "Install libreria: \n",
    "# 2x+4y+6z=18\n",
    "# 4x+5y+6z=24\n",
    "# 3x+y-2z=4\n",
    "\n",
    "import numpy as np\n",
    "a=np.array([[2,4,6],[4,5,6],[3,1,-2]])\n",
    "# b= Almacena los valores del vector solucion \n",
    "b=np.array([18,24,4])\n",
    "\n",
    "x=np.linalg.solve(a,b)\n",
    "print(x)"
   ]
  },
  {
   "cell_type": "code",
   "execution_count": 34,
   "id": "a9c7676c",
   "metadata": {},
   "outputs": [
    {
     "name": "stdout",
     "output_type": "stream",
     "text": [
      "{'mango', 'fresas', 'naranjas', 'naranja', 'papas', 'zanahoria'}\n",
      "{'mango', 'fresas', 'naranjas', 'naranja', 'papas', 'zanahoria', 'Platanos'}\n",
      "{'fresas', 'naranjas', 'naranja', 'papas', 'zanahoria', 'Platanos'}\n",
      "{'naranjas', 'naranja', 'papas', 'zanahoria', 'Platanos'}\n",
      "{'tomate', 'naranja', 'papas', 'zanahoria', 'naranjas', 'acelga', 'pepino', 'Platanos'}\n",
      "{'tomate', 'mango', 'fresas', 'naranja', 'papas', 'zanahoria', 'cebolla', 'naranjas', 'acelga', 'pepino', 'remolacha', 'Platanos'}\n",
      "{'papas', 'zanahoria'}\n"
     ]
    }
   ],
   "source": [
    "#en un conjunto no pueden haber valores repetidos. por ejemplo naranja solo aparece una vez\n",
    "producto={'papas','zanahoria','mango','fresas','naranja','naranjas'}\n",
    "productos={'papas','zanahoria','mango','fresas','cebolla','remolacha'}\n",
    "print(producto)\n",
    "producto.add('Platanos')\n",
    "print(producto)\n",
    "producto.remove('mango')\n",
    "print(producto)\n",
    "producto.discard('fresas')\n",
    "print(producto)\n",
    "producto.update(['acelga','tomate','pepino'])\n",
    "print(producto)\n",
    "#listas juntas. une los dos conjuntos\n",
    "print(producto | productos)\n",
    "#lo que se envio en ambos lados,intercepcion de los dos conjuntos\n",
    "print(producto & productos)\n"
   ]
  }
 ],
 "metadata": {
  "kernelspec": {
   "display_name": "Python 3",
   "language": "python",
   "name": "python3"
  },
  "language_info": {
   "codemirror_mode": {
    "name": "ipython",
    "version": 3
   },
   "file_extension": ".py",
   "mimetype": "text/x-python",
   "name": "python",
   "nbconvert_exporter": "python",
   "pygments_lexer": "ipython3",
   "version": "3.9.1"
  }
 },
 "nbformat": 4,
 "nbformat_minor": 5
}
