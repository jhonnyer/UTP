{
 "cells": [
  {
   "cell_type": "code",
   "execution_count": 9,
   "id": "16abcb02",
   "metadata": {},
   "outputs": [
    {
     "name": "stdout",
     "output_type": "stream",
     "text": [
      "22.3\n"
     ]
    }
   ],
   "source": [
    "var=10+12.3\n",
    "print(var)"
   ]
  },
  {
   "cell_type": "code",
   "execution_count": 11,
   "id": "6d8a5d88",
   "metadata": {},
   "outputs": [
    {
     "name": "stdout",
     "output_type": "stream",
     "text": [
      "Hola mundo\n"
     ]
    }
   ],
   "source": [
    "#Funcion sin parametros\n",
    "def saludo():\n",
    "    print(\"Hola mundo\")\n",
    "    \n",
    "saludo()"
   ]
  },
  {
   "cell_type": "code",
   "execution_count": 12,
   "id": "0ff3f439",
   "metadata": {},
   "outputs": [
    {
     "ename": "IndentationError",
     "evalue": "expected an indented block (<ipython-input-12-4f9f8b37824d>, line 3)",
     "output_type": "error",
     "traceback": [
      "\u001b[0;36m  File \u001b[0;32m\"<ipython-input-12-4f9f8b37824d>\"\u001b[0;36m, line \u001b[0;32m3\u001b[0m\n\u001b[0;31m    c=a+b\u001b[0m\n\u001b[0m    ^\u001b[0m\n\u001b[0;31mIndentationError\u001b[0m\u001b[0;31m:\u001b[0m expected an indented block\n"
     ]
    }
   ],
   "source": [
    "#Funcion que tiene dos parametros, por lo tanto recibe dos argumentos y tiene un return que devuelve un valor\n",
    "def sumar(a,b):\n",
    "    c=a+b\n",
    "    print(c)\n",
    "    return c\n",
    "\n",
    "var_externa=sumar(10,20)\n",
    "print(var_externa)"
   ]
  },
  {
   "cell_type": "code",
   "execution_count": null,
   "id": "1eb4f31a",
   "metadata": {},
   "outputs": [],
   "source": []
  }
 ],
 "metadata": {
  "kernelspec": {
   "display_name": "Python 3",
   "language": "python",
   "name": "python3"
  },
  "language_info": {
   "codemirror_mode": {
    "name": "ipython",
    "version": 3
   },
   "file_extension": ".py",
   "mimetype": "text/x-python",
   "name": "python",
   "nbconvert_exporter": "python",
   "pygments_lexer": "ipython3",
   "version": "3.9.1"
  }
 },
 "nbformat": 4,
 "nbformat_minor": 5
}
