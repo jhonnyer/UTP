{
 "cells": [
  {
   "cell_type": "code",
   "execution_count": 1,
   "id": "139922e6",
   "metadata": {},
   "outputs": [
    {
     "name": "stdout",
     "output_type": "stream",
     "text": [
      "X es positivo\n"
     ]
    }
   ],
   "source": [
    "x=10\n",
    "if x>0:\n",
    "    print(\"X es positivo\")\n",
    "else:\n",
    "    print(\"X es negativo\")"
   ]
  },
  {
   "cell_type": "code",
   "execution_count": 2,
   "id": "2304969a",
   "metadata": {},
   "outputs": [
    {
     "data": {
      "text/plain": [
       "True"
      ]
     },
     "execution_count": 2,
     "metadata": {},
     "output_type": "execute_result"
    }
   ],
   "source": [
    "x>0"
   ]
  },
  {
   "cell_type": "code",
   "execution_count": 12,
   "id": "8c97df7c",
   "metadata": {},
   "outputs": [
    {
     "name": "stdout",
     "output_type": "stream",
     "text": [
      "Ingrese una letra entre a y c: fgdfgd\n",
      "Caracter desconocido\n"
     ]
    }
   ],
   "source": [
    "#Comparar cadena de caracteres mediante un ciclo if\n",
    "letra=input(\"Ingrese una letra entre a y c: \")\n",
    "if letra=='a':\n",
    "    print(\"Malos resultado\")\n",
    "elif letra=='b':\n",
    "    print(\"Buen resultado\")\n",
    "elif letra=='c':\n",
    "    print(\"Cerca pero no correcto\")\n",
    "else:\n",
    "    print(\"Caracter desconocido\")"
   ]
  },
  {
   "cell_type": "code",
   "execution_count": 14,
   "id": "c7760f41",
   "metadata": {},
   "outputs": [
    {
     "name": "stdout",
     "output_type": "stream",
     "text": [
      "Caracter desconocido\n"
     ]
    }
   ],
   "source": [
    "#Comparar cadena de caracteres mediante un ciclo if\n",
    "frase=\"Salir\"\n",
    "if frase=='ENTRAR':\n",
    "    print(\"Bienvenido al curso de programación\")\n",
    "elif frase=='EVALUAR':\n",
    "    print(\"Vas a evaluar el curso de programación\")\n",
    "elif frase=='SALIR':\n",
    "    print(\"Hasta luego, ha terminado el proceso satisfactoriamente\")\n",
    "else:\n",
    "    print(\"Caracter desconocido\")"
   ]
  },
  {
   "cell_type": "code",
   "execution_count": 17,
   "id": "91e8b4c1",
   "metadata": {},
   "outputs": [
    {
     "name": "stdout",
     "output_type": "stream",
     "text": [
      "X es mayor que y\n"
     ]
    }
   ],
   "source": [
    "x=16\n",
    "y=12\n",
    "if x==y:\n",
    "    print(\"X y Y son iguales\")\n",
    "else:\n",
    "    if x<y:\n",
    "        print(\"X es menor que Y\")\n",
    "    else:\n",
    "        print(\"X es mayor que y\")"
   ]
  },
  {
   "cell_type": "code",
   "execution_count": 7,
   "id": "75b98a53",
   "metadata": {},
   "outputs": [
    {
     "name": "stdout",
     "output_type": "stream",
     "text": [
      "X es menor que y\n"
     ]
    }
   ],
   "source": [
    "#Elif es una abreviacion de else if\n",
    "x=10\n",
    "y=50\n",
    "if x<y:\n",
    "    print(\"X es menor que y\")\n",
    "elif x>y:\n",
    "    print(\"X es mayor que y\")\n",
    "elif y==50:\n",
    "    print(\"Y tiene un valor de 50\")\n",
    "else:\n",
    "    print(\"Los numeros X y Y son iguales\")"
   ]
  },
  {
   "cell_type": "code",
   "execution_count": 22,
   "id": "b42e2534",
   "metadata": {},
   "outputs": [
    {
     "name": "stdout",
     "output_type": "stream",
     "text": [
      "X es un número negativo\n"
     ]
    }
   ],
   "source": [
    "#Condicion que evalua si un número es positivo\n",
    "x=-9\n",
    "if 0<x:\n",
    "    if x<10:\n",
    "        print(\"X es un número positivo de un solo digito\")\n",
    "    else:\n",
    "        print(\"X es número positivo de más de un solo digito\")\n",
    "else: \n",
    "    print(\"X es un número negativo\")"
   ]
  },
  {
   "cell_type": "code",
   "execution_count": 24,
   "id": "28f9938c",
   "metadata": {},
   "outputs": [
    {
     "name": "stdout",
     "output_type": "stream",
     "text": [
      "X es un número positivo de un solo digito\n"
     ]
    }
   ],
   "source": [
    "#Condicion que evalua si un número es positivo\n",
    "x=1\n",
    "if 0<x:\n",
    "    if x<10:\n",
    "        print(\"X es un número positivo de un solo digito\")\n",
    "else: \n",
    "    print(\"X es un número negativo\")"
   ]
  },
  {
   "cell_type": "code",
   "execution_count": 34,
   "id": "3c21570d",
   "metadata": {},
   "outputs": [
    {
     "name": "stdout",
     "output_type": "stream",
     "text": [
      "X es un número negativo\n",
      "X es un número negativo\n",
      "X es un número negativo\n"
     ]
    }
   ],
   "source": [
    "#Condicional mediante conjuncion\n",
    "x=-10\n",
    "if 0<x and x<10:\n",
    "    x=x*2\n",
    "    print(\"X es un número positivo de un solo digito\")\n",
    "    print(x)\n",
    "elif 0<x and x>=10:\n",
    "    print(\"X es un número positivo de más de 1 digitos\")\n",
    "else:\n",
    "    print(\"X es un número negativo\")\n",
    "    \n",
    "if 0<x and x<10:\n",
    "    print(\"X es un número positivo de un solo digito\")\n",
    "elif 0<x and x>=10:\n",
    "    print(\"X es un número positivo de más de 1 digitos\")\n",
    "else:\n",
    "    print(\"X es un número negativo\")\n",
    "    \n",
    "if 0<x and x<10:\n",
    "    print(\"X es un número positivo de un solo digito\")\n",
    "elif 0<x and x>=10:\n",
    "    print(\"X es un número positivo de más de 1 digitos\")\n",
    "else:\n",
    "    print(\"X es un número negativo\")"
   ]
  },
  {
   "cell_type": "code",
   "execution_count": 35,
   "id": "7307e622",
   "metadata": {},
   "outputs": [
    {
     "name": "stdout",
     "output_type": "stream",
     "text": [
      "Estamos en la iteración: 0\n",
      "Estamos en la iteración: 1\n",
      "Estamos en la iteración: 2\n"
     ]
    }
   ],
   "source": [
    "for x in range(0,3):\n",
    "    print(\"Estamos en la iteración: \"+str(x))"
   ]
  },
  {
   "cell_type": "code",
   "execution_count": 41,
   "id": "1f16a852",
   "metadata": {},
   "outputs": [
    {
     "name": "stdout",
     "output_type": "stream",
     "text": [
      "Estamos en la iteración: 0\n",
      "Estamos en la iteración: 2\n",
      "Estamos en la iteración: 4\n",
      "Estamos en la iteración: 6\n"
     ]
    }
   ],
   "source": [
    "#Ciclo FOR con un rango de valores de 0 hasta el 9 aumentando de 2 en 2\n",
    "for x in range(0,10,2):\n",
    "    print(\"Estamos en la iteración: \"+str(x))\n",
    "    if x==6:\n",
    "        break"
   ]
  },
  {
   "cell_type": "code",
   "execution_count": 57,
   "id": "2fdf8802",
   "metadata": {},
   "outputs": [
    {
     "name": "stdout",
     "output_type": "stream",
     "text": [
      "['Pablo', 'entiende', 'muy', 'bien', 'python']\n",
      "Palabra Pablo, en la frase su posición es: 0\n",
      "Palabra entiende, en la frase su posición es: 1\n",
      "Palabra muy, en la frase su posición es: 2\n",
      "Palabra bien, en la frase su posición es: 3\n",
      "Palabra python, en la frase su posición es: 4\n"
     ]
    }
   ],
   "source": [
    "oracion=\"Pablo entiende muy bien python\"\n",
    "frases=oracion.split()\n",
    "print(frases)\n",
    "# print(\"La oración analizada es: \",oracion,\"\\n\")\n",
    "# print(len(frases))\n",
    "\n",
    "for palabra in range(len(frases)):\n",
    "#     print(palabra, frases[palabra])\n",
    "    print(\"Palabra {0}, en la frase su posición es: {1}\".format(frases[palabra],palabra))"
   ]
  },
  {
   "cell_type": "code",
   "execution_count": 59,
   "id": "00df08a6",
   "metadata": {},
   "outputs": [
    {
     "name": "stdout",
     "output_type": "stream",
     "text": [
      "<class 'list'>\n",
      "Hector\n",
      "Juan\n"
     ]
    }
   ],
   "source": [
    "lista=['Pablo','Juan','Luis','Hector']\n",
    "print(type(lista))\n",
    "print(lista[3])\n",
    "print(lista[1])"
   ]
  },
  {
   "cell_type": "code",
   "execution_count": 60,
   "id": "2106d4ec",
   "metadata": {},
   "outputs": [
    {
     "name": "stdout",
     "output_type": "stream",
     "text": [
      "<class 'tuple'>\n",
      "(2, 'Hola', 'Gd')\n"
     ]
    }
   ],
   "source": [
    "tupla=(2,'Hola','Gd')\n",
    "print(type(tupla))\n",
    "print(tupla)"
   ]
  },
  {
   "cell_type": "code",
   "execution_count": 61,
   "id": "c4e22e5b",
   "metadata": {},
   "outputs": [
    {
     "name": "stdout",
     "output_type": "stream",
     "text": [
      "<class 'tuple'>\n",
      "(2, 'Hola', 'Gd')\n"
     ]
    }
   ],
   "source": [
    "tupla=2,'Hola','Gd'\n",
    "print(type(tupla))\n",
    "print(tupla)"
   ]
  },
  {
   "cell_type": "code",
   "execution_count": 73,
   "id": "f1ca1545",
   "metadata": {},
   "outputs": [
    {
     "name": "stdout",
     "output_type": "stream",
     "text": [
      "127.0.0.1\n",
      "5432\n",
      "root\n",
      "nomina\n",
      "\n",
      "El comando PostgreSQL es:\n",
      "    $psql -h 127.0.0.1 -p 5432 -U root -d nomina\n"
     ]
    }
   ],
   "source": [
    "#Recorrer una tupla\n",
    "db_connection=\"127.0.0.1\",\"5432\",\"root\",'nomina'\n",
    "# print(db_connection[2])\n",
    "for parametro in db_connection:\n",
    "    print(parametro)\n",
    "else:\n",
    "    print(\"\"\"\\nEl comando PostgreSQL es:\n",
    "    $psql -h {server} -p {port} -U {user} -d {db_name}\"\"\".format(\n",
    "    server=db_connection[0],port=db_connection[1],user=db_connection[2],db_name=db_connection[3]))"
   ]
  },
  {
   "cell_type": "code",
   "execution_count": 74,
   "id": "ed3267ee",
   "metadata": {},
   "outputs": [
    {
     "name": "stdout",
     "output_type": "stream",
     "text": [
      "r\n"
     ]
    }
   ],
   "source": [
    "#Recorrer cadena de string\n",
    "fruta=\"Fresa\"\n",
    "letra=fruta[1]\n",
    "print(letra)"
   ]
  },
  {
   "cell_type": "code",
   "execution_count": 82,
   "id": "f0bab97b",
   "metadata": {},
   "outputs": [
    {
     "name": "stdout",
     "output_type": "stream",
     "text": [
      "a\n"
     ]
    }
   ],
   "source": [
    "#Recorrer cadena de string\n",
    "fruta=\"banana\"\n",
    "letra=fruta[1]\n",
    "print(letra)"
   ]
  },
  {
   "cell_type": "code",
   "execution_count": 83,
   "id": "b059b312",
   "metadata": {},
   "outputs": [
    {
     "ename": "IndexError",
     "evalue": "string index out of range",
     "output_type": "error",
     "traceback": [
      "\u001b[0;31m---------------------------------------------------------------------------\u001b[0m",
      "\u001b[0;31mIndexError\u001b[0m                                Traceback (most recent call last)",
      "\u001b[0;32m<ipython-input-83-96eb8e08781f>\u001b[0m in \u001b[0;36m<module>\u001b[0;34m\u001b[0m\n\u001b[1;32m      1\u001b[0m \u001b[0mlong\u001b[0m\u001b[0;34m=\u001b[0m\u001b[0mlen\u001b[0m\u001b[0;34m(\u001b[0m\u001b[0mfruta\u001b[0m\u001b[0;34m)\u001b[0m\u001b[0;34m\u001b[0m\u001b[0;34m\u001b[0m\u001b[0m\n\u001b[0;32m----> 2\u001b[0;31m \u001b[0mfruta\u001b[0m\u001b[0;34m[\u001b[0m\u001b[0mlong\u001b[0m\u001b[0;34m]\u001b[0m\u001b[0;34m\u001b[0m\u001b[0;34m\u001b[0m\u001b[0m\n\u001b[0m",
      "\u001b[0;31mIndexError\u001b[0m: string index out of range"
     ]
    }
   ],
   "source": [
    "long=len(fruta)\n",
    "fruta[long]"
   ]
  },
  {
   "cell_type": "code",
   "execution_count": 85,
   "id": "9a6a4ab2",
   "metadata": {},
   "outputs": [
    {
     "data": {
      "text/plain": [
       "'a'"
      ]
     },
     "execution_count": 85,
     "metadata": {},
     "output_type": "execute_result"
    }
   ],
   "source": [
    "# 0,1,2,3,4,5   => Tamño de 6 caracteres\n",
    "long=len(fruta)\n",
    "fruta[long-1]"
   ]
  },
  {
   "cell_type": "code",
   "execution_count": 91,
   "id": "eed9af1e",
   "metadata": {},
   "outputs": [
    {
     "name": "stdout",
     "output_type": "stream",
     "text": [
      "a\n",
      "n\n",
      "a\n",
      "n\n",
      "a\n",
      "b\n"
     ]
    }
   ],
   "source": [
    "# 0,1,2,3,4,5   => Tamño de 6 caracteres\n",
    "long=len(fruta)\n",
    "print(fruta[-1])\n",
    "print(fruta[-2])\n",
    "print(fruta[-3])\n",
    "print(fruta[-4])\n",
    "print(fruta[-5])\n",
    "print(fruta[-6])"
   ]
  },
  {
   "cell_type": "code",
   "execution_count": 94,
   "id": "a5cb394f",
   "metadata": {},
   "outputs": [
    {
     "name": "stdout",
     "output_type": "stream",
     "text": [
      "Monty\n",
      "Python\n"
     ]
    }
   ],
   "source": [
    "#Rebanar cadenas de string\n",
    "s=\"Monty Python\"\n",
    "v1=s[0:5]\n",
    "v2=s[6:12]\n",
    "print(s[0:5])\n",
    "print(s[6:12])"
   ]
  },
  {
   "cell_type": "code",
   "execution_count": 96,
   "id": "2fb95e46",
   "metadata": {},
   "outputs": [
    {
     "name": "stdout",
     "output_type": "stream",
     "text": [
      "Monty\n",
      "Python\n"
     ]
    },
    {
     "data": {
      "text/plain": [
       "'MontyPython'"
      ]
     },
     "execution_count": 96,
     "metadata": {},
     "output_type": "execute_result"
    }
   ],
   "source": [
    "print(v1)\n",
    "print(v2)\n",
    "v1+v2"
   ]
  },
  {
   "cell_type": "code",
   "execution_count": 97,
   "id": "87eb1b6a",
   "metadata": {},
   "outputs": [
    {
     "name": "stdout",
     "output_type": "stream",
     "text": [
      "MontyP\n",
      "ython\n"
     ]
    }
   ],
   "source": [
    "#Rebanar cadenas de string\n",
    "s=\"MontyPython\"\n",
    "print(s[0:6])\n",
    "print(s[6:12])"
   ]
  },
  {
   "cell_type": "code",
   "execution_count": 99,
   "id": "31480b0b",
   "metadata": {},
   "outputs": [
    {
     "name": "stdout",
     "output_type": "stream",
     "text": [
      "ban\n",
      "ana\n"
     ]
    }
   ],
   "source": [
    "f=\"banana\"\n",
    "print(f[:3])\n",
    "print(f[3:])\n"
   ]
  },
  {
   "cell_type": "code",
   "execution_count": 104,
   "id": "8c339c6f",
   "metadata": {},
   "outputs": [
    {
     "name": "stdout",
     "output_type": "stream",
     "text": [
      "\"  \"\n",
      "\"  \"\n"
     ]
    }
   ],
   "source": [
    "#Cuando colocamos indices iguales, obtenemos una cadena vacia\n",
    "#Cuando colocamos el primer indice mayor que el segundo, obtenemos una cadena vacia\n",
    "print('\"',f[3:3],'\"')\n",
    "print('\"',f[5:3],'\"')"
   ]
  },
  {
   "cell_type": "code",
   "execution_count": 105,
   "id": "04d78e9d",
   "metadata": {},
   "outputs": [
    {
     "ename": "TypeError",
     "evalue": "'str' object does not support item assignment",
     "output_type": "error",
     "traceback": [
      "\u001b[0;31m---------------------------------------------------------------------------\u001b[0m",
      "\u001b[0;31mTypeError\u001b[0m                                 Traceback (most recent call last)",
      "\u001b[0;32m<ipython-input-105-94431d73027d>\u001b[0m in \u001b[0;36m<module>\u001b[0;34m\u001b[0m\n\u001b[1;32m      1\u001b[0m \u001b[0;31m#Los string son inmutables\u001b[0m\u001b[0;34m\u001b[0m\u001b[0;34m\u001b[0m\u001b[0;34m\u001b[0m\u001b[0m\n\u001b[1;32m      2\u001b[0m \u001b[0msaludo\u001b[0m\u001b[0;34m=\u001b[0m\u001b[0;34m'Hola mundo'\u001b[0m\u001b[0;34m\u001b[0m\u001b[0;34m\u001b[0m\u001b[0m\n\u001b[0;32m----> 3\u001b[0;31m \u001b[0msaludo\u001b[0m\u001b[0;34m[\u001b[0m\u001b[0;36m0\u001b[0m\u001b[0;34m]\u001b[0m\u001b[0;34m=\u001b[0m\u001b[0;36m7\u001b[0m\u001b[0;34m\u001b[0m\u001b[0;34m\u001b[0m\u001b[0m\n\u001b[0m",
      "\u001b[0;31mTypeError\u001b[0m: 'str' object does not support item assignment"
     ]
    }
   ],
   "source": [
    "#Los string son inmutables\n",
    "saludo='Hola mundo'\n",
    "saludo[0]=7"
   ]
  },
  {
   "cell_type": "code",
   "execution_count": 107,
   "id": "9ac98b68",
   "metadata": {},
   "outputs": [
    {
     "name": "stdout",
     "output_type": "stream",
     "text": [
      "Jola mundo\n"
     ]
    }
   ],
   "source": [
    "nuevo_saludo='J'+saludo[1:]\n",
    "print(nuevo_saludo)"
   ]
  },
  {
   "cell_type": "code",
   "execution_count": 108,
   "id": "eb1d6418",
   "metadata": {},
   "outputs": [
    {
     "data": {
      "text/plain": [
       "True"
      ]
     },
     "execution_count": 108,
     "metadata": {},
     "output_type": "execute_result"
    }
   ],
   "source": [
    "#Operador in, operador boleado que me devuelve True si un elemento esta en una arreglo de datos, puede\n",
    "#ser una tupla, una lista o una cadena de caracteres\n",
    "'a' in 'banana'"
   ]
  },
  {
   "cell_type": "code",
   "execution_count": 111,
   "id": "8a9033fb",
   "metadata": {},
   "outputs": [
    {
     "data": {
      "text/plain": [
       "False"
      ]
     },
     "execution_count": 111,
     "metadata": {},
     "output_type": "execute_result"
    }
   ],
   "source": [
    "'c' in 'banana'"
   ]
  },
  {
   "cell_type": "code",
   "execution_count": 112,
   "id": "adefb4b8",
   "metadata": {},
   "outputs": [
    {
     "data": {
      "text/plain": [
       "True"
      ]
     },
     "execution_count": 112,
     "metadata": {},
     "output_type": "execute_result"
    }
   ],
   "source": [
    "'hola' in 'hola mundo'"
   ]
  }
 ],
 "metadata": {
  "kernelspec": {
   "display_name": "Python 3",
   "language": "python",
   "name": "python3"
  },
  "language_info": {
   "codemirror_mode": {
    "name": "ipython",
    "version": 3
   },
   "file_extension": ".py",
   "mimetype": "text/x-python",
   "name": "python",
   "nbconvert_exporter": "python",
   "pygments_lexer": "ipython3",
   "version": "3.9.1"
  }
 },
 "nbformat": 4,
 "nbformat_minor": 5
}
