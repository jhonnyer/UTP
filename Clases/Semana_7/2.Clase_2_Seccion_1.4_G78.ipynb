{
 "cells": [
  {
   "cell_type": "code",
   "execution_count": 1,
   "id": "2a57ca0e",
   "metadata": {},
   "outputs": [
    {
     "name": "stdout",
     "output_type": "stream",
     "text": [
      "Hola Liliana\n"
     ]
    }
   ],
   "source": [
    "#Cadenas con formato\n",
    "nombre='Liliana'\n",
    "cadena_formateada='Hola %s' %nombre\n",
    "print(cadena_formateada)"
   ]
  },
  {
   "cell_type": "code",
   "execution_count": 2,
   "id": "e9fbb270",
   "metadata": {
    "scrolled": true
   },
   "outputs": [
    {
     "name": "stdout",
     "output_type": "stream",
     "text": [
      "Esto es una letra M: M\n",
      "Esto es un numero 8: 8\n",
      "Esto es una lista: [10, 30, 100]\n"
     ]
    }
   ],
   "source": [
    "print(\"Esto es una letra M: %s\"%'M')\n",
    "print('Esto es un numero 8: %s' %8 )\n",
    "print('Esto es una lista: %s' %[10,30,100] )"
   ]
  },
  {
   "cell_type": "code",
   "execution_count": 3,
   "id": "e1a6d661",
   "metadata": {},
   "outputs": [
    {
     "name": "stdout",
     "output_type": "stream",
     "text": [
      "Hola Liliana y Catalina bienvenidas\n"
     ]
    }
   ],
   "source": [
    "#Cadenas con formato\n",
    "nombre1='Liliana'\n",
    "nombre2='Catalina'\n",
    "cadena_formateada='Hola %s y %s bienvenidas' %(nombre1,nombre2)\n",
    "print(cadena_formateada)"
   ]
  },
  {
   "cell_type": "code",
   "execution_count": 6,
   "id": "851f2661",
   "metadata": {
    "scrolled": true
   },
   "outputs": [
    {
     "name": "stdout",
     "output_type": "stream",
     "text": [
      "*      Enero * Enero      *\n",
      "*    Febrero * Febrero    *\n",
      "*      Marzo * Marzo      *\n",
      "*      Abril * Abril      *\n",
      "*       Mayo * Mayo       *\n",
      "*      Junio * Junio      *\n"
     ]
    }
   ],
   "source": [
    "#Ancho de la posicion de un texto\n",
    "Primeros_meses=['Enero','Febrero','Marzo','Abril','Mayo','Junio']\n",
    "for i in Primeros_meses:\n",
    "    print(\"* %10s * %-10s *\" %(i,i))"
   ]
  },
  {
   "cell_type": "code",
   "execution_count": 7,
   "id": "50de5c38",
   "metadata": {},
   "outputs": [
    {
     "name": "stdout",
     "output_type": "stream",
     "text": [
      "El lenguaje de programacion Python nacio en el año 1991\n"
     ]
    }
   ],
   "source": [
    "#formatear numeros enteros\n",
    "print(\"El lenguaje de programacion %s nacio en el año %d\" %('Python',1991))"
   ]
  },
  {
   "cell_type": "code",
   "execution_count": 8,
   "id": "8dac03e0",
   "metadata": {
    "scrolled": true
   },
   "outputs": [
    {
     "name": "stdout",
     "output_type": "stream",
     "text": [
      "El lenguaje de programacion Python nacio en el año 1991\n"
     ]
    }
   ],
   "source": [
    "#formatear numeros enteros\n",
    "print(\"El lenguaje de programacion %s nacio en el año %d\" %('Python',1991.656))"
   ]
  },
  {
   "cell_type": "code",
   "execution_count": 9,
   "id": "510d828a",
   "metadata": {},
   "outputs": [
    {
     "name": "stdout",
     "output_type": "stream",
     "text": [
      "El numero hexadecimal es 160 y el decimal es 10\n"
     ]
    }
   ],
   "source": [
    "hexadecimal=0XA0\n",
    "decimal=10.5\n",
    "print(\"El numero hexadecimal es %d y el decimal es %d\" %(hexadecimal, decimal))"
   ]
  },
  {
   "cell_type": "code",
   "execution_count": 11,
   "id": "1d85113d",
   "metadata": {
    "scrolled": true
   },
   "outputs": [
    {
     "name": "stdout",
     "output_type": "stream",
     "text": [
      "1000 en hexadecimal (minuscula) es 3e8\n",
      "1000 en hexadecimal (mayuscula) es 3E8\n",
      "1000 en exponencial (minuscula) es 1.000000e+03\n",
      "1000 en exponencial (mayuscula) es 1.000000E+03\n"
     ]
    }
   ],
   "source": [
    "#Formateado un numero entero en hexadecimal y exponencial\n",
    "numero=1000\n",
    "print(\"%d en hexadecimal (minuscula) es %x\" %(numero, numero))\n",
    "print(\"%d en hexadecimal (mayuscula) es %X\" %(numero, numero))\n",
    "print(\"%d en exponencial (minuscula) es %e\" %(numero, numero))\n",
    "print(\"%d en exponencial (mayuscula) es %E\" %(numero, numero))\n"
   ]
  },
  {
   "cell_type": "code",
   "execution_count": 12,
   "id": "1ee18cb2",
   "metadata": {},
   "outputs": [
    {
     "name": "stdout",
     "output_type": "stream",
     "text": [
      "Un tercio (sin decimales) es: 0 \n",
      "Un tercio es: 0.333333 \n"
     ]
    }
   ],
   "source": [
    "#formatear flotantes\n",
    "tercio=1.0/3\n",
    "print(\"Un tercio (sin decimales) es: %d \"%tercio)\n",
    "print(\"Un tercio es: %f \"%tercio)"
   ]
  },
  {
   "cell_type": "code",
   "execution_count": 13,
   "id": "32f841ae",
   "metadata": {},
   "outputs": [
    {
     "name": "stdout",
     "output_type": "stream",
     "text": [
      "Un tercio es: 0.333333 \n",
      "Un tercio es: 0.33 \n"
     ]
    }
   ],
   "source": [
    "#formatear flotantes e indicar el numero de flotantes que quiero\n",
    "#que se muestren en pantalla\n",
    "tercio=1.0/3\n",
    "print(\"Un tercio es: %f \"%tercio)\n",
    "print(\"Un tercio es: %.2f \"%tercio)"
   ]
  },
  {
   "cell_type": "code",
   "execution_count": 15,
   "id": "c05fb538",
   "metadata": {},
   "outputs": [
    {
     "name": "stdout",
     "output_type": "stream",
     "text": [
      "Escriba su nombre por favor: jhonnyer\n",
      "Hola jhonnyer\n",
      "Hola jhonnyer\n",
      "<class 'str'>\n"
     ]
    }
   ],
   "source": [
    "nombre=input(\"Escriba su nombre por favor: \")\n",
    "print('Hola '+nombre)\n",
    "print('Hola %s' %nombre)\n",
    "print(type(nombre))"
   ]
  },
  {
   "cell_type": "code",
   "execution_count": 16,
   "id": "04218225",
   "metadata": {},
   "outputs": [
    {
     "name": "stdout",
     "output_type": "stream",
     "text": [
      "Escriba tu edad por favor: 19\n",
      "Hola  19\n",
      "Hola 19\n",
      "<class 'int'>\n"
     ]
    }
   ],
   "source": [
    "nombre=int(input(\"Escriba tu edad por favor: \"))\n",
    "print('Hola ',nombre)\n",
    "print('Hola %d' %nombre)\n",
    "print(type(nombre))"
   ]
  }
 ],
 "metadata": {
  "kernelspec": {
   "display_name": "Python 3",
   "language": "python",
   "name": "python3"
  },
  "language_info": {
   "codemirror_mode": {
    "name": "ipython",
    "version": 3
   },
   "file_extension": ".py",
   "mimetype": "text/x-python",
   "name": "python",
   "nbconvert_exporter": "python",
   "pygments_lexer": "ipython3",
   "version": "3.9.1"
  }
 },
 "nbformat": 4,
 "nbformat_minor": 5
}
