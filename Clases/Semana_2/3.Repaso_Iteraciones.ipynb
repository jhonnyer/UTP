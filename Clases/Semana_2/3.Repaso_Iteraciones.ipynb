{
 "cells": [
  {
   "cell_type": "code",
   "execution_count": 1,
   "id": "54d96e2c",
   "metadata": {},
   "outputs": [
    {
     "name": "stdout",
     "output_type": "stream",
     "text": [
      "5\n"
     ]
    }
   ],
   "source": [
    "#Actualizacion de variable\n",
    "x=2\n",
    "x=x+3\n",
    "print(x)"
   ]
  },
  {
   "cell_type": "code",
   "execution_count": 4,
   "id": "c112550e",
   "metadata": {},
   "outputs": [
    {
     "name": "stdout",
     "output_type": "stream",
     "text": [
      "5\n",
      "4\n",
      "3\n",
      "2\n",
      "1\n",
      "¡Despegue!\n"
     ]
    }
   ],
   "source": [
    "#sentencia while\n",
    "n = 5\n",
    "while n > 0:\n",
    "    print(n)\n",
    "    n = n - 1\n",
    "    \n",
    "print('¡Despegue!')"
   ]
  },
  {
   "cell_type": "code",
   "execution_count": null,
   "id": "d4f93ab4",
   "metadata": {},
   "outputs": [],
   "source": [
    "#Bucle infinito no ejecutar ojo\n",
    "n = 10\n",
    "while True:\n",
    "print(n, end=' ')\n",
    "n = n - 1\n",
    "print('¡Terminado!')\n",
    "Si cometes el error de ejecuta"
   ]
  },
  {
   "cell_type": "code",
   "execution_count": 6,
   "id": "739bed9f",
   "metadata": {},
   "outputs": [
    {
     "name": "stdout",
     "output_type": "stream",
     "text": [
      "> sdf\n",
      "sdf\n",
      "> dsf\n",
      "dsf\n",
      "> dsf\n",
      "dsf\n",
      "> fin\n",
      "¡Terminado!\n"
     ]
    }
   ],
   "source": [
    "#Bucle infinito con sentencia break para interrumpir\n",
    "while True:\n",
    "    linea = input('> ')\n",
    "    if linea == 'fin':\n",
    "        break\n",
    "    print(linea)\n",
    "print('¡Terminado!')"
   ]
  },
  {
   "cell_type": "code",
   "execution_count": 11,
   "id": "e4fa42a1",
   "metadata": {},
   "outputs": [
    {
     "name": "stdout",
     "output_type": "stream",
     "text": [
      "> d\n",
      "> dsf\n",
      "> #\n",
      "Continue\n",
      "> s\n",
      "> s\n",
      "> fin\n",
      "¡Terminado!\n"
     ]
    }
   ],
   "source": [
    "#Bucle infinito con sentencia break y continue\n",
    "while True:\n",
    "    linea = input('> ')\n",
    "    if linea[0] == '#' :\n",
    "        print(\"Continue\")\n",
    "        continue\n",
    "    if linea == 'fin':\n",
    "        break\n",
    "        print(linea)\n",
    "print('¡Terminado!')"
   ]
  },
  {
   "cell_type": "code",
   "execution_count": 10,
   "id": "ea86173f",
   "metadata": {},
   "outputs": [
    {
     "name": "stdout",
     "output_type": "stream",
     "text": [
      "c vale 1\n",
      "c vale 2\n",
      "El bucle ha sido roto cuando la variable c equivale a:  3\n",
      "c vale 4\n",
      "c vale 5\n",
      "c vale 6\n",
      "Se ha completado la iteracion, el valor de c es:  6\n"
     ]
    }
   ],
   "source": [
    "#cICLO WHILE CON CONDICION IF Y CONTINUE PARA ROMPER EL BUCLE SI SE CUMPLE LA CONDICION Y CONTINUAR OTRA ITERACION\n",
    "c = 0\n",
    "while c <= 5:\n",
    "    c+=1\n",
    "    if (c==3):\n",
    "        print(\"El bucle ha sido roto cuando la variable c equivale a: \",c)\n",
    "        continue \n",
    "    print(\"c vale\", c)\n",
    "else:\n",
    "    print(\"Se ha completado la iteracion, el valor de c es: \",c)"
   ]
  },
  {
   "cell_type": "code",
   "execution_count": 13,
   "id": "31a53185",
   "metadata": {},
   "outputs": [
    {
     "name": "stdout",
     "output_type": "stream",
     "text": [
      "Feliz año nuevo: Joseph\n",
      "Feliz año nuevo: Glenn\n",
      "Feliz año nuevo: Sally\n",
      "¡Terminado!\n"
     ]
    }
   ],
   "source": [
    "#Ciclo FOR\n",
    "\n",
    "amigos = ['Joseph', 'Glenn', 'Sally']\n",
    "for amigo in amigos:\n",
    "    print('Feliz año nuevo:', amigo)\n",
    "\n",
    "print('¡Terminado!')"
   ]
  },
  {
   "cell_type": "code",
   "execution_count": 15,
   "id": "41421832",
   "metadata": {},
   "outputs": [
    {
     "name": "stdout",
     "output_type": "stream",
     "text": [
      "Num. elementos:  1  Valor del elemento:  3\n",
      "Num. elementos:  2  Valor del elemento:  41\n",
      "Num. elementos:  3  Valor del elemento:  12\n",
      "Num. elementos:  4  Valor del elemento:  9\n",
      "Num. elementos:  5  Valor del elemento:  74\n",
      "Num. elementos:  6  Valor del elemento:  15\n"
     ]
    }
   ],
   "source": [
    "# bucles de recuento y suma\n",
    "lista=[3, 41, 12, 9, 74, 15]\n",
    "contador = 0\n",
    "for valor in lista:\n",
    "    contador = contador + 1\n",
    "    print('Num. elementos: ', contador,' Valor del elemento: ',valor)"
   ]
  },
  {
   "cell_type": "code",
   "execution_count": 17,
   "id": "74d2c341",
   "metadata": {},
   "outputs": [
    {
     "name": "stdout",
     "output_type": "stream",
     "text": [
      "Total:  3\n",
      "Total:  44\n",
      "Total:  56\n",
      "Total:  65\n",
      "Total:  139\n",
      "Total:  154\n"
     ]
    }
   ],
   "source": [
    "# Otro bucle similar, que calcula el total de un conjunto de números, se muestra a continuación:\n",
    "lista=[3, 41, 12, 9, 74, 15]\n",
    "total = 0\n",
    "for valor in lista:\n",
    "    total = total + valor\n",
    "    print('Total: ', total)"
   ]
  },
  {
   "cell_type": "code",
   "execution_count": 19,
   "id": "a5aef153",
   "metadata": {},
   "outputs": [
    {
     "name": "stdout",
     "output_type": "stream",
     "text": [
      "6\n",
      "154\n"
     ]
    }
   ],
   "source": [
    "print(len(lista))\n",
    "print(sum(lista))"
   ]
  },
  {
   "cell_type": "code",
   "execution_count": 24,
   "id": "002fc409",
   "metadata": {},
   "outputs": [
    {
     "name": "stdout",
     "output_type": "stream",
     "text": [
      "Antes: None\n",
      "\n",
      "\n",
      "Bucle: 3 3\n",
      "Valor Mayor: 3\n",
      "Bucle: 41 41\n",
      "Valor Mayor: 41\n",
      "Bucle: 74 74\n",
      "Valor Mayor: 74\n"
     ]
    }
   ],
   "source": [
    "#Bucle de valores maximos y minimos\n",
    "lista=[3, 41, 12, 9, 74, 15]\n",
    "mayor = None\n",
    "print('Antes:', mayor)\n",
    "print(\"\\n\")\n",
    "for valor in lista:\n",
    "    if mayor is None or valor > mayor :\n",
    "        mayor = valor\n",
    "        print('Bucle:', valor, mayor)\n",
    "        print('Valor Mayor:', mayor)"
   ]
  },
  {
   "cell_type": "code",
   "execution_count": 25,
   "id": "8fdfb92c",
   "metadata": {},
   "outputs": [
    {
     "name": "stdout",
     "output_type": "stream",
     "text": [
      "Antes: None\n",
      "\n",
      "\n",
      "Valor Mayor: 74\n"
     ]
    }
   ],
   "source": [
    "#Bucle de valores maximos y minimos\n",
    "lista=[3, 41, 12, 9, 74, 15]\n",
    "mayor = None\n",
    "print('Antes:', mayor)\n",
    "print(\"\\n\")\n",
    "for valor in lista:\n",
    "    if mayor is None or valor > mayor :\n",
    "        mayor = valor\n",
    "        \n",
    "print('Valor Mayor:', mayor)"
   ]
  },
  {
   "cell_type": "code",
   "execution_count": 30,
   "id": "330a18d2",
   "metadata": {},
   "outputs": [
    {
     "name": "stdout",
     "output_type": "stream",
     "text": [
      "Antes: None\n",
      "\n",
      "\n",
      "Bucle: 3 3\n",
      "Bucle: 1 1\n",
      "Menor: 1\n"
     ]
    }
   ],
   "source": [
    "# Valor minimo \n",
    "lista=[3, 41, 12, 9, 74, 15,1]\n",
    "menor=None\n",
    "print('Antes:', menor)\n",
    "print(\"\\n\")\n",
    "for valor in lista:\n",
    "    if menor is None or valor < menor:\n",
    "        menor = valor\n",
    "        print('Bucle:', valor, menor)\n",
    "\n",
    "print('Menor:', menor)"
   ]
  },
  {
   "cell_type": "code",
   "execution_count": 35,
   "id": "50926159",
   "metadata": {},
   "outputs": [
    {
     "name": "stdout",
     "output_type": "stream",
     "text": [
      "1\n",
      "74\n"
     ]
    }
   ],
   "source": [
    "#Funciones internas de python que permiten hallar el numero menor y mayor de una lista\n",
    "print(min(lista))\n",
    "print(max(lista))"
   ]
  },
  {
   "cell_type": "code",
   "execution_count": 36,
   "id": "75260b4a",
   "metadata": {},
   "outputs": [
    {
     "data": {
      "text/plain": [
       "1"
      ]
     },
     "execution_count": 36,
     "metadata": {},
     "output_type": "execute_result"
    }
   ],
   "source": [
    "valores=[3, 41, 12, 9, 74, 15,1]\n",
    "def min(valores):\n",
    "    menor = None\n",
    "    for valor in valores:\n",
    "        if menor is None or valor < menor:\n",
    "            menor = valor\n",
    "    return menor\n",
    "\n",
    "min(valores)"
   ]
  },
  {
   "cell_type": "code",
   "execution_count": 56,
   "id": "639858ad",
   "metadata": {},
   "outputs": [
    {
     "name": "stdout",
     "output_type": "stream",
     "text": [
      "Insertar valor: 45\n",
      "['45']\n"
     ]
    }
   ],
   "source": [
    "num=[]\n",
    "valor=input(\"Insertar valor: \")\n",
    "num.append(valor)\n",
    "print(num)\n"
   ]
  },
  {
   "cell_type": "code",
   "execution_count": 58,
   "id": "1f8d42a3",
   "metadata": {},
   "outputs": [
    {
     "name": "stdout",
     "output_type": "stream",
     "text": [
      "Insertar valor: 56\n",
      "56\n"
     ]
    }
   ],
   "source": [
    "num=[]\n",
    "num=input(\"Insertar valor: \")\n",
    "print(num)"
   ]
  },
  {
   "cell_type": "code",
   "execution_count": 62,
   "id": "87358349",
   "metadata": {},
   "outputs": [
    {
     "name": "stdout",
     "output_type": "stream",
     "text": [
      "5\n",
      "15\n",
      "3.0\n"
     ]
    }
   ],
   "source": [
    "num=[1,2,3,4,5]\n",
    "\n",
    "def num_media(num):\n",
    "    total=0\n",
    "    tam=len(num)\n",
    "    print(tam)\n",
    "    for n in num:\n",
    "        if num==\"fin\":\n",
    "            total=total\n",
    "        else:\n",
    "            total=sum(num)\n",
    "            media=total/tam\n",
    "\n",
    "    print(total)\n",
    "    print(media)\n",
    "\n",
    "\n",
    "    \n",
    "num_media(num)"
   ]
  },
  {
   "cell_type": "code",
   "execution_count": 19,
   "id": "aa38fc2f",
   "metadata": {},
   "outputs": [
    {
     "name": "stdout",
     "output_type": "stream",
     "text": [
      "Ingresar un valor: dg\n",
      "El  numero ingresado no es correcto\n",
      "Ingresar un valor: fgh\n",
      "El  numero ingresado no es correcto\n",
      "Ingresar un valor: 5\n",
      "Iteracion 1\n",
      "Ingresar un valor: 6\n",
      "Iteracion 2\n",
      "Ingresar un valor: 7\n",
      "Iteracion 3\n",
      "Ingresar un valor: fin\n",
      "las notas ingresadas fueron:  [5, 6, 7]\n",
      "Se ingresaron 3 notas y la suma total de las notas ingresadas es: 18 \n",
      "La media de las notas ingresadas es:  6.0\n"
     ]
    }
   ],
   "source": [
    "def num_media():\n",
    "    num=[]\n",
    "    total=0\n",
    "    while True:\n",
    "        try:\n",
    "            valor=input(\"Ingresar un valor: \")\n",
    "            if valor=='fin':\n",
    "                break\n",
    "            else:\n",
    "                num.append(int(valor))\n",
    "                tam=len(num)\n",
    "                print(\"Iteracion\", tam)\n",
    "                for n in num:\n",
    "                    total=sum(num)\n",
    "                    \n",
    "                    \n",
    "                    \n",
    "                    media=total/tam\n",
    "        except:\n",
    "            print(\"El  numero ingresado no es correcto\")\n",
    "    print(\"las notas ingresadas fueron: \",num)\n",
    "    print(\"Se ingresaron {} notas y la suma total de las notas ingresadas es: {} \".format(tam,total))\n",
    "    print(\"La media de las notas ingresadas es: \",media)\n",
    "\n",
    "    \n",
    "num_media()"
   ]
  },
  {
   "cell_type": "code",
   "execution_count": 11,
   "id": "c7da05b7",
   "metadata": {},
   "outputs": [
    {
     "name": "stdout",
     "output_type": "stream",
     "text": [
      "El número minimo de la lista es: 1 y el maximo es: 6. \n"
     ]
    }
   ],
   "source": [
    "def min_list(num):\n",
    "    return \"El número minimo de la lista es: {} y el maximo es: {}. \".format(min(num),max(num))\n",
    "\n",
    "lista=[3,4,5,6,3,1]\n",
    "minimo=min_list(lista)\n",
    "print(minimo)"
   ]
  },
  {
   "cell_type": "code",
   "execution_count": 4,
   "id": "106f2ef3",
   "metadata": {},
   "outputs": [
    {
     "name": "stdout",
     "output_type": "stream",
     "text": [
      "Introduce un numero y agregalo a la lista: ffdg\n",
      "El dato no es correcto, por favor ingresa otro numero: \n",
      "Introduce un numero y agregalo a la lista: 5\n",
      "iteracion:  1\n",
      "Introduce un numero y agregalo a la lista: 6\n",
      "iteracion:  2\n",
      "Introduce un numero y agregalo a la lista: 7\n",
      "iteracion:  3\n",
      "Introduce un numero y agregalo a la lista: fin\n",
      "De la lista [5, 6, 7]; el número minimo es: 5 y el maximo es: 7. \n"
     ]
    }
   ],
   "source": [
    "# Escribe otro programa que pida una lista de números como\n",
    "# la anterior y al final muestre por pantalla el máximo y mínimo de los\n",
    "# números, en vez de la media.\n",
    "def min_list():\n",
    "    lists=[]\n",
    "    while True:\n",
    "        try: \n",
    "            valor=input(\"Introduce un numero y agregalo a la lista: \")\n",
    "            if valor=='fin':\n",
    "                break\n",
    "            else:\n",
    "                lists.append(int(valor))\n",
    "                tam=len(lists)  \n",
    "                print(\"iteracion: \",tam)\n",
    "        except:\n",
    "            print(\"El dato no es correcto, por favor ingresa otro numero: \")\n",
    "            \n",
    "    return \"De la lista {}; el número minimo es: {} y el maximo es: {}. \".format(lists, min(lists),max(lists))\n",
    "\n",
    "x=min_list()\n",
    "print(x)"
   ]
  }
 ],
 "metadata": {
  "kernelspec": {
   "display_name": "Python 3",
   "language": "python",
   "name": "python3"
  },
  "language_info": {
   "codemirror_mode": {
    "name": "ipython",
    "version": 3
   },
   "file_extension": ".py",
   "mimetype": "text/x-python",
   "name": "python",
   "nbconvert_exporter": "python",
   "pygments_lexer": "ipython3",
   "version": "3.9.1"
  }
 },
 "nbformat": 4,
 "nbformat_minor": 5
}
