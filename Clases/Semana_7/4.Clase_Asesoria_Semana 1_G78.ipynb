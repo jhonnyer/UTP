{
 "cells": [
  {
   "cell_type": "code",
   "execution_count": 1,
   "id": "dabf6690",
   "metadata": {},
   "outputs": [
    {
     "name": "stdout",
     "output_type": "stream",
     "text": [
      "10\n",
      "20.45\n",
      "3.3333333333333335\n",
      "Hola mundo\n",
      "True\n"
     ]
    }
   ],
   "source": [
    "#Variables, es un unidad de almacenamiento de datos que pueden ser numeros enteros\n",
    "#numeros flotantes, cadena de texto (string), datos booleanos\n",
    "entero=10\n",
    "flotante1=20.45\n",
    "flotante2=10/3\n",
    "cadena='Hola mundo'\n",
    "booleano=True #False\n",
    "\n",
    "#La funcion permite imprimir un valor o un mensaje en pantalla\n",
    "print(entero)\n",
    "print(flotante1)\n",
    "print(flotante2)\n",
    "print(cadena)\n",
    "print(booleano)"
   ]
  },
  {
   "cell_type": "code",
   "execution_count": 7,
   "id": "2b7219ee",
   "metadata": {},
   "outputs": [
    {
     "name": "stdout",
     "output_type": "stream",
     "text": [
      "Hola, bienvenido Brayan, tu tienes 19 años, y tu altura es: 1.750000\n",
      "\n",
      "Hola, bienvenido Brayan, tu tienes 19 años, y tu altura es: 1.75\n",
      "\n",
      "Hola, bienvenido  Brayan  tu tienes  19  años, y tu altura es:  1.75\n",
      "\n",
      "Hola, bienvenido Brayan tu tienes  19  años, y tu altura es:  1.75\n"
     ]
    }
   ],
   "source": [
    "#Imprimir mensajes en la pantalla mediante la funcion print de python\n",
    "nombre='Brayan'\n",
    "edad=19\n",
    "altura=1.75\n",
    "#Formateo de texto mediante el operador de %\n",
    "#Para un string vamos a manejar la letra s\n",
    "#Para un flotante vamos a manejar la letra f\n",
    "#para un entero vamos a manejar la letra d\n",
    "print(\"Hola, bienvenido %s, tu tienes %d años, y tu altura es: %f\" %(nombre,edad, altura) )\n",
    "print()\n",
    "print(\"Hola, bienvenido {}, tu tienes {} años, y tu altura es: {}\".format(nombre,edad, altura)) \n",
    "print()\n",
    "print(\"Hola, bienvenido \",nombre,\" tu tienes \",edad,\" años, y tu altura es: \",altura)\n",
    "print()\n",
    "#Siempre los datos de tipo string van a ir entre comilla simple o comilla doble\n",
    "\n",
    "print(\"Hola, bienvenido \"+nombre+\" tu tienes \",edad,\" años, y tu altura es: \",altura)"
   ]
  },
  {
   "cell_type": "code",
   "execution_count": 11,
   "id": "acd0e7de",
   "metadata": {},
   "outputs": [
    {
     "name": "stdout",
     "output_type": "stream",
     "text": [
      "9\n",
      "hola\n"
     ]
    }
   ],
   "source": [
    "#Python detecta entre mayusculas y minusculas\n",
    "var=9\n",
    "VAR='hola'\n",
    "print(var)\n",
    "print(VAR)"
   ]
  },
  {
   "cell_type": "code",
   "execution_count": 17,
   "id": "4a29c959",
   "metadata": {},
   "outputs": [
    {
     "name": "stdout",
     "output_type": "stream",
     "text": [
      "[1, 'Hola', 3.45, True, [1, 2]]\n",
      "1\n",
      "Hola\n",
      "[1, 2]\n",
      "2\n"
     ]
    }
   ],
   "source": [
    "#Colecciones de datos\n",
    "#Las listas van definidas por unos elementos separados por coma entre corchetes, \n",
    "#Las listas pueden contener cualquier tipo de datos\n",
    "listas=[1,'Hola',3.45,True,[1,2]]\n",
    "print(listas)\n",
    "#La funcion len permite contabilidad cuantos elementos tiene una coleccion de datos o variable\n",
    "len(listas)\n",
    "print(listas[0])\n",
    "print(listas[1])\n",
    "print(listas[4])\n",
    "#Accedo a una lista interna dentro de otra lista\n",
    "print(listas[4][1])"
   ]
  },
  {
   "cell_type": "code",
   "execution_count": 19,
   "id": "a722dbdd",
   "metadata": {},
   "outputs": [
    {
     "name": "stdout",
     "output_type": "stream",
     "text": [
      "[1, 'Hola', 3.45, True, False]\n"
     ]
    }
   ],
   "source": [
    "#Las listas son mutables, por lo tanto sus valores pueden ser modificados, añadir \n",
    "#nueevos elementos\n",
    "#para cambiar un valor, solo basta con  acceder al elemento mediante el indice o la \n",
    "#posicion en que se encuentra en la lista y asignar un nuevo valor\n",
    "listas[4]=False\n",
    "print(listas)"
   ]
  },
  {
   "cell_type": "code",
   "execution_count": 25,
   "id": "f5c4254b",
   "metadata": {},
   "outputs": [
    {
     "name": "stdout",
     "output_type": "stream",
     "text": [
      "5\n",
      "False\n",
      "False\n",
      "True\n"
     ]
    }
   ],
   "source": [
    "#Puedo utilizar len() para mirar el tamaño de un elemento, en este caso una lista\n",
    "print(len(listas))\n",
    "#Acceder al ultimo elemento de la lista\n",
    "print(listas[len(listas)-1])\n",
    "#Tambien manejando esta logica, en python se puede resumir de la siguiente forma\n",
    "print(listas[-1])\n",
    "#Acceder al penultimo elemento de la lista\n",
    "print(listas[-2])\n",
    "\n",
    "#Nosotros podemos concluir, que para recorrer una lista de izquierda a derecha\n",
    "#utilizamos los indices desde la posicion 0, hasta una posicion n, donde n es el \n",
    "#tamño de la lista-1\n",
    "#Podemos recorrer una lista de derecha a izquierda, desde la posicion -1, luego -2 y asi sucesivamente"
   ]
  },
  {
   "cell_type": "code",
   "execution_count": 26,
   "id": "a04bf1d9",
   "metadata": {
    "scrolled": true
   },
   "outputs": [
    {
     "data": {
      "text/plain": [
       "['__add__',\n",
       " '__class__',\n",
       " '__class_getitem__',\n",
       " '__contains__',\n",
       " '__delattr__',\n",
       " '__delitem__',\n",
       " '__dir__',\n",
       " '__doc__',\n",
       " '__eq__',\n",
       " '__format__',\n",
       " '__ge__',\n",
       " '__getattribute__',\n",
       " '__getitem__',\n",
       " '__gt__',\n",
       " '__hash__',\n",
       " '__iadd__',\n",
       " '__imul__',\n",
       " '__init__',\n",
       " '__init_subclass__',\n",
       " '__iter__',\n",
       " '__le__',\n",
       " '__len__',\n",
       " '__lt__',\n",
       " '__mul__',\n",
       " '__ne__',\n",
       " '__new__',\n",
       " '__reduce__',\n",
       " '__reduce_ex__',\n",
       " '__repr__',\n",
       " '__reversed__',\n",
       " '__rmul__',\n",
       " '__setattr__',\n",
       " '__setitem__',\n",
       " '__sizeof__',\n",
       " '__str__',\n",
       " '__subclasshook__',\n",
       " 'append',\n",
       " 'clear',\n",
       " 'copy',\n",
       " 'count',\n",
       " 'extend',\n",
       " 'index',\n",
       " 'insert',\n",
       " 'pop',\n",
       " 'remove',\n",
       " 'reverse',\n",
       " 'sort']"
      ]
     },
     "execution_count": 26,
     "metadata": {},
     "output_type": "execute_result"
    }
   ],
   "source": [
    "#Las listas tienen unos metodos que permiten manejar la informacion en esa estructura de datos\n",
    "#Puedo utilizar la funcion dir() para ver los metodos de una lista\n",
    "dir(listas)"
   ]
  },
  {
   "cell_type": "code",
   "execution_count": 28,
   "id": "8130e72e",
   "metadata": {},
   "outputs": [
    {
     "name": "stdout",
     "output_type": "stream",
     "text": [
      "[1, 2, 3, 4, 5, 6, 7]\n",
      "[1, 2, 3, 4, 5, 6, 7, 8]\n"
     ]
    }
   ],
   "source": [
    "lista=[1,2,3,4,5,6,7]\n",
    "print(lista)\n",
    "#Metodo append para añadir un valor a la lista\n",
    "lista.append(8)\n",
    "print(lista)"
   ]
  },
  {
   "cell_type": "code",
   "execution_count": 29,
   "id": "b26d2ed1",
   "metadata": {},
   "outputs": [
    {
     "name": "stdout",
     "output_type": "stream",
     "text": [
      "[6, 4, 7, 2, 4, 56, 8, 1, 3, 4, 56, 67, 74, 3, 1]\n",
      "[1, 1, 2, 3, 3, 4, 4, 4, 6, 7, 8, 56, 56, 67, 74]\n"
     ]
    }
   ],
   "source": [
    "lista=[6,4,7,2,4,56,8,1,3,4,56,67,74,3,1]\n",
    "print(lista)\n",
    "#Metodo sort() que me permite ordenar una lista de forma ascendente\n",
    "lista.sort()\n",
    "print(lista)"
   ]
  },
  {
   "cell_type": "code",
   "execution_count": 30,
   "id": "1e92f1a4",
   "metadata": {},
   "outputs": [
    {
     "name": "stdout",
     "output_type": "stream",
     "text": [
      "[74, 67, 56, 56, 8, 7, 6, 4, 4, 4, 3, 3, 2, 1, 1]\n"
     ]
    }
   ],
   "source": [
    "#Puedo ordenar de mayor a menor, es decir descendente\n",
    "lista.sort(reverse=True)\n",
    "print(lista)"
   ]
  },
  {
   "cell_type": "code",
   "execution_count": 31,
   "id": "7ebca750",
   "metadata": {},
   "outputs": [
    {
     "name": "stdout",
     "output_type": "stream",
     "text": [
      "['z', 'f', 'e', 'a', 'j', 's', 'b']\n",
      "['a', 'b', 'e', 'f', 'j', 's', 'z']\n"
     ]
    }
   ],
   "source": [
    "#Una lista de caracteres, va a ordenar de forma alfabetica\n",
    "lista=['z','f','e','a','j','s','b']\n",
    "print(lista)\n",
    "#Metodo sort() que me permite ordenar una lista de forma ascendente\n",
    "lista.sort()\n",
    "print(lista)"
   ]
  },
  {
   "cell_type": "code",
   "execution_count": 37,
   "id": "0d51b50b",
   "metadata": {},
   "outputs": [
    {
     "name": "stdout",
     "output_type": "stream",
     "text": [
      "(1, 'hola', 2, 3, True)\n",
      "(1, 'hola', 2, 3, True)\n",
      "1\n",
      "True\n"
     ]
    }
   ],
   "source": [
    "#Tuplas\n",
    "#Las tuplas son elementos inmutables, es decir no podemos modificar valores\n",
    "tupla1=1,'hola',2,3,True\n",
    "print(tupla1)\n",
    "\n",
    "#Tuplas\n",
    "#Las tuplas son elementos inmutables, es decir no podemos modificar valores\n",
    "tupla2=(1,'hola',2,3,True)\n",
    "print(tupla2)\n",
    "\n",
    "#LAs tuplas manejan indices, en el cual, el primer elemento esta en el indice 0\n",
    "print(tupla1[0])\n",
    "print(tupla1[4])"
   ]
  },
  {
   "cell_type": "code",
   "execution_count": 38,
   "id": "bb254244",
   "metadata": {},
   "outputs": [
    {
     "ename": "TypeError",
     "evalue": "'tuple' object does not support item assignment",
     "output_type": "error",
     "traceback": [
      "\u001b[0;31m---------------------------------------------------------------------------\u001b[0m",
      "\u001b[0;31mTypeError\u001b[0m                                 Traceback (most recent call last)",
      "\u001b[0;32m<ipython-input-38-bd9fc0633f22>\u001b[0m in \u001b[0;36m<module>\u001b[0;34m\u001b[0m\n\u001b[1;32m      1\u001b[0m \u001b[0;31m#Las tuplas no puede modificar sus valores\u001b[0m\u001b[0;34m\u001b[0m\u001b[0;34m\u001b[0m\u001b[0;34m\u001b[0m\u001b[0m\n\u001b[0;32m----> 2\u001b[0;31m \u001b[0mtupla1\u001b[0m\u001b[0;34m[\u001b[0m\u001b[0;36m4\u001b[0m\u001b[0;34m]\u001b[0m\u001b[0;34m=\u001b[0m\u001b[0;32mFalse\u001b[0m\u001b[0;34m\u001b[0m\u001b[0;34m\u001b[0m\u001b[0m\n\u001b[0m",
      "\u001b[0;31mTypeError\u001b[0m: 'tuple' object does not support item assignment"
     ]
    }
   ],
   "source": [
    "#Las tuplas no puede modificar sus valores\n",
    "tupla1[4]=False"
   ]
  },
  {
   "cell_type": "code",
   "execution_count": 39,
   "id": "081466ce",
   "metadata": {},
   "outputs": [
    {
     "data": {
      "text/plain": [
       "['__add__',\n",
       " '__class__',\n",
       " '__class_getitem__',\n",
       " '__contains__',\n",
       " '__delattr__',\n",
       " '__dir__',\n",
       " '__doc__',\n",
       " '__eq__',\n",
       " '__format__',\n",
       " '__ge__',\n",
       " '__getattribute__',\n",
       " '__getitem__',\n",
       " '__getnewargs__',\n",
       " '__gt__',\n",
       " '__hash__',\n",
       " '__init__',\n",
       " '__init_subclass__',\n",
       " '__iter__',\n",
       " '__le__',\n",
       " '__len__',\n",
       " '__lt__',\n",
       " '__mul__',\n",
       " '__ne__',\n",
       " '__new__',\n",
       " '__reduce__',\n",
       " '__reduce_ex__',\n",
       " '__repr__',\n",
       " '__rmul__',\n",
       " '__setattr__',\n",
       " '__sizeof__',\n",
       " '__str__',\n",
       " '__subclasshook__',\n",
       " 'count',\n",
       " 'index']"
      ]
     },
     "execution_count": 39,
     "metadata": {},
     "output_type": "execute_result"
    }
   ],
   "source": [
    "dir(tupla1)"
   ]
  },
  {
   "cell_type": "code",
   "execution_count": 42,
   "id": "ff9925d2",
   "metadata": {},
   "outputs": [
    {
     "name": "stdout",
     "output_type": "stream",
     "text": [
      "(1, 'hola', 2, 3, True, 2, 2)\n"
     ]
    },
    {
     "data": {
      "text/plain": [
       "3"
      ]
     },
     "execution_count": 42,
     "metadata": {},
     "output_type": "execute_result"
    }
   ],
   "source": [
    "tupla2=(1,'hola',2,3,True,2,2)\n",
    "print(tupla2)\n",
    "#La funcion count permite saber cuantas veces esta repetido un elemento en la tupla\n",
    "tupla2.count(2)"
   ]
  },
  {
   "cell_type": "code",
   "execution_count": 45,
   "id": "004d5a7e",
   "metadata": {},
   "outputs": [
    {
     "name": "stdout",
     "output_type": "stream",
     "text": [
      "{'clave1': 132, 'clave2': 'Hola', 'clave3': 2.34}\n",
      "Hola\n",
      "2.34\n"
     ]
    }
   ],
   "source": [
    "#Diccionarios\n",
    "#Los diccionarios tienen una estructura de elementos conformados por parejas clave-valor \n",
    "diccionario={'clave1':132,'clave2':'Hola','clave3':2.34}\n",
    "print(diccionario)\n",
    "\n",
    "#Los diccionario no manejan indices, para acceder a un valor lo hacemos por medio de la clave\n",
    "#Los diccionarios son mutable, se peuden modificar\n",
    "#Pueden contener cualquier tipo de elemento\n",
    "print(diccionario['clave2'])\n",
    "print(diccionario['clave3'])"
   ]
  },
  {
   "cell_type": "code",
   "execution_count": 47,
   "id": "8bb544c2",
   "metadata": {},
   "outputs": [
    {
     "name": "stdout",
     "output_type": "stream",
     "text": [
      "{'clave1': 132, 'clave2': 'Hola', 'clave3': True}\n"
     ]
    }
   ],
   "source": [
    "#Puedo modificar un diccionario, voy a cambiar un valor de una clave\n",
    "diccionario['clave3']=True\n",
    "print(diccionario)"
   ]
  },
  {
   "cell_type": "code",
   "execution_count": 48,
   "id": "2c6581c1",
   "metadata": {},
   "outputs": [
    {
     "name": "stdout",
     "output_type": "stream",
     "text": [
      "{'clave1': 132, 'clave2': 'Hola', 'clave3': True, 'clave4': [1, 2, 3]}\n"
     ]
    }
   ],
   "source": [
    "#Añadir una pareja clave valor a un diccionario\n",
    "diccionario['clave4']=[1,2,3]\n",
    "print(diccionario)"
   ]
  },
  {
   "cell_type": "code",
   "execution_count": 49,
   "id": "a7478111",
   "metadata": {
    "scrolled": true
   },
   "outputs": [
    {
     "data": {
      "text/plain": [
       "['__class__',\n",
       " '__class_getitem__',\n",
       " '__contains__',\n",
       " '__delattr__',\n",
       " '__delitem__',\n",
       " '__dir__',\n",
       " '__doc__',\n",
       " '__eq__',\n",
       " '__format__',\n",
       " '__ge__',\n",
       " '__getattribute__',\n",
       " '__getitem__',\n",
       " '__gt__',\n",
       " '__hash__',\n",
       " '__init__',\n",
       " '__init_subclass__',\n",
       " '__ior__',\n",
       " '__iter__',\n",
       " '__le__',\n",
       " '__len__',\n",
       " '__lt__',\n",
       " '__ne__',\n",
       " '__new__',\n",
       " '__or__',\n",
       " '__reduce__',\n",
       " '__reduce_ex__',\n",
       " '__repr__',\n",
       " '__reversed__',\n",
       " '__ror__',\n",
       " '__setattr__',\n",
       " '__setitem__',\n",
       " '__sizeof__',\n",
       " '__str__',\n",
       " '__subclasshook__',\n",
       " 'clear',\n",
       " 'copy',\n",
       " 'fromkeys',\n",
       " 'get',\n",
       " 'items',\n",
       " 'keys',\n",
       " 'pop',\n",
       " 'popitem',\n",
       " 'setdefault',\n",
       " 'update',\n",
       " 'values']"
      ]
     },
     "execution_count": 49,
     "metadata": {},
     "output_type": "execute_result"
    }
   ],
   "source": [
    "dir(diccionario)"
   ]
  },
  {
   "cell_type": "code",
   "execution_count": 63,
   "id": "e73e7832",
   "metadata": {},
   "outputs": [
    {
     "ename": "KeyError",
     "evalue": "0",
     "output_type": "error",
     "traceback": [
      "\u001b[0;31m---------------------------------------------------------------------------\u001b[0m",
      "\u001b[0;31mKeyError\u001b[0m                                  Traceback (most recent call last)",
      "\u001b[0;32m<ipython-input-63-a5d5180ddcc4>\u001b[0m in \u001b[0;36m<module>\u001b[0;34m\u001b[0m\n\u001b[1;32m      1\u001b[0m \u001b[0;31m#Los diccionario no manejan indices\u001b[0m\u001b[0;34m\u001b[0m\u001b[0;34m\u001b[0m\u001b[0;34m\u001b[0m\u001b[0m\n\u001b[0;32m----> 2\u001b[0;31m \u001b[0mdiccionario\u001b[0m\u001b[0;34m[\u001b[0m\u001b[0;36m0\u001b[0m\u001b[0;34m]\u001b[0m\u001b[0;34m\u001b[0m\u001b[0;34m\u001b[0m\u001b[0m\n\u001b[0m",
      "\u001b[0;31mKeyError\u001b[0m: 0"
     ]
    }
   ],
   "source": [
    "#Los diccionario no manejan indices\n",
    "diccionario[0]"
   ]
  },
  {
   "cell_type": "code",
   "execution_count": 60,
   "id": "573c686f",
   "metadata": {},
   "outputs": [
    {
     "name": "stdout",
     "output_type": "stream",
     "text": [
      "{'clave1': 132, 'clave2': 'Hola', 'clave3': True, 'clave4': [1, 2, 3]}\n",
      "\n",
      "dict_keys(['clave1', 'clave2', 'clave3', 'clave4'])\n",
      "\n",
      "\n",
      "dict_values([132, 'Hola', True, [1, 2, 3]])\n",
      "\n",
      "dict_items([('clave1', 132), ('clave2', 'Hola'), ('clave3', True), ('clave4', [1, 2, 3])])\n"
     ]
    }
   ],
   "source": [
    "print(diccionario)\n",
    "print()\n",
    "#Funcion keys devuelve las claves del diccionario\n",
    "key=diccionario.keys()\n",
    "print(key)\n",
    "print()\n",
    "#Funcion values devuelve los valores del diccionraio\n",
    "valores=diccionario.values()\n",
    "print()\n",
    "print(valores)\n",
    "#Funcion items que me devuelve la pareja clave-valor en una tupla\n",
    "print()\n",
    "item=diccionario.items()\n",
    "print(item)"
   ]
  },
  {
   "cell_type": "code",
   "execution_count": 61,
   "id": "13c3324b",
   "metadata": {},
   "outputs": [
    {
     "name": "stdout",
     "output_type": "stream",
     "text": [
      "<class 'dict_items'>\n"
     ]
    }
   ],
   "source": [
    "print(type(item))"
   ]
  },
  {
   "cell_type": "code",
   "execution_count": 59,
   "id": "f8f13b6c",
   "metadata": {},
   "outputs": [
    {
     "name": "stdout",
     "output_type": "stream",
     "text": [
      "['clave1', 'clave2', 'clave3', 'clave4']\n",
      "[132, 'Hola', True, [1, 2, 3]]\n",
      "[('clave1', 132), ('clave2', 'Hola'), ('clave3', True), ('clave4', [1, 2, 3])]\n",
      "\n"
     ]
    },
    {
     "data": {
      "text/plain": [
       "('clave2', 'Hola')"
      ]
     },
     "execution_count": 59,
     "metadata": {},
     "output_type": "execute_result"
    }
   ],
   "source": [
    "#Convertir estos arreglos en una lista utilizando la funcion list\n",
    "key=list(key)\n",
    "valor=list(valores)\n",
    "item=list(item)\n",
    "print(key)\n",
    "print(valor)\n",
    "print(item)\n",
    "print()\n",
    "item[1]"
   ]
  },
  {
   "cell_type": "code",
   "execution_count": 65,
   "id": "53067f62",
   "metadata": {},
   "outputs": [
    {
     "name": "stdout",
     "output_type": "stream",
     "text": [
      "(3, 4, 5, 6)\n",
      "[3, 4, 5, 6]\n"
     ]
    }
   ],
   "source": [
    "#Convertir una tupla en una lista\n",
    "tupla=(3,4,5,6)\n",
    "print(tupla)\n",
    "lista=list(tupla)\n",
    "print(lista)"
   ]
  },
  {
   "cell_type": "code",
   "execution_count": 68,
   "id": "0434e181",
   "metadata": {},
   "outputs": [
    {
     "name": "stdout",
     "output_type": "stream",
     "text": [
      "{1, 2, 3, 4, 'hola'}\n"
     ]
    }
   ],
   "source": [
    "#Conjunto\n",
    "#Los conjuntos son colecciones de datos que no permiten elementos mutables en sus datos\n",
    "#los conjuntos no admiten elementos repetidos y no manejan indices\n",
    "conjunto={1,2,3,4,'hola',True,2,2,2,2,2,2}\n",
    "print(conjunto)"
   ]
  },
  {
   "cell_type": "code",
   "execution_count": 70,
   "id": "3e06b2c0",
   "metadata": {},
   "outputs": [
    {
     "name": "stdout",
     "output_type": "stream",
     "text": [
      "Adios\n"
     ]
    }
   ],
   "source": [
    "#Estructuras de control \n",
    "\n",
    "#Condiccional if: este condicional me permite evaluar si una condicion es verdadera\n",
    "#toma un camino, y si la condicion es falsa toma otro camino\n",
    "var=101\n",
    "if var==10: \n",
    "    print(\"Hola, bienvenido\")\n",
    "else:\n",
    "    print(\"Adios\")"
   ]
  },
  {
   "cell_type": "code",
   "execution_count": 72,
   "id": "d45ddb55",
   "metadata": {},
   "outputs": [
    {
     "name": "stdout",
     "output_type": "stream",
     "text": [
      "Vas a realizar el parcial\n"
     ]
    }
   ],
   "source": [
    "#Estructuras de control \n",
    "\n",
    "#Condiccional if: este condicional me permite evaluar si una condicion es verdadera\n",
    "#toma un camino, y si la condicion es falsa toma otro camino\n",
    "#En esta estructura de datos, si una condicion se cumple, ya no procede a evaluar las demas\n",
    "#condiciones, solo se ejecuta una vez\n",
    "var=11\n",
    "\n",
    "if var<10: \n",
    "    print(\"Hola, bienvenidos\")\n",
    "elif var>10:\n",
    "    print(\"Vas a realizar el parcial\")\n",
    "else:\n",
    "    print(\"Adios\")"
   ]
  },
  {
   "cell_type": "code",
   "execution_count": 73,
   "id": "1769cef2",
   "metadata": {},
   "outputs": [
    {
     "name": "stdout",
     "output_type": "stream",
     "text": [
      "Vas a realizar el parcial\n",
      "21\n"
     ]
    }
   ],
   "source": [
    "#Estructuras de control \n",
    "\n",
    "#Condiccional if: este condicional me permite evaluar si una condicion es verdadera\n",
    "#toma un camino, y si la condicion es falsa toma otro camino\n",
    "#En esta estructura de datos, si una condicion se cumple, ya no procede a evaluar las demas\n",
    "#condiciones, solo se ejecuta una vez\n",
    "var=11\n",
    "if var<10: \n",
    "    print(\"Hola, bienvenidos\")\n",
    "elif var>10:\n",
    "    print(\"Vas a realizar el parcial\")\n",
    "    var=var+10  #var=var+=1\n",
    "    print(var)\n",
    "else:\n",
    "    print(\"Adios\")"
   ]
  },
  {
   "cell_type": "code",
   "execution_count": 78,
   "id": "618187a1",
   "metadata": {},
   "outputs": [
    {
     "name": "stdout",
     "output_type": "stream",
     "text": [
      "La variable tiene un valor de:  10\n",
      "La variable tiene un valor de:  9\n",
      "La variable tiene un valor de:  8\n",
      "La variable tiene un valor de:  7\n",
      "La variable tiene un valor de:  6\n",
      "La variable tiene un valor de:  5\n",
      "La variable tiene un valor de:  4\n",
      "La variable tiene un valor de:  3\n",
      "La variable tiene un valor de:  2\n",
      "La variable tiene un valor de:  1\n",
      "La variable tiene un valor de:  0\n",
      "Fin de la condicion\n"
     ]
    }
   ],
   "source": [
    "#Estructuras de control \n",
    "\n",
    "#While, en un bucle que permite ejecutar una serie de instrucciones mientras que una \n",
    "#condicion sea verdadera, cuando la condicion es falsa, el bucle se termina\n",
    "#El bucle while tiene una variable de iteracion que hace que la condicion en un momento\n",
    "#sea falsa y el bucle termine, si no existe variable de iteracion se tiene un bucle infinito\n",
    "var=11\n",
    "while var>0:\n",
    "    var-=1 #var=var-1\n",
    "    print(\"La variable tiene un valor de: \",var)\n",
    "print(\"Fin de la condicion\")"
   ]
  },
  {
   "cell_type": "code",
   "execution_count": 83,
   "id": "aad746a6",
   "metadata": {},
   "outputs": [
    {
     "name": "stdout",
     "output_type": "stream",
     "text": [
      "0 1\n",
      "1 3\n",
      "2 4\n",
      "3 5\n",
      "4 6\n",
      "5 7\n",
      "6 78\n",
      "7 8\n",
      "8 5\n"
     ]
    }
   ],
   "source": [
    "#Bucle for que me permite recorrer estructuras iterables por ejemplo una lista, un diccionario, una tupla\n",
    "\n",
    "#Recorrer una lista\n",
    "lista=[1,3,4,5,6,7,78,8,5]\n",
    "# print(len(lista))\n",
    "\n",
    "# range(start, stop, step)  ->  for x=0; x<10, x=x+1 (x++)\n",
    "# [0,1,2,3,4,5,6,7,8,9]\n",
    "for i in range(len(lista)):\n",
    "    print(i, lista[i])"
   ]
  },
  {
   "cell_type": "code",
   "execution_count": 84,
   "id": "9205d8f9",
   "metadata": {},
   "outputs": [
    {
     "name": "stdout",
     "output_type": "stream",
     "text": [
      "1\n",
      "3\n",
      "4\n",
      "5\n",
      "6\n",
      "7\n",
      "78\n",
      "8\n",
      "5\n"
     ]
    }
   ],
   "source": [
    "#Bucle for que me permite recorrer estructuras iterables por ejemplo una lista, un diccionario, una tupla\n",
    "\n",
    "#Recorrer una lista\n",
    "lista=[1,3,4,5,6,7,78,8,5]\n",
    "# print(len(lista))\n",
    "\n",
    "# i va a contener los valores de los elementos en la lista\n",
    "for i in lista:\n",
    "    print(i)"
   ]
  },
  {
   "cell_type": "code",
   "execution_count": 86,
   "id": "8e84d1f1",
   "metadata": {},
   "outputs": [
    {
     "name": "stdout",
     "output_type": "stream",
     "text": [
      "0 1\n",
      "1 3\n",
      "2 4\n",
      "3 5\n",
      "4 6\n",
      "5 7\n",
      "6 78\n",
      "7 8\n",
      "8 5\n"
     ]
    }
   ],
   "source": [
    "#Funcion enumerate en un for que permite obtener el indice y valor de una lista\n",
    "lista=[1,3,4,5,6,7,78,8,5]\n",
    "for indice, valor in enumerate(lista):\n",
    "    print(indice, valor)"
   ]
  },
  {
   "cell_type": "code",
   "execution_count": 80,
   "id": "a01202ff",
   "metadata": {
    "scrolled": true
   },
   "outputs": [
    {
     "name": "stdout",
     "output_type": "stream",
     "text": [
      "0\n",
      "2\n",
      "4\n",
      "6\n",
      "8\n"
     ]
    }
   ],
   "source": [
    "for i in range(0,10,2):\n",
    "    print(i)\n"
   ]
  },
  {
   "cell_type": "code",
   "execution_count": 87,
   "id": "f5869b0b",
   "metadata": {},
   "outputs": [
    {
     "name": "stdout",
     "output_type": "stream",
     "text": [
      "3\n",
      "4\n",
      "5\n",
      "6\n",
      "7\n",
      "6\n"
     ]
    }
   ],
   "source": [
    "#Recorrer una tupla\n",
    "tupla=(3,4,5,6,7,6)\n",
    "for i in tupla:\n",
    "    print(i)"
   ]
  },
  {
   "cell_type": "code",
   "execution_count": 88,
   "id": "d10b9758",
   "metadata": {},
   "outputs": [
    {
     "name": "stdout",
     "output_type": "stream",
     "text": [
      "0 3\n",
      "1 4\n",
      "2 5\n",
      "3 6\n",
      "4 7\n",
      "5 6\n"
     ]
    }
   ],
   "source": [
    "#Recorrer una tupla\n",
    "tupla=(3,4,5,6,7,6)\n",
    "for i, valor in enumerate(tupla):\n",
    "    print(i, valor)"
   ]
  },
  {
   "cell_type": "code",
   "execution_count": 91,
   "id": "1d122428",
   "metadata": {},
   "outputs": [
    {
     "name": "stdout",
     "output_type": "stream",
     "text": [
      "clave1 132\n",
      "clave2 Hola\n",
      "clave3 2.34\n"
     ]
    }
   ],
   "source": [
    "#Recorramos un diccionario\n",
    "diccionario={'clave1':132,'clave2':'Hola','clave3':2.34}\n",
    "#Esta forma unicamente, me devuelve la clave\n",
    "for i in diccionario:\n",
    "    print(i, diccionario[i])"
   ]
  },
  {
   "cell_type": "code",
   "execution_count": 94,
   "id": "bbaf40a1",
   "metadata": {},
   "outputs": [
    {
     "name": "stdout",
     "output_type": "stream",
     "text": [
      "clave1 132\n",
      "clave2 Hola\n",
      "clave3 2.34\n",
      "[('clave1', 132), ('clave2', 'Hola'), ('clave3', 2.34)]\n"
     ]
    }
   ],
   "source": [
    "#Recorramos un diccionario\n",
    "diccionario={'clave1':132,'clave2':'Hola','clave3':2.34}\n",
    "#Esta forma unicamente, me devuelve la clave\n",
    "lista=[]\n",
    "for clave,valor in diccionario.items():\n",
    "    print(clave, valor)\n",
    "    lista.append((clave,valor))\n",
    "    \n",
    "print(lista)"
   ]
  },
  {
   "cell_type": "code",
   "execution_count": 97,
   "id": "ae755de6",
   "metadata": {},
   "outputs": [
    {
     "name": "stdout",
     "output_type": "stream",
     "text": [
      "[[1, 2, 3], [4, 5, 6], [7, 8, 9]]\n",
      "[4, 5, 6]\n",
      "8\n"
     ]
    }
   ],
   "source": [
    "lista=[[1,2,3],[4,5,6],[7,8,9]]\n",
    "print(lista)\n",
    "#Accedo a la lista en el indice 1\n",
    "print(lista[1])\n",
    "#Acceder a la lista en el indice 2 y el valor de la lista en el indice 1\n",
    "print(lista[2][1])"
   ]
  },
  {
   "cell_type": "code",
   "execution_count": 99,
   "id": "8dfdfdf2",
   "metadata": {},
   "outputs": [
    {
     "name": "stdout",
     "output_type": "stream",
     "text": [
      "[[1 2 3]\n",
      " [4 5 6]\n",
      " [7 8 9]]\n"
     ]
    }
   ],
   "source": [
    "import numpy as np\n",
    "b=np.array([[1,2,3],[4,5,6],[7,8,9]])\n",
    "print(b)"
   ]
  },
  {
   "cell_type": "code",
   "execution_count": 100,
   "id": "ef669673",
   "metadata": {},
   "outputs": [
    {
     "data": {
      "text/plain": [
       "6"
      ]
     },
     "execution_count": 100,
     "metadata": {},
     "output_type": "execute_result"
    }
   ],
   "source": [
    "#Acceder a los elementos de esta matriz de una forma similiar a una lista\n",
    "# b[indice_fila, indice_columna]\n",
    "b[1,2]"
   ]
  },
  {
   "cell_type": "code",
   "execution_count": 104,
   "id": "6990df0c",
   "metadata": {},
   "outputs": [
    {
     "name": "stdout",
     "output_type": "stream",
     "text": [
      "[2 9 5]\n"
     ]
    }
   ],
   "source": [
    "#Puedo acceder a los valores de la matriz mediante una indexacion de enteros\n",
    "# print(b[[indices_filas],[indices_columnas]])\n",
    "#Crear una array con la interseccion de las filas y columnas de una matriz\n",
    "print(b[[0,2,1],[1,2,1]])"
   ]
  }
 ],
 "metadata": {
  "kernelspec": {
   "display_name": "Python 3",
   "language": "python",
   "name": "python3"
  },
  "language_info": {
   "codemirror_mode": {
    "name": "ipython",
    "version": 3
   },
   "file_extension": ".py",
   "mimetype": "text/x-python",
   "name": "python",
   "nbconvert_exporter": "python",
   "pygments_lexer": "ipython3",
   "version": "3.9.1"
  }
 },
 "nbformat": 4,
 "nbformat_minor": 5
}
