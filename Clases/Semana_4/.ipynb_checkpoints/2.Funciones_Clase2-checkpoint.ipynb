{
 "cells": [
  {
   "cell_type": "code",
   "execution_count": 1,
   "id": "c55a2f9a",
   "metadata": {},
   "outputs": [
    {
     "data": {
      "text/plain": [
       "40"
      ]
     },
     "execution_count": 1,
     "metadata": {},
     "output_type": "execute_result"
    }
   ],
   "source": [
    "def suma(a,b):\n",
    "    return a+b\n",
    "\n",
    "suma(30,10)"
   ]
  },
  {
   "cell_type": "code",
   "execution_count": 2,
   "id": "35802534",
   "metadata": {},
   "outputs": [
    {
     "data": {
      "text/plain": [
       "40"
      ]
     },
     "execution_count": 2,
     "metadata": {},
     "output_type": "execute_result"
    }
   ],
   "source": [
    "b=30\n",
    "a=10\n",
    "suma(a,b)"
   ]
  },
  {
   "cell_type": "code",
   "execution_count": 4,
   "id": "bd6f65ee",
   "metadata": {},
   "outputs": [
    {
     "data": {
      "text/plain": [
       "30"
      ]
     },
     "execution_count": 4,
     "metadata": {},
     "output_type": "execute_result"
    }
   ],
   "source": [
    "suma(b=10,a=20)"
   ]
  },
  {
   "cell_type": "code",
   "execution_count": 7,
   "id": "d9cb7e26",
   "metadata": {},
   "outputs": [
    {
     "name": "stdout",
     "output_type": "stream",
     "text": [
      "None\n"
     ]
    }
   ],
   "source": [
    "#Sentencia pass\n",
    "def consultar_nombre_genero(letra_genero):pass\n",
    "type(consultar_nombre_genero)\n",
    "print(consultar_nombre_genero('M'))\n"
   ]
  },
  {
   "cell_type": "code",
   "execution_count": 10,
   "id": "eb70ed0a",
   "metadata": {},
   "outputs": [
    {
     "name": "stdout",
     "output_type": "stream",
     "text": [
      "11\n",
      "\n",
      "\n",
      "None\n"
     ]
    }
   ],
   "source": [
    "#Funcion sin usar return\n",
    "def otra_suma(num1,num2):\n",
    "    print(num1+num2)\n",
    "    print(\"\\n\")\n",
    "\n",
    "resultado=otra_suma(5,6)\n",
    "print(resultado)"
   ]
  },
  {
   "cell_type": "code",
   "execution_count": 11,
   "id": "25920d87",
   "metadata": {},
   "outputs": [
    {
     "name": "stdout",
     "output_type": "stream",
     "text": [
      "11\n",
      "\n",
      "\n",
      "11\n"
     ]
    }
   ],
   "source": [
    "#Funcion usando return\n",
    "def otra_suma(num1,num2):\n",
    "    print(num1+num2)\n",
    "    print(\"\\n\")\n",
    "    return num1+num2\n",
    "\n",
    "resultado=otra_suma(5,6)\n",
    "print(resultado)"
   ]
  },
  {
   "cell_type": "code",
   "execution_count": 13,
   "id": "cbf82608",
   "metadata": {},
   "outputs": [
    {
     "name": "stdout",
     "output_type": "stream",
     "text": [
      "('Jhonnyer', 'Galindez')\n"
     ]
    }
   ],
   "source": [
    "#Parametros funcion\n",
    "def mi_funcion(nombre,apellido):\n",
    "    nombre_completo=nombre,apellido\n",
    "    print(nombre_completo)\n",
    "    \n",
    "mi_funcion('Jhonnyer','Galindez')"
   ]
  },
  {
   "cell_type": "code",
   "execution_count": 14,
   "id": "bba5da9f",
   "metadata": {},
   "outputs": [
    {
     "name": "stdout",
     "output_type": "stream",
     "text": [
      "('Fernando', 'Zemanate')\n"
     ]
    },
    {
     "ename": "NameError",
     "evalue": "name 'nombre' is not defined",
     "output_type": "error",
     "traceback": [
      "\u001b[0;31m---------------------------------------------------------------------------\u001b[0m",
      "\u001b[0;31mNameError\u001b[0m                                 Traceback (most recent call last)",
      "\u001b[0;32m<ipython-input-14-e38b855b57ec>\u001b[0m in \u001b[0;36m<module>\u001b[0;34m\u001b[0m\n\u001b[1;32m      1\u001b[0m \u001b[0;31m#Acceder a una variable local fuera de la funcion, genera un error\u001b[0m\u001b[0;34m\u001b[0m\u001b[0;34m\u001b[0m\u001b[0;34m\u001b[0m\u001b[0m\n\u001b[1;32m      2\u001b[0m \u001b[0mmi_funcion\u001b[0m\u001b[0;34m(\u001b[0m\u001b[0;34m'Fernando'\u001b[0m\u001b[0;34m,\u001b[0m\u001b[0;34m'Zemanate'\u001b[0m\u001b[0;34m)\u001b[0m\u001b[0;34m\u001b[0m\u001b[0;34m\u001b[0m\u001b[0m\n\u001b[0;32m----> 3\u001b[0;31m \u001b[0mprint\u001b[0m\u001b[0;34m(\u001b[0m\u001b[0mnombre\u001b[0m\u001b[0;34m)\u001b[0m\u001b[0;34m\u001b[0m\u001b[0;34m\u001b[0m\u001b[0m\n\u001b[0m",
      "\u001b[0;31mNameError\u001b[0m: name 'nombre' is not defined"
     ]
    }
   ],
   "source": [
    "#Acceder a una variable local fuera de la funcion, genera un error\n",
    "mi_funcion('Fernando','Zemanate')\n",
    "print(nombre)"
   ]
  },
  {
   "cell_type": "code",
   "execution_count": 16,
   "id": "7d1a5e27",
   "metadata": {},
   "outputs": [
    {
     "name": "stdout",
     "output_type": "stream",
     "text": [
      "('Carmen', 'Burbano')\n"
     ]
    }
   ],
   "source": [
    "#Enviar argumentos utilizando keywords\n",
    "mi_funcion(apellido='Burbano',nombre='Carmen')"
   ]
  },
  {
   "cell_type": "code",
   "execution_count": 17,
   "id": "4a25616c",
   "metadata": {},
   "outputs": [
    {
     "name": "stdout",
     "output_type": "stream",
     "text": [
      "Hola Jhonnyer\n"
     ]
    }
   ],
   "source": [
    "#Asignar valores a los parametros por defecto\n",
    "def saludar(nombre,mensaje='Hola'):\n",
    "    print(mensaje,nombre)\n",
    "\n",
    "saludar('Jhonnyer')"
   ]
  }
 ],
 "metadata": {
  "kernelspec": {
   "display_name": "Python 3",
   "language": "python",
   "name": "python3"
  },
  "language_info": {
   "codemirror_mode": {
    "name": "ipython",
    "version": 3
   },
   "file_extension": ".py",
   "mimetype": "text/x-python",
   "name": "python",
   "nbconvert_exporter": "python",
   "pygments_lexer": "ipython3",
   "version": "3.9.1"
  }
 },
 "nbformat": 4,
 "nbformat_minor": 5
}
