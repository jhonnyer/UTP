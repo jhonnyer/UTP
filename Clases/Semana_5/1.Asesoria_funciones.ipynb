{
 "cells": [
  {
   "cell_type": "code",
   "execution_count": 1,
   "id": "3d9d29e7",
   "metadata": {},
   "outputs": [
    {
     "name": "stdout",
     "output_type": "stream",
     "text": [
      "Hola mundo\n"
     ]
    }
   ],
   "source": [
    "#Definicion de una funcion\n",
    "def saludo():\n",
    "    print(\"Hola mundo\")\n",
    "    \n",
    "saludo()"
   ]
  },
  {
   "cell_type": "code",
   "execution_count": 7,
   "id": "6b7d5568",
   "metadata": {},
   "outputs": [
    {
     "name": "stdout",
     "output_type": "stream",
     "text": [
      "30\n"
     ]
    }
   ],
   "source": [
    "#Funcion con una operacion matematica\n",
    "def suma():\n",
    "    a=10\n",
    "    b=20\n",
    "    c=a+b\n",
    "    print(c)\n",
    "    \n",
    "suma()"
   ]
  },
  {
   "cell_type": "code",
   "execution_count": 4,
   "id": "32542920",
   "metadata": {},
   "outputs": [
    {
     "name": "stdout",
     "output_type": "stream",
     "text": [
      "30\n",
      "None\n"
     ]
    }
   ],
   "source": [
    "#Funcion con una operacion matematica, pero no retona un valor, por lo tanto la var_ext tiene como resultado none\n",
    "def suma():\n",
    "    a=10\n",
    "    b=20\n",
    "    c=a+b\n",
    "    print(c)\n",
    "    \n",
    "v_ext=suma()\n",
    "print(v_ext)"
   ]
  },
  {
   "cell_type": "code",
   "execution_count": 5,
   "id": "97e3a4bd",
   "metadata": {},
   "outputs": [
    {
     "name": "stdout",
     "output_type": "stream",
     "text": [
      "30\n"
     ]
    }
   ],
   "source": [
    "#Funcion con una operacion matematica, con un valor de retorno, en este caso retorna el valor de c\n",
    "def suma():\n",
    "    a=10\n",
    "    b=20\n",
    "    c=a+b\n",
    "    return c\n",
    "#     print(c)\n",
    "    \n",
    "v_ext=suma()\n",
    "print(v_ext)"
   ]
  },
  {
   "cell_type": "code",
   "execution_count": 9,
   "id": "3f2d5815",
   "metadata": {},
   "outputs": [
    {
     "name": "stdout",
     "output_type": "stream",
     "text": [
      "30\n"
     ]
    }
   ],
   "source": [
    "#Funcion coon parametros definidos por posicion\n",
    "def sumar(a,b):\n",
    "    c=a+b\n",
    "    return c\n",
    "\n",
    "v1=sumar(10,20)\n",
    "print(v1)"
   ]
  },
  {
   "cell_type": "code",
   "execution_count": 10,
   "id": "3e2b5b48",
   "metadata": {},
   "outputs": [
    {
     "name": "stdout",
     "output_type": "stream",
     "text": [
      "30\n"
     ]
    }
   ],
   "source": [
    "#Funcion con parametros definidos por nombre\n",
    "def sumar(a,b):\n",
    "    c=a+b\n",
    "    return c\n",
    "\n",
    "a1=10\n",
    "a2=20\n",
    "v1=sumar(a1,a2)\n",
    "print(v1)"
   ]
  },
  {
   "cell_type": "code",
   "execution_count": 11,
   "id": "28a1b265",
   "metadata": {},
   "outputs": [
    {
     "name": "stdout",
     "output_type": "stream",
     "text": [
      "30\n"
     ]
    }
   ],
   "source": [
    "#Funcion con parametros definidos por keywords, o palabras clave-valor\n",
    "def sumar(a,b):\n",
    "    c=a+b\n",
    "    return c\n",
    "\n",
    "a1=10\n",
    "a2=20\n",
    "v1=sumar(b=a2,a=a1)\n",
    "print(v1)"
   ]
  },
  {
   "cell_type": "code",
   "execution_count": 12,
   "id": "e79f240a",
   "metadata": {},
   "outputs": [
    {
     "name": "stdout",
     "output_type": "stream",
     "text": [
      "Hola Mundo\n"
     ]
    }
   ],
   "source": [
    "a=\"Hola \"\n",
    "b=\"Mundo\"\n",
    "va=sumar(a,b)\n",
    "print(va)"
   ]
  },
  {
   "cell_type": "code",
   "execution_count": 21,
   "id": "7d42385d",
   "metadata": {},
   "outputs": [
    {
     "name": "stdout",
     "output_type": "stream",
     "text": [
      "39\n",
      "212\n"
     ]
    },
    {
     "data": {
      "text/plain": [
       "'El promedio ajustado del estudiante 12345 es: 3'"
      ]
     },
     "execution_count": 21,
     "metadata": {},
     "output_type": "execute_result"
    }
   ],
   "source": [
    "def nota_quices(codigo: str, nota1: int, nota2: int, nota3: int, nota4: int, nota5: int) -> str:\n",
    "    menorNota=min(nota1, nota2, nota3, nota4, nota5)\n",
    "    print(menorNota)\n",
    "    sumatoria=nota1+nota2+nota3+nota4+nota5-menorNota \n",
    "    print(sumatoria)\n",
    "    sumatoria=round(sumatoria/80.2)\n",
    "    return ('El promedio ajustado del estudiante '+codigo+' es: '+str(sumatoria))\n",
    "\n",
    "nota_quices('12345',40,50,39,76,46)"
   ]
  }
 ],
 "metadata": {
  "kernelspec": {
   "display_name": "Python 3",
   "language": "python",
   "name": "python3"
  },
  "language_info": {
   "codemirror_mode": {
    "name": "ipython",
    "version": 3
   },
   "file_extension": ".py",
   "mimetype": "text/x-python",
   "name": "python",
   "nbconvert_exporter": "python",
   "pygments_lexer": "ipython3",
   "version": "3.9.1"
  }
 },
 "nbformat": 4,
 "nbformat_minor": 5
}
