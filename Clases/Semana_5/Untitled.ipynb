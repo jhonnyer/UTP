{
 "cells": [
  {
   "cell_type": "markdown",
   "id": "2ea11eb4",
   "metadata": {},
   "source": [
    "# Operadores logicos\n",
    "\n",
    "2 Condiciones las cuales pueden ser verdadera o falsa"
   ]
  },
  {
   "cell_type": "code",
   "execution_count": 4,
   "id": "98b81f2d",
   "metadata": {},
   "outputs": [
    {
     "data": {
      "text/plain": [
       "9"
      ]
     },
     "execution_count": 4,
     "metadata": {},
     "output_type": "execute_result"
    }
   ],
   "source": [
    "# True =>1\n",
    "# False =>0\n",
    "\n",
    "9*True"
   ]
  },
  {
   "cell_type": "code",
   "execution_count": 3,
   "id": "74b0c573",
   "metadata": {},
   "outputs": [
    {
     "data": {
      "text/plain": [
       "0"
      ]
     },
     "execution_count": 3,
     "metadata": {},
     "output_type": "execute_result"
    }
   ],
   "source": [
    "9*False"
   ]
  },
  {
   "cell_type": "code",
   "execution_count": 6,
   "id": "e132fbaf",
   "metadata": {},
   "outputs": [
    {
     "data": {
      "text/plain": [
       "False"
      ]
     },
     "execution_count": 6,
     "metadata": {},
     "output_type": "execute_result"
    }
   ],
   "source": [
    "#Condicion de igualdad\n",
    "x=9\n",
    "x==10"
   ]
  },
  {
   "cell_type": "code",
   "execution_count": 8,
   "id": "36437f41",
   "metadata": {},
   "outputs": [
    {
     "data": {
      "text/plain": [
       "True"
      ]
     },
     "execution_count": 8,
     "metadata": {},
     "output_type": "execute_result"
    }
   ],
   "source": [
    "#Condicion mayor que\n",
    "x>8"
   ]
  },
  {
   "cell_type": "code",
   "execution_count": 9,
   "id": "e98d84c0",
   "metadata": {},
   "outputs": [
    {
     "data": {
      "text/plain": [
       "False"
      ]
     },
     "execution_count": 9,
     "metadata": {},
     "output_type": "execute_result"
    }
   ],
   "source": [
    "#Condicion menor que\n",
    "x<9"
   ]
  },
  {
   "cell_type": "code",
   "execution_count": 10,
   "id": "70f57e8c",
   "metadata": {},
   "outputs": [
    {
     "data": {
      "text/plain": [
       "True"
      ]
     },
     "execution_count": 10,
     "metadata": {},
     "output_type": "execute_result"
    }
   ],
   "source": [
    "x>=9"
   ]
  },
  {
   "cell_type": "code",
   "execution_count": 11,
   "id": "c377ce25",
   "metadata": {},
   "outputs": [
    {
     "data": {
      "text/plain": [
       "True"
      ]
     },
     "execution_count": 11,
     "metadata": {},
     "output_type": "execute_result"
    }
   ],
   "source": [
    "x<=9"
   ]
  },
  {
   "cell_type": "code",
   "execution_count": 12,
   "id": "08e7b007",
   "metadata": {},
   "outputs": [
    {
     "data": {
      "text/plain": [
       "False"
      ]
     },
     "execution_count": 12,
     "metadata": {},
     "output_type": "execute_result"
    }
   ],
   "source": [
    "#Condicion diferente\n",
    "x=10\n",
    "x!=10"
   ]
  },
  {
   "cell_type": "markdown",
   "id": "fc6b8d95",
   "metadata": {},
   "source": [
    "# Condicional IF\n"
   ]
  },
  {
   "cell_type": "code",
   "execution_count": 13,
   "id": "275fca24",
   "metadata": {},
   "outputs": [
    {
     "name": "stdout",
     "output_type": "stream",
     "text": [
      "Condicion verdadera\n"
     ]
    }
   ],
   "source": [
    "if True:\n",
    "    print(\"Condicion verdadera\")\n",
    "else:\n",
    "    print(\"fin\")"
   ]
  },
  {
   "cell_type": "code",
   "execution_count": 14,
   "id": "fe0c8858",
   "metadata": {},
   "outputs": [
    {
     "name": "stdout",
     "output_type": "stream",
     "text": [
      "fin\n"
     ]
    }
   ],
   "source": [
    "if not True:\n",
    "    print(\"Condicion verdadera\")\n",
    "else:\n",
    "    print(\"fin\")"
   ]
  },
  {
   "cell_type": "code",
   "execution_count": 16,
   "id": "eb8a091e",
   "metadata": {},
   "outputs": [
    {
     "name": "stdout",
     "output_type": "stream",
     "text": [
      "X es diferente de 10\n"
     ]
    }
   ],
   "source": [
    "x=11\n",
    "if x==10:\n",
    "    print(\"X es igual a 10\")\n",
    "else:\n",
    "    print(\"X es diferente de 10\")"
   ]
  },
  {
   "cell_type": "code",
   "execution_count": 18,
   "id": "5f1e3c72",
   "metadata": {},
   "outputs": [
    {
     "name": "stdout",
     "output_type": "stream",
     "text": [
      "X es mayor que 10\n"
     ]
    }
   ],
   "source": [
    "x=11\n",
    "if x>10:\n",
    "    print(\"X es mayor que 10\")\n",
    "else:\n",
    "    print(\"X es menor que 10\")"
   ]
  },
  {
   "cell_type": "code",
   "execution_count": 19,
   "id": "a65ceefe",
   "metadata": {},
   "outputs": [
    {
     "name": "stdout",
     "output_type": "stream",
     "text": [
      "X es mayor que 10\n"
     ]
    }
   ],
   "source": [
    "x=11.2\n",
    "if x==11.2:\n",
    "    print(\"X es mayor que 10\")\n",
    "else:\n",
    "    print(\"X es menor que 10\")"
   ]
  },
  {
   "cell_type": "code",
   "execution_count": 20,
   "id": "ca79a41c",
   "metadata": {},
   "outputs": [
    {
     "name": "stdout",
     "output_type": "stream",
     "text": [
      "X tiene el valor de 'a'\n"
     ]
    }
   ],
   "source": [
    "x='a'\n",
    "if x=='a':\n",
    "    print(\"X tiene el valor de 'a'\")\n",
    "else:\n",
    "    print(\"X es un valor diferente\")"
   ]
  },
  {
   "cell_type": "code",
   "execution_count": 21,
   "id": "9cb90b51",
   "metadata": {},
   "outputs": [
    {
     "name": "stdout",
     "output_type": "stream",
     "text": [
      "Bienvenido\n"
     ]
    }
   ],
   "source": [
    "x='hola'\n",
    "if x=='hola':\n",
    "    print(\"Bienvenido\")\n",
    "else:\n",
    "    print('Adios')"
   ]
  },
  {
   "cell_type": "code",
   "execution_count": 22,
   "id": "8e739b9b",
   "metadata": {},
   "outputs": [
    {
     "name": "stdout",
     "output_type": "stream",
     "text": [
      "Adios\n"
     ]
    }
   ],
   "source": [
    "x='Hola'\n",
    "if x=='hola':\n",
    "    print(\"Bienvenido\")\n",
    "else:\n",
    "    print('Adios')"
   ]
  },
  {
   "cell_type": "code",
   "execution_count": 23,
   "id": "6a1ef2a4",
   "metadata": {},
   "outputs": [
    {
     "name": "stdout",
     "output_type": "stream",
     "text": [
      "10\n",
      "Hola\n"
     ]
    }
   ],
   "source": [
    "var=10\n",
    "VAR='Hola'\n",
    "print(var)\n",
    "print(VAR)"
   ]
  },
  {
   "cell_type": "code",
   "execution_count": 27,
   "id": "81cf7e35",
   "metadata": {},
   "outputs": [
    {
     "name": "stdout",
     "output_type": "stream",
     "text": [
      "X es un numero mayor que 5\n"
     ]
    }
   ],
   "source": [
    "x=10\n",
    "if x<5:\n",
    "    print('X es un menor que 5')\n",
    "elif x>=5:\n",
    "    print(\"X es un numero mayor que 5\")\n",
    "else:\n",
    "    print(\"Comando desconocido\")"
   ]
  },
  {
   "cell_type": "code",
   "execution_count": 33,
   "id": "db2f8ebb",
   "metadata": {},
   "outputs": [
    {
     "name": "stdout",
     "output_type": "stream",
     "text": [
      "6\n",
      "16\n",
      "La lista 2 tiene mas elementos que la lista 1, exactamente tiene 16 elementos: \n"
     ]
    }
   ],
   "source": [
    "lista1=[1,4,5,'hola',1.3,'fin']\n",
    "lista2=[1,2,3,4,5,6,4,6,3,6,4,5,7,3,5,6]\n",
    "print(len(lista1))\n",
    "print(len(lista2))\n",
    "\n",
    "long_list1=len(lista1)\n",
    "long_list2=len(lista2)\n",
    "\n",
    "if long_list1>long_list2:\n",
    "    print(\"La lista 1 tiene mas elementos que la lista 2, exactamente tiene {} elementos: \".format(long_list1))\n",
    "elif long_list1<long_list2:\n",
    "    print(\"La lista 2 tiene mas elementos que la lista 1, exactamente tiene {} elementos: \".format(long_list2))\n",
    "else:\n",
    "    print(\"Ambas listas, tienen el mismo numero de elementos\")"
   ]
  },
  {
   "cell_type": "markdown",
   "id": "90a74495",
   "metadata": {},
   "source": [
    "# Condicional while\n",
    "\n",
    "Es un ciclo repetitivo que se va a ejecutar mientras una condicion sea verdadera, si la condicion es falsa, inmediatamente, el ciclo finaliza. El ciclo while va a tener una variable de iteracion que va a permitir que el ciclo while en un momento la condicion sea falsa"
   ]
  },
  {
   "cell_type": "code",
   "execution_count": 36,
   "id": "7db88198",
   "metadata": {},
   "outputs": [
    {
     "name": "stdout",
     "output_type": "stream",
     "text": [
      "0\n",
      "1\n",
      "2\n",
      "3\n",
      "4\n",
      "5\n",
      "Fin\n"
     ]
    }
   ],
   "source": [
    "#Contador que incrementa\n",
    "cont=0\n",
    "while cont<=5:\n",
    "    print(cont)\n",
    "    cont+=1\n",
    "print(\"Fin\")"
   ]
  },
  {
   "cell_type": "code",
   "execution_count": 37,
   "id": "2c031e81",
   "metadata": {},
   "outputs": [
    {
     "name": "stdout",
     "output_type": "stream",
     "text": [
      "5\n",
      "4\n",
      "3\n",
      "2\n",
      "1\n",
      "Fin\n"
     ]
    }
   ],
   "source": [
    "#Contador que decrementa\n",
    "cont=5\n",
    "while cont>0:\n",
    "    print(cont)\n",
    "    cont-=1\n",
    "print(\"Fin\")"
   ]
  },
  {
   "cell_type": "code",
   "execution_count": 38,
   "id": "ad9a13e4",
   "metadata": {},
   "outputs": [
    {
     "name": "stdout",
     "output_type": "stream",
     "text": [
      "11\n"
     ]
    }
   ],
   "source": [
    "x=10\n",
    "x=x+1\n",
    "print(x)"
   ]
  },
  {
   "cell_type": "code",
   "execution_count": 39,
   "id": "ed2bc488",
   "metadata": {},
   "outputs": [
    {
     "name": "stdout",
     "output_type": "stream",
     "text": [
      "11\n"
     ]
    }
   ],
   "source": [
    "x=10\n",
    "x+=1\n",
    "print(x)"
   ]
  },
  {
   "cell_type": "code",
   "execution_count": 40,
   "id": "58b5f02e",
   "metadata": {},
   "outputs": [
    {
     "name": "stdout",
     "output_type": "stream",
     "text": [
      "9\n"
     ]
    }
   ],
   "source": [
    "x=10\n",
    "x-=1\n",
    "print(x)"
   ]
  },
  {
   "cell_type": "code",
   "execution_count": 41,
   "id": "33521d32",
   "metadata": {},
   "outputs": [
    {
     "name": "stdout",
     "output_type": "stream",
     "text": [
      "20\n"
     ]
    }
   ],
   "source": [
    "x=10\n",
    "x*=2\n",
    "print(x)"
   ]
  },
  {
   "cell_type": "code",
   "execution_count": 44,
   "id": "a987d1cd",
   "metadata": {},
   "outputs": [
    {
     "name": "stdout",
     "output_type": "stream",
     "text": [
      "5\n",
      "4\n",
      "3\n",
      "2\n",
      "1\n",
      "Fin\n"
     ]
    }
   ],
   "source": [
    "#Ciclo infinito\n",
    "cont=5\n",
    "while cont>0:\n",
    "    print(cont)\n",
    "    cont-=1\n",
    "print(\"Fin\")"
   ]
  },
  {
   "cell_type": "code",
   "execution_count": 45,
   "id": "7f3fd87c",
   "metadata": {},
   "outputs": [
    {
     "name": "stdout",
     "output_type": "stream",
     "text": [
      "0\n",
      "1\n",
      "2\n",
      "3\n",
      "4\n",
      "5\n",
      "Fin\n"
     ]
    }
   ],
   "source": [
    "x=0\n",
    "while x<=10:\n",
    "    print(x)\n",
    "    if x==5:\n",
    "        break\n",
    "    x+=1\n",
    "print(\"Fin\")"
   ]
  },
  {
   "cell_type": "code",
   "execution_count": 49,
   "id": "4e0a5077",
   "metadata": {},
   "outputs": [
    {
     "name": "stdout",
     "output_type": "stream",
     "text": [
      "1\n",
      "2\n",
      "3\n",
      "4\n",
      "5\n",
      "6\n",
      "7\n",
      "8\n",
      "9\n",
      "10\n",
      "11\n",
      "12\n",
      "13\n",
      "14\n",
      "15\n",
      "16\n",
      "17\n",
      "18\n",
      "19\n",
      "20\n",
      "Fin\n"
     ]
    }
   ],
   "source": [
    "x=1\n",
    "while x>0:\n",
    "    print(x)\n",
    "    if x==20:\n",
    "        break\n",
    "    x+=1\n",
    "print(\"Fin\")"
   ]
  },
  {
   "cell_type": "code",
   "execution_count": 57,
   "id": "fb8c1d00",
   "metadata": {
    "scrolled": true
   },
   "outputs": [
    {
     "name": "stdout",
     "output_type": "stream",
     "text": [
      "1\n",
      "2\n",
      "3\n",
      "4\n",
      "6\n",
      "7\n",
      "8\n",
      "9\n",
      "10\n",
      "11\n",
      "12\n",
      "13\n",
      "14\n",
      "Fin\n"
     ]
    }
   ],
   "source": [
    "x=0\n",
    "while x>=0:\n",
    "    x+=1\n",
    "    if x==5:\n",
    "        continue\n",
    "    if x==15:\n",
    "        break\n",
    "    print(x)\n",
    "print(\"Fin\")"
   ]
  },
  {
   "cell_type": "code",
   "execution_count": 58,
   "id": "d1d4e55b",
   "metadata": {},
   "outputs": [
    {
     "data": {
      "text/plain": [
       "True"
      ]
     },
     "execution_count": 58,
     "metadata": {},
     "output_type": "execute_result"
    }
   ],
   "source": [
    "#operadores de conjuncion \n",
    "x=10\n",
    "y=6\n",
    "x==10 and y==6"
   ]
  },
  {
   "cell_type": "code",
   "execution_count": 59,
   "id": "b8594883",
   "metadata": {},
   "outputs": [
    {
     "data": {
      "text/plain": [
       "False"
      ]
     },
     "execution_count": 59,
     "metadata": {},
     "output_type": "execute_result"
    }
   ],
   "source": [
    "#operadores de conjuncion \n",
    "x=10\n",
    "y=6\n",
    "x==10 and y==7"
   ]
  },
  {
   "cell_type": "code",
   "execution_count": 60,
   "id": "397b6f9f",
   "metadata": {},
   "outputs": [
    {
     "data": {
      "text/plain": [
       "False"
      ]
     },
     "execution_count": 60,
     "metadata": {},
     "output_type": "execute_result"
    }
   ],
   "source": [
    "#operadores de conjuncion \n",
    "x=10\n",
    "y=6\n",
    "x==11 and y==6"
   ]
  },
  {
   "cell_type": "code",
   "execution_count": 61,
   "id": "d83ddd84",
   "metadata": {},
   "outputs": [
    {
     "data": {
      "text/plain": [
       "True"
      ]
     },
     "execution_count": 61,
     "metadata": {},
     "output_type": "execute_result"
    }
   ],
   "source": [
    "#operadores de disyuncion \n",
    "x=10\n",
    "y=6\n",
    "x==10 or y==7"
   ]
  },
  {
   "cell_type": "code",
   "execution_count": 62,
   "id": "b01dcc7c",
   "metadata": {},
   "outputs": [
    {
     "data": {
      "text/plain": [
       "True"
      ]
     },
     "execution_count": 62,
     "metadata": {},
     "output_type": "execute_result"
    }
   ],
   "source": [
    "#operadores de disyuncion \n",
    "x=10\n",
    "y=6\n",
    "x==11 or y==6"
   ]
  },
  {
   "cell_type": "code",
   "execution_count": 63,
   "id": "e931291c",
   "metadata": {},
   "outputs": [
    {
     "data": {
      "text/plain": [
       "False"
      ]
     },
     "execution_count": 63,
     "metadata": {},
     "output_type": "execute_result"
    }
   ],
   "source": [
    "#operadores de disyuncion \n",
    "x=10\n",
    "y=6\n",
    "x==12 or y==3"
   ]
  },
  {
   "cell_type": "code",
   "execution_count": 64,
   "id": "13124096",
   "metadata": {},
   "outputs": [
    {
     "name": "stdout",
     "output_type": "stream",
     "text": [
      "Cumpliste la meta\n"
     ]
    }
   ],
   "source": [
    "if x==10 and y==6:\n",
    "    print(\"Cumpliste la meta\")\n",
    "else:\n",
    "    print(\"Fin\")"
   ]
  },
  {
   "cell_type": "markdown",
   "id": "270b365d",
   "metadata": {},
   "source": [
    "# Hacer un programa que verifique la notas de un examen.\n",
    "### Si la nota es mayor o igual a 4.7, entonces imprimir un mensaje excelente\n",
    "### Si la nota esta entre 4 y 4.7, imprimir sobresaliente\n",
    "### Si la nota es mayor o igual a 3; imprimir suficiente\n",
    "### Si la nota es menor a 3, imprimir, insuficiente, perdiste el examen\n",
    "\n",
    "### Pedir nota por teclado, mientras la nota sea mayor a 5 o menor a 0, volver a pedir la nota"
   ]
  },
  {
   "cell_type": "code",
   "execution_count": 73,
   "id": "22ce992a",
   "metadata": {},
   "outputs": [
    {
     "name": "stdout",
     "output_type": "stream",
     "text": [
      "Ingrese la nota 1: 2.9\n",
      "Insuficiente\n"
     ]
    }
   ],
   "source": [
    "nota_1 = float(input(\"Ingrese la nota 1: \",))\n",
    "\n",
    "if nota_1 >= 4.7:\n",
    "    print(\"Exelente\")\n",
    "elif nota_1 >= 4.0:\n",
    "    print(\"Sobresaliente\")\n",
    "elif nota_1 >= 3.0:\n",
    "    print(\"Suficiente\")\n",
    "else:\n",
    "    print(\"Insuficiente\")"
   ]
  },
  {
   "cell_type": "code",
   "execution_count": 77,
   "id": "60700ee0",
   "metadata": {},
   "outputs": [
    {
     "name": "stdout",
     "output_type": "stream",
     "text": [
      "Ingrese la nota 1: 2.9\n",
      "Insuficiente, perdiste el examen\n"
     ]
    }
   ],
   "source": [
    "nota_1 = float(input(\"Ingrese la nota 1: \",))\n",
    "if nota_1 >= 4.7:\n",
    "    print(\"Exelente\")\n",
    "elif nota_1 >= 4.0:\n",
    "    print(\"Sobresaliente\")\n",
    "elif nota_1 >= 3.0:\n",
    "    print(\"Suficiente\")\n",
    "else:\n",
    "    print(\"Insuficiente, perdiste el examen\")"
   ]
  },
  {
   "cell_type": "code",
   "execution_count": 82,
   "id": "b5698f5c",
   "metadata": {},
   "outputs": [
    {
     "name": "stdout",
     "output_type": "stream",
     "text": [
      "Ingrese la nota 1: 2.9\n",
      "Insuficiente, perdiste el examen\n"
     ]
    }
   ],
   "source": [
    "nota_1 = float(input(\"Ingrese la nota 1: \",))\n",
    "while nota_1>5 or nota_1<0:\n",
    "    print(\"La nota no es valida, ingresa una nota nuevamente\")\n",
    "    nota_1 = float(input(\"Ingrese la nota 1: \",))\n",
    "if nota_1 >= 4.7:\n",
    "    print(\"Exelente\")\n",
    "elif nota_1 >= 4.0:\n",
    "    print(\"Sobresaliente\")\n",
    "elif nota_1 >= 3.0:\n",
    "    print(\"Suficiente\")\n",
    "else:\n",
    "    print(\"Insuficiente, perdiste el examen\")"
   ]
  },
  {
   "cell_type": "markdown",
   "id": "1f4fbc7f",
   "metadata": {},
   "source": [
    "# CICLO FOR\n",
    "\n",
    "###  for x=0; x<10; x++\n",
    "\n",
    "x=x+2\n",
    "\n",
    "range(start, stop, step)\n"
   ]
  },
  {
   "cell_type": "code",
   "execution_count": 84,
   "id": "3b6a2d21",
   "metadata": {
    "scrolled": true
   },
   "outputs": [
    {
     "name": "stdout",
     "output_type": "stream",
     "text": [
      "0\n",
      "1\n",
      "2\n",
      "3\n",
      "4\n",
      "5\n",
      "6\n",
      "7\n",
      "8\n",
      "9\n"
     ]
    }
   ],
   "source": [
    "for x in range(0, 10, 1):\n",
    "    print(x)"
   ]
  },
  {
   "cell_type": "code",
   "execution_count": 85,
   "id": "2290990f",
   "metadata": {},
   "outputs": [
    {
     "name": "stdout",
     "output_type": "stream",
     "text": [
      "0\n",
      "1\n",
      "2\n",
      "3\n",
      "4\n",
      "5\n",
      "6\n",
      "7\n",
      "8\n",
      "9\n"
     ]
    }
   ],
   "source": [
    "for x in range(0, 10):\n",
    "    print(x)"
   ]
  },
  {
   "cell_type": "code",
   "execution_count": 86,
   "id": "9344e129",
   "metadata": {},
   "outputs": [
    {
     "name": "stdout",
     "output_type": "stream",
     "text": [
      "1\n",
      "3\n",
      "5\n",
      "7\n",
      "9\n"
     ]
    }
   ],
   "source": [
    "for x in range(1, 10, 2):\n",
    "    print(x)"
   ]
  },
  {
   "cell_type": "code",
   "execution_count": 88,
   "id": "021e572d",
   "metadata": {},
   "outputs": [
    {
     "name": "stdout",
     "output_type": "stream",
     "text": [
      "Valor: 0; resultado suma: 0\n",
      "Valor: 5; resultado suma: 5\n",
      "Valor: 10; resultado suma: 15\n",
      "Valor: 15; resultado suma: 30\n",
      "Valor: 20; resultado suma: 50\n",
      "Valor: 25; resultado suma: 75\n",
      "Valor: 30; resultado suma: 105\n",
      "Valor: 35; resultado suma: 140\n",
      "Valor: 40; resultado suma: 180\n",
      "Valor: 45; resultado suma: 225\n",
      "Valor: 50; resultado suma: 275\n",
      "Valor: 55; resultado suma: 330\n",
      "Valor: 60; resultado suma: 390\n",
      "Valor: 65; resultado suma: 455\n",
      "Valor: 70; resultado suma: 525\n",
      "Valor: 75; resultado suma: 600\n",
      "Valor: 80; resultado suma: 680\n",
      "Valor: 85; resultado suma: 765\n",
      "Valor: 90; resultado suma: 855\n",
      "Valor: 95; resultado suma: 950\n"
     ]
    }
   ],
   "source": [
    "#Sume todos los numeros multiplos de 5 hasta el numero 100\n",
    "suma=0\n",
    "for x in range(0, 100,5):\n",
    "    suma=suma+x\n",
    "    print(\"Valor: {}; resultado suma: {}\".format(x,suma))"
   ]
  },
  {
   "cell_type": "code",
   "execution_count": 90,
   "id": "82fc95ea",
   "metadata": {},
   "outputs": [
    {
     "name": "stdout",
     "output_type": "stream",
     "text": [
      "1\n",
      "5\n",
      "6\n",
      "7\n",
      "1.2\n",
      "hola\n",
      "4\n"
     ]
    }
   ],
   "source": [
    "#Valores de la lista\n",
    "lista=[1,5,6,7,1.2,'hola',4]\n",
    "len(lista)\n",
    "for x in lista:\n",
    "    print(x)"
   ]
  },
  {
   "cell_type": "code",
   "execution_count": 92,
   "id": "6328e2c9",
   "metadata": {
    "scrolled": true
   },
   "outputs": [
    {
     "name": "stdout",
     "output_type": "stream",
     "text": [
      "0\n",
      "1\n",
      "2\n",
      "3\n",
      "4\n",
      "5\n",
      "6\n"
     ]
    }
   ],
   "source": [
    "#Valores de la posicion de la lista\n",
    "lista=[1,5,6,7,1.2,'hola',4]\n",
    "len(lista)\n",
    "for x in range(len(lista)):\n",
    "    print(x)"
   ]
  },
  {
   "cell_type": "code",
   "execution_count": 94,
   "id": "2327b44b",
   "metadata": {},
   "outputs": [
    {
     "name": "stdout",
     "output_type": "stream",
     "text": [
      "0 1\n",
      "1 5\n",
      "2 6\n",
      "3 7\n",
      "4 1.2\n",
      "5 hola\n",
      "6 4\n"
     ]
    }
   ],
   "source": [
    "#Valores de la posicion de la lista y sus valores\n",
    "lista=[1,5,6,7,1.2,'hola',4]\n",
    "len(lista)\n",
    "for x in range(len(lista)):\n",
    "    print(x, lista[x])"
   ]
  },
  {
   "cell_type": "code",
   "execution_count": 96,
   "id": "2fbe8d89",
   "metadata": {},
   "outputs": [
    {
     "name": "stdout",
     "output_type": "stream",
     "text": [
      "0   1   1\n",
      "1   5   5\n",
      "2   6   6\n",
      "3   7   7\n",
      "4   1.2   1.2\n",
      "5   hola   hola\n",
      "6   4   4\n"
     ]
    }
   ],
   "source": [
    "#ciclo for y funcion enumerate\n",
    "lista=[1,5,6,7,1.2,'hola',4]\n",
    "len(lista)\n",
    "for indice, elemento in enumerate(lista):\n",
    "    print(indice, ' ', elemento, ' ', lista[indice])"
   ]
  },
  {
   "cell_type": "code",
   "execution_count": 98,
   "id": "4ef6f131",
   "metadata": {},
   "outputs": [
    {
     "name": "stdout",
     "output_type": "stream",
     "text": [
      "0 H\n",
      "1 o\n",
      "2 l\n",
      "3 a\n",
      "4  \n",
      "5 m\n",
      "6 u\n",
      "7 n\n",
      "8 d\n",
      "9 o\n"
     ]
    }
   ],
   "source": [
    "cad='Hola mundo'\n",
    "for i in range(len(cad)):\n",
    "    print(i, cad[i])"
   ]
  },
  {
   "cell_type": "code",
   "execution_count": 99,
   "id": "0e5357e8",
   "metadata": {},
   "outputs": [
    {
     "name": "stdout",
     "output_type": "stream",
     "text": [
      "H\n",
      "o\n",
      "l\n",
      "a\n",
      " \n",
      "m\n",
      "u\n",
      "n\n",
      "d\n",
      "o\n"
     ]
    }
   ],
   "source": [
    "cad='Hola mundo'\n",
    "for i in cad:\n",
    "    print(i)"
   ]
  }
 ],
 "metadata": {
  "kernelspec": {
   "display_name": "Python 3",
   "language": "python",
   "name": "python3"
  },
  "language_info": {
   "codemirror_mode": {
    "name": "ipython",
    "version": 3
   },
   "file_extension": ".py",
   "mimetype": "text/x-python",
   "name": "python",
   "nbconvert_exporter": "python",
   "pygments_lexer": "ipython3",
   "version": "3.9.1"
  }
 },
 "nbformat": 4,
 "nbformat_minor": 5
}
