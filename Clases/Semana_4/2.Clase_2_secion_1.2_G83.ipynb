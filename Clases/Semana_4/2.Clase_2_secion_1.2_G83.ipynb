{
 "cells": [
  {
   "cell_type": "code",
   "execution_count": null,
   "id": "cc3b7b63",
   "metadata": {},
   "outputs": [],
   "source": [
    "#Funcion con 2 parametros\n",
    "def suma(a,b):\n",
    "    return a+b\n",
    "\n",
    "var_ext=suma(10,20)\n",
    "print(var_ext)"
   ]
  },
  {
   "cell_type": "code",
   "execution_count": null,
   "id": "b5ab3ba9",
   "metadata": {},
   "outputs": [],
   "source": [
    "#Funcion sin parametros\n",
    "def saludo():\n",
    "    print(\"Hola, buen dia\")\n",
    "saludo()"
   ]
  },
  {
   "cell_type": "code",
   "execution_count": null,
   "id": "b45255f2",
   "metadata": {},
   "outputs": [],
   "source": [
    "def suma(a,b):\n",
    "    c=a+b\n",
    "    return c\n",
    "\n",
    "var_ext=suma(10,20)\n",
    "print(var_ext)\n",
    "\n",
    "var1=var_ext*2\n",
    "print(var1)"
   ]
  },
  {
   "cell_type": "code",
   "execution_count": null,
   "id": "95207b86",
   "metadata": {},
   "outputs": [],
   "source": [
    "b=20\n",
    "a=30\n",
    "suma(a,b)"
   ]
  },
  {
   "cell_type": "code",
   "execution_count": null,
   "id": "f44af9d1",
   "metadata": {},
   "outputs": [],
   "source": [
    "def consultar(letra):pass\n",
    "\n",
    "print(type(consultar))\n",
    "consultar('M')\n",
    "a=consultar('m')\n",
    "print(a)"
   ]
  },
  {
   "cell_type": "code",
   "execution_count": null,
   "id": "06abed4d",
   "metadata": {},
   "outputs": [],
   "source": [
    "#Funcion  no retorna ningun valor\n",
    "def otra_suma(num1,num2):\n",
    "    print(num1+num2)\n",
    "    print(\"\\n\")\n",
    "    print(\"Fin\")\n",
    "    \n",
    "resultado=otra_suma(5,6)\n",
    "print(resultado)"
   ]
  },
  {
   "cell_type": "code",
   "execution_count": null,
   "id": "3aff8281",
   "metadata": {},
   "outputs": [],
   "source": [
    "#Funcion  retorna un valor\n",
    "def otra_suma(num1,num2):\n",
    "    print(num1+num2)\n",
    "    return num1+num2\n",
    "    \n",
    "resultado=otra_suma(5,6)\n",
    "print(resultado)"
   ]
  },
  {
   "cell_type": "code",
   "execution_count": null,
   "id": "dd6fd494",
   "metadata": {},
   "outputs": [],
   "source": [
    "#Variables asignacion multiple\n",
    "v1=v2=v3=v4=10\n",
    "print(v1)\n",
    "print(v2)\n",
    "print(v3)\n",
    "print(v4)"
   ]
  },
  {
   "cell_type": "code",
   "execution_count": null,
   "id": "fb2a5fc6",
   "metadata": {},
   "outputs": [],
   "source": [
    "#Variables asignacion multiple\n",
    "v1,v2,v3,v4=10,20,30,40\n",
    "print(v1)\n",
    "print(v2)\n",
    "print(v3)\n",
    "print(v4)"
   ]
  },
  {
   "cell_type": "code",
   "execution_count": null,
   "id": "10ab56ca",
   "metadata": {},
   "outputs": [],
   "source": [
    "#Variables asignacion multiple\n",
    "v1,v2,v3,v4=10,20,30,40,80\n",
    "print(v1)\n",
    "print(v2)\n",
    "print(v3)\n",
    "print(v4)"
   ]
  },
  {
   "cell_type": "code",
   "execution_count": null,
   "id": "7879fc20",
   "metadata": {},
   "outputs": [],
   "source": [
    "#Funcion  retorna un valor\n",
    "def otra_suma(num1,num2):\n",
    "#     print(num1+num2)\n",
    "    a=num1+num2\n",
    "    return num1,num2,a\n",
    "    \n",
    "resultado=otra_suma(5,6)\n",
    "print(resultado)\n",
    "\n",
    "num1,num2,a=otra_suma(5,6)\n",
    "print(num1)\n",
    "print(num2)\n",
    "print(a)"
   ]
  },
  {
   "cell_type": "code",
   "execution_count": null,
   "id": "1319f82f",
   "metadata": {},
   "outputs": [],
   "source": [
    "def mi_funcion(nombre,apellido):\n",
    "    nombre_completo=nombre, apellido\n",
    "    print(nombre_completo)\n",
    "    return nombre, apellido\n",
    "\n",
    "nombre,apellido=mi_funcion('Jhonnyer','Galindez')\n",
    "print(nombre)\n",
    "print(apellido)"
   ]
  },
  {
   "cell_type": "code",
   "execution_count": null,
   "id": "383d5201",
   "metadata": {},
   "outputs": [],
   "source": [
    "def mi_funcion1(nombre,apellido):\n",
    "    nombre_completo=nombre, apellido\n",
    "    print(nombre_completo)\n",
    "\n",
    "mi_funcion1('Jhonnyer','Galindez')\n",
    "print(nombre)\n",
    "print(apellido)"
   ]
  },
  {
   "cell_type": "code",
   "execution_count": null,
   "id": "5a13808d",
   "metadata": {},
   "outputs": [],
   "source": [
    "mi_funcion('Jhonnyer')"
   ]
  },
  {
   "cell_type": "code",
   "execution_count": null,
   "id": "c9d78744",
   "metadata": {},
   "outputs": [],
   "source": [
    "def prueba():\n",
    "    return 10\n",
    "\n",
    "prueba()"
   ]
  },
  {
   "cell_type": "code",
   "execution_count": null,
   "id": "acb75ead",
   "metadata": {},
   "outputs": [],
   "source": [
    "def prueba1(num1=0,num2=0):\n",
    "    return num1+num2\n",
    "prueba1(10,12)"
   ]
  },
  {
   "cell_type": "code",
   "execution_count": null,
   "id": "bf719925",
   "metadata": {},
   "outputs": [],
   "source": [
    "prueba1()"
   ]
  },
  {
   "cell_type": "code",
   "execution_count": null,
   "id": "773e7ba9",
   "metadata": {},
   "outputs": [],
   "source": []
  },
  {
   "cell_type": "code",
   "execution_count": null,
   "id": "b3be0bd7",
   "metadata": {},
   "outputs": [],
   "source": [
    "def saludar(nombre=\"Sin nombre\",mensaje=\"Hola\"):\n",
    "    print(mensaje,nombre)\n",
    "    \n",
    "saludar()\n",
    "saludar('Jhonnyer','Galindez')"
   ]
  },
  {
   "cell_type": "code",
   "execution_count": null,
   "id": "737df0e3",
   "metadata": {
    "scrolled": true
   },
   "outputs": [],
   "source": [
    "saludar(mensaje=\"Buen dia\",nombre=\"Jhonnyer\")"
   ]
  },
  {
   "cell_type": "code",
   "execution_count": null,
   "id": "e7a88131",
   "metadata": {},
   "outputs": [],
   "source": [
    "def saludo(nombre, apellido):\n",
    "    print(nombre, apellido)\n",
    "\n",
    "saludo()"
   ]
  },
  {
   "cell_type": "code",
   "execution_count": null,
   "id": "01c40ca3",
   "metadata": {},
   "outputs": [],
   "source": [
    "def saludo(nombre=\"Jhonnyer\", apellido=\"Galindez\"):\n",
    "    print(nombre, apellido)\n",
    "saludo()"
   ]
  },
  {
   "cell_type": "code",
   "execution_count": null,
   "id": "0219eaaa",
   "metadata": {},
   "outputs": [],
   "source": [
    "#Definir interna en la funcion\n",
    "def test1():\n",
    "    n=10\n",
    "    print(n)\n",
    "    return n\n",
    "\n",
    "test1()\n",
    "print(n)"
   ]
  },
  {
   "cell_type": "code",
   "execution_count": null,
   "id": "9f24210f",
   "metadata": {},
   "outputs": [],
   "source": [
    "#Variable externa declarada utilizada en una funcion interna\n",
    "m=10\n",
    "def test2():\n",
    "    a=m*2\n",
    "    print(a)\n",
    "    print(m)\n",
    "test2()"
   ]
  },
  {
   "cell_type": "code",
   "execution_count": null,
   "id": "f52a529d",
   "metadata": {},
   "outputs": [],
   "source": [
    "#Variable externa declarada utilizada en una funcion interna\n",
    "def test2():\n",
    "    a=l+5\n",
    "    print(a)\n",
    "    print(l)\n",
    "l=10\n",
    "test2()"
   ]
  },
  {
   "cell_type": "code",
   "execution_count": 2,
   "id": "e5d19ec1",
   "metadata": {},
   "outputs": [
    {
     "ename": "NameError",
     "evalue": "name 'y' is not defined",
     "output_type": "error",
     "traceback": [
      "\u001b[0;31m---------------------------------------------------------------------------\u001b[0m",
      "\u001b[0;31mNameError\u001b[0m                                 Traceback (most recent call last)",
      "\u001b[0;32m<ipython-input-2-beb019cbac56>\u001b[0m in \u001b[0;36m<module>\u001b[0;34m\u001b[0m\n\u001b[1;32m      4\u001b[0m     \u001b[0mprint\u001b[0m\u001b[0;34m(\u001b[0m\u001b[0ma\u001b[0m\u001b[0;34m)\u001b[0m\u001b[0;34m\u001b[0m\u001b[0;34m\u001b[0m\u001b[0m\n\u001b[1;32m      5\u001b[0m     \u001b[0mprint\u001b[0m\u001b[0;34m(\u001b[0m\u001b[0my\u001b[0m\u001b[0;34m)\u001b[0m\u001b[0;34m\u001b[0m\u001b[0;34m\u001b[0m\u001b[0m\n\u001b[0;32m----> 6\u001b[0;31m \u001b[0mtest3\u001b[0m\u001b[0;34m(\u001b[0m\u001b[0;34m)\u001b[0m\u001b[0;34m\u001b[0m\u001b[0;34m\u001b[0m\u001b[0m\n\u001b[0m\u001b[1;32m      7\u001b[0m \u001b[0my\u001b[0m\u001b[0;34m=\u001b[0m\u001b[0;36m10\u001b[0m\u001b[0;34m\u001b[0m\u001b[0;34m\u001b[0m\u001b[0m\n",
      "\u001b[0;32m<ipython-input-2-beb019cbac56>\u001b[0m in \u001b[0;36mtest3\u001b[0;34m()\u001b[0m\n\u001b[1;32m      1\u001b[0m \u001b[0;31m#Variable externa declarada utilizada en una funcion interna\u001b[0m\u001b[0;34m\u001b[0m\u001b[0;34m\u001b[0m\u001b[0;34m\u001b[0m\u001b[0m\n\u001b[1;32m      2\u001b[0m \u001b[0;32mdef\u001b[0m \u001b[0mtest3\u001b[0m\u001b[0;34m(\u001b[0m\u001b[0;34m)\u001b[0m\u001b[0;34m:\u001b[0m\u001b[0;34m\u001b[0m\u001b[0;34m\u001b[0m\u001b[0m\n\u001b[0;32m----> 3\u001b[0;31m     \u001b[0ma\u001b[0m\u001b[0;34m=\u001b[0m\u001b[0my\u001b[0m\u001b[0;34m+\u001b[0m\u001b[0;36m5\u001b[0m\u001b[0;34m\u001b[0m\u001b[0;34m\u001b[0m\u001b[0m\n\u001b[0m\u001b[1;32m      4\u001b[0m     \u001b[0mprint\u001b[0m\u001b[0;34m(\u001b[0m\u001b[0ma\u001b[0m\u001b[0;34m)\u001b[0m\u001b[0;34m\u001b[0m\u001b[0;34m\u001b[0m\u001b[0m\n\u001b[1;32m      5\u001b[0m     \u001b[0mprint\u001b[0m\u001b[0;34m(\u001b[0m\u001b[0my\u001b[0m\u001b[0;34m)\u001b[0m\u001b[0;34m\u001b[0m\u001b[0;34m\u001b[0m\u001b[0m\n",
      "\u001b[0;31mNameError\u001b[0m: name 'y' is not defined"
     ]
    }
   ],
   "source": [
    "#ERROR Variable externa declarada utilizada en una funcion interna\n",
    "def test3():\n",
    "    a=y+5\n",
    "    print(a)\n",
    "    print(y)\n",
    "test3()\n",
    "y=10"
   ]
  },
  {
   "cell_type": "code",
   "execution_count": 7,
   "id": "88ff1bfc",
   "metadata": {},
   "outputs": [
    {
     "name": "stdout",
     "output_type": "stream",
     "text": [
      "10\n",
      "5\n"
     ]
    }
   ],
   "source": [
    "#Variable interna y una variable externa\n",
    "def test4():\n",
    "    x=10 #Variable interna\n",
    "    print(x)\n",
    "\n",
    "x=5 #Variable externa de la funcion\n",
    "test4()\n",
    "print(x)\n"
   ]
  },
  {
   "cell_type": "code",
   "execution_count": 9,
   "id": "d99d718d",
   "metadata": {},
   "outputs": [
    {
     "name": "stdout",
     "output_type": "stream",
     "text": [
      "10\n",
      "10\n"
     ]
    }
   ],
   "source": [
    "#Variable global modificada desde el interior de una funcion\n",
    "def test5():\n",
    "    global x\n",
    "    x=10\n",
    "    print(x)\n",
    "\n",
    "x=23\n",
    "test5()\n",
    "print(x)"
   ]
  },
  {
   "cell_type": "code",
   "execution_count": 12,
   "id": "480dc81e",
   "metadata": {},
   "outputs": [
    {
     "name": "stdout",
     "output_type": "stream",
     "text": [
      "Jhonnyer Gonzales\n",
      "Luis Gonzales\n"
     ]
    }
   ],
   "source": [
    "def my_function(fname):\n",
    "    print(fname+' Gonzales')\n",
    "\n",
    "my_function(\"Jhonnyer\")\n",
    "my_function(\"Luis\")"
   ]
  },
  {
   "cell_type": "code",
   "execution_count": 16,
   "id": "b89c99c3",
   "metadata": {},
   "outputs": [
    {
     "name": "stdout",
     "output_type": "stream",
     "text": [
      "Hola mundo\n"
     ]
    }
   ],
   "source": [
    "cad1=\"Hola\"\n",
    "cad2=\"mundo\"\n",
    "frase=cad1+\" \"+cad2\n",
    "print(frase)"
   ]
  },
  {
   "cell_type": "code",
   "execution_count": 18,
   "id": "576da41a",
   "metadata": {},
   "outputs": [
    {
     "name": "stdout",
     "output_type": "stream",
     "text": [
      "Jhonnyer Galindez\n"
     ]
    }
   ],
   "source": [
    "def my_function(fname,lname):\n",
    "    print(fname+\" \"+lname)\n",
    "    \n",
    "my_function(lname=\"Galindez\",fname=\"Jhonnyer\")"
   ]
  },
  {
   "cell_type": "code",
   "execution_count": 19,
   "id": "7b3f2b02",
   "metadata": {},
   "outputs": [
    {
     "ename": "TypeError",
     "evalue": "my_function() missing 1 required positional argument: 'lname'",
     "output_type": "error",
     "traceback": [
      "\u001b[0;31m---------------------------------------------------------------------------\u001b[0m",
      "\u001b[0;31mTypeError\u001b[0m                                 Traceback (most recent call last)",
      "\u001b[0;32m<ipython-input-19-a142badbae12>\u001b[0m in \u001b[0;36m<module>\u001b[0;34m\u001b[0m\n\u001b[0;32m----> 1\u001b[0;31m \u001b[0mmy_function\u001b[0m\u001b[0;34m(\u001b[0m\u001b[0mfname\u001b[0m\u001b[0;34m=\u001b[0m\u001b[0;34m\"Jhonnyer\"\u001b[0m\u001b[0;34m)\u001b[0m\u001b[0;34m\u001b[0m\u001b[0;34m\u001b[0m\u001b[0m\n\u001b[0m",
      "\u001b[0;31mTypeError\u001b[0m: my_function() missing 1 required positional argument: 'lname'"
     ]
    }
   ],
   "source": [
    "my_function(fname=\"Jhonnyer\")"
   ]
  },
  {
   "cell_type": "code",
   "execution_count": 23,
   "id": "c7457fa5",
   "metadata": {},
   "outputs": [
    {
     "ename": "TypeError",
     "evalue": "can only concatenate str (not \"int\") to str",
     "output_type": "error",
     "traceback": [
      "\u001b[0;31m---------------------------------------------------------------------------\u001b[0m",
      "\u001b[0;31mTypeError\u001b[0m                                 Traceback (most recent call last)",
      "\u001b[0;32m<ipython-input-23-8f1ffbd7beb8>\u001b[0m in \u001b[0;36m<module>\u001b[0;34m\u001b[0m\n\u001b[0;32m----> 1\u001b[0;31m \u001b[0mmy_function\u001b[0m\u001b[0;34m(\u001b[0m\u001b[0;34m\"Jhonnyer\"\u001b[0m\u001b[0;34m,\u001b[0m\u001b[0;36m1\u001b[0m\u001b[0;34m)\u001b[0m\u001b[0;34m\u001b[0m\u001b[0;34m\u001b[0m\u001b[0m\n\u001b[0m",
      "\u001b[0;32m<ipython-input-18-985a85609267>\u001b[0m in \u001b[0;36mmy_function\u001b[0;34m(fname, lname)\u001b[0m\n\u001b[1;32m      1\u001b[0m \u001b[0;32mdef\u001b[0m \u001b[0mmy_function\u001b[0m\u001b[0;34m(\u001b[0m\u001b[0mfname\u001b[0m\u001b[0;34m,\u001b[0m\u001b[0mlname\u001b[0m\u001b[0;34m)\u001b[0m\u001b[0;34m:\u001b[0m\u001b[0;34m\u001b[0m\u001b[0;34m\u001b[0m\u001b[0m\n\u001b[0;32m----> 2\u001b[0;31m     \u001b[0mprint\u001b[0m\u001b[0;34m(\u001b[0m\u001b[0mfname\u001b[0m\u001b[0;34m+\u001b[0m\u001b[0;34m\" \"\u001b[0m\u001b[0;34m+\u001b[0m\u001b[0mlname\u001b[0m\u001b[0;34m)\u001b[0m\u001b[0;34m\u001b[0m\u001b[0;34m\u001b[0m\u001b[0m\n\u001b[0m\u001b[1;32m      3\u001b[0m \u001b[0;34m\u001b[0m\u001b[0m\n\u001b[1;32m      4\u001b[0m \u001b[0mmy_function\u001b[0m\u001b[0;34m(\u001b[0m\u001b[0mlname\u001b[0m\u001b[0;34m=\u001b[0m\u001b[0;34m\"Galindez\"\u001b[0m\u001b[0;34m,\u001b[0m\u001b[0mfname\u001b[0m\u001b[0;34m=\u001b[0m\u001b[0;34m\"Jhonnyer\"\u001b[0m\u001b[0;34m)\u001b[0m\u001b[0;34m\u001b[0m\u001b[0;34m\u001b[0m\u001b[0m\n",
      "\u001b[0;31mTypeError\u001b[0m: can only concatenate str (not \"int\") to str"
     ]
    }
   ],
   "source": [
    "my_function(\"Jhonnyer\",1)"
   ]
  },
  {
   "cell_type": "code",
   "execution_count": 25,
   "id": "f7706826",
   "metadata": {},
   "outputs": [
    {
     "name": "stdout",
     "output_type": "stream",
     "text": [
      "Ingrese un numero: 45\n",
      "45\n",
      "<class 'int'>\n"
     ]
    }
   ],
   "source": [
    "#Realice una funcion que lea un  numero por teclado y verifique si el número ingresado es par o impar\n",
    "num=int(input(\"Ingrese un numero: \"))\n",
    "print(num)\n",
    "print(type(num))"
   ]
  },
  {
   "cell_type": "code",
   "execution_count": 28,
   "id": "b39126b8",
   "metadata": {},
   "outputs": [
    {
     "data": {
      "text/plain": [
       "1"
      ]
     },
     "execution_count": 28,
     "metadata": {},
     "output_type": "execute_result"
    }
   ],
   "source": [
    "7%2 #7 Es un numero impar"
   ]
  },
  {
   "cell_type": "code",
   "execution_count": 29,
   "id": "30c693dc",
   "metadata": {},
   "outputs": [
    {
     "data": {
      "text/plain": [
       "0"
      ]
     },
     "execution_count": 29,
     "metadata": {},
     "output_type": "execute_result"
    }
   ],
   "source": [
    "6%2 #6 es un numero par"
   ]
  },
  {
   "cell_type": "code",
   "execution_count": 31,
   "id": "be7b4db9",
   "metadata": {},
   "outputs": [
    {
     "name": "stdout",
     "output_type": "stream",
     "text": [
      "10\n"
     ]
    }
   ],
   "source": [
    "var=10\n",
    "print(var)"
   ]
  },
  {
   "cell_type": "code",
   "execution_count": 32,
   "id": "37f31440",
   "metadata": {},
   "outputs": [
    {
     "name": "stdout",
     "output_type": "stream",
     "text": [
      "20\n"
     ]
    }
   ],
   "source": [
    "var1=10+10\n",
    "print(var1)"
   ]
  },
  {
   "cell_type": "code",
   "execution_count": 30,
   "id": "7d0ba96c",
   "metadata": {},
   "outputs": [
    {
     "name": "stdout",
     "output_type": "stream",
     "text": [
      "Hola\n"
     ]
    }
   ],
   "source": [
    "x=0\n",
    "if x==0:\n",
    "    print(\"Hola\")\n",
    "else:\n",
    "    print(\"Fin\")"
   ]
  },
  {
   "cell_type": "code",
   "execution_count": 34,
   "id": "41dbceed",
   "metadata": {},
   "outputs": [
    {
     "name": "stdout",
     "output_type": "stream",
     "text": [
      "Ingrese un numero: 57\n",
      "El numero es impar\n"
     ]
    }
   ],
   "source": [
    "num=int(input(\"Ingrese un numero: \"))\n",
    "#print(num)\n",
    "numfinal=num%2\n",
    "#print(numfinal)\n",
    "if numfinal==0:\n",
    "    print(\"El numero es par\")\n",
    "else: \n",
    "    print(\"El numero es impar\")"
   ]
  },
  {
   "cell_type": "code",
   "execution_count": 35,
   "id": "3a8b4307",
   "metadata": {},
   "outputs": [
    {
     "name": "stdout",
     "output_type": "stream",
     "text": [
      "Ingrese un numero: 56\n",
      "El numero es par\n"
     ]
    }
   ],
   "source": [
    "def carlos():\n",
    "    num=int(input(\"Ingrese un numero: \"))\n",
    "    #print(num)\n",
    "    numfinal=num%2\n",
    "    #print(numfinal)\n",
    "    if numfinal==0:\n",
    "        print(\"El numero es par\")\n",
    "    else: \n",
    "        print(\"El numero es impar\")\n",
    "\n",
    "carlos()"
   ]
  },
  {
   "cell_type": "code",
   "execution_count": 37,
   "id": "ad4a9fc7",
   "metadata": {},
   "outputs": [
    {
     "name": "stdout",
     "output_type": "stream",
     "text": [
      "Ingrese un numero: 355\n",
      "Es impar\n"
     ]
    }
   ],
   "source": [
    "#Realice una funcion que lea un  numero por teclado y verifique si el número ingresado es par o impar\n",
    "\n",
    "def david():\n",
    "    num=int(input(\"Ingrese un numero: \"))\n",
    "\n",
    "    if num%2==0:\n",
    "        print(\"Es par\")\n",
    "    else:\n",
    "        print(\"Es impar\")\n",
    "    \n",
    "david()"
   ]
  },
  {
   "cell_type": "code",
   "execution_count": 38,
   "id": "14d1cd9b",
   "metadata": {},
   "outputs": [
    {
     "name": "stdout",
     "output_type": "stream",
     "text": [
      "Ingrese un numero: 46\n",
      "Bien\n"
     ]
    }
   ],
   "source": [
    "x=int(input(\"Ingrese un numero: \"))\n",
    "if x%2==0:\n",
    "    print(\"Bien\")\n",
    "else:\n",
    "    print(\"Error\")"
   ]
  },
  {
   "cell_type": "code",
   "execution_count": 40,
   "id": "89faf935",
   "metadata": {},
   "outputs": [
    {
     "name": "stdout",
     "output_type": "stream",
     "text": [
      "Ingrese un numero: 56\n",
      "Par\n"
     ]
    }
   ],
   "source": [
    "num=int(input(\"Ingrese un numero: \"))\n",
    "if num%2==0:\n",
    "    print(\"Par\")\n",
    "else:\n",
    "    print(\"Impar\")"
   ]
  },
  {
   "cell_type": "code",
   "execution_count": 41,
   "id": "25546095",
   "metadata": {},
   "outputs": [
    {
     "name": "stdout",
     "output_type": "stream",
     "text": [
      "Ingrese un numero: 79\n",
      "Es impar\n"
     ]
    }
   ],
   "source": [
    "num=int(input(\"Ingrese un numero: \"))\n",
    "\n",
    "if num%2==0:\n",
    "    print(\"Es par\")\n",
    "else:\n",
    "    print(\"Es impar\")"
   ]
  },
  {
   "cell_type": "code",
   "execution_count": 42,
   "id": "8e974a33",
   "metadata": {},
   "outputs": [
    {
     "name": "stdout",
     "output_type": "stream",
     "text": [
      "15.399999999999999\n"
     ]
    }
   ],
   "source": [
    "#Realice una FUNCION que lea 4 notas y saque el promedio de las notas y la nota mas alta. Nota maximo 5\n",
    "n1=5\n",
    "n2=2\n",
    "n3=4.6\n",
    "n4=3.8\n",
    "suma=sum((n1,n2,n3,n4))\n",
    "print(suma)"
   ]
  },
  {
   "cell_type": "code",
   "execution_count": 61,
   "id": "f7ddf41e",
   "metadata": {},
   "outputs": [
    {
     "name": "stdout",
     "output_type": "stream",
     "text": [
      "El promedio de las notas es:  3.85\n",
      "La nota mas alta fue:  5.00\n"
     ]
    }
   ],
   "source": [
    "def promedio(n1,n2,n3,n4):\n",
    "    suma=sum((n1,n2,n3,n4))\n",
    "    promedio=f\"{suma/4:.2f}\" #Sentencia para que me muestre solamente 2 decimales\n",
    "    maximo=max(n1,n2,n3,n4)\n",
    "    maximo=f\"{maximo:.2f}\"\n",
    "    print(\"El promedio de las notas es: \",promedio)\n",
    "    print(\"La nota mas alta fue: \",maximo)\n",
    "\n",
    "n1=5\n",
    "n2=2\n",
    "n3=4.6\n",
    "n4=3.8\n",
    "promedio(n1,n2,n3,n4)"
   ]
  },
  {
   "cell_type": "code",
   "execution_count": 44,
   "id": "d65cb73e",
   "metadata": {},
   "outputs": [
    {
     "name": "stdout",
     "output_type": "stream",
     "text": [
      "5\n"
     ]
    }
   ],
   "source": [
    "maximo=max(n1,n2,n3,n4)\n",
    "print(maximo)"
   ]
  },
  {
   "cell_type": "code",
   "execution_count": 60,
   "id": "e928249d",
   "metadata": {},
   "outputs": [
    {
     "name": "stdout",
     "output_type": "stream",
     "text": [
      "Ingrese nota 1:5\n",
      "Ingrese nota 2:4\n",
      "Ingrese nota 3:3\n",
      "Ingrese nota 4:22\n",
      "8.5\n"
     ]
    }
   ],
   "source": [
    "def promedio (n1,n2,n3,n4):\n",
    "    nfinal=(n1+n2+n3+n4)/4\n",
    "    print (nfinal)\n",
    "\n",
    "n1=int(input(\"Ingrese nota 1:\"))\n",
    "n2=int(input(\"Ingrese nota 2:\"))\n",
    "n3=int(input(\"Ingrese nota 3:\"))\n",
    "n4=int(input(\"Ingrese nota 4:\"))\n",
    "promedio(n1,n2,n3,n4)"
   ]
  }
 ],
 "metadata": {
  "kernelspec": {
   "display_name": "Python 3",
   "language": "python",
   "name": "python3"
  },
  "language_info": {
   "codemirror_mode": {
    "name": "ipython",
    "version": 3
   },
   "file_extension": ".py",
   "mimetype": "text/x-python",
   "name": "python",
   "nbconvert_exporter": "python",
   "pygments_lexer": "ipython3",
   "version": "3.9.1"
  }
 },
 "nbformat": 4,
 "nbformat_minor": 5
}
