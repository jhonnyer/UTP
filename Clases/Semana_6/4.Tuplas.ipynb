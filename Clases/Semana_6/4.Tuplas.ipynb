{
 "cells": [
  {
   "cell_type": "code",
   "execution_count": 1,
   "id": "8fefcaf8",
   "metadata": {},
   "outputs": [
    {
     "name": "stdout",
     "output_type": "stream",
     "text": [
      "('a', 'b', 'c', 'd')\n",
      "<class 'tuple'>\n"
     ]
    }
   ],
   "source": [
    "t='a','b','c','d'\n",
    "print(t)\n",
    "print(type(t))"
   ]
  },
  {
   "cell_type": "code",
   "execution_count": 3,
   "id": "e4c2707e",
   "metadata": {},
   "outputs": [
    {
     "name": "stdout",
     "output_type": "stream",
     "text": [
      "('cadena', 'a', 1.24, 5, True)\n",
      "<class 'tuple'>\n",
      "cadena\n"
     ]
    }
   ],
   "source": [
    "t=('cadena','a',1.24,5,True)\n",
    "print(t)\n",
    "print(type(t))\n",
    "print(t[0])"
   ]
  },
  {
   "cell_type": "code",
   "execution_count": 4,
   "id": "c42cf822",
   "metadata": {},
   "outputs": [
    {
     "name": "stdout",
     "output_type": "stream",
     "text": [
      "('a',)\n",
      "<class 'tuple'>\n"
     ]
    }
   ],
   "source": [
    "#Crear una tupla con un solo elemento, incluir coma al final\n",
    "t1=('a',)\n",
    "print(t1)\n",
    "print(type(t1))"
   ]
  },
  {
   "cell_type": "code",
   "execution_count": 5,
   "id": "5302b7de",
   "metadata": {},
   "outputs": [
    {
     "name": "stdout",
     "output_type": "stream",
     "text": [
      "a\n",
      "<class 'str'>\n"
     ]
    }
   ],
   "source": [
    "#Sin la coma al final, python trata la expresion como una cadena en parentesis\n",
    "t2=('a')\n",
    "print(t2)\n",
    "print(type(t2))"
   ]
  },
  {
   "cell_type": "code",
   "execution_count": 6,
   "id": "8f93a7e7",
   "metadata": {},
   "outputs": [
    {
     "name": "stdout",
     "output_type": "stream",
     "text": [
      "()\n",
      "<class 'tuple'>\n"
     ]
    }
   ],
   "source": [
    "#Funcion tuple()\n",
    "tupla=tuple()\n",
    "print(tupla)\n",
    "print(type(tupla))"
   ]
  },
  {
   "cell_type": "code",
   "execution_count": 7,
   "id": "61eac3af",
   "metadata": {},
   "outputs": [
    {
     "name": "stdout",
     "output_type": "stream",
     "text": [
      "('h', 'o', 'l', 'a', ' ', 'm', 'u', 'n', 'd', 'o')\n"
     ]
    }
   ],
   "source": [
    "tupla=tuple('hola mundo')\n",
    "print(tupla)\n"
   ]
  },
  {
   "cell_type": "code",
   "execution_count": 8,
   "id": "e43b335d",
   "metadata": {},
   "outputs": [
    {
     "name": "stdout",
     "output_type": "stream",
     "text": [
      "(1, 4, 5, 6)\n"
     ]
    }
   ],
   "source": [
    "tupla=tuple([1,4,5,6])\n",
    "print(tupla)"
   ]
  },
  {
   "cell_type": "code",
   "execution_count": 50,
   "id": "dea1616c",
   "metadata": {},
   "outputs": [
    {
     "data": {
      "text/plain": [
       "(100, 'Hola', [1, 2, 3], -50)"
      ]
     },
     "execution_count": 50,
     "metadata": {},
     "output_type": "execute_result"
    }
   ],
   "source": [
    "tupla = (100,\"Hola\",[1,2,3],-50)\n",
    "tupla"
   ]
  },
  {
   "cell_type": "code",
   "execution_count": 51,
   "id": "0ae3c55c",
   "metadata": {},
   "outputs": [
    {
     "name": "stdout",
     "output_type": "stream",
     "text": [
      "(100, 'Hola', [1, 2, 3], -50)\n",
      "100\n",
      "-50\n",
      "([1, 2, 3], -50)\n",
      "3\n"
     ]
    }
   ],
   "source": [
    "print(tupla)\n",
    "print(tupla[0])\n",
    "print(tupla[-1])\n",
    "print(tupla[2:])\n",
    "print(tupla[2][-1])"
   ]
  },
  {
   "cell_type": "code",
   "execution_count": 9,
   "id": "2974fb52",
   "metadata": {},
   "outputs": [
    {
     "name": "stdout",
     "output_type": "stream",
     "text": [
      "('clave1', 'clave2', 'clave3', 'clave4')\n"
     ]
    }
   ],
   "source": [
    "tupla=tuple({'clave1':1,'clave2':4,'clave3':5,'clave4':6})\n",
    "print(tupla)"
   ]
  },
  {
   "cell_type": "code",
   "execution_count": 10,
   "id": "05538733",
   "metadata": {},
   "outputs": [
    {
     "name": "stdout",
     "output_type": "stream",
     "text": [
      "('clave1', 'clave2', 'clave3')\n"
     ]
    }
   ],
   "source": [
    "print(tupla[:3])"
   ]
  },
  {
   "cell_type": "code",
   "execution_count": 11,
   "id": "7bfcdb7a",
   "metadata": {},
   "outputs": [
    {
     "ename": "TypeError",
     "evalue": "'tuple' object does not support item assignment",
     "output_type": "error",
     "traceback": [
      "\u001b[0;31m---------------------------------------------------------------------------\u001b[0m",
      "\u001b[0;31mTypeError\u001b[0m                                 Traceback (most recent call last)",
      "\u001b[0;32m<ipython-input-11-7454495aec6a>\u001b[0m in \u001b[0;36m<module>\u001b[0;34m\u001b[0m\n\u001b[0;32m----> 1\u001b[0;31m \u001b[0mtupla\u001b[0m\u001b[0;34m[\u001b[0m\u001b[0;36m3\u001b[0m\u001b[0;34m]\u001b[0m\u001b[0;34m=\u001b[0m\u001b[0;36m4\u001b[0m\u001b[0;34m\u001b[0m\u001b[0;34m\u001b[0m\u001b[0m\n\u001b[0m",
      "\u001b[0;31mTypeError\u001b[0m: 'tuple' object does not support item assignment"
     ]
    }
   ],
   "source": [
    "tupla[3]=4"
   ]
  },
  {
   "cell_type": "code",
   "execution_count": 14,
   "id": "46700d57",
   "metadata": {},
   "outputs": [
    {
     "name": "stdout",
     "output_type": "stream",
     "text": [
      "('a', 'b', 'c', 'd')\n",
      "('A', 'b', 'c', 'd')\n"
     ]
    }
   ],
   "source": [
    "#No se pueden modificar elementos de una tupla, pero se pueden remplazar una tupla por otra\n",
    "t=('a','b','c','d')\n",
    "print(t)\n",
    "t=('A',)+t[1:]\n",
    "print(t)"
   ]
  },
  {
   "cell_type": "code",
   "execution_count": 15,
   "id": "5ee99a5a",
   "metadata": {},
   "outputs": [
    {
     "data": {
      "text/plain": [
       "True"
      ]
     },
     "execution_count": 15,
     "metadata": {},
     "output_type": "execute_result"
    }
   ],
   "source": [
    "#Comparacion de tuplas\n",
    "(0,1,20)<(0,3,4)"
   ]
  },
  {
   "cell_type": "code",
   "execution_count": 16,
   "id": "b400309b",
   "metadata": {},
   "outputs": [
    {
     "data": {
      "text/plain": [
       "True"
      ]
     },
     "execution_count": 16,
     "metadata": {},
     "output_type": "execute_result"
    }
   ],
   "source": [
    "#Comparacion de tuplas\n",
    "(0,1,20000)<(0,3,4)"
   ]
  },
  {
   "cell_type": "code",
   "execution_count": 17,
   "id": "f621f3ff",
   "metadata": {},
   "outputs": [
    {
     "data": {
      "text/plain": [
       "False"
      ]
     },
     "execution_count": 17,
     "metadata": {},
     "output_type": "execute_result"
    }
   ],
   "source": [
    "#Comparacion de tuplas\n",
    "(2,1,20)<(0,3,20)"
   ]
  },
  {
   "cell_type": "code",
   "execution_count": 20,
   "id": "ef19588f",
   "metadata": {},
   "outputs": [
    {
     "name": "stdout",
     "output_type": "stream",
     "text": [
      "['but', 'soft', 'what', 'light', 'in', 'yonder', 'windows', 'break']\n"
     ]
    }
   ],
   "source": [
    "#Patron DSU\n",
    "txt='but soft what light in yonder windows break'\n",
    "palabras=txt.split()\n",
    "print(palabras)"
   ]
  },
  {
   "cell_type": "code",
   "execution_count": 22,
   "id": "26b3ec6d",
   "metadata": {},
   "outputs": [
    {
     "name": "stdout",
     "output_type": "stream",
     "text": [
      "[(3, 'but'), (4, 'soft'), (4, 'what'), (5, 'light'), (2, 'in'), (6, 'yonder'), (7, 'windows'), (5, 'break')]\n"
     ]
    }
   ],
   "source": [
    "l=list()\n",
    "for subc in  palabras:\n",
    "    l.append((len(subc),subc))\n",
    "print(l)"
   ]
  },
  {
   "cell_type": "code",
   "execution_count": 25,
   "id": "27068d8e",
   "metadata": {},
   "outputs": [
    {
     "name": "stdout",
     "output_type": "stream",
     "text": [
      "[(7, 'windows'), (6, 'yonder'), (5, 'light'), (5, 'break'), (4, 'what'), (4, 'soft'), (3, 'but'), (2, 'in')]\n",
      "7 windows\n",
      "6 yonder\n",
      "5 light\n",
      "5 break\n",
      "4 what\n",
      "4 soft\n",
      "3 but\n",
      "2 in\n",
      "['windows', 'yonder', 'light', 'break', 'what', 'soft', 'but', 'in']\n"
     ]
    }
   ],
   "source": [
    "l.sort(reverse=True)\n",
    "print(l)\n",
    "res=list()\n",
    "\n",
    "for long, pal in l:\n",
    "    print(long, pal)\n",
    "    res.append(pal)\n",
    "print(res)"
   ]
  },
  {
   "cell_type": "code",
   "execution_count": 26,
   "id": "89e8a5e1",
   "metadata": {},
   "outputs": [
    {
     "name": "stdout",
     "output_type": "stream",
     "text": [
      "have\n",
      "fun\n"
     ]
    }
   ],
   "source": [
    "# Asignacion de tuplas\n",
    "m=['have','fun']\n",
    "x,y=m\n",
    "print(x)\n",
    "print(y)"
   ]
  },
  {
   "cell_type": "code",
   "execution_count": 27,
   "id": "9efc952d",
   "metadata": {},
   "outputs": [
    {
     "name": "stdout",
     "output_type": "stream",
     "text": [
      "have\n",
      "fun\n"
     ]
    }
   ],
   "source": [
    "# Asignacion de tuplas\n",
    "m=['have','fun']\n",
    "x=m[0]\n",
    "y=m[1]\n",
    "print(x)\n",
    "print(y)"
   ]
  },
  {
   "cell_type": "code",
   "execution_count": 28,
   "id": "8fb95d31",
   "metadata": {},
   "outputs": [
    {
     "name": "stdout",
     "output_type": "stream",
     "text": [
      "have\n",
      "fun\n"
     ]
    }
   ],
   "source": [
    "# Asignacion de tuplas\n",
    "m=['have','fun']\n",
    "(x,y)=m\n",
    "print(x)\n",
    "print(y)"
   ]
  },
  {
   "cell_type": "code",
   "execution_count": 31,
   "id": "29d613eb",
   "metadata": {},
   "outputs": [
    {
     "name": "stdout",
     "output_type": "stream",
     "text": [
      "b\n",
      "a\n",
      "\n",
      "\n",
      "a\n",
      "b\n"
     ]
    }
   ],
   "source": [
    "m=('b','a')\n",
    "(a,b)=m\n",
    "print(a)\n",
    "print(b)\n",
    "(a,b)=b,a\n",
    "print('\\n')\n",
    "print(a)\n",
    "print(b)"
   ]
  },
  {
   "cell_type": "code",
   "execution_count": 33,
   "id": "248db52d",
   "metadata": {},
   "outputs": [
    {
     "ename": "ValueError",
     "evalue": "too many values to unpack (expected 2)",
     "output_type": "error",
     "traceback": [
      "\u001b[0;31m---------------------------------------------------------------------------\u001b[0m",
      "\u001b[0;31mValueError\u001b[0m                                Traceback (most recent call last)",
      "\u001b[0;32m<ipython-input-33-84d7f93e152a>\u001b[0m in \u001b[0;36m<module>\u001b[0;34m\u001b[0m\n\u001b[1;32m      1\u001b[0m \u001b[0;31m#Los valores de la izquierda y derecha deben ser iguales\u001b[0m\u001b[0;34m\u001b[0m\u001b[0;34m\u001b[0m\u001b[0;34m\u001b[0m\u001b[0m\n\u001b[0;32m----> 2\u001b[0;31m \u001b[0ma\u001b[0m\u001b[0;34m,\u001b[0m\u001b[0mb\u001b[0m\u001b[0;34m=\u001b[0m\u001b[0;36m1\u001b[0m\u001b[0;34m,\u001b[0m\u001b[0;36m2\u001b[0m\u001b[0;34m,\u001b[0m\u001b[0;36m3\u001b[0m\u001b[0;34m\u001b[0m\u001b[0;34m\u001b[0m\u001b[0m\n\u001b[0m",
      "\u001b[0;31mValueError\u001b[0m: too many values to unpack (expected 2)"
     ]
    }
   ],
   "source": [
    "#Los valores de la izquierda y derecha deben ser iguales\n",
    "a,b=1,2,3"
   ]
  },
  {
   "cell_type": "code",
   "execution_count": 34,
   "id": "cdff02e5",
   "metadata": {},
   "outputs": [
    {
     "name": "stdout",
     "output_type": "stream",
     "text": [
      "monty\n",
      "python.org\n"
     ]
    }
   ],
   "source": [
    "addr='monty@python.org'\n",
    "uname,domain=addr.split('@')\n",
    "print(uname)\n",
    "print(domain)"
   ]
  },
  {
   "cell_type": "code",
   "execution_count": 36,
   "id": "2f4ce611",
   "metadata": {},
   "outputs": [
    {
     "name": "stdout",
     "output_type": "stream",
     "text": [
      "[('a', 10), ('c', 22), ('b', 1)]\n"
     ]
    }
   ],
   "source": [
    "#Diccionarios y tuplas\n",
    "d={'a':10,'c':22,'b':1}\n",
    "t=list(d.items())\n",
    "print(t)"
   ]
  },
  {
   "cell_type": "code",
   "execution_count": 37,
   "id": "35b82144",
   "metadata": {},
   "outputs": [
    {
     "name": "stdout",
     "output_type": "stream",
     "text": [
      "[('a', 10), ('b', 1), ('c', 22)]\n"
     ]
    }
   ],
   "source": [
    "#Metodo sort(); ordena por orden ascendete a partir del valor de la clave\n",
    "t.sort()\n",
    "print(t)"
   ]
  },
  {
   "cell_type": "code",
   "execution_count": 38,
   "id": "77c872e3",
   "metadata": {},
   "outputs": [
    {
     "name": "stdout",
     "output_type": "stream",
     "text": [
      "{('Galindez', 'Jhonnyer'): 3128243249}\n"
     ]
    }
   ],
   "source": [
    "#Usando tuplas como claves en los diccionarios\n",
    "# Debido a que las tuplas son hashable y las listas no, si queremos crear una clave compuesta para\n",
    "# usar en un diccionario debemos usar una tupla como clave.\n",
    "# Usaríamos por ejemplo una clave compuesta si quisiéramos crear un directorio\n",
    "# telefónico que mapea pares appellido, nombre con números telefónicos. Asumiendo\n",
    "# que hemos definido las variables apellido, nombre, y número, podríamos escribir\n",
    "# una sentencia de asignación de diccionario como sigue:\n",
    "apellido=\"Galindez\"\n",
    "nombre=\"Jhonnyer\"\n",
    "numero=3128243249\n",
    "directorio=dict()\n",
    "directorio[apellido,nombre] = numero\n",
    "print(directorio)"
   ]
  },
  {
   "cell_type": "code",
   "execution_count": 39,
   "id": "49a80ec4",
   "metadata": {},
   "outputs": [
    {
     "name": "stdout",
     "output_type": "stream",
     "text": [
      "Jhonnyer Galindez 3128243249\n"
     ]
    }
   ],
   "source": [
    "#Recorrer el directorio e imprimir resultado\n",
    "for apellido, nombre in directorio:\n",
    "    print(nombre, apellido, directorio[apellido,nombre])"
   ]
  },
  {
   "cell_type": "code",
   "execution_count": 7,
   "id": "643582a6",
   "metadata": {},
   "outputs": [
    {
     "name": "stdout",
     "output_type": "stream",
     "text": [
      "{('Jhonnyer', 'Galindez'): 3128243249}\n"
     ]
    }
   ],
   "source": [
    "direc=(\"Jhonnyer\",\"Galindez\")\n",
    "numero=3128243249\n",
    "directorio=dict()\n",
    "directorio[direc] = numero\n",
    "print(directorio)"
   ]
  },
  {
   "cell_type": "code",
   "execution_count": 8,
   "id": "945c1962",
   "metadata": {},
   "outputs": [
    {
     "name": "stdout",
     "output_type": "stream",
     "text": [
      "('Jhonnyer', 'Galindez') 3128243249\n"
     ]
    }
   ],
   "source": [
    "for direc in directorio:\n",
    "    print(direc, directorio[direc])"
   ]
  },
  {
   "cell_type": "code",
   "execution_count": 9,
   "id": "e7c42b6c",
   "metadata": {},
   "outputs": [
    {
     "name": "stdout",
     "output_type": "stream",
     "text": [
      "Jhonnyer Galindez 3128243249\n"
     ]
    }
   ],
   "source": [
    "for nombre,apellido in directorio:\n",
    "    print(nombre, apellido,directorio[nombre,apellido])"
   ]
  },
  {
   "cell_type": "code",
   "execution_count": 11,
   "id": "b42e36da",
   "metadata": {},
   "outputs": [
    {
     "name": "stdout",
     "output_type": "stream",
     "text": [
      "0 ('Jhonnyer', 'Galindez')\n"
     ]
    }
   ],
   "source": [
    "for nombre,apellido in enumerate(directorio):\n",
    "    print(nombre, apellido)"
   ]
  },
  {
   "cell_type": "code",
   "execution_count": 45,
   "id": "c1a88388",
   "metadata": {},
   "outputs": [
    {
     "name": "stdout",
     "output_type": "stream",
     "text": [
      "1\n"
     ]
    }
   ],
   "source": [
    "#Metodo count()\n",
    "valores=('python',True,'Zope',5)\n",
    "print(valores.count(True))"
   ]
  },
  {
   "cell_type": "code",
   "execution_count": 46,
   "id": "aae6407c",
   "metadata": {},
   "outputs": [
    {
     "name": "stdout",
     "output_type": "stream",
     "text": [
      "1\n"
     ]
    }
   ],
   "source": [
    "#Metodo index()\n",
    "valores=('python',True,'Zope',5)\n",
    "print(valores.index(True))"
   ]
  },
  {
   "cell_type": "code",
   "execution_count": 48,
   "id": "28faf61d",
   "metadata": {},
   "outputs": [
    {
     "name": "stdout",
     "output_type": "stream",
     "text": [
      "0 zope\n",
      "1 plone\n",
      "2 pyramid\n"
     ]
    }
   ],
   "source": [
    "tecnologias=('zope','plone','pyramid')\n",
    "for i in range(0,len(tecnologias)):\n",
    "    print(i,tecnologias[i])"
   ]
  },
  {
   "cell_type": "code",
   "execution_count": 49,
   "id": "f0d8007f",
   "metadata": {},
   "outputs": [
    {
     "name": "stdout",
     "output_type": "stream",
     "text": [
      "0 zope\n",
      "1 plone\n",
      "2 pyramid\n"
     ]
    }
   ],
   "source": [
    "tecnologias=('zope','plone','pyramid')\n",
    "for i in range(len(tecnologias)):\n",
    "    print(i,tecnologias[i])"
   ]
  },
  {
   "cell_type": "code",
   "execution_count": 1,
   "id": "ee191feb",
   "metadata": {},
   "outputs": [
    {
     "name": "stdout",
     "output_type": "stream",
     "text": [
      "0 zope\n",
      "1 plone\n",
      "2 pyramid\n"
     ]
    }
   ],
   "source": [
    "tecnologias=('zope','plone','pyramid')\n",
    "for i, valor in enumerate(tecnologias):\n",
    "    print(i,tecnologias[i])"
   ]
  },
  {
   "cell_type": "code",
   "execution_count": 4,
   "id": "6e72f794",
   "metadata": {},
   "outputs": [
    {
     "name": "stdout",
     "output_type": "stream",
     "text": [
      "zope\n",
      "plone\n",
      "pyramid\n"
     ]
    }
   ],
   "source": [
    "tecnologias=('zope','plone','pyramid')\n",
    "cont=0\n",
    "while cont<3:\n",
    "    print(tecnologias[cont])\n",
    "    cont+=1"
   ]
  }
 ],
 "metadata": {
  "kernelspec": {
   "display_name": "Python 3",
   "language": "python",
   "name": "python3"
  },
  "language_info": {
   "codemirror_mode": {
    "name": "ipython",
    "version": 3
   },
   "file_extension": ".py",
   "mimetype": "text/x-python",
   "name": "python",
   "nbconvert_exporter": "python",
   "pygments_lexer": "ipython3",
   "version": "3.9.1"
  }
 },
 "nbformat": 4,
 "nbformat_minor": 5
}
