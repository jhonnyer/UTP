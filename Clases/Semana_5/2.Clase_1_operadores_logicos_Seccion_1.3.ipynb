{
 "cells": [
  {
   "cell_type": "code",
   "execution_count": 3,
   "id": "920a77e7",
   "metadata": {},
   "outputs": [
    {
     "data": {
      "text/plain": [
       "False"
      ]
     },
     "execution_count": 3,
     "metadata": {},
     "output_type": "execute_result"
    }
   ],
   "source": [
    "P='P'\n",
    "not P"
   ]
  },
  {
   "cell_type": "code",
   "execution_count": 4,
   "id": "2c887c88",
   "metadata": {},
   "outputs": [
    {
     "data": {
      "text/plain": [
       "False"
      ]
     },
     "execution_count": 4,
     "metadata": {},
     "output_type": "execute_result"
    }
   ],
   "source": [
    "P and not P"
   ]
  },
  {
   "cell_type": "code",
   "execution_count": 7,
   "id": "7ba870d6",
   "metadata": {},
   "outputs": [
    {
     "data": {
      "text/plain": [
       "True"
      ]
     },
     "execution_count": 7,
     "metadata": {},
     "output_type": "execute_result"
    }
   ],
   "source": [
    "#Identidad de la conjuncion\n",
    "A='A'\n",
    "\n",
    "A and True "
   ]
  },
  {
   "cell_type": "code",
   "execution_count": 8,
   "id": "dae9a1a3",
   "metadata": {},
   "outputs": [
    {
     "data": {
      "text/plain": [
       "'A'"
      ]
     },
     "execution_count": 8,
     "metadata": {},
     "output_type": "execute_result"
    }
   ],
   "source": [
    "#Identidad de la disyuncion\n",
    "A or False"
   ]
  },
  {
   "cell_type": "code",
   "execution_count": 5,
   "id": "47982947",
   "metadata": {},
   "outputs": [
    {
     "data": {
      "text/plain": [
       "False"
      ]
     },
     "execution_count": 5,
     "metadata": {},
     "output_type": "execute_result"
    }
   ],
   "source": [
    "#Dominacion de la conjuncion\n",
    "A and False"
   ]
  },
  {
   "cell_type": "code",
   "execution_count": 6,
   "id": "ad4434ac",
   "metadata": {},
   "outputs": [
    {
     "data": {
      "text/plain": [
       "'A'"
      ]
     },
     "execution_count": 6,
     "metadata": {},
     "output_type": "execute_result"
    }
   ],
   "source": [
    "# Dominacion de la disyuncion \n",
    "A or True"
   ]
  },
  {
   "cell_type": "code",
   "execution_count": 9,
   "id": "89c478bc",
   "metadata": {},
   "outputs": [
    {
     "data": {
      "text/plain": [
       "True"
      ]
     },
     "execution_count": 9,
     "metadata": {},
     "output_type": "execute_result"
    }
   ],
   "source": [
    "#Negacion y equivalencia a falso\n",
    "A=False\n",
    "not A"
   ]
  },
  {
   "cell_type": "code",
   "execution_count": 15,
   "id": "f1811e13",
   "metadata": {},
   "outputs": [
    {
     "data": {
      "text/plain": [
       "True"
      ]
     },
     "execution_count": 15,
     "metadata": {},
     "output_type": "execute_result"
    }
   ],
   "source": [
    "#Negacion y equivalencia a falso\n",
    "B=True\n",
    "not A == B "
   ]
  },
  {
   "cell_type": "code",
   "execution_count": 35,
   "id": "121ccd12",
   "metadata": {},
   "outputs": [
    {
     "data": {
      "text/plain": [
       "True"
      ]
     },
     "execution_count": 35,
     "metadata": {},
     "output_type": "execute_result"
    }
   ],
   "source": [
    "# Leyes de Morgan\n",
    "p=False\n",
    "q=True\n",
    "not(p and q)"
   ]
  },
  {
   "cell_type": "code",
   "execution_count": 36,
   "id": "53a39aa8",
   "metadata": {},
   "outputs": [
    {
     "data": {
      "text/plain": [
       "True"
      ]
     },
     "execution_count": 36,
     "metadata": {},
     "output_type": "execute_result"
    }
   ],
   "source": [
    "not p or not q"
   ]
  },
  {
   "cell_type": "code",
   "execution_count": 45,
   "id": "3c34ea80",
   "metadata": {},
   "outputs": [
    {
     "data": {
      "text/plain": [
       "False"
      ]
     },
     "execution_count": 45,
     "metadata": {},
     "output_type": "execute_result"
    }
   ],
   "source": [
    "a=False\n",
    "b=True\n",
    "not(a or b)"
   ]
  },
  {
   "cell_type": "code",
   "execution_count": 43,
   "id": "f21515e1",
   "metadata": {},
   "outputs": [
    {
     "data": {
      "text/plain": [
       "True"
      ]
     },
     "execution_count": 43,
     "metadata": {},
     "output_type": "execute_result"
    }
   ],
   "source": [
    "not a and not b"
   ]
  },
  {
   "cell_type": "code",
   "execution_count": 50,
   "id": "96f68a8a",
   "metadata": {},
   "outputs": [
    {
     "data": {
      "text/plain": [
       "False"
      ]
     },
     "execution_count": 50,
     "metadata": {},
     "output_type": "execute_result"
    }
   ],
   "source": [
    "x=10\n",
    "y=2\n",
    "z=10\n",
    "(x==y) and(x==z)"
   ]
  },
  {
   "cell_type": "code",
   "execution_count": 51,
   "id": "b98cfef7",
   "metadata": {},
   "outputs": [
    {
     "data": {
      "text/plain": [
       "True"
      ]
     },
     "execution_count": 51,
     "metadata": {},
     "output_type": "execute_result"
    }
   ],
   "source": [
    "(x==y) or(x==z)"
   ]
  }
 ],
 "metadata": {
  "kernelspec": {
   "display_name": "Python 3",
   "language": "python",
   "name": "python3"
  },
  "language_info": {
   "codemirror_mode": {
    "name": "ipython",
    "version": 3
   },
   "file_extension": ".py",
   "mimetype": "text/x-python",
   "name": "python",
   "nbconvert_exporter": "python",
   "pygments_lexer": "ipython3",
   "version": "3.9.1"
  }
 },
 "nbformat": 4,
 "nbformat_minor": 5
}
