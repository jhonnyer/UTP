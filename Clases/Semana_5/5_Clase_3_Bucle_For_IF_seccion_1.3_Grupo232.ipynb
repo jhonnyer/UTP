{
 "cells": [
  {
   "cell_type": "code",
   "execution_count": 1,
   "id": "e52621c6",
   "metadata": {},
   "outputs": [
    {
     "name": "stdout",
     "output_type": "stream",
     "text": [
      "fin del condicional\n"
     ]
    }
   ],
   "source": [
    "x=0\n",
    "if x==1:\n",
    "    print(\"Hola mundo\")    \n",
    "else:\n",
    "    print(\"fin del condicional\")"
   ]
  },
  {
   "cell_type": "code",
   "execution_count": 32,
   "id": "c923d066",
   "metadata": {},
   "outputs": [
    {
     "name": "stdout",
     "output_type": "stream",
     "text": [
      "0\n",
      "1\n",
      "2\n",
      "3\n",
      "4\n",
      "5\n"
     ]
    }
   ],
   "source": [
    "x=0\n",
    "while x<=5:\n",
    "    print(x)\n",
    "    x+=1"
   ]
  },
  {
   "cell_type": "code",
   "execution_count": 7,
   "id": "d62c8e38",
   "metadata": {},
   "outputs": [
    {
     "name": "stdout",
     "output_type": "stream",
     "text": [
      "X y Y son iguales\n"
     ]
    }
   ],
   "source": [
    "# else: \n",
    "    #if condicion:\n",
    "#elif\n",
    "x=20\n",
    "y=20\n",
    "if x<y:\n",
    "    print(\"x es menor que y\")\n",
    "elif x>y:\n",
    "    print(\"X es mayor que y\")\n",
    "else:\n",
    "    print(\"X y Y son iguales\")"
   ]
  },
  {
   "cell_type": "code",
   "execution_count": 13,
   "id": "fa6cf7f4",
   "metadata": {},
   "outputs": [
    {
     "name": "stdout",
     "output_type": "stream",
     "text": [
      "Comando desconocido\n"
     ]
    }
   ],
   "source": [
    "letra='cfdgd'\n",
    "if letra=='a':\n",
    "    print(\"Malos resultados\")\n",
    "elif letra=='b':\n",
    "    print(\"Buen resultado\")\n",
    "elif letra=='c':\n",
    "    print(\"cerca, pero no es correcto\")\n",
    "else:\n",
    "    print(\"Comando desconocido\")"
   ]
  },
  {
   "cell_type": "code",
   "execution_count": 14,
   "id": "cab95e85",
   "metadata": {},
   "outputs": [
    {
     "name": "stdout",
     "output_type": "stream",
     "text": [
      "Malos resultados\n"
     ]
    }
   ],
   "source": [
    "letra='a'\n",
    "if letra=='a':\n",
    "    print(\"Malos resultados\")\n",
    "elif letra=='b':\n",
    "    print(\"Buen resultado\")\n",
    "elif letra=='c':\n",
    "    print(\"cerca, pero no es correcto\")\n",
    "else:\n",
    "    print(\"Comando desconocido\")"
   ]
  },
  {
   "cell_type": "code",
   "execution_count": 16,
   "id": "99032e77",
   "metadata": {},
   "outputs": [
    {
     "name": "stdout",
     "output_type": "stream",
     "text": [
      "Comando desconocido\n"
     ]
    }
   ],
   "source": [
    "letra='a'\n",
    "if letra=='a' and letra=='b':\n",
    "    print(\"Malos resultados\")\n",
    "elif letra=='b':\n",
    "    print(\"Buen resultado\")\n",
    "elif letra=='c':\n",
    "    print(\"cerca, pero no es correcto\")\n",
    "else:\n",
    "    print(\"Comando desconocido\")"
   ]
  },
  {
   "cell_type": "code",
   "execution_count": 20,
   "id": "7d13d88e",
   "metadata": {},
   "outputs": [
    {
     "name": "stdout",
     "output_type": "stream",
     "text": [
      "Malos resultados\n",
      "Debes seguir estudiando\n",
      "20\n"
     ]
    }
   ],
   "source": [
    "letra='a'\n",
    "if letra=='a' or letra=='b':\n",
    "    print(\"Malos resultados\")\n",
    "    print(\"Debes seguir estudiando\")\n",
    "    x=10*2\n",
    "    print(x)\n",
    "elif letra=='b':\n",
    "    print(\"Buen resultado\")\n",
    "elif letra=='c':\n",
    "    print(\"cerca, pero no es correcto\")\n",
    "else:\n",
    "    print(\"Comando desconocido\")"
   ]
  },
  {
   "cell_type": "code",
   "execution_count": 23,
   "id": "2a7a627b",
   "metadata": {},
   "outputs": [
    {
     "name": "stdout",
     "output_type": "stream",
     "text": [
      "Comando desconocido\n"
     ]
    }
   ],
   "source": [
    "texto='Salir'\n",
    "if texto=='ENTRAR':\n",
    "    print(\"Bienvenido\")\n",
    "elif texto=='EVALUAR':\n",
    "    print(\"Realiza tu examen\")\n",
    "elif texto=='SALIR':\n",
    "    print(\"Hasta luego\")\n",
    "else:\n",
    "    print(\"Comando desconocido\")"
   ]
  },
  {
   "cell_type": "code",
   "execution_count": 26,
   "id": "9342819e",
   "metadata": {},
   "outputs": [
    {
     "name": "stdout",
     "output_type": "stream",
     "text": [
      "X es mayor que y\n"
     ]
    }
   ],
   "source": [
    "x=10\n",
    "y=2\n",
    "if x==y:\n",
    "    print('X y Y son iguales')\n",
    "else:\n",
    "    if x<y:\n",
    "        print('X es menor que y')\n",
    "    else:\n",
    "        print(\"X es mayor que y\")"
   ]
  },
  {
   "cell_type": "code",
   "execution_count": 28,
   "id": "99597fd0",
   "metadata": {},
   "outputs": [
    {
     "name": "stdout",
     "output_type": "stream",
     "text": [
      "X es otro número\n"
     ]
    }
   ],
   "source": [
    "x=11\n",
    "if 0<x and x<10:\n",
    "    print(\"X es un numero positivo de un solo digito\")\n",
    "else:\n",
    "    print(\"X es otro número\")"
   ]
  },
  {
   "cell_type": "code",
   "execution_count": 31,
   "id": "d40eb095",
   "metadata": {},
   "outputs": [
    {
     "name": "stdout",
     "output_type": "stream",
     "text": [
      "X es un número positivo de dos digitos\n"
     ]
    }
   ],
   "source": [
    "x=10\n",
    "if 0<x and x<10:\n",
    "    print(\"X es un numero positivo de un solo digito\")\n",
    "elif 0<x and x>=10:\n",
    "    print(\"X es un número positivo de dos digitos\")\n",
    "elif x==10:\n",
    "    print(\"X es igual a 10\")\n",
    "else:\n",
    "    print(\"X es un número negativo\")"
   ]
  },
  {
   "cell_type": "code",
   "execution_count": 34,
   "id": "4b7b43e6",
   "metadata": {},
   "outputs": [
    {
     "name": "stdout",
     "output_type": "stream",
     "text": [
      "Estamos en la iteracion:  0\n",
      "Estamos en la iteracion:  1\n",
      "Estamos en la iteracion:  2\n",
      "Fin de la iteracion\n"
     ]
    }
   ],
   "source": [
    "for x in range(0,3):\n",
    "    print(\"Estamos en la iteracion: \",x)\n",
    "print(\"Fin de la iteracion\")"
   ]
  },
  {
   "cell_type": "code",
   "execution_count": 37,
   "id": "58a9b79b",
   "metadata": {},
   "outputs": [
    {
     "name": "stdout",
     "output_type": "stream",
     "text": [
      "Estamos en la iteracion:  0\n",
      "Estamos en la iteracion:  1\n",
      "Estamos en la iteracion:  2\n",
      "Estamos en la iteracion:  3\n",
      "Estamos en la iteracion:  4\n",
      "Estamos en la iteracion:  5\n",
      "Estamos en la iteracion:  6\n",
      "Estamos en la iteracion:  7\n",
      "Estamos en la iteracion:  8\n",
      "Estamos en la iteracion:  9\n",
      "Fin de la iteracion\n"
     ]
    }
   ],
   "source": [
    "for x in range(0,10,1):\n",
    "    print(\"Estamos en la iteracion: \",x)\n",
    "print(\"Fin de la iteracion\")"
   ]
  },
  {
   "cell_type": "code",
   "execution_count": 45,
   "id": "51fd8154",
   "metadata": {},
   "outputs": [
    {
     "name": "stdout",
     "output_type": "stream",
     "text": [
      "Estamos en la iteracion:  0\n",
      "Estamos en la iteracion:  3\n",
      "Estamos en la iteracion:  6\n",
      "Estamos en la iteracion:  9\n",
      "Fin de la iteracion\n"
     ]
    }
   ],
   "source": [
    "for x in range(0,10,3):\n",
    "    print(\"Estamos en la iteracion: \",x)\n",
    "print(\"Fin de la iteracion\")"
   ]
  },
  {
   "cell_type": "code",
   "execution_count": 41,
   "id": "9e03c657",
   "metadata": {},
   "outputs": [
    {
     "name": "stdout",
     "output_type": "stream",
     "text": [
      "Longitud de x:  6\n",
      "0\n",
      "1\n",
      "2\n",
      "3\n",
      "4\n",
      "5\n"
     ]
    }
   ],
   "source": [
    "x=[1,2,3,4,5,6]\n",
    "longitud=len(x)\n",
    "print(\"Longitud de x: \",longitud)\n",
    "for i in range(len(x)):\n",
    "    print(i)"
   ]
  },
  {
   "cell_type": "code",
   "execution_count": 44,
   "id": "0b01857e",
   "metadata": {},
   "outputs": [
    {
     "name": "stdout",
     "output_type": "stream",
     "text": [
      "Longitud de la palabra:  4\n",
      "0\n",
      "1\n",
      "2\n",
      "3\n"
     ]
    }
   ],
   "source": [
    "palabra='Hola'\n",
    "long=len(palabra)\n",
    "print(\"Longitud de la palabra: \",long)\n",
    "for x in range(len(palabra)):\n",
    "    print(x)"
   ]
  },
  {
   "cell_type": "code",
   "execution_count": 60,
   "id": "60e2e37a",
   "metadata": {},
   "outputs": [
    {
     "name": "stdout",
     "output_type": "stream",
     "text": [
      "Longitud de x:  6\n",
      "0\n",
      "1\n",
      "2\n",
      "Fin del comunicado\n"
     ]
    }
   ],
   "source": [
    "# Cilo FOR CON sentencia break, recorrido de una lista\n",
    "x=[1,2,3,4,5,6]\n",
    "longitud=len(x)\n",
    "print(\"Longitud de x: \",longitud)\n",
    "for i in range(len(x)):\n",
    "    if i==3:\n",
    "        break\n",
    "    print(i)\n",
    "print(\"Fin del comunicado\")"
   ]
  },
  {
   "cell_type": "code",
   "execution_count": 64,
   "id": "beb16579",
   "metadata": {},
   "outputs": [
    {
     "name": "stdout",
     "output_type": "stream",
     "text": [
      "['Pablo', 'entiende', 'muy', 'bien', 'python']\n",
      "<class 'list'>\n",
      "La oracion analizada es:  Pablo entiende muy bien python .\n",
      "\n",
      "python\n",
      "muy\n",
      "La palabra: Pablo, esta en la posición 0\n",
      "La palabra: entiende, esta en la posición 1\n",
      "La palabra: muy, esta en la posición 2\n",
      "La palabra: bien, esta en la posición 3\n",
      "La palabra: python, esta en la posición 4\n"
     ]
    }
   ],
   "source": [
    "#Recorrer una lista\n",
    "oracion=\"Pablo entiende muy bien python\"\n",
    "frases=oracion.split()\n",
    "print(frases)\n",
    "print(type(frases))\n",
    "print(\"La oracion analizada es: \",oracion,'.\\n')\n",
    "\n",
    "#Imprimir en pantalla el nombre  de python\n",
    "print(frases[4])\n",
    "print(frases[2])\n",
    "\n",
    "for palabra in range(len(frases)):\n",
    "    #print(palabra, frases[palabra] )\n",
    "    print(\"La palabra: {0}, esta en la posición {1}\".format(frases[palabra],palabra))"
   ]
  },
  {
   "cell_type": "code",
   "execution_count": 68,
   "id": "9f05dec9",
   "metadata": {},
   "outputs": [
    {
     "name": "stdout",
     "output_type": "stream",
     "text": [
      "('127.0.0.1', '5432', 'root', 'nomina')\n",
      "<class 'tuple'>\n",
      "127.0.0.1\n",
      "5432\n",
      "root\n",
      "nomina\n",
      "El comando PostgreSQL es:\n",
      "    $psql -h 127.0.0.1 -p 5432 -U root -d nomina\n"
     ]
    }
   ],
   "source": [
    "db_connection='127.0.0.1','5432','root','nomina'\n",
    "print(db_connection)\n",
    "print(type(db_connection))\n",
    "db_connection[2]\n",
    "\n",
    "for parametro in db_connection:\n",
    "    print(parametro)\n",
    "else:\n",
    "    print(\"\"\"El comando PostgreSQL es:\n",
    "    $psql -h {server} -p {port} -U {user} -d {db_name}\"\"\".format(\n",
    "    server=db_connection[0],port=db_connection[1],user=db_connection[2],db_name=db_connection[3]))"
   ]
  },
  {
   "cell_type": "code",
   "execution_count": 81,
   "id": "18fd2b19",
   "metadata": {},
   "outputs": [
    {
     "name": "stdout",
     "output_type": "stream",
     "text": [
      "b\n",
      "a\n",
      "6\n",
      "a\n"
     ]
    }
   ],
   "source": [
    "#Recorrido de un string de izquierda a derecha\n",
    "fruta='banana'\n",
    "letra=fruta[0]\n",
    "print(letra)\n",
    "letra=fruta[1]\n",
    "print(letra)\n",
    "longitud=len(fruta)\n",
    "print(longitud)\n",
    "ultimo=fruta[longitud-1]\n",
    "print(ultimo)"
   ]
  },
  {
   "cell_type": "code",
   "execution_count": 80,
   "id": "e352899c",
   "metadata": {},
   "outputs": [
    {
     "name": "stdout",
     "output_type": "stream",
     "text": [
      "a\n",
      "n\n",
      "a\n"
     ]
    }
   ],
   "source": [
    "#Recorrido de un string de derecha a izquierda\n",
    "ultimo=fruta[-1]\n",
    "print(ultimo)\n",
    "penultimo=fruta[-2]\n",
    "print(penultimo)\n",
    "antepenultimo=fruta[-3]\n",
    "print(antepenultimo)"
   ]
  },
  {
   "cell_type": "code",
   "execution_count": 71,
   "id": "2dadf954",
   "metadata": {},
   "outputs": [
    {
     "ename": "TypeError",
     "evalue": "string indices must be integers",
     "output_type": "error",
     "traceback": [
      "\u001b[0;31m---------------------------------------------------------------------------\u001b[0m",
      "\u001b[0;31mTypeError\u001b[0m                                 Traceback (most recent call last)",
      "\u001b[0;32m<ipython-input-71-df0bde6a3da9>\u001b[0m in \u001b[0;36m<module>\u001b[0;34m\u001b[0m\n\u001b[0;32m----> 1\u001b[0;31m \u001b[0mletra\u001b[0m\u001b[0;34m=\u001b[0m\u001b[0mfruta\u001b[0m\u001b[0;34m[\u001b[0m\u001b[0;36m1.3\u001b[0m\u001b[0;34m]\u001b[0m\u001b[0;34m\u001b[0m\u001b[0;34m\u001b[0m\u001b[0m\n\u001b[0m\u001b[1;32m      2\u001b[0m \u001b[0mprint\u001b[0m\u001b[0;34m(\u001b[0m\u001b[0mletra\u001b[0m\u001b[0;34m)\u001b[0m\u001b[0;34m\u001b[0m\u001b[0;34m\u001b[0m\u001b[0m\n",
      "\u001b[0;31mTypeError\u001b[0m: string indices must be integers"
     ]
    }
   ],
   "source": [
    "letra=fruta[1.3]\n",
    "print(letra)"
   ]
  },
  {
   "cell_type": "code",
   "execution_count": 85,
   "id": "8446da5e",
   "metadata": {},
   "outputs": [
    {
     "name": "stdout",
     "output_type": "stream",
     "text": [
      "Monty\n",
      "python\n"
     ]
    }
   ],
   "source": [
    "#Rebanada de string\n",
    "s=\"Monty python\"\n",
    "print(s[0:5])\n",
    "print(s[6:12])"
   ]
  },
  {
   "cell_type": "code",
   "execution_count": 89,
   "id": "516d0a1b",
   "metadata": {},
   "outputs": [
    {
     "name": "stdout",
     "output_type": "stream",
     "text": [
      "BAN\n",
      "ANA\n",
      "BAN\n",
      "ANA\n"
     ]
    },
    {
     "data": {
      "text/plain": [
       "'BANANA'"
      ]
     },
     "execution_count": 89,
     "metadata": {},
     "output_type": "execute_result"
    }
   ],
   "source": [
    "#Rebanada de string\n",
    "s=\"BANANA\"\n",
    "print(s[:3])\n",
    "print(s[3:])\n",
    "V1=s[:3]\n",
    "V2=s[3:]\n",
    "print(V1)\n",
    "print(V2)\n",
    "V1+V2"
   ]
  },
  {
   "cell_type": "code",
   "execution_count": 91,
   "id": "ab8f6532",
   "metadata": {},
   "outputs": [
    {
     "name": "stdout",
     "output_type": "stream",
     "text": [
      "\"  \"\n",
      "\"  \"\n"
     ]
    }
   ],
   "source": [
    "#Rebanada de string\n",
    "s=\"BANANA\"\n",
    "print('\"',s[3:3],'\"',)\n",
    "\n",
    "print('\"',s[4:3],'\"',)"
   ]
  },
  {
   "cell_type": "code",
   "execution_count": 92,
   "id": "99d7e496",
   "metadata": {},
   "outputs": [
    {
     "data": {
      "text/plain": [
       "True"
      ]
     },
     "execution_count": 92,
     "metadata": {},
     "output_type": "execute_result"
    }
   ],
   "source": [
    "#Operador in\n",
    "'a' in 'banana'"
   ]
  },
  {
   "cell_type": "code",
   "execution_count": 93,
   "id": "c537016b",
   "metadata": {},
   "outputs": [
    {
     "data": {
      "text/plain": [
       "False"
      ]
     },
     "execution_count": 93,
     "metadata": {},
     "output_type": "execute_result"
    }
   ],
   "source": [
    "#Operador in\n",
    "'c' in 'banana'"
   ]
  },
  {
   "cell_type": "code",
   "execution_count": 94,
   "id": "ae757efd",
   "metadata": {},
   "outputs": [
    {
     "data": {
      "text/plain": [
       "True"
      ]
     },
     "execution_count": 94,
     "metadata": {},
     "output_type": "execute_result"
    }
   ],
   "source": [
    "\"mundo\" in \"Hola mundo\""
   ]
  },
  {
   "cell_type": "code",
   "execution_count": 95,
   "id": "9a40c45d",
   "metadata": {},
   "outputs": [
    {
     "data": {
      "text/plain": [
       "False"
      ]
     },
     "execution_count": 95,
     "metadata": {},
     "output_type": "execute_result"
    }
   ],
   "source": [
    "\"adios\" in \"Hola mundo\""
   ]
  },
  {
   "cell_type": "code",
   "execution_count": 100,
   "id": "eafe3606",
   "metadata": {},
   "outputs": [
    {
     "name": "stdout",
     "output_type": "stream",
     "text": [
      "El numero de veces que esta repetida la letra a es:  3\n"
     ]
    }
   ],
   "source": [
    "fruta='banana'\n",
    "cont=0\n",
    "for i in range(len(fruta)):\n",
    "    if fruta[i]=='a':\n",
    "        cont+=1\n",
    "print(\"El numero de veces que esta repetida la letra a es: \",cont)"
   ]
  },
  {
   "cell_type": "code",
   "execution_count": 101,
   "id": "51746f8c",
   "metadata": {},
   "outputs": [
    {
     "data": {
      "text/plain": [
       "3"
      ]
     },
     "execution_count": 101,
     "metadata": {},
     "output_type": "execute_result"
    }
   ],
   "source": [
    "fruta.count('a')"
   ]
  }
 ],
 "metadata": {
  "kernelspec": {
   "display_name": "Python 3",
   "language": "python",
   "name": "python3"
  },
  "language_info": {
   "codemirror_mode": {
    "name": "ipython",
    "version": 3
   },
   "file_extension": ".py",
   "mimetype": "text/x-python",
   "name": "python",
   "nbconvert_exporter": "python",
   "pygments_lexer": "ipython3",
   "version": "3.9.1"
  }
 },
 "nbformat": 4,
 "nbformat_minor": 5
}
