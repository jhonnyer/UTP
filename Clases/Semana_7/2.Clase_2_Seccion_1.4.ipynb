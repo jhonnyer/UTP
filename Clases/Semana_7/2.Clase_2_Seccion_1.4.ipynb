{
 "cells": [
  {
   "cell_type": "code",
   "execution_count": 1,
   "id": "dd4855c1",
   "metadata": {},
   "outputs": [
    {
     "name": "stdout",
     "output_type": "stream",
     "text": [
      "Hola Liliana\n"
     ]
    }
   ],
   "source": [
    "#Cadenas con formato\n",
    "nombre='Liliana'\n",
    "cadena_formateada='Hola %s' %nombre\n",
    "print(cadena_formateada)"
   ]
  },
  {
   "cell_type": "code",
   "execution_count": 2,
   "id": "20ddd763",
   "metadata": {},
   "outputs": [
    {
     "name": "stdout",
     "output_type": "stream",
     "text": [
      "Esto es una letra M: M\n",
      "Esto es una numero 8: 8\n",
      "Esto es una lista: [10, 30, 100]\n"
     ]
    }
   ],
   "source": [
    "print(\"Esto es una letra M: %s\" %'M')\n",
    "print(\"Esto es una numero 8: %s\" %8)\n",
    "print(\"Esto es una lista: %s\" %[10,30,100])"
   ]
  },
  {
   "cell_type": "code",
   "execution_count": 3,
   "id": "bbbcd8cc",
   "metadata": {},
   "outputs": [
    {
     "name": "stdout",
     "output_type": "stream",
     "text": [
      "Hola Liliana y Catalina bienvenidas\n"
     ]
    }
   ],
   "source": [
    "#Cadenas con formato, dos o más valorew\n",
    "nombre1='Liliana'\n",
    "nombre2='Catalina'\n",
    "cadena_formateada='Hola %s y %s bienvenidas' %(nombre1,nombre2)\n",
    "print(cadena_formateada)"
   ]
  },
  {
   "cell_type": "code",
   "execution_count": 9,
   "id": "f3e4be62",
   "metadata": {},
   "outputs": [
    {
     "name": "stdout",
     "output_type": "stream",
     "text": [
      "*     Enero\n",
      "*   Febrero\n",
      "*     Marzo\n",
      "*     Abril\n",
      "*      Mayo\n"
     ]
    }
   ],
   "source": [
    "#Ancho de una cadena indicandola entre el % y la letra s\n",
    "primeros_meses=['Enero','Febrero','Marzo','Abril','Mayo']\n",
    "for i in primeros_meses:\n",
    "    print(\"*%10s\"%(i))"
   ]
  },
  {
   "cell_type": "code",
   "execution_count": 11,
   "id": "1a26351e",
   "metadata": {},
   "outputs": [
    {
     "name": "stdout",
     "output_type": "stream",
     "text": [
      "*Enero      *\n",
      "*Febrero    *\n",
      "*Marzo      *\n",
      "*Abril      *\n",
      "*Mayo       *\n"
     ]
    }
   ],
   "source": [
    "#Ancho de una cadena indicandola entre el % y la letra s\n",
    "primeros_meses=['Enero','Febrero','Marzo','Abril','Mayo']\n",
    "for i in primeros_meses:\n",
    "    print(\"*%-10s *\"%(i))"
   ]
  },
  {
   "cell_type": "code",
   "execution_count": null,
   "id": "6a869c7a",
   "metadata": {},
   "outputs": [],
   "source": [
    "#Ancho de una cadena indicandola entre el % y la letra s\n",
    "primeros_meses=['Enero','Febrero','Marzo','Abril','Mayo']\n",
    "for i in primeros_meses:\n",
    "    print(\"*%10s * %-10s* \"%(i,i))"
   ]
  },
  {
   "cell_type": "code",
   "execution_count": 14,
   "id": "5ade109a",
   "metadata": {},
   "outputs": [
    {
     "name": "stdout",
     "output_type": "stream",
     "text": [
      "Python nacio en el año 1991\n"
     ]
    }
   ],
   "source": [
    "#Formatear numeros enteros\n",
    "print(\"%s nacio en el año %d\" %('Python',1991))\n",
    "#Si el numero introducido no es un entero se convertira antes de ser añadido a la cadena de caracteres"
   ]
  },
  {
   "cell_type": "code",
   "execution_count": 15,
   "id": "4ab94e67",
   "metadata": {},
   "outputs": [
    {
     "name": "stdout",
     "output_type": "stream",
     "text": [
      "Python nacio en el año 1991\n"
     ]
    }
   ],
   "source": [
    "#Formatear numeros enteros\n",
    "print(\"%s nacio en el año %d\" %('Python',1991.6577))\n",
    "#Si el numero introducido no es un entero se convertira antes de ser añadido a la cadena de caracteres"
   ]
  },
  {
   "cell_type": "code",
   "execution_count": 17,
   "id": "e3debd6b",
   "metadata": {},
   "outputs": [
    {
     "name": "stdout",
     "output_type": "stream",
     "text": [
      "El número hexadecimal es: 160 y el decimal es: 10\n"
     ]
    }
   ],
   "source": [
    "#Formatear numeros enteros\n",
    "#Si el numero introducido no es un entero se convertira antes de ser añadido a la cadena de caracteres\n",
    "hexadecimal=0XA0\n",
    "decimal=10.5\n",
    "print(\"El número hexadecimal es: %d y el decimal es: %d\" %(hexadecimal, decimal))"
   ]
  },
  {
   "cell_type": "code",
   "execution_count": 19,
   "id": "0b8ccf9c",
   "metadata": {},
   "outputs": [
    {
     "name": "stdout",
     "output_type": "stream",
     "text": [
      "El número hexadecimal es: A0 y el decimal es: 10\n"
     ]
    }
   ],
   "source": [
    "#Formatear numeros enteros\n",
    "#Si el numero introducido no es un entero se convertira antes de ser añadido a la cadena de caracteres\n",
    "#Con %x ó %X se pueden representar numeros hexadecimal\n",
    "#Tambien es posible utilizar codigos %e y %E para exponencial y %o para numero octal\n",
    "hexadecimal=0XA0\n",
    "decimal=10.5\n",
    "print(\"El número hexadecimal es: %X y el decimal es: %d\" %(hexadecimal, decimal))"
   ]
  },
  {
   "cell_type": "code",
   "execution_count": 20,
   "id": "f7ceecfa",
   "metadata": {},
   "outputs": [
    {
     "name": "stdout",
     "output_type": "stream",
     "text": [
      "1000 en hexadecimal(minuscula) es: 3e8\n",
      "1000 en hexadecimal(mayuscula) es: 3E8\n",
      "1000 en exponencial(minuscula) es: 1.000000e+03\n",
      "1000 en exponencial(mayuscula) es: 1.000000E+03\n"
     ]
    }
   ],
   "source": [
    "#Con %x ó %X se pueden representar numeros hexadecimal\n",
    "#Tambien es posible utilizar codigos %e y %E para exponencial y %o para numero octal\n",
    "numero=1000\n",
    "print(\"%d en hexadecimal(minuscula) es: %x\" %(numero,numero))\n",
    "print(\"%d en hexadecimal(mayuscula) es: %X\" %(numero,numero))\n",
    "print(\"%d en exponencial(minuscula) es: %e\" %(numero,numero))\n",
    "print(\"%d en exponencial(mayuscula) es: %E\" %(numero,numero))"
   ]
  },
  {
   "cell_type": "code",
   "execution_count": 22,
   "id": "92d18ff7",
   "metadata": {},
   "outputs": [
    {
     "name": "stdout",
     "output_type": "stream",
     "text": [
      "0.3333333333333333\n",
      "Un tercio (sin decimales) es: 0\n",
      "Un tercio es 0.333333\n"
     ]
    }
   ],
   "source": [
    "#Formateo numeros decimales se usa %f\n",
    "tercio=1.0/3\n",
    "print(tercio)\n",
    "print(\"Un tercio (sin decimales) es: %d\"%tercio)\n",
    "print(\"Un tercio es %f\"%tercio)"
   ]
  },
  {
   "cell_type": "code",
   "execution_count": 23,
   "id": "9f0646b2",
   "metadata": {},
   "outputs": [
    {
     "name": "stdout",
     "output_type": "stream",
     "text": [
      "0.3333333333333333\n",
      "Un tercio es: 0.333333\n",
      "Un tercio es 0.33\n"
     ]
    }
   ],
   "source": [
    "#Formateo numeros decimales se usa %f, un punto y un numero indica el numero de decimales o digitod que se muestran\n",
    "#en consola\n",
    "tercio=1.0/3\n",
    "print(tercio)\n",
    "print(\"Un tercio es: %f\"%tercio)\n",
    "#Decimal con dos digitos\n",
    "print(\"Un tercio es %.2f\" %tercio)"
   ]
  },
  {
   "cell_type": "code",
   "execution_count": 24,
   "id": "26b8dd8a",
   "metadata": {},
   "outputs": [
    {
     "name": "stdout",
     "output_type": "stream",
     "text": [
      "Escriba su nombre por favor: jhonnyer\n",
      "Hola jhonnyer\n",
      "Hola jhonnyer\n"
     ]
    }
   ],
   "source": [
    "#Funcion input y cadena formateada\n",
    "nombre=input(\"Escriba su nombre por favor: \")\n",
    "print(\"Hola \"+nombre)\n",
    "print(\"Hola %s\"%nombre)"
   ]
  }
 ],
 "metadata": {
  "kernelspec": {
   "display_name": "Python 3",
   "language": "python",
   "name": "python3"
  },
  "language_info": {
   "codemirror_mode": {
    "name": "ipython",
    "version": 3
   },
   "file_extension": ".py",
   "mimetype": "text/x-python",
   "name": "python",
   "nbconvert_exporter": "python",
   "pygments_lexer": "ipython3",
   "version": "3.9.1"
  }
 },
 "nbformat": 4,
 "nbformat_minor": 5
}
