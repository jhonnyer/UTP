{
 "cells": [
  {
   "cell_type": "markdown",
   "id": "dd7b6947",
   "metadata": {},
   "source": [
    "# Titulo\n",
    "## Semititulo\n",
    "\n",
    "Texto normal\n",
    "\n",
    "* Punto 1\n",
    "* Punto 2\n",
    "\n",
    "**Texto en negrita**\n",
    "\n",
    "*Texto en italica o cursiva*"
   ]
  },
  {
   "cell_type": "code",
   "execution_count": null,
   "id": "3ba8b0dd",
   "metadata": {},
   "outputs": [],
   "source": []
  }
 ],
 "metadata": {
  "kernelspec": {
   "display_name": "Python 3",
   "language": "python",
   "name": "python3"
  },
  "language_info": {
   "codemirror_mode": {
    "name": "ipython",
    "version": 3
   },
   "file_extension": ".py",
   "mimetype": "text/x-python",
   "name": "python",
   "nbconvert_exporter": "python",
   "pygments_lexer": "ipython3",
   "version": "3.9.1"
  }
 },
 "nbformat": 4,
 "nbformat_minor": 5
}
