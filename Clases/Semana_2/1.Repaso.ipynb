{
 "cells": [
  {
   "cell_type": "code",
   "execution_count": 1,
   "id": "76a84462",
   "metadata": {},
   "outputs": [
    {
     "name": "stdout",
     "output_type": "stream",
     "text": [
      "1 0 0\n"
     ]
    }
   ],
   "source": [
    "print(1,000,000)"
   ]
  },
  {
   "cell_type": "code",
   "execution_count": 86,
   "id": "6f8d2175",
   "metadata": {},
   "outputs": [
    {
     "name": "stdout",
     "output_type": "stream",
     "text": [
      "Ingrese el valor a sumar: 12\n",
      "22\n"
     ]
    }
   ],
   "source": [
    "#Variables\n",
    "#a ingresado por el usuario\n",
    "#b es una constante con un valor\n",
    "#Operar el operando a con b mediante un operador de suma\n",
    "#Almacenar el resultado en una variable c _ Salida de datos\n",
    "\n",
    "\n",
    "#Inicio\n",
    "#primero indique el primero operando a sumar, ingresado por teclado\n",
    "#indice el segundo operando a sumar, que es una constante\n",
    "#Realice una operacion de suma\n",
    "#Muestre el resultado de la suma\n",
    "#fin\n",
    "\n",
    "a=int(input(\"Ingrese el valor a sumar: \"))\n",
    "b=10\n",
    "c=a+b\n",
    "print(c)\n",
    "\n"
   ]
  },
  {
   "cell_type": "code",
   "execution_count": 96,
   "id": "52544356",
   "metadata": {},
   "outputs": [
    {
     "name": "stdout",
     "output_type": "stream",
     "text": [
      "22\n",
      "32\n"
     ]
    }
   ],
   "source": [
    "a=12\n",
    "z=10\n",
    "c=a+z\n",
    "print(c)\n",
    "\n",
    "y=c+10\n",
    "print(y)"
   ]
  },
  {
   "cell_type": "code",
   "execution_count": 93,
   "id": "fa8d1a8a",
   "metadata": {},
   "outputs": [
    {
     "name": "stdout",
     "output_type": "stream",
     "text": [
      "10\n",
      "12\n",
      "hola mundo\n"
     ]
    }
   ],
   "source": [
    "v=10\n",
    "print(v)\n",
    "v=12\n",
    "print(v)\n",
    "v=\"hola mundo\"\n",
    "print(v)"
   ]
  },
  {
   "cell_type": "code",
   "execution_count": 95,
   "id": "575bd278",
   "metadata": {},
   "outputs": [
    {
     "name": "stdout",
     "output_type": "stream",
     "text": [
      "No tienes gasolina\n",
      "Compre gasolina en una bomba de gasolina\n",
      "Llene el tanque del carro con la gasolina\n"
     ]
    }
   ],
   "source": [
    "x=0\n",
    "if x>0:\n",
    "    print(\"Encienda el auto\")\n",
    "    print(\"viajar\")\n",
    "    x=x-1\n",
    "    print(x)\n",
    "    if x>0:\n",
    "        print(\"Encienda el auto\")\n",
    "    else:\n",
    "        print(\"No tienes gasolina\")\n",
    "        print(\"Compre gasolina en una bomba de gasolina\")\n",
    "        print(\"Llene el tanque del carro con la gasolina\")\n",
    "        print(\"Encienda el auto\")\n",
    "        print(\"viajar\")\n",
    "        \n",
    "else:\n",
    "    print(\"No tienes gasolina\")\n",
    "    print(\"Compre gasolina en una bomba de gasolina\")\n",
    "    print(\"Llene el tanque del carro con la gasolina\")"
   ]
  },
  {
   "cell_type": "code",
   "execution_count": 97,
   "id": "8bbc3783",
   "metadata": {},
   "outputs": [
    {
     "name": "stdout",
     "output_type": "stream",
     "text": [
      "9 9\n",
      "18\n",
      "La hipotenusa es:  4.242640687119285\n"
     ]
    }
   ],
   "source": [
    "# 1.\n",
    "# Inicio.\n",
    "# 2. Leer la longitud de los catetos\n",
    "# 3. Calcular hipotenusa (En un triángulo rectángulo\n",
    "# el cuadrado de la hipotenusa es igual a la suma\n",
    "# de los cuadrados de los catetos). Por lo tanto,\n",
    "# la hipotenusa es igual a la raíz cuadrada de la\n",
    "# suma de los cuadrados de los catetos.\n",
    "# 4. Mostrar la hipotenusa\n",
    "# 5. Fin.\n",
    "\n",
    "import math \n",
    "cat1=3\n",
    "cat2=3\n",
    "# h=?\n",
    "# h²=cat1²+cat2²\n",
    "# h=(cat1²+cat2²)^(1/2)\n",
    "\n",
    "cate1=cat1**2\n",
    "cate2=cat2**2\n",
    "suma=cate1+cate2\n",
    "print(cate1, cate2)\n",
    "print(suma)\n",
    "\n",
    "h=math.sqrt(suma)\n",
    "print(\"La hipotenusa es: \",h)"
   ]
  },
  {
   "cell_type": "code",
   "execution_count": 98,
   "id": "1f1dc335",
   "metadata": {},
   "outputs": [
    {
     "name": "stdout",
     "output_type": "stream",
     "text": [
      "camine 10 pasos\n",
      "Gire 90 grados\n",
      "camine 10 pasos\n",
      "Gire 90 grados\n",
      "camine 10 pasos\n",
      "Gire 90 grados\n",
      "Pudiste rodear el cuadrado\n"
     ]
    }
   ],
   "source": [
    "print(\"camine 10 pasos\")\n",
    "print(\"Gire 90 grados\")\n",
    "\n",
    "print(\"camine 10 pasos\")\n",
    "print(\"Gire 90 grados\")\n",
    "\n",
    "print(\"camine 10 pasos\")\n",
    "print(\"Gire 90 grados\")\n",
    "\n",
    "print(\"Pudiste rodear el cuadrado\")"
   ]
  },
  {
   "cell_type": "code",
   "execution_count": 105,
   "id": "2f5c1daf",
   "metadata": {},
   "outputs": [
    {
     "name": "stdout",
     "output_type": "stream",
     "text": [
      "camine 10 pasos\n",
      "Gire 90 grados\n",
      "camine 10 pasos\n",
      "Gire 90 grados\n",
      "camine 10 pasos\n",
      "Gire 90 grados\n",
      "Fin del ciclo\n",
      "Pudiste rodear el cuadrado\n"
     ]
    }
   ],
   "source": [
    "def robot():\n",
    "    x=3\n",
    "    while x>0:\n",
    "        print(\"camine 10 pasos\")\n",
    "        print(\"Gire 90 grados\")\n",
    "        x=x-1\n",
    "    else:\n",
    "        print(\"Fin del ciclo\")\n",
    "\n",
    "robot()\n",
    "print(\"Pudiste rodear el cuadrado\")"
   ]
  },
  {
   "cell_type": "markdown",
   "id": "73ba0552",
   "metadata": {},
   "source": [
    "Se desea calcular la distancia recorrida en metros por un automóvil que tiene una velocidad constante (m/s) durante un tiempo T(seg), considerar que es un movimiento rectilíneo uniforme (MRU)\n",
    "\n",
    "# Entradas\n",
    "\n",
    "Velocidad constante\n",
    "Tiempo\n",
    "\n",
    "# Datos salida\n",
    "distancia\n",
    "# Proceso\n",
    "Distancia=Velocidad*Tiempo\n",
    "\n",
    "# Algoritmo\n",
    "\n",
    "Inicio\n",
    "    Dime la velocidad del automovil\n",
    "    Dime el tiempo trasncurrido\n",
    "    Operar el tiempo y la velocidad para hallar la distancia\n",
    "    Mostrar el resultado\n",
    "Fin"
   ]
  },
  {
   "cell_type": "code",
   "execution_count": 107,
   "id": "cd4f3ac0",
   "metadata": {},
   "outputs": [
    {
     "name": "stdout",
     "output_type": "stream",
     "text": [
      "Ingrese la velocidad: 53\n",
      "Ingrese el tiempo: 3\n",
      "La distancia recorrida es: 159 metros, donde la velocidad fue 53.0 m/s y el tiempo fue 3.0 segundo \n"
     ]
    }
   ],
   "source": [
    "vel=float(input(\"Ingrese la velocidad: \"))\n",
    "tiemp=float(input(\"Ingrese el tiempo: \"))\n",
    "distancia=int(vel*tiemp)\n",
    "print(\"La distancia recorrida es: {} metros, donde la velocidad fue {} m/s y el tiempo fue {} segundo \".format(distancia,vel, tiemp))\n",
    "\n"
   ]
  },
  {
   "cell_type": "code",
   "execution_count": 109,
   "id": "3388ce61",
   "metadata": {},
   "outputs": [
    {
     "name": "stdout",
     "output_type": "stream",
     "text": [
      "HolaHola\n"
     ]
    }
   ],
   "source": [
    "v=\"Hola\"\n",
    "m=2\n",
    "z=m*v\n",
    "print(z)"
   ]
  },
  {
   "cell_type": "code",
   "execution_count": 113,
   "id": "69a6fdbe",
   "metadata": {},
   "outputs": [
    {
     "name": "stdout",
     "output_type": "stream",
     "text": [
      "2.1999999999999997\n",
      "Perdiste la materia, debes estudiar mejor\n"
     ]
    }
   ],
   "source": [
    "# Obtener el promedio simple de un estudiante a partir de 3 notas parciales\n",
    "#Entradas: nota1, nota2, nota3\n",
    "#salida:promedio\n",
    "\n",
    "\n",
    "#Inicio\n",
    "#introduce nota 1\n",
    "#introduce nota 2\n",
    "#introduce nota 3\n",
    "#operacion preliminar sumar nota1, nota2 y nota3\n",
    "#dividir ls operacion preliminar entre 3 que son la cantidad de notas\n",
    "#Imprimir el mensaje con la nota definitiva\n",
    "#Fin\n",
    "\n",
    "nota1=2.5\n",
    "nota2=1\n",
    "nota3=3.1\n",
    "prel=nota1+nota2+nota3\n",
    "# nota_final=prel/3\n",
    "nota_final=(nota1+nota2+nota3)/3\n",
    "print(nota_final)\n",
    "\n",
    "if nota_final>3:\n",
    "    print(\"Paso la materia\")\n",
    "else: \n",
    "    print(\"Perdiste la materia, debes estudiar mejor\")"
   ]
  },
  {
   "cell_type": "code",
   "execution_count": 117,
   "id": "26702862",
   "metadata": {},
   "outputs": [
    {
     "name": "stdout",
     "output_type": "stream",
     "text": [
      "Ingrese el valor a retirar: 40\n",
      "Has retirado:  40\n",
      "9960\n"
     ]
    }
   ],
   "source": [
    "##### Realice un algoritmo que permita verificar el saldo de una cuenta en un cajero, \n",
    "#si tiene plata retirar un dinero, y recibir un mensaje del nuevo saldo, sino tiene plata no\n",
    "# puede retirar el dinero, debe recibir el valor del saldo y solicitar ingresar un nuevo valor\n",
    "#tener en cuenta que existen dos ramas de una condición. \n",
    "\n",
    "#Valor_Cuenta\n",
    "#Verificar que el cajero no tiene dinero suficiente\n",
    "#Introducir_valor_retirar\n",
    "#Sacar mensaje de acuerdo a la condicion\n",
    "    #Verificar si el cajero cuenta con el dinero\n",
    "        #\n",
    "        #\n",
    "        #\n",
    "    #si puede sacar dinero\n",
    "        #Comparar el valor que quiero retirar y el saldo de mi cuenta\n",
    "        #Restar el valor que yo introduci al valor que yo tengo\n",
    "        #mostrar el valor actual\n",
    "    #si no puede sacar dinero\n",
    "        #Mensaje del porque no se puede sacar dinero\n",
    "        #solicitar ingresar un nuevo valor\n",
    "        #retiro el dinero\n",
    "        #muestro un mensaje con el nuevo valor en la cuenta, mostrar mensaje valor retirado\n",
    "#Fin\n",
    "\n",
    "\n",
    "x=10000\n",
    "\n",
    "def cal_ban(x,valor_ret):\n",
    "    #dinero_cajer=20000\n",
    "    while valor_ret>x:\n",
    "        print(\"No puedes retirar el dinero\")\n",
    "        print(\"El saldo en tu cuenta es: \",x)\n",
    "        valor_ret=int(input(\"Ingrese el valor a retirar: \"))\n",
    "    else:\n",
    "        print(\"Has retirado: \",valor_ret)\n",
    "        y=x-valor_ret\n",
    "        return y\n",
    "\n",
    "valor_ret=int(input(\"Ingrese el valor a retirar: \"))\n",
    "val=cal_ban(x,valor_ret)\n",
    "x=val\n",
    "print(x)\n",
    "\n"
   ]
  },
  {
   "cell_type": "code",
   "execution_count": null,
   "id": "a29b4cd3",
   "metadata": {},
   "outputs": [],
   "source": [
    "# Realice un algoritmo que permita verificar el saldo de una cuenta en un cajero, \n",
    "#si tiene plata retirar un dinero, y recibir un mensaje del nuevo saldo, sino tiene plata no\n",
    "# puede retirar el dinero, debe recibir el valor del saldo y solicitar ingresar un nuevo valor\n",
    "#tener en cuenta que existen dos ramas de una condición. \n",
    "\n",
    "# Entrada: Numero de cuenta, saldo_dinero, valor_retirar\n",
    "#Salidas: nuevo_saldo, \n",
    "\n",
    "#Si hay saldo retirar dinero\n",
    "#Saber el valor_retirar, mostrar el numero valor\n"
   ]
  },
  {
   "cell_type": "code",
   "execution_count": 67,
   "id": "cebb2010",
   "metadata": {},
   "outputs": [
    {
     "name": "stdout",
     "output_type": "stream",
     "text": [
      "10\n",
      "20\n",
      "Hola\n",
      "24\n",
      "48\n",
      "0\n"
     ]
    }
   ],
   "source": [
    "v=10\n",
    "print(v)\n",
    "v=20\n",
    "print(v)\n",
    "v=\"Hola\"\n",
    "print(v)\n",
    "v=2\n",
    "v=v+10\n",
    "v=v+v\n",
    "print(v)\n",
    "\n",
    "v+=v\n",
    "print(v)\n",
    "v-=v\n",
    "print(v)\n"
   ]
  },
  {
   "cell_type": "code",
   "execution_count": 69,
   "id": "dad577f6",
   "metadata": {},
   "outputs": [
    {
     "name": "stdout",
     "output_type": "stream",
     "text": [
      "22\n"
     ]
    }
   ],
   "source": [
    "v=10\n",
    "v=v+12\n",
    "print(v)\n"
   ]
  },
  {
   "cell_type": "code",
   "execution_count": 8,
   "id": "9307edb5",
   "metadata": {},
   "outputs": [
    {
     "ename": "NameError",
     "evalue": "name 'd' is not defined",
     "output_type": "error",
     "traceback": [
      "\u001b[0;31m---------------------------------------------------------------------------\u001b[0m",
      "\u001b[0;31mNameError\u001b[0m                                 Traceback (most recent call last)",
      "\u001b[0;32m<ipython-input-8-e8b83f46b655>\u001b[0m in \u001b[0;36m<module>\u001b[0;34m\u001b[0m\n\u001b[0;32m----> 1\u001b[0;31m \u001b[0mc\u001b[0m\u001b[0;34m=\u001b[0m\u001b[0;36m3\u001b[0m\u001b[0;34m+\u001b[0m\u001b[0md\u001b[0m\u001b[0;34m\u001b[0m\u001b[0;34m\u001b[0m\u001b[0m\n\u001b[0m\u001b[1;32m      2\u001b[0m \u001b[0mprint\u001b[0m\u001b[0;34m(\u001b[0m\u001b[0mc\u001b[0m\u001b[0;34m)\u001b[0m\u001b[0;34m\u001b[0m\u001b[0;34m\u001b[0m\u001b[0m\n",
      "\u001b[0;31mNameError\u001b[0m: name 'd' is not defined"
     ]
    }
   ],
   "source": [
    "c=3+d\n",
    "print(c)"
   ]
  },
  {
   "cell_type": "code",
   "execution_count": 7,
   "id": "d44340aa",
   "metadata": {},
   "outputs": [
    {
     "name": "stdout",
     "output_type": "stream",
     "text": [
      "3660\n",
      "1.0\n",
      "25\n",
      "112\n"
     ]
    }
   ],
   "source": [
    "20+32\n",
    "hour=60\n",
    "minute=60\n",
    "hour-1\n",
    "v=hour*60+minute\n",
    "print(v)\n",
    "y=minute/60\n",
    "print(y)\n",
    "z=5**2\n",
    "print(z)\n",
    "za=(5+9)*(15-7)\n",
    "print(za)"
   ]
  },
  {
   "cell_type": "code",
   "execution_count": 10,
   "id": "b79df904",
   "metadata": {},
   "outputs": [
    {
     "name": "stdout",
     "output_type": "stream",
     "text": [
      "15.6\n",
      "15\n"
     ]
    }
   ],
   "source": [
    "#Division redondear a entero \n",
    "print(78/5)\n",
    "print(78//5)\n"
   ]
  },
  {
   "cell_type": "code",
   "execution_count": 11,
   "id": "d567bc15",
   "metadata": {},
   "outputs": [
    {
     "data": {
      "text/plain": [
       "6"
      ]
     },
     "execution_count": 11,
     "metadata": {},
     "output_type": "execute_result"
    }
   ],
   "source": [
    "5\n",
    "x = 5\n",
    "x + 1"
   ]
  },
  {
   "cell_type": "code",
   "execution_count": 13,
   "id": "e7b72b44",
   "metadata": {},
   "outputs": [
    {
     "name": "stdout",
     "output_type": "stream",
     "text": [
      "2\n",
      "1\n"
     ]
    },
    {
     "data": {
      "text/plain": [
       "2.3333333333333335"
      ]
     },
     "execution_count": 13,
     "metadata": {},
     "output_type": "execute_result"
    }
   ],
   "source": [
    "quotient = 7 // 3\n",
    "print(quotient)\n",
    "remainder = 7 % 3\n",
    "print(remainder)\n",
    "7/3"
   ]
  },
  {
   "cell_type": "code",
   "execution_count": 5,
   "id": "4d082e88",
   "metadata": {},
   "outputs": [
    {
     "name": "stdout",
     "output_type": "stream",
     "text": [
      "1 numero impar\n",
      "2 Numero par\n",
      "3 numero impar\n",
      "4 Numero par\n",
      "5 numero impar\n",
      "6 Numero par\n",
      "7 numero impar\n",
      "8 Numero par\n",
      "9 numero impar\n"
     ]
    }
   ],
   "source": [
    "x=[1,2,3,4,5,6,7,8,9]\n",
    "for i in x:\n",
    "    if i%2==0:\n",
    "        print(i, \"Numero par\")\n",
    "    else:\n",
    "        print(i, \"numero impar\")\n",
    "\n"
   ]
  },
  {
   "cell_type": "code",
   "execution_count": 29,
   "id": "85332ccc",
   "metadata": {},
   "outputs": [
    {
     "name": "stdout",
     "output_type": "stream",
     "text": [
      "5\n",
      "25\n",
      "1\n"
     ]
    }
   ],
   "source": [
    "x=125\n",
    "#obtener valores de los residuos de la division, en este caso el valor mas cercano a la derecha\n",
    "print(x%10)\n",
    "#obtener los dos valores de los residuos\n",
    "print(x%100)\n",
    "\n",
    "print(x%2)"
   ]
  },
  {
   "cell_type": "code",
   "execution_count": 5,
   "id": "9d40b665",
   "metadata": {},
   "outputs": [
    {
     "name": "stdout",
     "output_type": "stream",
     "text": [
      "hola hola \n"
     ]
    }
   ],
   "source": [
    "primero=\"hola \"\n",
    "segundo=2\n",
    "\n",
    "print(primero*segundo)\n"
   ]
  },
  {
   "cell_type": "code",
   "execution_count": 4,
   "id": "a617e275",
   "metadata": {},
   "outputs": [
    {
     "ename": "TypeError",
     "evalue": "can't multiply sequence by non-int of type 'str'",
     "output_type": "error",
     "traceback": [
      "\u001b[0;31m---------------------------------------------------------------------------\u001b[0m",
      "\u001b[0;31mTypeError\u001b[0m                                 Traceback (most recent call last)",
      "\u001b[0;32m<ipython-input-4-7335c0ca72a5>\u001b[0m in \u001b[0;36m<module>\u001b[0;34m\u001b[0m\n\u001b[0;32m----> 1\u001b[0;31m \u001b[0mprint\u001b[0m\u001b[0;34m(\u001b[0m\u001b[0mprimero\u001b[0m\u001b[0;34m*\u001b[0m\u001b[0mprimero\u001b[0m\u001b[0;34m)\u001b[0m\u001b[0;34m\u001b[0m\u001b[0;34m\u001b[0m\u001b[0m\n\u001b[0m",
      "\u001b[0;31mTypeError\u001b[0m: can't multiply sequence by non-int of type 'str'"
     ]
    }
   ],
   "source": [
    "\n",
    "print(primero*primero)"
   ]
  },
  {
   "cell_type": "code",
   "execution_count": 7,
   "id": "4741888f",
   "metadata": {},
   "outputs": [
    {
     "name": "stdout",
     "output_type": "stream",
     "text": [
      "hola\n",
      "hola\n"
     ]
    }
   ],
   "source": [
    "#Peticion informacion por teclado\n",
    "entrada=input()\n",
    "print(entrada)"
   ]
  },
  {
   "cell_type": "code",
   "execution_count": 23,
   "id": "60898028",
   "metadata": {},
   "outputs": [
    {
     "name": "stdout",
     "output_type": "stream",
     "text": [
      "ingrese un numerof\n"
     ]
    },
    {
     "ename": "ValueError",
     "evalue": "invalid literal for int() with base 10: 'f'",
     "output_type": "error",
     "traceback": [
      "\u001b[0;31m---------------------------------------------------------------------------\u001b[0m",
      "\u001b[0;31mValueError\u001b[0m                                Traceback (most recent call last)",
      "\u001b[0;32m<ipython-input-23-119d156d93f1>\u001b[0m in \u001b[0;36m<module>\u001b[0;34m\u001b[0m\n\u001b[0;32m----> 1\u001b[0;31m \u001b[0mn\u001b[0m\u001b[0;34m=\u001b[0m\u001b[0mint\u001b[0m\u001b[0;34m(\u001b[0m\u001b[0minput\u001b[0m\u001b[0;34m(\u001b[0m\u001b[0;34m\"ingrese un numero\"\u001b[0m\u001b[0;34m)\u001b[0m\u001b[0;34m)\u001b[0m\u001b[0;34m\u001b[0m\u001b[0;34m\u001b[0m\u001b[0m\n\u001b[0m\u001b[1;32m      2\u001b[0m \u001b[0;34m\u001b[0m\u001b[0m\n\u001b[1;32m      3\u001b[0m \u001b[0;32mwhile\u001b[0m \u001b[0mn\u001b[0m\u001b[0;34m!=\u001b[0m\u001b[0mint\u001b[0m\u001b[0;34m:\u001b[0m\u001b[0;34m\u001b[0m\u001b[0;34m\u001b[0m\u001b[0m\n\u001b[1;32m      4\u001b[0m     \u001b[0mprint\u001b[0m\u001b[0;34m(\u001b[0m\u001b[0;34m\"Numero ingresado no es correcto, ingrese otro numero\"\u001b[0m\u001b[0;34m)\u001b[0m\u001b[0;34m\u001b[0m\u001b[0;34m\u001b[0m\u001b[0m\n\u001b[1;32m      5\u001b[0m     \u001b[0mn\u001b[0m\u001b[0;34m=\u001b[0m\u001b[0minput\u001b[0m\u001b[0;34m(\u001b[0m\u001b[0;34m)\u001b[0m\u001b[0;34m\u001b[0m\u001b[0;34m\u001b[0m\u001b[0m\n",
      "\u001b[0;31mValueError\u001b[0m: invalid literal for int() with base 10: 'f'"
     ]
    }
   ],
   "source": [
    "n=int(input(\"ingrese un numero\"))\n",
    "\n",
    "while n!=int:\n",
    "    print(\"Numero ingresado no es correcto, ingrese otro numero\")\n",
    "    n=input()\n",
    "else:\n",
    "    x=n\n",
    "    print(\"El valor obtenido es: \",x)"
   ]
  },
  {
   "cell_type": "code",
   "execution_count": 1,
   "id": "02f2af80",
   "metadata": {},
   "outputs": [
    {
     "name": "stdout",
     "output_type": "stream",
     "text": [
      "Introduce un número: 4\n",
      "El numero ingresado es: 4.0. Se procede a dividir 4.0/4 = 1.0\n"
     ]
    }
   ],
   "source": [
    "try:\n",
    "    n = float(input(\"Introduce un número: \"))\n",
    "    m = 4\n",
    "    print(\"El numero ingresado es: {}. Se procede a dividir {}/{} = {}\".format(n,n,m,n/m))\n",
    "except:\n",
    "    print(\"Ha ocurrido un error, introduce bien el número\")\n",
    "\n"
   ]
  },
  {
   "cell_type": "code",
   "execution_count": 2,
   "id": "a7c47855",
   "metadata": {},
   "outputs": [
    {
     "name": "stdout",
     "output_type": "stream",
     "text": [
      "Introduce un número: d\n",
      "Ha ocurrido un error, introduce bien el número\n",
      "Introduce un número: sdf\n",
      "Ha ocurrido un error, introduce bien el número\n",
      "Introduce un número: 5\n",
      "El numero ingresado es: 5.0. Se procede a dividir 5.0/4 = 1.25\n"
     ]
    }
   ],
   "source": [
    "while(True):\n",
    "    try:\n",
    "        n = float(input(\"Introduce un número: \"))\n",
    "        m = 4\n",
    "        print(\"El numero ingresado es: {}. Se procede a dividir {}/{} = {}\".format(n,n,m,n/m))\n",
    "        break\n",
    "    except:\n",
    "        print(\"Ha ocurrido un error, introduce bien el número\")\n",
    "\n"
   ]
  },
  {
   "cell_type": "code",
   "execution_count": 28,
   "id": "a65ac0b1",
   "metadata": {},
   "outputs": [
    {
     "name": "stdout",
     "output_type": "stream",
     "text": [
      "Por favor ingresa un numero impar: 4\n",
      "El número ingresado no es impar, por favor ingresar nuevamente un numero impar: 5\n",
      "El numero impar ingresado es:  5\n"
     ]
    }
   ],
   "source": [
    "numero=int(input(\"Por favor ingresa un numero impar: \"))\n",
    "while numero%2==0:\n",
    "    numero=int(input(\"El número ingresado no es impar, por favor ingresar nuevamente un numero impar: \"))\n",
    "else:\n",
    "    print(\"El numero impar ingresado es: \",numero)"
   ]
  },
  {
   "cell_type": "code",
   "execution_count": 1,
   "id": "5e384b27",
   "metadata": {},
   "outputs": [
    {
     "name": "stdout",
     "output_type": "stream",
     "text": [
      "hola \n",
      " mundo\n"
     ]
    }
   ],
   "source": [
    "print(\"hola \\n mundo\")"
   ]
  },
  {
   "cell_type": "code",
   "execution_count": 7,
   "id": "ab567c2f",
   "metadata": {},
   "outputs": [
    {
     "name": "stdout",
     "output_type": "stream",
     "text": [
      "Velocidad de vuelo de una golondrina\n",
      "f\n"
     ]
    },
    {
     "ename": "ValueError",
     "evalue": "invalid literal for int() with base 10: 'f'",
     "output_type": "error",
     "traceback": [
      "\u001b[0;31m---------------------------------------------------------------------------\u001b[0m",
      "\u001b[0;31mValueError\u001b[0m                                Traceback (most recent call last)",
      "\u001b[0;32m<ipython-input-7-009085201263>\u001b[0m in \u001b[0;36m<module>\u001b[0;34m\u001b[0m\n\u001b[1;32m      2\u001b[0m \u001b[0mvelocidad\u001b[0m\u001b[0;34m=\u001b[0m\u001b[0minput\u001b[0m\u001b[0;34m(\u001b[0m\u001b[0mprompt\u001b[0m\u001b[0;34m)\u001b[0m\u001b[0;34m\u001b[0m\u001b[0;34m\u001b[0m\u001b[0m\n\u001b[1;32m      3\u001b[0m \u001b[0;34m\u001b[0m\u001b[0m\n\u001b[0;32m----> 4\u001b[0;31m \u001b[0mint\u001b[0m\u001b[0;34m(\u001b[0m\u001b[0mvelocidad\u001b[0m\u001b[0;34m)\u001b[0m\u001b[0;34m\u001b[0m\u001b[0;34m\u001b[0m\u001b[0m\n\u001b[0m\u001b[1;32m      5\u001b[0m \u001b[0mint\u001b[0m\u001b[0;34m(\u001b[0m\u001b[0mvelocidad\u001b[0m\u001b[0;34m)\u001b[0m\u001b[0;34m+\u001b[0m\u001b[0;36m5\u001b[0m\u001b[0;34m\u001b[0m\u001b[0;34m\u001b[0m\u001b[0m\n",
      "\u001b[0;31mValueError\u001b[0m: invalid literal for int() with base 10: 'f'"
     ]
    }
   ],
   "source": [
    "prompt=\"Velocidad de vuelo de una golondrina\\n\"\n",
    "velocidad=input(prompt)\n",
    "\n",
    "int(velocidad)\n",
    "int(velocidad)+5"
   ]
  },
  {
   "cell_type": "code",
   "execution_count": 10,
   "id": "72c47d45",
   "metadata": {},
   "outputs": [
    {
     "name": "stdout",
     "output_type": "stream",
     "text": [
      "100.0\n"
     ]
    }
   ],
   "source": [
    "# calcula el porcentaje de hora transcurrido\n",
    "minuto=60\n",
    "porcentaje = (minuto * 100) / 60\n",
    "print(porcentaje)"
   ]
  },
  {
   "cell_type": "code",
   "execution_count": 12,
   "id": "c91dd8b9",
   "metadata": {},
   "outputs": [
    {
     "name": "stdout",
     "output_type": "stream",
     "text": [
      "hola\n",
      "mundo\n",
      "como\n",
      "estas\n"
     ]
    }
   ],
   "source": [
    "words=[\"hola\",\"mundo\",\"como\",\"estas\"]\n",
    "\n",
    "for word in words:\n",
    "    print(word)"
   ]
  },
  {
   "cell_type": "code",
   "execution_count": 13,
   "id": "0258c78c",
   "metadata": {},
   "outputs": [
    {
     "ename": "NameError",
     "evalue": "name 'principle' is not defined",
     "output_type": "error",
     "traceback": [
      "\u001b[0;31m---------------------------------------------------------------------------\u001b[0m",
      "\u001b[0;31mNameError\u001b[0m                                 Traceback (most recent call last)",
      "\u001b[0;32m<ipython-input-13-ef1d2898ed9d>\u001b[0m in \u001b[0;36m<module>\u001b[0;34m\u001b[0m\n\u001b[1;32m      2\u001b[0m \u001b[0;31m#Error de runtime error, usar variable antes de definir, o usarla mal\u001b[0m\u001b[0;34m\u001b[0m\u001b[0;34m\u001b[0m\u001b[0;34m\u001b[0m\u001b[0m\n\u001b[1;32m      3\u001b[0m \u001b[0mprincipal\u001b[0m \u001b[0;34m=\u001b[0m \u001b[0;36m327.68\u001b[0m\u001b[0;34m\u001b[0m\u001b[0;34m\u001b[0m\u001b[0m\n\u001b[0;32m----> 4\u001b[0;31m \u001b[0minterest\u001b[0m \u001b[0;34m=\u001b[0m \u001b[0mprinciple\u001b[0m \u001b[0;34m*\u001b[0m \u001b[0mrate\u001b[0m\u001b[0;34m\u001b[0m\u001b[0;34m\u001b[0m\u001b[0m\n\u001b[0m",
      "\u001b[0;31mNameError\u001b[0m: name 'principle' is not defined"
     ]
    }
   ],
   "source": [
    "#Depuracion de errores\n",
    "#Error de runtime error, usar variable antes de definir, o usarla mal\n",
    "principal = 327.68\n",
    "interest = principle * rate"
   ]
  },
  {
   "cell_type": "code",
   "execution_count": 14,
   "id": "e8659595",
   "metadata": {},
   "outputs": [
    {
     "name": "stdout",
     "output_type": "stream",
     "text": [
      "2\n",
      "Hola\n"
     ]
    }
   ],
   "source": [
    "#python es sensible a las mayuscula\n",
    "primero=2\n",
    "Primero=\"Hola\"\n",
    "\n",
    "print(primero)\n",
    "print(Primero)"
   ]
  },
  {
   "cell_type": "code",
   "execution_count": 17,
   "id": "25ae1bea",
   "metadata": {},
   "outputs": [
    {
     "data": {
      "text/plain": [
       "1.5712965"
      ]
     },
     "execution_count": 17,
     "metadata": {},
     "output_type": "execute_result"
    }
   ],
   "source": [
    "pi=3.142593\n",
    "1.0 / 2.0 * pi"
   ]
  },
  {
   "cell_type": "code",
   "execution_count": 18,
   "id": "bb0a217a",
   "metadata": {},
   "outputs": [
    {
     "data": {
      "text/plain": [
       "0.1591042810825328"
      ]
     },
     "execution_count": 18,
     "metadata": {},
     "output_type": "execute_result"
    }
   ],
   "source": [
    "pi=3.142593\n",
    "1.0 /(2.0 * pi)"
   ]
  },
  {
   "cell_type": "code",
   "execution_count": 20,
   "id": "35add9f9",
   "metadata": {},
   "outputs": [
    {
     "name": "stdout",
     "output_type": "stream",
     "text": [
      "0\n"
     ]
    },
    {
     "data": {
      "text/plain": [
       "0.6666666666666666"
      ]
     },
     "execution_count": 20,
     "metadata": {},
     "output_type": "execute_result"
    }
   ],
   "source": [
    "#division entera\n",
    "print(2//3)\n",
    "#division normal\n",
    "2/3"
   ]
  },
  {
   "cell_type": "code",
   "execution_count": 23,
   "id": "c9bb8375",
   "metadata": {},
   "outputs": [
    {
     "name": "stdout",
     "output_type": "stream",
     "text": [
      "1.3333333333333333\n",
      "1\n",
      "1.5\n"
     ]
    }
   ],
   "source": [
    "#modulo\n",
    "print(4/3)\n",
    "print(4%3)\n",
    "print(4.5%3)"
   ]
  },
  {
   "cell_type": "code",
   "execution_count": 24,
   "id": "c14d6aca",
   "metadata": {},
   "outputs": [
    {
     "name": "stdout",
     "output_type": "stream",
     "text": [
      "134\n"
     ]
    }
   ],
   "source": [
    "x=134.234324\n",
    "print(round(x))"
   ]
  },
  {
   "cell_type": "code",
   "execution_count": 28,
   "id": "686a8628",
   "metadata": {},
   "outputs": [
    {
     "name": "stdout",
     "output_type": "stream",
     "text": [
      "True\n",
      "False\n"
     ]
    },
    {
     "data": {
      "text/plain": [
       "bool"
      ]
     },
     "execution_count": 28,
     "metadata": {},
     "output_type": "execute_result"
    }
   ],
   "source": [
    "#expresion boleana\n",
    "print(5==5)\n",
    "print(5==6)\n",
    "\n",
    "type(True)\n",
    "type(False)"
   ]
  },
  {
   "cell_type": "code",
   "execution_count": 55,
   "id": "fdb5e8f9",
   "metadata": {},
   "outputs": [
    {
     "data": {
      "text/plain": [
       "True"
      ]
     },
     "execution_count": 55,
     "metadata": {},
     "output_type": "execute_result"
    }
   ],
   "source": [
    "17 and True"
   ]
  },
  {
   "cell_type": "code",
   "execution_count": 54,
   "id": "aabc4a70",
   "metadata": {},
   "outputs": [
    {
     "name": "stdout",
     "output_type": "stream",
     "text": [
      "introduce un numero entero entre 0 y 10: \n",
      "45\n",
      "El número ingresado no es correcto\n",
      "introduce un numero entero entre 0 y 10: \n",
      "23\n",
      "El número ingresado no es correcto\n",
      "introduce un numero entero entre 0 y 10: \n",
      "24\n",
      "El número ingresado no es correcto\n",
      "introduce un numero entero entre 0 y 10: \n",
      "34\n",
      "El número ingresado no es correcto\n",
      "introduce un numero entero entre 0 y 10: \n",
      "5\n",
      "El  numero ingresado es:  5\n"
     ]
    }
   ],
   "source": [
    "x=int(input(\"introduce un numero entero entre 0 y 10: \\n\"))\n",
    "while x<0 or x>9:\n",
    "    print(\"El número ingresado no es correcto\")\n",
    "    x=int(input(\"introduce un numero entero entre 0 y 10: \\n\"))\n",
    "print(\"El  numero ingresado es: \",x)"
   ]
  },
  {
   "cell_type": "code",
   "execution_count": 56,
   "id": "c5464985",
   "metadata": {},
   "outputs": [
    {
     "name": "stdout",
     "output_type": "stream",
     "text": [
      "pequeño\n"
     ]
    }
   ],
   "source": [
    "#Condicionales if\n",
    "\n",
    "x=3\n",
    "if x<10:\n",
    "    print(\"pequeño\")"
   ]
  },
  {
   "cell_type": "code",
   "execution_count": 58,
   "id": "fa2f0c78",
   "metadata": {},
   "outputs": [
    {
     "name": "stdout",
     "output_type": "stream",
     "text": [
      "pequeño\n",
      "hecho\n"
     ]
    }
   ],
   "source": [
    "x=3\n",
    "if x<10:\n",
    "    print(\"pequeño\")\n",
    "\n",
    "    #se recomienda dejar un espacio despues de una sentencia de codigo\n",
    "print(\"hecho\")"
   ]
  },
  {
   "cell_type": "code",
   "execution_count": 60,
   "id": "8101034f",
   "metadata": {},
   "outputs": [
    {
     "name": "stdout",
     "output_type": "stream",
     "text": [
      "3  es impar\n"
     ]
    }
   ],
   "source": [
    "# condicion if alternativa\n",
    "if x%2==0:\n",
    "    print(x,' es par')\n",
    "else:\n",
    "    print(x,\" es impar\")"
   ]
  },
  {
   "cell_type": "code",
   "execution_count": 64,
   "id": "f01c7f14",
   "metadata": {},
   "outputs": [
    {
     "name": "stdout",
     "output_type": "stream",
     "text": [
      "x e y son iguales\n"
     ]
    }
   ],
   "source": [
    "#condicion encadenada\n",
    "y=3\n",
    "if x < y:\n",
    "    print('x es menor que y')\n",
    "elif x > y:\n",
    "    print('x es mayor que y')\n",
    "else:\n",
    "    print('x e y son iguales')"
   ]
  },
  {
   "cell_type": "code",
   "execution_count": 75,
   "id": "8f93231a",
   "metadata": {},
   "outputs": [
    {
     "name": "stdout",
     "output_type": "stream",
     "text": [
      "x es menor que y\n"
     ]
    }
   ],
   "source": [
    "x=3\n",
    "y=6\n",
    "if x == y:\n",
    "    print('x e y son iguales')\n",
    "else:\n",
    "    if x < y:\n",
    "        print('x es menor que y')\n",
    "    else:\n",
    "        print('x es mayor que y')"
   ]
  },
  {
   "cell_type": "code",
   "execution_count": 69,
   "id": "50bc9a87",
   "metadata": {},
   "outputs": [
    {
     "name": "stdout",
     "output_type": "stream",
     "text": [
      "elige una acciónasds\n",
      "Opcion incorrecta\n"
     ]
    }
   ],
   "source": [
    "choice=input(\"elige una acción\")\n",
    "if choice == 'a':\n",
    "    print('Respuesta incorrecta')\n",
    "elif choice == 'b':\n",
    "    print('Respuesta correcta')\n",
    "elif choice == 'c':\n",
    "    print('Casi, pero no es correcto')\n",
    "else:\n",
    "    print(\"Opcion incorrecta\")"
   ]
  },
  {
   "cell_type": "code",
   "execution_count": 94,
   "id": "1dc09b40",
   "metadata": {},
   "outputs": [
    {
     "name": "stdout",
     "output_type": "stream",
     "text": [
      "x es un número positivo con un sólo dígito.\n"
     ]
    }
   ],
   "source": [
    "x=1\n",
    "if 0 < x:\n",
    "    if x < 10:\n",
    "        print('x es un número positivo con un sólo dígito.')\n",
    "else: \n",
    "    print(\"Numero negativo\")"
   ]
  },
  {
   "cell_type": "code",
   "execution_count": 102,
   "id": "df733929",
   "metadata": {},
   "outputs": [
    {
     "name": "stdout",
     "output_type": "stream",
     "text": [
      "Numero negativo\n"
     ]
    }
   ],
   "source": [
    "#Codicion anidada simplicada en una solo condicion\n",
    "x=0\n",
    "if 0 < x and x < 10:\n",
    "        print('x es un número positivo con un sólo dígito.')\n",
    "elif x>=10:\n",
    "    print(\"Numero positivo de dos digitos\")\n",
    "else: \n",
    "    print(\"Numero negativo\")"
   ]
  },
  {
   "cell_type": "code",
   "execution_count": 104,
   "id": "8d0a6d4a",
   "metadata": {},
   "outputs": [
    {
     "name": "stdout",
     "output_type": "stream",
     "text": [
      "Introduzca la Temperatura Fahrenheit:dfd\n"
     ]
    },
    {
     "ename": "ValueError",
     "evalue": "could not convert string to float: 'dfd'",
     "output_type": "error",
     "traceback": [
      "\u001b[0;31m---------------------------------------------------------------------------\u001b[0m",
      "\u001b[0;31mValueError\u001b[0m                                Traceback (most recent call last)",
      "\u001b[0;32m<ipython-input-104-7cb5b71361bf>\u001b[0m in \u001b[0;36m<module>\u001b[0;34m\u001b[0m\n\u001b[1;32m      1\u001b[0m \u001b[0ment\u001b[0m \u001b[0;34m=\u001b[0m \u001b[0minput\u001b[0m\u001b[0;34m(\u001b[0m\u001b[0;34m'Introduzca la Temperatura Fahrenheit:'\u001b[0m\u001b[0;34m)\u001b[0m\u001b[0;34m\u001b[0m\u001b[0;34m\u001b[0m\u001b[0m\n\u001b[0;32m----> 2\u001b[0;31m \u001b[0mfahr\u001b[0m \u001b[0;34m=\u001b[0m \u001b[0mfloat\u001b[0m\u001b[0;34m(\u001b[0m\u001b[0ment\u001b[0m\u001b[0;34m)\u001b[0m\u001b[0;34m\u001b[0m\u001b[0;34m\u001b[0m\u001b[0m\n\u001b[0m\u001b[1;32m      3\u001b[0m \u001b[0mcel\u001b[0m \u001b[0;34m=\u001b[0m \u001b[0;34m(\u001b[0m\u001b[0mfahr\u001b[0m \u001b[0;34m-\u001b[0m \u001b[0;36m32.0\u001b[0m\u001b[0;34m)\u001b[0m \u001b[0;34m*\u001b[0m \u001b[0;36m5.0\u001b[0m \u001b[0;34m/\u001b[0m \u001b[0;36m9.0\u001b[0m\u001b[0;34m\u001b[0m\u001b[0;34m\u001b[0m\u001b[0m\n\u001b[1;32m      4\u001b[0m \u001b[0mprint\u001b[0m\u001b[0;34m(\u001b[0m\u001b[0mcel\u001b[0m\u001b[0;34m)\u001b[0m\u001b[0;34m\u001b[0m\u001b[0;34m\u001b[0m\u001b[0m\n",
      "\u001b[0;31mValueError\u001b[0m: could not convert string to float: 'dfd'"
     ]
    }
   ],
   "source": [
    "ent = input('Introduzca la Temperatura Fahrenheit:')\n",
    "fahr = float(ent)\n",
    "cel = (fahr - 32.0) * 5.0 / 9.0\n",
    "print(cel)"
   ]
  },
  {
   "cell_type": "code",
   "execution_count": 112,
   "id": "5f2d6f22",
   "metadata": {},
   "outputs": [
    {
     "name": "stdout",
     "output_type": "stream",
     "text": [
      "Introduzca la Temperatura Fahrenheit:12\n",
      "-11.11111111111111\n"
     ]
    }
   ],
   "source": [
    "#Manejo de errores excepciones\n",
    "ent = input('Introduzca la Temperatura Fahrenheit:')\n",
    "try:\n",
    "    fahr = float(ent)\n",
    "    cel = (fahr - 32.0) * 5.0 / 9.0\n",
    "    print(cel)\n",
    "except:\n",
    "    print('Por favor, introduzca un número')"
   ]
  },
  {
   "cell_type": "code",
   "execution_count": 158,
   "id": "642de562",
   "metadata": {},
   "outputs": [
    {
     "name": "stdout",
     "output_type": "stream",
     "text": [
      "Introduzca la Temperatura Fahrenheit:df\n",
      "Por favor, introduzca un númerods\n",
      "Por favor, introduzca un número4\n",
      "-15.555555555555555\n"
     ]
    }
   ],
   "source": [
    "#Manejo de errores excepciones\n",
    "ent = input('Introduzca la Temperatura Fahrenheit:')\n",
    "while(True):\n",
    "    try:\n",
    "        fahr = float(ent)\n",
    "        cel = (fahr - 32.0) * 5.0 / 9.0\n",
    "        print(cel)\n",
    "        break\n",
    "    except:\n",
    "        ent=input('Por favor, introduzca un número')"
   ]
  },
  {
   "cell_type": "code",
   "execution_count": 114,
   "id": "74bc4736",
   "metadata": {},
   "outputs": [
    {
     "data": {
      "text/plain": [
       "True"
      ]
     },
     "execution_count": 114,
     "metadata": {},
     "output_type": "execute_result"
    }
   ],
   "source": [
    "#Cortocircuitar evaluacion condiciones logicas\n",
    "#Ambas condiciones se cumplen\n",
    "x = 6\n",
    "y = 2\n",
    "x >= 2 and (x/y) > 2\n",
    "\n"
   ]
  },
  {
   "cell_type": "code",
   "execution_count": null,
   "id": "11c60441",
   "metadata": {},
   "outputs": [],
   "source": [
    "# Una condicion no se cumple, en este caso la segunda\n",
    "x = 1\n",
    "y = 0\n",
    "x >= 2 and (x/y) > 2"
   ]
  },
  {
   "cell_type": "code",
   "execution_count": 117,
   "id": "eb8ea792",
   "metadata": {},
   "outputs": [
    {
     "ename": "ZeroDivisionError",
     "evalue": "division by zero",
     "output_type": "error",
     "traceback": [
      "\u001b[0;31m---------------------------------------------------------------------------\u001b[0m",
      "\u001b[0;31mZeroDivisionError\u001b[0m                         Traceback (most recent call last)",
      "\u001b[0;32m<ipython-input-117-43a82c4c87c1>\u001b[0m in \u001b[0;36m<module>\u001b[0;34m\u001b[0m\n\u001b[1;32m      1\u001b[0m \u001b[0mx\u001b[0m \u001b[0;34m=\u001b[0m \u001b[0;36m6\u001b[0m\u001b[0;34m\u001b[0m\u001b[0;34m\u001b[0m\u001b[0m\n\u001b[1;32m      2\u001b[0m \u001b[0my\u001b[0m \u001b[0;34m=\u001b[0m \u001b[0;36m0\u001b[0m\u001b[0;34m\u001b[0m\u001b[0;34m\u001b[0m\u001b[0m\n\u001b[0;32m----> 3\u001b[0;31m \u001b[0mx\u001b[0m \u001b[0;34m>=\u001b[0m \u001b[0;36m2\u001b[0m \u001b[0;32mand\u001b[0m \u001b[0;34m(\u001b[0m\u001b[0mx\u001b[0m\u001b[0;34m/\u001b[0m\u001b[0my\u001b[0m\u001b[0;34m)\u001b[0m \u001b[0;34m>\u001b[0m \u001b[0;36m2\u001b[0m\u001b[0;34m\u001b[0m\u001b[0;34m\u001b[0m\u001b[0m\n\u001b[0m",
      "\u001b[0;31mZeroDivisionError\u001b[0m: division by zero"
     ]
    }
   ],
   "source": [
    "x = 6\n",
    "y = 0\n",
    "x >= 2 and (x/y) > 2"
   ]
  },
  {
   "cell_type": "code",
   "execution_count": 118,
   "id": "9eca03fa",
   "metadata": {},
   "outputs": [
    {
     "data": {
      "text/plain": [
       "False"
      ]
     },
     "execution_count": 118,
     "metadata": {},
     "output_type": "execute_result"
    }
   ],
   "source": [
    "# Funcion con guardian que se ejecuta antes de evaluar un error \n",
    "x=1\n",
    "y=0\n",
    "x>=2 and y!=0 and (x/y)>2"
   ]
  },
  {
   "cell_type": "code",
   "execution_count": null,
   "id": "b932b142",
   "metadata": {},
   "outputs": [],
   "source": [
    "x=6\n",
    "y=0\n",
    "x>=2 and y!=0 and (x/y)>2"
   ]
  },
  {
   "cell_type": "code",
   "execution_count": 120,
   "id": "dd13858c",
   "metadata": {},
   "outputs": [
    {
     "ename": "ZeroDivisionError",
     "evalue": "division by zero",
     "output_type": "error",
     "traceback": [
      "\u001b[0;31m---------------------------------------------------------------------------\u001b[0m",
      "\u001b[0;31mZeroDivisionError\u001b[0m                         Traceback (most recent call last)",
      "\u001b[0;32m<ipython-input-120-7acce40fba67>\u001b[0m in \u001b[0;36m<module>\u001b[0;34m\u001b[0m\n\u001b[0;32m----> 1\u001b[0;31m \u001b[0mx\u001b[0m\u001b[0;34m>=\u001b[0m\u001b[0;36m2\u001b[0m \u001b[0;32mand\u001b[0m \u001b[0;34m(\u001b[0m\u001b[0mx\u001b[0m\u001b[0;34m/\u001b[0m\u001b[0my\u001b[0m\u001b[0;34m)\u001b[0m\u001b[0;34m>\u001b[0m\u001b[0;36m2\u001b[0m \u001b[0;32mand\u001b[0m \u001b[0my\u001b[0m\u001b[0;34m!=\u001b[0m\u001b[0;36m0\u001b[0m\u001b[0;34m\u001b[0m\u001b[0;34m\u001b[0m\u001b[0m\n\u001b[0m",
      "\u001b[0;31mZeroDivisionError\u001b[0m: division by zero"
     ]
    }
   ],
   "source": [
    "x>=2 and (x/y)>2 and y!=0"
   ]
  },
  {
   "cell_type": "code",
   "execution_count": 121,
   "id": "dfb1caa8",
   "metadata": {},
   "outputs": [
    {
     "ename": "IndentationError",
     "evalue": "unexpected indent (<ipython-input-121-4e7ae31a6103>, line 3)",
     "output_type": "error",
     "traceback": [
      "\u001b[0;36m  File \u001b[0;32m\"<ipython-input-121-4e7ae31a6103>\"\u001b[0;36m, line \u001b[0;32m3\u001b[0m\n\u001b[0;31m    y=0\u001b[0m\n\u001b[0m    ^\u001b[0m\n\u001b[0;31mIndentationError\u001b[0m\u001b[0;31m:\u001b[0m unexpected indent\n"
     ]
    }
   ],
   "source": [
    "# Error de identacion\n",
    "x=1\n",
    " y=0"
   ]
  },
  {
   "cell_type": "code",
   "execution_count": 127,
   "id": "2e801f2e",
   "metadata": {},
   "outputs": [
    {
     "name": "stdout",
     "output_type": "stream",
     "text": [
      "-0.4575749056067512\n"
     ]
    }
   ],
   "source": [
    "# Supón que estás tratando de calcular una relación señal-ruido en decibelios. \n",
    "# La fórmula es SN R db = 10 log 10 (P senal /P ruido ). En Python, podrías escribir algo como esto:\n",
    "import math\n",
    "int_senal = 9\n",
    "int_ruido = 10\n",
    "relacion = int_senal / int_ruido\n",
    "decibelios = 10 * math.log10(relacion)\n",
    "print(decibelios)"
   ]
  },
  {
   "cell_type": "code",
   "execution_count": 129,
   "id": "c8bb51bf",
   "metadata": {},
   "outputs": [
    {
     "name": "stdout",
     "output_type": "stream",
     "text": [
      "9.542425094393248\n"
     ]
    }
   ],
   "source": [
    "# Supón que estás tratando de calcular una relación señal-ruido en decibelios. \n",
    "# La fórmula es SN R db = 10 log 10 (P senal /P ruido ). En Python, podrías escribir algo como esto:\n",
    "import math\n",
    "int_senal = 0.9\n",
    "int_ruido = 0.1\n",
    "relacion = int_senal / int_ruido\n",
    "decibelios = 10 * math.log10(relacion)\n",
    "print(decibelios)"
   ]
  },
  {
   "cell_type": "code",
   "execution_count": 143,
   "id": "86d853c6",
   "metadata": {
    "scrolled": true
   },
   "outputs": [
    {
     "name": "stdout",
     "output_type": "stream",
     "text": [
      "Introduce las horas45\n",
      "introduce tarifa por horas10\n",
      "No puedes exceder 40 horas laborales, introduce nuevamente las horas12\n",
      "Tu salario es:  120\n"
     ]
    }
   ],
   "source": [
    "# Reescribe el programa del cálculo del salario para darle al empleado\n",
    "# 1.5 veces la tarifa horaria para todas las horas trabajadas que excedan de 40.\n",
    "\n",
    "horas=int(input(\"Introduce las horas\"))\n",
    "t_horas=int(input(\"introduce tarifa por horas\"))\n",
    "while horas>40:\n",
    "    horas=int(input(\"No puedes exceder 40 horas laborales, introduce nuevamente las horas\"))\n",
    "    \n",
    "salario=horas*t_horas\n",
    "print(\"Tu salario es: \",salario)\n"
   ]
  },
  {
   "cell_type": "code",
   "execution_count": 152,
   "id": "f8c70d4e",
   "metadata": {},
   "outputs": [
    {
     "name": "stdout",
     "output_type": "stream",
     "text": [
      "Introduce las horas45\n",
      "introduce tarifa por horas10\n",
      "No puedes exceder 40 horas laborales, introduce nuevamente las horas45\n",
      "No puedes exceder 40 horas laborales, introduce nuevamente las horas45\n",
      "No puedes exceder 40 horas laborales, introduce nuevamente las horas45\n",
      "No puedes exceder 40 horas laborales, introduce nuevamente las horas40\n",
      "40.0\n",
      "Tu salario es:  400.0\n"
     ]
    }
   ],
   "source": [
    "horas=input(\"Introduce las horas\")\n",
    "t_horas=float(input(\"introduce tarifa por horas\"))\n",
    "hour=float(horas)\n",
    "while hour>40:\n",
    "    hour=float(input(\"No puedes exceder 40 horas laborales, introduce nuevamente las horas\"))\n",
    "else:\n",
    "    print(hour)\n",
    "    salario=hour*t_horas\n",
    "    print(\"Tu salario es: \",salario)"
   ]
  },
  {
   "cell_type": "code",
   "execution_count": 161,
   "id": "e448e9b0",
   "metadata": {},
   "outputs": [
    {
     "name": "stdout",
     "output_type": "stream",
     "text": [
      "Introduce las horasfdgfg\n",
      "introduce tarifa por horas10\n",
      "Error, por favor introduce el numero de horas40\n",
      "Error, por favor introduce tarifa por horas20\n",
      "Tu salario es:  800.0\n"
     ]
    }
   ],
   "source": [
    "# Reescribe el programa del cálculo del salario para darle al empleado\n",
    "# 1.5 veces la tarifa horaria para todas las horas trabajadas que excedan de 40. Utilice try y except\n",
    "\n",
    "horas=input(\"Introduce las horas\")\n",
    "t_horas=input(\"introduce tarifa por horas\")\n",
    "while(True):\n",
    "    try:\n",
    "        hour=float(horas)\n",
    "        t_hour=float(t_horas)\n",
    "        while hour>40:\n",
    "            hour=float(input(\"No puedes exceder 40 horas laborales, introduce nuevamente las horas\"))\n",
    "        else:\n",
    "            salario=hour*t_hour\n",
    "            print(\"Tu salario es: \",salario)\n",
    "            break\n",
    "    except:\n",
    "        horas=input(\"Error, por favor introduce el numero de horas\")\n",
    "        t_horas=input(\"Error, por favor introduce tarifa por horas\")\n"
   ]
  },
  {
   "cell_type": "code",
   "execution_count": 2,
   "id": "5b0a5a0a",
   "metadata": {},
   "outputs": [
    {
     "name": "stdout",
     "output_type": "stream",
     "text": [
      "Ingresa tu nota: 45\n",
      "Sobresaliente\n"
     ]
    }
   ],
   "source": [
    "nota=float(input(\"Ingresa tu nota: \"))\n",
    "if nota>=0.9:\n",
    "    print(\"Sobresaliente\")\n",
    "elif nota>=0.8:\n",
    "    print(\"Notable\")\n",
    "elif nota>=0.7:\n",
    "    print(\"bien\")\n",
    "elif nota>=0.6:\n",
    "    print(\"Suficiente\")\n",
    "elif  nota<0.6:\n",
    "    print(\"Insuficiente\")"
   ]
  },
  {
   "cell_type": "code",
   "execution_count": 19,
   "id": "e44349a4",
   "metadata": {},
   "outputs": [
    {
     "name": "stdout",
     "output_type": "stream",
     "text": [
      "Puedes encender el carro\n",
      "8000\n",
      "Puedes volver a viajar\n",
      "7000\n"
     ]
    }
   ],
   "source": [
    "#\n",
    "# Inicio\n",
    "# Verificar que el carro tiene gasolina\n",
    "# SI tiene gasolina\n",
    "#     Encender el carro\n",
    "#     Viajar\n",
    "#     Parar\n",
    "\n",
    "# No tiene gasolina\n",
    "#     Tengo ir a una bomba\n",
    "#     Comprar la gasolina\n",
    "#     Llenar el tanque del carro con la gasolina\n",
    "#     encender el carro\n",
    "#     viajar\n",
    "#     para\n",
    "\n",
    "x=9000\n",
    "if x>0:\n",
    "    print(\"Puedes encender el carro\")\n",
    "    x=x-1000\n",
    "    print(x)\n",
    "    if x>0:\n",
    "        print(\"Puedes volver a viajar\")\n",
    "        x=x-1000\n",
    "        print(x)\n",
    "else:\n",
    "    print(\"El carro no tiene gasolina\")"
   ]
  },
  {
   "cell_type": "code",
   "execution_count": 21,
   "id": "5b96eab6",
   "metadata": {},
   "outputs": [
    {
     "name": "stdout",
     "output_type": "stream",
     "text": [
      "3\n"
     ]
    }
   ],
   "source": [
    "z=1\n",
    "x=2\n",
    "c=z+x\n",
    "print(c)"
   ]
  },
  {
   "cell_type": "code",
   "execution_count": 24,
   "id": "f0893e03",
   "metadata": {},
   "outputs": [
    {
     "name": "stdout",
     "output_type": "stream",
     "text": [
      "Ingrese el cateto 1: 3\n",
      "Ingrese el cateto 2: 4\n",
      "9\n",
      "16\n",
      "Hipotenusa\n",
      "5.0\n",
      "Final del programa\n"
     ]
    }
   ],
   "source": [
    "import math\n",
    "cat1=int(input(\"Ingrese el cateto 1: \"))\n",
    "cat2=int(input(\"Ingrese el cateto 2: \"))\n",
    "\n",
    "cateto1=cat1**2\n",
    "cateto2=cat2**2\n",
    "print(cateto1)\n",
    "print(cateto2)\n",
    "precondicion=cateto1+cateto2\n",
    "\n",
    "print(\"Hipotenusa\")\n",
    "\n",
    "hip=math.sqrt(precondicion)\n",
    "print(hip)\n",
    "print(\"Final del programa\")"
   ]
  },
  {
   "cell_type": "code",
   "execution_count": 32,
   "id": "23d6eeeb",
   "metadata": {},
   "outputs": [
    {
     "name": "stdout",
     "output_type": "stream",
     "text": [
      "Realice un giro de 90 grados\n",
      "Realice un giro de 90 grados\n"
     ]
    }
   ],
   "source": [
    "x=10\n",
    "def valores(x):\n",
    "    if x==10:\n",
    "        print(\"Realice un giro de 90 grados\")\n",
    "\n",
    "valores(x)\n",
    "valores(x)\n"
   ]
  },
  {
   "cell_type": "markdown",
   "id": "c3f43f69",
   "metadata": {},
   "source": [
    "1) Se desea calcular la distancia recorrida en metros por un automóvil que tiene una velocidad constante (m/s) durante un tiempo T(seg), considerar que es un movimiento rectilíneo uniforme (MRU)\n",
    "\n",
    "Inicio\n",
    "|______________|\n",
    "A              B\n",
    "\n",
    "Distancia=Velocidad*Tiempo\n",
    "Entrada: Velocidad, tiempo\n",
    "Salida: Distancia\n",
    "\n",
    "Inicio\n",
    "    Solicitar velocidad\n",
    "    Solicitar Tiempo\n",
    "    Procesamiento_datos=> Dist=V*T\n",
    "    Mostrar_resultado\n",
    "Fin "
   ]
  },
  {
   "cell_type": "code",
   "execution_count": 35,
   "id": "62488ec6",
   "metadata": {},
   "outputs": [
    {
     "name": "stdout",
     "output_type": "stream",
     "text": [
      "Inicio\n",
      "Ingrese la velocidad del vehiculo: 4\n",
      "Ingrese el tiempo para recorrer una distancia : 5\n",
      "La distancia recorrida es:  20.0\n",
      "Fin\n"
     ]
    }
   ],
   "source": [
    "print(\"Inicio\")\n",
    "velocidad=float(input(\"Ingrese la velocidad del vehiculo: \"))\n",
    "tiempo=float(input(\"Ingrese el tiempo para recorrer una distancia : \"))\n",
    "\n",
    "Distancia=velocidad*tiempo\n",
    "\n",
    "print(\"La distancia recorrida es: \",Distancia)\n",
    "print(\"Fin\")"
   ]
  },
  {
   "cell_type": "code",
   "execution_count": 48,
   "id": "1cd69717",
   "metadata": {},
   "outputs": [
    {
     "name": "stdout",
     "output_type": "stream",
     "text": [
      "12\n",
      "3.3333333333333335\n",
      "3.6666666666666665\n",
      "3.6666666666666665\n",
      "14\n"
     ]
    }
   ],
   "source": [
    "# Obtener el promedio simple de un estudiante a partir de 3 notas parciales\n",
    "def prom(a,b,c):\n",
    "    calculo=a+b+c\n",
    "    promedio=calculo/3\n",
    "    return promedio\n",
    "\n",
    "def promo(a,b,c):\n",
    "    calculo=a+b+c\n",
    "    promedio=calculo\n",
    "    return promedio\n",
    "\n",
    "sumanotas=promo(1,5,6)\n",
    "print(sumanotas)\n",
    "\n",
    "est1=prom(2,5,3)\n",
    "print(est1)\n",
    "est2=prom(4,5,2)\n",
    "print(est2)\n",
    "\n",
    "est3=prom(4,5,2)\n",
    "print(est3)\n",
    "\n",
    "sumanota=promo(3,5,6)\n",
    "print(sumanota)\n"
   ]
  },
  {
   "cell_type": "code",
   "execution_count": 44,
   "id": "a0090b3d",
   "metadata": {},
   "outputs": [
    {
     "name": "stdout",
     "output_type": "stream",
     "text": [
      "2.3333333333333335\n",
      "4.2\n",
      "4.2\n"
     ]
    }
   ],
   "source": [
    "calculo=2+4+1\n",
    "promedio=calculo/3\n",
    "print(promedio)\n",
    "\n",
    "calculo=4+5+3.6\n",
    "promedio=calculo/3\n",
    "print(promedio)\n",
    "\n",
    "calculo=4+5+3.6\n",
    "promedio=calculo/3\n",
    "print(promedio)"
   ]
  }
 ],
 "metadata": {
  "kernelspec": {
   "display_name": "Python 3",
   "language": "python",
   "name": "python3"
  },
  "language_info": {
   "codemirror_mode": {
    "name": "ipython",
    "version": 3
   },
   "file_extension": ".py",
   "mimetype": "text/x-python",
   "name": "python",
   "nbconvert_exporter": "python",
   "pygments_lexer": "ipython3",
   "version": "3.9.1"
  }
 },
 "nbformat": 4,
 "nbformat_minor": 5
}
