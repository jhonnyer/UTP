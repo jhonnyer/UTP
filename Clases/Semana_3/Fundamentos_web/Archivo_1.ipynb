{
 "cells": [
  {
   "cell_type": "markdown",
   "id": "d4728d0d",
   "metadata": {},
   "source": [
    "# Titulo \n",
    "\n",
    "## Subtitulo 1\n",
    "\n",
    "Hola mundo"
   ]
  },
  {
   "cell_type": "markdown",
   "id": "bcab099a",
   "metadata": {},
   "source": [
    "# Titulo 2\n",
    "\n",
    "Viajero del futuro"
   ]
  },
  {
   "cell_type": "markdown",
   "id": "615b40ac",
   "metadata": {},
   "source": [
    "* Punto 1\n",
    "* Punto 2\n",
    "    * Punto a\n",
    "\n",
    "1. Jhonnyer\n",
    "2. Isabela\n",
    "\n",
    "**Texto negrita**\n",
    "\n",
    "*Texto cursiva o italica*"
   ]
  },
  {
   "cell_type": "markdown",
   "id": "49d0d0c2",
   "metadata": {},
   "source": [
    "# Codigo latex\n",
    "$\\int_0^\\infty x^{-1}dx$"
   ]
  },
  {
   "cell_type": "markdown",
   "id": "c6861fdb",
   "metadata": {},
   "source": [
    "| Radioisótopo | Nombre | Semiperíodo |\n",
    "| :---: | :--- | ---: |\n",
    "| Tc-99m | Tecnecio | 6.02 horas |\n",
    "| Y-133 | Yodo | 8.02 días |\n",
    "| Columna centrada | Alineación izquierda | Alineación derecha |\n",
    "\n",
    "\n",
    "Enlaces\n",
    "Enlace de python \n",
    "\n",
    "\n",
    "Python:\n",
    "[python](https://www.python.org/)"
   ]
  },
  {
   "cell_type": "code",
   "execution_count": 1,
   "id": "019770d6",
   "metadata": {},
   "outputs": [
    {
     "name": "stdout",
     "output_type": "stream",
     "text": [
      "Hola mundo\n"
     ]
    }
   ],
   "source": [
    "print(\"Hola mundo\")"
   ]
  },
  {
   "cell_type": "markdown",
   "id": "34ff4d21",
   "metadata": {},
   "source": [
    "![image](https://www.adslzone.net/app/uploads-adslzone.net/2019/04/borrar-fondo-imagen.jpg)"
   ]
  },
  {
   "cell_type": "code",
   "execution_count": null,
   "id": "b426ae99",
   "metadata": {},
   "outputs": [],
   "source": []
  }
 ],
 "metadata": {
  "kernelspec": {
   "display_name": "Python 3",
   "language": "python",
   "name": "python3"
  },
  "language_info": {
   "codemirror_mode": {
    "name": "ipython",
    "version": 3
   },
   "file_extension": ".py",
   "mimetype": "text/x-python",
   "name": "python",
   "nbconvert_exporter": "python",
   "pygments_lexer": "ipython3",
   "version": "3.9.1"
  },
  "widgets": {
   "application/vnd.jupyter.widget-state+json": {
    "state": {},
    "version_major": 2,
    "version_minor": 0
   }
  }
 },
 "nbformat": 4,
 "nbformat_minor": 5
}
