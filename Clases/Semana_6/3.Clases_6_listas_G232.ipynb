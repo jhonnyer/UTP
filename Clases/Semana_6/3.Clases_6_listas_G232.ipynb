{
 "cells": [
  {
   "cell_type": "code",
   "execution_count": 2,
   "id": "836febc0",
   "metadata": {},
   "outputs": [
    {
     "name": "stdout",
     "output_type": "stream",
     "text": [
      "[1, 2.3, 'DevCode', [5, 6], 4, True]\n",
      "<class 'list'>\n"
     ]
    }
   ],
   "source": [
    "lista=[1,2.3,'DevCode',[5,6],4,True]\n",
    "print(lista)\n",
    "print(type(lista))"
   ]
  },
  {
   "cell_type": "code",
   "execution_count": 3,
   "id": "a08d336d",
   "metadata": {},
   "outputs": [
    {
     "data": {
      "text/plain": [
       "2.3"
      ]
     },
     "execution_count": 3,
     "metadata": {},
     "output_type": "execute_result"
    }
   ],
   "source": [
    "lista[1]"
   ]
  },
  {
   "cell_type": "code",
   "execution_count": 5,
   "id": "6596847c",
   "metadata": {},
   "outputs": [
    {
     "data": {
      "text/plain": [
       "6"
      ]
     },
     "execution_count": 5,
     "metadata": {},
     "output_type": "execute_result"
    }
   ],
   "source": [
    "lista[3][1]"
   ]
  },
  {
   "cell_type": "code",
   "execution_count": 6,
   "id": "6bde1cbf",
   "metadata": {},
   "outputs": [
    {
     "data": {
      "text/plain": [
       "[2.3, 'DevCode']"
      ]
     },
     "execution_count": 6,
     "metadata": {},
     "output_type": "execute_result"
    }
   ],
   "source": [
    "#Rebanada o slicing\n",
    "lista[1:3]"
   ]
  },
  {
   "cell_type": "code",
   "execution_count": 7,
   "id": "cf0fd084",
   "metadata": {},
   "outputs": [
    {
     "data": {
      "text/plain": [
       "[2.3, 'DevCode', [5, 6], 4, True]"
      ]
     },
     "execution_count": 7,
     "metadata": {},
     "output_type": "execute_result"
    }
   ],
   "source": [
    "#Rebanada o slicing\n",
    "lista[1:6]"
   ]
  },
  {
   "cell_type": "code",
   "execution_count": 8,
   "id": "77d52d4a",
   "metadata": {},
   "outputs": [
    {
     "data": {
      "text/plain": [
       "[2.3, 'DevCode', [5, 6], 4, True]"
      ]
     },
     "execution_count": 8,
     "metadata": {},
     "output_type": "execute_result"
    }
   ],
   "source": [
    "#Rebanada o slicing\n",
    "lista[1:]"
   ]
  },
  {
   "cell_type": "code",
   "execution_count": 9,
   "id": "104e51a6",
   "metadata": {},
   "outputs": [
    {
     "data": {
      "text/plain": [
       "[1, 2.3, 'DevCode']"
      ]
     },
     "execution_count": 9,
     "metadata": {},
     "output_type": "execute_result"
    }
   ],
   "source": [
    "#Rebanada o slicing\n",
    "lista[:3]"
   ]
  },
  {
   "cell_type": "code",
   "execution_count": 10,
   "id": "860e3f2d",
   "metadata": {},
   "outputs": [
    {
     "data": {
      "text/plain": [
       "[1, 2.3, 'DevCode', [5, 6], 4, True]"
      ]
     },
     "execution_count": 10,
     "metadata": {},
     "output_type": "execute_result"
    }
   ],
   "source": [
    "#Rebanada o slicing\n",
    "lista[:]"
   ]
  },
  {
   "cell_type": "code",
   "execution_count": 14,
   "id": "650f1942",
   "metadata": {},
   "outputs": [
    {
     "name": "stdout",
     "output_type": "stream",
     "text": [
      "[1, 2.3, 'DevCode', [5, 6], 4, True]\n"
     ]
    },
    {
     "data": {
      "text/plain": [
       "[2.3, 4]"
      ]
     },
     "execution_count": 14,
     "metadata": {},
     "output_type": "execute_result"
    }
   ],
   "source": [
    "#Rebanada o slicing\n",
    "print(lista)\n",
    "lista[1:5:3]"
   ]
  },
  {
   "cell_type": "code",
   "execution_count": 15,
   "id": "6d8d7a8d",
   "metadata": {
    "scrolled": true
   },
   "outputs": [
    {
     "name": "stdout",
     "output_type": "stream",
     "text": [
      "[]\n",
      "<class 'list'>\n"
     ]
    }
   ],
   "source": [
    "lista=[]\n",
    "print(lista)\n",
    "print(type(lista))"
   ]
  },
  {
   "cell_type": "code",
   "execution_count": 18,
   "id": "df744f4c",
   "metadata": {},
   "outputs": [
    {
     "name": "stdout",
     "output_type": "stream",
     "text": [
      "['Pepe', 25]\n",
      "['Pepe', 25]\n",
      "Juan\n"
     ]
    }
   ],
   "source": [
    "#variables inmutables\n",
    "nombre='Pepe'\n",
    "edad=25\n",
    "lista=[nombre,edad]\n",
    "print(lista)\n",
    "nombre='Juan'\n",
    "print(lista)\n",
    "print(nombre)"
   ]
  },
  {
   "cell_type": "code",
   "execution_count": 21,
   "id": "ddd73f15",
   "metadata": {
    "scrolled": true
   },
   "outputs": [
    {
     "name": "stdout",
     "output_type": "stream",
     "text": [
      "J\n",
      "u\n"
     ]
    },
    {
     "ename": "TypeError",
     "evalue": "'str' object does not support item assignment",
     "output_type": "error",
     "traceback": [
      "\u001b[0;31m---------------------------------------------------------------------------\u001b[0m",
      "\u001b[0;31mTypeError\u001b[0m                                 Traceback (most recent call last)",
      "\u001b[0;32m<ipython-input-21-18a2a3179dcf>\u001b[0m in \u001b[0;36m<module>\u001b[0;34m\u001b[0m\n\u001b[1;32m      1\u001b[0m \u001b[0mprint\u001b[0m\u001b[0;34m(\u001b[0m\u001b[0mnombre\u001b[0m\u001b[0;34m[\u001b[0m\u001b[0;36m0\u001b[0m\u001b[0;34m]\u001b[0m\u001b[0;34m)\u001b[0m\u001b[0;34m\u001b[0m\u001b[0;34m\u001b[0m\u001b[0m\n\u001b[1;32m      2\u001b[0m \u001b[0mprint\u001b[0m\u001b[0;34m(\u001b[0m\u001b[0mnombre\u001b[0m\u001b[0;34m[\u001b[0m\u001b[0;36m1\u001b[0m\u001b[0;34m]\u001b[0m\u001b[0;34m)\u001b[0m\u001b[0;34m\u001b[0m\u001b[0;34m\u001b[0m\u001b[0m\n\u001b[0;32m----> 3\u001b[0;31m \u001b[0mnombre\u001b[0m\u001b[0;34m[\u001b[0m\u001b[0;36m0\u001b[0m\u001b[0;34m]\u001b[0m\u001b[0;34m=\u001b[0m\u001b[0;34m'k'\u001b[0m\u001b[0;34m\u001b[0m\u001b[0;34m\u001b[0m\u001b[0m\n\u001b[0m",
      "\u001b[0;31mTypeError\u001b[0m: 'str' object does not support item assignment"
     ]
    }
   ],
   "source": [
    "print(nombre[0])\n",
    "print(nombre[1])\n",
    "nombre[0]='k'"
   ]
  },
  {
   "cell_type": "code",
   "execution_count": 22,
   "id": "ba06adcc",
   "metadata": {},
   "outputs": [
    {
     "name": "stdout",
     "output_type": "stream",
     "text": [
      "[['Ana', 'Bernardo'], [22, 21]]\n"
     ]
    }
   ],
   "source": [
    "#objetos mutables\n",
    "nombres=['Ana','Bernardo']\n",
    "edades=[22,21]\n",
    "lista=[nombres,edades]\n",
    "print(lista)"
   ]
  },
  {
   "cell_type": "code",
   "execution_count": 23,
   "id": "2bf66f12",
   "metadata": {},
   "outputs": [
    {
     "name": "stdout",
     "output_type": "stream",
     "text": [
      "['Ana', 'Bernardo', 'Cristina']\n",
      "[22, 30]\n",
      "[['Ana', 'Bernardo', 'Cristina'], [22, 30]]\n"
     ]
    }
   ],
   "source": [
    "edades[1]=30\n",
    "nombres+=['Cristina']\n",
    "print(nombres)\n",
    "print(edades)\n",
    "print(lista)"
   ]
  },
  {
   "cell_type": "code",
   "execution_count": 24,
   "id": "55a0aada",
   "metadata": {},
   "outputs": [
    {
     "name": "stdout",
     "output_type": "stream",
     "text": [
      "['pan', 'huevos', 100, 1234]\n"
     ]
    }
   ],
   "source": [
    "#ejemplo\n",
    "factura=['pan','huevos',100,1234]\n",
    "print(factura)"
   ]
  },
  {
   "cell_type": "code",
   "execution_count": 25,
   "id": "9cc31aba",
   "metadata": {},
   "outputs": [
    {
     "data": {
      "text/plain": [
       "'huevos'"
      ]
     },
     "execution_count": 25,
     "metadata": {},
     "output_type": "execute_result"
    }
   ],
   "source": [
    "factura[1]"
   ]
  },
  {
   "cell_type": "code",
   "execution_count": 26,
   "id": "850ae424",
   "metadata": {},
   "outputs": [
    {
     "name": "stdout",
     "output_type": "stream",
     "text": [
      "['pan', 'Tomate', 100, 1234]\n"
     ]
    }
   ],
   "source": [
    "factura[1]='Tomate'\n",
    "print(factura)"
   ]
  },
  {
   "cell_type": "code",
   "execution_count": 30,
   "id": "4869f141",
   "metadata": {},
   "outputs": [
    {
     "name": "stdout",
     "output_type": "stream",
     "text": [
      "{'clave1': 23, 'clave2': 1.34, 'clave3': 'Hola'}\n",
      "dict_keys(['clave1', 'clave2', 'clave3'])\n",
      "dict_values([23, 1.34, 'Hola'])\n",
      "dict_items([('clave1', 23), ('clave2', 1.34), ('clave3', 'Hola')])\n"
     ]
    }
   ],
   "source": [
    "diccionario={'clave1':23,'clave2':1.34,'clave3':'Hola'}\n",
    "print(diccionario)\n",
    "dic_keys=diccionario.keys()\n",
    "print(dic_keys)\n",
    "dic_values=diccionario.values()\n",
    "print(dic_values)\n",
    "dic_items=diccionario.items()\n",
    "print(dic_items)"
   ]
  },
  {
   "cell_type": "code",
   "execution_count": 31,
   "id": "5e726fcc",
   "metadata": {},
   "outputs": [
    {
     "name": "stdout",
     "output_type": "stream",
     "text": [
      "['clave1', 'clave2', 'clave3']\n",
      "[23, 1.34, 'Hola']\n",
      "[('clave1', 23), ('clave2', 1.34), ('clave3', 'Hola')]\n"
     ]
    }
   ],
   "source": [
    "lista_keys=list(dic_keys)\n",
    "lista_values=list(dic_values)\n",
    "lista_itemss=list(dic_items)\n",
    "\n",
    "print(lista_keys)\n",
    "print(lista_values)\n",
    "print(lista_itemss)"
   ]
  },
  {
   "cell_type": "code",
   "execution_count": 33,
   "id": "72d41649",
   "metadata": {},
   "outputs": [
    {
     "name": "stdout",
     "output_type": "stream",
     "text": [
      "3\n",
      "3\n",
      "3\n"
     ]
    }
   ],
   "source": [
    "#Funcion len()\n",
    "print(len(lista_keys))\n",
    "print(len(lista_values))\n",
    "print(len(lista_itemss))"
   ]
  },
  {
   "cell_type": "code",
   "execution_count": 39,
   "id": "92c50e33",
   "metadata": {},
   "outputs": [
    {
     "name": "stdout",
     "output_type": "stream",
     "text": [
      "clave3\n",
      "clave3\n",
      "clave2\n",
      "clave1\n"
     ]
    }
   ],
   "source": [
    "#Recorrer la lista de derecha a izquiera\n",
    "print(lista_keys[len(lista_keys)-1])\n",
    "print(lista_keys[-1])\n",
    "print(lista_keys[-2])\n",
    "print(lista_keys[-3])"
   ]
  },
  {
   "cell_type": "code",
   "execution_count": 40,
   "id": "dd2fc2d5",
   "metadata": {},
   "outputs": [
    {
     "name": "stdout",
     "output_type": "stream",
     "text": [
      "clave1\n",
      "clave2\n",
      "clave3\n"
     ]
    }
   ],
   "source": [
    "#Recorrer la lista de izquierda a derecha\n",
    "print(lista_keys[0])\n",
    "print(lista_keys[1])\n",
    "print(lista_keys[2])"
   ]
  },
  {
   "cell_type": "code",
   "execution_count": 42,
   "id": "5f6e272a",
   "metadata": {},
   "outputs": [
    {
     "name": "stdout",
     "output_type": "stream",
     "text": [
      "clave1\n"
     ]
    }
   ],
   "source": [
    "print(lista_keys[-len(lista_keys)])"
   ]
  },
  {
   "cell_type": "code",
   "execution_count": 43,
   "id": "9e45b212",
   "metadata": {},
   "outputs": [
    {
     "data": {
      "text/plain": [
       "True"
      ]
     },
     "execution_count": 43,
     "metadata": {},
     "output_type": "execute_result"
    }
   ],
   "source": [
    "lista_keys[-len(lista_keys)]==lista_keys[0]"
   ]
  },
  {
   "cell_type": "code",
   "execution_count": 44,
   "id": "39d1f33d",
   "metadata": {
    "scrolled": true
   },
   "outputs": [
    {
     "data": {
      "text/plain": [
       "['__add__',\n",
       " '__class__',\n",
       " '__class_getitem__',\n",
       " '__contains__',\n",
       " '__delattr__',\n",
       " '__delitem__',\n",
       " '__dir__',\n",
       " '__doc__',\n",
       " '__eq__',\n",
       " '__format__',\n",
       " '__ge__',\n",
       " '__getattribute__',\n",
       " '__getitem__',\n",
       " '__gt__',\n",
       " '__hash__',\n",
       " '__iadd__',\n",
       " '__imul__',\n",
       " '__init__',\n",
       " '__init_subclass__',\n",
       " '__iter__',\n",
       " '__le__',\n",
       " '__len__',\n",
       " '__lt__',\n",
       " '__mul__',\n",
       " '__ne__',\n",
       " '__new__',\n",
       " '__reduce__',\n",
       " '__reduce_ex__',\n",
       " '__repr__',\n",
       " '__reversed__',\n",
       " '__rmul__',\n",
       " '__setattr__',\n",
       " '__setitem__',\n",
       " '__sizeof__',\n",
       " '__str__',\n",
       " '__subclasshook__',\n",
       " 'append',\n",
       " 'clear',\n",
       " 'copy',\n",
       " 'count',\n",
       " 'extend',\n",
       " 'index',\n",
       " 'insert',\n",
       " 'pop',\n",
       " 'remove',\n",
       " 'reverse',\n",
       " 'sort']"
      ]
     },
     "execution_count": 44,
     "metadata": {},
     "output_type": "execute_result"
    }
   ],
   "source": [
    "#Metodos\n",
    "dir(lista_keys)"
   ]
  },
  {
   "cell_type": "code",
   "execution_count": 45,
   "id": "6475b47c",
   "metadata": {},
   "outputs": [
    {
     "name": "stdout",
     "output_type": "stream",
     "text": [
      "[2.5, 3.6, 4, 5]\n"
     ]
    }
   ],
   "source": [
    "#Metodo append()\n",
    "versiones=[2.5,3.6,4,5]\n",
    "print(versiones)"
   ]
  },
  {
   "cell_type": "code",
   "execution_count": 46,
   "id": "799cbde3",
   "metadata": {},
   "outputs": [],
   "source": [
    "versiones.append(6)"
   ]
  },
  {
   "cell_type": "code",
   "execution_count": 47,
   "id": "0be0ac8c",
   "metadata": {},
   "outputs": [
    {
     "name": "stdout",
     "output_type": "stream",
     "text": [
      "[2.5, 3.6, 4, 5, 6]\n"
     ]
    }
   ],
   "source": [
    "print(versiones)"
   ]
  },
  {
   "cell_type": "code",
   "execution_count": 48,
   "id": "90209ed9",
   "metadata": {},
   "outputs": [
    {
     "name": "stdout",
     "output_type": "stream",
     "text": [
      "[2.5, 3.6, 4, 5, 6, 'Hola']\n"
     ]
    }
   ],
   "source": [
    "versiones.append('Hola')\n",
    "print(versiones)"
   ]
  },
  {
   "cell_type": "code",
   "execution_count": 53,
   "id": "5ffb768f",
   "metadata": {},
   "outputs": [
    {
     "name": "stdout",
     "output_type": "stream",
     "text": [
      "[2.5, 3.6, 4, 5, 6, 'Hola', 'Hola', [1, 5, 6, 'hola']]\n"
     ]
    }
   ],
   "source": [
    "versiones.append([1,5,6,'hola'])\n",
    "print(versiones)"
   ]
  },
  {
   "cell_type": "code",
   "execution_count": 51,
   "id": "59d0e674",
   "metadata": {},
   "outputs": [
    {
     "name": "stdout",
     "output_type": "stream",
     "text": [
      "1\n",
      "2\n"
     ]
    }
   ],
   "source": [
    "#Metodo count\n",
    "versiones=[2.5, 3.6, 4, 5, 6, 'Hola','Hola']\n",
    "print(versiones.count(3.6))\n",
    "print(versiones.count('Hola'))"
   ]
  },
  {
   "cell_type": "code",
   "execution_count": 52,
   "id": "8e2caed6",
   "metadata": {},
   "outputs": [
    {
     "name": "stdout",
     "output_type": "stream",
     "text": [
      "2\n"
     ]
    }
   ],
   "source": [
    "#Metodo count\n",
    "versiones=[2.5, 3.6, 4, 5, 6, 'Hola','Hola']\n",
    "var=versiones.count('Hola')\n",
    "print(var)"
   ]
  },
  {
   "cell_type": "code",
   "execution_count": 59,
   "id": "df389ebe",
   "metadata": {},
   "outputs": [
    {
     "name": "stdout",
     "output_type": "stream",
     "text": [
      "[2.1, 2.5, 3.6]\n",
      "[2.1, 2.5, 3.6, 4, 4, 5]\n"
     ]
    }
   ],
   "source": [
    "#Metodo extend()\n",
    "versiones=[2.1,2.5,3.6]\n",
    "print(versiones)\n",
    "versiones.extend([4])\n",
    "versiones.extend([4,5])\n",
    "print(versiones)"
   ]
  },
  {
   "cell_type": "code",
   "execution_count": 57,
   "id": "4ee9d22c",
   "metadata": {},
   "outputs": [
    {
     "name": "stdout",
     "output_type": "stream",
     "text": [
      "[2.1, 2.5, 3.6, 4, 5, 6, 7]\n"
     ]
    }
   ],
   "source": [
    "versiones.extend(range(5,8))\n",
    "print(versiones)"
   ]
  },
  {
   "cell_type": "code",
   "execution_count": 65,
   "id": "fec4c2f7",
   "metadata": {},
   "outputs": [],
   "source": [
    "# for x=5; x<8, x++"
   ]
  },
  {
   "cell_type": "code",
   "execution_count": 62,
   "id": "fc556597",
   "metadata": {},
   "outputs": [
    {
     "name": "stdout",
     "output_type": "stream",
     "text": [
      "[2.1, 2.5, 3.6, 4, 4, 5, 9, 8, 7, 6, 'Hola']\n",
      "[2.1, 2.5, 3.6, 4, 4, 5, 9, 8, 7, 6, 'Hola', 9, 8, 7, 6, 'Hola']\n"
     ]
    }
   ],
   "source": [
    "print(versiones)\n",
    "versiones.extend([9,8,7,6,'Hola'])\n",
    "print(versiones)"
   ]
  },
  {
   "cell_type": "code",
   "execution_count": 64,
   "id": "f8c7fcd1",
   "metadata": {},
   "outputs": [
    {
     "name": "stdout",
     "output_type": "stream",
     "text": [
      "[2.1, 2.5, 3.6, 4, 4, 5, 9, 8, 7, 6, 'Hola', 9, 8, 7, 6, 'Hola', 5, 7, 9, 11, 13, 15]\n"
     ]
    }
   ],
   "source": [
    "versiones.extend(range(5,16,2))\n",
    "print(versiones)"
   ]
  },
  {
   "cell_type": "code",
   "execution_count": 68,
   "id": "284fcda4",
   "metadata": {},
   "outputs": [
    {
     "name": "stdout",
     "output_type": "stream",
     "text": [
      "11\n",
      "4\n",
      "6\n"
     ]
    }
   ],
   "source": [
    "#Metodo Index()\n",
    "versiones=[2.1,2.5,3.6,5,6,6,3,1,3,4,6]\n",
    "print(len(versiones))\n",
    "print(versiones.index(6))\n",
    "print(versiones[4])"
   ]
  },
  {
   "cell_type": "code",
   "execution_count": 71,
   "id": "2cddf245",
   "metadata": {},
   "outputs": [
    {
     "name": "stdout",
     "output_type": "stream",
     "text": [
      "5\n",
      "10\n",
      "6\n"
     ]
    }
   ],
   "source": [
    "print(versiones.index(6,5))\n",
    "print(versiones.index(6,7))\n",
    "print(versiones[10])"
   ]
  },
  {
   "cell_type": "code",
   "execution_count": 74,
   "id": "f9e04fae",
   "metadata": {},
   "outputs": [
    {
     "ename": "ValueError",
     "evalue": "6 is not in list",
     "output_type": "error",
     "traceback": [
      "\u001b[0;31m---------------------------------------------------------------------------\u001b[0m",
      "\u001b[0;31mValueError\u001b[0m                                Traceback (most recent call last)",
      "\u001b[0;32m<ipython-input-74-d90a12529a9b>\u001b[0m in \u001b[0;36m<module>\u001b[0;34m\u001b[0m\n\u001b[0;32m----> 1\u001b[0;31m \u001b[0mprint\u001b[0m\u001b[0;34m(\u001b[0m\u001b[0mversiones\u001b[0m\u001b[0;34m.\u001b[0m\u001b[0mindex\u001b[0m\u001b[0;34m(\u001b[0m\u001b[0;36m6\u001b[0m\u001b[0;34m,\u001b[0m\u001b[0;36m11\u001b[0m\u001b[0;34m)\u001b[0m\u001b[0;34m)\u001b[0m\u001b[0;34m\u001b[0m\u001b[0;34m\u001b[0m\u001b[0m\n\u001b[0m",
      "\u001b[0;31mValueError\u001b[0m: 6 is not in list"
     ]
    }
   ],
   "source": [
    "print(versiones.index(6,11))\n"
   ]
  },
  {
   "cell_type": "code",
   "execution_count": 76,
   "id": "22125e92",
   "metadata": {},
   "outputs": [
    {
     "name": "stdout",
     "output_type": "stream",
     "text": [
      "[2.1, 2.5, 3.6, 4, 5, 6]\n"
     ]
    }
   ],
   "source": [
    "#MEtodo INSERT()\n",
    "versiones=[2.1,2.5,3.6,4,5,6]\n",
    "print(versiones)"
   ]
  },
  {
   "cell_type": "code",
   "execution_count": 77,
   "id": "7caf82bc",
   "metadata": {},
   "outputs": [
    {
     "name": "stdout",
     "output_type": "stream",
     "text": [
      "[2.1, 2.5, 3.7, 3.6, 4, 5, 6]\n"
     ]
    }
   ],
   "source": [
    "# versiones.insert(posicion,valor_que_quiero_añadir)\n",
    "versiones.insert(2,3.7)\n",
    "print(versiones)"
   ]
  },
  {
   "cell_type": "code",
   "execution_count": 78,
   "id": "d25fbdb8",
   "metadata": {},
   "outputs": [
    {
     "name": "stdout",
     "output_type": "stream",
     "text": [
      "6\n"
     ]
    }
   ],
   "source": [
    "#MEtodo POP()\n",
    "versiones=[2.1,2.5,3.6,4,5,6]\n",
    "print(versiones.pop())"
   ]
  },
  {
   "cell_type": "code",
   "execution_count": 80,
   "id": "0d22964b",
   "metadata": {},
   "outputs": [
    {
     "name": "stdout",
     "output_type": "stream",
     "text": [
      "[2.1, 2.5, 3.6, 4, 5]\n"
     ]
    }
   ],
   "source": [
    "print(versiones)"
   ]
  },
  {
   "cell_type": "code",
   "execution_count": 81,
   "id": "cc7588d6",
   "metadata": {
    "scrolled": true
   },
   "outputs": [
    {
     "name": "stdout",
     "output_type": "stream",
     "text": [
      "5\n",
      "[2.1, 2.5, 3.6, 4]\n"
     ]
    }
   ],
   "source": [
    "var=versiones.pop()\n",
    "print(var)\n",
    "print(versiones)"
   ]
  },
  {
   "cell_type": "code",
   "execution_count": 82,
   "id": "b5719f82",
   "metadata": {
    "scrolled": true
   },
   "outputs": [
    {
     "name": "stdout",
     "output_type": "stream",
     "text": [
      "2.5\n",
      "[2.1, 3.6, 4]\n"
     ]
    }
   ],
   "source": [
    "var=versiones.pop(1)\n",
    "print(var)\n",
    "print(versiones)"
   ]
  },
  {
   "cell_type": "code",
   "execution_count": 84,
   "id": "d4ecd1fb",
   "metadata": {},
   "outputs": [
    {
     "name": "stdout",
     "output_type": "stream",
     "text": [
      "[2.1, 3.6, 4, 5, 6]\n"
     ]
    }
   ],
   "source": [
    "#MEtodo remove()\n",
    "versiones=[2.1,2.5,3.6,4,5,6]\n",
    "versiones.remove(2.5)\n",
    "print(versiones)"
   ]
  },
  {
   "cell_type": "code",
   "execution_count": 85,
   "id": "3adb44a3",
   "metadata": {
    "scrolled": true
   },
   "outputs": [
    {
     "ename": "ValueError",
     "evalue": "list.remove(x): x not in list",
     "output_type": "error",
     "traceback": [
      "\u001b[0;31m---------------------------------------------------------------------------\u001b[0m",
      "\u001b[0;31mValueError\u001b[0m                                Traceback (most recent call last)",
      "\u001b[0;32m<ipython-input-85-ab3fbdace8f9>\u001b[0m in \u001b[0;36m<module>\u001b[0;34m\u001b[0m\n\u001b[0;32m----> 1\u001b[0;31m \u001b[0mversiones\u001b[0m\u001b[0;34m.\u001b[0m\u001b[0mremove\u001b[0m\u001b[0;34m(\u001b[0m\u001b[0;36m2.5\u001b[0m\u001b[0;34m)\u001b[0m\u001b[0;34m\u001b[0m\u001b[0;34m\u001b[0m\u001b[0m\n\u001b[0m",
      "\u001b[0;31mValueError\u001b[0m: list.remove(x): x not in list"
     ]
    }
   ],
   "source": [
    "versiones.remove(2.5)"
   ]
  },
  {
   "cell_type": "code",
   "execution_count": 89,
   "id": "d45a7e3e",
   "metadata": {},
   "outputs": [
    {
     "name": "stdout",
     "output_type": "stream",
     "text": [
      "[2.1, 3.6, 4, 5, 6]\n",
      "[6, 5, 4, 3.6, 2.1]\n"
     ]
    }
   ],
   "source": [
    "#Metodo reverse()\n",
    "versiones==[2.1,2.5,3.6,4,5,6]\n",
    "print(versiones)\n",
    "versiones.reverse()\n",
    "print(versiones)"
   ]
  },
  {
   "cell_type": "code",
   "execution_count": 90,
   "id": "e3386f42",
   "metadata": {},
   "outputs": [
    {
     "name": "stdout",
     "output_type": "stream",
     "text": [
      "[4, 5, 7, 22, 3, 54, 6, 8, 3, 5, 6, 7, 1]\n",
      "[1, 3, 3, 4, 5, 5, 6, 6, 7, 7, 8, 22, 54]\n"
     ]
    }
   ],
   "source": [
    "#Metodo SORT(), ordena del menor al mayor\n",
    "versiones=[4,5,7,22,3,54,6,8,3,5,6,7,1]\n",
    "print(versiones)\n",
    "versiones.sort()\n",
    "print(versiones)"
   ]
  },
  {
   "cell_type": "code",
   "execution_count": 93,
   "id": "2f589e91",
   "metadata": {},
   "outputs": [
    {
     "name": "stdout",
     "output_type": "stream",
     "text": [
      "[4, 5, 7, 22, 3, 54, 6, 8, 3, 5, 6, 7, 1]\n",
      "[54, 22, 8, 7, 7, 6, 6, 5, 5, 4, 3, 3, 1]\n"
     ]
    }
   ],
   "source": [
    "#Metodo SORT(), ordena de mayor a menor\n",
    "versiones=[4,5,7,22,3,54,6,8,3,5,6,7,1]\n",
    "print(versiones)\n",
    "versiones.sort(reverse=True)\n",
    "print(versiones)"
   ]
  },
  {
   "cell_type": "code",
   "execution_count": 95,
   "id": "3b027c5b",
   "metadata": {},
   "outputs": [
    {
     "name": "stdout",
     "output_type": "stream",
     "text": [
      "['H', 'J', 'A', 'g', 'b', 'a', 'c']\n",
      "['A', 'H', 'J', 'a', 'b', 'c', 'g']\n"
     ]
    }
   ],
   "source": [
    "#Metodo SORT ordena alfabeticamente\n",
    "lista_string=['H','J','A','g','b','a','c']\n",
    "print(lista_string)\n",
    "lista_string.sort()\n",
    "print(lista_string)"
   ]
  },
  {
   "cell_type": "code",
   "execution_count": 96,
   "id": "4d000ceb",
   "metadata": {},
   "outputs": [
    {
     "name": "stdout",
     "output_type": "stream",
     "text": [
      "['Hola', 'Juan', 'Andres', 'gato', 'buho', 'alicate', 'casa', 'Armando']\n",
      "['Andres', 'Armando', 'Hola', 'Juan', 'alicate', 'buho', 'casa', 'gato']\n"
     ]
    }
   ],
   "source": [
    "#Metodo SORT ordena alfabeticamente\n",
    "lista_string=['Hola','Juan','Andres','gato','buho','alicate','casa','Armando']\n",
    "print(lista_string)\n",
    "lista_string.sort()\n",
    "print(lista_string)"
   ]
  },
  {
   "cell_type": "code",
   "execution_count": 100,
   "id": "607ca85e",
   "metadata": {},
   "outputs": [
    {
     "name": "stdout",
     "output_type": "stream",
     "text": [
      "['Hola,', 'como', 'estas', 'tu']\n",
      "4\n"
     ]
    }
   ],
   "source": [
    "#Iterar una lista mediante un ciclo FOR\n",
    "mensaje=\"Hola, como estas tu\"\n",
    "#Funcion split que me permite crear una lista a partir de una cadena de caracteres\n",
    "#La lista va estar conformada por las palabras que estan separadas por espacios\n",
    "list_mensaje=mensaje.split()\n",
    "print(list_mensaje)\n",
    "print(len(list_mensaje))"
   ]
  },
  {
   "cell_type": "code",
   "execution_count": 103,
   "id": "8a70425b",
   "metadata": {},
   "outputs": [
    {
     "name": "stdout",
     "output_type": "stream",
     "text": [
      "['Hola,', 'como', 'estas', 'tu']\n"
     ]
    },
    {
     "data": {
      "text/plain": [
       "'estas'"
      ]
     },
     "execution_count": 103,
     "metadata": {},
     "output_type": "execute_result"
    }
   ],
   "source": [
    "print(list_mensaje)\n",
    "list_mensaje[2]"
   ]
  },
  {
   "cell_type": "code",
   "execution_count": 99,
   "id": "f80427ff",
   "metadata": {},
   "outputs": [
    {
     "name": "stdout",
     "output_type": "stream",
     "text": [
      "Hola,\n",
      "como\n",
      "estas\n",
      "tu\n"
     ]
    }
   ],
   "source": [
    "#Recorrer la lista y encontrar los valores en la lista\n",
    "for palabra in list_mensaje:\n",
    "    print(palabra)"
   ]
  },
  {
   "cell_type": "code",
   "execution_count": 104,
   "id": "58702c18",
   "metadata": {},
   "outputs": [
    {
     "name": "stdout",
     "output_type": "stream",
     "text": [
      "0 Hola,\n",
      "1 como\n",
      "2 estas\n",
      "3 tu\n"
     ]
    }
   ],
   "source": [
    "for i in range(len(list_mensaje)):\n",
    "    print(i, list_mensaje[i]  )"
   ]
  },
  {
   "cell_type": "code",
   "execution_count": 105,
   "id": "5a79ae8c",
   "metadata": {},
   "outputs": [
    {
     "name": "stdout",
     "output_type": "stream",
     "text": [
      "0 Hola,\n",
      "1 como\n",
      "2 estas\n",
      "3 tu\n"
     ]
    }
   ],
   "source": [
    "for indice, valor in enumerate(list_mensaje):\n",
    "        print(indice, valor)"
   ]
  },
  {
   "cell_type": "code",
   "execution_count": 110,
   "id": "9118ff96",
   "metadata": {},
   "outputs": [
    {
     "name": "stdout",
     "output_type": "stream",
     "text": [
      "Iteración: 1. ¿Cuál es tu nombre?, la respuesta Leonardo\n",
      "Iteración: 2. ¿Cuál es tu objetivo?, la respuesta aprender Python\n",
      "Iteración: 3. ¿Cuál es tu sistema operativo?, la respuesta Linux\n"
     ]
    }
   ],
   "source": [
    "#Recorrer dos listas mediante ciclo FOR y la funcion ZIP()\n",
    "preguntas=['nombre','objetivo','sistema operativo']\n",
    "respuestas=['Leonardo','aprender Python','Linux']\n",
    "cont=0\n",
    "for pregunta, respuesta in zip(preguntas, respuestas):\n",
    "    cont+=1\n",
    "    print('Iteración: {0}. ¿Cuál es tu {1}?, la respuesta {2}'.format(cont,pregunta,respuesta))\n",
    "    "
   ]
  },
  {
   "cell_type": "code",
   "execution_count": 115,
   "id": "a3a25411",
   "metadata": {},
   "outputs": [
    {
     "name": "stdout",
     "output_type": "stream",
     "text": [
      "Iteración: 1,  nombre, : Leonardo\n",
      "Iteración: 2,  objetivo, : aprender Python\n",
      "Iteración: 3,  sistema operativo, : Linux\n"
     ]
    }
   ],
   "source": [
    "#Recorrer dos listas mediante ciclo FOR y la funcion ZIP()\n",
    "preguntas=['nombre','objetivo','sistema operativo']\n",
    "respuestas=['Leonardo','aprender Python','Linux']\n",
    "cont=0\n",
    "for pregunta, respuesta in zip(preguntas, respuestas):\n",
    "    cont+=1\n",
    "    print('Iteración: {0},  {1}, : {2}'.format(cont,pregunta,respuesta))\n",
    "    "
   ]
  },
  {
   "cell_type": "code",
   "execution_count": 113,
   "id": "f0d46649",
   "metadata": {},
   "outputs": [
    {
     "name": "stdout",
     "output_type": "stream",
     "text": [
      "nombre\n",
      "objetivo\n",
      "sistema operativo\n"
     ]
    }
   ],
   "source": [
    "for i, valor in enumerate(preguntas):\n",
    "    print(valor)"
   ]
  },
  {
   "cell_type": "code",
   "execution_count": 114,
   "id": "4ba7e957",
   "metadata": {
    "scrolled": true
   },
   "outputs": [
    {
     "name": "stdout",
     "output_type": "stream",
     "text": [
      "Leonardo\n",
      "aprender Python\n",
      "Linux\n"
     ]
    }
   ],
   "source": [
    "for i, valor in enumerate(respuestas):\n",
    "    print(valor)"
   ]
  },
  {
   "cell_type": "code",
   "execution_count": 127,
   "id": "b2893156",
   "metadata": {},
   "outputs": [
    {
     "name": "stdout",
     "output_type": "stream",
     "text": [
      "Ramón García,7.6,Historia\n",
      "Ramón García\n",
      "7.6\n",
      "Historia\n",
      "['Ramón García', '7.6', 'Historia']\n",
      "El estudiante Ramón García saco una nota de: 7.6 en la materia Historia\n"
     ]
    }
   ],
   "source": [
    "#Ejercicio\n",
    "# Variables del ejercicio (no las modifiques)\n",
    "cadena_corrupta = \"airotsiH,6.7,aícraG nómaR\"\n",
    "#Volterar la cadena\n",
    "cadena_voltear=cadena_corrupta[::-1]\n",
    "print(cadena_voltear)\n",
    "#Vamos a obtener por separado en variables independientes, el nombre y apellido del estudiante, la nota y la materia\n",
    "#Vamos a utilizar el slicing\n",
    "cadena_voltear.find(',')\n",
    "nombre=cadena_voltear[0:12]\n",
    "print(nombre)\n",
    "cadena_voltear.find(',',13)\n",
    "nota=cadena_voltear[13:16]\n",
    "print(nota)\n",
    "materia=cadena_voltear[17:]\n",
    "print(materia)\n",
    "\n",
    "lista_est=[nombre,nota,materia]\n",
    "print(lista_est)\n",
    "# lista_est.insert()\n",
    "print(\"El estudiante {} saco una nota de: {} en la materia {}\".format(lista_est[0],lista_est[1],lista_est[2]))"
   ]
  },
  {
   "cell_type": "code",
   "execution_count": 132,
   "id": "b57ca0e6",
   "metadata": {},
   "outputs": [
    {
     "name": "stdout",
     "output_type": "stream",
     "text": [
      "[1, 2, 3, 4, 5, 6, 7, 8]\n"
     ]
    }
   ],
   "source": [
    "#Cocatenando dos listas\n",
    "numeros1=[1,2,3,4]\n",
    "numeros2=[5,6,7,8]\n",
    "num=numeros1+numeros2\n",
    "print(num)"
   ]
  },
  {
   "cell_type": "code",
   "execution_count": 135,
   "id": "251fc875",
   "metadata": {},
   "outputs": [
    {
     "name": "stdout",
     "output_type": "stream",
     "text": [
      "[[1, 2, 3, 4], [5, 6, 7, 8]]\n"
     ]
    }
   ],
   "source": [
    "num=[numeros1,numeros2]\n",
    "print(num)"
   ]
  },
  {
   "cell_type": "code",
   "execution_count": 136,
   "id": "34c04233",
   "metadata": {},
   "outputs": [
    {
     "name": "stdout",
     "output_type": "stream",
     "text": [
      "[5, 6, 7, 8, 10]\n",
      "[[1, 2, 3, 4], [5, 6, 7, 8, 10]]\n"
     ]
    }
   ],
   "source": [
    "numeros2.append(10)\n",
    "print(numeros2)\n",
    "print(num)"
   ]
  },
  {
   "cell_type": "code",
   "execution_count": 133,
   "id": "05c41763",
   "metadata": {},
   "outputs": [
    {
     "name": "stdout",
     "output_type": "stream",
     "text": [
      "[1, 2, 3, 4, 5, 6, 7, 8, 20]\n"
     ]
    }
   ],
   "source": [
    "num.append(10*2)\n",
    "print(num)"
   ]
  },
  {
   "cell_type": "code",
   "execution_count": 139,
   "id": "b5bf5bab",
   "metadata": {},
   "outputs": [
    {
     "name": "stdout",
     "output_type": "stream",
     "text": [
      "['a', 'b', 'c']\n",
      "['A', 'B', 'C', 'd', 'e', 'f']\n",
      "['d', 'e', 'f']\n"
     ]
    }
   ],
   "source": [
    "#Ejemplo\n",
    "letras=['a','b','c','d','e','f']\n",
    "print(letras[:3])\n",
    "#Modificar unos valores con el slicing\n",
    "letras[:3]=['A','B','C']\n",
    "print(letras)\n",
    "#Modificar y colocar los primeros tres valores vaciones\n",
    "letras[:3]=[]\n",
    "print(letras)"
   ]
  },
  {
   "cell_type": "code",
   "execution_count": 141,
   "id": "8655e788",
   "metadata": {},
   "outputs": [
    {
     "data": {
      "text/plain": [
       "13"
      ]
     },
     "execution_count": 141,
     "metadata": {},
     "output_type": "execute_result"
    }
   ],
   "source": [
    "#La función llamada sum(lista) devuelve una suma de todos los elementos de la lista de la matriz en la posicion 3\n",
    "matriz = [ \n",
    "    [1, 1, 1, 3],\n",
    "    [2, 2, 2, 7],\n",
    "    [3, 3, 3, 9],\n",
    "    [4, 4, 4, 13]\n",
    "]\n",
    "\n",
    "#Utilizar la funcion sum()\n",
    "matriz[-1][-1]\n",
    "matriz[3][-1]"
   ]
  }
 ],
 "metadata": {
  "kernelspec": {
   "display_name": "Python 3",
   "language": "python",
   "name": "python3"
  },
  "language_info": {
   "codemirror_mode": {
    "name": "ipython",
    "version": 3
   },
   "file_extension": ".py",
   "mimetype": "text/x-python",
   "name": "python",
   "nbconvert_exporter": "python",
   "pygments_lexer": "ipython3",
   "version": "3.9.1"
  }
 },
 "nbformat": 4,
 "nbformat_minor": 5
}
