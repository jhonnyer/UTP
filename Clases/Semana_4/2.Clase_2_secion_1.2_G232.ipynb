{
 "cells": [
  {
   "cell_type": "code",
   "execution_count": null,
   "id": "f8ec9800",
   "metadata": {
    "scrolled": true
   },
   "outputs": [],
   "source": [
    "#Pasando parametros por posicion\n",
    "def sumar(a,b):\n",
    "    c=a+b\n",
    "    print(c)\n",
    "    return c\n",
    "\n",
    "var_externa=sumar(10,20)\n",
    "print(var_externa)"
   ]
  },
  {
   "cell_type": "code",
   "execution_count": null,
   "id": "8503d673",
   "metadata": {},
   "outputs": [],
   "source": [
    "#Pasamos argumentos por nombre\n",
    "b=10\n",
    "a=5\n",
    "sumar(a,b)"
   ]
  },
  {
   "cell_type": "code",
   "execution_count": null,
   "id": "8c7e6cee",
   "metadata": {
    "scrolled": true
   },
   "outputs": [],
   "source": [
    "#Definicion funcion sintacticamente con sentencia pass\n",
    "def consultar_genero(letra_genero):pass\n",
    "\n",
    "type(consultar_genero)\n",
    "consultar_genero('M')\n",
    "c=consultar_genero('M')\n",
    "print(c)"
   ]
  },
  {
   "cell_type": "code",
   "execution_count": null,
   "id": "5cee78ff",
   "metadata": {
    "scrolled": true
   },
   "outputs": [],
   "source": [
    "#Funcion con return\n",
    "def otra_suma(num1,num2):\n",
    "    print(num1+num2)\n",
    "    print(\"\\n\")\n",
    "    print(\"Fin\")\n",
    "    return num1+num2\n",
    "\n",
    "var_ext=otra_suma(10,20)\n",
    "print(var_ext)"
   ]
  },
  {
   "cell_type": "code",
   "execution_count": null,
   "id": "d9b1dc0b",
   "metadata": {},
   "outputs": [],
   "source": [
    "#Funcion con mas de 2 return\n",
    "def otra_suma(num1,num2):\n",
    "    print(num1+num2)\n",
    "    print(\"\\n\")\n",
    "    print(\"Fin\")\n",
    "    c=num1+num2\n",
    "    return num1, num2, c\n",
    "\n",
    "var_ext=otra_suma(10,20)\n",
    "print(var_ext)"
   ]
  },
  {
   "cell_type": "code",
   "execution_count": null,
   "id": "c1454fc7",
   "metadata": {},
   "outputs": [],
   "source": [
    "#Asignacion multiple\n",
    "num1,num2,c=otra_suma(10,20)\n",
    "print(num1)\n",
    "print(num2)\n",
    "print(c)"
   ]
  },
  {
   "cell_type": "code",
   "execution_count": null,
   "id": "cc0ade6f",
   "metadata": {},
   "outputs": [],
   "source": [
    "#Asignacion multiple\n",
    "a,b,c=otra_suma(10,20)\n",
    "print(a)\n",
    "print(b)\n",
    "print(c)\n",
    "d=c*2\n",
    "print(d)"
   ]
  },
  {
   "cell_type": "code",
   "execution_count": null,
   "id": "a959a783",
   "metadata": {},
   "outputs": [],
   "source": [
    "#Asignacion multiple variables\n",
    "var1=var2=var3=200\n",
    "print(var1)\n",
    "print(var2)\n",
    "print(var3)\n"
   ]
  },
  {
   "cell_type": "code",
   "execution_count": null,
   "id": "9105642d",
   "metadata": {},
   "outputs": [],
   "source": [
    "#Asignacion multiple variables\n",
    "var1,var2,var3=200,300,300\n",
    "print(var1)\n",
    "print(var2)\n",
    "print(var3)\n"
   ]
  },
  {
   "cell_type": "code",
   "execution_count": null,
   "id": "6826b9d7",
   "metadata": {},
   "outputs": [],
   "source": [
    "#Asignacion multiple variables\n",
    "var1,var2,var3=200,300,300, 1\n",
    "print(var1)\n",
    "print(var2)\n",
    "print(var3)\n"
   ]
  },
  {
   "cell_type": "code",
   "execution_count": null,
   "id": "e14bf8cc",
   "metadata": {},
   "outputs": [],
   "source": [
    "#Definir una funcion con una variable interna, no se puede acceder desde el exterior\n",
    "def test1():\n",
    "    n=10\n",
    "    print(n)\n",
    "    return n\n",
    "    \n",
    "test1()\n",
    "print(n)"
   ]
  },
  {
   "cell_type": "code",
   "execution_count": null,
   "id": "223b0734",
   "metadata": {},
   "outputs": [],
   "source": [
    "#Definido variable externa que puede ser utilizada dentro de la funcion\n",
    "m=10\n",
    "def test2():\n",
    "    a=m*2\n",
    "    print(a)\n",
    "    print(m)\n",
    "\n",
    "test2()"
   ]
  },
  {
   "cell_type": "code",
   "execution_count": null,
   "id": "fce33486",
   "metadata": {},
   "outputs": [],
   "source": [
    "#definido una variable antes de llamar la funcion\n",
    "def test3():\n",
    "    print(l)\n",
    "    return l*2\n",
    "l=10\n",
    "resultado=test3()\n",
    "print(resultado)"
   ]
  },
  {
   "cell_type": "code",
   "execution_count": null,
   "id": "21909a5b",
   "metadata": {},
   "outputs": [],
   "source": [
    "#Variable interna de la funcion, es diferente a la variable externa, se crea en este caso una copia\n",
    "def test4():\n",
    "    x=10 #Variable que solo existe en la funcion\n",
    "    print(x)\n",
    "    \n",
    "#Variable externa\n",
    "x=5\n",
    "test4()\n",
    "print(x)"
   ]
  },
  {
   "cell_type": "code",
   "execution_count": null,
   "id": "fa9f2a1d",
   "metadata": {},
   "outputs": [],
   "source": [
    "#Variable global modificada dentro de una funcion\n",
    "def test5():\n",
    "    global x #Variable global que se accede desde el exterior\n",
    "    x=6\n",
    "    print(x)\n",
    "\n",
    "x=23\n",
    "test5()\n",
    "print(x)\n",
    "test5()\n"
   ]
  },
  {
   "cell_type": "code",
   "execution_count": null,
   "id": "fcb6b3e6",
   "metadata": {},
   "outputs": [],
   "source": [
    "#Variable global modificada dentro de una funcion\n",
    "def test5(a,b):\n",
    "    global x #Variable global que se accede desde el exterior\n",
    "    x=a+b\n",
    "\n",
    "x=23\n",
    "test5(2,5)\n",
    "print(x)\n",
    "test5(7,6)\n",
    "print(x)\n",
    "x=\"Hola\"\n",
    "print(x)\n",
    "x=1.2\n",
    "print(x)"
   ]
  },
  {
   "cell_type": "code",
   "execution_count": null,
   "id": "44d32fa6",
   "metadata": {},
   "outputs": [],
   "source": [
    "def test6(num):\n",
    "    return num, num*2, num*4, 'Hola', 1.2\n",
    "\n",
    "v1,v2,v3,v4,v5=test6(10)\n",
    "print(v1)\n",
    "print(v2)\n",
    "print(v3)\n",
    "print(v4)\n",
    "print(v5)"
   ]
  },
  {
   "cell_type": "code",
   "execution_count": null,
   "id": "94177339",
   "metadata": {},
   "outputs": [],
   "source": [
    "cad=\"hola mundo\"\n",
    "print(cad[:4])"
   ]
  },
  {
   "cell_type": "code",
   "execution_count": null,
   "id": "c9ecbee2",
   "metadata": {},
   "outputs": [],
   "source": [
    "def saludo():\n",
    "    print(\"Hola mundo\")\n",
    "    \n",
    "saludo()"
   ]
  },
  {
   "cell_type": "code",
   "execution_count": null,
   "id": "98aa8c70",
   "metadata": {},
   "outputs": [],
   "source": [
    "def mi_funcion(nombre,apellido):\n",
    "    nombre_completo=nombre,apellido\n",
    "    print(nombre_completo)\n",
    "    \n",
    "mi_funcion('David')"
   ]
  },
  {
   "cell_type": "code",
   "execution_count": null,
   "id": "979fee89",
   "metadata": {},
   "outputs": [],
   "source": [
    "def saludar(nombre=\"None\",mensaje='Hola'):\n",
    "    print(mensaje, nombre)\n",
    "    \n",
    "saludar('Jhonnyer')"
   ]
  },
  {
   "cell_type": "code",
   "execution_count": null,
   "id": "77851d0a",
   "metadata": {},
   "outputs": [],
   "source": [
    "saludar(mensaje=\"Hola\")\n",
    "saludar()"
   ]
  },
  {
   "cell_type": "code",
   "execution_count": null,
   "id": "1b0bf83c",
   "metadata": {},
   "outputs": [],
   "source": [
    "saludar(mensaje=\"Buen dia\",nombre=\"Jhonnyer\")\n"
   ]
  },
  {
   "cell_type": "code",
   "execution_count": null,
   "id": "421aad50",
   "metadata": {},
   "outputs": [],
   "source": [
    "#Ejemplo\n",
    "def my_function(fname):\n",
    "    print(fname+\" Gonzales\")\n",
    "\n",
    "my_function(\"Jhonnyer\")\n",
    "my_function(\"Luis\")"
   ]
  },
  {
   "cell_type": "code",
   "execution_count": null,
   "id": "33064b3c",
   "metadata": {},
   "outputs": [],
   "source": [
    "my_function('12')"
   ]
  },
  {
   "cell_type": "code",
   "execution_count": null,
   "id": "8c78ef94",
   "metadata": {},
   "outputs": [],
   "source": [
    "#Ejemplo\n",
    "def my_function(fname):\n",
    "    print(fname+1.4)\n",
    "\n",
    "my_function(2)"
   ]
  },
  {
   "cell_type": "code",
   "execution_count": null,
   "id": "8a55f737",
   "metadata": {},
   "outputs": [],
   "source": [
    "def prueba():\n",
    "    print(\"Hola\")\n",
    "\n",
    "prueba()"
   ]
  },
  {
   "cell_type": "code",
   "execution_count": null,
   "id": "50734a42",
   "metadata": {},
   "outputs": [],
   "source": [
    "cad1=\"Hola\"\n",
    "cad2=\"Mundo\"\n",
    "# frase=cad1+cad2\n",
    "frase=cad1+\" \"+cad2\n",
    "print(frase)"
   ]
  },
  {
   "cell_type": "code",
   "execution_count": null,
   "id": "126a8f01",
   "metadata": {},
   "outputs": [],
   "source": [
    "#Funcion con cadena de caracteres o string\n",
    "def my_function(fname,lname):\n",
    "    print(fname+\" \"+lname)\n",
    "    \n",
    "my_function(lname=\"Zuñiga\",fname=\"Luis\")"
   ]
  },
  {
   "cell_type": "code",
   "execution_count": null,
   "id": "d7a51b9f",
   "metadata": {},
   "outputs": [],
   "source": [
    "my_function(lname=\"Zuñiga\")"
   ]
  },
  {
   "cell_type": "code",
   "execution_count": null,
   "id": "0e485dce",
   "metadata": {},
   "outputs": [],
   "source": [
    "my_function(\"Jhonnyer\",\"Galindez\")"
   ]
  },
  {
   "cell_type": "code",
   "execution_count": null,
   "id": "cd60080c",
   "metadata": {},
   "outputs": [],
   "source": [
    "#Realice una funcion que lea un  numero por teclado y verifique si el número ingresado es par o impar\n",
    "num=int(input(\"Ingrese un numero: \"))\n",
    "print(num)"
   ]
  },
  {
   "cell_type": "code",
   "execution_count": null,
   "id": "8b72917c",
   "metadata": {},
   "outputs": [],
   "source": [
    "def aguilar(num):\n",
    "    c=num%2\n",
    "    print(c)\n",
    "    return num\n",
    "\n",
    "X=aguilar(int(input(\"ingrese un numero \")))\n",
    "print(X)"
   ]
  },
  {
   "cell_type": "code",
   "execution_count": null,
   "id": "aebecc62",
   "metadata": {},
   "outputs": [],
   "source": [
    "x=0\n",
    "if x%2==0:\n",
    "    print(\"Numero es par\")\n",
    "else:\n",
    "    print(\"Numero es impar\")"
   ]
  },
  {
   "cell_type": "code",
   "execution_count": null,
   "id": "ba5a2655",
   "metadata": {},
   "outputs": [],
   "source": [
    "7%2"
   ]
  },
  {
   "cell_type": "code",
   "execution_count": null,
   "id": "4bad6292",
   "metadata": {},
   "outputs": [],
   "source": [
    "#Funcion que lee un numero por teclado e identifica si el numero es par o impar\n",
    "\n",
    "def func(num):\n",
    "    v=num%2\n",
    "    if v == 0:\n",
    "        print (\"El número ingresado es par\")\n",
    "    else:\n",
    "        print(\"El número ingresado es impar\")\n",
    "    return num\n",
    "        \n",
    "X=func(int(input(\"Ingrese un número: \")))\n",
    "print(X)"
   ]
  },
  {
   "cell_type": "code",
   "execution_count": null,
   "id": "c8b026d7",
   "metadata": {},
   "outputs": [],
   "source": [
    "def aguilar(num):\n",
    "    c=num%2\n",
    "    if c==0:\n",
    "        print(\"El numero {} es par\".format(num))\n",
    "    else:\n",
    "        print(\"El numero {} es impar\".format(num))\n",
    "    return num\n",
    "\n",
    "m=int(input(\"ingrese un numero \"))\n",
    "X=aguilar(m)"
   ]
  },
  {
   "cell_type": "code",
   "execution_count": null,
   "id": "82a05137",
   "metadata": {},
   "outputs": [],
   "source": [
    "def promedio(n1,n2,n3,n4):\n",
    "    suma=sum((n1,n2,n3,n4))\n",
    "    promedio=suma/4\n",
    "    print(\"El promedio de las notas es igual a: \",promedio)\n",
    "    return promedio\n",
    "\n",
    "n1=5\n",
    "n2=4.6\n",
    "n3=5.3\n",
    "n4=2.8\n",
    "promedio(3.5,4,5,2.8)\n",
    "promedio(n1,n2,n3,n4)"
   ]
  },
  {
   "cell_type": "code",
   "execution_count": null,
   "id": "581d93bf",
   "metadata": {},
   "outputs": [],
   "source": [
    "def numeros(num):\n",
    "    print(num)\n",
    "    if num%2==0:\n",
    "        print(\"el numero \",num,\" es par\")\n",
    "    else:\n",
    "        print(\"el numero \",num,\" es impar\")\n",
    "        \n",
    "\n",
    "numeros(num=int(input(\"ingrese numero: \"))) \n",
    "  \n"
   ]
  }
 ],
 "metadata": {
  "kernelspec": {
   "display_name": "Python 3",
   "language": "python",
   "name": "python3"
  },
  "language_info": {
   "codemirror_mode": {
    "name": "ipython",
    "version": 3
   },
   "file_extension": ".py",
   "mimetype": "text/x-python",
   "name": "python",
   "nbconvert_exporter": "python",
   "pygments_lexer": "ipython3",
   "version": "3.9.1"
  }
 },
 "nbformat": 4,
 "nbformat_minor": 5
}
