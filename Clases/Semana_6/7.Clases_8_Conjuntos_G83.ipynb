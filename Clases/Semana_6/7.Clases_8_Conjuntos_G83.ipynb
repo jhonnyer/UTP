{
 "cells": [
  {
   "cell_type": "code",
   "execution_count": 1,
   "id": "1428a6f5",
   "metadata": {},
   "outputs": [
    {
     "name": "stdout",
     "output_type": "stream",
     "text": [
      "{1, 2, 3, 4}\n",
      "<class 'set'>\n"
     ]
    }
   ],
   "source": [
    "#Definir un primer conjunto\n",
    "s={1,2,3,4}\n",
    "print(s)\n",
    "print(type(s))"
   ]
  },
  {
   "cell_type": "code",
   "execution_count": 2,
   "id": "e26846b4",
   "metadata": {
    "scrolled": true
   },
   "outputs": [
    {
     "ename": "TypeError",
     "evalue": "unhashable type: 'list'",
     "output_type": "error",
     "traceback": [
      "\u001b[0;31m---------------------------------------------------------------------------\u001b[0m",
      "\u001b[0;31mTypeError\u001b[0m                                 Traceback (most recent call last)",
      "\u001b[0;32m<ipython-input-2-4ac2a012e88c>\u001b[0m in \u001b[0;36m<module>\u001b[0;34m\u001b[0m\n\u001b[0;32m----> 1\u001b[0;31m \u001b[0ms\u001b[0m\u001b[0;34m=\u001b[0m\u001b[0;34m{\u001b[0m\u001b[0;34m[\u001b[0m\u001b[0;36m1\u001b[0m\u001b[0;34m,\u001b[0m\u001b[0;36m3\u001b[0m\u001b[0;34m]\u001b[0m\u001b[0;34m}\u001b[0m\u001b[0;34m\u001b[0m\u001b[0;34m\u001b[0m\u001b[0m\n\u001b[0m",
      "\u001b[0;31mTypeError\u001b[0m: unhashable type: 'list'"
     ]
    }
   ],
   "source": [
    "s={[1,3]}"
   ]
  },
  {
   "cell_type": "code",
   "execution_count": 4,
   "id": "fffacd30",
   "metadata": {},
   "outputs": [
    {
     "name": "stdout",
     "output_type": "stream",
     "text": [
      "{}\n",
      "<class 'dict'>\n"
     ]
    }
   ],
   "source": [
    "#Esto solo sirve para crear un diccionario vacio\n",
    "s={}\n",
    "print(s)\n",
    "print(type(s))"
   ]
  },
  {
   "cell_type": "code",
   "execution_count": 5,
   "id": "ee5b3bd4",
   "metadata": {
    "scrolled": true
   },
   "outputs": [
    {
     "name": "stdout",
     "output_type": "stream",
     "text": [
      "{'key1': 19, 'key2': 'valor'}\n",
      "<class 'dict'>\n"
     ]
    }
   ],
   "source": [
    "diccionario={'key1':19,'key2':'valor'}\n",
    "print(diccionario)\n",
    "print(type(diccionario))"
   ]
  },
  {
   "cell_type": "code",
   "execution_count": 6,
   "id": "791b8faf",
   "metadata": {
    "scrolled": true
   },
   "outputs": [
    {
     "name": "stdout",
     "output_type": "stream",
     "text": [
      "set()\n",
      "<class 'set'>\n"
     ]
    }
   ],
   "source": [
    "#Crear un conjunto vacio, utilizar funcion set()\n",
    "s=set()\n",
    "print(s)\n",
    "print(type(s))"
   ]
  },
  {
   "cell_type": "code",
   "execution_count": 8,
   "id": "5d334045",
   "metadata": {},
   "outputs": [
    {
     "name": "stdout",
     "output_type": "stream",
     "text": [
      "{1, 2, 3, 4}\n",
      "{'a', 'd', 'c', 'b'}\n",
      "{0, 1, 2, 3, 4, 5, 6, 7, 8, 9}\n"
     ]
    }
   ],
   "source": [
    "#crear un conjunto a partir de un elemento iterable\n",
    "s1=set([1,2,3,4])\n",
    "lista=['a','b','c','d']\n",
    "s2=set(lista)\n",
    "s3=set(range(10))\n",
    "print(s1)\n",
    "print(s2)\n",
    "print(s3)"
   ]
  },
  {
   "cell_type": "markdown",
   "id": "fa37a37c",
   "metadata": {},
   "source": [
    "# range(start, stop, step)"
   ]
  },
  {
   "cell_type": "code",
   "execution_count": 10,
   "id": "1c06bb74",
   "metadata": {},
   "outputs": [
    {
     "data": {
      "text/plain": [
       "[1, 2, 3, 4]"
      ]
     },
     "execution_count": 10,
     "metadata": {},
     "output_type": "execute_result"
    }
   ],
   "source": [
    "# Convertir una lista en un conjunto y viceversa\n",
    "list({1,2,3,4,4,4,2,1})"
   ]
  },
  {
   "cell_type": "code",
   "execution_count": 11,
   "id": "4c88c449",
   "metadata": {},
   "outputs": [
    {
     "data": {
      "text/plain": [
       "{1, 3, 4, 5}"
      ]
     },
     "execution_count": 11,
     "metadata": {},
     "output_type": "execute_result"
    }
   ],
   "source": [
    "set([1,3,4,5])"
   ]
  },
  {
   "cell_type": "code",
   "execution_count": 12,
   "id": "7ac387a7",
   "metadata": {},
   "outputs": [
    {
     "name": "stdout",
     "output_type": "stream",
     "text": [
      "{1, 3, 4, 5, 6, 7}\n"
     ]
    }
   ],
   "source": [
    "c={1,1,1,1,3,3,3,4,5,5,5,6,6,6,7}\n",
    "print(c)"
   ]
  },
  {
   "cell_type": "code",
   "execution_count": 13,
   "id": "346ceba6",
   "metadata": {},
   "outputs": [
    {
     "name": "stdout",
     "output_type": "stream",
     "text": [
      "{'a', 's', 'p', 'b', 'm', ' ', 'H', 'i', 'e', 'u', 'v', 'l', 'h', 't', 'o', 'd', 'n', 'y'}\n"
     ]
    }
   ],
   "source": [
    "a=set('Hola mundo bienvenidos a python')\n",
    "print(a)"
   ]
  },
  {
   "cell_type": "code",
   "execution_count": 14,
   "id": "3f82e2ea",
   "metadata": {
    "scrolled": true
   },
   "outputs": [
    {
     "data": {
      "text/plain": [
       "{1, 3, 4, 5, 6}"
      ]
     },
     "execution_count": 14,
     "metadata": {},
     "output_type": "execute_result"
    }
   ],
   "source": [
    "set([1,3,4,5,6,5,5,5,6])"
   ]
  },
  {
   "cell_type": "code",
   "execution_count": 17,
   "id": "edca2701",
   "metadata": {},
   "outputs": [
    {
     "name": "stdout",
     "output_type": "stream",
     "text": [
      "{1, 2, 3, 4, 5, 6, 7, 8, 9}\n",
      "1\n",
      "2\n",
      "3\n",
      "4\n",
      "5\n",
      "6\n",
      "7\n",
      "8\n",
      "9\n",
      "[1, 2, 3, 4, 5, 6, 7, 8, 9]\n"
     ]
    },
    {
     "data": {
      "text/plain": [
       "9"
      ]
     },
     "execution_count": 17,
     "metadata": {},
     "output_type": "execute_result"
    }
   ],
   "source": [
    "mi_conjunto={1,3,3,4,5,6,7,9,8,2}\n",
    "print(mi_conjunto)\n",
    "lista=[]\n",
    "for num in mi_conjunto:\n",
    "    print(num)\n",
    "    lista.append(num)\n",
    "\n",
    "print(lista)\n",
    "lista[-1]"
   ]
  },
  {
   "cell_type": "code",
   "execution_count": 18,
   "id": "10c3f736",
   "metadata": {},
   "outputs": [
    {
     "data": {
      "text/plain": [
       "['__and__',\n",
       " '__class__',\n",
       " '__class_getitem__',\n",
       " '__contains__',\n",
       " '__delattr__',\n",
       " '__dir__',\n",
       " '__doc__',\n",
       " '__eq__',\n",
       " '__format__',\n",
       " '__ge__',\n",
       " '__getattribute__',\n",
       " '__gt__',\n",
       " '__hash__',\n",
       " '__iand__',\n",
       " '__init__',\n",
       " '__init_subclass__',\n",
       " '__ior__',\n",
       " '__isub__',\n",
       " '__iter__',\n",
       " '__ixor__',\n",
       " '__le__',\n",
       " '__len__',\n",
       " '__lt__',\n",
       " '__ne__',\n",
       " '__new__',\n",
       " '__or__',\n",
       " '__rand__',\n",
       " '__reduce__',\n",
       " '__reduce_ex__',\n",
       " '__repr__',\n",
       " '__ror__',\n",
       " '__rsub__',\n",
       " '__rxor__',\n",
       " '__setattr__',\n",
       " '__sizeof__',\n",
       " '__str__',\n",
       " '__sub__',\n",
       " '__subclasshook__',\n",
       " '__xor__',\n",
       " 'add',\n",
       " 'clear',\n",
       " 'copy',\n",
       " 'difference',\n",
       " 'difference_update',\n",
       " 'discard',\n",
       " 'intersection',\n",
       " 'intersection_update',\n",
       " 'isdisjoint',\n",
       " 'issubset',\n",
       " 'issuperset',\n",
       " 'pop',\n",
       " 'remove',\n",
       " 'symmetric_difference',\n",
       " 'symmetric_difference_update',\n",
       " 'union',\n",
       " 'update']"
      ]
     },
     "execution_count": 18,
     "metadata": {},
     "output_type": "execute_result"
    }
   ],
   "source": [
    "dir(mi_conjunto)"
   ]
  },
  {
   "cell_type": "code",
   "execution_count": 20,
   "id": "6167655b",
   "metadata": {},
   "outputs": [
    {
     "name": "stdout",
     "output_type": "stream",
     "text": [
      "{1, 2, 3, 4, 5, 7, 11}\n",
      "{1, 2, 3, 4, 5, 'hola', 7, 11, 22.4}\n"
     ]
    }
   ],
   "source": [
    "#Metodo ADD()\n",
    "set_mutable1=set([4,3,11,7,5,2,1,4])\n",
    "print(set_mutable1)\n",
    "set_mutable1.add(22.4)\n",
    "set_mutable1.add('hola')\n",
    "print(set_mutable1)"
   ]
  },
  {
   "cell_type": "code",
   "execution_count": 21,
   "id": "dfc2a785",
   "metadata": {},
   "outputs": [
    {
     "name": "stdout",
     "output_type": "stream",
     "text": [
      "{1, 2, 3, 4, 5, 7, 11}\n",
      "set()\n"
     ]
    }
   ],
   "source": [
    "#MEtodo clear()\n",
    "set_mutable1=set([4,3,11,7,5,2,1,4])\n",
    "print(set_mutable1)\n",
    "set_mutable1.clear()\n",
    "print(set_mutable1)"
   ]
  },
  {
   "cell_type": "code",
   "execution_count": 23,
   "id": "877ff6c0",
   "metadata": {},
   "outputs": [
    {
     "name": "stdout",
     "output_type": "stream",
     "text": [
      "{1, 2, 3, 4, 5, 7, 11}\n",
      "{1, 2, 3, 4, 5, 7, 11}\n",
      "True\n"
     ]
    }
   ],
   "source": [
    "#Metodo copy()\n",
    "set_mutable1=set([4,3,11,7,5,2,1,4])\n",
    "print(set_mutable1)\n",
    "otro_set=set_mutable1.copy()\n",
    "print(otro_set)\n",
    "print(otro_set==set_mutable1)"
   ]
  },
  {
   "cell_type": "code",
   "execution_count": 26,
   "id": "70ed808d",
   "metadata": {},
   "outputs": [
    {
     "name": "stdout",
     "output_type": "stream",
     "text": [
      "{1, 2, 3, 4, 5, 7, 11}\n",
      "{2, 4, 5, 8, 9, 11}\n",
      "{1, 3, 7}\n",
      "{8, 9}\n"
     ]
    }
   ],
   "source": [
    "#Metodo difference()\n",
    "set_mutable1=set([4,3,11,7,5,2,1,4])\n",
    "set_mutable2=set([11,5,9,2,4,8])\n",
    "print(set_mutable1)\n",
    "print(set_mutable2)\n",
    "print(set_mutable1.difference(set_mutable2))\n",
    "print(set_mutable2.difference(set_mutable1))"
   ]
  },
  {
   "cell_type": "code",
   "execution_count": 28,
   "id": "2d20797d",
   "metadata": {},
   "outputs": [
    {
     "name": "stdout",
     "output_type": "stream",
     "text": [
      "{2, 3}\n",
      "{1, 4}\n"
     ]
    }
   ],
   "source": [
    "a={1,2,3,4}\n",
    "b={2,2,2,2,3}\n",
    "print(b)\n",
    "c=a-b\n",
    "print(c)"
   ]
  },
  {
   "cell_type": "code",
   "execution_count": 29,
   "id": "6c7512fd",
   "metadata": {},
   "outputs": [
    {
     "data": {
      "text/plain": [
       "True"
      ]
     },
     "execution_count": 29,
     "metadata": {},
     "output_type": "execute_result"
    }
   ],
   "source": [
    "#Un conjunto es igual a otro conjunto si todos los elementos \n",
    "#coinciden\n",
    "{1,2,3}=={3,1,2}"
   ]
  },
  {
   "cell_type": "code",
   "execution_count": 30,
   "id": "cbe34673",
   "metadata": {},
   "outputs": [
    {
     "data": {
      "text/plain": [
       "False"
      ]
     },
     "execution_count": 30,
     "metadata": {},
     "output_type": "execute_result"
    }
   ],
   "source": [
    "#Un conjunto es igual a otro conjunto si todos los elementos \n",
    "#coinciden\n",
    "{1,2,3}=={3,1,6}"
   ]
  },
  {
   "cell_type": "code",
   "execution_count": 32,
   "id": "0c22cb70",
   "metadata": {},
   "outputs": [
    {
     "name": "stdout",
     "output_type": "stream",
     "text": [
      "{'zope2', 'python', 'zodb3', 'pytz'}\n",
      "{'plone', 'python', 'diazo'}\n",
      "\n",
      "\n",
      "{'zope2', 'zodb3', 'pytz'}\n"
     ]
    }
   ],
   "source": [
    "#Metodo difference_update()\n",
    "proyecto1={'python','zope2','zodb3','pytz'}\n",
    "proyecto2={'python','plone','diazo'}\n",
    "print(proyecto1)\n",
    "print(proyecto2)\n",
    "\n",
    "proyecto1.difference_update(proyecto2)\n",
    "print('\\n')\n",
    "print(proyecto1)"
   ]
  },
  {
   "cell_type": "code",
   "execution_count": 34,
   "id": "b83d511e",
   "metadata": {},
   "outputs": [
    {
     "name": "stdout",
     "output_type": "stream",
     "text": [
      "{'zope2', 'python', 'zodb3', 'pytz'}\n",
      "{'zope2', 'python', 'zodb3'}\n"
     ]
    }
   ],
   "source": [
    "#metodo discard()\n",
    "proyecto1={'python','zope2','zodb3','pytz'}\n",
    "print(proyecto1)\n",
    "proyecto1.discard('pytz')\n",
    "print(proyecto1)"
   ]
  },
  {
   "cell_type": "code",
   "execution_count": 36,
   "id": "0516e23c",
   "metadata": {},
   "outputs": [
    {
     "name": "stdout",
     "output_type": "stream",
     "text": [
      "{'zope2', 'python', 'zodb3'}\n"
     ]
    }
   ],
   "source": [
    "proyecto1.discard('php')\n",
    "print(proyecto1)"
   ]
  },
  {
   "cell_type": "code",
   "execution_count": 37,
   "id": "31bfeb72",
   "metadata": {},
   "outputs": [
    {
     "name": "stdout",
     "output_type": "stream",
     "text": [
      "{1, 2, 3, 4, 5, 7, 11}\n",
      "{2, 4, 5, 8, 9, 11}\n",
      "{2, 11, 4, 5}\n",
      "{2, 11, 4, 5}\n"
     ]
    }
   ],
   "source": [
    "#Metodo intersection()\n",
    "set_mutable1=set([4,3,11,7,5,2,1,4])\n",
    "set_mutable2=set([11,5,9,2,4,8])\n",
    "print(set_mutable1)\n",
    "print(set_mutable2)\n",
    "print(set_mutable1.intersection(set_mutable2))\n",
    "print(set_mutable2.intersection(set_mutable1))"
   ]
  },
  {
   "cell_type": "code",
   "execution_count": 38,
   "id": "2e013287",
   "metadata": {},
   "outputs": [
    {
     "name": "stdout",
     "output_type": "stream",
     "text": [
      "{2, 11, 4, 5}\n"
     ]
    }
   ],
   "source": [
    "#Metodo intersection mediante operador &\n",
    "set_mutable1=set([4,3,11,7,5,2,1,4])\n",
    "set_mutable2=set([11,5,9,2,4,8])\n",
    "\n",
    "interseccion=set_mutable1&set_mutable2\n",
    "print(interseccion)"
   ]
  },
  {
   "cell_type": "code",
   "execution_count": 40,
   "id": "2a2eb77b",
   "metadata": {},
   "outputs": [
    {
     "name": "stdout",
     "output_type": "stream",
     "text": [
      "{'python', 'zodb3', 'php', 'zope2', 'pytz'}\n",
      "{'plone', 'python', 'diazo', 'php'}\n",
      "{'plone', 'python', 'diazo', 'php'}\n",
      "{'python', 'php'}\n"
     ]
    }
   ],
   "source": [
    "#metodo intersection_update()\n",
    "proyecto1={'python','zope2','zodb3','pytz','php'}\n",
    "proyecto2={'python','plone','diazo','php'}\n",
    "proyecto3={'python','django','php'}\n",
    "print(proyecto1)\n",
    "print(proyecto2)\n",
    "print(proyecto2)\n",
    "proyecto3.intersection_update(proyecto1,proyecto2)\n",
    "print(proyecto3)"
   ]
  },
  {
   "cell_type": "code",
   "execution_count": 42,
   "id": "a7c8e037",
   "metadata": {},
   "outputs": [
    {
     "name": "stdout",
     "output_type": "stream",
     "text": [
      "{1, 2, 3, 4, 5, 7, 11}\n",
      "{2, 4, 5, 8, 9, 11}\n",
      "{12, 13}\n",
      "False\n",
      "True\n"
     ]
    }
   ],
   "source": [
    "#MEtodo isdisjoint(), devuelve True si no hay elementos comunes en ambos conjuntos\n",
    "set_mutable1=set([4,3,11,7,5,2,1,4])\n",
    "set_mutable2=set([11,5,9,2,4,8])\n",
    "set_mutable3=set([12,13])\n",
    "print(set_mutable1)\n",
    "print(set_mutable2)\n",
    "print(set_mutable3)\n",
    "print(set_mutable1.isdisjoint(set_mutable2))\n",
    "print(set_mutable1.isdisjoint(set_mutable3))"
   ]
  },
  {
   "cell_type": "code",
   "execution_count": 43,
   "id": "3eb3c541",
   "metadata": {},
   "outputs": [
    {
     "name": "stdout",
     "output_type": "stream",
     "text": [
      "{1, 2, 3, 4, 5, 7, 11}\n",
      "{2, 4, 5, 8, 9, 11}\n",
      "{2, 11, 4, 5}\n",
      "False\n",
      "True\n"
     ]
    }
   ],
   "source": [
    "#metodo issubset()\n",
    "set_mutable1=set([4,3,11,7,5,2,1,4])\n",
    "set_mutable2=set([11,5,9,2,4,8])\n",
    "set_mutable3=set([11,5,2,4])\n",
    "print(set_mutable1)\n",
    "print(set_mutable2)\n",
    "print(set_mutable3)\n",
    "print(set_mutable2.issubset(set_mutable1))\n",
    "print(set_mutable3.issubset(set_mutable1))"
   ]
  },
  {
   "cell_type": "code",
   "execution_count": 44,
   "id": "591db231",
   "metadata": {},
   "outputs": [
    {
     "name": "stdout",
     "output_type": "stream",
     "text": [
      "{1, 2, 3, 4, 5, 7, 11}\n",
      "{2, 4, 5, 8, 9, 11}\n",
      "{2, 11, 4, 5}\n",
      "False\n",
      "True\n"
     ]
    }
   ],
   "source": [
    "#metodo issubset()\n",
    "set_mutable1=set([4,3,11,7,5,2,1,4])\n",
    "set_mutable2=set([11,5,9,2,4,8])\n",
    "set_mutable3=set([11,5,2,4])\n",
    "print(set_mutable1)\n",
    "print(set_mutable2)\n",
    "print(set_mutable3)\n",
    "print(set_mutable1.issuperset(set_mutable2))\n",
    "print(set_mutable1.issuperset(set_mutable3))"
   ]
  },
  {
   "cell_type": "code",
   "execution_count": 45,
   "id": "8f640151",
   "metadata": {},
   "outputs": [
    {
     "name": "stdout",
     "output_type": "stream",
     "text": [
      "{'python', 'zodb3', 'php', 'zope2', 'pytz'}\n",
      "{'zodb3', 'php', 'zope2', 'pytz'}\n"
     ]
    }
   ],
   "source": [
    "#Metodo POP()\n",
    "proyecto1={'python','zope2','zodb3','pytz','php'}\n",
    "print(proyecto1)\n",
    "proyecto1.pop()\n",
    "print(proyecto1)"
   ]
  },
  {
   "cell_type": "code",
   "execution_count": 47,
   "id": "bf7aa09d",
   "metadata": {},
   "outputs": [
    {
     "name": "stdout",
     "output_type": "stream",
     "text": [
      "{'zope2', 'pytz'}\n",
      "{'pytz'}\n",
      "set()\n"
     ]
    }
   ],
   "source": [
    "proyecto1.pop()\n",
    "print(proyecto1)\n",
    "proyecto1.pop()\n",
    "print(proyecto1)\n",
    "proyecto1.pop()\n",
    "print(proyecto1)"
   ]
  },
  {
   "cell_type": "code",
   "execution_count": 46,
   "id": "df1167e2",
   "metadata": {},
   "outputs": [
    {
     "name": "stdout",
     "output_type": "stream",
     "text": [
      "{'php', 'zope2', 'pytz'}\n"
     ]
    }
   ],
   "source": [
    "proyecto1.pop()\n",
    "print(proyecto1)"
   ]
  },
  {
   "cell_type": "code",
   "execution_count": 50,
   "id": "189bb3b0",
   "metadata": {},
   "outputs": [
    {
     "ename": "KeyError",
     "evalue": "'pop from an empty set'",
     "output_type": "error",
     "traceback": [
      "\u001b[0;31m---------------------------------------------------------------------------\u001b[0m",
      "\u001b[0;31mKeyError\u001b[0m                                  Traceback (most recent call last)",
      "\u001b[0;32m<ipython-input-50-d33a0ed7cee0>\u001b[0m in \u001b[0;36m<module>\u001b[0;34m\u001b[0m\n\u001b[1;32m      1\u001b[0m \u001b[0;31m#Cuando el conjunto esta vacio, retorna un error o una excepcion de KeyError\u001b[0m\u001b[0;34m\u001b[0m\u001b[0;34m\u001b[0m\u001b[0;34m\u001b[0m\u001b[0m\n\u001b[0;32m----> 2\u001b[0;31m \u001b[0mproyecto1\u001b[0m\u001b[0;34m.\u001b[0m\u001b[0mpop\u001b[0m\u001b[0;34m(\u001b[0m\u001b[0;34m)\u001b[0m\u001b[0;34m\u001b[0m\u001b[0;34m\u001b[0m\u001b[0m\n\u001b[0m\u001b[1;32m      3\u001b[0m \u001b[0mprint\u001b[0m\u001b[0;34m(\u001b[0m\u001b[0mproyecto1\u001b[0m\u001b[0;34m)\u001b[0m\u001b[0;34m\u001b[0m\u001b[0;34m\u001b[0m\u001b[0m\n",
      "\u001b[0;31mKeyError\u001b[0m: 'pop from an empty set'"
     ]
    }
   ],
   "source": [
    "#Cuando el conjunto esta vacio, retorna un error o una excepcion de KeyError\n",
    "proyecto1.pop()\n",
    "print(proyecto1)"
   ]
  },
  {
   "cell_type": "code",
   "execution_count": 53,
   "id": "0a415ab2",
   "metadata": {},
   "outputs": [
    {
     "name": "stdout",
     "output_type": "stream",
     "text": [
      "{'python', 'zodb3', 'php', 'zope2', 'pytz'}\n",
      "{'python', 'zodb3', 'zope2', 'pytz'}\n"
     ]
    }
   ],
   "source": [
    "#Metodo remove, si el elemento no esta en el conjunto retorna una excepcion KeyError\n",
    "proyecto1={'python','zope2','zodb3','pytz','php'}\n",
    "print(proyecto1)\n",
    "proyecto1.remove('php')\n",
    "print(proyecto1)"
   ]
  },
  {
   "cell_type": "code",
   "execution_count": 52,
   "id": "41172c25",
   "metadata": {},
   "outputs": [
    {
     "ename": "KeyError",
     "evalue": "'php'",
     "output_type": "error",
     "traceback": [
      "\u001b[0;31m---------------------------------------------------------------------------\u001b[0m",
      "\u001b[0;31mKeyError\u001b[0m                                  Traceback (most recent call last)",
      "\u001b[0;32m<ipython-input-52-3ef78c503e20>\u001b[0m in \u001b[0;36m<module>\u001b[0;34m\u001b[0m\n\u001b[0;32m----> 1\u001b[0;31m \u001b[0mproyecto1\u001b[0m\u001b[0;34m.\u001b[0m\u001b[0mremove\u001b[0m\u001b[0;34m(\u001b[0m\u001b[0;34m'php'\u001b[0m\u001b[0;34m)\u001b[0m\u001b[0;34m\u001b[0m\u001b[0;34m\u001b[0m\u001b[0m\n\u001b[0m\u001b[1;32m      2\u001b[0m \u001b[0mprint\u001b[0m\u001b[0;34m(\u001b[0m\u001b[0mproyecto1\u001b[0m\u001b[0;34m)\u001b[0m\u001b[0;34m\u001b[0m\u001b[0;34m\u001b[0m\u001b[0m\n",
      "\u001b[0;31mKeyError\u001b[0m: 'php'"
     ]
    }
   ],
   "source": [
    "proyecto1.remove('php')\n",
    "print(proyecto1)"
   ]
  },
  {
   "cell_type": "code",
   "execution_count": 54,
   "id": "0d02b5b0",
   "metadata": {},
   "outputs": [
    {
     "name": "stdout",
     "output_type": "stream",
     "text": [
      "{'zodb3', 'zope2', 'pytz'}\n"
     ]
    }
   ],
   "source": [
    "proyecto1.discard('python')\n",
    "print(proyecto1)"
   ]
  },
  {
   "cell_type": "code",
   "execution_count": 56,
   "id": "3830cf82",
   "metadata": {
    "scrolled": true
   },
   "outputs": [
    {
     "ename": "KeyError",
     "evalue": "'python'",
     "output_type": "error",
     "traceback": [
      "\u001b[0;31m---------------------------------------------------------------------------\u001b[0m",
      "\u001b[0;31mKeyError\u001b[0m                                  Traceback (most recent call last)",
      "\u001b[0;32m<ipython-input-56-216729e8cb3b>\u001b[0m in \u001b[0;36m<module>\u001b[0;34m\u001b[0m\n\u001b[0;32m----> 1\u001b[0;31m \u001b[0mproyecto1\u001b[0m\u001b[0;34m.\u001b[0m\u001b[0mremove\u001b[0m\u001b[0;34m(\u001b[0m\u001b[0;34m'python'\u001b[0m\u001b[0;34m)\u001b[0m\u001b[0;34m\u001b[0m\u001b[0;34m\u001b[0m\u001b[0m\n\u001b[0m\u001b[1;32m      2\u001b[0m \u001b[0mprint\u001b[0m\u001b[0;34m(\u001b[0m\u001b[0mproyecto1\u001b[0m\u001b[0;34m)\u001b[0m\u001b[0;34m\u001b[0m\u001b[0;34m\u001b[0m\u001b[0m\n",
      "\u001b[0;31mKeyError\u001b[0m: 'python'"
     ]
    }
   ],
   "source": [
    "proyecto1.remove('python')\n",
    "print(proyecto1)"
   ]
  },
  {
   "cell_type": "code",
   "execution_count": 59,
   "id": "48e3f66a",
   "metadata": {},
   "outputs": [
    {
     "name": "stdout",
     "output_type": "stream",
     "text": [
      "{1, 2, 3, 4, 5, 7, 11}\n",
      "{2, 4, 5, 8, 9, 11}\n",
      "{1, 3, 7, 8, 9}\n",
      "{1, 3, 7, 8, 9}\n"
     ]
    }
   ],
   "source": [
    "#Metodo symmetric_difference(), los elementos que esten en cualquier conjunto\n",
    "#pero no en ambos\n",
    "set_mutable1=set([4,3,11,7,5,2,1,4])\n",
    "set_mutable2=set([11,5,9,2,4,8])\n",
    "print(set_mutable1)\n",
    "print(set_mutable2)\n",
    "print(set_mutable1.symmetric_difference(set_mutable2))\n",
    "var=set_mutable1.symmetric_difference(set_mutable2)\n",
    "print(var)"
   ]
  },
  {
   "cell_type": "code",
   "execution_count": 61,
   "id": "335db029",
   "metadata": {},
   "outputs": [
    {
     "name": "stdout",
     "output_type": "stream",
     "text": [
      "{'python', 'zodb3', 'php', 'zope2', 'pytz'}\n",
      "{'plone', 'python', 'diazo', 'php'}\n",
      "\n",
      "\n",
      "{'zodb3', 'plone', 'zope2', 'diazo', 'pytz'}\n"
     ]
    }
   ],
   "source": [
    "#Metodo symmetric_difference_update()\n",
    "proyecto1={'python','zope2','zodb3','pytz','php'}\n",
    "proyecto2={'python','plone','diazo','php'}\n",
    "print(proyecto1)\n",
    "print(proyecto2)\n",
    "print('\\n')\n",
    "proyecto1.symmetric_difference_update(proyecto2)\n",
    "print(proyecto1)"
   ]
  },
  {
   "cell_type": "code",
   "execution_count": 63,
   "id": "d5ad358e",
   "metadata": {},
   "outputs": [
    {
     "name": "stdout",
     "output_type": "stream",
     "text": [
      "{1, 2, 3, 4, 5, 7, 11}\n",
      "{2, 4, 5, 8, 9, 11}\n",
      "{1, 2, 3, 4, 5, 7, 8, 9, 11}\n"
     ]
    }
   ],
   "source": [
    "#Metodo UNION()\n",
    "set_mutable1=set([4,3,11,7,5,2,1,4])\n",
    "set_mutable2=set([11,5,9,2,4,8])\n",
    "print(set_mutable1)\n",
    "print(set_mutable2)\n",
    "\n",
    "var=set_mutable1.union(set_mutable2)\n",
    "print(var)"
   ]
  },
  {
   "cell_type": "code",
   "execution_count": 64,
   "id": "36a8163b",
   "metadata": {},
   "outputs": [
    {
     "name": "stdout",
     "output_type": "stream",
     "text": [
      "{1, 2, 3, 4, 22}\n",
      "{5, 6, 7, 8, 9}\n",
      "{1, 2, 3, 4, 5, 6, 7, 8, 9, 22}\n"
     ]
    }
   ],
   "source": [
    "#Metodo UNION()\n",
    "set_mutable1={1,2,3,4,4,4,4,22,2,2,1}\n",
    "set_mutable2=set([5,6,7,8,8,8,8,9])\n",
    "print(set_mutable1)\n",
    "print(set_mutable2)\n",
    "\n",
    "var=set_mutable1|set_mutable2\n",
    "print(var)"
   ]
  },
  {
   "cell_type": "code",
   "execution_count": 65,
   "id": "b2a7eea4",
   "metadata": {},
   "outputs": [
    {
     "name": "stdout",
     "output_type": "stream",
     "text": [
      "{5.1, 6}\n",
      "{3.6, 2.1, 2.5, 4}\n",
      "\n",
      "\n",
      "{2.1, 3.6, 2.5, 4, 5.1, 6}\n"
     ]
    }
   ],
   "source": [
    "#MEtodo update()\n",
    "versiones_plone_dev=set([5.1,6])\n",
    "print(versiones_plone_dev)\n",
    "versiones_plone=set([2.1,2.5,3.6,4])\n",
    "print(versiones_plone)\n",
    "versiones_plone.update(versiones_plone_dev)\n",
    "print('\\n')\n",
    "print(versiones_plone)"
   ]
  },
  {
   "cell_type": "code",
   "execution_count": 66,
   "id": "336f5467",
   "metadata": {},
   "outputs": [
    {
     "name": "stdout",
     "output_type": "stream",
     "text": [
      "{'a', 1, 2, 'm', ' ', 'u', 'l', 'h', 'o', 'd', 'n'}\n"
     ]
    }
   ],
   "source": [
    "#Metodo update\n",
    "cadena='hola mundo'\n",
    "conjunto={1,2}\n",
    "conjunto.update(cadena)\n",
    "print(conjunto)"
   ]
  },
  {
   "cell_type": "code",
   "execution_count": 74,
   "id": "365c54ab",
   "metadata": {},
   "outputs": [
    {
     "name": "stdout",
     "output_type": "stream",
     "text": [
      "{'key1': 2, 'key2': 'hola'}\n",
      "dict_values([2, 'hola'])\n",
      "dict_keys(['key1', 'key2'])\n",
      "dict_items([('key1', 2), ('key2', 'hola')])\n",
      "{'a', 'key1', 'key2', 'b'}\n"
     ]
    }
   ],
   "source": [
    "#Conjunto con los datos de la llaves (claves) de un diccionario \n",
    "diccionario={'key1':2,'key2':'hola'}\n",
    "print(diccionario)\n",
    "print(diccionario.values())\n",
    "print(diccionario.keys())\n",
    "print(diccionario.items())\n",
    "conjunto={'a','b'}\n",
    "conjunto.update(diccionario)\n",
    "print(conjunto)"
   ]
  },
  {
   "cell_type": "code",
   "execution_count": 75,
   "id": "19d8ace4",
   "metadata": {},
   "outputs": [
    {
     "name": "stdout",
     "output_type": "stream",
     "text": [
      "{'a', 2, 'hola', 'b'}\n"
     ]
    }
   ],
   "source": [
    "#Conjunto con los valores de un diccionario  mediante funcion values()\n",
    "conjunto={'a','b'}\n",
    "conjunto.update(diccionario.values())\n",
    "print(conjunto)"
   ]
  }
 ],
 "metadata": {
  "kernelspec": {
   "display_name": "Python 3",
   "language": "python",
   "name": "python3"
  },
  "language_info": {
   "codemirror_mode": {
    "name": "ipython",
    "version": 3
   },
   "file_extension": ".py",
   "mimetype": "text/x-python",
   "name": "python",
   "nbconvert_exporter": "python",
   "pygments_lexer": "ipython3",
   "version": "3.9.1"
  }
 },
 "nbformat": 4,
 "nbformat_minor": 5
}
