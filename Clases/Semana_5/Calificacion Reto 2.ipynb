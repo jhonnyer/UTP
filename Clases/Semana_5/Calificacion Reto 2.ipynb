{
 "cells": [
  {
   "cell_type": "markdown",
   "id": "25cebdb0",
   "metadata": {},
   "source": [
    "100 -> 5\n",
    "x    -> 4\n",
    "x=(100*4)/5\n",
    "x=80\n"
   ]
  },
  {
   "cell_type": "markdown",
   "id": "75941451",
   "metadata": {},
   "source": [
    "v=(x/4)*0.05"
   ]
  },
  {
   "cell_type": "code",
   "execution_count": 71,
   "id": "43749030",
   "metadata": {},
   "outputs": [
    {
     "name": "stdout",
     "output_type": "stream",
     "text": [
      "2.35\n"
     ]
    }
   ],
   "source": [
    "b=2.353454545\n",
    "c=\"{:.2f}\".format(b)\n",
    "print(c)"
   ]
  },
  {
   "cell_type": "markdown",
   "id": "8a9b1e6b",
   "metadata": {},
   "source": [
    "# Grupo 232"
   ]
  },
  {
   "cell_type": "markdown",
   "id": "50bcc4b9",
   "metadata": {},
   "source": [
    "# Isabela Ojeda Montealegre\n"
   ]
  },
  {
   "cell_type": "code",
   "execution_count": 20,
   "id": "cc680cbb",
   "metadata": {},
   "outputs": [
    {
     "name": "stdout",
     "output_type": "stream",
     "text": [
      "El promedio ajustado del estudiante AA0010276 es:3.28\n"
     ]
    }
   ],
   "source": [
    "#calcular el promedio de un estudiante\n",
    "def nota_quices(codigo:str,nota1:int,nota2:int,nota3:int,nota4:int,nota5:int):\n",
    "    x=min(nota1,nota2,nota3,nota4,nota5)\n",
    "    promedio=((nota1+nota2+nota3+nota4+nota5)-x)/4\n",
    "    promedio_total= float(promedio)\n",
    "#     promedio_total=promedio\n",
    "#     promedio_total=round(promedio_total,2)\n",
    "    promedio_total=\"{0:.2f}\".format(promedio_total)\n",
    "    promedio_total=str(promedio_total)\n",
    "    return print(\"El promedio ajustado del estudiante {} es:{}\".format(codigo,promedio_total))\n",
    "\n",
    "\n",
    "codigo_estudiante=\"AA0010276\"\n",
    "n1=40\n",
    "n2=50\n",
    "n3=39\n",
    "n4=76\n",
    "n5=96\n",
    "\n",
    "n1=n1/20\n",
    "n2=n2/20\n",
    "n3=n3/20\n",
    "n4=n4/20\n",
    "n5=n5/20\n",
    "promedio=nota_quices(codigo_estudiante,n1,n2,n3,n4,n5)"
   ]
  },
  {
   "cell_type": "code",
   "execution_count": 25,
   "id": "2c845f4c",
   "metadata": {},
   "outputs": [
    {
     "name": "stdout",
     "output_type": "stream",
     "text": [
      "3.275\n",
      "El promedio ajustado del estudiante AA0010276 es: 3.27\n"
     ]
    }
   ],
   "source": [
    "def nota_quices(codigo:str,nota1:int,nota2:int,nota3:int,nota4:int,nota5:int):\n",
    "    x=min(nota1,nota2,nota3,nota4,nota5)\n",
    "    suma_notas=(nota1+nota2+nota3+nota4+nota5)-x\n",
    "    promedio=suma_notas/4\n",
    "    promedio=promedio/20\n",
    "    print(promedio)\n",
    "    promedia=\"{0:.2f}\".format(promedio)\n",
    "    return \"El promedio ajustado del estudiante {} es: {}\" .format(codigo, promedia)\n",
    "\n",
    "Codigo=\"AA0010276\"\n",
    "nota1=40\n",
    "nota2=50\n",
    "nota3=39\n",
    "nota4=76\n",
    "nota5=96\n",
    "\n",
    "promedio= nota_quices(Codigo, nota1, nota2, nota3, nota4, nota5)\n",
    "print (promedio)"
   ]
  },
  {
   "cell_type": "markdown",
   "id": "e21fbff8",
   "metadata": {},
   "source": [
    "# Yuber Alexis Valencia Samboni"
   ]
  },
  {
   "cell_type": "code",
   "execution_count": 21,
   "id": "b5eb716b",
   "metadata": {},
   "outputs": [
    {
     "name": "stdout",
     "output_type": "stream",
     "text": [
      "el promedio ajustado del estudiante AB0001 'es' 4.0\n"
     ]
    },
    {
     "data": {
      "text/plain": [
       "float"
      ]
     },
     "execution_count": 21,
     "metadata": {},
     "output_type": "execute_result"
    }
   ],
   "source": [
    "# nota final sin la peor nota\n",
    "# promedio notas \n",
    "## 5 notas \n",
    "## se elimina la nenor de ellas\n",
    "# estudiante AB0001- año A, cñase B, estudiantes numero ooo1\n",
    "\n",
    "#Funcion\n",
    "nt1=4\n",
    "nt2=3.5\n",
    "nt3=2.5\n",
    "nt4=5\n",
    "nt5=3.5\n",
    "estudiante= \"AB0001\"\n",
    "\n",
    "def promedio(nt1,nt2,nt3,nt4,nt5):\n",
    "    suma=sum((nt1,nt2,nt3,nt4,nt5))\n",
    "    promedio=suma/5\n",
    "    print(\"promedio de las 5 quises es\",promedio)\n",
    "    return promedio\n",
    "    \n",
    "    promedio(4,3.5,2.5,5,3.5)\n",
    "    #identificar y eliminar la peor nota\n",
    "    prom=(nt1,nt2,nt3,n4,nt5)\n",
    "    mini=min(prom)\n",
    "    print('La nota mas baja es \"',mini,'\"')\n",
    "nota_final=(nt1+nt2+nt4+nt5)/4\n",
    "\n",
    "print (\"el promedio ajustado del estudiante\", estudiante, \"'es'\", nota_final)\n",
    "type (nota_final)"
   ]
  },
  {
   "cell_type": "code",
   "execution_count": 47,
   "id": "eb9ac708",
   "metadata": {},
   "outputs": [
    {
     "name": "stdout",
     "output_type": "stream",
     "text": [
      "2\n",
      "3.5\n",
      "el estudiante_01 obtuvo un promedio de: 3.5 sobre 5.\n"
     ]
    },
    {
     "data": {
      "text/plain": [
       "float"
      ]
     },
     "execution_count": 47,
     "metadata": {},
     "output_type": "execute_result"
    }
   ],
   "source": [
    "#Funcion\n",
    "def promedio(cod_est,nt1,nt2,nt3,nt4,nt5):\n",
    "    minimo=min(nt1,nt2,nt3,nt4,nt5)\n",
    "    print(minimo)\n",
    "    type(minimo)\n",
    "    suma=(nt1+nt2+nt3+nt4+nt5-minimo)\n",
    "    prom=(suma/4)\n",
    "    print(prom)\n",
    "    type(prom)\n",
    "    return prom\n",
    "#determinar los valores a usar y asignarlos\n",
    "cod_est='estudiante_01'\n",
    "nt1=3\n",
    "nt2=4\n",
    "nt3=4\n",
    "nt4=2\n",
    "nt5=3\n",
    "nota=promedio(cod_est,nt1,nt2,nt3,nt4,nt5)\n",
    "print(\"el {} obtuvo un promedio de: {} sobre 5.\". format(cod_est,nota))\n",
    "type(nota)"
   ]
  },
  {
   "cell_type": "markdown",
   "id": "622f0027",
   "metadata": {},
   "source": [
    "# Regulo Esteban Aguilar Fonseca"
   ]
  },
  {
   "cell_type": "code",
   "execution_count": 33,
   "id": "7400dad1",
   "metadata": {},
   "outputs": [
    {
     "name": "stdout",
     "output_type": "stream",
     "text": [
      "El promdedio ajustado del estudiante124es de: 5.50\n"
     ]
    },
    {
     "data": {
      "text/plain": [
       "'5.50'"
      ]
     },
     "execution_count": 33,
     "metadata": {},
     "output_type": "execute_result"
    }
   ],
   "source": [
    "def notasdeclases(codigo:str, nota1:int, nota2:int, nota3:int, nota4:int, nota5:int ):\n",
    "    a=min(nota1,nota2,nota3,nota4,nota5)\n",
    "    b=(nota1+nota2+nota3+nota4+nota5-a)/4\n",
    "    #c=\":.2f\",format(b)  #Linea esta mal\n",
    "    #Linea corregida\n",
    "    c=\"{:.2f}\".format(b)\n",
    "    d= str(c)\n",
    "    print(\"El promdedio ajustado del estudiante{}es de: {}\".format(codigo,d))\n",
    "    return d\n",
    "    \n",
    "notasdeclases(124,2,4,5,6,7)"
   ]
  },
  {
   "cell_type": "markdown",
   "id": "c05b86b3",
   "metadata": {},
   "source": [
    "# Johan Tobon Zapata"
   ]
  },
  {
   "cell_type": "code",
   "execution_count": 37,
   "id": "3eb97487",
   "metadata": {},
   "outputs": [
    {
     "name": "stdout",
     "output_type": "stream",
     "text": [
      "Codigo del estudiantes (este debe tener 5 digitos): 5\n",
      "Nota del primer quiz reto semestre 1-100: 4\n",
      "Nota del segundo quiz del semestre 1-100: 3\n",
      "Nota del tercer quiz del semestre 1-100: 5\n",
      "Nota del cuarto quiz del semestre 1-100: 3\n",
      "Nota del quinto quiz del semestre 1-100: 5\n",
      "3\n",
      "4.25\n",
      "5tienes un promedio de notas de:4.25 sobre 100.\n",
      "3\n",
      "4.25\n",
      "5tienes un promedio de notas de:4.25 sobre 100.\n"
     ]
    }
   ],
   "source": [
    "def Notas(Codigo,nota1,nota2,nota3,nota4,nota5):\n",
    "        \n",
    "        minimo=min(nota1,nota2,nota3,nota4,nota5)\n",
    "        print(minimo)\n",
    "        sumar=(nota1+nota2+nota3+nota4+nota5-minimo)\n",
    "        Prome=(sumar/4)\n",
    "#         return Prome\n",
    "        print(Prome)\n",
    "        promedio=round(Prome,2)\n",
    "        print (\"{}tienes un promedio de notas de:{} sobre 100.\".format(Codigo,Prome))\n",
    "         \n",
    "        #Sumar=sum((nota1,nota2,nota3,nota4,nota5))\n",
    "        #sumar=Sumar-minimo\n",
    "\n",
    "Codigo=input(\"Codigo del estudiantes (este debe tener 5 digitos): \")\n",
    "nota1=int(input(\"Nota del primer quiz reto semestre 1-100: \"))\n",
    "nota2=int(input(\"Nota del segundo quiz del semestre 1-100: \"))\n",
    "nota3=int(input(\"Nota del tercer quiz del semestre 1-100: \"))\n",
    "nota4=int(input(\"Nota del cuarto quiz del semestre 1-100: \"))\n",
    "nota5=int(input(\"Nota del quinto quiz del semestre 1-100: \"))\n",
    "Promedio=Notas(Codigo,nota1,nota2,nota3,nota4,nota5)\n",
    "Notas(Codigo, nota1, nota2, nota3, nota4, nota5)"
   ]
  },
  {
   "cell_type": "code",
   "execution_count": 27,
   "id": "6f0c75e0",
   "metadata": {},
   "outputs": [
    {
     "name": "stdout",
     "output_type": "stream",
     "text": [
      "Codigo del estudiantes: 40\n",
      "Nota del primer quiz reto semestre 1-100: 4\n",
      "Nota del segundo quiz del semestre 1-100: 3\n",
      "Nota del tercer quiz del semestre 1-100: 3\n",
      "Nota del cuarto quiz del semestre 1-100: 3\n",
      "Nota del quinto quiz del semestre 1-100: 3\n",
      "3\n",
      "El promedio ajustado del estudiante 40 es de: 0.16 sobre 5.\n"
     ]
    }
   ],
   "source": [
    "def Notas(Codigo,nota1,nota2,nota3,nota4,nota5):\n",
    "    minimo=min(nota1,nota2,nota3,nota4,nota5)\n",
    "    print(minimo)\n",
    "    Sumar=(nota1+nota2+nota3+nota4+nota5-minimo)\n",
    "    Promedio=(Sumar/80)\n",
    "    Promedio=round(Promedio,2)\n",
    "    print(\"El promedio ajustado del estudiante {} es de: {} sobre 5.\".format(Codigo,Promedio))\n",
    "        \n",
    "Codigo=input(\"Codigo del estudiantes: \")\n",
    "nota1=int(input(\"Nota del primer quiz reto semestre 1-100: \"))\n",
    "nota2=int(input(\"Nota del segundo quiz del semestre 1-100: \"))\n",
    "nota3=int(input(\"Nota del tercer quiz del semestre 1-100: \"))\n",
    "nota4=int(input(\"Nota del cuarto quiz del semestre 1-100: \"))\n",
    "nota5=int(input(\"Nota del quinto quiz del semestre 1-100: \"))\n",
    "\n",
    "Notas(Codigo, nota1,nota2,nota3,nota4,nota5)"
   ]
  },
  {
   "cell_type": "markdown",
   "id": "07d47673",
   "metadata": {},
   "source": [
    "# Jonathan David Castiblanco Vargas"
   ]
  },
  {
   "cell_type": "code",
   "execution_count": 41,
   "id": "cc7e3fa2",
   "metadata": {},
   "outputs": [
    {
     "name": "stdout",
     "output_type": "stream",
     "text": [
      "Codigo del estudiantes: 656\n",
      "Nota del primer quiz reto semestre 1-100: 40\n",
      "Nota del segundo quiz del semestre 1-100: 50\n",
      "Nota del tercer quiz del semestre 1-100: 39\n",
      "Nota del cuarto quiz del semestre 1-100: 76\n",
      "Nota del quinto quiz del semestre 1-100: 96\n",
      "39\n",
      "El promedio ajustado del estudiante 656 es de: 3.27 sobre 5.\n"
     ]
    }
   ],
   "source": [
    "def Notas(Codigo,nota1,nota2,nota3,nota4,nota5):\n",
    "    minimo=min(nota1,nota2,nota3,nota4,nota5)\n",
    "    print(minimo)\n",
    "    Sumar=(nota1+nota2+nota3+nota4+nota5-minimo)\n",
    "    Promedio=(Sumar/80)\n",
    "    Promedio=round(Promedio,2)\n",
    "    print(\"El promedio ajustado del estudiante {} es de: {} sobre 5.\".format(Codigo,Promedio))\n",
    "        \n",
    "Codigo=input(\"Codigo del estudiantes: \")\n",
    "nota1=int(input(\"Nota del primer quiz reto semestre 1-100: \"))\n",
    "nota2=int(input(\"Nota del segundo quiz del semestre 1-100: \"))\n",
    "nota3=int(input(\"Nota del tercer quiz del semestre 1-100: \"))\n",
    "nota4=int(input(\"Nota del cuarto quiz del semestre 1-100: \"))\n",
    "nota5=int(input(\"Nota del quinto quiz del semestre 1-100: \"))\n",
    "\n",
    "Notas(Codigo, nota1,nota2,nota3,nota4,nota5)"
   ]
  },
  {
   "cell_type": "markdown",
   "id": "457a308e",
   "metadata": {},
   "source": [
    "# Carlos Andres Ruidiaz"
   ]
  },
  {
   "cell_type": "code",
   "execution_count": 3,
   "id": "cd27075d",
   "metadata": {},
   "outputs": [
    {
     "name": "stdout",
     "output_type": "stream",
     "text": [
      "El promedio ajustado del estudiante AA0010276 es: 3.28\n"
     ]
    }
   ],
   "source": [
    "#RETO No 1 seccion 1.2\n",
    "# TRIPULANTE : CARLOS ANDRES RUIDIAZ MENDOZA\n",
    "# Funcion que calcula promedio de notas eliminando la peor de 5 notas.\n",
    "\n",
    "def nota_quices(codigo,nota1,nota2,nota3,nota4,nota5):\n",
    "    #calculo de la peor nota usando la función min\n",
    "    minimo=min(nota1,nota2,nota3,nota4,nota5)\n",
    "    # calculo del promedio restando la peor nota\n",
    "    promedio=((nota1+nota2+nota3+nota4+nota5-minimo)/4)*0.05\n",
    "    #redondeo a dos decimales del promedio usando la función round\n",
    "    promedio2=round(promedio,2)\n",
    "    #asignacion a variable cadena del resultado\n",
    "    respuesta='El promedio ajustado del estudiante {} es: {}' .format(codigo,promedio2)\n",
    "    # Retorno de la cadena\n",
    "    return respuesta\n",
    "\n",
    "# utilizacion de la función asignandole los valores (ejemplo)\n",
    "\n",
    "resultado=nota_quices('AA0010276',40,50,39,76,96)\n",
    "print(resultado)"
   ]
  },
  {
   "cell_type": "markdown",
   "id": "50ca7253",
   "metadata": {},
   "source": [
    "# Maicol Esteban"
   ]
  },
  {
   "cell_type": "code",
   "execution_count": 79,
   "id": "166bb67f",
   "metadata": {},
   "outputs": [
    {
     "name": "stdout",
     "output_type": "stream",
     "text": [
      "El codigo del estudiante es: \n",
      "nota del primer reto: 67\n",
      "nota del segundo reto: 56\n",
      "nota del tercer reto: 45\n",
      "nota del cuarto reto: 45\n",
      "nota del quinto reto: 45\n",
      "53.25\n"
     ]
    }
   ],
   "source": [
    "def notas(codigo,nota1,nota2,nota3,nota4,nota5):\n",
    "    minimo=min(nota1,nota2,nota3,nota4,nota5)\n",
    "\n",
    "    promedio=(nota1+nota2+nota3+nota4+nota5-minimo)/4\n",
    "    \n",
    "    return promedio\n",
    "\n",
    "codigo=input(\"El codigo del estudiante es: \")\n",
    "nota1=int(input(\"nota del primer reto: \"))\n",
    "nota2=int(input(\"nota del segundo reto: \"))\n",
    "nota3=int(input(\"nota del tercer reto: \"))\n",
    "nota4=int(input(\"nota del cuarto reto: \"))\n",
    "nota5=int(input(\"nota del quinto reto: \"))\n",
    "  \n",
    "\n",
    "promedio=notas(codigo,nota1,nota2,nota3,nota4,nota5)\n",
    "print(promedio)"
   ]
  },
  {
   "cell_type": "markdown",
   "id": "77e32872",
   "metadata": {},
   "source": [
    "# Grupo 83"
   ]
  },
  {
   "cell_type": "markdown",
   "id": "4455cba1",
   "metadata": {},
   "source": [
    "# Elizabeth Castrillon Rincon"
   ]
  },
  {
   "cell_type": "code",
   "execution_count": 49,
   "id": "38cb5bb0",
   "metadata": {},
   "outputs": [
    {
     "ename": "SyntaxError",
     "evalue": "illegal target for annotation (<ipython-input-49-2fac41172937>, line 3)",
     "output_type": "error",
     "traceback": [
      "\u001b[0;36m  File \u001b[0;32m\"<ipython-input-49-2fac41172937>\"\u001b[0;36m, line \u001b[0;32m3\u001b[0m\n\u001b[0;31m    codigo (str): codigoestudiante\u001b[0m\n\u001b[0m    ^\u001b[0m\n\u001b[0;31mSyntaxError\u001b[0m\u001b[0;31m:\u001b[0m illegal target for annotation\n"
     ]
    }
   ],
   "source": [
    "# PardnetrosT\n",
    "\n",
    "codigo (str): codigoestudiante\n",
    "\n",
    "notal (int): Notadelprimerquiz (0 (100)\n",
    "\n",
    "nota2 (int): Notadelsegundoquiz (0 (5)\n",
    "\n",
    "nota3 (int): Notadeltercerquiz (0 (100)\n",
    "\n",
    "nota4 (int): Notadelcuartoquiz(0 (100) \n",
    "\n",
    "nota5 (int): Notadelquintoquiz (0 (100)\n",
    "\n",
    "Retorno: String: de La forma \"El promedio ajustado del estudiante (codigo) es: (promedio)\" donde, el promedio calcuta elteinando La peor nota y se reporta con dos decimales utilizando la escala numerica de Do\n",
    "\n"
   ]
  },
  {
   "cell_type": "markdown",
   "id": "4acbde22",
   "metadata": {},
   "source": [
    "# Johhan Camilo Mogollon Campos"
   ]
  },
  {
   "cell_type": "code",
   "execution_count": null,
   "id": "736360c8",
   "metadata": {},
   "outputs": [],
   "source": []
  },
  {
   "cell_type": "markdown",
   "id": "1a35fe03",
   "metadata": {},
   "source": [
    "# Luisa Fernanda Salamanca Preciado"
   ]
  },
  {
   "cell_type": "code",
   "execution_count": 50,
   "id": "38d5f20a",
   "metadata": {},
   "outputs": [
    {
     "ename": "SyntaxError",
     "evalue": "invalid syntax (<ipython-input-50-307c0cb60607>, line 8)",
     "output_type": "error",
     "traceback": [
      "\u001b[0;36m  File \u001b[0;32m\"<ipython-input-50-307c0cb60607>\"\u001b[0;36m, line \u001b[0;32m8\u001b[0m\n\u001b[0;31m    int nota1,nota2,nota3,nota4,nota5,r;\u001b[0m\n\u001b[0m        ^\u001b[0m\n\u001b[0;31mSyntaxError\u001b[0m\u001b[0;31m:\u001b[0m invalid syntax\n"
     ]
    }
   ],
   "source": [
    "nota1=40\n",
    "nota2=50\n",
    "nota3=39\n",
    "nota4=76\n",
    "nota5=96\n",
    "\n",
    "{\n",
    "    int nota1,nota2,nota3,nota4,nota5,r;\n",
    "    \n",
    "    if(r>=100)\n",
    "    {\n",
    "    printf (\"no es baja la nota\");\n",
    "    }\n",
    "    else\n",
    "    {\n",
    "    printf (\"la nota es alta\");\n",
    "    \n",
    "}"
   ]
  },
  {
   "cell_type": "markdown",
   "id": "02fd5ca4",
   "metadata": {},
   "source": [
    "# William Fernando Echeverria\n"
   ]
  },
  {
   "cell_type": "code",
   "execution_count": 54,
   "id": "61cfc8f9",
   "metadata": {},
   "outputs": [
    {
     "name": "stdout",
     "output_type": "stream",
     "text": [
      "65.5\n"
     ]
    }
   ],
   "source": [
    "def nota_quices(codigo:str,nota1: int,nota2:int,nota3:int,nota4:int,nota5:int):\n",
    "    nota1=nota1\n",
    "    nota2=nota2\n",
    "    nota3=nota3\n",
    "    nota4=nota4\n",
    "    nota5=nota5\n",
    "    nota_bajita=min(nota1,nota2,nota3,nota4,nota5)\n",
    "    \n",
    "    promedio_total=nota1+nota2+nota3+nota4+nota5\n",
    "    promedio=(nota1+nota2+nota3+nota4+nota5-nota_bajita)/4\n",
    "#     promedio*=0.05\n",
    "    \n",
    "    return round(promedio,2)\n",
    "    \n",
    "    return promedio\n",
    "print(nota_quices(\"AA000\",40,50,39,76,96))"
   ]
  },
  {
   "cell_type": "markdown",
   "id": "7b0c8356",
   "metadata": {},
   "source": [
    "# Carlos manuel Marin Moreno"
   ]
  },
  {
   "cell_type": "code",
   "execution_count": 28,
   "id": "a23d396e",
   "metadata": {},
   "outputs": [
    {
     "name": "stdout",
     "output_type": "stream",
     "text": [
      "39\n",
      "262\n",
      "3.275\n",
      "3.275\n"
     ]
    }
   ],
   "source": [
    "not1=40\n",
    "not2=50\n",
    "not3=39\n",
    "not4=76\n",
    "not5=96\n",
    "\n",
    "minimo=min(not1,not2,not3,not4,not5)\n",
    "print(minimo)\n",
    "\n",
    "suma=not1+not2+not3+not4+not5-minimo\n",
    "print(suma)\n",
    "nota_quices=suma/80\n",
    "print(nota_quices)\n",
    "\n",
    "note_quices=round(nota_quices,2)\n",
    "print(nota_quices)\n",
    "# print(nota_quices('AA0010276',40, 50, 39, 76, 96))\n",
    "#No entendi :C"
   ]
  },
  {
   "cell_type": "markdown",
   "id": "7b11524a",
   "metadata": {},
   "source": [
    "# Isaac David Meza Sena"
   ]
  },
  {
   "cell_type": "code",
   "execution_count": 58,
   "id": "4a9c9cc9",
   "metadata": {},
   "outputs": [
    {
     "name": "stdout",
     "output_type": "stream",
     "text": [
      "la nota minima fue : 39\n",
      "El promedio sin redondear es : 65.5\n",
      "El promedio redondeado a dos decimales es : 65.5\n"
     ]
    }
   ],
   "source": [
    "def notas(codigo:str,not1:int,not2:int,not3:int,not4:int,not5:int):\n",
    "\n",
    "        not1= 2\n",
    "        not2= 5\n",
    "        not3= 4\n",
    "        not4= 3\n",
    "        not5= 1\n",
    "        \n",
    "minimo=min(not1,not2,not3,not4,not5)\n",
    "print(\"la nota minima fue :\", minimo)\n",
    "    \n",
    "suma=not1+not2+not3+not4+not5-minimo\n",
    "promedio=suma/4\n",
    "print(\"El promedio sin redondear es :\", promedio)\n",
    "    \n",
    "#redondear\n",
    "promedio=round(promedio,2)\n",
    "print(\"El promedio redondeado a dos decimales es :\",promedio)"
   ]
  },
  {
   "cell_type": "code",
   "execution_count": 59,
   "id": "5ba4ea95",
   "metadata": {},
   "outputs": [
    {
     "name": "stdout",
     "output_type": "stream",
     "text": [
      "la nota minima fue : 39\n",
      "El promedio sin redondear es : 65.5\n",
      "El promedio redondeado a dos decimales es : 65.5\n",
      "El promedio ajustado del estudiante {AA0010276} es: {3.5}\n"
     ]
    }
   ],
   "source": [
    "def notas(codigo:str,not1:int,not2:int,not3:int,not4:int,not5:int):\n",
    "    codigo= AA0010276\n",
    "    not1= 2\n",
    "    not2= 5\n",
    "    not3= 4\n",
    "    not4= 3\n",
    "    not5= 1\n",
    "        \n",
    "minimo=min(not1,not2,not3,not4,not5)\n",
    "print(\"la nota minima fue :\", minimo)\n",
    "    \n",
    "suma=not1+not2+not3+not4+not5-minimo\n",
    "promedio=suma/4\n",
    "print(\"El promedio sin redondear es :\", promedio)\n",
    "    \n",
    "#redondear\n",
    "promedio=round(promedio,2)\n",
    "print(\"El promedio redondeado a dos decimales es :\",promedio)\n",
    "\n",
    "print(\"El promedio ajustado del estudiante {AA0010276} es: {3.5}\")"
   ]
  },
  {
   "cell_type": "markdown",
   "id": "169c48b2",
   "metadata": {},
   "source": [
    "# Leonardo Jose De La Cruz Rdila"
   ]
  },
  {
   "cell_type": "code",
   "execution_count": 60,
   "id": "5e9542a6",
   "metadata": {},
   "outputs": [
    {
     "name": "stdout",
     "output_type": "stream",
     "text": [
      "Agrega la nota 1: 5\n",
      "Agrega la nota 2: 4\n",
      "Agrega la nota 3: 5\n",
      "Agrega la nota 4: 3\n",
      "Agrega la nota 5: 4\n",
      "El promedio del estudiante AO209034LO en notas es: 4.2\n",
      "El promedio del estudiante AO209034LO redondeado a dos decimales es: 4.20\n"
     ]
    }
   ],
   "source": [
    "# Colegio\n",
    "\n",
    "codigo_estudiante = str(\"AO209034LO\")\n",
    "nota_1 = int(input(\"Agrega la nota 1: \",))\n",
    "nota_2 = int(input(\"Agrega la nota 2: \",))\n",
    "nota_3 = int(input(\"Agrega la nota 3: \",))\n",
    "nota_4 = int(input(\"Agrega la nota 4: \",))\n",
    "nota_5 = int(input(\"Agrega la nota 5: \",))\n",
    "\n",
    "def nota_final(nota_1, nota_2, nota_3, nota_4, nota_5):\n",
    "    nota_final = (nota_1 + nota_2 + nota_3 + nota_4 + nota_5)/5\n",
    "    return nota_final\n",
    "\n",
    "resultado = nota_final(nota_1, nota_2, nota_3, nota_4, nota_5)\n",
    "print(\"El promedio del estudiante AO209034LO en notas es:\", resultado)\n",
    "\n",
    "resultado = \"{:.2f}\".format(resultado)\n",
    "print(\"El promedio del estudiante AO209034LO redondeado a dos decimales es:\", resultado)"
   ]
  },
  {
   "cell_type": "code",
   "execution_count": 2,
   "id": "80fcdca0",
   "metadata": {},
   "outputs": [
    {
     "name": "stdout",
     "output_type": "stream",
     "text": [
      "nota_quices('AA0010276',40, 50, 39, 76, 96) es:  12.040000000000001\n",
      "El promedio del estudiante AA0010276 redondeado a dos decimales es: 12.04\n"
     ]
    }
   ],
   "source": [
    "codigo_estudiante = str(\"AA0010276\")\n",
    "nota_1 = int(40)\n",
    "nota_2 = int(50)\n",
    "nota_3 = int(39)\n",
    "nota_4 = int(76)\n",
    "nota_5 = int(96)\n",
    "\n",
    "def nota_quices(nota_1, nota_2, nota_3, nota_4, nota_5):\n",
    "    nota_quices = (nota_1 + nota_2 + nota_3 + nota_4 + nota_5)/5\n",
    "    return nota_quices\n",
    "\n",
    "resultado = nota_quices(nota_1, nota_2, nota_3, nota_4, nota_5)/5\n",
    "print(\"nota_quices('AA0010276',40, 50, 39, 76, 96) es: \", resultado)\n",
    "\n",
    "resultado = \"{:.2f}\".format(resultado)\n",
    "print(\"El promedio del estudiante AA0010276 redondeado a dos decimales es:\", resultado)"
   ]
  },
  {
   "cell_type": "markdown",
   "id": "fb54131b",
   "metadata": {},
   "source": [
    "# Miguel Angel Rave Gil"
   ]
  },
  {
   "cell_type": "code",
   "execution_count": 64,
   "id": "b377e3c8",
   "metadata": {},
   "outputs": [
    {
     "name": "stdout",
     "output_type": "stream",
     "text": [
      "la nota minima fue:  16\n",
      "la nota maxoma fue:  98\n",
      "el promedio es de:  308\n"
     ]
    }
   ],
   "source": [
    "def notas(codigo:str,n1:float,n2:float,n3:float,n4:float,n5:float):\n",
    "    minimo=min(n1,n2,n3,n4,n5)\n",
    "    print(\"la nota minima fue: \",minimo)\n",
    "    maximo=max(n1,n2,n3,n4,n5)\n",
    "    print(\"la nota maxoma fue: \",maximo)\n",
    "    suma=sum((n1,n2,n3,n4,n5))\n",
    "    promedio=suma-minimo\n",
    "    print(\"el promedio es de: \",promedio)\n",
    "\n",
    "codigo=\"est2\"\n",
    "n1=79\n",
    "n2=54\n",
    "n3=16\n",
    "n4=98\n",
    "n5=77\n",
    "\n",
    "notas(n1=n1,n2=n2,n3=n3,n4=n4,n5=n5,codigo=codigo)\n"
   ]
  },
  {
   "cell_type": "markdown",
   "id": "918071f7",
   "metadata": {},
   "source": [
    "# Juan cañon"
   ]
  },
  {
   "cell_type": "code",
   "execution_count": 61,
   "id": "b8c5bdca",
   "metadata": {},
   "outputs": [
    {
     "name": "stdout",
     "output_type": "stream",
     "text": [
      "[96, 76, 50, 40]\n",
      "262\n",
      "el promedio en escala del 0 al 5 es:  3.275 apoximadamente\n",
      "tambien se retiro la nota mas baja\n"
     ]
    }
   ],
   "source": [
    "nota1 =40\n",
    "nota2 =50\n",
    "nota3 =39\n",
    "nota4 =76\n",
    "nota5 =96\n",
    "\n",
    "estudiante_uno = [nota1 , nota2 ,nota3 , nota4,nota5]\n",
    "estudiante_uno.sort()#ordena de menor a mayor\n",
    "estudiante_uno.reverse()#pone al reves los datos sin desordenarlos\n",
    "estudiante_uno.pop()#elimina el ultimo elemento de la lista\t\n",
    "\n",
    "print(estudiante_uno)\n",
    "# resultado = estudiante_uno[0] + sumar(estudiante_uno\t[1:])\n",
    "# print(resultado)\n",
    "a=sum(estudiante_uno)\n",
    "# print(a)\n",
    "def sumar(estudiante_uno):\n",
    "    suma=0\n",
    "    if estudiante_uno==[]:\n",
    "        suma=0\n",
    "    else:\n",
    "#         suma = estudiante_uno[0] + sumar(estudiante_uno\t[1:])\n",
    "        suma=sum(estudiante_uno)\n",
    "        print(suma)  \n",
    "    suma=suma/80\n",
    "    return suma\n",
    "\n",
    "# sumar(estudiante_uno)\n",
    "print(\"el promedio en escala del 0 al 5 es: \",sumar(estudiante_uno),\"apoximadamente\")\n",
    "print(\"tambien se retiro la nota mas baja\")"
   ]
  },
  {
   "cell_type": "code",
   "execution_count": 6,
   "id": "ef694d19",
   "metadata": {},
   "outputs": [
    {
     "name": "stdout",
     "output_type": "stream",
     "text": [
      "80.0\n"
     ]
    }
   ],
   "source": [
    "# 5=100\n",
    "# 4=x\n",
    "\n",
    "x=(4*100)/5\n",
    "print(x)"
   ]
  },
  {
   "cell_type": "code",
   "execution_count": 6,
   "id": "41ae312c",
   "metadata": {},
   "outputs": [
    {
     "name": "stdout",
     "output_type": "stream",
     "text": [
      "El promedio ajustado del estudiante con el codigo ABC203R4 es de 4.1 sobre una calificación de 5.\n"
     ]
    }
   ],
   "source": [
    "def Notas(Codigo,nota1,nota2,nota3,nota4,nota5):\n",
    "    minimo=min(nota1,nota2,nota3,nota4,nota5)\n",
    "    Sumar=(nota1+nota2+nota3+nota4+nota5-minimo)\n",
    "    Promedio=(Sumar/80)\n",
    "    Promedio=round(Promedio,2)\n",
    "    print(\"El promedio ajustado del estudiante con el codigo {} es de {} sobre una calificación de 5.\".format(Codigo,Promedio))\n",
    "        \n",
    "Codigo='ABC203R4'\n",
    "nota1=100\n",
    "nota2=69\n",
    "nota3=86\n",
    "nota4=58\n",
    "nota5=73\n",
    "\n",
    "Notas(Codigo, nota1,nota2,nota3,nota4,nota5)"
   ]
  },
  {
   "cell_type": "markdown",
   "id": "610089ad",
   "metadata": {},
   "source": [
    "100 - 5\n",
    "x   - 4\n",
    "\n",
    "x=(100*4)/5\n",
    "x=80"
   ]
  }
 ],
 "metadata": {
  "kernelspec": {
   "display_name": "Python 3",
   "language": "python",
   "name": "python3"
  },
  "language_info": {
   "codemirror_mode": {
    "name": "ipython",
    "version": 3
   },
   "file_extension": ".py",
   "mimetype": "text/x-python",
   "name": "python",
   "nbconvert_exporter": "python",
   "pygments_lexer": "ipython3",
   "version": "3.9.1"
  }
 },
 "nbformat": 4,
 "nbformat_minor": 5
}
