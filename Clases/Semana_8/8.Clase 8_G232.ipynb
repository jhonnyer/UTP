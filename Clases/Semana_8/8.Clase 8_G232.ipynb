{
 "cells": [
  {
   "cell_type": "code",
   "execution_count": 12,
   "id": "25d2c54d",
   "metadata": {},
   "outputs": [
    {
     "data": {
      "text/plain": [
       "[20130225137,\n",
       " 'Sara Carolina',\n",
       " 'Gómez, Fernández',\n",
       " 58770043,\n",
       " 'ARQD',\n",
       " 3.36,\n",
       " 'sc.gomez43']"
      ]
     },
     "execution_count": 12,
     "metadata": {},
     "output_type": "execute_result"
    }
   ],
   "source": [
    "info={\n",
    "    20170136837:{\n",
    "        'nombres':'Jorge Juan',\n",
    "        'apellidos':'Moreno, Lopez',\n",
    "        'documento':88481595,\n",
    "        'programa':'ARQU',\n",
    "        'materias':[\n",
    "            {\n",
    "                'facultad':'Arquitectura',\n",
    "                'codigo':'ARQU-2113',\n",
    "                'nota':2.97,\n",
    "                'creditos':2,\n",
    "                'retirada':'No'\n",
    "            },\n",
    "            {\n",
    "                'facultad':'Arquitectura',\n",
    "                'codigo':'ARQU-5048',\n",
    "                'nota':4.26,\n",
    "                'creditos':0,\n",
    "                'retirada':'No'\n",
    "            }\n",
    "        ]\n",
    "        \n",
    "    },\n",
    "    20130225137:{\n",
    "        'nombres':'Sara Carolina',\n",
    "        'apellidos':'Gómez, Fernández',\n",
    "        'documento':58770043,\n",
    "        'programa':'ARQD',\n",
    "        'materias':[\n",
    "            {\n",
    "                'facultad':'Arquitectura',\n",
    "                'codigo':'ARQU-7738',\n",
    "                'nota':3.36,\n",
    "                'creditos':3,\n",
    "                'retirada':'No'\n",
    "            },\n",
    "            {\n",
    "                'facultad':'Arquitectura',\n",
    "                'codigo':'ARQU-7698',\n",
    "                'nota':1.59,\n",
    "                'creditos':4,\n",
    "                'retirada':'Si'\n",
    "            }\n",
    "        ]\n",
    "        \n",
    "    }\n",
    "    \n",
    "}\n",
    "\n",
    "# print(info)\n",
    "# for a in info:\n",
    "#     print(a)\n",
    "#     participante={}\n",
    "#     participante=info[a]\n",
    "#     participante.setdefault('promedio',0)\n",
    "#     participante.setdefault('correo','')\n",
    "#     participante.setdefault('codigo',a)\n",
    "#     materias=participante.pop('materias')\n",
    "# print(participante)\n",
    "# print()\n",
    "# print(materias)\n",
    "# mayorPromedio=0\n",
    "# sumatoria=0\n",
    "# cantidad=0\n",
    "# ganador={}\n",
    "# for m in materias:\n",
    "#     if m['retirada']=='No':\n",
    "#         sumatoria+=m['nota']*m['creditos']\n",
    "#         cantidad+=m['creditos']\n",
    "# if cantidad>0 and sumatoria>0:\n",
    "#     participante['promedio']=sumatoria/cantidad\n",
    "\n",
    "# #Condicion que me permite evaluar los promedios de los estudiantes que estan participante en el concurso\n",
    "# if participante['promedio']>mayorPromedio:\n",
    "#     ganador=participante\n",
    "#     mayorPromedio=participante['promedio']\n",
    "# #Si el  promedio de varios estudiantes con el promedio mayor son iguales, se debe desempatar a partir del \n",
    "# #año de ingreso y sino a partir del periodo de ingreso a la universidad\n",
    "# elif participante['promedio']==mayorPromedio:\n",
    "#     anioGanador=int(str(ganador['codigo'])[0:4])\n",
    "#     anioParti=int(str(participante['codigo'])[0:4])\n",
    "#     periodoGanador=int(str(ganador['codigo'])[4:6])\n",
    "#     periodoPart=int(str(participante['codigo'])[4:6])\n",
    "\n",
    "#     #La condicion para desempatar a partir del año de ingreso de los estudiantes\n",
    "#     if anioPart<anioGanador:\n",
    "#         ganador=participante\n",
    "#         mayorPromedio=participante['promedio']\n",
    "#     elif anioParti==anioGanador:\n",
    "#         if periodoPart<periodoGanador:\n",
    "#             ganador=participante\n",
    "#             mayorPromedio=participante['promedio']\n",
    "\n",
    "# print(sumatoria)\n",
    "# print(cantidad)\n",
    "# print(participante)\n",
    "# print()\n",
    "def Seleccion(info: dict) -> list:\n",
    "    ganador={}\n",
    "  \n",
    "    mayorPromedio=0\n",
    "    for a in info:\n",
    "        \n",
    "        participante={}#{'nombre':'', 'apellido':'', 'documento':0, 'programa':'','promedio':0,'correo':''}\n",
    "        participante=info[a]\n",
    "        participante.setdefault('promedio',0)\n",
    "        participante.setdefault('correo','')\n",
    "        participante.setdefault('codigo',a)\n",
    "        materias= participante.pop('materias')\n",
    "        sumatoria=0\n",
    "        cantidad=0\n",
    "        #EValuando si el estudiante retiro la materia o no la retiro\n",
    "        for m in materias:\n",
    "            if m['retirada']=='No':\n",
    "                sumatoria+=m['nota']*m['creditos']\n",
    "                cantidad+=m['creditos']\n",
    "        if cantidad >0 and sumatoria>0:\n",
    "            participante['promedio']=sumatoria/cantidad\n",
    "        #Vamos a evaluar el promedio de los estudiantes y vamos a obtener el promedio mayor. El estudiante\n",
    "        #con el promedio mayor, su informacion va a estar almacenado en el diccionario ganador\n",
    "        if participante['promedio']>mayorPromedio:\n",
    "            ganador=participante\n",
    "            mayorPromedio=participante['promedio']\n",
    "        #Si el promedio de dos estudiantes son iguales, entonces el desempate se hace por el año de ingreso\n",
    "        #del estudiante a la universidad, y si el año son iguales, el desempate se realiza a partir del periodo\n",
    "        #de ingreso a la universidad\n",
    "        elif participante['promedio']==mayorPromedio: #and not(participante['promedio']==0):\n",
    "            añoGanador=int(str(ganador['codigo'])[0:4])\n",
    "            añoParti=int(str(participante['codigo'])[0:4])\n",
    "            periodoGanador=int(str(ganador['codigo'])[4:6])\n",
    "            periodoParti=int(str(participante['codigo'])[4:6])\n",
    "            \n",
    "            if añoParti< añoGanador:\n",
    "                ganador=participante\n",
    "                mayorPromedio=participante['promedio']   \n",
    "            elif añoParti== añoGanador:\n",
    "                if periodoParti< periodoGanador:\n",
    "                    ganador=participante\n",
    "                    mayorPromedio=participante['promedio']     \n",
    "    \n",
    "    corteNombre=ganador['nombres'].find(' ')\n",
    "    corteApellido=ganador['apellidos'].find(',')\n",
    "    #construimos el correo del estudiante\n",
    "    if not(ganador['nombres'].find(' ')==-1):        \n",
    "        c=ganador['nombres'][:1]+ganador['nombres'][corteNombre+1:corteNombre+2]+\".\"+ganador['apellidos'][:corteApellido]+str(ganador['documento'])[-2:]  \n",
    "    else:\n",
    "        c= ganador['nombres'][:1] + ganador['apellidos'][:1]+\".\"+ganador['apellidos'][corteApellido+2:]+str(ganador['documento'])[-2:]  \n",
    "    c=c.lower() #Conviertiendo en minuscula el correo del estudiante\n",
    "    for u in range(0,len(c)):\n",
    "       y=c[u:u+1]\n",
    "       if y =='á':\n",
    "            c=c[0:u]+'a'+c[u+1:]\n",
    "       elif y =='é':\n",
    "            c=c[0:u]+'e'+c[u+1:]   \n",
    "       elif y =='ì':\n",
    "            c=c[0:u]+'i'+c[u+1:]\n",
    "       elif y =='ó':\n",
    "            c=c[0:u]+'o'+c[u+1:]\n",
    "       elif y =='ù':\n",
    "            c=c[0:u]+'u'+c[u+1:]  \n",
    "    ganador['correo']=c\n",
    "    return [ganador['codigo'],ganador['nombres'],ganador['apellidos'],ganador['documento'],ganador['programa'],ganador['promedio'],ganador['correo']]\n",
    "    #Vamos a verificar el correo del estudiante ganador\n",
    "\n",
    "# #Aqui solamente encontre la posicion del espacio tanto en el nombre como en el apellido del diccionario ganador\n",
    "# corteNombre=ganador['nombres'].find(' ')\n",
    "# corteApellido=ganador['apellidos'].find(',')\n",
    "# print(corteNombre)\n",
    "# print(corteApellido)\n",
    "\n",
    "# #Condicion para crear el correo del estudiante\n",
    "# #Cuando igualamos a -1 quiere decir que no se encontro algo, en este que el ganador no se encuntra\n",
    "# if not(ganador['nombres'].find(' ')==-1):\n",
    "#     #Variable c es donde voy a almacenar el correo\n",
    "#     c=ganador['nombres'][:1]+ganador['nombres'][corteNombre+1:corteNombre+2]+'.'+ganador['apellidos'][:corteApellido]+str(ganador['documento'])[-2:]\n",
    "# else:\n",
    "#     c=ganador['nombres'][:1]+ganador['apellidos'][:1]+'.'+ganador['apellidos'][corteApellido+2:]+str(ganador['documento'])[-2:]\n",
    "\n",
    "# print(c)\n",
    "# c=c.lower() #Lower permite convertir el correo en minuscula\n",
    "# print(c)\n",
    "# ganador=Seleccion(info)\n",
    "# ganador\n",
    "\n",
    "# print(ganador)\n",
    "\n",
    "Seleccion(info)"
   ]
  },
  {
   "cell_type": "code",
   "execution_count": 9,
   "id": "f6275dfb",
   "metadata": {},
   "outputs": [],
   "source": [
    "# Seleccion(info)"
   ]
  },
  {
   "cell_type": "code",
   "execution_count": 20,
   "id": "b3a58f1e",
   "metadata": {
    "scrolled": true
   },
   "outputs": [
    {
     "data": {
      "image/png": "[encoded data removed]",
      "text/plain": [
       "<Figure size 432x288 with 1 Axes>"
      ]
     },
     "metadata": {
      "needs_background": "light"
     },
     "output_type": "display_data"
    }
   ],
   "source": [
    "import matplotlib.pyplot as plt\n",
    "x1=[2,5,6,14]\n",
    "y1=[11,22,33,44]\n",
    "\n",
    "x2=[2,5,6,15]\n",
    "y2=[4,12,18,45]\n",
    "\n",
    "#Graficar 2 lineas en la misma grid  (crear una cuadricula en la grafica o rejilla)\n",
    "plt.plot(x1,y1,color='blue',linewidth=3,label='Linea 1')\n",
    "plt.plot(x2,y2,color='green',linewidth=3,label='Linea 2')\n",
    "plt.title(\"Dos gráficas lineales juntas\")\n",
    "plt.xlabel('Eje x')\n",
    "plt.ylabel('Eje y')\n",
    "#Mostrar las etiquetas o label de las graficas lineales\n",
    "plt.legend()\n",
    "#Mostrar la cuadricula o la rejilla del grafico\n",
    "plt.grid()\n",
    "plt.show()"
   ]
  },
  {
   "cell_type": "markdown",
   "id": "b440804b",
   "metadata": {},
   "source": [
    "# Graficas de barras"
   ]
  },
  {
   "cell_type": "code",
   "execution_count": 21,
   "id": "d4dd551b",
   "metadata": {},
   "outputs": [
    {
     "data": {
      "image/png": "[encoded data removed]",
      "text/plain": [
       "<Figure size 432x288 with 1 Axes>"
      ]
     },
     "metadata": {
      "needs_background": "light"
     },
     "output_type": "display_data"
    }
   ],
   "source": [
    "#Graficas de barras en la misma grid  (crear una cuadricula en la grafica o rejilla)\n",
    "plt.bar(x1,y1,color='blue',linewidth=3,label='Barra 1')\n",
    "plt.bar(x2,y2,color='green',linewidth=3,label='Barra 2')\n",
    "plt.title(\"Dos gráficas lineales juntas\")\n",
    "plt.xlabel('Eje x')\n",
    "plt.ylabel('Eje y')\n",
    "#Mostrar las etiquetas o label de las graficas lineales\n",
    "plt.legend()\n",
    "#Mostrar la cuadricula o la rejilla del grafico\n",
    "plt.grid()\n",
    "plt.show()"
   ]
  },
  {
   "cell_type": "markdown",
   "id": "dee8c295",
   "metadata": {},
   "source": [
    "# Generar un histograma"
   ]
  },
  {
   "cell_type": "code",
   "execution_count": 30,
   "id": "35ca0b0d",
   "metadata": {},
   "outputs": [
    {
     "data": {
      "image/png": "[encoded data removed]",
      "text/plain": [
       "<Figure size 432x288 with 1 Axes>"
      ]
     },
     "metadata": {
      "needs_background": "light"
     },
     "output_type": "display_data"
    }
   ],
   "source": [
    "Datos=[20,22,21,20,23,25,28,40,22,23,22,15,16,18,18,19,21,22,24,4,12,17,17,22,30]\n",
    "Rangobin=[0,10,20,30,40]\n",
    "\n",
    "# rwidth permite asignar una separacion entre cada barra en pixeles\n",
    "plt.hist(Datos, Rangobin, histtype='bar',rwidth=0.8,color='lightgreen')\n",
    "plt.title('Histograma')\n",
    "plt.xlabel('Eje x')\n",
    "plt.ylabel('Eje y')\n",
    "#plt.grid() #La rejilla es opcional (o cuadricula)\n",
    "plt.show()"
   ]
  },
  {
   "cell_type": "markdown",
   "id": "f2cc433b",
   "metadata": {},
   "source": [
    "# Grafico circular o un grafico de pastel"
   ]
  },
  {
   "cell_type": "code",
   "execution_count": 42,
   "id": "70a776e4",
   "metadata": {},
   "outputs": [
    {
     "data": {
      "image/png": "[encoded data removed]",
      "text/plain": [
       "<Figure size 432x288 with 1 Axes>"
      ]
     },
     "metadata": {},
     "output_type": "display_data"
    }
   ],
   "source": [
    "valores=[20,40,60,80]\n",
    "label=['Prekinder','Kinder','Primaria','Secundaria']\n",
    "color=['red','purple','blue','orange']\n",
    "plt.pie(valores,labels=label,colors=color,startangle=90,shadow=True,explode=(0.1,0,0,0),autopct='%1.1f%%')\n",
    "plt.title('Gráfico circular')\n",
    "plt.show()"
   ]
  },
  {
   "cell_type": "markdown",
   "id": "b9e5d5dc",
   "metadata": {},
   "source": [
    "# Graficas a partir de un dataframe"
   ]
  },
  {
   "cell_type": "code",
   "execution_count": 70,
   "id": "3f31133e",
   "metadata": {},
   "outputs": [
    {
     "data": {
      "text/html": [
       "<div>\n",
       "<style scoped>\n",
       "    .dataframe tbody tr th:only-of-type {\n",
       "        vertical-align: middle;\n",
       "    }\n",
       "\n",
       "    .dataframe tbody tr th {\n",
       "        vertical-align: top;\n",
       "    }\n",
       "\n",
       "    .dataframe thead th {\n",
       "        text-align: right;\n",
       "    }\n",
       "</style>\n",
       "<table border=\"1\" class=\"dataframe\">\n",
       "  <thead>\n",
       "    <tr style=\"text-align: right;\">\n",
       "      <th></th>\n",
       "      <th>Nombre</th>\n",
       "      <th>Edad</th>\n",
       "      <th>Ciudad</th>\n",
       "      <th>Num_niños</th>\n",
       "      <th>Num_mascotas</th>\n",
       "    </tr>\n",
       "  </thead>\n",
       "  <tbody>\n",
       "    <tr>\n",
       "      <th>0</th>\n",
       "      <td>John</td>\n",
       "      <td>23</td>\n",
       "      <td>Bogota</td>\n",
       "      <td>2</td>\n",
       "      <td>5</td>\n",
       "    </tr>\n",
       "    <tr>\n",
       "      <th>1</th>\n",
       "      <td>Maria</td>\n",
       "      <td>78</td>\n",
       "      <td>Medellin</td>\n",
       "      <td>0</td>\n",
       "      <td>1</td>\n",
       "    </tr>\n",
       "    <tr>\n",
       "      <th>2</th>\n",
       "      <td>Pedro</td>\n",
       "      <td>22</td>\n",
       "      <td>Bogota</td>\n",
       "      <td>0</td>\n",
       "      <td>0</td>\n",
       "    </tr>\n",
       "    <tr>\n",
       "      <th>3</th>\n",
       "      <td>Jenifer</td>\n",
       "      <td>19</td>\n",
       "      <td>Medellin</td>\n",
       "      <td>3</td>\n",
       "      <td>5</td>\n",
       "    </tr>\n",
       "    <tr>\n",
       "      <th>4</th>\n",
       "      <td>Bob</td>\n",
       "      <td>45</td>\n",
       "      <td>Bogota</td>\n",
       "      <td>2</td>\n",
       "      <td>2</td>\n",
       "    </tr>\n",
       "    <tr>\n",
       "      <th>5</th>\n",
       "      <td>Lisa</td>\n",
       "      <td>33</td>\n",
       "      <td>Armenia</td>\n",
       "      <td>1</td>\n",
       "      <td>2</td>\n",
       "    </tr>\n",
       "    <tr>\n",
       "      <th>6</th>\n",
       "      <td>Jose</td>\n",
       "      <td>78</td>\n",
       "      <td>Armenia</td>\n",
       "      <td>5</td>\n",
       "      <td>5</td>\n",
       "    </tr>\n",
       "  </tbody>\n",
       "</table>\n",
       "</div>"
      ],
      "text/plain": [
       "    Nombre  Edad    Ciudad  Num_niños  Num_mascotas\n",
       "0     John    23    Bogota          2             5\n",
       "1    Maria    78  Medellin          0             1\n",
       "2    Pedro    22    Bogota          0             0\n",
       "3  Jenifer    19  Medellin          3             5\n",
       "4      Bob    45    Bogota          2             2\n",
       "5     Lisa    33   Armenia          1             2\n",
       "6     Jose    78   Armenia          5             5"
      ]
     },
     "execution_count": 70,
     "metadata": {},
     "output_type": "execute_result"
    }
   ],
   "source": [
    "import pandas as pd\n",
    "df=pd.DataFrame({\n",
    "    'Nombre':['John','Maria','Pedro','Jenifer','Bob','Lisa','Jose'],\n",
    "    'Edad':[23,78,22,19,45,33,78],\n",
    "    'Ciudad':['Bogota','Medellin','Bogota','Medellin','Bogota','Armenia','Armenia'],\n",
    "    'Num_niños':[2,0,0,3,2,1,5],\n",
    "    'Num_mascotas':[5,1,0,5,2,2,5]\n",
    "})\n",
    "\n",
    "df"
   ]
  },
  {
   "cell_type": "code",
   "execution_count": 71,
   "id": "6e74d16c",
   "metadata": {},
   "outputs": [
    {
     "data": {
      "text/plain": [
       "<AxesSubplot:>"
      ]
     },
     "execution_count": 71,
     "metadata": {},
     "output_type": "execute_result"
    },
    {
     "data": {
      "image/png": "[encoded data removed]",
      "text/plain": [
       "<Figure size 432x288 with 1 Axes>"
      ]
     },
     "metadata": {
      "needs_background": "light"
     },
     "output_type": "display_data"
    }
   ],
   "source": [
    "df['Num_niños'].plot(kind='line')\n",
    "df['Num_mascotas'].plot(kind='line')"
   ]
  },
  {
   "cell_type": "code",
   "execution_count": 72,
   "id": "ed9e7494",
   "metadata": {},
   "outputs": [
    {
     "data": {
      "text/plain": [
       "<AxesSubplot:xlabel='Num_niños', ylabel='Num_mascotas'>"
      ]
     },
     "execution_count": 72,
     "metadata": {},
     "output_type": "execute_result"
    },
    {
     "data": {
      "image/png": "[encoded data removed]",
      "text/plain": [
       "<Figure size 432x288 with 1 Axes>"
      ]
     },
     "metadata": {
      "needs_background": "light"
     },
     "output_type": "display_data"
    }
   ],
   "source": [
    "df.plot(kind='scatter',x='Num_niños',y='Num_mascotas',color='red')"
   ]
  },
  {
   "cell_type": "code",
   "execution_count": 73,
   "id": "80ddc475",
   "metadata": {},
   "outputs": [
    {
     "data": {
      "text/plain": [
       "<AxesSubplot:>"
      ]
     },
     "execution_count": 73,
     "metadata": {},
     "output_type": "execute_result"
    },
    {
     "data": {
      "image/png": "[encoded data removed]",
      "text/plain": [
       "<Figure size 432x288 with 1 Axes>"
      ]
     },
     "metadata": {
      "needs_background": "light"
     },
     "output_type": "display_data"
    }
   ],
   "source": [
    "df['Num_niños'].plot(kind='bar')\n",
    "df['Num_mascotas'].plot(kind='bar',color='red')"
   ]
  },
  {
   "cell_type": "code",
   "execution_count": 74,
   "id": "cef3e7b3",
   "metadata": {
    "scrolled": true
   },
   "outputs": [
    {
     "data": {
      "text/plain": [
       "<AxesSubplot:xlabel='Nombre'>"
      ]
     },
     "execution_count": 74,
     "metadata": {},
     "output_type": "execute_result"
    },
    {
     "data": {
      "image/png": "[encoded data removed]",
      "text/plain": [
       "<Figure size 432x288 with 1 Axes>"
      ]
     },
     "metadata": {
      "needs_background": "light"
     },
     "output_type": "display_data"
    }
   ],
   "source": [
    "#Metodo gca ṕermite obtener los ejes actuales de la grafica en el eje x y el eje y\n",
    "ax=plt.gca()\n",
    "df.plot(kind='line',x='Nombre',y='Num_niños',ax=ax)\n",
    "df.plot(kind='line',x='Nombre',y='Num_mascotas',color='red',ax=ax)"
   ]
  },
  {
   "cell_type": "markdown",
   "id": "d1a6c543",
   "metadata": {},
   "source": [
    "# Agrupacion de series groupby"
   ]
  },
  {
   "cell_type": "code",
   "execution_count": 75,
   "id": "72290529",
   "metadata": {
    "scrolled": true
   },
   "outputs": [
    {
     "name": "stdout",
     "output_type": "stream",
     "text": [
      "    Nombre  Edad    Ciudad  Num_niños  Num_mascotas\n",
      "0     John    23    Bogota          2             5\n",
      "1    Maria    78  Medellin          0             1\n",
      "2    Pedro    22    Bogota          0             0\n",
      "3  Jenifer    19  Medellin          3             5\n",
      "4      Bob    45    Bogota          2             2\n",
      "5     Lisa    33   Armenia          1             2\n",
      "6     Jose    78   Armenia          5             5\n"
     ]
    },
    {
     "data": {
      "text/html": [
       "<div>\n",
       "<style scoped>\n",
       "    .dataframe tbody tr th:only-of-type {\n",
       "        vertical-align: middle;\n",
       "    }\n",
       "\n",
       "    .dataframe tbody tr th {\n",
       "        vertical-align: top;\n",
       "    }\n",
       "\n",
       "    .dataframe thead th {\n",
       "        text-align: right;\n",
       "    }\n",
       "</style>\n",
       "<table border=\"1\" class=\"dataframe\">\n",
       "  <thead>\n",
       "    <tr style=\"text-align: right;\">\n",
       "      <th></th>\n",
       "      <th>Nombre</th>\n",
       "      <th>Edad</th>\n",
       "      <th>Num_niños</th>\n",
       "      <th>Num_mascotas</th>\n",
       "    </tr>\n",
       "    <tr>\n",
       "      <th>Ciudad</th>\n",
       "      <th></th>\n",
       "      <th></th>\n",
       "      <th></th>\n",
       "      <th></th>\n",
       "    </tr>\n",
       "  </thead>\n",
       "  <tbody>\n",
       "    <tr>\n",
       "      <th>Armenia</th>\n",
       "      <td>2</td>\n",
       "      <td>2</td>\n",
       "      <td>2</td>\n",
       "      <td>2</td>\n",
       "    </tr>\n",
       "    <tr>\n",
       "      <th>Bogota</th>\n",
       "      <td>3</td>\n",
       "      <td>3</td>\n",
       "      <td>2</td>\n",
       "      <td>3</td>\n",
       "    </tr>\n",
       "    <tr>\n",
       "      <th>Medellin</th>\n",
       "      <td>2</td>\n",
       "      <td>2</td>\n",
       "      <td>2</td>\n",
       "      <td>2</td>\n",
       "    </tr>\n",
       "  </tbody>\n",
       "</table>\n",
       "</div>"
      ],
      "text/plain": [
       "          Nombre  Edad  Num_niños  Num_mascotas\n",
       "Ciudad                                         \n",
       "Armenia        2     2          2             2\n",
       "Bogota         3     3          2             3\n",
       "Medellin       2     2          2             2"
      ]
     },
     "execution_count": 75,
     "metadata": {},
     "output_type": "execute_result"
    }
   ],
   "source": [
    "print(df)\n",
    "df.groupby('Ciudad').nunique()"
   ]
  },
  {
   "cell_type": "code",
   "execution_count": 76,
   "id": "8904d843",
   "metadata": {},
   "outputs": [
    {
     "data": {
      "text/plain": [
       "Ciudad\n",
       "Armenia     2\n",
       "Bogota      3\n",
       "Medellin    2\n",
       "Name: Nombre, dtype: int64"
      ]
     },
     "execution_count": 76,
     "metadata": {},
     "output_type": "execute_result"
    }
   ],
   "source": [
    "df.groupby('Ciudad')['Nombre'].nunique()"
   ]
  },
  {
   "cell_type": "code",
   "execution_count": 77,
   "id": "edad2be6",
   "metadata": {
    "scrolled": true
   },
   "outputs": [
    {
     "data": {
      "text/plain": [
       "<AxesSubplot:xlabel='Ciudad'>"
      ]
     },
     "execution_count": 77,
     "metadata": {},
     "output_type": "execute_result"
    },
    {
     "data": {
      "image/png": "[encoded data removed]",
      "text/plain": [
       "<Figure size 432x288 with 1 Axes>"
      ]
     },
     "metadata": {
      "needs_background": "light"
     },
     "output_type": "display_data"
    }
   ],
   "source": [
    "df.groupby('Ciudad')['Nombre'].nunique().plot(kind='bar')"
   ]
  },
  {
   "cell_type": "code",
   "execution_count": 78,
   "id": "55e60f07",
   "metadata": {
    "scrolled": true
   },
   "outputs": [
    {
     "data": {
      "text/plain": [
       "<AxesSubplot:xlabel='Ciudad,Edad'>"
      ]
     },
     "execution_count": 78,
     "metadata": {},
     "output_type": "execute_result"
    },
    {
     "data": {
      "image/png": "[encoded data removed]",
      "text/plain": [
       "<Figure size 432x288 with 1 Axes>"
      ]
     },
     "metadata": {
      "needs_background": "light"
     },
     "output_type": "display_data"
    }
   ],
   "source": [
    "df.groupby(['Ciudad','Edad']).size().plot(kind='bar')"
   ]
  },
  {
   "cell_type": "code",
   "execution_count": 79,
   "id": "ccc47eae",
   "metadata": {},
   "outputs": [
    {
     "data": {
      "text/plain": [
       "<AxesSubplot:xlabel='Ciudad'>"
      ]
     },
     "execution_count": 79,
     "metadata": {},
     "output_type": "execute_result"
    },
    {
     "data": {
      "image/png": "[encoded data removed]",
      "text/plain": [
       "<Figure size 432x288 with 1 Axes>"
      ]
     },
     "metadata": {
      "needs_background": "light"
     },
     "output_type": "display_data"
    }
   ],
   "source": [
    "df.groupby(['Ciudad','Edad']).size().unstack().plot(kind='bar')"
   ]
  },
  {
   "cell_type": "code",
   "execution_count": 80,
   "id": "5cffb069",
   "metadata": {
    "scrolled": true
   },
   "outputs": [
    {
     "data": {
      "text/plain": [
       "<AxesSubplot:xlabel='Ciudad'>"
      ]
     },
     "execution_count": 80,
     "metadata": {},
     "output_type": "execute_result"
    },
    {
     "data": {
      "image/png": "[encoded data removed]",
      "text/plain": [
       "<Figure size 432x288 with 1 Axes>"
      ]
     },
     "metadata": {
      "needs_background": "light"
     },
     "output_type": "display_data"
    }
   ],
   "source": [
    "df.groupby(['Ciudad','Edad']).size().unstack().plot(kind='bar',stacked=True)"
   ]
  },
  {
   "cell_type": "code",
   "execution_count": 83,
   "id": "b82fdf32",
   "metadata": {},
   "outputs": [
    {
     "data": {
      "text/plain": [
       "<AxesSubplot:ylabel='Frequency'>"
      ]
     },
     "execution_count": 83,
     "metadata": {},
     "output_type": "execute_result"
    },
    {
     "data": {
      "image/png": "[encoded data removed]",
      "text/plain": [
       "<Figure size 432x288 with 1 Axes>"
      ]
     },
     "metadata": {
      "needs_background": "light"
     },
     "output_type": "display_data"
    }
   ],
   "source": [
    "# bins=[0,20,40,60,80,100] el rango de valores que esta realizando la agrupacion\n",
    "df[['Edad']].plot(kind='hist',bins=[0,20,40,60,80,100],rwidth=0.8)"
   ]
  },
  {
   "cell_type": "markdown",
   "id": "95c83fd0",
   "metadata": {},
   "source": [
    "# Dataframe con campo de tipo fecha"
   ]
  },
  {
   "cell_type": "code",
   "execution_count": 84,
   "id": "892f2cfa",
   "metadata": {
    "scrolled": true
   },
   "outputs": [
    {
     "data": {
      "text/html": [
       "<div>\n",
       "<style scoped>\n",
       "    .dataframe tbody tr th:only-of-type {\n",
       "        vertical-align: middle;\n",
       "    }\n",
       "\n",
       "    .dataframe tbody tr th {\n",
       "        vertical-align: top;\n",
       "    }\n",
       "\n",
       "    .dataframe thead th {\n",
       "        text-align: right;\n",
       "    }\n",
       "</style>\n",
       "<table border=\"1\" class=\"dataframe\">\n",
       "  <thead>\n",
       "    <tr style=\"text-align: right;\">\n",
       "      <th></th>\n",
       "      <th>name</th>\n",
       "      <th>date_of_birth</th>\n",
       "    </tr>\n",
       "  </thead>\n",
       "  <tbody>\n",
       "    <tr>\n",
       "      <th>0</th>\n",
       "      <td>john</td>\n",
       "      <td>01/21/1988</td>\n",
       "    </tr>\n",
       "    <tr>\n",
       "      <th>1</th>\n",
       "      <td>lisa</td>\n",
       "      <td>03/10/1977</td>\n",
       "    </tr>\n",
       "    <tr>\n",
       "      <th>2</th>\n",
       "      <td>peter</td>\n",
       "      <td>07/25/1999</td>\n",
       "    </tr>\n",
       "    <tr>\n",
       "      <th>3</th>\n",
       "      <td>carl</td>\n",
       "      <td>01/22/1977</td>\n",
       "    </tr>\n",
       "    <tr>\n",
       "      <th>4</th>\n",
       "      <td>linda</td>\n",
       "      <td>09/30/1968</td>\n",
       "    </tr>\n",
       "    <tr>\n",
       "      <th>5</th>\n",
       "      <td>betty</td>\n",
       "      <td>09/15/1970</td>\n",
       "    </tr>\n",
       "  </tbody>\n",
       "</table>\n",
       "</div>"
      ],
      "text/plain": [
       "    name date_of_birth\n",
       "0   john    01/21/1988\n",
       "1   lisa    03/10/1977\n",
       "2  peter    07/25/1999\n",
       "3   carl    01/22/1977\n",
       "4  linda    09/30/1968\n",
       "5  betty    09/15/1970"
      ]
     },
     "execution_count": 84,
     "metadata": {},
     "output_type": "execute_result"
    }
   ],
   "source": [
    "import pandas as pd\n",
    "import matplotlib.pyplot as plt\n",
    "df=pd.DataFrame({\n",
    "    'name':[\n",
    "        'john','lisa','peter','carl','linda','betty'\n",
    "    ],\n",
    "    'date_of_birth':['01/21/1988','03/10/1977','07/25/1999','01/22/1977','09/30/1968','09/15/1970']\n",
    "})\n",
    "\n",
    "df"
   ]
  },
  {
   "cell_type": "code",
   "execution_count": 92,
   "id": "627682db",
   "metadata": {
    "scrolled": true
   },
   "outputs": [
    {
     "data": {
      "text/html": [
       "<div>\n",
       "<style scoped>\n",
       "    .dataframe tbody tr th:only-of-type {\n",
       "        vertical-align: middle;\n",
       "    }\n",
       "\n",
       "    .dataframe tbody tr th {\n",
       "        vertical-align: top;\n",
       "    }\n",
       "\n",
       "    .dataframe thead th {\n",
       "        text-align: right;\n",
       "    }\n",
       "</style>\n",
       "<table border=\"1\" class=\"dataframe\">\n",
       "  <thead>\n",
       "    <tr style=\"text-align: right;\">\n",
       "      <th></th>\n",
       "      <th>name</th>\n",
       "      <th>date_of_birth</th>\n",
       "    </tr>\n",
       "  </thead>\n",
       "  <tbody>\n",
       "    <tr>\n",
       "      <th>0</th>\n",
       "      <td>john</td>\n",
       "      <td>1988-01-21</td>\n",
       "    </tr>\n",
       "    <tr>\n",
       "      <th>1</th>\n",
       "      <td>lisa</td>\n",
       "      <td>1977-03-10</td>\n",
       "    </tr>\n",
       "    <tr>\n",
       "      <th>2</th>\n",
       "      <td>peter</td>\n",
       "      <td>1999-07-25</td>\n",
       "    </tr>\n",
       "    <tr>\n",
       "      <th>3</th>\n",
       "      <td>carl</td>\n",
       "      <td>1977-01-22</td>\n",
       "    </tr>\n",
       "    <tr>\n",
       "      <th>4</th>\n",
       "      <td>linda</td>\n",
       "      <td>1968-09-30</td>\n",
       "    </tr>\n",
       "    <tr>\n",
       "      <th>5</th>\n",
       "      <td>betty</td>\n",
       "      <td>1970-09-15</td>\n",
       "    </tr>\n",
       "  </tbody>\n",
       "</table>\n",
       "</div>"
      ],
      "text/plain": [
       "    name date_of_birth\n",
       "0   john    1988-01-21\n",
       "1   lisa    1977-03-10\n",
       "2  peter    1999-07-25\n",
       "3   carl    1977-01-22\n",
       "4  linda    1968-09-30\n",
       "5  betty    1970-09-15"
      ]
     },
     "execution_count": 92,
     "metadata": {},
     "output_type": "execute_result"
    }
   ],
   "source": [
    "#HAce la transformacion a un tipo de fecha que pueda ser leido por la funcion map\n",
    "df['date_of_birth']=pd.to_datetime(df['date_of_birth'],infer_datetime_format=True)\n",
    "df"
   ]
  },
  {
   "cell_type": "code",
   "execution_count": 91,
   "id": "ece93738",
   "metadata": {},
   "outputs": [
    {
     "data": {
      "text/plain": [
       "0    1\n",
       "1    3\n",
       "2    7\n",
       "3    1\n",
       "4    9\n",
       "5    9\n",
       "Name: date_of_birth, dtype: int64"
      ]
     },
     "execution_count": 91,
     "metadata": {},
     "output_type": "execute_result"
    }
   ],
   "source": [
    "df['date_of_birth'].map(lambda d:d.month)"
   ]
  },
  {
   "cell_type": "code",
   "execution_count": 88,
   "id": "e69c3931",
   "metadata": {},
   "outputs": [
    {
     "data": {
      "text/plain": [
       "<AxesSubplot:ylabel='Frequency'>"
      ]
     },
     "execution_count": 88,
     "metadata": {},
     "output_type": "execute_result"
    },
    {
     "data": {
      "image/png": "[encoded data removed]",
      "text/plain": [
       "<Figure size 432x288 with 1 Axes>"
      ]
     },
     "metadata": {
      "needs_background": "light"
     },
     "output_type": "display_data"
    }
   ],
   "source": [
    "df['date_of_birth'].map(lambda d:d.month).plot(kind='hist')"
   ]
  },
  {
   "cell_type": "code",
   "execution_count": 85,
   "id": "740dbbd7",
   "metadata": {},
   "outputs": [
    {
     "name": "stdout",
     "output_type": "stream",
     "text": [
      "15\n"
     ]
    }
   ],
   "source": [
    "x=lambda a:a+10\n",
    "print(x(5))"
   ]
  },
  {
   "cell_type": "code",
   "execution_count": 90,
   "id": "5f667c0c",
   "metadata": {},
   "outputs": [
    {
     "name": "stdout",
     "output_type": "stream",
     "text": [
      "5\n"
     ]
    }
   ],
   "source": [
    "x=lambda a:a\n",
    "print(x(5))"
   ]
  },
  {
   "cell_type": "code",
   "execution_count": 96,
   "id": "f3c54612",
   "metadata": {
    "scrolled": true
   },
   "outputs": [
    {
     "name": "stdout",
     "output_type": "stream",
     "text": [
      "[datetime.datetime(2011, 1, 4, 0, 0), datetime.datetime(2011, 1, 5, 0, 0), datetime.datetime(2011, 1, 6, 0, 0)]\n",
      "\n",
      "[14978. 14979. 14980.]\n",
      "AxesSubplot(0.125,0.125;0.775x0.755)\n"
     ]
    },
    {
     "data": {
      "image/png": "[encoded data removed]",
      "text/plain": [
       "<Figure size 432x288 with 1 Axes>"
      ]
     },
     "metadata": {
      "needs_background": "light"
     },
     "output_type": "display_data"
    }
   ],
   "source": [
    "import pandas as pd\n",
    "import matplotlib.pyplot as plt\n",
    "from matplotlib.dates import date2num\n",
    "import datetime\n",
    "\n",
    "x=[\n",
    "    datetime.datetime(2011,1,4,0,0),\n",
    "    datetime.datetime(2011,1,5,0,0),\n",
    "    datetime.datetime(2011,1,6,0,0)\n",
    "]\n",
    "\n",
    "print(x)\n",
    "\n",
    "x=date2num(x) #Verificar funcion date2num\n",
    "print()\n",
    "print(x)\n",
    "y=[4,9,2]\n",
    "z=[1,2,3]\n",
    "k=[11,12,13]\n",
    "ax=plt.subplot(111)\n",
    "print(ax)\n",
    "ax.bar(x-0.2,y,width=0.2,color='b',align='center')\n",
    "ax.bar(x,z,width=0.2,color='g',align='center')\n",
    "ax.bar(x+0.2,k,width=0.2,color='r',align='center')\n",
    "ax.xaxis_date()\n",
    "plt.show()"
   ]
  },
  {
   "cell_type": "code",
   "execution_count": 99,
   "id": "7dac67f8",
   "metadata": {},
   "outputs": [
    {
     "data": {
      "text/html": [
       "<div>\n",
       "<style scoped>\n",
       "    .dataframe tbody tr th:only-of-type {\n",
       "        vertical-align: middle;\n",
       "    }\n",
       "\n",
       "    .dataframe tbody tr th {\n",
       "        vertical-align: top;\n",
       "    }\n",
       "\n",
       "    .dataframe thead th {\n",
       "        text-align: right;\n",
       "    }\n",
       "</style>\n",
       "<table border=\"1\" class=\"dataframe\">\n",
       "  <thead>\n",
       "    <tr style=\"text-align: right;\">\n",
       "      <th></th>\n",
       "      <th>Alcohol</th>\n",
       "      <th>Acido Malico</th>\n",
       "      <th>Cenizas</th>\n",
       "      <th>Alcalinidad de las cenizas</th>\n",
       "      <th>Magnesio</th>\n",
       "      <th>Fenoles totales,Flavanoides</th>\n",
       "      <th>Fenoles no flavonoides</th>\n",
       "      <th>Proantocianinas</th>\n",
       "      <th>Intensidad de color</th>\n",
       "      <th>Matiz</th>\n",
       "      <th>0D280/0D315 de sustancia diluida</th>\n",
       "      <th>Prolina</th>\n",
       "    </tr>\n",
       "  </thead>\n",
       "  <tbody>\n",
       "    <tr>\n",
       "      <th>count</th>\n",
       "      <td>178.000000</td>\n",
       "      <td>178.000000</td>\n",
       "      <td>178.000000</td>\n",
       "      <td>178.000000</td>\n",
       "      <td>178.000000</td>\n",
       "      <td>178.000000</td>\n",
       "      <td>178.000000</td>\n",
       "      <td>178.000000</td>\n",
       "      <td>178.000000</td>\n",
       "      <td>178.000000</td>\n",
       "      <td>178.000000</td>\n",
       "      <td>178.000000</td>\n",
       "    </tr>\n",
       "    <tr>\n",
       "      <th>mean</th>\n",
       "      <td>2.336348</td>\n",
       "      <td>2.366517</td>\n",
       "      <td>19.494944</td>\n",
       "      <td>99.741573</td>\n",
       "      <td>2.295112</td>\n",
       "      <td>2.029270</td>\n",
       "      <td>0.361854</td>\n",
       "      <td>1.590899</td>\n",
       "      <td>5.058090</td>\n",
       "      <td>0.957449</td>\n",
       "      <td>2.611685</td>\n",
       "      <td>746.893258</td>\n",
       "    </tr>\n",
       "    <tr>\n",
       "      <th>std</th>\n",
       "      <td>1.117146</td>\n",
       "      <td>0.274344</td>\n",
       "      <td>3.339564</td>\n",
       "      <td>14.282484</td>\n",
       "      <td>0.625851</td>\n",
       "      <td>0.998859</td>\n",
       "      <td>0.124453</td>\n",
       "      <td>0.572359</td>\n",
       "      <td>2.318286</td>\n",
       "      <td>0.228572</td>\n",
       "      <td>0.709990</td>\n",
       "      <td>314.907474</td>\n",
       "    </tr>\n",
       "    <tr>\n",
       "      <th>min</th>\n",
       "      <td>0.740000</td>\n",
       "      <td>1.360000</td>\n",
       "      <td>10.600000</td>\n",
       "      <td>70.000000</td>\n",
       "      <td>0.980000</td>\n",
       "      <td>0.340000</td>\n",
       "      <td>0.130000</td>\n",
       "      <td>0.410000</td>\n",
       "      <td>1.280000</td>\n",
       "      <td>0.480000</td>\n",
       "      <td>1.270000</td>\n",
       "      <td>278.000000</td>\n",
       "    </tr>\n",
       "    <tr>\n",
       "      <th>25%</th>\n",
       "      <td>1.602500</td>\n",
       "      <td>2.210000</td>\n",
       "      <td>17.200000</td>\n",
       "      <td>88.000000</td>\n",
       "      <td>1.742500</td>\n",
       "      <td>1.205000</td>\n",
       "      <td>0.270000</td>\n",
       "      <td>1.250000</td>\n",
       "      <td>3.220000</td>\n",
       "      <td>0.782500</td>\n",
       "      <td>1.937500</td>\n",
       "      <td>500.500000</td>\n",
       "    </tr>\n",
       "    <tr>\n",
       "      <th>50%</th>\n",
       "      <td>1.865000</td>\n",
       "      <td>2.360000</td>\n",
       "      <td>19.500000</td>\n",
       "      <td>98.000000</td>\n",
       "      <td>2.355000</td>\n",
       "      <td>2.135000</td>\n",
       "      <td>0.340000</td>\n",
       "      <td>1.555000</td>\n",
       "      <td>4.690000</td>\n",
       "      <td>0.965000</td>\n",
       "      <td>2.780000</td>\n",
       "      <td>673.500000</td>\n",
       "    </tr>\n",
       "    <tr>\n",
       "      <th>75%</th>\n",
       "      <td>3.082500</td>\n",
       "      <td>2.557500</td>\n",
       "      <td>21.500000</td>\n",
       "      <td>107.000000</td>\n",
       "      <td>2.800000</td>\n",
       "      <td>2.875000</td>\n",
       "      <td>0.437500</td>\n",
       "      <td>1.950000</td>\n",
       "      <td>6.200000</td>\n",
       "      <td>1.120000</td>\n",
       "      <td>3.170000</td>\n",
       "      <td>985.000000</td>\n",
       "    </tr>\n",
       "    <tr>\n",
       "      <th>max</th>\n",
       "      <td>5.800000</td>\n",
       "      <td>3.230000</td>\n",
       "      <td>30.000000</td>\n",
       "      <td>162.000000</td>\n",
       "      <td>3.880000</td>\n",
       "      <td>5.080000</td>\n",
       "      <td>0.660000</td>\n",
       "      <td>3.580000</td>\n",
       "      <td>13.000000</td>\n",
       "      <td>1.710000</td>\n",
       "      <td>4.000000</td>\n",
       "      <td>1680.000000</td>\n",
       "    </tr>\n",
       "  </tbody>\n",
       "</table>\n",
       "</div>"
      ],
      "text/plain": [
       "          Alcohol  Acido Malico     Cenizas  Alcalinidad de las cenizas  \\\n",
       "count  178.000000    178.000000  178.000000                  178.000000   \n",
       "mean     2.336348      2.366517   19.494944                   99.741573   \n",
       "std      1.117146      0.274344    3.339564                   14.282484   \n",
       "min      0.740000      1.360000   10.600000                   70.000000   \n",
       "25%      1.602500      2.210000   17.200000                   88.000000   \n",
       "50%      1.865000      2.360000   19.500000                   98.000000   \n",
       "75%      3.082500      2.557500   21.500000                  107.000000   \n",
       "max      5.800000      3.230000   30.000000                  162.000000   \n",
       "\n",
       "         Magnesio  Fenoles totales,Flavanoides  Fenoles no flavonoides  \\\n",
       "count  178.000000                   178.000000              178.000000   \n",
       "mean     2.295112                     2.029270                0.361854   \n",
       "std      0.625851                     0.998859                0.124453   \n",
       "min      0.980000                     0.340000                0.130000   \n",
       "25%      1.742500                     1.205000                0.270000   \n",
       "50%      2.355000                     2.135000                0.340000   \n",
       "75%      2.800000                     2.875000                0.437500   \n",
       "max      3.880000                     5.080000                0.660000   \n",
       "\n",
       "       Proantocianinas  Intensidad de color       Matiz  \\\n",
       "count       178.000000           178.000000  178.000000   \n",
       "mean          1.590899             5.058090    0.957449   \n",
       "std           0.572359             2.318286    0.228572   \n",
       "min           0.410000             1.280000    0.480000   \n",
       "25%           1.250000             3.220000    0.782500   \n",
       "50%           1.555000             4.690000    0.965000   \n",
       "75%           1.950000             6.200000    1.120000   \n",
       "max           3.580000            13.000000    1.710000   \n",
       "\n",
       "       0D280/0D315 de sustancia diluida      Prolina  \n",
       "count                        178.000000   178.000000  \n",
       "mean                           2.611685   746.893258  \n",
       "std                            0.709990   314.907474  \n",
       "min                            1.270000   278.000000  \n",
       "25%                            1.937500   500.500000  \n",
       "50%                            2.780000   673.500000  \n",
       "75%                            3.170000   985.000000  \n",
       "max                            4.000000  1680.000000  "
      ]
     },
     "execution_count": 99,
     "metadata": {},
     "output_type": "execute_result"
    }
   ],
   "source": [
    "import pandas as pd\n",
    "import matplotlib.pyplot as plt\n",
    "#importar datos para crear dataframe\n",
    "liquido_url='https://archive.ics.uci.edu/ml/machine-learning-databases/wine/wine.data'\n",
    "liquido_column_headers=['Alcohol','Acido Malico','Cenizas','Alcalinidad de las cenizas',\n",
    "                        'Magnesio','Fenoles totales,Flavanoides','Fenoles no flavonoides','Proantocianinas',\n",
    "                       'Intensidad de color','Matiz','0D280/0D315 de sustancia diluida','Prolina']\n",
    "liquido_df=pd.read_csv(liquido_url,names=liquido_column_headers)\n",
    "liquido_df.describe()"
   ]
  },
  {
   "cell_type": "code",
   "execution_count": 100,
   "id": "0c3f1792",
   "metadata": {},
   "outputs": [
    {
     "data": {
      "text/html": [
       "<div>\n",
       "<style scoped>\n",
       "    .dataframe tbody tr th:only-of-type {\n",
       "        vertical-align: middle;\n",
       "    }\n",
       "\n",
       "    .dataframe tbody tr th {\n",
       "        vertical-align: top;\n",
       "    }\n",
       "\n",
       "    .dataframe thead th {\n",
       "        text-align: right;\n",
       "    }\n",
       "</style>\n",
       "<table border=\"1\" class=\"dataframe\">\n",
       "  <thead>\n",
       "    <tr style=\"text-align: right;\">\n",
       "      <th></th>\n",
       "      <th></th>\n",
       "      <th>Alcohol</th>\n",
       "      <th>Acido Malico</th>\n",
       "      <th>Cenizas</th>\n",
       "      <th>Alcalinidad de las cenizas</th>\n",
       "      <th>Magnesio</th>\n",
       "      <th>Fenoles totales,Flavanoides</th>\n",
       "      <th>Fenoles no flavonoides</th>\n",
       "      <th>Proantocianinas</th>\n",
       "      <th>Intensidad de color</th>\n",
       "      <th>Matiz</th>\n",
       "      <th>0D280/0D315 de sustancia diluida</th>\n",
       "      <th>Prolina</th>\n",
       "    </tr>\n",
       "  </thead>\n",
       "  <tbody>\n",
       "    <tr>\n",
       "      <th rowspan=\"3\" valign=\"top\">1</th>\n",
       "      <th>14.23</th>\n",
       "      <td>1.71</td>\n",
       "      <td>2.43</td>\n",
       "      <td>15.6</td>\n",
       "      <td>127</td>\n",
       "      <td>2.80</td>\n",
       "      <td>3.06</td>\n",
       "      <td>0.28</td>\n",
       "      <td>2.29</td>\n",
       "      <td>5.64</td>\n",
       "      <td>1.04</td>\n",
       "      <td>3.92</td>\n",
       "      <td>1065</td>\n",
       "    </tr>\n",
       "    <tr>\n",
       "      <th>13.20</th>\n",
       "      <td>1.78</td>\n",
       "      <td>2.14</td>\n",
       "      <td>11.2</td>\n",
       "      <td>100</td>\n",
       "      <td>2.65</td>\n",
       "      <td>2.76</td>\n",
       "      <td>0.26</td>\n",
       "      <td>1.28</td>\n",
       "      <td>4.38</td>\n",
       "      <td>1.05</td>\n",
       "      <td>3.40</td>\n",
       "      <td>1050</td>\n",
       "    </tr>\n",
       "    <tr>\n",
       "      <th>13.16</th>\n",
       "      <td>2.36</td>\n",
       "      <td>2.67</td>\n",
       "      <td>18.6</td>\n",
       "      <td>101</td>\n",
       "      <td>2.80</td>\n",
       "      <td>3.24</td>\n",
       "      <td>0.30</td>\n",
       "      <td>2.81</td>\n",
       "      <td>5.68</td>\n",
       "      <td>1.03</td>\n",
       "      <td>3.17</td>\n",
       "      <td>1185</td>\n",
       "    </tr>\n",
       "  </tbody>\n",
       "</table>\n",
       "</div>"
      ],
      "text/plain": [
       "         Alcohol  Acido Malico  Cenizas  Alcalinidad de las cenizas  Magnesio  \\\n",
       "1 14.23     1.71          2.43     15.6                         127      2.80   \n",
       "  13.20     1.78          2.14     11.2                         100      2.65   \n",
       "  13.16     2.36          2.67     18.6                         101      2.80   \n",
       "\n",
       "         Fenoles totales,Flavanoides  Fenoles no flavonoides  Proantocianinas  \\\n",
       "1 14.23                         3.06                    0.28             2.29   \n",
       "  13.20                         2.76                    0.26             1.28   \n",
       "  13.16                         3.24                    0.30             2.81   \n",
       "\n",
       "         Intensidad de color  Matiz  0D280/0D315 de sustancia diluida  Prolina  \n",
       "1 14.23                 5.64   1.04                              3.92     1065  \n",
       "  13.20                 4.38   1.05                              3.40     1050  \n",
       "  13.16                 5.68   1.03                              3.17     1185  "
      ]
     },
     "execution_count": 100,
     "metadata": {},
     "output_type": "execute_result"
    }
   ],
   "source": [
    "liquido_df.head(3)"
   ]
  },
  {
   "cell_type": "code",
   "execution_count": 114,
   "id": "cbfc14f6",
   "metadata": {
    "scrolled": true
   },
   "outputs": [
    {
     "name": "stdout",
     "output_type": "stream",
     "text": [
      "Figure(432x288)\n",
      "AxesSubplot(0.125,0.125;0.775x0.755)\n",
      "1  14.23     5.64\n",
      "   13.20     4.38\n",
      "   13.16     5.68\n",
      "   14.37     7.80\n",
      "   13.24     4.32\n",
      "            ...  \n",
      "3  13.71     7.70\n",
      "   13.40     7.30\n",
      "   13.27    10.20\n",
      "   13.17     9.30\n",
      "   14.13     9.20\n",
      "Name: Intensidad de color, Length: 178, dtype: float64\n"
     ]
    },
    {
     "data": {
      "image/png": "[encoded data removed]",
      "text/plain": [
       "<Figure size 936x720 with 2 Axes>"
      ]
     },
     "metadata": {
      "needs_background": "light"
     },
     "output_type": "display_data"
    }
   ],
   "source": [
    "# Figura\n",
    "fig, ax1=plt.subplots()\n",
    "print(fig)\n",
    "print(ax1)\n",
    "\n",
    "#Etiquetas a la grafica\n",
    "ax1.set_xlabel('Alcohol')\n",
    "ax1.set_ylabel('Intensidad de color')\n",
    "ax1.set_title('Relacion entre la intensidad de color y la cantidad de alcohol en el liquido')\n",
    "#Vamos a cambiar el tamaño de la figura \n",
    "fig.set_size_inches(13,10)\n",
    "\n",
    "#secuencia de color\n",
    "c=liquido_df['Intensidad de color']\n",
    "print(c)\n",
    "\n",
    "plt.scatter(liquido_df['Alcohol'],liquido_df['Intensidad de color'],c=c,cmap='RdPu')\n",
    "\n",
    "cbar=plt.colorbar()\n",
    "cbar.set_label('Intensidad de color')"
   ]
  },
  {
   "cell_type": "code",
   "execution_count": 116,
   "id": "733c32a3",
   "metadata": {},
   "outputs": [
    {
     "data": {
      "text/plain": [
       "[20130225137,\n",
       " 'Sara Carolina',\n",
       " 'Gómez, Fernández',\n",
       " 58770043,\n",
       " 'ARQD',\n",
       " 3.36,\n",
       " 'sc.gomez43']"
      ]
     },
     "execution_count": 116,
     "metadata": {},
     "output_type": "execute_result"
    }
   ],
   "source": [
    "info={\n",
    "    20170136837:{\n",
    "        'nombres':'Jorge Juan',\n",
    "        'apellidos':'Moreno, Lopez',\n",
    "        'documento':88481595,\n",
    "        'programa':'ARQU',\n",
    "        'materias':[\n",
    "            {\n",
    "                'facultad':'Arquitectura',\n",
    "                'codigo':'ARQU-2113',\n",
    "                'nota':2.97,\n",
    "                'creditos':2,\n",
    "                'retirada':'No'\n",
    "            },\n",
    "            {\n",
    "                'facultad':'Arquitectura',\n",
    "                'codigo':'ARQU-5048',\n",
    "                'nota':4.26,\n",
    "                'creditos':0,\n",
    "                'retirada':'No'\n",
    "            }\n",
    "        ]\n",
    "        \n",
    "    },\n",
    "    20130225137:{\n",
    "        'nombres':'Sara Carolina',\n",
    "        'apellidos':'Gómez, Fernández',\n",
    "        'documento':58770043,\n",
    "        'programa':'ARQD',\n",
    "        'materias':[\n",
    "            {\n",
    "                'facultad':'Arquitectura',\n",
    "                'codigo':'ARQU-7738',\n",
    "                'nota':3.36,\n",
    "                'creditos':3,\n",
    "                'retirada':'No'\n",
    "            },\n",
    "            {\n",
    "                'facultad':'Arquitectura',\n",
    "                'codigo':'ARQU-7698',\n",
    "                'nota':1.59,\n",
    "                'creditos':4,\n",
    "                'retirada':'Si'\n",
    "            }\n",
    "        ]\n",
    "        \n",
    "    }\n",
    "    \n",
    "}\n",
    "\n",
    "def Seleccion(info: dict) -> list:\n",
    "    ganador={}\n",
    "  \n",
    "    mayorPromedio=0\n",
    "    for a in info:\n",
    "        \n",
    "        participante={}#{'nombre':'', 'apellido':'', 'documento':0, 'programa':'','promedio':0,'correo':''}\n",
    "        participante=info[a]\n",
    "        participante.setdefault('promedio',0)\n",
    "        participante.setdefault('correo','')\n",
    "        participante.setdefault('codigo',a)\n",
    "        materias= participante.pop('materias')\n",
    "        sumatoria=0\n",
    "        cantidad=0\n",
    "        #EValuando si el estudiante retiro la materia o no la retiro\n",
    "        for m in materias:\n",
    "            if m['retirada']=='No':\n",
    "                sumatoria+=m['nota']*m['creditos']\n",
    "                cantidad+=m['creditos']\n",
    "        if cantidad >0 and sumatoria>0:\n",
    "            participante['promedio']=sumatoria/cantidad\n",
    "        #Vamos a evaluar el promedio de los estudiantes y vamos a obtener el promedio mayor. El estudiante\n",
    "        #con el promedio mayor, su informacion va a estar almacenado en el diccionario ganador\n",
    "        if participante['promedio']>mayorPromedio:\n",
    "            ganador=participante\n",
    "            mayorPromedio=participante['promedio']\n",
    "        #Si el promedio de dos estudiantes son iguales, entonces el desempate se hace por el año de ingreso\n",
    "        #del estudiante a la universidad, y si el año son iguales, el desempate se realiza a partir del periodo\n",
    "        #de ingreso a la universidad\n",
    "        elif participante['promedio']==mayorPromedio: #and not(participante['promedio']==0):\n",
    "            añoGanador=int(str(ganador['codigo'])[0:4])\n",
    "            añoParti=int(str(participante['codigo'])[0:4])\n",
    "            periodoGanador=int(str(ganador['codigo'])[4:6])\n",
    "            periodoParti=int(str(participante['codigo'])[4:6])\n",
    "            \n",
    "            if añoParti< añoGanador:\n",
    "                ganador=participante\n",
    "                mayorPromedio=participante['promedio']   \n",
    "            elif añoParti== añoGanador:\n",
    "                if periodoParti< periodoGanador:\n",
    "                    ganador=participante\n",
    "                    mayorPromedio=participante['promedio']     \n",
    "    \n",
    "    corteNombre=ganador['nombres'].find(' ')\n",
    "    corteApellido=ganador['apellidos'].find(',')\n",
    "    #construimos el correo del estudiante\n",
    "    if not(ganador['nombres'].find(' ')==-1):        \n",
    "        c=ganador['nombres'][:1]+ganador['nombres'][corteNombre+1:corteNombre+2]+\".\"+ganador['apellidos'][:corteApellido]+str(ganador['documento'])[-2:]  \n",
    "    else:\n",
    "        c= ganador['nombres'][:1] + ganador['apellidos'][:1]+\".\"+ganador['apellidos'][corteApellido+2:]+str(ganador['documento'])[-2:]  \n",
    "    c=c.lower() #Conviertiendo en minuscula el correo del estudiante\n",
    "    for u in range(0,len(c)):\n",
    "       y=c[u:u+1]\n",
    "       if y =='á':\n",
    "            c=c[0:u]+'a'+c[u+1:]\n",
    "       elif y =='é':\n",
    "            c=c[0:u]+'e'+c[u+1:]   \n",
    "       elif y =='ì':\n",
    "            c=c[0:u]+'i'+c[u+1:]\n",
    "       elif y =='ó':\n",
    "            c=c[0:u]+'o'+c[u+1:]\n",
    "       elif y =='ù':\n",
    "            c=c[0:u]+'u'+c[u+1:]  \n",
    "    ganador['correo']=c\n",
    "    return [ganador['codigo'],ganador['nombres'],ganador['apellidos'],ganador['documento'],ganador['programa'],ganador['promedio'],ganador['correo']]\n",
    "Seleccion(info)"
   ]
  }
 ],
 "metadata": {
  "kernelspec": {
   "display_name": "Python 3",
   "language": "python",
   "name": "python3"
  },
  "language_info": {
   "codemirror_mode": {
    "name": "ipython",
    "version": 3
   },
   "file_extension": ".py",
   "mimetype": "text/x-python",
   "name": "python",
   "nbconvert_exporter": "python",
   "pygments_lexer": "ipython3",
   "version": "3.9.1"
  }
 },
 "nbformat": 4,
 "nbformat_minor": 5
}
