{
 "cells": [
  {
   "cell_type": "code",
   "execution_count": 62,
   "id": "e2848782",
   "metadata": {},
   "outputs": [
    {
     "name": "stdout",
     "output_type": "stream",
     "text": [
      "Hola mundo, me llamo jhonnyer\n",
      "1\n"
     ]
    }
   ],
   "source": [
    "# 1 encendido\n",
    "# 0 apagado \n",
    "\n",
    "\n",
    "# 00000000\n",
    "# 2^0=1\n",
    "# 2¹=2\n",
    "# 2²=4\n",
    "# 2³=8\n",
    "# 2⁴=16\n",
    "# 2⁵=32\n",
    "# 2⁶=64\n",
    "# 2⁷=128\n",
    "\n",
    "# 128 64 32 16 8 4 2 1 \n",
    "# Cuanto es 150 en binario\n",
    "# 10010110\n",
    "\n",
    "\n",
    "print(\"Hola mundo, me llamo jhonnyer\")\n",
    "\n",
    "n=0\n",
    "if n==0:\n",
    "    n=1\n",
    "    print(n)\n",
    "else:\n",
    "    n=0\n",
    "    print(n)"
   ]
  },
  {
   "cell_type": "code",
   "execution_count": null,
   "id": "1d073eee",
   "metadata": {},
   "outputs": [],
   "source": [
    "\n",
    "\n",
    "\n",
    "\n",
    "\n",
    "\n",
    "\n",
    "\n",
    "\n",
    "\n",
    "\n",
    "\n",
    "\n",
    "\n",
    "\n",
    "\n",
    "\n",
    "\n",
    "\n",
    "\n",
    "\n",
    "\n",
    "\n",
    "\n",
    "\n",
    "\n",
    "\n",
    "\n",
    "\n",
    "\n",
    "\n",
    "\n",
    "\n"
   ]
  },
  {
   "cell_type": "markdown",
   "id": "1b7514e3",
   "metadata": {},
   "source": [
    "Retardo1sON\n",
    "    movlw   D'255'    ;Cargamos los valores de los retardos a las constantes\n",
    "    movwf   Ret1    ;correspondientes\n",
    "    movlw   D'255'\n",
    "    movwf   Ret2\n",
    "    movlw   D'11'\n",
    "    movwf   Ret3\n",
    "Ret1sON\n",
    "    decfsz  Ret1, F ;Decrementa el valor de Ret1 y salta si es igual a 0\n",
    "    bra        Ret1sON ;Saltamos a Ret1sON\n",
    "    decfsz  Ret2, F ;Decremente el valor de Ret2 y salta si es igual a 0\n",
    "    bra        Ret1sON ;Saltamos a Ret1sON\n",
    "    decfsz  Ret3, F ;Decremente el valor de Ret3 y salta si es igual a 0\n",
    "    bra        Ret1sON ;Saltamos a Ret1sON\n",
    "    movlw   0x06    \n",
    "    movwf   PORTE    ;Encendemos el led ubicado en E0\n",
    ";Mismo retardo pero ahora para esperar antes de apagar el LED\n",
    "Retardo1sOFF\n",
    "    movlw   .255\n",
    "    movwf   Ret1\n",
    "    movlw   .255\n",
    "    movwf   Ret2\n",
    "    movlw   .11\n",
    "    movwf   Ret3\n",
    "Ret1sOFF\n",
    "    decfsz  Ret1, F\n",
    "    bra        Ret1sOFF\n",
    "    decfsz  Ret2, F\n",
    "    bra        Ret1sOFF\n",
    "    decfsz  Ret3, F\n",
    "    bra        Ret1sOFF\n",
    "    movlw   0x07\n",
    "    movwf   PORTE   ;Apaga el LED\n",
    "    goto    BUCLE   ;Regresa al INICIO\n",
    "    END             ;Fin de Programa\n"
   ]
  },
  {
   "cell_type": "markdown",
   "id": "09188804",
   "metadata": {},
   "source": [
    "\n",
    "\n",
    "\n",
    "\n",
    "\n",
    "\n",
    "\n",
    "\n",
    "\n",
    "\n",
    "\n",
    "\n",
    "\n",
    "\n",
    "\n",
    "\n",
    "\n",
    "\n",
    "\n",
    "\n",
    "\n",
    "\n",
    "\n",
    "\n",
    "\n",
    "\n",
    "Ejercicio 1\n",
    "\n",
    "Realiza un programa que lea dos números por teclado y permita elegir entre 3 opciones en un menú:\n",
    "\n",
    "Mostrar una suma de los dos números Mostrar una resta de los dos números (el primero menos el segundo) Mostrar una multiplicación de los dos números En caso de introducir una opción inválida, el programa informará de que no es correcta."
   ]
  },
  {
   "cell_type": "code",
   "execution_count": 65,
   "id": "e8c660c5",
   "metadata": {},
   "outputs": [
    {
     "name": "stdout",
     "output_type": "stream",
     "text": [
      "Ingrese un primer número23\n",
      "Ingresa el segundo número234\n",
      "Elige una opción\n",
      "          1) Sumar los dos números\n",
      "          2) Restar los dos números\n",
      "          3) Multiplicar los dos números\n",
      "          4) Salir de la aplicación\n"
     ]
    },
    {
     "ename": "KeyboardInterrupt",
     "evalue": "Interrupted by user",
     "output_type": "error",
     "traceback": [
      "\u001b[0;31m---------------------------------------------------------------------------\u001b[0m",
      "\u001b[0;31mKeyboardInterrupt\u001b[0m                         Traceback (most recent call last)",
      "\u001b[0;32m<ipython-input-65-e3ebc295118d>\u001b[0m in \u001b[0;36m<module>\u001b[0;34m\u001b[0m\n\u001b[1;32m      7\u001b[0m           3) Multiplicar los dos números\n\u001b[1;32m      8\u001b[0m           4) Salir de la aplicación\"\"\")\n\u001b[0;32m----> 9\u001b[0;31m     \u001b[0mopcion\u001b[0m\u001b[0;34m=\u001b[0m\u001b[0minput\u001b[0m\u001b[0;34m(\u001b[0m\u001b[0;34m\"Ingresa una opción\"\u001b[0m\u001b[0;34m)\u001b[0m\u001b[0;34m\u001b[0m\u001b[0;34m\u001b[0m\u001b[0m\n\u001b[0m\u001b[1;32m     10\u001b[0m     \u001b[0;32mif\u001b[0m \u001b[0mopcion\u001b[0m\u001b[0;34m==\u001b[0m\u001b[0;34m\"1\"\u001b[0m\u001b[0;34m:\u001b[0m\u001b[0;34m\u001b[0m\u001b[0;34m\u001b[0m\u001b[0m\n\u001b[1;32m     11\u001b[0m         \u001b[0mprint\u001b[0m\u001b[0;34m(\u001b[0m\u001b[0;34m\"La suma de {} y {} es igual a: {}\"\u001b[0m\u001b[0;34m.\u001b[0m\u001b[0mformat\u001b[0m\u001b[0;34m(\u001b[0m\u001b[0mn1\u001b[0m\u001b[0;34m,\u001b[0m \u001b[0mn2\u001b[0m\u001b[0;34m,\u001b[0m \u001b[0mn1\u001b[0m\u001b[0;34m+\u001b[0m\u001b[0mn2\u001b[0m\u001b[0;34m)\u001b[0m\u001b[0;34m)\u001b[0m\u001b[0;34m\u001b[0m\u001b[0;34m\u001b[0m\u001b[0m\n",
      "\u001b[0;32m~/miniconda3/lib/python3.9/site-packages/ipykernel/kernelbase.py\u001b[0m in \u001b[0;36mraw_input\u001b[0;34m(self, prompt)\u001b[0m\n\u001b[1;32m    858\u001b[0m                 \u001b[0;34m\"raw_input was called, but this frontend does not support input requests.\"\u001b[0m\u001b[0;34m\u001b[0m\u001b[0;34m\u001b[0m\u001b[0m\n\u001b[1;32m    859\u001b[0m             )\n\u001b[0;32m--> 860\u001b[0;31m         return self._input_request(str(prompt),\n\u001b[0m\u001b[1;32m    861\u001b[0m             \u001b[0mself\u001b[0m\u001b[0;34m.\u001b[0m\u001b[0m_parent_ident\u001b[0m\u001b[0;34m,\u001b[0m\u001b[0;34m\u001b[0m\u001b[0;34m\u001b[0m\u001b[0m\n\u001b[1;32m    862\u001b[0m             \u001b[0mself\u001b[0m\u001b[0;34m.\u001b[0m\u001b[0m_parent_header\u001b[0m\u001b[0;34m,\u001b[0m\u001b[0;34m\u001b[0m\u001b[0;34m\u001b[0m\u001b[0m\n",
      "\u001b[0;32m~/miniconda3/lib/python3.9/site-packages/ipykernel/kernelbase.py\u001b[0m in \u001b[0;36m_input_request\u001b[0;34m(self, prompt, ident, parent, password)\u001b[0m\n\u001b[1;32m    902\u001b[0m             \u001b[0;32mexcept\u001b[0m \u001b[0mKeyboardInterrupt\u001b[0m\u001b[0;34m:\u001b[0m\u001b[0;34m\u001b[0m\u001b[0;34m\u001b[0m\u001b[0m\n\u001b[1;32m    903\u001b[0m                 \u001b[0;31m# re-raise KeyboardInterrupt, to truncate traceback\u001b[0m\u001b[0;34m\u001b[0m\u001b[0;34m\u001b[0m\u001b[0;34m\u001b[0m\u001b[0m\n\u001b[0;32m--> 904\u001b[0;31m                 \u001b[0;32mraise\u001b[0m \u001b[0mKeyboardInterrupt\u001b[0m\u001b[0;34m(\u001b[0m\u001b[0;34m\"Interrupted by user\"\u001b[0m\u001b[0;34m)\u001b[0m \u001b[0;32mfrom\u001b[0m \u001b[0;32mNone\u001b[0m\u001b[0;34m\u001b[0m\u001b[0;34m\u001b[0m\u001b[0m\n\u001b[0m\u001b[1;32m    905\u001b[0m             \u001b[0;32mexcept\u001b[0m \u001b[0mException\u001b[0m \u001b[0;32mas\u001b[0m \u001b[0me\u001b[0m\u001b[0;34m:\u001b[0m\u001b[0;34m\u001b[0m\u001b[0;34m\u001b[0m\u001b[0m\n\u001b[1;32m    906\u001b[0m                 \u001b[0mself\u001b[0m\u001b[0;34m.\u001b[0m\u001b[0mlog\u001b[0m\u001b[0;34m.\u001b[0m\u001b[0mwarning\u001b[0m\u001b[0;34m(\u001b[0m\u001b[0;34m\"Invalid Message:\"\u001b[0m\u001b[0;34m,\u001b[0m \u001b[0mexc_info\u001b[0m\u001b[0;34m=\u001b[0m\u001b[0;32mTrue\u001b[0m\u001b[0;34m)\u001b[0m\u001b[0;34m\u001b[0m\u001b[0;34m\u001b[0m\u001b[0m\n",
      "\u001b[0;31mKeyboardInterrupt\u001b[0m: Interrupted by user"
     ]
    }
   ],
   "source": [
    "n1=float(input(\"Ingrese un primer número\"))\n",
    "n2=float(input(\"Ingresa el segundo número\"))\n",
    "while(True):\n",
    "    print(\"\"\"Elige una opción\n",
    "          1) Sumar los dos números\n",
    "          2) Restar los dos números\n",
    "          3) Multiplicar los dos números\n",
    "          4) Salir de la aplicación\"\"\")\n",
    "    opcion=input(\"Ingresa una opción\")\n",
    "    if opcion==\"1\":\n",
    "        print(\"La suma de {} y {} es igual a: {}\".format(n1, n2, n1+n2))\n",
    "    elif opcion==\"2\":\n",
    "        print(\"La resta de {} y {} es igual a: {}\".format(n1, n2, n1-n2))\n",
    "    elif opcion==\"3\":\n",
    "        print(\"La multiplicación de {} y {} es igual a: {}\".format(n1, n2, n1*n2))\n",
    "    elif opcion==\"4\":\n",
    "        print(\"Hasta luego\")\n",
    "        break\n",
    "    else:\n",
    "        print(\"Comando desconocido, por favor ingrese la opción nuevamente\")"
   ]
  },
  {
   "cell_type": "code",
   "execution_count": 71,
   "id": "3377fcb6",
   "metadata": {},
   "outputs": [
    {
     "name": "stdout",
     "output_type": "stream",
     "text": [
      "Los  numeros son iguales\n"
     ]
    }
   ],
   "source": [
    "n=\"Hola mundo\"\n",
    "n1=100\n",
    "n2=100\n",
    "\n",
    "if n1>n2:\n",
    "    print(\"N1 ES EL NUMERO MAYOR\")\n",
    "elif n1==n2:\n",
    "    print(\"Los  numeros son iguales\")\n",
    "else:\n",
    "    print(n)\n",
    "    print(\"N2 ES EL NUMERO MAYOR\")"
   ]
  },
  {
   "cell_type": "code",
   "execution_count": 74,
   "id": "694e7d5e",
   "metadata": {},
   "outputs": [
    {
     "name": "stdout",
     "output_type": "stream",
     "text": [
      "Si puedo comprar, la compra total es: 28000. Tiene como sobrante 2000\n"
     ]
    }
   ],
   "source": [
    "n1=3000\n",
    "n2=25000\n",
    "n3=n1+n2\n",
    "if n3<=30000:\n",
    "    n4=30000\n",
    "    print(\"Si puedo comprar, la compra total es: {}. Tiene como sobrante {}\".format(n3,n4-n3))\n",
    "else:\n",
    "    print(\"El dinero no te alcanza\")"
   ]
  },
  {
   "cell_type": "code",
   "execution_count": 24,
   "id": "a1770933",
   "metadata": {},
   "outputs": [
    {
     "name": "stdout",
     "output_type": "stream",
     "text": [
      "150\n"
     ]
    }
   ],
   "source": [
    "print(150)"
   ]
  },
  {
   "cell_type": "code",
   "execution_count": 91,
   "id": "fb3b29ef",
   "metadata": {},
   "outputs": [
    {
     "name": "stdout",
     "output_type": "stream",
     "text": [
      "Puedes comprar el produto de jabon\n"
     ]
    }
   ],
   "source": [
    "n1=3000\n",
    "n2=3000\n",
    "n=n1+n2\n",
    "if n<=30000:\n",
    "    print(\"Puedes comprar el produto de jabon\")\n",
    "else: \n",
    "    print(\"No tiene suficiente dinero\")"
   ]
  },
  {
   "cell_type": "code",
   "execution_count": 90,
   "id": "0b0a25a0",
   "metadata": {},
   "outputs": [
    {
     "name": "stdout",
     "output_type": "stream",
     "text": [
      "ingrese tu estatura: 60\n",
      "Estudia otra carrera\n"
     ]
    }
   ],
   "source": [
    "n=int(input(\"ingrese tu estatura: \"))\n",
    "#Valores en cm\n",
    "if n>=163:\n",
    "    print(\"Puedes ser piloto\")\n",
    "else: \n",
    "    print(\"Estudia otra carrera\")"
   ]
  },
  {
   "cell_type": "code",
   "execution_count": 93,
   "id": "c61f2633",
   "metadata": {},
   "outputs": [
    {
     "name": "stdout",
     "output_type": "stream",
     "text": [
      "ingrese el valor a retirar70000\n",
      "Puede retirar el dinero\n",
      "Haz retirado el dinero correctamente que fue $70000, actualmente cuentas con: $30000\n"
     ]
    }
   ],
   "source": [
    "n=int(input(\"ingrese el valor a retirar\"))\n",
    "n1=100000\n",
    "if n<=n1:\n",
    "    print(\"Puede retirar el dinero\")\n",
    "    n2=n1-n\n",
    "    print(\"Haz retirado el dinero correctamente que fue ${}, actualmente cuentas con: ${}\".format(n,n2))\n",
    "else: \n",
    "    print(\"No tiene suficiente dinero\")"
   ]
  }
 ],
 "metadata": {
  "kernelspec": {
   "display_name": "Python 3",
   "language": "python",
   "name": "python3"
  },
  "language_info": {
   "codemirror_mode": {
    "name": "ipython",
    "version": 3
   },
   "file_extension": ".py",
   "mimetype": "text/x-python",
   "name": "python",
   "nbconvert_exporter": "python",
   "pygments_lexer": "ipython3",
   "version": "3.9.1"
  }
 },
 "nbformat": 4,
 "nbformat_minor": 5
}
