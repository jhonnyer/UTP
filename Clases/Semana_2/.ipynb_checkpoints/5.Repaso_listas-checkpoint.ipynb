{
 "cells": [
  {
   "cell_type": "code",
   "execution_count": 1,
   "id": "a6c77057",
   "metadata": {},
   "outputs": [
    {
     "name": "stdout",
     "output_type": "stream",
     "text": [
      "[1, 'Hola', 3, 4, 5, 'Adios']\n"
     ]
    }
   ],
   "source": [
    "#lista con varios tipos de datos\n",
    "v=[1,'Hola',3,4,5,'Adios']\n",
    "print(v)"
   ]
  },
  {
   "cell_type": "code",
   "execution_count": 2,
   "id": "16575945",
   "metadata": {},
   "outputs": [
    {
     "name": "stdout",
     "output_type": "stream",
     "text": [
      "[1, 3, 4, 5, [4, 6, 'hola'], 'mundo', 2]\n"
     ]
    }
   ],
   "source": [
    "#lista sobre otra lista\n",
    "a=[1,3,4,5,[4,6,'hola'],'mundo',2]\n",
    "print(a)"
   ]
  },
  {
   "cell_type": "code",
   "execution_count": 3,
   "id": "b64a1f6f",
   "metadata": {},
   "outputs": [
    {
     "name": "stdout",
     "output_type": "stream",
     "text": [
      "[]\n"
     ]
    }
   ],
   "source": [
    "# lista vacia\n",
    "b=[]\n",
    "print(b)"
   ]
  },
  {
   "cell_type": "code",
   "execution_count": 4,
   "id": "81f2157a",
   "metadata": {},
   "outputs": [
    {
     "name": "stdout",
     "output_type": "stream",
     "text": [
      "[1, 'Hola', 3, 4, 5, 'Adios'] [1, 3, 4, 5, [4, 6, 'hola'], 'mundo', 2] []\n"
     ]
    }
   ],
   "source": [
    "#imprimir listas\n",
    "print(v,a,b)"
   ]
  },
  {
   "cell_type": "code",
   "execution_count": 5,
   "id": "21b3d424",
   "metadata": {},
   "outputs": [
    {
     "name": "stdout",
     "output_type": "stream",
     "text": [
      "[[1, 'Hola', 3, 4, 5, 'Adios'], [1, 3, 4, 5, [4, 6, 'hola'], 'mundo', 2], []]\n"
     ]
    }
   ],
   "source": [
    "#Crear una nueva lista de otra\n",
    "d=[v,a,b]\n",
    "print(d)"
   ]
  },
  {
   "cell_type": "code",
   "execution_count": 6,
   "id": "dc13b796",
   "metadata": {},
   "outputs": [
    {
     "name": "stdout",
     "output_type": "stream",
     "text": [
      "[1, 'Hola', 3, 4, 5, 'Adios']\n"
     ]
    }
   ],
   "source": [
    "# Acceder al valor de una lista\n",
    "print(d[0])"
   ]
  },
  {
   "cell_type": "code",
   "execution_count": 7,
   "id": "835876dd",
   "metadata": {},
   "outputs": [
    {
     "name": "stdout",
     "output_type": "stream",
     "text": [
      "Hola\n"
     ]
    }
   ],
   "source": [
    "# Acceder al valor de una lista y el valor de otra lista adentro\n",
    "print(d[0][1])"
   ]
  },
  {
   "cell_type": "code",
   "execution_count": 9,
   "id": "c32a1b5d",
   "metadata": {},
   "outputs": [
    {
     "name": "stdout",
     "output_type": "stream",
     "text": [
      "[17, 5, 5, 6, 7, 8]\n"
     ]
    }
   ],
   "source": [
    "#las listas son mutables, pueden cambiar el valor\n",
    "numeros = [17, 123,5,6,7,8]\n",
    "numeros[1] = 5\n",
    "print(numeros)"
   ]
  },
  {
   "cell_type": "code",
   "execution_count": 10,
   "id": "4fee2ca1",
   "metadata": {},
   "outputs": [
    {
     "ename": "IndexError",
     "evalue": "list index out of range",
     "output_type": "error",
     "traceback": [
      "\u001b[0;31m---------------------------------------------------------------------------\u001b[0m",
      "\u001b[0;31mIndexError\u001b[0m                                Traceback (most recent call last)",
      "\u001b[0;32m<ipython-input-10-de7aa79c54b9>\u001b[0m in \u001b[0;36m<module>\u001b[0;34m\u001b[0m\n\u001b[1;32m      1\u001b[0m \u001b[0;31m#un indice que no existe indexError\u001b[0m\u001b[0;34m\u001b[0m\u001b[0;34m\u001b[0m\u001b[0;34m\u001b[0m\u001b[0m\n\u001b[1;32m      2\u001b[0m \u001b[0mnumeros\u001b[0m \u001b[0;34m=\u001b[0m \u001b[0;34m[\u001b[0m\u001b[0;36m17\u001b[0m\u001b[0;34m,\u001b[0m \u001b[0;36m123\u001b[0m\u001b[0;34m,\u001b[0m\u001b[0;36m5\u001b[0m\u001b[0;34m,\u001b[0m\u001b[0;36m6\u001b[0m\u001b[0;34m,\u001b[0m\u001b[0;36m7\u001b[0m\u001b[0;34m,\u001b[0m\u001b[0;36m8\u001b[0m\u001b[0;34m]\u001b[0m\u001b[0;34m\u001b[0m\u001b[0;34m\u001b[0m\u001b[0m\n\u001b[0;32m----> 3\u001b[0;31m \u001b[0mprint\u001b[0m\u001b[0;34m(\u001b[0m\u001b[0mnumeros\u001b[0m\u001b[0;34m[\u001b[0m\u001b[0;36m10\u001b[0m\u001b[0;34m]\u001b[0m\u001b[0;34m)\u001b[0m\u001b[0;34m\u001b[0m\u001b[0;34m\u001b[0m\u001b[0m\n\u001b[0m",
      "\u001b[0;31mIndexError\u001b[0m: list index out of range"
     ]
    }
   ],
   "source": [
    "#un indice que no existe indexError\n",
    "numeros = [17, 123,5,6,7,8]\n",
    "print(numeros[10])"
   ]
  },
  {
   "cell_type": "code",
   "execution_count": 13,
   "id": "97ff9cfc",
   "metadata": {},
   "outputs": [
    {
     "name": "stdout",
     "output_type": "stream",
     "text": [
      "8\n"
     ]
    }
   ],
   "source": [
    "#un indice negativo , cuenta hacia atras, el -1 es el ultimo\n",
    "numeros = [17, 123,5,6,7,8]\n",
    "print(numeros[-1])"
   ]
  },
  {
   "cell_type": "code",
   "execution_count": 15,
   "id": "f35fee57",
   "metadata": {},
   "outputs": [
    {
     "name": "stdout",
     "output_type": "stream",
     "text": [
      "True\n",
      "False\n"
     ]
    }
   ],
   "source": [
    "# El operador in funciona también en listas.\n",
    "quesos = ['Cheddar', 'Edam', 'Gouda']\n",
    "print('Edam' in quesos)\n",
    "print('Brien' in quesos)"
   ]
  },
  {
   "cell_type": "code",
   "execution_count": 16,
   "id": "7caf2ce6",
   "metadata": {},
   "outputs": [
    {
     "name": "stdout",
     "output_type": "stream",
     "text": [
      "Cheddar\n",
      "Edam\n",
      "Gouda\n"
     ]
    }
   ],
   "source": [
    "#recorrer una lista\n",
    "for q in quesos:\n",
    "    print(q)"
   ]
  },
  {
   "cell_type": "code",
   "execution_count": 19,
   "id": "0969dbda",
   "metadata": {},
   "outputs": [
    {
     "name": "stdout",
     "output_type": "stream",
     "text": [
      "indice:0, Valor: 34\n",
      "indice:1, Valor: 246\n",
      "indice:2, Valor: 10\n",
      "indice:3, Valor: 12\n",
      "indice:4, Valor: 14\n",
      "indice:5, Valor: 16\n",
      "Fin del ciclo\n"
     ]
    }
   ],
   "source": [
    "#Cambiar el valor de una lista con range y len\n",
    "numeros = [17, 123,5,6,7,8]\n",
    "for i in range(len(numeros)):\n",
    "    numeros[i]=numeros[i]*2\n",
    "    print(\"indice:{}, Valor: {}\".format(i,numeros[i]))\n",
    "print(\"Fin del ciclo\")\n"
   ]
  },
  {
   "cell_type": "code",
   "execution_count": 20,
   "id": "59aac86f",
   "metadata": {},
   "outputs": [
    {
     "name": "stdout",
     "output_type": "stream",
     "text": [
      "indice:0, Valor: 34\n",
      "indice:1, Valor: 246\n",
      "indice:2, Valor: 10\n",
      "indice:3, Valor: 12\n",
      "indice:4, Valor: 14\n",
      "indice:5, Valor: 16\n",
      "Fin del ciclo\n"
     ]
    }
   ],
   "source": [
    "#Cambiar el valor de una lista con enumerate\n",
    "numeros = [17, 123,5,6,7,8]\n",
    "for i, n in enumerate(numeros):\n",
    "    numeros[i]=numeros[i]*2\n",
    "    print(\"indice:{}, Valor: {}\".format(i,numeros[i]))\n",
    "print(\"Fin del ciclo\")\n"
   ]
  },
  {
   "cell_type": "code",
   "execution_count": 23,
   "id": "d74d94b3",
   "metadata": {},
   "outputs": [],
   "source": [
    "vacia=[]\n",
    "for x in vacia:\n",
    "    print('Esto nunca sucede.')"
   ]
  },
  {
   "cell_type": "code",
   "execution_count": 25,
   "id": "8aa90eec",
   "metadata": {},
   "outputs": [
    {
     "name": "stdout",
     "output_type": "stream",
     "text": [
      "[1, 'Hola', 3, 4, 5, 'Adios']\n",
      "[1, 3, 4, 5, [4, 6, 'hola'], 'mundo', 2]\n",
      "[]\n"
     ]
    }
   ],
   "source": [
    "# Recorrer lista anidada\n",
    "d=[[1, 'Hola', 3, 4, 5, 'Adios'], [1, 3, 4, 5, [4, 6, 'hola'], 'mundo', 2], []]\n",
    "for i in d:\n",
    "    print(i)"
   ]
  },
  {
   "cell_type": "code",
   "execution_count": 34,
   "id": "6f027e4a",
   "metadata": {},
   "outputs": [
    {
     "name": "stdout",
     "output_type": "stream",
     "text": [
      "0   Hola\n",
      "1   1\n",
      "2   Adios\n"
     ]
    }
   ],
   "source": [
    "# Recorrer lista anidada\n",
    "dist=[['Hola', 3, 4, 5, 'Adios'], [1, 3, 4, 5, [4, 6, 'hola'], 'mundo', 2], ['Adios']]\n",
    "for i, d in enumerate(dist):\n",
    "    print(i,\" \",dist[i][0])"
   ]
  },
  {
   "cell_type": "code",
   "execution_count": 35,
   "id": "2380a04b",
   "metadata": {},
   "outputs": [
    {
     "name": "stdout",
     "output_type": "stream",
     "text": [
      "[1, 2, 3, 4, 5, 6]\n"
     ]
    }
   ],
   "source": [
    "# El operador + concatena listas:\n",
    "a = [1, 2, 3]\n",
    "b = [4, 5, 6]\n",
    "c = a + b\n",
    "print(c)"
   ]
  },
  {
   "cell_type": "code",
   "execution_count": 39,
   "id": "85b26814",
   "metadata": {},
   "outputs": [
    {
     "data": {
      "text/plain": [
       "[0, 0, 0, 0]"
      ]
     },
     "execution_count": 39,
     "metadata": {},
     "output_type": "execute_result"
    }
   ],
   "source": [
    "# De igual forma, el operador * repite una lista un determinado número de veces:\n",
    "[0] * 4"
   ]
  },
  {
   "cell_type": "code",
   "execution_count": 38,
   "id": "e99b2b5f",
   "metadata": {},
   "outputs": [
    {
     "data": {
      "text/plain": [
       "[1, 2, 3, 1, 2, 3, 1, 2, 3]"
      ]
     },
     "execution_count": 38,
     "metadata": {},
     "output_type": "execute_result"
    }
   ],
   "source": [
    "# De igual forma, el operador * repite una lista un determinado número de veces:\n",
    "[1, 2, 3] * 3"
   ]
  },
  {
   "cell_type": "code",
   "execution_count": 40,
   "id": "2f63780b",
   "metadata": {},
   "outputs": [
    {
     "name": "stdout",
     "output_type": "stream",
     "text": [
      "['b', 'c']\n",
      "['a', 'b', 'c', 'd']\n",
      "['d', 'e', 'f']\n",
      "['a', 'b', 'c', 'd', 'e', 'f']\n"
     ]
    }
   ],
   "source": [
    "#Rebanado de listas\n",
    "t = ['a', 'b', 'c', 'd', 'e', 'f']\n",
    "print(t[1:3])\n",
    "print(t[:4])\n",
    "print(t[3:])\n",
    "print(t[:])"
   ]
  },
  {
   "cell_type": "code",
   "execution_count": 42,
   "id": "9767c4bc",
   "metadata": {},
   "outputs": [
    {
     "name": "stdout",
     "output_type": "stream",
     "text": [
      "['a', 'x', 'y', 'd', 'e', 'f']\n"
     ]
    }
   ],
   "source": [
    "#Cambiar dos valores de la lista\n",
    "t[1:3] = ['x', 'y']\n",
    "print(t)"
   ]
  },
  {
   "cell_type": "code",
   "execution_count": 43,
   "id": "696478f5",
   "metadata": {},
   "outputs": [
    {
     "name": "stdout",
     "output_type": "stream",
     "text": [
      "['a', 'b', 'c', 'd']\n"
     ]
    }
   ],
   "source": [
    "#metodo append de la lista agrega un elemento al final\n",
    "t = ['a', 'b', 'c']\n",
    "t.append('d')\n",
    "print(t)"
   ]
  },
  {
   "cell_type": "code",
   "execution_count": 44,
   "id": "c48ded76",
   "metadata": {},
   "outputs": [
    {
     "name": "stdout",
     "output_type": "stream",
     "text": [
      "['a', 'b', 'c', 'd', 'e']\n"
     ]
    }
   ],
   "source": [
    "# extend toma una lista como argumento y agrega todos los elementos:\n",
    "t1 = ['a', 'b', 'c']\n",
    "t2 = ['d', 'e']\n",
    "t1.extend(t2)\n",
    "print(t1)"
   ]
  },
  {
   "cell_type": "code",
   "execution_count": 46,
   "id": "94555ec2",
   "metadata": {},
   "outputs": [
    {
     "name": "stdout",
     "output_type": "stream",
     "text": [
      "['a', 'b', 'c', 'd', 'e']\n"
     ]
    }
   ],
   "source": [
    "# Cocatenar con +\n",
    "t1 = ['a', 'b', 'c']\n",
    "t2 = ['d', 'e']\n",
    "t1=t1+t2\n",
    "print(t1)"
   ]
  },
  {
   "cell_type": "code",
   "execution_count": 51,
   "id": "dfd1b4f9",
   "metadata": {},
   "outputs": [
    {
     "name": "stdout",
     "output_type": "stream",
     "text": [
      "['a', 'b', 'c', 'd', 'e']\n"
     ]
    }
   ],
   "source": [
    "# sort ordena los elementos de la lista de menor a mayor:\n",
    "t = ['d', 'c', 'e', 'b', 'a']\n",
    "t.sort()\n",
    "print(t)"
   ]
  },
  {
   "cell_type": "code",
   "execution_count": 50,
   "id": "381e7960",
   "metadata": {},
   "outputs": [
    {
     "ename": "AttributeError",
     "evalue": "'NoneType' object has no attribute 'sort'",
     "output_type": "error",
     "traceback": [
      "\u001b[0;31m---------------------------------------------------------------------------\u001b[0m",
      "\u001b[0;31mAttributeError\u001b[0m                            Traceback (most recent call last)",
      "\u001b[0;32m<ipython-input-50-043febbdc5eb>\u001b[0m in \u001b[0;36m<module>\u001b[0;34m\u001b[0m\n\u001b[1;32m      1\u001b[0m \u001b[0;31m# La mayoría de métodos no regresan nada; modifican la lista y regresan None. Si\u001b[0m\u001b[0;34m\u001b[0m\u001b[0;34m\u001b[0m\u001b[0;34m\u001b[0m\u001b[0m\n\u001b[1;32m      2\u001b[0m \u001b[0;31m# accidentalmentes escribes t = t.sort(), vas a decepcionarte con el resultado.\u001b[0m\u001b[0;34m\u001b[0m\u001b[0;34m\u001b[0m\u001b[0;34m\u001b[0m\u001b[0m\n\u001b[0;32m----> 3\u001b[0;31m \u001b[0mt\u001b[0m \u001b[0;34m=\u001b[0m \u001b[0mt\u001b[0m\u001b[0;34m.\u001b[0m\u001b[0msort\u001b[0m\u001b[0;34m(\u001b[0m\u001b[0;34m)\u001b[0m\u001b[0;34m\u001b[0m\u001b[0;34m\u001b[0m\u001b[0m\n\u001b[0m\u001b[1;32m      4\u001b[0m \u001b[0mprint\u001b[0m\u001b[0;34m(\u001b[0m\u001b[0mt\u001b[0m\u001b[0;34m)\u001b[0m\u001b[0;34m\u001b[0m\u001b[0;34m\u001b[0m\u001b[0m\n",
      "\u001b[0;31mAttributeError\u001b[0m: 'NoneType' object has no attribute 'sort'"
     ]
    }
   ],
   "source": [
    "# La mayoría de métodos no regresan nada; modifican la lista y regresan None. Si\n",
    "# accidentalmentes escribes t = t.sort(), vas a decepcionarte con el resultado.\n",
    "t = t.sort()\n",
    "print(t)"
   ]
  },
  {
   "cell_type": "code",
   "execution_count": 52,
   "id": "8acce780",
   "metadata": {},
   "outputs": [
    {
     "name": "stdout",
     "output_type": "stream",
     "text": [
      "['a', 'c']\n",
      "b\n"
     ]
    }
   ],
   "source": [
    "# Hay varias formas de eliminar elementos de una lista. Si sabes el índice del elemento que quieres, puedes usar pop:\n",
    "t = ['a', 'b', 'c']\n",
    "x = t.pop(1)\n",
    "print(t)\n",
    "print(x)"
   ]
  },
  {
   "cell_type": "code",
   "execution_count": 53,
   "id": "b9f89dc7",
   "metadata": {},
   "outputs": [
    {
     "name": "stdout",
     "output_type": "stream",
     "text": [
      "['a', 'b']\n",
      "c\n"
     ]
    }
   ],
   "source": [
    "#Si no se dabe el indice y no se pasa a pop, este elimina el ultimo elemento de la lista\n",
    "t = ['a', 'b', 'c']\n",
    "x = t.pop()\n",
    "print(t)\n",
    "print(x)"
   ]
  },
  {
   "cell_type": "code",
   "execution_count": 54,
   "id": "b14fa59b",
   "metadata": {},
   "outputs": [
    {
     "name": "stdout",
     "output_type": "stream",
     "text": [
      "['a', 'c']\n"
     ]
    }
   ],
   "source": [
    "# Si no necesitas el valor removido, puedes usar el operador del:\n",
    "t = ['a', 'b', 'c']\n",
    "del t[1]\n",
    "print(t)"
   ]
  },
  {
   "cell_type": "code",
   "execution_count": 55,
   "id": "511ce283",
   "metadata": {},
   "outputs": [
    {
     "name": "stdout",
     "output_type": "stream",
     "text": [
      "['a', 'c']\n"
     ]
    }
   ],
   "source": [
    "# Si sabes qué elemento quieres remover (pero no sabes el índice), puedes usar remove:\n",
    "t = ['a', 'b', 'c']\n",
    "t.remove('b')\n",
    "print(t)"
   ]
  },
  {
   "cell_type": "code",
   "execution_count": 56,
   "id": "e6d097f6",
   "metadata": {},
   "outputs": [
    {
     "name": "stdout",
     "output_type": "stream",
     "text": [
      "[5, 6, 7, 2]\n"
     ]
    }
   ],
   "source": [
    "# Si sabes qué elemento quieres remover (pero no sabes el índice), puedes usar remove:\n",
    "t = [5,6,7,2,1]\n",
    "mini=min(t)\n",
    "t.remove(mini)\n",
    "print(t)"
   ]
  },
  {
   "cell_type": "code",
   "execution_count": 57,
   "id": "e3e29508",
   "metadata": {},
   "outputs": [
    {
     "name": "stdout",
     "output_type": "stream",
     "text": [
      "['a', 'f']\n"
     ]
    }
   ],
   "source": [
    "# Para remover más de un elemento, puedes usar del con un índice de rebanado:\n",
    "t = ['a', 'b', 'c', 'd', 'e', 'f']\n",
    "del t[1:5]\n",
    "print(t)"
   ]
  },
  {
   "cell_type": "code",
   "execution_count": 58,
   "id": "84a2514f",
   "metadata": {},
   "outputs": [
    {
     "name": "stdout",
     "output_type": "stream",
     "text": [
      "6\n"
     ]
    }
   ],
   "source": [
    "#Funciones de la lista: LEN, cantidad de elementos\n",
    "nums = [3, 41, 12, 9, 74, 15]\n",
    "print(len(nums))"
   ]
  },
  {
   "cell_type": "code",
   "execution_count": 59,
   "id": "78e1f752",
   "metadata": {},
   "outputs": [
    {
     "name": "stdout",
     "output_type": "stream",
     "text": [
      "74\n"
     ]
    }
   ],
   "source": [
    "#Funciones de la lista: MAX numero maximo\n",
    "nums = [3, 41, 12, 9, 74, 15]\n",
    "print(max(nums))"
   ]
  },
  {
   "cell_type": "code",
   "execution_count": 60,
   "id": "10914da5",
   "metadata": {},
   "outputs": [
    {
     "name": "stdout",
     "output_type": "stream",
     "text": [
      "3\n"
     ]
    }
   ],
   "source": [
    "#Funciones de la lista: MIN numero minimo\n",
    "nums = [3, 41, 12, 9, 74, 15]\n",
    "print(min(nums))"
   ]
  },
  {
   "cell_type": "code",
   "execution_count": 62,
   "id": "02084c4a",
   "metadata": {},
   "outputs": [
    {
     "name": "stdout",
     "output_type": "stream",
     "text": [
      "154\n"
     ]
    }
   ],
   "source": [
    "#Funciones de la lista: SUM, suma todos los numeros de la lista\n",
    "nums = [3, 41, 12, 9, 74, 15]\n",
    "print(sum(nums))"
   ]
  },
  {
   "cell_type": "code",
   "execution_count": null,
   "id": "a63499ca",
   "metadata": {},
   "outputs": [],
   "source": [
    "#Funciones de la lista: SUM, suma todos los numeros de la lista y divide en el total de elementos\n",
    "nums = [3, 41, 12, 9, 74, 15]\n",
    "print(sum(nums)/len(nums))4\n",
    "5"
   ]
  },
  {
   "cell_type": "code",
   "execution_count": null,
   "id": "bc23e28d",
   "metadata": {},
   "outputs": [],
   "source": []
  },
  {
   "cell_type": "code",
   "execution_count": 65,
   "id": "28acd376",
   "metadata": {},
   "outputs": [
    {
     "name": "stdout",
     "output_type": "stream",
     "text": [
      "Ingresa un número: dsa\n"
     ]
    },
    {
     "ename": "ValueError",
     "evalue": "could not convert string to float: 'dsa'",
     "output_type": "error",
     "traceback": [
      "\u001b[0;31m---------------------------------------------------------------------------\u001b[0m",
      "\u001b[0;31mValueError\u001b[0m                                Traceback (most recent call last)",
      "\u001b[0;32m<ipython-input-65-f7157797ef6b>\u001b[0m in \u001b[0;36m<module>\u001b[0;34m\u001b[0m\n\u001b[1;32m      5\u001b[0m     \u001b[0minp\u001b[0m \u001b[0;34m=\u001b[0m \u001b[0minput\u001b[0m\u001b[0;34m(\u001b[0m\u001b[0;34m'Ingresa un número: '\u001b[0m\u001b[0;34m)\u001b[0m\u001b[0;34m\u001b[0m\u001b[0;34m\u001b[0m\u001b[0m\n\u001b[1;32m      6\u001b[0m     \u001b[0;32mif\u001b[0m \u001b[0minp\u001b[0m \u001b[0;34m==\u001b[0m \u001b[0;34m'fin'\u001b[0m\u001b[0;34m:\u001b[0m \u001b[0;32mbreak\u001b[0m\u001b[0;34m\u001b[0m\u001b[0;34m\u001b[0m\u001b[0m\n\u001b[0;32m----> 7\u001b[0;31m     \u001b[0mvalor\u001b[0m \u001b[0;34m=\u001b[0m \u001b[0mfloat\u001b[0m\u001b[0;34m(\u001b[0m\u001b[0minp\u001b[0m\u001b[0;34m)\u001b[0m\u001b[0;34m\u001b[0m\u001b[0;34m\u001b[0m\u001b[0m\n\u001b[0m\u001b[1;32m      8\u001b[0m     \u001b[0mtotal\u001b[0m \u001b[0;34m=\u001b[0m \u001b[0mtotal\u001b[0m \u001b[0;34m+\u001b[0m \u001b[0mvalor\u001b[0m\u001b[0;34m\u001b[0m\u001b[0;34m\u001b[0m\u001b[0m\n\u001b[1;32m      9\u001b[0m     \u001b[0mcontador\u001b[0m \u001b[0;34m=\u001b[0m \u001b[0mcontador\u001b[0m \u001b[0;34m+\u001b[0m \u001b[0;36m1\u001b[0m\u001b[0;34m\u001b[0m\u001b[0;34m\u001b[0m\u001b[0m\n",
      "\u001b[0;31mValueError\u001b[0m: could not convert string to float: 'dsa'"
     ]
    }
   ],
   "source": [
    "# Primero, el programa para calcular un promedio de numeros sin utilizar una lista:\n",
    "total = 0\n",
    "contador = 0\n",
    "while (True):\n",
    "    inp = input('Ingresa un número: ')\n",
    "    if inp == 'fin': break\n",
    "    valor = float(inp)\n",
    "    total = total + valor\n",
    "    contador = contador + 1\n",
    "promedio = total / contador\n",
    "print('Promedio:', promedio)"
   ]
  }
 ],
 "metadata": {
  "kernelspec": {
   "display_name": "Python 3",
   "language": "python",
   "name": "python3"
  },
  "language_info": {
   "codemirror_mode": {
    "name": "ipython",
    "version": 3
   },
   "file_extension": ".py",
   "mimetype": "text/x-python",
   "name": "python",
   "nbconvert_exporter": "python",
   "pygments_lexer": "ipython3",
   "version": "3.9.1"
  }
 },
 "nbformat": 4,
 "nbformat_minor": 5
}
