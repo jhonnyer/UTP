{
 "cells": [
  {
   "cell_type": "code",
   "execution_count": 11,
   "id": "4bce5f07",
   "metadata": {},
   "outputs": [
    {
     "name": "stdout",
     "output_type": "stream",
     "text": [
      "u\n"
     ]
    }
   ],
   "source": [
    "c=max('Hola, mundo cruel!')\n",
    "print(c)"
   ]
  },
  {
   "cell_type": "code",
   "execution_count": 7,
   "id": "b0784671",
   "metadata": {},
   "outputs": [
    {
     "data": {
      "text/plain": [
       "' '"
      ]
     },
     "execution_count": 7,
     "metadata": {},
     "output_type": "execute_result"
    }
   ],
   "source": [
    "min('¡Hola, mundo!')"
   ]
  },
  {
   "cell_type": "code",
   "execution_count": 12,
   "id": "43ae9e5c",
   "metadata": {},
   "outputs": [
    {
     "data": {
      "text/plain": [
       "11"
      ]
     },
     "execution_count": 12,
     "metadata": {},
     "output_type": "execute_result"
    }
   ],
   "source": [
    "len('Hola, mundo')"
   ]
  },
  {
   "cell_type": "code",
   "execution_count": 20,
   "id": "ff738ba6",
   "metadata": {},
   "outputs": [
    {
     "name": "stdout",
     "output_type": "stream",
     "text": [
      "1\n",
      "[2, 3, 4, 5, 6, 7, 8]\n"
     ]
    }
   ],
   "source": [
    "c=[1,2,3,4,5,6,7,8]\n",
    "\n",
    "d=min(c)\n",
    "print(d)\n",
    "c.remove(d)\n",
    "print(c)\n",
    "\n"
   ]
  },
  {
   "cell_type": "code",
   "execution_count": 39,
   "id": "6799e9d5",
   "metadata": {},
   "outputs": [
    {
     "name": "stdout",
     "output_type": "stream",
     "text": [
      "9\n",
      "10\n",
      "-0.4575749056067512\n"
     ]
    }
   ],
   "source": [
    "# Supón que estás tratando de calcular una relación señal-ruido en decibelios. \n",
    "# La fórmula es SNR db = 10 log 10 (P senal /P ruido ). En Python, podrías escribir algo como esto:\n",
    "\n",
    "# Entradas: Inte Señal, inte Ruido\n",
    "# Salidas: decibelios\n",
    "    \n",
    "# Mostrar el resultado\n",
    "\n",
    "# Inicio\n",
    "# Introduce el valor de la int señal\n",
    "# Introduce el valor de la int ruido\n",
    "# Prcesa el valor de int_senal/int_ruido\n",
    "# Procesamiento para hallar el valor en decibelios\n",
    "# mostrar el resultado pantalla\n",
    "# Fin\n",
    "\n",
    "import math\n",
    "int_senal = 9\n",
    "print(int_senal)\n",
    "int_ruido = 10\n",
    "print(int_ruido)\n",
    "relacion = int_senal / int_ruido\n",
    "decibelios = 10 * math.log10(relacion)\n",
    "print(decibelios)"
   ]
  },
  {
   "cell_type": "code",
   "execution_count": 23,
   "id": "361bfde6",
   "metadata": {},
   "outputs": [
    {
     "name": "stdout",
     "output_type": "stream",
     "text": [
      "0.644217687237691\n"
     ]
    }
   ],
   "source": [
    "radianes = 0.7\n",
    "altura = math.sin(radianes)\n",
    "print(altura)"
   ]
  },
  {
   "cell_type": "code",
   "execution_count": 24,
   "id": "c457df07",
   "metadata": {},
   "outputs": [
    {
     "data": {
      "text/plain": [
       "0.7071067811865475"
      ]
     },
     "execution_count": 24,
     "metadata": {},
     "output_type": "execute_result"
    }
   ],
   "source": [
    "grados = 45\n",
    "radianes = grados / 360.0 * 2 * math.pi\n",
    "math.sin(radianes)"
   ]
  },
  {
   "cell_type": "code",
   "execution_count": 25,
   "id": "00f0bd0c",
   "metadata": {},
   "outputs": [
    {
     "data": {
      "text/plain": [
       "0.7071067811865476"
      ]
     },
     "execution_count": 25,
     "metadata": {},
     "output_type": "execute_result"
    }
   ],
   "source": [
    "math.sqrt(2) / 2.0"
   ]
  },
  {
   "cell_type": "code",
   "execution_count": 27,
   "id": "499fdcb2",
   "metadata": {},
   "outputs": [
    {
     "name": "stdout",
     "output_type": "stream",
     "text": [
      "0.887318870013389\n",
      "0.7666823854051453\n",
      "0.5701173953572299\n",
      "0.5191963862250504\n",
      "0.7845486814273658\n",
      "0.6980891974718325\n",
      "0.809235870656209\n",
      "0.6991797523935307\n",
      "0.87747690817693\n",
      "0.13765780170093567\n"
     ]
    }
   ],
   "source": [
    "# Numero aleatorio, funcion random\n",
    "import random\n",
    "for i in range(10):\n",
    "    x = random.random()\n",
    "    print(x)"
   ]
  },
  {
   "cell_type": "code",
   "execution_count": 28,
   "id": "79ecbcd7",
   "metadata": {},
   "outputs": [
    {
     "data": {
      "text/plain": [
       "6"
      ]
     },
     "execution_count": 28,
     "metadata": {},
     "output_type": "execute_result"
    }
   ],
   "source": [
    "random.randint(5, 10)"
   ]
  },
  {
   "cell_type": "code",
   "execution_count": 29,
   "id": "692835b0",
   "metadata": {},
   "outputs": [
    {
     "data": {
      "text/plain": [
       "10"
      ]
     },
     "execution_count": 29,
     "metadata": {},
     "output_type": "execute_result"
    }
   ],
   "source": [
    "random.randint(5, 10)"
   ]
  },
  {
   "cell_type": "code",
   "execution_count": 30,
   "id": "cb172b32",
   "metadata": {},
   "outputs": [
    {
     "data": {
      "text/plain": [
       "2"
      ]
     },
     "execution_count": 30,
     "metadata": {},
     "output_type": "execute_result"
    }
   ],
   "source": [
    "# Para elegir un elemento de una secuencia aleatoriamente, se puede usar choice:\n",
    "t = [1, 2, 3]\n",
    "random.choice(t)"
   ]
  },
  {
   "cell_type": "code",
   "execution_count": 32,
   "id": "f021c30d",
   "metadata": {},
   "outputs": [
    {
     "name": "stdout",
     "output_type": "stream",
     "text": [
      "Soy un leñador, qué alegría.\n",
      "Duermo toda la noche y trabajo todo el día.\n"
     ]
    }
   ],
   "source": [
    "#Definicion de una funcion\n",
    "def muestra_estribillo():\n",
    "    print('Soy un leñador, qué alegría.')\n",
    "    print('Duermo toda la noche y trabajo todo el día.')\n",
    "    \n",
    "muestra_estribillo()"
   ]
  },
  {
   "cell_type": "code",
   "execution_count": 33,
   "id": "ee38186d",
   "metadata": {},
   "outputs": [
    {
     "name": "stdout",
     "output_type": "stream",
     "text": [
      "<function muestra_estribillo at 0x7f843f763b80>\n",
      "<class 'function'>\n"
     ]
    }
   ],
   "source": [
    "print(muestra_estribillo)\n",
    "print(type(muestra_estribillo))"
   ]
  },
  {
   "cell_type": "code",
   "execution_count": 34,
   "id": "f6639a67",
   "metadata": {},
   "outputs": [
    {
     "name": "stdout",
     "output_type": "stream",
     "text": [
      "Soy un leñador, qué alegría.\n",
      "Duermo toda la noche y trabajo todo el día.\n",
      "Soy un leñador, qué alegría.\n",
      "Duermo toda la noche y trabajo todo el día.\n"
     ]
    }
   ],
   "source": [
    "def repite_estribillo():\n",
    "    muestra_estribillo()\n",
    "    muestra_estribillo()\n",
    "\n",
    "repite_estribillo()"
   ]
  },
  {
   "cell_type": "code",
   "execution_count": 36,
   "id": "1aa1b1d3",
   "metadata": {},
   "outputs": [
    {
     "ename": "NameError",
     "evalue": "name 'repite_estribill' is not defined",
     "output_type": "error",
     "traceback": [
      "\u001b[0;31m---------------------------------------------------------------------------\u001b[0m",
      "\u001b[0;31mNameError\u001b[0m                                 Traceback (most recent call last)",
      "\u001b[0;32m<ipython-input-36-d6265773c55a>\u001b[0m in \u001b[0;36m<module>\u001b[0;34m\u001b[0m\n\u001b[1;32m      1\u001b[0m \u001b[0;31m#Error llamar funcion antes de definir\u001b[0m\u001b[0;34m\u001b[0m\u001b[0;34m\u001b[0m\u001b[0;34m\u001b[0m\u001b[0m\n\u001b[0;32m----> 2\u001b[0;31m \u001b[0mrepite_estribill\u001b[0m\u001b[0;34m(\u001b[0m\u001b[0;34m)\u001b[0m\u001b[0;34m\u001b[0m\u001b[0;34m\u001b[0m\u001b[0m\n\u001b[0m\u001b[1;32m      3\u001b[0m \u001b[0;32mdef\u001b[0m \u001b[0mrepite_estribill\u001b[0m\u001b[0;34m(\u001b[0m\u001b[0;34m)\u001b[0m\u001b[0;34m:\u001b[0m\u001b[0;34m\u001b[0m\u001b[0;34m\u001b[0m\u001b[0m\n\u001b[1;32m      4\u001b[0m     \u001b[0mmuestra_estribillo\u001b[0m\u001b[0;34m(\u001b[0m\u001b[0;34m)\u001b[0m\u001b[0;34m\u001b[0m\u001b[0;34m\u001b[0m\u001b[0m\n\u001b[1;32m      5\u001b[0m     \u001b[0mmuestra_estribillo\u001b[0m\u001b[0;34m(\u001b[0m\u001b[0;34m)\u001b[0m\u001b[0;34m\u001b[0m\u001b[0;34m\u001b[0m\u001b[0m\n",
      "\u001b[0;31mNameError\u001b[0m: name 'repite_estribill' is not defined"
     ]
    }
   ],
   "source": [
    "#Error llamar funcion antes de definir\n",
    "repite_estribill()\n",
    "def repite_estribill():\n",
    "    muestra_estribillo()\n",
    "    muestra_estribillo()\n",
    "\n"
   ]
  },
  {
   "cell_type": "code",
   "execution_count": 38,
   "id": "8bec08a7",
   "metadata": {},
   "outputs": [
    {
     "data": {
      "text/plain": [
       "16.0"
      ]
     },
     "execution_count": 38,
     "metadata": {},
     "output_type": "execute_result"
    }
   ],
   "source": [
    "#Funcion que toma la base  y el exponente\n",
    "math.pow(2,4)"
   ]
  },
  {
   "cell_type": "code",
   "execution_count": 7,
   "id": "5a2fd499",
   "metadata": {},
   "outputs": [
    {
     "name": "stdout",
     "output_type": "stream",
     "text": [
      "Hola mundo\n",
      "Hola mundo\n",
      "17\n",
      "17\n"
     ]
    }
   ],
   "source": [
    "def muestra_dos_veces(bruce):\n",
    "    print(bruce)\n",
    "    print(bruce)\n",
    "\n",
    "muestra_dos_veces(\"Hola mundo\")\n",
    "muestra_dos_veces(17)"
   ]
  },
  {
   "cell_type": "code",
   "execution_count": 42,
   "id": "69d01ede",
   "metadata": {},
   "outputs": [
    {
     "name": "stdout",
     "output_type": "stream",
     "text": [
      "3.141592653589793\n",
      "3.141592653589793\n"
     ]
    }
   ],
   "source": [
    "muestra_dos_veces(math.pi)"
   ]
  },
  {
   "cell_type": "code",
   "execution_count": 43,
   "id": "c3858219",
   "metadata": {},
   "outputs": [
    {
     "name": "stdout",
     "output_type": "stream",
     "text": [
      "6.283185307179586\n",
      "6.283185307179586\n"
     ]
    }
   ],
   "source": [
    "muestra_dos_veces(math.pi*2)"
   ]
  },
  {
   "cell_type": "code",
   "execution_count": 46,
   "id": "620a8c34",
   "metadata": {},
   "outputs": [
    {
     "name": "stdout",
     "output_type": "stream",
     "text": [
      "6\n",
      "6\n",
      "-1.0\n",
      "-1.0\n"
     ]
    }
   ],
   "source": [
    "muestra_dos_veces(2*3)\n",
    "muestra_dos_veces(math.cos(math.pi))"
   ]
  },
  {
   "cell_type": "code",
   "execution_count": 10,
   "id": "ed746566",
   "metadata": {},
   "outputs": [
    {
     "name": "stdout",
     "output_type": "stream",
     "text": [
      "Spam Spam Spam Spam \n",
      "Spam Spam Spam Spam \n",
      "Eric, la medio-abeja.\n",
      "Eric, la medio-abeja.\n",
      "2\n",
      "2\n"
     ]
    }
   ],
   "source": [
    "muestra_dos_veces('Spam '*4)\n",
    "michael = 'Eric, la medio-abeja.'\n",
    "muestra_dos_veces(michael)\n",
    "x=2\n",
    "muestra_dos_veces(x)"
   ]
  },
  {
   "cell_type": "code",
   "execution_count": 4,
   "id": "a1ac951b",
   "metadata": {},
   "outputs": [
    {
     "name": "stdout",
     "output_type": "stream",
     "text": [
      "0.7071067811865475\n",
      "0.9204482076268572\n"
     ]
    }
   ],
   "source": [
    "#funciones productivas devuelven un valor\n",
    "import math\n",
    "grados = 45\n",
    "radianes = grados / 360.0 * 2 * math.pi\n",
    "x=math.sin(radianes)\n",
    "area=(math.sqrt(x)+1)/2\n",
    "print(x)\n",
    "print(area)"
   ]
  },
  {
   "cell_type": "code",
   "execution_count": 14,
   "id": "edfbf1c6",
   "metadata": {},
   "outputs": [
    {
     "name": "stdout",
     "output_type": "stream",
     "text": [
      "Bing\n",
      "Bing\n",
      "None\n"
     ]
    }
   ],
   "source": [
    "#Funcion esteril llamado\n",
    "resultado=muestra_dos_veces('Bing')\n",
    "print(resultado)"
   ]
  },
  {
   "cell_type": "code",
   "execution_count": 15,
   "id": "4c509e54",
   "metadata": {},
   "outputs": [
    {
     "name": "stdout",
     "output_type": "stream",
     "text": [
      "8\n"
     ]
    }
   ],
   "source": [
    "#Funcion productiva con argumentos\n",
    "def sumados(a, b):\n",
    "    suma = a + b\n",
    "    return suma\n",
    "\n",
    "x = sumados(3, 5)\n",
    "print(x)"
   ]
  },
  {
   "cell_type": "code",
   "execution_count": 17,
   "id": "2d909c13",
   "metadata": {},
   "outputs": [
    {
     "data": {
      "text/plain": [
       "7"
      ]
     },
     "execution_count": 17,
     "metadata": {},
     "output_type": "execute_result"
    }
   ],
   "source": [
    "#Pasar parametros y sus argumentos en una funcion\n",
    "sumados(b=2,a=5)"
   ]
  },
  {
   "cell_type": "code",
   "execution_count": 18,
   "id": "8b9a4095",
   "metadata": {},
   "outputs": [
    {
     "name": "stdout",
     "output_type": "stream",
     "text": [
      "ABC\n",
      "Zap\n",
      "ABC\n"
     ]
    }
   ],
   "source": [
    "def fred():\n",
    "    print(\"Zap\")\n",
    "def jane():\n",
    "    print(\"ABC\")\n",
    "\n",
    "jane()\n",
    "fred()\n",
    "jane()"
   ]
  },
  {
   "cell_type": "code",
   "execution_count": 28,
   "id": "a127bf10",
   "metadata": {},
   "outputs": [
    {
     "name": "stdout",
     "output_type": "stream",
     "text": [
      "Indica el numero de horas que has trabajado: 56\n",
      "Indica el costo de la tarifa por horas de trabajo: 4\n"
     ]
    },
    {
     "data": {
      "text/plain": [
       "'Tu salario es: $224.0'"
      ]
     },
     "execution_count": 28,
     "metadata": {},
     "output_type": "execute_result"
    }
   ],
   "source": [
    "# Reescribe el programa de cálculo del salario, con tarifa-y-\n",
    "# media para las horas extras, y crea una función llamada calculo_salario\n",
    "# que reciba dos parámetros (horas y tarifa).\n",
    "def calculo_salario(horas,tarifas):\n",
    "    salario=horas*tarifas\n",
    "    return \"Tu salario es: ${}\".format(salario)\n",
    "\n",
    "horas=float(input(\"Indica el numero de horas que has trabajado: \"))\n",
    "tarifas=float(input(\"Indica el costo de la tarifa por horas de trabajo: \"))\n",
    "calculo_salario(horas,tarifas)"
   ]
  },
  {
   "cell_type": "code",
   "execution_count": 34,
   "id": "6e86fded",
   "metadata": {},
   "outputs": [
    {
     "name": "stdout",
     "output_type": "stream",
     "text": [
      "Ingresa tu nota: 0.5\n",
      "Insuficiente\n"
     ]
    }
   ],
   "source": [
    "# Reescribe el programa de calificaciones del capítulo anterior usando una función llamada calcula_calificacion, \n",
    "# que reciba una puntuación como parámetro y devuelva una calificación como cadena.\n",
    "\n",
    "def calcula_calificacion(nota):\n",
    "    if nota>=0.9:\n",
    "        return \"Sobresaliente\"\n",
    "    elif nota>=0.8:\n",
    "        return \"Notable\"\n",
    "    elif nota>=0.7:\n",
    "        return \"bien\"\n",
    "    elif nota>=0.6:\n",
    "        return \"Suficiente\"\n",
    "    elif  nota<0.6:\n",
    "        return \"Insuficiente\"\n",
    "        \n",
    "nota=float(input(\"Ingresa tu nota: \"))\n",
    "x=calcula_calificacion(nota)\n",
    "print(x)"
   ]
  }
 ],
 "metadata": {
  "kernelspec": {
   "display_name": "Python 3",
   "language": "python",
   "name": "python3"
  },
  "language_info": {
   "codemirror_mode": {
    "name": "ipython",
    "version": 3
   },
   "file_extension": ".py",
   "mimetype": "text/x-python",
   "name": "python",
   "nbconvert_exporter": "python",
   "pygments_lexer": "ipython3",
   "version": "3.9.1"
  }
 },
 "nbformat": 4,
 "nbformat_minor": 5
}
