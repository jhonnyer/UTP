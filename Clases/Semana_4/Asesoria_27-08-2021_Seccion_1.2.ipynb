{
 "cells": [
  {
   "cell_type": "code",
   "execution_count": 9,
   "id": "2cdc9b1a",
   "metadata": {},
   "outputs": [
    {
     "name": "stdout",
     "output_type": "stream",
     "text": [
      "Hola mundo\n",
      "20\n",
      "El valor que retorna la funcion es:  20\n",
      "10\n"
     ]
    }
   ],
   "source": [
    "#Funcion que no tiene parametros\n",
    "def saludo():\n",
    "    print(\"Hola mundo\")\n",
    "    a=10*2\n",
    "    print(a)\n",
    "    return a,10\n",
    "\n",
    "var_ext1,var_ext2=saludo()\n",
    "print(\"El valor que retorna la funcion es: \",var_ext)\n",
    "print(var_ext2)"
   ]
  },
  {
   "cell_type": "code",
   "execution_count": 10,
   "id": "a758358c",
   "metadata": {},
   "outputs": [
    {
     "name": "stdout",
     "output_type": "stream",
     "text": [
      "30\n",
      "30\n"
     ]
    }
   ],
   "source": [
    "#Funciom con parametros definidos en la cabecera de la funcion\n",
    "def sumar(a,b):\n",
    "    c=a+b\n",
    "    print(c)\n",
    "    return c\n",
    "#Pasar argumentos por posicion\n",
    "v1=sumar(10,20)\n",
    "print(v1)"
   ]
  },
  {
   "cell_type": "code",
   "execution_count": 12,
   "id": "015ca170",
   "metadata": {},
   "outputs": [
    {
     "name": "stdout",
     "output_type": "stream",
     "text": [
      "15\n",
      "15\n"
     ]
    }
   ],
   "source": [
    "#Pasar argumentos por nombre\n",
    "a=5\n",
    "b=10\n",
    "v2=sumar(a,b)\n",
    "print(v2)"
   ]
  },
  {
   "cell_type": "code",
   "execution_count": 15,
   "id": "5f252836",
   "metadata": {},
   "outputs": [
    {
     "name": "stdout",
     "output_type": "stream",
     "text": [
      "El estudiante con el codigo 12345 tuvo una sumatoria de notas de 14\n"
     ]
    }
   ],
   "source": [
    "#Funciom con parametros definidos en la cabecera de la funcion-   Clave-valor\n",
    "def sumatoria(codigo:str,a:int,b:int,c:int,d:int):\n",
    "    sumatoria=sum((a,b,c,d))\n",
    "    frase=\"El estudiante con el codigo {} tuvo una sumatoria de notas de {}\".format(codigo,sumatoria)\n",
    "#     print(frase)\n",
    "    return frase\n",
    "#Pasar argumentos palabras claves\n",
    "v1=sumatoria(a=5,b=4,c=3,d=2,codigo=12345)\n",
    "print(v1)"
   ]
  },
  {
   "cell_type": "code",
   "execution_count": 17,
   "id": "a083deb6",
   "metadata": {},
   "outputs": [
    {
     "name": "stdout",
     "output_type": "stream",
     "text": [
      "El estudiante con el codigo 12345 tuvo una sumatoria de notas de 14\n"
     ]
    }
   ],
   "source": [
    "#Funciom con parametros definidos en la cabecera de la funcion-   Clave-valor -Cambie el tipo de variable a un string\n",
    "def sumatoria(codigo:str,a:int,b:int,c:int,d:int):\n",
    "    sumatoria=sum((a,b,c,d))\n",
    "    suma1=str(sumatoria)\n",
    "    cod=str(codigo)\n",
    "#     frase=\"El estudiante con el codigo {} tuvo una sumatoria de notas de {}\".format(codigo,sumatoria)\n",
    "    frase=\"El estudiante con el codigo \"+cod+\" tuvo una sumatoria de notas de \"+suma1\n",
    "#     print(frase)\n",
    "    return frase\n",
    "#Pasar argumentos palabras claves\n",
    "v1=sumatoria(a=5,b=4,c=3,d=2,codigo=12345)\n",
    "print(v1)"
   ]
  },
  {
   "cell_type": "code",
   "execution_count": 22,
   "id": "a6de6395",
   "metadata": {},
   "outputs": [
    {
     "name": "stdout",
     "output_type": "stream",
     "text": [
      "2\n",
      "5\n",
      "El estudiante con el codigo 12345 tuvo una sumatoria de notas de 12\n"
     ]
    }
   ],
   "source": [
    "#Hallar el valor minimo\n",
    "#Funciom con parametros definidos en la cabecera de la funcion-   Clave-valor -Cambie el tipo de variable a un string\n",
    "def prom(codigo:str,a:int,b:int,c:int,d:int):\n",
    "    minimo=min(a,b,c,d)\n",
    "    print(minimo)\n",
    "    maximo=max(a,b,c,d)\n",
    "    print(maximo)\n",
    "    sumatoria=sum((a,b,c,d-minimo))\n",
    "    suma1=str(sumatoria)\n",
    "    cod=str(codigo)\n",
    "    frase=\"El estudiante con el codigo \"+cod+\" tuvo una sumatoria de notas de \"+suma1\n",
    "    return frase\n",
    "#Pasar argumentos palabras claves\n",
    "a=5\n",
    "b=4\n",
    "c=3\n",
    "d=2\n",
    "codigo=12345\n",
    "\n",
    "v1=prom(a=a,b=b,c=c,d=d,codigo=codigo)\n",
    "print(v1)"
   ]
  }
 ],
 "metadata": {
  "kernelspec": {
   "display_name": "Python 3",
   "language": "python",
   "name": "python3"
  },
  "language_info": {
   "codemirror_mode": {
    "name": "ipython",
    "version": 3
   },
   "file_extension": ".py",
   "mimetype": "text/x-python",
   "name": "python",
   "nbconvert_exporter": "python",
   "pygments_lexer": "ipython3",
   "version": "3.9.1"
  }
 },
 "nbformat": 4,
 "nbformat_minor": 5
}
