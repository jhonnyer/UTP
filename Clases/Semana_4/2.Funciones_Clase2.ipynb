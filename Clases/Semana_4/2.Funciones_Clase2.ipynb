{
 "cells": [
  {
   "cell_type": "code",
   "execution_count": 1,
   "id": "8629019e",
   "metadata": {},
   "outputs": [
    {
     "data": {
      "text/plain": [
       "40"
      ]
     },
     "execution_count": 1,
     "metadata": {},
     "output_type": "execute_result"
    }
   ],
   "source": [
    "def suma(a,b):\n",
    "    return a+b\n",
    "\n",
    "suma(30,10)"
   ]
  },
  {
   "cell_type": "code",
   "execution_count": 2,
   "id": "1d008187",
   "metadata": {},
   "outputs": [
    {
     "data": {
      "text/plain": [
       "40"
      ]
     },
     "execution_count": 2,
     "metadata": {},
     "output_type": "execute_result"
    }
   ],
   "source": [
    "b=30\n",
    "a=10\n",
    "suma(a,b)"
   ]
  },
  {
   "cell_type": "code",
   "execution_count": 4,
   "id": "18120555",
   "metadata": {},
   "outputs": [
    {
     "data": {
      "text/plain": [
       "30"
      ]
     },
     "execution_count": 4,
     "metadata": {},
     "output_type": "execute_result"
    }
   ],
   "source": [
    "suma(b=10,a=20)"
   ]
  },
  {
   "cell_type": "code",
   "execution_count": 7,
   "id": "638f45e3",
   "metadata": {},
   "outputs": [
    {
     "name": "stdout",
     "output_type": "stream",
     "text": [
      "None\n"
     ]
    }
   ],
   "source": [
    "#Sentencia pass\n",
    "def consultar_nombre_genero(letra_genero):pass\n",
    "type(consultar_nombre_genero)\n",
    "print(consultar_nombre_genero('M'))\n"
   ]
  },
  {
   "cell_type": "code",
   "execution_count": 10,
   "id": "4a4ddf66",
   "metadata": {},
   "outputs": [
    {
     "name": "stdout",
     "output_type": "stream",
     "text": [
      "11\n",
      "\n",
      "\n",
      "None\n"
     ]
    }
   ],
   "source": [
    "#Funcion sin usar return\n",
    "def otra_suma(num1,num2):\n",
    "    print(num1+num2)\n",
    "    print(\"\\n\")\n",
    "\n",
    "resultado=otra_suma(5,6)\n",
    "print(resultado)"
   ]
  },
  {
   "cell_type": "code",
   "execution_count": 11,
   "id": "0437883f",
   "metadata": {},
   "outputs": [
    {
     "name": "stdout",
     "output_type": "stream",
     "text": [
      "11\n",
      "\n",
      "\n",
      "11\n"
     ]
    }
   ],
   "source": [
    "#Funcion usando return\n",
    "def otra_suma(num1,num2):\n",
    "    print(num1+num2)\n",
    "    print(\"\\n\")\n",
    "    return num1+num2\n",
    "\n",
    "resultado=otra_suma(5,6)\n",
    "print(resultado)"
   ]
  },
  {
   "cell_type": "code",
   "execution_count": 13,
   "id": "c7ddc861",
   "metadata": {},
   "outputs": [
    {
     "name": "stdout",
     "output_type": "stream",
     "text": [
      "('Jhonnyer', 'Galindez')\n"
     ]
    }
   ],
   "source": [
    "#Parametros funcion\n",
    "def mi_funcion(nombre,apellido):\n",
    "    nombre_completo=nombre,apellido\n",
    "    print(nombre_completo)\n",
    "    \n",
    "mi_funcion('Jhonnyer','Galindez')"
   ]
  },
  {
   "cell_type": "code",
   "execution_count": 14,
   "id": "c607131e",
   "metadata": {},
   "outputs": [
    {
     "name": "stdout",
     "output_type": "stream",
     "text": [
      "('Fernando', 'Zemanate')\n"
     ]
    },
    {
     "ename": "NameError",
     "evalue": "name 'nombre' is not defined",
     "output_type": "error",
     "traceback": [
      "\u001b[0;31m---------------------------------------------------------------------------\u001b[0m",
      "\u001b[0;31mNameError\u001b[0m                                 Traceback (most recent call last)",
      "\u001b[0;32m<ipython-input-14-e38b855b57ec>\u001b[0m in \u001b[0;36m<module>\u001b[0;34m\u001b[0m\n\u001b[1;32m      1\u001b[0m \u001b[0;31m#Acceder a una variable local fuera de la funcion, genera un error\u001b[0m\u001b[0;34m\u001b[0m\u001b[0;34m\u001b[0m\u001b[0;34m\u001b[0m\u001b[0m\n\u001b[1;32m      2\u001b[0m \u001b[0mmi_funcion\u001b[0m\u001b[0;34m(\u001b[0m\u001b[0;34m'Fernando'\u001b[0m\u001b[0;34m,\u001b[0m\u001b[0;34m'Zemanate'\u001b[0m\u001b[0;34m)\u001b[0m\u001b[0;34m\u001b[0m\u001b[0;34m\u001b[0m\u001b[0m\n\u001b[0;32m----> 3\u001b[0;31m \u001b[0mprint\u001b[0m\u001b[0;34m(\u001b[0m\u001b[0mnombre\u001b[0m\u001b[0;34m)\u001b[0m\u001b[0;34m\u001b[0m\u001b[0;34m\u001b[0m\u001b[0m\n\u001b[0m",
      "\u001b[0;31mNameError\u001b[0m: name 'nombre' is not defined"
     ]
    }
   ],
   "source": [
    "#Acceder a una variable local fuera de la funcion, genera un error\n",
    "mi_funcion('Fernando','Zemanate')\n",
    "print(nombre)"
   ]
  },
  {
   "cell_type": "code",
   "execution_count": 16,
   "id": "58808fe3",
   "metadata": {},
   "outputs": [
    {
     "name": "stdout",
     "output_type": "stream",
     "text": [
      "('Carmen', 'Burbano')\n"
     ]
    }
   ],
   "source": [
    "#Enviar argumentos utilizando keywords\n",
    "mi_funcion(apellido='Burbano',nombre='Carmen')"
   ]
  },
  {
   "cell_type": "code",
   "execution_count": 17,
   "id": "b9850cf2",
   "metadata": {},
   "outputs": [
    {
     "name": "stdout",
     "output_type": "stream",
     "text": [
      "Hola Jhonnyer\n"
     ]
    }
   ],
   "source": [
    "#Asignar valores a los parametros por defecto\n",
    "def saludar(nombre,mensaje='Hola'):\n",
    "    print(mensaje,nombre)\n",
    "\n",
    "saludar('Jhonnyer')"
   ]
  },
  {
   "cell_type": "code",
   "execution_count": 18,
   "id": "d54527cc",
   "metadata": {},
   "outputs": [
    {
     "name": "stdout",
     "output_type": "stream",
     "text": [
      "Buen dia Juan\n"
     ]
    }
   ],
   "source": [
    "#Keywords como parametros, elementos clave-valor\n",
    "def saludar(nombre, mensaje='Hola'):\n",
    "    print(mensaje, nombre)\n",
    "\n",
    "saludar(mensaje='Buen dia',nombre=\"Juan\")"
   ]
  },
  {
   "cell_type": "code",
   "execution_count": 26,
   "id": "e04ce42f",
   "metadata": {},
   "outputs": [
    {
     "name": "stdout",
     "output_type": "stream",
     "text": [
      "Jhonnyer Gonzales\n",
      "Luis Gonzales\n",
      "Jesus Gonzales\n"
     ]
    }
   ],
   "source": [
    "#Funcion toma un solo valor y suma una cadena de simbolos \n",
    "#SOLO FUNCIONA CON UNA CADENA DE CARACTERES\n",
    "def my_function(fname):\n",
    "    print(fname+' Gonzales')\n",
    "\n",
    "my_function('Jhonnyer')\n",
    "my_function('Luis')\n",
    "my_function('Jesus')"
   ]
  },
  {
   "cell_type": "code",
   "execution_count": 27,
   "id": "8945266e",
   "metadata": {},
   "outputs": [
    {
     "name": "stdout",
     "output_type": "stream",
     "text": [
      "Jhonnyer Galindez\n",
      "Luis Gomez\n",
      "Jesus Burbano\n"
     ]
    }
   ],
   "source": [
    "#Funcion toma un solo valor y suma una cadena de simbolos, fname y lname\n",
    "#SOLO FUNCIONA CON UNA CADENA DE CARACTERES\n",
    "def my_function(fname, lname):\n",
    "    print(fname+' '+lname)\n",
    "\n",
    "my_function('Jhonnyer','Galindez')\n",
    "my_function('Luis','Gomez')\n",
    "my_function('Jesus','Burbano')"
   ]
  },
  {
   "cell_type": "code",
   "execution_count": 29,
   "id": "4575994e",
   "metadata": {},
   "outputs": [
    {
     "ename": "TypeError",
     "evalue": "my_function() missing 1 required positional argument: 'lname'",
     "output_type": "error",
     "traceback": [
      "\u001b[0;31m---------------------------------------------------------------------------\u001b[0m",
      "\u001b[0;31mTypeError\u001b[0m                                 Traceback (most recent call last)",
      "\u001b[0;32m<ipython-input-29-d0c602e58b19>\u001b[0m in \u001b[0;36m<module>\u001b[0;34m\u001b[0m\n\u001b[1;32m      1\u001b[0m \u001b[0;31m#Error si se envia solo un parametro\u001b[0m\u001b[0;34m\u001b[0m\u001b[0;34m\u001b[0m\u001b[0;34m\u001b[0m\u001b[0m\n\u001b[0;32m----> 2\u001b[0;31m \u001b[0mmy_function\u001b[0m\u001b[0;34m(\u001b[0m\u001b[0;34m'Jesus'\u001b[0m\u001b[0;34m)\u001b[0m\u001b[0;34m\u001b[0m\u001b[0;34m\u001b[0m\u001b[0m\n\u001b[0m",
      "\u001b[0;31mTypeError\u001b[0m: my_function() missing 1 required positional argument: 'lname'"
     ]
    }
   ],
   "source": [
    "#Error si se envia solo un parametro\n",
    "my_function('Jesus')"
   ]
  },
  {
   "cell_type": "code",
   "execution_count": 31,
   "id": "b5c16797",
   "metadata": {},
   "outputs": [
    {
     "ename": "TypeError",
     "evalue": "can only concatenate str (not \"int\") to str",
     "output_type": "error",
     "traceback": [
      "\u001b[0;31m---------------------------------------------------------------------------\u001b[0m",
      "\u001b[0;31mTypeError\u001b[0m                                 Traceback (most recent call last)",
      "\u001b[0;32m<ipython-input-31-0afbccf01ec7>\u001b[0m in \u001b[0;36m<module>\u001b[0;34m\u001b[0m\n\u001b[1;32m      1\u001b[0m \u001b[0;31m#Error si se envia  un parametro que no sea tipo string\u001b[0m\u001b[0;34m\u001b[0m\u001b[0;34m\u001b[0m\u001b[0;34m\u001b[0m\u001b[0m\n\u001b[0;32m----> 2\u001b[0;31m \u001b[0mmy_function\u001b[0m\u001b[0;34m(\u001b[0m\u001b[0;34m'Jesus'\u001b[0m\u001b[0;34m,\u001b[0m\u001b[0;36m1\u001b[0m\u001b[0;34m)\u001b[0m\u001b[0;34m\u001b[0m\u001b[0;34m\u001b[0m\u001b[0m\n\u001b[0m",
      "\u001b[0;32m<ipython-input-27-b5594b07ac8b>\u001b[0m in \u001b[0;36mmy_function\u001b[0;34m(fname, lname)\u001b[0m\n\u001b[1;32m      2\u001b[0m \u001b[0;31m#SOLO FUNCIONA CON UNA CADENA DE CARACTERES\u001b[0m\u001b[0;34m\u001b[0m\u001b[0;34m\u001b[0m\u001b[0;34m\u001b[0m\u001b[0m\n\u001b[1;32m      3\u001b[0m \u001b[0;32mdef\u001b[0m \u001b[0mmy_function\u001b[0m\u001b[0;34m(\u001b[0m\u001b[0mfname\u001b[0m\u001b[0;34m,\u001b[0m \u001b[0mlname\u001b[0m\u001b[0;34m)\u001b[0m\u001b[0;34m:\u001b[0m\u001b[0;34m\u001b[0m\u001b[0;34m\u001b[0m\u001b[0m\n\u001b[0;32m----> 4\u001b[0;31m     \u001b[0mprint\u001b[0m\u001b[0;34m(\u001b[0m\u001b[0mfname\u001b[0m\u001b[0;34m+\u001b[0m\u001b[0;34m' '\u001b[0m\u001b[0;34m+\u001b[0m\u001b[0mlname\u001b[0m\u001b[0;34m)\u001b[0m\u001b[0;34m\u001b[0m\u001b[0;34m\u001b[0m\u001b[0m\n\u001b[0m\u001b[1;32m      5\u001b[0m \u001b[0;34m\u001b[0m\u001b[0m\n\u001b[1;32m      6\u001b[0m \u001b[0mmy_function\u001b[0m\u001b[0;34m(\u001b[0m\u001b[0;34m'Jhonnyer'\u001b[0m\u001b[0;34m,\u001b[0m\u001b[0;34m'Galindez'\u001b[0m\u001b[0;34m)\u001b[0m\u001b[0;34m\u001b[0m\u001b[0;34m\u001b[0m\u001b[0m\n",
      "\u001b[0;31mTypeError\u001b[0m: can only concatenate str (not \"int\") to str"
     ]
    }
   ],
   "source": [
    "#Error si se envia  un parametro que no sea tipo string\n",
    "my_function('Jesus',1)"
   ]
  },
  {
   "cell_type": "code",
   "execution_count": 32,
   "id": "f076bc71",
   "metadata": {},
   "outputs": [
    {
     "name": "stdout",
     "output_type": "stream",
     "text": [
      "5* 0 = 0\n",
      "5* 1 = 5\n",
      "5* 2 = 10\n",
      "5* 3 = 15\n",
      "5* 4 = 20\n",
      "5* 5 = 25\n",
      "5* 6 = 30\n",
      "5* 7 = 35\n",
      "5* 8 = 40\n",
      "5* 9 = 45\n",
      "5* 10 = 50\n"
     ]
    }
   ],
   "source": [
    "# Funcion tabla de multiplicar del 5\n",
    "def tabla_5():\n",
    "    for i in range(11):\n",
    "        print(\"5*\",i,\"=\",i*5)\n",
    "\n",
    "tabla_5()"
   ]
  },
  {
   "cell_type": "code",
   "execution_count": 33,
   "id": "ce22cea9",
   "metadata": {},
   "outputs": [
    {
     "name": "stdout",
     "output_type": "stream",
     "text": [
      "10\n"
     ]
    },
    {
     "ename": "NameError",
     "evalue": "name 'n' is not defined",
     "output_type": "error",
     "traceback": [
      "\u001b[0;31m---------------------------------------------------------------------------\u001b[0m",
      "\u001b[0;31mNameError\u001b[0m                                 Traceback (most recent call last)",
      "\u001b[0;32m<ipython-input-33-d646e303b0ba>\u001b[0m in \u001b[0;36m<module>\u001b[0;34m\u001b[0m\n\u001b[1;32m      4\u001b[0m     \u001b[0mprint\u001b[0m\u001b[0;34m(\u001b[0m\u001b[0mn\u001b[0m\u001b[0;34m)\u001b[0m\u001b[0;34m\u001b[0m\u001b[0;34m\u001b[0m\u001b[0m\n\u001b[1;32m      5\u001b[0m \u001b[0mtest\u001b[0m\u001b[0;34m(\u001b[0m\u001b[0;34m)\u001b[0m\u001b[0;34m\u001b[0m\u001b[0;34m\u001b[0m\u001b[0m\n\u001b[0;32m----> 6\u001b[0;31m \u001b[0mprint\u001b[0m\u001b[0;34m(\u001b[0m\u001b[0mn\u001b[0m\u001b[0;34m)\u001b[0m\u001b[0;34m\u001b[0m\u001b[0;34m\u001b[0m\u001b[0m\n\u001b[0m",
      "\u001b[0;31mNameError\u001b[0m: name 'n' is not defined"
     ]
    }
   ],
   "source": [
    "# Una variable declarada en una función no existe en la función principal: salida print muestra error fuera de la funcion\n",
    "def test():\n",
    "    n = 10\n",
    "    print(n)\n",
    "test()\n",
    "print(n)"
   ]
  },
  {
   "cell_type": "code",
   "execution_count": 34,
   "id": "1b89bf37",
   "metadata": {},
   "outputs": [
    {
     "name": "stdout",
     "output_type": "stream",
     "text": [
      "10\n"
     ]
    }
   ],
   "source": [
    "# Sin embargo, una variable declarada fuera de la función (al mismo nivel), sí que es accesible desde la función:\n",
    "\n",
    "m = 10\n",
    "def test():\n",
    "    print(m)\n",
    "    \n",
    "test()"
   ]
  },
  {
   "cell_type": "code",
   "execution_count": 35,
   "id": "9567aa8b",
   "metadata": {},
   "outputs": [
    {
     "name": "stdout",
     "output_type": "stream",
     "text": [
      "10\n"
     ]
    }
   ],
   "source": [
    "# Siempre que declaremos la variable antes de la ejecución, podemos acceder a ella desde dentro:\n",
    "\n",
    "def test():\n",
    "    print(l)\n",
    "\n",
    "l = 10\n",
    "test() "
   ]
  },
  {
   "cell_type": "code",
   "execution_count": 36,
   "id": "1663b925",
   "metadata": {},
   "outputs": [
    {
     "name": "stdout",
     "output_type": "stream",
     "text": [
      "5\n",
      "10\n"
     ]
    }
   ],
   "source": [
    "# En el caso que declaremos de nuevo una variable en la función, se creará un copia de la misma que sólo funcionará \n",
    "#dentro de la función. Por tanto no podemos modificar una variable externa dentro de una función:\n",
    "\n",
    "def test():\n",
    "    o = 5  # variable que sólo existe dentro de la función\n",
    "    print(o)\n",
    "    \n",
    "o = 10  # variable externa, no modificable\n",
    "test()\n",
    "print(o)\n"
   ]
  },
  {
   "cell_type": "code",
   "execution_count": 37,
   "id": "5bf66c4d",
   "metadata": {
    "scrolled": true
   },
   "outputs": [
    {
     "name": "stdout",
     "output_type": "stream",
     "text": [
      "5\n",
      "5\n"
     ]
    }
   ],
   "source": [
    "# La instrucción global Para poder modificar una variable externa en la función, debemos indicar que es global\n",
    "#de la siguiente forma:\n",
    "\n",
    "def test():\n",
    "    global o  # variable que hace referencia a la o externa\n",
    "    o = 5\n",
    "    print(o)\n",
    "    \n",
    "o = 10\n",
    "test()\n",
    "print(o)"
   ]
  },
  {
   "cell_type": "code",
   "execution_count": 60,
   "id": "c16eba93",
   "metadata": {},
   "outputs": [
    {
     "name": "stdout",
     "output_type": "stream",
     "text": [
      "12\n"
     ]
    }
   ],
   "source": [
    "def doblar():\n",
    "    global num\n",
    "    num*=2\n",
    "num=6\n",
    "doblar()\n",
    "print(num)"
   ]
  },
  {
   "cell_type": "code",
   "execution_count": 61,
   "id": "58ca4884",
   "metadata": {},
   "outputs": [
    {
     "data": {
      "text/plain": [
       "(5, 10, 20)"
      ]
     },
     "execution_count": 61,
     "metadata": {},
     "output_type": "execute_result"
    }
   ],
   "source": [
    "def test(num):\n",
    "    return num,num*2, num*4\n",
    "test(5)"
   ]
  },
  {
   "cell_type": "code",
   "execution_count": 62,
   "id": "7d43f6e2",
   "metadata": {},
   "outputs": [
    {
     "data": {
      "text/plain": [
       "50"
      ]
     },
     "execution_count": 62,
     "metadata": {},
     "output_type": "execute_result"
    }
   ],
   "source": [
    "# El área de un rectángulo se obtiene al multiplicar la base por la altura.\n",
    "\n",
    "def area_cuadrado(base, altura):\n",
    "    return base*altura\n",
    "area_cuadrado(10,5)"
   ]
  },
  {
   "cell_type": "code",
   "execution_count": 63,
   "id": "08dd38bb",
   "metadata": {},
   "outputs": [
    {
     "data": {
      "text/plain": [
       "15"
      ]
     },
     "execution_count": 63,
     "metadata": {},
     "output_type": "execute_result"
    }
   ],
   "source": [
    "# Ejercicio 5\n",
    "# Realiza una función llamada recortar(numero, minimo, maximo) que reciba tres parámetros. El primero es el número a recortar, el segundo es el límite inferior y el tercero el límite superior. La función tendrá que cumplir lo siguiente:\n",
    "\n",
    "# Devolver el límite inferior si el número es menor que éste\n",
    "# Devolver el límite superior si el número es mayor que éste.\n",
    "# Devolver el número sin cambios si no se supera ningún límite.\n",
    "# Comprueba el resultado de recortar 15 entre los límites 0 y 10.\n",
    "\n",
    "def recortar(numero,minimo,maximo):\n",
    "    if numero<minimo:\n",
    "        return minimo\n",
    "    elif numero>maximo:\n",
    "        return maximo\n",
    "    else:\n",
    "        return numero\n",
    "\n",
    "recortar(15,0,17)"
   ]
  },
  {
   "cell_type": "code",
   "execution_count": 64,
   "id": "6a0b32a7",
   "metadata": {},
   "outputs": [
    {
     "name": "stdout",
     "output_type": "stream",
     "text": [
      "Ingrese un numero: 45\n",
      "IMPAR\n"
     ]
    }
   ],
   "source": [
    "def par_o_impar():\n",
    "    numero=int(input(\"Ingrese un numero: \"))\n",
    "    if(numero%2==0):\n",
    "        print(\"PAR\")\n",
    "    else:\n",
    "        print(\"IMPAR\")\n",
    "        \n",
    "par_o_impar()"
   ]
  },
  {
   "cell_type": "code",
   "execution_count": 65,
   "id": "24ab2607",
   "metadata": {},
   "outputs": [
    {
     "name": "stdout",
     "output_type": "stream",
     "text": [
      "Ingrese un numero: 45\n"
     ]
    },
    {
     "data": {
      "text/plain": [
       "5"
      ]
     },
     "execution_count": 65,
     "metadata": {},
     "output_type": "execute_result"
    }
   ],
   "source": [
    "numero=int(input(\"Ingrese un numero: \"))\n",
    "minimo=10\n",
    "maximo=20\n",
    "def recortar(numero, minimo, maximo):\n",
    "    if numero < minimo:\n",
    "        return minimo\n",
    "    elif numero > maximo:\n",
    "        return maximo\n",
    "    return numero\n",
    "\n",
    "recortar(4,5,6)"
   ]
  },
  {
   "cell_type": "code",
   "execution_count": 66,
   "id": "3cc1a6f8",
   "metadata": {},
   "outputs": [
    {
     "name": "stdout",
     "output_type": "stream",
     "text": [
      "camine 10 pasos\n",
      "Gire 90 grados\n",
      "camine 10 pasos\n",
      "Gire 90 grados\n",
      "camine 10 pasos\n",
      "Gire 90 grados\n",
      "Fin del ciclo\n",
      "Pudiste rodear el cuadrado\n"
     ]
    }
   ],
   "source": [
    "def robot():\n",
    "    x=3\n",
    "    while x>0:\n",
    "        print(\"camine 10 pasos\")\n",
    "        print(\"Gire 90 grados\")\n",
    "        x=x-1\n",
    "    else:\n",
    "        print(\"Fin del ciclo\")\n",
    "\n",
    "robot()\n",
    "print(\"Pudiste rodear el cuadrado\")"
   ]
  },
  {
   "cell_type": "code",
   "execution_count": 67,
   "id": "ebece2c7",
   "metadata": {},
   "outputs": [
    {
     "name": "stdout",
     "output_type": "stream",
     "text": [
      "Ingresa tu nota: 56\n",
      "Sobresaliente\n"
     ]
    }
   ],
   "source": [
    "# Reescribe el programa de calificaciones del capítulo anterior usando una función llamada calcula_calificacion, \n",
    "# que reciba una puntuación como parámetro y devuelva una calificación como cadena.\n",
    "\n",
    "def calcula_calificacion(nota):\n",
    "    if nota>=0.9:\n",
    "        return \"Sobresaliente\"\n",
    "    elif nota>=0.8:\n",
    "        return \"Notable\"\n",
    "    elif nota>=0.7:\n",
    "        return \"bien\"\n",
    "    elif nota>=0.6:\n",
    "        return \"Suficiente\"\n",
    "    elif  nota<0.6:\n",
    "        return \"Insuficiente\"\n",
    "        \n",
    "nota=float(input(\"Ingresa tu nota: \"))\n",
    "x=calcula_calificacion(nota)\n",
    "print(x)"
   ]
  },
  {
   "cell_type": "code",
   "execution_count": 68,
   "id": "1013ba60",
   "metadata": {},
   "outputs": [
    {
     "name": "stdout",
     "output_type": "stream",
     "text": [
      "Indica el numero de horas que has trabajado: 45\n",
      "Indica el costo de la tarifa por horas de trabajo: 3\n"
     ]
    },
    {
     "data": {
      "text/plain": [
       "'Tu salario es: $135.0'"
      ]
     },
     "execution_count": 68,
     "metadata": {},
     "output_type": "execute_result"
    }
   ],
   "source": [
    "# Reescribe el programa de cálculo del salario, con tarifa-y-\n",
    "# media para las horas extras, y crea una función llamada calculo_salario\n",
    "# que reciba dos parámetros (horas y tarifa).\n",
    "def calculo_salario(horas,tarifas):\n",
    "    salario=horas*tarifas\n",
    "    return \"Tu salario es: ${}\".format(salario)\n",
    "\n",
    "horas=float(input(\"Indica el numero de horas que has trabajado: \"))\n",
    "tarifas=float(input(\"Indica el costo de la tarifa por horas de trabajo: \"))\n",
    "calculo_salario(horas,tarifas)\n"
   ]
  },
  {
   "cell_type": "code",
   "execution_count": 71,
   "id": "127ec6aa",
   "metadata": {
    "scrolled": true
   },
   "outputs": [
    {
     "name": "stdout",
     "output_type": "stream",
     "text": [
      "2\n",
      "3.75\n"
     ]
    }
   ],
   "source": [
    "def prom_notas(codigo:str,n1:int,n2:int,n3:int,n4:int,n5:int):\n",
    "    minimo=min(n1,n2,n3,n4,n5)\n",
    "    print(minimo)\n",
    "    promedio=(n1+n2+n3+n4+n5-minimo)/4\n",
    "    print(promedio)\n",
    "    \n",
    "prom_notas(100233,5,3,2,4,3)"
   ]
  },
  {
   "cell_type": "code",
   "execution_count": 73,
   "id": "f1e1aa1f",
   "metadata": {},
   "outputs": [
    {
     "name": "stdout",
     "output_type": "stream",
     "text": [
      "3.75\n"
     ]
    }
   ],
   "source": [
    "suma=sum((5,3,4,3))\n",
    "promedio=suma/4\n",
    "print(promedio)"
   ]
  },
  {
   "cell_type": "markdown",
   "id": "97f88243",
   "metadata": {},
   "source": [
    "# Retorno de valores"
   ]
  },
  {
   "cell_type": "code",
   "execution_count": 38,
   "id": "558d0f73",
   "metadata": {},
   "outputs": [
    {
     "data": {
      "text/plain": [
       "'Una cadena retornada'"
      ]
     },
     "execution_count": 38,
     "metadata": {},
     "output_type": "execute_result"
    }
   ],
   "source": [
    "# Para comunicarse con el exterior, las funciones pueden devolver valores al proceso principal gracias a la\n",
    "# instrucción return. En el momento de devolver un valor, la ejecución de la función finalizará:\n",
    "\n",
    "def test():\n",
    "    return \"Una cadena retornada\"\n",
    "\n",
    "test()\n"
   ]
  },
  {
   "cell_type": "code",
   "execution_count": 39,
   "id": "1f823bc9",
   "metadata": {},
   "outputs": [
    {
     "data": {
      "text/plain": [
       "'Una cadena retornada'"
      ]
     },
     "execution_count": 39,
     "metadata": {},
     "output_type": "execute_result"
    }
   ],
   "source": [
    "# Los valores devueltos se tratan como valores literales directos del tipo de dato retornado:\n",
    "\n",
    "def test():\n",
    "    return \"Una cadena retornada\"\n",
    "    print(\"hola\") #Esta linea no se ejecuta y finaliza la funcion \n",
    "test()"
   ]
  },
  {
   "cell_type": "code",
   "execution_count": 41,
   "id": "4b330122",
   "metadata": {},
   "outputs": [
    {
     "ename": "TypeError",
     "evalue": "can only concatenate str (not \"int\") to str",
     "output_type": "error",
     "traceback": [
      "\u001b[0;31m---------------------------------------------------------------------------\u001b[0m",
      "\u001b[0;31mTypeError\u001b[0m                                 Traceback (most recent call last)",
      "\u001b[0;32m<ipython-input-41-d7005aca841a>\u001b[0m in \u001b[0;36m<module>\u001b[0;34m\u001b[0m\n\u001b[1;32m      1\u001b[0m \u001b[0;31m# Por ejemplo NO PODEMOS sumar una cadena con un número:\u001b[0m\u001b[0;34m\u001b[0m\u001b[0;34m\u001b[0m\u001b[0;34m\u001b[0m\u001b[0m\n\u001b[0;32m----> 2\u001b[0;31m \u001b[0mc\u001b[0m \u001b[0;34m=\u001b[0m \u001b[0mtest\u001b[0m\u001b[0;34m(\u001b[0m\u001b[0;34m)\u001b[0m \u001b[0;34m+\u001b[0m \u001b[0;36m10\u001b[0m\u001b[0;34m\u001b[0m\u001b[0;34m\u001b[0m\u001b[0m\n\u001b[0m",
      "\u001b[0;31mTypeError\u001b[0m: can only concatenate str (not \"int\") to str"
     ]
    }
   ],
   "source": [
    "# Por ejemplo NO PODEMOS sumar una cadena con un número:\n",
    "c = test() + 10\n"
   ]
  },
  {
   "cell_type": "markdown",
   "id": "25023662",
   "metadata": {},
   "source": [
    "# Retorno multiple"
   ]
  },
  {
   "cell_type": "code",
   "execution_count": 43,
   "id": "2c9c0219",
   "metadata": {},
   "outputs": [
    {
     "name": "stdout",
     "output_type": "stream",
     "text": [
      "Una cadena\n",
      "20\n",
      "1.2\n"
     ]
    }
   ],
   "source": [
    "# Retorno múltiple Una característica interesante, es la posibilidad de devolver múltiples valores separados \n",
    "#por comas:\n",
    "\n",
    "def test():\n",
    "    return \"Una cadena\", 20, 1.2\n",
    "\n",
    "cad,ent,flotante=test()\n",
    "print(cad)\n",
    "print(ent)\n",
    "print(flotante)"
   ]
  },
  {
   "cell_type": "code",
   "execution_count": 45,
   "id": "8744b197",
   "metadata": {},
   "outputs": [
    {
     "name": "stdout",
     "output_type": "stream",
     "text": [
      "Error, debes enviar dos números a la función\n"
     ]
    },
    {
     "data": {
      "text/plain": [
       "-10"
      ]
     },
     "execution_count": 45,
     "metadata": {},
     "output_type": "execute_result"
    }
   ],
   "source": [
    "#TypeError: resta() missing 2 required positional arguments: 'a' and 'b'\n",
    "#Parámetros por defecto\n",
    "#Para solucionarlo podemos asignar unos valores por defecto nulos a los parámetros, de esa forma podríamos hacer\n",
    "#una comprobación antes de ejecutar el código de la función:\n",
    "\n",
    "def resta(a=None, b=None):\n",
    "    if a == None or b == None:\n",
    "        print(\"Error, debes enviar dos números a la función\")\n",
    "        return   # indicamos el final de la función aunque no devuelva nada\n",
    "    else:\n",
    "        return a-b\n",
    "\n",
    "resta()\n",
    "resta(20,30)"
   ]
  },
  {
   "cell_type": "code",
   "execution_count": 46,
   "id": "fed0714c",
   "metadata": {},
   "outputs": [
    {
     "name": "stdout",
     "output_type": "stream",
     "text": [
      "10\n"
     ]
    }
   ],
   "source": [
    "# Ejercicio doblar numero \n",
    "def doblar_valor(numero):\n",
    "    numero *= 2\n",
    "\n",
    "n = 10\n",
    "doblar_valor(n)\n",
    "print(n)"
   ]
  },
  {
   "cell_type": "code",
   "execution_count": 47,
   "id": "957b4099",
   "metadata": {},
   "outputs": [
    {
     "name": "stdout",
     "output_type": "stream",
     "text": [
      "20\n"
     ]
    }
   ],
   "source": [
    "#Para modificar los tipos simples podemos devolverlos modificados y reasignarlos:\n",
    "\n",
    "\n",
    "def doblar_valor(numero):\n",
    "    return numero * 2\n",
    "\n",
    "n = 10\n",
    "n = doblar_valor(n)\n",
    "print(n)\n"
   ]
  },
  {
   "cell_type": "markdown",
   "id": "12a8d70f",
   "metadata": {},
   "source": [
    "# Argumentos indeterminados"
   ]
  },
  {
   "cell_type": "code",
   "execution_count": 48,
   "id": "af0033a0",
   "metadata": {},
   "outputs": [
    {
     "name": "stdout",
     "output_type": "stream",
     "text": [
      "resultado tupla inmutable\n",
      "(5, 'Hola', [1, 2, 3, 4, 5])\n",
      "Recorrer tupla y mostrar valores uno a uno\n",
      "5\n",
      "Hola\n",
      "[1, 2, 3, 4, 5]\n"
     ]
    }
   ],
   "source": [
    "#Quizá en alguna ocasión no sabemos de antemano cuantos elementos vamos a enviar a una función. \n",
    "#En estos casos podemos utilizar los parámetros indeterminados por posición y por nombre.\n",
    "\n",
    "#Por posición\n",
    "#Para recibir un número indeterminado de parámetros por posición, debemos crear una lista dinámica de argumentos \n",
    "#(una tupla en realidad) definiendo el parámetro con un asterisco:\n",
    "\n",
    "\n",
    "def indeterminados_posicion(*args):\n",
    "    print(\"resultado tupla inmutable\")\n",
    "    print(args)\n",
    "    #recorrer la lista de parametros inmutables uno a uno\n",
    "    print(\"Recorrer tupla y mostrar valores uno a uno\")\n",
    "    for arg in args:\n",
    "        print(arg)\n",
    "\n",
    "indeterminados_posicion(5,\"Hola\",[1,2,3,4,5])"
   ]
  },
  {
   "cell_type": "code",
   "execution_count": 49,
   "id": "c594e085",
   "metadata": {},
   "outputs": [
    {
     "name": "stdout",
     "output_type": "stream",
     "text": [
      "{'n': 5, 'c': 'Hola', 'l': [1, 2, 3, 4, 5]}\n"
     ]
    }
   ],
   "source": [
    "#Por nombre\n",
    "#Para recibir un número indeterminado de parámetros por nombre (clave-valor o en inglés keyword args), debemos crear un diccionario dinámico de argumentos definiendo el parámetro con dos asteriscos:\n",
    "\n",
    "\n",
    "def indeterminados_nombre(**kwargs):\n",
    "    print(kwargs)\n",
    "\n",
    "indeterminados_nombre(n=5, c=\"Hola\", l=[1,2,3,4,5])   \n"
   ]
  },
  {
   "cell_type": "code",
   "execution_count": 50,
   "id": "ad5c80c3",
   "metadata": {},
   "outputs": [
    {
     "name": "stdout",
     "output_type": "stream",
     "text": [
      "n => 5\n",
      "c => Hola\n",
      "l => [1, 2, 3, 4, 5]\n"
     ]
    }
   ],
   "source": [
    "#Al recibirse como un diccionario, podemos iterarlo y mostrar la clave y valor de cada argumento:\n",
    "def indeterminados_nombre(**kwargs):\n",
    "    for kwarg in kwargs:\n",
    "        print(kwarg, \"=>\", kwargs[kwarg])\n",
    "\n",
    "indeterminados_nombre(n=5, c=\"Hola\", l=[1,2,3,4,5])   "
   ]
  },
  {
   "cell_type": "code",
   "execution_count": 51,
   "id": "3af627be",
   "metadata": {},
   "outputs": [
    {
     "name": "stdout",
     "output_type": "stream",
     "text": [
      "sumatorio =>  390.56\n",
      "nombre => Hector\n",
      "edad => 27\n"
     ]
    }
   ],
   "source": [
    "#Por posición y nombre\n",
    "#Si queremos aceptar ambos tipos de parámetros simultáneamente, entonces debemos crear ambas colecciones dinámicas. Primero los argumentos indeterminados por valor y luego los que son por clave y valor:\n",
    "\n",
    "\n",
    "def super_funcion(*args,**kwargs):\n",
    "    total = 0\n",
    "    for arg in args:\n",
    "        total += arg\n",
    "    print(\"sumatorio => \", total)\n",
    "    for kwarg in kwargs:\n",
    "        print(kwarg, \"=>\", kwargs[kwarg])\n",
    "\n",
    "super_funcion(10, 50, -1, 1.56, 10, 20, 300, nombre=\"Hector\", edad=27)\n",
    "\n",
    "#Los nombres args y kwargs no son obligatorios, pero se suelen utilizar por convención.\n",
    "#Muchos frameworks y librerías los utilizan por lo que es una buena practica llamarlos así."
   ]
  },
  {
   "cell_type": "markdown",
   "id": "7625b4c2",
   "metadata": {},
   "source": [
    "# Funciones recursivas"
   ]
  },
  {
   "cell_type": "code",
   "execution_count": 52,
   "id": "659a2872",
   "metadata": {},
   "outputs": [
    {
     "name": "stdout",
     "output_type": "stream",
     "text": [
      "4\n",
      "3\n",
      "2\n",
      "1\n",
      "Boooooooom!\n",
      "Fin de la función 0\n",
      "Fin de la función 1\n",
      "Fin de la función 2\n",
      "Fin de la función 3\n",
      "Fin de la función 4\n"
     ]
    }
   ],
   "source": [
    "#Funciones recursivas\n",
    "#Se trata de funciones que se llaman a sí mismas durante su propia ejecución. Funcionan de forma similar a las\n",
    "#iteraciones, pero debemos encargarnos de planificar el momento en que dejan de llamarse a sí mismas o \n",
    "#tendremos una función rescursiva infinita.\n",
    "\n",
    "#Suele utilizarse para dividir una tarea en subtareas más simples de forma que sea más fácil abordar el \n",
    "#problema y solucionarlo.\n",
    "\n",
    "#Ejemplo sin retorno\n",
    "#Cuenta regresiva hasta cero a partir de un número:\n",
    "\n",
    "\n",
    "def cuenta_atras(num):\n",
    "    num -= 1\n",
    "    if num > 0:\n",
    "        print(num)\n",
    "        cuenta_atras(num)\n",
    "    else:\n",
    "        print(\"Boooooooom!\")\n",
    "    print(\"Fin de la función\", num)\n",
    "\n",
    "cuenta_atras(5)\n"
   ]
  },
  {
   "cell_type": "code",
   "execution_count": 58,
   "id": "864373a0",
   "metadata": {},
   "outputs": [
    {
     "name": "stdout",
     "output_type": "stream",
     "text": [
      "Valor inicial -> 5\n",
      "Valor inicial -> 4\n",
      "Valor inicial -> 3\n",
      "Valor inicial -> 2\n",
      "Valor inicial -> 1\n",
      "valor final -> 1\n",
      "valor final -> 2\n",
      "valor final -> 6\n",
      "valor final -> 24\n",
      "valor final -> 120\n",
      "120\n"
     ]
    }
   ],
   "source": [
    "#Ejemplo con retorno\n",
    "#El factorial de un número corresponde al producto de todos los números desde 1 hasta el propio número. Es el ejemplo con retorno más utilizado para mostrar la utilidad de este tipo de funciones:\n",
    "\n",
    "#3! = 1 x 2 x 3 = 6\n",
    "#5! = 1 x 2 x 3 x 4 x 5 = 120\n",
    "\n",
    "def factorial(num):\n",
    "    print(\"Valor inicial ->\",num)\n",
    "    if num > 1:\n",
    "        num = num * factorial(num -1)\n",
    "#         print(num)\n",
    "    print(\"valor final ->\",num)\n",
    "    return num\n",
    "\n",
    "print(factorial(5))"
   ]
  },
  {
   "cell_type": "code",
   "execution_count": 59,
   "id": "03d8ddf6",
   "metadata": {},
   "outputs": [
    {
     "name": "stdout",
     "output_type": "stream",
     "text": [
      "Valor inicial:  5\n",
      "Valor inicial:  4\n",
      "Valor inicial:  3\n",
      "Valor inicial:  2\n",
      "Valor inicial:  1\n",
      "Valor inicial:  0\n",
      "Valor final:  0\n",
      "Valor final:  1\n",
      "Valor final:  3\n",
      "Valor final:  6\n",
      "Valor final:  10\n",
      "Valor final:  15\n",
      "15\n"
     ]
    }
   ],
   "source": [
    "def sumatorio(numero):\n",
    "    print(\"Valor inicial: \",numero)\n",
    "    if numero > 0:\n",
    "        numero += sumatorio(numero-1)\n",
    "    print(\"Valor final: \",numero)\n",
    "    return numero\n",
    "print(sumatorio(5))"
   ]
  }
 ],
 "metadata": {
  "kernelspec": {
   "display_name": "Python 3",
   "language": "python",
   "name": "python3"
  },
  "language_info": {
   "codemirror_mode": {
    "name": "ipython",
    "version": 3
   },
   "file_extension": ".py",
   "mimetype": "text/x-python",
   "name": "python",
   "nbconvert_exporter": "python",
   "pygments_lexer": "ipython3",
   "version": "3.9.1"
  }
 },
 "nbformat": 4,
 "nbformat_minor": 5
}
