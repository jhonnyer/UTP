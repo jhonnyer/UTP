{
 "cells": [
  {
   "cell_type": "markdown",
   "id": "e193802b",
   "metadata": {},
   "source": [
    "# Titulo \n",
    "## Semititulo\n",
    "### Titulo mas pequeño\n",
    "* Punto 1\n",
    "* Punto 2\n",
    "\n",
    "**Texto en negrita**\n",
    "\n",
    "*Texto en italica*"
   ]
  },
  {
   "cell_type": "markdown",
   "id": "ddc3ce32",
   "metadata": {},
   "source": [
    "# Codigo de latex ejemplo\n",
    "$\\int_0^\\infty x^{-2}dx$"
   ]
  },
  {
   "cell_type": "code",
   "execution_count": 3,
   "id": "f0f4eae9",
   "metadata": {},
   "outputs": [
    {
     "name": "stdout",
     "output_type": "stream",
     "text": [
      "Hola mundo\n"
     ]
    }
   ],
   "source": [
    "print(\"Hola mundo\")"
   ]
  }
 ],
 "metadata": {
  "kernelspec": {
   "display_name": "Python 3",
   "language": "python",
   "name": "python3"
  },
  "language_info": {
   "codemirror_mode": {
    "name": "ipython",
    "version": 3
   },
   "file_extension": ".py",
   "mimetype": "text/x-python",
   "name": "python",
   "nbconvert_exporter": "python",
   "pygments_lexer": "ipython3",
   "version": "3.9.1"
  }
 },
 "nbformat": 4,
 "nbformat_minor": 5
}
