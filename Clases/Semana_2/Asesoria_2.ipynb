{
 "cells": [
  {
   "cell_type": "code",
   "execution_count": 4,
   "id": "86838812",
   "metadata": {},
   "outputs": [
    {
     "name": "stdout",
     "output_type": "stream",
     "text": [
      "Ingrese el primer número a comparar: 5\n",
      "Ingrese el segundo número a comparar: 5\n",
      "Ingrese el primer número a comparar: 5\n",
      "Ingrese el segundo número a comparar: 5\n",
      "Ingrese el primer número a comparar: 3\n",
      "Ingrese el segundo número a comparar: 35\n",
      "35 es el número mayor\n"
     ]
    }
   ],
   "source": [
    "a=int(input(\"Ingrese el primer número a comparar: \"))\n",
    "b=int(input(\"Ingrese el segundo número a comparar: \"))\n",
    "\n",
    "while a==b:\n",
    "    a=int(input(\"Ingrese el primer número a comparar: \"))\n",
    "    b=int(input(\"Ingrese el segundo número a comparar: \"))\n",
    "else:\n",
    "    if a>b:\n",
    "        print(a,\" es el número mayor\")\n",
    "    else:\n",
    "        print(b, \"es el número mayor\")\n",
    "\n",
    "    "
   ]
  },
  {
   "cell_type": "code",
   "execution_count": 75,
   "id": "783f0e96",
   "metadata": {},
   "outputs": [
    {
     "name": "stdout",
     "output_type": "stream",
     "text": [
      "Ingrese el primer número a comparar: 5\n",
      "Ingrese el segundo número a comparar: 1\n",
      "Ingrese el tercer número a comparar: 10\n",
      "Salida 3: El número c 10 es el mayor\n",
      "Salida 2: El número b: 1 es el menor\n",
      "A: 5 B: 1 C:10\n"
     ]
    }
   ],
   "source": [
    "a=int(input(\"Ingrese el primer número a comparar: \"))\n",
    "b=int(input(\"Ingrese el segundo número a comparar: \"))\n",
    "c=int(input(\"Ingrese el tercer número a comparar: \"))\n",
    "\n",
    "\n",
    "while a==b==c:\n",
    "    a=int(input(\"Ingrese el primer número a comparar: \"))\n",
    "    b=int(input(\"Ingrese el segundo número a comparar: \"))\n",
    "    c=int(input(\"Ingrese el tercer número a comparar: \"))\n",
    "else:\n",
    "    if a>b and a>c:\n",
    "        print(\"Salida 1: el número a: {} es el mayor\".format(a))\n",
    "        if b>c:\n",
    "            print(\"Salida 1: el numero c {} es el menor\".format(c))\n",
    "            print(\"A: {} B: {} C:{}\".format(a,b,c))\n",
    "        else:\n",
    "            print(\"Salida 1: el numero b {} es el menor\".format(b))\n",
    "            print(\"A: {} B: {} C:{}\".format(a,b,c))\n",
    "    elif b>c:\n",
    "            print(\"Salida 2: El número b: {} es el mayor\".format(b))\n",
    "            if c>a:\n",
    "                print(\"Salida 2: El número a: {} es el menor\".format(a))\n",
    "                print(\"A: {} B: {} C:{}\".format(a,b,c))\n",
    "            else:\n",
    "                print(\"Salida 2: El número c: {} es el menor\".format(c))\n",
    "                print(\"A: {} B: {} C:{}\".format(a,b,c))\n",
    "    else:\n",
    "            print(\"Salida 3: El número c {} es el mayor\".format(c))\n",
    "            if a>b:\n",
    "                print(\"Salida 2: El número b: {} es el menor\".format(b))\n",
    "                print(\"A: {} B: {} C:{}\".format(a,b,c))\n",
    "            else:\n",
    "                print(\"Salida 2: El número a: {} es el menor\".format(a))\n",
    "                print(\"A: {} B: {} C:{}\".format(a,b,c))\n",
    "        \n",
    "\n",
    "    "
   ]
  },
  {
   "cell_type": "code",
   "execution_count": 3,
   "id": "a3436575",
   "metadata": {},
   "outputs": [
    {
     "name": "stdout",
     "output_type": "stream",
     "text": [
      "Ingrese el valor de a: 2\n",
      "Ingrese el valor de b: 3\n",
      "Ingrese el valor de c: 4\n",
      "C es el mayor\n"
     ]
    }
   ],
   "source": [
    "# Variables 3 numeros A,B,C\n",
    "#comparar que los numeros sean distintos, si son iguales, mostrar alerta\n",
    "#pedir otro numero\n",
    "#comparar cual es el numero mayor\n",
    "#Cual es el número mayor \n",
    "\n",
    "#Inicio\n",
    "#Solicitar numero A\n",
    "#Solicitar numero B\n",
    "#Solicitar numero C\n",
    "#Comparar A=B=C\n",
    "    #SI\n",
    "        #mensaje de error\n",
    "        #Pedir otros numeros\n",
    "    #NO\n",
    "        #SI A>B:\n",
    "            #SI A>C:\n",
    "                #A es número mayor\n",
    "            #else:\n",
    "                #C es número mayor\n",
    "        #ELSE SI B>C\n",
    "            #B es el mayor\n",
    "        #No \n",
    "            #C es el mayor\n",
    "#FIN\n",
    "        \n",
    "\n",
    "a=int(input(\"Ingrese el valor de a: \"))\n",
    "b=int(input(\"Ingrese el valor de b: \"))\n",
    "c=int(input(\"Ingrese el valor de c: \"))\n",
    "\n",
    "#Condicion que verifica que los números ingresados no sean iguales\n",
    "while a==b==c or a==c or a==b or c==b:\n",
    "    print(\"Datos errones, por favor volver a ingresar los números\")\n",
    "    a=int(input(\"Ingrese el valor de a: \"))\n",
    "    b=int(input(\"Ingrese el valor de b: \"))\n",
    "    c=int(input(\"Ingrese el valor de c: \"))\n",
    "else:\n",
    "    if a>b:\n",
    "        if a>c:\n",
    "            print(\"A es el numero mayor\")\n",
    "        else:\n",
    "            print(\"C es el número mayor\")\n",
    "    else: \n",
    "        if b>c:\n",
    "            print(\"B es el mayor\")\n",
    "        else:\n",
    "            print(\"C es el mayor\")"
   ]
  },
  {
   "cell_type": "code",
   "execution_count": 1,
   "id": "3b6c588e",
   "metadata": {},
   "outputs": [
    {
     "name": "stdout",
     "output_type": "stream",
     "text": [
      "Ingresar un numero par: 2\n",
      "Ingresar un numero par: 3\n",
      "El número ingresado es impar\n",
      "Fin del ciclo\n",
      "La suma de los números ingresados es:  2\n",
      "El ciclo se repitio 1 veces\n"
     ]
    }
   ],
   "source": [
    "par=int(input(\"Ingresar un numero par: \"))\n",
    "lista=list()\n",
    "contador=0\n",
    "suma=0\n",
    "while par%2==0:\n",
    "    lista.append(par)\n",
    "    contador=contador+1\n",
    "    suma=sum(lista)\n",
    "    par=int(input(\"Ingresar un numero par: \"))\n",
    "else:\n",
    "    print(\"El número ingresado es impar\")\n",
    "    print(\"Fin del ciclo\")\n",
    "    \n",
    "print(\"La suma de los números ingresados es: \",suma)\n",
    "print(\"El ciclo se repitio {} veces\".format(contador))"
   ]
  },
  {
   "cell_type": "code",
   "execution_count": 2,
   "id": "8c18e3f9",
   "metadata": {},
   "outputs": [
    {
     "name": "stdout",
     "output_type": "stream",
     "text": [
      "Ingrese un número: 2\n",
      "Ingrese un número: 3\n",
      "Dato erroneo, fin del ciclo\n",
      "\n",
      "Numero de iteraciones:  1\n",
      "La suma de los números ingresados es:  2\n",
      "Numeros ingresados ṕor el cliente [2]\n",
      "Fin de la solucion\n"
     ]
    }
   ],
   "source": [
    "n=int(input(\"Ingrese un número: \"))\n",
    "c=0\n",
    "lista=list()\n",
    "suma=0\n",
    "while n%2==0:\n",
    "    lista.append(n)\n",
    "    c=c+1\n",
    "    suma=sum(lista)\n",
    "    n=int(input(\"Ingrese un número: \"))\n",
    "else:\n",
    "    print(\"Dato erroneo, fin del ciclo\\n\")\n",
    "    \n",
    "print(\"Numero de iteraciones: \",c)\n",
    "print(\"La suma de los números ingresados es: \",suma)\n",
    "print(\"Numeros ingresados ṕor el cliente\",lista)\n",
    "print(\"Fin de la solucion\")"
   ]
  },
  {
   "cell_type": "code",
   "execution_count": 84,
   "id": "5c2f331f",
   "metadata": {},
   "outputs": [
    {
     "name": "stdout",
     "output_type": "stream",
     "text": [
      "Ingresar un numero par: 2\n",
      "Ingresar un numero par: 4\n",
      "Ingresar un numero par: 6\n",
      "Ingresar un numero par: 1\n",
      "El número ingresado es impar\n",
      "Fin del ciclo\n",
      "La suma de los números ingresados es:  12\n",
      "El ciclo se repitio 3 veces\n"
     ]
    }
   ],
   "source": [
    "par=int(input(\"Ingresar un numero par: \"))\n",
    "lista=list()\n",
    "contador=0\n",
    "suma=0\n",
    "while par%2==0:\n",
    "    lista.append(par)\n",
    "    contador=contador+1\n",
    "    suma=suma+par\n",
    "    par=int(input(\"Ingresar un numero par: \"))\n",
    "else:\n",
    "    print(\"El número ingresado es impar\")\n",
    "    print(\"Fin del ciclo\")\n",
    "    \n",
    "print(\"La suma de los números ingresados es: \",suma)\n",
    "print(\"El ciclo se repitio {} veces\".format(contador))"
   ]
  },
  {
   "cell_type": "code",
   "execution_count": 38,
   "id": "3ae2fa83",
   "metadata": {},
   "outputs": [
    {
     "data": {
      "text/plain": [
       "False"
      ]
     },
     "execution_count": 38,
     "metadata": {},
     "output_type": "execute_result"
    }
   ],
   "source": [
    "a=3\n",
    "b=4\n",
    "c=2\n",
    "a>b and a>c"
   ]
  },
  {
   "cell_type": "code",
   "execution_count": 25,
   "id": "80c04f62",
   "metadata": {},
   "outputs": [
    {
     "name": "stdout",
     "output_type": "stream",
     "text": [
      "El año 1992 es bisiesto\n"
     ]
    }
   ],
   "source": [
    "a=1992\n",
    "if a%4==0:\n",
    "    if a%100==0:\n",
    "        if a%400==0:\n",
    "            print(\"El año {} es bisiesto\".format(a))\n",
    "        else:\n",
    "            print(\"El año {} no es bisiesto\".format(a))\n",
    "    else:\n",
    "        print(\"El año {} es bisiesto\".format(a))\n",
    "else:\n",
    "    print(\"El año {} no es bisiesto\".format(a))"
   ]
  }
 ],
 "metadata": {
  "kernelspec": {
   "display_name": "Python 3",
   "language": "python",
   "name": "python3"
  },
  "language_info": {
   "codemirror_mode": {
    "name": "ipython",
    "version": 3
   },
   "file_extension": ".py",
   "mimetype": "text/x-python",
   "name": "python",
   "nbconvert_exporter": "python",
   "pygments_lexer": "ipython3",
   "version": "3.9.1"
  }
 },
 "nbformat": 4,
 "nbformat_minor": 5
}
