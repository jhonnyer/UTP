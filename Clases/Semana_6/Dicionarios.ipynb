{
 "cells": [
  {
   "cell_type": "code",
   "execution_count": 1,
   "id": "679df22a",
   "metadata": {},
   "outputs": [
    {
     "name": "stdout",
     "output_type": "stream",
     "text": [
      "{}\n"
     ]
    }
   ],
   "source": [
    "diccionario={}\n",
    "print(diccionario)"
   ]
  },
  {
   "cell_type": "code",
   "execution_count": 2,
   "id": "b7e0d06d",
   "metadata": {},
   "outputs": [
    {
     "name": "stdout",
     "output_type": "stream",
     "text": [
      "{}\n"
     ]
    }
   ],
   "source": [
    "diccionarios=dict()\n",
    "print(diccionarios)"
   ]
  },
  {
   "cell_type": "code",
   "execution_count": 5,
   "id": "586c953b",
   "metadata": {},
   "outputs": [
    {
     "name": "stdout",
     "output_type": "stream",
     "text": [
      "{'total': 35}\n",
      "{'copia': 123.4}\n"
     ]
    }
   ],
   "source": [
    "diccionario={\"total\":35}\n",
    "print(diccionario)\n",
    "otrodiccionario={\"copia\":123.4}\n",
    "print(otrodiccionario)"
   ]
  },
  {
   "cell_type": "code",
   "execution_count": 8,
   "id": "00d432e7",
   "metadata": {},
   "outputs": [
    {
     "name": "stdout",
     "output_type": "stream",
     "text": [
      "{'total': 55, 'descuento': True, 15: '15'}\n",
      "{'nombre': 7, 'Telefono': 343545, 'edad': 33, 'ciudad': 'pereira'}\n"
     ]
    }
   ],
   "source": [
    "diccionario={\"total\":55,\"descuento\":True,15:\"15\"}\n",
    "print(diccionario)\n",
    "diccionarioEjemploExcel={\"nombre\":5+2,\"Telefono\":343545,\"edad\":33,\"ciudad\":\"pereira\"}\n",
    "print(diccionarioEjemploExcel)"
   ]
  },
  {
   "cell_type": "code",
   "execution_count": 9,
   "id": "ce8eae4e",
   "metadata": {},
   "outputs": [
    {
     "name": "stdout",
     "output_type": "stream",
     "text": [
      "{'total': 55, 'descuento': True, 'subtotal': 15}\n"
     ]
    }
   ],
   "source": [
    "#Funcion dict()\n",
    "diccion=dict(total=55,descuento=True,subtotal=15)\n",
    "print(diccion)"
   ]
  },
  {
   "cell_type": "code",
   "execution_count": null,
   "id": "44ae7f45",
   "metadata": {},
   "outputs": [],
   "source": [
    "#Funcion dict()\n",
    "diccion=dict(total=55,descuento=True,subtotal=15)\n",
    "print(diccion)"
   ]
  },
  {
   "cell_type": "code",
   "execution_count": 10,
   "id": "a35a18a6",
   "metadata": {},
   "outputs": [
    {
     "name": "stdout",
     "output_type": "stream",
     "text": [
      "{'total': 55, 10: 'curso de python', 2.0: True}\n"
     ]
    }
   ],
   "source": [
    "diccionar={\"total\":55,10:\"curso de python\",2.0:True}\n",
    "print(diccionar)"
   ]
  },
  {
   "cell_type": "code",
   "execution_count": 14,
   "id": "1d3122c8",
   "metadata": {},
   "outputs": [
    {
     "name": "stdout",
     "output_type": "stream",
     "text": [
      "{'nombre': 'Jhonnyer', 'Edad': 23, 'curso': 'Curso python', 'skills': {'Programacion': True, 'base_datos': False}, 'No medallas': 10}\n"
     ]
    }
   ],
   "source": [
    "usuario={\n",
    "    'nombre':\"Jhonnyer\",\n",
    "    'Edad':23,\n",
    "    'curso':'Curso python',\n",
    "    'skills':{\n",
    "        'Programacion':True,\n",
    "        'base_datos':False\n",
    "    },\n",
    "    'No medallas':10\n",
    "}\n",
    "\n",
    "print(usuario)"
   ]
  },
  {
   "cell_type": "code",
   "execution_count": 15,
   "id": "cf18cfc6",
   "metadata": {},
   "outputs": [
    {
     "name": "stdout",
     "output_type": "stream",
     "text": [
      "Curso python\n",
      "{'Programacion': True, 'base_datos': False}\n",
      "False\n"
     ]
    }
   ],
   "source": [
    "print(usuario['curso'])\n",
    "print(usuario['skills'])\n",
    "print(usuario['skills']['base_datos'])"
   ]
  },
  {
   "cell_type": "code",
   "execution_count": 25,
   "id": "ae6335f9",
   "metadata": {},
   "outputs": [
    {
     "name": "stdout",
     "output_type": "stream",
     "text": [
      "nombre Jhonnyer\n",
      "Edad 23\n",
      "curso Curso python\n",
      "skills {'Programacion': True, 'base_datos': False}\n",
      "base_datos False\n",
      "No medallas 10\n"
     ]
    }
   ],
   "source": [
    "for i, valor in usuario.items():\n",
    "    print(i, valor)\n",
    "    if i=='skills':\n",
    "        for i, valor in usuario[i].items():\n",
    "            if i=='base_datos':\n",
    "                print(i, valor)\n"
   ]
  },
  {
   "cell_type": "code",
   "execution_count": 80,
   "id": "b8660326",
   "metadata": {},
   "outputs": [
    {
     "name": "stdout",
     "output_type": "stream",
     "text": [
      "nombre\n",
      "Edad\n",
      "curso\n",
      "skills\n",
      "No medallas\n"
     ]
    }
   ],
   "source": [
    "for i, valor in usuario.items():\n",
    "    print(i)"
   ]
  },
  {
   "cell_type": "code",
   "execution_count": 26,
   "id": "cdf0ed89",
   "metadata": {},
   "outputs": [
    {
     "name": "stdout",
     "output_type": "stream",
     "text": [
      "{'total': 55, 'descuento': True, 'subtotal': '15'}\n",
      "15\n"
     ]
    }
   ],
   "source": [
    "diccion=dict(total=55,descuento=True,subtotal=\"15\")\n",
    "print(diccion)\n",
    "print(diccion['subtotal'])"
   ]
  },
  {
   "cell_type": "code",
   "execution_count": 29,
   "id": "c8b03daa",
   "metadata": {
    "scrolled": true
   },
   "outputs": [
    {
     "name": "stdout",
     "output_type": "stream",
     "text": [
      "{}\n",
      "{'marca': 'Mazda'}\n",
      "Mazda\n",
      "{'marca': 'Subaru'}\n",
      "Subaru\n"
     ]
    }
   ],
   "source": [
    "diccionario=dict()\n",
    "print(diccionario)\n",
    "diccionario['marca']='Mazda'\n",
    "print(diccionario)\n",
    "print(diccionario['marca'])\n",
    "diccionario['marca']='Subaru'\n",
    "print(diccionario)\n",
    "print(diccionario['marca'])"
   ]
  },
  {
   "cell_type": "code",
   "execution_count": 30,
   "id": "294b80fa",
   "metadata": {},
   "outputs": [
    {
     "name": "stdout",
     "output_type": "stream",
     "text": [
      "{'Eduardo': 1, 'Fernando': 2, 'Uriel': 3, 'Rafael': 4}\n"
     ]
    }
   ],
   "source": [
    "diccionario={'Eduardo':1,'Fernando':2,\"Uriel\":3,'Rafael':4}\n",
    "print(diccionario)"
   ]
  },
  {
   "cell_type": "code",
   "execution_count": 36,
   "id": "078ada22",
   "metadata": {},
   "outputs": [
    {
     "name": "stdout",
     "output_type": "stream",
     "text": [
      "dict_keys(['Eduardo', 'Fernando', 'Uriel', 'Rafael'])\n"
     ]
    }
   ],
   "source": [
    "var1=diccionario.keys()\n",
    "print(var1)"
   ]
  },
  {
   "cell_type": "code",
   "execution_count": 39,
   "id": "58a648c0",
   "metadata": {},
   "outputs": [
    {
     "name": "stdout",
     "output_type": "stream",
     "text": [
      "dict_values([1, 2, 3, 4])\n"
     ]
    }
   ],
   "source": [
    "var2=diccionario.values()\n",
    "print(var2)"
   ]
  },
  {
   "cell_type": "code",
   "execution_count": 45,
   "id": "03c416f6",
   "metadata": {},
   "outputs": [
    {
     "name": "stdout",
     "output_type": "stream",
     "text": [
      "{'clave1': 123, 'cadena': True, 'clave3': 'Valor 1'}\n",
      "<class 'dict'>\n"
     ]
    }
   ],
   "source": [
    "diccionario={\n",
    "    \"clave1\":123,\n",
    "    \"cadena\":True,\n",
    "    \"clave3\":\"Valor 1\"\n",
    "}\n",
    "print(diccionario)\n",
    "print(type(diccionario))"
   ]
  },
  {
   "cell_type": "code",
   "execution_count": 43,
   "id": "8e388ddf",
   "metadata": {},
   "outputs": [
    {
     "data": {
      "text/plain": [
       "123"
      ]
     },
     "execution_count": 43,
     "metadata": {},
     "output_type": "execute_result"
    }
   ],
   "source": [
    "diccionario['clave1']"
   ]
  },
  {
   "cell_type": "code",
   "execution_count": 46,
   "id": "da526e46",
   "metadata": {},
   "outputs": [
    {
     "data": {
      "text/plain": [
       "'Valor 1'"
      ]
     },
     "execution_count": 46,
     "metadata": {},
     "output_type": "execute_result"
    }
   ],
   "source": [
    "diccionario['clave3']"
   ]
  },
  {
   "cell_type": "code",
   "execution_count": 47,
   "id": "0d804925",
   "metadata": {},
   "outputs": [
    {
     "data": {
      "text/plain": [
       "2.13"
      ]
     },
     "execution_count": 47,
     "metadata": {},
     "output_type": "execute_result"
    }
   ],
   "source": [
    "versiones=dict(python=2.7,zope=2.13,phone=5.1,django=2.1)\n",
    "versiones['zope']"
   ]
  },
  {
   "cell_type": "code",
   "execution_count": 48,
   "id": "9aeed45a",
   "metadata": {},
   "outputs": [
    {
     "name": "stdout",
     "output_type": "stream",
     "text": [
      "{'python': 2.7, 'zope': 2.13, 'phone': 5.1, 'django': 2.1}\n"
     ]
    }
   ],
   "source": [
    "versiones=dict(python=2.7,zope=2.13,phone=5.1,django=2.1)\n",
    "print(versiones)"
   ]
  },
  {
   "cell_type": "code",
   "execution_count": 50,
   "id": "0be53c30",
   "metadata": {},
   "outputs": [
    {
     "name": "stdout",
     "output_type": "stream",
     "text": [
      "{}\n"
     ]
    }
   ],
   "source": [
    "#Metodo CLEAR\n",
    "versiones=dict(python=2.7,zope=2.13,phone=5.1,django=2.1)\n",
    "versiones.clear()\n",
    "print(versiones)"
   ]
  },
  {
   "cell_type": "code",
   "execution_count": 52,
   "id": "d3fb8ea4",
   "metadata": {},
   "outputs": [
    {
     "name": "stdout",
     "output_type": "stream",
     "text": [
      "{'python': 2.7, 'zope': 2.13, 'phone': 5.1, 'django': 2.1}\n",
      "True\n"
     ]
    }
   ],
   "source": [
    "#Metodo COPY\n",
    "versiones=dict(python=2.7,zope=2.13,phone=5.1,django=2.1)\n",
    "otra_version=versiones.copy()\n",
    "print(otra_version)\n",
    "print(versiones==otra_version)"
   ]
  },
  {
   "cell_type": "code",
   "execution_count": 54,
   "id": "18315c7a",
   "metadata": {},
   "outputs": [
    {
     "name": "stdout",
     "output_type": "stream",
     "text": [
      "{'python': None, 'zope': None, 'phone': None}\n",
      "Nuevo diccionario: {'python': None, 'zope': None, 'phone': None}\n",
      "Nuevo diccionario: {'python': None, 'zope': None, 'phone': None}\n"
     ]
    }
   ],
   "source": [
    "#Metodo fromkeys()\n",
    "secuencia=('python','zope','phone')\n",
    "versiones=dict.fromkeys(secuencia)\n",
    "print(versiones)\n",
    "print(\"Nuevo diccionario: %s\" %str(versiones))\n",
    "print(\"Nuevo diccionario: {}\".format(str(versiones)))"
   ]
  },
  {
   "cell_type": "code",
   "execution_count": 56,
   "id": "3ca7ce79",
   "metadata": {},
   "outputs": [
    {
     "name": "stdout",
     "output_type": "stream",
     "text": [
      "{'python': 0.1, 'zope': 0.1, 'phone': 0.1}\n",
      "Nuevo diccionario: {'python': 0.1, 'zope': 0.1, 'phone': 0.1}\n",
      "Nuevo diccionario: {'python': 0.1, 'zope': 0.1, 'phone': 0.1}\n"
     ]
    }
   ],
   "source": [
    "#Inicializar valor por defecto\n",
    "secuencia=('python','zope','phone')\n",
    "versiones=dict.fromkeys(secuencia,0.1)\n",
    "print(versiones)\n",
    "print(\"Nuevo diccionario: %s\" %str(versiones))\n",
    "print(\"Nuevo diccionario: {}\".format(str(versiones)))"
   ]
  },
  {
   "cell_type": "code",
   "execution_count": 58,
   "id": "586f5a64",
   "metadata": {},
   "outputs": [
    {
     "data": {
      "text/plain": [
       "5.1"
      ]
     },
     "execution_count": 58,
     "metadata": {},
     "output_type": "execute_result"
    }
   ],
   "source": [
    "#Metodo GET()\n",
    "versiones=dict(python=2.7,zope=2.13,phone=5.1)\n",
    "versiones.get('phone')"
   ]
  },
  {
   "cell_type": "code",
   "execution_count": 59,
   "id": "dc87d0cf",
   "metadata": {},
   "outputs": [
    {
     "name": "stdout",
     "output_type": "stream",
     "text": [
      "None\n"
     ]
    }
   ],
   "source": [
    "print(versiones.get('php'))"
   ]
  },
  {
   "cell_type": "code",
   "execution_count": 60,
   "id": "242ca464",
   "metadata": {},
   "outputs": [
    {
     "data": {
      "text/plain": [
       "dict_items([('python', 2.7), ('zope', 2.13), ('phone', 5.1)])"
      ]
     },
     "execution_count": 60,
     "metadata": {},
     "output_type": "execute_result"
    }
   ],
   "source": [
    "#Metodo ITEMS()\n",
    "versiones=dict(python=2.7,zope=2.13,phone=5.1)\n",
    "versiones.items()"
   ]
  },
  {
   "cell_type": "code",
   "execution_count": 64,
   "id": "ebe86588",
   "metadata": {},
   "outputs": [
    {
     "data": {
      "text/plain": [
       "{'python': 2.7, 'zope': 2.13, 'phone': 5.1}"
      ]
     },
     "execution_count": 64,
     "metadata": {},
     "output_type": "execute_result"
    }
   ],
   "source": [
    "#Metodo POP\n",
    "versiones=dict(python=2.7,zope=2.13,phone=5.1)\n",
    "versiones"
   ]
  },
  {
   "cell_type": "code",
   "execution_count": 65,
   "id": "2622e386",
   "metadata": {},
   "outputs": [
    {
     "name": "stdout",
     "output_type": "stream",
     "text": [
      "2.13\n",
      "{'python': 2.7, 'phone': 5.1}\n",
      "5.1\n",
      "{'python': 2.7}\n"
     ]
    }
   ],
   "source": [
    "print(versiones.pop('zope'))\n",
    "print(versiones)\n",
    "v1=versiones.pop('phone')\n",
    "print(v1)\n",
    "print(versiones)"
   ]
  },
  {
   "cell_type": "code",
   "execution_count": 66,
   "id": "90c057a7",
   "metadata": {},
   "outputs": [
    {
     "ename": "KeyError",
     "evalue": "'zope'",
     "output_type": "error",
     "traceback": [
      "\u001b[0;31m---------------------------------------------------------------------------\u001b[0m",
      "\u001b[0;31mKeyError\u001b[0m                                  Traceback (most recent call last)",
      "\u001b[0;32m<ipython-input-66-b663fa7142a1>\u001b[0m in \u001b[0;36m<module>\u001b[0;34m\u001b[0m\n\u001b[0;32m----> 1\u001b[0;31m \u001b[0mprint\u001b[0m\u001b[0;34m(\u001b[0m\u001b[0mversiones\u001b[0m\u001b[0;34m.\u001b[0m\u001b[0mpop\u001b[0m\u001b[0;34m(\u001b[0m\u001b[0;34m'zope'\u001b[0m\u001b[0;34m)\u001b[0m\u001b[0;34m)\u001b[0m\u001b[0;34m\u001b[0m\u001b[0;34m\u001b[0m\u001b[0m\n\u001b[0m",
      "\u001b[0;31mKeyError\u001b[0m: 'zope'"
     ]
    }
   ],
   "source": [
    "print(versiones.pop('zope'))"
   ]
  },
  {
   "cell_type": "code",
   "execution_count": 67,
   "id": "4a6aa7c5",
   "metadata": {},
   "outputs": [
    {
     "name": "stdout",
     "output_type": "stream",
     "text": [
      "{'python': 2.7, 'zope': 2.13, 'phone': 5.1}\n"
     ]
    }
   ],
   "source": [
    "#Metodo UPDATE()\n",
    "versiones=dict(python=2.7,zope=2.13,phone=5.1)\n",
    "print(versiones)"
   ]
  },
  {
   "cell_type": "code",
   "execution_count": 68,
   "id": "49a2ad18",
   "metadata": {},
   "outputs": [
    {
     "name": "stdout",
     "output_type": "stream",
     "text": [
      "{'django': 2.1}\n"
     ]
    }
   ],
   "source": [
    "versiones_adicional=dict(django=2.1)\n",
    "print(versiones_adicional)"
   ]
  },
  {
   "cell_type": "code",
   "execution_count": 69,
   "id": "f7ba0741",
   "metadata": {},
   "outputs": [
    {
     "name": "stdout",
     "output_type": "stream",
     "text": [
      "{'python': 2.7, 'zope': 2.13, 'phone': 5.1, 'django': 2.1}\n"
     ]
    }
   ],
   "source": [
    "versiones.update(versiones_adicional)\n",
    "print(versiones)"
   ]
  },
  {
   "cell_type": "code",
   "execution_count": 70,
   "id": "59aa2adf",
   "metadata": {},
   "outputs": [
    {
     "data": {
      "text/plain": [
       "3"
      ]
     },
     "execution_count": 70,
     "metadata": {},
     "output_type": "execute_result"
    }
   ],
   "source": [
    "#FUNCIONES DICCIONARIO; LEN()\n",
    "versiones=dict(python=2.7,zope=2.13,phone=5.1)\n",
    "len(versiones)"
   ]
  },
  {
   "cell_type": "code",
   "execution_count": 71,
   "id": "69c593bd",
   "metadata": {},
   "outputs": [
    {
     "name": "stdout",
     "output_type": "stream",
     "text": [
      "5\n"
     ]
    }
   ],
   "source": [
    "usuario={\n",
    "    'nombre':\"Jhonnyer\",\n",
    "    'Edad':23,\n",
    "    'curso':'Curso python',\n",
    "    'skills':{\n",
    "        'Programacion':True,\n",
    "        'base_datos':False\n",
    "    },\n",
    "    'No medallas':10\n",
    "}\n",
    "\n",
    "print(len(usuario))"
   ]
  },
  {
   "cell_type": "code",
   "execution_count": 82,
   "id": "c86f1c88",
   "metadata": {},
   "outputs": [
    {
     "data": {
      "text/plain": [
       "False"
      ]
     },
     "execution_count": 82,
     "metadata": {},
     "output_type": "execute_result"
    }
   ],
   "source": [
    "#Comprobar si un elemento esta en el diccionario\n",
    "\"Jhonnyer\" in usuario"
   ]
  },
  {
   "cell_type": "code",
   "execution_count": 72,
   "id": "3f706d7e",
   "metadata": {},
   "outputs": [
    {
     "name": "stdout",
     "output_type": "stream",
     "text": [
      "{'python': 2.7, 'zope': 2.13, 'phone': 5.1}\n"
     ]
    }
   ],
   "source": [
    "#SENTENCIAS DEL\n",
    "versiones=dict(python=2.7,zope=2.13,phone=5.1)\n",
    "print(versiones)"
   ]
  },
  {
   "cell_type": "code",
   "execution_count": 73,
   "id": "80c982d0",
   "metadata": {},
   "outputs": [
    {
     "name": "stdout",
     "output_type": "stream",
     "text": [
      "{'zope': 2.13, 'phone': 5.1}\n"
     ]
    }
   ],
   "source": [
    "del versiones['python']\n",
    "print(versiones)"
   ]
  },
  {
   "cell_type": "code",
   "execution_count": 74,
   "id": "71aacb76",
   "metadata": {},
   "outputs": [
    {
     "name": "stdout",
     "output_type": "stream",
     "text": [
      "{'phone': 5.1}\n"
     ]
    }
   ],
   "source": [
    "del versiones['zope']\n",
    "print(versiones)"
   ]
  },
  {
   "cell_type": "code",
   "execution_count": 75,
   "id": "36ddb25b",
   "metadata": {},
   "outputs": [
    {
     "ename": "KeyError",
     "evalue": "'python'",
     "output_type": "error",
     "traceback": [
      "\u001b[0;31m---------------------------------------------------------------------------\u001b[0m",
      "\u001b[0;31mKeyError\u001b[0m                                  Traceback (most recent call last)",
      "\u001b[0;32m<ipython-input-75-b63cb872c4e3>\u001b[0m in \u001b[0;36m<module>\u001b[0;34m\u001b[0m\n\u001b[0;32m----> 1\u001b[0;31m \u001b[0;32mdel\u001b[0m \u001b[0mversiones\u001b[0m\u001b[0;34m[\u001b[0m\u001b[0;34m'python'\u001b[0m\u001b[0;34m]\u001b[0m\u001b[0;34m\u001b[0m\u001b[0;34m\u001b[0m\u001b[0m\n\u001b[0m\u001b[1;32m      2\u001b[0m \u001b[0mprint\u001b[0m\u001b[0;34m(\u001b[0m\u001b[0mversiones\u001b[0m\u001b[0;34m)\u001b[0m\u001b[0;34m\u001b[0m\u001b[0;34m\u001b[0m\u001b[0m\n",
      "\u001b[0;31mKeyError\u001b[0m: 'python'"
     ]
    }
   ],
   "source": [
    "del versiones['python']\n",
    "print(versiones)"
   ]
  },
  {
   "cell_type": "code",
   "execution_count": 76,
   "id": "d6012a81",
   "metadata": {},
   "outputs": [
    {
     "name": "stdout",
     "output_type": "stream",
     "text": [
      "{'python': 2.7, 'zope': 2.13, 'phone': 5.1}\n"
     ]
    }
   ],
   "source": [
    "versiones=dict(python=2.7,zope=2.13,phone=5.1)\n",
    "print(versiones)"
   ]
  },
  {
   "cell_type": "code",
   "execution_count": 77,
   "id": "eb323330",
   "metadata": {},
   "outputs": [
    {
     "name": "stdout",
     "output_type": "stream",
     "text": [
      "[{'Nombre': 'Gandalf', 'Clase': 'Mago', 'Raza': 'Humano'}, {'Nombre': 'Legolas', 'Clase': 'Arquero', 'Raza': 'Elfo'}, {'Nombre': 'Gimli', 'Clase': 'Guerrero', 'Raza': 'Enano'}]\n"
     ]
    }
   ],
   "source": [
    "#Creo una lista de personajes\n",
    "personajes = []\n",
    "\n",
    "#Creo varios diccionarios de personajes\n",
    "gandalf = {'Nombre':'Gandalf','Clase':'Mago','Raza':'Humano'}\n",
    "legolas = {'Nombre':'Legolas','Clase':'Arquero','Raza':'Elfo'}\n",
    "gimli = {'Nombre':'Gimli','Clase':'Guerrero','Raza':'Enano'}\n",
    "\n",
    "#agrego cada diccionario de personajes a la lista personajes\n",
    "personajes.append(gandalf)\n",
    "personajes.append(legolas)\n",
    "personajes.append(gimli)\n",
    "\n",
    "#imprimo la lista de personajes\n",
    "print(personajes)"
   ]
  },
  {
   "cell_type": "code",
   "execution_count": 78,
   "id": "a982be6b",
   "metadata": {},
   "outputs": [
    {
     "name": "stdout",
     "output_type": "stream",
     "text": [
      "Gandalf Mago Humano\n",
      "Legolas Arquero Elfo\n",
      "Gimli Guerrero Enano\n"
     ]
    }
   ],
   "source": [
    "for pesonaje in personajes:\n",
    "    print(pesonaje['Nombre'], pesonaje['Clase'], pesonaje['Raza'])"
   ]
  },
  {
   "cell_type": "code",
   "execution_count": 79,
   "id": "5e415e1c",
   "metadata": {},
   "outputs": [
    {
     "name": "stdout",
     "output_type": "stream",
     "text": [
      "{'caballo': 'horse', 'vaca': 'cow', 'perro': 'dog', 'gato': 'cat', 'rana': 'frog'}\n"
     ]
    },
    {
     "ename": "KeyError",
     "evalue": "'vaca'",
     "output_type": "error",
     "traceback": [
      "\u001b[0;31m---------------------------------------------------------------------------\u001b[0m",
      "\u001b[0;31mKeyError\u001b[0m                                  Traceback (most recent call last)",
      "\u001b[0;32m<ipython-input-79-72114a2c54b5>\u001b[0m in \u001b[0;36m<module>\u001b[0;34m\u001b[0m\n\u001b[1;32m     16\u001b[0m \u001b[0;31m#ELIMINAR CLAVE RANA Y VACA\u001b[0m\u001b[0;34m\u001b[0m\u001b[0;34m\u001b[0m\u001b[0;34m\u001b[0m\u001b[0m\n\u001b[1;32m     17\u001b[0m \u001b[0;32mdel\u001b[0m\u001b[0;34m(\u001b[0m\u001b[0manimales\u001b[0m\u001b[0;34m[\u001b[0m\u001b[0;34m'vaca'\u001b[0m\u001b[0;34m]\u001b[0m\u001b[0;34m)\u001b[0m\u001b[0;34m\u001b[0m\u001b[0;34m\u001b[0m\u001b[0m\n\u001b[0;32m---> 18\u001b[0;31m \u001b[0;32mdel\u001b[0m\u001b[0;34m(\u001b[0m\u001b[0manimales\u001b[0m\u001b[0;34m[\u001b[0m\u001b[0;34m'vaca'\u001b[0m\u001b[0;34m]\u001b[0m\u001b[0;34m)\u001b[0m\u001b[0;34m\u001b[0m\u001b[0;34m\u001b[0m\u001b[0m\n\u001b[0m\u001b[1;32m     19\u001b[0m \u001b[0mprint\u001b[0m\u001b[0;34m(\u001b[0m\u001b[0manimales\u001b[0m\u001b[0;34m)\u001b[0m\u001b[0;34m\u001b[0m\u001b[0;34m\u001b[0m\u001b[0m\n",
      "\u001b[0;31mKeyError\u001b[0m: 'vaca'"
     ]
    }
   ],
   "source": [
    "#EJERCICIO\n",
    "# Variables del ejercicio (no modifiques esta línea)\n",
    "#Diccionario animales\n",
    "animales = {\"caballo\":\"\", \"vaca\":\"\"}\n",
    "\n",
    "# completa el ejercicio\n",
    "#Crear elementoss clave-valor, perro, gato y rana\n",
    "animales['perro']='dog'\n",
    "animales['gato']='cat'\n",
    "animales['rana']='frog'\n",
    "\n",
    "#modificar valores de la clave caballo y vaca\n",
    "animales['caballo']='horse'\n",
    "animales['vaca']='cow'\n",
    "print(animales)\n",
    "#ELIMINAR CLAVE RANA Y VACA\n",
    "del(animales['vaca'])\n",
    "del(animales['vaca'])\n",
    "print(animales)"
   ]
  },
  {
   "cell_type": "markdown",
   "id": "9cfbcd7c",
   "metadata": {},
   "source": [
    "# Ejercicio"
   ]
  },
  {
   "cell_type": "code",
   "execution_count": 88,
   "id": "2612e454",
   "metadata": {},
   "outputs": [
    {
     "name": "stdout",
     "output_type": "stream",
     "text": [
      "{'Alumno1': {'nombre': 'Daniel', 'edad': 11, 'estatura': 1.75, 'grado': 'Master'}, 'Alumno2': {'nombre': 'David', 'edad': 32, 'estatura': 1.85, 'grado': 'Doctor'}}\n"
     ]
    }
   ],
   "source": [
    "Estudiantes={'Alumno1':{'nombre':'Daniel','edad':11,'estatura':1.75,'grado':'Master'},\n",
    "             'Alumno2':{'nombre':'David','edad':32,'estatura':1.85,'grado':'Doctor'},}\n",
    "print(Estudiantes)"
   ]
  },
  {
   "cell_type": "code",
   "execution_count": 89,
   "id": "389fef7c",
   "metadata": {},
   "outputs": [
    {
     "name": "stdout",
     "output_type": "stream",
     "text": [
      "Los nombres son diferentes\n"
     ]
    }
   ],
   "source": [
    "# Comparar los nombres de los estudiantes y mirar si son iguales o no\n",
    "if Estudiantes['Alumno1']['nombre']==Estudiantes['Alumno2']['nombre']:\n",
    "    print(\"Los nombres son iguales\")\n",
    "else:\n",
    "    print(\"Los nombres son diferentes\")"
   ]
  },
  {
   "cell_type": "markdown",
   "id": "7fbac835",
   "metadata": {},
   "source": [
    "# Ejercicio \n",
    "\n",
    "\n",
    "Durante el desarrollo de un pequeño videojuego se te encarga configurar y balancear cada clase de personaje jugable. Partiendo que la estadística base es 2, debes cumplir las siguientes condiciones:\n",
    "\n",
    "El caballero tiene el doble de vida y defensa que un guerrero.\n",
    "El guerrero tiene el doble de ataque y alcance que un caballero.\n",
    "El arquero tiene la misma vida y ataque que un guerrero, pero la mitad de su defensa y el doble de su alcance.\n",
    "Muestra como quedan las propiedades de los tres personajes.\n"
   ]
  },
  {
   "cell_type": "code",
   "execution_count": 83,
   "id": "ef3a45be",
   "metadata": {},
   "outputs": [
    {
     "name": "stdout",
     "output_type": "stream",
     "text": [
      "CABALLERO:\t  {'vida': 4, 'ataque': 2, 'defensa': 4, 'alcance': 2}\n",
      "GUERRERO:\t  {'vida': 2, 'ataque': 4, 'defensa': 2, 'alcance': 4}\n",
      "ARQUERO:\t  {'vida': 2, 'ataque': 4, 'defensa': 1.0, 'alcance': 8}\n"
     ]
    }
   ],
   "source": [
    "caballero={'vida':2,'ataque':2,'defensa':2,'alcance':2}\n",
    "guerrero={'vida':2,'ataque':2,'defensa':2,'alcance':2}\n",
    "arquero={'vida':2,'ataque':2,'defensa':2,'alcance':2}\n",
    "\n",
    "#Resolver ejercicio\n",
    "caballero['vida']=guerrero['vida']*2\n",
    "caballero['defensa']=guerrero['defensa']*2\n",
    "\n",
    "guerrero['ataque']=caballero['ataque']*2\n",
    "guerrero['alcance']=caballero['alcance']*2\n",
    "\n",
    "arquero['vida']=guerrero['vida']\n",
    "arquero['ataque']=guerrero['ataque']\n",
    "arquero['defensa']=guerrero['defensa']/2\n",
    "arquero['alcance']=guerrero['alcance']*2\n",
    "\n",
    "\n",
    "print(\"CABALLERO:\\t \",caballero)\n",
    "print(\"GUERRERO:\\t \",guerrero)\n",
    "print(\"ARQUERO:\\t \",arquero)"
   ]
  }
 ],
 "metadata": {
  "kernelspec": {
   "display_name": "Python 3",
   "language": "python",
   "name": "python3"
  },
  "language_info": {
   "codemirror_mode": {
    "name": "ipython",
    "version": 3
   },
   "file_extension": ".py",
   "mimetype": "text/x-python",
   "name": "python",
   "nbconvert_exporter": "python",
   "pygments_lexer": "ipython3",
   "version": "3.9.1"
  }
 },
 "nbformat": 4,
 "nbformat_minor": 5
}
