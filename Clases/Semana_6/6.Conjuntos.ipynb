{
 "cells": [
  {
   "cell_type": "code",
   "execution_count": 1,
   "id": "afae7e51",
   "metadata": {},
   "outputs": [
    {
     "name": "stdout",
     "output_type": "stream",
     "text": [
      "{1, 2, 3, 4}\n",
      "<class 'set'>\n"
     ]
    }
   ],
   "source": [
    "#Conjuntos\n",
    "s={1,2,3,4}\n",
    "print(s)\n",
    "print(type(s))"
   ]
  },
  {
   "cell_type": "code",
   "execution_count": 2,
   "id": "fa943910",
   "metadata": {},
   "outputs": [
    {
     "name": "stdout",
     "output_type": "stream",
     "text": [
      "{False, 1, 2, 3, 4, 2.4, 'hola'}\n",
      "<class 'set'>\n"
     ]
    }
   ],
   "source": [
    "#Conjuntos, sus elementos pueden ser cualquier tipo\n",
    "s={1,2,3,4, 'hola',True, False, 2.4}\n",
    "print(s)\n",
    "print(type(s))"
   ]
  },
  {
   "cell_type": "code",
   "execution_count": 3,
   "id": "0b87b9fc",
   "metadata": {},
   "outputs": [],
   "source": [
    "#Un conjunto no puede incluir objetos mutables como listas, diccionarios e incluso otro conjuntos"
   ]
  },
  {
   "cell_type": "code",
   "execution_count": 4,
   "id": "3ec1a710",
   "metadata": {},
   "outputs": [
    {
     "ename": "TypeError",
     "evalue": "unhashable type: 'list'",
     "output_type": "error",
     "traceback": [
      "\u001b[0;31m---------------------------------------------------------------------------\u001b[0m",
      "\u001b[0;31mTypeError\u001b[0m                                 Traceback (most recent call last)",
      "\u001b[0;32m<ipython-input-4-47cb8332c97a>\u001b[0m in \u001b[0;36m<module>\u001b[0;34m\u001b[0m\n\u001b[0;32m----> 1\u001b[0;31m \u001b[0ms\u001b[0m\u001b[0;34m=\u001b[0m\u001b[0;34m{\u001b[0m\u001b[0;34m[\u001b[0m\u001b[0;36m1\u001b[0m\u001b[0;34m,\u001b[0m\u001b[0;36m3\u001b[0m\u001b[0;34m]\u001b[0m\u001b[0;34m}\u001b[0m\u001b[0;34m\u001b[0m\u001b[0;34m\u001b[0m\u001b[0m\n\u001b[0m\u001b[1;32m      2\u001b[0m \u001b[0mprint\u001b[0m\u001b[0;34m(\u001b[0m\u001b[0ms\u001b[0m\u001b[0;34m)\u001b[0m\u001b[0;34m\u001b[0m\u001b[0;34m\u001b[0m\u001b[0m\n",
      "\u001b[0;31mTypeError\u001b[0m: unhashable type: 'list'"
     ]
    }
   ],
   "source": [
    "s={[1,3]}\n",
    "#print(s)"
   ]
  },
  {
   "cell_type": "code",
   "execution_count": 6,
   "id": "3e1e3b49",
   "metadata": {},
   "outputs": [
    {
     "name": "stdout",
     "output_type": "stream",
     "text": [
      "{(1, 3)}\n"
     ]
    }
   ],
   "source": [
    "#Las tuplas si pueden ser parte de un conjunto porque son inmutables\n",
    "s={(1,3)}\n",
    "print(s)"
   ]
  },
  {
   "cell_type": "code",
   "execution_count": 8,
   "id": "3d481e7f",
   "metadata": {},
   "outputs": [
    {
     "name": "stdout",
     "output_type": "stream",
     "text": [
      "{}\n",
      "<class 'dict'>\n"
     ]
    }
   ],
   "source": [
    "# Python distingue este tipo operación de la creación de un diccionario ya que no incluye dos puntos. Sin\n",
    "# embargo, no puede dirimir el siguiente caso: \n",
    "s={}\n",
    "print(s)\n",
    "print(type(s))"
   ]
  },
  {
   "cell_type": "code",
   "execution_count": 9,
   "id": "95fd1b2f",
   "metadata": {},
   "outputs": [
    {
     "name": "stdout",
     "output_type": "stream",
     "text": [
      "set()\n",
      "<class 'set'>\n"
     ]
    }
   ],
   "source": [
    "#Crear un conjunto vacio\n",
    "s=set()\n",
    "print(s)\n",
    "print(type(s))"
   ]
  },
  {
   "cell_type": "code",
   "execution_count": 11,
   "id": "fbd113c1",
   "metadata": {},
   "outputs": [
    {
     "name": "stdout",
     "output_type": "stream",
     "text": [
      "{1, 2, 3, 4}\n",
      "{0, 1, 2, 3, 4, 5, 6, 7, 8, 9}\n",
      "<class 'set'>\n",
      "<class 'set'>\n"
     ]
    }
   ],
   "source": [
    "#Crear un conjunto a partir de cualquier elemento iterable\n",
    "s1=set([1,2,3,4])\n",
    "s2=set(range(10))\n",
    "print(s1)\n",
    "print(s2)\n",
    "print(type(s1))\n",
    "print(type(s2))"
   ]
  },
  {
   "cell_type": "code",
   "execution_count": 12,
   "id": "61684b8e",
   "metadata": {},
   "outputs": [
    {
     "name": "stdout",
     "output_type": "stream",
     "text": [
      "{'clave2', 'clave1'}\n",
      "<class 'set'>\n"
     ]
    }
   ],
   "source": [
    "#Crear un conjunto a partir de cualquier elemento iterable\n",
    "s1=set({'clave1':12,'clave2':2})\n",
    "print(s1)\n",
    "print(type(s1))"
   ]
  },
  {
   "cell_type": "code",
   "execution_count": 13,
   "id": "ae315126",
   "metadata": {},
   "outputs": [
    {
     "name": "stdout",
     "output_type": "stream",
     "text": [
      "{2, 12}\n",
      "<class 'set'>\n"
     ]
    }
   ],
   "source": [
    "#Crear un conjunto a partir de cualquier elemento iterable\n",
    "diccionario={'clave1':12,'clave2':2}\n",
    "s1=set(diccionario.values())\n",
    "print(s1)\n",
    "print(type(s1))"
   ]
  },
  {
   "cell_type": "code",
   "execution_count": 14,
   "id": "58eac43c",
   "metadata": {},
   "outputs": [
    {
     "name": "stdout",
     "output_type": "stream",
     "text": [
      "{('clave2', 2), ('clave1', 12)}\n",
      "<class 'set'>\n"
     ]
    }
   ],
   "source": [
    "#Crear un conjunto a partir de cualquier elemento iterable\n",
    "diccionario={'clave1':12,'clave2':2}\n",
    "s1=set(diccionario.items())\n",
    "print(s1)\n",
    "print(type(s1))"
   ]
  },
  {
   "cell_type": "code",
   "execution_count": 16,
   "id": "470fbf9d",
   "metadata": {},
   "outputs": [
    {
     "name": "stdout",
     "output_type": "stream",
     "text": [
      "[1, 2, 3, 4]\n"
     ]
    }
   ],
   "source": [
    "#Un conjunto o set puede ser convertido a una lista o viceversa\n",
    "#En un conjunto los elementos duplicados son eliminados\n",
    "lista=list({1,2,3,4})\n",
    "print(lista)"
   ]
  },
  {
   "cell_type": "code",
   "execution_count": 17,
   "id": "1880ccd7",
   "metadata": {},
   "outputs": [
    {
     "name": "stdout",
     "output_type": "stream",
     "text": [
      "{1, 2, 3, 4}\n"
     ]
    }
   ],
   "source": [
    "#Un conjunto o set puede ser convertido a una lista o viceversa\n",
    "#En un conjunto los elementos duplicados son eliminados\n",
    "conjunto=set([1,2,2,2,3,4,4])\n",
    "print(conjunto)"
   ]
  },
  {
   "cell_type": "code",
   "execution_count": 18,
   "id": "17e04de0",
   "metadata": {},
   "outputs": [
    {
     "name": "stdout",
     "output_type": "stream",
     "text": [
      "{1, 2, 3, 4, 5}\n"
     ]
    }
   ],
   "source": [
    "#Crear un conjunto con elementos repetidos, estos elementos se eliminan\n",
    "s={2,3,4,5,3,3,4,5,2,1}\n",
    "print(s)"
   ]
  },
  {
   "cell_type": "code",
   "execution_count": 19,
   "id": "253649f1",
   "metadata": {},
   "outputs": [
    {
     "name": "stdout",
     "output_type": "stream",
     "text": [
      "{'n', 't', 'v', 'H', 'i', 's', 'b', 'd', 'o', 'e', ' ', 'a', 'l', 'p'}\n"
     ]
    }
   ],
   "source": [
    "#Crear un conjunto a partir de un string, los elementos repetidos se eliminan\n",
    "s=set('Hola pianistas bienvenidos')\n",
    "print(s)"
   ]
  },
  {
   "cell_type": "code",
   "execution_count": 21,
   "id": "7e94e55d",
   "metadata": {},
   "outputs": [
    {
     "name": "stdout",
     "output_type": "stream",
     "text": [
      "{1, 3, 4, 5, 6, 63}\n"
     ]
    }
   ],
   "source": [
    "#Crear un conjunto a partir de una lista, los elementos repetidos se eliminan\n",
    "s=set([1,4,5,6,63,3,4,1,1,4])\n",
    "print(s)"
   ]
  },
  {
   "cell_type": "code",
   "execution_count": 22,
   "id": "9b46a1b2",
   "metadata": {},
   "outputs": [
    {
     "ename": "TypeError",
     "evalue": "'set' object is not subscriptable",
     "output_type": "error",
     "traceback": [
      "\u001b[0;31m---------------------------------------------------------------------------\u001b[0m",
      "\u001b[0;31mTypeError\u001b[0m                                 Traceback (most recent call last)",
      "\u001b[0;32m<ipython-input-22-5fe6cccdd4ef>\u001b[0m in \u001b[0;36m<module>\u001b[0;34m\u001b[0m\n\u001b[1;32m      2\u001b[0m \u001b[0;31m#los elementos  como en las listas y las tuplas, es por ello que no podemos acceder a los elementos mediante\u001b[0m\u001b[0;34m\u001b[0m\u001b[0;34m\u001b[0m\u001b[0;34m\u001b[0m\u001b[0m\n\u001b[1;32m      3\u001b[0m \u001b[0;31m#un indice, pero si podemos acceder usando un bucle for\u001b[0m\u001b[0;34m\u001b[0m\u001b[0;34m\u001b[0m\u001b[0;34m\u001b[0m\u001b[0m\n\u001b[0;32m----> 4\u001b[0;31m \u001b[0ms\u001b[0m\u001b[0;34m[\u001b[0m\u001b[0;36m0\u001b[0m\u001b[0;34m]\u001b[0m\u001b[0;34m\u001b[0m\u001b[0;34m\u001b[0m\u001b[0m\n\u001b[0m",
      "\u001b[0;31mTypeError\u001b[0m: 'set' object is not subscriptable"
     ]
    }
   ],
   "source": [
    "#Los conjuntos son elementos desordenados, en ellos no se guardan la posicion en la que son insertados \n",
    "#los elementos  como en las listas y las tuplas, es por ello que no podemos acceder a los elementos mediante\n",
    "#un indice, pero si podemos acceder usando un bucle for\n",
    "s[0]"
   ]
  },
  {
   "cell_type": "code",
   "execution_count": 24,
   "id": "72a2d14e",
   "metadata": {},
   "outputs": [
    {
     "name": "stdout",
     "output_type": "stream",
     "text": [
      "{1, 3, 4, 5, 6, 63}\n",
      "1\n",
      "3\n",
      "4\n",
      "5\n",
      "6\n",
      "63\n"
     ]
    }
   ],
   "source": [
    "#Los conjuntos son elementos desordenados, en ellos no se guardan la posicion en la que son insertados \n",
    "#los elementos  como en las listas y las tuplas, es por ello que no podemos acceder a los elementos mediante\n",
    "#un indice, pero si podemos acceder usando un bucle for\n",
    "s=set([1,4,5,6,63,3,4,1,1,4])\n",
    "print(s)\n",
    "for num in s:\n",
    "    print(num)"
   ]
  },
  {
   "cell_type": "code",
   "execution_count": 25,
   "id": "8ad0201e",
   "metadata": {},
   "outputs": [
    {
     "name": "stdout",
     "output_type": "stream",
     "text": [
      "0\n",
      "1\n",
      "2\n",
      "3\n",
      "4\n",
      "5\n"
     ]
    }
   ],
   "source": [
    "for num in range(len(s)):\n",
    "    print(num)"
   ]
  },
  {
   "cell_type": "code",
   "execution_count": 26,
   "id": "9dbd9c72",
   "metadata": {},
   "outputs": [
    {
     "name": "stdout",
     "output_type": "stream",
     "text": [
      "[1, 3, 4, 5, 6, 63]\n"
     ]
    }
   ],
   "source": [
    "lista=list()\n",
    "for num in s:\n",
    "    lista.append(num)\n",
    "    \n",
    "print(lista)"
   ]
  },
  {
   "cell_type": "code",
   "execution_count": 27,
   "id": "7e47968a",
   "metadata": {},
   "outputs": [
    {
     "data": {
      "text/plain": [
       "['__add__',\n",
       " '__class__',\n",
       " '__class_getitem__',\n",
       " '__contains__',\n",
       " '__delattr__',\n",
       " '__delitem__',\n",
       " '__dir__',\n",
       " '__doc__',\n",
       " '__eq__',\n",
       " '__format__',\n",
       " '__ge__',\n",
       " '__getattribute__',\n",
       " '__getitem__',\n",
       " '__gt__',\n",
       " '__hash__',\n",
       " '__iadd__',\n",
       " '__imul__',\n",
       " '__init__',\n",
       " '__init_subclass__',\n",
       " '__iter__',\n",
       " '__le__',\n",
       " '__len__',\n",
       " '__lt__',\n",
       " '__mul__',\n",
       " '__ne__',\n",
       " '__new__',\n",
       " '__reduce__',\n",
       " '__reduce_ex__',\n",
       " '__repr__',\n",
       " '__reversed__',\n",
       " '__rmul__',\n",
       " '__setattr__',\n",
       " '__setitem__',\n",
       " '__sizeof__',\n",
       " '__str__',\n",
       " '__subclasshook__',\n",
       " 'append',\n",
       " 'clear',\n",
       " 'copy',\n",
       " 'count',\n",
       " 'extend',\n",
       " 'index',\n",
       " 'insert',\n",
       " 'pop',\n",
       " 'remove',\n",
       " 'reverse',\n",
       " 'sort']"
      ]
     },
     "execution_count": 27,
     "metadata": {},
     "output_type": "execute_result"
    }
   ],
   "source": [
    "#Metodos de un conjunto\n",
    "dir(lista)"
   ]
  },
  {
   "cell_type": "code",
   "execution_count": 29,
   "id": "24b9fa33",
   "metadata": {},
   "outputs": [
    {
     "name": "stdout",
     "output_type": "stream",
     "text": [
      "{1, 2, 3, 4, 5, 6, 7, 8, 9}\n",
      "{1, 2, 3, 4, 5, 6, 7, 8, 9, 10}\n"
     ]
    }
   ],
   "source": [
    "#Metodo add(), agrega un elemento a un conjunto mutable, si el elemento ya esta, este no es agregado\n",
    "set_mutable=set([4,5,2,1,3,5,6,6,7,8,9])\n",
    "print(set_mutable)\n",
    "set_mutable.add(10)\n",
    "print(set_mutable)"
   ]
  },
  {
   "cell_type": "code",
   "execution_count": 30,
   "id": "a9f94be3",
   "metadata": {},
   "outputs": [
    {
     "name": "stdout",
     "output_type": "stream",
     "text": [
      "set()\n"
     ]
    }
   ],
   "source": [
    "#Metodo clear elimina los elementos de un conjunto\n",
    "set_mutable=set([4,5,2,1,3,5,6,6,7,8,9])\n",
    "set_mutable.clear()\n",
    "print(set_mutable)"
   ]
  },
  {
   "cell_type": "code",
   "execution_count": 31,
   "id": "e1a78d43",
   "metadata": {},
   "outputs": [
    {
     "name": "stdout",
     "output_type": "stream",
     "text": [
      "{1, 2, 3, 4, 5, 6, 7, 8, 9}\n",
      "True\n"
     ]
    }
   ],
   "source": [
    "#Metodo copy crea una copia superficial de un conjunto\n",
    "set_mutable=set([4,5,2,1,3,5,6,6,7,8,9])\n",
    "otro_conjunto=set_mutable.copy()\n",
    "print(otro_conjunto)\n",
    "print(otro_conjunto==set_mutable)"
   ]
  },
  {
   "cell_type": "code",
   "execution_count": 32,
   "id": "6b8b0676",
   "metadata": {},
   "outputs": [
    {
     "name": "stdout",
     "output_type": "stream",
     "text": [
      "{1, 2, 3, 4, 5, 7, 11}\n",
      "{2, 4, 5, 8, 9, 11}\n"
     ]
    }
   ],
   "source": [
    "#Metodo difference() devuelve la diferencia entre dos conjuntos mutable o no inmutable, todos lo elementos\n",
    "#que estan en el primer conjunto pero no en el segundo\n",
    "set_mutable1=set([4,3,11,7,5,2,1,4])\n",
    "set_mutable2=set([11,5,9,2,4,8])\n",
    "print(set_mutable1)\n",
    "print(set_mutable2)"
   ]
  },
  {
   "cell_type": "code",
   "execution_count": 33,
   "id": "12002019",
   "metadata": {},
   "outputs": [
    {
     "name": "stdout",
     "output_type": "stream",
     "text": [
      "{1, 3, 7}\n"
     ]
    }
   ],
   "source": [
    "print(set_mutable1.difference(set_mutable2))"
   ]
  },
  {
   "cell_type": "code",
   "execution_count": 41,
   "id": "aaddc875",
   "metadata": {},
   "outputs": [
    {
     "name": "stdout",
     "output_type": "stream",
     "text": [
      "{1, 3, 7}\n"
     ]
    }
   ],
   "source": [
    "var=set_mutable1.difference(set_mutable2)\n",
    "print(var)"
   ]
  },
  {
   "cell_type": "code",
   "execution_count": 34,
   "id": "bb09821b",
   "metadata": {},
   "outputs": [
    {
     "name": "stdout",
     "output_type": "stream",
     "text": [
      "{8, 9}\n"
     ]
    }
   ],
   "source": [
    "#Todos los elementos que estan en el conjunto 2 pero no en el primero\n",
    "print(set_mutable2.difference(set_mutable1))"
   ]
  },
  {
   "cell_type": "code",
   "execution_count": 35,
   "id": "8474c036",
   "metadata": {},
   "outputs": [
    {
     "name": "stdout",
     "output_type": "stream",
     "text": [
      "{1, 4}\n"
     ]
    }
   ],
   "source": [
    "#La diferencia tambien se puede generar de la siguiente forma\n",
    "a={1,2,3,4}\n",
    "b={2,3}\n",
    "c=a-b\n",
    "print(c)"
   ]
  },
  {
   "cell_type": "code",
   "execution_count": 36,
   "id": "da655db8",
   "metadata": {},
   "outputs": [
    {
     "data": {
      "text/plain": [
       "True"
      ]
     },
     "execution_count": 36,
     "metadata": {},
     "output_type": "execute_result"
    }
   ],
   "source": [
    "#Dos conjuntos son iguales solo si contienen los mismos elementos\n",
    "{1,2,3}=={3,2,1}"
   ]
  },
  {
   "cell_type": "code",
   "execution_count": 37,
   "id": "02be6fa8",
   "metadata": {},
   "outputs": [
    {
     "data": {
      "text/plain": [
       "False"
      ]
     },
     "execution_count": 37,
     "metadata": {},
     "output_type": "execute_result"
    }
   ],
   "source": [
    "#Dos conjuntos son iguales solo si contienen los mismos elementos\n",
    "{1,2,3}=={3,2,7}"
   ]
  },
  {
   "cell_type": "code",
   "execution_count": 38,
   "id": "a8d2046f",
   "metadata": {},
   "outputs": [
    {
     "name": "stdout",
     "output_type": "stream",
     "text": [
      "{'pytz', 'python', 'ZODB3', 'zope2'}\n",
      "{'python', 'Plone', 'diazo'}\n"
     ]
    }
   ],
   "source": [
    "#Metodo difference_update(), actualiza un conjunto mutable con la diferencia de dos conjuntos\n",
    "proyecto1={'python','zope2','ZODB3','pytz'}\n",
    "print(proyecto1)\n",
    "proyecto2={'python','Plone','diazo'}\n",
    "print(proyecto2)"
   ]
  },
  {
   "cell_type": "code",
   "execution_count": 40,
   "id": "fc27f26b",
   "metadata": {},
   "outputs": [
    {
     "name": "stdout",
     "output_type": "stream",
     "text": [
      "{'pytz', 'ZODB3', 'zope2'}\n"
     ]
    }
   ],
   "source": [
    "#el resultado es un conjunto proyecto1 con los elementos que se encotraban en el conjunto 1 pero no el el conjunto 2\n",
    "proyecto1.difference_update(proyecto2)\n",
    "print(proyecto1)"
   ]
  },
  {
   "cell_type": "code",
   "execution_count": 42,
   "id": "f03c4452",
   "metadata": {},
   "outputs": [
    {
     "name": "stdout",
     "output_type": "stream",
     "text": [
      "{'python', 'ZODB3', 'zope2'}\n"
     ]
    }
   ],
   "source": [
    "#Metodo discard()\n",
    "# remueve un elemento desde un conjunto mutable si esta presente\n",
    "proyecto1={'python','zope2','ZODB3','pytz'}\n",
    "proyecto1.discard('pytz')\n",
    "print(proyecto1)"
   ]
  },
  {
   "cell_type": "code",
   "execution_count": 43,
   "id": "e8a431dc",
   "metadata": {},
   "outputs": [
    {
     "name": "stdout",
     "output_type": "stream",
     "text": [
      "{'python', 'ZODB3', 'zope2'}\n"
     ]
    }
   ],
   "source": [
    "#Si el elemento no existe no se producen cambios\n",
    "proyecto1.discard('php')\n",
    "print(proyecto1)"
   ]
  },
  {
   "cell_type": "code",
   "execution_count": 46,
   "id": "3ecf5484",
   "metadata": {},
   "outputs": [
    {
     "name": "stdout",
     "output_type": "stream",
     "text": [
      "{1, 2, 3, 4, 5, 7, 11}\n",
      "{2, 4, 5, 8, 9, 11}\n",
      "{2, 11, 4, 5}\n",
      "{2, 11, 4, 5}\n"
     ]
    }
   ],
   "source": [
    "#Metodo intersection\n",
    "set_mutable1=set([4,3,11,7,5,2,1,4])\n",
    "set_mutable2=set([11,5,9,2,4,8])\n",
    "print(set_mutable1)\n",
    "print(set_mutable2)\n",
    "print(set_mutable1.intersection(set_mutable2))\n",
    "print(set_mutable2.intersection(set_mutable1))"
   ]
  },
  {
   "cell_type": "code",
   "execution_count": 47,
   "id": "97ec3a78",
   "metadata": {},
   "outputs": [
    {
     "name": "stdout",
     "output_type": "stream",
     "text": [
      "{2, 11, 4, 5}\n"
     ]
    }
   ],
   "source": [
    "#interseccion tambien funciona con el operador &\n",
    "set_interseccion=set_mutable1 & set_mutable2\n",
    "print(set_interseccion)"
   ]
  },
  {
   "cell_type": "code",
   "execution_count": 6,
   "id": "c2afcf17",
   "metadata": {},
   "outputs": [
    {
     "name": "stdout",
     "output_type": "stream",
     "text": [
      "{'python', 'php'}\n"
     ]
    }
   ],
   "source": [
    "#Interseccion update()\n",
    "set_mutable1=set(['python','zope','pytz'])\n",
    "set_mutable2=set(['python','php'])\n",
    "set_mutable3=set(['python','djando','laravel','php'])\n",
    "\n",
    "set_mutable3.intersection_update(set_mutable3,set_mutable2)\n",
    "print(set_mutable3)"
   ]
  },
  {
   "cell_type": "code",
   "execution_count": 8,
   "id": "7f82f1fd",
   "metadata": {},
   "outputs": [
    {
     "name": "stdout",
     "output_type": "stream",
     "text": [
      "{1, 2, 3, 4, 5, 7, 11}\n",
      "{2, 4, 5, 8, 9, 11}\n",
      "False\n"
     ]
    }
   ],
   "source": [
    "#Metodo isdisjoint(), devuelve true si no hay elementos communes en el conjunto\n",
    "set_mutable1=set([4,3,11,7,5,2,1,4])\n",
    "set_mutable2=set([11,5,9,2,4,8])\n",
    "\n",
    "print(set_mutable1)\n",
    "print(set_mutable2)\n",
    "print(set_mutable1.isdisjoint(set_mutable2))"
   ]
  },
  {
   "cell_type": "code",
   "execution_count": 9,
   "id": "73f3e97b",
   "metadata": {},
   "outputs": [
    {
     "name": "stdout",
     "output_type": "stream",
     "text": [
      "{1, 2, 3, 4, 5, 7, 11}\n",
      "{2, 4, 5, 8, 9, 11}\n",
      "{2, 11, 4, 5}\n",
      "False\n",
      "True\n"
     ]
    }
   ],
   "source": [
    "#Metodo issubset(), devuelve true si el conjunto mutable es un subconjutno del conjunto mutable en el argumento\n",
    "set_mutable1=set([4,3,11,7,5,2,1,4])\n",
    "set_mutable2=set([11,5,9,2,4,8])\n",
    "set_mutable3=set([11,2,4,5])\n",
    "\n",
    "print(set_mutable1)\n",
    "print(set_mutable2)\n",
    "print(set_mutable3)\n",
    "print(set_mutable2.issubset(set_mutable1))\n",
    "print(set_mutable3.issubset(set_mutable1))"
   ]
  },
  {
   "cell_type": "code",
   "execution_count": 12,
   "id": "d7311486",
   "metadata": {},
   "outputs": [
    {
     "name": "stdout",
     "output_type": "stream",
     "text": [
      "{1, 2, 3, 4, 5, 7, 11}\n",
      "{2, 4, 5, 8, 9, 11}\n",
      "{2, 11, 4, 5}\n",
      "False\n",
      "True\n",
      "False\n"
     ]
    }
   ],
   "source": [
    "#Metodo issuperset(), devuelve true si el conjunto mutable es un superset del conjunto mutable en el argumento\n",
    "set_mutable1=set([4,3,11,7,5,2,1,4])\n",
    "set_mutable2=set([11,5,9,2,4,8])\n",
    "set_mutable3=set([11,2,4,5])\n",
    "\n",
    "print(set_mutable1)\n",
    "print(set_mutable2)\n",
    "print(set_mutable3)\n",
    "print(set_mutable1.issuperset(set_mutable2))\n",
    "print(set_mutable1.issuperset(set_mutable3))\n",
    "print(set_mutable3.issuperset(set_mutable1))"
   ]
  },
  {
   "cell_type": "markdown",
   "id": "aa65ebde",
   "metadata": {},
   "source": [
    "# Conjutnos issuperset\n",
    "https://www.programiz.com/python-programming/methods/set/issuperset"
   ]
  },
  {
   "cell_type": "code",
   "execution_count": 13,
   "id": "823d0f27",
   "metadata": {},
   "outputs": [
    {
     "name": "stdout",
     "output_type": "stream",
     "text": [
      "ZODB3\n",
      "{'zope2', 'python', 'pytz'}\n"
     ]
    }
   ],
   "source": [
    "#Metodo POP()\n",
    "proyecto1={'python','zope2','ZODB3','pytz'}\n",
    "var=proyecto1.pop()\n",
    "print(var)\n",
    "print(proyecto1)"
   ]
  },
  {
   "cell_type": "code",
   "execution_count": 14,
   "id": "0079240d",
   "metadata": {},
   "outputs": [
    {
     "name": "stdout",
     "output_type": "stream",
     "text": [
      "zope2\n",
      "{'python', 'pytz'}\n"
     ]
    }
   ],
   "source": [
    "var=proyecto1.pop()\n",
    "print(var)\n",
    "print(proyecto1)"
   ]
  },
  {
   "cell_type": "code",
   "execution_count": 15,
   "id": "0e78e7ef",
   "metadata": {
    "scrolled": true
   },
   "outputs": [
    {
     "ename": "TypeError",
     "evalue": "set.pop() takes no arguments (1 given)",
     "output_type": "error",
     "traceback": [
      "\u001b[0;31m---------------------------------------------------------------------------\u001b[0m",
      "\u001b[0;31mTypeError\u001b[0m                                 Traceback (most recent call last)",
      "\u001b[0;32m<ipython-input-15-b32854e93303>\u001b[0m in \u001b[0;36m<module>\u001b[0;34m\u001b[0m\n\u001b[0;32m----> 1\u001b[0;31m \u001b[0mvar\u001b[0m\u001b[0;34m=\u001b[0m\u001b[0mproyecto1\u001b[0m\u001b[0;34m.\u001b[0m\u001b[0mpop\u001b[0m\u001b[0;34m(\u001b[0m\u001b[0;34m'python'\u001b[0m\u001b[0;34m)\u001b[0m\u001b[0;34m\u001b[0m\u001b[0;34m\u001b[0m\u001b[0m\n\u001b[0m\u001b[1;32m      2\u001b[0m \u001b[0mprint\u001b[0m\u001b[0;34m(\u001b[0m\u001b[0mvar\u001b[0m\u001b[0;34m)\u001b[0m\u001b[0;34m\u001b[0m\u001b[0;34m\u001b[0m\u001b[0m\n\u001b[1;32m      3\u001b[0m \u001b[0mprint\u001b[0m\u001b[0;34m(\u001b[0m\u001b[0mproyecto1\u001b[0m\u001b[0;34m)\u001b[0m\u001b[0;34m\u001b[0m\u001b[0;34m\u001b[0m\u001b[0m\n",
      "\u001b[0;31mTypeError\u001b[0m: set.pop() takes no arguments (1 given)"
     ]
    }
   ],
   "source": [
    "var=proyecto1.pop('python')\n",
    "print(var)\n",
    "print(proyecto1)"
   ]
  },
  {
   "cell_type": "code",
   "execution_count": 21,
   "id": "613cb3ce",
   "metadata": {},
   "outputs": [
    {
     "name": "stdout",
     "output_type": "stream",
     "text": [
      "None\n",
      "{'ZODB3', 'zope2', 'python'}\n"
     ]
    }
   ],
   "source": [
    "#Metodo remove(), no retorna nada\n",
    "proyecto1={'python','zope2','ZODB3','pytz'}\n",
    "var=proyecto1.remove('pytz')\n",
    "print(var)\n",
    "print(proyecto1)"
   ]
  },
  {
   "cell_type": "code",
   "execution_count": 22,
   "id": "4a40bf2c",
   "metadata": {},
   "outputs": [
    {
     "ename": "KeyError",
     "evalue": "'php'",
     "output_type": "error",
     "traceback": [
      "\u001b[0;31m---------------------------------------------------------------------------\u001b[0m",
      "\u001b[0;31mKeyError\u001b[0m                                  Traceback (most recent call last)",
      "\u001b[0;32m<ipython-input-22-a470d3811832>\u001b[0m in \u001b[0;36m<module>\u001b[0;34m\u001b[0m\n\u001b[1;32m      1\u001b[0m \u001b[0;31m#Metodo remove(), no retorna nada, i no se encuentra el elemento en en el conjunto devuelve error\u001b[0m\u001b[0;34m\u001b[0m\u001b[0;34m\u001b[0m\u001b[0;34m\u001b[0m\u001b[0m\n\u001b[1;32m      2\u001b[0m \u001b[0mproyecto1\u001b[0m\u001b[0;34m=\u001b[0m\u001b[0;34m{\u001b[0m\u001b[0;34m'python'\u001b[0m\u001b[0;34m,\u001b[0m\u001b[0;34m'zope2'\u001b[0m\u001b[0;34m,\u001b[0m\u001b[0;34m'ZODB3'\u001b[0m\u001b[0;34m,\u001b[0m\u001b[0;34m'pytz'\u001b[0m\u001b[0;34m}\u001b[0m\u001b[0;34m\u001b[0m\u001b[0;34m\u001b[0m\u001b[0m\n\u001b[0;32m----> 3\u001b[0;31m \u001b[0mproyecto1\u001b[0m\u001b[0;34m.\u001b[0m\u001b[0mremove\u001b[0m\u001b[0;34m(\u001b[0m\u001b[0;34m'php'\u001b[0m\u001b[0;34m)\u001b[0m\u001b[0;34m\u001b[0m\u001b[0;34m\u001b[0m\u001b[0m\n\u001b[0m\u001b[1;32m      4\u001b[0m \u001b[0mprint\u001b[0m\u001b[0;34m(\u001b[0m\u001b[0mproyecto1\u001b[0m\u001b[0;34m)\u001b[0m\u001b[0;34m\u001b[0m\u001b[0;34m\u001b[0m\u001b[0m\n",
      "\u001b[0;31mKeyError\u001b[0m: 'php'"
     ]
    }
   ],
   "source": [
    "#Metodo remove(), no retorna nada, i no se encuentra el elemento en en el conjunto devuelve error\n",
    "proyecto1={'python','zope2','ZODB3','pytz'}\n",
    "proyecto1.remove('php')\n",
    "print(proyecto1)"
   ]
  },
  {
   "cell_type": "code",
   "execution_count": 24,
   "id": "1901b270",
   "metadata": {},
   "outputs": [
    {
     "name": "stdout",
     "output_type": "stream",
     "text": [
      "{'ZODB3', 'zope2', 'python', 'pytz'}\n"
     ]
    }
   ],
   "source": [
    "#Sino quiere el error utilizar el metodo discard()\n",
    "proyecto1.discard('php')\n",
    "print(proyecto1)"
   ]
  },
  {
   "cell_type": "code",
   "execution_count": 25,
   "id": "c9f2472b",
   "metadata": {
    "scrolled": true
   },
   "outputs": [
    {
     "name": "stdout",
     "output_type": "stream",
     "text": [
      "{'ZODB3', 'zope2', 'python'}\n"
     ]
    }
   ],
   "source": [
    "#Sino quiere el error utilizar el metodo discard()\n",
    "proyecto1.discard('pytz')\n",
    "print(proyecto1)"
   ]
  },
  {
   "cell_type": "code",
   "execution_count": 26,
   "id": "4c2df2ed",
   "metadata": {},
   "outputs": [
    {
     "name": "stdout",
     "output_type": "stream",
     "text": [
      "{1, 2, 3, 4, 5, 7, 11}\n",
      "{2, 4, 5, 8, 9, 11}\n",
      "{1, 3, 7, 8, 9}\n"
     ]
    }
   ],
   "source": [
    "#Metodo symmetry_difference(), devuelve todos los elementos que estan en un conjunto mutable pero no en ambos\n",
    "#conjutno del argumento\n",
    "set_mutable1=set([4,3,11,7,5,2,1,4])\n",
    "set_mutable2=set([11,5,9,2,4,8])\n",
    "\n",
    "print(set_mutable1)\n",
    "print(set_mutable2)\n",
    "print(set_mutable1.symmetric_difference(set_mutable2))"
   ]
  },
  {
   "cell_type": "code",
   "execution_count": 28,
   "id": "d1cacdfd",
   "metadata": {},
   "outputs": [
    {
     "name": "stdout",
     "output_type": "stream",
     "text": [
      "{'zope', 'pytz', 'python'}\n",
      "{'typescript', 'php', 'python'}\n",
      "{'zope', 'typescript', 'pytz', 'php'}\n"
     ]
    }
   ],
   "source": [
    "#Metodo symmetry_difference_update(), actualiza un conjunto mutable al metodo symmetry_difference_update con los \n",
    "#conjuntos  de la diferencia simetrica. La diferencia simetrica es el conjunto de elementos que estan en \n",
    "#cualquier conjunto pero no en ambos\n",
    "set_mutable1=set(['python','zope','pytz'])\n",
    "set_mutable2=set(['python','php','typescript'])\n",
    "\n",
    "print(set_mutable1)\n",
    "print(set_mutable2)\n",
    "set_mutable1.symmetric_difference_update(set_mutable2)\n",
    "print(set_mutable1)"
   ]
  },
  {
   "cell_type": "code",
   "execution_count": 29,
   "id": "3e9fb7a6",
   "metadata": {},
   "outputs": [
    {
     "name": "stdout",
     "output_type": "stream",
     "text": [
      "{1, 2, 3, 4, 5, 7, 11}\n",
      "{2, 4, 5, 8, 9, 11}\n",
      "{1, 2, 3, 4, 5, 7, 8, 9, 11}\n"
     ]
    }
   ],
   "source": [
    "#union, devuelve un conjunto con todos los elementos que estan en alguno de los conjuntos mutables e inmutable\n",
    "set_mutable1=set([4,3,11,7,5,2,1,4])\n",
    "set_mutable2=set([11,5,9,2,4,8])\n",
    "print(set_mutable1)\n",
    "print(set_mutable2)\n",
    "print(set_mutable1.union(set_mutable2))"
   ]
  },
  {
   "cell_type": "code",
   "execution_count": 30,
   "id": "1d7396c8",
   "metadata": {},
   "outputs": [
    {
     "data": {
      "text/plain": [
       "{1, 2, 3, 4, 5, 7, 8, 9, 11}"
      ]
     },
     "execution_count": 30,
     "metadata": {},
     "output_type": "execute_result"
    }
   ],
   "source": [
    "#union, devuelve un conjunto con todos los elementos que estan en alguno de los conjuntos mutables e inmutable\n",
    "#La union tambien se puede realizar con el caracter |\n",
    "set_mutable1=set([4,3,11,7,5,2,1,4])\n",
    "set_mutable2=set([11,5,9,2,4,8])\n",
    "\n",
    "set_mutable1 | set_mutable2"
   ]
  },
  {
   "cell_type": "code",
   "execution_count": 32,
   "id": "e51dcae1",
   "metadata": {},
   "outputs": [
    {
     "name": "stdout",
     "output_type": "stream",
     "text": [
      "{5.1, 6}\n",
      "{3.6, 2.1, 2.5, 4}\n",
      "{2.1, 3.6, 2.5, 4, 5.1, 6}\n"
     ]
    }
   ],
   "source": [
    "#Metodo update()\n",
    "#este metodo agrega elementos desde un conjunto mutable pasando con un aargumento una tupla, un tipo lista\n",
    "#un tipo diccionario o un conjunto\n",
    "version_plone_dev=set([5.1,6])\n",
    "version_plone=set([2.1,2.5,3.6,4])\n",
    "print(version_plone_dev)\n",
    "print(version_plone)\n",
    "version_plone.update(version_plone_dev)\n",
    "print(version_plone)"
   ]
  },
  {
   "cell_type": "code",
   "execution_count": 39,
   "id": "308a8b94",
   "metadata": {},
   "outputs": [
    {
     "name": "stdout",
     "output_type": "stream",
     "text": [
      "abc\n",
      "{1, 2}\n",
      "{1, 2, 'a', 'b', 'c'}\n",
      "{1, 2, 'a', '9', 'b', 'c'}\n"
     ]
    }
   ],
   "source": [
    "#Modificar un cojunto mutable añadiendo cadenas\n",
    "cadena='abc'\n",
    "entero=20\n",
    "print(cadena)\n",
    "conjunto={1,2}\n",
    "print(conjunto)\n",
    "conjunto.update(cadena)\n",
    "print(conjunto)\n",
    "conjunto.update('9')\n",
    "print(conjunto)"
   ]
  },
  {
   "cell_type": "code",
   "execution_count": 40,
   "id": "90ba176d",
   "metadata": {},
   "outputs": [
    {
     "data": {
      "text/plain": [
       "dict_items([('key1', 1), ('key2', 34)])"
      ]
     },
     "execution_count": 40,
     "metadata": {},
     "output_type": "execute_result"
    }
   ],
   "source": [
    "#utilizando un diccionario\n",
    "diccionario={'key1':1,'key2':34}\n",
    "diccionario.items()"
   ]
  },
  {
   "cell_type": "code",
   "execution_count": 41,
   "id": "6cfe51cc",
   "metadata": {},
   "outputs": [
    {
     "name": "stdout",
     "output_type": "stream",
     "text": [
      "{1, 2, 'key1', 'key2'}\n"
     ]
    }
   ],
   "source": [
    "conjunto={1,2}\n",
    "conjunto.update(diccionario)\n",
    "print(conjunto)"
   ]
  },
  {
   "cell_type": "markdown",
   "id": "94ec55b0",
   "metadata": {},
   "source": [
    "http://localhost:8888/notebooks/Documentos/Curso_python/Curso_python_jhonnyer/3.%20COLECCION_DATOS/conjuntos.ipynb"
   ]
  }
 ],
 "metadata": {
  "kernelspec": {
   "display_name": "Python 3",
   "language": "python",
   "name": "python3"
  },
  "language_info": {
   "codemirror_mode": {
    "name": "ipython",
    "version": 3
   },
   "file_extension": ".py",
   "mimetype": "text/x-python",
   "name": "python",
   "nbconvert_exporter": "python",
   "pygments_lexer": "ipython3",
   "version": "3.9.1"
  }
 },
 "nbformat": 4,
 "nbformat_minor": 5
}
