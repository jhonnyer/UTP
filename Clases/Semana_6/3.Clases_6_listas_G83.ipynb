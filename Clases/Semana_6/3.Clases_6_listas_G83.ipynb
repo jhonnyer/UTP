{
 "cells": [
  {
   "cell_type": "code",
   "execution_count": 1,
   "id": "34ae6e9e",
   "metadata": {},
   "outputs": [
    {
     "name": "stdout",
     "output_type": "stream",
     "text": [
      "[1, 2.5, 'DevCode', [5, 6], 4]\n",
      "<class 'list'>\n"
     ]
    }
   ],
   "source": [
    "lista=[1,2.5,'DevCode',[5,6],4]\n",
    "print(lista)\n",
    "print(type(lista))"
   ]
  },
  {
   "cell_type": "code",
   "execution_count": 5,
   "id": "62a7662e",
   "metadata": {},
   "outputs": [
    {
     "name": "stdout",
     "output_type": "stream",
     "text": [
      "1\n",
      "DevCode\n",
      "[5, 6]\n",
      "6\n"
     ]
    }
   ],
   "source": [
    "print(lista[0])\n",
    "print(lista[2])\n",
    "print(lista[3])\n",
    "print(lista[3][1])"
   ]
  },
  {
   "cell_type": "code",
   "execution_count": 6,
   "id": "afb4a0f8",
   "metadata": {},
   "outputs": [
    {
     "name": "stdout",
     "output_type": "stream",
     "text": [
      "[]\n"
     ]
    }
   ],
   "source": [
    "lista=[]\n",
    "print(lista)"
   ]
  },
  {
   "cell_type": "code",
   "execution_count": 10,
   "id": "0f72f672",
   "metadata": {},
   "outputs": [
    {
     "name": "stdout",
     "output_type": "stream",
     "text": [
      "m\n"
     ]
    },
    {
     "ename": "TypeError",
     "evalue": "'str' object does not support item assignment",
     "output_type": "error",
     "traceback": [
      "\u001b[0;31m---------------------------------------------------------------------------\u001b[0m",
      "\u001b[0;31mTypeError\u001b[0m                                 Traceback (most recent call last)",
      "\u001b[0;32m<ipython-input-10-a3d6d276693b>\u001b[0m in \u001b[0;36m<module>\u001b[0;34m\u001b[0m\n\u001b[1;32m      2\u001b[0m \u001b[0mcad\u001b[0m\u001b[0;34m=\u001b[0m\u001b[0;34m'Hola mundo'\u001b[0m\u001b[0;34m\u001b[0m\u001b[0;34m\u001b[0m\u001b[0m\n\u001b[1;32m      3\u001b[0m \u001b[0mprint\u001b[0m\u001b[0;34m(\u001b[0m\u001b[0mcad\u001b[0m\u001b[0;34m[\u001b[0m\u001b[0;36m5\u001b[0m\u001b[0;34m]\u001b[0m\u001b[0;34m)\u001b[0m\u001b[0;34m\u001b[0m\u001b[0;34m\u001b[0m\u001b[0m\n\u001b[0;32m----> 4\u001b[0;31m \u001b[0mcad\u001b[0m\u001b[0;34m[\u001b[0m\u001b[0;36m5\u001b[0m\u001b[0;34m]\u001b[0m\u001b[0;34m=\u001b[0m\u001b[0;34m'j'\u001b[0m\u001b[0;34m\u001b[0m\u001b[0;34m\u001b[0m\u001b[0m\n\u001b[0m",
      "\u001b[0;31mTypeError\u001b[0m: 'str' object does not support item assignment"
     ]
    }
   ],
   "source": [
    "#Cadena string son inmutables, no se pueden modificar\n",
    "cad='Hola mundo'\n",
    "print(cad[5])\n",
    "cad[5]='j'\n"
   ]
  },
  {
   "cell_type": "code",
   "execution_count": 12,
   "id": "6d4dcbc0",
   "metadata": {},
   "outputs": [
    {
     "name": "stdout",
     "output_type": "stream",
     "text": [
      "['pepe', 25]\n",
      "<class 'list'>\n"
     ]
    }
   ],
   "source": [
    "nombre='pepe'\n",
    "edad=25\n",
    "listas=[nombre,edad]\n",
    "print(listas)\n",
    "print(type(listas))"
   ]
  },
  {
   "cell_type": "code",
   "execution_count": 19,
   "id": "5333d010",
   "metadata": {},
   "outputs": [
    {
     "name": "stdout",
     "output_type": "stream",
     "text": [
      "{'clave1': 13, 'clave2': 12.56, 'clave3': 'Hola'}\n",
      "<class 'dict'>\n",
      "dict_keys(['clave1', 'clave2', 'clave3'])\n",
      "dict_values([13, 12.56, 'Hola'])\n",
      "dict_items([('clave1', 13), ('clave2', 12.56), ('clave3', 'Hola')])\n"
     ]
    }
   ],
   "source": [
    "diccionario={'clave1':13,'clave2':12.56,'clave3':'Hola'}\n",
    "print(diccionario)\n",
    "print(type(diccionario))\n",
    "list_keys=diccionario.keys()\n",
    "print(list_keys)\n",
    "list_values=diccionario.values()\n",
    "print(list_values)\n",
    "list_items=diccionario.items()\n",
    "print(list_items)"
   ]
  },
  {
   "cell_type": "code",
   "execution_count": 20,
   "id": "ab0e83e4",
   "metadata": {},
   "outputs": [
    {
     "name": "stdout",
     "output_type": "stream",
     "text": [
      "['clave1', 'clave2', 'clave3']\n",
      "[13, 12.56, 'Hola']\n",
      "[('clave1', 13), ('clave2', 12.56), ('clave3', 'Hola')]\n"
     ]
    }
   ],
   "source": [
    "#Utilizar funcion list que nos permite crear una lista a partir de otros tipos de colecciones de datos\n",
    "list_keys=list(list_keys)\n",
    "list_values=list(list_values)\n",
    "list_items=list(list_items)\n",
    "print(list_keys)\n",
    "print(list_values)\n",
    "print(list_items)\n"
   ]
  },
  {
   "cell_type": "code",
   "execution_count": 24,
   "id": "20f44f35",
   "metadata": {},
   "outputs": [
    {
     "name": "stdout",
     "output_type": "stream",
     "text": [
      "[['Ana', 'Bernardo'], [22, 21]]\n"
     ]
    }
   ],
   "source": [
    "#Tipos de datos mutables\n",
    "nombres=['Ana','Bernardo']\n",
    "edades=[22,21]\n",
    "lista=[nombres,edades]\n",
    "print(lista)"
   ]
  },
  {
   "cell_type": "code",
   "execution_count": 25,
   "id": "76d80863",
   "metadata": {},
   "outputs": [
    {
     "name": "stdout",
     "output_type": "stream",
     "text": [
      "['Ana', 'Bernardo', 'Cristina']\n",
      "[['Ana', 'Bernardo', 'Cristina'], [22, 21]]\n"
     ]
    }
   ],
   "source": [
    "nombres+=['Cristina']\n",
    "print(nombres)\n",
    "print(lista)"
   ]
  },
  {
   "cell_type": "code",
   "execution_count": 26,
   "id": "742b4d7c",
   "metadata": {},
   "outputs": [
    {
     "name": "stdout",
     "output_type": "stream",
     "text": [
      "['pan', 'huevos', 100, 1234.0]\n"
     ]
    }
   ],
   "source": [
    "factura=['pan','huevos',100,1234.]\n",
    "print(factura)"
   ]
  },
  {
   "cell_type": "code",
   "execution_count": 27,
   "id": "d3873a26",
   "metadata": {},
   "outputs": [
    {
     "data": {
      "text/plain": [
       "'pan'"
      ]
     },
     "execution_count": 27,
     "metadata": {},
     "output_type": "execute_result"
    }
   ],
   "source": [
    "factura[0]"
   ]
  },
  {
   "cell_type": "code",
   "execution_count": 28,
   "id": "0241c737",
   "metadata": {},
   "outputs": [
    {
     "data": {
      "text/plain": [
       "100"
      ]
     },
     "execution_count": 28,
     "metadata": {},
     "output_type": "execute_result"
    }
   ],
   "source": [
    "factura[2]"
   ]
  },
  {
   "cell_type": "code",
   "execution_count": 29,
   "id": "261525e1",
   "metadata": {},
   "outputs": [
    {
     "name": "stdout",
     "output_type": "stream",
     "text": [
      "['pan', 'Tomate', 100, 1234.0]\n"
     ]
    }
   ],
   "source": [
    "factura[1]='Tomate'\n",
    "print(factura)"
   ]
  },
  {
   "cell_type": "code",
   "execution_count": 31,
   "id": "68297d75",
   "metadata": {},
   "outputs": [
    {
     "name": "stdout",
     "output_type": "stream",
     "text": [
      "['pan', 'Tomate', 100, 1234.0]\n",
      "4\n"
     ]
    }
   ],
   "source": [
    "#Funcion LEN() permite verificar cuantos elementos tiene una lista en este caso\n",
    "print(factura)\n",
    "print(len(factura))"
   ]
  },
  {
   "cell_type": "code",
   "execution_count": 33,
   "id": "ce356f02",
   "metadata": {},
   "outputs": [
    {
     "name": "stdout",
     "output_type": "stream",
     "text": [
      "3\n",
      "1234.0\n"
     ]
    }
   ],
   "source": [
    "print(len(factura)-1)\n",
    "print(factura[len(factura)-1])"
   ]
  },
  {
   "cell_type": "code",
   "execution_count": 38,
   "id": "4c496286",
   "metadata": {},
   "outputs": [
    {
     "name": "stdout",
     "output_type": "stream",
     "text": [
      "1234.0\n",
      "100\n",
      "Tomate\n",
      "pan\n"
     ]
    }
   ],
   "source": [
    "#Recorrer los elementos de la lista de derecha a izquierda\n",
    "print(factura[-1])\n",
    "print(factura[-2])\n",
    "print(factura[-3])\n",
    "print(factura[-4])\n"
   ]
  },
  {
   "cell_type": "code",
   "execution_count": 39,
   "id": "b3a6b54a",
   "metadata": {},
   "outputs": [
    {
     "name": "stdout",
     "output_type": "stream",
     "text": [
      "pan\n"
     ]
    }
   ],
   "source": [
    "print(factura[-len(factura)])"
   ]
  },
  {
   "cell_type": "code",
   "execution_count": 40,
   "id": "452ee3aa",
   "metadata": {},
   "outputs": [
    {
     "data": {
      "text/plain": [
       "True"
      ]
     },
     "execution_count": 40,
     "metadata": {},
     "output_type": "execute_result"
    }
   ],
   "source": [
    "factura[-len(factura)]==factura[0]"
   ]
  },
  {
   "cell_type": "code",
   "execution_count": 37,
   "id": "94a68dc1",
   "metadata": {},
   "outputs": [
    {
     "name": "stdout",
     "output_type": "stream",
     "text": [
      "pan\n",
      "Tomate\n",
      "100\n"
     ]
    }
   ],
   "source": [
    "#Recorrer los elementos de la lista de  izquierda a derecha\n",
    "print(factura[0])\n",
    "print(factura[1])\n",
    "print(factura[2])\n"
   ]
  },
  {
   "cell_type": "code",
   "execution_count": 42,
   "id": "2b3de406",
   "metadata": {},
   "outputs": [
    {
     "name": "stdout",
     "output_type": "stream",
     "text": [
      "['pan', 'Tomate', 100, 1234.0]\n",
      "['pan', 'Tomate', 2000, 1234.0]\n"
     ]
    }
   ],
   "source": [
    "print(factura)\n",
    "factura[2]*=20\n",
    "print(factura)"
   ]
  },
  {
   "cell_type": "code",
   "execution_count": 43,
   "id": "2ce1486d",
   "metadata": {
    "scrolled": true
   },
   "outputs": [
    {
     "name": "stdout",
     "output_type": "stream",
     "text": [
      "['pan', 'Tomate', 2000, 1234.0]\n",
      "['pan', 'Tomate', 100.0, 1234.0]\n"
     ]
    }
   ],
   "source": [
    "print(factura)\n",
    "factura[2]=factura[2]/20\n",
    "print(factura)"
   ]
  },
  {
   "cell_type": "code",
   "execution_count": 44,
   "id": "95213cf0",
   "metadata": {
    "scrolled": true
   },
   "outputs": [
    {
     "data": {
      "text/plain": [
       "['__add__',\n",
       " '__class__',\n",
       " '__class_getitem__',\n",
       " '__contains__',\n",
       " '__delattr__',\n",
       " '__delitem__',\n",
       " '__dir__',\n",
       " '__doc__',\n",
       " '__eq__',\n",
       " '__format__',\n",
       " '__ge__',\n",
       " '__getattribute__',\n",
       " '__getitem__',\n",
       " '__gt__',\n",
       " '__hash__',\n",
       " '__iadd__',\n",
       " '__imul__',\n",
       " '__init__',\n",
       " '__init_subclass__',\n",
       " '__iter__',\n",
       " '__le__',\n",
       " '__len__',\n",
       " '__lt__',\n",
       " '__mul__',\n",
       " '__ne__',\n",
       " '__new__',\n",
       " '__reduce__',\n",
       " '__reduce_ex__',\n",
       " '__repr__',\n",
       " '__reversed__',\n",
       " '__rmul__',\n",
       " '__setattr__',\n",
       " '__setitem__',\n",
       " '__sizeof__',\n",
       " '__str__',\n",
       " '__subclasshook__',\n",
       " 'append',\n",
       " 'clear',\n",
       " 'copy',\n",
       " 'count',\n",
       " 'extend',\n",
       " 'index',\n",
       " 'insert',\n",
       " 'pop',\n",
       " 'remove',\n",
       " 'reverse',\n",
       " 'sort']"
      ]
     },
     "execution_count": 44,
     "metadata": {},
     "output_type": "execute_result"
    }
   ],
   "source": [
    "#Metodo que tiene disponible una lista\n",
    "dir(factura)"
   ]
  },
  {
   "cell_type": "code",
   "execution_count": 46,
   "id": "51449aa1",
   "metadata": {},
   "outputs": [
    {
     "name": "stdout",
     "output_type": "stream",
     "text": [
      "['pan', 'huevos', 100, 1234]\n",
      "[]\n"
     ]
    }
   ],
   "source": [
    "#Metodo clear\n",
    "factura=['pan','huevos',100,1234]\n",
    "print(factura)\n",
    "factura.clear()\n",
    "print(factura)"
   ]
  },
  {
   "cell_type": "code",
   "execution_count": 47,
   "id": "34c9afdf",
   "metadata": {},
   "outputs": [
    {
     "name": "stdout",
     "output_type": "stream",
     "text": [
      "['pan', 'huevos', 100, 1234]\n",
      "['pan', 'huevos', 100, 1234]\n"
     ]
    }
   ],
   "source": [
    "#Metodo copy\n",
    "factura=['pan','huevos',100,1234]\n",
    "print(factura)\n",
    "new_fact=factura.copy()\n",
    "print(new_fact)"
   ]
  },
  {
   "cell_type": "code",
   "execution_count": 50,
   "id": "29119765",
   "metadata": {},
   "outputs": [
    {
     "name": "stdout",
     "output_type": "stream",
     "text": [
      "[2.5, 3.6, 4, 5]\n",
      "[2.5, 3.6, 4, 5, 6]\n"
     ]
    }
   ],
   "source": [
    "versiones=[2.5,3.6,4,5]\n",
    "print(versiones)\n",
    "versiones.append(6)\n",
    "print(versiones)"
   ]
  },
  {
   "cell_type": "code",
   "execution_count": 51,
   "id": "2dc9ae10",
   "metadata": {},
   "outputs": [
    {
     "name": "stdout",
     "output_type": "stream",
     "text": [
      "[2.5, 3.6, 4, 5, 6, 'hola']\n"
     ]
    }
   ],
   "source": [
    "versiones.append('hola')\n",
    "print(versiones)"
   ]
  },
  {
   "cell_type": "code",
   "execution_count": 54,
   "id": "16d73944",
   "metadata": {},
   "outputs": [
    {
     "name": "stdout",
     "output_type": "stream",
     "text": [
      "[2, 3, 6, 4, 5, 8]\n",
      "6\n"
     ]
    },
    {
     "data": {
      "text/plain": [
       "[3, 6, 4]"
      ]
     },
     "execution_count": 54,
     "metadata": {},
     "output_type": "execute_result"
    }
   ],
   "source": [
    "#Rebanada o slicing, primer indice se tiene en cuenta, el segundo indice no se toma\n",
    "versiones=[2,3,6,4,5,8]\n",
    "print(versiones)\n",
    "print(len(versiones))\n",
    "versiones[1:4]"
   ]
  },
  {
   "cell_type": "code",
   "execution_count": 56,
   "id": "8831fe8c",
   "metadata": {},
   "outputs": [
    {
     "name": "stdout",
     "output_type": "stream",
     "text": [
      "[2, 3, 6, 4, 5, 8, 10, 3, 4, 6, 7, 1]\n",
      "12\n"
     ]
    },
    {
     "data": {
      "text/plain": [
       "[3, 4, 8, 3]"
      ]
     },
     "execution_count": 56,
     "metadata": {},
     "output_type": "execute_result"
    }
   ],
   "source": [
    "#Rebanada o slicing, primer indice se tiene en cuenta, el segundo indice hasta donde va a llegar, no se toma\n",
    "#Tercer indice saltos que van a tener la rebanada\n",
    "versiones=[2,3,6,4,5,8,10,3,4,6,7,1]\n",
    "print(versiones)\n",
    "print(len(versiones))\n",
    "versiones[1:8:2]"
   ]
  },
  {
   "cell_type": "code",
   "execution_count": 58,
   "id": "3d1dd81a",
   "metadata": {},
   "outputs": [
    {
     "name": "stdout",
     "output_type": "stream",
     "text": [
      "3\n"
     ]
    }
   ],
   "source": [
    "#Metodo count()\n",
    "versiones=[2.1,2.5,3.6,4,5,6,5,6,7,5,6]\n",
    "print(versiones.count(6))"
   ]
  },
  {
   "cell_type": "code",
   "execution_count": 59,
   "id": "41459fe0",
   "metadata": {},
   "outputs": [
    {
     "name": "stdout",
     "output_type": "stream",
     "text": [
      "[2.1, 2.5, 3.6]\n"
     ]
    }
   ],
   "source": [
    "#Metodo Extend()\n",
    "versiones=[2.1,2.5,3.6]\n",
    "print(versiones)"
   ]
  },
  {
   "cell_type": "code",
   "execution_count": 60,
   "id": "c41eeed4",
   "metadata": {},
   "outputs": [
    {
     "name": "stdout",
     "output_type": "stream",
     "text": [
      "[2.1, 2.5, 3.6, 7]\n"
     ]
    }
   ],
   "source": [
    "versiones.extend([7])\n",
    "print(versiones)"
   ]
  },
  {
   "cell_type": "code",
   "execution_count": 62,
   "id": "dbfd1d8d",
   "metadata": {},
   "outputs": [
    {
     "name": "stdout",
     "output_type": "stream",
     "text": [
      "[2.1, 2.5, 3.6, 7, 8, 9, 7, 8, 9, 7, 'hola']\n"
     ]
    }
   ],
   "source": [
    "versiones.extend([8,9,7,'hola'])\n",
    "print(versiones)"
   ]
  },
  {
   "cell_type": "code",
   "execution_count": 63,
   "id": "7430adf2",
   "metadata": {},
   "outputs": [
    {
     "name": "stdout",
     "output_type": "stream",
     "text": [
      "[2.1, 2.5, 3.6, 5, 6]\n"
     ]
    }
   ],
   "source": [
    "# range(valor1,valor2,valor3)\n",
    "# x=0;x<numero;x++\n",
    "versiones=[2.1,2.5,3.6]\n",
    "versiones.extend(range(5,7))\n",
    "print(versiones)"
   ]
  },
  {
   "cell_type": "code",
   "execution_count": 64,
   "id": "bf04d77e",
   "metadata": {},
   "outputs": [
    {
     "name": "stdout",
     "output_type": "stream",
     "text": [
      "[2.1, 2.5, 3.6, 5, 7, 9, 11, 13, 15, 17]\n"
     ]
    }
   ],
   "source": [
    "versiones=[2.1,2.5,3.6]\n",
    "versiones.extend(range(5,18,2))\n",
    "print(versiones)"
   ]
  },
  {
   "cell_type": "code",
   "execution_count": 66,
   "id": "b5a4b12a",
   "metadata": {},
   "outputs": [
    {
     "name": "stdout",
     "output_type": "stream",
     "text": [
      "3\n"
     ]
    }
   ],
   "source": [
    "#Metodo INDEX(), me recupera la posicion en la que se encuentra un valor en su primera aparicion\n",
    "versiones=[2.1,2.5,3.6,4,5,6]\n",
    "var1=versiones.index(4)\n",
    "print(var1)"
   ]
  },
  {
   "cell_type": "code",
   "execution_count": 73,
   "id": "ae31eaaa",
   "metadata": {},
   "outputs": [
    {
     "name": "stdout",
     "output_type": "stream",
     "text": [
      "[2.1, 2.5, 3.6, 4, 5, 6, 1, 2, 3, 4, 6, 7, 8, 6]\n",
      "14\n",
      "5\n",
      "10\n",
      "13\n"
     ]
    }
   ],
   "source": [
    "#MEtodo index con un valor de posicion\n",
    "versiones=[2.1,2.5,3.6,4,5,6,1,2,3,4,6,7,8,6]\n",
    "print(versiones)\n",
    "print(len(versiones))\n",
    "print(versiones.index(6,2))\n",
    "print(versiones.index(6,6))\n",
    "print(versiones.index(6,11))\n"
   ]
  },
  {
   "cell_type": "code",
   "execution_count": 74,
   "id": "f1e8a9e4",
   "metadata": {
    "scrolled": true
   },
   "outputs": [
    {
     "ename": "ValueError",
     "evalue": "6 is not in list",
     "output_type": "error",
     "traceback": [
      "\u001b[0;31m---------------------------------------------------------------------------\u001b[0m",
      "\u001b[0;31mValueError\u001b[0m                                Traceback (most recent call last)",
      "\u001b[0;32m<ipython-input-74-82aa99c01305>\u001b[0m in \u001b[0;36m<module>\u001b[0;34m\u001b[0m\n\u001b[0;32m----> 1\u001b[0;31m \u001b[0mprint\u001b[0m\u001b[0;34m(\u001b[0m\u001b[0mversiones\u001b[0m\u001b[0;34m.\u001b[0m\u001b[0mindex\u001b[0m\u001b[0;34m(\u001b[0m\u001b[0;36m6\u001b[0m\u001b[0;34m,\u001b[0m\u001b[0;36m14\u001b[0m\u001b[0;34m)\u001b[0m\u001b[0;34m)\u001b[0m\u001b[0;34m\u001b[0m\u001b[0;34m\u001b[0m\u001b[0m\n\u001b[0m",
      "\u001b[0;31mValueError\u001b[0m: 6 is not in list"
     ]
    }
   ],
   "source": [
    "print(versiones.index(6,14))"
   ]
  },
  {
   "cell_type": "code",
   "execution_count": 76,
   "id": "0c9224b0",
   "metadata": {
    "scrolled": true
   },
   "outputs": [
    {
     "name": "stdout",
     "output_type": "stream",
     "text": [
      "[2.1, 2.5, 3.7, 3.6, 4, 5, 6]\n"
     ]
    }
   ],
   "source": [
    "#Metodo insert()\n",
    "versiones=[2.1,2.5,3.6,4,5,6]\n",
    "versiones.insert(2,3.7)\n",
    "print(versiones)"
   ]
  },
  {
   "cell_type": "code",
   "execution_count": 77,
   "id": "3a305a30",
   "metadata": {},
   "outputs": [
    {
     "name": "stdout",
     "output_type": "stream",
     "text": [
      "[2.1, 2.5, 3.7, 3.6, 4, 5]\n",
      "6\n"
     ]
    }
   ],
   "source": [
    "#MEtodo POP()\n",
    "versiones=[2.1, 2.5, 3.7, 3.6, 4, 5, 6]\n",
    "v1=versiones.pop()\n",
    "print(versiones)\n",
    "print(v1)"
   ]
  },
  {
   "cell_type": "code",
   "execution_count": 78,
   "id": "e54928aa",
   "metadata": {
    "scrolled": true
   },
   "outputs": [
    {
     "name": "stdout",
     "output_type": "stream",
     "text": [
      "3.7\n",
      "[2.1, 2.5, 3.6, 4, 5]\n"
     ]
    }
   ],
   "source": [
    "#Metodo pop(indice) con un indice como argumento\n",
    "v2=versiones.pop(2)\n",
    "print(v2)\n",
    "print(versiones)"
   ]
  },
  {
   "cell_type": "code",
   "execution_count": 92,
   "id": "5bf302a5",
   "metadata": {},
   "outputs": [
    {
     "name": "stdout",
     "output_type": "stream",
     "text": [
      "[2.1, 2.5, 3.7, 3.6, 5, 3.7]\n"
     ]
    }
   ],
   "source": [
    "#Metodo Remove\n",
    "versiones=[2.1, 2.5,3.7, 3.6, 4, 5,3.7]\n",
    "versiones.remove(4)\n",
    "print(versiones)"
   ]
  },
  {
   "cell_type": "code",
   "execution_count": 93,
   "id": "dbcfdbed",
   "metadata": {
    "scrolled": true
   },
   "outputs": [
    {
     "ename": "ValueError",
     "evalue": "list.remove(x): x not in list",
     "output_type": "error",
     "traceback": [
      "\u001b[0;31m---------------------------------------------------------------------------\u001b[0m",
      "\u001b[0;31mValueError\u001b[0m                                Traceback (most recent call last)",
      "\u001b[0;32m<ipython-input-93-d9b7f9546579>\u001b[0m in \u001b[0;36m<module>\u001b[0;34m\u001b[0m\n\u001b[1;32m      1\u001b[0m \u001b[0;31m#Valor que no se encuentra en la lista, aparece un error\u001b[0m\u001b[0;34m\u001b[0m\u001b[0;34m\u001b[0m\u001b[0;34m\u001b[0m\u001b[0m\n\u001b[0;32m----> 2\u001b[0;31m \u001b[0mversiones\u001b[0m\u001b[0;34m.\u001b[0m\u001b[0mremove\u001b[0m\u001b[0;34m(\u001b[0m\u001b[0;36m10\u001b[0m\u001b[0;34m)\u001b[0m\u001b[0;34m\u001b[0m\u001b[0;34m\u001b[0m\u001b[0m\n\u001b[0m\u001b[1;32m      3\u001b[0m \u001b[0mprint\u001b[0m\u001b[0;34m(\u001b[0m\u001b[0mversiones\u001b[0m\u001b[0;34m)\u001b[0m\u001b[0;34m\u001b[0m\u001b[0;34m\u001b[0m\u001b[0m\n",
      "\u001b[0;31mValueError\u001b[0m: list.remove(x): x not in list"
     ]
    }
   ],
   "source": [
    "#Valor que no se encuentra en la lista, aparece un error\n",
    "versiones.remove(10)\n",
    "print(versiones)"
   ]
  },
  {
   "cell_type": "code",
   "execution_count": 94,
   "id": "3909654e",
   "metadata": {},
   "outputs": [
    {
     "name": "stdout",
     "output_type": "stream",
     "text": [
      "[2.1, 2.5, 3.6, 4, 5, 6]\n",
      "[6, 5, 4, 3.6, 2.5, 2.1]\n"
     ]
    }
   ],
   "source": [
    "#Metodo REVERSE()\n",
    "versiones=[2.1,2.5,3.6,4,5,6]\n",
    "print(versiones)\n",
    "versiones.reverse()\n",
    "print(versiones)"
   ]
  },
  {
   "cell_type": "code",
   "execution_count": 96,
   "id": "31a61fb4",
   "metadata": {},
   "outputs": [
    {
     "name": "stdout",
     "output_type": "stream",
     "text": [
      "[5, 6, 1, 3, 5, 7, 2, 4, 6, 8, 45, 23, 12, 4]\n",
      "[1, 2, 3, 4, 4, 5, 5, 6, 6, 7, 8, 12, 23, 45]\n"
     ]
    }
   ],
   "source": [
    "#Metodo SORT(), ordenando de menor a mayor\n",
    "versiones=[5,6,1,3,5,7,2,4,6,8,45,23,12,4]\n",
    "print(versiones)\n",
    "versiones.sort()\n",
    "print(versiones)"
   ]
  },
  {
   "cell_type": "code",
   "execution_count": 97,
   "id": "7821e2c2",
   "metadata": {},
   "outputs": [
    {
     "name": "stdout",
     "output_type": "stream",
     "text": [
      "[5, 6, 1, 3, 5, 7, 2, 4, 6, 8, 45, 23, 12, 4]\n",
      "[45, 23, 12, 8, 7, 6, 6, 5, 5, 4, 4, 3, 2, 1]\n"
     ]
    }
   ],
   "source": [
    "#Metodo SORT(), ordenando de mayor a menor utilizando como argumento en el sorte reverse=True\n",
    "versiones=[5,6,1,3,5,7,2,4,6,8,45,23,12,4]\n",
    "print(versiones)\n",
    "versiones.sort(reverse=True)\n",
    "print(versiones)"
   ]
  },
  {
   "cell_type": "code",
   "execution_count": 100,
   "id": "bf30f3fd",
   "metadata": {},
   "outputs": [
    {
     "name": "stdout",
     "output_type": "stream",
     "text": [
      "['G', 'B', 'C', 'z', 'g', 'a', 'b', 'y', 'p']\n",
      "['B', 'C', 'G', 'a', 'b', 'g', 'p', 'y', 'z']\n"
     ]
    }
   ],
   "source": [
    "#MEtodo sort con una cadena de caracteres\n",
    "list_string=['G','B','C','z','g','a','b','y','p']\n",
    "print(list_string)\n",
    "list_string.sort()\n",
    "print(list_string)"
   ]
  },
  {
   "cell_type": "code",
   "execution_count": 102,
   "id": "f5656dcb",
   "metadata": {},
   "outputs": [
    {
     "name": "stdout",
     "output_type": "stream",
     "text": [
      "['A', 'B', 'C', 'd', 'e', 'f']\n",
      "['d', 'e', 'f']\n"
     ]
    }
   ],
   "source": [
    "#Utilizar la rebanada o slicing para cambiar valores en una lista\n",
    "lista_cad=['a','b','c','d','e','f']\n",
    "lista_cad[:3]=['A','B','C']\n",
    "print(lista_cad)\n",
    "#modiificar valores con una lista vacia\n",
    "lista_cad[:3]=[]\n",
    "print(lista_cad)\n"
   ]
  },
  {
   "cell_type": "code",
   "execution_count": 105,
   "id": "628cddbd",
   "metadata": {},
   "outputs": [
    {
     "name": "stdout",
     "output_type": "stream",
     "text": [
      "[1, 2, 3, 4, 5, 6, 7, 8]\n"
     ]
    }
   ],
   "source": [
    "#Uniendo listas con el operador +\n",
    "numeros1=[1,2,3,4]\n",
    "numeros2=[5,6,7,8]\n",
    "num=numeros1+numeros2\n",
    "print(num)"
   ]
  },
  {
   "cell_type": "code",
   "execution_count": 106,
   "id": "780eb8a6",
   "metadata": {},
   "outputs": [
    {
     "name": "stdout",
     "output_type": "stream",
     "text": [
      "[1, 2, 3, 4, 5, 6, 7, 8, 20]\n"
     ]
    }
   ],
   "source": [
    "num.append(10*2)\n",
    "print(num)"
   ]
  },
  {
   "cell_type": "code",
   "execution_count": 110,
   "id": "a3b84411",
   "metadata": {},
   "outputs": [
    {
     "name": "stdout",
     "output_type": "stream",
     "text": [
      "['Hola,', 'como', 'estas', 'tu']\n",
      "estas\n"
     ]
    }
   ],
   "source": [
    "#iterar sobre una lista\n",
    "mensaje='Hola, como estas tu'\n",
    "lista_mensaje=mensaje.split()\n",
    "print(lista_mensaje)\n",
    "print(lista_mensaje[2])"
   ]
  },
  {
   "cell_type": "code",
   "execution_count": 108,
   "id": "42f19a66",
   "metadata": {},
   "outputs": [
    {
     "name": "stdout",
     "output_type": "stream",
     "text": [
      "Hola,\n",
      "como\n",
      "estas\n",
      "tu\n"
     ]
    }
   ],
   "source": [
    "for palabra in lista_mensaje:\n",
    "    print(palabra)"
   ]
  },
  {
   "cell_type": "code",
   "execution_count": 111,
   "id": "c673a049",
   "metadata": {},
   "outputs": [
    {
     "name": "stdout",
     "output_type": "stream",
     "text": [
      "0 Hola,\n",
      "1 como\n",
      "2 estas\n",
      "3 tu\n"
     ]
    }
   ],
   "source": [
    "for indice in range(len(lista_mensaje)):\n",
    "    print(indice, lista_mensaje[indice])"
   ]
  },
  {
   "cell_type": "code",
   "execution_count": 112,
   "id": "3f9047a1",
   "metadata": {
    "scrolled": true
   },
   "outputs": [
    {
     "name": "stdout",
     "output_type": "stream",
     "text": [
      "0 Hola,\n",
      "1 como\n",
      "2 estas\n",
      "3 tu\n"
     ]
    }
   ],
   "source": [
    "for indice, valor in enumerate(lista_mensaje):\n",
    "    print(indice, valor)"
   ]
  },
  {
   "cell_type": "code",
   "execution_count": 114,
   "id": "5f001930",
   "metadata": {},
   "outputs": [
    {
     "name": "stdout",
     "output_type": "stream",
     "text": [
      "¿Cuál es tu nombre?. La respuestas es: Leonardo\n",
      "¿Cuál es tu objetivo?. La respuestas es: aprender python\n",
      "¿Cuál es tu sistema operativo?. La respuestas es: linux\n"
     ]
    }
   ],
   "source": [
    "#Iterar sobre o más secuencias\n",
    "preguntas=['nombre','objetivo','sistema operativo']\n",
    "respuestas=['Leonardo','aprender python','linux']\n",
    "\n",
    "for p, r in zip(preguntas, respuestas):\n",
    "    print('¿Cuál es tu {0}?. La respuestas es: {1}'.format(p,r))"
   ]
  },
  {
   "cell_type": "code",
   "execution_count": 124,
   "id": "858ea949",
   "metadata": {
    "scrolled": true
   },
   "outputs": [
    {
     "name": "stdout",
     "output_type": "stream",
     "text": [
      "Ramón García,7.6,Historia\n",
      "Ramón García\n",
      "7.6\n",
      "Historia\n",
      "['Ramón García', '7.6', 'Historia']\n",
      "El estudiante Ramón García saco una nota de: 7.6 en la materia de: Historia\n"
     ]
    }
   ],
   "source": [
    "#Ejercicio\n",
    "# Variables del ejercicio (no las modifiques)\n",
    "cadena_corrupta = \"airotsiH,6.7,aícraG nómaR\"\n",
    "cadena_volteada=cadena_corrupta[::-1]\n",
    "print(cadena_volteada)\n",
    "cadena_volteada.find(',')\n",
    "nombre=cadena_volteada[0:12]\n",
    "print(nombre)\n",
    "nota=cadena_volteada[13:16]\n",
    "print(nota)\n",
    "materia=cadena_volteada[17:]\n",
    "print(materia)\n",
    "lista_est=[nombre,nota,materia]\n",
    "print(lista_est)\n",
    "print(\"El estudiante {} saco una nota de: {} en la materia de: {}\".format(lista_est[0],lista_est[1],lista_est[2]))"
   ]
  },
  {
   "cell_type": "code",
   "execution_count": 131,
   "id": "f0f927a8",
   "metadata": {},
   "outputs": [
    {
     "name": "stdout",
     "output_type": "stream",
     "text": [
      "[4, 4, 4, 13]\n",
      "13\n",
      "\n",
      "\n",
      "[4, 4, 4, 13]\n",
      "13\n"
     ]
    }
   ],
   "source": [
    "#La función llamada sum(lista) devuelve una suma de todos los elementos de la lista de la matriz en la posicion 3\n",
    "matriz = [ \n",
    "    [1, 1, 1, 3],\n",
    "    [2, 2, 2, 7],\n",
    "    [3, 3, 3, 9],\n",
    "    [4, 4, 4, 13]\n",
    "]\n",
    "\n",
    "print(matriz[3])\n",
    "print(matriz[3][3])\n",
    "print(\"\\n\")\n",
    "print(matriz[-1])\n",
    "print(matriz[-1][-1])"
   ]
  },
  {
   "cell_type": "code",
   "execution_count": 132,
   "id": "09ffe1a5",
   "metadata": {},
   "outputs": [
    {
     "name": "stdout",
     "output_type": "stream",
     "text": [
      "[[1, 1, 1, 3], [2, 2, 2, 7], [3, 3, 3, 9], [4, 4, 4, 12]]\n"
     ]
    }
   ],
   "source": [
    "matriz[-1][-1]=sum(matriz[-1][:3])\n",
    "print(matriz)"
   ]
  }
 ],
 "metadata": {
  "kernelspec": {
   "display_name": "Python 3",
   "language": "python",
   "name": "python3"
  },
  "language_info": {
   "codemirror_mode": {
    "name": "ipython",
    "version": 3
   },
   "file_extension": ".py",
   "mimetype": "text/x-python",
   "name": "python",
   "nbconvert_exporter": "python",
   "pygments_lexer": "ipython3",
   "version": "3.9.1"
  }
 },
 "nbformat": 4,
 "nbformat_minor": 5
}
