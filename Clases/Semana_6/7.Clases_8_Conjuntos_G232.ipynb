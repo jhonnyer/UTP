{
 "cells": [
  {
   "cell_type": "markdown",
   "id": "189552b5",
   "metadata": {},
   "source": [
    "# Conjuntos"
   ]
  },
  {
   "cell_type": "code",
   "execution_count": 1,
   "id": "8ab3488e",
   "metadata": {},
   "outputs": [
    {
     "name": "stdout",
     "output_type": "stream",
     "text": [
      "{1, 2, 3, 4}\n",
      "<class 'set'>\n"
     ]
    }
   ],
   "source": [
    "s={1,2,3,4}\n",
    "print(s)\n",
    "print(type(s))"
   ]
  },
  {
   "cell_type": "code",
   "execution_count": 2,
   "id": "589400b7",
   "metadata": {},
   "outputs": [
    {
     "name": "stdout",
     "output_type": "stream",
     "text": [
      "{True, 23, 5.6, (5, 6), 'Hola'}\n",
      "<class 'set'>\n"
     ]
    }
   ],
   "source": [
    "s={True,'Hola',23,5.6,(5,6)}\n",
    "print(s)\n",
    "print(type(s))"
   ]
  },
  {
   "cell_type": "code",
   "execution_count": 5,
   "id": "5dec5970",
   "metadata": {},
   "outputs": [
    {
     "ename": "TypeError",
     "evalue": "unhashable type: 'list'",
     "output_type": "error",
     "traceback": [
      "\u001b[0;31m---------------------------------------------------------------------------\u001b[0m",
      "\u001b[0;31mTypeError\u001b[0m                                 Traceback (most recent call last)",
      "\u001b[0;32m<ipython-input-5-82bd2344d1cd>\u001b[0m in \u001b[0;36m<module>\u001b[0;34m\u001b[0m\n\u001b[1;32m      1\u001b[0m \u001b[0;31m#Los conjuntos no pueden contener elmentos mutable, ERROR TYPE ERROR\u001b[0m\u001b[0;34m\u001b[0m\u001b[0;34m\u001b[0m\u001b[0;34m\u001b[0m\u001b[0m\n\u001b[0;32m----> 2\u001b[0;31m \u001b[0ms\u001b[0m\u001b[0;34m=\u001b[0m\u001b[0;34m{\u001b[0m\u001b[0;32mTrue\u001b[0m\u001b[0;34m,\u001b[0m\u001b[0;34m'Hola'\u001b[0m\u001b[0;34m,\u001b[0m\u001b[0;36m23\u001b[0m\u001b[0;34m,\u001b[0m\u001b[0;36m5.6\u001b[0m\u001b[0;34m,\u001b[0m\u001b[0;34m[\u001b[0m\u001b[0;36m5\u001b[0m\u001b[0;34m,\u001b[0m\u001b[0;36m60\u001b[0m\u001b[0;34m]\u001b[0m\u001b[0;34m}\u001b[0m\u001b[0;34m\u001b[0m\u001b[0;34m\u001b[0m\u001b[0m\n\u001b[0m\u001b[1;32m      3\u001b[0m \u001b[0mprint\u001b[0m\u001b[0;34m(\u001b[0m\u001b[0ms\u001b[0m\u001b[0;34m)\u001b[0m\u001b[0;34m\u001b[0m\u001b[0;34m\u001b[0m\u001b[0m\n\u001b[1;32m      4\u001b[0m \u001b[0mprint\u001b[0m\u001b[0;34m(\u001b[0m\u001b[0mtype\u001b[0m\u001b[0;34m(\u001b[0m\u001b[0ms\u001b[0m\u001b[0;34m)\u001b[0m\u001b[0;34m)\u001b[0m\u001b[0;34m\u001b[0m\u001b[0;34m\u001b[0m\u001b[0m\n",
      "\u001b[0;31mTypeError\u001b[0m: unhashable type: 'list'"
     ]
    }
   ],
   "source": [
    "#Los conjuntos no pueden contener elmentos mutable, ERROR TYPE ERROR\n",
    "s={True,'Hola',23,5.6,[5,60]}\n",
    "print(s)\n",
    "print(type(s))"
   ]
  },
  {
   "cell_type": "code",
   "execution_count": 10,
   "id": "20abb8b3",
   "metadata": {
    "scrolled": true
   },
   "outputs": [
    {
     "name": "stdout",
     "output_type": "stream",
     "text": [
      "{}\n",
      "<class 'dict'>\n"
     ]
    }
   ],
   "source": [
    "#ESTO ES UN DICCIONARIO OJO\n",
    "s={}\n",
    "print(s)\n",
    "print(type(s))"
   ]
  },
  {
   "cell_type": "code",
   "execution_count": 11,
   "id": "5217bd6d",
   "metadata": {},
   "outputs": [
    {
     "name": "stdout",
     "output_type": "stream",
     "text": [
      "{'clave1': 'valor', 'clave2': 94}\n",
      "<class 'dict'>\n"
     ]
    }
   ],
   "source": [
    "#ESTO ES UN DICCIONARIO OJO\n",
    "s={'clave1':'valor','clave2':94}\n",
    "print(s)\n",
    "print(type(s))"
   ]
  },
  {
   "cell_type": "code",
   "execution_count": 9,
   "id": "4dbc289a",
   "metadata": {},
   "outputs": [
    {
     "name": "stdout",
     "output_type": "stream",
     "text": [
      "set()\n",
      "<class 'set'>\n"
     ]
    }
   ],
   "source": [
    "#Crear un conjunto vacio\n",
    "s=set()\n",
    "print(s)\n",
    "print(type(s))"
   ]
  },
  {
   "cell_type": "code",
   "execution_count": 14,
   "id": "5bcf29ed",
   "metadata": {},
   "outputs": [
    {
     "name": "stdout",
     "output_type": "stream",
     "text": [
      "{1, 2, 3, 4}\n",
      "{'c', 'b', 'd', 'a'}\n",
      "{0, 1, 2, 3, 4, 5, 6, 7, 8, 9}\n"
     ]
    }
   ],
   "source": [
    "#Crear un conjunto a partir de un objeto iterable\n",
    "lista=['a','b','c','d']\n",
    "s1=set([1,2,3,4])\n",
    "s2=set(lista)\n",
    "s3=set(range(10))\n",
    "print(s1)\n",
    "print(s2)\n",
    "print(s3)"
   ]
  },
  {
   "cell_type": "markdown",
   "id": "c5dbeb91",
   "metadata": {},
   "source": [
    "# Estructura funcion range()\n",
    "### range(start,stop, step)\n",
    "### range(0,10,1)"
   ]
  },
  {
   "cell_type": "code",
   "execution_count": 15,
   "id": "27f424b9",
   "metadata": {},
   "outputs": [
    {
     "data": {
      "text/plain": [
       "[1, 2, 3, 4]"
      ]
     },
     "execution_count": 15,
     "metadata": {},
     "output_type": "execute_result"
    }
   ],
   "source": [
    "# Los conjuntos no admiten elementos duplicados\n",
    "list({1,2,3,4,2})"
   ]
  },
  {
   "cell_type": "code",
   "execution_count": 17,
   "id": "a7d0abf9",
   "metadata": {},
   "outputs": [
    {
     "data": {
      "text/plain": [
       "{0, 1, 3, 4, 5, 6, 7, 8, 9}"
      ]
     },
     "execution_count": 17,
     "metadata": {},
     "output_type": "execute_result"
    }
   ],
   "source": [
    "set([1,1,1,1,3,4,5,6,7,8,9,9,0])"
   ]
  },
  {
   "cell_type": "code",
   "execution_count": 31,
   "id": "4f49f790",
   "metadata": {},
   "outputs": [
    {
     "name": "stdout",
     "output_type": "stream",
     "text": [
      "{'s', 'l', 'p', 'a', 'o', 'g', 'n', 'd', ' ', 'H', 'e', 'm', 'w', 'u', 'b', 'c', 'i', 'r', 'v'}\n",
      "s\n",
      "l\n",
      "p\n",
      "a\n",
      "o\n",
      "g\n",
      "n\n",
      "d\n",
      " \n",
      "H\n",
      "e\n",
      "m\n",
      "w\n",
      "u\n",
      "b\n",
      "c\n",
      "i\n",
      "r\n",
      "v\n",
      "['s', 'l', 'p', 'a', 'o', 'g', 'n', 'd', ' ', 'H', 'e', 'm', 'w', 'u', 'b', 'c', 'i', 'r', 'v']\n"
     ]
    }
   ],
   "source": [
    "a=set('Hola mundo bienvenidos al curso de programacion web')\n",
    "print(a)\n",
    "l=list()\n",
    "for var in a:\n",
    "    print(var)\n",
    "    l.append(var)\n",
    "print(l)"
   ]
  },
  {
   "cell_type": "code",
   "execution_count": 20,
   "id": "01d7a7dc",
   "metadata": {},
   "outputs": [
    {
     "name": "stdout",
     "output_type": "stream",
     "text": [
      "{2, 4, 5, 6, 7}\n"
     ]
    }
   ],
   "source": [
    "#Elementos duplicados se eliminan\n",
    "unicos=set([2,2,2,2,4,5,6,7])\n",
    "print(unicos)"
   ]
  },
  {
   "cell_type": "code",
   "execution_count": 22,
   "id": "b3bd2e91",
   "metadata": {},
   "outputs": [
    {
     "name": "stdout",
     "output_type": "stream",
     "text": [
      "{1, 2, 3, 9}\n",
      "1\n",
      "2\n",
      "3\n",
      "9\n"
     ]
    }
   ],
   "source": [
    "#Recorrido un conjunto mediante bucle for y se han eliminado elementos duplicados\n",
    "mi_conjunto={1,3,2,9,3,1}\n",
    "print(mi_conjunto)\n",
    "for numero in mi_conjunto:\n",
    "    print(numero)"
   ]
  },
  {
   "cell_type": "code",
   "execution_count": 27,
   "id": "219e386a",
   "metadata": {},
   "outputs": [
    {
     "name": "stdout",
     "output_type": "stream",
     "text": [
      "{1, 2, 3, 9}\n",
      "1\n",
      "2\n",
      "3\n",
      "9\n",
      "[1, 2, 3, 9]\n"
     ]
    },
    {
     "data": {
      "text/plain": [
       "9"
      ]
     },
     "execution_count": 27,
     "metadata": {},
     "output_type": "execute_result"
    }
   ],
   "source": [
    "#Recorrido un conjunto mediante bucle for y se han eliminado elementos duplicados\n",
    "mi_conjunto={1,3,2,9,3,1}\n",
    "lista=[]\n",
    "print(mi_conjunto)\n",
    "for numero in mi_conjunto:\n",
    "    print(numero)\n",
    "    lista.append(numero)\n",
    "    \n",
    "print(lista)\n",
    "lista[-1]"
   ]
  },
  {
   "cell_type": "code",
   "execution_count": 32,
   "id": "a3d0d0a6",
   "metadata": {},
   "outputs": [
    {
     "data": {
      "text/plain": [
       "['__and__',\n",
       " '__class__',\n",
       " '__class_getitem__',\n",
       " '__contains__',\n",
       " '__delattr__',\n",
       " '__dir__',\n",
       " '__doc__',\n",
       " '__eq__',\n",
       " '__format__',\n",
       " '__ge__',\n",
       " '__getattribute__',\n",
       " '__gt__',\n",
       " '__hash__',\n",
       " '__iand__',\n",
       " '__init__',\n",
       " '__init_subclass__',\n",
       " '__ior__',\n",
       " '__isub__',\n",
       " '__iter__',\n",
       " '__ixor__',\n",
       " '__le__',\n",
       " '__len__',\n",
       " '__lt__',\n",
       " '__ne__',\n",
       " '__new__',\n",
       " '__or__',\n",
       " '__rand__',\n",
       " '__reduce__',\n",
       " '__reduce_ex__',\n",
       " '__repr__',\n",
       " '__ror__',\n",
       " '__rsub__',\n",
       " '__rxor__',\n",
       " '__setattr__',\n",
       " '__sizeof__',\n",
       " '__str__',\n",
       " '__sub__',\n",
       " '__subclasshook__',\n",
       " '__xor__',\n",
       " 'add',\n",
       " 'clear',\n",
       " 'copy',\n",
       " 'difference',\n",
       " 'difference_update',\n",
       " 'discard',\n",
       " 'intersection',\n",
       " 'intersection_update',\n",
       " 'isdisjoint',\n",
       " 'issubset',\n",
       " 'issuperset',\n",
       " 'pop',\n",
       " 'remove',\n",
       " 'symmetric_difference',\n",
       " 'symmetric_difference_update',\n",
       " 'union',\n",
       " 'update']"
      ]
     },
     "execution_count": 32,
     "metadata": {},
     "output_type": "execute_result"
    }
   ],
   "source": [
    "dir(mi_conjunto)"
   ]
  },
  {
   "cell_type": "code",
   "execution_count": 34,
   "id": "e79f6173",
   "metadata": {},
   "outputs": [
    {
     "name": "stdout",
     "output_type": "stream",
     "text": [
      "{1, 2, 3, 4, 5, 7, 11}\n",
      "{1, 2, 3, 4, 5, 7, 11, 22.45}\n"
     ]
    }
   ],
   "source": [
    "#MEtodo ADD() permite añador un elemento a un conjunto\n",
    "set_mutable1=set([4,3,11,7,5,2,1,4])\n",
    "print(set_mutable1)\n",
    "set_mutable1.add(22.45)\n",
    "print(set_mutable1)"
   ]
  },
  {
   "cell_type": "code",
   "execution_count": 35,
   "id": "0d440330",
   "metadata": {},
   "outputs": [
    {
     "name": "stdout",
     "output_type": "stream",
     "text": [
      "{1, 2, 3, 4, 5, 7, 11}\n",
      "set()\n"
     ]
    }
   ],
   "source": [
    "#MEtodo clear()\n",
    "set_mutable1=set([4,3,11,7,5,2,1,4])\n",
    "print(set_mutable1)\n",
    "set_mutable1.clear()\n",
    "print(set_mutable1)\n"
   ]
  },
  {
   "cell_type": "code",
   "execution_count": 36,
   "id": "4e0a2ec5",
   "metadata": {},
   "outputs": [
    {
     "name": "stdout",
     "output_type": "stream",
     "text": [
      "{1, 2, 3, 4, 5, 7, 11}\n",
      "{1, 2, 3, 4, 5, 7, 11}\n",
      "{1, 2, 3, 4, 5, 7, 11}\n",
      "True\n"
     ]
    }
   ],
   "source": [
    "#Metodo copy()\n",
    "set_mutable1=set([4,3,11,7,5,2,1,4])\n",
    "print(set_mutable1)\n",
    "set_mutable2=set_mutable1.copy()\n",
    "print(set_mutable1)\n",
    "print(set_mutable2)\n",
    "print(set_mutable1==set_mutable2)"
   ]
  },
  {
   "cell_type": "code",
   "execution_count": 41,
   "id": "cd73dce7",
   "metadata": {},
   "outputs": [
    {
     "name": "stdout",
     "output_type": "stream",
     "text": [
      "{1, 2, 3, 4, 5, 7, 11}\n",
      "{2, 4, 5, 8, 9, 11}\n",
      "\n",
      "\n",
      "{1, 3, 7}\n",
      "\n",
      "\n",
      "{8, 9}\n"
     ]
    }
   ],
   "source": [
    "#Metodo difference()\n",
    "set_mutable1=set([4,3,11,7,5,2,1,4])\n",
    "set_mutable2=set([11,5,9,2,4,8])\n",
    "print(set_mutable1)\n",
    "print(set_mutable2)\n",
    "print('\\n')\n",
    "print(set_mutable1.difference(set_mutable2))\n",
    "print('\\n')\n",
    "print(set_mutable2.difference(set_mutable1))"
   ]
  },
  {
   "cell_type": "code",
   "execution_count": 42,
   "id": "dd550ae1",
   "metadata": {},
   "outputs": [
    {
     "name": "stdout",
     "output_type": "stream",
     "text": [
      "{1, 4}\n"
     ]
    }
   ],
   "source": [
    "a={1,2,3,4}\n",
    "b={2,3}\n",
    "c=a-b\n",
    "print(c)"
   ]
  },
  {
   "cell_type": "code",
   "execution_count": 43,
   "id": "f3779f04",
   "metadata": {},
   "outputs": [
    {
     "data": {
      "text/plain": [
       "True"
      ]
     },
     "execution_count": 43,
     "metadata": {},
     "output_type": "execute_result"
    }
   ],
   "source": [
    "#Dos conjuntos son iguales si y solo si tienen los mismos elementos\n",
    "{1,2,3}=={3,1,2}"
   ]
  },
  {
   "cell_type": "code",
   "execution_count": 44,
   "id": "ebb5a491",
   "metadata": {},
   "outputs": [
    {
     "data": {
      "text/plain": [
       "False"
      ]
     },
     "execution_count": 44,
     "metadata": {},
     "output_type": "execute_result"
    }
   ],
   "source": [
    "#Dos conjuntos son iguales si y solo si tienen los mismos elementos\n",
    "{1,2,3}=={3,1,6}"
   ]
  },
  {
   "cell_type": "code",
   "execution_count": 47,
   "id": "ce8abd59",
   "metadata": {},
   "outputs": [
    {
     "name": "stdout",
     "output_type": "stream",
     "text": [
      "{'python', 'zodb3', 'zope2', 'pytz'}\n",
      "{'python', 'pytz', 'plone', 'diazo'}\n",
      "{'zodb3', 'zope2'}\n"
     ]
    }
   ],
   "source": [
    "#Metodo difference update\n",
    "proyecto1={'python','zope2','zodb3','pytz'}\n",
    "print(proyecto1)\n",
    "proyecto2={'python','plone','diazo','pytz'}\n",
    "print(proyecto2)\n",
    "proyecto1.difference_update(proyecto2)\n",
    "print(proyecto1)"
   ]
  },
  {
   "cell_type": "code",
   "execution_count": 48,
   "id": "57b3820d",
   "metadata": {},
   "outputs": [
    {
     "data": {
      "text/plain": [
       "{'django', 'python', 'zope2'}"
      ]
     },
     "execution_count": 48,
     "metadata": {},
     "output_type": "execute_result"
    }
   ],
   "source": [
    "#Metodo discar()\n",
    "proyecto1={'python','zope2','zodb3','django'}\n",
    "proyecto1.discard('zodb3')\n",
    "proyecto1"
   ]
  },
  {
   "cell_type": "code",
   "execution_count": 50,
   "id": "6a6f4287",
   "metadata": {},
   "outputs": [
    {
     "data": {
      "text/plain": [
       "{'django', 'python', 'zope2'}"
      ]
     },
     "execution_count": 50,
     "metadata": {},
     "output_type": "execute_result"
    }
   ],
   "source": [
    "#Si el elemento no se encuentra en el conjunto no pasa nada\n",
    "proyecto1.discard('zodb3')\n",
    "proyecto1"
   ]
  },
  {
   "cell_type": "code",
   "execution_count": 51,
   "id": "5f5efde6",
   "metadata": {},
   "outputs": [
    {
     "name": "stdout",
     "output_type": "stream",
     "text": [
      "{1, 2, 4, 5, 'hola'}\n"
     ]
    }
   ],
   "source": [
    "conjunto={'hola','hola',1,2,4,5}\n",
    "print(conjunto)"
   ]
  },
  {
   "cell_type": "code",
   "execution_count": 53,
   "id": "7f2821b8",
   "metadata": {},
   "outputs": [
    {
     "name": "stdout",
     "output_type": "stream",
     "text": [
      "{1, 2, 'hola1', 4, 5, 'hola'}\n"
     ]
    }
   ],
   "source": [
    "conjunto.add('hola1')\n",
    "print(conjunto)"
   ]
  },
  {
   "cell_type": "code",
   "execution_count": 55,
   "id": "f2094c27",
   "metadata": {
    "scrolled": true
   },
   "outputs": [
    {
     "name": "stdout",
     "output_type": "stream",
     "text": [
      "{1, 2, 3, 4, 5, 7, 11}\n",
      "{2, 4, 5, 8, 9, 11}\n",
      "{2, 11, 4, 5}\n"
     ]
    }
   ],
   "source": [
    "#Metodo de intersection\n",
    "set_mutable1=set([4,3,11,7,5,2,1,4])\n",
    "set_mutable2=set([11,5,9,2,4,8])\n",
    "print(set_mutable1)\n",
    "print(set_mutable2)\n",
    "print(set_mutable1.intersection(set_mutable2))"
   ]
  },
  {
   "cell_type": "code",
   "execution_count": 56,
   "id": "2f120fe1",
   "metadata": {},
   "outputs": [
    {
     "name": "stdout",
     "output_type": "stream",
     "text": [
      "{1, 2, 3, 4, 5, 7, 11}\n",
      "{2, 4, 5, 8, 9, 11}\n",
      "{2, 11, 4, 5}\n"
     ]
    }
   ],
   "source": [
    "#Metodo de intersection\n",
    "set_mutable1=set([4,3,11,7,5,2,1,4])\n",
    "set_mutable2=set([11,5,9,2,4,8])\n",
    "print(set_mutable1)\n",
    "print(set_mutable2)\n",
    "var=set_mutable1&set_mutable2\n",
    "print(var)"
   ]
  },
  {
   "cell_type": "code",
   "execution_count": 61,
   "id": "1105bd90",
   "metadata": {
    "scrolled": true
   },
   "outputs": [
    {
     "name": "stdout",
     "output_type": "stream",
     "text": [
      "{'python', 'php', 'pytz', 'zope2'}\n",
      "{'diazo', 'z3c.form', 'python', 'php', 'plone'}\n",
      "{'python', 'php', 'django', 'plone'}\n",
      "{'python', 'php'}\n"
     ]
    }
   ],
   "source": [
    "#Metodo intersection_update() devuelve los elementos en comun\n",
    "#en la interseccion entre 2 o mas conjuntos\n",
    "#Metodo difference update\n",
    "proyecto1={'python','zope2','pytz','php'}\n",
    "print(proyecto1)\n",
    "proyecto2={'python','plone','diazo','z3c.form','php'}\n",
    "print(proyecto2)\n",
    "proyecto3={'python','plone','django','php'}\n",
    "print(proyecto3)\n",
    "\n",
    "proyecto3.intersection_update(proyecto1,proyecto2)\n",
    "print(proyecto3)"
   ]
  },
  {
   "cell_type": "code",
   "execution_count": 63,
   "id": "d260c4a8",
   "metadata": {},
   "outputs": [
    {
     "name": "stdout",
     "output_type": "stream",
     "text": [
      "{1, 2, 3, 4, 5, 7, 11}\n",
      "{2, 4, 5, 8, 9, 11}\n",
      "False\n"
     ]
    }
   ],
   "source": [
    "#Metod isdisjoint()\n",
    "set_mutable1=set([4,3,11,7,5,2,1,4])\n",
    "set_mutable2=set([11,5,9,2,4,8])\n",
    "print(set_mutable1)\n",
    "print(set_mutable2)\n",
    "print(set_mutable1.isdisjoint(set_mutable2))"
   ]
  },
  {
   "cell_type": "code",
   "execution_count": 65,
   "id": "29f739b3",
   "metadata": {},
   "outputs": [
    {
     "name": "stdout",
     "output_type": "stream",
     "text": [
      "{1, 2, 3, 4, 5, 7, 11}\n",
      "{12, 13}\n",
      "True\n"
     ]
    }
   ],
   "source": [
    "#Metod isdisjoint(), devuelve True si no hay elementos comunes en ambos conjuntos\n",
    "set_mutable1=set([4,3,11,7,5,2,1,4])\n",
    "set_mutable2=set([12,13])\n",
    "print(set_mutable1)\n",
    "print(set_mutable2)\n",
    "print(set_mutable1.isdisjoint(set_mutable2))"
   ]
  },
  {
   "cell_type": "code",
   "execution_count": 68,
   "id": "c89314cb",
   "metadata": {},
   "outputs": [
    {
     "name": "stdout",
     "output_type": "stream",
     "text": [
      "{1, 2, 3, 4, 5, 7, 11}\n",
      "{2, 4, 5, 8, 9, 11}\n",
      "{2, 11, 4, 5}\n",
      "False\n",
      "True\n"
     ]
    }
   ],
   "source": [
    "#Metodo issubset() retorna True si el conjunto mutable es un \n",
    "#subconjunto del conjunto que esta en el argumento\n",
    "set_mutable1=set([4,3,11,7,5,2,1,4])\n",
    "set_mutable2=set([11,5,9,2,4,8])\n",
    "set_mutable3=set([11,5,2,4])\n",
    "print(set_mutable1)\n",
    "print(set_mutable2)\n",
    "print(set_mutable3)\n",
    "print(set_mutable2.issubset(set_mutable1))\n",
    "print(set_mutable3.issubset(set_mutable1))"
   ]
  },
  {
   "cell_type": "code",
   "execution_count": 69,
   "id": "eaf7fad8",
   "metadata": {
    "scrolled": true
   },
   "outputs": [
    {
     "name": "stdout",
     "output_type": "stream",
     "text": [
      "{1, 2, 3, 4, 5, 7, 11}\n",
      "{2, 4, 5, 8, 9, 11}\n",
      "{2, 11, 4, 5}\n",
      "False\n",
      "True\n"
     ]
    }
   ],
   "source": [
    "#Metodo issuperset()\n",
    "set_mutable1=set([4,3,11,7,5,2,1,4])\n",
    "set_mutable2=set([11,5,9,2,4,8])\n",
    "set_mutable3=set([11,5,2,4])\n",
    "print(set_mutable1)\n",
    "print(set_mutable2)\n",
    "print(set_mutable3)\n",
    "print(set_mutable1.issuperset(set_mutable2))\n",
    "print(set_mutable1.issuperset(set_mutable3))"
   ]
  },
  {
   "cell_type": "code",
   "execution_count": 70,
   "id": "b1cc0aef",
   "metadata": {},
   "outputs": [
    {
     "name": "stdout",
     "output_type": "stream",
     "text": [
      "{'python', 'zope', 'django', 'plone'}\n",
      "{'zope', 'django', 'plone'}\n"
     ]
    }
   ],
   "source": [
    "#metodo pop()\n",
    "paquetes={'python','zope','plone','django'}\n",
    "print(paquetes)\n",
    "paquetes.pop()\n",
    "print(paquetes)"
   ]
  },
  {
   "cell_type": "code",
   "execution_count": 72,
   "id": "9360c3cf",
   "metadata": {},
   "outputs": [
    {
     "name": "stdout",
     "output_type": "stream",
     "text": [
      "{'django', 'plone'}\n",
      "{'plone'}\n",
      "set()\n"
     ]
    }
   ],
   "source": [
    "paquetes.pop()\n",
    "print(paquetes)\n",
    "paquetes.pop()\n",
    "print(paquetes)\n",
    "paquetes.pop()\n",
    "print(paquetes)\n"
   ]
  },
  {
   "cell_type": "code",
   "execution_count": 73,
   "id": "5c63ff89",
   "metadata": {},
   "outputs": [
    {
     "ename": "KeyError",
     "evalue": "'pop from an empty set'",
     "output_type": "error",
     "traceback": [
      "\u001b[0;31m---------------------------------------------------------------------------\u001b[0m",
      "\u001b[0;31mKeyError\u001b[0m                                  Traceback (most recent call last)",
      "\u001b[0;32m<ipython-input-73-6e327126ea40>\u001b[0m in \u001b[0;36m<module>\u001b[0;34m\u001b[0m\n\u001b[0;32m----> 1\u001b[0;31m \u001b[0mpaquetes\u001b[0m\u001b[0;34m.\u001b[0m\u001b[0mpop\u001b[0m\u001b[0;34m(\u001b[0m\u001b[0;34m)\u001b[0m\u001b[0;34m\u001b[0m\u001b[0;34m\u001b[0m\u001b[0m\n\u001b[0m\u001b[1;32m      2\u001b[0m \u001b[0mprint\u001b[0m\u001b[0;34m(\u001b[0m\u001b[0mpaquetes\u001b[0m\u001b[0;34m)\u001b[0m\u001b[0;34m\u001b[0m\u001b[0;34m\u001b[0m\u001b[0m\n",
      "\u001b[0;31mKeyError\u001b[0m: 'pop from an empty set'"
     ]
    }
   ],
   "source": [
    "paquetes.pop()\n",
    "print(paquetes)"
   ]
  },
  {
   "cell_type": "code",
   "execution_count": 71,
   "id": "1955fca5",
   "metadata": {
    "scrolled": true
   },
   "outputs": [
    {
     "ename": "TypeError",
     "evalue": "set.pop() takes no arguments (1 given)",
     "output_type": "error",
     "traceback": [
      "\u001b[0;31m---------------------------------------------------------------------------\u001b[0m",
      "\u001b[0;31mTypeError\u001b[0m                                 Traceback (most recent call last)",
      "\u001b[0;32m<ipython-input-71-04a64174d0d2>\u001b[0m in \u001b[0;36m<module>\u001b[0;34m\u001b[0m\n\u001b[0;32m----> 1\u001b[0;31m \u001b[0mpaquetes\u001b[0m\u001b[0;34m.\u001b[0m\u001b[0mpop\u001b[0m\u001b[0;34m(\u001b[0m\u001b[0;34m'plone'\u001b[0m\u001b[0;34m)\u001b[0m\u001b[0;34m\u001b[0m\u001b[0;34m\u001b[0m\u001b[0m\n\u001b[0m\u001b[1;32m      2\u001b[0m \u001b[0mprint\u001b[0m\u001b[0;34m(\u001b[0m\u001b[0mpaquetes\u001b[0m\u001b[0;34m)\u001b[0m\u001b[0;34m\u001b[0m\u001b[0;34m\u001b[0m\u001b[0m\n",
      "\u001b[0;31mTypeError\u001b[0m: set.pop() takes no arguments (1 given)"
     ]
    }
   ],
   "source": [
    "paquetes.pop('plone')\n",
    "print(paquetes)"
   ]
  },
  {
   "cell_type": "code",
   "execution_count": 74,
   "id": "a353594a",
   "metadata": {},
   "outputs": [
    {
     "name": "stdout",
     "output_type": "stream",
     "text": [
      "{'python', 'zope', 'django', 'plone'}\n",
      "{'python', 'zope', 'plone'}\n"
     ]
    }
   ],
   "source": [
    "#Metodo remove()\n",
    "paquetes={'python','zope','plone','django'}\n",
    "print(paquetes)\n",
    "paquetes.remove('django')\n",
    "print(paquetes)"
   ]
  },
  {
   "cell_type": "code",
   "execution_count": 76,
   "id": "61856144",
   "metadata": {},
   "outputs": [
    {
     "ename": "KeyError",
     "evalue": "'django'",
     "output_type": "error",
     "traceback": [
      "\u001b[0;31m---------------------------------------------------------------------------\u001b[0m",
      "\u001b[0;31mKeyError\u001b[0m                                  Traceback (most recent call last)",
      "\u001b[0;32m<ipython-input-76-22e140ff6c15>\u001b[0m in \u001b[0;36m<module>\u001b[0;34m\u001b[0m\n\u001b[1;32m      1\u001b[0m \u001b[0;31m#Si el elemento no se encuentra en el conjunto me va a devolver\u001b[0m\u001b[0;34m\u001b[0m\u001b[0;34m\u001b[0m\u001b[0;34m\u001b[0m\u001b[0m\n\u001b[1;32m      2\u001b[0m \u001b[0;31m#una excepcion o un error, en este caso KeyError\u001b[0m\u001b[0;34m\u001b[0m\u001b[0;34m\u001b[0m\u001b[0;34m\u001b[0m\u001b[0m\n\u001b[0;32m----> 3\u001b[0;31m \u001b[0mpaquetes\u001b[0m\u001b[0;34m.\u001b[0m\u001b[0mremove\u001b[0m\u001b[0;34m(\u001b[0m\u001b[0;34m'django'\u001b[0m\u001b[0;34m)\u001b[0m\u001b[0;34m\u001b[0m\u001b[0;34m\u001b[0m\u001b[0m\n\u001b[0m\u001b[1;32m      4\u001b[0m \u001b[0mprint\u001b[0m\u001b[0;34m(\u001b[0m\u001b[0mpaquetes\u001b[0m\u001b[0;34m)\u001b[0m\u001b[0;34m\u001b[0m\u001b[0;34m\u001b[0m\u001b[0m\n",
      "\u001b[0;31mKeyError\u001b[0m: 'django'"
     ]
    }
   ],
   "source": [
    "#Si el elemento no se encuentra en el conjunto me va a devolver \n",
    "#una excepcion o un error, en este caso KeyError\n",
    "paquetes.remove('django')\n",
    "print(paquetes)"
   ]
  },
  {
   "cell_type": "code",
   "execution_count": 78,
   "id": "55ce19ec",
   "metadata": {},
   "outputs": [
    {
     "name": "stdout",
     "output_type": "stream",
     "text": [
      "{'python', 'zope', 'plone'}\n",
      "{'python', 'zope'}\n"
     ]
    }
   ],
   "source": [
    "#MEtodo discard si el elemento no esta, no realiza nada y no modifica mi conjunto\n",
    "#Si el elemento esta, lo elimina del conjunto\n",
    "paquetes.discard('django')\n",
    "print(paquetes)\n",
    "paquetes.discard('plone')\n",
    "print(paquetes)"
   ]
  },
  {
   "cell_type": "code",
   "execution_count": 80,
   "id": "3f6029e0",
   "metadata": {},
   "outputs": [
    {
     "name": "stdout",
     "output_type": "stream",
     "text": [
      "{1, 3, 7, 8, 9}\n",
      "{1, 3, 7, 8, 9}\n"
     ]
    }
   ],
   "source": [
    "#metodo simmetric_difference()\n",
    "set_mutable1=set([4,3,11,7,5,2,1,4])\n",
    "set_mutable2=set([11,5,9,2,4,8])\n",
    "print(set_mutable1.symmetric_difference(set_mutable2))\n",
    "var=set_mutable1.symmetric_difference(set_mutable2)\n",
    "print(var)"
   ]
  },
  {
   "cell_type": "code",
   "execution_count": 84,
   "id": "a1b9b091",
   "metadata": {},
   "outputs": [
    {
     "name": "stdout",
     "output_type": "stream",
     "text": [
      "{'python', 'django', 'plone'}\n",
      "{'zope', 'pyramid', 'django'}\n",
      "\n",
      "\n",
      "{'zope', 'python', 'pyramid', 'plone'}\n"
     ]
    }
   ],
   "source": [
    "#Metodo simmetric_difference_update()\n",
    "proyecto1={'python','plone','django'}\n",
    "proyecto2={'django','zope','pyramid'}\n",
    "print(proyecto1)\n",
    "print(proyecto2)\n",
    "print('\\n')\n",
    "proyecto1.symmetric_difference_update(proyecto2)\n",
    "print(proyecto1)"
   ]
  },
  {
   "cell_type": "code",
   "execution_count": 85,
   "id": "5462d96d",
   "metadata": {},
   "outputs": [
    {
     "name": "stdout",
     "output_type": "stream",
     "text": [
      "{1, 2, 3, 4, 5, 7, 8, 9, 11}\n"
     ]
    }
   ],
   "source": [
    "#metodo Union()\n",
    "set_mutable1=set([4,3,11,7,5,2,1,4])\n",
    "set_mutable2=set([11,5,9,2,4,8])\n",
    "\n",
    "var=set_mutable1.union(set_mutable2)\n",
    "print(var)"
   ]
  },
  {
   "cell_type": "code",
   "execution_count": 86,
   "id": "e81ef1c7",
   "metadata": {},
   "outputs": [
    {
     "name": "stdout",
     "output_type": "stream",
     "text": [
      "{1, 2, 3, 4, 5, 6, 7, 8}\n"
     ]
    }
   ],
   "source": [
    "a={1,2,3,4}\n",
    "b={3,4,5,6,7,8}\n",
    "c=a|b\n",
    "print(c)"
   ]
  },
  {
   "cell_type": "code",
   "execution_count": 90,
   "id": "c6dc695b",
   "metadata": {},
   "outputs": [
    {
     "name": "stdout",
     "output_type": "stream",
     "text": [
      "{1, 5, 6}\n",
      "{3.6, 2.1, 2.5, 4}\n",
      "\n",
      "\n",
      "{1, 2.1, 3.6, 2.5, 4, 5, 6}\n"
     ]
    }
   ],
   "source": [
    "#MEtodo update\n",
    "versiones_pĺone_dev=set([5,1,6])\n",
    "print(versiones_pĺone_dev)\n",
    "versiones_plone=set([2.1,2.5,3.6,4])\n",
    "print(versiones_plone)\n",
    "versiones_plone.update(versiones_pĺone_dev)\n",
    "print('\\n')\n",
    "print(versiones_plone)\n"
   ]
  },
  {
   "cell_type": "code",
   "execution_count": 91,
   "id": "0a612718",
   "metadata": {},
   "outputs": [
    {
     "name": "stdout",
     "output_type": "stream",
     "text": [
      "{'o', 1, 2, 'm', 'u', 'l', 'n', 'd', ' ', 'H', 'a'}\n"
     ]
    }
   ],
   "source": [
    "#Metodo update()\n",
    "cadena='Hola mundo'\n",
    "conjunto={1,2}\n",
    "conjunto.update(cadena)\n",
    "print(conjunto)"
   ]
  },
  {
   "cell_type": "code",
   "execution_count": 96,
   "id": "97f5ef70",
   "metadata": {},
   "outputs": [
    {
     "name": "stdout",
     "output_type": "stream",
     "text": [
      "{'clave1': 4, 'clave2': 'hola'}\n",
      "dict_keys(['clave1', 'clave2'])\n",
      "dict_values([4, 'hola'])\n",
      "dict_items([('clave1', 4), ('clave2', 'hola')])\n"
     ]
    }
   ],
   "source": [
    "#Metodo update\n",
    "diccionario={'clave1':4,'clave2':'hola'}\n",
    "print(diccionario)\n",
    "print(diccionario.keys())\n",
    "print(diccionario.values())\n",
    "print(diccionario.items())"
   ]
  },
  {
   "cell_type": "code",
   "execution_count": 97,
   "id": "6dbab2e5",
   "metadata": {},
   "outputs": [
    {
     "name": "stdout",
     "output_type": "stream",
     "text": [
      "{'clave2', 'clave1', 'b', 'a'}\n"
     ]
    }
   ],
   "source": [
    "conjunto={'a','b'}\n",
    "conjunto.update(diccionario)\n",
    "print(conjunto)"
   ]
  },
  {
   "cell_type": "code",
   "execution_count": 98,
   "id": "cd0b8445",
   "metadata": {},
   "outputs": [
    {
     "name": "stdout",
     "output_type": "stream",
     "text": [
      "{'b', 4, 'a', 'hola'}\n"
     ]
    }
   ],
   "source": [
    "conjunto={'a','b'}\n",
    "conjunto.update(diccionario.values())\n",
    "print(conjunto)"
   ]
  },
  {
   "cell_type": "code",
   "execution_count": 99,
   "id": "c808bad0",
   "metadata": {},
   "outputs": [
    {
     "name": "stdout",
     "output_type": "stream",
     "text": [
      "{1, 3, 5, 'hola', (1, 3)}\n"
     ]
    }
   ],
   "source": [
    "conjunto={1,3,5,5,'hola',(1,3)}\n",
    "print(conjunto)\n"
   ]
  }
 ],
 "metadata": {
  "kernelspec": {
   "display_name": "Python 3",
   "language": "python",
   "name": "python3"
  },
  "language_info": {
   "codemirror_mode": {
    "name": "ipython",
    "version": 3
   },
   "file_extension": ".py",
   "mimetype": "text/x-python",
   "name": "python",
   "nbconvert_exporter": "python",
   "pygments_lexer": "ipython3",
   "version": "3.9.1"
  }
 },
 "nbformat": 4,
 "nbformat_minor": 5
}
