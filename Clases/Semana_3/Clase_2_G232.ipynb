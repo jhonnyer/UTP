{
 "cells": [
  {
   "cell_type": "markdown",
   "id": "362fceb1",
   "metadata": {},
   "source": [
    "# Titulo\n",
    "\n",
    "## Semititulo\n",
    "\n",
    "### Sub-subtitulo\n",
    "\n",
    "Texto de prueba"
   ]
  },
  {
   "cell_type": "code",
   "execution_count": 4,
   "id": "d088f275",
   "metadata": {},
   "outputs": [
    {
     "name": "stdout",
     "output_type": "stream",
     "text": [
      "Hola mundo\n"
     ]
    }
   ],
   "source": [
    "#Linea imprime mensaje hola mundo\n",
    "print(\"Hola mundo\")"
   ]
  },
  {
   "cell_type": "markdown",
   "id": "dbffb95a",
   "metadata": {},
   "source": [
    "# Bitacora del proyecto tienda\n",
    "## Definición del problema\n",
    "\n",
    "El cliente necesita un algoritmo que pueda calcular si su negocio, o sus tiendas generan beneficios o pérdidas. Tenemos acceso a los datos que maneja la tienda, tanto sus **ingresos**, como sus **gastos**.\n",
    "\n",
    "\n",
    "### Algoritmo\n",
    "\n",
    "*Inicio*\n",
    "1. Leer todos los ingresos\n",
    "2. Leer todos los gastos\n",
    "3. Si los ingresos son mayores o iguales a los gastos\n",
    "    - Calcular los beneficios= Ingresos-Gastos\n",
    "4. Si los gastos son mayores o iguales a los ingresos\n",
    "    - Calcular las perdidas=Gastos-Ingresos \n",
    "\n",
    "*Fin*\n",
    "\n",
    "### Diagrama de Flujo\n",
    "\n",
    "![Imagen](algoritmo.png)"
   ]
  },
  {
   "cell_type": "code",
   "execution_count": 6,
   "id": "178f7f80",
   "metadata": {},
   "outputs": [
    {
     "data": {
      "image/png": "[encoded data removed]",
      "text/plain": [
       "<IPython.core.display.Image object>"
      ]
     },
     "execution_count": 6,
     "metadata": {
      "image/png": {
       "height": 400,
       "width": 400
      }
     },
     "output_type": "execute_result"
    }
   ],
   "source": [
    "from IPython.display import Image\n",
    "Image(filename=\"algoritmo.png\",width=400, height=400)"
   ]
  },
  {
   "cell_type": "code",
   "execution_count": 8,
   "id": "2e6e270c",
   "metadata": {},
   "outputs": [],
   "source": [
    "x=43\n",
    "x=x+1"
   ]
  },
  {
   "cell_type": "code",
   "execution_count": 9,
   "id": "e7cb2267",
   "metadata": {},
   "outputs": [
    {
     "name": "stdout",
     "output_type": "stream",
     "text": [
      "44\n"
     ]
    }
   ],
   "source": [
    "print(x)"
   ]
  },
  {
   "cell_type": "code",
   "execution_count": 10,
   "id": "fd4164a2",
   "metadata": {},
   "outputs": [
    {
     "name": "stdout",
     "output_type": "stream",
     "text": [
      "36.25\n"
     ]
    }
   ],
   "source": [
    "# Carlos Marín\n",
    "var1 = 10\n",
    "var2 = 4\n",
    "var3 = 5.5\n",
    "var4 = 67\n",
    "varfinal = var1+var2+var3+var4/4\n",
    "print (varfinal)\n"
   ]
  },
  {
   "cell_type": "code",
   "execution_count": 12,
   "id": "a24b54a4",
   "metadata": {},
   "outputs": [
    {
     "name": "stdout",
     "output_type": "stream",
     "text": [
      "21.625\n"
     ]
    }
   ],
   "source": [
    "# Carlos Marín\n",
    "var1 = 10\n",
    "var2 = 4\n",
    "var3 = 5.5\n",
    "var4 = 67\n",
    "varfinal = (var1+var2+var3+var4)/4\n",
    "print(varfinal)\n"
   ]
  },
  {
   "cell_type": "code",
   "execution_count": 14,
   "id": "b188df35",
   "metadata": {},
   "outputs": [
    {
     "name": "stdout",
     "output_type": "stream",
     "text": [
      "21.625\n"
     ]
    }
   ],
   "source": [
    "# Juan Cañon21\n",
    "#calcule el promedio de las siguientes variables\n",
    "x = 10\n",
    "f = 4\n",
    "y = 5.5\n",
    "o = 67\n",
    "\n",
    "# promedio es igual a:\n",
    "promedio = (x+f+y+o)/4\n",
    "\n",
    "print(promedio)"
   ]
  },
  {
   "cell_type": "code",
   "execution_count": 15,
   "id": "923303e5",
   "metadata": {},
   "outputs": [
    {
     "name": "stdout",
     "output_type": "stream",
     "text": [
      "86.5\n"
     ]
    }
   ],
   "source": [
    "# Johhan camilo mogollon Campos\n",
    "var1 = 10 \n",
    "var2= 4\n",
    "var3 = 5.5\n",
    "var4 = 67\n",
    "varfinal = var1+var2+var3+var4\n",
    "print(varfinal)"
   ]
  },
  {
   "cell_type": "code",
   "execution_count": 17,
   "id": "2d5ef4e6",
   "metadata": {},
   "outputs": [
    {
     "name": "stdout",
     "output_type": "stream",
     "text": [
      "21.625\n"
     ]
    }
   ],
   "source": [
    "# leonardo jose de la cruz ardila\n",
    "var1 = 10\n",
    "var2 = 4\n",
    "var3 = 5.5\n",
    "var4 = 67\n",
    "\n",
    "varfinal = (var1+var2+var3+var4)/4\n",
    "\n",
    "print(varfinal)"
   ]
  },
  {
   "cell_type": "code",
   "execution_count": 18,
   "id": "0033cf55",
   "metadata": {},
   "outputs": [
    {
     "name": "stdout",
     "output_type": "stream",
     "text": [
      "42.0\n"
     ]
    }
   ],
   "source": [
    "# Tacsurion\n",
    "var1=21\n",
    "var2=65\n",
    "var3=79\n",
    "var4=3\n",
    "\n",
    "varfinal= (var1+var2+var3+var4)/4\n",
    "\n",
    "print(varfinal)"
   ]
  },
  {
   "cell_type": "code",
   "execution_count": 19,
   "id": "90a363d8",
   "metadata": {},
   "outputs": [
    {
     "name": "stdout",
     "output_type": "stream",
     "text": [
      "21.625\n"
     ]
    }
   ],
   "source": [
    "# William Echeverria21\n",
    "var1 = 10\n",
    "var2 = 4\n",
    "var3 = 5.5\n",
    "var4 = 67\n",
    "varfinal=(var1+var2+var3+var4)/4\n",
    "print(varfinal)"
   ]
  },
  {
   "cell_type": "code",
   "execution_count": 21,
   "id": "b639a1ca",
   "metadata": {},
   "outputs": [
    {
     "name": "stdout",
     "output_type": "stream",
     "text": [
      "21.625\n"
     ]
    }
   ],
   "source": [
    "# Juan David Franco Salinas\n",
    "var1=10\n",
    "var2=4\n",
    "var3=5.5\n",
    "var4=67\n",
    "\n",
    "promedio=(var1+var2+var3+var4)/4\n",
    "print(promedio)\n"
   ]
  },
  {
   "cell_type": "code",
   "execution_count": 22,
   "id": "85ea1156",
   "metadata": {},
   "outputs": [
    {
     "name": "stdout",
     "output_type": "stream",
     "text": [
      "21.625\n"
     ]
    }
   ],
   "source": [
    "# MIGUENIGMERE JÑ\n",
    "var1=10\n",
    "var2=4\n",
    "var3=5.5\n",
    "var4=67\n",
    "varfinal=var1+var2+var3+var4\n",
    "promedio=varfinal/4\n",
    "print(promedio)"
   ]
  },
  {
   "cell_type": "code",
   "execution_count": 23,
   "id": "4f4202d0",
   "metadata": {},
   "outputs": [
    {
     "name": "stdout",
     "output_type": "stream",
     "text": [
      "21.625\n"
     ]
    }
   ],
   "source": [
    "# Carlos Marín\n",
    "var1 = 10\n",
    "var2 = 4\n",
    "var3 = 5.5\n",
    "var4 = 67\n",
    "varfinal = (var1+var2+var3+var4)/4\n",
    "\n",
    "print (varfinal)"
   ]
  },
  {
   "cell_type": "code",
   "execution_count": 25,
   "id": "d057a13b",
   "metadata": {},
   "outputs": [
    {
     "name": "stdout",
     "output_type": "stream",
     "text": [
      "21.625\n"
     ]
    }
   ],
   "source": [
    "# Aura aleans\n",
    "Var1 = 10 \n",
    "Var2 = 4\n",
    "Var3 = 5.5\n",
    "Var4 = 67 \n",
    " \n",
    "Varfinal = var1+var2+var3+var4 \n",
    "promedio=Varfinal/4\n",
    "print(promedio)"
   ]
  },
  {
   "cell_type": "markdown",
   "id": "72cecede",
   "metadata": {},
   "source": [
    "1. ()\n",
    "2. multiplicacion/division\n",
    "3. Suma/resta"
   ]
  }
 ],
 "metadata": {
  "kernelspec": {
   "display_name": "Python 3",
   "language": "python",
   "name": "python3"
  },
  "language_info": {
   "codemirror_mode": {
    "name": "ipython",
    "version": 3
   },
   "file_extension": ".py",
   "mimetype": "text/x-python",
   "name": "python",
   "nbconvert_exporter": "python",
   "pygments_lexer": "ipython3",
   "version": "3.9.1"
  }
 },
 "nbformat": 4,
 "nbformat_minor": 5
}
