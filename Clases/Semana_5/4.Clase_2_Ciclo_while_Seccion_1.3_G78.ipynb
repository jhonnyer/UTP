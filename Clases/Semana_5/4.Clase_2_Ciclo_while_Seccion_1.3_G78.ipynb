{
 "cells": [
  {
   "cell_type": "code",
   "execution_count": 6,
   "id": "818f9539",
   "metadata": {},
   "outputs": [
    {
     "name": "stdout",
     "output_type": "stream",
     "text": [
      "5\n",
      "4\n",
      "3\n",
      "2\n",
      "1\n",
      "Despegue\n"
     ]
    }
   ],
   "source": [
    "n=5 # VARIABLE DE ITERACION que decrementa\n",
    "while n>0:\n",
    "    print(n)\n",
    "    #n=n-1\n",
    "    n-=1\n",
    "print(\"Despegue\")"
   ]
  },
  {
   "cell_type": "code",
   "execution_count": 7,
   "id": "67ed5d6a",
   "metadata": {},
   "outputs": [
    {
     "name": "stdout",
     "output_type": "stream",
     "text": [
      "0\n",
      "1\n",
      "2\n",
      "3\n",
      "4\n",
      "5\n",
      "Despegue\n"
     ]
    }
   ],
   "source": [
    "n=0 # VARIABLE DE ITERACION que incrementa hasta que la condicion sea falsa\n",
    "while n<=5:\n",
    "    print(n)\n",
    "    #n=n+1\n",
    "    n+=1\n",
    "print(\"Despegue\")"
   ]
  },
  {
   "cell_type": "code",
   "execution_count": 9,
   "id": "ff4295ae",
   "metadata": {},
   "outputs": [
    {
     "name": "stdout",
     "output_type": "stream",
     "text": [
      "0\n",
      "1\n",
      "2\n",
      "3\n",
      "4\n",
      "5\n",
      "Valor variable n:  6\n",
      "Despegue\n"
     ]
    }
   ],
   "source": [
    "n=0 # VARIABLE DE ITERACION que incrementa hasta que la condicion sea falsa\n",
    "while n<=5:\n",
    "    print(n)\n",
    "    n+=1\n",
    "else:\n",
    "    print(\"Valor variable n: \",n)\n",
    "    print(\"Despegue\")"
   ]
  },
  {
   "cell_type": "code",
   "execution_count": 4,
   "id": "421396e6",
   "metadata": {},
   "outputs": [
    {
     "name": "stdout",
     "output_type": "stream",
     "text": [
      "5\n",
      "Despegue\n",
      "4\n",
      "Despegue\n",
      "3\n",
      "Despegue\n",
      "2\n",
      "Despegue\n",
      "1\n"
     ]
    }
   ],
   "source": [
    "n=5\n",
    "if n>0:\n",
    "    print(n)\n",
    "    n=n-1\n",
    "print(\"Despegue\")\n",
    "\n",
    "if n>0:\n",
    "    print(n)\n",
    "    n=n-1\n",
    "print(\"Despegue\")\n",
    "\n",
    "if n>0:\n",
    "    print(n)\n",
    "    n=n-1\n",
    "print(\"Despegue\")\n",
    "\n",
    "if n>0:\n",
    "    print(n)\n",
    "    n=n-1\n",
    "print(\"Despegue\")\n",
    "\n",
    "print(n)"
   ]
  },
  {
   "cell_type": "code",
   "execution_count": 11,
   "id": "d44ead35",
   "metadata": {},
   "outputs": [
    {
     "data": {
      "text/plain": [
       "720"
      ]
     },
     "execution_count": 11,
     "metadata": {},
     "output_type": "execute_result"
    }
   ],
   "source": [
    "#Factorial de un numero\n",
    "#Factorial del numero 6\n",
    "1*2*3*4*5*6"
   ]
  },
  {
   "cell_type": "code",
   "execution_count": 14,
   "id": "1b1597aa",
   "metadata": {},
   "outputs": [
    {
     "name": "stdout",
     "output_type": "stream",
     "text": [
      "Variable resultado temporal: 2; numero actual 3\n",
      "Variable resultado temporal: 6; numero actual 4\n",
      "Variable resultado temporal: 24; numero actual 5\n",
      "Variable resultado temporal: 120; numero actual 6\n",
      "Variable resultado temporal: 720; numero actual 7\n"
     ]
    },
    {
     "data": {
      "text/plain": [
       "720"
      ]
     },
     "execution_count": 14,
     "metadata": {},
     "output_type": "execute_result"
    }
   ],
   "source": [
    "#Iteracion 1: Resultado=(1*2=2); Numero_actual=3; Iteracion 2: Resultado=6\n",
    "def factorial(n:int)->int:\n",
    "    resultado=1\n",
    "    numero_actual=2\n",
    "    while numero_actual<=n:\n",
    "        resultado=resultado*numero_actual\n",
    "        numero_actual+=1\n",
    "        print(\"Variable resultado temporal: {}; numero actual {}\".format(resultado,numero_actual))\n",
    "    return resultado\n",
    "\n",
    "factorial(6)"
   ]
  },
  {
   "cell_type": "code",
   "execution_count": 16,
   "id": "5b925503",
   "metadata": {},
   "outputs": [
    {
     "name": "stdout",
     "output_type": "stream",
     "text": [
      "Variable resultado temporal: 1; numero actual 2\n",
      "Variable resultado temporal: 2; numero actual 3\n",
      "Variable resultado temporal: 6; numero actual 4\n",
      "Variable resultado temporal: 24; numero actual 5\n",
      "Variable resultado temporal: 120; numero actual 6\n",
      "Variable resultado temporal: 720; numero actual 7\n"
     ]
    },
    {
     "data": {
      "text/plain": [
       "720"
      ]
     },
     "execution_count": 16,
     "metadata": {},
     "output_type": "execute_result"
    }
   ],
   "source": [
    "def factorial(n:int)->int:\n",
    "    resultado=1\n",
    "    numero_actual=1\n",
    "    while not numero_actual>n:\n",
    "        resultado=resultado*numero_actual\n",
    "        numero_actual+=1\n",
    "        print(\"Variable resultado temporal: {}; numero actual {}\".format(resultado,numero_actual))\n",
    "    return resultado\n",
    "factorial(6)"
   ]
  },
  {
   "cell_type": "code",
   "execution_count": 29,
   "id": "3a2cf0f5",
   "metadata": {},
   "outputs": [
    {
     "name": "stdout",
     "output_type": "stream",
     "text": [
      "1\n",
      "2\n",
      "3\n",
      "4\n",
      "5\n",
      "6\n",
      "7\n",
      "8\n",
      "9\n",
      "Terminar\n"
     ]
    }
   ],
   "source": [
    "i=1 #Variable de iteracion\n",
    "while i!=10:\n",
    "    print(i)\n",
    "    i+=1\n",
    "print(\"Terminar\")"
   ]
  },
  {
   "cell_type": "code",
   "execution_count": 31,
   "id": "208392c2",
   "metadata": {},
   "outputs": [
    {
     "name": "stdout",
     "output_type": "stream",
     "text": [
      "3\n",
      "5\n",
      "7\n",
      "9\n",
      "Terminar\n"
     ]
    }
   ],
   "source": [
    "i=1 #Variable de iteracion\n",
    "while i!=10:\n",
    "    i+=2\n",
    "    print(i)\n",
    "    if i==9:\n",
    "        break\n",
    "print(\"Terminar\")"
   ]
  },
  {
   "cell_type": "code",
   "execution_count": 20,
   "id": "f679675a",
   "metadata": {},
   "outputs": [
    {
     "name": "stdout",
     "output_type": "stream",
     "text": [
      "Ingrese un numero que sea multiplo de 5: 6\n",
      "Ingrese un numero que sea multiplo de 5: 7\n",
      "Ingrese un numero que sea multiplo de 5: 8\n",
      "Ingrese un numero que sea multiplo de 5: 9\n",
      "Ingrese un numero que sea multiplo de 5: 3\n",
      "Ingrese un numero que sea multiplo de 5: 2\n",
      "Ingrese un numero que sea multiplo de 5: 6\n",
      "Ingrese un numero que sea multiplo de 5: 2\n",
      "Ingrese un numero que sea multiplo de 5: 25\n",
      "El número digitado 25 es multiplo de 5\n"
     ]
    }
   ],
   "source": [
    "numero=int(input(\"Ingrese un numero que sea multiplo de 5: \"))\n",
    "while numero%5!=0:\n",
    "    numero=int(input(\"Ingrese un numero que sea multiplo de 5: \"))\n",
    "else:\n",
    "    print(\"El número digitado \"+str(numero)+ \" es multiplo de 5\")"
   ]
  },
  {
   "cell_type": "code",
   "execution_count": 23,
   "id": "f3abe48e",
   "metadata": {},
   "outputs": [
    {
     "name": "stdout",
     "output_type": "stream",
     "text": [
      "Introduzca la nota de un estudiante (-1 para salir): \n",
      "4\n",
      "Introduzca la nota de un estudiante (-1 para salir): \n",
      "-1\n",
      "Promedio de notas del grado escolar es: 4.0\n"
     ]
    }
   ],
   "source": [
    "#Ejemplo notas\n",
    "promedio, total, contar= 0.0, 0, 0\n",
    "print(\"Introduzca la nota de un estudiante (-1 para salir): \")\n",
    "grado=int(input())\n",
    "while grado!=-1:\n",
    "    total=total+grado\n",
    "    contar+=1\n",
    "    #contar=contar+1\n",
    "    print(\"Introduzca la nota de un estudiante (-1 para salir): \")\n",
    "    grado=int(input())\n",
    "promedio=total/contar\n",
    "print(\"Promedio de notas del grado escolar es: \"+str(promedio))\n"
   ]
  },
  {
   "cell_type": "code",
   "execution_count": 24,
   "id": "a1530e8a",
   "metadata": {},
   "outputs": [
    {
     "name": "stdout",
     "output_type": "stream",
     "text": [
      "Introduzca la nota de un estudiante (-1 para salir): 5\n",
      "Introduzca la nota de un estudiante (-1 para salir): 4\n",
      "Introduzca la nota de un estudiante (-1 para salir): 3\n",
      "Introduzca la nota de un estudiante (-1 para salir): -1\n",
      "Promedio de notas del grado escolar es: 4.0\n"
     ]
    }
   ],
   "source": [
    "#Ejemplo notas, ciclo while y sentencia else\n",
    "promedio, total, contar= 0.0, 0, 0\n",
    "mensaje=\"Introduzca la nota de un estudiante (-1 para salir): \"\n",
    "grado=int(input(mensaje))\n",
    "while grado!=-1:\n",
    "    total=total+grado\n",
    "    contar+=1\n",
    "    grado=int(input(mensaje))\n",
    "else:\n",
    "    promedio=total/contar\n",
    "    print(\"Promedio de notas del grado escolar es: \"+str(promedio))"
   ]
  },
  {
   "cell_type": "code",
   "execution_count": 26,
   "id": "072e81cb",
   "metadata": {},
   "outputs": [
    {
     "name": "stdout",
     "output_type": "stream",
     "text": [
      "1\n",
      "1\n",
      "2\n",
      "3\n",
      "5\n",
      "8\n",
      "13\n",
      "21\n",
      "34\n",
      "55\n",
      "89\n"
     ]
    }
   ],
   "source": [
    "#Sucesion de Finobacci\n",
    "# a  b\n",
    "# 0, 1\n",
    "# 1  1\n",
    "# 1  2\n",
    "# 2  3\n",
    "# 3  5\n",
    "a,b=0,1\n",
    "while b<100:\n",
    "    print(b)\n",
    "    a,b=b,a+b\n"
   ]
  },
  {
   "cell_type": "code",
   "execution_count": 28,
   "id": "48e2c7bd",
   "metadata": {},
   "outputs": [
    {
     "name": "stdout",
     "output_type": "stream",
     "text": [
      "c vale  1\n",
      "c vale  2\n",
      "El bucle ha sido roto cuando la variable c, equivale al valor de:  3\n",
      "Fin del ciclo\n"
     ]
    }
   ],
   "source": [
    "#Sentencia break, romper un bucle si una condicion se cumple\n",
    "c=0\n",
    "while c<=5:\n",
    "    c+=1\n",
    "    if c==3: #True\n",
    "        print(\"El bucle ha sido roto cuando la variable c, equivale al valor de: \",c)\n",
    "        break\n",
    "    print(\"c vale \",c)\n",
    "else:\n",
    "    print(\"Se ha completado la iteracion, y el valor de c es: \",c)\n",
    "\n",
    "print(\"Fin del ciclo\")"
   ]
  },
  {
   "cell_type": "code",
   "execution_count": 34,
   "id": "931278be",
   "metadata": {},
   "outputs": [
    {
     "name": "stdout",
     "output_type": "stream",
     "text": [
      "c vale  1\n",
      "c vale  2\n",
      "El bucle ha sido roto cuando la variable c, equivale al valor de:  3\n",
      "c vale  4\n",
      "c vale  5\n",
      "c vale  6\n",
      "Se ha completado la iteracion, y el valor de c es:  6\n",
      "Fin del ciclo\n"
     ]
    }
   ],
   "source": [
    "#Sentencia CONTINUE, que permite romper el ciclo si se cumple una condicion, y continuar en la siguiente iteracion\n",
    "c=0\n",
    "while c<=5:\n",
    "    c+=1\n",
    "    if c==3: #True\n",
    "        print(\"El bucle ha sido roto cuando la variable c, equivale al valor de: \",c)\n",
    "        continue\n",
    "    print(\"c vale \",c)\n",
    "else:\n",
    "    print(\"Se ha completado la iteracion, y el valor de c es: \",c)\n",
    "\n",
    "print(\"Fin del ciclo\")"
   ]
  },
  {
   "cell_type": "code",
   "execution_count": 36,
   "id": "1aac5318",
   "metadata": {},
   "outputs": [
    {
     "name": "stdout",
     "output_type": "stream",
     "text": [
      "c vale  1\n",
      "c vale  2\n",
      "El bucle ha sido roto cuando la variable c, equivale al valor de:  3\n",
      "El bucle ha sido roto cuando la variable c, equivale al valor de:  4\n",
      "c vale  5\n",
      "c vale  6\n",
      "Se ha completado la iteracion, y el valor de c es:  6\n",
      "Fin del ciclo\n"
     ]
    }
   ],
   "source": [
    "#Ciclo while, con condicion if y continue para romper el ciclo\n",
    "c=0\n",
    "while c<=5:\n",
    "    c+=1\n",
    "    if c==3 or c==4: #True\n",
    "        print(\"El bucle ha sido roto cuando la variable c, equivale al valor de: \",c)\n",
    "        continue\n",
    "    print(\"c vale \",c)\n",
    "else:\n",
    "    print(\"Se ha completado la iteracion, y el valor de c es: \",c)\n",
    "\n",
    "print(\"Fin del ciclo\")"
   ]
  },
  {
   "cell_type": "code",
   "execution_count": 37,
   "id": "a3d68a78",
   "metadata": {},
   "outputs": [
    {
     "name": "stdout",
     "output_type": "stream",
     "text": [
      "Bienvenido al menú interactivo\n",
      " ¿Qué función quieres realizar?. Escribe una opción\n",
      "    1). Saludar\n",
      "    2). Sumar dos números\n",
      "    3). Salir\n",
      "sadasd\n",
      "Comando desconocido, vuelve a introducir una opción \n",
      "\n",
      " ¿Qué función quieres realizar?. Escribe una opción\n",
      "    1). Saludar\n",
      "    2). Sumar dos números\n",
      "    3). Salir\n",
      "asdasd\n",
      "Comando desconocido, vuelve a introducir una opción \n",
      "\n",
      " ¿Qué función quieres realizar?. Escribe una opción\n",
      "    1). Saludar\n",
      "    2). Sumar dos números\n",
      "    3). Salir\n",
      "sadasd\n",
      "Comando desconocido, vuelve a introducir una opción \n",
      "\n",
      " ¿Qué función quieres realizar?. Escribe una opción\n",
      "    1). Saludar\n",
      "    2). Sumar dos números\n",
      "    3). Salir\n",
      "asdasd\n",
      "Comando desconocido, vuelve a introducir una opción \n",
      "\n",
      " ¿Qué función quieres realizar?. Escribe una opción\n",
      "    1). Saludar\n",
      "    2). Sumar dos números\n",
      "    3). Salir\n",
      "asdasd\n",
      "Comando desconocido, vuelve a introducir una opción \n",
      "\n",
      " ¿Qué función quieres realizar?. Escribe una opción\n",
      "    1). Saludar\n",
      "    2). Sumar dos números\n",
      "    3). Salir\n",
      "1\n",
      "Hola, bienvenido al curso de fundamentos de programación \n",
      "\n",
      " ¿Qué función quieres realizar?. Escribe una opción\n",
      "    1). Saludar\n",
      "    2). Sumar dos números\n",
      "    3). Salir\n",
      "2\n",
      "Introzca el primer número a sumar: 10\n",
      "Introzca el segundo número a sumar: 20\n",
      "El resultado de la suma de 10.0+20.0 es: 30.0\n",
      " ¿Qué función quieres realizar?. Escribe una opción\n",
      "    1). Saludar\n",
      "    2). Sumar dos números\n",
      "    3). Salir\n",
      "sasdsd\n",
      "Comando desconocido, vuelve a introducir una opción \n",
      "\n",
      " ¿Qué función quieres realizar?. Escribe una opción\n",
      "    1). Saludar\n",
      "    2). Sumar dos números\n",
      "    3). Salir\n",
      "2\n",
      "Introzca el primer número a sumar: 12\n",
      "Introzca el segundo número a sumar: 23\n",
      "El resultado de la suma de 12.0+23.0 es: 35.0\n",
      " ¿Qué función quieres realizar?. Escribe una opción\n",
      "    1). Saludar\n",
      "    2). Sumar dos números\n",
      "    3). Salir\n",
      "3\n",
      "Hasta luego, fin del menú interactivo, un placer ayudarte \n",
      "\n"
     ]
    }
   ],
   "source": [
    "#Ejemplo menú interactivo con ciclo while. \n",
    "#elif: es equivalente a decir \"sino si\"\n",
    "print(\"Bienvenido al menú interactivo\")\n",
    "while True:\n",
    "    print(\"\"\" ¿Qué función quieres realizar?. Escribe una opción\n",
    "    1). Saludar\n",
    "    2). Sumar dos números\n",
    "    3). Salir\"\"\")\n",
    "    opcion=input()\n",
    "    if opcion=='1':\n",
    "        print(\"Hola, bienvenido al curso de fundamentos de programación \\n\")\n",
    "    elif opcion=='2':\n",
    "        n1=float(input(\"Introzca el primer número a sumar: \"))\n",
    "        n2=float(input(\"Introzca el segundo número a sumar: \"))\n",
    "        print(\"El resultado de la suma de {}+{} es: {}\".format(n1,n2,n1+n2))\n",
    "    elif opcion=='3':\n",
    "        print(\"Hasta luego, fin del menú interactivo, un placer ayudarte \\n\")\n",
    "        break\n",
    "    else:\n",
    "        print(\"Comando desconocido, vuelve a introducir una opción \\n\")"
   ]
  },
  {
   "cell_type": "code",
   "execution_count": 38,
   "id": "c3c31d3f",
   "metadata": {},
   "outputs": [
    {
     "name": "stdout",
     "output_type": "stream",
     "text": [
      "Introduzca el primer número4\n",
      "Introduzca el segundo número5\n",
      "Elige una opcion que quieras realizar\n",
      "    1). Sumar dos números\n",
      "    2). Restar los dos números ingresado\n",
      "    3). Multiplicar los dos números\n",
      "    4). Salir de la aplicacion\n",
      "    \n",
      "1\n",
      "La suma de 4.0+5.0 es: 9.0\n",
      "Elige una opcion que quieras realizar\n",
      "    1). Sumar dos números\n",
      "    2). Restar los dos números ingresado\n",
      "    3). Multiplicar los dos números\n",
      "    4). Salir de la aplicacion\n",
      "    \n",
      "2\n",
      "La resta de 4.0-5.0 es: -1.0\n",
      "Elige una opcion que quieras realizar\n",
      "    1). Sumar dos números\n",
      "    2). Restar los dos números ingresado\n",
      "    3). Multiplicar los dos números\n",
      "    4). Salir de la aplicacion\n",
      "    \n",
      "3\n",
      "La multiplicación de 4.0*5.0 es: 20.0\n",
      "Elige una opcion que quieras realizar\n",
      "    1). Sumar dos números\n",
      "    2). Restar los dos números ingresado\n",
      "    3). Multiplicar los dos números\n",
      "    4). Salir de la aplicacion\n",
      "    \n",
      "4\n",
      "Fin de la aplicación\n"
     ]
    }
   ],
   "source": [
    "#Calculadora\n",
    "n1=float(input(\"Introduzca el primer número\"))\n",
    "n2=float(input(\"Introduzca el segundo número\"))\n",
    "while True:\n",
    "    print(\"\"\"Elige una opcion que quieras realizar\n",
    "    1). Sumar dos números\n",
    "    2). Restar los dos números ingresado\n",
    "    3). Multiplicar los dos números\n",
    "    4). Salir de la aplicacion\n",
    "    \"\"\")\n",
    "    opcion=input()\n",
    "    if opcion=='1':\n",
    "        suma=n1+n2\n",
    "        print(\"La suma de {}+{} es: {}\".format(n1,n2,suma))\n",
    "    elif opcion=='2':\n",
    "        resta=n1-n2\n",
    "        print(\"La resta de {}-{} es: {}\".format(n1,n2,resta))\n",
    "    elif opcion=='3':\n",
    "        multiplicacion=n1*n2\n",
    "        print(\"La multiplicación de {}*{} es: {}\".format(n1,n2,multiplicacion))\n",
    "    elif opcion=='4':\n",
    "        print(\"Fin de la aplicación\")\n",
    "        break\n",
    "    else:\n",
    "        print(\"Comando desconocido, vuelve a ingresar una opción\")\n",
    "    "
   ]
  }
 ],
 "metadata": {
  "kernelspec": {
   "display_name": "Python 3",
   "language": "python",
   "name": "python3"
  },
  "language_info": {
   "codemirror_mode": {
    "name": "ipython",
    "version": 3
   },
   "file_extension": ".py",
   "mimetype": "text/x-python",
   "name": "python",
   "nbconvert_exporter": "python",
   "pygments_lexer": "ipython3",
   "version": "3.9.1"
  }
 },
 "nbformat": 4,
 "nbformat_minor": 5
}
