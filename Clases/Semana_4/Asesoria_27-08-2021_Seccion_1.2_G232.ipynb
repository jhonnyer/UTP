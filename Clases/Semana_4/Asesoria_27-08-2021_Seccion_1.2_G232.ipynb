{
 "cells": [
  {
   "cell_type": "code",
   "execution_count": 21,
   "id": "a2b9bb25",
   "metadata": {},
   "outputs": [
    {
     "name": "stdout",
     "output_type": "stream",
     "text": [
      "5\n",
      "10\n",
      "Variable var:  5\n",
      "Variable var_1:  Gol\n",
      "Variable var_f 12.9\n",
      "<class 'int'>\n",
      "<class 'str'>\n",
      "<class 'float'>\n",
      "12\n",
      "12.0\n",
      "10.2\n",
      "<class 'float'>\n",
      "10\n",
      "<class 'int'>\n"
     ]
    },
    {
     "ename": "ValueError",
     "evalue": "could not convert string to float: 'Hola'",
     "output_type": "error",
     "traceback": [
      "\u001b[0;31m---------------------------------------------------------------------------\u001b[0m",
      "\u001b[0;31mValueError\u001b[0m                                Traceback (most recent call last)",
      "\u001b[0;32m<ipython-input-21-d80dc084715c>\u001b[0m in \u001b[0;36m<module>\u001b[0;34m\u001b[0m\n\u001b[1;32m     38\u001b[0m \u001b[0;31m#FInalmente, nosotros no podemos convertir una letra o simbolo de tipo string a un tipo entero o flotante\u001b[0m\u001b[0;34m\u001b[0m\u001b[0;34m\u001b[0m\u001b[0;34m\u001b[0m\u001b[0m\n\u001b[1;32m     39\u001b[0m \u001b[0mcad1\u001b[0m\u001b[0;34m=\u001b[0m\u001b[0;34m\"Hola\"\u001b[0m\u001b[0;34m\u001b[0m\u001b[0;34m\u001b[0m\u001b[0m\n\u001b[0;32m---> 40\u001b[0;31m \u001b[0mcad1\u001b[0m\u001b[0;34m=\u001b[0m\u001b[0mfloat\u001b[0m\u001b[0;34m(\u001b[0m\u001b[0mcad1\u001b[0m\u001b[0;34m)\u001b[0m\u001b[0;34m\u001b[0m\u001b[0;34m\u001b[0m\u001b[0m\n\u001b[0m\u001b[1;32m     41\u001b[0m \u001b[0mprint\u001b[0m\u001b[0;34m(\u001b[0m\u001b[0mcad1\u001b[0m\u001b[0;34m)\u001b[0m\u001b[0;34m\u001b[0m\u001b[0;34m\u001b[0m\u001b[0m\n",
      "\u001b[0;31mValueError\u001b[0m: could not convert string to float: 'Hola'"
     ]
    }
   ],
   "source": [
    "#Variable y los nombres de las funciones tienen las mismas reglas para ser definidas o declaradas\n",
    "\n",
    "#Forma correcta de declarar una variable\n",
    "Var=10\n",
    "var=5\n",
    "print(var)\n",
    "print(Var)\n",
    "\n",
    "var_1=\"Gol\"\n",
    "var_f=12.9\n",
    "print(\"Variable var: \",var)\n",
    "print(\"Variable var_1: \",var_1)\n",
    "print(\"Variable var_f {}\".format(var_f))\n",
    "print(type(var))\n",
    "print(type(var_1))\n",
    "print(type(var_f))\n",
    "\n",
    "\n",
    "#Podemos convertir una variable de tipo flotante  a un entero \n",
    "v1=int(var_f)\n",
    "print(v1)\n",
    "\n",
    "#Pdemos convertir de un entero a un flotante\n",
    "v1=float(v1)\n",
    "print(v1)\n",
    "\n",
    "#Podemos convertir de un string a un flotante o a un entero\n",
    "cad='10.2'\n",
    "cad=float(cad)\n",
    "print(cad)\n",
    "print(type(cad))\n",
    "\n",
    "cad='10'\n",
    "cad=int(cad)\n",
    "print(cad)\n",
    "print(type(cad))\n",
    "\n",
    "#FInalmente, nosotros no podemos convertir una letra o simbolo de tipo string a un tipo entero o flotante\n",
    "cad1=\"Hola\"\n",
    "cad1=float(cad1)\n",
    "print(cad1)\n"
   ]
  },
  {
   "cell_type": "code",
   "execution_count": 18,
   "id": "052c0ce9",
   "metadata": {},
   "outputs": [
    {
     "name": "stdout",
     "output_type": "stream",
     "text": [
      "12.98\n"
     ]
    }
   ],
   "source": [
    "#Redondear un  numero flotante con dos cifras\n",
    "flotante=12.978798\n",
    "flotante=\"{:.2f}\".format(flotante)\n",
    "print(flotante)\n"
   ]
  },
  {
   "cell_type": "code",
   "execution_count": 19,
   "id": "71124b46",
   "metadata": {},
   "outputs": [
    {
     "name": "stdout",
     "output_type": "stream",
     "text": [
      "45\n"
     ]
    }
   ],
   "source": [
    "#Redondear un  numero flotante a un entero\n",
    "flotante1=45.4343434\n",
    "flotante1=round(flotante1)\n",
    "print(flotante1)"
   ]
  },
  {
   "cell_type": "markdown",
   "id": "a6edc2f4",
   "metadata": {},
   "source": [
    "# Funciones"
   ]
  },
  {
   "cell_type": "code",
   "execution_count": 25,
   "id": "682be299",
   "metadata": {},
   "outputs": [
    {
     "name": "stdout",
     "output_type": "stream",
     "text": [
      "Hola, buen dia\n"
     ]
    }
   ],
   "source": [
    "#Definicion de una funcion sin parametros\n",
    "def saludo():\n",
    "    print(\"Hola, buen dia\")\n",
    "\n",
    "saludo()"
   ]
  },
  {
   "cell_type": "code",
   "execution_count": 26,
   "id": "3c8e83d6",
   "metadata": {},
   "outputs": [
    {
     "name": "stdout",
     "output_type": "stream",
     "text": [
      "Hola, buen dia\n",
      "20\n"
     ]
    }
   ],
   "source": [
    "#Definicion de una funcion sin parametros, pero con un retorno\n",
    "def saludo():\n",
    "    print(\"Hola, buen dia\")\n",
    "    c=10*2\n",
    "    return c \n",
    "\n",
    "var_ext=saludo()\n",
    "print(var_ext)"
   ]
  },
  {
   "cell_type": "code",
   "execution_count": 27,
   "id": "c7360ef4",
   "metadata": {},
   "outputs": [
    {
     "name": "stdout",
     "output_type": "stream",
     "text": [
      "Hola, buen dia\n",
      "20\n",
      "None\n"
     ]
    }
   ],
   "source": [
    "#Definicion de una funcion sin parametros, sin retorno\n",
    "def saludo():\n",
    "    print(\"Hola, buen dia\")\n",
    "    c=10*2\n",
    "    print(c) \n",
    "\n",
    "var_ext=saludo()\n",
    "print(var_ext)"
   ]
  },
  {
   "cell_type": "code",
   "execution_count": 29,
   "id": "8af74d0c",
   "metadata": {},
   "outputs": [
    {
     "name": "stdout",
     "output_type": "stream",
     "text": [
      "12\n"
     ]
    }
   ],
   "source": [
    "#Definicion funcion con parametros\n",
    "\n",
    "def sumar(a,b):\n",
    "    c=a+b\n",
    "    return c\n",
    "#Asignacion de argumentos por posicion \n",
    "var1=sumar(10,2)\n",
    "print(var1)"
   ]
  },
  {
   "cell_type": "code",
   "execution_count": 31,
   "id": "49770421",
   "metadata": {},
   "outputs": [
    {
     "name": "stdout",
     "output_type": "stream",
     "text": [
      "Hola mundo\n"
     ]
    }
   ],
   "source": [
    "#Invoque la funcion sumar y le pase dos string\n",
    "var1=sumar(\"Hola \",\"mundo\")\n",
    "print(var1)"
   ]
  },
  {
   "cell_type": "code",
   "execution_count": 32,
   "id": "34e14c18",
   "metadata": {},
   "outputs": [
    {
     "ename": "TypeError",
     "evalue": "can only concatenate str (not \"int\") to str",
     "output_type": "error",
     "traceback": [
      "\u001b[0;31m---------------------------------------------------------------------------\u001b[0m",
      "\u001b[0;31mTypeError\u001b[0m                                 Traceback (most recent call last)",
      "\u001b[0;32m<ipython-input-32-c244ea8eca92>\u001b[0m in \u001b[0;36m<module>\u001b[0;34m\u001b[0m\n\u001b[0;32m----> 1\u001b[0;31m \u001b[0mvar1\u001b[0m\u001b[0;34m=\u001b[0m\u001b[0msumar\u001b[0m\u001b[0;34m(\u001b[0m\u001b[0;34m\"Hola\"\u001b[0m\u001b[0;34m,\u001b[0m\u001b[0;36m1\u001b[0m\u001b[0;34m)\u001b[0m\u001b[0;34m\u001b[0m\u001b[0;34m\u001b[0m\u001b[0m\n\u001b[0m\u001b[1;32m      2\u001b[0m \u001b[0mprint\u001b[0m\u001b[0;34m(\u001b[0m\u001b[0mvar1\u001b[0m\u001b[0;34m)\u001b[0m\u001b[0;34m\u001b[0m\u001b[0;34m\u001b[0m\u001b[0m\n",
      "\u001b[0;32m<ipython-input-29-bf949aef0588>\u001b[0m in \u001b[0;36msumar\u001b[0;34m(a, b)\u001b[0m\n\u001b[1;32m      2\u001b[0m \u001b[0;34m\u001b[0m\u001b[0m\n\u001b[1;32m      3\u001b[0m \u001b[0;32mdef\u001b[0m \u001b[0msumar\u001b[0m\u001b[0;34m(\u001b[0m\u001b[0ma\u001b[0m\u001b[0;34m,\u001b[0m\u001b[0mb\u001b[0m\u001b[0;34m)\u001b[0m\u001b[0;34m:\u001b[0m\u001b[0;34m\u001b[0m\u001b[0;34m\u001b[0m\u001b[0m\n\u001b[0;32m----> 4\u001b[0;31m     \u001b[0mc\u001b[0m\u001b[0;34m=\u001b[0m\u001b[0ma\u001b[0m\u001b[0;34m+\u001b[0m\u001b[0mb\u001b[0m\u001b[0;34m\u001b[0m\u001b[0;34m\u001b[0m\u001b[0m\n\u001b[0m\u001b[1;32m      5\u001b[0m     \u001b[0;32mreturn\u001b[0m \u001b[0mc\u001b[0m\u001b[0;34m\u001b[0m\u001b[0;34m\u001b[0m\u001b[0m\n\u001b[1;32m      6\u001b[0m \u001b[0;31m#Asignacion de argumentos por posicion\u001b[0m\u001b[0;34m\u001b[0m\u001b[0;34m\u001b[0m\u001b[0;34m\u001b[0m\u001b[0m\n",
      "\u001b[0;31mTypeError\u001b[0m: can only concatenate str (not \"int\") to str"
     ]
    }
   ],
   "source": [
    "var1=sumar(\"Hola\",1)\n",
    "print(var1)"
   ]
  },
  {
   "cell_type": "code",
   "execution_count": 33,
   "id": "0108c2a8",
   "metadata": {},
   "outputs": [
    {
     "name": "stdout",
     "output_type": "stream",
     "text": [
      "Hola1\n"
     ]
    }
   ],
   "source": [
    "var1=sumar(\"Hola\",'1')\n",
    "print(var1)"
   ]
  },
  {
   "cell_type": "code",
   "execution_count": 34,
   "id": "6f1d4d4f",
   "metadata": {},
   "outputs": [
    {
     "name": "stdout",
     "output_type": "stream",
     "text": [
      "30\n"
     ]
    }
   ],
   "source": [
    "#Asignacion de argumentos por nombre\n",
    "v1=10\n",
    "v2=20\n",
    "var_ext=sumar(v1,v2)\n",
    "print(var_ext)"
   ]
  },
  {
   "cell_type": "code",
   "execution_count": 35,
   "id": "0c7a3201",
   "metadata": {},
   "outputs": [
    {
     "name": "stdout",
     "output_type": "stream",
     "text": [
      "80\n"
     ]
    }
   ],
   "source": [
    "#Asignacion de argumentos por keywords o palabras clave. Parametros de la funcion son a y b. \n",
    "#Utiliza un formato clave-valor \n",
    "v1=50\n",
    "v2=30\n",
    "\n",
    "var_ext=sumar(a=v1,b=v2)\n",
    "print(var_ext)"
   ]
  },
  {
   "cell_type": "code",
   "execution_count": 37,
   "id": "eb308fe3",
   "metadata": {},
   "outputs": [
    {
     "name": "stdout",
     "output_type": "stream",
     "text": [
      "80\n"
     ]
    }
   ],
   "source": [
    "#Asignacion de argumentos por keywords o palabras clave. Parametros de la funcion son a y b. \n",
    "#Utiliza un formato clave-valor \n",
    "var_ext=sumar(b=v2,a=v1)\n",
    "print(var_ext)"
   ]
  },
  {
   "cell_type": "code",
   "execution_count": 40,
   "id": "3a5ade9b",
   "metadata": {
    "scrolled": true
   },
   "outputs": [
    {
     "name": "stdout",
     "output_type": "stream",
     "text": [
      "3\n",
      "10.7\n",
      "El estudiante con el codigo 12345 tiene una suma de notas de: 10.7\n"
     ]
    }
   ],
   "source": [
    "#Funcion que tiene un codigo y 3 notas\n",
    "def notas(codigo:str, n1:float,n2:float,n3:float):\n",
    "    minimo=min(n1,n2,n3)\n",
    "    print(minimo)\n",
    "    sumar=sum((n1,n2,n3))\n",
    "    print(sumar)\n",
    "    suma=str(sumar)\n",
    "    print(\"El estudiante con el codigo {} tiene una suma de notas de: {}\".format(codigo,suma))\n",
    "\n",
    "codigo=12345\n",
    "n1=4\n",
    "n2=3\n",
    "n3=3.7\n",
    "\n",
    "notas(n1=n1,n2=n2,n3=n3,codigo=codigo)"
   ]
  }
 ],
 "metadata": {
  "kernelspec": {
   "display_name": "Python 3",
   "language": "python",
   "name": "python3"
  },
  "language_info": {
   "codemirror_mode": {
    "name": "ipython",
    "version": 3
   },
   "file_extension": ".py",
   "mimetype": "text/x-python",
   "name": "python",
   "nbconvert_exporter": "python",
   "pygments_lexer": "ipython3",
   "version": "3.9.1"
  }
 },
 "nbformat": 4,
 "nbformat_minor": 5
}
