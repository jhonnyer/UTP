{
 "cells": [
  {
   "cell_type": "code",
   "execution_count": 1,
   "id": "76a84462",
   "metadata": {},
   "outputs": [
    {
     "name": "stdout",
     "output_type": "stream",
     "text": [
      "1 0 0\n"
     ]
    }
   ],
   "source": [
    "print(1,000,000)"
   ]
  },
  {
   "cell_type": "code",
   "execution_count": 7,
   "id": "d44340aa",
   "metadata": {},
   "outputs": [
    {
     "name": "stdout",
     "output_type": "stream",
     "text": [
      "3660\n",
      "1.0\n",
      "25\n",
      "112\n"
     ]
    }
   ],
   "source": [
    "20+32\n",
    "hour=60\n",
    "minute=60\n",
    "hour-1\n",
    "v=hour*60+minute\n",
    "print(v)\n",
    "y=minute/60\n",
    "print(y)\n",
    "z=5**2\n",
    "print(z)\n",
    "za=(5+9)*(15-7)\n",
    "print(za)"
   ]
  },
  {
   "cell_type": "code",
   "execution_count": 10,
   "id": "b79df904",
   "metadata": {},
   "outputs": [
    {
     "name": "stdout",
     "output_type": "stream",
     "text": [
      "15.6\n",
      "15\n"
     ]
    }
   ],
   "source": [
    "#Division redondear a entero \n",
    "print(78/5)\n",
    "print(78//5)\n"
   ]
  },
  {
   "cell_type": "code",
   "execution_count": 11,
   "id": "d567bc15",
   "metadata": {},
   "outputs": [
    {
     "data": {
      "text/plain": [
       "6"
      ]
     },
     "execution_count": 11,
     "metadata": {},
     "output_type": "execute_result"
    }
   ],
   "source": [
    "5\n",
    "x = 5\n",
    "x + 1"
   ]
  },
  {
   "cell_type": "code",
   "execution_count": 13,
   "id": "e7b72b44",
   "metadata": {},
   "outputs": [
    {
     "name": "stdout",
     "output_type": "stream",
     "text": [
      "2\n",
      "1\n"
     ]
    },
    {
     "data": {
      "text/plain": [
       "2.3333333333333335"
      ]
     },
     "execution_count": 13,
     "metadata": {},
     "output_type": "execute_result"
    }
   ],
   "source": [
    "quotient = 7 // 3\n",
    "print(quotient)\n",
    "remainder = 7 % 3\n",
    "print(remainder)\n",
    "7/3"
   ]
  },
  {
   "cell_type": "code",
   "execution_count": 23,
   "id": "4d082e88",
   "metadata": {},
   "outputs": [
    {
     "name": "stdout",
     "output_type": "stream",
     "text": [
      "1 numero impar\n",
      "2 Numero par\n",
      "3 numero impar\n",
      "4 Numero par\n",
      "5 numero impar\n",
      "6 Numero par\n",
      "7 numero impar\n",
      "8 Numero par\n",
      "9 numero impar\n"
     ]
    }
   ],
   "source": [
    "x=[1,2,3,4,5,6,7,8,9]\n",
    "for i in x:\n",
    "    if i%2==0:\n",
    "        print(i, \"Numero par\")\n",
    "    else:\n",
    "        print(i, \"numero impar\")"
   ]
  },
  {
   "cell_type": "code",
   "execution_count": 29,
   "id": "85332ccc",
   "metadata": {},
   "outputs": [
    {
     "name": "stdout",
     "output_type": "stream",
     "text": [
      "5\n",
      "25\n",
      "1\n"
     ]
    }
   ],
   "source": [
    "x=125\n",
    "#obtener valores de los residuos de la division, en este caso el valor mas cercano a la derecha\n",
    "print(x%10)\n",
    "#obtener los dos valores de los residuos\n",
    "print(x%100)\n",
    "\n",
    "print(x%2)"
   ]
  },
  {
   "cell_type": "code",
   "execution_count": 5,
   "id": "9d40b665",
   "metadata": {},
   "outputs": [
    {
     "name": "stdout",
     "output_type": "stream",
     "text": [
      "hola hola \n"
     ]
    }
   ],
   "source": [
    "primero=\"hola \"\n",
    "segundo=2\n",
    "\n",
    "print(primero*segundo)\n"
   ]
  },
  {
   "cell_type": "code",
   "execution_count": 4,
   "id": "a617e275",
   "metadata": {},
   "outputs": [
    {
     "ename": "TypeError",
     "evalue": "can't multiply sequence by non-int of type 'str'",
     "output_type": "error",
     "traceback": [
      "\u001b[0;31m---------------------------------------------------------------------------\u001b[0m",
      "\u001b[0;31mTypeError\u001b[0m                                 Traceback (most recent call last)",
      "\u001b[0;32m<ipython-input-4-7335c0ca72a5>\u001b[0m in \u001b[0;36m<module>\u001b[0;34m\u001b[0m\n\u001b[0;32m----> 1\u001b[0;31m \u001b[0mprint\u001b[0m\u001b[0;34m(\u001b[0m\u001b[0mprimero\u001b[0m\u001b[0;34m*\u001b[0m\u001b[0mprimero\u001b[0m\u001b[0;34m)\u001b[0m\u001b[0;34m\u001b[0m\u001b[0;34m\u001b[0m\u001b[0m\n\u001b[0m",
      "\u001b[0;31mTypeError\u001b[0m: can't multiply sequence by non-int of type 'str'"
     ]
    }
   ],
   "source": [
    "\n",
    "print(primero*primero)"
   ]
  },
  {
   "cell_type": "code",
   "execution_count": 7,
   "id": "4741888f",
   "metadata": {},
   "outputs": [
    {
     "name": "stdout",
     "output_type": "stream",
     "text": [
      "hola\n",
      "hola\n"
     ]
    }
   ],
   "source": [
    "#Peticion informacion por teclado\n",
    "entrada=input()\n",
    "print(entrada)"
   ]
  },
  {
   "cell_type": "code",
   "execution_count": 23,
   "id": "60898028",
   "metadata": {},
   "outputs": [
    {
     "name": "stdout",
     "output_type": "stream",
     "text": [
      "ingrese un numerof\n"
     ]
    },
    {
     "ename": "ValueError",
     "evalue": "invalid literal for int() with base 10: 'f'",
     "output_type": "error",
     "traceback": [
      "\u001b[0;31m---------------------------------------------------------------------------\u001b[0m",
      "\u001b[0;31mValueError\u001b[0m                                Traceback (most recent call last)",
      "\u001b[0;32m<ipython-input-23-119d156d93f1>\u001b[0m in \u001b[0;36m<module>\u001b[0;34m\u001b[0m\n\u001b[0;32m----> 1\u001b[0;31m \u001b[0mn\u001b[0m\u001b[0;34m=\u001b[0m\u001b[0mint\u001b[0m\u001b[0;34m(\u001b[0m\u001b[0minput\u001b[0m\u001b[0;34m(\u001b[0m\u001b[0;34m\"ingrese un numero\"\u001b[0m\u001b[0;34m)\u001b[0m\u001b[0;34m)\u001b[0m\u001b[0;34m\u001b[0m\u001b[0;34m\u001b[0m\u001b[0m\n\u001b[0m\u001b[1;32m      2\u001b[0m \u001b[0;34m\u001b[0m\u001b[0m\n\u001b[1;32m      3\u001b[0m \u001b[0;32mwhile\u001b[0m \u001b[0mn\u001b[0m\u001b[0;34m!=\u001b[0m\u001b[0mint\u001b[0m\u001b[0;34m:\u001b[0m\u001b[0;34m\u001b[0m\u001b[0;34m\u001b[0m\u001b[0m\n\u001b[1;32m      4\u001b[0m     \u001b[0mprint\u001b[0m\u001b[0;34m(\u001b[0m\u001b[0;34m\"Numero ingresado no es correcto, ingrese otro numero\"\u001b[0m\u001b[0;34m)\u001b[0m\u001b[0;34m\u001b[0m\u001b[0;34m\u001b[0m\u001b[0m\n\u001b[1;32m      5\u001b[0m     \u001b[0mn\u001b[0m\u001b[0;34m=\u001b[0m\u001b[0minput\u001b[0m\u001b[0;34m(\u001b[0m\u001b[0;34m)\u001b[0m\u001b[0;34m\u001b[0m\u001b[0;34m\u001b[0m\u001b[0m\n",
      "\u001b[0;31mValueError\u001b[0m: invalid literal for int() with base 10: 'f'"
     ]
    }
   ],
   "source": [
    "n=int(input(\"ingrese un numero\"))\n",
    "\n",
    "while n!=int:\n",
    "    print(\"Numero ingresado no es correcto, ingrese otro numero\")\n",
    "    n=input()\n",
    "else:\n",
    "    x=n\n",
    "    print(\"El valor obtenido es: \",x)"
   ]
  },
  {
   "cell_type": "code",
   "execution_count": 1,
   "id": "02f2af80",
   "metadata": {},
   "outputs": [
    {
     "name": "stdout",
     "output_type": "stream",
     "text": [
      "Introduce un número: 4\n",
      "El numero ingresado es: 4.0. Se procede a dividir 4.0/4 = 1.0\n"
     ]
    }
   ],
   "source": [
    "try:\n",
    "    n = float(input(\"Introduce un número: \"))\n",
    "    m = 4\n",
    "    print(\"El numero ingresado es: {}. Se procede a dividir {}/{} = {}\".format(n,n,m,n/m))\n",
    "except:\n",
    "    print(\"Ha ocurrido un error, introduce bien el número\")\n",
    "\n"
   ]
  },
  {
   "cell_type": "code",
   "execution_count": 2,
   "id": "a7c47855",
   "metadata": {},
   "outputs": [
    {
     "name": "stdout",
     "output_type": "stream",
     "text": [
      "Introduce un número: d\n",
      "Ha ocurrido un error, introduce bien el número\n",
      "Introduce un número: sdf\n",
      "Ha ocurrido un error, introduce bien el número\n",
      "Introduce un número: 5\n",
      "El numero ingresado es: 5.0. Se procede a dividir 5.0/4 = 1.25\n"
     ]
    }
   ],
   "source": [
    "while(True):\n",
    "    try:\n",
    "        n = float(input(\"Introduce un número: \"))\n",
    "        m = 4\n",
    "        print(\"El numero ingresado es: {}. Se procede a dividir {}/{} = {}\".format(n,n,m,n/m))\n",
    "        break\n",
    "    except:\n",
    "        print(\"Ha ocurrido un error, introduce bien el número\")\n",
    "\n"
   ]
  },
  {
   "cell_type": "code",
   "execution_count": 28,
   "id": "a65ac0b1",
   "metadata": {},
   "outputs": [
    {
     "name": "stdout",
     "output_type": "stream",
     "text": [
      "Por favor ingresa un numero impar: 4\n",
      "El número ingresado no es impar, por favor ingresar nuevamente un numero impar: 5\n",
      "El numero impar ingresado es:  5\n"
     ]
    }
   ],
   "source": [
    "numero=int(input(\"Por favor ingresa un numero impar: \"))\n",
    "while numero%2==0:\n",
    "    numero=int(input(\"El número ingresado no es impar, por favor ingresar nuevamente un numero impar: \"))\n",
    "else:\n",
    "    print(\"El numero impar ingresado es: \",numero)"
   ]
  },
  {
   "cell_type": "code",
   "execution_count": 1,
   "id": "85ecfb2b",
   "metadata": {},
   "outputs": [
    {
     "name": "stdout",
     "output_type": "stream",
     "text": [
      "hola \n",
      " mundo\n"
     ]
    }
   ],
   "source": [
    "print(\"hola \\n mundo\")"
   ]
  },
  {
   "cell_type": "code",
   "execution_count": 7,
   "id": "beae8a42",
   "metadata": {},
   "outputs": [
    {
     "name": "stdout",
     "output_type": "stream",
     "text": [
      "Velocidad de vuelo de una golondrina\n",
      "f\n"
     ]
    },
    {
     "ename": "ValueError",
     "evalue": "invalid literal for int() with base 10: 'f'",
     "output_type": "error",
     "traceback": [
      "\u001b[0;31m---------------------------------------------------------------------------\u001b[0m",
      "\u001b[0;31mValueError\u001b[0m                                Traceback (most recent call last)",
      "\u001b[0;32m<ipython-input-7-009085201263>\u001b[0m in \u001b[0;36m<module>\u001b[0;34m\u001b[0m\n\u001b[1;32m      2\u001b[0m \u001b[0mvelocidad\u001b[0m\u001b[0;34m=\u001b[0m\u001b[0minput\u001b[0m\u001b[0;34m(\u001b[0m\u001b[0mprompt\u001b[0m\u001b[0;34m)\u001b[0m\u001b[0;34m\u001b[0m\u001b[0;34m\u001b[0m\u001b[0m\n\u001b[1;32m      3\u001b[0m \u001b[0;34m\u001b[0m\u001b[0m\n\u001b[0;32m----> 4\u001b[0;31m \u001b[0mint\u001b[0m\u001b[0;34m(\u001b[0m\u001b[0mvelocidad\u001b[0m\u001b[0;34m)\u001b[0m\u001b[0;34m\u001b[0m\u001b[0;34m\u001b[0m\u001b[0m\n\u001b[0m\u001b[1;32m      5\u001b[0m \u001b[0mint\u001b[0m\u001b[0;34m(\u001b[0m\u001b[0mvelocidad\u001b[0m\u001b[0;34m)\u001b[0m\u001b[0;34m+\u001b[0m\u001b[0;36m5\u001b[0m\u001b[0;34m\u001b[0m\u001b[0;34m\u001b[0m\u001b[0m\n",
      "\u001b[0;31mValueError\u001b[0m: invalid literal for int() with base 10: 'f'"
     ]
    }
   ],
   "source": [
    "prompt=\"Velocidad de vuelo de una golondrina\\n\"\n",
    "velocidad=input(prompt)\n",
    "\n",
    "int(velocidad)\n",
    "int(velocidad)+5"
   ]
  },
  {
   "cell_type": "code",
   "execution_count": 10,
   "id": "3a310490",
   "metadata": {},
   "outputs": [
    {
     "name": "stdout",
     "output_type": "stream",
     "text": [
      "100.0\n"
     ]
    }
   ],
   "source": [
    "# calcula el porcentaje de hora transcurrido\n",
    "minuto=60\n",
    "porcentaje = (minuto * 100) / 60\n",
    "print(porcentaje)"
   ]
  },
  {
   "cell_type": "code",
   "execution_count": 12,
   "id": "d0a7b769",
   "metadata": {},
   "outputs": [
    {
     "name": "stdout",
     "output_type": "stream",
     "text": [
      "hola\n",
      "mundo\n",
      "como\n",
      "estas\n"
     ]
    }
   ],
   "source": [
    "words=[\"hola\",\"mundo\",\"como\",\"estas\"]\n",
    "\n",
    "for word in words:\n",
    "    print(word)"
   ]
  },
  {
   "cell_type": "code",
   "execution_count": 13,
   "id": "33a9edad",
   "metadata": {},
   "outputs": [
    {
     "ename": "NameError",
     "evalue": "name 'principle' is not defined",
     "output_type": "error",
     "traceback": [
      "\u001b[0;31m---------------------------------------------------------------------------\u001b[0m",
      "\u001b[0;31mNameError\u001b[0m                                 Traceback (most recent call last)",
      "\u001b[0;32m<ipython-input-13-ef1d2898ed9d>\u001b[0m in \u001b[0;36m<module>\u001b[0;34m\u001b[0m\n\u001b[1;32m      2\u001b[0m \u001b[0;31m#Error de runtime error, usar variable antes de definir, o usarla mal\u001b[0m\u001b[0;34m\u001b[0m\u001b[0;34m\u001b[0m\u001b[0;34m\u001b[0m\u001b[0m\n\u001b[1;32m      3\u001b[0m \u001b[0mprincipal\u001b[0m \u001b[0;34m=\u001b[0m \u001b[0;36m327.68\u001b[0m\u001b[0;34m\u001b[0m\u001b[0;34m\u001b[0m\u001b[0m\n\u001b[0;32m----> 4\u001b[0;31m \u001b[0minterest\u001b[0m \u001b[0;34m=\u001b[0m \u001b[0mprinciple\u001b[0m \u001b[0;34m*\u001b[0m \u001b[0mrate\u001b[0m\u001b[0;34m\u001b[0m\u001b[0;34m\u001b[0m\u001b[0m\n\u001b[0m",
      "\u001b[0;31mNameError\u001b[0m: name 'principle' is not defined"
     ]
    }
   ],
   "source": [
    "#Depuracion de errores\n",
    "#Error de runtime error, usar variable antes de definir, o usarla mal\n",
    "principal = 327.68\n",
    "interest = principle * rate"
   ]
  },
  {
   "cell_type": "code",
   "execution_count": 14,
   "id": "b3cfe2d7",
   "metadata": {},
   "outputs": [
    {
     "name": "stdout",
     "output_type": "stream",
     "text": [
      "2\n",
      "Hola\n"
     ]
    }
   ],
   "source": [
    "#python es sensible a las mayuscula\n",
    "primero=2\n",
    "Primero=\"Hola\"\n",
    "\n",
    "print(primero)\n",
    "print(Primero)"
   ]
  },
  {
   "cell_type": "code",
   "execution_count": 17,
   "id": "2b74609d",
   "metadata": {},
   "outputs": [
    {
     "data": {
      "text/plain": [
       "1.5712965"
      ]
     },
     "execution_count": 17,
     "metadata": {},
     "output_type": "execute_result"
    }
   ],
   "source": [
    "pi=3.142593\n",
    "1.0 / 2.0 * pi"
   ]
  },
  {
   "cell_type": "code",
   "execution_count": 18,
   "id": "a1c74f86",
   "metadata": {},
   "outputs": [
    {
     "data": {
      "text/plain": [
       "0.1591042810825328"
      ]
     },
     "execution_count": 18,
     "metadata": {},
     "output_type": "execute_result"
    }
   ],
   "source": [
    "pi=3.142593\n",
    "1.0 /(2.0 * pi)"
   ]
  },
  {
   "cell_type": "code",
   "execution_count": 20,
   "id": "86f70cdf",
   "metadata": {},
   "outputs": [
    {
     "name": "stdout",
     "output_type": "stream",
     "text": [
      "0\n"
     ]
    },
    {
     "data": {
      "text/plain": [
       "0.6666666666666666"
      ]
     },
     "execution_count": 20,
     "metadata": {},
     "output_type": "execute_result"
    }
   ],
   "source": [
    "#division entera\n",
    "print(2//3)\n",
    "#division normal\n",
    "2/3"
   ]
  },
  {
   "cell_type": "code",
   "execution_count": 23,
   "id": "696a880c",
   "metadata": {},
   "outputs": [
    {
     "name": "stdout",
     "output_type": "stream",
     "text": [
      "1.3333333333333333\n",
      "1\n",
      "1.5\n"
     ]
    }
   ],
   "source": [
    "#modulo\n",
    "print(4/3)\n",
    "print(4%3)\n",
    "print(4.5%3)"
   ]
  },
  {
   "cell_type": "code",
   "execution_count": 24,
   "id": "1c364b95",
   "metadata": {},
   "outputs": [
    {
     "name": "stdout",
     "output_type": "stream",
     "text": [
      "134\n"
     ]
    }
   ],
   "source": [
    "x=134.234324\n",
    "print(round(x))"
   ]
  },
  {
   "cell_type": "code",
   "execution_count": 28,
   "id": "a2169a97",
   "metadata": {},
   "outputs": [
    {
     "name": "stdout",
     "output_type": "stream",
     "text": [
      "True\n",
      "False\n"
     ]
    },
    {
     "data": {
      "text/plain": [
       "bool"
      ]
     },
     "execution_count": 28,
     "metadata": {},
     "output_type": "execute_result"
    }
   ],
   "source": [
    "#expresion boleana\n",
    "print(5==5)\n",
    "print(5==6)\n",
    "\n",
    "type(True)\n",
    "type(False)"
   ]
  },
  {
   "cell_type": "code",
   "execution_count": 55,
   "id": "9c0c37ae",
   "metadata": {},
   "outputs": [
    {
     "data": {
      "text/plain": [
       "True"
      ]
     },
     "execution_count": 55,
     "metadata": {},
     "output_type": "execute_result"
    }
   ],
   "source": [
    "17 and True"
   ]
  },
  {
   "cell_type": "code",
   "execution_count": 54,
   "id": "beabac4e",
   "metadata": {},
   "outputs": [
    {
     "name": "stdout",
     "output_type": "stream",
     "text": [
      "introduce un numero entero entre 0 y 10: \n",
      "45\n",
      "El número ingresado no es correcto\n",
      "introduce un numero entero entre 0 y 10: \n",
      "23\n",
      "El número ingresado no es correcto\n",
      "introduce un numero entero entre 0 y 10: \n",
      "24\n",
      "El número ingresado no es correcto\n",
      "introduce un numero entero entre 0 y 10: \n",
      "34\n",
      "El número ingresado no es correcto\n",
      "introduce un numero entero entre 0 y 10: \n",
      "5\n",
      "El  numero ingresado es:  5\n"
     ]
    }
   ],
   "source": [
    "x=int(input(\"introduce un numero entero entre 0 y 10: \\n\"))\n",
    "while x<0 or x>9:\n",
    "    print(\"El número ingresado no es correcto\")\n",
    "    x=int(input(\"introduce un numero entero entre 0 y 10: \\n\"))\n",
    "print(\"El  numero ingresado es: \",x)"
   ]
  },
  {
   "cell_type": "code",
   "execution_count": 56,
   "id": "e230ba1a",
   "metadata": {},
   "outputs": [
    {
     "name": "stdout",
     "output_type": "stream",
     "text": [
      "pequeño\n"
     ]
    }
   ],
   "source": [
    "#Condicionales if\n",
    "\n",
    "x=3\n",
    "if x<10:\n",
    "    print(\"pequeño\")"
   ]
  },
  {
   "cell_type": "code",
   "execution_count": 58,
   "id": "59847f55",
   "metadata": {},
   "outputs": [
    {
     "name": "stdout",
     "output_type": "stream",
     "text": [
      "pequeño\n",
      "hecho\n"
     ]
    }
   ],
   "source": [
    "x=3\n",
    "if x<10:\n",
    "    print(\"pequeño\")\n",
    "\n",
    "    #se recomienda dejar un espacio despues de una sentencia de codigo\n",
    "print(\"hecho\")"
   ]
  },
  {
   "cell_type": "code",
   "execution_count": 60,
   "id": "3ee3702d",
   "metadata": {},
   "outputs": [
    {
     "name": "stdout",
     "output_type": "stream",
     "text": [
      "3  es impar\n"
     ]
    }
   ],
   "source": [
    "# condicion if alternativa\n",
    "if x%2==0:\n",
    "    print(x,' es par')\n",
    "else:\n",
    "    print(x,\" es impar\")"
   ]
  },
  {
   "cell_type": "code",
   "execution_count": 64,
   "id": "b8d609c8",
   "metadata": {},
   "outputs": [
    {
     "name": "stdout",
     "output_type": "stream",
     "text": [
      "x e y son iguales\n"
     ]
    }
   ],
   "source": [
    "#condicion encadenada\n",
    "y=3\n",
    "if x < y:\n",
    "    print('x es menor que y')\n",
    "elif x > y:\n",
    "    print('x es mayor que y')\n",
    "else:\n",
    "    print('x e y son iguales')"
   ]
  },
  {
   "cell_type": "code",
   "execution_count": 75,
   "id": "3c33330e",
   "metadata": {},
   "outputs": [
    {
     "name": "stdout",
     "output_type": "stream",
     "text": [
      "x es menor que y\n"
     ]
    }
   ],
   "source": [
    "x=3\n",
    "y=6\n",
    "if x == y:\n",
    "    print('x e y son iguales')\n",
    "else:\n",
    "    if x < y:\n",
    "        print('x es menor que y')\n",
    "    else:\n",
    "        print('x es mayor que y')"
   ]
  },
  {
   "cell_type": "code",
   "execution_count": 69,
   "id": "ca458941",
   "metadata": {},
   "outputs": [
    {
     "name": "stdout",
     "output_type": "stream",
     "text": [
      "elige una acciónasds\n",
      "Opcion incorrecta\n"
     ]
    }
   ],
   "source": [
    "choice=input(\"elige una acción\")\n",
    "if choice == 'a':\n",
    "    print('Respuesta incorrecta')\n",
    "elif choice == 'b':\n",
    "    print('Respuesta correcta')\n",
    "elif choice == 'c':\n",
    "    print('Casi, pero no es correcto')\n",
    "else:\n",
    "    print(\"Opcion incorrecta\")"
   ]
  },
  {
   "cell_type": "code",
   "execution_count": 94,
   "id": "ca2fa988",
   "metadata": {},
   "outputs": [
    {
     "name": "stdout",
     "output_type": "stream",
     "text": [
      "x es un número positivo con un sólo dígito.\n"
     ]
    }
   ],
   "source": [
    "x=1\n",
    "if 0 < x:\n",
    "    if x < 10:\n",
    "        print('x es un número positivo con un sólo dígito.')\n",
    "else: \n",
    "    print(\"Numero negativo\")"
   ]
  },
  {
   "cell_type": "code",
   "execution_count": 102,
   "id": "2b5741bf",
   "metadata": {},
   "outputs": [
    {
     "name": "stdout",
     "output_type": "stream",
     "text": [
      "Numero negativo\n"
     ]
    }
   ],
   "source": [
    "#Codicion anidada simplicada en una solo condicion\n",
    "x=0\n",
    "if 0 < x and x < 10:\n",
    "        print('x es un número positivo con un sólo dígito.')\n",
    "elif x>=10:\n",
    "    print(\"Numero positivo de dos digitos\")\n",
    "else: \n",
    "    print(\"Numero negativo\")"
   ]
  },
  {
   "cell_type": "code",
   "execution_count": 104,
   "id": "fbcd3adc",
   "metadata": {},
   "outputs": [
    {
     "name": "stdout",
     "output_type": "stream",
     "text": [
      "Introduzca la Temperatura Fahrenheit:dfd\n"
     ]
    },
    {
     "ename": "ValueError",
     "evalue": "could not convert string to float: 'dfd'",
     "output_type": "error",
     "traceback": [
      "\u001b[0;31m---------------------------------------------------------------------------\u001b[0m",
      "\u001b[0;31mValueError\u001b[0m                                Traceback (most recent call last)",
      "\u001b[0;32m<ipython-input-104-7cb5b71361bf>\u001b[0m in \u001b[0;36m<module>\u001b[0;34m\u001b[0m\n\u001b[1;32m      1\u001b[0m \u001b[0ment\u001b[0m \u001b[0;34m=\u001b[0m \u001b[0minput\u001b[0m\u001b[0;34m(\u001b[0m\u001b[0;34m'Introduzca la Temperatura Fahrenheit:'\u001b[0m\u001b[0;34m)\u001b[0m\u001b[0;34m\u001b[0m\u001b[0;34m\u001b[0m\u001b[0m\n\u001b[0;32m----> 2\u001b[0;31m \u001b[0mfahr\u001b[0m \u001b[0;34m=\u001b[0m \u001b[0mfloat\u001b[0m\u001b[0;34m(\u001b[0m\u001b[0ment\u001b[0m\u001b[0;34m)\u001b[0m\u001b[0;34m\u001b[0m\u001b[0;34m\u001b[0m\u001b[0m\n\u001b[0m\u001b[1;32m      3\u001b[0m \u001b[0mcel\u001b[0m \u001b[0;34m=\u001b[0m \u001b[0;34m(\u001b[0m\u001b[0mfahr\u001b[0m \u001b[0;34m-\u001b[0m \u001b[0;36m32.0\u001b[0m\u001b[0;34m)\u001b[0m \u001b[0;34m*\u001b[0m \u001b[0;36m5.0\u001b[0m \u001b[0;34m/\u001b[0m \u001b[0;36m9.0\u001b[0m\u001b[0;34m\u001b[0m\u001b[0;34m\u001b[0m\u001b[0m\n\u001b[1;32m      4\u001b[0m \u001b[0mprint\u001b[0m\u001b[0;34m(\u001b[0m\u001b[0mcel\u001b[0m\u001b[0;34m)\u001b[0m\u001b[0;34m\u001b[0m\u001b[0;34m\u001b[0m\u001b[0m\n",
      "\u001b[0;31mValueError\u001b[0m: could not convert string to float: 'dfd'"
     ]
    }
   ],
   "source": [
    "ent = input('Introduzca la Temperatura Fahrenheit:')\n",
    "fahr = float(ent)\n",
    "cel = (fahr - 32.0) * 5.0 / 9.0\n",
    "print(cel)"
   ]
  },
  {
   "cell_type": "code",
   "execution_count": 112,
   "id": "f20cf1d4",
   "metadata": {},
   "outputs": [
    {
     "name": "stdout",
     "output_type": "stream",
     "text": [
      "Introduzca la Temperatura Fahrenheit:12\n",
      "-11.11111111111111\n"
     ]
    }
   ],
   "source": [
    "#Manejo de errores excepciones\n",
    "ent = input('Introduzca la Temperatura Fahrenheit:')\n",
    "try:\n",
    "    fahr = float(ent)\n",
    "    cel = (fahr - 32.0) * 5.0 / 9.0\n",
    "    print(cel)\n",
    "except:\n",
    "    print('Por favor, introduzca un número')"
   ]
  },
  {
   "cell_type": "code",
   "execution_count": 111,
   "id": "6b972309",
   "metadata": {},
   "outputs": [
    {
     "name": "stdout",
     "output_type": "stream",
     "text": [
      "Introduzca la Temperatura Fahrenheit:dsf\n",
      "Por favor, introduzca un númerosfd\n",
      "Por favor, introduzca un númerodgf\n",
      "Por favor, introduzca un número3\n",
      "-16.11111111111111\n"
     ]
    }
   ],
   "source": [
    "#Manejo de errores excepciones\n",
    "ent = input('Introduzca la Temperatura Fahrenheit:')\n",
    "while(True):\n",
    "    try:\n",
    "        fahr = float(ent)\n",
    "        cel = (fahr - 32.0) * 5.0 / 9.0\n",
    "        print(cel)\n",
    "        break\n",
    "    except:\n",
    "        ent=input('Por favor, introduzca un número')"
   ]
  },
  {
   "cell_type": "code",
   "execution_count": 114,
   "id": "08d1f05e",
   "metadata": {},
   "outputs": [
    {
     "data": {
      "text/plain": [
       "True"
      ]
     },
     "execution_count": 114,
     "metadata": {},
     "output_type": "execute_result"
    }
   ],
   "source": [
    "#Cortocircuitar evaluacion condiciones logicas\n",
    "#Ambas condiciones se cumplen\n",
    "x = 6\n",
    "y = 2\n",
    "x >= 2 and (x/y) > 2\n",
    "\n"
   ]
  },
  {
   "cell_type": "code",
   "execution_count": null,
   "id": "ca2d74ff",
   "metadata": {},
   "outputs": [],
   "source": [
    "# Una condicion no se cumple, en este caso la segunda\n",
    "x = 1\n",
    "y = 0\n",
    "x >= 2 and (x/y) > 2"
   ]
  },
  {
   "cell_type": "code",
   "execution_count": 117,
   "id": "5dacd014",
   "metadata": {},
   "outputs": [
    {
     "ename": "ZeroDivisionError",
     "evalue": "division by zero",
     "output_type": "error",
     "traceback": [
      "\u001b[0;31m---------------------------------------------------------------------------\u001b[0m",
      "\u001b[0;31mZeroDivisionError\u001b[0m                         Traceback (most recent call last)",
      "\u001b[0;32m<ipython-input-117-43a82c4c87c1>\u001b[0m in \u001b[0;36m<module>\u001b[0;34m\u001b[0m\n\u001b[1;32m      1\u001b[0m \u001b[0mx\u001b[0m \u001b[0;34m=\u001b[0m \u001b[0;36m6\u001b[0m\u001b[0;34m\u001b[0m\u001b[0;34m\u001b[0m\u001b[0m\n\u001b[1;32m      2\u001b[0m \u001b[0my\u001b[0m \u001b[0;34m=\u001b[0m \u001b[0;36m0\u001b[0m\u001b[0;34m\u001b[0m\u001b[0;34m\u001b[0m\u001b[0m\n\u001b[0;32m----> 3\u001b[0;31m \u001b[0mx\u001b[0m \u001b[0;34m>=\u001b[0m \u001b[0;36m2\u001b[0m \u001b[0;32mand\u001b[0m \u001b[0;34m(\u001b[0m\u001b[0mx\u001b[0m\u001b[0;34m/\u001b[0m\u001b[0my\u001b[0m\u001b[0;34m)\u001b[0m \u001b[0;34m>\u001b[0m \u001b[0;36m2\u001b[0m\u001b[0;34m\u001b[0m\u001b[0;34m\u001b[0m\u001b[0m\n\u001b[0m",
      "\u001b[0;31mZeroDivisionError\u001b[0m: division by zero"
     ]
    }
   ],
   "source": [
    "x = 6\n",
    "y = 0\n",
    "x >= 2 and (x/y) > 2"
   ]
  },
  {
   "cell_type": "code",
   "execution_count": 118,
   "id": "d992bb19",
   "metadata": {},
   "outputs": [
    {
     "data": {
      "text/plain": [
       "False"
      ]
     },
     "execution_count": 118,
     "metadata": {},
     "output_type": "execute_result"
    }
   ],
   "source": [
    "# Funcion con guardian que se ejecuta antes de evaluar un error \n",
    "x=1\n",
    "y=0\n",
    "x>=2 and y!=0 and (x/y)>2"
   ]
  },
  {
   "cell_type": "code",
   "execution_count": null,
   "id": "7bf9814b",
   "metadata": {},
   "outputs": [],
   "source": [
    "x=6\n",
    "y=0\n",
    "x>=2 and y!=0 and (x/y)>2"
   ]
  },
  {
   "cell_type": "code",
   "execution_count": 120,
   "id": "6f4dc6f4",
   "metadata": {},
   "outputs": [
    {
     "ename": "ZeroDivisionError",
     "evalue": "division by zero",
     "output_type": "error",
     "traceback": [
      "\u001b[0;31m---------------------------------------------------------------------------\u001b[0m",
      "\u001b[0;31mZeroDivisionError\u001b[0m                         Traceback (most recent call last)",
      "\u001b[0;32m<ipython-input-120-7acce40fba67>\u001b[0m in \u001b[0;36m<module>\u001b[0;34m\u001b[0m\n\u001b[0;32m----> 1\u001b[0;31m \u001b[0mx\u001b[0m\u001b[0;34m>=\u001b[0m\u001b[0;36m2\u001b[0m \u001b[0;32mand\u001b[0m \u001b[0;34m(\u001b[0m\u001b[0mx\u001b[0m\u001b[0;34m/\u001b[0m\u001b[0my\u001b[0m\u001b[0;34m)\u001b[0m\u001b[0;34m>\u001b[0m\u001b[0;36m2\u001b[0m \u001b[0;32mand\u001b[0m \u001b[0my\u001b[0m\u001b[0;34m!=\u001b[0m\u001b[0;36m0\u001b[0m\u001b[0;34m\u001b[0m\u001b[0;34m\u001b[0m\u001b[0m\n\u001b[0m",
      "\u001b[0;31mZeroDivisionError\u001b[0m: division by zero"
     ]
    }
   ],
   "source": [
    "x>=2 and (x/y)>2 and y!=0"
   ]
  },
  {
   "cell_type": "code",
   "execution_count": 121,
   "id": "847323c7",
   "metadata": {},
   "outputs": [
    {
     "ename": "IndentationError",
     "evalue": "unexpected indent (<ipython-input-121-4e7ae31a6103>, line 3)",
     "output_type": "error",
     "traceback": [
      "\u001b[0;36m  File \u001b[0;32m\"<ipython-input-121-4e7ae31a6103>\"\u001b[0;36m, line \u001b[0;32m3\u001b[0m\n\u001b[0;31m    y=0\u001b[0m\n\u001b[0m    ^\u001b[0m\n\u001b[0;31mIndentationError\u001b[0m\u001b[0;31m:\u001b[0m unexpected indent\n"
     ]
    }
   ],
   "source": [
    "# Error de identacion\n",
    "x=1\n",
    " y=0"
   ]
  },
  {
   "cell_type": "code",
   "execution_count": 127,
   "id": "b1387934",
   "metadata": {},
   "outputs": [
    {
     "name": "stdout",
     "output_type": "stream",
     "text": [
      "-0.4575749056067512\n"
     ]
    }
   ],
   "source": [
    "# Supón que estás tratando de calcular una relación señal-ruido en decibelios. \n",
    "# La fórmula es SN R db = 10 log 10 (P senal /P ruido ). En Python, podrías escribir algo como esto:\n",
    "import math\n",
    "int_senal = 9\n",
    "int_ruido = 10\n",
    "relacion = int_senal / int_ruido\n",
    "decibelios = 10 * math.log10(relacion)\n",
    "print(decibelios)"
   ]
  },
  {
   "cell_type": "code",
   "execution_count": 129,
   "id": "c0fafeb4",
   "metadata": {},
   "outputs": [
    {
     "name": "stdout",
     "output_type": "stream",
     "text": [
      "9.542425094393248\n"
     ]
    }
   ],
   "source": [
    "# Supón que estás tratando de calcular una relación señal-ruido en decibelios. \n",
    "# La fórmula es SN R db = 10 log 10 (P senal /P ruido ). En Python, podrías escribir algo como esto:\n",
    "import math\n",
    "int_senal = 0.9\n",
    "int_ruido = 0.1\n",
    "relacion = int_senal / int_ruido\n",
    "decibelios = 10 * math.log10(relacion)\n",
    "print(decibelios)"
   ]
  },
  {
   "cell_type": "code",
   "execution_count": 143,
   "id": "00ddf365",
   "metadata": {},
   "outputs": [
    {
     "name": "stdout",
     "output_type": "stream",
     "text": [
      "Introduce las horas45\n",
      "introduce tarifa por horas10\n",
      "No puedes exceder 40 horas laborales, introduce nuevamente las horas12\n",
      "Tu salario es:  120\n"
     ]
    }
   ],
   "source": [
    "# Reescribe el programa del cálculo del salario para darle al empleado\n",
    "# 1.5 veces la tarifa horaria para todas las horas trabajadas que excedan de 40.\n",
    "\n",
    "horas=int(input(\"Introduce las horas\"))\n",
    "t_horas=int(input(\"introduce tarifa por horas\"))\n",
    "while horas>40:\n",
    "    horas=int(input(\"No puedes exceder 40 horas laborales, introduce nuevamente las horas\"))\n",
    "    \n",
    "salario=horas*t_horas\n",
    "print(\"Tu salario es: \",salario)\n"
   ]
  },
  {
   "cell_type": "code",
   "execution_count": null,
   "id": "a32de68d",
   "metadata": {},
   "outputs": [],
   "source": [
    "horas=input(\"Introduce las horas\")\n",
    "t_horas=input(\"introduce tarifa por horas\")\n",
    "hour=float(horas)\n",
    "while hour>40:\n",
    "    hour=float(input(\"No puedes exceder 40 horas laborales, introduce nuevamente las horas\"))\n",
    "else:\n",
    "    salario=hour*t_horas\n",
    "    print(\"Tu salario es: \",salario)"
   ]
  },
  {
   "cell_type": "code",
   "execution_count": 142,
   "id": "5ae2a897",
   "metadata": {},
   "outputs": [
    {
     "name": "stdout",
     "output_type": "stream",
     "text": [
      "Introduce las horas45\n",
      "introduce tarifa por horas10\n",
      "No puedes exceder 40 horas laborales, introduce nuevamente las horas39\n",
      "39.0\n"
     ]
    },
    {
     "ename": "KeyboardInterrupt",
     "evalue": "Interrupted by user",
     "output_type": "error",
     "traceback": [
      "\u001b[0;31m---------------------------------------------------------------------------\u001b[0m",
      "\u001b[0;31mKeyboardInterrupt\u001b[0m                         Traceback (most recent call last)",
      "\u001b[0;32m<ipython-input-142-07aeae1c165c>\u001b[0m in \u001b[0;36m<module>\u001b[0;34m\u001b[0m\n\u001b[1;32m     16\u001b[0m     \u001b[0;32mexcept\u001b[0m\u001b[0;34m:\u001b[0m\u001b[0;34m\u001b[0m\u001b[0;34m\u001b[0m\u001b[0m\n\u001b[1;32m     17\u001b[0m \u001b[0;31m#         horas=input(\"Error, por favor introduce el numero de horas\")\u001b[0m\u001b[0;34m\u001b[0m\u001b[0;34m\u001b[0m\u001b[0;34m\u001b[0m\u001b[0m\n\u001b[0;32m---> 18\u001b[0;31m         \u001b[0mt_horas\u001b[0m\u001b[0;34m=\u001b[0m\u001b[0minput\u001b[0m\u001b[0;34m(\u001b[0m\u001b[0;34m\"Error, por favor introduce tarifa por horas\"\u001b[0m\u001b[0;34m)\u001b[0m\u001b[0;34m\u001b[0m\u001b[0;34m\u001b[0m\u001b[0m\n\u001b[0m",
      "\u001b[0;32m~/miniconda3/lib/python3.9/site-packages/ipykernel/kernelbase.py\u001b[0m in \u001b[0;36mraw_input\u001b[0;34m(self, prompt)\u001b[0m\n\u001b[1;32m    858\u001b[0m                 \u001b[0;34m\"raw_input was called, but this frontend does not support input requests.\"\u001b[0m\u001b[0;34m\u001b[0m\u001b[0;34m\u001b[0m\u001b[0m\n\u001b[1;32m    859\u001b[0m             )\n\u001b[0;32m--> 860\u001b[0;31m         return self._input_request(str(prompt),\n\u001b[0m\u001b[1;32m    861\u001b[0m             \u001b[0mself\u001b[0m\u001b[0;34m.\u001b[0m\u001b[0m_parent_ident\u001b[0m\u001b[0;34m,\u001b[0m\u001b[0;34m\u001b[0m\u001b[0;34m\u001b[0m\u001b[0m\n\u001b[1;32m    862\u001b[0m             \u001b[0mself\u001b[0m\u001b[0;34m.\u001b[0m\u001b[0m_parent_header\u001b[0m\u001b[0;34m,\u001b[0m\u001b[0;34m\u001b[0m\u001b[0;34m\u001b[0m\u001b[0m\n",
      "\u001b[0;32m~/miniconda3/lib/python3.9/site-packages/ipykernel/kernelbase.py\u001b[0m in \u001b[0;36m_input_request\u001b[0;34m(self, prompt, ident, parent, password)\u001b[0m\n\u001b[1;32m    902\u001b[0m             \u001b[0;32mexcept\u001b[0m \u001b[0mKeyboardInterrupt\u001b[0m\u001b[0;34m:\u001b[0m\u001b[0;34m\u001b[0m\u001b[0;34m\u001b[0m\u001b[0m\n\u001b[1;32m    903\u001b[0m                 \u001b[0;31m# re-raise KeyboardInterrupt, to truncate traceback\u001b[0m\u001b[0;34m\u001b[0m\u001b[0;34m\u001b[0m\u001b[0;34m\u001b[0m\u001b[0m\n\u001b[0;32m--> 904\u001b[0;31m                 \u001b[0;32mraise\u001b[0m \u001b[0mKeyboardInterrupt\u001b[0m\u001b[0;34m(\u001b[0m\u001b[0;34m\"Interrupted by user\"\u001b[0m\u001b[0;34m)\u001b[0m \u001b[0;32mfrom\u001b[0m \u001b[0;32mNone\u001b[0m\u001b[0;34m\u001b[0m\u001b[0;34m\u001b[0m\u001b[0m\n\u001b[0m\u001b[1;32m    905\u001b[0m             \u001b[0;32mexcept\u001b[0m \u001b[0mException\u001b[0m \u001b[0;32mas\u001b[0m \u001b[0me\u001b[0m\u001b[0;34m:\u001b[0m\u001b[0;34m\u001b[0m\u001b[0;34m\u001b[0m\u001b[0m\n\u001b[1;32m    906\u001b[0m                 \u001b[0mself\u001b[0m\u001b[0;34m.\u001b[0m\u001b[0mlog\u001b[0m\u001b[0;34m.\u001b[0m\u001b[0mwarning\u001b[0m\u001b[0;34m(\u001b[0m\u001b[0;34m\"Invalid Message:\"\u001b[0m\u001b[0;34m,\u001b[0m \u001b[0mexc_info\u001b[0m\u001b[0;34m=\u001b[0m\u001b[0;32mTrue\u001b[0m\u001b[0;34m)\u001b[0m\u001b[0;34m\u001b[0m\u001b[0;34m\u001b[0m\u001b[0m\n",
      "\u001b[0;31mKeyboardInterrupt\u001b[0m: Interrupted by user"
     ]
    }
   ],
   "source": [
    "# Reescribe el programa del cálculo del salario para darle al empleado\n",
    "# 1.5 veces la tarifa horaria para todas las horas trabajadas que excedan de 40. Utilice try y except\n",
    "\n",
    "horas=input(\"Introduce las horas\")\n",
    "t_horas=input(\"introduce tarifa por horas\")\n",
    "while(True):\n",
    "    try:\n",
    "        hour=float(horas)\n",
    "        if hour>40:\n",
    "            hour=float(input(\"No puedes exceder 40 horas laborales, introduce nuevamente las horas\"))\n",
    "            print(hour)\n",
    "        else:\n",
    "            salario=hour*t_horas\n",
    "            print(\"Tu salario es: \",salario)\n",
    "            break\n",
    "    except:\n",
    "#         horas=input(\"Error, por favor introduce el numero de horas\")\n",
    "        t_horas=input(\"Error, por favor introduce tarifa por horas\")\n"
   ]
  }
 ],
 "metadata": {
  "kernelspec": {
   "display_name": "Python 3",
   "language": "python",
   "name": "python3"
  },
  "language_info": {
   "codemirror_mode": {
    "name": "ipython",
    "version": 3
   },
   "file_extension": ".py",
   "mimetype": "text/x-python",
   "name": "python",
   "nbconvert_exporter": "python",
   "pygments_lexer": "ipython3",
   "version": "3.9.1"
  }
 },
 "nbformat": 4,
 "nbformat_minor": 5
}
