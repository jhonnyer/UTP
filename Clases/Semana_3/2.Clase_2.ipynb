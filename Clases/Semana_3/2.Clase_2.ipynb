{
 "cells": [
  {
   "cell_type": "markdown",
   "id": "f34fb7ae",
   "metadata": {},
   "source": [
    "El cliente necesita un algoritmo que pueda calcular si su negocio, o sus tiendas generan beneficios o pérdidas. Tenemos acceso a los datos que maneja la tienda, tanto sus **ingresos**, como sus **gastos**\n",
    "\n",
    "### Diagrama de Flujo\n",
    "\n",
    "![image](algoritmo.png)\n",
    "\n"
   ]
  },
  {
   "cell_type": "code",
   "execution_count": 2,
   "id": "38deeffd",
   "metadata": {},
   "outputs": [
    {
     "name": "stdout",
     "output_type": "stream",
     "text": [
      "21.625\n"
     ]
    }
   ],
   "source": [
    "var1=10\n",
    "var2=4\n",
    "var3=5.5\n",
    "var4=67\n",
    "\n",
    "promedio=(var1+var2+var3+var4)/4\n",
    "print(promedio)"
   ]
  },
  {
   "cell_type": "code",
   "execution_count": 3,
   "id": "15d7d055",
   "metadata": {},
   "outputs": [
    {
     "name": "stdout",
     "output_type": "stream",
     "text": [
      "el promedio de 10  +  4  +  5.5  +  67 / 4 es : 21.625\n"
     ]
    }
   ],
   "source": [
    "print(\"el promedio de\",var1,\" + \",var2,\" + \",var3,\" + \",var4, \"/ 4 \" \"es :\",(var1 + var2 +var3 +var4)/4)"
   ]
  },
  {
   "cell_type": "code",
   "execution_count": 4,
   "id": "6c3355c5",
   "metadata": {},
   "outputs": [
    {
     "name": "stdout",
     "output_type": "stream",
     "text": [
      "El promedio de sumar las variables var1=10; var2=4; var3=5.5 y var4=67, el resultado es 21.625\n"
     ]
    }
   ],
   "source": [
    "print(\"El promedio de sumar las variables var1={}; var2={}; var3={} y var4={}, el resultado es {}\".format(var1,var2,var3,var4,promedio))"
   ]
  }
 ],
 "metadata": {
  "kernelspec": {
   "display_name": "Python 3",
   "language": "python",
   "name": "python3"
  },
  "language_info": {
   "codemirror_mode": {
    "name": "ipython",
    "version": 3
   },
   "file_extension": ".py",
   "mimetype": "text/x-python",
   "name": "python",
   "nbconvert_exporter": "python",
   "pygments_lexer": "ipython3",
   "version": "3.9.1"
  }
 },
 "nbformat": 4,
 "nbformat_minor": 5
}
