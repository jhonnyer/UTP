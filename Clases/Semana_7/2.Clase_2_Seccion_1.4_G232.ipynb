{
 "cells": [
  {
   "cell_type": "code",
   "execution_count": 2,
   "id": "e897cf3b",
   "metadata": {},
   "outputs": [
    {
     "name": "stdout",
     "output_type": "stream",
     "text": [
      "Hola Liliana\n"
     ]
    }
   ],
   "source": [
    "nombre='Liliana'\n",
    "cadena_formateada='Hola %s' %nombre\n",
    "print(cadena_formateada)"
   ]
  },
  {
   "cell_type": "code",
   "execution_count": 3,
   "id": "34b9ce21",
   "metadata": {
    "scrolled": true
   },
   "outputs": [
    {
     "name": "stdout",
     "output_type": "stream",
     "text": [
      "Esto es una letra M: M\n",
      "Esto es un numero 8: 8\n",
      "Esto es una lista: [10, 30, 100]\n"
     ]
    }
   ],
   "source": [
    "print(\"Esto es una letra M: %s\" %'M')\n",
    "print(\"Esto es un numero 8: %s\" %8)\n",
    "print(\"Esto es una lista: %s\" %[10,30,100])"
   ]
  },
  {
   "cell_type": "code",
   "execution_count": 4,
   "id": "deb31c46",
   "metadata": {},
   "outputs": [
    {
     "name": "stdout",
     "output_type": "stream",
     "text": [
      "Hola Liliana y Catalina bienvenidas\n"
     ]
    }
   ],
   "source": [
    "nombre1='Liliana'\n",
    "nombre2='Catalina'\n",
    "cadena_formateada='Hola %s y %s bienvenidas' %(nombre1,nombre2)\n",
    "print(cadena_formateada)"
   ]
  },
  {
   "cell_type": "code",
   "execution_count": 5,
   "id": "47dfb918",
   "metadata": {},
   "outputs": [
    {
     "name": "stdout",
     "output_type": "stream",
     "text": [
      "*      Enero * Enero      *\n",
      "*    Febrero * Febrero    *\n",
      "*      Marzo * Marzo      *\n",
      "*      Abril * Abril      *\n",
      "*       Mayo * Mayo       *\n",
      "*      Junio * Junio      *\n"
     ]
    }
   ],
   "source": [
    "primeros_meses=['Enero','Febrero','Marzo','Abril','Mayo','Junio']\n",
    "for i in primeros_meses:\n",
    "    print(\"* %10s * %-10s *\" %(i,i))"
   ]
  },
  {
   "cell_type": "code",
   "execution_count": 7,
   "id": "30f92b04",
   "metadata": {},
   "outputs": [
    {
     "name": "stdout",
     "output_type": "stream",
     "text": [
      "El lenguaje de programación Python nacio en el año 1991\n"
     ]
    }
   ],
   "source": [
    "#Formateo de enteros\n",
    "print(\"El lenguaje de programación %s nacio en el año %d\" %('Python',1991))"
   ]
  },
  {
   "cell_type": "code",
   "execution_count": 9,
   "id": "52d572ff",
   "metadata": {
    "scrolled": true
   },
   "outputs": [
    {
     "name": "stdout",
     "output_type": "stream",
     "text": [
      "El numero hexadecimal es 160 y el decimal es 10\n"
     ]
    }
   ],
   "source": [
    "#Formateo de enteros\n",
    "hexadecimal=0XA0\n",
    "decimal=10.5\n",
    "print(\"El numero hexadecimal es %d y el decimal es %d\" %(hexadecimal, decimal))"
   ]
  },
  {
   "cell_type": "code",
   "execution_count": 10,
   "id": "f22cf7c9",
   "metadata": {},
   "outputs": [
    {
     "name": "stdout",
     "output_type": "stream",
     "text": [
      "1000 en hexadecimal (minuscula) es 3e8\n",
      "1000 en hexadecimal (mayuscula) es 3E8\n",
      "1000 en exponencial (minuscula) es 1.000000e+03\n",
      "1000 en exponencial (mayuscula) es 1.000000E+03\n"
     ]
    }
   ],
   "source": [
    "#Formateo hexadecimal y decimal\n",
    "numero=1000\n",
    "print(\"%d en hexadecimal (minuscula) es %x\" %(numero, numero))\n",
    "print(\"%d en hexadecimal (mayuscula) es %X\" %(numero, numero))\n",
    "print(\"%d en exponencial (minuscula) es %e\" %(numero, numero))\n",
    "print(\"%d en exponencial (mayuscula) es %E\" %(numero, numero))"
   ]
  },
  {
   "cell_type": "code",
   "execution_count": 11,
   "id": "d53df342",
   "metadata": {},
   "outputs": [
    {
     "name": "stdout",
     "output_type": "stream",
     "text": [
      "Un tercio (sin decimales) es 0\n",
      "Un tercio es 0.333333\n"
     ]
    }
   ],
   "source": [
    "#formateo de flotantes\n",
    "tercio=1.0/3\n",
    "print(\"Un tercio (sin decimales) es %d\" %tercio)\n",
    "print(\"Un tercio es %f\" %tercio)"
   ]
  },
  {
   "cell_type": "code",
   "execution_count": 14,
   "id": "68cce01d",
   "metadata": {},
   "outputs": [
    {
     "name": "stdout",
     "output_type": "stream",
     "text": [
      "Un tercio es 0.333333\n",
      "Un tercio es 0.3333333\n"
     ]
    }
   ],
   "source": [
    "#formateo de flotantes\n",
    "tercio=1.0/3\n",
    "print(\"Un tercio es %f\" %tercio)\n",
    "print(\"Un tercio es %.7f\" %tercio)"
   ]
  },
  {
   "cell_type": "code",
   "execution_count": 15,
   "id": "28085c3e",
   "metadata": {},
   "outputs": [
    {
     "name": "stdout",
     "output_type": "stream",
     "text": [
      "Escriba su nombre, por favor: Jhonnyer\n",
      "Hola Jhonnyer\n",
      "Hola Jhonnyer\n"
     ]
    }
   ],
   "source": [
    "nombre=input(\"Escriba su nombre, por favor: \")\n",
    "print(\"Hola \"+nombre)\n",
    "print(\"Hola %s\" %nombre)"
   ]
  },
  {
   "cell_type": "code",
   "execution_count": 16,
   "id": "569590dd",
   "metadata": {},
   "outputs": [
    {
     "name": "stdout",
     "output_type": "stream",
     "text": [
      "Escriba su edad, por favor: 19\n",
      "Tienes  19\n",
      "Tienes 19\n",
      "Tienes 19\n"
     ]
    }
   ],
   "source": [
    "edad=int(input(\"Escriba su edad, por favor: \"))\n",
    "print(\"Tienes \",edad)\n",
    "print(\"Tienes %d\" %edad)\n",
    "print(\"Tienes {}\".format(edad))"
   ]
  }
 ],
 "metadata": {
  "kernelspec": {
   "display_name": "Python 3",
   "language": "python",
   "name": "python3"
  },
  "language_info": {
   "codemirror_mode": {
    "name": "ipython",
    "version": 3
   },
   "file_extension": ".py",
   "mimetype": "text/x-python",
   "name": "python",
   "nbconvert_exporter": "python",
   "pygments_lexer": "ipython3",
   "version": "3.9.1"
  }
 },
 "nbformat": 4,
 "nbformat_minor": 5
}
