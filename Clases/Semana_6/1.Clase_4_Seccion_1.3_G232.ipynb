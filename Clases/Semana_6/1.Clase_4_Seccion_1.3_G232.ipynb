{
 "cells": [
  {
   "cell_type": "code",
   "execution_count": 1,
   "id": "ad26dc40",
   "metadata": {},
   "outputs": [
    {
     "name": "stdout",
     "output_type": "stream",
     "text": [
      "Esta bien, bananas\n"
     ]
    }
   ],
   "source": [
    "palabra='banana'\n",
    "if palabra=='banana':\n",
    "    print(\"Esta bien, bananas\")"
   ]
  },
  {
   "cell_type": "code",
   "execution_count": 2,
   "id": "982cfeaf",
   "metadata": {},
   "outputs": [
    {
     "name": "stdout",
     "output_type": "stream",
     "text": [
      "b\n",
      "a\n",
      "n\n",
      "a\n",
      "n\n",
      "a\n"
     ]
    }
   ],
   "source": [
    "for i in palabra:\n",
    "    print(i)"
   ]
  },
  {
   "cell_type": "code",
   "execution_count": 3,
   "id": "a7eb26b7",
   "metadata": {},
   "outputs": [
    {
     "name": "stdout",
     "output_type": "stream",
     "text": [
      "0 b\n",
      "1 a\n",
      "2 n\n",
      "3 a\n",
      "4 n\n",
      "5 a\n"
     ]
    }
   ],
   "source": [
    "for i in range(len(palabra)):\n",
    "    print(i, palabra[i] )"
   ]
  },
  {
   "cell_type": "code",
   "execution_count": 4,
   "id": "9a82810b",
   "metadata": {},
   "outputs": [
    {
     "name": "stdout",
     "output_type": "stream",
     "text": [
      "0 b\n",
      "1 a\n",
      "2 n\n",
      "3 a\n",
      "4 n\n",
      "5 a\n"
     ]
    }
   ],
   "source": [
    "for indice, valor in enumerate(palabra):\n",
    "    print(indice, valor)"
   ]
  },
  {
   "cell_type": "code",
   "execution_count": 5,
   "id": "c8e13535",
   "metadata": {},
   "outputs": [
    {
     "name": "stdout",
     "output_type": "stream",
     "text": [
      "10\n",
      "Hola\n"
     ]
    }
   ],
   "source": [
    "var=10\n",
    "VAR='Hola'\n",
    "print(var)\n",
    "print(VAR)"
   ]
  },
  {
   "cell_type": "code",
   "execution_count": 51,
   "id": "010a036b",
   "metadata": {},
   "outputs": [
    {
     "name": "stdout",
     "output_type": "stream",
     "text": [
      "Condicion falsa\n"
     ]
    }
   ],
   "source": [
    "#Condicion con metodo LOWER\n",
    "palabra='Banana'\n",
    "if palabra.lower=='banana':\n",
    "    print(\"Esta bien, bananas\")\n",
    "else:\n",
    "    print(\"Condicion falsa\")"
   ]
  },
  {
   "cell_type": "code",
   "execution_count": 20,
   "id": "4dbc4d15",
   "metadata": {},
   "outputs": [
    {
     "name": "stdout",
     "output_type": "stream",
     "text": [
      "Tu palabra, canana, viene despues que banana\n"
     ]
    }
   ],
   "source": [
    "palabra='canana'\n",
    "if palabra<'banana':\n",
    "    print(\"Tu palabra, \"+palabra+', viene antes que banana')\n",
    "elif palabra>'banana':\n",
    "    print(\"Tu palabra, \"+palabra+', viene despues que banana')\n",
    "else:\n",
    "    print(\"Esta bien su palabra es banana\")"
   ]
  },
  {
   "cell_type": "markdown",
   "id": "bc1474ed",
   "metadata": {},
   "source": [
    "ABCDEF.....XYZ, a,b,c,d,f,....xyz"
   ]
  },
  {
   "cell_type": "code",
   "execution_count": 15,
   "id": "02afde6d",
   "metadata": {},
   "outputs": [
    {
     "name": "stdout",
     "output_type": "stream",
     "text": [
      "<class 'str'>\n"
     ]
    },
    {
     "data": {
      "text/plain": [
       "['__add__',\n",
       " '__class__',\n",
       " '__contains__',\n",
       " '__delattr__',\n",
       " '__dir__',\n",
       " '__doc__',\n",
       " '__eq__',\n",
       " '__format__',\n",
       " '__ge__',\n",
       " '__getattribute__',\n",
       " '__getitem__',\n",
       " '__getnewargs__',\n",
       " '__gt__',\n",
       " '__hash__',\n",
       " '__init__',\n",
       " '__init_subclass__',\n",
       " '__iter__',\n",
       " '__le__',\n",
       " '__len__',\n",
       " '__lt__',\n",
       " '__mod__',\n",
       " '__mul__',\n",
       " '__ne__',\n",
       " '__new__',\n",
       " '__reduce__',\n",
       " '__reduce_ex__',\n",
       " '__repr__',\n",
       " '__rmod__',\n",
       " '__rmul__',\n",
       " '__setattr__',\n",
       " '__sizeof__',\n",
       " '__str__',\n",
       " '__subclasshook__',\n",
       " 'capitalize',\n",
       " 'casefold',\n",
       " 'center',\n",
       " 'count',\n",
       " 'encode',\n",
       " 'endswith',\n",
       " 'expandtabs',\n",
       " 'find',\n",
       " 'format',\n",
       " 'format_map',\n",
       " 'index',\n",
       " 'isalnum',\n",
       " 'isalpha',\n",
       " 'isascii',\n",
       " 'isdecimal',\n",
       " 'isdigit',\n",
       " 'isidentifier',\n",
       " 'islower',\n",
       " 'isnumeric',\n",
       " 'isprintable',\n",
       " 'isspace',\n",
       " 'istitle',\n",
       " 'isupper',\n",
       " 'join',\n",
       " 'ljust',\n",
       " 'lower',\n",
       " 'lstrip',\n",
       " 'maketrans',\n",
       " 'partition',\n",
       " 'removeprefix',\n",
       " 'removesuffix',\n",
       " 'replace',\n",
       " 'rfind',\n",
       " 'rindex',\n",
       " 'rjust',\n",
       " 'rpartition',\n",
       " 'rsplit',\n",
       " 'rstrip',\n",
       " 'split',\n",
       " 'splitlines',\n",
       " 'startswith',\n",
       " 'strip',\n",
       " 'swapcase',\n",
       " 'title',\n",
       " 'translate',\n",
       " 'upper',\n",
       " 'zfill']"
      ]
     },
     "execution_count": 15,
     "metadata": {},
     "output_type": "execute_result"
    }
   ],
   "source": [
    "print(type(palabra))\n",
    "dir((palabra))"
   ]
  },
  {
   "cell_type": "code",
   "execution_count": 16,
   "id": "41124688",
   "metadata": {
    "scrolled": true
   },
   "outputs": [
    {
     "data": {
      "text/plain": [
       "['__abs__',\n",
       " '__add__',\n",
       " '__and__',\n",
       " '__bool__',\n",
       " '__ceil__',\n",
       " '__class__',\n",
       " '__delattr__',\n",
       " '__dir__',\n",
       " '__divmod__',\n",
       " '__doc__',\n",
       " '__eq__',\n",
       " '__float__',\n",
       " '__floor__',\n",
       " '__floordiv__',\n",
       " '__format__',\n",
       " '__ge__',\n",
       " '__getattribute__',\n",
       " '__getnewargs__',\n",
       " '__gt__',\n",
       " '__hash__',\n",
       " '__index__',\n",
       " '__init__',\n",
       " '__init_subclass__',\n",
       " '__int__',\n",
       " '__invert__',\n",
       " '__le__',\n",
       " '__lshift__',\n",
       " '__lt__',\n",
       " '__mod__',\n",
       " '__mul__',\n",
       " '__ne__',\n",
       " '__neg__',\n",
       " '__new__',\n",
       " '__or__',\n",
       " '__pos__',\n",
       " '__pow__',\n",
       " '__radd__',\n",
       " '__rand__',\n",
       " '__rdivmod__',\n",
       " '__reduce__',\n",
       " '__reduce_ex__',\n",
       " '__repr__',\n",
       " '__rfloordiv__',\n",
       " '__rlshift__',\n",
       " '__rmod__',\n",
       " '__rmul__',\n",
       " '__ror__',\n",
       " '__round__',\n",
       " '__rpow__',\n",
       " '__rrshift__',\n",
       " '__rshift__',\n",
       " '__rsub__',\n",
       " '__rtruediv__',\n",
       " '__rxor__',\n",
       " '__setattr__',\n",
       " '__sizeof__',\n",
       " '__str__',\n",
       " '__sub__',\n",
       " '__subclasshook__',\n",
       " '__truediv__',\n",
       " '__trunc__',\n",
       " '__xor__',\n",
       " 'as_integer_ratio',\n",
       " 'bit_length',\n",
       " 'conjugate',\n",
       " 'denominator',\n",
       " 'from_bytes',\n",
       " 'imag',\n",
       " 'numerator',\n",
       " 'real',\n",
       " 'to_bytes']"
      ]
     },
     "execution_count": 16,
     "metadata": {},
     "output_type": "execute_result"
    }
   ],
   "source": [
    "entero=10\n",
    "dir((entero))"
   ]
  },
  {
   "cell_type": "code",
   "execution_count": 23,
   "id": "f9e5c329",
   "metadata": {},
   "outputs": [
    {
     "name": "stdout",
     "output_type": "stream",
     "text": [
      "BANANA\n"
     ]
    }
   ],
   "source": [
    "#MEtodo UPPER permite convertir una cadena de string en mayuscula\n",
    "palabra='Banana'\n",
    "palabra_nueva=palabra.upper()\n",
    "print(palabra_nueva)"
   ]
  },
  {
   "cell_type": "code",
   "execution_count": 25,
   "id": "86a465d5",
   "metadata": {},
   "outputs": [
    {
     "name": "stdout",
     "output_type": "stream",
     "text": [
      "banana\n"
     ]
    }
   ],
   "source": [
    "#MEtodo LOWER permite convertir una cadena de string en minuscula\n",
    "palabra='BANANA'\n",
    "palabra_nueva=palabra.lower()\n",
    "print(palabra_nueva)"
   ]
  },
  {
   "cell_type": "code",
   "execution_count": 26,
   "id": "84b3fad4",
   "metadata": {},
   "outputs": [
    {
     "name": "stdout",
     "output_type": "stream",
     "text": [
      "1\n"
     ]
    }
   ],
   "source": [
    "#MEtodo  FIND permite buscar un caracter en un cadena de string\n",
    "palabra='banana'\n",
    "palabra_nueva=palabra.find('a')\n",
    "print(palabra_nueva)"
   ]
  },
  {
   "cell_type": "code",
   "execution_count": 27,
   "id": "a1b6da9d",
   "metadata": {},
   "outputs": [
    {
     "name": "stdout",
     "output_type": "stream",
     "text": [
      "2\n"
     ]
    }
   ],
   "source": [
    "#MEtodo  FIND permite buscar un caracter en un cadena de string\n",
    "palabra='banana'\n",
    "palabra_nueva=palabra.find('na')\n",
    "print(palabra_nueva)"
   ]
  },
  {
   "cell_type": "code",
   "execution_count": 28,
   "id": "c38266a2",
   "metadata": {},
   "outputs": [
    {
     "name": "stdout",
     "output_type": "stream",
     "text": [
      "5\n"
     ]
    }
   ],
   "source": [
    "#MEtodo  FIND permite buscar un caracter en un cadena de string\n",
    "palabra='Hola mundo'\n",
    "palabra_nueva=palabra.find('mundo')\n",
    "print(palabra_nueva)"
   ]
  },
  {
   "cell_type": "code",
   "execution_count": 29,
   "id": "32f4859a",
   "metadata": {},
   "outputs": [
    {
     "name": "stdout",
     "output_type": "stream",
     "text": [
      "-1\n"
     ]
    }
   ],
   "source": [
    "#MEtodo  FIND permite buscar un caracter en un cadena de string\n",
    "palabra='Hola mundo'\n",
    "palabra_nueva=palabra.find('paz')\n",
    "print(palabra_nueva)"
   ]
  },
  {
   "cell_type": "code",
   "execution_count": 32,
   "id": "660a3764",
   "metadata": {},
   "outputs": [
    {
     "name": "stdout",
     "output_type": "stream",
     "text": [
      "Hola mundo\n",
      "   Hola mundo\n"
     ]
    }
   ],
   "source": [
    "#Metodo STRIP elimina espacios en blanco al inicio y al final\n",
    "#Metodo RSTRIP elimina espacios en blanco o caracteres espciales como \\n al final de un texto\n",
    "linea=\"   Hola mundo    \"\n",
    "v1=linea.strip()\n",
    "print(v1)\n",
    "v2=linea.rstrip()\n",
    "print(v2)"
   ]
  },
  {
   "cell_type": "code",
   "execution_count": 36,
   "id": "c00c5831",
   "metadata": {},
   "outputs": [
    {
     "name": "stdout",
     "output_type": "stream",
     "text": [
      "\" Hola mundo \"\n",
      "\"    Hola mundo \"\n"
     ]
    }
   ],
   "source": [
    "#Metodo STRIP elimina espacios en blanco al inicio y al final\n",
    "#Metodo RSTRIP elimina espacios en blanco o caracteres espciales como \\n al final de un texto\n",
    "linea=\"   Hola mundo  \"\n",
    "v1=linea.strip()\n",
    "print('\"',v1,'\"')\n",
    "v2=linea.rstrip()\n",
    "print('\"',v2,'\"')"
   ]
  },
  {
   "cell_type": "code",
   "execution_count": 40,
   "id": "3ee61872",
   "metadata": {},
   "outputs": [
    {
     "name": "stdout",
     "output_type": "stream",
     "text": [
      "Mensaje erroneo\n"
     ]
    }
   ],
   "source": [
    "linea1='Que tengas un Buen Dia'\n",
    "linea1.startswith('Que')\n",
    "if linea1.startswith('que'):\n",
    "    print(\"Mensaje de bienvenidad\")\n",
    "else:\n",
    "    print(\"Mensaje erroneo\")"
   ]
  },
  {
   "cell_type": "code",
   "execution_count": 46,
   "id": "c297579e",
   "metadata": {},
   "outputs": [
    {
     "name": "stdout",
     "output_type": "stream",
     "text": [
      "Mensaje de bienvenidad\n"
     ]
    }
   ],
   "source": [
    "#Ejemplo metodo lowe y metodo starswith\n",
    "linea0='HOLA MUNDO'\n",
    "linea1='Que tengas un Buen Dia'\n",
    "linea1.lower()\n",
    "linea1.lower().startswith('que')\n",
    "if linea1.lower().startswith('que'):\n",
    "    print(\"Mensaje de bienvenidad\")\n",
    "else:\n",
    "    print(\"Mensaje erroneo\")"
   ]
  },
  {
   "cell_type": "code",
   "execution_count": 58,
   "id": "c35418af",
   "metadata": {},
   "outputs": [
    {
     "data": {
      "text/plain": [
       "'mundo'"
      ]
     },
     "execution_count": 58,
     "metadata": {},
     "output_type": "execute_result"
    }
   ],
   "source": [
    "#Metodo de rebanada\n",
    "frase=\"Hola mundo,  bienvenido\"\n",
    "frase[5:10]"
   ]
  },
  {
   "cell_type": "code",
   "execution_count": 62,
   "id": "5f41c1ca",
   "metadata": {},
   "outputs": [
    {
     "name": "stdout",
     "output_type": "stream",
     "text": [
      "5\n",
      "10\n"
     ]
    },
    {
     "data": {
      "text/plain": [
       "'mundo'"
      ]
     },
     "execution_count": 62,
     "metadata": {},
     "output_type": "execute_result"
    }
   ],
   "source": [
    "#Metodo FIN que nos permite obtener la posicion de una subcadena\n",
    "frase=\"Hola mundo,  bienvenido\"\n",
    "print(frase.find('mundo'))\n",
    "print(frase.find(','))\n",
    "frase[5:10]"
   ]
  },
  {
   "cell_type": "code",
   "execution_count": 65,
   "id": "d9c521ee",
   "metadata": {},
   "outputs": [
    {
     "name": "stdout",
     "output_type": "stream",
     "text": [
      "19\n"
     ]
    },
    {
     "data": {
      "text/plain": [
       "'uct.ac.za Sat Jan 5 09:14:16 2008'"
      ]
     },
     "execution_count": 65,
     "metadata": {},
     "output_type": "execute_result"
    }
   ],
   "source": [
    "data='De stpehen.marquard@uct.ac.za Sat Jan 5 09:14:16 2008'\n",
    "posicion=data.find('@')\n",
    "print(posicion)\n",
    "data[posicion+1:]"
   ]
  },
  {
   "cell_type": "code",
   "execution_count": 67,
   "id": "50e0ee8c",
   "metadata": {},
   "outputs": [
    {
     "name": "stdout",
     "output_type": "stream",
     "text": [
      "29\n"
     ]
    },
    {
     "data": {
      "text/plain": [
       "'uct.ac.za'"
      ]
     },
     "execution_count": 67,
     "metadata": {},
     "output_type": "execute_result"
    }
   ],
   "source": [
    "data='De stpehen.marquard@uct.ac.za Sat Jan 5 09:14:16 2008'\n",
    "espacio_posicion=data.find(' ',posicion)\n",
    "print(espacio_posicion)\n",
    "data[posicion+1:espacio_posicion]"
   ]
  },
  {
   "cell_type": "code",
   "execution_count": 68,
   "id": "29b1ffb9",
   "metadata": {},
   "outputs": [
    {
     "data": {
      "text/plain": [
       "'42'"
      ]
     },
     "execution_count": 68,
     "metadata": {},
     "output_type": "execute_result"
    }
   ],
   "source": [
    "camello=42\n",
    "'%d' %camello"
   ]
  },
  {
   "cell_type": "code",
   "execution_count": 69,
   "id": "5e1030a2",
   "metadata": {},
   "outputs": [
    {
     "data": {
      "text/plain": [
       "'42.454500'"
      ]
     },
     "execution_count": 69,
     "metadata": {},
     "output_type": "execute_result"
    }
   ],
   "source": [
    "camello=42.4545\n",
    "'%f' %camello"
   ]
  },
  {
   "cell_type": "code",
   "execution_count": 70,
   "id": "ba0f3b6f",
   "metadata": {
    "scrolled": true
   },
   "outputs": [
    {
     "data": {
      "text/plain": [
       "'He visto 42 camellos'"
      ]
     },
     "execution_count": 70,
     "metadata": {},
     "output_type": "execute_result"
    }
   ],
   "source": [
    "camello=42\n",
    "'He visto %d camellos' %camello"
   ]
  },
  {
   "cell_type": "code",
   "execution_count": 71,
   "id": "2df9ceb4",
   "metadata": {},
   "outputs": [
    {
     "name": "stdout",
     "output_type": "stream",
     "text": [
      "Hola\n",
      "Mundo\n"
     ]
    }
   ],
   "source": [
    "cadena=\"Hola\\nMundo\"\n",
    "print(cadena)"
   ]
  },
  {
   "cell_type": "code",
   "execution_count": 77,
   "id": "8e23a253",
   "metadata": {},
   "outputs": [
    {
     "name": "stdout",
     "output_type": "stream",
     "text": [
      "Hola\\nMundo \\t &%##$&!!\n"
     ]
    }
   ],
   "source": [
    "cadena=r\"Hola\\nMundo \\t &%##$&!!\"\n",
    "print(cadena)"
   ]
  },
  {
   "cell_type": "code",
   "execution_count": 93,
   "id": "3882b6ed",
   "metadata": {},
   "outputs": [
    {
     "name": "stdout",
     "output_type": "stream",
     "text": [
      "un uno, un dos, un tres\n",
      "u\n",
      "n\n",
      " \n",
      "u\n",
      "n\n",
      "o\n",
      ",\n",
      " \n",
      "u\n",
      "n\n",
      " \n",
      "d\n",
      "o\n",
      "s\n",
      ",\n",
      " \n",
      "u\n",
      "n\n",
      " \n",
      "t\n",
      "r\n",
      "e\n",
      "s\n",
      "0\n"
     ]
    }
   ],
   "source": [
    "cont=0\n",
    "cadena=\"un uno, un dos, un tres\"\n",
    "print(cadena)\n",
    "for i, valor in enumerate(cadena):\n",
    "    print(valor)\n",
    "    if valor=='un':\n",
    "        cont+=1\n",
    "print(cont)"
   ]
  },
  {
   "cell_type": "code",
   "execution_count": 81,
   "id": "5961b309",
   "metadata": {},
   "outputs": [
    {
     "name": "stdout",
     "output_type": "stream",
     "text": [
      "4\n",
      "1\n",
      "3\n"
     ]
    }
   ],
   "source": [
    "#Metodo count\n",
    "cadena=\"un uno, un dos, un tres\"\n",
    "print(cadena.count('un'))\n",
    "print(cadena.count('un',10))\n",
    "print(cadena.count('un',0,10))"
   ]
  },
  {
   "cell_type": "code",
   "execution_count": 90,
   "id": "1b333486",
   "metadata": {},
   "outputs": [
    {
     "name": "stdout",
     "output_type": "stream",
     "text": [
      "['un', 'uno,', 'un', 'dos,', 'un', 'tres']\n",
      "3\n"
     ]
    }
   ],
   "source": [
    "cont=0\n",
    "cadena=\"un uno, un dos, un tres\"\n",
    "cadena1=cadena.split()\n",
    "print(cadena1)\n",
    "for i, valor in enumerate(cadena1):\n",
    "    if valor=='un':\n",
    "        cont+=1\n",
    "print(cont)"
   ]
  },
  {
   "cell_type": "code",
   "execution_count": 97,
   "id": "1fc56a01",
   "metadata": {},
   "outputs": [
    {
     "name": "stdout",
     "output_type": "stream",
     "text": [
      "XXX XXXo, XXX dos, XXX tres\n",
      "XXX XXXo, un dos, un tres\n"
     ]
    }
   ],
   "source": [
    "#Remplazar metodo REPLACE\n",
    "cadena='un uno, un dos, un tres'\n",
    "print(cadena.replace('un','XXX'))\n",
    "print(cadena.replace('un','XXX',2))"
   ]
  },
  {
   "cell_type": "code",
   "execution_count": 98,
   "id": "fc74b7e4",
   "metadata": {},
   "outputs": [
    {
     "name": "stdout",
     "output_type": "stream",
     "text": [
      "El valor es: 12\n"
     ]
    }
   ],
   "source": [
    "print(\"El valor es: {}\".format(12))"
   ]
  },
  {
   "cell_type": "code",
   "execution_count": 99,
   "id": "44226214",
   "metadata": {},
   "outputs": [
    {
     "name": "stdout",
     "output_type": "stream",
     "text": [
      "El valor es: 12\n"
     ]
    }
   ],
   "source": [
    "n1=12\n",
    "print(\"El valor es: {}\".format(n1))"
   ]
  },
  {
   "cell_type": "code",
   "execution_count": 100,
   "id": "9e080afe",
   "metadata": {},
   "outputs": [
    {
     "name": "stdout",
     "output_type": "stream",
     "text": [
      "El valor es: 12.45\n"
     ]
    }
   ],
   "source": [
    "n1=12.45\n",
    "print(\"El valor es: {}\".format(n1))"
   ]
  },
  {
   "cell_type": "code",
   "execution_count": 101,
   "id": "4bf5e8ae",
   "metadata": {},
   "outputs": [
    {
     "name": "stdout",
     "output_type": "stream",
     "text": [
      "Los valores son: 10, 23.6 y Hola\n"
     ]
    }
   ],
   "source": [
    "n1=12\n",
    "print(\"Los valores son: {}, {} y {}\".format(10,23.6,'Hola'))"
   ]
  },
  {
   "cell_type": "code",
   "execution_count": 102,
   "id": "6df5bef5",
   "metadata": {
    "scrolled": true
   },
   "outputs": [
    {
     "name": "stdout",
     "output_type": "stream",
     "text": [
      "Los valores son: 12, 45.54 y 545\n"
     ]
    }
   ],
   "source": [
    "n1=12\n",
    "n2=45.54\n",
    "n3=545\n",
    "print(\"Los valores son: {}, {} y {}\".format(n1,n2,n3))"
   ]
  },
  {
   "cell_type": "code",
   "execution_count": 103,
   "id": "f9b94bf8",
   "metadata": {},
   "outputs": [
    {
     "name": "stdout",
     "output_type": "stream",
     "text": [
      "Los valores son: 545, 45.54 y 12\n"
     ]
    }
   ],
   "source": [
    "n1=12\n",
    "n2=45.54\n",
    "n3=545\n",
    "print(\"Los valores son: {2}, {1} y {0}\".format(n1,n2,n3))"
   ]
  },
  {
   "cell_type": "code",
   "execution_count": 104,
   "id": "e6fe6405",
   "metadata": {},
   "outputs": [
    {
     "name": "stdout",
     "output_type": "stream",
     "text": [
      "Los valores son: 545, 12 y 45.54\n"
     ]
    }
   ],
   "source": [
    "a=12\n",
    "b=45.54\n",
    "c=545\n",
    "print(\"Los valores son: {n3}, {n1} y {n2}\".format(n1=a,n2=b,n3=c))"
   ]
  },
  {
   "cell_type": "code",
   "execution_count": 105,
   "id": "b5239a49",
   "metadata": {
    "scrolled": true
   },
   "outputs": [
    {
     "name": "stdout",
     "output_type": "stream",
     "text": [
      "Los valores son:  12 , 45.54  y  545 .\n"
     ]
    }
   ],
   "source": [
    "print(\"Los valores son: \",a,\",\",b,\" y \",c,\".\")"
   ]
  },
  {
   "cell_type": "code",
   "execution_count": 106,
   "id": "9dd63f4a",
   "metadata": {},
   "outputs": [
    {
     "name": "stdout",
     "output_type": "stream",
     "text": [
      "Hola Mundo\n"
     ]
    }
   ],
   "source": [
    "mensaje1='Hola'+' '+'Mundo'\n",
    "print(mensaje1)"
   ]
  },
  {
   "cell_type": "code",
   "execution_count": 107,
   "id": "394ac078",
   "metadata": {},
   "outputs": [
    {
     "name": "stdout",
     "output_type": "stream",
     "text": [
      "Hola Hola Hola Mundo\n"
     ]
    }
   ],
   "source": [
    "mensaje1='Hola '*3\n",
    "mensaje2=\"Mundo\"\n",
    "\n",
    "print(mensaje1+mensaje2)"
   ]
  },
  {
   "cell_type": "code",
   "execution_count": 111,
   "id": "7b7c7778",
   "metadata": {},
   "outputs": [
    {
     "name": "stdout",
     "output_type": "stream",
     "text": [
      "\" Hola \"\n",
      "\" Hola  \"\n",
      "\" Hola Mundo \"\n"
     ]
    }
   ],
   "source": [
    "mensaje3='Hola'\n",
    "print('\"',mensaje3,'\"')\n",
    "mensaje3+=' '\n",
    "print('\"',mensaje3,'\"')\n",
    "mensaje3+='Mundo'\n",
    "print('\"',mensaje3,'\"')"
   ]
  },
  {
   "cell_type": "code",
   "execution_count": 115,
   "id": "ffd5de2e",
   "metadata": {},
   "outputs": [
    {
     "name": "stdout",
     "output_type": "stream",
     "text": [
      "\" Hola \"\n",
      "\" Hola  \"\n"
     ]
    },
    {
     "ename": "TypeError",
     "evalue": "can only concatenate str (not \"int\") to str",
     "output_type": "error",
     "traceback": [
      "\u001b[0;31m---------------------------------------------------------------------------\u001b[0m",
      "\u001b[0;31mTypeError\u001b[0m                                 Traceback (most recent call last)",
      "\u001b[0;32m<ipython-input-115-d742e118d1a6>\u001b[0m in \u001b[0;36m<module>\u001b[0;34m\u001b[0m\n\u001b[1;32m      3\u001b[0m \u001b[0mmensaje3\u001b[0m\u001b[0;34m+=\u001b[0m\u001b[0;34m' '\u001b[0m\u001b[0;34m\u001b[0m\u001b[0;34m\u001b[0m\u001b[0m\n\u001b[1;32m      4\u001b[0m \u001b[0mprint\u001b[0m\u001b[0;34m(\u001b[0m\u001b[0;34m'\"'\u001b[0m\u001b[0;34m,\u001b[0m\u001b[0mmensaje3\u001b[0m\u001b[0;34m,\u001b[0m\u001b[0;34m'\"'\u001b[0m\u001b[0;34m)\u001b[0m\u001b[0;34m\u001b[0m\u001b[0;34m\u001b[0m\u001b[0m\n\u001b[0;32m----> 5\u001b[0;31m \u001b[0mmensaje3\u001b[0m\u001b[0;34m+=\u001b[0m\u001b[0;36m89\u001b[0m\u001b[0;34m\u001b[0m\u001b[0;34m\u001b[0m\u001b[0m\n\u001b[0m\u001b[1;32m      6\u001b[0m \u001b[0mprint\u001b[0m\u001b[0;34m(\u001b[0m\u001b[0;34m'\"'\u001b[0m\u001b[0;34m,\u001b[0m\u001b[0mmensaje3\u001b[0m\u001b[0;34m,\u001b[0m\u001b[0;34m'\"'\u001b[0m\u001b[0;34m)\u001b[0m\u001b[0;34m\u001b[0m\u001b[0;34m\u001b[0m\u001b[0m\n",
      "\u001b[0;31mTypeError\u001b[0m: can only concatenate str (not \"int\") to str"
     ]
    }
   ],
   "source": [
    "mensaje3='Hola'\n",
    "print('\"',mensaje3,'\"')\n",
    "mensaje3+=' '\n",
    "print('\"',mensaje3,'\"')\n",
    "mensaje3+=89\n",
    "print('\"',mensaje3,'\"')"
   ]
  },
  {
   "cell_type": "code",
   "execution_count": 116,
   "id": "cc63d3c1",
   "metadata": {},
   "outputs": [
    {
     "name": "stdout",
     "output_type": "stream",
     "text": [
      "\" Hola \"\n",
      "\" Hola  \"\n",
      "\" Hola 89 \"\n"
     ]
    }
   ],
   "source": [
    "mensaje3='Hola'\n",
    "print('\"',mensaje3,'\"')\n",
    "mensaje3+=' '\n",
    "print('\"',mensaje3,'\"')\n",
    "mensaje3+=str(89)\n",
    "print('\"',mensaje3,'\"')"
   ]
  },
  {
   "cell_type": "code",
   "execution_count": 112,
   "id": "e97d44d7",
   "metadata": {},
   "outputs": [
    {
     "name": "stdout",
     "output_type": "stream",
     "text": [
      "20\n"
     ]
    }
   ],
   "source": [
    "var=10\n",
    "var+=10\n",
    "print(var)"
   ]
  },
  {
   "cell_type": "code",
   "execution_count": 113,
   "id": "279ce344",
   "metadata": {},
   "outputs": [
    {
     "name": "stdout",
     "output_type": "stream",
     "text": [
      "0\n"
     ]
    }
   ],
   "source": [
    "var=10\n",
    "var-=10\n",
    "print(var)"
   ]
  },
  {
   "cell_type": "code",
   "execution_count": 114,
   "id": "f3d7c5d5",
   "metadata": {},
   "outputs": [
    {
     "name": "stdout",
     "output_type": "stream",
     "text": [
      "100\n"
     ]
    }
   ],
   "source": [
    "var=10\n",
    "var*=10\n",
    "print(var)"
   ]
  }
 ],
 "metadata": {
  "kernelspec": {
   "display_name": "Python 3",
   "language": "python",
   "name": "python3"
  },
  "language_info": {
   "codemirror_mode": {
    "name": "ipython",
    "version": 3
   },
   "file_extension": ".py",
   "mimetype": "text/x-python",
   "name": "python",
   "nbconvert_exporter": "python",
   "pygments_lexer": "ipython3",
   "version": "3.9.1"
  }
 },
 "nbformat": 4,
 "nbformat_minor": 5
}
