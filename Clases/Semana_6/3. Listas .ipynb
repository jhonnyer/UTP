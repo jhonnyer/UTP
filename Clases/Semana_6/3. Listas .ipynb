{
 "cells": [
  {
   "cell_type": "code",
   "execution_count": 9,
   "id": "18c7c87e",
   "metadata": {},
   "outputs": [
    {
     "name": "stdout",
     "output_type": "stream",
     "text": [
      "[2.5, 'DevCode', [5, 6], 4]\n",
      "[2.5, [5, 6]]\n"
     ]
    }
   ],
   "source": [
    "lista=[1,2.5,'DevCode',[5,6],4]\n",
    "print(lista[1:6])\n",
    "# Lst [ Inicial : Fin : IndexJump ]\n",
    "#El inicio, final y el salto en este caso de dos en dos\n",
    "print(lista[1:6:2])\n"
   ]
  },
  {
   "cell_type": "code",
   "execution_count": 10,
   "id": "b8f92cdc",
   "metadata": {},
   "outputs": [
    {
     "name": "stdout",
     "output_type": "stream",
     "text": [
      "['pepe', 25]\n"
     ]
    }
   ],
   "source": [
    "nombre=\"pepe\"\n",
    "edad=25\n",
    "listas=[nombre,edad]\n",
    "print(listas)"
   ]
  },
  {
   "cell_type": "code",
   "execution_count": 11,
   "id": "e2483f8d",
   "metadata": {},
   "outputs": [
    {
     "name": "stdout",
     "output_type": "stream",
     "text": [
      "['pepe', 25]\n"
     ]
    }
   ],
   "source": [
    "nombre='Juan'\n",
    "print(listas)"
   ]
  },
  {
   "cell_type": "code",
   "execution_count": 13,
   "id": "419697d9",
   "metadata": {},
   "outputs": [
    {
     "name": "stdout",
     "output_type": "stream",
     "text": [
      "[['Ana', 'Bernardo'], [22, 21]]\n"
     ]
    }
   ],
   "source": [
    "#Objetos mutables dentro de las listas, modifican el valor de la lista\n",
    "nombres=[\"Ana\",\"Bernardo\"]\n",
    "edades=[22,21]\n",
    "lista=[nombres,edades]\n",
    "print(lista)"
   ]
  },
  {
   "cell_type": "code",
   "execution_count": 14,
   "id": "a88a893b",
   "metadata": {},
   "outputs": [
    {
     "name": "stdout",
     "output_type": "stream",
     "text": [
      "[['Ana', 'Bernardo', 'Cristina'], [22, 21]]\n"
     ]
    }
   ],
   "source": [
    "nombres+=['Cristina']\n",
    "print(lista)"
   ]
  },
  {
   "cell_type": "code",
   "execution_count": 15,
   "id": "5efdf19f",
   "metadata": {},
   "outputs": [
    {
     "name": "stdout",
     "output_type": "stream",
     "text": [
      "huevos\n"
     ]
    }
   ],
   "source": [
    "factura=['pan','huevos',100]\n",
    "print(factura[1])"
   ]
  },
  {
   "cell_type": "code",
   "execution_count": 16,
   "id": "cbd3d6ce",
   "metadata": {},
   "outputs": [
    {
     "name": "stdout",
     "output_type": "stream",
     "text": [
      "3\n"
     ]
    }
   ],
   "source": [
    "print(len(factura))"
   ]
  },
  {
   "cell_type": "code",
   "execution_count": 17,
   "id": "74120a9a",
   "metadata": {},
   "outputs": [
    {
     "name": "stdout",
     "output_type": "stream",
     "text": [
      "2\n"
     ]
    }
   ],
   "source": [
    "print(len(factura)-1)"
   ]
  },
  {
   "cell_type": "code",
   "execution_count": 19,
   "id": "310d71c3",
   "metadata": {},
   "outputs": [
    {
     "data": {
      "text/plain": [
       "100"
      ]
     },
     "execution_count": 19,
     "metadata": {},
     "output_type": "execute_result"
    }
   ],
   "source": [
    "#Ultimo elemento de una lista\n",
    "factura[-1]"
   ]
  },
  {
   "cell_type": "code",
   "execution_count": 20,
   "id": "b818485a",
   "metadata": {},
   "outputs": [
    {
     "data": {
      "text/plain": [
       "'pan'"
      ]
     },
     "execution_count": 20,
     "metadata": {},
     "output_type": "execute_result"
    }
   ],
   "source": [
    "#primer elemento\n",
    "factura[-len(factura)]"
   ]
  },
  {
   "cell_type": "code",
   "execution_count": 22,
   "id": "3de6d6bc",
   "metadata": {},
   "outputs": [
    {
     "name": "stdout",
     "output_type": "stream",
     "text": [
      "['pan', 'carne', 100]\n"
     ]
    }
   ],
   "source": [
    "#Modificar una lista con el indice\n",
    "factura[1]=\"carne\"\n",
    "print(factura)"
   ]
  },
  {
   "cell_type": "code",
   "execution_count": 23,
   "id": "a4009a63",
   "metadata": {},
   "outputs": [
    {
     "name": "stdout",
     "output_type": "stream",
     "text": [
      "[2.5, 3.6, 4, 5, 6]\n"
     ]
    }
   ],
   "source": [
    "#Metodo append()\n",
    "versiones_plone=[2.5,3.6,4,5]\n",
    "versiones_plone.append(6)\n",
    "print(versiones_plone)"
   ]
  },
  {
   "cell_type": "code",
   "execution_count": 25,
   "id": "b69a9ef1",
   "metadata": {},
   "outputs": [
    {
     "name": "stdout",
     "output_type": "stream",
     "text": [
      "6 -> 1\n",
      "Hola -> 1\n"
     ]
    }
   ],
   "source": [
    "#MEtodo count() verifica cuantas veces aparece un elemento en una lista\n",
    "versiones_plone=[2.5,3.6,4,5,6,'Hola']\n",
    "print(\"6 ->\",versiones_plone.count(6))\n",
    "print(\"Hola ->\",versiones_plone.count('Hola'))"
   ]
  },
  {
   "cell_type": "code",
   "execution_count": 27,
   "id": "8d0ed770",
   "metadata": {},
   "outputs": [
    {
     "name": "stdout",
     "output_type": "stream",
     "text": [
      "[2.5, 3.6, 4, 5, 6, 'Hola', 4]\n"
     ]
    }
   ],
   "source": [
    "#Metodo extend extiende una lista agregando un iterable al final\n",
    "versiones_plone=[2.5,3.6,4,5,6,'Hola']\n",
    "versiones_plone.extend([4])\n",
    "print(versiones_plone)"
   ]
  },
  {
   "cell_type": "code",
   "execution_count": 28,
   "id": "f68897eb",
   "metadata": {},
   "outputs": [
    {
     "name": "stdout",
     "output_type": "stream",
     "text": [
      "[2.5, 3.6, 4, 5, 6, 'Hola', 4, 5, 6]\n"
     ]
    }
   ],
   "source": [
    "versiones_plone.extend(range(5,7))\n",
    "print(versiones_plone)"
   ]
  },
  {
   "cell_type": "code",
   "execution_count": 29,
   "id": "e139bfc9",
   "metadata": {},
   "outputs": [
    {
     "data": {
      "text/plain": [
       "5"
      ]
     },
     "execution_count": 29,
     "metadata": {},
     "output_type": "execute_result"
    }
   ],
   "source": [
    "#Metodo index recibe un elemento como argumento, y devuelve la primera posicion en la lista\n",
    "versiones_plone=[2.5,3.6,4,5,6,'Hola']\n",
    "versiones_plone.index('Hola')"
   ]
  },
  {
   "cell_type": "code",
   "execution_count": 30,
   "id": "44898327",
   "metadata": {},
   "outputs": [
    {
     "data": {
      "text/plain": [
       "4"
      ]
     },
     "execution_count": 30,
     "metadata": {},
     "output_type": "execute_result"
    }
   ],
   "source": [
    "versiones_plone[2]"
   ]
  },
  {
   "cell_type": "code",
   "execution_count": 32,
   "id": "6d406255",
   "metadata": {},
   "outputs": [
    {
     "data": {
      "text/plain": [
       "2"
      ]
     },
     "execution_count": 32,
     "metadata": {},
     "output_type": "execute_result"
    }
   ],
   "source": [
    "#El cuatro es el elemento que quiero buscar,  y el dos desde la posicion que voy a buscar\n",
    "versiones_plone.index(4,2)"
   ]
  },
  {
   "cell_type": "code",
   "execution_count": 40,
   "id": "1b00ce0f",
   "metadata": {},
   "outputs": [
    {
     "data": {
      "text/plain": [
       "1"
      ]
     },
     "execution_count": 40,
     "metadata": {},
     "output_type": "execute_result"
    }
   ],
   "source": [
    "#El cuatro es el elemento que quiero buscar,  y el dos desde la posicion que voy a buscar\n",
    "versiones_plone.index(3.6,1)"
   ]
  },
  {
   "cell_type": "code",
   "execution_count": 41,
   "id": "2ac881ce",
   "metadata": {},
   "outputs": [
    {
     "ename": "ValueError",
     "evalue": "4 is not in list",
     "output_type": "error",
     "traceback": [
      "\u001b[0;31m---------------------------------------------------------------------------\u001b[0m",
      "\u001b[0;31mValueError\u001b[0m                                Traceback (most recent call last)",
      "\u001b[0;32m<ipython-input-41-72ed9794490f>\u001b[0m in \u001b[0;36m<module>\u001b[0;34m\u001b[0m\n\u001b[1;32m      1\u001b[0m \u001b[0;31m#Error si no encuentra el elemento en la lista o en el segmento permitido\u001b[0m\u001b[0;34m\u001b[0m\u001b[0;34m\u001b[0m\u001b[0;34m\u001b[0m\u001b[0m\n\u001b[0;32m----> 2\u001b[0;31m \u001b[0mversiones_plone\u001b[0m\u001b[0;34m.\u001b[0m\u001b[0mindex\u001b[0m\u001b[0;34m(\u001b[0m\u001b[0;36m4\u001b[0m\u001b[0;34m,\u001b[0m\u001b[0;36m5\u001b[0m\u001b[0;34m)\u001b[0m\u001b[0;34m\u001b[0m\u001b[0;34m\u001b[0m\u001b[0m\n\u001b[0m",
      "\u001b[0;31mValueError\u001b[0m: 4 is not in list"
     ]
    }
   ],
   "source": [
    "#Error si no encuentra el elemento en la lista o en el segmento permitido\n",
    "versiones_plone.index(4,5)"
   ]
  },
  {
   "cell_type": "code",
   "execution_count": 44,
   "id": "3f521e27",
   "metadata": {},
   "outputs": [
    {
     "name": "stdout",
     "output_type": "stream",
     "text": [
      "[2.5, 3.6, 3.7, 4, 5, 6, 'Hola']\n"
     ]
    }
   ],
   "source": [
    "#Metodo Insert(), inserta un elemento x en la lista, en el indice i\n",
    "versiones_plone=[2.5,3.6,4,5,6,'Hola']\n",
    "#Posicion 2, elemento 3,7\n",
    "versiones_plone.insert(2,3.7)\n",
    "print(versiones_plone)"
   ]
  },
  {
   "cell_type": "code",
   "execution_count": 45,
   "id": "134f3f0e",
   "metadata": {},
   "outputs": [
    {
     "name": "stdout",
     "output_type": "stream",
     "text": [
      "Hola\n"
     ]
    }
   ],
   "source": [
    "#Metodo pop devuelve el ultimo elemento de la lista y lo borra de la misma\n",
    "versiones_plone=[2.5,3.6,4,5,6,'Hola']\n",
    "print(versiones_plone.pop())"
   ]
  },
  {
   "cell_type": "code",
   "execution_count": 46,
   "id": "ccfaf88e",
   "metadata": {},
   "outputs": [
    {
     "name": "stdout",
     "output_type": "stream",
     "text": [
      "[2.5, 3.6, 4, 5, 6]\n"
     ]
    }
   ],
   "source": [
    "print(versiones_plone)"
   ]
  },
  {
   "cell_type": "code",
   "execution_count": 47,
   "id": "0a88de90",
   "metadata": {},
   "outputs": [
    {
     "name": "stdout",
     "output_type": "stream",
     "text": [
      "3.6\n",
      "[2.5, 4, 5, 6]\n"
     ]
    }
   ],
   "source": [
    "#Opcionalmente pop puede recibir un argumento por defecto que es el elemento a borrar en la lista\n",
    "print(versiones_plone.pop(1))\n",
    "print(versiones_plone)"
   ]
  },
  {
   "cell_type": "code",
   "execution_count": 49,
   "id": "22bff15b",
   "metadata": {},
   "outputs": [
    {
     "name": "stdout",
     "output_type": "stream",
     "text": [
      "[2.5, 3.6, 4, 5, 6, 'Hola']\n",
      "[3.6, 4, 5, 6, 'Hola']\n"
     ]
    }
   ],
   "source": [
    "#Metodo remove, recibe como argumento un elemento y borra su primera aparicion en la lista\n",
    "versiones_plone=[2.5,3.6,4,5,6,'Hola']\n",
    "print(versiones_plone)\n",
    "versiones_plone.remove(2.5)\n",
    "print(versiones_plone)"
   ]
  },
  {
   "cell_type": "code",
   "execution_count": 50,
   "id": "e7bc782d",
   "metadata": {},
   "outputs": [
    {
     "ename": "ValueError",
     "evalue": "list.remove(x): x not in list",
     "output_type": "error",
     "traceback": [
      "\u001b[0;31m---------------------------------------------------------------------------\u001b[0m",
      "\u001b[0;31mValueError\u001b[0m                                Traceback (most recent call last)",
      "\u001b[0;32m<ipython-input-50-07df69cca0eb>\u001b[0m in \u001b[0;36m<module>\u001b[0;34m\u001b[0m\n\u001b[1;32m      1\u001b[0m \u001b[0;31m#Error de valor si el elemento no se encuentra en la lisa\u001b[0m\u001b[0;34m\u001b[0m\u001b[0;34m\u001b[0m\u001b[0;34m\u001b[0m\u001b[0m\n\u001b[0;32m----> 2\u001b[0;31m \u001b[0mversiones_plone\u001b[0m\u001b[0;34m.\u001b[0m\u001b[0mremove\u001b[0m\u001b[0;34m(\u001b[0m\u001b[0;36m2.5\u001b[0m\u001b[0;34m)\u001b[0m\u001b[0;34m\u001b[0m\u001b[0;34m\u001b[0m\u001b[0m\n\u001b[0m",
      "\u001b[0;31mValueError\u001b[0m: list.remove(x): x not in list"
     ]
    }
   ],
   "source": [
    "#Error de valor si el elemento no se encuentra en la lisa\n",
    "versiones_plone.remove(2.5)"
   ]
  },
  {
   "cell_type": "code",
   "execution_count": 51,
   "id": "af218dc9",
   "metadata": {},
   "outputs": [
    {
     "name": "stdout",
     "output_type": "stream",
     "text": [
      "[2.5, 3.6, 4, 5, 6, 'Hola']\n",
      "['Hola', 6, 5, 4, 3.6, 2.5]\n"
     ]
    }
   ],
   "source": [
    "#Metodo Reverse(), invierte el orden de los elementos en una lista\n",
    "versiones_plone=[2.5,3.6,4,5,6,'Hola']\n",
    "print(versiones_plone)\n",
    "versiones_plone.reverse()\n",
    "print(versiones_plone)"
   ]
  },
  {
   "cell_type": "code",
   "execution_count": 54,
   "id": "6de9c01c",
   "metadata": {},
   "outputs": [
    {
     "name": "stdout",
     "output_type": "stream",
     "text": [
      "[7, 2.5, 3.6, 8, 5, 4, 6]\n",
      "[2.5, 3.6, 4, 5, 6, 7, 8]\n"
     ]
    }
   ],
   "source": [
    "#Metodo SORT(), ordena los elementos de una lista\n",
    "versiones_plone=[7,2.5,3.6,8,5,4,6]\n",
    "print(versiones_plone)\n",
    "versiones_plone.sort()\n",
    "print(versiones_plone)"
   ]
  },
  {
   "cell_type": "code",
   "execution_count": 57,
   "id": "b6193a0f",
   "metadata": {},
   "outputs": [
    {
     "name": "stdout",
     "output_type": "stream",
     "text": [
      "['paz', 'Mundo', 'Hola', 'abecedario']\n",
      "['Hola', 'Mundo', 'abecedario', 'paz']\n"
     ]
    }
   ],
   "source": [
    "#Metodo SORT(), ordena los elementos de una lista\n",
    "versiones_plone=['paz','Mundo','Hola','abecedario']\n",
    "print(versiones_plone)\n",
    "versiones_plone.sort()\n",
    "print(versiones_plone)"
   ]
  },
  {
   "cell_type": "code",
   "execution_count": 58,
   "id": "36f1f2df",
   "metadata": {},
   "outputs": [
    {
     "name": "stdout",
     "output_type": "stream",
     "text": [
      "[8, 7, 6, 5, 4, 3.6, 2.5]\n"
     ]
    }
   ],
   "source": [
    "#El metodo sort admite la opcion reverse por defecto con valor false. De tener valor True, el ordenamiento \n",
    "#se hace en sentido inverso\n",
    "versiones_plone=[7,2.5,3.6,8,5,4,6]\n",
    "versiones_plone.sort(reverse=True)\n",
    "print(versiones_plone)"
   ]
  },
  {
   "cell_type": "code",
   "execution_count": 59,
   "id": "fd07ed4a",
   "metadata": {},
   "outputs": [
    {
     "data": {
      "text/plain": [
       "['Hola,', 'como', 'estas', 'tu']"
      ]
     },
     "execution_count": 59,
     "metadata": {},
     "output_type": "execute_result"
    }
   ],
   "source": [
    "#Ejemplo iterar sobre una vista, mediante la funcion split en una cadena de string\n",
    "mensaje=\"Hola, como estas tu\"\n",
    "mensaje.split()"
   ]
  },
  {
   "cell_type": "code",
   "execution_count": 60,
   "id": "4af84083",
   "metadata": {},
   "outputs": [
    {
     "name": "stdout",
     "output_type": "stream",
     "text": [
      "Hola,\n",
      "como\n",
      "estas\n",
      "tu\n"
     ]
    }
   ],
   "source": [
    "for palabra in mensaje.split():\n",
    "    print(palabra)"
   ]
  },
  {
   "cell_type": "code",
   "execution_count": 61,
   "id": "aa8b47d0",
   "metadata": {},
   "outputs": [
    {
     "name": "stdout",
     "output_type": "stream",
     "text": [
      "['Hola,', 'como', 'estas', 'tu']\n"
     ]
    }
   ],
   "source": [
    "lista=mensaje.split()\n",
    "print(lista)"
   ]
  },
  {
   "cell_type": "code",
   "execution_count": 62,
   "id": "fcfc4b41",
   "metadata": {},
   "outputs": [
    {
     "name": "stdout",
     "output_type": "stream",
     "text": [
      "¿Cuál es tu nombre, la respuesta es: Leonardo\n",
      "¿Cuál es tu objetivo, la respuesta es: aprender python\n",
      "¿Cuál es tu sistema operativo, la respuesta es: Linux\n"
     ]
    }
   ],
   "source": [
    "#Ejemplo de iterar sobre dos o mas secuencias\n",
    "#Para iterar sobre dos o más secuencias al mismo tiempo, los valores pueden emparejarse con la funcion zip()\n",
    "preguntas=['nombre','objetivo','sistema operativo']\n",
    "respuestas=['Leonardo','aprender python','Linux']\n",
    "for pregunta, respuesta in zip(preguntas, respuestas):\n",
    "    print(\"¿Cuál es tu {0}, la respuesta es: {1}\".format(pregunta, respuesta))"
   ]
  },
  {
   "cell_type": "code",
   "execution_count": 63,
   "id": "a3e2ae9c",
   "metadata": {},
   "outputs": [
    {
     "name": "stdout",
     "output_type": "stream",
     "text": [
      "Ramón García,7.6,Historia\n"
     ]
    },
    {
     "data": {
      "text/plain": [
       "'Ramón García ha sacado un 7.6 en Historia.'"
      ]
     },
     "execution_count": 63,
     "metadata": {},
     "output_type": "execute_result"
    }
   ],
   "source": [
    "# Variables del ejercicio (no las modifiques)\n",
    "cadena_corrupta = \"airotsiH,6.7,aícraG nómaR\"\n",
    "\n",
    "# Completa el ejercicio\n",
    "cadena_volteada=cadena_corrupta[::-1]\n",
    "print(cadena_volteada)\n",
    "nombre=cadena_volteada[0:12]\n",
    "nota=cadena_volteada[13:16]\n",
    "materia=cadena_volteada[17:25]\n",
    "cadena_formateada=nombre+\" ha sacado un \"+nota+\" en \"+materia+\".\"\n",
    "cadena_formateada"
   ]
  },
  {
   "cell_type": "code",
   "execution_count": 78,
   "id": "ba1b1da1",
   "metadata": {},
   "outputs": [
    {
     "name": "stdout",
     "output_type": "stream",
     "text": [
      "Ramón García,7.6,Historia\n",
      "['Ramón García', '7.6', 'Historia']\n"
     ]
    },
    {
     "data": {
      "text/plain": [
       "'Ramón García ha sacado un 7.6 en Historia.'"
      ]
     },
     "execution_count": 78,
     "metadata": {},
     "output_type": "execute_result"
    }
   ],
   "source": [
    "# Variables del ejercicio (no las modifiques)\n",
    "cadena_corrupta = \"airotsiH,6.7,aícraG nómaR\"\n",
    "\n",
    "# Completa el ejercicio\n",
    "cadena_volteada=cadena_corrupta[::-1]\n",
    "print(cadena_volteada)\n",
    "nombre=cadena_volteada[0:12]\n",
    "nota=cadena_volteada[13:16]\n",
    "materia=cadena_volteada[17:25]\n",
    "lista=[nombre,nota,materia]\n",
    "print(lista)\n",
    "cadena_formateada=lista[0]+\" ha sacado un \"+lista[1]+\" en \"+lista[2]+\".\"\n",
    "cadena_formateada"
   ]
  },
  {
   "cell_type": "code",
   "execution_count": 79,
   "id": "30addf03",
   "metadata": {},
   "outputs": [
    {
     "name": "stdout",
     "output_type": "stream",
     "text": [
      "[12, 'texto', 4, 5, 'texto2', [1, 2, 3, 4]]\n",
      "[1, 2, 3, 4, 5, 6, 7, 8]\n"
     ]
    },
    {
     "data": {
      "text/plain": [
       "[1, 2, 3, 'Fin', 6, 12]"
      ]
     },
     "execution_count": 79,
     "metadata": {},
     "output_type": "execute_result"
    }
   ],
   "source": [
    "numeros=[1,2,3,4]\n",
    "datos=[12,\"texto\",4,5,\"texto2\",numeros]\n",
    "#VER POSICION 1 DE LA LISTA DATOS\n",
    "datos[1]\n",
    "print(datos)\n",
    "#lISTA CONCATENADA\n",
    "num=numeros+[5,6,7,8]\n",
    "print(num)\n",
    "#CAMBIA UN VALOR DE LA LISTA NUMEROS POSISCION 3\n",
    "numeros[3]=\"Fin\"\n",
    "numeros.append(6)\n",
    "numeros.append(6*2)\n",
    "numeros"
   ]
  },
  {
   "cell_type": "code",
   "execution_count": 83,
   "id": "78de5c89",
   "metadata": {},
   "outputs": [
    {
     "name": "stdout",
     "output_type": "stream",
     "text": [
      "['a', 'b', 'c']\n",
      "['A', 'B', 'C', 'd', 'e', 'f']\n",
      "['d', 'e', 'f']\n"
     ]
    },
    {
     "data": {
      "text/plain": [
       "3"
      ]
     },
     "execution_count": 83,
     "metadata": {},
     "output_type": "execute_result"
    }
   ],
   "source": [
    "# Ejemplo\n",
    "letras = ['a','b','c','d','e','f']\n",
    "print(letras[:3])\n",
    "#Reasigna valores a los 3 primeros datos de la lista\n",
    "letras[:3] = ['A','B','C']\n",
    "print(letras)\n",
    "#lista vacia los 3 primeros indices\n",
    "letras[:3]=[]\n",
    "print(letras)\n",
    "#LONGITUD LISTA\n",
    "len(letras)"
   ]
  },
  {
   "cell_type": "code",
   "execution_count": 84,
   "id": "205962c5",
   "metadata": {},
   "outputs": [
    {
     "name": "stdout",
     "output_type": "stream",
     "text": [
      "[[1, 2, 3], [4, 5, 6], [7, 8, 9]]\n",
      "\n",
      "8\n"
     ]
    }
   ],
   "source": [
    "a = [1,2,3]\n",
    "b = [4,5,6]\n",
    "c = [7,8,9]\n",
    "#LISTAS ANIDADADS\n",
    "r = [a,b,c]\n",
    "print(r)\n",
    "#vER ELEMENTO 1 DE LA LISTA 2\n",
    "print()\n",
    "print(r[2][1])\n"
   ]
  },
  {
   "cell_type": "code",
   "execution_count": 85,
   "id": "06ee373c",
   "metadata": {},
   "outputs": [
    {
     "name": "stdout",
     "output_type": "stream",
     "text": [
      "[1, 12, 123, 1234, 'Hola']\n",
      "['Bye', 'Ciao', 'Agur', 'Adieu', 'Adiós', 1234]\n",
      "[1, 12, 123, 1234]\n",
      "['Ciao', 'Agur', 'Adieu', 'Adiós']\n",
      "['Ciao', 'Agur', 'Adieu', 'Adiós', 1, 12, 123, 1234]\n"
     ]
    }
   ],
   "source": [
    "#Ejercicio \n",
    "# no modifiques el nombre de ninguna variable, puedes crear nuevas\n",
    "lista1 = [1, 12, 123]\n",
    "lista2 = [\"Bye\", \"Ciao\", \"Agur\", \"Adieu\"]\n",
    "\n",
    "# completa el ejercicio\n",
    "lista1.append(1234)\n",
    "lista1.append(\"Hola\")\n",
    "print(lista1)\n",
    "lista2.append(\"Adiós\")\n",
    "lista2.append(1234)\n",
    "print(lista2)\n",
    "lista3=lista1[:4]\n",
    "print(lista3)\n",
    "lista4=lista2[1:5]\n",
    "print(lista4)\n",
    "lista5=lista4+lista3\n",
    "print(lista5)"
   ]
  },
  {
   "cell_type": "code",
   "execution_count": 86,
   "id": "642d2abf",
   "metadata": {},
   "outputs": [
    {
     "name": "stdout",
     "output_type": "stream",
     "text": [
      "[4, 4, 4, 13]\n"
     ]
    },
    {
     "data": {
      "text/plain": [
       "[[1, 1, 1, 3], [2, 2, 2, 6], [3, 3, 3, 9], [4, 4, 4, 12]]"
      ]
     },
     "execution_count": 86,
     "metadata": {},
     "output_type": "execute_result"
    }
   ],
   "source": [
    "#La función llamada sum(lista) devuelve una suma de todos los elementos de la lista de la matriz en la posicion 3\n",
    "matriz = [ \n",
    "    [1, 1, 1, 3],\n",
    "    [2, 2, 2, 7],\n",
    "    [3, 3, 3, 9],\n",
    "    [4, 4, 4, 13]\n",
    "]\n",
    "print(matriz[-1])\n",
    "#accedo a la lista 2, corregir el valor 7. Suma de la lista 1 todos los valores hasta la posicion -1,es decir: 2+2+2=6 \n",
    "matriz[1][-1]=sum(matriz[1][:-1])\n",
    "#accedo a la lista 4 O ULTIMA LISTA, corregir el valor 13. Suma de la lista 4 todos los valores hasta la posicion -1,es decir: 4+4+4=12 \n",
    "matriz[-1][-1]=sum(matriz[-1][:-1])\n",
    "matriz"
   ]
  },
  {
   "cell_type": "markdown",
   "id": "f0a52e21",
   "metadata": {},
   "source": [
    "# COLAS TEMATICA\n",
    "http://localhost:8888/notebooks/Documentos/Curso_python/Curso_python_jhonnyer/3.%20COLECCION_DATOS/COLAS.ipynb "
   ]
  },
  {
   "cell_type": "markdown",
   "id": "71a169ec",
   "metadata": {},
   "source": [
    "# Ejercicio \n",
    "\n",
    "Durante la planificación de un proyecto se han acordado una lista de tareas. Para cada una de estas tareas se ha asignado un orden de prioridad (cuanto menor es el número de orden, más prioridad).\n",
    "\n",
    "¿Eres capaz de crear una estructura del tipo cola con todas las tareas ordenadas pero sin los números de orden?\n",
    "\n",
    "Sugerencia\n",
    "\n",
    "Para ordenar automáticamente una lista es posible utilizar el método .sort(), deberias probarlo."
   ]
  },
  {
   "cell_type": "code",
   "execution_count": 88,
   "id": "6aae5563",
   "metadata": {},
   "outputs": [
    {
     "name": "stdout",
     "output_type": "stream",
     "text": [
      "lista de tareas: \n",
      "\n",
      "6 Distribucion\n",
      "2 Diseño\n",
      "1 Concepción\n",
      "7 Mantenimiento\n",
      "4 Producción\n",
      "3 Planificación\n",
      "5 Pruebas\n",
      "[[1, 'Concepción'], [2, 'Diseño'], [3, 'Planificación'], [4, 'Producción'], [5, 'Pruebas'], [6, 'Distribucion'], [7, 'Mantenimiento']]\n",
      "\n",
      " Tareas ordenadas por prioridad: \n",
      "\n",
      "Concepción\n",
      "Diseño\n",
      "Planificación\n",
      "Producción\n",
      "Pruebas\n",
      "Distribucion\n",
      "Mantenimiento\n",
      "<class 'collections.deque'>\n",
      "\n",
      " Primer tarea a realizar:  Concepción\n"
     ]
    }
   ],
   "source": [
    "#IMPORTAR LIBRERIA COLA \n",
    "from collections import deque\n",
    "\n",
    "tareas=[\n",
    "    [6,\"Distribucion\"],\n",
    "    [2,\"Diseño\"],\n",
    "    [1,\"Concepción\"],\n",
    "    [7,\"Mantenimiento\"],\n",
    "    [4,\"Producción\"],\n",
    "    [3,\"Planificación\"],\n",
    "    [5,\"Pruebas\"]\n",
    "]\n",
    "\n",
    "#FOR NORMAL\n",
    "print(\"lista de tareas: \\n\")\n",
    "for tarea in tareas:\n",
    "    print(tarea[0], tarea[1])\n",
    "\n",
    "#ORDENAR LISTA DE TAREAS CON METODO SORT()\n",
    "tareas.sort()\n",
    "print(tareas)\n",
    "\n",
    "#AÑADIR LAS TAREAS ORDENADAS A UNA COLA\n",
    "cola=deque()\n",
    "for tarea in tareas:\n",
    "    cola.append(tarea[1])\n",
    "\n",
    "print(\"\\n Tareas ordenadas por prioridad: \\n\")\n",
    "for c in cola:\n",
    "    print(c)\n",
    "\n",
    "print(type(cola))\n",
    "#PRIMER TAREA A REALIZAR\n",
    "c=cola.popleft()\n",
    "print(\"\\n Primer tarea a realizar: \",c)"
   ]
  }
 ],
 "metadata": {
  "kernelspec": {
   "display_name": "Python 3",
   "language": "python",
   "name": "python3"
  },
  "language_info": {
   "codemirror_mode": {
    "name": "ipython",
    "version": 3
   },
   "file_extension": ".py",
   "mimetype": "text/x-python",
   "name": "python",
   "nbconvert_exporter": "python",
   "pygments_lexer": "ipython3",
   "version": "3.9.1"
  }
 },
 "nbformat": 4,
 "nbformat_minor": 5
}
