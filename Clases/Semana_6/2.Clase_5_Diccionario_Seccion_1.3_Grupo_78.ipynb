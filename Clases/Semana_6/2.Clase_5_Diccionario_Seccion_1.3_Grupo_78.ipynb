{
 "cells": [
  {
   "cell_type": "code",
   "execution_count": 1,
   "id": "cb2ce971",
   "metadata": {},
   "outputs": [
    {
     "name": "stdout",
     "output_type": "stream",
     "text": [
      "{}\n"
     ]
    }
   ],
   "source": [
    "diccionario={}\n",
    "print(diccionario)"
   ]
  },
  {
   "cell_type": "code",
   "execution_count": 2,
   "id": "85bbed27",
   "metadata": {},
   "outputs": [
    {
     "name": "stdout",
     "output_type": "stream",
     "text": [
      "{}\n"
     ]
    }
   ],
   "source": [
    "dicionario=dict()\n",
    "print(diccionario)"
   ]
  },
  {
   "cell_type": "code",
   "execution_count": 3,
   "id": "43d6b22d",
   "metadata": {},
   "outputs": [
    {
     "name": "stdout",
     "output_type": "stream",
     "text": [
      "{'total': 55}\n"
     ]
    }
   ],
   "source": [
    "diccionario={\"total\":55}\n",
    "print(diccionario)"
   ]
  },
  {
   "cell_type": "code",
   "execution_count": 5,
   "id": "e1fecf49",
   "metadata": {},
   "outputs": [
    {
     "name": "stdout",
     "output_type": "stream",
     "text": [
      "{'copia': 123.55}\n"
     ]
    }
   ],
   "source": [
    "otrodiccionario={'copia':123.55}\n",
    "print(otrodiccionario)"
   ]
  },
  {
   "cell_type": "code",
   "execution_count": 6,
   "id": "f66eb1aa",
   "metadata": {},
   "outputs": [
    {
     "name": "stdout",
     "output_type": "stream",
     "text": [
      "{'total': 55, 'descuento': True, 15: '15'}\n"
     ]
    }
   ],
   "source": [
    "diccionario={'total':55,'descuento':True,15:'15'}\n",
    "print(diccionario)"
   ]
  },
  {
   "cell_type": "code",
   "execution_count": 8,
   "id": "207a4e2a",
   "metadata": {},
   "outputs": [
    {
     "name": "stdout",
     "output_type": "stream",
     "text": [
      "{'total': 55, 'descuento': True, 15: '15'}\n",
      "{'nombre': 7, 'telefono': 3434345, 'edad': 33, 'ciudad': 'Pereira'}\n"
     ]
    }
   ],
   "source": [
    "diccionarioEjemploExcel={'nombre':5+2,'telefono':3434345,'edad':33,'ciudad':'Pereira'}\n",
    "print(diccionario)\n",
    "print(diccionarioEjemploExcel)"
   ]
  },
  {
   "cell_type": "code",
   "execution_count": 9,
   "id": "9814d287",
   "metadata": {},
   "outputs": [
    {
     "name": "stdout",
     "output_type": "stream",
     "text": [
      "{'total': 55, 'descuento': True, 'subtotal': 15}\n"
     ]
    }
   ],
   "source": [
    "#Funcion dict()\n",
    "diccionario=dict(total=55,descuento=True,subtotal=15)\n",
    "print(diccionario)"
   ]
  },
  {
   "cell_type": "code",
   "execution_count": 14,
   "id": "81edfaa7",
   "metadata": {},
   "outputs": [
    {
     "name": "stdout",
     "output_type": "stream",
     "text": [
      "{'nombre': 'Juan', 'edad': 23, 'curso': 'Curso de python', 'skills': {'programacion': True, 'base_datos': False}, 'No medallas': 10}\n"
     ]
    }
   ],
   "source": [
    "usuario={\n",
    "    'nombre':'Juan',\n",
    "    'edad':23,\n",
    "    'curso':'Curso de python',\n",
    "    'skills':{\n",
    "        'programacion':True,\n",
    "        'base_datos':False\n",
    "    },\n",
    "    'No medallas':10\n",
    "}\n",
    "\n",
    "print(usuario)"
   ]
  },
  {
   "cell_type": "code",
   "execution_count": 15,
   "id": "41e42b53",
   "metadata": {},
   "outputs": [
    {
     "name": "stdout",
     "output_type": "stream",
     "text": [
      "Juan\n"
     ]
    }
   ],
   "source": [
    "print(usuario['nombre'])"
   ]
  },
  {
   "cell_type": "code",
   "execution_count": 16,
   "id": "bb2cbd9b",
   "metadata": {},
   "outputs": [
    {
     "name": "stdout",
     "output_type": "stream",
     "text": [
      "{'programacion': True, 'base_datos': False}\n"
     ]
    }
   ],
   "source": [
    "print(usuario['skills'])"
   ]
  },
  {
   "cell_type": "code",
   "execution_count": 17,
   "id": "ea4d3250",
   "metadata": {},
   "outputs": [
    {
     "name": "stdout",
     "output_type": "stream",
     "text": [
      "True\n"
     ]
    }
   ],
   "source": [
    "print(usuario['skills']['programacion'])"
   ]
  },
  {
   "cell_type": "code",
   "execution_count": 19,
   "id": "417ae237",
   "metadata": {},
   "outputs": [
    {
     "name": "stdout",
     "output_type": "stream",
     "text": [
      "{'total': 55, 'descuento': True, 'subtotal': '15'}\n",
      "15\n"
     ]
    }
   ],
   "source": [
    "diccionario=dict(total=55,descuento=True,subtotal='15')\n",
    "print(diccionario)\n",
    "print(diccionario['subtotal'])"
   ]
  },
  {
   "cell_type": "code",
   "execution_count": 22,
   "id": "56931946",
   "metadata": {},
   "outputs": [
    {
     "name": "stdout",
     "output_type": "stream",
     "text": [
      "{}\n",
      "<class 'dict'>\n"
     ]
    }
   ],
   "source": [
    "diccionario=dict()\n",
    "print(diccionario)\n",
    "print(type(diccionario))"
   ]
  },
  {
   "cell_type": "code",
   "execution_count": 26,
   "id": "61b6f152",
   "metadata": {},
   "outputs": [
    {
     "name": "stdout",
     "output_type": "stream",
     "text": [
      "{'marca': 'Mazda'}\n",
      "{'marca': 'Subaru'}\n",
      "Subaru\n"
     ]
    }
   ],
   "source": [
    "#Añadir nuevo elemento al diccionario\n",
    "diccionario['marca']='Mazda'\n",
    "print(diccionario)\n",
    "diccionario['marca']\n",
    "diccionario['marca']='Subaru'\n",
    "print(diccionario)\n",
    "print(diccionario['marca'])"
   ]
  },
  {
   "cell_type": "code",
   "execution_count": 29,
   "id": "769d33c8",
   "metadata": {},
   "outputs": [
    {
     "name": "stdout",
     "output_type": "stream",
     "text": [
      "{'Eduardo': 1, 'Rafael': 2, 'Luis': 56, 'Fernando': 76}\n",
      "dict_keys(['Eduardo', 'Rafael', 'Luis', 'Fernando'])\n",
      "dict_keys(['Eduardo', 'Rafael', 'Luis', 'Fernando'])\n"
     ]
    }
   ],
   "source": [
    "#MEtodo keys()\n",
    "diccionario={'Eduardo':1,'Rafael':2,'Luis':56,'Fernando':76}\n",
    "print(diccionario)\n",
    "print(diccionario.keys())\n",
    "lista_keys=diccionario.keys()\n",
    "print(lista_keys)"
   ]
  },
  {
   "cell_type": "code",
   "execution_count": 31,
   "id": "021282b9",
   "metadata": {},
   "outputs": [
    {
     "name": "stdout",
     "output_type": "stream",
     "text": [
      "{'Eduardo': 1, 'Rafael': 2, 'Luis': 56, 'Fernando': 76}\n",
      "dict_values([1, 2, 56, 76])\n",
      "dict_values([1, 2, 56, 76])\n"
     ]
    }
   ],
   "source": [
    "#MEtodo values()\n",
    "diccionario={'Eduardo':1,'Rafael':2,'Luis':56,'Fernando':76}\n",
    "print(diccionario)\n",
    "print(diccionario.values())\n",
    "lista_values=diccionario.values()\n",
    "print(lista_values)"
   ]
  },
  {
   "cell_type": "code",
   "execution_count": 32,
   "id": "3ed88e04",
   "metadata": {},
   "outputs": [
    {
     "name": "stdout",
     "output_type": "stream",
     "text": [
      "{'clave1': 234, 'cadena': True, 'clave3': 'Valor 1'}\n",
      "<class 'dict'>\n"
     ]
    }
   ],
   "source": [
    "diccionario={\n",
    "    'clave1':234,\n",
    "    'cadena':True,\n",
    "    'clave3':'Valor 1'\n",
    "}\n",
    "print(diccionario)\n",
    "print(type(diccionario))"
   ]
  },
  {
   "cell_type": "code",
   "execution_count": 33,
   "id": "e4c40a3f",
   "metadata": {},
   "outputs": [
    {
     "data": {
      "text/plain": [
       "234"
      ]
     },
     "execution_count": 33,
     "metadata": {},
     "output_type": "execute_result"
    }
   ],
   "source": [
    "diccionario['clave1']"
   ]
  },
  {
   "cell_type": "code",
   "execution_count": 34,
   "id": "fd5c7dac",
   "metadata": {},
   "outputs": [
    {
     "data": {
      "text/plain": [
       "'Valor 1'"
      ]
     },
     "execution_count": 34,
     "metadata": {},
     "output_type": "execute_result"
    }
   ],
   "source": [
    "diccionario['clave3']"
   ]
  },
  {
   "cell_type": "code",
   "execution_count": 35,
   "id": "723eff09",
   "metadata": {},
   "outputs": [
    {
     "name": "stdout",
     "output_type": "stream",
     "text": [
      "234\n"
     ]
    }
   ],
   "source": [
    "v1=diccionario['clave1']\n",
    "print(v1)"
   ]
  },
  {
   "cell_type": "code",
   "execution_count": 37,
   "id": "02902bbb",
   "metadata": {},
   "outputs": [
    {
     "name": "stdout",
     "output_type": "stream",
     "text": [
      "{'python': 2.7, 'zope': 2.13, 'plone': 5.1, 'django': 2.1}\n"
     ]
    },
    {
     "data": {
      "text/plain": [
       "2.13"
      ]
     },
     "execution_count": 37,
     "metadata": {},
     "output_type": "execute_result"
    }
   ],
   "source": [
    "versiones=dict(python=2.7,zope=2.13,plone=5.1,django=2.1)\n",
    "print(versiones)\n",
    "versiones['zope']"
   ]
  },
  {
   "cell_type": "code",
   "execution_count": 38,
   "id": "e0ba6a94",
   "metadata": {
    "scrolled": true
   },
   "outputs": [
    {
     "name": "stdout",
     "output_type": "stream",
     "text": [
      "{'python': 2.7, 'zope': 2.13, 'plone': 5.1, 'django': 2.1}\n",
      "{}\n"
     ]
    }
   ],
   "source": [
    "#Metodo CLEAR\n",
    "versiones=dict(python=2.7,zope=2.13,plone=5.1,django=2.1)\n",
    "print(versiones)\n",
    "versiones.clear()\n",
    "print(versiones)"
   ]
  },
  {
   "cell_type": "code",
   "execution_count": 40,
   "id": "131f3456",
   "metadata": {},
   "outputs": [
    {
     "name": "stdout",
     "output_type": "stream",
     "text": [
      "{'python': 2.7, 'zope': 2.13, 'plone': 5.1, 'django': 2.1}\n",
      "True\n"
     ]
    }
   ],
   "source": [
    "#Metodo COPY\n",
    "versiones=dict(python=2.7,zope=2.13,plone=5.1,django=2.1)\n",
    "otra_versiones=versiones.copy()\n",
    "print(otra_versiones)\n",
    "print(versiones==otra_versiones)"
   ]
  },
  {
   "cell_type": "code",
   "execution_count": 43,
   "id": "88c0f4b0",
   "metadata": {},
   "outputs": [
    {
     "name": "stdout",
     "output_type": "stream",
     "text": [
      "{'python': None, 'zope': None, 'plone': None}\n",
      "Nuevo diccionario: {'python': None, 'zope': None, 'plone': None}\n",
      "Nuevo diccionario: {'python': None, 'zope': None, 'plone': None}\n",
      "Nuevo diccionario: {'python': None, 'zope': None, 'plone': None}\n"
     ]
    }
   ],
   "source": [
    "#Metodo FromKeys()\n",
    "secuencia=('python','zope','plone')\n",
    "versiones=dict.fromkeys(secuencia)\n",
    "print(versiones)\n",
    "print(\"Nuevo diccionario: %s\" %str(versiones))\n",
    "print(\"Nuevo diccionario: {}\".format(str(versiones)))\n",
    "print(\"Nuevo diccionario: {}\".format(versiones))"
   ]
  },
  {
   "cell_type": "code",
   "execution_count": 44,
   "id": "ab34f7ef",
   "metadata": {
    "scrolled": true
   },
   "outputs": [
    {
     "name": "stdout",
     "output_type": "stream",
     "text": [
      "{'python': 0.1, 'zope': 0.1, 'plone': 0.1}\n",
      "Nuevo diccionario: {'python': 0.1, 'zope': 0.1, 'plone': 0.1}\n",
      "Nuevo diccionario: {'python': 0.1, 'zope': 0.1, 'plone': 0.1}\n",
      "Nuevo diccionario: {'python': 0.1, 'zope': 0.1, 'plone': 0.1}\n"
     ]
    }
   ],
   "source": [
    "#Metodo FromKeys()\n",
    "secuencia=('python','zope','plone')\n",
    "versiones=dict.fromkeys(secuencia, 0.1)\n",
    "print(versiones)\n",
    "print(\"Nuevo diccionario: %s\" %str(versiones))\n",
    "print(\"Nuevo diccionario: {}\".format(str(versiones)))\n",
    "print(\"Nuevo diccionario: {}\".format(versiones))"
   ]
  },
  {
   "cell_type": "code",
   "execution_count": 49,
   "id": "b9ea0d22",
   "metadata": {},
   "outputs": [
    {
     "name": "stdout",
     "output_type": "stream",
     "text": [
      "He visto 42 camellos\n"
     ]
    }
   ],
   "source": [
    "camello=42\n",
    "print(\"He visto %d camellos\" %camello)"
   ]
  },
  {
   "cell_type": "code",
   "execution_count": 50,
   "id": "becc7a61",
   "metadata": {},
   "outputs": [
    {
     "name": "stdout",
     "output_type": "stream",
     "text": [
      "He visto 42.600000 camellos\n"
     ]
    }
   ],
   "source": [
    "camello=42.6\n",
    "print(\"He visto %f camellos\" %camello)"
   ]
  },
  {
   "cell_type": "code",
   "execution_count": 51,
   "id": "0bf1e4bb",
   "metadata": {},
   "outputs": [
    {
     "name": "stdout",
     "output_type": "stream",
     "text": [
      "He visto 42 camellos\n"
     ]
    }
   ],
   "source": [
    "camello=\"42\"\n",
    "print(\"He visto %s camellos\" %camello)"
   ]
  },
  {
   "cell_type": "code",
   "execution_count": 52,
   "id": "8a8da460",
   "metadata": {},
   "outputs": [
    {
     "name": "stdout",
     "output_type": "stream",
     "text": [
      "He visto 42 camellos\n"
     ]
    }
   ],
   "source": [
    "camello=\"42\"\n",
    "print(\"He visto {} camellos\".format(camello))"
   ]
  },
  {
   "cell_type": "code",
   "execution_count": 54,
   "id": "f7c3249d",
   "metadata": {},
   "outputs": [
    {
     "name": "stdout",
     "output_type": "stream",
     "text": [
      "He visto  42  camellos\n"
     ]
    }
   ],
   "source": [
    "camello=\"42\"\n",
    "print(\"He visto \",camello,\" camellos\")"
   ]
  },
  {
   "cell_type": "code",
   "execution_count": 55,
   "id": "0dfc2cb3",
   "metadata": {},
   "outputs": [
    {
     "name": "stdout",
     "output_type": "stream",
     "text": [
      "He visto 42 camellos\n"
     ]
    }
   ],
   "source": [
    "camello=\"42\"\n",
    "print(\"He visto \"+camello+\" camellos\")"
   ]
  },
  {
   "cell_type": "code",
   "execution_count": 56,
   "id": "eb331513",
   "metadata": {},
   "outputs": [
    {
     "name": "stdout",
     "output_type": "stream",
     "text": [
      "He visto 42 camellos\n"
     ]
    }
   ],
   "source": [
    "camello=42\n",
    "print(\"He visto \"+str(camello)+\" camellos\")"
   ]
  },
  {
   "cell_type": "code",
   "execution_count": 45,
   "id": "04c23db9",
   "metadata": {},
   "outputs": [
    {
     "data": {
      "text/plain": [
       "5.1"
      ]
     },
     "execution_count": 45,
     "metadata": {},
     "output_type": "execute_result"
    }
   ],
   "source": [
    "#Metodo get()\n",
    "versiones=dict(python=2.7,zope=2.13,plone=5.1,django=2.1)\n",
    "versiones.get('plone')"
   ]
  },
  {
   "cell_type": "code",
   "execution_count": 48,
   "id": "1f4bf69b",
   "metadata": {
    "scrolled": true
   },
   "outputs": [
    {
     "name": "stdout",
     "output_type": "stream",
     "text": [
      "None\n"
     ]
    }
   ],
   "source": [
    "print(versiones.get('php'))"
   ]
  },
  {
   "cell_type": "code",
   "execution_count": 58,
   "id": "e7ef5e6b",
   "metadata": {
    "scrolled": true
   },
   "outputs": [
    {
     "name": "stdout",
     "output_type": "stream",
     "text": [
      "dict_items([('python', 2.7), ('zope', 2.13), ('plone', 5.1), ('django', 2.1)])\n",
      "dict_items([('python', 2.7), ('zope', 2.13), ('plone', 5.1), ('django', 2.1)])\n"
     ]
    }
   ],
   "source": [
    "#Metodo ITEMS()\n",
    "versiones=dict(python=2.7,zope=2.13,plone=5.1,django=2.1)\n",
    "print(versiones.items())\n",
    "v1=versiones.items()\n",
    "print(v1)"
   ]
  },
  {
   "cell_type": "code",
   "execution_count": 59,
   "id": "5b7d766a",
   "metadata": {},
   "outputs": [
    {
     "data": {
      "text/plain": [
       "{'python': 2.7, 'zope': 2.13, 'plone': 5.1, 'django': 2.1}"
      ]
     },
     "execution_count": 59,
     "metadata": {},
     "output_type": "execute_result"
    }
   ],
   "source": [
    "#Metodo POP()\n",
    "versiones=dict(python=2.7,zope=2.13,plone=5.1,django=2.1)\n",
    "versiones"
   ]
  },
  {
   "cell_type": "code",
   "execution_count": 60,
   "id": "c652c42f",
   "metadata": {},
   "outputs": [
    {
     "name": "stdout",
     "output_type": "stream",
     "text": [
      "2.13\n",
      "{'python': 2.7, 'plone': 5.1, 'django': 2.1}\n"
     ]
    }
   ],
   "source": [
    "print(versiones.pop('zope'))\n",
    "print(versiones)"
   ]
  },
  {
   "cell_type": "code",
   "execution_count": 62,
   "id": "7d061202",
   "metadata": {},
   "outputs": [
    {
     "name": "stdout",
     "output_type": "stream",
     "text": [
      "5.1\n"
     ]
    }
   ],
   "source": [
    "var=versiones.pop('plone')\n",
    "print(var)"
   ]
  },
  {
   "cell_type": "code",
   "execution_count": 63,
   "id": "d9a79edb",
   "metadata": {},
   "outputs": [
    {
     "name": "stdout",
     "output_type": "stream",
     "text": [
      "{'python': 2.7, 'django': 2.1}\n"
     ]
    }
   ],
   "source": [
    "print(versiones)"
   ]
  },
  {
   "cell_type": "code",
   "execution_count": 61,
   "id": "0312efdf",
   "metadata": {},
   "outputs": [
    {
     "ename": "KeyError",
     "evalue": "'zope'",
     "output_type": "error",
     "traceback": [
      "\u001b[0;31m---------------------------------------------------------------------------\u001b[0m",
      "\u001b[0;31mKeyError\u001b[0m                                  Traceback (most recent call last)",
      "\u001b[0;32m<ipython-input-61-b663fa7142a1>\u001b[0m in \u001b[0;36m<module>\u001b[0;34m\u001b[0m\n\u001b[0;32m----> 1\u001b[0;31m \u001b[0mprint\u001b[0m\u001b[0;34m(\u001b[0m\u001b[0mversiones\u001b[0m\u001b[0;34m.\u001b[0m\u001b[0mpop\u001b[0m\u001b[0;34m(\u001b[0m\u001b[0;34m'zope'\u001b[0m\u001b[0;34m)\u001b[0m\u001b[0;34m)\u001b[0m\u001b[0;34m\u001b[0m\u001b[0;34m\u001b[0m\u001b[0m\n\u001b[0m",
      "\u001b[0;31mKeyError\u001b[0m: 'zope'"
     ]
    }
   ],
   "source": [
    "print(versiones.pop('zope'))"
   ]
  },
  {
   "cell_type": "code",
   "execution_count": 65,
   "id": "bcf76eba",
   "metadata": {},
   "outputs": [
    {
     "name": "stdout",
     "output_type": "stream",
     "text": [
      "{'python': 2.7, 'zope': 2.13, 'plone': 5.1}\n",
      "{'django': 2.1}\n"
     ]
    }
   ],
   "source": [
    "#Metodo UPDATE\n",
    "versiones=dict(python=2.7,zope=2.13,plone=5.1)\n",
    "print(versiones)\n",
    "versiones_adicional={'django':2.1}\n",
    "print(versiones_adicional)"
   ]
  },
  {
   "cell_type": "code",
   "execution_count": 66,
   "id": "2d567f61",
   "metadata": {},
   "outputs": [
    {
     "name": "stdout",
     "output_type": "stream",
     "text": [
      "{'python': 2.7, 'zope': 2.13, 'plone': 5.1}\n",
      "{'python': 2.7, 'zope': 2.13, 'plone': 5.1, 'django': 2.1}\n"
     ]
    }
   ],
   "source": [
    "print(versiones)\n",
    "versiones.update(versiones_adicional)\n",
    "print(versiones)"
   ]
  },
  {
   "cell_type": "code",
   "execution_count": 70,
   "id": "51816305",
   "metadata": {},
   "outputs": [
    {
     "data": {
      "text/plain": [
       "4"
      ]
     },
     "execution_count": 70,
     "metadata": {},
     "output_type": "execute_result"
    }
   ],
   "source": [
    "#FUNCION LEN()\n",
    "versiones=dict(python=2.7,zope=2.13,plone=5.1,django=2.1)\n",
    "len(versiones)"
   ]
  },
  {
   "cell_type": "code",
   "execution_count": 71,
   "id": "c161aae1",
   "metadata": {},
   "outputs": [
    {
     "name": "stdout",
     "output_type": "stream",
     "text": [
      "5\n"
     ]
    }
   ],
   "source": [
    "usuario={\n",
    "    'nombre':'Juan',\n",
    "    'edad':23,\n",
    "    'curso':'Curso de python',\n",
    "    'skills':{\n",
    "        'programacion':True,\n",
    "        'base_datos':False\n",
    "    },\n",
    "    'No medallas':10\n",
    "}\n",
    "\n",
    "print(len(usuario))"
   ]
  },
  {
   "cell_type": "code",
   "execution_count": 81,
   "id": "48c52ee3",
   "metadata": {},
   "outputs": [
    {
     "name": "stdout",
     "output_type": "stream",
     "text": [
      "{'zope': 2.13, 'plone': 5.1, 'django': 2.1}\n"
     ]
    }
   ],
   "source": [
    "#Sentencia DEL\n",
    "versiones=dict(python=2.7,zope=2.13,plone=5.1,django=2.1)\n",
    "del versiones['python']\n",
    "print(versiones)"
   ]
  },
  {
   "cell_type": "code",
   "execution_count": 75,
   "id": "454d5a59",
   "metadata": {},
   "outputs": [
    {
     "ename": "KeyError",
     "evalue": "'python'",
     "output_type": "error",
     "traceback": [
      "\u001b[0;31m---------------------------------------------------------------------------\u001b[0m",
      "\u001b[0;31mKeyError\u001b[0m                                  Traceback (most recent call last)",
      "\u001b[0;32m<ipython-input-75-bac856856717>\u001b[0m in \u001b[0;36m<module>\u001b[0;34m\u001b[0m\n\u001b[0;32m----> 1\u001b[0;31m \u001b[0;32mdel\u001b[0m \u001b[0mversiones\u001b[0m\u001b[0;34m[\u001b[0m\u001b[0;34m'python'\u001b[0m\u001b[0;34m]\u001b[0m\u001b[0;34m\u001b[0m\u001b[0;34m\u001b[0m\u001b[0m\n\u001b[0m",
      "\u001b[0;31mKeyError\u001b[0m: 'python'"
     ]
    }
   ],
   "source": [
    "del versiones['python']"
   ]
  },
  {
   "cell_type": "code",
   "execution_count": 82,
   "id": "b26f5d53",
   "metadata": {},
   "outputs": [
    {
     "name": "stdout",
     "output_type": "stream",
     "text": [
      "{'plone': 5.1, 'django': 2.1}\n"
     ]
    }
   ],
   "source": [
    "del(versiones['zope'])\n",
    "print(versiones)"
   ]
  },
  {
   "cell_type": "markdown",
   "id": "42991bb4",
   "metadata": {},
   "source": [
    "# Ejercicio"
   ]
  },
  {
   "cell_type": "code",
   "execution_count": 85,
   "id": "96f7ccb9",
   "metadata": {},
   "outputs": [
    {
     "name": "stdout",
     "output_type": "stream",
     "text": [
      "{'Alumno1': {'nombre': 'Daniel', 'edad': 12, 'estatura': 1.75, 'grado': 'Master'}, 'Alumno2': {'nombre': 'Daniel', 'edad': 35, 'estatura': 1.85, 'grado': 'Doctor'}}\n"
     ]
    }
   ],
   "source": [
    "Estudiantes={\n",
    "             'Alumno1':{'nombre':'Daniel','edad':12,'estatura':1.75,'grado':'Master'},\n",
    "             'Alumno2':{'nombre':'Daniel','edad':35,'estatura':1.85,'grado':'Doctor'}\n",
    "            }\n",
    "print(Estudiantes)"
   ]
  },
  {
   "cell_type": "code",
   "execution_count": 86,
   "id": "47329bbc",
   "metadata": {},
   "outputs": [
    {
     "name": "stdout",
     "output_type": "stream",
     "text": [
      "Los estudiantes tienen el mismo nombre\n"
     ]
    }
   ],
   "source": [
    "if Estudiantes['Alumno1']['nombre']==Estudiantes['Alumno2']['nombre']:\n",
    "    print(\"Los estudiantes tienen el mismo nombre\")\n",
    "else:\n",
    "    print(\"Los estudiantes tienen nombres diferentes\")"
   ]
  },
  {
   "cell_type": "code",
   "execution_count": 89,
   "id": "989c59f3",
   "metadata": {},
   "outputs": [
    {
     "name": "stdout",
     "output_type": "stream",
     "text": [
      "Alumno1 {'nombre': 'Daniel', 'edad': 12, 'estatura': 1.75, 'grado': 'Master'}\n",
      "nombre Daniel\n",
      "edad 12\n",
      "estatura 1.75\n",
      "grado Master\n",
      "Alumno2 {'nombre': 'Daniel', 'edad': 35, 'estatura': 1.85, 'grado': 'Doctor'}\n",
      "nombre Daniel\n",
      "edad 35\n",
      "estatura 1.85\n",
      "grado Doctor\n"
     ]
    }
   ],
   "source": [
    "#Recorrer los diccionarios\n",
    "for i, valor in Estudiantes.items():\n",
    "    print(i,valor)\n",
    "    for i, valor in valor.items():\n",
    "        print(i, valor)"
   ]
  },
  {
   "cell_type": "code",
   "execution_count": 90,
   "id": "96fe3a11",
   "metadata": {},
   "outputs": [
    {
     "name": "stdout",
     "output_type": "stream",
     "text": [
      "{'nombre': 'Daniel', 'edad': 12, 'estatura': 1.75, 'grado': 'Master'}\n",
      "Daniel\n",
      "12\n",
      "1.75\n",
      "Master\n",
      "{'nombre': 'Daniel', 'edad': 35, 'estatura': 1.85, 'grado': 'Doctor'}\n",
      "Daniel\n",
      "35\n",
      "1.85\n",
      "Doctor\n"
     ]
    }
   ],
   "source": [
    "#Recorrer los diccionarios\n",
    "for valor in Estudiantes.values():\n",
    "    print(valor)\n",
    "    for valor in valor.values():\n",
    "        print(valor)"
   ]
  },
  {
   "cell_type": "code",
   "execution_count": 92,
   "id": "1dddd796",
   "metadata": {},
   "outputs": [
    {
     "name": "stdout",
     "output_type": "stream",
     "text": [
      "{'nombre': 'Daniel', 'edad': 12, 'estatura': 1.75, 'grado': 'Master'}\n",
      "FIN\n",
      "{'nombre': 'Daniel', 'edad': 35, 'estatura': 1.85, 'grado': 'Doctor'}\n",
      "FIN\n"
     ]
    }
   ],
   "source": [
    "#Recorrer los diccionarios\n",
    "for valor in Estudiantes.values():\n",
    "    print(valor)\n",
    "    if valor=='Daniel':\n",
    "        for valor in valor.values():\n",
    "            print(valor)\n",
    "    else:\n",
    "        print(\"FIN\")"
   ]
  },
  {
   "cell_type": "code",
   "execution_count": 94,
   "id": "43c684a4",
   "metadata": {},
   "outputs": [
    {
     "name": "stdout",
     "output_type": "stream",
     "text": [
      "[]\n",
      "{'Nombre': 'Goku', 'Clase': 'Guerrero', 'Raza': 'Super Sayayin'}\n",
      "{'Nombre': 'Gangalf', 'Clase': 'Mago', 'Raza': 'Humano'}\n"
     ]
    }
   ],
   "source": [
    "#Creo una losta de personajes\n",
    "personajes=[]\n",
    "\n",
    "#Crear varios personajes\n",
    "goku={'Nombre':'Goku','Clase':'Guerrero','Raza':'Super Sayayin'}\n",
    "gandalf={'Nombre':'Gangalf','Clase':\"Mago\",'Raza':'Humano'}\n",
    "\n",
    "print(personajes)\n",
    "print(goku)\n",
    "print(gandalf)"
   ]
  },
  {
   "cell_type": "code",
   "execution_count": 95,
   "id": "54bee5b7",
   "metadata": {
    "scrolled": true
   },
   "outputs": [
    {
     "name": "stdout",
     "output_type": "stream",
     "text": [
      "[{'Nombre': 'Goku', 'Clase': 'Guerrero', 'Raza': 'Super Sayayin'}, {'Nombre': 'Gangalf', 'Clase': 'Mago', 'Raza': 'Humano'}]\n"
     ]
    }
   ],
   "source": [
    "personajes.append(goku)\n",
    "personajes.append(gandalf)\n",
    "print(personajes)"
   ]
  },
  {
   "cell_type": "markdown",
   "id": "f658116e",
   "metadata": {},
   "source": [
    "# Ejercicio \n",
    "\n",
    "\n",
    "Se va a desarrollar un videojuego y se te encarga configurar y balancear cada clase de personaje con el que se puede jugar. Partiendo que la estadística base para cada caracteristica de los personajes es 2, se deben cumplir las siguientes condiciones:\n",
    "\n",
    "El caballero tiene el doble de vida y defensa que un guerrero.\n",
    "\n",
    "El guerrero tiene el doble de ataque y alcance que un caballero.\n",
    "\n",
    "El arquero tiene la misma vida y ataque que un guerrero, pero la mitad de su defensa y el doble de su alcance.\n",
    "Muestra como quedan las propiedades de los tres personajes.\n"
   ]
  },
  {
   "cell_type": "code",
   "execution_count": 102,
   "id": "3c5fefea",
   "metadata": {},
   "outputs": [
    {
     "name": "stdout",
     "output_type": "stream",
     "text": [
      "Caballero:\t {'vida': 4, 'ataque': 2, 'defensa': 4, 'alcance': 2}\n",
      "Guerrero:\t {'vida': 2, 'ataque': 4, 'defensa': 2, 'alcance': 4}\n",
      "Arquero:\t {'vida': 2, 'ataque': 4, 'defensa': 1.0, 'alcance': 8}\n"
     ]
    }
   ],
   "source": [
    "caballero={'vida':2,'ataque':2,'defensa':2,'alcance':2}\n",
    "guerrero={'vida':2,'ataque':2,'defensa':2,'alcance':2}\n",
    "arquero={'vida':2,'ataque':2,'defensa':2,'alcance':2}\n",
    "\n",
    "#Resolver el ejercicio\n",
    "caballero['vida']=guerrero['vida']*2\n",
    "caballero['defensa']=guerrero['defensa']*2\n",
    "\n",
    "guerrero['ataque']=caballero['ataque']*2\n",
    "guerrero['alcance']=caballero['alcance']*2\n",
    "\n",
    "arquero['vida']=guerrero['vida']\n",
    "arquero['ataque']=guerrero['ataque']\n",
    "arquero['defensa']=guerrero['defensa']/2\n",
    "arquero['alcance']=guerrero['alcance']*2\n",
    "\n",
    "\n",
    "print(\"Caballero:\\t\",caballero)\n",
    "print(\"Guerrero:\\t\",guerrero)\n",
    "print(\"Arquero:\\t\",arquero)"
   ]
  }
 ],
 "metadata": {
  "kernelspec": {
   "display_name": "Python 3",
   "language": "python",
   "name": "python3"
  },
  "language_info": {
   "codemirror_mode": {
    "name": "ipython",
    "version": 3
   },
   "file_extension": ".py",
   "mimetype": "text/x-python",
   "name": "python",
   "nbconvert_exporter": "python",
   "pygments_lexer": "ipython3",
   "version": "3.9.1"
  }
 },
 "nbformat": 4,
 "nbformat_minor": 5
}
