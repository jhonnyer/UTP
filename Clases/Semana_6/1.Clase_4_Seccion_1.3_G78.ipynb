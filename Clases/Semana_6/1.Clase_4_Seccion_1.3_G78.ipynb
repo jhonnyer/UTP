{
 "cells": [
  {
   "cell_type": "code",
   "execution_count": 1,
   "id": "12a015fa",
   "metadata": {},
   "outputs": [
    {
     "name": "stdout",
     "output_type": "stream",
     "text": [
      "Está bien, banana\n"
     ]
    }
   ],
   "source": [
    "palabra='Banana'\n",
    "if palabra == 'banana':\n",
    "    print(\"Está bien, banana\")"
   ]
  },
  {
   "cell_type": "code",
   "execution_count": 3,
   "id": "f385d1a8",
   "metadata": {},
   "outputs": [
    {
     "name": "stdout",
     "output_type": "stream",
     "text": [
      "10\n",
      "Hola\n",
      "<class 'int'>\n",
      "<class 'str'>\n"
     ]
    }
   ],
   "source": [
    "var=10\n",
    "VAR='Hola'\n",
    "print(var)\n",
    "print(VAR)\n",
    "print(type(var))\n",
    "print(type(VAR))"
   ]
  },
  {
   "cell_type": "code",
   "execution_count": 17,
   "id": "21f2d2ae",
   "metadata": {},
   "outputs": [
    {
     "name": "stdout",
     "output_type": "stream",
     "text": [
      "Tu palabra, Banana viene antes de banana\n"
     ]
    }
   ],
   "source": [
    "palabra='Banana'\n",
    "if palabra<'banana':\n",
    "    print(\"Tu palabra, \"+palabra+' viene antes de banana')\n",
    "elif palabra>'banana':\n",
    "    pront('Su palabra, '+palabra+'  vienes después de banana')\n",
    "else:\n",
    "    print(\"Esta bien, banana\")"
   ]
  },
  {
   "cell_type": "code",
   "execution_count": null,
   "id": "649e65bb",
   "metadata": {},
   "outputs": [],
   "source": [
    "ABCDFE..... XYZabcdefg.....xyz"
   ]
  },
  {
   "cell_type": "code",
   "execution_count": 19,
   "id": "7ed8edd7",
   "metadata": {},
   "outputs": [
    {
     "data": {
      "text/plain": [
       "str"
      ]
     },
     "execution_count": 19,
     "metadata": {},
     "output_type": "execute_result"
    }
   ],
   "source": [
    "a='a'\n",
    "B='B'\n",
    "a>B\n",
    "type(a)"
   ]
  },
  {
   "cell_type": "code",
   "execution_count": 18,
   "id": "9686d8aa",
   "metadata": {},
   "outputs": [
    {
     "data": {
      "text/plain": [
       "['__add__',\n",
       " '__class__',\n",
       " '__contains__',\n",
       " '__delattr__',\n",
       " '__dir__',\n",
       " '__doc__',\n",
       " '__eq__',\n",
       " '__format__',\n",
       " '__ge__',\n",
       " '__getattribute__',\n",
       " '__getitem__',\n",
       " '__getnewargs__',\n",
       " '__gt__',\n",
       " '__hash__',\n",
       " '__init__',\n",
       " '__init_subclass__',\n",
       " '__iter__',\n",
       " '__le__',\n",
       " '__len__',\n",
       " '__lt__',\n",
       " '__mod__',\n",
       " '__mul__',\n",
       " '__ne__',\n",
       " '__new__',\n",
       " '__reduce__',\n",
       " '__reduce_ex__',\n",
       " '__repr__',\n",
       " '__rmod__',\n",
       " '__rmul__',\n",
       " '__setattr__',\n",
       " '__sizeof__',\n",
       " '__str__',\n",
       " '__subclasshook__',\n",
       " 'capitalize',\n",
       " 'casefold',\n",
       " 'center',\n",
       " 'count',\n",
       " 'encode',\n",
       " 'endswith',\n",
       " 'expandtabs',\n",
       " 'find',\n",
       " 'format',\n",
       " 'format_map',\n",
       " 'index',\n",
       " 'isalnum',\n",
       " 'isalpha',\n",
       " 'isascii',\n",
       " 'isdecimal',\n",
       " 'isdigit',\n",
       " 'isidentifier',\n",
       " 'islower',\n",
       " 'isnumeric',\n",
       " 'isprintable',\n",
       " 'isspace',\n",
       " 'istitle',\n",
       " 'isupper',\n",
       " 'join',\n",
       " 'ljust',\n",
       " 'lower',\n",
       " 'lstrip',\n",
       " 'maketrans',\n",
       " 'partition',\n",
       " 'removeprefix',\n",
       " 'removesuffix',\n",
       " 'replace',\n",
       " 'rfind',\n",
       " 'rindex',\n",
       " 'rjust',\n",
       " 'rpartition',\n",
       " 'rsplit',\n",
       " 'rstrip',\n",
       " 'split',\n",
       " 'splitlines',\n",
       " 'startswith',\n",
       " 'strip',\n",
       " 'swapcase',\n",
       " 'title',\n",
       " 'translate',\n",
       " 'upper',\n",
       " 'zfill']"
      ]
     },
     "execution_count": 18,
     "metadata": {},
     "output_type": "execute_result"
    }
   ],
   "source": [
    "dir((a))"
   ]
  },
  {
   "cell_type": "code",
   "execution_count": 24,
   "id": "caf372e3",
   "metadata": {},
   "outputs": [
    {
     "name": "stdout",
     "output_type": "stream",
     "text": [
      "BANANA\n"
     ]
    }
   ],
   "source": [
    "#UPPER Es un metodo de la clase string que me permite convertir una cadena de caracteres en minuscula a mayuscula\n",
    "palabra='banana'\n",
    "palabra_nueva=palabra.upper()\n",
    "print(palabra_nueva)"
   ]
  },
  {
   "cell_type": "code",
   "execution_count": 26,
   "id": "6de7edd7",
   "metadata": {},
   "outputs": [
    {
     "name": "stdout",
     "output_type": "stream",
     "text": [
      "hola\n"
     ]
    }
   ],
   "source": [
    "#LOWER Es un metodo de la clase string que me permite convertir una cadena de caracteres en mayuscula a minuscula\n",
    "palabra='HOLA'\n",
    "palabra_nueva=palabra.lower()\n",
    "print(palabra_nueva)"
   ]
  },
  {
   "cell_type": "code",
   "execution_count": 22,
   "id": "472aabd1",
   "metadata": {},
   "outputs": [
    {
     "name": "stdout",
     "output_type": "stream",
     "text": [
      "Hola mundo\n"
     ]
    }
   ],
   "source": [
    "def saludar():\n",
    "    print(\"Hola mundo\")\n",
    "\n",
    "saludar()"
   ]
  },
  {
   "cell_type": "code",
   "execution_count": 23,
   "id": "8010b981",
   "metadata": {},
   "outputs": [
    {
     "name": "stdout",
     "output_type": "stream",
     "text": [
      "30\n"
     ]
    }
   ],
   "source": [
    "def sumar(a,b):\n",
    "    c=a+b\n",
    "    return c\n",
    "\n",
    "var=sumar(10,20)\n",
    "print(var)"
   ]
  },
  {
   "cell_type": "code",
   "execution_count": 27,
   "id": "ab5d1db5",
   "metadata": {},
   "outputs": [
    {
     "name": "stdout",
     "output_type": "stream",
     "text": [
      "1\n"
     ]
    }
   ],
   "source": [
    "#METODO FIND para buscar posicion de una letra o una subcadena en un string\n",
    "palabra='banana'\n",
    "index=palabra.find('a')\n",
    "print(index)"
   ]
  },
  {
   "cell_type": "code",
   "execution_count": 28,
   "id": "37b2424d",
   "metadata": {},
   "outputs": [
    {
     "name": "stdout",
     "output_type": "stream",
     "text": [
      "2\n"
     ]
    }
   ],
   "source": [
    "#METODO FIND para buscar posicion de una letra o una subcadena en un string\n",
    "palabra='banana'\n",
    "index=palabra.find('na')\n",
    "print(index)"
   ]
  },
  {
   "cell_type": "code",
   "execution_count": 29,
   "id": "d225927e",
   "metadata": {},
   "outputs": [
    {
     "data": {
      "text/plain": [
       "'Hola mundo'"
      ]
     },
     "execution_count": 29,
     "metadata": {},
     "output_type": "execute_result"
    }
   ],
   "source": [
    "#METODO STRIP: permite eliminar espacios en blanco tanto al principio como al final de un string\n",
    "linea='     Hola mundo   '\n",
    "linea.strip()"
   ]
  },
  {
   "cell_type": "code",
   "execution_count": 32,
   "id": "9bd0c9c5",
   "metadata": {},
   "outputs": [
    {
     "name": "stdout",
     "output_type": "stream",
     "text": [
      "Hola mundo\n"
     ]
    }
   ],
   "source": [
    "texto=\"Que tengas buen dia\"\n",
    "texto.startswith('Que')\n",
    "if texto.startswith('Que'):\n",
    "    print(\"Hola mundo\")"
   ]
  },
  {
   "cell_type": "code",
   "execution_count": 34,
   "id": "46eded71",
   "metadata": {},
   "outputs": [
    {
     "data": {
      "text/plain": [
       "False"
      ]
     },
     "execution_count": 34,
     "metadata": {},
     "output_type": "execute_result"
    }
   ],
   "source": [
    "texto=\"Que Tengas Buen Dia\"\n",
    "texto.startswith('que')\n",
    "# if texto.startswith('que'):\n",
    "#     print(\"Hola mundo\")"
   ]
  },
  {
   "cell_type": "code",
   "execution_count": 35,
   "id": "ce937b7f",
   "metadata": {},
   "outputs": [
    {
     "data": {
      "text/plain": [
       "'que tengas buen dia'"
      ]
     },
     "execution_count": 35,
     "metadata": {},
     "output_type": "execute_result"
    }
   ],
   "source": [
    "texto=\"Que Tengas Buen Dia\"\n",
    "texto.lower()"
   ]
  },
  {
   "cell_type": "code",
   "execution_count": 36,
   "id": "1c1d8476",
   "metadata": {},
   "outputs": [
    {
     "data": {
      "text/plain": [
       "True"
      ]
     },
     "execution_count": 36,
     "metadata": {},
     "output_type": "execute_result"
    }
   ],
   "source": [
    "texto.lower().startswith('q')"
   ]
  },
  {
   "cell_type": "code",
   "execution_count": 38,
   "id": "aa9e0b88",
   "metadata": {},
   "outputs": [
    {
     "name": "stdout",
     "output_type": "stream",
     "text": [
      "Hola\n"
     ]
    }
   ],
   "source": [
    "var='Hola mundo'\n",
    "v1=var[0:4]\n",
    "print(v1)"
   ]
  },
  {
   "cell_type": "code",
   "execution_count": 48,
   "id": "5f990b19",
   "metadata": {},
   "outputs": [
    {
     "name": "stdout",
     "output_type": "stream",
     "text": [
      "Hola\n"
     ]
    }
   ],
   "source": [
    "var='Hola mundo'\n",
    "v1=var[0:4]\n",
    "print(v1)"
   ]
  },
  {
   "cell_type": "code",
   "execution_count": 40,
   "id": "71671d24",
   "metadata": {},
   "outputs": [
    {
     "name": "stdout",
     "output_type": "stream",
     "text": [
      "mundo\n"
     ]
    }
   ],
   "source": [
    "v2=var[5:]\n",
    "print(v2)"
   ]
  },
  {
   "cell_type": "code",
   "execution_count": 52,
   "id": "d7506f9e",
   "metadata": {},
   "outputs": [
    {
     "name": "stdout",
     "output_type": "stream",
     "text": [
      "19\n"
     ]
    }
   ],
   "source": [
    "#recortar dominio del correo electronico enviado\n",
    "data='De stephen.marquard@uct.ac.za Sat Jan 5 09:14:16 2008'\n",
    "enlaposicion=data.find('@')\n",
    "print(enlaposicion)"
   ]
  },
  {
   "cell_type": "code",
   "execution_count": 46,
   "id": "2fe78f8c",
   "metadata": {},
   "outputs": [
    {
     "name": "stdout",
     "output_type": "stream",
     "text": [
      "29\n"
     ]
    }
   ],
   "source": [
    "espaciolaposicion=data.find(' ',enlaposicion)\n",
    "print(espaciolaposicion)"
   ]
  },
  {
   "cell_type": "code",
   "execution_count": 66,
   "id": "1bf36444",
   "metadata": {
    "scrolled": true
   },
   "outputs": [
    {
     "name": "stdout",
     "output_type": "stream",
     "text": [
      "uct.ac.za\n"
     ]
    }
   ],
   "source": [
    "host=data[enlaposicion+1:espaciolaposicion]\n",
    "print(host)"
   ]
  },
  {
   "cell_type": "code",
   "execution_count": 50,
   "id": "a37dd20a",
   "metadata": {},
   "outputs": [
    {
     "name": "stdout",
     "output_type": "stream",
     "text": [
      "11\n"
     ]
    }
   ],
   "source": [
    "data='De stephen.marquard@uct.ac.za Sat Jan 5 09:14:16 2008'\n",
    "posicion=data.find('marq')\n",
    "print(posicion)"
   ]
  },
  {
   "cell_type": "code",
   "execution_count": 55,
   "id": "b29a5e7d",
   "metadata": {},
   "outputs": [
    {
     "name": "stdout",
     "output_type": "stream",
     "text": [
      "7\n"
     ]
    }
   ],
   "source": [
    "palabra=\"Python es lo mejor\"\n",
    "v1=palabra.find('es')\n",
    "print(v1)"
   ]
  },
  {
   "cell_type": "code",
   "execution_count": 56,
   "id": "753a7c87",
   "metadata": {},
   "outputs": [
    {
     "name": "stdout",
     "output_type": "stream",
     "text": [
      "13\n"
     ]
    }
   ],
   "source": [
    "v2=palabra.find('mejor',v1)\n",
    "print(v2)"
   ]
  },
  {
   "cell_type": "code",
   "execution_count": 58,
   "id": "d60af3d7",
   "metadata": {},
   "outputs": [
    {
     "name": "stdout",
     "output_type": "stream",
     "text": [
      "mejor\n"
     ]
    }
   ],
   "source": [
    "#METODO DE LA REBANADA\n",
    "palabra=\"Python es lo mejor\"\n",
    "new_palabra=palabra[13:]\n",
    "print(new_palabra)"
   ]
  },
  {
   "cell_type": "code",
   "execution_count": 65,
   "id": "fb34d939",
   "metadata": {},
   "outputs": [
    {
     "name": "stdout",
     "output_type": "stream",
     "text": [
      "mejor, aprende a programar\n"
     ]
    }
   ],
   "source": [
    "#METODO DE LA REBANADA\n",
    "palabra=\"Python es lo mejor, aprende a programar\"\n",
    "new_palabra=palabra[13:]\n",
    "print(new_palabra)"
   ]
  },
  {
   "cell_type": "code",
   "execution_count": 73,
   "id": "1168ffc1",
   "metadata": {},
   "outputs": [
    {
     "data": {
      "text/plain": [
       "'Numero de camellos en la huerta: 42'"
      ]
     },
     "execution_count": 73,
     "metadata": {},
     "output_type": "execute_result"
    }
   ],
   "source": [
    "camello=42\n",
    "'Numero de camellos en la huerta: %d' %camello"
   ]
  },
  {
   "cell_type": "code",
   "execution_count": 69,
   "id": "95b8bdb0",
   "metadata": {},
   "outputs": [
    {
     "data": {
      "text/plain": [
       "'Numero de camellos en la huerta:42'"
      ]
     },
     "execution_count": 69,
     "metadata": {},
     "output_type": "execute_result"
    }
   ],
   "source": [
    "camello=42\n",
    "'Numero de camellos en la huerta:'+ str(camello)"
   ]
  },
  {
   "cell_type": "code",
   "execution_count": 76,
   "id": "ff471148",
   "metadata": {},
   "outputs": [
    {
     "data": {
      "text/plain": [
       "'Numero de camellos en la huerta: 42.600000'"
      ]
     },
     "execution_count": 76,
     "metadata": {},
     "output_type": "execute_result"
    }
   ],
   "source": [
    "camello=42.6\n",
    "'Numero de camellos en la huerta: %f' %camello"
   ]
  },
  {
   "cell_type": "code",
   "execution_count": 77,
   "id": "32c2831f",
   "metadata": {},
   "outputs": [
    {
     "name": "stdout",
     "output_type": "stream",
     "text": [
      "Hola\n",
      "Mundo\n"
     ]
    }
   ],
   "source": [
    "cadena=\"Hola\\nMundo\"\n",
    "print(cadena)"
   ]
  },
  {
   "cell_type": "code",
   "execution_count": 78,
   "id": "175013d9",
   "metadata": {},
   "outputs": [
    {
     "name": "stdout",
     "output_type": "stream",
     "text": [
      "Hola\\nMundo\n"
     ]
    }
   ],
   "source": [
    "cadena=r\"Hola\\nMundo\"\n",
    "print(cadena)"
   ]
  },
  {
   "cell_type": "code",
   "execution_count": 83,
   "id": "8b585228",
   "metadata": {},
   "outputs": [
    {
     "name": "stdout",
     "output_type": "stream",
     "text": [
      "4\n",
      "1\n",
      "3\n"
     ]
    }
   ],
   "source": [
    "#Metodo count que permite buscar cuantas veces esta repetida una palabra o caracter en un string\n",
    "cadena='un uno, un dos, un tres'\n",
    "print(cadena.count('un'))\n",
    "print(cadena.count('un',10))\n",
    "print(cadena.count('un',0,10))"
   ]
  },
  {
   "cell_type": "code",
   "execution_count": 87,
   "id": "4e46bfbf",
   "metadata": {},
   "outputs": [
    {
     "name": "stdout",
     "output_type": "stream",
     "text": [
      "xxx xxxo, xxx dos, xxx tres\n",
      "un uno, un dos, un tres\n",
      "xxx xxxo, un dos, un tres\n"
     ]
    }
   ],
   "source": [
    "#MEtodo REPLACE\n",
    "cadena='un uno, un dos, un tres'\n",
    "print(cadena.replace('un','xxx'))\n",
    "print(cadena)\n",
    "print(cadena.replace('un','xxx',2))"
   ]
  },
  {
   "cell_type": "code",
   "execution_count": 88,
   "id": "2dff92da",
   "metadata": {},
   "outputs": [
    {
     "name": "stdout",
     "output_type": "stream",
     "text": [
      "El valor es: 12\n"
     ]
    }
   ],
   "source": [
    "#Metodo Format()\n",
    "\n",
    "print(\"El valor es: {}\".format(12))"
   ]
  },
  {
   "cell_type": "code",
   "execution_count": 89,
   "id": "c613bb92",
   "metadata": {},
   "outputs": [
    {
     "name": "stdout",
     "output_type": "stream",
     "text": [
      "El valor es: 12\n"
     ]
    }
   ],
   "source": [
    "var=12\n",
    "print(\"El valor es: {}\".format(var))"
   ]
  },
  {
   "cell_type": "code",
   "execution_count": 90,
   "id": "57caea81",
   "metadata": {},
   "outputs": [
    {
     "name": "stdout",
     "output_type": "stream",
     "text": [
      "El valor es: 12.34\n"
     ]
    }
   ],
   "source": [
    "print(\"El valor es: {}\".format(12.34))"
   ]
  },
  {
   "cell_type": "code",
   "execution_count": 91,
   "id": "fcc7e6ff",
   "metadata": {},
   "outputs": [
    {
     "name": "stdout",
     "output_type": "stream",
     "text": [
      "El valor es: 123.3434\n"
     ]
    }
   ],
   "source": [
    "v1=123.3434\n",
    "print(\"El valor es: {}\".format(v1))"
   ]
  },
  {
   "cell_type": "code",
   "execution_count": 92,
   "id": "78382f0d",
   "metadata": {},
   "outputs": [
    {
     "name": "stdout",
     "output_type": "stream",
     "text": [
      "Los valores son: 1, 2 y 3\n"
     ]
    }
   ],
   "source": [
    "print(\"Los valores son: {}, {} y {}\".format(1,2,3))"
   ]
  },
  {
   "cell_type": "code",
   "execution_count": 93,
   "id": "37e9b045",
   "metadata": {},
   "outputs": [
    {
     "name": "stdout",
     "output_type": "stream",
     "text": [
      "Los valores son: 1, 2 y 3\n"
     ]
    }
   ],
   "source": [
    "n1=1\n",
    "n2=2\n",
    "n3=3\n",
    "print(\"Los valores son: {}, {} y {}\".format(n1,n2,n3))"
   ]
  },
  {
   "cell_type": "code",
   "execution_count": 95,
   "id": "1aa0c27c",
   "metadata": {},
   "outputs": [
    {
     "name": "stdout",
     "output_type": "stream",
     "text": [
      "Los valores son: 3, 2 y 1\n"
     ]
    }
   ],
   "source": [
    "print(\"Los valores son: {2}, {1} y {0}\".format(1,2,3))"
   ]
  },
  {
   "cell_type": "code",
   "execution_count": 96,
   "id": "0dea1396",
   "metadata": {},
   "outputs": [
    {
     "name": "stdout",
     "output_type": "stream",
     "text": [
      "Los valores son: 19, 20 y 23\n"
     ]
    }
   ],
   "source": [
    "a=19\n",
    "b=20\n",
    "c=23\n",
    "print(\"Los valores son: {n1}, {n2} y {n3}\".format(n1=a,n2=b,n3=c))"
   ]
  },
  {
   "cell_type": "code",
   "execution_count": 98,
   "id": "6b5a2ee9",
   "metadata": {},
   "outputs": [
    {
     "name": "stdout",
     "output_type": "stream",
     "text": [
      "Hola Mundo\n"
     ]
    }
   ],
   "source": [
    "# Concatenar\n",
    "\n",
    "mensaje1='Hola'+' '+'Mundo'\n",
    "print(mensaje1)"
   ]
  },
  {
   "cell_type": "code",
   "execution_count": 103,
   "id": "8af1736f",
   "metadata": {},
   "outputs": [
    {
     "name": "stdout",
     "output_type": "stream",
     "text": [
      "Hola 12\n"
     ]
    }
   ],
   "source": [
    "# Concatenar\n",
    "\n",
    "mensaje1='Hola'+' '+str(12)\n",
    "print(mensaje1)"
   ]
  },
  {
   "cell_type": "code",
   "execution_count": 104,
   "id": "631c3fa6",
   "metadata": {},
   "outputs": [
    {
     "name": "stdout",
     "output_type": "stream",
     "text": [
      "Hola Hola Hola Mundo\n"
     ]
    }
   ],
   "source": [
    "mensaje1='Hola '*3\n",
    "mensaje2='Mundo'\n",
    "print(mensaje1+mensaje2)"
   ]
  },
  {
   "cell_type": "code",
   "execution_count": 105,
   "id": "d754724b",
   "metadata": {},
   "outputs": [
    {
     "name": "stdout",
     "output_type": "stream",
     "text": [
      "Hola\n",
      "Hola \n",
      "Hola Mundo\n"
     ]
    }
   ],
   "source": [
    "mensaje='Hola'\n",
    "print(mensaje)\n",
    "mensaje+=' '\n",
    "print(mensaje)\n",
    "mensaje+='Mundo'\n",
    "print(mensaje)"
   ]
  },
  {
   "cell_type": "code",
   "execution_count": 111,
   "id": "760d70f1",
   "metadata": {},
   "outputs": [
    {
     "name": "stdout",
     "output_type": "stream",
     "text": [
      "Hola\n",
      "Hola \n"
     ]
    },
    {
     "ename": "TypeError",
     "evalue": "unsupported operand type(s) for -=: 'str' and 'str'",
     "output_type": "error",
     "traceback": [
      "\u001b[0;31m---------------------------------------------------------------------------\u001b[0m",
      "\u001b[0;31mTypeError\u001b[0m                                 Traceback (most recent call last)",
      "\u001b[0;32m<ipython-input-111-07a84a372ee0>\u001b[0m in \u001b[0;36m<module>\u001b[0;34m\u001b[0m\n\u001b[1;32m      3\u001b[0m \u001b[0mmensaje\u001b[0m\u001b[0;34m+=\u001b[0m\u001b[0;34m' '\u001b[0m\u001b[0;34m\u001b[0m\u001b[0;34m\u001b[0m\u001b[0m\n\u001b[1;32m      4\u001b[0m \u001b[0mprint\u001b[0m\u001b[0;34m(\u001b[0m\u001b[0mmensaje\u001b[0m\u001b[0;34m)\u001b[0m\u001b[0;34m\u001b[0m\u001b[0;34m\u001b[0m\u001b[0m\n\u001b[0;32m----> 5\u001b[0;31m \u001b[0mmensaje\u001b[0m\u001b[0;34m-=\u001b[0m\u001b[0;34m'Hola'\u001b[0m\u001b[0;34m\u001b[0m\u001b[0;34m\u001b[0m\u001b[0m\n\u001b[0m\u001b[1;32m      6\u001b[0m \u001b[0mprint\u001b[0m\u001b[0;34m(\u001b[0m\u001b[0mmensaje\u001b[0m\u001b[0;34m)\u001b[0m\u001b[0;34m\u001b[0m\u001b[0;34m\u001b[0m\u001b[0m\n",
      "\u001b[0;31mTypeError\u001b[0m: unsupported operand type(s) for -=: 'str' and 'str'"
     ]
    }
   ],
   "source": [
    "mensaje='Hola'\n",
    "print(mensaje)\n",
    "mensaje+=' '\n",
    "print(mensaje)\n",
    "mensaje-='Hola'\n",
    "print(mensaje)"
   ]
  },
  {
   "cell_type": "code",
   "execution_count": 107,
   "id": "5b20252f",
   "metadata": {},
   "outputs": [
    {
     "name": "stdout",
     "output_type": "stream",
     "text": [
      "9\n"
     ]
    }
   ],
   "source": [
    "numero=10\n",
    "numero-=1\n",
    "print(numero)"
   ]
  },
  {
   "cell_type": "code",
   "execution_count": 108,
   "id": "9fb46c36",
   "metadata": {},
   "outputs": [
    {
     "name": "stdout",
     "output_type": "stream",
     "text": [
      "11\n"
     ]
    }
   ],
   "source": [
    "numero=10\n",
    "numero+=1\n",
    "print(numero)"
   ]
  },
  {
   "cell_type": "code",
   "execution_count": 109,
   "id": "9db5bba7",
   "metadata": {},
   "outputs": [
    {
     "name": "stdout",
     "output_type": "stream",
     "text": [
      "20\n"
     ]
    }
   ],
   "source": [
    "numero=10\n",
    "numero*=2\n",
    "print(numero)"
   ]
  },
  {
   "cell_type": "code",
   "execution_count": 119,
   "id": "7518ce4b",
   "metadata": {},
   "outputs": [
    {
     "name": "stdout",
     "output_type": "stream",
     "text": [
      "\"Hola mundo\"\n"
     ]
    }
   ],
   "source": [
    "#rstrip elimina espacios en blanco al final de una cadena o caracteres especiales\n",
    "cad=\"Hola mundo \\n\"\n",
    "cad1=cad.rstrip()\n",
    "print('\"'+cad1+'\"')"
   ]
  }
 ],
 "metadata": {
  "kernelspec": {
   "display_name": "Python 3",
   "language": "python",
   "name": "python3"
  },
  "language_info": {
   "codemirror_mode": {
    "name": "ipython",
    "version": 3
   },
   "file_extension": ".py",
   "mimetype": "text/x-python",
   "name": "python",
   "nbconvert_exporter": "python",
   "pygments_lexer": "ipython3",
   "version": "3.9.1"
  }
 },
 "nbformat": 4,
 "nbformat_minor": 5
}
