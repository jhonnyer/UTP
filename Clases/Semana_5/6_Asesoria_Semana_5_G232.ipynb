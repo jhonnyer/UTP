{
 "cells": [
  {
   "cell_type": "code",
   "execution_count": 1,
   "id": "b70d30ec",
   "metadata": {},
   "outputs": [
    {
     "data": {
      "text/plain": [
       "9"
      ]
     },
     "execution_count": 1,
     "metadata": {},
     "output_type": "execute_result"
    }
   ],
   "source": [
    "# True  =>1\n",
    "# False  =>0\n",
    "\n",
    "9*True\n"
   ]
  },
  {
   "cell_type": "code",
   "execution_count": 2,
   "id": "d090af71",
   "metadata": {},
   "outputs": [
    {
     "data": {
      "text/plain": [
       "0"
      ]
     },
     "execution_count": 2,
     "metadata": {},
     "output_type": "execute_result"
    }
   ],
   "source": [
    "9*False"
   ]
  },
  {
   "cell_type": "code",
   "execution_count": 3,
   "id": "0caf90be",
   "metadata": {},
   "outputs": [
    {
     "data": {
      "text/plain": [
       "True"
      ]
     },
     "execution_count": 3,
     "metadata": {},
     "output_type": "execute_result"
    }
   ],
   "source": [
    "x=10\n",
    "x==10"
   ]
  },
  {
   "cell_type": "code",
   "execution_count": 4,
   "id": "d91cac24",
   "metadata": {},
   "outputs": [
    {
     "data": {
      "text/plain": [
       "False"
      ]
     },
     "execution_count": 4,
     "metadata": {},
     "output_type": "execute_result"
    }
   ],
   "source": [
    "x==9"
   ]
  },
  {
   "cell_type": "code",
   "execution_count": 5,
   "id": "0f1e4ef2",
   "metadata": {},
   "outputs": [
    {
     "data": {
      "text/plain": [
       "False"
      ]
     },
     "execution_count": 5,
     "metadata": {},
     "output_type": "execute_result"
    }
   ],
   "source": [
    "x>11"
   ]
  },
  {
   "cell_type": "code",
   "execution_count": 6,
   "id": "42c40cef",
   "metadata": {},
   "outputs": [
    {
     "data": {
      "text/plain": [
       "True"
      ]
     },
     "execution_count": 6,
     "metadata": {},
     "output_type": "execute_result"
    }
   ],
   "source": [
    "x<11"
   ]
  },
  {
   "cell_type": "code",
   "execution_count": 7,
   "id": "589ab679",
   "metadata": {},
   "outputs": [
    {
     "data": {
      "text/plain": [
       "False"
      ]
     },
     "execution_count": 7,
     "metadata": {},
     "output_type": "execute_result"
    }
   ],
   "source": [
    "#Diferente\n",
    "x!=10"
   ]
  },
  {
   "cell_type": "code",
   "execution_count": 8,
   "id": "bb8e10ba",
   "metadata": {},
   "outputs": [
    {
     "data": {
      "text/plain": [
       "True"
      ]
     },
     "execution_count": 8,
     "metadata": {},
     "output_type": "execute_result"
    }
   ],
   "source": [
    "x!=11"
   ]
  },
  {
   "cell_type": "code",
   "execution_count": 9,
   "id": "dfe965f8",
   "metadata": {},
   "outputs": [
    {
     "data": {
      "text/plain": [
       "True"
      ]
     },
     "execution_count": 9,
     "metadata": {},
     "output_type": "execute_result"
    }
   ],
   "source": [
    "x<=10"
   ]
  },
  {
   "cell_type": "code",
   "execution_count": 11,
   "id": "868a128f",
   "metadata": {},
   "outputs": [
    {
     "data": {
      "text/plain": [
       "True"
      ]
     },
     "execution_count": 11,
     "metadata": {},
     "output_type": "execute_result"
    }
   ],
   "source": [
    "x>=10"
   ]
  },
  {
   "cell_type": "code",
   "execution_count": 12,
   "id": "da248299",
   "metadata": {},
   "outputs": [
    {
     "data": {
      "text/plain": [
       "True"
      ]
     },
     "execution_count": 12,
     "metadata": {},
     "output_type": "execute_result"
    }
   ],
   "source": [
    "#COndiciones logicas - Conjuncion\n",
    "x=10\n",
    "y=5\n",
    "\n",
    "x==10 and y==5\n"
   ]
  },
  {
   "cell_type": "code",
   "execution_count": 13,
   "id": "b0f3eb53",
   "metadata": {},
   "outputs": [
    {
     "data": {
      "text/plain": [
       "False"
      ]
     },
     "execution_count": 13,
     "metadata": {},
     "output_type": "execute_result"
    }
   ],
   "source": [
    "x==9 and y==5"
   ]
  },
  {
   "cell_type": "code",
   "execution_count": 14,
   "id": "aaeb0d3e",
   "metadata": {},
   "outputs": [
    {
     "data": {
      "text/plain": [
       "False"
      ]
     },
     "execution_count": 14,
     "metadata": {},
     "output_type": "execute_result"
    }
   ],
   "source": [
    "x==10 and y==6"
   ]
  },
  {
   "cell_type": "code",
   "execution_count": 15,
   "id": "ee91ca40",
   "metadata": {},
   "outputs": [
    {
     "data": {
      "text/plain": [
       "True"
      ]
     },
     "execution_count": 15,
     "metadata": {},
     "output_type": "execute_result"
    }
   ],
   "source": [
    "# Condiciones logicas - Disyuncion\n",
    "x=10\n",
    "y=5\n",
    "\n",
    "x==10 or y==5\n"
   ]
  },
  {
   "cell_type": "code",
   "execution_count": 16,
   "id": "afdadd06",
   "metadata": {},
   "outputs": [
    {
     "data": {
      "text/plain": [
       "True"
      ]
     },
     "execution_count": 16,
     "metadata": {},
     "output_type": "execute_result"
    }
   ],
   "source": [
    "x==10 or y==4"
   ]
  },
  {
   "cell_type": "code",
   "execution_count": 17,
   "id": "3b03a684",
   "metadata": {},
   "outputs": [
    {
     "data": {
      "text/plain": [
       "True"
      ]
     },
     "execution_count": 17,
     "metadata": {},
     "output_type": "execute_result"
    }
   ],
   "source": [
    "x==9 or y==5"
   ]
  },
  {
   "cell_type": "code",
   "execution_count": 18,
   "id": "638266d4",
   "metadata": {},
   "outputs": [
    {
     "data": {
      "text/plain": [
       "False"
      ]
     },
     "execution_count": 18,
     "metadata": {},
     "output_type": "execute_result"
    }
   ],
   "source": [
    "x==7 or y==7"
   ]
  },
  {
   "cell_type": "markdown",
   "id": "ba6b09af",
   "metadata": {},
   "source": [
    "# Condicional IF"
   ]
  },
  {
   "cell_type": "code",
   "execution_count": 19,
   "id": "639e90c1",
   "metadata": {},
   "outputs": [
    {
     "name": "stdout",
     "output_type": "stream",
     "text": [
      "La condicion es verdadera\n"
     ]
    }
   ],
   "source": [
    "if True:\n",
    "    print(\"La condicion es verdadera\")\n",
    "else: \n",
    "    print(\"FIn\")"
   ]
  },
  {
   "cell_type": "code",
   "execution_count": 20,
   "id": "4a4aa885",
   "metadata": {},
   "outputs": [
    {
     "name": "stdout",
     "output_type": "stream",
     "text": [
      "FIn\n"
     ]
    }
   ],
   "source": [
    "if not True:\n",
    "    print(\"La condicion es verdadera\")\n",
    "else: \n",
    "    print(\"FIn\")"
   ]
  },
  {
   "cell_type": "code",
   "execution_count": 24,
   "id": "d7b833dc",
   "metadata": {},
   "outputs": [
    {
     "name": "stdout",
     "output_type": "stream",
     "text": [
      "A es un número de un digito\n"
     ]
    }
   ],
   "source": [
    "a=5.2\n",
    "if a==5.2:\n",
    "    print(\"A es un número de un digito\")\n",
    "else:\n",
    "    print(\"A no existe\")"
   ]
  },
  {
   "cell_type": "code",
   "execution_count": 23,
   "id": "7e1795eb",
   "metadata": {},
   "outputs": [
    {
     "name": "stdout",
     "output_type": "stream",
     "text": [
      "A es un número de un digito\n"
     ]
    }
   ],
   "source": [
    "a='a'\n",
    "if a=='a':\n",
    "    print(\"A es un número de un digito\")\n",
    "else:\n",
    "    print(\"A no existe\")"
   ]
  },
  {
   "cell_type": "code",
   "execution_count": 25,
   "id": "5d6ddf2a",
   "metadata": {},
   "outputs": [
    {
     "name": "stdout",
     "output_type": "stream",
     "text": [
      "A es un número de un digito\n"
     ]
    }
   ],
   "source": [
    "a='hola'\n",
    "if a=='hola':\n",
    "    print(\"A es un número de un digito\")\n",
    "else:\n",
    "    print(\"A no existe\")\n"
   ]
  },
  {
   "cell_type": "code",
   "execution_count": 27,
   "id": "9a60d616",
   "metadata": {},
   "outputs": [],
   "source": [
    "#HAcer un programa que verifique la notas de un examen.\n",
    "#Si la nota es mayor o igual a 4.7, entonces imprimir un mensaje excelente\n",
    "#Si la nota esta entre 4 y 4.7, imprimir sobresaliente\n",
    "#Si la nota es mayor o igual a 3; imprimir suficiente\n",
    "#Si la nota es menor a 3, imprimir, insuficiente, perdiste el examen\n",
    "\n",
    "#Pedir nota por teclado, mientras la nota sea mayor a 5 o menor a 0, volver a pedir la nota"
   ]
  },
  {
   "cell_type": "code",
   "execution_count": 51,
   "id": "9a562359",
   "metadata": {},
   "outputs": [
    {
     "name": "stdout",
     "output_type": "stream",
     "text": [
      "ingrese la nota de cero a cinco2.9\n",
      "2.9\n",
      "perdiste el examen\n"
     ]
    }
   ],
   "source": [
    "nota=float(input(\"ingrese la nota de cero a cinco\"))\n",
    "print(nota)\n",
    "\n",
    "if nota<3:\n",
    "    print(\"perdiste el examen\")\n",
    "elif nota >= 3:\n",
    "    print (\"suficiente para ganar\")\n",
    "elif nota>=4 and nota<=4.7:\n",
    "    print(\"sobresaliente\")\n",
    "elif nota>4.7 and nota==5:\n",
    "    print(\"Exelente\")\n",
    "else:\n",
    "    print(\"dato desconocido\")\n"
   ]
  },
  {
   "cell_type": "code",
   "execution_count": 29,
   "id": "adada528",
   "metadata": {},
   "outputs": [
    {
     "name": "stdout",
     "output_type": "stream",
     "text": [
      "Ingrese un valor: 89\n",
      "89\n",
      "<class 'str'>\n"
     ]
    }
   ],
   "source": [
    "var=input(\"Ingrese un valor: \")\n",
    "print(var)\n",
    "print(type(var))"
   ]
  },
  {
   "cell_type": "code",
   "execution_count": 34,
   "id": "7af6eade",
   "metadata": {},
   "outputs": [
    {
     "name": "stdout",
     "output_type": "stream",
     "text": [
      "Ingrese la nota del examen en cifras decimales: 2\n",
      "Su resultado es insuficiente, perdiste el examen\n"
     ]
    }
   ],
   "source": [
    "#Solucion de ISABELLA\n",
    "pedir_nota=float(input(\"Ingrese la nota del examen en cifras decimales: \"))\n",
    "if pedir_nota>5.0 or pedir_nota<0.0:\n",
    "    print(\"La cifra no es válida, ingrese una nota nueva.\")\n",
    "if pedir_nota>=4.7:\n",
    "    print(\"Su resultado es excelente.\")\n",
    "elif pedir_nota>=4.0 and pedir_nota<=4.7:\n",
    "    print(\"Su resultado es Sobresaliente.\")\n",
    "elif pedir_nota>=3.0 and pedir_nota<=4.0:\n",
    "    print(\"Su resultado es suficiente\")\n",
    "else :\n",
    "    print(\"Su resultado es insuficiente, perdiste el examen\")"
   ]
  },
  {
   "cell_type": "code",
   "execution_count": 56,
   "id": "b1ded125",
   "metadata": {},
   "outputs": [
    {
     "name": "stdout",
     "output_type": "stream",
     "text": [
      "Ingrese la nota del examen en cifras decimales: 7\n",
      "La cifra no es válida, ingrese una nota nueva.\n",
      "Ingrese la nota del examen en cifras decimales: 8\n",
      "La cifra no es válida, ingrese una nota nueva.\n",
      "Ingrese la nota del examen en cifras decimales: 5.1\n",
      "La cifra no es válida, ingrese una nota nueva.\n",
      "Ingrese la nota del examen en cifras decimales: 44\n",
      "La cifra no es válida, ingrese una nota nueva.\n",
      "Ingrese la nota del examen en cifras decimales: -6\n",
      "La cifra no es válida, ingrese una nota nueva.\n",
      "Ingrese la nota del examen en cifras decimales: -5\n",
      "La cifra no es válida, ingrese una nota nueva.\n",
      "Ingrese la nota del examen en cifras decimales: -4\n",
      "La cifra no es válida, ingrese una nota nueva.\n",
      "Ingrese la nota del examen en cifras decimales: 5\n",
      "Su resultado es excelente.\n"
     ]
    }
   ],
   "source": [
    "#Correción Isabela\n",
    "pedir_nota=float(input(\"Ingrese la nota del examen en cifras decimales: \"))\n",
    "while pedir_nota>5.0 or pedir_nota<0.0:\n",
    "    print(\"La cifra no es válida, ingrese una nota nueva.\")\n",
    "    pedir_nota=float(input(\"Ingrese la nota del examen en cifras decimales: \"))\n",
    "else:\n",
    "    if pedir_nota>=4.7:\n",
    "        print(\"Su resultado es excelente.\")\n",
    "    elif pedir_nota>=4.0 and pedir_nota<=4.7:\n",
    "        print(\"Su resultado es Sobresaliente.\")\n",
    "    elif pedir_nota>=3.0 and pedir_nota<=4.0:\n",
    "        print(\"Su resultado es suficiente\")\n",
    "    else :\n",
    "        print(\"Su resultado es insuficiente, perdiste el examen\")"
   ]
  },
  {
   "cell_type": "code",
   "execution_count": 63,
   "id": "39f2a1a2",
   "metadata": {},
   "outputs": [
    {
     "name": "stdout",
     "output_type": "stream",
     "text": [
      "Ingrese la nota del examen en cifras decimales: 5\n",
      "Su resultado es excelente.\n"
     ]
    }
   ],
   "source": [
    "#Correción Isabela\n",
    "pedir_nota=float(input(\"Ingrese la nota del examen en cifras decimales: \"))\n",
    "while pedir_nota>5.0 or pedir_nota<0.0:\n",
    "    print(\"La cifra no es válida, ingrese una nota nueva.\")\n",
    "    pedir_nota=float(input(\"Ingrese la nota del examen en cifras decimales: \"))\n",
    "\n",
    "if pedir_nota>=4.7:\n",
    "    print(\"Su resultado es excelente.\")\n",
    "elif pedir_nota>=4.0 and pedir_nota<4.7:\n",
    "    print(\"Su resultado es Sobresaliente.\")\n",
    "elif pedir_nota>=3.0:\n",
    "    print(\"Su resultado es suficiente\")\n",
    "else:\n",
    "    print(\"Su resultado es insuficiente, perdiste el examen\")"
   ]
  },
  {
   "cell_type": "code",
   "execution_count": 61,
   "id": "7eb4f9f0",
   "metadata": {},
   "outputs": [
    {
     "name": "stdout",
     "output_type": "stream",
     "text": [
      "ingrese un valor4\n",
      "ganaste pero no has llegado a la nota mas alta\n"
     ]
    }
   ],
   "source": [
    "a=int(input(\"ingrese un valor\"))\n",
    "if a==0:\n",
    "    print(\"reprobaste\")\n",
    "elif a<=3:\n",
    "    print(\"tienes que seguir estudiando\")\n",
    "elif a==4:\n",
    "    print(\"ganaste pero no has llegado a la nota mas alta\")\n",
    "elif a==5:\n",
    "    print(\"felicidades has la canzado la mayor nota posible\")\n",
    "else:\n",
    "    print(\"la nota es desconocida\")"
   ]
  },
  {
   "cell_type": "code",
   "execution_count": null,
   "id": "13fd4cef",
   "metadata": {},
   "outputs": [],
   "source": [
    "#Correción Isabela\n",
    "pedir_nota=float(input(\"Ingrese la nota del examen en cifras decimales: \"))\n",
    "if pedir_nota>5.0 or pedir_nota<0.0:\n",
    "    print(\"La cifra no es válida, ingrese una nota nueva.\")\n",
    "else:\n",
    "    if pedir_nota>=4.7:\n",
    "        print(\"Su resultado es excelente.\")\n",
    "    elif pedir_nota>=4.0 and pedir_nota<=4.7:\n",
    "        print(\"Su resultado es Sobresaliente.\")\n",
    "    elif pedir_nota>=3.0 and pedir_nota<=4.0:\n",
    "        print(\"Su resultado es suficiente\")\n",
    "    else :\n",
    "        print(\"Su resultado es insuficiente, perdiste el examen\")"
   ]
  },
  {
   "cell_type": "code",
   "execution_count": 42,
   "id": "0857fe88",
   "metadata": {},
   "outputs": [
    {
     "name": "stdout",
     "output_type": "stream",
     "text": [
      "Introduzca nota2.9\n",
      "2.9\n",
      "Insuficiente, perdiste el examen\n"
     ]
    }
   ],
   "source": [
    "Nota=float(input(\"Introduzca nota\"))\n",
    "print(Nota)\n",
    "if Nota >= 4.7:\n",
    "    print(\"Nota, Exelente\")\n",
    "elif Nota>=4.0:\n",
    "    print(\"Nota, sobre saliente\")\n",
    "elif Nota>=3.0:\n",
    "    print(\"Nota, suficiente\") \n",
    "elif Nota<3.0: \n",
    "    print(\"Insuficiente, perdiste el examen\") \n",
    "else:\n",
    "    print(\"DATO DESCONOCIDO\")"
   ]
  },
  {
   "cell_type": "markdown",
   "id": "66bc213a",
   "metadata": {},
   "source": [
    "# Condicion while"
   ]
  },
  {
   "cell_type": "code",
   "execution_count": 64,
   "id": "88ad1ef8",
   "metadata": {
    "scrolled": true
   },
   "outputs": [
    {
     "name": "stdout",
     "output_type": "stream",
     "text": [
      "10\n",
      "9\n",
      "8\n",
      "7\n",
      "6\n",
      "5\n",
      "4\n",
      "3\n",
      "2\n",
      "1\n",
      "Fin\n"
     ]
    }
   ],
   "source": [
    "x=10\n",
    "while x>0:\n",
    "    print(x)\n",
    "    x-=1\n",
    "print(\"Fin\")"
   ]
  },
  {
   "cell_type": "code",
   "execution_count": 66,
   "id": "49842403",
   "metadata": {},
   "outputs": [
    {
     "name": "stdout",
     "output_type": "stream",
     "text": [
      "3\n"
     ]
    }
   ],
   "source": [
    "x=2\n",
    "x=x+1\n",
    "print(x)"
   ]
  },
  {
   "cell_type": "code",
   "execution_count": 67,
   "id": "8c10625d",
   "metadata": {},
   "outputs": [
    {
     "name": "stdout",
     "output_type": "stream",
     "text": [
      "3\n"
     ]
    }
   ],
   "source": [
    "x=2\n",
    "x+=1\n",
    "print(x)"
   ]
  },
  {
   "cell_type": "code",
   "execution_count": 68,
   "id": "ba03d878",
   "metadata": {},
   "outputs": [
    {
     "name": "stdout",
     "output_type": "stream",
     "text": [
      "1\n"
     ]
    }
   ],
   "source": [
    "x=2\n",
    "x-=1\n",
    "print(x)"
   ]
  },
  {
   "cell_type": "code",
   "execution_count": 69,
   "id": "d823470e",
   "metadata": {},
   "outputs": [
    {
     "name": "stdout",
     "output_type": "stream",
     "text": [
      "4\n"
     ]
    }
   ],
   "source": [
    "x=2\n",
    "x*=2\n",
    "print(x)"
   ]
  },
  {
   "cell_type": "code",
   "execution_count": 65,
   "id": "74bd9f49",
   "metadata": {},
   "outputs": [
    {
     "name": "stdout",
     "output_type": "stream",
     "text": [
      "0\n",
      "1\n",
      "2\n",
      "3\n",
      "4\n",
      "5\n",
      "Fin\n"
     ]
    }
   ],
   "source": [
    "x=0\n",
    "while x<=5:\n",
    "    print(x)\n",
    "    x+=1\n",
    "print(\"Fin\")"
   ]
  },
  {
   "cell_type": "markdown",
   "id": "96d092aa",
   "metadata": {},
   "source": [
    "# Condicional FOR\n",
    "\n",
    "##  for x=0; x<10 ; x++\n",
    "##  for x=0; x<10 ; x=x+2\n",
    "\n",
    "## Range\n",
    "\n",
    "range(start, stop, step)"
   ]
  },
  {
   "cell_type": "code",
   "execution_count": 70,
   "id": "3305c2c4",
   "metadata": {},
   "outputs": [
    {
     "name": "stdout",
     "output_type": "stream",
     "text": [
      "0\n",
      "1\n",
      "2\n",
      "3\n",
      "4\n",
      "5\n",
      "6\n",
      "7\n",
      "8\n",
      "9\n"
     ]
    }
   ],
   "source": [
    "for x in range(0,10,1):\n",
    "    print(x)"
   ]
  },
  {
   "cell_type": "code",
   "execution_count": 72,
   "id": "68b8c0b1",
   "metadata": {},
   "outputs": [
    {
     "name": "stdout",
     "output_type": "stream",
     "text": [
      "1\n",
      "2\n",
      "3\n",
      "4\n",
      "5\n",
      "6\n",
      "7\n",
      "8\n",
      "9\n"
     ]
    }
   ],
   "source": [
    "for x in range(1,10):\n",
    "    print(x)"
   ]
  },
  {
   "cell_type": "code",
   "execution_count": 73,
   "id": "c5ecf4a8",
   "metadata": {},
   "outputs": [
    {
     "name": "stdout",
     "output_type": "stream",
     "text": [
      "0\n",
      "2\n",
      "4\n",
      "6\n",
      "8\n",
      "10\n"
     ]
    }
   ],
   "source": [
    "for x in range(0,11,2):\n",
    "    print(x)"
   ]
  },
  {
   "cell_type": "code",
   "execution_count": 74,
   "id": "9fac5270",
   "metadata": {},
   "outputs": [
    {
     "name": "stdout",
     "output_type": "stream",
     "text": [
      "0\n",
      "3\n",
      "6\n",
      "9\n"
     ]
    }
   ],
   "source": [
    "for x in range(0,11,3):\n",
    "    print(x)"
   ]
  },
  {
   "cell_type": "code",
   "execution_count": 78,
   "id": "0c727318",
   "metadata": {},
   "outputs": [
    {
     "name": "stdout",
     "output_type": "stream",
     "text": [
      "0   0\n",
      "5   0\n",
      "10   5\n",
      "15   15\n",
      "20   30\n",
      "25   50\n",
      "30   75\n",
      "35   105\n",
      "40   140\n",
      "45   180\n",
      "50   225\n",
      "55   275\n",
      "60   330\n",
      "65   390\n",
      "70   455\n",
      "75   525\n",
      "80   600\n",
      "85   680\n",
      "90   765\n",
      "95   855\n",
      "EL valor de la suma es:  950\n"
     ]
    }
   ],
   "source": [
    "#Sume todos los numeros multiplos del 5 hasta el numero 100\n",
    "suma=0\n",
    "for x in range(0,100,5):\n",
    "    print(x, ' ', suma)\n",
    "    suma=suma+x\n",
    "    \n",
    "print(\"EL valor de la suma es: \",suma)"
   ]
  },
  {
   "cell_type": "code",
   "execution_count": 81,
   "id": "23c1d6d1",
   "metadata": {},
   "outputs": [
    {
     "name": "stdout",
     "output_type": "stream",
     "text": [
      "1\n",
      "2\n",
      "4\n",
      "5\n",
      "6\n",
      "7\n"
     ]
    }
   ],
   "source": [
    "#Recupera los valores de la lista\n",
    "lista1=[1,2,4,5,6,7]\n",
    "lista2=['a','b','c','d',1]\n",
    "\n",
    "for i in lista1:\n",
    "    print(i)"
   ]
  },
  {
   "cell_type": "code",
   "execution_count": 80,
   "id": "00d5b683",
   "metadata": {},
   "outputs": [
    {
     "name": "stdout",
     "output_type": "stream",
     "text": [
      "a\n",
      "b\n",
      "c\n",
      "d\n",
      "1\n"
     ]
    }
   ],
   "source": [
    "for i in lista2:\n",
    "    print(i)"
   ]
  },
  {
   "cell_type": "code",
   "execution_count": 84,
   "id": "854d2150",
   "metadata": {},
   "outputs": [
    {
     "name": "stdout",
     "output_type": "stream",
     "text": [
      "0   a\n",
      "1   b\n",
      "2   c\n",
      "3   d\n",
      "4   1\n"
     ]
    }
   ],
   "source": [
    "#Recupera los indices de la lista\n",
    "lista1=[1,2,4,5,6,7]\n",
    "lista2=['a','b','c','d',1]\n",
    "\n",
    "for i in range(len(lista2)):\n",
    "    print(i,' ', lista2[i])"
   ]
  },
  {
   "cell_type": "code",
   "execution_count": 90,
   "id": "b52ac331",
   "metadata": {},
   "outputs": [
    {
     "name": "stdout",
     "output_type": "stream",
     "text": [
      "0 a a\n",
      "1 b b\n",
      "2 c c\n",
      "3 d d\n",
      "4 1 1\n"
     ]
    }
   ],
   "source": [
    "#Recorrer una lista con la funcion enumerate\n",
    "lista2=['a','b','c','d',1]\n",
    "for indice, elemento in enumerate(lista2):\n",
    "    print(indice, elemento , lista2[indice])"
   ]
  }
 ],
 "metadata": {
  "kernelspec": {
   "display_name": "Python 3",
   "language": "python",
   "name": "python3"
  },
  "language_info": {
   "codemirror_mode": {
    "name": "ipython",
    "version": 3
   },
   "file_extension": ".py",
   "mimetype": "text/x-python",
   "name": "python",
   "nbconvert_exporter": "python",
   "pygments_lexer": "ipython3",
   "version": "3.9.1"
  }
 },
 "nbformat": 4,
 "nbformat_minor": 5
}
