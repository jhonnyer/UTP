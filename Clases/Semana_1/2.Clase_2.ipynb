{
 "cells": [
  {
   "cell_type": "code",
   "execution_count": 43,
   "id": "47e0fd10",
   "metadata": {},
   "outputs": [
    {
     "name": "stdout",
     "output_type": "stream",
     "text": [
      "hola mundo\n"
     ]
    }
   ],
   "source": [
    "print(\"hola mundo\")"
   ]
  },
  {
   "cell_type": "code",
   "execution_count": 31,
   "id": "3ca7de4d",
   "metadata": {},
   "outputs": [
    {
     "name": "stdout",
     "output_type": "stream",
     "text": [
      "2\n",
      "4\n"
     ]
    }
   ],
   "source": [
    "v=2\n",
    "print(v)\n",
    "v=4\n",
    "print(v)"
   ]
  },
  {
   "cell_type": "code",
   "execution_count": 40,
   "id": "0b0d5669",
   "metadata": {},
   "outputs": [
    {
     "name": "stdout",
     "output_type": "stream",
     "text": [
      "19.6\n"
     ]
    }
   ],
   "source": [
    "GRAVEDAD=9.8\n",
    "\n",
    "c=2*GRAVEDAD\n",
    "print(c)\n"
   ]
  },
  {
   "cell_type": "code",
   "execution_count": 37,
   "id": "fff640ba",
   "metadata": {},
   "outputs": [
    {
     "data": {
      "text/plain": [
       "{1, 4, 5, 'Hola'}"
      ]
     },
     "execution_count": 37,
     "metadata": {},
     "output_type": "execute_result"
    }
   ],
   "source": [
    "c={1,4,5,'Hola'}\n",
    "c"
   ]
  },
  {
   "cell_type": "markdown",
   "id": "68d9d3e1",
   "metadata": {},
   "source": [
    "**Varible Discreta**\n",
    "\n",
    "Asumen un numero entero de valores contables. Estas no pueden tomar un valor entre dos valores consecutivos de un minimo conjunto numerable. es decir que no acepta valores que no pertenecen al conjunto . \n",
    "Por lo tanto, la variable discreta asume un numero finito de valores entre dos valores.\n",
    "\n",
    "**Ejemplo:**\n",
    "|__|__|__|__|__|\n",
    "0  1  2  3  4  5 \n",
    "\n",
    "Se tienen 6 elementos\n",
    "\n",
    "Numero de empleados de una fabrica,. numero de hijos\n",
    "\n",
    "**Ejemplo:** Definir una variable como la fracción de focos defectuosos en una inspección de 100 focos escogidos aleatoriamente en el almacen de una fabrica\n",
    "\n",
    "**Solucion**\n",
    "1/100    2/100    3/100    4/100 ....   10/100\n",
    "11/100   12/100   13/100   14/100 ....  20/100\n",
    "21/100   22/100   23/100   24/100 ....  30/100\n",
    "....\n",
    "....\n",
    "91/100   92/100   93/100   94/100 ....  100/100\n",
    "\n",
    "\n"
   ]
  },
  {
   "cell_type": "markdown",
   "id": "43c9edc2",
   "metadata": {},
   "source": [
    "**Variable Continua**  \n",
    "Variable que tiene un numero incontables de valores generalmente representada por numeros decimales\n",
    "\n",
    "**Ejemplo**\n",
    "Verificar el volumen de agua dentro de una lavadora de 200cm³\n",
    "\n",
    "\n",
    "|__________|____|____|____|__|__|||||||||||||____________|\n",
    "0                                        181.12 182.23  200\n",
    "\n",
    "**Ejemplo** \n",
    "\n",
    "Demora en llegar 1:15 horas\n",
    "Altura de 5 amigos: 1.82 m; 1.6m; 1.75m; 1.24m; 1.50m\n",
    "Tiene media taza de sal\n",
    "Precio de un producto: $23.65; $199.99; $290.23\n",
    "\n",
    "Esta variable es infinitesimal y por eso sirve para presentar valores con mayor exactitud. Esta puede incluir valores exactos como por ejemplo una taza de sal  o media taza de sal."
   ]
  },
  {
   "cell_type": "code",
   "execution_count": 38,
   "id": "e50a1724",
   "metadata": {},
   "outputs": [
    {
     "name": "stdout",
     "output_type": "stream",
     "text": [
      "El carro no tiene gasolina\n"
     ]
    }
   ],
   "source": [
    "x=0 #carro tiene gasolina\n",
    "\n",
    "if x==1:\n",
    "    print(\"El carro tiene gasolina\")\n",
    "else:\n",
    "    print(\"El carro no tiene gasolina\")"
   ]
  },
  {
   "cell_type": "code",
   "execution_count": 39,
   "id": "2d41c24a",
   "metadata": {},
   "outputs": [
    {
     "name": "stdout",
     "output_type": "stream",
     "text": [
      "0\n",
      "1\n",
      "2\n",
      "3\n",
      "4\n",
      "5\n",
      "6\n",
      "7\n",
      "8\n",
      "9\n",
      "[0, 1, 2, 3, 4, 5, 6, 7, 8, 9]\n"
     ]
    }
   ],
   "source": [
    "r=range(10)\n",
    "data=[]\n",
    "[0,1,2,4,5,6,7,8,9]\n",
    "for i in range(10):\n",
    "    data.append(i)\n",
    "    print(i)\n",
    "\n",
    "print(data)"
   ]
  },
  {
   "cell_type": "code",
   "execution_count": 41,
   "id": "75fd045e",
   "metadata": {},
   "outputs": [
    {
     "name": "stdout",
     "output_type": "stream",
     "text": [
      "{'azul', 'verde', 'roja'}\n",
      "azul\n",
      "verde\n",
      "roja\n",
      "['azul', 'verde', 'roja']\n"
     ]
    }
   ],
   "source": [
    "camisa={'azul', 'roja', 'verde'}\n",
    "data=[]\n",
    "print(camisa)\n",
    "for cm in camisa:\n",
    "    data.append(cm)\n",
    "    print(cm)\n",
    "\n",
    "print(data)"
   ]
  },
  {
   "cell_type": "code",
   "execution_count": 42,
   "id": "5ef168d2",
   "metadata": {},
   "outputs": [
    {
     "name": "stdout",
     "output_type": "stream",
     "text": [
      "Ingrese el valor del producto indicado lulo 12\n",
      "Ingrese el valor del producto indicado tomate 12\n",
      "Ingrese el valor del producto indicado Aguacate 12\n",
      "Ingrese el valor del producto indicado Naranja 12\n",
      "{'lulo': 12.0, 'tomate': 12.0, 'Aguacate': 12.0, 'Naranja': 12.0}\n",
      "La gancia del lulo es:  0.0\n",
      "La gancia del tomate es:  7.0\n",
      "La gancia del aguacate es:  5.0\n"
     ]
    }
   ],
   "source": [
    "#clave-valor\n",
    "\n",
    "producto={'lulo':'',\"tomate\":'','Aguacate':'','Naranja':''}\n",
    "costo_produccion={'lulo':12,\"tomate\":5,'Aguacate':7,'Naranja':9}\n",
    "vt=[]\n",
    "\n",
    "for i, p in enumerate(producto):\n",
    "#     print(i, p)\n",
    "    vt=float(input(\"Ingrese el valor del producto indicado {} \".format(p)))\n",
    "    producto[p]=vt\n",
    "    \n",
    "print(producto)\n",
    "#Funcion para hallar el valor de un producto\n",
    "gan_lulo=producto['lulo']-costo_produccion['lulo']\n",
    "print(\"La gancia del lulo es: \",gan_lulo)\n",
    "\n",
    "gan_tom=producto['tomate']-costo_produccion['tomate']\n",
    "print(\"La gancia del tomate es: \",gan_tom)\n",
    "\n",
    "gan_aguac=producto['Aguacate']-costo_produccion['Aguacate']\n",
    "print(\"La gancia del aguacate es: \",gan_aguac)\n"
   ]
  },
  {
   "cell_type": "code",
   "execution_count": 44,
   "id": "b78346fb",
   "metadata": {},
   "outputs": [
    {
     "name": "stdout",
     "output_type": "stream",
     "text": [
      "Ingrese un valor: 23\n",
      "5129.0\n",
      "Hola mundo\n"
     ]
    }
   ],
   "source": [
    "#x=(-b+-(b²-4ac)^(1/2))/2a   \n",
    "a=\"Valor numerico\"\n",
    "b=223\n",
    "# c=int(input(\"Ingrese el valor \"))\n",
    "c=float(input(\"Ingrese un valor: \"))\n",
    "d=b*c\n",
    "# print(\"Hola mundo, en el año: \",c)\n",
    "# print(\"Hola mundo, en el año: {} \".format(c))\n",
    "print(d)\n",
    "\n",
    "x=1\n",
    "\n",
    "if x==1:\n",
    "    print(\"Hola mundo\")\n",
    "else:\n",
    "    print(\"Adios\")"
   ]
  },
  {
   "cell_type": "code",
   "execution_count": 6,
   "id": "05497cb6",
   "metadata": {},
   "outputs": [
    {
     "name": "stdout",
     "output_type": "stream",
     "text": [
      "Hallar la solucion de x teniendo en cuenta la ecuación cuadratica ax²+bx+c\n",
      "Introduce el valor de a: 1\n",
      "Introduce el valor de b: 5\n",
      "Introduce el valor de c: 6\n",
      "1\n",
      "Soluciones del ejercicio: \n",
      "X1 es igual a: -2.0 y X2 es igual a: -3.0 \n"
     ]
    }
   ],
   "source": [
    "import math \n",
    "print(\"Hallar la solucion de x teniendo en cuenta la ecuación cuadratica ax²+bx+c\")\n",
    "\n",
    "#x=(-b+-(b²-4ac)^(1/2))/2a\n",
    "a=int(input(\"Introduce el valor de a: \"))\n",
    "b=int(input(\"Introduce el valor de b: \"))\n",
    "c=int(input(\"Introduce el valor de c: \"))\n",
    "\n",
    "d=(b*b)-4*a*c\n",
    "print(d)\n",
    "if d<0:\n",
    "    print(\"No existen soluciones reales para el ejercicio\")\n",
    "else:\n",
    "    x1=(-b+math.sqrt(d))/(2*a)\n",
    "    x2=(-b-math.sqrt(d))/(2*a)\n",
    "    \n",
    "    print(\"Soluciones del ejercicio: \")\n",
    "    print(\"X1 es igual a: {} y X2 es igual a: {} \".format(x1, x2))\n",
    "    "
   ]
  },
  {
   "cell_type": "code",
   "execution_count": 4,
   "id": "006add0e",
   "metadata": {},
   "outputs": [
    {
     "name": "stdout",
     "output_type": "stream",
     "text": [
      "[-3. -2.]\n"
     ]
    }
   ],
   "source": [
    "import numpy as np\n",
    "from numpy.polynomial import Polynomial as P\n",
    "# x²-5x+6=0  para encontrar sus raices\n",
    "# p va aguardar la informacion del polinomio. Los polinomios se van a escribir de atras para adelante los coeficientes\n",
    "p=P([6,5,1])\n",
    "print(p.roots())"
   ]
  },
  {
   "cell_type": "code",
   "execution_count": 1,
   "id": "98908e98",
   "metadata": {},
   "outputs": [
    {
     "name": "stdout",
     "output_type": "stream",
     "text": [
      "[[ 2 -1]\n",
      " [ 1 -1]]\n",
      "[ 0 -4]\n",
      "[4. 8.]\n"
     ]
    }
   ],
   "source": [
    "# Ecuaciones\n",
    "# y=2x\n",
    "# y=x+4\n",
    "#Remplazo y de la primera ecuacion en la segunda ecuacion\n",
    "# 2x=x+4\n",
    "# 2x-x=4\n",
    "# x=4\n",
    "\n",
    "#remplazo x en la segunda ecuacion\n",
    "# y=4+4\n",
    "\n",
    "# Igualo ecuacion 1 y 2 a cero o el numero entero\n",
    "# 2x-y=0\n",
    "# x-y=-4\n",
    "\n",
    "\n",
    "import numpy as np\n",
    "a=np.array([[2,-1],[1,-1]])\n",
    "# b= Almacena los valores del vector solucion \n",
    "b=np.array([0,-4])\n",
    "print(a)\n",
    "print(b)\n",
    "x=np.linalg.solve(a,b)\n",
    "print(x)"
   ]
  },
  {
   "cell_type": "code",
   "execution_count": 14,
   "id": "68afbd43",
   "metadata": {},
   "outputs": [
    {
     "name": "stdout",
     "output_type": "stream",
     "text": [
      "[ 4. -2.  3.]\n"
     ]
    }
   ],
   "source": [
    "# Numpy: soporte para crear vectores y matrices grandes multidimensionales\n",
    "Install libreria: \n",
    "# 2x+4y+6z=18\n",
    "# 4x+5y+6z=24\n",
    "# 3x+y-2z=4\n",
    "\n",
    "import numpy as np\n",
    "a=np.array([[2,4,6],[4,5,6],[3,1,-2]])\n",
    "# b= Almacena los valores del vector solucion \n",
    "b=np.array([18,24,4])\n",
    "\n",
    "x=np.linalg.solve(a,b)\n",
    "print(x)"
   ]
  },
  {
   "cell_type": "code",
   "execution_count": 44,
   "id": "a9c7676c",
   "metadata": {},
   "outputs": [
    {
     "name": "stdout",
     "output_type": "stream",
     "text": [
      "{'mango', 'fresas', 'naranja', 'papas', 'zanahoria'}\n",
      "{'mango', 'fresas', 'naranja', 'papas', 'zanahoria', 'Platanos'}\n",
      "{'fresas', 'naranja', 'papas', 'zanahoria', 'Platanos'}\n",
      "{'naranja', 'papas', 'zanahoria', 'Platanos'}\n",
      "{'tomate', 'naranja', 'papas', 'zanahoria', 'acelga', 'pepino', 'Platanos'}\n",
      "En la bodega si existen platanos\n",
      "{'tomate', 'mango', 'fresas', 'naranja', 'papas', 'zanahoria', 'cebolla', 'acelga', 'pepino', 'remolacha', 'Platanos'}\n",
      "{'papas', 'zanahoria'}\n",
      "{'tomate', 'naranja', 'acelga', 'pepino', 'Platanos'}\n"
     ]
    }
   ],
   "source": [
    "#en un conjunto no pueden haber valores repetidos. por ejemplo naranja solo aparece una vez\n",
    "producto={'papas','zanahoria','mango','fresas','naranja','naranja'}\n",
    "productos={'papas','zanahoria','mango','fresas','cebolla','remolacha'}\n",
    "print(producto)\n",
    "producto.add('Platanos')\n",
    "print(producto)\n",
    "producto.remove('mango')\n",
    "print(producto)\n",
    "producto.discard('fresas')\n",
    "print(producto)\n",
    "producto.update(['acelga','tomate','pepino'])\n",
    "print(producto)\n",
    "if \"Platanos\" in producto:\n",
    "    print(\"En la bodega si existen platanos\")\n",
    "else:\n",
    "    print(\"No hay fresas\")\n",
    "#listas juntas. une los dos conjuntos\n",
    "print(producto | productos)\n",
    "#lo que se envio en ambos lados,intercepcion de los dos conjuntos\n",
    "print(producto & productos)\n",
    "#elementos que se encuentran en producto  pero no en productos\n",
    "print(producto-productos)\n"
   ]
  },
  {
   "cell_type": "code",
   "execution_count": 8,
   "id": "051d2c67",
   "metadata": {},
   "outputs": [
    {
     "name": "stdout",
     "output_type": "stream",
     "text": [
      "Manzana\n",
      "naranja\n",
      "1 2 3 4\n",
      "10 10 10 10\n"
     ]
    }
   ],
   "source": [
    "#Variables\n",
    "\n",
    "nombre=\"Jhonnyer\"\n",
    "apellido=\"Galindez\"\n",
    "adad, estatura=25, 1.89\n",
    "\n",
    "#constantes\n",
    "PI=3,14\n",
    "gravedad=9.8\n",
    "\n",
    "fruta=\"Manzana\"\n",
    "#Cambiar el valor a mi variable\n",
    "print(fruta)\n",
    "fruta=\"naranja\"\n",
    "print(fruta)\n",
    "\n",
    "a,b,c,d=1,2,3,4\n",
    "print(a,b,c,d)\n",
    "a=b=c=d=10\n",
    "print(a,b,c,d)"
   ]
  },
  {
   "cell_type": "code",
   "execution_count": 10,
   "id": "323ea360",
   "metadata": {},
   "outputs": [
    {
     "name": "stdout",
     "output_type": "stream",
     "text": [
      "12\n",
      "14\n"
     ]
    }
   ],
   "source": [
    "#DECLARARLA EN MAYUSCULA Y YA EL PROGRAMADOR DEBE TRATARLA COMO TAL, LA RESPONSABILIDAD DE GARANTIZAR QUE SE \n",
    "#MANTENGA CONSTANTE DEBE SER DEL PROGRAMADOR, POR ESTANDARIZACION SE DEBE ESCRIBIR EN MAYUSCULA\n",
    "CANTIDAD_MESES=12\n",
    "print(CANTIDAD_MESES)\n",
    "CANTIDAD_MESES=14\n",
    "print(CANTIDAD_MESES)\n"
   ]
  },
  {
   "cell_type": "code",
   "execution_count": 11,
   "id": "54fc70e1",
   "metadata": {},
   "outputs": [
    {
     "name": "stdout",
     "output_type": "stream",
     "text": [
      "14400\n"
     ]
    }
   ],
   "source": [
    "# precio_de_venta*inventario-precio_de_costo*inventario\n",
    "def calcular_ganancia(producto):\n",
    "    ganancia=producto['precio_venta']*producto['inventario']\n",
    "    ganancia-=producto['precio_costo']*producto['inventario']\n",
    "    return ganancia\n",
    "\n",
    "producto={\n",
    "    \"precio_costo\":30,\n",
    "    \"precio_venta\":42,\n",
    "    \"inventario\":1200\n",
    "    \n",
    "}\n",
    "resultado=calcular_ganancia(producto)\n",
    "print(resultado)"
   ]
  },
  {
   "cell_type": "code",
   "execution_count": 30,
   "id": "347b8bdf",
   "metadata": {},
   "outputs": [
    {
     "ename": "KeyboardInterrupt",
     "evalue": "Interrupted by user",
     "output_type": "error",
     "traceback": [
      "\u001b[0;31m---------------------------------------------------------------------------\u001b[0m",
      "\u001b[0;31mKeyboardInterrupt\u001b[0m                         Traceback (most recent call last)",
      "\u001b[0;32m<ipython-input-30-fed09c20fbaf>\u001b[0m in \u001b[0;36m<module>\u001b[0;34m\u001b[0m\n\u001b[1;32m      5\u001b[0m \u001b[0;34m\u001b[0m\u001b[0m\n\u001b[1;32m      6\u001b[0m \u001b[0;32mfor\u001b[0m \u001b[0mi\u001b[0m\u001b[0;34m,\u001b[0m \u001b[0mp\u001b[0m \u001b[0;32min\u001b[0m \u001b[0menumerate\u001b[0m\u001b[0;34m(\u001b[0m\u001b[0mproducto\u001b[0m\u001b[0;34m)\u001b[0m\u001b[0;34m:\u001b[0m\u001b[0;34m\u001b[0m\u001b[0;34m\u001b[0m\u001b[0m\n\u001b[0;32m----> 7\u001b[0;31m     \u001b[0mvt\u001b[0m\u001b[0;34m=\u001b[0m\u001b[0mint\u001b[0m\u001b[0;34m(\u001b[0m\u001b[0minput\u001b[0m\u001b[0;34m(\u001b[0m\u001b[0;34m\"Ingrese el valor de venta del producto indicado: {}\"\u001b[0m\u001b[0;34m.\u001b[0m\u001b[0mformat\u001b[0m\u001b[0;34m(\u001b[0m\u001b[0mp\u001b[0m\u001b[0;34m)\u001b[0m\u001b[0;34m)\u001b[0m\u001b[0;34m)\u001b[0m\u001b[0;34m\u001b[0m\u001b[0;34m\u001b[0m\u001b[0m\n\u001b[0m\u001b[1;32m      8\u001b[0m     \u001b[0mvalor_venta\u001b[0m\u001b[0;34m.\u001b[0m\u001b[0mappend\u001b[0m\u001b[0;34m(\u001b[0m\u001b[0mvt\u001b[0m\u001b[0;34m)\u001b[0m\u001b[0;34m\u001b[0m\u001b[0;34m\u001b[0m\u001b[0m\n\u001b[1;32m      9\u001b[0m     \u001b[0mprint\u001b[0m\u001b[0;34m(\u001b[0m\u001b[0mvalor_venta\u001b[0m\u001b[0;34m)\u001b[0m\u001b[0;34m\u001b[0m\u001b[0;34m\u001b[0m\u001b[0m\n",
      "\u001b[0;32m~/miniconda3/lib/python3.9/site-packages/ipykernel/kernelbase.py\u001b[0m in \u001b[0;36mraw_input\u001b[0;34m(self, prompt)\u001b[0m\n\u001b[1;32m    858\u001b[0m                 \u001b[0;34m\"raw_input was called, but this frontend does not support input requests.\"\u001b[0m\u001b[0;34m\u001b[0m\u001b[0;34m\u001b[0m\u001b[0m\n\u001b[1;32m    859\u001b[0m             )\n\u001b[0;32m--> 860\u001b[0;31m         return self._input_request(str(prompt),\n\u001b[0m\u001b[1;32m    861\u001b[0m             \u001b[0mself\u001b[0m\u001b[0;34m.\u001b[0m\u001b[0m_parent_ident\u001b[0m\u001b[0;34m,\u001b[0m\u001b[0;34m\u001b[0m\u001b[0;34m\u001b[0m\u001b[0m\n\u001b[1;32m    862\u001b[0m             \u001b[0mself\u001b[0m\u001b[0;34m.\u001b[0m\u001b[0m_parent_header\u001b[0m\u001b[0;34m,\u001b[0m\u001b[0;34m\u001b[0m\u001b[0;34m\u001b[0m\u001b[0m\n",
      "\u001b[0;32m~/miniconda3/lib/python3.9/site-packages/ipykernel/kernelbase.py\u001b[0m in \u001b[0;36m_input_request\u001b[0;34m(self, prompt, ident, parent, password)\u001b[0m\n\u001b[1;32m    902\u001b[0m             \u001b[0;32mexcept\u001b[0m \u001b[0mKeyboardInterrupt\u001b[0m\u001b[0;34m:\u001b[0m\u001b[0;34m\u001b[0m\u001b[0;34m\u001b[0m\u001b[0m\n\u001b[1;32m    903\u001b[0m                 \u001b[0;31m# re-raise KeyboardInterrupt, to truncate traceback\u001b[0m\u001b[0;34m\u001b[0m\u001b[0;34m\u001b[0m\u001b[0;34m\u001b[0m\u001b[0m\n\u001b[0;32m--> 904\u001b[0;31m                 \u001b[0;32mraise\u001b[0m \u001b[0mKeyboardInterrupt\u001b[0m\u001b[0;34m(\u001b[0m\u001b[0;34m\"Interrupted by user\"\u001b[0m\u001b[0;34m)\u001b[0m \u001b[0;32mfrom\u001b[0m \u001b[0;32mNone\u001b[0m\u001b[0;34m\u001b[0m\u001b[0;34m\u001b[0m\u001b[0m\n\u001b[0m\u001b[1;32m    905\u001b[0m             \u001b[0;32mexcept\u001b[0m \u001b[0mException\u001b[0m \u001b[0;32mas\u001b[0m \u001b[0me\u001b[0m\u001b[0;34m:\u001b[0m\u001b[0;34m\u001b[0m\u001b[0;34m\u001b[0m\u001b[0m\n\u001b[1;32m    906\u001b[0m                 \u001b[0mself\u001b[0m\u001b[0;34m.\u001b[0m\u001b[0mlog\u001b[0m\u001b[0;34m.\u001b[0m\u001b[0mwarning\u001b[0m\u001b[0;34m(\u001b[0m\u001b[0;34m\"Invalid Message:\"\u001b[0m\u001b[0;34m,\u001b[0m \u001b[0mexc_info\u001b[0m\u001b[0;34m=\u001b[0m\u001b[0;32mTrue\u001b[0m\u001b[0;34m)\u001b[0m\u001b[0;34m\u001b[0m\u001b[0;34m\u001b[0m\u001b[0m\n",
      "\u001b[0;31mKeyboardInterrupt\u001b[0m: Interrupted by user"
     ]
    }
   ],
   "source": [
    "## producto={'Lulo':'','Tomate':'','Aguacate':'','Naranja':''}\n",
    "costo_produccion=[10,20,30,40]\n",
    "valor_venta=[]\n",
    "ganancia={}\n",
    "\n",
    "for i, p in enumerate(producto):\n",
    "    vt=int(input(\"Ingrese el valor de venta del producto indicado: {}\".format(p)))\n",
    "    valor_venta.append(vt)\n",
    "    print(valor_venta)\n",
    "    for i, vt in enumerate(valor_venta):\n",
    "#         ganancia=vt\n",
    "        print(i, vt[i])\n",
    "    \n",
    "\n",
    "# print(producto)\n",
    "# gan_lulo=producto['Lulo']-costo_produccion['Lulo']\n",
    "# print(\"Ganancia del lulo es: \",gan_lulo)\n"
   ]
  },
  {
   "cell_type": "code",
   "execution_count": null,
   "id": "f6e01a80",
   "metadata": {},
   "outputs": [],
   "source": []
  }
 ],
 "metadata": {
  "kernelspec": {
   "display_name": "Python 3",
   "language": "python",
   "name": "python3"
  },
  "language_info": {
   "codemirror_mode": {
    "name": "ipython",
    "version": 3
   },
   "file_extension": ".py",
   "mimetype": "text/x-python",
   "name": "python",
   "nbconvert_exporter": "python",
   "pygments_lexer": "ipython3",
   "version": "3.9.1"
  }
 },
 "nbformat": 4,
 "nbformat_minor": 5
}
