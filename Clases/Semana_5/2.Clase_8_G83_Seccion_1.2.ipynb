{
 "cells": [
  {
   "cell_type": "code",
   "execution_count": 9,
   "id": "98920bc2",
   "metadata": {},
   "outputs": [
    {
     "name": "stdout",
     "output_type": "stream",
     "text": [
      "Hola mundo\n"
     ]
    }
   ],
   "source": [
    "def saludo():\n",
    "    print(\"Hola mundo\")\n",
    "\n",
    "#Invocando una funcion o ejecutando la funcion\n",
    "saludo()"
   ]
  },
  {
   "cell_type": "code",
   "execution_count": 2,
   "id": "67459abc",
   "metadata": {},
   "outputs": [
    {
     "name": "stdout",
     "output_type": "stream",
     "text": [
      "Hola mundo\n",
      "10\n"
     ]
    }
   ],
   "source": [
    "def saludo():\n",
    "    print(\"Hola mundo\")\n",
    "    return 10\n",
    "\n",
    "#Invocando una funcion o ejecutando la funcion\n",
    "var=saludo()\n",
    "print(var)"
   ]
  },
  {
   "cell_type": "code",
   "execution_count": 3,
   "id": "62e6b7c8",
   "metadata": {},
   "outputs": [
    {
     "name": "stdout",
     "output_type": "stream",
     "text": [
      "12\n"
     ]
    }
   ],
   "source": [
    "def sumar(a,b):\n",
    "    c=a+b\n",
    "    return c\n",
    "#Asignacion de argumentos por posicion \n",
    "#Invocando una funcion o ejecutando la funcion\n",
    "v1=sumar(10,2)\n",
    "print(v1)"
   ]
  },
  {
   "cell_type": "markdown",
   "id": "11535d65",
   "metadata": {},
   "source": [
    "# Definicion cabecera de la funcion\n",
    "\n",
    "def nombre_funcion(parametro1, parametro2):\n",
    "    # Cuerpo de la funcion\n",
    "    #Instrucciones 1\n",
    "    #Instrucciones 2\n",
    "    #Instrucciones 3\n",
    "    return valor_de_retorno\n",
    "    \n",
    "# Invocar una funcion, llamarla o ejecutarla\n",
    "\n",
    "#Escribir el nombre de la funcion, seguida de parentesis\n",
    "#SI la funcion tiene parametros definidos, entonces enviamos en medio de los parentesis los argumentos de la funcion\n",
    "\n",
    "nombre_funcion(argumento1,argumento2)\n",
    "# Funcion con return \n",
    "#Almacenar un valor de retorno que me devuelve una funcion\n",
    "#Definir una variable que va  a almacenar el valor de retorno y la igualo a la funcion\n",
    "\n",
    "var=nombre_funcion(argumento1,argumento2)\n",
    "# Utilizar la variable que almacenado el valor de retorno (var)\n",
    "print(var)\n"
   ]
  },
  {
   "cell_type": "code",
   "execution_count": 5,
   "id": "8a1abfc6",
   "metadata": {},
   "outputs": [
    {
     "name": "stdout",
     "output_type": "stream",
     "text": [
      "33\n"
     ]
    }
   ],
   "source": [
    "#Asignacion de argumentos por nombre \n",
    "a=10\n",
    "b=23\n",
    "v1=sumar(a,b)\n",
    "print(v1)"
   ]
  },
  {
   "cell_type": "code",
   "execution_count": 8,
   "id": "d8d02510",
   "metadata": {},
   "outputs": [
    {
     "name": "stdout",
     "output_type": "stream",
     "text": [
      "53\n"
     ]
    }
   ],
   "source": [
    "#Asignacion de argumentos por palabras claveso keywords-> Formato clave-valor \n",
    "x=30\n",
    "y=23\n",
    "v1=sumar(b=y,a=x)\n",
    "print(v1)"
   ]
  },
  {
   "cell_type": "code",
   "execution_count": 14,
   "id": "03b3cf17",
   "metadata": {},
   "outputs": [
    {
     "name": "stdout",
     "output_type": "stream",
     "text": [
      "<class 'int'>\n",
      "<class 'int'>\n",
      "<class 'float'>\n",
      "<class 'float'>\n",
      "<class 'str'>\n"
     ]
    }
   ],
   "source": [
    "# TIPO DE VARIABLE ENTERO \n",
    "ent1=12\n",
    "ent2=14\n",
    "print(type(ent1))\n",
    "print(type(ent2))\n",
    "\n",
    "#TIPO DE VARIABLE FLOTANTE\n",
    "float1=12.01213123\n",
    "float2=14.234534\n",
    "print(type(float1))\n",
    "print(type(float2))\n",
    "\n",
    "#TIPO DE VARIABLE STRING O CADENA DE CARACTERES\n",
    "cad1=\"HOla\"\n",
    "print(type(cad1))"
   ]
  },
  {
   "cell_type": "code",
   "execution_count": 15,
   "id": "20dec576",
   "metadata": {},
   "outputs": [
    {
     "name": "stdout",
     "output_type": "stream",
     "text": [
      "26\n",
      "<class 'int'>\n"
     ]
    }
   ],
   "source": [
    "#OPERAR Variable de tipo entero con enter\n",
    "x=ent1+ent2\n",
    "print(x)\n",
    "print(type(x))\n"
   ]
  },
  {
   "cell_type": "code",
   "execution_count": 16,
   "id": "0621b102",
   "metadata": {},
   "outputs": [
    {
     "name": "stdout",
     "output_type": "stream",
     "text": [
      "26.246665229999998\n",
      "<class 'float'>\n"
     ]
    }
   ],
   "source": [
    "#OPERAR Variable de tipo flotante con flotante\n",
    "y=float1+float2\n",
    "print(y)\n",
    "print(type(y))\n"
   ]
  },
  {
   "cell_type": "code",
   "execution_count": 21,
   "id": "cd2bfce1",
   "metadata": {
    "scrolled": true
   },
   "outputs": [
    {
     "name": "stdout",
     "output_type": "stream",
     "text": [
      "26.234534\n",
      "<class 'float'>\n",
      "82.33333333333333\n",
      "82.33\n"
     ]
    }
   ],
   "source": [
    "#OPERAR Variable de tipo entero con flotante\n",
    "z=ent1+float2\n",
    "print(z)\n",
    "print(type(z))\n",
    "\n",
    "not1=90\n",
    "not2=23\n",
    "not3=67\n",
    "\n",
    "suma=sum((not1,not1,not3))\n",
    "promedio=suma/3\n",
    "print(promedio)\n",
    "\n",
    "#Redondear\n",
    "promedio=round(promedio,2)\n",
    "print(promedio)\n"
   ]
  },
  {
   "cell_type": "markdown",
   "id": "0c1318b1",
   "metadata": {},
   "source": [
    "5 notas\n",
    "cada nota vale 20 puntos\n",
    "\n",
    "5notas=100 puntos\n",
    "4notas=X\n",
    "\n",
    "x=(100puntos*4notas)/5notas\n",
    "x=(400)/5\n",
    "x=80\n"
   ]
  },
  {
   "cell_type": "code",
   "execution_count": 24,
   "id": "3f5f293c",
   "metadata": {},
   "outputs": [
    {
     "name": "stdout",
     "output_type": "stream",
     "text": [
      "El valor del minimo es:  20\n",
      "El promedio sin redondear es:  3.225\n",
      "El promedio redondeado a dos decimales es:  3.23\n"
     ]
    }
   ],
   "source": [
    "not1=90\n",
    "not2=23\n",
    "not3=67\n",
    "not4=78\n",
    "not5=20\n",
    "\n",
    "minimo=min(not1,not2,not4,not4,not5)\n",
    "print(\"El valor del minimo es: \",minimo)\n",
    "\n",
    "suma=not1+not2+not3+not4+not5-minimo\n",
    "promedio=suma/80\n",
    "print(\"El promedio sin redondear es: \",promedio)\n",
    "\n",
    "#Redondear\n",
    "promedio=round(promedio,2)\n",
    "print(\"El promedio redondeado a dos decimales es: \",promedio)\n"
   ]
  },
  {
   "cell_type": "markdown",
   "id": "9f15a450",
   "metadata": {},
   "source": [
    "5notas= 5puntos\n",
    "4notas=x\n",
    "\n",
    "x=(4notas*5puntos)/5notas\n",
    "x=4\n"
   ]
  }
 ],
 "metadata": {
  "kernelspec": {
   "display_name": "Python 3",
   "language": "python",
   "name": "python3"
  },
  "language_info": {
   "codemirror_mode": {
    "name": "ipython",
    "version": 3
   },
   "file_extension": ".py",
   "mimetype": "text/x-python",
   "name": "python",
   "nbconvert_exporter": "python",
   "pygments_lexer": "ipython3",
   "version": "3.9.1"
  }
 },
 "nbformat": 4,
 "nbformat_minor": 5
}
