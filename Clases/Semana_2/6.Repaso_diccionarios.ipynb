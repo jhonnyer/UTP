{
 "cells": [
  {
   "cell_type": "code",
   "execution_count": 12,
   "id": "337354e8",
   "metadata": {},
   "outputs": [
    {
     "name": "stdout",
     "output_type": "stream",
     "text": [
      "{}\n"
     ]
    }
   ],
   "source": [
    "diccionario=dict()\n",
    "print(diccionario)"
   ]
  },
  {
   "cell_type": "code",
   "execution_count": 13,
   "id": "5f98aee6",
   "metadata": {},
   "outputs": [
    {
     "data": {
      "text/plain": [
       "{'one': 'uno'}"
      ]
     },
     "execution_count": 13,
     "metadata": {},
     "output_type": "execute_result"
    }
   ],
   "source": [
    "diccionario['one']='uno'\n",
    "diccionario"
   ]
  },
  {
   "cell_type": "code",
   "execution_count": 9,
   "id": "dd11e531",
   "metadata": {},
   "outputs": [
    {
     "data": {
      "text/plain": [
       "dict"
      ]
     },
     "execution_count": 9,
     "metadata": {},
     "output_type": "execute_result"
    }
   ],
   "source": [
    "vacio={}\n",
    "type(vacio)"
   ]
  },
  {
   "cell_type": "code",
   "execution_count": 16,
   "id": "41c4f4c0",
   "metadata": {},
   "outputs": [
    {
     "name": "stdout",
     "output_type": "stream",
     "text": [
      "{'one': 'uno', 'two': 'dos', 'three': 'tres'}\n"
     ]
    }
   ],
   "source": [
    "eng2sp = {'one': 'uno', 'two': 'dos', 'three': 'tres'}\n",
    "print(eng2sp)"
   ]
  },
  {
   "cell_type": "code",
   "execution_count": 17,
   "id": "df7c13df",
   "metadata": {},
   "outputs": [
    {
     "ename": "KeyError",
     "evalue": "'four'",
     "output_type": "error",
     "traceback": [
      "\u001b[0;31m---------------------------------------------------------------------------\u001b[0m",
      "\u001b[0;31mKeyError\u001b[0m                                  Traceback (most recent call last)",
      "\u001b[0;32m<ipython-input-17-5bf2f4759ed6>\u001b[0m in \u001b[0;36m<module>\u001b[0;34m\u001b[0m\n\u001b[1;32m      1\u001b[0m \u001b[0;31m#si la clave no esta en el diccionario se encuentra un error\u001b[0m\u001b[0;34m\u001b[0m\u001b[0;34m\u001b[0m\u001b[0;34m\u001b[0m\u001b[0m\n\u001b[0;32m----> 2\u001b[0;31m \u001b[0mprint\u001b[0m\u001b[0;34m(\u001b[0m\u001b[0meng2sp\u001b[0m\u001b[0;34m[\u001b[0m\u001b[0;34m'four'\u001b[0m\u001b[0;34m]\u001b[0m\u001b[0;34m)\u001b[0m\u001b[0;34m\u001b[0m\u001b[0;34m\u001b[0m\u001b[0m\n\u001b[0m",
      "\u001b[0;31mKeyError\u001b[0m: 'four'"
     ]
    }
   ],
   "source": [
    "#si la clave no esta en el diccionario se encuentra un error\n",
    "print(eng2sp['four'])"
   ]
  },
  {
   "cell_type": "code",
   "execution_count": 20,
   "id": "b2573093",
   "metadata": {},
   "outputs": [
    {
     "data": {
      "text/plain": [
       "3"
      ]
     },
     "execution_count": 20,
     "metadata": {},
     "output_type": "execute_result"
    }
   ],
   "source": [
    "#retorna el numero de pares clave-valor en el diccionario\n",
    "len(eng2sp)"
   ]
  },
  {
   "cell_type": "code",
   "execution_count": 21,
   "id": "a78f3255",
   "metadata": {},
   "outputs": [
    {
     "data": {
      "text/plain": [
       "True"
      ]
     },
     "execution_count": 21,
     "metadata": {},
     "output_type": "execute_result"
    }
   ],
   "source": [
    "#operador in permite buscar un valor por clave, NOTA: el valor no es suficiente retorna false\n",
    "'one' in eng2sp"
   ]
  },
  {
   "cell_type": "code",
   "execution_count": 22,
   "id": "3c638ce1",
   "metadata": {},
   "outputs": [
    {
     "data": {
      "text/plain": [
       "False"
      ]
     },
     "execution_count": 22,
     "metadata": {},
     "output_type": "execute_result"
    }
   ],
   "source": [
    "#Solo busca por clave, no por valor\n",
    "'uno' in eng2sp"
   ]
  },
  {
   "cell_type": "code",
   "execution_count": 23,
   "id": "7305752d",
   "metadata": {},
   "outputs": [
    {
     "data": {
      "text/plain": [
       "True"
      ]
     },
     "execution_count": 23,
     "metadata": {},
     "output_type": "execute_result"
    }
   ],
   "source": [
    "# Para ver si algo aparece como valor en un diccionario, puedes usar el método\n",
    "# values, el cual retorna los valores como una lista, y después puedes usar el operador in:\n",
    "vals = list(eng2sp.values())\n",
    "'uno' in vals"
   ]
  },
  {
   "cell_type": "code",
   "execution_count": 1,
   "id": "f858a5d8",
   "metadata": {},
   "outputs": [
    {
     "name": "stdout",
     "output_type": "stream",
     "text": [
      "{'b': 1, 'r': 2, 'o': 3, 'n': 1, 't': 1, 's': 1, 'a': 1, 'u': 1, 'i': 1}\n"
     ]
    }
   ],
   "source": [
    "palabra = 'brontosaurio'\n",
    "d = dict()\n",
    "for c in palabra:\n",
    "    if c not in d:\n",
    "        d[c] = 1\n",
    "    else:\n",
    "        d[c] = d[c] + 1\n",
    "print(d)"
   ]
  },
  {
   "cell_type": "code",
   "execution_count": 3,
   "id": "87c805fe",
   "metadata": {},
   "outputs": [
    {
     "name": "stdout",
     "output_type": "stream",
     "text": [
      "100\n"
     ]
    }
   ],
   "source": [
    "#Metodo get devuelve el valor de una clave si la encuentra en el diccionario, sino devuelve el valor por defecto\n",
    "cuentas = { 'chuck' : 1 , 'annie' : 42, 'jan': 100}\n",
    "print(cuentas.get('jan', 0))\n"
   ]
  },
  {
   "cell_type": "code",
   "execution_count": 4,
   "id": "770e5dae",
   "metadata": {},
   "outputs": [
    {
     "name": "stdout",
     "output_type": "stream",
     "text": [
      "0\n"
     ]
    }
   ],
   "source": [
    "#devuelve el valor 0 por defecto sino esta la clave en el diccionario\n",
    "print(cuentas.get('tim', 0))"
   ]
  },
  {
   "cell_type": "code",
   "execution_count": 5,
   "id": "0907ac6d",
   "metadata": {},
   "outputs": [
    {
     "name": "stdout",
     "output_type": "stream",
     "text": [
      "{'b': 1, 'r': 2, 'o': 3, 'n': 1, 't': 1, 's': 1, 'a': 1, 'u': 1, 'i': 1}\n"
     ]
    }
   ],
   "source": [
    "palabra = 'brontosaurio'\n",
    "d = dict()\n",
    "for c in palabra:\n",
    "    d[c] = d.get(c,0) + 1\n",
    "print(d)"
   ]
  },
  {
   "cell_type": "code",
   "execution_count": 6,
   "id": "5938c4b9",
   "metadata": {},
   "outputs": [
    {
     "name": "stdout",
     "output_type": "stream",
     "text": [
      "chuck 1\n",
      "annie 42\n",
      "jan 100\n"
     ]
    }
   ],
   "source": [
    "#Bucles y diccionarios\n",
    "contadores = { 'chuck' : 1 , 'annie' : 42, 'jan': 100}\n",
    "for clave in contadores:\n",
    "    print(clave, contadores[clave])"
   ]
  },
  {
   "cell_type": "code",
   "execution_count": 7,
   "id": "0c128613",
   "metadata": {},
   "outputs": [
    {
     "name": "stdout",
     "output_type": "stream",
     "text": [
      "annie 42\n",
      "jan 100\n"
     ]
    }
   ],
   "source": [
    "# Podemos utilizar este patrón para implementar varios idiomas de bucles que hemos\n",
    "# descrito previamente. Por ejemplo, si queremos encontrar todas las entradas en\n",
    "# un diccionario con valor mayor a diez, podemos escribir el siguiente código:\n",
    "contadores = { 'chuck' : 1 , 'annie' : 42, 'jan': 100}\n",
    "for clave in contadores:\n",
    "    if contadores[clave] > 10 :\n",
    "        print(clave, contadores[clave])"
   ]
  },
  {
   "cell_type": "code",
   "execution_count": 9,
   "id": "9c4185fd",
   "metadata": {},
   "outputs": [
    {
     "name": "stdout",
     "output_type": "stream",
     "text": [
      "['chuck', 'annie', 'jan']\n",
      "annie 42\n",
      "chuck 1\n",
      "jan 100\n"
     ]
    }
   ],
   "source": [
    "#Imprimir claces en orden alfabetico\n",
    "contadores = { 'chuck' : 1 , 'annie' : 42, 'jan': 100}\n",
    "#HAGO UNA LISTA CON LAS PALABRAS CLAVE\n",
    "lst = list(contadores.keys())\n",
    "print(lst)\n",
    "#ORDENO LAS PALABRAS CLAVE\n",
    "lst.sort()\n",
    "#RECORRO LAS PALABRAS CLAVE\n",
    "for clave in lst:\n",
    "    print(clave, contadores[clave])"
   ]
  },
  {
   "cell_type": "code",
   "execution_count": 10,
   "id": "619f9143",
   "metadata": {},
   "outputs": [
    {
     "data": {
      "text/plain": [
       "'!\"#$%&\\'()*+,-./:;<=>?@[\\\\]^_`{|}~'"
      ]
     },
     "execution_count": 10,
     "metadata": {},
     "output_type": "execute_result"
    }
   ],
   "source": [
    "import string\n",
    "string.punctuation"
   ]
  }
 ],
 "metadata": {
  "kernelspec": {
   "display_name": "Python 3",
   "language": "python",
   "name": "python3"
  },
  "language_info": {
   "codemirror_mode": {
    "name": "ipython",
    "version": 3
   },
   "file_extension": ".py",
   "mimetype": "text/x-python",
   "name": "python",
   "nbconvert_exporter": "python",
   "pygments_lexer": "ipython3",
   "version": "3.9.1"
  }
 },
 "nbformat": 4,
 "nbformat_minor": 5
}
