{
 "cells": [
  {
   "cell_type": "code",
   "execution_count": 5,
   "id": "35bf6268",
   "metadata": {},
   "outputs": [
    {
     "name": "stdout",
     "output_type": "stream",
     "text": [
      "10\n",
      "Hola mundo\n",
      "12\n"
     ]
    }
   ],
   "source": [
    "A=10\n",
    "a=\"Hola mundo\"\n",
    "print(A)\n",
    "print(a)\n",
    "_a=12\n",
    "print(_a)"
   ]
  },
  {
   "cell_type": "code",
   "execution_count": 2,
   "id": "e94c0f83",
   "metadata": {},
   "outputs": [
    {
     "ename": "SyntaxError",
     "evalue": "invalid syntax (<ipython-input-2-5f5d08b732fb>, line 2)",
     "output_type": "error",
     "traceback": [
      "\u001b[0;36m  File \u001b[0;32m\"<ipython-input-2-5f5d08b732fb>\"\u001b[0;36m, line \u001b[0;32m2\u001b[0m\n\u001b[0;31m    print(!ass)\u001b[0m\n\u001b[0m          ^\u001b[0m\n\u001b[0;31mSyntaxError\u001b[0m\u001b[0;31m:\u001b[0m invalid syntax\n"
     ]
    }
   ],
   "source": [
    "!ass=12\n",
    "print(!ass)"
   ]
  },
  {
   "cell_type": "code",
   "execution_count": 3,
   "id": "0572c0cf",
   "metadata": {},
   "outputs": [
    {
     "ename": "SyntaxError",
     "evalue": "invalid syntax (<ipython-input-3-be165bf70a9d>, line 1)",
     "output_type": "error",
     "traceback": [
      "\u001b[0;36m  File \u001b[0;32m\"<ipython-input-3-be165bf70a9d>\"\u001b[0;36m, line \u001b[0;32m1\u001b[0m\n\u001b[0;31m    1ass=12\u001b[0m\n\u001b[0m     ^\u001b[0m\n\u001b[0;31mSyntaxError\u001b[0m\u001b[0;31m:\u001b[0m invalid syntax\n"
     ]
    }
   ],
   "source": [
    "1ass=12\n",
    "print(1ass)"
   ]
  },
  {
   "cell_type": "code",
   "execution_count": 21,
   "id": "58314a06",
   "metadata": {},
   "outputs": [
    {
     "name": "stdout",
     "output_type": "stream",
     "text": [
      "1\n",
      "10\n"
     ]
    }
   ],
   "source": [
    "varx=1\n",
    "print(varx)\n",
    "vary=10\n",
    "print(vary)"
   ]
  },
  {
   "cell_type": "code",
   "execution_count": 7,
   "id": "c59b5d43",
   "metadata": {},
   "outputs": [
    {
     "name": "stdout",
     "output_type": "stream",
     "text": [
      "12\n",
      "hola\n"
     ]
    }
   ],
   "source": [
    "var_1=12\n",
    "print(var_1)\n",
    "var_abc=\"hola\"\n",
    "print(var_abc)"
   ]
  },
  {
   "cell_type": "code",
   "execution_count": 6,
   "id": "97bddae1",
   "metadata": {},
   "outputs": [
    {
     "ename": "SyntaxError",
     "evalue": "cannot assign to operator (<ipython-input-6-643069c85454>, line 1)",
     "output_type": "error",
     "traceback": [
      "\u001b[0;36m  File \u001b[0;32m\"<ipython-input-6-643069c85454>\"\u001b[0;36m, line \u001b[0;32m1\u001b[0m\n\u001b[0;31m    var+s=40\u001b[0m\n\u001b[0m    ^\u001b[0m\n\u001b[0;31mSyntaxError\u001b[0m\u001b[0;31m:\u001b[0m cannot assign to operator\n"
     ]
    }
   ],
   "source": [
    "var+s=40\n",
    "print(var+s)"
   ]
  },
  {
   "cell_type": "code",
   "execution_count": 8,
   "id": "1e116a0b",
   "metadata": {},
   "outputs": [
    {
     "name": "stdout",
     "output_type": "stream",
     "text": [
      "38\n",
      "1.23\n",
      "Hola\n"
     ]
    }
   ],
   "source": [
    "#Declaracion de variable\n",
    "#Variable entera\n",
    "var1=38\n",
    "print(var1)\n",
    "#Variable flotante\n",
    "var2=1.23\n",
    "print(var2)\n",
    "#Variable de string\n",
    "var3=\"Hola\"\n",
    "print(var3)"
   ]
  },
  {
   "cell_type": "code",
   "execution_count": 9,
   "id": "e94cae53",
   "metadata": {},
   "outputs": [
    {
     "name": "stdout",
     "output_type": "stream",
     "text": [
      "<class 'int'>\n",
      "<class 'float'>\n",
      "<class 'str'>\n"
     ]
    }
   ],
   "source": [
    "print(type(var1))\n",
    "print(type(var2))\n",
    "print(type(var3))"
   ]
  },
  {
   "cell_type": "code",
   "execution_count": 12,
   "id": "398be1be",
   "metadata": {},
   "outputs": [
    {
     "name": "stdout",
     "output_type": "stream",
     "text": [
      "38\n",
      "38\n",
      "76\n"
     ]
    }
   ],
   "source": [
    "var4=var5=var1\n",
    "print(var4)\n",
    "print(var5)\n",
    "z=var4+var5\n",
    "print(z)"
   ]
  },
  {
   "cell_type": "code",
   "execution_count": 15,
   "id": "42537b3f",
   "metadata": {},
   "outputs": [
    {
     "name": "stdout",
     "output_type": "stream",
     "text": [
      "5\n",
      "5.2\n",
      "5.699999999999999\n"
     ]
    },
    {
     "data": {
      "text/plain": [
       "float"
      ]
     },
     "execution_count": 15,
     "metadata": {},
     "output_type": "execute_result"
    }
   ],
   "source": [
    "# Operaciones entre un entero y un entero\n",
    "a=2\n",
    "b=3\n",
    "c=a+b\n",
    "print(c)\n",
    "type(c)\n",
    "\n",
    "# operar un entero y un flotante y viceversa\n",
    "a=2\n",
    "b=3.2\n",
    "c=a+b\n",
    "print(c)\n",
    "type(c)\n",
    "\n",
    "# operar un float y un float\n",
    "a=2.3\n",
    "b=3.4\n",
    "c=a+b\n",
    "print(c)\n",
    "type(c)\n",
    "\n"
   ]
  },
  {
   "cell_type": "code",
   "execution_count": 17,
   "id": "557601e8",
   "metadata": {},
   "outputs": [
    {
     "name": "stdout",
     "output_type": "stream",
     "text": [
      "5\n",
      "5.0\n"
     ]
    }
   ],
   "source": [
    "c=int(c)\n",
    "print(c)\n",
    "c=float(c)\n",
    "print(c)"
   ]
  },
  {
   "cell_type": "code",
   "execution_count": 18,
   "id": "5917fe41",
   "metadata": {},
   "outputs": [
    {
     "name": "stdout",
     "output_type": "stream",
     "text": [
      "10\n",
      "hola\n",
      "1.2\n"
     ]
    }
   ],
   "source": [
    "a=10\n",
    "print(a)\n",
    "a=\"hola\"\n",
    "print(a)\n",
    "a=1.2\n",
    "print(a)"
   ]
  },
  {
   "cell_type": "code",
   "execution_count": 23,
   "id": "eacecc3d",
   "metadata": {},
   "outputs": [
    {
     "name": "stdout",
     "output_type": "stream",
     "text": [
      "100 100 100\n"
     ]
    }
   ],
   "source": [
    "#asignacion multiple de variables\n",
    "#Metodo 1\n",
    "var1=var2=var3=100\n",
    "print(var1, var2, var3)"
   ]
  },
  {
   "cell_type": "code",
   "execution_count": 27,
   "id": "fdd5deb3",
   "metadata": {},
   "outputs": [
    {
     "name": "stdout",
     "output_type": "stream",
     "text": [
      "10 20 30\n"
     ]
    }
   ],
   "source": [
    "#asignacion multiple de variables\n",
    "#Metodo 2\n",
    "var1, var2, var3 =10 ,20,30\n",
    "\n",
    "print(var1, var2, var3)"
   ]
  },
  {
   "cell_type": "code",
   "execution_count": 28,
   "id": "8402bcfa",
   "metadata": {},
   "outputs": [
    {
     "data": {
      "text/plain": [
       "2.5"
      ]
     },
     "execution_count": 28,
     "metadata": {},
     "output_type": "execute_result"
    }
   ],
   "source": [
    "5/2"
   ]
  },
  {
   "cell_type": "code",
   "execution_count": 29,
   "id": "bfae71cc",
   "metadata": {},
   "outputs": [
    {
     "data": {
      "text/plain": [
       "2"
      ]
     },
     "execution_count": 29,
     "metadata": {},
     "output_type": "execute_result"
    }
   ],
   "source": [
    "5//2"
   ]
  },
  {
   "cell_type": "code",
   "execution_count": 31,
   "id": "40f1bc91",
   "metadata": {},
   "outputs": [
    {
     "data": {
      "text/plain": [
       "1"
      ]
     },
     "execution_count": 31,
     "metadata": {},
     "output_type": "execute_result"
    }
   ],
   "source": [
    "7%2"
   ]
  },
  {
   "cell_type": "code",
   "execution_count": 33,
   "id": "58b8aa1a",
   "metadata": {},
   "outputs": [
    {
     "name": "stdout",
     "output_type": "stream",
     "text": [
      "el numero 11 es impar\n"
     ]
    }
   ],
   "source": [
    "x=11\n",
    "if x%2==0:\n",
    "    print(\"El numero {} es par\".format(x))\n",
    "else:\n",
    "    print(\"el numero {} es impar\".format(x))"
   ]
  },
  {
   "cell_type": "code",
   "execution_count": 34,
   "id": "73449dc7",
   "metadata": {},
   "outputs": [
    {
     "data": {
      "text/plain": [
       "49"
      ]
     },
     "execution_count": 34,
     "metadata": {},
     "output_type": "execute_result"
    }
   ],
   "source": [
    "7**2"
   ]
  },
  {
   "cell_type": "code",
   "execution_count": 35,
   "id": "2130b024",
   "metadata": {},
   "outputs": [
    {
     "data": {
      "text/plain": [
       "40353607"
      ]
     },
     "execution_count": 35,
     "metadata": {},
     "output_type": "execute_result"
    }
   ],
   "source": [
    "7**9"
   ]
  },
  {
   "cell_type": "code",
   "execution_count": 39,
   "id": "18b9bf40",
   "metadata": {},
   "outputs": [
    {
     "name": "stdout",
     "output_type": "stream",
     "text": [
      "3.0\n",
      "3\n"
     ]
    }
   ],
   "source": [
    "x=9\n",
    "raiz=x**(1/2)\n",
    "print(raiz)\n",
    "print(int(raiz))"
   ]
  },
  {
   "cell_type": "code",
   "execution_count": 42,
   "id": "dee3e74a",
   "metadata": {},
   "outputs": [
    {
     "name": "stdout",
     "output_type": "stream",
     "text": [
      "3.0\n"
     ]
    }
   ],
   "source": [
    "#Promedio\n",
    "var1=2\n",
    "var2=3\n",
    "var3=4\n",
    "promedio=(var1+var2+var3)/3\n",
    "print(promedio)"
   ]
  },
  {
   "cell_type": "code",
   "execution_count": 77,
   "id": "08971777",
   "metadata": {},
   "outputs": [
    {
     "name": "stdout",
     "output_type": "stream",
     "text": [
      "6.333333333333333\n",
      "6.3\n"
     ]
    }
   ],
   "source": [
    "#Promedio error de precedencia\n",
    "var1=2\n",
    "var2=3\n",
    "var3=4\n",
    "promedio=var1+var2+var3/3\n",
    "print(promedio)\n",
    "print(\"{:3.1f}\".format(promedio))"
   ]
  },
  {
   "cell_type": "code",
   "execution_count": 45,
   "id": "9c108bdb",
   "metadata": {},
   "outputs": [
    {
     "name": "stdout",
     "output_type": "stream",
     "text": [
      "18.0\n"
     ]
    }
   ],
   "source": [
    "x=2+3*2+(4-2)/2+3**2\n",
    "print(x)"
   ]
  },
  {
   "cell_type": "code",
   "execution_count": 49,
   "id": "ee44a3a4",
   "metadata": {},
   "outputs": [
    {
     "name": "stdout",
     "output_type": "stream",
     "text": [
      "7\n"
     ]
    }
   ],
   "source": [
    "y=6-3+4\n",
    "print(y)"
   ]
  },
  {
   "cell_type": "code",
   "execution_count": 50,
   "id": "625c651b",
   "metadata": {},
   "outputs": [
    {
     "name": "stdout",
     "output_type": "stream",
     "text": [
      "Hola mundo\n",
      "<class 'str'>\n"
     ]
    },
    {
     "data": {
      "text/plain": [
       "10"
      ]
     },
     "execution_count": 50,
     "metadata": {},
     "output_type": "execute_result"
    }
   ],
   "source": [
    "#caracteres\n",
    "car=\"Hola mundo\"\n",
    "print(car)\n",
    "print(type(car))\n",
    "len(car)"
   ]
  },
  {
   "cell_type": "code",
   "execution_count": 55,
   "id": "06852f36",
   "metadata": {},
   "outputs": [
    {
     "name": "stdout",
     "output_type": "stream",
     "text": [
      "Hola mundo\n"
     ]
    }
   ],
   "source": [
    "#Unir cadenas y añadir espacios\n",
    "cad1=\"Hola\"\n",
    "cad2=\"mundo\"\n",
    "frase=cad1+' '+cad2\n",
    "print(frase)"
   ]
  },
  {
   "cell_type": "code",
   "execution_count": 62,
   "id": "2cefd0f3",
   "metadata": {},
   "outputs": [
    {
     "name": "stdout",
     "output_type": "stream",
     "text": [
      "Hola mundo, estamos en el año 2021 y tenemos 20 años\n",
      "Hola mundo, estamos en el año  20 y tenemos  20 años\n"
     ]
    }
   ],
   "source": [
    "#imprimir un mensaje que diga hola mundo y añada el \n",
    "#año en el que estamos y un numero cualquiera \n",
    "#Hola mundo, estamos en el año 2021 y tenemos 20 años\n",
    "year=2021\n",
    "x=20\n",
    "print(\"Hola mundo, estamos en el año {} y tenemos {} años\".format(year,x))\n",
    "print(\"Hola mundo, estamos en el año \",x,\"y tenemos \",x,\"años\")"
   ]
  },
  {
   "cell_type": "code",
   "execution_count": 99,
   "id": "3075c173",
   "metadata": {},
   "outputs": [
    {
     "name": "stdout",
     "output_type": "stream",
     "text": [
      "          Hola mundo\n",
      "Hola mundo\n",
      "        Hola        \n"
     ]
    }
   ],
   "source": [
    "#Formateo de caracteres y numeros\n",
    "#Alinear a la derecha\n",
    "x=\"Hola mundo\"\n",
    "print(\"{:>20}\".format(x))\n",
    "#Truncamiento de caracteres, rebanado o slicing\n",
    "print(\"{:4}\".format(\"Hola mundo\"))\n",
    "#Truncar al centro en 20 caractes, solamente imprimir los 4 primeros letras\n",
    "print(\"{:^20.4}\".format(x))"
   ]
  },
  {
   "cell_type": "code",
   "execution_count": 92,
   "id": "58fda581",
   "metadata": {},
   "outputs": [
    {
     "name": "stdout",
     "output_type": "stream",
     "text": [
      "mundo\n"
     ]
    }
   ],
   "source": [
    "x=\"hola mundo\"\n",
    "y=x[5:]\n",
    "print(y)\n"
   ]
  },
  {
   "cell_type": "code",
   "execution_count": 88,
   "id": "533c7b4a",
   "metadata": {},
   "outputs": [
    {
     "name": "stdout",
     "output_type": "stream",
     "text": [
      "00150\n",
      "15034\n",
      "12345.0\n"
     ]
    }
   ],
   "source": [
    "#Formatear numeros enteros\n",
    "#imprimia un numero entero a 5 cifras y rellenarlas con cero\n",
    "#150 =>  00150\n",
    "# x=12345\n",
    "# y=00123\n",
    "# z=00145\n",
    "print(\"{:05d}\".format(150))\n",
    "\n",
    "#Rellenar con espacios\n",
    "print(\"{:5d}\".format(15034))\n",
    "\n",
    "#formatear a 3 numeros enteros y 2 numeros decimales, y 7 digitos\n",
    "print(\"{:7.1f}\".format(12345.02))"
   ]
  }
 ],
 "metadata": {
  "kernelspec": {
   "display_name": "Python 3",
   "language": "python",
   "name": "python3"
  },
  "language_info": {
   "codemirror_mode": {
    "name": "ipython",
    "version": 3
   },
   "file_extension": ".py",
   "mimetype": "text/x-python",
   "name": "python",
   "nbconvert_exporter": "python",
   "pygments_lexer": "ipython3",
   "version": "3.9.1"
  }
 },
 "nbformat": 4,
 "nbformat_minor": 5
}
