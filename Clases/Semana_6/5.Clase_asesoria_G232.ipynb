{
 "cells": [
  {
   "cell_type": "markdown",
   "id": "8e9c08e9",
   "metadata": {},
   "source": [
    "# Definicion de una funcion"
   ]
  },
  {
   "cell_type": "code",
   "execution_count": 2,
   "id": "629baa1a",
   "metadata": {},
   "outputs": [
    {
     "name": "stdout",
     "output_type": "stream",
     "text": [
      "Texto en pantalla\n"
     ]
    }
   ],
   "source": [
    "def nombre_funcion():\n",
    "    print(\"Texto en pantalla\")\n",
    "\n",
    "#Llamar la funcion\n",
    "nombre_funcion()"
   ]
  },
  {
   "cell_type": "code",
   "execution_count": 4,
   "id": "b1121401",
   "metadata": {},
   "outputs": [
    {
     "name": "stdout",
     "output_type": "stream",
     "text": [
      "Funcion que multiplica, suma y divide dos números\n",
      "(200, 30, 2.0)\n"
     ]
    }
   ],
   "source": [
    "# Funcion que recibe argumentos\n",
    "def nombre_funcion(parametro1, parametro2):\n",
    "    variable1=parametro1*parametro2\n",
    "    variable2=parametro1+parametro2\n",
    "    variable3=parametro1/parametro2\n",
    "    print(\"Funcion que multiplica, suma y divide dos números\")\n",
    "    return variable1,variable2,variable3\n",
    "\n",
    "v1=nombre_funcion(20,10)\n",
    "print(v1)"
   ]
  },
  {
   "cell_type": "code",
   "execution_count": 7,
   "id": "25134de8",
   "metadata": {},
   "outputs": [
    {
     "name": "stdout",
     "output_type": "stream",
     "text": [
      "Funcion que multiplica, suma y divide dos números\n",
      "200\n",
      "30\n",
      "2.0\n"
     ]
    }
   ],
   "source": [
    "v1,v2,v3=nombre_funcion(20,10)\n",
    "print(v1)\n",
    "print(v2)\n",
    "print(v3)"
   ]
  },
  {
   "cell_type": "code",
   "execution_count": 8,
   "id": "ed0d5e93",
   "metadata": {},
   "outputs": [
    {
     "ename": "ValueError",
     "evalue": "not enough values to unpack (expected 3, got 2)",
     "output_type": "error",
     "traceback": [
      "\u001b[0;31m---------------------------------------------------------------------------\u001b[0m",
      "\u001b[0;31mValueError\u001b[0m                                Traceback (most recent call last)",
      "\u001b[0;32m<ipython-input-8-d95c0d533567>\u001b[0m in \u001b[0;36m<module>\u001b[0;34m\u001b[0m\n\u001b[1;32m      1\u001b[0m \u001b[0;31m#Error asignacion por los valores no corresponden a ls variables\u001b[0m\u001b[0;34m\u001b[0m\u001b[0;34m\u001b[0m\u001b[0;34m\u001b[0m\u001b[0m\n\u001b[0;32m----> 2\u001b[0;31m \u001b[0ma\u001b[0m\u001b[0;34m,\u001b[0m\u001b[0mb\u001b[0m\u001b[0;34m,\u001b[0m\u001b[0mc\u001b[0m\u001b[0;34m=\u001b[0m\u001b[0;36m4\u001b[0m\u001b[0;34m,\u001b[0m\u001b[0;36m5\u001b[0m\u001b[0;34m\u001b[0m\u001b[0;34m\u001b[0m\u001b[0m\n\u001b[0m",
      "\u001b[0;31mValueError\u001b[0m: not enough values to unpack (expected 3, got 2)"
     ]
    }
   ],
   "source": [
    "#Error asignacion por los valores no corresponden a ls variables\n",
    "a,b,c=4,5"
   ]
  },
  {
   "cell_type": "code",
   "execution_count": 9,
   "id": "7a1a2354",
   "metadata": {},
   "outputs": [
    {
     "name": "stdout",
     "output_type": "stream",
     "text": [
      "Variable es un string\n"
     ]
    }
   ],
   "source": [
    "# CICLOS; CONDICIONALES\n",
    "#IF, este condicional me permite verifica si una condicion es falsa o verdadera, dependiendo la condicion \n",
    "#Va coger un camino verdadero o un camino falso\n",
    "\n",
    "var=10\n",
    "if var=='10':\n",
    "    print(\"Variable es un entero\")\n",
    "else:\n",
    "    print(\"Variable es un string\")"
   ]
  },
  {
   "cell_type": "code",
   "execution_count": 10,
   "id": "0100b747",
   "metadata": {},
   "outputs": [
    {
     "name": "stdout",
     "output_type": "stream",
     "text": [
      "Variable es un entero\n"
     ]
    }
   ],
   "source": [
    "# CICLOS; CONDICIONALES\n",
    "#IF, este condicional me permite verifica si una condicion es falsa o verdadera, dependiendo la condicion \n",
    "#Va coger un camino verdadero o un camino falso\n",
    "\n",
    "var=10\n",
    "if var==10:\n",
    "    print(\"Variable es un entero\")\n",
    "else:\n",
    "    print(\"Variable es un string\")"
   ]
  },
  {
   "cell_type": "code",
   "execution_count": 11,
   "id": "36a2b75a",
   "metadata": {},
   "outputs": [
    {
     "name": "stdout",
     "output_type": "stream",
     "text": [
      "El numero es igual a 10\n"
     ]
    }
   ],
   "source": [
    "var=10\n",
    "if var>10:\n",
    "    print(\"Es un numero mayor a 10\")\n",
    "elif var==10:\n",
    "    print(\"El numero es igual a 10\")\n",
    "else:\n",
    "    print(\"Opcion incorrecta\")"
   ]
  },
  {
   "cell_type": "code",
   "execution_count": 12,
   "id": "40e3a3c9",
   "metadata": {},
   "outputs": [
    {
     "name": "stdout",
     "output_type": "stream",
     "text": [
      "Opcion incorrecta\n"
     ]
    }
   ],
   "source": [
    "var=9\n",
    "if var>10:\n",
    "    print(\"Es un numero mayor a 10\")\n",
    "elif var==10:\n",
    "    print(\"El numero es igual a 10\")\n",
    "else:\n",
    "    print(\"Opcion incorrecta\")"
   ]
  },
  {
   "cell_type": "code",
   "execution_count": 16,
   "id": "24c3b2d3",
   "metadata": {},
   "outputs": [
    {
     "name": "stdout",
     "output_type": "stream",
     "text": [
      "10 saludar\n",
      "11 saludar\n",
      "12 saludar\n",
      "13 saludar\n",
      "14 saludar\n",
      "15 saludar\n",
      "16 saludar\n",
      "17 saludar\n",
      "18 saludar\n",
      "19 saludar\n"
     ]
    }
   ],
   "source": [
    "#Bucle while\n",
    "#Tieene como caracteristica que evalua una condicion y ejecuta el cuerpo mientras la condicion sea verdadera\n",
    "#Cuando la condicion es falsa, inmediatamente se termine el bucle while\n",
    "#Ciclo while va a tener un contador que va a actuar como una variable de iteracion\n",
    "contador=10\n",
    "while contador<20:\n",
    "    print(contador,'saludar')\n",
    "    contador+=1"
   ]
  },
  {
   "cell_type": "code",
   "execution_count": 17,
   "id": "c86c22bf",
   "metadata": {},
   "outputs": [
    {
     "name": "stdout",
     "output_type": "stream",
     "text": [
      "10 saludar\n",
      "9 saludar\n",
      "8 saludar\n",
      "7 saludar\n",
      "6 saludar\n",
      "5 saludar\n",
      "4 saludar\n",
      "3 saludar\n",
      "2 saludar\n",
      "1 saludar\n"
     ]
    }
   ],
   "source": [
    "#Bucle while\n",
    "#Tieene como caracteristica que evalua una condicion y ejecuta el cuerpo mientras la condicion sea verdadera\n",
    "#Cuando la condicion es falsa, inmediatamente se termine el bucle while\n",
    "#Ciclo while va a tener un contador que va a actuar como una variable de iteracion\n",
    "contador=10\n",
    "while contador>0:\n",
    "    print(contador,'saludar')\n",
    "    contador-=1"
   ]
  },
  {
   "cell_type": "code",
   "execution_count": 18,
   "id": "482d8fa7",
   "metadata": {},
   "outputs": [
    {
     "name": "stdout",
     "output_type": "stream",
     "text": [
      "10 saludar\n",
      "9 saludar\n",
      "8 saludar\n",
      "7 saludar\n",
      "6 saludar\n",
      "5 saludar\n"
     ]
    }
   ],
   "source": [
    "#Bucle while\n",
    "#Tieene como caracteristica que evalua una condicion y ejecuta el cuerpo mientras la condicion sea verdadera\n",
    "#Cuando la condicion es falsa, inmediatamente se termine el bucle while\n",
    "#Ciclo while va a tener un contador que va a actuar como una variable de iteracion\n",
    "contador=10\n",
    "while contador>0:\n",
    "    print(contador,'saludar')\n",
    "    if contador==5:\n",
    "        break\n",
    "    contador-=1"
   ]
  },
  {
   "cell_type": "code",
   "execution_count": 20,
   "id": "3906c6ff",
   "metadata": {},
   "outputs": [
    {
     "name": "stdout",
     "output_type": "stream",
     "text": [
      "[1, 2, 4, 6, 6]\n",
      "0\n",
      "1\n",
      "2\n",
      "3\n",
      "4\n"
     ]
    }
   ],
   "source": [
    "# bucle FOR\n",
    "lista=[1,2,4,6,6]\n",
    "print(lista)\n",
    "for i in range(5):\n",
    "    print(i)"
   ]
  },
  {
   "cell_type": "code",
   "execution_count": 22,
   "id": "6b1fc6fb",
   "metadata": {},
   "outputs": [
    {
     "name": "stdout",
     "output_type": "stream",
     "text": [
      "[1, 2, 4, 6, 6]\n",
      "0 1\n",
      "1 2\n",
      "2 4\n",
      "3 6\n",
      "4 6\n"
     ]
    }
   ],
   "source": [
    "# bucle FOR\n",
    "lista=[1,2,4,6,6]\n",
    "print(lista)\n",
    "for i in range(len(lista)):\n",
    "    print(i, lista[i])"
   ]
  },
  {
   "cell_type": "code",
   "execution_count": 24,
   "id": "45b12a74",
   "metadata": {},
   "outputs": [
    {
     "name": "stdout",
     "output_type": "stream",
     "text": [
      "[1, 2, 4, 6, 6]\n",
      "1\n",
      "2\n",
      "4\n",
      "6\n",
      "6\n"
     ]
    }
   ],
   "source": [
    "# bucle FOR, recorre y obtiene el valor de i\n",
    "lista=[1,2,4,6,6]\n",
    "print(lista)\n",
    "for i in lista:\n",
    "    print(i)"
   ]
  },
  {
   "cell_type": "code",
   "execution_count": 25,
   "id": "dda81a43",
   "metadata": {},
   "outputs": [
    {
     "name": "stdout",
     "output_type": "stream",
     "text": [
      "[1, 2, 4, 6, 6]\n",
      "0 1\n",
      "1 2\n",
      "2 4\n",
      "3 6\n",
      "4 6\n"
     ]
    }
   ],
   "source": [
    "# bucle FOR, recorre y obtiene el valor de i\n",
    "lista=[1,2,4,6,6]\n",
    "print(lista)\n",
    "for indice, valor in enumerate(lista):\n",
    "    print(indice, valor)"
   ]
  },
  {
   "cell_type": "code",
   "execution_count": 26,
   "id": "efc14f1d",
   "metadata": {},
   "outputs": [
    {
     "name": "stdout",
     "output_type": "stream",
     "text": [
      "[1, 3.5, 'hola', True, False, 3, 5]\n",
      "<class 'list'>\n"
     ]
    }
   ],
   "source": [
    "# Listas\n",
    "#Las listas son ordenadas mediante indices\n",
    "#Las listas son mutables, se pueden modificar, añadir valores, cambiar valores\n",
    "lista=[1,3.5,'hola',True, False,3,5]\n",
    "print(lista)\n",
    "print(type(lista))"
   ]
  },
  {
   "cell_type": "code",
   "execution_count": 28,
   "id": "c3ed23f7",
   "metadata": {},
   "outputs": [
    {
     "data": {
      "text/plain": [
       "True"
      ]
     },
     "execution_count": 28,
     "metadata": {},
     "output_type": "execute_result"
    }
   ],
   "source": [
    "#Obtener el valor de una lista\n",
    "lista[3]"
   ]
  },
  {
   "cell_type": "code",
   "execution_count": 30,
   "id": "eaad3d5b",
   "metadata": {},
   "outputs": [
    {
     "name": "stdout",
     "output_type": "stream",
     "text": [
      "[1, 3.5, 'hola', 'palabra', False, 3, 5]\n"
     ]
    }
   ],
   "source": [
    "#cambiar el valor de una lista\n",
    "lista[3]='palabra'\n",
    "print(lista)"
   ]
  },
  {
   "cell_type": "code",
   "execution_count": 31,
   "id": "c249eff9",
   "metadata": {},
   "outputs": [
    {
     "data": {
      "text/plain": [
       "['__add__',\n",
       " '__class__',\n",
       " '__class_getitem__',\n",
       " '__contains__',\n",
       " '__delattr__',\n",
       " '__delitem__',\n",
       " '__dir__',\n",
       " '__doc__',\n",
       " '__eq__',\n",
       " '__format__',\n",
       " '__ge__',\n",
       " '__getattribute__',\n",
       " '__getitem__',\n",
       " '__gt__',\n",
       " '__hash__',\n",
       " '__iadd__',\n",
       " '__imul__',\n",
       " '__init__',\n",
       " '__init_subclass__',\n",
       " '__iter__',\n",
       " '__le__',\n",
       " '__len__',\n",
       " '__lt__',\n",
       " '__mul__',\n",
       " '__ne__',\n",
       " '__new__',\n",
       " '__reduce__',\n",
       " '__reduce_ex__',\n",
       " '__repr__',\n",
       " '__reversed__',\n",
       " '__rmul__',\n",
       " '__setattr__',\n",
       " '__setitem__',\n",
       " '__sizeof__',\n",
       " '__str__',\n",
       " '__subclasshook__',\n",
       " 'append',\n",
       " 'clear',\n",
       " 'copy',\n",
       " 'count',\n",
       " 'extend',\n",
       " 'index',\n",
       " 'insert',\n",
       " 'pop',\n",
       " 'remove',\n",
       " 'reverse',\n",
       " 'sort']"
      ]
     },
     "execution_count": 31,
     "metadata": {},
     "output_type": "execute_result"
    }
   ],
   "source": [
    "dir(lista)"
   ]
  },
  {
   "cell_type": "code",
   "execution_count": 36,
   "id": "88594343",
   "metadata": {},
   "outputs": [
    {
     "name": "stdout",
     "output_type": "stream",
     "text": [
      "[1, 3, 45, 5, 6, 6, 4, 4, 5, 6, 4, 234, 34, 34, 324]\n"
     ]
    },
    {
     "data": {
      "text/plain": [
       "3"
      ]
     },
     "execution_count": 36,
     "metadata": {},
     "output_type": "execute_result"
    }
   ],
   "source": [
    "# Metodo Count cuenta cuantas veces se repite un valor en una lista \n",
    "lista=[1,3,45,5,6,6,4,4,5,6,4,234,34,34,324]\n",
    "print(lista)\n",
    "lista.count(6)"
   ]
  },
  {
   "cell_type": "code",
   "execution_count": 38,
   "id": "9119b66e",
   "metadata": {},
   "outputs": [
    {
     "name": "stdout",
     "output_type": "stream",
     "text": [
      "[6, 5, 7, 4, 6, 1, 2, 3, 4, 5, 1, 2, 4, 5, 6, 7, 8, 9]\n",
      "[1, 1, 2, 2, 3, 4, 4, 4, 5, 5, 5, 6, 6, 6, 7, 7, 8, 9]\n"
     ]
    }
   ],
   "source": [
    "# Metodo sort() permite ordenar una lista de forma ascendente o descendente numericamente\n",
    "# Si se manejan cadena de string, los ordena de forma alfabetica\n",
    "lista=[6,5,7,4,6,1,2,3,4,5,1,2,4,5,6,7,8,9]\n",
    "print(lista)\n",
    "lista.sort()\n",
    "print(lista)"
   ]
  },
  {
   "cell_type": "code",
   "execution_count": 40,
   "id": "43117c26",
   "metadata": {},
   "outputs": [
    {
     "name": "stdout",
     "output_type": "stream",
     "text": [
      "[9, 8, 7, 7, 6, 6, 6, 5, 5, 5, 4, 4, 4, 3, 2, 2, 1, 1]\n"
     ]
    }
   ],
   "source": [
    "#lista ordenada de forma descendente\n",
    "lista.sort(reverse=True)\n",
    "print(lista)"
   ]
  },
  {
   "cell_type": "code",
   "execution_count": 37,
   "id": "e66cac17",
   "metadata": {},
   "outputs": [
    {
     "name": "stdout",
     "output_type": "stream",
     "text": [
      "[1, 3, 45, 5, 6, 6, 4, 4, 5, 6, 4, 234, 34, 34, 324]\n",
      "[1, 3, 45, 5, 6, 6, 4, 4, 5, 6, 4, 234, 34, 34, 324]\n"
     ]
    }
   ],
   "source": [
    "# Metodo copy permite crear una copia identica de la lista \n",
    "lista=[1,3,45,5,6,6,4,4,5,6,4,234,34,34,324]\n",
    "nueva_lista=lista.copy()\n",
    "print(lista)\n",
    "print(nueva_lista)"
   ]
  },
  {
   "cell_type": "code",
   "execution_count": 34,
   "id": "05bd99d2",
   "metadata": {},
   "outputs": [
    {
     "name": "stdout",
     "output_type": "stream",
     "text": [
      "[1, 3, 45, 5]\n",
      "[]\n"
     ]
    }
   ],
   "source": [
    "#MEtodo clear elimina los elementos en una lista\n",
    "lista=[1,3,45,5]\n",
    "print(lista)\n",
    "lista.clear()\n",
    "print(lista)"
   ]
  },
  {
   "cell_type": "code",
   "execution_count": 35,
   "id": "5b12e4de",
   "metadata": {},
   "outputs": [
    {
     "name": "stdout",
     "output_type": "stream",
     "text": [
      "[1, 3, 45, 5]\n",
      "[1, 3, 45, 5, 'hola']\n"
     ]
    }
   ],
   "source": [
    "#Metodo Append agregar un elementos en una lista\n",
    "lista=[1,3,45,5]\n",
    "print(lista)\n",
    "lista.append('hola')\n",
    "print(lista)"
   ]
  },
  {
   "cell_type": "code",
   "execution_count": 45,
   "id": "9cf530ea",
   "metadata": {},
   "outputs": [
    {
     "name": "stdout",
     "output_type": "stream",
     "text": [
      "{'clave1': 123, 'clave2': 3434, 'clave3': 'hola'}\n"
     ]
    }
   ],
   "source": [
    "#Diccionarios tienen una estructura conformada por elementos pares clave-valor\n",
    "#Los diccionarios no son elementos ordenados, es decir nosotros no podemos acceder a un elemento mediante el indice\n",
    "#En los diccionarios para acceder a un valor, debemos hacerlo mediante la clave\n",
    "#Los diccionarios son mutables\n",
    "diccionario={'clave1':123,'clave2':3434,'clave3':'hola'}\n",
    "print(diccionario)\n"
   ]
  },
  {
   "cell_type": "code",
   "execution_count": 43,
   "id": "49872813",
   "metadata": {},
   "outputs": [
    {
     "data": {
      "text/plain": [
       "3434"
      ]
     },
     "execution_count": 43,
     "metadata": {},
     "output_type": "execute_result"
    }
   ],
   "source": [
    "diccionario['clave2']"
   ]
  },
  {
   "cell_type": "code",
   "execution_count": 46,
   "id": "afdbd58f",
   "metadata": {},
   "outputs": [
    {
     "name": "stdout",
     "output_type": "stream",
     "text": [
      "{'clave1': 123, 'clave2': 'Hola mundo', 'clave3': 'hola'}\n"
     ]
    }
   ],
   "source": [
    "diccionario['clave2']='Hola mundo'\n",
    "print(diccionario)"
   ]
  },
  {
   "cell_type": "code",
   "execution_count": 47,
   "id": "7ea66561",
   "metadata": {},
   "outputs": [
    {
     "name": "stdout",
     "output_type": "stream",
     "text": [
      "{'clave1': 123, 'clave2': 'Hola mundo', 'clave3': 'hola', 'clave4': 9876}\n"
     ]
    }
   ],
   "source": [
    "#Añadir un nuevo valor a un diccionario\n",
    "diccionario['clave4']=9876\n",
    "print(diccionario)"
   ]
  },
  {
   "cell_type": "code",
   "execution_count": 44,
   "id": "a3b18625",
   "metadata": {},
   "outputs": [
    {
     "ename": "KeyError",
     "evalue": "0",
     "output_type": "error",
     "traceback": [
      "\u001b[0;31m---------------------------------------------------------------------------\u001b[0m",
      "\u001b[0;31mKeyError\u001b[0m                                  Traceback (most recent call last)",
      "\u001b[0;32m<ipython-input-44-4aa139cde5dc>\u001b[0m in \u001b[0;36m<module>\u001b[0;34m\u001b[0m\n\u001b[0;32m----> 1\u001b[0;31m \u001b[0mdiccionario\u001b[0m\u001b[0;34m[\u001b[0m\u001b[0;36m0\u001b[0m\u001b[0;34m]\u001b[0m\u001b[0;34m\u001b[0m\u001b[0;34m\u001b[0m\u001b[0m\n\u001b[0m",
      "\u001b[0;31mKeyError\u001b[0m: 0"
     ]
    }
   ],
   "source": [
    "diccionario[0]"
   ]
  },
  {
   "cell_type": "code",
   "execution_count": 49,
   "id": "092c9666",
   "metadata": {
    "scrolled": true
   },
   "outputs": [
    {
     "data": {
      "text/plain": [
       "['__class__',\n",
       " '__class_getitem__',\n",
       " '__contains__',\n",
       " '__delattr__',\n",
       " '__delitem__',\n",
       " '__dir__',\n",
       " '__doc__',\n",
       " '__eq__',\n",
       " '__format__',\n",
       " '__ge__',\n",
       " '__getattribute__',\n",
       " '__getitem__',\n",
       " '__gt__',\n",
       " '__hash__',\n",
       " '__init__',\n",
       " '__init_subclass__',\n",
       " '__ior__',\n",
       " '__iter__',\n",
       " '__le__',\n",
       " '__len__',\n",
       " '__lt__',\n",
       " '__ne__',\n",
       " '__new__',\n",
       " '__or__',\n",
       " '__reduce__',\n",
       " '__reduce_ex__',\n",
       " '__repr__',\n",
       " '__reversed__',\n",
       " '__ror__',\n",
       " '__setattr__',\n",
       " '__setitem__',\n",
       " '__sizeof__',\n",
       " '__str__',\n",
       " '__subclasshook__',\n",
       " 'clear',\n",
       " 'copy',\n",
       " 'fromkeys',\n",
       " 'get',\n",
       " 'items',\n",
       " 'keys',\n",
       " 'pop',\n",
       " 'popitem',\n",
       " 'setdefault',\n",
       " 'update',\n",
       " 'values']"
      ]
     },
     "execution_count": 49,
     "metadata": {},
     "output_type": "execute_result"
    }
   ],
   "source": [
    "dir(diccionario)"
   ]
  },
  {
   "cell_type": "code",
   "execution_count": 51,
   "id": "28e666d1",
   "metadata": {},
   "outputs": [
    {
     "data": {
      "text/plain": [
       "dict_keys(['clave1', 'clave2', 'clave3', 'clave4'])"
      ]
     },
     "execution_count": 51,
     "metadata": {},
     "output_type": "execute_result"
    }
   ],
   "source": [
    "#Retorna las claves del diccionario\n",
    "diccionario.keys()"
   ]
  },
  {
   "cell_type": "code",
   "execution_count": 52,
   "id": "c98753f4",
   "metadata": {},
   "outputs": [
    {
     "data": {
      "text/plain": [
       "dict_values([123, 'Hola mundo', 'hola', 9876])"
      ]
     },
     "execution_count": 52,
     "metadata": {},
     "output_type": "execute_result"
    }
   ],
   "source": [
    "#Retorna los valores  del diccionario\n",
    "diccionario.values()"
   ]
  },
  {
   "cell_type": "code",
   "execution_count": 53,
   "id": "de52ba8b",
   "metadata": {},
   "outputs": [
    {
     "data": {
      "text/plain": [
       "dict_items([('clave1', 123), ('clave2', 'Hola mundo'), ('clave3', 'hola'), ('clave4', 9876)])"
      ]
     },
     "execution_count": 53,
     "metadata": {},
     "output_type": "execute_result"
    }
   ],
   "source": [
    "#Retorna los elementos par clave-valor como una tupla del diccionario\n",
    "diccionario.items()"
   ]
  },
  {
   "cell_type": "code",
   "execution_count": 48,
   "id": "45abb1d0",
   "metadata": {},
   "outputs": [
    {
     "name": "stdout",
     "output_type": "stream",
     "text": [
      "clave1\n",
      "clave2\n",
      "clave3\n",
      "clave4\n"
     ]
    }
   ],
   "source": [
    "for i in diccionario:\n",
    "    print(i)"
   ]
  },
  {
   "cell_type": "code",
   "execution_count": 57,
   "id": "b1e89177",
   "metadata": {},
   "outputs": [
    {
     "name": "stdout",
     "output_type": "stream",
     "text": [
      "('clave1', 123)\n",
      "('clave2', 'Hola mundo')\n",
      "('clave3', 'hola')\n",
      "('clave4', 9876)\n",
      "[('clave1', 123), ('clave2', 'Hola mundo'), ('clave3', 'hola'), ('clave4', 9876)]\n"
     ]
    }
   ],
   "source": [
    "#Obtengo la tupla clave valor de un diccionario\n",
    "lista=list()\n",
    "for i in diccionario.items():\n",
    "    print(i)\n",
    "    lista.append(i)\n",
    "    \n",
    "print(lista)"
   ]
  },
  {
   "cell_type": "code",
   "execution_count": 59,
   "id": "29052ab4",
   "metadata": {},
   "outputs": [
    {
     "name": "stdout",
     "output_type": "stream",
     "text": [
      "clave1 123\n",
      "clave2 Hola mundo\n",
      "clave3 hola\n",
      "clave4 9876\n",
      "['clave1', 'clave2', 'clave3', 'clave4']\n",
      "[123, 'Hola mundo', 'hola', 9876]\n"
     ]
    }
   ],
   "source": [
    "#Obtengo la tupla clave valor de un diccionario\n",
    "lista_keys=list()\n",
    "lista_valor=list()\n",
    "for i,v in diccionario.items():\n",
    "    print(i,v)\n",
    "    lista_keys.append(i)\n",
    "    lista_valor.append(v)\n",
    "    \n",
    "print(lista_keys)\n",
    "print(lista_valor)"
   ]
  },
  {
   "cell_type": "code",
   "execution_count": 60,
   "id": "609c206c",
   "metadata": {},
   "outputs": [
    {
     "name": "stdout",
     "output_type": "stream",
     "text": [
      "('a', 'b', 'c')\n",
      "<class 'tuple'>\n"
     ]
    }
   ],
   "source": [
    "#Tuplas\n",
    "#Es un elemento compuesto por cualquier tipo de dato separados por comas, \n",
    "#Una tuplas es INMUTABLE, por lo tanto los valores no se pueden cambiar, y pueden utiizar para crear\n",
    "#Las llaves o claves en un diccionario\n",
    "tupla='a','b','c'\n",
    "print(tupla)\n",
    "print(type(tupla))"
   ]
  },
  {
   "cell_type": "code",
   "execution_count": 61,
   "id": "38a7e4cd",
   "metadata": {},
   "outputs": [
    {
     "name": "stdout",
     "output_type": "stream",
     "text": [
      "('a', 'b', 'c')\n",
      "<class 'tuple'>\n"
     ]
    }
   ],
   "source": [
    "#Tuplas\n",
    "#Es un elemento compuesto por cualquier tipo de dato separados por comas, \n",
    "#Una tuplas es INMUTABLE, por lo tanto los valores no se pueden cambiar, y pueden utiizar para crear\n",
    "#Las llaves o claves en un diccionario\n",
    "tupla=('a','b','c')\n",
    "print(tupla)\n",
    "print(type(tupla))"
   ]
  },
  {
   "cell_type": "code",
   "execution_count": 62,
   "id": "81c8361a",
   "metadata": {},
   "outputs": [
    {
     "name": "stdout",
     "output_type": "stream",
     "text": [
      "10\n",
      "23\n"
     ]
    }
   ],
   "source": [
    "m=[10,23]\n",
    "x,y=m\n",
    "print(x)\n",
    "print(y)"
   ]
  },
  {
   "cell_type": "code",
   "execution_count": 64,
   "id": "22f4481c",
   "metadata": {},
   "outputs": [
    {
     "ename": "ValueError",
     "evalue": "too many values to unpack (expected 2)",
     "output_type": "error",
     "traceback": [
      "\u001b[0;31m---------------------------------------------------------------------------\u001b[0m",
      "\u001b[0;31mValueError\u001b[0m                                Traceback (most recent call last)",
      "\u001b[0;32m<ipython-input-64-af3246c2d22e>\u001b[0m in \u001b[0;36m<module>\u001b[0;34m\u001b[0m\n\u001b[1;32m      1\u001b[0m \u001b[0;31m#Error, el numero de variables debe corresponder al numero de valores\u001b[0m\u001b[0;34m\u001b[0m\u001b[0;34m\u001b[0m\u001b[0;34m\u001b[0m\u001b[0m\n\u001b[1;32m      2\u001b[0m \u001b[0mm\u001b[0m\u001b[0;34m=\u001b[0m\u001b[0;34m[\u001b[0m\u001b[0;36m10\u001b[0m\u001b[0;34m,\u001b[0m\u001b[0;36m23\u001b[0m\u001b[0;34m,\u001b[0m\u001b[0;36m59\u001b[0m\u001b[0;34m]\u001b[0m\u001b[0;34m\u001b[0m\u001b[0;34m\u001b[0m\u001b[0m\n\u001b[0;32m----> 3\u001b[0;31m \u001b[0mx\u001b[0m\u001b[0;34m,\u001b[0m\u001b[0my\u001b[0m\u001b[0;34m=\u001b[0m\u001b[0mm\u001b[0m\u001b[0;34m\u001b[0m\u001b[0;34m\u001b[0m\u001b[0m\n\u001b[0m\u001b[1;32m      4\u001b[0m \u001b[0mprint\u001b[0m\u001b[0;34m(\u001b[0m\u001b[0mx\u001b[0m\u001b[0;34m)\u001b[0m\u001b[0;34m\u001b[0m\u001b[0;34m\u001b[0m\u001b[0m\n\u001b[1;32m      5\u001b[0m \u001b[0mprint\u001b[0m\u001b[0;34m(\u001b[0m\u001b[0my\u001b[0m\u001b[0;34m)\u001b[0m\u001b[0;34m\u001b[0m\u001b[0;34m\u001b[0m\u001b[0m\n",
      "\u001b[0;31mValueError\u001b[0m: too many values to unpack (expected 2)"
     ]
    }
   ],
   "source": [
    "#Error, el numero de variables debe corresponder al numero de valores\n",
    "m=[10,23,59]\n",
    "x,y=m\n",
    "print(x)\n",
    "print(y)"
   ]
  },
  {
   "cell_type": "code",
   "execution_count": 66,
   "id": "7902b8ee",
   "metadata": {},
   "outputs": [
    {
     "data": {
      "text/plain": [
       "'e'"
      ]
     },
     "execution_count": 66,
     "metadata": {},
     "output_type": "execute_result"
    }
   ],
   "source": [
    "#Verificar un elemento en una posicion mediante el indice\n",
    "tupla=('a','b','c','d','e','f','g')\n",
    "tupla[4]"
   ]
  },
  {
   "cell_type": "code",
   "execution_count": 67,
   "id": "a29f99fb",
   "metadata": {},
   "outputs": [
    {
     "ename": "TypeError",
     "evalue": "'tuple' object does not support item assignment",
     "output_type": "error",
     "traceback": [
      "\u001b[0;31m---------------------------------------------------------------------------\u001b[0m",
      "\u001b[0;31mTypeError\u001b[0m                                 Traceback (most recent call last)",
      "\u001b[0;32m<ipython-input-67-b2d29538a0ea>\u001b[0m in \u001b[0;36m<module>\u001b[0;34m\u001b[0m\n\u001b[1;32m      1\u001b[0m \u001b[0;31m#Las tuplas son inmutables\u001b[0m\u001b[0;34m\u001b[0m\u001b[0;34m\u001b[0m\u001b[0;34m\u001b[0m\u001b[0m\n\u001b[1;32m      2\u001b[0m \u001b[0mtupla\u001b[0m\u001b[0;34m=\u001b[0m\u001b[0;34m(\u001b[0m\u001b[0;34m'a'\u001b[0m\u001b[0;34m,\u001b[0m\u001b[0;34m'b'\u001b[0m\u001b[0;34m,\u001b[0m\u001b[0;34m'c'\u001b[0m\u001b[0;34m,\u001b[0m\u001b[0;34m'd'\u001b[0m\u001b[0;34m,\u001b[0m\u001b[0;34m'e'\u001b[0m\u001b[0;34m,\u001b[0m\u001b[0;34m'f'\u001b[0m\u001b[0;34m,\u001b[0m\u001b[0;34m'g'\u001b[0m\u001b[0;34m)\u001b[0m\u001b[0;34m\u001b[0m\u001b[0;34m\u001b[0m\u001b[0m\n\u001b[0;32m----> 3\u001b[0;31m \u001b[0mtupla\u001b[0m\u001b[0;34m[\u001b[0m\u001b[0;36m4\u001b[0m\u001b[0;34m]\u001b[0m\u001b[0;34m=\u001b[0m\u001b[0;36m89\u001b[0m\u001b[0;34m\u001b[0m\u001b[0;34m\u001b[0m\u001b[0m\n\u001b[0m",
      "\u001b[0;31mTypeError\u001b[0m: 'tuple' object does not support item assignment"
     ]
    }
   ],
   "source": [
    "#Las tuplas son inmutables\n",
    "tupla=('a','b','c','d','e','f','g')\n",
    "tupla[4]=89"
   ]
  },
  {
   "cell_type": "code",
   "execution_count": 69,
   "id": "22f5c907",
   "metadata": {},
   "outputs": [
    {
     "name": "stdout",
     "output_type": "stream",
     "text": [
      "('a',)\n"
     ]
    }
   ],
   "source": [
    "tupla_un_elemento=('a',)\n",
    "print(tupla_un_elemento)"
   ]
  },
  {
   "cell_type": "code",
   "execution_count": 73,
   "id": "88e05af3",
   "metadata": {},
   "outputs": [
    {
     "name": "stdout",
     "output_type": "stream",
     "text": [
      "a\n",
      "<class 'str'>\n"
     ]
    }
   ],
   "source": [
    "#Sino coloco la coma, no va  ser una tupla sino un string\n",
    "tupla_un_elemento=('a')\n",
    "print(tupla_un_elemento)\n",
    "print(type(tupla_un_elemento))"
   ]
  },
  {
   "cell_type": "code",
   "execution_count": 70,
   "id": "29195c62",
   "metadata": {},
   "outputs": [
    {
     "name": "stdout",
     "output_type": "stream",
     "text": [
      "('a',)\n"
     ]
    }
   ],
   "source": [
    "tupla_un_elemento='a',\n",
    "print(tupla_un_elemento)"
   ]
  },
  {
   "cell_type": "code",
   "execution_count": 74,
   "id": "08224258",
   "metadata": {},
   "outputs": [
    {
     "data": {
      "text/plain": [
       "('b', 'c', 'd', 'e')"
      ]
     },
     "execution_count": 74,
     "metadata": {},
     "output_type": "execute_result"
    }
   ],
   "source": [
    "#crear una tupla a partir de otra tupla\n",
    "tupla=('a','b','c','d','e','f','g')\n",
    "tupla[1:5]"
   ]
  },
  {
   "cell_type": "code",
   "execution_count": 75,
   "id": "e1aa7f21",
   "metadata": {},
   "outputs": [
    {
     "name": "stdout",
     "output_type": "stream",
     "text": [
      "('A', 'b', 'c', 'd', 'e', 'f', 'g')\n"
     ]
    }
   ],
   "source": [
    "tupla=('A',)+tupla[1:]\n",
    "print(tupla)"
   ]
  },
  {
   "cell_type": "code",
   "execution_count": 80,
   "id": "460ebf8b",
   "metadata": {},
   "outputs": [
    {
     "name": "stdout",
     "output_type": "stream",
     "text": [
      "('A', 'B', 'C', 'd', 'e', 'f', 'g')\n"
     ]
    }
   ],
   "source": [
    "#crear una tupla a partir de otra tupla\n",
    "tupla=('a','b','c','d','e','f','g')\n",
    "tupla=('A','B','C')+tupla[3:]\n",
    "print(tupla)"
   ]
  },
  {
   "cell_type": "code",
   "execution_count": 82,
   "id": "d3ff7627",
   "metadata": {},
   "outputs": [
    {
     "name": "stdout",
     "output_type": "stream",
     "text": [
      "0 A\n",
      "1 B\n",
      "2 C\n",
      "3 d\n",
      "4 e\n",
      "5 f\n",
      "6 g\n"
     ]
    }
   ],
   "source": [
    "#Recorremos una tupla\n",
    "for indice, valor in enumerate(tupla):\n",
    "    print(indice, valor)"
   ]
  },
  {
   "cell_type": "code",
   "execution_count": 83,
   "id": "5c5f4791",
   "metadata": {},
   "outputs": [
    {
     "name": "stdout",
     "output_type": "stream",
     "text": [
      "{('Jhonnyer', 'Galindez'): 3232323233}\n"
     ]
    }
   ],
   "source": [
    "#Utilizar una tupla como una llave de un diccionario\n",
    "#Ejemplo directorio telefonico donde nombre y apellido son una tupla llave en el diciconario\n",
    "#Y el numero es el valor\n",
    "nombre='Jhonnyer'\n",
    "apellido='Galindez'\n",
    "numero=3232323233\n",
    "tupla=nombre,apellido\n",
    "\n",
    "diccionario=dict()\n",
    "diccionario[tupla]=numero\n",
    "print(diccionario)"
   ]
  },
  {
   "cell_type": "code",
   "execution_count": 88,
   "id": "1e75e4c7",
   "metadata": {},
   "outputs": [
    {
     "name": "stdout",
     "output_type": "stream",
     "text": [
      "Jhonnyer Galindez 3232323233\n"
     ]
    }
   ],
   "source": [
    "#Recorrer la tupla en un diccionario\n",
    "\n",
    "for nom, ap in diccionario:\n",
    "    print(nom,ap, diccionario[nom,ap])"
   ]
  },
  {
   "cell_type": "code",
   "execution_count": 87,
   "id": "77653608",
   "metadata": {},
   "outputs": [
    {
     "name": "stdout",
     "output_type": "stream",
     "text": [
      "('Jhonnyer', 'Galindez') 3232323233\n"
     ]
    }
   ],
   "source": [
    "#Recorrer la tupla\n",
    "\n",
    "for key in diccionario:\n",
    "    print(key, diccionario[key])"
   ]
  }
 ],
 "metadata": {
  "kernelspec": {
   "display_name": "Python 3",
   "language": "python",
   "name": "python3"
  },
  "language_info": {
   "codemirror_mode": {
    "name": "ipython",
    "version": 3
   },
   "file_extension": ".py",
   "mimetype": "text/x-python",
   "name": "python",
   "nbconvert_exporter": "python",
   "pygments_lexer": "ipython3",
   "version": "3.9.1"
  }
 },
 "nbformat": 4,
 "nbformat_minor": 5
}
