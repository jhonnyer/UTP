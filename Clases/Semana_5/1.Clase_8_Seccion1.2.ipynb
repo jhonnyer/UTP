{
 "cells": [
  {
   "cell_type": "code",
   "execution_count": 35,
   "id": "f1ef1537",
   "metadata": {},
   "outputs": [
    {
     "name": "stdout",
     "output_type": "stream",
     "text": [
      "34\n",
      "2.91\n",
      "Est1 tiene un promedio de notas de: 2.91 sobre 100.\n"
     ]
    }
   ],
   "source": [
    "def Notas(Codigo,nota1,nota2,nota3,nota4,nota5):\n",
    "    minimo=min(nota1,nota2,nota3,nota4,nota5)\n",
    "    print(minimo)\n",
    "    Sumar=(nota1+nota2+nota3+nota4+nota5-minimo)\n",
    "#     Sumar=sum((nota1,nota2,nota3,nota4,nota5))\n",
    "#     Sumar=Sumar-minimo\n",
    "    Prome=(Sumar/80)\n",
    "    Prome=round(Prome,2)\n",
    "    print(Prome)\n",
    "#     print(\"{} tiene un promedio de notas de: {} sobre 100.\".format(Codigo,Prome))\n",
    "    return Prome\n",
    "              \n",
    "\n",
    "#Asignacion por nombre\n",
    "Codigo='Est1'\n",
    "nota1=40\n",
    "nota2=100\n",
    "nota3=37\n",
    "nota4=56\n",
    "nota5=34\n",
    "# Codigo=input(\"Codigo del estudiantes (este debe tener 5 digitos): \")\n",
    "# nota1=int(input(\"Nota del primer quiz reto semestre 1-100: \"))\n",
    "# nota2=int(input(\"Nota del segundo quiz del semestre 1-100: \"))\n",
    "# nota3=int(input(\"Nota del tercer quiz del semestre 1-100: \"))\n",
    "# nota4=int(input(\"Nota del cuarto quiz del semestre 1-100: \"))\n",
    "# nota5=int(input(\"Nota del quinto quiz del semestre 1-100: \"))\n",
    "Promedio=Notas(Codigo,nota1,nota2,nota3,nota4,nota5)\n",
    "print(\"{} tiene un promedio de notas de: {} sobre 100.\".format(Codigo,Promedio))"
   ]
  },
  {
   "cell_type": "markdown",
   "id": "ab48d26c",
   "metadata": {},
   "source": [
    "100=5\n",
    "x=4\n",
    "x=(100*4)/5\n",
    "x=80"
   ]
  },
  {
   "cell_type": "code",
   "execution_count": 12,
   "id": "707b10f0",
   "metadata": {},
   "outputs": [
    {
     "name": "stdout",
     "output_type": "stream",
     "text": [
      "Ingrese el código del estudiante: 4s\n",
      "4s\n",
      "<class 'str'>\n"
     ]
    }
   ],
   "source": [
    "codigo=input(\"Ingrese el código del estudiante: \")\n",
    "print(codigo)\n",
    "print(type(codigo))"
   ]
  },
  {
   "cell_type": "code",
   "execution_count": 22,
   "id": "ba4384e5",
   "metadata": {},
   "outputs": [
    {
     "name": "stdout",
     "output_type": "stream",
     "text": [
      "La suma de la variable a + b es igual a:  30\n"
     ]
    }
   ],
   "source": [
    "def sumar(a,b):\n",
    "    c=a+b\n",
    "    print(\"La suma de la variable a + b es igual a: \",c)\n",
    "\n",
    "    \n",
    "sumar(10,20)\n",
    "    \n"
   ]
  },
  {
   "cell_type": "code",
   "execution_count": 37,
   "id": "27da79ec",
   "metadata": {},
   "outputs": [],
   "source": [
    "def notasdeclases(codigo:str, nota1:int, nota2:int, nota3:int, nota4:int, nota5:int ):\n",
    "    a=min(nota1,nota2,nota3,nota4,nota5)\n",
    "    b=(nota1+nota2+nota3+nota4+nota5-a)/4\n",
    "    c=\"{:.2f}\".format(b)\n",
    "    d= str(c)\n",
    "    print(\"El promdedio ajustado del estudiante{}es de: {}\".format(codigo,d))\n",
    "    return d"
   ]
  },
  {
   "cell_type": "code",
   "execution_count": 38,
   "id": "9f773a9c",
   "metadata": {},
   "outputs": [
    {
     "name": "stdout",
     "output_type": "stream",
     "text": [
      "10.23\n"
     ]
    }
   ],
   "source": [
    "b=10.23435345\n",
    "c=\"{:.2f}\".format(b)\n",
    "print(c)"
   ]
  },
  {
   "cell_type": "code",
   "execution_count": 40,
   "id": "b17e7bbd",
   "metadata": {},
   "outputs": [
    {
     "name": "stdout",
     "output_type": "stream",
     "text": [
      "10.23\n"
     ]
    }
   ],
   "source": [
    "b=10.23435345\n",
    "c=round(b,2)\n",
    "print(c)"
   ]
  }
 ],
 "metadata": {
  "kernelspec": {
   "display_name": "Python 3",
   "language": "python",
   "name": "python3"
  },
  "language_info": {
   "codemirror_mode": {
    "name": "ipython",
    "version": 3
   },
   "file_extension": ".py",
   "mimetype": "text/x-python",
   "name": "python",
   "nbconvert_exporter": "python",
   "pygments_lexer": "ipython3",
   "version": "3.9.1"
  }
 },
 "nbformat": 4,
 "nbformat_minor": 5
}
