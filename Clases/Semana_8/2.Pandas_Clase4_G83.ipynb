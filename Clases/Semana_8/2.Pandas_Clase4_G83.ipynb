{
 "cells": [
  {
   "cell_type": "code",
   "execution_count": 1,
   "id": "8134ed01",
   "metadata": {},
   "outputs": [
    {
     "data": {
      "text/plain": [
       "0    15\n",
       "1    12\n",
       "2    21\n",
       "dtype: int64"
      ]
     },
     "execution_count": 1,
     "metadata": {},
     "output_type": "execute_result"
    }
   ],
   "source": [
    "import pandas as pd\n",
    "ventas=pd.Series([15,12,21])\n",
    "ventas"
   ]
  },
  {
   "cell_type": "code",
   "execution_count": 2,
   "id": "f395b215",
   "metadata": {
    "scrolled": true
   },
   "outputs": [
    {
     "data": {
      "text/plain": [
       "Ene    15\n",
       "Feb    12\n",
       "Mar    21\n",
       "dtype: int64"
      ]
     },
     "execution_count": 2,
     "metadata": {},
     "output_type": "execute_result"
    }
   ],
   "source": [
    "import pandas as pd\n",
    "ventas=pd.Series([15,12,21],index=['Ene','Feb','Mar'])\n",
    "ventas"
   ]
  },
  {
   "cell_type": "code",
   "execution_count": 4,
   "id": "be955960",
   "metadata": {},
   "outputs": [
    {
     "data": {
      "text/plain": [
       "15"
      ]
     },
     "execution_count": 4,
     "metadata": {},
     "output_type": "execute_result"
    }
   ],
   "source": [
    "#Extraer informacion de una serie mediante el indice\n",
    "ventas[0]"
   ]
  },
  {
   "cell_type": "code",
   "execution_count": 5,
   "id": "319ff5d1",
   "metadata": {},
   "outputs": [
    {
     "data": {
      "text/plain": [
       "12"
      ]
     },
     "execution_count": 5,
     "metadata": {},
     "output_type": "execute_result"
    }
   ],
   "source": [
    "#Extraer informacion de una serie mediante la etiqueta del indice \n",
    "ventas['Feb']"
   ]
  },
  {
   "cell_type": "code",
   "execution_count": 6,
   "id": "0954a611",
   "metadata": {},
   "outputs": [
    {
     "data": {
      "text/plain": [
       "dtype('int64')"
      ]
     },
     "execution_count": 6,
     "metadata": {},
     "output_type": "execute_result"
    }
   ],
   "source": [
    "#Observamos el tipo de datos de la Serie de pandas\n",
    "ventas.dtype"
   ]
  },
  {
   "cell_type": "code",
   "execution_count": 7,
   "id": "e3898cad",
   "metadata": {},
   "outputs": [
    {
     "data": {
      "text/plain": [
       "Index(['Ene', 'Feb', 'Mar'], dtype='object')"
      ]
     },
     "execution_count": 7,
     "metadata": {},
     "output_type": "execute_result"
    }
   ],
   "source": [
    "#Vemos los indices de las filas que estan en la serie\n",
    "ventas.index"
   ]
  },
  {
   "cell_type": "code",
   "execution_count": 8,
   "id": "02980a12",
   "metadata": {},
   "outputs": [
    {
     "data": {
      "text/plain": [
       "array([15, 12, 21])"
      ]
     },
     "execution_count": 8,
     "metadata": {},
     "output_type": "execute_result"
    }
   ],
   "source": [
    "#Vemos los valores en la serie\n",
    "ventas.values"
   ]
  },
  {
   "cell_type": "code",
   "execution_count": 9,
   "id": "4c28c3d0",
   "metadata": {},
   "outputs": [
    {
     "data": {
      "text/plain": [
       "Ene    15\n",
       "Feb    12\n",
       "Mar    21\n",
       "Name: Ventas 2021, dtype: int64"
      ]
     },
     "execution_count": 9,
     "metadata": {},
     "output_type": "execute_result"
    }
   ],
   "source": [
    "#DEfinir el nombre de la Serie\n",
    "ventas.name=\"Ventas 2021\"\n",
    "ventas"
   ]
  },
  {
   "cell_type": "code",
   "execution_count": null,
   "id": "47120730",
   "metadata": {},
   "outputs": [],
   "source": [
    "#Definimos el nombre el indice de filas\n",
    "ventas.index.name=\"Meses\"\n",
    "ventas"
   ]
  },
  {
   "cell_type": "code",
   "execution_count": 11,
   "id": "c4d644bb",
   "metadata": {
    "scrolled": true
   },
   "outputs": [
    {
     "data": {
      "text/plain": [
       "[Index(['Ene', 'Feb', 'Mar'], dtype='object')]"
      ]
     },
     "execution_count": 11,
     "metadata": {},
     "output_type": "execute_result"
    }
   ],
   "source": [
    "#Devuelve los ejes del arreglo, en este caso una Serie es una estructura unidimensional\n",
    "ventas.axes"
   ]
  },
  {
   "cell_type": "code",
   "execution_count": 12,
   "id": "a5eb0201",
   "metadata": {},
   "outputs": [
    {
     "data": {
      "text/plain": [
       "(3,)"
      ]
     },
     "execution_count": 12,
     "metadata": {},
     "output_type": "execute_result"
    }
   ],
   "source": [
    "#Atributo shape permite definir cuantos elementos tiene la serie\n",
    "ventas.shape"
   ]
  },
  {
   "cell_type": "code",
   "execution_count": 13,
   "id": "f6b9deca",
   "metadata": {
    "scrolled": true
   },
   "outputs": [
    {
     "name": "stdout",
     "output_type": "stream",
     "text": [
      "{'manzanas': [3, 2, 0, 1], 'naranjas': [0, 3, 7, 2]}\n"
     ]
    }
   ],
   "source": [
    "datos={'manzanas':[3,2,0,1],'naranjas':[0,3,7,2]}\n",
    "print(datos)"
   ]
  },
  {
   "cell_type": "code",
   "execution_count": 15,
   "id": "e9ce1f07",
   "metadata": {
    "scrolled": true
   },
   "outputs": [
    {
     "data": {
      "text/html": [
       "<div>\n",
       "<style scoped>\n",
       "    .dataframe tbody tr th:only-of-type {\n",
       "        vertical-align: middle;\n",
       "    }\n",
       "\n",
       "    .dataframe tbody tr th {\n",
       "        vertical-align: top;\n",
       "    }\n",
       "\n",
       "    .dataframe thead th {\n",
       "        text-align: right;\n",
       "    }\n",
       "</style>\n",
       "<table border=\"1\" class=\"dataframe\">\n",
       "  <thead>\n",
       "    <tr style=\"text-align: right;\">\n",
       "      <th></th>\n",
       "      <th>manzanas</th>\n",
       "      <th>naranjas</th>\n",
       "    </tr>\n",
       "  </thead>\n",
       "  <tbody>\n",
       "    <tr>\n",
       "      <th>0</th>\n",
       "      <td>3</td>\n",
       "      <td>0</td>\n",
       "    </tr>\n",
       "    <tr>\n",
       "      <th>1</th>\n",
       "      <td>2</td>\n",
       "      <td>3</td>\n",
       "    </tr>\n",
       "    <tr>\n",
       "      <th>2</th>\n",
       "      <td>0</td>\n",
       "      <td>7</td>\n",
       "    </tr>\n",
       "    <tr>\n",
       "      <th>3</th>\n",
       "      <td>1</td>\n",
       "      <td>2</td>\n",
       "    </tr>\n",
       "  </tbody>\n",
       "</table>\n",
       "</div>"
      ],
      "text/plain": [
       "   manzanas  naranjas\n",
       "0         3         0\n",
       "1         2         3\n",
       "2         0         7\n",
       "3         1         2"
      ]
     },
     "execution_count": 15,
     "metadata": {},
     "output_type": "execute_result"
    }
   ],
   "source": [
    "#Creo un DataFrame con los datos almacenados en un diccionario\n",
    "#Los indices de las filas por defecto estan de 0 en adelante\n",
    "compras=pd.DataFrame(datos)\n",
    "compras"
   ]
  },
  {
   "cell_type": "code",
   "execution_count": 16,
   "id": "3e679554",
   "metadata": {},
   "outputs": [
    {
     "data": {
      "text/html": [
       "<div>\n",
       "<style scoped>\n",
       "    .dataframe tbody tr th:only-of-type {\n",
       "        vertical-align: middle;\n",
       "    }\n",
       "\n",
       "    .dataframe tbody tr th {\n",
       "        vertical-align: top;\n",
       "    }\n",
       "\n",
       "    .dataframe thead th {\n",
       "        text-align: right;\n",
       "    }\n",
       "</style>\n",
       "<table border=\"1\" class=\"dataframe\">\n",
       "  <thead>\n",
       "    <tr style=\"text-align: right;\">\n",
       "      <th></th>\n",
       "      <th>manzanas</th>\n",
       "      <th>naranjas</th>\n",
       "    </tr>\n",
       "  </thead>\n",
       "  <tbody>\n",
       "    <tr>\n",
       "      <th>Juan</th>\n",
       "      <td>3</td>\n",
       "      <td>0</td>\n",
       "    </tr>\n",
       "    <tr>\n",
       "      <th>Isabela</th>\n",
       "      <td>2</td>\n",
       "      <td>3</td>\n",
       "    </tr>\n",
       "    <tr>\n",
       "      <th>Carlos</th>\n",
       "      <td>0</td>\n",
       "      <td>7</td>\n",
       "    </tr>\n",
       "    <tr>\n",
       "      <th>Johan</th>\n",
       "      <td>1</td>\n",
       "      <td>2</td>\n",
       "    </tr>\n",
       "  </tbody>\n",
       "</table>\n",
       "</div>"
      ],
      "text/plain": [
       "         manzanas  naranjas\n",
       "Juan            3         0\n",
       "Isabela         2         3\n",
       "Carlos          0         7\n",
       "Johan           1         2"
      ]
     },
     "execution_count": 16,
     "metadata": {},
     "output_type": "execute_result"
    }
   ],
   "source": [
    "#Creo un DataFrame con los datos almacenados en un diccionario\n",
    "#Los indices de las filas van a ser definidos en el atributo index\n",
    "compras=pd.DataFrame(datos, index=['Juan','Isabela','Carlos','Johan'])\n",
    "compras"
   ]
  },
  {
   "cell_type": "code",
   "execution_count": 18,
   "id": "64982588",
   "metadata": {
    "scrolled": true
   },
   "outputs": [
    {
     "data": {
      "text/html": [
       "<div>\n",
       "<style scoped>\n",
       "    .dataframe tbody tr th:only-of-type {\n",
       "        vertical-align: middle;\n",
       "    }\n",
       "\n",
       "    .dataframe tbody tr th {\n",
       "        vertical-align: top;\n",
       "    }\n",
       "\n",
       "    .dataframe thead th {\n",
       "        text-align: right;\n",
       "    }\n",
       "</style>\n",
       "<table border=\"1\" class=\"dataframe\">\n",
       "  <thead>\n",
       "    <tr style=\"text-align: right;\">\n",
       "      <th></th>\n",
       "      <th>manzanas</th>\n",
       "      <th>naranjas</th>\n",
       "    </tr>\n",
       "  </thead>\n",
       "  <tbody>\n",
       "    <tr>\n",
       "      <th>Juan</th>\n",
       "      <td>3</td>\n",
       "      <td>0</td>\n",
       "    </tr>\n",
       "    <tr>\n",
       "      <th>Isabela</th>\n",
       "      <td>2</td>\n",
       "      <td>3</td>\n",
       "    </tr>\n",
       "    <tr>\n",
       "      <th>Carlos</th>\n",
       "      <td>0</td>\n",
       "      <td>7</td>\n",
       "    </tr>\n",
       "    <tr>\n",
       "      <th>Johan</th>\n",
       "      <td>1</td>\n",
       "      <td>2</td>\n",
       "    </tr>\n",
       "  </tbody>\n",
       "</table>\n",
       "</div>"
      ],
      "text/plain": [
       "         manzanas  naranjas\n",
       "Juan            3         0\n",
       "Isabela         2         3\n",
       "Carlos          0         7\n",
       "Johan           1         2"
      ]
     },
     "execution_count": 18,
     "metadata": {},
     "output_type": "execute_result"
    }
   ],
   "source": [
    "#Creo un DataFrame con los datos almacenados en un diccionario\n",
    "#Los indices de las filas van a ser definidos en el atributo index\n",
    "lista=['Juan','Isabela','Carlos','Johan']\n",
    "compras=pd.DataFrame(datos, index=lista)\n",
    "compras"
   ]
  },
  {
   "cell_type": "code",
   "execution_count": 23,
   "id": "fce7e3db",
   "metadata": {},
   "outputs": [
    {
     "data": {
      "text/plain": [
       "Juan       3\n",
       "Isabela    2\n",
       "Carlos     0\n",
       "Johan      1\n",
       "Name: manzanas, dtype: int64"
      ]
     },
     "execution_count": 23,
     "metadata": {},
     "output_type": "execute_result"
    }
   ],
   "source": [
    "#Yo puedo ver los elementos asignados a cada columna\n",
    "#Mediant el nombre del dataframe, unos corchetes y despues del corche el nombre de \n",
    "#de la columna entre comillas \n",
    "compras['manzanas']"
   ]
  },
  {
   "cell_type": "code",
   "execution_count": 19,
   "id": "daf2ad58",
   "metadata": {},
   "outputs": [
    {
     "data": {
      "text/plain": [
       "Index(['Juan', 'Isabela', 'Carlos', 'Johan'], dtype='object')"
      ]
     },
     "execution_count": 19,
     "metadata": {},
     "output_type": "execute_result"
    }
   ],
   "source": [
    "#Vamos a ver los indices de las filas\n",
    "compras.index"
   ]
  },
  {
   "cell_type": "code",
   "execution_count": 20,
   "id": "1a02d48e",
   "metadata": {},
   "outputs": [
    {
     "data": {
      "text/plain": [
       "Index(['Juan', 'Isabela', 'Carlos', 'Johan'], dtype='object')"
      ]
     },
     "execution_count": 20,
     "metadata": {},
     "output_type": "execute_result"
    }
   ],
   "source": [
    "#Vamos a ver los indices de columnas\n",
    "compras.index"
   ]
  },
  {
   "cell_type": "code",
   "execution_count": 25,
   "id": "f773cc42",
   "metadata": {},
   "outputs": [
    {
     "data": {
      "text/plain": [
       "[Index(['Juan', 'Isabela', 'Carlos', 'Johan'], dtype='object'),\n",
       " Index(['manzanas', 'naranjas'], dtype='object')]"
      ]
     },
     "execution_count": 25,
     "metadata": {},
     "output_type": "execute_result"
    }
   ],
   "source": [
    "#Metodo axes permite mirar la estructura de los ejes del Dataframe\n",
    "compras.axes"
   ]
  },
  {
   "cell_type": "code",
   "execution_count": 29,
   "id": "1cedd9bd",
   "metadata": {
    "scrolled": true
   },
   "outputs": [
    {
     "name": "stdout",
     "output_type": "stream",
     "text": [
      "Tienda mayorista\n"
     ]
    },
    {
     "data": {
      "text/html": [
       "<div>\n",
       "<style scoped>\n",
       "    .dataframe tbody tr th:only-of-type {\n",
       "        vertical-align: middle;\n",
       "    }\n",
       "\n",
       "    .dataframe tbody tr th {\n",
       "        vertical-align: top;\n",
       "    }\n",
       "\n",
       "    .dataframe thead th {\n",
       "        text-align: right;\n",
       "    }\n",
       "</style>\n",
       "<table border=\"1\" class=\"dataframe\">\n",
       "  <thead>\n",
       "    <tr style=\"text-align: right;\">\n",
       "      <th>Frutas</th>\n",
       "      <th>manzanas</th>\n",
       "      <th>naranjas</th>\n",
       "    </tr>\n",
       "    <tr>\n",
       "      <th>Clientes</th>\n",
       "      <th></th>\n",
       "      <th></th>\n",
       "    </tr>\n",
       "  </thead>\n",
       "  <tbody>\n",
       "    <tr>\n",
       "      <th>Juan</th>\n",
       "      <td>3</td>\n",
       "      <td>0</td>\n",
       "    </tr>\n",
       "    <tr>\n",
       "      <th>Isabela</th>\n",
       "      <td>2</td>\n",
       "      <td>3</td>\n",
       "    </tr>\n",
       "    <tr>\n",
       "      <th>Carlos</th>\n",
       "      <td>0</td>\n",
       "      <td>7</td>\n",
       "    </tr>\n",
       "    <tr>\n",
       "      <th>Johan</th>\n",
       "      <td>1</td>\n",
       "      <td>2</td>\n",
       "    </tr>\n",
       "  </tbody>\n",
       "</table>\n",
       "</div>"
      ],
      "text/plain": [
       "Frutas    manzanas  naranjas\n",
       "Clientes                    \n",
       "Juan             3         0\n",
       "Isabela          2         3\n",
       "Carlos           0         7\n",
       "Johan            1         2"
      ]
     },
     "execution_count": 29,
     "metadata": {},
     "output_type": "execute_result"
    }
   ],
   "source": [
    "#Vamos a cambiar el nombre del eje de columnas y el eje de las filas \n",
    "compras.index.name='Clientes'\n",
    "compras.columns.name='Frutas'\n",
    "compras.name=\"Tienda mayorista\"\n",
    "print(compras.name)\n",
    "compras"
   ]
  },
  {
   "cell_type": "code",
   "execution_count": 30,
   "id": "0b12dc1c",
   "metadata": {
    "scrolled": true
   },
   "outputs": [
    {
     "data": {
      "text/plain": [
       "array([[3, 0],\n",
       "       [2, 3],\n",
       "       [0, 7],\n",
       "       [1, 2]])"
      ]
     },
     "execution_count": 30,
     "metadata": {},
     "output_type": "execute_result"
    }
   ],
   "source": [
    "compras.values"
   ]
  },
  {
   "cell_type": "code",
   "execution_count": 32,
   "id": "cea0eeba",
   "metadata": {},
   "outputs": [
    {
     "data": {
      "text/plain": [
       "(4, 2)"
      ]
     },
     "execution_count": 32,
     "metadata": {},
     "output_type": "execute_result"
    }
   ],
   "source": [
    "#El atributo shape me indica la dimension del Dataframe\n",
    "#Es decir el numero de filas y columnas que contiene su estructura\n",
    "compras.shape"
   ]
  },
  {
   "cell_type": "code",
   "execution_count": 34,
   "id": "6e6eb1ae",
   "metadata": {},
   "outputs": [
    {
     "data": {
      "text/plain": [
       "0    7\n",
       "1    5\n",
       "2    3\n",
       "dtype: int64"
      ]
     },
     "execution_count": 34,
     "metadata": {},
     "output_type": "execute_result"
    }
   ],
   "source": [
    "#Como podemos crear una SERIE en pandas\n",
    "# UTilizamos el constructor SERIES\n",
    "#Crear una serie a partir de una lista\n",
    "s=pd.Series([7,5,3])\n",
    "s"
   ]
  },
  {
   "cell_type": "code",
   "execution_count": 35,
   "id": "0b205782",
   "metadata": {},
   "outputs": [
    {
     "data": {
      "text/plain": [
       "Ene    7\n",
       "Feb    5\n",
       "Mar    3\n",
       "dtype: int64"
      ]
     },
     "execution_count": 35,
     "metadata": {},
     "output_type": "execute_result"
    }
   ],
   "source": [
    "#Como podemos crear una SERIE en pandas\n",
    "# UTilizamos el constructor SERIES\n",
    "#Crear una serie a partir de una lista\n",
    "#Yo puedo definir los indices de las Filas en una serie\n",
    "s=pd.Series([7,5,3],index=['Ene','Feb','Mar'])\n",
    "s"
   ]
  },
  {
   "cell_type": "code",
   "execution_count": 36,
   "id": "e11f6ec0",
   "metadata": {},
   "outputs": [
    {
     "data": {
      "text/plain": [
       "Ene    7\n",
       "Feb    5\n",
       "Mar    3\n",
       "dtype: int64"
      ]
     },
     "execution_count": 36,
     "metadata": {},
     "output_type": "execute_result"
    }
   ],
   "source": [
    "#Como podemos crear una SERIE en pandas\n",
    "# UTilizamos el constructor SERIES\n",
    "#Crear una serie a partir de una lista\n",
    "#Yo puedo definir los indices de las Filas en una serie\n",
    "lista=['Ene','Feb','Mar']\n",
    "s=pd.Series([7,5,3],index=lista)\n",
    "s"
   ]
  },
  {
   "cell_type": "code",
   "execution_count": 37,
   "id": "a7ea38bc",
   "metadata": {
    "scrolled": true
   },
   "outputs": [
    {
     "ename": "ValueError",
     "evalue": "Length of values (3) does not match length of index (4)",
     "output_type": "error",
     "traceback": [
      "\u001b[0;31m---------------------------------------------------------------------------\u001b[0m",
      "\u001b[0;31mValueError\u001b[0m                                Traceback (most recent call last)",
      "\u001b[0;32m<ipython-input-37-52f073a0f55f>\u001b[0m in \u001b[0;36m<module>\u001b[0;34m\u001b[0m\n\u001b[1;32m      4\u001b[0m \u001b[0;31m#Yo puedo definir los indices de las Filas en una serie\u001b[0m\u001b[0;34m\u001b[0m\u001b[0;34m\u001b[0m\u001b[0;34m\u001b[0m\u001b[0m\n\u001b[1;32m      5\u001b[0m \u001b[0mlista\u001b[0m\u001b[0;34m=\u001b[0m\u001b[0;34m[\u001b[0m\u001b[0;34m'Ene'\u001b[0m\u001b[0;34m,\u001b[0m\u001b[0;34m'Feb'\u001b[0m\u001b[0;34m,\u001b[0m\u001b[0;34m'Mar'\u001b[0m\u001b[0;34m,\u001b[0m\u001b[0;34m'Abr'\u001b[0m\u001b[0;34m]\u001b[0m\u001b[0;34m\u001b[0m\u001b[0;34m\u001b[0m\u001b[0m\n\u001b[0;32m----> 6\u001b[0;31m \u001b[0ms\u001b[0m\u001b[0;34m=\u001b[0m\u001b[0mpd\u001b[0m\u001b[0;34m.\u001b[0m\u001b[0mSeries\u001b[0m\u001b[0;34m(\u001b[0m\u001b[0;34m[\u001b[0m\u001b[0;36m7\u001b[0m\u001b[0;34m,\u001b[0m\u001b[0;36m5\u001b[0m\u001b[0;34m,\u001b[0m\u001b[0;36m3\u001b[0m\u001b[0;34m]\u001b[0m\u001b[0;34m,\u001b[0m\u001b[0mindex\u001b[0m\u001b[0;34m=\u001b[0m\u001b[0mlista\u001b[0m\u001b[0;34m)\u001b[0m\u001b[0;34m\u001b[0m\u001b[0;34m\u001b[0m\u001b[0m\n\u001b[0m\u001b[1;32m      7\u001b[0m \u001b[0ms\u001b[0m\u001b[0;34m\u001b[0m\u001b[0;34m\u001b[0m\u001b[0m\n",
      "\u001b[0;32m~/miniconda3/lib/python3.9/site-packages/pandas/core/series.py\u001b[0m in \u001b[0;36m__init__\u001b[0;34m(self, data, index, dtype, name, copy, fastpath)\u001b[0m\n\u001b[1;32m    428\u001b[0m                 \u001b[0mindex\u001b[0m \u001b[0;34m=\u001b[0m \u001b[0mibase\u001b[0m\u001b[0;34m.\u001b[0m\u001b[0mdefault_index\u001b[0m\u001b[0;34m(\u001b[0m\u001b[0mlen\u001b[0m\u001b[0;34m(\u001b[0m\u001b[0mdata\u001b[0m\u001b[0;34m)\u001b[0m\u001b[0;34m)\u001b[0m\u001b[0;34m\u001b[0m\u001b[0;34m\u001b[0m\u001b[0m\n\u001b[1;32m    429\u001b[0m             \u001b[0;32melif\u001b[0m \u001b[0mis_list_like\u001b[0m\u001b[0;34m(\u001b[0m\u001b[0mdata\u001b[0m\u001b[0;34m)\u001b[0m\u001b[0;34m:\u001b[0m\u001b[0;34m\u001b[0m\u001b[0;34m\u001b[0m\u001b[0m\n\u001b[0;32m--> 430\u001b[0;31m                 \u001b[0mcom\u001b[0m\u001b[0;34m.\u001b[0m\u001b[0mrequire_length_match\u001b[0m\u001b[0;34m(\u001b[0m\u001b[0mdata\u001b[0m\u001b[0;34m,\u001b[0m \u001b[0mindex\u001b[0m\u001b[0;34m)\u001b[0m\u001b[0;34m\u001b[0m\u001b[0;34m\u001b[0m\u001b[0m\n\u001b[0m\u001b[1;32m    431\u001b[0m \u001b[0;34m\u001b[0m\u001b[0m\n\u001b[1;32m    432\u001b[0m             \u001b[0;31m# create/copy the manager\u001b[0m\u001b[0;34m\u001b[0m\u001b[0;34m\u001b[0m\u001b[0;34m\u001b[0m\u001b[0m\n",
      "\u001b[0;32m~/miniconda3/lib/python3.9/site-packages/pandas/core/common.py\u001b[0m in \u001b[0;36mrequire_length_match\u001b[0;34m(data, index)\u001b[0m\n\u001b[1;32m    529\u001b[0m     \"\"\"\n\u001b[1;32m    530\u001b[0m     \u001b[0;32mif\u001b[0m \u001b[0mlen\u001b[0m\u001b[0;34m(\u001b[0m\u001b[0mdata\u001b[0m\u001b[0;34m)\u001b[0m \u001b[0;34m!=\u001b[0m \u001b[0mlen\u001b[0m\u001b[0;34m(\u001b[0m\u001b[0mindex\u001b[0m\u001b[0;34m)\u001b[0m\u001b[0;34m:\u001b[0m\u001b[0;34m\u001b[0m\u001b[0;34m\u001b[0m\u001b[0m\n\u001b[0;32m--> 531\u001b[0;31m         raise ValueError(\n\u001b[0m\u001b[1;32m    532\u001b[0m             \u001b[0;34m\"Length of values \"\u001b[0m\u001b[0;34m\u001b[0m\u001b[0;34m\u001b[0m\u001b[0m\n\u001b[1;32m    533\u001b[0m             \u001b[0;34mf\"({len(data)}) \"\u001b[0m\u001b[0;34m\u001b[0m\u001b[0;34m\u001b[0m\u001b[0m\n",
      "\u001b[0;31mValueError\u001b[0m: Length of values (3) does not match length of index (4)"
     ]
    }
   ],
   "source": [
    "#Como podemos crear una SERIE en pandas\n",
    "# UTilizamos el constructor SERIES\n",
    "#Crear una serie a partir de una lista\n",
    "#Yo puedo definir los indices de las Filas en una serie\n",
    "lista=['Ene','Feb','Mar','Abr']\n",
    "s=pd.Series([7,5,3],index=lista)\n",
    "s"
   ]
  },
  {
   "cell_type": "code",
   "execution_count": 40,
   "id": "273de8ff",
   "metadata": {
    "scrolled": true
   },
   "outputs": [
    {
     "name": "stdout",
     "output_type": "stream",
     "text": [
      "{'Ene': 31, 'Feb': 5, 'Mar': 8}\n"
     ]
    },
    {
     "data": {
      "text/plain": [
       "Ene    31\n",
       "Feb     5\n",
       "Mar     8\n",
       "dtype: int64"
      ]
     },
     "execution_count": 40,
     "metadata": {},
     "output_type": "execute_result"
    }
   ],
   "source": [
    "#La forma de crear una serie a partir de un diccionario donde cada palabra clave\n",
    "#se a a convertir en una etiqueta en el indice de las filas, y los valores \n",
    "#de las claves en el diccionario se van a convertir en los valores de la columna\n",
    "d={'Ene':31,'Feb':5,'Mar':8}\n",
    "print(d)\n",
    "s=pd.Series(d)\n",
    "s"
   ]
  },
  {
   "cell_type": "code",
   "execution_count": 41,
   "id": "c93e82db",
   "metadata": {},
   "outputs": [
    {
     "name": "stdout",
     "output_type": "stream",
     "text": [
      "{'Ene': 31, 'Feb': 5, 'Mar': 8}\n"
     ]
    },
    {
     "data": {
      "text/plain": [
       "Abr     NaN\n",
       "Mar     8.0\n",
       "Feb     5.0\n",
       "Ene    31.0\n",
       "dtype: float64"
      ]
     },
     "execution_count": 41,
     "metadata": {},
     "output_type": "execute_result"
    }
   ],
   "source": [
    "#La forma de crear una serie a partir de un diccionario donde cada palabra clave\n",
    "#se a a convertir en una etiqueta en el indice de las filas, y los valores \n",
    "#de las claves en el diccionario se van a convertir en los valores de la columna\n",
    "d={'Ene':31,'Feb':5,'Mar':8}\n",
    "print(d)\n",
    "lista1=['Abr','Mar','Feb','Ene']\n",
    "s=pd.Series(d,index=lista1)\n",
    "s"
   ]
  },
  {
   "cell_type": "code",
   "execution_count": 43,
   "id": "93c9b0f0",
   "metadata": {},
   "outputs": [
    {
     "name": "stdout",
     "output_type": "stream",
     "text": [
      "[{'columna1': 1, 'columna2': 2}, {'columna1': 10, 'columna2': 20}, {'columna3': 'Hola mundo'}]\n"
     ]
    }
   ],
   "source": [
    "#Crear un dataframe a partir de un diccionario\n",
    "import pandas as pd\n",
    "datos=[\n",
    "    {\n",
    "     'columna1':1,\n",
    "     'columna2':2\n",
    "    },\n",
    "    {\n",
    "     'columna1':10,\n",
    "     'columna2':20 \n",
    "    },\n",
    "    {\n",
    "     'columna3':'Hola mundo'\n",
    "    }\n",
    "]\n",
    "print(datos)"
   ]
  },
  {
   "cell_type": "code",
   "execution_count": 44,
   "id": "2648b81d",
   "metadata": {},
   "outputs": [
    {
     "data": {
      "text/html": [
       "<div>\n",
       "<style scoped>\n",
       "    .dataframe tbody tr th:only-of-type {\n",
       "        vertical-align: middle;\n",
       "    }\n",
       "\n",
       "    .dataframe tbody tr th {\n",
       "        vertical-align: top;\n",
       "    }\n",
       "\n",
       "    .dataframe thead th {\n",
       "        text-align: right;\n",
       "    }\n",
       "</style>\n",
       "<table border=\"1\" class=\"dataframe\">\n",
       "  <thead>\n",
       "    <tr style=\"text-align: right;\">\n",
       "      <th></th>\n",
       "      <th>columna1</th>\n",
       "      <th>columna2</th>\n",
       "      <th>columna3</th>\n",
       "    </tr>\n",
       "  </thead>\n",
       "  <tbody>\n",
       "    <tr>\n",
       "      <th>0</th>\n",
       "      <td>1.0</td>\n",
       "      <td>2.0</td>\n",
       "      <td>NaN</td>\n",
       "    </tr>\n",
       "    <tr>\n",
       "      <th>1</th>\n",
       "      <td>10.0</td>\n",
       "      <td>20.0</td>\n",
       "      <td>NaN</td>\n",
       "    </tr>\n",
       "    <tr>\n",
       "      <th>2</th>\n",
       "      <td>NaN</td>\n",
       "      <td>NaN</td>\n",
       "      <td>Hola mundo</td>\n",
       "    </tr>\n",
       "  </tbody>\n",
       "</table>\n",
       "</div>"
      ],
      "text/plain": [
       "   columna1  columna2    columna3\n",
       "0       1.0       2.0         NaN\n",
       "1      10.0      20.0         NaN\n",
       "2       NaN       NaN  Hola mundo"
      ]
     },
     "execution_count": 44,
     "metadata": {},
     "output_type": "execute_result"
    }
   ],
   "source": [
    "#Voy a convertir la lista con diccionario en un dataframe\n",
    "datos_dt=pd.DataFrame(datos)\n",
    "datos_dt"
   ]
  }
 ],
 "metadata": {
  "kernelspec": {
   "display_name": "Python 3",
   "language": "python",
   "name": "python3"
  },
  "language_info": {
   "codemirror_mode": {
    "name": "ipython",
    "version": 3
   },
   "file_extension": ".py",
   "mimetype": "text/x-python",
   "name": "python",
   "nbconvert_exporter": "python",
   "pygments_lexer": "ipython3",
   "version": "3.9.1"
  }
 },
 "nbformat": 4,
 "nbformat_minor": 5
}
