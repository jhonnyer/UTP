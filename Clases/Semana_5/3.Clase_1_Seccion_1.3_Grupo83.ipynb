{
 "cells": [
  {
   "cell_type": "code",
   "execution_count": 3,
   "id": "50d5960a",
   "metadata": {},
   "outputs": [
    {
     "name": "stdout",
     "output_type": "stream",
     "text": [
      "False\n"
     ]
    }
   ],
   "source": [
    "A=True\n",
    "A*9\n",
    "print(not A)"
   ]
  },
  {
   "cell_type": "code",
   "execution_count": 2,
   "id": "6b0dc3ce",
   "metadata": {},
   "outputs": [
    {
     "data": {
      "text/plain": [
       "0"
      ]
     },
     "execution_count": 2,
     "metadata": {},
     "output_type": "execute_result"
    }
   ],
   "source": [
    "B=False\n",
    "B*9"
   ]
  },
  {
   "cell_type": "markdown",
   "id": "6c8f93d5",
   "metadata": {},
   "source": [
    "# Conjuncion\n",
    "\n",
    "p:Estoy vivo\n",
    "q:Me llamo Jhonnyer\n",
    "\n",
    "Estoy vivo y me llamo Jhonnyer\n",
    "  True     and     True   => True\n",
    "  \n",
    "No estoy vivo y me llamo Jhonnyer\n",
    "   False      and    True    =>False \n",
    "   \n",
    "Estoy vivo y me llamo Juan  \n",
    "   True    and     False    => False\n",
    "   \n",
    "# Disyuncion \n",
    "\n",
    "Estoy vivo o me llamo jhonnyer \n",
    "   True    or    True  => True\n",
    "  \n",
    "No estoy vivo o me llamo jhonnyer \n",
    "   False    or    True  => True\n",
    "  \n",
    "Estoy vivo o me llamo Juan  \n",
    "   True    or     False    => True \n",
    "   \n",
    "No estoy vivo o me llamo juan\n",
    "   False      or   False => False"
   ]
  },
  {
   "cell_type": "markdown",
   "id": "819d9bd5",
   "metadata": {},
   "source": [
    "A ∧ (B ∧ C) <=> (A ∧ B) ∧ C\n"
   ]
  },
  {
   "cell_type": "code",
   "execution_count": 4,
   "id": "bcd31042",
   "metadata": {},
   "outputs": [
    {
     "data": {
      "text/plain": [
       "True"
      ]
     },
     "execution_count": 4,
     "metadata": {},
     "output_type": "execute_result"
    }
   ],
   "source": [
    "A=True  \n",
    "A and True\n",
    "#True and True => True"
   ]
  },
  {
   "cell_type": "code",
   "execution_count": 9,
   "id": "760c37d0",
   "metadata": {},
   "outputs": [
    {
     "data": {
      "text/plain": [
       "True"
      ]
     },
     "execution_count": 9,
     "metadata": {},
     "output_type": "execute_result"
    }
   ],
   "source": [
    "#Identidad de la conjuncion\n",
    "A=True \n",
    "A or False\n",
    "#True or True => True"
   ]
  },
  {
   "cell_type": "code",
   "execution_count": 10,
   "id": "0c59db09",
   "metadata": {},
   "outputs": [
    {
     "data": {
      "text/plain": [
       "False"
      ]
     },
     "execution_count": 10,
     "metadata": {},
     "output_type": "execute_result"
    }
   ],
   "source": [
    "#Dominacion de la conjuncion\n",
    "A=True\n",
    "A and False\n"
   ]
  },
  {
   "cell_type": "code",
   "execution_count": 8,
   "id": "515a9dda",
   "metadata": {},
   "outputs": [
    {
     "data": {
      "text/plain": [
       "False"
      ]
     },
     "execution_count": 8,
     "metadata": {},
     "output_type": "execute_result"
    }
   ],
   "source": [
    "#Identidad de la disyuncion\n",
    "A=False \n",
    "A or False \n",
    "#True or True => True"
   ]
  },
  {
   "cell_type": "code",
   "execution_count": 11,
   "id": "3a4ce19e",
   "metadata": {},
   "outputs": [
    {
     "data": {
      "text/plain": [
       "True"
      ]
     },
     "execution_count": 11,
     "metadata": {},
     "output_type": "execute_result"
    }
   ],
   "source": [
    "#Dominacion de la disyuncion\n",
    "A=False \n",
    "A or True \n",
    "#True or True => True"
   ]
  },
  {
   "cell_type": "code",
   "execution_count": 12,
   "id": "de2699c9",
   "metadata": {},
   "outputs": [
    {
     "data": {
      "text/plain": [
       "True"
      ]
     },
     "execution_count": 12,
     "metadata": {},
     "output_type": "execute_result"
    }
   ],
   "source": [
    "A=False\n",
    "not A"
   ]
  },
  {
   "cell_type": "code",
   "execution_count": 14,
   "id": "316a4708",
   "metadata": {},
   "outputs": [
    {
     "data": {
      "text/plain": [
       "True"
      ]
     },
     "execution_count": 14,
     "metadata": {},
     "output_type": "execute_result"
    }
   ],
   "source": [
    "B=True\n",
    "B==(not A)"
   ]
  },
  {
   "cell_type": "markdown",
   "id": "39827eb8",
   "metadata": {},
   "source": [
    "# Ejercicio:  Reducir a la minima expresion, la siguiente expresion utilizando leyes fundamentales y ley de morgan\n",
    "\n",
    "p∧¬(q∨¬p) \n",
    "\n",
    "p∧(¬q∧¬(¬p))\n",
    "\n",
    "p∧(¬q∧p)\n",
    "\n",
    "# Ley conmutativa\n",
    "p∧(p∧¬q)\n",
    "\n",
    "# Ley asociativa\n",
    "(p∧p)∧¬q\n",
    "\n",
    "# ley de identidad de la conjuncion \n",
    "\n",
    "p∧¬q"
   ]
  },
  {
   "cell_type": "code",
   "execution_count": 15,
   "id": "608ad4e1",
   "metadata": {},
   "outputs": [
    {
     "data": {
      "text/plain": [
       "True"
      ]
     },
     "execution_count": 15,
     "metadata": {},
     "output_type": "execute_result"
    }
   ],
   "source": [
    "x=9\n",
    "x>0 and x<10\n",
    "#True and True => True"
   ]
  },
  {
   "cell_type": "code",
   "execution_count": 16,
   "id": "fdcd6889",
   "metadata": {},
   "outputs": [
    {
     "data": {
      "text/plain": [
       "False"
      ]
     },
     "execution_count": 16,
     "metadata": {},
     "output_type": "execute_result"
    }
   ],
   "source": [
    "x=11\n",
    "x>0 and x<10\n",
    "#True and False => False"
   ]
  },
  {
   "cell_type": "code",
   "execution_count": 17,
   "id": "e8a834cd",
   "metadata": {},
   "outputs": [
    {
     "data": {
      "text/plain": [
       "True"
      ]
     },
     "execution_count": 17,
     "metadata": {},
     "output_type": "execute_result"
    }
   ],
   "source": [
    "n=10\n",
    "n%2==0 or n%3==0\n",
    "#True or False => True "
   ]
  },
  {
   "cell_type": "code",
   "execution_count": 18,
   "id": "f73cf5b6",
   "metadata": {},
   "outputs": [
    {
     "data": {
      "text/plain": [
       "True"
      ]
     },
     "execution_count": 18,
     "metadata": {},
     "output_type": "execute_result"
    }
   ],
   "source": [
    "x=10\n",
    "y=5\n",
    "x>y "
   ]
  },
  {
   "cell_type": "code",
   "execution_count": 19,
   "id": "05240dc3",
   "metadata": {},
   "outputs": [
    {
     "data": {
      "text/plain": [
       "False"
      ]
     },
     "execution_count": 19,
     "metadata": {},
     "output_type": "execute_result"
    }
   ],
   "source": [
    "y>x"
   ]
  },
  {
   "cell_type": "code",
   "execution_count": 22,
   "id": "39604916",
   "metadata": {},
   "outputs": [
    {
     "data": {
      "text/plain": [
       "True"
      ]
     },
     "execution_count": 22,
     "metadata": {},
     "output_type": "execute_result"
    }
   ],
   "source": [
    "#Un valor verdadero va a ser igual a la negacion de un valor en falso\n",
    "(x>y)==(not(y>x))"
   ]
  },
  {
   "cell_type": "code",
   "execution_count": 23,
   "id": "abfb5a2e",
   "metadata": {},
   "outputs": [
    {
     "data": {
      "text/plain": [
       "True"
      ]
     },
     "execution_count": 23,
     "metadata": {},
     "output_type": "execute_result"
    }
   ],
   "source": [
    "17 and True \n",
    "#True and True => True"
   ]
  },
  {
   "cell_type": "code",
   "execution_count": 25,
   "id": "d63750b2",
   "metadata": {},
   "outputs": [
    {
     "data": {
      "text/plain": [
       "False"
      ]
     },
     "execution_count": 25,
     "metadata": {},
     "output_type": "execute_result"
    }
   ],
   "source": [
    "False and True "
   ]
  },
  {
   "cell_type": "code",
   "execution_count": 27,
   "id": "586a154c",
   "metadata": {},
   "outputs": [
    {
     "data": {
      "text/plain": [
       "True"
      ]
     },
     "execution_count": 27,
     "metadata": {},
     "output_type": "execute_result"
    }
   ],
   "source": [
    "#Evaluacion cortocircuito y patron guardian\n",
    "x=6\n",
    "y=2\n",
    "x>=2 and (x/y)>2\n",
    "#True and True =>True"
   ]
  },
  {
   "cell_type": "code",
   "execution_count": 29,
   "id": "59cb4bd1",
   "metadata": {},
   "outputs": [
    {
     "data": {
      "text/plain": [
       "False"
      ]
     },
     "execution_count": 29,
     "metadata": {},
     "output_type": "execute_result"
    }
   ],
   "source": [
    "#Evaluacion cortocircuito y patron guardian\n",
    "x=1\n",
    "y=2\n",
    "x>=2 and (x/y)>2\n",
    "#False  "
   ]
  },
  {
   "cell_type": "code",
   "execution_count": 32,
   "id": "ea33088f",
   "metadata": {},
   "outputs": [
    {
     "ename": "ZeroDivisionError",
     "evalue": "division by zero",
     "output_type": "error",
     "traceback": [
      "\u001b[0;31m---------------------------------------------------------------------------\u001b[0m",
      "\u001b[0;31mZeroDivisionError\u001b[0m                         Traceback (most recent call last)",
      "\u001b[0;32m<ipython-input-32-a2bcf471abba>\u001b[0m in \u001b[0;36m<module>\u001b[0;34m\u001b[0m\n\u001b[1;32m      2\u001b[0m \u001b[0mx\u001b[0m\u001b[0;34m=\u001b[0m\u001b[0;36m6\u001b[0m\u001b[0;34m\u001b[0m\u001b[0;34m\u001b[0m\u001b[0m\n\u001b[1;32m      3\u001b[0m \u001b[0my\u001b[0m\u001b[0;34m=\u001b[0m\u001b[0;36m0\u001b[0m\u001b[0;34m\u001b[0m\u001b[0;34m\u001b[0m\u001b[0m\n\u001b[0;32m----> 4\u001b[0;31m \u001b[0mx\u001b[0m\u001b[0;34m>=\u001b[0m\u001b[0;36m2\u001b[0m \u001b[0;32mand\u001b[0m \u001b[0;34m(\u001b[0m\u001b[0mx\u001b[0m\u001b[0;34m/\u001b[0m\u001b[0my\u001b[0m\u001b[0;34m)\u001b[0m\u001b[0;34m>\u001b[0m\u001b[0;36m2\u001b[0m\u001b[0;34m\u001b[0m\u001b[0;34m\u001b[0m\u001b[0m\n\u001b[0m\u001b[1;32m      5\u001b[0m \u001b[0;31m#True and ERROR\u001b[0m\u001b[0;34m\u001b[0m\u001b[0;34m\u001b[0m\u001b[0;34m\u001b[0m\u001b[0m\n",
      "\u001b[0;31mZeroDivisionError\u001b[0m: division by zero"
     ]
    }
   ],
   "source": [
    "#Evaluacion cortocircuito y patron guardian\n",
    "x=6\n",
    "y=0\n",
    "x>=2 and (x/y)>2\n",
    "#True and ERROR   "
   ]
  },
  {
   "cell_type": "code",
   "execution_count": 33,
   "id": "e164c72c",
   "metadata": {},
   "outputs": [
    {
     "data": {
      "text/plain": [
       "False"
      ]
     },
     "execution_count": 33,
     "metadata": {},
     "output_type": "execute_result"
    }
   ],
   "source": [
    "#Evaluacion cortocircuito y patron guardian\n",
    "x=6\n",
    "y=0\n",
    "x>=2 and y!=0 and (x/y)>2\n",
    "#True  and False => False"
   ]
  },
  {
   "cell_type": "code",
   "execution_count": 35,
   "id": "efedc012",
   "metadata": {},
   "outputs": [
    {
     "ename": "ZeroDivisionError",
     "evalue": "division by zero",
     "output_type": "error",
     "traceback": [
      "\u001b[0;31m---------------------------------------------------------------------------\u001b[0m",
      "\u001b[0;31mZeroDivisionError\u001b[0m                         Traceback (most recent call last)",
      "\u001b[0;32m<ipython-input-35-500920315b3d>\u001b[0m in \u001b[0;36m<module>\u001b[0;34m\u001b[0m\n\u001b[1;32m      2\u001b[0m \u001b[0mx\u001b[0m\u001b[0;34m=\u001b[0m\u001b[0;36m6\u001b[0m\u001b[0;34m\u001b[0m\u001b[0;34m\u001b[0m\u001b[0m\n\u001b[1;32m      3\u001b[0m \u001b[0my\u001b[0m\u001b[0;34m=\u001b[0m\u001b[0;36m0\u001b[0m\u001b[0;34m\u001b[0m\u001b[0;34m\u001b[0m\u001b[0m\n\u001b[0;32m----> 4\u001b[0;31m \u001b[0mx\u001b[0m\u001b[0;34m>=\u001b[0m\u001b[0;36m2\u001b[0m  \u001b[0;32mand\u001b[0m \u001b[0;34m(\u001b[0m\u001b[0mx\u001b[0m\u001b[0;34m/\u001b[0m\u001b[0my\u001b[0m\u001b[0;34m)\u001b[0m\u001b[0;34m>\u001b[0m\u001b[0;36m2\u001b[0m \u001b[0;32mand\u001b[0m \u001b[0my\u001b[0m\u001b[0;34m!=\u001b[0m\u001b[0;36m0\u001b[0m\u001b[0;34m\u001b[0m\u001b[0;34m\u001b[0m\u001b[0m\n\u001b[0m\u001b[1;32m      5\u001b[0m \u001b[0;31m#True and ERROR\u001b[0m\u001b[0;34m\u001b[0m\u001b[0;34m\u001b[0m\u001b[0;34m\u001b[0m\u001b[0m\n",
      "\u001b[0;31mZeroDivisionError\u001b[0m: division by zero"
     ]
    }
   ],
   "source": [
    "#Evaluacion cortocircuito y patron guardian en una posicion incorrecta\n",
    "x=6\n",
    "y=0\n",
    "x>=2  and (x/y)>2 and y!=0\n",
    "#True and ERROR "
   ]
  },
  {
   "cell_type": "code",
   "execution_count": null,
   "id": "2919a757",
   "metadata": {},
   "outputs": [],
   "source": [
    "#Numero es palindromo cuando se puede ser de izquierda a derecha y es el mismo resultado\n",
    "# 121 \n",
    "# 111\n",
    "# 222\n",
    "# 232\n"
   ]
  },
  {
   "cell_type": "code",
   "execution_count": 37,
   "id": "684efea7",
   "metadata": {},
   "outputs": [
    {
     "data": {
      "text/plain": [
       "1.23"
      ]
     },
     "execution_count": 37,
     "metadata": {},
     "output_type": "execute_result"
    }
   ],
   "source": [
    "123/100"
   ]
  },
  {
   "cell_type": "code",
   "execution_count": 38,
   "id": "90505146",
   "metadata": {},
   "outputs": [
    {
     "data": {
      "text/plain": [
       "1"
      ]
     },
     "execution_count": 38,
     "metadata": {},
     "output_type": "execute_result"
    }
   ],
   "source": [
    "123//100"
   ]
  },
  {
   "cell_type": "code",
   "execution_count": 42,
   "id": "bd6d70d0",
   "metadata": {
    "scrolled": false
   },
   "outputs": [
    {
     "data": {
      "text/plain": [
       "23"
      ]
     },
     "execution_count": 42,
     "metadata": {},
     "output_type": "execute_result"
    }
   ],
   "source": [
    "(123-(1*100))"
   ]
  },
  {
   "cell_type": "code",
   "execution_count": 41,
   "id": "4457fb47",
   "metadata": {
    "scrolled": false
   },
   "outputs": [
    {
     "data": {
      "text/plain": [
       "2"
      ]
     },
     "execution_count": 41,
     "metadata": {},
     "output_type": "execute_result"
    }
   ],
   "source": [
    "(123-(1*100))//10"
   ]
  },
  {
   "cell_type": "code",
   "execution_count": 44,
   "id": "314bf39d",
   "metadata": {
    "scrolled": false
   },
   "outputs": [
    {
     "data": {
      "text/plain": [
       "3"
      ]
     },
     "execution_count": 44,
     "metadata": {},
     "output_type": "execute_result"
    }
   ],
   "source": [
    "123-1*100-2*10"
   ]
  },
  {
   "cell_type": "code",
   "execution_count": 51,
   "id": "8c4c9f1e",
   "metadata": {
    "scrolled": true
   },
   "outputs": [
    {
     "name": "stdout",
     "output_type": "stream",
     "text": [
      "LIGHT\n",
      "SWEET\n",
      "BITTER\n",
      "BITTER\n",
      "CINNAMON\n"
     ]
    }
   ],
   "source": [
    "def palidromo(numero:int)->bool:\n",
    "    resultado=''\n",
    "    centena=numero//100\n",
    "    decena=(numero-centena*100)//10\n",
    "    unidad=numero-centena*100-decena*10\n",
    "    if centena==unidad:\n",
    "        resultado=True\n",
    "    else:\n",
    "        resultado=False\n",
    "    return resultado\n",
    "\n",
    "# palidromo(111)\n",
    "# palidromo(451)\n",
    "def espar(numero:int)->bool:\n",
    "    if numero%2==0:\n",
    "        resultado=True\n",
    "    else: \n",
    "        resultado=False\n",
    "    return resultado\n",
    "\n",
    "# espar(112)\n",
    "\n",
    "def clasificar_chocolate(codigo:int)->str:\n",
    "    if palidromo(codigo):\n",
    "        if espar(codigo):\n",
    "            resultado=\"SWEET\"\n",
    "        else:\n",
    "            resultado=\"BITTER\"\n",
    "    else:\n",
    "        if espar(codigo):\n",
    "            resultado=\"CINNAMON\"\n",
    "        else:\n",
    "            resultado=\"LIGHT\"\n",
    "    return resultado\n",
    "\n",
    "print(clasificar_chocolate(123))\n",
    "print(clasificar_chocolate(222))\n",
    "print(clasificar_chocolate(111))\n",
    "print(clasificar_chocolate(505))\n",
    "print(clasificar_chocolate(576))"
   ]
  }
 ],
 "metadata": {
  "kernelspec": {
   "display_name": "Python 3",
   "language": "python",
   "name": "python3"
  },
  "language_info": {
   "codemirror_mode": {
    "name": "ipython",
    "version": 3
   },
   "file_extension": ".py",
   "mimetype": "text/x-python",
   "name": "python",
   "nbconvert_exporter": "python",
   "pygments_lexer": "ipython3",
   "version": "3.9.1"
  }
 },
 "nbformat": 4,
 "nbformat_minor": 5
}
