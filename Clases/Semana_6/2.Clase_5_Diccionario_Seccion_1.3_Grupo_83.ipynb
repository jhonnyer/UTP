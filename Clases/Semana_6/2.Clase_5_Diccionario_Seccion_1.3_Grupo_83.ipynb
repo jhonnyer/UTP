{
 "cells": [
  {
   "cell_type": "code",
   "execution_count": 1,
   "id": "01f9773d",
   "metadata": {},
   "outputs": [
    {
     "name": "stdout",
     "output_type": "stream",
     "text": [
      "{}\n",
      "<class 'dict'>\n"
     ]
    }
   ],
   "source": [
    "# DEfinicion de un diccionario\n",
    "diccionario={}\n",
    "print(diccionario)\n",
    "print(type(diccionario))"
   ]
  },
  {
   "cell_type": "code",
   "execution_count": 2,
   "id": "ca0e5549",
   "metadata": {},
   "outputs": [
    {
     "name": "stdout",
     "output_type": "stream",
     "text": [
      "{}\n",
      "<class 'dict'>\n"
     ]
    }
   ],
   "source": [
    "# DEfinicion de un diccionario\n",
    "diccionario=dict()\n",
    "print(diccionario)\n",
    "print(type(diccionario))"
   ]
  },
  {
   "cell_type": "code",
   "execution_count": 3,
   "id": "d40ecdff",
   "metadata": {},
   "outputs": [
    {
     "name": "stdout",
     "output_type": "stream",
     "text": [
      "{'total': 55}\n",
      "{'valor': 123.555}\n"
     ]
    }
   ],
   "source": [
    "diccionario={'total':55}\n",
    "print(diccionario)\n",
    "otrodiccionario={'valor':123.555}\n",
    "print(otrodiccionario)"
   ]
  },
  {
   "cell_type": "code",
   "execution_count": 5,
   "id": "0ec5db19",
   "metadata": {},
   "outputs": [
    {
     "name": "stdout",
     "output_type": "stream",
     "text": [
      "{'total': 55, 'valor1': 22.44, 'valor2': 'Hola mundo', 'valor3': [1, 5, 6, 'hola', 1.344], 'valor4': True}\n"
     ]
    }
   ],
   "source": [
    "diccionario={'total':55,'valor1':22.44,'valor2':'Hola mundo','valor3':[1,5,6,'hola',1.344],'valor4':True}\n",
    "print(diccionario)\n"
   ]
  },
  {
   "cell_type": "code",
   "execution_count": 6,
   "id": "002e7bb1",
   "metadata": {},
   "outputs": [
    {
     "name": "stdout",
     "output_type": "stream",
     "text": [
      "{'nombre': 7, 'valor1': 22.44, 'valor2': 'Hola mundo', 'valor3': [1, 5, 6, 'hola', 1.344], 'valor4': True}\n"
     ]
    }
   ],
   "source": [
    "diccionario_Excel={'nombre':5+2,'valor1':22.44,'valor2':'Hola mundo','valor3':[1,5,6,'hola',1.344],'valor4':True}\n",
    "print(diccionario_Excel)\n"
   ]
  },
  {
   "cell_type": "code",
   "execution_count": 7,
   "id": "8e738327",
   "metadata": {},
   "outputs": [
    {
     "name": "stdout",
     "output_type": "stream",
     "text": [
      "{'total': 55, 'descuento': True, 'subtotal': 15}\n"
     ]
    }
   ],
   "source": [
    "diccionario=dict(total=55,descuento=True,subtotal=15)\n",
    "print(diccionario)"
   ]
  },
  {
   "cell_type": "code",
   "execution_count": 9,
   "id": "6f7c3459",
   "metadata": {},
   "outputs": [
    {
     "name": "stdout",
     "output_type": "stream",
     "text": [
      "{'nombre': 'Juan', 'edad': 23, 'curso': 'Curso de python', 'skills': {'programacion': True, 'base_datos': False}, 'No medallas': 10}\n"
     ]
    }
   ],
   "source": [
    "usuario={\n",
    "    'nombre':'Juan',\n",
    "    'edad':23,\n",
    "    'curso':'Curso de python',\n",
    "    'skills':{\n",
    "        'programacion':True,\n",
    "        'base_datos':False\n",
    "    },\n",
    "    'No medallas':10\n",
    "}\n",
    "print(usuario)"
   ]
  },
  {
   "cell_type": "code",
   "execution_count": 16,
   "id": "a5928bd2",
   "metadata": {},
   "outputs": [
    {
     "name": "stdout",
     "output_type": "stream",
     "text": [
      "23\n",
      "Curso de python\n",
      "{'programacion': True, 'base_datos': False}\n",
      "True\n"
     ]
    }
   ],
   "source": [
    "print(usuario['edad'])\n",
    "print(usuario['curso'])\n",
    "print(usuario['skills'])\n",
    "print(usuario['skills']['programacion'])"
   ]
  },
  {
   "cell_type": "code",
   "execution_count": 10,
   "id": "c30bd12d",
   "metadata": {},
   "outputs": [
    {
     "data": {
      "text/plain": [
       "'hola'"
      ]
     },
     "execution_count": 10,
     "metadata": {},
     "output_type": "execute_result"
    }
   ],
   "source": [
    "listas=[3,6,'hola']\n",
    "listas[2]"
   ]
  },
  {
   "cell_type": "code",
   "execution_count": 12,
   "id": "1ae79844",
   "metadata": {},
   "outputs": [
    {
     "data": {
      "text/plain": [
       "'m'"
      ]
     },
     "execution_count": 12,
     "metadata": {},
     "output_type": "execute_result"
    }
   ],
   "source": [
    "cad='Hola mundo'\n",
    "cad[5]"
   ]
  },
  {
   "cell_type": "code",
   "execution_count": 17,
   "id": "ba91bc24",
   "metadata": {},
   "outputs": [
    {
     "name": "stdout",
     "output_type": "stream",
     "text": [
      "{'total': 55, 'descuento': True, 'subtotal': '15'}\n",
      "15\n"
     ]
    }
   ],
   "source": [
    "diccionario=dict(total=55,descuento=True,subtotal='15')\n",
    "print(diccionario)\n",
    "print(diccionario['subtotal'])"
   ]
  },
  {
   "cell_type": "code",
   "execution_count": 29,
   "id": "9d48472e",
   "metadata": {},
   "outputs": [
    {
     "name": "stdout",
     "output_type": "stream",
     "text": [
      "{'nombre': 'Juan', 'edad': 23, 'curso': 'Curso de python', 'skills': {'programacion': True, 'base_datos': False, 'lista1': [1, 3, 5, 5]}, 'No medallas': 10, 'lista': [1, 4, 6, 'hola', 1.35]}\n"
     ]
    }
   ],
   "source": [
    "usuario={\n",
    "    'nombre':'Juan',\n",
    "    'edad':23,\n",
    "    'curso':'Curso de python',\n",
    "    'skills':{\n",
    "        'programacion':True,\n",
    "        'base_datos':False,\n",
    "        'lista1':[1,3,5,5]\n",
    "    },\n",
    "    'No medallas':10,\n",
    "    'lista':[1,4,6,'hola',1.35]\n",
    "}\n",
    "print(usuario)"
   ]
  },
  {
   "cell_type": "code",
   "execution_count": 32,
   "id": "3f1c1b56",
   "metadata": {},
   "outputs": [
    {
     "name": "stdout",
     "output_type": "stream",
     "text": [
      "[1, 4, 6, 'hola', 1.35]\n",
      "hola\n"
     ]
    }
   ],
   "source": [
    "print(usuario['lista'])\n",
    "print(usuario['lista'][3])"
   ]
  },
  {
   "cell_type": "code",
   "execution_count": 35,
   "id": "6d41c8b4",
   "metadata": {},
   "outputs": [
    {
     "name": "stdout",
     "output_type": "stream",
     "text": [
      "{'programacion': True, 'base_datos': False, 'lista1': [1, 3, 5, 5]}\n",
      "[1, 3, 5, 5]\n",
      "5\n"
     ]
    }
   ],
   "source": [
    "print(usuario['skills'])\n",
    "print(usuario['skills']['lista1'])\n",
    "print(usuario['skills']['lista1'][2])"
   ]
  },
  {
   "cell_type": "code",
   "execution_count": 26,
   "id": "2efeb7f0",
   "metadata": {},
   "outputs": [
    {
     "name": "stdout",
     "output_type": "stream",
     "text": [
      "{}\n",
      "{'marca': 'Mazda'}\n",
      "{'marca': 'Subaru'}\n",
      "Subaru\n"
     ]
    }
   ],
   "source": [
    "#Añadiendo un valor al diccionario\n",
    "diccionario=dict()\n",
    "print(diccionario)\n",
    "diccionario['marca']='Mazda'\n",
    "print(diccionario)\n",
    "#Modificar un valor en un diccionario\n",
    "diccionario['marca']='Subaru'\n",
    "print(diccionario)\n",
    "print(diccionario['marca'])"
   ]
  },
  {
   "cell_type": "code",
   "execution_count": 27,
   "id": "59d2a44a",
   "metadata": {},
   "outputs": [
    {
     "name": "stdout",
     "output_type": "stream",
     "text": [
      "{'marca': 'Subaru', 'color': 'Rojo', 'año': 2002, 'flotante': 13.55}\n"
     ]
    }
   ],
   "source": [
    "#Añadir valores a un diccionario\n",
    "diccionario['color']='Rojo'\n",
    "diccionario['año']=2002\n",
    "diccionario['flotante']=13.55\n",
    "print(diccionario)"
   ]
  },
  {
   "cell_type": "code",
   "execution_count": 36,
   "id": "62eb06ff",
   "metadata": {},
   "outputs": [
    {
     "data": {
      "text/plain": [
       "['__class__',\n",
       " '__class_getitem__',\n",
       " '__contains__',\n",
       " '__delattr__',\n",
       " '__delitem__',\n",
       " '__dir__',\n",
       " '__doc__',\n",
       " '__eq__',\n",
       " '__format__',\n",
       " '__ge__',\n",
       " '__getattribute__',\n",
       " '__getitem__',\n",
       " '__gt__',\n",
       " '__hash__',\n",
       " '__init__',\n",
       " '__init_subclass__',\n",
       " '__ior__',\n",
       " '__iter__',\n",
       " '__le__',\n",
       " '__len__',\n",
       " '__lt__',\n",
       " '__ne__',\n",
       " '__new__',\n",
       " '__or__',\n",
       " '__reduce__',\n",
       " '__reduce_ex__',\n",
       " '__repr__',\n",
       " '__reversed__',\n",
       " '__ror__',\n",
       " '__setattr__',\n",
       " '__setitem__',\n",
       " '__sizeof__',\n",
       " '__str__',\n",
       " '__subclasshook__',\n",
       " 'clear',\n",
       " 'copy',\n",
       " 'fromkeys',\n",
       " 'get',\n",
       " 'items',\n",
       " 'keys',\n",
       " 'pop',\n",
       " 'popitem',\n",
       " 'setdefault',\n",
       " 'update',\n",
       " 'values']"
      ]
     },
     "execution_count": 36,
     "metadata": {},
     "output_type": "execute_result"
    }
   ],
   "source": [
    "dir(diccionario)"
   ]
  },
  {
   "cell_type": "code",
   "execution_count": 37,
   "id": "db1bc42a",
   "metadata": {},
   "outputs": [
    {
     "name": "stdout",
     "output_type": "stream",
     "text": [
      "{'Eduardo': 1, 'Fernando': 2, 'Uriel': 3, 'Rafael': 4}\n"
     ]
    }
   ],
   "source": [
    "diccionario={'Eduardo':1,'Fernando':2,'Uriel':3,'Rafael':4}\n",
    "print(diccionario)"
   ]
  },
  {
   "cell_type": "code",
   "execution_count": 38,
   "id": "320bf380",
   "metadata": {},
   "outputs": [
    {
     "name": "stdout",
     "output_type": "stream",
     "text": [
      "{'Eduardo': 1, 'Fernando': 2, 'Uriel': 3, 'Rafael': 4}\n"
     ]
    }
   ],
   "source": [
    "diccionario={\n",
    "        'Eduardo':1, \n",
    "        'Fernando':2,\n",
    "        'Uriel':3,\n",
    "        'Rafael':4\n",
    "    }\n",
    "print(diccionario)"
   ]
  },
  {
   "cell_type": "code",
   "execution_count": 39,
   "id": "d966e47b",
   "metadata": {},
   "outputs": [
    {
     "data": {
      "text/plain": [
       "dict_keys(['Eduardo', 'Fernando', 'Uriel', 'Rafael'])"
      ]
     },
     "execution_count": 39,
     "metadata": {},
     "output_type": "execute_result"
    }
   ],
   "source": [
    "#Metodo keys()\n",
    "diccionario.keys()"
   ]
  },
  {
   "cell_type": "code",
   "execution_count": 45,
   "id": "8679a250",
   "metadata": {},
   "outputs": [
    {
     "name": "stdout",
     "output_type": "stream",
     "text": [
      "dict_keys(['Eduardo', 'Fernando', 'Uriel', 'Rafael'])\n",
      "<class 'dict_keys'>\n",
      "['Eduardo', 'Fernando', 'Uriel', 'Rafael']\n",
      "<class 'list'>\n",
      "Uriel\n"
     ]
    }
   ],
   "source": [
    "#Metodo Keys y convertido en una lista\n",
    "var=diccionario.keys()\n",
    "print(var)\n",
    "print(type(var))\n",
    "var=list(var)\n",
    "print(var)\n",
    "print(type(var))\n",
    "print(var[2])"
   ]
  },
  {
   "cell_type": "code",
   "execution_count": 46,
   "id": "c72d1fc2",
   "metadata": {},
   "outputs": [
    {
     "name": "stdout",
     "output_type": "stream",
     "text": [
      "dict_values([1, 2, 3, 4])\n",
      "<class 'dict_values'>\n",
      "[1, 2, 3, 4]\n",
      "<class 'list'>\n",
      "3\n"
     ]
    }
   ],
   "source": [
    "#Metodo Values y convertido en una lista\n",
    "var=diccionario.values()\n",
    "print(var)\n",
    "print(type(var))\n",
    "var=list(var)\n",
    "print(var)\n",
    "print(type(var))\n",
    "print(var[2])"
   ]
  },
  {
   "cell_type": "code",
   "execution_count": 48,
   "id": "3731cb5c",
   "metadata": {},
   "outputs": [
    {
     "name": "stdout",
     "output_type": "stream",
     "text": [
      "{'clave1': 1234, 'cadena': True, 'clave3': 'Valor 1'}\n",
      "<class 'dict'>\n"
     ]
    }
   ],
   "source": [
    "diccionario={\n",
    "    'clave1':1234,\n",
    "    'cadena':True,\n",
    "    'clave3':'Valor 1'\n",
    "}\n",
    "print(diccionario)\n",
    "print(type(diccionario))"
   ]
  },
  {
   "cell_type": "code",
   "execution_count": 50,
   "id": "283deede",
   "metadata": {},
   "outputs": [
    {
     "data": {
      "text/plain": [
       "'Valor 1'"
      ]
     },
     "execution_count": 50,
     "metadata": {},
     "output_type": "execute_result"
    }
   ],
   "source": [
    "diccionario['clave3']"
   ]
  },
  {
   "cell_type": "code",
   "execution_count": 49,
   "id": "020bd581",
   "metadata": {
    "scrolled": true
   },
   "outputs": [
    {
     "data": {
      "text/plain": [
       "1234"
      ]
     },
     "execution_count": 49,
     "metadata": {},
     "output_type": "execute_result"
    }
   ],
   "source": [
    "diccionario['clave1']"
   ]
  },
  {
   "cell_type": "code",
   "execution_count": 51,
   "id": "e87bb7dd",
   "metadata": {},
   "outputs": [
    {
     "name": "stdout",
     "output_type": "stream",
     "text": [
      "{'python': 2.7, 'zope': 2.123, 'plone': 5.1, 'django': 2.1}\n",
      "<class 'dict'>\n",
      "2.123\n"
     ]
    }
   ],
   "source": [
    "versiones=dict(python=2.7,zope=2.123,plone=5.1,django=2.1)\n",
    "print(versiones)\n",
    "print(type(versiones))\n",
    "print(versiones['zope'])"
   ]
  },
  {
   "cell_type": "code",
   "execution_count": 52,
   "id": "da3012c5",
   "metadata": {},
   "outputs": [
    {
     "name": "stdout",
     "output_type": "stream",
     "text": [
      "{'python': 2.7, 'zope': 2.123, 'plone': 5.1, 'django': 2.1}\n",
      "{}\n"
     ]
    }
   ],
   "source": [
    "# Metodo CLEAR()\n",
    "versiones=dict(python=2.7,zope=2.123,plone=5.1,django=2.1)\n",
    "print(versiones)\n",
    "versiones.clear()\n",
    "print(versiones)"
   ]
  },
  {
   "cell_type": "code",
   "execution_count": 53,
   "id": "de2f9195",
   "metadata": {},
   "outputs": [
    {
     "name": "stdout",
     "output_type": "stream",
     "text": [
      "{'python': 2.7, 'zope': 2.123, 'plone': 5.1, 'django': 2.1}\n",
      "{'python': 2.7, 'zope': 2.123, 'plone': 5.1, 'django': 2.1}\n"
     ]
    }
   ],
   "source": [
    "# Metodo Copy()\n",
    "versiones=dict(python=2.7,zope=2.123,plone=5.1,django=2.1)\n",
    "otras_versiones=versiones.copy()\n",
    "print(versiones)\n",
    "print(otras_versiones)"
   ]
  },
  {
   "cell_type": "code",
   "execution_count": 54,
   "id": "6dc6cf67",
   "metadata": {},
   "outputs": [
    {
     "name": "stdout",
     "output_type": "stream",
     "text": [
      "True\n"
     ]
    }
   ],
   "source": [
    "print(versiones==otras_versiones)"
   ]
  },
  {
   "cell_type": "code",
   "execution_count": 55,
   "id": "169a0699",
   "metadata": {},
   "outputs": [
    {
     "name": "stdout",
     "output_type": "stream",
     "text": [
      "{'python': None, 'zope': None, 'plone': None}\n"
     ]
    }
   ],
   "source": [
    "# Metodo fromKeys()\n",
    "secuencia=('python','zope','plone')\n",
    "diccionario=dict.fromkeys(secuencia)\n",
    "print(diccionario)"
   ]
  },
  {
   "cell_type": "code",
   "execution_count": 56,
   "id": "2bb1b770",
   "metadata": {},
   "outputs": [
    {
     "name": "stdout",
     "output_type": "stream",
     "text": [
      "Nuevo diccionario: {'python': None, 'zope': None, 'plone': None}\n",
      "Nuevo diccionario: {'python': None, 'zope': None, 'plone': None}\n",
      "Nuevo diccionario: {'python': None, 'zope': None, 'plone': None}\n",
      "Nuevo diccionario:  {'python': None, 'zope': None, 'plone': None}\n"
     ]
    }
   ],
   "source": [
    "print('Nuevo diccionario: %s' %str(diccionario))\n",
    "print('Nuevo diccionario: {}'.format(str(diccionario)))\n",
    "print('Nuevo diccionario: '+ str(diccionario))\n",
    "print('Nuevo diccionario: ',diccionario)"
   ]
  },
  {
   "cell_type": "code",
   "execution_count": 57,
   "id": "ded73403",
   "metadata": {},
   "outputs": [
    {
     "name": "stdout",
     "output_type": "stream",
     "text": [
      "{'python': 0.1, 'zope': 0.1, 'plone': 0.1}\n"
     ]
    }
   ],
   "source": [
    "# Metodo fromKeys()\n",
    "secuencia=('python','zope','plone')\n",
    "diccionario=dict.fromkeys(secuencia,0.1)\n",
    "print(diccionario)"
   ]
  },
  {
   "cell_type": "code",
   "execution_count": 58,
   "id": "e2752e99",
   "metadata": {},
   "outputs": [
    {
     "data": {
      "text/plain": [
       "5.1"
      ]
     },
     "execution_count": 58,
     "metadata": {},
     "output_type": "execute_result"
    }
   ],
   "source": [
    "# Metodo get()\n",
    "versiones=dict(python=2.7,zope=2.123,plone=5.1,django=2.1)\n",
    "versiones.get('plone')"
   ]
  },
  {
   "cell_type": "code",
   "execution_count": 59,
   "id": "5ed62ae6",
   "metadata": {},
   "outputs": [
    {
     "name": "stdout",
     "output_type": "stream",
     "text": [
      "5.1\n"
     ]
    }
   ],
   "source": [
    "var1=versiones.get('plone')\n",
    "print(var1)"
   ]
  },
  {
   "cell_type": "code",
   "execution_count": 60,
   "id": "1c2552a0",
   "metadata": {},
   "outputs": [
    {
     "name": "stdout",
     "output_type": "stream",
     "text": [
      "None\n"
     ]
    }
   ],
   "source": [
    "var2=versiones.get('php')\n",
    "print(var2)"
   ]
  },
  {
   "cell_type": "code",
   "execution_count": 79,
   "id": "21942d97",
   "metadata": {},
   "outputs": [
    {
     "name": "stdout",
     "output_type": "stream",
     "text": [
      "{'programacion': True, 'base_datos': False, 'lista1': [1, 3, 5, 5]}\n",
      "True\n",
      "[1, 3, 5, 5]\n",
      "3\n"
     ]
    }
   ],
   "source": [
    "# EJEMPLO METODO GET ACCEDER A UN DICCIONARIO ANIDADO Y GUARDAR EN UNA VARIABLE APARTE\n",
    "usuario={\n",
    "    'nombre':'Juan',\n",
    "    'edad':23,\n",
    "    'curso':'Curso de python',\n",
    "    'skills':{\n",
    "        'programacion':True,\n",
    "        'base_datos':False,\n",
    "        'lista1':[1,3,5,5]\n",
    "    },\n",
    "    'No medallas':10,\n",
    "    'lista':[1,4,6,'hola',1.35]\n",
    "}\n",
    "var=usuario.get('skills')\n",
    "print(var)\n",
    "print(var['programacion'])\n",
    "print(var['lista1'])\n",
    "print(var['lista1'][1])"
   ]
  },
  {
   "cell_type": "code",
   "execution_count": 67,
   "id": "3d852549",
   "metadata": {},
   "outputs": [
    {
     "data": {
      "text/plain": [
       "dict_items([('python', 2.7), ('zope', 2.123), ('plone', 5.1), ('django', 2.1)])"
      ]
     },
     "execution_count": 67,
     "metadata": {},
     "output_type": "execute_result"
    }
   ],
   "source": [
    "versiones=dict(python=2.7,zope=2.123,plone=5.1,django=2.1)\n",
    "versiones.items()"
   ]
  },
  {
   "cell_type": "code",
   "execution_count": 70,
   "id": "5ff32fbf",
   "metadata": {
    "scrolled": true
   },
   "outputs": [
    {
     "name": "stdout",
     "output_type": "stream",
     "text": [
      "dict_items([('python', 2.7), ('zope', 2.123), ('plone', 5.1), ('django', 2.1)])\n",
      "<class 'dict_items'>\n",
      "[('python', 2.7), ('zope', 2.123), ('plone', 5.1), ('django', 2.1)]\n",
      "<class 'list'>\n"
     ]
    }
   ],
   "source": [
    "# MEtodo items para encontrar la clave y el valor en un diccionario y guardar en una lista mediante funcion list()\n",
    "versiones=dict(python=2.7,zope=2.123,plone=5.1,django=2.1)\n",
    "var=versiones.items()\n",
    "print(var)\n",
    "print(type(var))\n",
    "var=list(var)\n",
    "print(var)\n",
    "print(type(var))\n"
   ]
  },
  {
   "cell_type": "code",
   "execution_count": 71,
   "id": "2894df4c",
   "metadata": {},
   "outputs": [
    {
     "data": {
      "text/plain": [
       "{'python': 2.7, 'zope': 2.123, 'plone': 5.1, 'django': 2.1}"
      ]
     },
     "execution_count": 71,
     "metadata": {},
     "output_type": "execute_result"
    }
   ],
   "source": [
    "# Metodo POP()\n",
    "versiones=dict(python=2.7,zope=2.123,plone=5.1,django=2.1)\n",
    "versiones"
   ]
  },
  {
   "cell_type": "code",
   "execution_count": 72,
   "id": "b3bdaead",
   "metadata": {
    "scrolled": true
   },
   "outputs": [
    {
     "name": "stdout",
     "output_type": "stream",
     "text": [
      "2.123\n",
      "{'python': 2.7, 'plone': 5.1, 'django': 2.1}\n"
     ]
    }
   ],
   "source": [
    "print(versiones.pop('zope'))\n",
    "print(versiones)"
   ]
  },
  {
   "cell_type": "code",
   "execution_count": 73,
   "id": "7daf0e5a",
   "metadata": {
    "scrolled": true
   },
   "outputs": [
    {
     "name": "stdout",
     "output_type": "stream",
     "text": [
      "5.1\n",
      "{'python': 2.7, 'django': 2.1}\n"
     ]
    }
   ],
   "source": [
    "v1=versiones.pop('plone')\n",
    "print(v1)\n",
    "print(versiones)"
   ]
  },
  {
   "cell_type": "code",
   "execution_count": 74,
   "id": "614e5da3",
   "metadata": {},
   "outputs": [
    {
     "ename": "KeyError",
     "evalue": "'plone'",
     "output_type": "error",
     "traceback": [
      "\u001b[0;31m---------------------------------------------------------------------------\u001b[0m",
      "\u001b[0;31mKeyError\u001b[0m                                  Traceback (most recent call last)",
      "\u001b[0;32m<ipython-input-74-e1c1e63e0708>\u001b[0m in \u001b[0;36m<module>\u001b[0;34m\u001b[0m\n\u001b[0;32m----> 1\u001b[0;31m \u001b[0mv1\u001b[0m\u001b[0;34m=\u001b[0m\u001b[0mversiones\u001b[0m\u001b[0;34m.\u001b[0m\u001b[0mpop\u001b[0m\u001b[0;34m(\u001b[0m\u001b[0;34m'plone'\u001b[0m\u001b[0;34m)\u001b[0m\u001b[0;34m\u001b[0m\u001b[0;34m\u001b[0m\u001b[0m\n\u001b[0m",
      "\u001b[0;31mKeyError\u001b[0m: 'plone'"
     ]
    }
   ],
   "source": [
    "v1=versiones.pop('plone')"
   ]
  },
  {
   "cell_type": "code",
   "execution_count": 75,
   "id": "c81c2a9f",
   "metadata": {},
   "outputs": [
    {
     "name": "stdout",
     "output_type": "stream",
     "text": [
      "{'python': 2.7, 'zope': 2.123, 'plone': 5.1}\n",
      "{'django': 2.1}\n"
     ]
    }
   ],
   "source": [
    "# MEtodo update()\n",
    "versiones=dict(python=2.7,zope=2.123,plone=5.1)\n",
    "print(versiones)\n",
    "otra_version=dict(django=2.1)\n",
    "print(otra_version)"
   ]
  },
  {
   "cell_type": "code",
   "execution_count": 77,
   "id": "2fea7934",
   "metadata": {},
   "outputs": [
    {
     "name": "stdout",
     "output_type": "stream",
     "text": [
      "{'python': 2.7, 'zope': 2.123, 'plone': 5.1, 'django': 2.1}\n",
      "{'python': 2.7, 'zope': 2.123, 'plone': 5.1, 'django': 2.1}\n"
     ]
    }
   ],
   "source": [
    "versiones.update(otra_version)\n",
    "print(versiones)\n",
    "versiones.update()\n",
    "print(versiones)"
   ]
  },
  {
   "cell_type": "code",
   "execution_count": 78,
   "id": "5f6c3d46",
   "metadata": {},
   "outputs": [
    {
     "name": "stdout",
     "output_type": "stream",
     "text": [
      "3\n"
     ]
    }
   ],
   "source": [
    "# FUncion LEN()\n",
    "versiones=dict(python=2.7,zope=2.123,plone=5.1)\n",
    "print(len(versiones))"
   ]
  },
  {
   "cell_type": "code",
   "execution_count": 80,
   "id": "ce8de143",
   "metadata": {},
   "outputs": [
    {
     "name": "stdout",
     "output_type": "stream",
     "text": [
      "6\n"
     ]
    }
   ],
   "source": [
    "usuario={\n",
    "    'nombre':'Juan',\n",
    "    'edad':23,\n",
    "    'curso':'Curso de python',\n",
    "    'skills':{\n",
    "        'programacion':True,\n",
    "        'base_datos':False,\n",
    "        'lista1':[1,3,5,5]\n",
    "    },\n",
    "    'No medallas':10,\n",
    "    'lista':[1,4,6,'hola',1.35]\n",
    "}\n",
    "print(len(usuario))"
   ]
  },
  {
   "cell_type": "code",
   "execution_count": 81,
   "id": "518c53cf",
   "metadata": {},
   "outputs": [
    {
     "name": "stdout",
     "output_type": "stream",
     "text": [
      "{'python': 2.7, 'zope': 2.123, 'plone': 5.1}\n",
      "{'python': 2.7, 'plone': 5.1}\n"
     ]
    }
   ],
   "source": [
    "# Sentencia del\n",
    "versiones=dict(python=2.7,zope=2.123,plone=5.1)\n",
    "print(versiones)\n",
    "del versiones['zope']\n",
    "print(versiones)"
   ]
  },
  {
   "cell_type": "code",
   "execution_count": 82,
   "id": "8d2ff34a",
   "metadata": {},
   "outputs": [
    {
     "name": "stdout",
     "output_type": "stream",
     "text": [
      "{'python': 2.7}\n"
     ]
    }
   ],
   "source": [
    "del(versiones['plone'])\n",
    "print(versiones)"
   ]
  },
  {
   "cell_type": "code",
   "execution_count": 83,
   "id": "f442a505",
   "metadata": {
    "scrolled": true
   },
   "outputs": [
    {
     "ename": "KeyError",
     "evalue": "'plone'",
     "output_type": "error",
     "traceback": [
      "\u001b[0;31m---------------------------------------------------------------------------\u001b[0m",
      "\u001b[0;31mKeyError\u001b[0m                                  Traceback (most recent call last)",
      "\u001b[0;32m<ipython-input-83-1b54f9369636>\u001b[0m in \u001b[0;36m<module>\u001b[0;34m\u001b[0m\n\u001b[0;32m----> 1\u001b[0;31m \u001b[0;32mdel\u001b[0m\u001b[0;34m(\u001b[0m\u001b[0mversiones\u001b[0m\u001b[0;34m[\u001b[0m\u001b[0;34m'plone'\u001b[0m\u001b[0;34m]\u001b[0m\u001b[0;34m)\u001b[0m\u001b[0;34m\u001b[0m\u001b[0;34m\u001b[0m\u001b[0m\n\u001b[0m",
      "\u001b[0;31mKeyError\u001b[0m: 'plone'"
     ]
    }
   ],
   "source": [
    "del(versiones['plone'])"
   ]
  },
  {
   "cell_type": "code",
   "execution_count": 87,
   "id": "9a47d423",
   "metadata": {},
   "outputs": [
    {
     "name": "stdout",
     "output_type": "stream",
     "text": [
      "Los nombres son identicos\n"
     ]
    }
   ],
   "source": [
    "Estudiantes={\n",
    "    'Alumno1':{'nombre':'Daniel','edad':12,'estatura':1.75,'grado':'Master'},\n",
    "    'Alumno2':{'nombre':'Daniel','edad':35,'estatura':1.85,'grado':'Doctor'},\n",
    "}\n",
    "\n",
    "# print(Estudiantes)\n",
    "\n",
    "if Estudiantes['Alumno1']['nombre']==Estudiantes['Alumno2']['nombre']:\n",
    "    print(\"Los nombres son identicos\")\n",
    "else:\n",
    "    print(\"Los nombres son diferentes\")"
   ]
  },
  {
   "cell_type": "code",
   "execution_count": 91,
   "id": "2f864562",
   "metadata": {},
   "outputs": [
    {
     "name": "stdout",
     "output_type": "stream",
     "text": [
      "{'Juan': 17, 'Hector': 20, 'Isabella': 19}\n",
      "39\n"
     ]
    }
   ],
   "source": [
    "# Modificar los valores de un diccionario\n",
    "edades={'Juan':16,'Hector':20,'Isabella':19}\n",
    "edades['Juan']\n",
    "edades['Juan']+=1\n",
    "print(edades)\n",
    "edad_suma=edades['Hector']+edades['Isabella']\n",
    "print(edad_suma)"
   ]
  },
  {
   "cell_type": "code",
   "execution_count": 96,
   "id": "ace3d5f1",
   "metadata": {},
   "outputs": [
    {
     "name": "stdout",
     "output_type": "stream",
     "text": [
      "Juan\n",
      "Hector\n",
      "Isabella\n"
     ]
    }
   ],
   "source": [
    "#Recorrer un diccionario con un ciclo FOR\n",
    "edades={'Juan':16,'Hector':20,'Isabella':19}\n",
    "edades['Juan']\n",
    "# 'Juan' in edades\n",
    "for edad in edades:\n",
    "    print(edad)"
   ]
  },
  {
   "cell_type": "code",
   "execution_count": 97,
   "id": "3589ba45",
   "metadata": {},
   "outputs": [
    {
     "name": "stdout",
     "output_type": "stream",
     "text": [
      "Juan 16\n",
      "Hector 20\n",
      "Isabella 19\n"
     ]
    }
   ],
   "source": [
    "for edad in edades:\n",
    "    print(edad, edades[edad])"
   ]
  },
  {
   "cell_type": "code",
   "execution_count": 100,
   "id": "5035ec83",
   "metadata": {},
   "outputs": [
    {
     "name": "stdout",
     "output_type": "stream",
     "text": [
      "Juan 16\n",
      "Hector 20\n",
      "Isabella 19\n"
     ]
    }
   ],
   "source": [
    "for i, valor in enumerate(edades):\n",
    "    print(valor, edades[valor])"
   ]
  },
  {
   "cell_type": "code",
   "execution_count": 101,
   "id": "1f1605fe",
   "metadata": {},
   "outputs": [
    {
     "name": "stdout",
     "output_type": "stream",
     "text": [
      "Juan 16\n",
      "Hector 20\n",
      "Isabella 19\n"
     ]
    }
   ],
   "source": [
    "for clave, valor in edades.items():\n",
    "    print(clave, valor)"
   ]
  },
  {
   "cell_type": "code",
   "execution_count": 102,
   "id": "7d9eefe3",
   "metadata": {},
   "outputs": [
    {
     "name": "stdout",
     "output_type": "stream",
     "text": [
      "Juan\n",
      "Hector\n",
      "Isabella\n"
     ]
    }
   ],
   "source": [
    "for clave in edades.keys():\n",
    "    print(clave)"
   ]
  },
  {
   "cell_type": "code",
   "execution_count": 103,
   "id": "b65ae804",
   "metadata": {},
   "outputs": [
    {
     "name": "stdout",
     "output_type": "stream",
     "text": [
      "16\n",
      "20\n",
      "19\n"
     ]
    }
   ],
   "source": [
    "for valor in edades.values():\n",
    "    print(valor)"
   ]
  },
  {
   "cell_type": "code",
   "execution_count": 105,
   "id": "0ba73839",
   "metadata": {},
   "outputs": [
    {
     "name": "stdout",
     "output_type": "stream",
     "text": [
      "{'Alumno1': {'nombre': 'Daniel', 'edad': 12, 'estatura': 1.75, 'grado': 'Master'}, 'Alumno2': {'nombre': 'Daniel', 'edad': 35, 'estatura': 1.85, 'grado': 'Doctor'}}\n"
     ]
    }
   ],
   "source": [
    "Estudiantes={\n",
    "             'Alumno1':{'nombre':'Daniel','edad':12,'estatura':1.75,'grado':'Master'},\n",
    "             'Alumno2':{'nombre':'Daniel','edad':35,'estatura':1.85,'grado':'Doctor'}\n",
    "            }\n",
    "\n",
    "print(Estudiantes)"
   ]
  },
  {
   "cell_type": "code",
   "execution_count": 109,
   "id": "58b42265",
   "metadata": {},
   "outputs": [
    {
     "name": "stdout",
     "output_type": "stream",
     "text": [
      "Alumno1 {'nombre': 'Daniel', 'edad': 12, 'estatura': 1.75, 'grado': 'Master'}\n",
      "\n",
      "\n",
      "nombre Daniel\n",
      "edad 12\n",
      "estatura 1.75\n",
      "grado Master\n",
      "\n",
      "\n",
      "Alumno2 {'nombre': 'Daniel', 'edad': 35, 'estatura': 1.85, 'grado': 'Doctor'}\n",
      "\n",
      "\n",
      "nombre Daniel\n",
      "edad 35\n",
      "estatura 1.85\n",
      "grado Doctor\n",
      "\n",
      "\n"
     ]
    }
   ],
   "source": [
    "#Recorrer los diccionarios\n",
    "for clave, valor in Estudiantes.items():\n",
    "    print(clave,valor)\n",
    "    print(\"\\n\")\n",
    "    for i, valor in valor.items():\n",
    "        print(i, valor)\n",
    "    print(\"\\n\")"
   ]
  },
  {
   "cell_type": "markdown",
   "id": "11897913",
   "metadata": {},
   "source": [
    "# Ejercicio \n",
    "\n",
    "\n",
    "Se va a desarrollar un videojuego y se te encarga configurar y balancear cada clase de personaje con el que se puede jugar. Partiendo que la estadística base para cada caracteristica de los personajes es 2, se deben cumplir las siguientes condiciones:\n",
    "\n",
    "El caballero tiene el doble de vida y defensa que un guerrero.\n",
    "\n",
    "El guerrero tiene el doble de ataque y alcance que un caballero.\n",
    "\n",
    "El arquero tiene la misma vida y ataque que un guerrero, pero la mitad de su defensa y el doble de su alcance.\n",
    "Muestra como quedan las propiedades de los tres personajes.\n"
   ]
  },
  {
   "cell_type": "code",
   "execution_count": 115,
   "id": "e4d90825",
   "metadata": {},
   "outputs": [
    {
     "name": "stdout",
     "output_type": "stream",
     "text": [
      "Caballero \t {'vida': 4, 'defensa': 2, 'ataque': 2, 'alcance': 2}\n",
      "Guerrero \t {'vida': 4, 'defensa': 2, 'ataque': 2, 'alcance': 2}\n",
      "Arquero \t {'vida': 4, 'defensa': 2, 'ataque': 2, 'alcance': 2}\n"
     ]
    }
   ],
   "source": [
    "caracteristica=('vida','defensa','ataque','alcance')\n",
    "diccionario=dict.fromkeys(caracteristica,2)\n",
    "# print(diccionario)\n",
    "\n",
    "caballero=diccionario\n",
    "guerrero=diccionario\n",
    "arquero=diccionario\n",
    "\n",
    "caballero['vida']=guerrero['vida']*2\n",
    "\n",
    "print(\"Caballero \\t\",caballero)\n",
    "print(\"Guerrero \\t\",guerrero)\n",
    "print(\"Arquero \\t\",arquero)\n"
   ]
  }
 ],
 "metadata": {
  "kernelspec": {
   "display_name": "Python 3",
   "language": "python",
   "name": "python3"
  },
  "language_info": {
   "codemirror_mode": {
    "name": "ipython",
    "version": 3
   },
   "file_extension": ".py",
   "mimetype": "text/x-python",
   "name": "python",
   "nbconvert_exporter": "python",
   "pygments_lexer": "ipython3",
   "version": "3.9.1"
  }
 },
 "nbformat": 4,
 "nbformat_minor": 5
}
