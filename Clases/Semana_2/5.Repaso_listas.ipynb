{
 "cells": [
  {
   "cell_type": "code",
   "execution_count": 1,
   "id": "372ea954",
   "metadata": {},
   "outputs": [
    {
     "name": "stdout",
     "output_type": "stream",
     "text": [
      "[1, 'Hola', 3, 4, 5, 'Adios']\n"
     ]
    }
   ],
   "source": [
    "#lista con varios tipos de datos\n",
    "v=[1,'Hola',3,4,5,'Adios']\n",
    "print(v)"
   ]
  },
  {
   "cell_type": "code",
   "execution_count": 2,
   "id": "9eddff83",
   "metadata": {},
   "outputs": [
    {
     "name": "stdout",
     "output_type": "stream",
     "text": [
      "[1, 3, 4, 5, [4, 6, 'hola'], 'mundo', 2]\n"
     ]
    }
   ],
   "source": [
    "#lista sobre otra lista\n",
    "a=[1,3,4,5,[4,6,'hola'],'mundo',2]\n",
    "print(a)"
   ]
  },
  {
   "cell_type": "code",
   "execution_count": 3,
   "id": "addc8643",
   "metadata": {},
   "outputs": [
    {
     "name": "stdout",
     "output_type": "stream",
     "text": [
      "[]\n"
     ]
    }
   ],
   "source": [
    "# lista vacia\n",
    "b=[]\n",
    "print(b)"
   ]
  },
  {
   "cell_type": "code",
   "execution_count": 4,
   "id": "afec16a8",
   "metadata": {},
   "outputs": [
    {
     "name": "stdout",
     "output_type": "stream",
     "text": [
      "[1, 'Hola', 3, 4, 5, 'Adios'] [1, 3, 4, 5, [4, 6, 'hola'], 'mundo', 2] []\n"
     ]
    }
   ],
   "source": [
    "#imprimir listas\n",
    "print(v,a,b)"
   ]
  },
  {
   "cell_type": "code",
   "execution_count": 5,
   "id": "9b842827",
   "metadata": {},
   "outputs": [
    {
     "name": "stdout",
     "output_type": "stream",
     "text": [
      "[[1, 'Hola', 3, 4, 5, 'Adios'], [1, 3, 4, 5, [4, 6, 'hola'], 'mundo', 2], []]\n"
     ]
    }
   ],
   "source": [
    "#Crear una nueva lista de otra\n",
    "d=[v,a,b]\n",
    "print(d)"
   ]
  },
  {
   "cell_type": "code",
   "execution_count": 6,
   "id": "d6c052c5",
   "metadata": {},
   "outputs": [
    {
     "name": "stdout",
     "output_type": "stream",
     "text": [
      "[1, 'Hola', 3, 4, 5, 'Adios']\n"
     ]
    }
   ],
   "source": [
    "# Acceder al valor de una lista\n",
    "print(d[0])"
   ]
  },
  {
   "cell_type": "code",
   "execution_count": 7,
   "id": "0e5d5adf",
   "metadata": {},
   "outputs": [
    {
     "name": "stdout",
     "output_type": "stream",
     "text": [
      "Hola\n"
     ]
    }
   ],
   "source": [
    "# Acceder al valor de una lista y el valor de otra lista adentro\n",
    "print(d[0][1])"
   ]
  },
  {
   "cell_type": "code",
   "execution_count": 9,
   "id": "05e531cc",
   "metadata": {},
   "outputs": [
    {
     "name": "stdout",
     "output_type": "stream",
     "text": [
      "[17, 5, 5, 6, 7, 8]\n"
     ]
    }
   ],
   "source": [
    "#las listas son mutables, pueden cambiar el valor\n",
    "numeros = [17, 123,5,6,7,8]\n",
    "numeros[1] = 5\n",
    "print(numeros)"
   ]
  },
  {
   "cell_type": "code",
   "execution_count": 10,
   "id": "5964ab0c",
   "metadata": {},
   "outputs": [
    {
     "ename": "IndexError",
     "evalue": "list index out of range",
     "output_type": "error",
     "traceback": [
      "\u001b[0;31m---------------------------------------------------------------------------\u001b[0m",
      "\u001b[0;31mIndexError\u001b[0m                                Traceback (most recent call last)",
      "\u001b[0;32m<ipython-input-10-de7aa79c54b9>\u001b[0m in \u001b[0;36m<module>\u001b[0;34m\u001b[0m\n\u001b[1;32m      1\u001b[0m \u001b[0;31m#un indice que no existe indexError\u001b[0m\u001b[0;34m\u001b[0m\u001b[0;34m\u001b[0m\u001b[0;34m\u001b[0m\u001b[0m\n\u001b[1;32m      2\u001b[0m \u001b[0mnumeros\u001b[0m \u001b[0;34m=\u001b[0m \u001b[0;34m[\u001b[0m\u001b[0;36m17\u001b[0m\u001b[0;34m,\u001b[0m \u001b[0;36m123\u001b[0m\u001b[0;34m,\u001b[0m\u001b[0;36m5\u001b[0m\u001b[0;34m,\u001b[0m\u001b[0;36m6\u001b[0m\u001b[0;34m,\u001b[0m\u001b[0;36m7\u001b[0m\u001b[0;34m,\u001b[0m\u001b[0;36m8\u001b[0m\u001b[0;34m]\u001b[0m\u001b[0;34m\u001b[0m\u001b[0;34m\u001b[0m\u001b[0m\n\u001b[0;32m----> 3\u001b[0;31m \u001b[0mprint\u001b[0m\u001b[0;34m(\u001b[0m\u001b[0mnumeros\u001b[0m\u001b[0;34m[\u001b[0m\u001b[0;36m10\u001b[0m\u001b[0;34m]\u001b[0m\u001b[0;34m)\u001b[0m\u001b[0;34m\u001b[0m\u001b[0;34m\u001b[0m\u001b[0m\n\u001b[0m",
      "\u001b[0;31mIndexError\u001b[0m: list index out of range"
     ]
    }
   ],
   "source": [
    "#un indice que no existe indexError\n",
    "numeros = [17, 123,5,6,7,8]\n",
    "print(numeros[10])"
   ]
  },
  {
   "cell_type": "code",
   "execution_count": 13,
   "id": "df1dee66",
   "metadata": {},
   "outputs": [
    {
     "name": "stdout",
     "output_type": "stream",
     "text": [
      "8\n"
     ]
    }
   ],
   "source": [
    "#un indice negativo , cuenta hacia atras, el -1 es el ultimo\n",
    "numeros = [17, 123,5,6,7,8]\n",
    "print(numeros[-1])"
   ]
  },
  {
   "cell_type": "code",
   "execution_count": 15,
   "id": "6a9199e2",
   "metadata": {},
   "outputs": [
    {
     "name": "stdout",
     "output_type": "stream",
     "text": [
      "True\n",
      "False\n"
     ]
    }
   ],
   "source": [
    "# El operador in funciona también en listas.\n",
    "quesos = ['Cheddar', 'Edam', 'Gouda']\n",
    "print('Edam' in quesos)\n",
    "print('Brien' in quesos)"
   ]
  },
  {
   "cell_type": "code",
   "execution_count": 16,
   "id": "02228c74",
   "metadata": {},
   "outputs": [
    {
     "name": "stdout",
     "output_type": "stream",
     "text": [
      "Cheddar\n",
      "Edam\n",
      "Gouda\n"
     ]
    }
   ],
   "source": [
    "#recorrer una lista\n",
    "for q in quesos:\n",
    "    print(q)"
   ]
  },
  {
   "cell_type": "code",
   "execution_count": 19,
   "id": "99211c91",
   "metadata": {},
   "outputs": [
    {
     "name": "stdout",
     "output_type": "stream",
     "text": [
      "indice:0, Valor: 34\n",
      "indice:1, Valor: 246\n",
      "indice:2, Valor: 10\n",
      "indice:3, Valor: 12\n",
      "indice:4, Valor: 14\n",
      "indice:5, Valor: 16\n",
      "Fin del ciclo\n"
     ]
    }
   ],
   "source": [
    "#Cambiar el valor de una lista con range y len\n",
    "numeros = [17, 123,5,6,7,8]\n",
    "for i in range(len(numeros)):\n",
    "    numeros[i]=numeros[i]*2\n",
    "    print(\"indice:{}, Valor: {}\".format(i,numeros[i]))\n",
    "print(\"Fin del ciclo\")\n"
   ]
  },
  {
   "cell_type": "code",
   "execution_count": 20,
   "id": "cdea2d4d",
   "metadata": {},
   "outputs": [
    {
     "name": "stdout",
     "output_type": "stream",
     "text": [
      "indice:0, Valor: 34\n",
      "indice:1, Valor: 246\n",
      "indice:2, Valor: 10\n",
      "indice:3, Valor: 12\n",
      "indice:4, Valor: 14\n",
      "indice:5, Valor: 16\n",
      "Fin del ciclo\n"
     ]
    }
   ],
   "source": [
    "#Cambiar el valor de una lista con enumerate\n",
    "numeros = [17, 123,5,6,7,8]\n",
    "for i, n in enumerate(numeros):\n",
    "    numeros[i]=numeros[i]*2\n",
    "    print(\"indice:{}, Valor: {}\".format(i,numeros[i]))\n",
    "print(\"Fin del ciclo\")\n"
   ]
  },
  {
   "cell_type": "code",
   "execution_count": 23,
   "id": "e74fdd7d",
   "metadata": {},
   "outputs": [],
   "source": [
    "vacia=[]\n",
    "for x in vacia:\n",
    "    print('Esto nunca sucede.')"
   ]
  },
  {
   "cell_type": "code",
   "execution_count": 25,
   "id": "61964559",
   "metadata": {},
   "outputs": [
    {
     "name": "stdout",
     "output_type": "stream",
     "text": [
      "[1, 'Hola', 3, 4, 5, 'Adios']\n",
      "[1, 3, 4, 5, [4, 6, 'hola'], 'mundo', 2]\n",
      "[]\n"
     ]
    }
   ],
   "source": [
    "# Recorrer lista anidada\n",
    "d=[[1, 'Hola', 3, 4, 5, 'Adios'], [1, 3, 4, 5, [4, 6, 'hola'], 'mundo', 2], []]\n",
    "for i in d:\n",
    "    print(i)"
   ]
  },
  {
   "cell_type": "code",
   "execution_count": 34,
   "id": "b526f019",
   "metadata": {},
   "outputs": [
    {
     "name": "stdout",
     "output_type": "stream",
     "text": [
      "0   Hola\n",
      "1   1\n",
      "2   Adios\n"
     ]
    }
   ],
   "source": [
    "# Recorrer lista anidada\n",
    "dist=[['Hola', 3, 4, 5, 'Adios'], [1, 3, 4, 5, [4, 6, 'hola'], 'mundo', 2], ['Adios']]\n",
    "for i, d in enumerate(dist):\n",
    "    print(i,\" \",dist[i][0])"
   ]
  },
  {
   "cell_type": "code",
   "execution_count": 35,
   "id": "4ed609f9",
   "metadata": {},
   "outputs": [
    {
     "name": "stdout",
     "output_type": "stream",
     "text": [
      "[1, 2, 3, 4, 5, 6]\n"
     ]
    }
   ],
   "source": [
    "# El operador + concatena listas:\n",
    "a = [1, 2, 3]\n",
    "b = [4, 5, 6]\n",
    "c = a + b\n",
    "print(c)"
   ]
  },
  {
   "cell_type": "code",
   "execution_count": 39,
   "id": "e087128d",
   "metadata": {},
   "outputs": [
    {
     "data": {
      "text/plain": [
       "[0, 0, 0, 0]"
      ]
     },
     "execution_count": 39,
     "metadata": {},
     "output_type": "execute_result"
    }
   ],
   "source": [
    "# De igual forma, el operador * repite una lista un determinado número de veces:\n",
    "[0] * 4"
   ]
  },
  {
   "cell_type": "code",
   "execution_count": 38,
   "id": "bfb0f7e3",
   "metadata": {},
   "outputs": [
    {
     "data": {
      "text/plain": [
       "[1, 2, 3, 1, 2, 3, 1, 2, 3]"
      ]
     },
     "execution_count": 38,
     "metadata": {},
     "output_type": "execute_result"
    }
   ],
   "source": [
    "# De igual forma, el operador * repite una lista un determinado número de veces:\n",
    "[1, 2, 3] * 3"
   ]
  },
  {
   "cell_type": "code",
   "execution_count": 40,
   "id": "dcf1eff6",
   "metadata": {},
   "outputs": [
    {
     "name": "stdout",
     "output_type": "stream",
     "text": [
      "['b', 'c']\n",
      "['a', 'b', 'c', 'd']\n",
      "['d', 'e', 'f']\n",
      "['a', 'b', 'c', 'd', 'e', 'f']\n"
     ]
    }
   ],
   "source": [
    "#Rebanado de listas\n",
    "t = ['a', 'b', 'c', 'd', 'e', 'f']\n",
    "print(t[1:3])\n",
    "print(t[:4])\n",
    "print(t[3:])\n",
    "print(t[:])"
   ]
  },
  {
   "cell_type": "code",
   "execution_count": 42,
   "id": "979be461",
   "metadata": {},
   "outputs": [
    {
     "name": "stdout",
     "output_type": "stream",
     "text": [
      "['a', 'x', 'y', 'd', 'e', 'f']\n"
     ]
    }
   ],
   "source": [
    "#Cambiar dos valores de la lista\n",
    "t[1:3] = ['x', 'y']\n",
    "print(t)"
   ]
  },
  {
   "cell_type": "code",
   "execution_count": 43,
   "id": "9266793a",
   "metadata": {},
   "outputs": [
    {
     "name": "stdout",
     "output_type": "stream",
     "text": [
      "['a', 'b', 'c', 'd']\n"
     ]
    }
   ],
   "source": [
    "#metodo append de la lista agrega un elemento al final\n",
    "t = ['a', 'b', 'c']\n",
    "t.append('d')\n",
    "print(t)"
   ]
  },
  {
   "cell_type": "code",
   "execution_count": 44,
   "id": "d16483d9",
   "metadata": {},
   "outputs": [
    {
     "name": "stdout",
     "output_type": "stream",
     "text": [
      "['a', 'b', 'c', 'd', 'e']\n"
     ]
    }
   ],
   "source": [
    "# extend toma una lista como argumento y agrega todos los elementos:\n",
    "t1 = ['a', 'b', 'c']\n",
    "t2 = ['d', 'e']\n",
    "t1.extend(t2)\n",
    "print(t1)"
   ]
  },
  {
   "cell_type": "code",
   "execution_count": 46,
   "id": "ab669e92",
   "metadata": {},
   "outputs": [
    {
     "name": "stdout",
     "output_type": "stream",
     "text": [
      "['a', 'b', 'c', 'd', 'e']\n"
     ]
    }
   ],
   "source": [
    "# Cocatenar con +\n",
    "t1 = ['a', 'b', 'c']\n",
    "t2 = ['d', 'e']\n",
    "t1=t1+t2\n",
    "print(t1)"
   ]
  },
  {
   "cell_type": "code",
   "execution_count": 51,
   "id": "cd7c01c1",
   "metadata": {},
   "outputs": [
    {
     "name": "stdout",
     "output_type": "stream",
     "text": [
      "['a', 'b', 'c', 'd', 'e']\n"
     ]
    }
   ],
   "source": [
    "# sort ordena los elementos de la lista de menor a mayor:\n",
    "t = ['d', 'c', 'e', 'b', 'a']\n",
    "t.sort()\n",
    "print(t)"
   ]
  },
  {
   "cell_type": "code",
   "execution_count": 50,
   "id": "cea0612e",
   "metadata": {},
   "outputs": [
    {
     "ename": "AttributeError",
     "evalue": "'NoneType' object has no attribute 'sort'",
     "output_type": "error",
     "traceback": [
      "\u001b[0;31m---------------------------------------------------------------------------\u001b[0m",
      "\u001b[0;31mAttributeError\u001b[0m                            Traceback (most recent call last)",
      "\u001b[0;32m<ipython-input-50-043febbdc5eb>\u001b[0m in \u001b[0;36m<module>\u001b[0;34m\u001b[0m\n\u001b[1;32m      1\u001b[0m \u001b[0;31m# La mayoría de métodos no regresan nada; modifican la lista y regresan None. Si\u001b[0m\u001b[0;34m\u001b[0m\u001b[0;34m\u001b[0m\u001b[0;34m\u001b[0m\u001b[0m\n\u001b[1;32m      2\u001b[0m \u001b[0;31m# accidentalmentes escribes t = t.sort(), vas a decepcionarte con el resultado.\u001b[0m\u001b[0;34m\u001b[0m\u001b[0;34m\u001b[0m\u001b[0;34m\u001b[0m\u001b[0m\n\u001b[0;32m----> 3\u001b[0;31m \u001b[0mt\u001b[0m \u001b[0;34m=\u001b[0m \u001b[0mt\u001b[0m\u001b[0;34m.\u001b[0m\u001b[0msort\u001b[0m\u001b[0;34m(\u001b[0m\u001b[0;34m)\u001b[0m\u001b[0;34m\u001b[0m\u001b[0;34m\u001b[0m\u001b[0m\n\u001b[0m\u001b[1;32m      4\u001b[0m \u001b[0mprint\u001b[0m\u001b[0;34m(\u001b[0m\u001b[0mt\u001b[0m\u001b[0;34m)\u001b[0m\u001b[0;34m\u001b[0m\u001b[0;34m\u001b[0m\u001b[0m\n",
      "\u001b[0;31mAttributeError\u001b[0m: 'NoneType' object has no attribute 'sort'"
     ]
    }
   ],
   "source": [
    "# La mayoría de métodos no regresan nada; modifican la lista y regresan None. Si\n",
    "# accidentalmentes escribes t = t.sort(), vas a decepcionarte con el resultado.\n",
    "t = t.sort()\n",
    "print(t)"
   ]
  },
  {
   "cell_type": "code",
   "execution_count": 52,
   "id": "d15312f9",
   "metadata": {},
   "outputs": [
    {
     "name": "stdout",
     "output_type": "stream",
     "text": [
      "['a', 'c']\n",
      "b\n"
     ]
    }
   ],
   "source": [
    "# Hay varias formas de eliminar elementos de una lista. Si sabes el índice del elemento que quieres, puedes usar pop:\n",
    "t = ['a', 'b', 'c']\n",
    "x = t.pop(1)\n",
    "print(t)\n",
    "print(x)"
   ]
  },
  {
   "cell_type": "code",
   "execution_count": 53,
   "id": "df982594",
   "metadata": {},
   "outputs": [
    {
     "name": "stdout",
     "output_type": "stream",
     "text": [
      "['a', 'b']\n",
      "c\n"
     ]
    }
   ],
   "source": [
    "#Si no se dabe el indice y no se pasa a pop, este elimina el ultimo elemento de la lista\n",
    "t = ['a', 'b', 'c']\n",
    "x = t.pop()\n",
    "print(t)\n",
    "print(x)"
   ]
  },
  {
   "cell_type": "code",
   "execution_count": 54,
   "id": "c012813a",
   "metadata": {},
   "outputs": [
    {
     "name": "stdout",
     "output_type": "stream",
     "text": [
      "['a', 'c']\n"
     ]
    }
   ],
   "source": [
    "# Si no necesitas el valor removido, puedes usar el operador del:\n",
    "t = ['a', 'b', 'c']\n",
    "del t[1]\n",
    "print(t)"
   ]
  },
  {
   "cell_type": "code",
   "execution_count": 55,
   "id": "e5f49db6",
   "metadata": {},
   "outputs": [
    {
     "name": "stdout",
     "output_type": "stream",
     "text": [
      "['a', 'c']\n"
     ]
    }
   ],
   "source": [
    "# Si sabes qué elemento quieres remover (pero no sabes el índice), puedes usar remove:\n",
    "t = ['a', 'b', 'c']\n",
    "t.remove('b')\n",
    "print(t)"
   ]
  },
  {
   "cell_type": "code",
   "execution_count": 56,
   "id": "1881efd4",
   "metadata": {},
   "outputs": [
    {
     "name": "stdout",
     "output_type": "stream",
     "text": [
      "[5, 6, 7, 2]\n"
     ]
    }
   ],
   "source": [
    "# Si sabes qué elemento quieres remover (pero no sabes el índice), puedes usar remove:\n",
    "t = [5,6,7,2,1]\n",
    "mini=min(t)\n",
    "t.remove(mini)\n",
    "print(t)"
   ]
  },
  {
   "cell_type": "code",
   "execution_count": 57,
   "id": "db741dc0",
   "metadata": {},
   "outputs": [
    {
     "name": "stdout",
     "output_type": "stream",
     "text": [
      "['a', 'f']\n"
     ]
    }
   ],
   "source": [
    "# Para remover más de un elemento, puedes usar del con un índice de rebanado:\n",
    "t = ['a', 'b', 'c', 'd', 'e', 'f']\n",
    "del t[1:5]\n",
    "print(t)"
   ]
  },
  {
   "cell_type": "code",
   "execution_count": 58,
   "id": "f17e51b6",
   "metadata": {},
   "outputs": [
    {
     "name": "stdout",
     "output_type": "stream",
     "text": [
      "6\n"
     ]
    }
   ],
   "source": [
    "#Funciones de la lista: LEN, cantidad de elementos\n",
    "nums = [3, 41, 12, 9, 74, 15]\n",
    "print(len(nums))"
   ]
  },
  {
   "cell_type": "code",
   "execution_count": 59,
   "id": "b3ddcff7",
   "metadata": {},
   "outputs": [
    {
     "name": "stdout",
     "output_type": "stream",
     "text": [
      "74\n"
     ]
    }
   ],
   "source": [
    "#Funciones de la lista: MAX numero maximo\n",
    "nums = [3, 41, 12, 9, 74, 15]\n",
    "print(max(nums))"
   ]
  },
  {
   "cell_type": "code",
   "execution_count": 60,
   "id": "74864b6b",
   "metadata": {},
   "outputs": [
    {
     "name": "stdout",
     "output_type": "stream",
     "text": [
      "3\n"
     ]
    }
   ],
   "source": [
    "#Funciones de la lista: MIN numero minimo\n",
    "nums = [3, 41, 12, 9, 74, 15]\n",
    "print(min(nums))"
   ]
  },
  {
   "cell_type": "code",
   "execution_count": 62,
   "id": "f6d0dc7b",
   "metadata": {},
   "outputs": [
    {
     "name": "stdout",
     "output_type": "stream",
     "text": [
      "154\n"
     ]
    }
   ],
   "source": [
    "#Funciones de la lista: SUM, suma todos los numeros de la lista\n",
    "nums = [3, 41, 12, 9, 74, 15]\n",
    "print(sum(nums))"
   ]
  },
  {
   "cell_type": "code",
   "execution_count": 66,
   "id": "afcf1d16",
   "metadata": {},
   "outputs": [
    {
     "name": "stdout",
     "output_type": "stream",
     "text": [
      "25.666666666666668\n"
     ]
    }
   ],
   "source": [
    "#Funciones de la lista: SUM, suma todos los numeros de la lista y divide en el total de elementos\n",
    "nums = [3, 41, 12, 9, 74, 15]\n",
    "print(sum(nums)/len(nums))"
   ]
  },
  {
   "cell_type": "code",
   "execution_count": 67,
   "id": "5e582b78",
   "metadata": {},
   "outputs": [
    {
     "name": "stdout",
     "output_type": "stream",
     "text": [
      "Ingresa un número: 5\n",
      "Ingresa un número: 6\n",
      "Ingresa un número: 7\n",
      "Ingresa un número: fin\n",
      "Promedio: 6.0\n"
     ]
    }
   ],
   "source": [
    "# Primero, el programa para calcular un promedio de numeros sin utilizar una lista:\n",
    "total = 0\n",
    "contador = 0\n",
    "while (True):\n",
    "    inp = input('Ingresa un número: ')\n",
    "    if inp == 'fin': break\n",
    "    valor = float(inp)\n",
    "    total = total + valor\n",
    "    contador = contador + 1\n",
    "promedio = total / contador\n",
    "print('Promedio:', promedio)"
   ]
  },
  {
   "cell_type": "code",
   "execution_count": 76,
   "id": "0086a82a",
   "metadata": {},
   "outputs": [
    {
     "name": "stdout",
     "output_type": "stream",
     "text": [
      "Ingresa un número: 5\n",
      "Ingresa un número: 5\n",
      "Ingresa un número: fin\n",
      "Promedio: 5.0\n"
     ]
    }
   ],
   "source": [
    "# Primero, el programa para calcular un promedio de numeros sin utilizar una lista:\n",
    "numlista = list()\n",
    "while (True):\n",
    "    inp = input('Ingresa un número: ')\n",
    "    if inp == 'fin':break\n",
    "    valor=float(inp)\n",
    "    numlista.append(valor)\n",
    "promedio = sum(numlista) / len(numlista)\n",
    "print('Promedio:', promedio)"
   ]
  },
  {
   "cell_type": "code",
   "execution_count": 80,
   "id": "435af0f5",
   "metadata": {},
   "outputs": [
    {
     "name": "stdout",
     "output_type": "stream",
     "text": [
      "Ingresa un número: 5\n",
      "Ingresa un número: 5\n",
      "Ingresa un número: fin\n",
      "Promedio: 5.0\n"
     ]
    }
   ],
   "source": [
    "# Primero, el programa para calcular un promedio de numeros sin utilizar una lista:\n",
    "numlista = list()\n",
    "while (True):\n",
    "    try:\n",
    "        inp = input('Ingresa un número: ')\n",
    "        if inp == 'fin':break\n",
    "        valor=float(inp)\n",
    "        numlista.append(valor)\n",
    "    except:\n",
    "        print(\"Dato incorrecto\")\n",
    "promedio = sum(numlista) / len(numlista)\n",
    "print('Promedio:', promedio)"
   ]
  },
  {
   "cell_type": "code",
   "execution_count": 81,
   "id": "df23428e",
   "metadata": {},
   "outputs": [
    {
     "name": "stdout",
     "output_type": "stream",
     "text": [
      "['s', 'p', 'a', 'm']\n"
     ]
    }
   ],
   "source": [
    "#Convertir cadena caracteres en una lista\n",
    "s = 'spam'\n",
    "t = list(s)\n",
    "print(t)"
   ]
  },
  {
   "cell_type": "code",
   "execution_count": 82,
   "id": "c7fdd167",
   "metadata": {},
   "outputs": [
    {
     "name": "stdout",
     "output_type": "stream",
     "text": [
      "['suspirando', 'por', 'los', 'fiordos']\n",
      "los\n"
     ]
    }
   ],
   "source": [
    "# La función list divide una cadena en letras individuales. Si quieres dividir una\n",
    "# cadena en palabras, puedes utilizar el método split:\n",
    "s = 'suspirando por los fiordos'\n",
    "t = s.split()\n",
    "print(t)\n",
    "print(t[2])"
   ]
  },
  {
   "cell_type": "code",
   "execution_count": 86,
   "id": "8c0d4d90",
   "metadata": {},
   "outputs": [
    {
     "data": {
      "text/plain": [
       "['spam', 'spam', 'spam']"
      ]
     },
     "execution_count": 86,
     "metadata": {},
     "output_type": "execute_result"
    }
   ],
   "source": [
    "#Split con un delimitador\n",
    "s = 'spam-spam-spam'\n",
    "delimiter = '-'\n",
    "s.split(delimiter)"
   ]
  },
  {
   "cell_type": "code",
   "execution_count": 84,
   "id": "c19ce9d5",
   "metadata": {},
   "outputs": [
    {
     "name": "stdout",
     "output_type": "stream",
     "text": [
      "['spam', 'spam', 'spam']\n"
     ]
    }
   ],
   "source": [
    "#Split con un delimitador\n",
    "s = 'spam-spam-spam'\n",
    "delimiter = '-'\n",
    "a=s.split(delimiter)\n",
    "print(a)"
   ]
  },
  {
   "cell_type": "code",
   "execution_count": 90,
   "id": "cc2152af",
   "metadata": {},
   "outputs": [
    {
     "name": "stdout",
     "output_type": "stream",
     "text": [
      "suspirando por los fiordos\n"
     ]
    }
   ],
   "source": [
    "#Join; une las cadenas de una lista de cadena\n",
    "t = ['suspirando', 'por', 'los', 'fiordos']\n",
    "delimiter = ' '\n",
    "a=delimiter.join(t)\n",
    "print(a)"
   ]
  },
  {
   "cell_type": "code",
   "execution_count": 93,
   "id": "d1ce1378",
   "metadata": {},
   "outputs": [
    {
     "ename": "TypeError",
     "evalue": "sequence item 0: expected str instance, int found",
     "output_type": "error",
     "traceback": [
      "\u001b[0;31m---------------------------------------------------------------------------\u001b[0m",
      "\u001b[0;31mTypeError\u001b[0m                                 Traceback (most recent call last)",
      "\u001b[0;32m<ipython-input-93-30837558c625>\u001b[0m in \u001b[0;36m<module>\u001b[0;34m\u001b[0m\n\u001b[1;32m      2\u001b[0m \u001b[0mt\u001b[0m \u001b[0;34m=\u001b[0m \u001b[0;34m[\u001b[0m\u001b[0;36m2\u001b[0m\u001b[0;34m,\u001b[0m\u001b[0;36m3\u001b[0m\u001b[0;34m,\u001b[0m\u001b[0;36m4\u001b[0m\u001b[0;34m,\u001b[0m\u001b[0;36m5\u001b[0m\u001b[0;34m]\u001b[0m\u001b[0;34m\u001b[0m\u001b[0;34m\u001b[0m\u001b[0m\n\u001b[1;32m      3\u001b[0m \u001b[0mdelimiter\u001b[0m \u001b[0;34m=\u001b[0m \u001b[0;34m' '\u001b[0m\u001b[0;34m\u001b[0m\u001b[0;34m\u001b[0m\u001b[0m\n\u001b[0;32m----> 4\u001b[0;31m \u001b[0ma\u001b[0m\u001b[0;34m=\u001b[0m\u001b[0mdelimiter\u001b[0m\u001b[0;34m.\u001b[0m\u001b[0mjoin\u001b[0m\u001b[0;34m(\u001b[0m\u001b[0mt\u001b[0m\u001b[0;34m)\u001b[0m\u001b[0;34m\u001b[0m\u001b[0;34m\u001b[0m\u001b[0m\n\u001b[0m\u001b[1;32m      5\u001b[0m \u001b[0mprint\u001b[0m\u001b[0;34m(\u001b[0m\u001b[0ma\u001b[0m\u001b[0;34m)\u001b[0m\u001b[0;34m\u001b[0m\u001b[0;34m\u001b[0m\u001b[0m\n",
      "\u001b[0;31mTypeError\u001b[0m: sequence item 0: expected str instance, int found"
     ]
    }
   ],
   "source": [
    "#Join; une las cadenas de una lista de cadena, numeros no funciona\n",
    "t = [2,3,4,5]\n",
    "delimiter = ' '\n",
    "a=delimiter.join(t)\n",
    "print(a)"
   ]
  },
  {
   "cell_type": "code",
   "execution_count": 94,
   "id": "aef10bf0",
   "metadata": {},
   "outputs": [
    {
     "data": {
      "text/plain": [
       "True"
      ]
     },
     "execution_count": 94,
     "metadata": {},
     "output_type": "execute_result"
    }
   ],
   "source": [
    "# Objetos y variables\n",
    "# Para revisar si dos variables apuntan al mismo objeto, puedes utilizar el operador is.\n",
    "a = 'banana'\n",
    "b = 'banana'\n",
    "a is b"
   ]
  },
  {
   "cell_type": "code",
   "execution_count": 96,
   "id": "65b6f026",
   "metadata": {},
   "outputs": [
    {
     "data": {
      "text/plain": [
       "False"
      ]
     },
     "execution_count": 96,
     "metadata": {},
     "output_type": "execute_result"
    }
   ],
   "source": [
    "#Ambos objetos tienen mismo elementos, pero no son equivalentes, son distintos objetos\n",
    "a = [1, 2, 3]\n",
    "b = [1, 2, 3]\n",
    "a is b"
   ]
  },
  {
   "cell_type": "code",
   "execution_count": 97,
   "id": "9325579a",
   "metadata": {},
   "outputs": [
    {
     "data": {
      "text/plain": [
       "True"
      ]
     },
     "execution_count": 97,
     "metadata": {},
     "output_type": "execute_result"
    }
   ],
   "source": [
    "#Si decimos que a = b, son objetos equivalentes\n",
    "a = [1, 2, 3]\n",
    "b=a\n",
    "a is b"
   ]
  },
  {
   "cell_type": "code",
   "execution_count": 98,
   "id": "542706fb",
   "metadata": {},
   "outputs": [
    {
     "name": "stdout",
     "output_type": "stream",
     "text": [
      "[17, 2, 3]\n"
     ]
    }
   ],
   "source": [
    "# Si el alias del objeto es mutable, los cambios hechos a un alias afectan al otro:\n",
    "b[0] = 17\n",
    "print(a)"
   ]
  },
  {
   "cell_type": "code",
   "execution_count": 99,
   "id": "eb480a60",
   "metadata": {},
   "outputs": [
    {
     "name": "stdout",
     "output_type": "stream",
     "text": [
      "['b', 'c']\n"
     ]
    }
   ],
   "source": [
    "#listas como argumento\n",
    "def remover_primero(t):\n",
    "    del t[0]\n",
    "\n",
    "letras = ['a', 'b', 'c']\n",
    "remover_primero(letras)\n",
    "print(letras)"
   ]
  },
  {
   "cell_type": "code",
   "execution_count": 103,
   "id": "bd7e1519",
   "metadata": {},
   "outputs": [
    {
     "name": "stdout",
     "output_type": "stream",
     "text": [
      "[1, 2, 3]\n",
      "None\n"
     ]
    }
   ],
   "source": [
    "# Es importante distinguir entre operaciones que modifican listas y operaciones que\n",
    "# crean nuevas listas. Por ejemplo, el método append modifica una lista, pero el\n",
    "\n",
    "t1 = [1, 2]\n",
    "t2 = t1.append(3)\n",
    "print(t1)\n",
    "print(t2)"
   ]
  },
  {
   "cell_type": "code",
   "execution_count": 104,
   "id": "00d2bb7e",
   "metadata": {},
   "outputs": [
    {
     "name": "stdout",
     "output_type": "stream",
     "text": [
      "[1, 2, 3, 3]\n"
     ]
    },
    {
     "data": {
      "text/plain": [
       "False"
      ]
     },
     "execution_count": 104,
     "metadata": {},
     "output_type": "execute_result"
    }
   ],
   "source": [
    "# operador + crea una nueva lista:\n",
    "t3 = t1 + [3]\n",
    "print(t3)\n",
    "t2 is t3"
   ]
  },
  {
   "cell_type": "code",
   "execution_count": 108,
   "id": "a9c07fed",
   "metadata": {},
   "outputs": [
    {
     "name": "stdout",
     "output_type": "stream",
     "text": [
      "['a', 'b', 'c']\n",
      "['b', 'c']\n"
     ]
    }
   ],
   "source": [
    "#operador de rebanado crea una nueva lista, no modifica la que se pasa como argumento\n",
    "def mal_eliminar_primero(t):\n",
    "    t = t[1:]\n",
    "    return t\n",
    "    \n",
    "letras = ['a', 'b', 'c']\n",
    "a=mal_eliminar_primero(letras)\n",
    "print(letras)\n",
    "print(a)"
   ]
  },
  {
   "cell_type": "code",
   "execution_count": 112,
   "id": "26a4d061",
   "metadata": {},
   "outputs": [
    {
     "name": "stdout",
     "output_type": "stream",
     "text": [
      "['a', 'b', 'c']\n",
      "['b', 'c']\n"
     ]
    }
   ],
   "source": [
    "# Una alternativa es escribir una función que cree y regrese una nueva lista. Por\n",
    "# ejemplo, cola regresa todo excepto el primer elemento de una lista:\n",
    "# Esta función deja la lista original sin modificar. Aquí está como es que se usa:\n",
    "def cola(t):\n",
    "    return t[1:]\n",
    "\n",
    "letras = ['a', 'b', 'c']\n",
    "resto=mal_eliminar_primero(letras)\n",
    "print(letras)\n",
    "print(resto)"
   ]
  },
  {
   "cell_type": "code",
   "execution_count": 116,
   "id": "977d46a9",
   "metadata": {},
   "outputs": [
    {
     "name": "stdout",
     "output_type": "stream",
     "text": [
      "['b']\n",
      "None\n"
     ]
    }
   ],
   "source": [
    "# Ejercicio 1: Escribe una función llamada recortar que toma una lista y la modi-\n",
    "# fica, removiendo el primer y último elemento, y regresa None.\n",
    "def recortar(t):\n",
    "    del t[0]\n",
    "    del t[-1]\n",
    "\n",
    "letras = ['a', 'b', 'c']\n",
    "resul=recortar(letras)\n",
    "print(letras)\n",
    "print(resul)"
   ]
  },
  {
   "cell_type": "code",
   "execution_count": 117,
   "id": "d5745365",
   "metadata": {},
   "outputs": [
    {
     "name": "stdout",
     "output_type": "stream",
     "text": [
      "['a', 'b', 'c']\n",
      "['b']\n"
     ]
    }
   ],
   "source": [
    "#  Después escribe una función llamada medio que toma una lista y regresa una nueva lista que contiene\n",
    "# todo excepto el primero y último elementos.\n",
    "\n",
    "def medio(t):\n",
    "    t=t[1:-1]\n",
    "    return t\n",
    "\n",
    "letras = ['a', 'b', 'c']\n",
    "resul=medio(letras)\n",
    "print(letras)\n",
    "print(resul)"
   ]
  },
  {
   "cell_type": "code",
   "execution_count": 119,
   "id": "bbe681fd",
   "metadata": {},
   "outputs": [
    {
     "ename": "TypeError",
     "evalue": "can only concatenate list (not \"str\") to list",
     "output_type": "error",
     "traceback": [
      "\u001b[0;31m---------------------------------------------------------------------------\u001b[0m",
      "\u001b[0;31mTypeError\u001b[0m                                 Traceback (most recent call last)",
      "\u001b[0;32m<ipython-input-119-a8f6a2e3c7ef>\u001b[0m in \u001b[0;36m<module>\u001b[0;34m\u001b[0m\n\u001b[1;32m      1\u001b[0m \u001b[0;31m# Error tiempo de ejecucion\u001b[0m\u001b[0;34m\u001b[0m\u001b[0;34m\u001b[0m\u001b[0;34m\u001b[0m\u001b[0m\n\u001b[0;32m----> 2\u001b[0;31m \u001b[0mt\u001b[0m \u001b[0;34m=\u001b[0m \u001b[0mt\u001b[0m \u001b[0;34m+\u001b[0m \u001b[0mx\u001b[0m\u001b[0;34m\u001b[0m\u001b[0;34m\u001b[0m\u001b[0m\n\u001b[0m",
      "\u001b[0;31mTypeError\u001b[0m: can only concatenate list (not \"str\") to list"
     ]
    }
   ],
   "source": [
    "# Error tiempo de ejecucion \n",
    "t = t + x"
   ]
  },
  {
   "cell_type": "code",
   "execution_count": 129,
   "id": "067c985b",
   "metadata": {},
   "outputs": [
    {
     "name": "stdout",
     "output_type": "stream",
     "text": [
      "[1, 2, 3, 3, 6, 7, 67]\n"
     ]
    }
   ],
   "source": [
    "#Sorted: crea una  nueva lista de la original ordenada\n",
    "lista=[2,6,3,67,7,3,1]\n",
    "listas=sorted(lista)\n",
    "print(listas)"
   ]
  }
 ],
 "metadata": {
  "kernelspec": {
   "display_name": "Python 3",
   "language": "python",
   "name": "python3"
  },
  "language_info": {
   "codemirror_mode": {
    "name": "ipython",
    "version": 3
   },
   "file_extension": ".py",
   "mimetype": "text/x-python",
   "name": "python",
   "nbconvert_exporter": "python",
   "pygments_lexer": "ipython3",
   "version": "3.9.1"
  }
 },
 "nbformat": 4,
 "nbformat_minor": 5
}
