{
 "cells": [
  {
   "cell_type": "code",
   "execution_count": 1,
   "id": "bcbece81",
   "metadata": {},
   "outputs": [
    {
     "name": "stdout",
     "output_type": "stream",
     "text": [
      "True\n"
     ]
    }
   ],
   "source": [
    "x=isinstance(5,int)\n",
    "print(x)"
   ]
  },
  {
   "cell_type": "markdown",
   "id": "b5d23597",
   "metadata": {},
   "source": [
    "Fíjate en la técnica recursiva: si elemento es una lista, la función vuelve a llamarse a sí misma, pero esta vez sobre una lista anidada en el siguiente nivel de profundidad. Y así sucesivamente, ahondando todo lo necesario hasta que no quede un entero sin imprimir."
   ]
  },
  {
   "cell_type": "code",
   "execution_count": 16,
   "id": "69358f19",
   "metadata": {},
   "outputs": [
    {
     "name": "stdout",
     "output_type": "stream",
     "text": [
      "1\n",
      "2\n",
      "4\n",
      "5\n",
      "6\n",
      "No es un entero\n"
     ]
    }
   ],
   "source": [
    "def imprimir(lista):\n",
    "    listas=[]\n",
    "    for elemento in lista:\n",
    "        if isinstance(elemento, int):\n",
    "#             imprimir(elemento)\n",
    "            print(elemento)\n",
    "        else:\n",
    "            print(\"No es un entero\")\n",
    "#             print(elemento)\n",
    "    \n",
    "\n",
    "            \n",
    "lista=[1,2,4,5,6,'Hola']\n",
    "elemento=\"HOla mundo\"\n",
    "imprimir(lista)\n",
    "# imprimir(elemento)\n",
    "# lista_anidada = [1, [2, [3, 4, [5, 6], 7]], 8, [9, 10]]\n",
    "# imprimir(lista_anidada)"
   ]
  },
  {
   "cell_type": "code",
   "execution_count": 50,
   "id": "3392d1ce",
   "metadata": {},
   "outputs": [
    {
     "name": "stdout",
     "output_type": "stream",
     "text": [
      "1\n",
      "La suma es: 1\n",
      "El valor promedio es: 1.0\n",
      "22.5\n",
      "La suma es: 23.5\n",
      "El valor promedio es: 11.75\n",
      "3\n",
      "La suma es: 26.5\n",
      "El valor promedio es: 8.833333333333334\n",
      "45\n",
      "La suma es: 71.5\n",
      "El valor promedio es: 17.875\n",
      "La suma es: 71.5\n",
      "El valor promedio es: 17.875\n",
      "78\n",
      "La suma es: 149.5\n",
      "El valor promedio es: 29.9\n",
      "2\n",
      "La suma es: 151.5\n",
      "El valor promedio es: 25.25\n"
     ]
    }
   ],
   "source": [
    "# Ejemplo: calcular la suma y el promedio de todos los elementos numéricos de la lista\n",
    "\n",
    "src_list = [1,22.5,3,45,'ab',78,2]\n",
    "suma = 0\n",
    "count = 0\n",
    "for ele in src_list:\n",
    "    if isinstance (ele, int) or isinstance (ele, float): # Si el elemento es un entero o un punto flotante\n",
    "        print(ele)\n",
    "        suma += ele\n",
    "        count += 1\n",
    " \n",
    "    print ('La suma es:', suma)\n",
    "    print ('El valor promedio es:', suma / count)"
   ]
  },
  {
   "cell_type": "code",
   "execution_count": 57,
   "id": "03752e2f",
   "metadata": {},
   "outputs": [
    {
     "name": "stdout",
     "output_type": "stream",
     "text": [
      "1\n",
      "4\n",
      "5\n",
      "hola  no es de tipo entero, ni de tipo flotante\n",
      "1.4\n",
      "[1, 4, 5, 'hola', 1.4]\n"
     ]
    }
   ],
   "source": [
    "# Si el parámetro de tipo es una tupla, esta función devolverá True\n",
    "# si el objeto es uno de los tipos de la tupla.\n",
    "tupla=[1,4,5,\"hola\",1.4]\n",
    "for i in tupla:\n",
    "    if isinstance(i,int) or isinstance(i,float):\n",
    "        print(i)\n",
    "    else:\n",
    "        print(i,\" no es de tipo entero, ni de tipo flotante\")\n",
    "print(tupla)"
   ]
  },
  {
   "cell_type": "markdown",
   "id": "7d444ef3",
   "metadata": {},
   "source": [
    "En Python, la función zip devuelve un iterador de tuplas donde cada tupla contiene los valores de la misma posición de dos o más elementos iterables, como las listas."
   ]
  },
  {
   "cell_type": "code",
   "execution_count": 64,
   "id": "4abda0a5",
   "metadata": {},
   "outputs": [
    {
     "name": "stdout",
     "output_type": "stream",
     "text": [
      "Tupla en cada iteracion\n",
      "1 4\n",
      "2 5\n",
      "3 6\n",
      "\n",
      "Valores en cada iteracion\n",
      "1 4\n",
      "2 5\n",
      "3 6\n"
     ]
    }
   ],
   "source": [
    "lista_a = [1, 2, 3]\n",
    "lista_b = [4, 5, 6]\n",
    "\n",
    "print(\"Tupla en cada iteracion\")\n",
    "for tupla in zip(lista_a, lista_b): #obtenemos la tupla en cada iteración\n",
    "\tprint(tupla[0], tupla[1])\n",
    "\n",
    "print(\"\\nValores en cada iteracion\")\n",
    "for valor_a, valor_b in zip(lista_a, lista_b): #obtenemos los valores en cada iteración\n",
    "\tprint(valor_a, valor_b)"
   ]
  },
  {
   "cell_type": "code",
   "execution_count": 68,
   "id": "e7a9c0d7",
   "metadata": {},
   "outputs": [
    {
     "data": {
      "text/plain": [
       "1"
      ]
     },
     "execution_count": 68,
     "metadata": {},
     "output_type": "execute_result"
    }
   ],
   "source": [
    "# Listas\n",
    "lista=[1,9,3,'Hola']\n",
    "lista[0]"
   ]
  },
  {
   "cell_type": "code",
   "execution_count": 75,
   "id": "eb044e8a",
   "metadata": {},
   "outputs": [
    {
     "data": {
      "text/plain": [
       "1"
      ]
     },
     "execution_count": 75,
     "metadata": {},
     "output_type": "execute_result"
    }
   ],
   "source": [
    "# Tupla\n",
    "tupla=(1,9,3,'Hola')\n",
    "tupla[0]"
   ]
  },
  {
   "cell_type": "code",
   "execution_count": 1,
   "id": "6cf16715",
   "metadata": {},
   "outputs": [
    {
     "name": "stdout",
     "output_type": "stream",
     "text": [
      "['juan', 53, (25, 11, 1999)]\n",
      "['juan', 53, (25, 11, 1999), (1, 1, 2016)]\n"
     ]
    }
   ],
   "source": [
    "empleado=[\"juan\", 53, (25, 11, 1999)]\n",
    "print(empleado)\n",
    "empleado.append((1, 1, 2016))\n",
    "print(empleado)"
   ]
  },
  {
   "cell_type": "code",
   "execution_count": 100,
   "id": "ee55d017",
   "metadata": {},
   "outputs": [
    {
     "name": "stdout",
     "output_type": "stream",
     "text": [
      "1\n",
      "9\n",
      "3\n",
      "Hola\n"
     ]
    }
   ],
   "source": [
    "# Diccionario\n",
    "diccionario={'a':1,'b':9,'c':3,'d':'Hola'}\n",
    "for i in diccionario:\n",
    "#     print(i[0])\n",
    "    print(diccionario[i])\n",
    "#     if isinstance(i[0].value,int):\n",
    "#         print(i)\n",
    "#     else:\n",
    "#         print(\"Fin\")"
   ]
  },
  {
   "cell_type": "code",
   "execution_count": 4,
   "id": "56b016c6",
   "metadata": {},
   "outputs": [
    {
     "name": "stdout",
     "output_type": "stream",
     "text": [
      "The original tuple : (4, 5, 6)\n",
      "Is variable tuple ? : True\n"
     ]
    }
   ],
   "source": [
    "# Python3 code to demonstrate working of\n",
    "# Check if variable is tuple\n",
    "# using isinstance()\n",
    "  \n",
    "# initialize tuple\n",
    "# printing original tuple\n",
    "print(\"The original tuple : \" + str(test_tup))\n",
    "  \n",
    "# Check if variable is tuple\n",
    "# using isinstance()\n",
    "res = isinstance(test_tup, tuple) \n",
    "  \n",
    "# printing result\n",
    "print(\"Is variable tuple ? : \" + str(res))"
   ]
  },
  {
   "cell_type": "code",
   "execution_count": 5,
   "id": "bb91b2c0",
   "metadata": {},
   "outputs": [
    {
     "name": "stdout",
     "output_type": "stream",
     "text": [
      "True\n"
     ]
    }
   ],
   "source": [
    "numbers = [1, 2, 3, 4, 2, 5]\n",
    "\n",
    "# check if numbers is instance of list\n",
    "result = isinstance(numbers, list)\n",
    "print(result)"
   ]
  },
  {
   "cell_type": "code",
   "execution_count": 6,
   "id": "4b7d0713",
   "metadata": {},
   "outputs": [
    {
     "name": "stdout",
     "output_type": "stream",
     "text": [
      "True\n"
     ]
    }
   ],
   "source": [
    "# Compruebe si \"Hola\" es uno de los tipos descritos en el parámetro de tipo:\n",
    "\n",
    "x = isinstance(\"Hello\", (float, int, str, list, dict, tuple))\n",
    "print(x)"
   ]
  },
  {
   "cell_type": "code",
   "execution_count": 7,
   "id": "97e99a18",
   "metadata": {},
   "outputs": [
    {
     "name": "stdout",
     "output_type": "stream",
     "text": [
      "True\n"
     ]
    }
   ],
   "source": [
    "# Compruebe si y es una instancia de myObj:\n",
    "\n",
    "class myObj:\n",
    "  name = \"John\"\n",
    "\n",
    "y = myObj()\n",
    "\n",
    "x = isinstance(y, myObj)\n",
    "print(x)"
   ]
  },
  {
   "cell_type": "code",
   "execution_count": 8,
   "id": "a8c86620",
   "metadata": {},
   "outputs": [
    {
     "name": "stdout",
     "output_type": "stream",
     "text": [
      "[1, 2, 3, 4, 5, 6, '7', '8', 9, 10, 11, 12]\n"
     ]
    }
   ],
   "source": [
    "# '' 'Eliminar los elementos de una lista, algunos de los cuales pueden ser listas o antepasados' ''\n",
    " \n",
    "def myextend(alist):\n",
    "    blist = []\n",
    "    for item in alist:\n",
    "        if isinstance(item, (list, tuple)):\n",
    "            blist.extend(myextend(item))\n",
    "        else:\n",
    "            blist.append(item)\n",
    "    return blist\n",
    " \n",
    "alist = [1, 2, [3, 4], 5, [6, [\"7\", \"8\"], 9], 10, (11, 12)]\n",
    "blist = myextend(alist)\n",
    "print(blist)\n"
   ]
  },
  {
   "cell_type": "code",
   "execution_count": 50,
   "id": "977cf93b",
   "metadata": {},
   "outputs": [
    {
     "data": {
      "text/plain": [
       "'Sistemas'"
      ]
     },
     "execution_count": 50,
     "metadata": {},
     "output_type": "execute_result"
    }
   ],
   "source": [
    "tupla={1: {'Titulo': 'Sistemas', 'Descripcion': 'mundo', 'Estado': 'Por aprobar', 'Fecha inicio': '1/9/2021'}}\n",
    "tupla[1]['Titulo']"
   ]
  },
  {
   "cell_type": "markdown",
   "id": "c1d538a0",
   "metadata": {},
   "source": [
    "# Medoto setdefault"
   ]
  },
  {
   "cell_type": "code",
   "execution_count": 4,
   "id": "862faba3",
   "metadata": {},
   "outputs": [
    {
     "name": "stdout",
     "output_type": "stream",
     "text": [
      "Mustang\n"
     ]
    }
   ],
   "source": [
    "car = {\n",
    "  \"brand\": \"Ford\",\n",
    "  \"model\": \"Mustang\",\n",
    "  \"year\": 1964\n",
    "}\n",
    "\n",
    "x = car.setdefault(\"model\", \"Bronco\")\n",
    "\n",
    "print(x)"
   ]
  },
  {
   "cell_type": "code",
   "execution_count": 6,
   "id": "6bc96075",
   "metadata": {},
   "outputs": [
    {
     "name": "stdout",
     "output_type": "stream",
     "text": [
      "{'brand': 'Ford', 'model': 'Mustang', 'year': 1964, 'color': 'Yellow'}\n",
      "Yellow\n"
     ]
    }
   ],
   "source": [
    "# Ejemplo\n",
    "# Obtenga el valor del elemento \"color\", si el elemento \"color\" no existe, inserte \"color\" con el valor \"blanco\":\n",
    "\n",
    "car = {\n",
    "  \"brand\": \"Ford\",\n",
    "  \"model\": \"Mustang\",\n",
    "  \"year\": 1964,\n",
    "  \"color\":'Yellow'\n",
    "}\n",
    "\n",
    "x = car.setdefault(\"color\", \"white\")\n",
    "print(car)\n",
    "print(x)"
   ]
  },
  {
   "cell_type": "code",
   "execution_count": 7,
   "id": "ad0e4af0",
   "metadata": {},
   "outputs": [
    {
     "name": "stdout",
     "output_type": "stream",
     "text": [
      "person =  {'name': 'Phill', 'age': 22}\n",
      "Age =  22\n"
     ]
    }
   ],
   "source": [
    "person = {'name': 'Phill', 'age': 22}\n",
    "\n",
    "age = person.setdefault('age')\n",
    "print('person = ',person)\n",
    "print('Age = ',age)"
   ]
  },
  {
   "cell_type": "code",
   "execution_count": 12,
   "id": "0da827ae",
   "metadata": {},
   "outputs": [
    {
     "name": "stdout",
     "output_type": "stream",
     "text": [
      "person =  {'name': 'Phill', 'salary': None}\n",
      "salary =  None\n",
      "person =  {'name': 'Phill', 'salary': None, 'age': 22}\n",
      "age =  22\n"
     ]
    }
   ],
   "source": [
    "# Example 2: How setdefault() works when key is not in the dictionary?\n",
    "\n",
    "person = {'name': 'Phill'}\n",
    "\n",
    "# key is not in the dictionary\n",
    "salary = person.setdefault('salary')\n",
    "print('person = ',person)\n",
    "print('salary = ',salary)\n",
    "\n",
    "# key is not in the dictionary\n",
    "# default_value is provided\n",
    "age = person.setdefault('age', 22)\n",
    "print('person = ',person)\n",
    "print('age = ',age)"
   ]
  },
  {
   "cell_type": "code",
   "execution_count": 3,
   "id": "51a0d031",
   "metadata": {},
   "outputs": [
    {
     "name": "stdout",
     "output_type": "stream",
     "text": [
      "Ingresar el nombre del pais:Colombia\n",
      "Ingrese la cantidad de habitantes:45\n",
      "[('Colombia', 45)]\n",
      "Ingresar el nombre del pais:Venezuela\n",
      "Ingrese la cantidad de habitantes:34\n",
      "[('Colombia', 45), ('Venezuela', 34)]\n",
      "Ingresar el nombre del pais:Ecuador\n",
      "Ingrese la cantidad de habitantes:45\n",
      "[('Colombia', 45), ('Venezuela', 34), ('Ecuador', 45)]\n",
      "Ingresar el nombre del pais:Dinamarca\n",
      "Ingrese la cantidad de habitantes:78\n",
      "[('Colombia', 45), ('Venezuela', 34), ('Ecuador', 45), ('Dinamarca', 78)]\n",
      "Ingresar el nombre del pais:España\n",
      "Ingrese la cantidad de habitantes:45\n",
      "[('Colombia', 45), ('Venezuela', 34), ('Ecuador', 45), ('Dinamarca', 78), ('España', 45)]\n",
      "Paises y su poblacion\n",
      "Colombia 45\n",
      "Venezuela 34\n",
      "Ecuador 45\n",
      "Dinamarca 78\n",
      "España 45\n",
      "Pais con mayor cantidad de habitantes: Dinamarca\n"
     ]
    }
   ],
   "source": [
    "#Ejemplo\n",
    "\n",
    "def cargar_paisespoblacion():\n",
    "    paises=[]\n",
    "    for x in range(5):\n",
    "        nom=input(\"Ingresar el nombre del pais:\")\n",
    "        cant=int(input(\"Ingrese la cantidad de habitantes:\"))\n",
    "        paises.append((nom,cant))\n",
    "        print(paises)\n",
    "    return paises\n",
    "\n",
    "\n",
    "def imprimir(paises):\n",
    "    print(\"Paises y su poblacion\")\n",
    "    for x in range(len(paises)):\n",
    "        print(paises[x][0],paises[x][1])\n",
    "\n",
    "\n",
    "def pais_maspoblacion(paises):\n",
    "    pos=0\n",
    "    for x in range(1,len(paises)):\n",
    "        if paises[x][1]>paises[pos][1]:\n",
    "            pos=x\n",
    "    print(\"Pais con mayor cantidad de habitantes:\",paises[pos][0])\n",
    "    \n",
    "\n",
    "# bloque principal\n",
    "\n",
    "paises=cargar_paisespoblacion()\n",
    "imprimir(paises)\n",
    "pais_maspoblacion(paises)"
   ]
  }
 ],
 "metadata": {
  "kernelspec": {
   "display_name": "Python 3",
   "language": "python",
   "name": "python3"
  },
  "language_info": {
   "codemirror_mode": {
    "name": "ipython",
    "version": 3
   },
   "file_extension": ".py",
   "mimetype": "text/x-python",
   "name": "python",
   "nbconvert_exporter": "python",
   "pygments_lexer": "ipython3",
   "version": "3.9.1"
  }
 },
 "nbformat": 4,
 "nbformat_minor": 5
}
