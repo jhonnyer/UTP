{
 "cells": [
  {
   "cell_type": "code",
   "execution_count": 69,
   "id": "08b39bb9",
   "metadata": {},
   "outputs": [
    {
     "name": "stdout",
     "output_type": "stream",
     "text": [
      "True\n",
      "True\n"
     ]
    }
   ],
   "source": [
    "def secuencia(sec):\n",
    "    mistakes=0\n",
    "    i=0\n",
    "    for i in range(len(sec)-1):\n",
    "        if sec[i]>=sec[i+1]:\n",
    "            if len(sec)>i+2 and sec[i+2] and i>0 and sec[i-2]>=sec[i+1]:\n",
    "                print(\"False\")\n",
    "                return False\n",
    "            else:\n",
    "                mistakes+=mistakes\n",
    "        if mistakes>1:\n",
    "            print(\"False\")\n",
    "            return False\n",
    "    print('True')\n",
    "    return True\n",
    "\n",
    "sec=[1,3,2,1]\n",
    "prueba=secuencia(sec)\n",
    "print(prueba)"
   ]
  },
  {
   "cell_type": "code",
   "execution_count": 73,
   "id": "1817eda6",
   "metadata": {},
   "outputs": [
    {
     "name": "stdout",
     "output_type": "stream",
     "text": [
      "12.0\n"
     ]
    }
   ],
   "source": [
    "def circlenum(n,primer):\n",
    "    while primer>=0 and primer<=n-1:\n",
    "        if n>=4 and n<20:\n",
    "            return (primer+ (n/2)%n)\n",
    "\n",
    "a=circlenum(10,7)\n",
    "print(a)"
   ]
  },
  {
   "cell_type": "code",
   "execution_count": 77,
   "id": "8878a4ab",
   "metadata": {},
   "outputs": [
    {
     "data": {
      "text/plain": [
       "0"
      ]
     },
     "execution_count": 77,
     "metadata": {},
     "output_type": "execute_result"
    }
   ],
   "source": [
    "9%3"
   ]
  },
  {
   "cell_type": "code",
   "execution_count": 76,
   "id": "ec80fc14",
   "metadata": {},
   "outputs": [
    {
     "name": "stdout",
     "output_type": "stream",
     "text": [
      "9\n"
     ]
    }
   ],
   "source": [
    "def maxMultiple(divisor,bound):\n",
    "    max=0\n",
    "    x=0\n",
    "    for x in range(divisor,bound):\n",
    "        if x%divisor==0:\n",
    "            max=x\n",
    "    return max\n",
    "a=maxMultiple(3,10)\n",
    "print(a)"
   ]
  }
 ],
 "metadata": {
  "kernelspec": {
   "display_name": "Python 3",
   "language": "python",
   "name": "python3"
  },
  "language_info": {
   "codemirror_mode": {
    "name": "ipython",
    "version": 3
   },
   "file_extension": ".py",
   "mimetype": "text/x-python",
   "name": "python",
   "nbconvert_exporter": "python",
   "pygments_lexer": "ipython3",
   "version": "3.9.1"
  }
 },
 "nbformat": 4,
 "nbformat_minor": 5
}
