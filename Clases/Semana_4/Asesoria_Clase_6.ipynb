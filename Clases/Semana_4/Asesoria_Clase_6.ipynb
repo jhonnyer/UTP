{
 "cells": [
  {
   "cell_type": "code",
   "execution_count": 9,
   "id": "9a601bd4",
   "metadata": {},
   "outputs": [
    {
     "name": "stdout",
     "output_type": "stream",
     "text": [
      "10\n"
     ]
    }
   ],
   "source": [
    "v1=10\n",
    "v2=20\n",
    "v3=30\n",
    "minimo=min(v1,v2,v3)\n",
    "print(minimo)"
   ]
  },
  {
   "cell_type": "code",
   "execution_count": 7,
   "id": "5b0905bc",
   "metadata": {},
   "outputs": [
    {
     "name": "stdout",
     "output_type": "stream",
     "text": [
      "60\n",
      "20.0\n"
     ]
    }
   ],
   "source": [
    "suma=sum((v1,v2,v3))\n",
    "print(suma)\n",
    "promedio=suma/3\n",
    "print(promedio)"
   ]
  },
  {
   "cell_type": "code",
   "execution_count": 8,
   "id": "651d1b8b",
   "metadata": {},
   "outputs": [
    {
     "name": "stdout",
     "output_type": "stream",
     "text": [
      "Help on built-in function print in module builtins:\n",
      "\n",
      "print(...)\n",
      "    print(value, ..., sep=' ', end='\\n', file=sys.stdout, flush=False)\n",
      "    \n",
      "    Prints the values to a stream, or to sys.stdout by default.\n",
      "    Optional keyword arguments:\n",
      "    file:  a file-like object (stream); defaults to the current sys.stdout.\n",
      "    sep:   string inserted between values, default a space.\n",
      "    end:   string appended after the last value, default a newline.\n",
      "    flush: whether to forcibly flush the stream.\n",
      "\n"
     ]
    }
   ],
   "source": [
    "help(print)"
   ]
  }
 ],
 "metadata": {
  "kernelspec": {
   "display_name": "Python 3",
   "language": "python",
   "name": "python3"
  },
  "language_info": {
   "codemirror_mode": {
    "name": "ipython",
    "version": 3
   },
   "file_extension": ".py",
   "mimetype": "text/x-python",
   "name": "python",
   "nbconvert_exporter": "python",
   "pygments_lexer": "ipython3",
   "version": "3.9.1"
  }
 },
 "nbformat": 4,
 "nbformat_minor": 5
}
