{
 "cells": [
  {
   "cell_type": "markdown",
   "id": "2e1300ac",
   "metadata": {},
   "source": [
    "# Funciones"
   ]
  },
  {
   "cell_type": "code",
   "execution_count": 1,
   "id": "a480386f",
   "metadata": {},
   "outputs": [
    {
     "name": "stdout",
     "output_type": "stream",
     "text": [
      "Cuerpo de la funcion\n"
     ]
    }
   ],
   "source": [
    "def nombre_funcion():\n",
    "    print(\"Cuerpo de la funcion\")\n",
    "\n",
    "nombre_funcion()"
   ]
  },
  {
   "cell_type": "code",
   "execution_count": 3,
   "id": "f4bfb250",
   "metadata": {},
   "outputs": [
    {
     "name": "stdout",
     "output_type": "stream",
     "text": [
      "Cuerpo de la funcion\n"
     ]
    },
    {
     "data": {
      "text/plain": [
       "(200, 30, 10)"
      ]
     },
     "execution_count": 3,
     "metadata": {},
     "output_type": "execute_result"
    }
   ],
   "source": [
    "# Funcion con parametros\n",
    "def nombre_funcion(parametro1, parametro2):\n",
    "    print(\"Cuerpo de la funcion\")\n",
    "    variable1=parametro1*parametro2\n",
    "    variable2=parametro1+parametro2\n",
    "    variable3=parametro1-parametro2\n",
    "    #La sentencia return me permite retornar o devolver un valor cuando la funcion es invocada y se ejecuta el \n",
    "    #cuerpo de la funcion\n",
    "    return variable1, variable2, variable3\n",
    "#El valor de retorno lo puedo almacenar en una variable\n",
    "nombre_funcion(20,10)"
   ]
  },
  {
   "cell_type": "code",
   "execution_count": 4,
   "id": "5ccd9a53",
   "metadata": {},
   "outputs": [
    {
     "name": "stdout",
     "output_type": "stream",
     "text": [
      "Cuerpo de la funcion\n",
      "(200, 30, 10)\n"
     ]
    }
   ],
   "source": [
    "#El valor de retorno lo puedo almacenar en una variable\n",
    "variable=nombre_funcion(20,10)\n",
    "print(variable)"
   ]
  },
  {
   "cell_type": "code",
   "execution_count": 5,
   "id": "d9fd89d5",
   "metadata": {},
   "outputs": [
    {
     "name": "stdout",
     "output_type": "stream",
     "text": [
      "Cuerpo de la funcion\n",
      "200\n",
      "30\n",
      "10\n"
     ]
    }
   ],
   "source": [
    "#El valor de retorno lo puedo almacenar en una variable\n",
    "v1,v2,v3=nombre_funcion(20,10)\n",
    "print(v1)\n",
    "print(v2)\n",
    "print(v3)"
   ]
  },
  {
   "cell_type": "markdown",
   "id": "8d0ebd42",
   "metadata": {},
   "source": [
    "# Condicional IF"
   ]
  },
  {
   "cell_type": "code",
   "execution_count": 7,
   "id": "9db5bfd0",
   "metadata": {},
   "outputs": [
    {
     "name": "stdout",
     "output_type": "stream",
     "text": [
      "La condicion es falsa\n"
     ]
    }
   ],
   "source": [
    "# EL condicional if verifica una condicion, si la condicion es verdadera ejecuta una serie de instrucciones\n",
    "# en la rama verdadera, si la condicion es falsa ejecuta las instrucciones de la rama falsa\n",
    "\n",
    "var=9\n",
    "if var==10:\n",
    "    print(\"La condicion es verdadera\")\n",
    "else:\n",
    "    print(\"La condicion es falsa\")"
   ]
  },
  {
   "cell_type": "code",
   "execution_count": 9,
   "id": "9c429bca",
   "metadata": {},
   "outputs": [
    {
     "name": "stdout",
     "output_type": "stream",
     "text": [
      "La variable es igual a 10\n"
     ]
    }
   ],
   "source": [
    "# EL condicional if verifica una condicion, si la condicion es verdadera ejecuta una serie de instrucciones\n",
    "# en la rama verdadera, si la condicion es falsa ejecuta las instrucciones de la rama falsa\n",
    "#Puedo tener un condicional if anidado en otro condicional\n",
    "#Condicional elif, que significa que si una condicion anterior no es verdadera verifique otra condicion \n",
    "#ELIF significa \"SINO SI\", es decir sino se cumplio condicion anterior, evalua otra condicion\n",
    "var=10\n",
    "if var>10:\n",
    "    print(\"La condicion es verdadera\")\n",
    "elif var==10:\n",
    "    print(\"La variable es igual a 10\")\n",
    "else:\n",
    "    print(\"La condicion es falsa\")"
   ]
  },
  {
   "cell_type": "markdown",
   "id": "541818e5",
   "metadata": {},
   "source": [
    "# Bucle while"
   ]
  },
  {
   "cell_type": "code",
   "execution_count": 10,
   "id": "c8d3947f",
   "metadata": {},
   "outputs": [
    {
     "name": "stdout",
     "output_type": "stream",
     "text": [
      "0\n",
      "1\n",
      "2\n",
      "3\n",
      "4\n",
      "5\n",
      "6\n",
      "7\n",
      "8\n",
      "9\n",
      "10\n"
     ]
    }
   ],
   "source": [
    "#Un bucle while evalua una condicion y mientras esa condicion sea verdadera, va a ejecutar el cuerpo del bucle\n",
    "#Cuando la condicion es falsa, el bucle se termina\n",
    "#Si la condicion nunca se vuelve falsa, se va crear un bucle infinito \"0J0\"\n",
    "\n",
    "#Un bucle while va a tener un contador y ese contador va a ir incrementando o decrementando hasta que la \n",
    "#condicion sea falsa\n",
    "\n",
    "contador=0\n",
    "while contador<=10:\n",
    "    print(contador)\n",
    "    contador+=1"
   ]
  },
  {
   "cell_type": "code",
   "execution_count": 11,
   "id": "ece20212",
   "metadata": {},
   "outputs": [
    {
     "name": "stdout",
     "output_type": "stream",
     "text": [
      "10\n",
      "9\n",
      "8\n",
      "7\n",
      "6\n",
      "5\n",
      "4\n",
      "3\n",
      "2\n",
      "1\n"
     ]
    }
   ],
   "source": [
    "#Un bucle while evalua una condicion y mientras esa condicion sea verdadera, va a ejecutar el cuerpo del bucle\n",
    "#Cuando la condicion es falsa, el bucle se termina\n",
    "#Si la condicion nunca se vuelve falsa, se va crear un bucle infinito \"0J0\"\n",
    "\n",
    "#Un bucle while va a tener un contador y ese contador va a ir incrementando o decrementando hasta que la \n",
    "#condicion sea falsa\n",
    "\n",
    "contador=10\n",
    "while contador>0:\n",
    "    print(contador)\n",
    "    contador-=1"
   ]
  },
  {
   "cell_type": "markdown",
   "id": "8b9fc286",
   "metadata": {},
   "source": [
    "# Bucle for"
   ]
  },
  {
   "cell_type": "code",
   "execution_count": 13,
   "id": "97ec9deb",
   "metadata": {},
   "outputs": [
    {
     "name": "stdout",
     "output_type": "stream",
     "text": [
      "a\n",
      "b\n",
      "c\n",
      "d\n",
      "e\n"
     ]
    }
   ],
   "source": [
    "# i es una variable de iteracion que va a ir recorriendo un arreglo de datos\n",
    "lista=['a','b','c','d','e']\n",
    "for i in lista:\n",
    "    print(i)"
   ]
  },
  {
   "cell_type": "code",
   "execution_count": 14,
   "id": "b3b77190",
   "metadata": {},
   "outputs": [
    {
     "name": "stdout",
     "output_type": "stream",
     "text": [
      "0\n",
      "1\n",
      "2\n",
      "3\n",
      "4\n"
     ]
    }
   ],
   "source": [
    "# i es una variable de iteracion que va a ir recorriendo un arreglo de datos\n",
    "lista=['a','b','c','d','e']\n",
    "for i in range(5):\n",
    "    print(i)"
   ]
  },
  {
   "cell_type": "code",
   "execution_count": 16,
   "id": "c4f3226a",
   "metadata": {},
   "outputs": [
    {
     "name": "stdout",
     "output_type": "stream",
     "text": [
      "0\n",
      "1\n",
      "2\n",
      "3\n",
      "4\n"
     ]
    }
   ],
   "source": [
    "# i es una variable de iteracion que va a ir recorriendo un arreglo de datos\n",
    "lista=['a','b','c','d','e']\n",
    "valor=len(lista)\n",
    "for i in range(valor):\n",
    "    print(i)"
   ]
  },
  {
   "cell_type": "code",
   "execution_count": 19,
   "id": "660d11d0",
   "metadata": {},
   "outputs": [
    {
     "name": "stdout",
     "output_type": "stream",
     "text": [
      "0 a\n",
      "1 b\n",
      "2 c\n",
      "3 d\n",
      "4 e\n"
     ]
    }
   ],
   "source": [
    "# i es una variable de iteracion que va a ir recorriendo un arreglo de datos\n",
    "lista=['a','b','c','d','e']\n",
    "for i in range(len(lista)):\n",
    "    print(i, lista[i])"
   ]
  },
  {
   "cell_type": "code",
   "execution_count": 20,
   "id": "f4f56c7b",
   "metadata": {},
   "outputs": [
    {
     "name": "stdout",
     "output_type": "stream",
     "text": [
      "0 a\n",
      "1 b\n",
      "2 c\n",
      "3 d\n",
      "4 e\n"
     ]
    }
   ],
   "source": [
    "# i es una variable de iteracion que va a ir recorriendo un arreglo de datos\n",
    "lista=['a','b','c','d','e']\n",
    "for indice, valor in enumerate(lista):\n",
    "    print(indice, valor)"
   ]
  },
  {
   "cell_type": "code",
   "execution_count": 18,
   "id": "2be2363d",
   "metadata": {},
   "outputs": [
    {
     "data": {
      "text/plain": [
       "'b'"
      ]
     },
     "execution_count": 18,
     "metadata": {},
     "output_type": "execute_result"
    }
   ],
   "source": [
    "lista[1]"
   ]
  },
  {
   "cell_type": "markdown",
   "id": "a56b0739",
   "metadata": {},
   "source": [
    "# Listas"
   ]
  },
  {
   "cell_type": "code",
   "execution_count": 21,
   "id": "9a605c75",
   "metadata": {},
   "outputs": [
    {
     "name": "stdout",
     "output_type": "stream",
     "text": [
      "['a', 'b', 1, 'c', 5.6, True]\n",
      "<class 'list'>\n"
     ]
    }
   ],
   "source": [
    "#Una lista es una coleccion de datos ordenada, que peude almacenar cuaquier tipo de dato (string, float, int, booleano, list)\n",
    "#Una lista maneja indices, donde el primer indice (0) es el primer elemento de una lista\n",
    "#Una lista es  inmutable, lo que quiere decir que nosotros podemos modificar sus valores, añadir nuevos valores o eliminarlo\n",
    "\n",
    "\n",
    "#Para crear una lista, se colocan los elementos entre corchetes separados por coma\n",
    "lista=['a','b',1,'c',5.6,True]\n",
    "print(lista)\n",
    "print(type(lista))"
   ]
  },
  {
   "cell_type": "code",
   "execution_count": 24,
   "id": "d13db800",
   "metadata": {},
   "outputs": [
    {
     "name": "stdout",
     "output_type": "stream",
     "text": [
      "b\n",
      "a\n",
      "True\n"
     ]
    }
   ],
   "source": [
    "#Para acceder a cualquier elemento dentro de una lista, debemos llamar el nombre de la lista y entre corchetes\n",
    "#pasamos el indice del elemento que queremos obtener\n",
    "print(lista[1])\n",
    "#Primer elemento de una lista\n",
    "print(lista[0])\n",
    "#Ultimo elemento de una lista lo puedo obtener con -1\n",
    "print(lista[-1])"
   ]
  },
  {
   "cell_type": "code",
   "execution_count": 25,
   "id": "e984982f",
   "metadata": {},
   "outputs": [
    {
     "data": {
      "text/plain": [
       "5.6"
      ]
     },
     "execution_count": 25,
     "metadata": {},
     "output_type": "execute_result"
    }
   ],
   "source": [
    "#Que yo de izquierda a derecha puedo recorrer una lista desde el indice 0 en adelane (0,1,2,3...)\n",
    "#Y de derecha a izquierda puedo recorrer una lista desde el indice -1 en adelante (-1,-2,-3,...)\n",
    "lista=['a','b',1,'c',5.6,True]\n",
    "lista[4]"
   ]
  },
  {
   "cell_type": "code",
   "execution_count": 26,
   "id": "31fb21d7",
   "metadata": {},
   "outputs": [
    {
     "name": "stdout",
     "output_type": "stream",
     "text": [
      "a\n",
      "b\n",
      "1\n",
      "c\n",
      "5.6\n",
      "True\n"
     ]
    }
   ],
   "source": [
    "# Recorrer la lista con un bucle for\n",
    "for i in lista:\n",
    "    print(i)"
   ]
  },
  {
   "cell_type": "code",
   "execution_count": 27,
   "id": "8f34e646",
   "metadata": {},
   "outputs": [
    {
     "name": "stdout",
     "output_type": "stream",
     "text": [
      "0 a\n",
      "1 b\n",
      "2 1\n",
      "3 c\n",
      "4 5.6\n",
      "5 True\n"
     ]
    }
   ],
   "source": [
    "# Recorrer la lista con un bucle for\n",
    "for i, valor in enumerate(lista):\n",
    "    print(i, valor)"
   ]
  },
  {
   "cell_type": "code",
   "execution_count": 33,
   "id": "f00816f2",
   "metadata": {},
   "outputs": [
    {
     "name": "stdout",
     "output_type": "stream",
     "text": [
      "0 a\n",
      "1 b\n",
      "2 1\n",
      "3 c\n",
      "4 5.6\n",
      "5 True\n"
     ]
    }
   ],
   "source": [
    "#Recorrer la lista con un bucle while\n",
    "# print(len(lista))\n",
    "contador=0\n",
    "while contador<len(lista):\n",
    "    print(contador, lista[contador])\n",
    "    contador+=1"
   ]
  },
  {
   "cell_type": "code",
   "execution_count": 34,
   "id": "014113eb",
   "metadata": {},
   "outputs": [
    {
     "data": {
      "text/plain": [
       "['__add__',\n",
       " '__class__',\n",
       " '__class_getitem__',\n",
       " '__contains__',\n",
       " '__delattr__',\n",
       " '__delitem__',\n",
       " '__dir__',\n",
       " '__doc__',\n",
       " '__eq__',\n",
       " '__format__',\n",
       " '__ge__',\n",
       " '__getattribute__',\n",
       " '__getitem__',\n",
       " '__gt__',\n",
       " '__hash__',\n",
       " '__iadd__',\n",
       " '__imul__',\n",
       " '__init__',\n",
       " '__init_subclass__',\n",
       " '__iter__',\n",
       " '__le__',\n",
       " '__len__',\n",
       " '__lt__',\n",
       " '__mul__',\n",
       " '__ne__',\n",
       " '__new__',\n",
       " '__reduce__',\n",
       " '__reduce_ex__',\n",
       " '__repr__',\n",
       " '__reversed__',\n",
       " '__rmul__',\n",
       " '__setattr__',\n",
       " '__setitem__',\n",
       " '__sizeof__',\n",
       " '__str__',\n",
       " '__subclasshook__',\n",
       " 'append',\n",
       " 'clear',\n",
       " 'copy',\n",
       " 'count',\n",
       " 'extend',\n",
       " 'index',\n",
       " 'insert',\n",
       " 'pop',\n",
       " 'remove',\n",
       " 'reverse',\n",
       " 'sort']"
      ]
     },
     "execution_count": 34,
     "metadata": {},
     "output_type": "execute_result"
    }
   ],
   "source": [
    "dir(lista)"
   ]
  },
  {
   "cell_type": "code",
   "execution_count": 37,
   "id": "ebc49240",
   "metadata": {},
   "outputs": [
    {
     "name": "stdout",
     "output_type": "stream",
     "text": [
      "['a', 'b', 1, 'c', 5.6, True]\n"
     ]
    }
   ],
   "source": [
    "#Metodo copy crea una copia de una lista y la almacena en otra lista\n",
    "copia_lista=lista.copy()\n",
    "print(copia_lista)"
   ]
  },
  {
   "cell_type": "code",
   "execution_count": 36,
   "id": "6d3acdcd",
   "metadata": {},
   "outputs": [
    {
     "data": {
      "text/plain": [
       "1"
      ]
     },
     "execution_count": 36,
     "metadata": {},
     "output_type": "execute_result"
    }
   ],
   "source": [
    "#Metodo count que me permite contar cuantas veces esta repetido un elemento en una lista\n",
    "copia_lista.count('b')"
   ]
  },
  {
   "cell_type": "code",
   "execution_count": 39,
   "id": "50997800",
   "metadata": {},
   "outputs": [
    {
     "name": "stdout",
     "output_type": "stream",
     "text": [
      "['a', 'b', 1, 'c', 5.6, True, 'hola mundo']\n"
     ]
    }
   ],
   "source": [
    "#Metodo append me permite ingrese un nuevo valor en una lista\n",
    "copia_lista.append('hola mundo')\n",
    "print(copia_lista)"
   ]
  },
  {
   "cell_type": "code",
   "execution_count": 41,
   "id": "b86aaab3",
   "metadata": {},
   "outputs": [
    {
     "name": "stdout",
     "output_type": "stream",
     "text": [
      "[7.5, 445, 6, 546, 45, 3, 4, 54, 545, 6, 2, 35, 456, 5, 65235, 2, 3, 1]\n",
      "[1, 2, 2, 3, 3, 4, 5, 6, 6, 7.5, 35, 45, 54, 445, 456, 545, 546, 65235]\n"
     ]
    }
   ],
   "source": [
    "#Metodo sort me permite ordenar en forma ascendente o descendente una lista si es numerica\n",
    "#Si es string los ordena de forma alfabetica\n",
    "lista=[7.5,445,6,546,45,3,4,54,545,6,2,35,456,5,65235,2,3,1]\n",
    "print(lista)\n",
    "\n",
    "#MEtodo sort() para ordenar la lista en forma ascendente\n",
    "lista.sort()\n",
    "print(lista)"
   ]
  },
  {
   "cell_type": "code",
   "execution_count": 42,
   "id": "fa2e2755",
   "metadata": {},
   "outputs": [
    {
     "name": "stdout",
     "output_type": "stream",
     "text": [
      "[7.5, 445, 6, 546, 45, 3, 4, 54, 545, 6, 2, 35, 456, 5, 65235, 2, 3, 1]\n",
      "[65235, 546, 545, 456, 445, 54, 45, 35, 7.5, 6, 6, 5, 4, 3, 3, 2, 2, 1]\n"
     ]
    }
   ],
   "source": [
    "#Metodo sort me permite ordenar en forma ascendente o descendente una lista si es numerica\n",
    "#Si es string los ordena de forma alfabetica\n",
    "lista=[7.5,445,6,546,45,3,4,54,545,6,2,35,456,5,65235,2,3,1]\n",
    "print(lista)\n",
    "\n",
    "#MEtodo sort() para ordenar la lista en forma descendente\n",
    "lista.sort(reverse=True)\n",
    "print(lista)"
   ]
  },
  {
   "cell_type": "markdown",
   "id": "7dda8bcc",
   "metadata": {},
   "source": [
    "# Diccionarios"
   ]
  },
  {
   "cell_type": "code",
   "execution_count": 44,
   "id": "675e2dac",
   "metadata": {},
   "outputs": [
    {
     "name": "stdout",
     "output_type": "stream",
     "text": [
      "{'clave1': 19, 'clave2': 6.7, 'clave3': 'hola'}\n"
     ]
    }
   ],
   "source": [
    "#Los diccionarios son unas colecciones de datos desordenadas, no tienen indice  y son mutables\n",
    "#COmo los diccionario son mutables podemos modificar sus valores, añadir nuevos elementos o eliminar un elemento\n",
    "#Los diccionario van a estar conformados por elementos pares clave-valor,\n",
    "#para acceder a un valor en un diccionario, debo hacerlo mediante la clave\n",
    "#Un diccionario se va crear a partir de un elemento par clave-valor entre llaves\n",
    "diccionario={'clave1':19,'clave2':6.7,'clave3':'hola'}\n",
    "print(diccionario)"
   ]
  },
  {
   "cell_type": "code",
   "execution_count": 45,
   "id": "a776ca18",
   "metadata": {},
   "outputs": [
    {
     "data": {
      "text/plain": [
       "'hola'"
      ]
     },
     "execution_count": 45,
     "metadata": {},
     "output_type": "execute_result"
    }
   ],
   "source": [
    "#Acceder a un valor en el diccionario, debo pasar la clave\n",
    "diccionario['clave3']"
   ]
  },
  {
   "cell_type": "code",
   "execution_count": 46,
   "id": "c7b0f832",
   "metadata": {},
   "outputs": [
    {
     "name": "stdout",
     "output_type": "stream",
     "text": [
      "{'clave1': 19, 'clave2': 6.7, 'clave3': 'hola', 'clave4': 89}\n"
     ]
    }
   ],
   "source": [
    "#Añadir nuevos elementos a un diccionario\n",
    "diccionario['clave4']=89\n",
    "print(diccionario)"
   ]
  },
  {
   "cell_type": "code",
   "execution_count": 47,
   "id": "637516d5",
   "metadata": {},
   "outputs": [
    {
     "name": "stdout",
     "output_type": "stream",
     "text": [
      "{'clave1': 19, 'clave2': 6.7, 'clave3': 'hola', 'clave4': 'Adios'}\n"
     ]
    }
   ],
   "source": [
    "#Modificar un valor en un diccionario, debo pasar la clave y el valor a modificar\n",
    "diccionario['clave4']='Adios'\n",
    "print(diccionario)"
   ]
  },
  {
   "cell_type": "code",
   "execution_count": 48,
   "id": "8d304624",
   "metadata": {},
   "outputs": [
    {
     "data": {
      "text/plain": [
       "['__class__',\n",
       " '__class_getitem__',\n",
       " '__contains__',\n",
       " '__delattr__',\n",
       " '__delitem__',\n",
       " '__dir__',\n",
       " '__doc__',\n",
       " '__eq__',\n",
       " '__format__',\n",
       " '__ge__',\n",
       " '__getattribute__',\n",
       " '__getitem__',\n",
       " '__gt__',\n",
       " '__hash__',\n",
       " '__init__',\n",
       " '__init_subclass__',\n",
       " '__ior__',\n",
       " '__iter__',\n",
       " '__le__',\n",
       " '__len__',\n",
       " '__lt__',\n",
       " '__ne__',\n",
       " '__new__',\n",
       " '__or__',\n",
       " '__reduce__',\n",
       " '__reduce_ex__',\n",
       " '__repr__',\n",
       " '__reversed__',\n",
       " '__ror__',\n",
       " '__setattr__',\n",
       " '__setitem__',\n",
       " '__sizeof__',\n",
       " '__str__',\n",
       " '__subclasshook__',\n",
       " 'clear',\n",
       " 'copy',\n",
       " 'fromkeys',\n",
       " 'get',\n",
       " 'items',\n",
       " 'keys',\n",
       " 'pop',\n",
       " 'popitem',\n",
       " 'setdefault',\n",
       " 'update',\n",
       " 'values']"
      ]
     },
     "execution_count": 48,
     "metadata": {},
     "output_type": "execute_result"
    }
   ],
   "source": [
    "dir(diccionario)"
   ]
  },
  {
   "cell_type": "code",
   "execution_count": 50,
   "id": "f2671547",
   "metadata": {},
   "outputs": [
    {
     "data": {
      "text/plain": [
       "dict_keys(['clave1', 'clave2', 'clave3', 'clave4'])"
      ]
     },
     "execution_count": 50,
     "metadata": {},
     "output_type": "execute_result"
    }
   ],
   "source": [
    "#MEtodo keys retorna las claves del diccionario\n",
    "diccionario.keys()"
   ]
  },
  {
   "cell_type": "code",
   "execution_count": 52,
   "id": "65ed7285",
   "metadata": {},
   "outputs": [
    {
     "data": {
      "text/plain": [
       "dict_values([19, 6.7, 'hola', 'Adios'])"
      ]
     },
     "execution_count": 52,
     "metadata": {},
     "output_type": "execute_result"
    }
   ],
   "source": [
    "#MEtodo values retorna los valores  del diccionario\n",
    "diccionario.values()"
   ]
  },
  {
   "cell_type": "code",
   "execution_count": 53,
   "id": "3a732adc",
   "metadata": {},
   "outputs": [
    {
     "data": {
      "text/plain": [
       "dict_items([('clave1', 19), ('clave2', 6.7), ('clave3', 'hola'), ('clave4', 'Adios')])"
      ]
     },
     "execution_count": 53,
     "metadata": {},
     "output_type": "execute_result"
    }
   ],
   "source": [
    "#MEtodo items  retorna una tupla con los elemento par-clave  del diccionario\n",
    "diccionario.items()"
   ]
  },
  {
   "cell_type": "code",
   "execution_count": 56,
   "id": "166e73d1",
   "metadata": {},
   "outputs": [
    {
     "name": "stdout",
     "output_type": "stream",
     "text": [
      "19\n",
      "6.7\n",
      "hola\n",
      "Adios\n"
     ]
    }
   ],
   "source": [
    "#Obtener los valores del diciconario\n",
    "for i in diccionario.values():\n",
    "    print(i)"
   ]
  },
  {
   "cell_type": "code",
   "execution_count": 57,
   "id": "b65af3be",
   "metadata": {},
   "outputs": [
    {
     "name": "stdout",
     "output_type": "stream",
     "text": [
      "clave1\n",
      "clave2\n",
      "clave3\n",
      "clave4\n"
     ]
    }
   ],
   "source": [
    "#Obtengo solo las claves del diccionario\n",
    "for i in diccionario.keys():\n",
    "    print(i)"
   ]
  },
  {
   "cell_type": "code",
   "execution_count": 59,
   "id": "f56339b7",
   "metadata": {},
   "outputs": [
    {
     "name": "stdout",
     "output_type": "stream",
     "text": [
      "('clave1', 19)\n",
      "('clave2', 6.7)\n",
      "('clave3', 'hola')\n",
      "('clave4', 'Adios')\n"
     ]
    }
   ],
   "source": [
    "#Obtengo solo las claves  y el valor en el diccionario\n",
    "for i in diccionario.items():\n",
    "    print(i)"
   ]
  },
  {
   "cell_type": "code",
   "execution_count": 61,
   "id": "9dd63d86",
   "metadata": {},
   "outputs": [
    {
     "name": "stdout",
     "output_type": "stream",
     "text": [
      "clave1   19\n",
      "clave2   6.7\n",
      "clave3   hola\n",
      "clave4   Adios\n"
     ]
    }
   ],
   "source": [
    "#Obtengo solo las claves  y el valor en el diccionario\n",
    "for clave, valor in diccionario.items():\n",
    "    print(clave, ' ',valor)"
   ]
  },
  {
   "cell_type": "markdown",
   "id": "c20daece",
   "metadata": {},
   "source": [
    "# Tuplas"
   ]
  },
  {
   "cell_type": "code",
   "execution_count": 62,
   "id": "fb9b3ac0",
   "metadata": {},
   "outputs": [
    {
     "name": "stdout",
     "output_type": "stream",
     "text": [
      "(5, 6, 7, 7)\n"
     ]
    }
   ],
   "source": [
    "#LAs tuplas es una coleccion de datos de elementos separados por coma (string, float, lista, boleano)\n",
    "#LAs tuplas son imutables, es decir que no podemos modificar sus valores \n",
    "#LAs tuplas son ordenadas, por lo tanto podemos acceder a los valores mediante indices como las listas\n",
    "\n",
    "tupla=5,6,7,7\n",
    "print(tupla)"
   ]
  },
  {
   "cell_type": "code",
   "execution_count": 63,
   "id": "6ab5ffb2",
   "metadata": {},
   "outputs": [
    {
     "name": "stdout",
     "output_type": "stream",
     "text": [
      "(5, 6, 7, 7)\n"
     ]
    }
   ],
   "source": [
    "#LAs tuplas es una coleccion de datos de elementos separados por coma (string, float, lista, boleano)\n",
    "#LAs tuplas son imutables, es decir que no podemos modificar sus valores \n",
    "#LAs tuplas son ordenadas, por lo tanto podemos acceder a los valores mediante indices como las listas\n",
    "\n",
    "tupla=(5,6,7,7)\n",
    "print(tupla)"
   ]
  },
  {
   "cell_type": "code",
   "execution_count": 66,
   "id": "839ef3e2",
   "metadata": {},
   "outputs": [
    {
     "data": {
      "text/plain": [
       "5"
      ]
     },
     "execution_count": 66,
     "metadata": {},
     "output_type": "execute_result"
    }
   ],
   "source": [
    "#Elemento en la posicion 1\n",
    "tupla[1]\n",
    "#Elemento en la posicion 0, este es el primer elemento en una tupla\n",
    "tupla[0]"
   ]
  },
  {
   "cell_type": "code",
   "execution_count": 68,
   "id": "cacfbd4c",
   "metadata": {},
   "outputs": [
    {
     "data": {
      "text/plain": [
       "7"
      ]
     },
     "execution_count": 68,
     "metadata": {},
     "output_type": "execute_result"
    }
   ],
   "source": [
    "#EL menos 1 es el ultimo elemento de una tupla\n",
    "tupla[-1]"
   ]
  },
  {
   "cell_type": "code",
   "execution_count": 69,
   "id": "2a9e548f",
   "metadata": {},
   "outputs": [
    {
     "ename": "TypeError",
     "evalue": "'tuple' object does not support item assignment",
     "output_type": "error",
     "traceback": [
      "\u001b[0;31m---------------------------------------------------------------------------\u001b[0m",
      "\u001b[0;31mTypeError\u001b[0m                                 Traceback (most recent call last)",
      "\u001b[0;32m<ipython-input-69-2295e92e8fa6>\u001b[0m in \u001b[0;36m<module>\u001b[0;34m\u001b[0m\n\u001b[1;32m      1\u001b[0m \u001b[0;31m#Error, las tuplas son inmutables no podemos cambiar los valores\u001b[0m\u001b[0;34m\u001b[0m\u001b[0;34m\u001b[0m\u001b[0;34m\u001b[0m\u001b[0m\n\u001b[0;32m----> 2\u001b[0;31m \u001b[0mtupla\u001b[0m\u001b[0;34m[\u001b[0m\u001b[0;36m1\u001b[0m\u001b[0;34m]\u001b[0m\u001b[0;34m=\u001b[0m\u001b[0;36m45\u001b[0m\u001b[0;34m\u001b[0m\u001b[0;34m\u001b[0m\u001b[0m\n\u001b[0m",
      "\u001b[0;31mTypeError\u001b[0m: 'tuple' object does not support item assignment"
     ]
    }
   ],
   "source": [
    "#Error, las tuplas son inmutables no podemos cambiar los valores\n",
    "tupla[1]=45"
   ]
  },
  {
   "cell_type": "code",
   "execution_count": 70,
   "id": "5653220b",
   "metadata": {},
   "outputs": [
    {
     "name": "stdout",
     "output_type": "stream",
     "text": [
      "('a',)\n",
      "<class 'tuple'>\n"
     ]
    }
   ],
   "source": [
    "#CREar una tupla con un solo elemento\n",
    "tupla=('a',)\n",
    "print(tupla)\n",
    "print(type(tupla))"
   ]
  },
  {
   "cell_type": "code",
   "execution_count": 72,
   "id": "a5081a55",
   "metadata": {},
   "outputs": [
    {
     "name": "stdout",
     "output_type": "stream",
     "text": [
      "a\n",
      "<class 'str'>\n"
     ]
    }
   ],
   "source": [
    "#ERROR EN CREAR UNA TUPLA\n",
    "#importancia de colocar una coma, para indicar que es una tupla, sino es un string\n",
    "tupla=('a')\n",
    "print(tupla)\n",
    "print(type(tupla))"
   ]
  },
  {
   "cell_type": "code",
   "execution_count": 73,
   "id": "2228c315",
   "metadata": {},
   "outputs": [
    {
     "name": "stdout",
     "output_type": "stream",
     "text": [
      "(5, 6, 7, 7)\n",
      "('A', 6, 7, 7)\n"
     ]
    }
   ],
   "source": [
    "#Yo puedo crear una tupla a partir de otra tupola\n",
    "tupla=(5,6,7,7)\n",
    "print(tupla)\n",
    "#Utilizar la rebanada o slicing que permite obtener un rango de valroes en una tupla similiar a una lista\n",
    "tupla=('A',)+tupla[1:]\n",
    "print(tupla)"
   ]
  },
  {
   "cell_type": "code",
   "execution_count": 74,
   "id": "e428904f",
   "metadata": {},
   "outputs": [
    {
     "name": "stdout",
     "output_type": "stream",
     "text": [
      "A\n",
      "6\n",
      "7\n",
      "7\n"
     ]
    }
   ],
   "source": [
    "#Recorrer una tupla, en este caso mediante un bucle for\n",
    "\n",
    "for i in tupla:\n",
    "    print(i)"
   ]
  },
  {
   "cell_type": "code",
   "execution_count": 77,
   "id": "cf731c87",
   "metadata": {},
   "outputs": [
    {
     "name": "stdout",
     "output_type": "stream",
     "text": [
      "0 A\n",
      "1 6\n",
      "2 7\n",
      "3 7\n"
     ]
    }
   ],
   "source": [
    "#Recorrer una tupla, en este caso mediante un bucle for\n",
    "#Obtener la posicion de los elementos de una tupla y el valor\n",
    "for i in range(len(tupla)):\n",
    "    print(i, tupla[i])"
   ]
  },
  {
   "cell_type": "code",
   "execution_count": 78,
   "id": "c701c257",
   "metadata": {},
   "outputs": [
    {
     "name": "stdout",
     "output_type": "stream",
     "text": [
      "0 A\n",
      "1 6\n",
      "2 7\n",
      "3 7\n"
     ]
    }
   ],
   "source": [
    "#Recorrer una tupla, en este caso mediante un bucle for\n",
    "#Obtener la posicion de los elementos de una tupla y el valor\n",
    "#Funcion enumerate\n",
    "for indice, valor in enumerate(tupla):\n",
    "    print(indice, valor)"
   ]
  },
  {
   "cell_type": "code",
   "execution_count": 80,
   "id": "77fd4d86",
   "metadata": {},
   "outputs": [
    {
     "name": "stdout",
     "output_type": "stream",
     "text": [
      "0 A\n",
      "1 6\n",
      "2 7\n",
      "3 7\n"
     ]
    }
   ],
   "source": [
    "#REcorrer una tupla con un bucle while\n",
    "contador=0\n",
    "while contador<len(tupla):\n",
    "    print(contador, tupla[contador])\n",
    "    contador+=1"
   ]
  }
 ],
 "metadata": {
  "kernelspec": {
   "display_name": "Python 3",
   "language": "python",
   "name": "python3"
  },
  "language_info": {
   "codemirror_mode": {
    "name": "ipython",
    "version": 3
   },
   "file_extension": ".py",
   "mimetype": "text/x-python",
   "name": "python",
   "nbconvert_exporter": "python",
   "pygments_lexer": "ipython3",
   "version": "3.9.1"
  }
 },
 "nbformat": 4,
 "nbformat_minor": 5
}
