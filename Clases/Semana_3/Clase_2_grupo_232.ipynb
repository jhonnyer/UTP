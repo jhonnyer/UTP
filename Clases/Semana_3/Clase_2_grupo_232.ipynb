{
 "cells": [
  {
   "cell_type": "markdown",
   "id": "53038fef",
   "metadata": {},
   "source": [
    "Utilizar jupyter sin anaconda\n",
    "https://jupyter.org/try"
   ]
  },
  {
   "cell_type": "markdown",
   "id": "f20e5e33",
   "metadata": {},
   "source": [
    "# Titulo\n",
    "## Subtitulo\n",
    "\n",
    "Texto  a mostrar en la pantalla\n",
    "\n",
    "https://drive.google.com/file/d/1fVmdOn3mVbIAZEUwWhp2fj01wXeGa_mZ/view?usp=sharing"
   ]
  },
  {
   "cell_type": "code",
   "execution_count": 23,
   "id": "7b1151cf",
   "metadata": {},
   "outputs": [
    {
     "name": "stdout",
     "output_type": "stream",
     "text": [
      "hola mundo\n"
     ]
    }
   ],
   "source": [
    "print(\"hola mundo\")"
   ]
  },
  {
   "cell_type": "code",
   "execution_count": 33,
   "id": "5ed2d813",
   "metadata": {},
   "outputs": [
    {
     "name": "stdout",
     "output_type": "stream",
     "text": [
      "Hola mundo\n"
     ]
    }
   ],
   "source": [
    "print('Hola mundo')"
   ]
  },
  {
   "cell_type": "code",
   "execution_count": 34,
   "id": "f6c6526e",
   "metadata": {},
   "outputs": [
    {
     "name": "stdout",
     "output_type": "stream",
     "text": [
      "Hola 'mundo'\n"
     ]
    }
   ],
   "source": [
    "print(\"Hola 'mundo'\") "
   ]
  },
  {
   "cell_type": "code",
   "execution_count": 36,
   "id": "378b26d5",
   "metadata": {},
   "outputs": [],
   "source": [
    "x=43\n",
    "y=x+10\n"
   ]
  },
  {
   "cell_type": "code",
   "execution_count": 37,
   "id": "aa655191",
   "metadata": {},
   "outputs": [
    {
     "name": "stdout",
     "output_type": "stream",
     "text": [
      "53\n"
     ]
    }
   ],
   "source": [
    "print(y)"
   ]
  },
  {
   "cell_type": "markdown",
   "id": "ad41b068",
   "metadata": {},
   "source": [
    "# Titulo 1\n",
    "\n",
    "* Punto 1\n",
    "* Punto 2\n",
    "    * Punto a\n",
    "    * Punto b\n",
    "  \n",
    "1. Fundamentos\n",
    "2. Web"
   ]
  },
  {
   "cell_type": "markdown",
   "id": "9d182e33",
   "metadata": {},
   "source": [
    "# Entradas:\n",
    "\n",
    "Ingresos, gastos\n",
    "\n",
    "## Salidas:\n",
    "\n",
    "Perdidas, beneficios\n",
    "\n",
    "## Proceso\n",
    "\n",
    "Comparar los ingresos y los gastos\n",
    "\n",
    "\n",
    "# Algoritmo \n",
    "\n",
    "*Inicio*\n",
    "\n",
    "1. Variables de entrada\n",
    "2. Proceso\n",
    "3. Variables de salida\n",
    "4. Mostrar resultado\n",
    "\n",
    "*Fin*"
   ]
  },
  {
   "cell_type": "markdown",
   "id": "76fb3f1d",
   "metadata": {},
   "source": [
    "# Bitacora del proyecto tienda\n",
    "\n",
    "## Definición del problema\n",
    "\n",
    "El cliente necesita un algoritmo que pueda calcular si su negocio, o sus tiendas generan beneficios o pérdidas. Tenemos acceso a los datos que maneja la tienda, tanto sus **ingresas**, como sus **gastos**.\n",
    "\n",
    "### Algoritmo\n",
    "\n",
    "*Inicio*\n",
    "\n",
    "1. Leer todos los ingresos\n",
    "2. Leer todos los gastos\n",
    "3. Si los ingresos son mayores o iguales a los gastos.\n",
    "    - Calcular beneficios= Ingresos-gastos\n",
    "4. Si los gastos son mayores o iguales que los ingresos.\n",
    "    - Calcular las pérdidas=Gastos-Ingresos\n",
    " \n",
    "*Fin*\n",
    "\n",
    "### Diagrama de flujo\n",
    "\n",
    "![Imagen](algoritmo.png)"
   ]
  },
  {
   "cell_type": "markdown",
   "id": "bce69a76",
   "metadata": {},
   "source": [
    "# Fin del enunciado"
   ]
  },
  {
   "cell_type": "code",
   "execution_count": 38,
   "id": "daf302d7",
   "metadata": {},
   "outputs": [
    {
     "name": "stdout",
     "output_type": "stream",
     "text": [
      "43\n",
      "44\n"
     ]
    }
   ],
   "source": [
    "x=43\n",
    "print(x)\n",
    "x=x+1\n",
    "print(x)"
   ]
  },
  {
   "cell_type": "code",
   "execution_count": 40,
   "id": "dfd7c973",
   "metadata": {},
   "outputs": [
    {
     "name": "stdout",
     "output_type": "stream",
     "text": [
      "21.625\n"
     ]
    }
   ],
   "source": [
    "#JOHAN TOBON ZAPATA19\n",
    "var1= 10\n",
    "var2= 4\n",
    "var3= 5.5\n",
    "var4= 67\n",
    "Prom= (var1 + var2 + var3 + var4) /4\n",
    "print(Prom)"
   ]
  },
  {
   "cell_type": "code",
   "execution_count": 43,
   "id": "82aaf692",
   "metadata": {},
   "outputs": [
    {
     "name": "stdout",
     "output_type": "stream",
     "text": [
      "21.625\n"
     ]
    }
   ],
   "source": [
    "# Jonathan Castiblanco19\n",
    "vari1= 10\n",
    "vari2= 4\n",
    "vari3= 5.5\n",
    "vari4= 67\n",
    "suma= vari1+vari2+vari3+vari4\n",
    "# print(suma)\n",
    "prom=suma/4\n",
    "print(prom)\n"
   ]
  },
  {
   "cell_type": "code",
   "execution_count": 45,
   "id": "f1f93fdd",
   "metadata": {},
   "outputs": [
    {
     "name": "stdout",
     "output_type": "stream",
     "text": [
      "21.625\n"
     ]
    }
   ],
   "source": [
    "# Yuber Valencia19\n",
    "var1 = 10\n",
    "var2 = 4\n",
    "var3 = 5.5\n",
    "var4 = 67\n",
    "var5 = var1 + var2 + var3 + var4 \n",
    "# print(var5)\n",
    "resultado = var5/4\n",
    "print(resultado)\n"
   ]
  },
  {
   "cell_type": "code",
   "execution_count": 46,
   "id": "9075936a",
   "metadata": {},
   "outputs": [
    {
     "name": "stdout",
     "output_type": "stream",
     "text": [
      "21.625\n"
     ]
    }
   ],
   "source": [
    "#Calcule el promedio de las variables\n",
    "Var1=10\n",
    "Var2=4\n",
    "Var3=5.5\n",
    "Var4=67\n",
    "\n",
    "x=Var1+Var2+Var3+Var4\n",
    "Z= x/4\n",
    "\n",
    "print(Z)"
   ]
  },
  {
   "cell_type": "code",
   "execution_count": 49,
   "id": "5d82d751",
   "metadata": {},
   "outputs": [
    {
     "name": "stdout",
     "output_type": "stream",
     "text": [
      "21.625\n"
     ]
    }
   ],
   "source": [
    "var1 = 10\n",
    "var2 = 4 \n",
    "var3 = 5.5\n",
    "var4 = 67\n",
    "\n",
    "x=var1+var2+var3+var4\n",
    "# print(x)\n",
    "# x/4=x\n",
    "x=x/4\n",
    "print(x)\n"
   ]
  }
 ],
 "metadata": {
  "kernelspec": {
   "display_name": "Python 3",
   "language": "python",
   "name": "python3"
  },
  "language_info": {
   "codemirror_mode": {
    "name": "ipython",
    "version": 3
   },
   "file_extension": ".py",
   "mimetype": "text/x-python",
   "name": "python",
   "nbconvert_exporter": "python",
   "pygments_lexer": "ipython3",
   "version": "3.9.1"
  }
 },
 "nbformat": 4,
 "nbformat_minor": 5
}
