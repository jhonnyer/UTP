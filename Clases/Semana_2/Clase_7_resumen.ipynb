{
 "cells": [
  {
   "cell_type": "code",
   "execution_count": 74,
   "id": "c290cfc5",
   "metadata": {},
   "outputs": [
    {
     "name": "stdout",
     "output_type": "stream",
     "text": [
      "Hola\n"
     ]
    }
   ],
   "source": [
    "x=10\n",
    "if x>0:\n",
    "    print(\"Hola\")\n",
    "else:\n",
    "    print(\"Adios\")"
   ]
  },
  {
   "cell_type": "code",
   "execution_count": 75,
   "id": "1bfb8ca0",
   "metadata": {},
   "outputs": [
    {
     "name": "stdout",
     "output_type": "stream",
     "text": [
      "Preparar el almuerzo\n",
      "Servir el almnuerzo\n",
      "cenamos\n"
     ]
    }
   ],
   "source": [
    "x=\"no\"\n",
    "\n",
    "if x=='si':\n",
    "    print(\"calentamos el almnuerzo\")\n",
    "    print(\"Servir el almnuerzo\")\n",
    "    print(\"cenamos\")\n",
    "else:\n",
    "    print(\"Preparar el almuerzo\")\n",
    "    print(\"Servir el almnuerzo\")\n",
    "    print(\"cenamos\")"
   ]
  },
  {
   "cell_type": "code",
   "execution_count": 1,
   "id": "4a6aa40d",
   "metadata": {},
   "outputs": [
    {
     "name": "stdout",
     "output_type": "stream",
     "text": [
      "La ganancia de mi negocio es:  500\n"
     ]
    }
   ],
   "source": [
    "ing=1000\n",
    "gas=500\n",
    "if ing>gas:\n",
    "    ganancia=ing-gas\n",
    "    print(\"La ganancia de mi negocio es: \",ganancia)\n",
    "else:\n",
    "    perdida=gas-ing\n",
    "    print(\"La perdida de su negocio es: \",perdida)\n",
    "    "
   ]
  },
  {
   "cell_type": "code",
   "execution_count": 71,
   "id": "1d4687dd",
   "metadata": {},
   "outputs": [
    {
     "name": "stdout",
     "output_type": "stream",
     "text": [
      "Ingrese las ganancias de su negocio10\n",
      "Ingreso los costos invertidos en el negocio19\n",
      "La perdida de su negocio es:  9.0\n",
      "La perdida de su negocio es:  85000\n"
     ]
    }
   ],
   "source": [
    "ing=15000\n",
    "gas=100000\n",
    "\n",
    "def gan_per(ing,gas):\n",
    "    if ing>gas:\n",
    "        ganancia=ing-gas\n",
    "        print(\"La ganancia de mi negocio es: \",ganancia)\n",
    "    else:\n",
    "        perdida=gas-ing\n",
    "        print(\"La perdida de su negocio es: \",perdida)\n",
    "        \n",
    "ing=float(input(\"Ingrese las ganancias de su negocio\"))\n",
    "gas=float(input(\"Ingreso los costos invertidos en el negocio\"))\n",
    "gan_per(ing,gas)\n",
    "gan_per(15000,100000)"
   ]
  },
  {
   "cell_type": "code",
   "execution_count": 73,
   "id": "a91cdd45",
   "metadata": {},
   "outputs": [
    {
     "name": "stdout",
     "output_type": "stream",
     "text": [
      "La suma de 1+2 es igual a la variable B que es: 3\n"
     ]
    }
   ],
   "source": [
    "# Dados tres numeros, determinar si la suma de cualquier pareaja de elos es igual al tercer numero. Si se \n",
    "# cumple, esta condicion debe escribir iguales, sino escribir distinto.\n",
    "\n",
    "A=1\n",
    "B=3\n",
    "C=2\n",
    "\n",
    "if  (A+B)==C:\n",
    "    print(\"La suma de {}+{} es igual a la variable C que es: {}\".format(A,B,C))\n",
    "elif (A+C)==B:\n",
    "    print(\"La suma de {}+{} es igual a la variable B que es: {}\".format(A,C,B))\n",
    "elif  (B+C)==A:\n",
    "    print(\"La suma de {}+{} es igual a la variable A que es: {}\".format(B,C,A))\n",
    "else:\n",
    "    print(\"Distinto\")"
   ]
  },
  {
   "cell_type": "code",
   "execution_count": 77,
   "id": "74e8eb24",
   "metadata": {},
   "outputs": [
    {
     "name": "stdout",
     "output_type": "stream",
     "text": [
      "Son distintos\n"
     ]
    }
   ],
   "source": [
    "n1=30\n",
    "n2=80\n",
    "n3=100\n",
    "\n",
    "if (n1+n2)==n3 or (n1+n3)==n2 or (n2+n3)==n3:\n",
    "    print(\"Son iguales\")\n",
    "else:\n",
    "    print(\"Son distintos\")\n"
   ]
  },
  {
   "cell_type": "code",
   "execution_count": 76,
   "id": "f51af34a",
   "metadata": {},
   "outputs": [
    {
     "name": "stdout",
     "output_type": "stream",
     "text": [
      "0\n",
      "1\n",
      "Ingrese un numero: 6\n",
      "6.0 es un número par\n"
     ]
    }
   ],
   "source": [
    "#ingrese un numero por teclado y determinar si es un numero par o un numero impar\n",
    "\n",
    "# 4|2\n",
    "# 0 2\n",
    "\n",
    "# 3  |2\n",
    "# 10 1.5\n",
    "#  0\n",
    "X=4%2\n",
    "print(X)\n",
    "y=3%2\n",
    "print(y)\n",
    "\n",
    "n=float(input(\"Ingrese un numero: \"))\n",
    "if n % 2 == 0:\n",
    "    print(n,\"es un número par\")\n",
    "else:\n",
    "    print(n,\"es un número impar\")"
   ]
  },
  {
   "cell_type": "code",
   "execution_count": 8,
   "id": "8e513831",
   "metadata": {},
   "outputs": [
    {
     "name": "stdout",
     "output_type": "stream",
     "text": [
      "La tienda tuvo una perdida de: $ 7000\n"
     ]
    }
   ],
   "source": [
    "ing=18000\n",
    "gas=25000\n",
    "if ing>gas:\n",
    "    ganancia=ing-gas\n",
    "    print(\"La tienda tuvo una ganancia de: $\",ganancia)\n",
    "else:\n",
    "    perdida=gas-ing\n",
    "    print(\"La tienda tuvo una perdida de: $\",perdida)"
   ]
  },
  {
   "cell_type": "code",
   "execution_count": 9,
   "id": "7a952da3",
   "metadata": {},
   "outputs": [
    {
     "name": "stdout",
     "output_type": "stream",
     "text": [
      "La tienda tuvo una ganancia de: $ 3000\n"
     ]
    }
   ],
   "source": [
    "def gan_perd(ing,gas):\n",
    "    if ing>gas:\n",
    "        ganancia=ing-gas\n",
    "        print(\"La tienda tuvo una ganancia de: $\",ganancia)\n",
    "    else:\n",
    "        perdida=gas-ing\n",
    "        print(\"La tienda tuvo una perdida de: $\",perdida)\n",
    "        \n",
    "ing=18000\n",
    "gas=15000        \n",
    "gan_perd(ing,gas)"
   ]
  },
  {
   "cell_type": "code",
   "execution_count": 1,
   "id": "a8f6b090",
   "metadata": {},
   "outputs": [
    {
     "name": "stdout",
     "output_type": "stream",
     "text": [
      "el cajero no tiene dinero suficiente para una transacion\n"
     ]
    }
   ],
   "source": [
    "##### Realice un algoritmo que permita verificar el saldo de una cuenta en un cajero, \n",
    "#si tiene plata retirar un dinero, y recibir un mensaje del nuevo saldo, sino tiene plata no\n",
    "# puede retirar el dinero, debe recibir el valor del saldo y solicitar ingresar un nuevo valor\n",
    "#tener en cuenta que existen dos ramas de una condición. \n",
    "\n",
    "cuenta=10000\n",
    "cajero=1000\n",
    "\n",
    "#Cajero tiene mas dinero que la cuenta\n",
    "#escribir dinero que se quiere sacar de la cuenta\n",
    "#Comparacion dinero cuenta y dinero a retirar\n",
    "    #Si el dinero que tiene la cuenta es mayor lo puedo retirar\n",
    "    #no tengo suficiente dinero en la cuenta\n",
    "    \n",
    "if cajero==0 or cajero<cuenta:\n",
    "    print(\"el cajero no tiene dinero suficiente para una transacion\")\n",
    "else:\n",
    "    if cuenta==0:\n",
    "        print(\"no tengo salgo suficiente en la cuenta\")\n",
    "        print(\"no puedes retirar el dinero\")\n",
    "    else:\n",
    "        val_ret=int(input(\"ingrese el valor a retirar: \"))\n",
    "        if val_ret>cuenta:\n",
    "            print(\"No puedes retirar ese dinero\")\n",
    "            print(\"El saldo de la cuenta es: \",cuenta)\n",
    "            val_ret=int(input(\"ingrese el valor a retirar: \"))\n",
    "        else:\n",
    "            print(\"has retirado: $\",val_ret)\n",
    "            cuenta=cuenta-val_ret\n",
    "            print(\"Tu saldo es: \",cuenta)\n",
    "        "
   ]
  },
  {
   "cell_type": "code",
   "execution_count": 7,
   "id": "87a50207",
   "metadata": {},
   "outputs": [
    {
     "name": "stdout",
     "output_type": "stream",
     "text": [
      "Ingrese el valor a retirar: 191919109\n",
      "No puedes retirar el dinero\n",
      "El saldo en tu cuenta es:  9000\n",
      "Ingrese el valor a retirar: 1902913\n",
      "No puedes retirar el dinero\n",
      "El saldo en tu cuenta es:  9000\n",
      "Ingrese el valor a retirar: 1000\n",
      "Has retirado:  1000\n",
      "Tu saldo es:  8000\n"
     ]
    }
   ],
   "source": [
    "##### Realice un algoritmo que permita verificar el saldo de una cuenta en un cajero, \n",
    "#si tiene plata retirar un dinero, y recibir un mensaje del nuevo saldo, sino tiene plata no\n",
    "# puede retirar el dinero, debe recibir el valor del saldo y solicitar ingresar un nuevo valor\n",
    "#tener en cuenta que existen dos ramas de una condición. \n",
    "\n",
    "#Valor_Cuenta\n",
    "#Verificar que el cajero no tiene dinero suficiente\n",
    "#Introducir_valor_retirar\n",
    "#Sacar mensaje de acuerdo a la condicion\n",
    "    #Verificar si el cajero cuenta con el dinero\n",
    "        #\n",
    "        #\n",
    "        #\n",
    "    #si puede sacar dinero\n",
    "        #Comparar el valor que quiero retirar y el saldo de mi cuenta\n",
    "        #Restar el valor que yo introduci al valor que yo tengo\n",
    "        #mostrar el valor actual\n",
    "    #si no puede sacar dinero\n",
    "        #Mensaje del porque no se puede sacar dinero\n",
    "        #solicitar ingresar un nuevo valor\n",
    "        #retiro el dinero\n",
    "        #muestro un mensaje con el nuevo valor en la cuenta, mostrar mensaje valor retirado\n",
    "#Fin\n",
    "\n",
    "cuenta=9000\n",
    "cajero=19000\n",
    "def cal_ban(cuenta,cajero):\n",
    "    while cajero==0 or cajero<cuenta:\n",
    "        print(\"El cajero no tiene dinero suficiente para una transaccion\")\n",
    "        break\n",
    "    else:    \n",
    "        while cuenta==0:\n",
    "            print(\"No tienes saldo sufienciente en tu cuenta\")\n",
    "            print(\"Por favor retira la tarjeta\")\n",
    "            break\n",
    "        else:\n",
    "            valor_ret=int(input(\"Ingrese el valor a retirar: \"))\n",
    "            while valor_ret>cuenta:\n",
    "                print(\"No puedes retirar el dinero\")\n",
    "                print(\"El saldo en tu cuenta es: \",cuenta)\n",
    "                valor_ret=int(input(\"Ingrese el valor a retirar: \"))\n",
    "            else:\n",
    "                print(\"Has retirado: \",valor_ret)\n",
    "                cuenta=cuenta-valor_ret\n",
    "                print(\"Tu saldo es: \",cuenta)\n",
    "    return cuenta\n",
    "cuenta=cal_ban(cuenta,cajero)"
   ]
  }
 ],
 "metadata": {
  "kernelspec": {
   "display_name": "Python 3",
   "language": "python",
   "name": "python3"
  },
  "language_info": {
   "codemirror_mode": {
    "name": "ipython",
    "version": 3
   },
   "file_extension": ".py",
   "mimetype": "text/x-python",
   "name": "python",
   "nbconvert_exporter": "python",
   "pygments_lexer": "ipython3",
   "version": "3.9.1"
  }
 },
 "nbformat": 4,
 "nbformat_minor": 5
}
