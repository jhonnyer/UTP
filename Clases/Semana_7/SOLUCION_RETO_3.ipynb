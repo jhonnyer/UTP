{
 "cells": [
  {
   "cell_type": "code",
   "execution_count": 53,
   "id": "585b6f69",
   "metadata": {},
   "outputs": [],
   "source": [
    "def Seleccion(info: dict) -> list:\n",
    "    ganador={}\n",
    "  \n",
    "    mayorPromedio=0\n",
    "    for a in info:\n",
    "        \n",
    "        participante={}#{'nombre':'', 'apellido':'', 'documento':0, 'programa':'','promedio':0,'correo':''}\n",
    "        participante=info[a]\n",
    "        participante.setdefault('promedio',0)\n",
    "        participante.setdefault('correo','')\n",
    "        participante.setdefault('codigo',a)\n",
    "        materias= participante.pop('materias')\n",
    "        sumatoria=0\n",
    "        cantidad=0\n",
    "        for m in materias:\n",
    "            if m['retirada']=='No':\n",
    "                sumatoria+=m['nota']*m['creditos']\n",
    "                cantidad+=m['creditos']\n",
    "        if cantidad >0 and sumatoria>0:\n",
    "            participante['promedio']=sumatoria/cantidad\n",
    "            \n",
    "        if participante['promedio']>mayorPromedio:\n",
    "            ganador=participante\n",
    "            mayorPromedio=participante['promedio']\n",
    "        elif participante['promedio']==mayorPromedio: #and not(participante['promedio']==0):\n",
    "            añoGanador=int(str(ganador['codigo'])[0:4])\n",
    "            añoParti=int(str(participante['codigo'])[0:4])\n",
    "            periodoGanador=int(str(ganador['codigo'])[4:6])\n",
    "            periodoParti=int(str(participante['codigo'])[4:6])\n",
    "            \n",
    "            if añoParti< añoGanador:\n",
    "                ganador=participante\n",
    "                mayorPromedio=participante['promedio']   \n",
    "            elif añoParti== añoGanador:\n",
    "                if periodoParti< periodoGanador:\n",
    "                    ganador=participante\n",
    "                    mayorPromedio=participante['promedio']     \n",
    "    \n",
    "    corteNombre=ganador['nombres'].find(' ')\n",
    "    corteApellido=ganador['apellidos'].find(',')\n",
    "   \n",
    "    if not(ganador['nombres'].find(' ')==-1):        \n",
    "        c=ganador['nombres'][:1]+ganador['nombres'][corteNombre+1:corteNombre+2]+\".\"+ganador['apellidos'][:corteApellido]+str(ganador['documento'])[-2:]  \n",
    "    else:\n",
    "        c= ganador['nombres'][:1] + ganador['apellidos'][:1]+\".\"+ganador['apellidos'][corteApellido+2:]+str(ganador['documento'])[-2:]  \n",
    "    c=c.lower()\n",
    "    for u in range(0,len(c)):\n",
    "       y=c[u:u+1]\n",
    "       if y =='á':\n",
    "            c=c[0:u]+'a'+c[u+1:]\n",
    "       elif y =='é':\n",
    "            c=c[0:u]+'e'+c[u+1:]   \n",
    "       elif y =='ì':\n",
    "            c=c[0:u]+'i'+c[u+1:]\n",
    "       elif y =='ó':\n",
    "            c=c[0:u]+'o'+c[u+1:]\n",
    "       elif y =='ù':\n",
    "            c=c[0:u]+'u'+c[u+1:]   \n",
    "    ganador['correo']=c\n",
    "    return [ganador['codigo'], ganador['nombres'], ganador['apellidos'], ganador['documento'], ganador['programa'], ganador['promedio'],ganador['correo']]\n"
   ]
  },
  {
   "cell_type": "code",
   "execution_count": 54,
   "id": "79f1c894",
   "metadata": {},
   "outputs": [
    {
     "name": "stdout",
     "output_type": "stream",
     "text": [
      "{'nombres': 'Sara Carolina', 'apellidos': 'Gómez, Fernández', 'documento': 58770043, 'programa': 'ARQD', 'promedio': 0, 'correo': '', 'codigo': 20130225137}\n",
      "\n",
      "[{'facultad': 'Arquitectura', 'codigo': 'ARQU-7738', 'nota': 3.36, 'creditos': 3, 'retirada': 'No'}, {'facultad': 'Arquitectura', 'codigo': 'ARQU-7698', 'nota': 1.59, 'creditos': 4, 'retirada': 'Si'}]\n"
     ]
    }
   ],
   "source": [
    "for a in info:\n",
    "    participante={}#{'nombre':'', 'apellido':'', 'documento':0, 'programa':'','promedio':0,'correo':''}\n",
    "    participante=info[a]\n",
    "    participante.setdefault('promedio',0)\n",
    "    participante.setdefault('correo','')\n",
    "    participante.setdefault('codigo',a)\n",
    "    materias= participante.pop('materias')\n",
    "    \n",
    "print(participante)\n",
    "print()\n",
    "print(materias)"
   ]
  },
  {
   "cell_type": "code",
   "execution_count": 55,
   "id": "b086b68d",
   "metadata": {},
   "outputs": [
    {
     "name": "stdout",
     "output_type": "stream",
     "text": [
      "10.08\n",
      "3\n"
     ]
    }
   ],
   "source": [
    "sumatoria=0\n",
    "cantidad=0\n",
    "for m in materias:\n",
    "    if m['retirada']=='No':\n",
    "        sumatoria+=m['nota']*m['creditos']\n",
    "        cantidad+=m['creditos']\n",
    "    if cantidad >0 and sumatoria>0:\n",
    "            participante['promedio']=sumatoria/cantidad\n",
    "    \n",
    "print(sumatoria)\n",
    "print(cantidad)"
   ]
  },
  {
   "cell_type": "code",
   "execution_count": 60,
   "id": "94f9a637",
   "metadata": {},
   "outputs": [
    {
     "name": "stdout",
     "output_type": "stream",
     "text": [
      "4\n",
      "5\n",
      "{'nombres': 'Sara Carolina', 'apellidos': 'Gómez, Fernández', 'documento': 58770043, 'programa': 'ARQD', 'promedio': 3.36, 'correo': '', 'codigo': 20130225137}\n",
      "SC.Gómez43\n"
     ]
    }
   ],
   "source": [
    "ganador={}\n",
    "mayorPromedio=0\n",
    "if participante['promedio']>mayorPromedio:\n",
    "    ganador=participante\n",
    "    mayorPromedio=participante['promedio']\n",
    "elif participante['promedio']==mayorPromedio: #and not(participante['promedio']==0):\n",
    "    añoGanador=int(str(ganador['codigo'])[0:4])\n",
    "    añoParti=int(str(participante['codigo'])[0:4])\n",
    "    periodoGanador=int(str(ganador['codigo'])[4:6])\n",
    "    periodoParti=int(str(participante['codigo'])[4:6])\n",
    "            \n",
    "    if añoParti< añoGanador:\n",
    "        ganador=participante\n",
    "        mayorPromedio=participante['promedio']   \n",
    "    elif añoParti== añoGanador:\n",
    "        if periodoParti< periodoGanador:\n",
    "            ganador=participante\n",
    "            mayorPromedio=participante['promedio']     \n",
    "    \n",
    "corteNombre=ganador['nombres'].find(' ')\n",
    "corteApellido=ganador['apellidos'].find(',')\n",
    "\n",
    "print(corteNombre)\n",
    "print(corteApellido)\n",
    "\n",
    "print(ganador)\n",
    "\n",
    "if not(ganador['nombres'].find(' ')==-1):   \n",
    "    c=ganador['nombres'][:1]+ganador['nombres'][corteNombre+1:corteNombre+2]+\".\"+ganador['apellidos'][:corteApellido]+str(ganador['documento'])[-2:]\n",
    "    print(c)\n",
    "else:\n",
    "    c= ganador['nombres'][:1] + ganador['apellidos'][:1]+\".\"+ganador['apellidos'][corteApellido+2:]+str(ganador['documento'])[-2:]  \n",
    "    c=c.lower()\n",
    "    print(c)"
   ]
  },
  {
   "cell_type": "code",
   "execution_count": 45,
   "id": "5171c2fb",
   "metadata": {},
   "outputs": [],
   "source": [
    "if not(ganador['nombres'].find(' ')==-1):        \n",
    "    c=ganador['nombres'][:1]+ganador['nombres'][corteNombre+1:corteNombre+2]+\".\"+ganador['apellidos'][:corteApellido]+str(ganador['documento'])[-2:]  \n",
    "else:\n",
    "    c= ganador['nombres'][:1] + ganador['apellidos'][:1]+\".\"+ganador['apellidos'][corteApellido+2:]+str(ganador['documento'])[-2:]  \n",
    "    c=c.lower()\n",
    "    print(ganador)\n",
    "#     ganador['correo']=c\n",
    "#     print(c)\n",
    "#     print([ganador['codigo'], ganador['nombres'], ganador['apellidos'], ganador['documento'], ganador['programa'], ganador['promedio'],ganador['correo']])\n"
   ]
  },
  {
   "cell_type": "code",
   "execution_count": 58,
   "id": "dd7cafed",
   "metadata": {},
   "outputs": [
    {
     "name": "stdout",
     "output_type": "stream",
     "text": [
      "{20170136837: {'nombres': 'Jorge Juan', 'apellidos': 'Moreno, Lopez', 'documento': 88481595, 'programa': 'ARQU', 'materias': [{'facultad': 'Arquitectura', 'codigo': 'ARQU-2113', 'nota': 2.97, 'creditos': 2, 'retirada': 'No'}, {'facultad': 'Arquitectura', 'codigo': 'ARQU-5048', 'nota': 4.26, 'creditos': 0, 'retirada': 'No'}]}, 20130225137: {'nombres': 'Sara Carolina', 'apellidos': 'Gómez, Fernández', 'documento': 58770043, 'programa': 'ARQD', 'materias': [{'facultad': 'Arquitectura', 'codigo': 'ARQU-7738', 'nota': 3.36, 'creditos': 3, 'retirada': 'No'}, {'facultad': 'Arquitectura', 'codigo': 'ARQU-7698', 'nota': 1.59, 'creditos': 4, 'retirada': 'Si'}]}}\n"
     ]
    }
   ],
   "source": [
    "info={\n",
    "    20170136837:{\n",
    "        'nombres':'Jorge Juan',\n",
    "        'apellidos':'Moreno, Lopez',\n",
    "        'documento':88481595,\n",
    "        'programa':'ARQU',\n",
    "        'materias':[\n",
    "            {\n",
    "                'facultad':'Arquitectura',\n",
    "                'codigo':'ARQU-2113',\n",
    "                'nota':2.97,\n",
    "                'creditos':2,\n",
    "                'retirada':'No'\n",
    "            },\n",
    "            {\n",
    "                'facultad':'Arquitectura',\n",
    "                'codigo':'ARQU-5048',\n",
    "                'nota':4.26,\n",
    "                'creditos':0,\n",
    "                'retirada':'No'\n",
    "            }\n",
    "        ]\n",
    "        \n",
    "    },\n",
    "    20130225137:{\n",
    "        'nombres':'Sara Carolina',\n",
    "        'apellidos':'Gómez, Fernández',\n",
    "        'documento':58770043,\n",
    "        'programa':'ARQD',\n",
    "        'materias':[\n",
    "            {\n",
    "                'facultad':'Arquitectura',\n",
    "                'codigo':'ARQU-7738',\n",
    "                'nota':3.36,\n",
    "                'creditos':3,\n",
    "                'retirada':'No'\n",
    "            },\n",
    "            {\n",
    "                'facultad':'Arquitectura',\n",
    "                'codigo':'ARQU-7698',\n",
    "                'nota':1.59,\n",
    "                'creditos':4,\n",
    "                'retirada':'Si'\n",
    "            }\n",
    "        ]\n",
    "        \n",
    "    }\n",
    "    \n",
    "}\n",
    "\n",
    "print(info)"
   ]
  },
  {
   "cell_type": "code",
   "execution_count": 59,
   "id": "ccfc9d13",
   "metadata": {},
   "outputs": [
    {
     "data": {
      "text/plain": [
       "[20130225137,\n",
       " 'Sara Carolina',\n",
       " 'Gómez, Fernández',\n",
       " 58770043,\n",
       " 'ARQD',\n",
       " 3.36,\n",
       " 'sc.gomez43']"
      ]
     },
     "execution_count": 59,
     "metadata": {},
     "output_type": "execute_result"
    }
   ],
   "source": [
    "Seleccion(info)"
   ]
  }
 ],
 "metadata": {
  "kernelspec": {
   "display_name": "Python 3",
   "language": "python",
   "name": "python3"
  },
  "language_info": {
   "codemirror_mode": {
    "name": "ipython",
    "version": 3
   },
   "file_extension": ".py",
   "mimetype": "text/x-python",
   "name": "python",
   "nbconvert_exporter": "python",
   "pygments_lexer": "ipython3",
   "version": "3.9.1"
  }
 },
 "nbformat": 4,
 "nbformat_minor": 5
}
