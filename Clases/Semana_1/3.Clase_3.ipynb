{
 "cells": [
  {
   "cell_type": "markdown",
   "id": "a0619e62",
   "metadata": {},
   "source": [
    "Pagina 1: planteamiento del problema\n",
    "Pagina 5: Objetivo\n",
    "Pagina 25: Trabajos Relacionados\n",
    "Pagina: 39: Propuesta solucion.\n",
    "Pagina 79: Solucion, prototipo\n",
    "Pagina 95: Pruebas \n",
    "Pagina 109: Conclusiones"
   ]
  },
  {
   "cell_type": "code",
   "execution_count": null,
   "id": "0b76e14a",
   "metadata": {},
   "outputs": [],
   "source": [
    "1) Buscar Semejanzas con otros problemas\n",
    "2) Reducir los aspectos complicados a su version mas simple\n",
    "3) Considerar casos particulares (Otros problemas)\n",
    "4) Hacer un dibujo o diagrama del problema\n",
    "5) Estudiar todos los casos posibles\n",
    "7) Incorporar algo adicionl\n"
   ]
  },
  {
   "cell_type": "code",
   "execution_count": 3,
   "id": "d3b0bfa6",
   "metadata": {},
   "outputs": [
    {
     "name": "stdout",
     "output_type": "stream",
     "text": [
      "Ingresa el numero de estudiantes a matricular: 12\n",
      "No voy a poder matricular los estudiantes, cupo maximo 20. Tengo actualmente matriculados 10 estudiantes\n"
     ]
    }
   ],
   "source": [
    "# Tengo un numero de estudiantes matriculados que van a ser 10, tengo un cupo de 20 estudiantes, necesito \n",
    "# matricular nuevos estudiantes. Programa que me permita ingresar nuevos estudiantes al curso pero que no supere el cupo\n",
    "\n",
    "m=10\n",
    "x=20\n",
    "e=int(input(\"Ingresa el numero de estudiantes a matricular: \"))\n",
    "y=m+e\n",
    "if y>x:\n",
    "    print(\"No voy a poder matricular los estudiantes, cupo maximo 20. Tengo actualmente matriculados 10 estudiantes\")\n",
    "\n",
    "else:\n",
    "    print(\"Estudiantes matriculados\")"
   ]
  },
  {
   "cell_type": "code",
   "execution_count": 2,
   "id": "559355af",
   "metadata": {},
   "outputs": [
    {
     "name": "stdout",
     "output_type": "stream",
     "text": [
      "Ingresa el numero de estudiantes a matricular: 2\n",
      "Estudiantes matriculados\n",
      "El numero de cupos disponibles va ser:  8\n",
      "Ingresa el numero de estudiantes a matricular: 2\n",
      "8\n",
      "Estudiantes matriculados:  20\n"
     ]
    }
   ],
   "source": [
    "# Tengo un numero de estudiantes matriculados que van a ser 10, tengo un cupo de 20 estudiantes, necesito \n",
    "# matricular nuevos estudiantes. Programa que me permita ingresar nuevos estudiantes al curso pero que no supere el cupo\n",
    "\n",
    "m=10\n",
    "x=20\n",
    "e=int(input(\"Ingresa el numero de estudiantes a matricular: \"))\n",
    "y=m+e\n",
    "\n",
    "while y>x:\n",
    "    y=m\n",
    "    print(\"No voy a poder matricular los estudiantes, cupo maximo 20. Tengo actualmente matriculados 10 estudiantes\")\n",
    "    e=int(input(\"Ingresa el numero de estudiantes a matricular: \"))\n",
    "    y+=e\n",
    "else:\n",
    "    print(\"Estudiantes matriculados\")\n",
    "    r=20-y\n",
    "    print(\"El numero de cupos disponibles va ser: \",r)\n",
    "    e=int(input(\"Ingresa el numero de estudiantes a matricular: \"))\n",
    "    print(r)\n",
    "    if e>r:\n",
    "        print(\"El numero de cupos no esta disponible\")\n",
    "    else:\n",
    "        r=r+e+m\n",
    "        print(\"Estudiantes matriculados: \",r)\n",
    "    \n"
   ]
  },
  {
   "cell_type": "code",
   "execution_count": 1,
   "id": "bf59456e",
   "metadata": {},
   "outputs": [
    {
     "name": "stdout",
     "output_type": "stream",
     "text": [
      "[[ 2 -1]\n",
      " [ 1 -1]]\n",
      "[ 0 -4]\n",
      "[4. 8.]\n"
     ]
    }
   ],
   "source": [
    "# Ecuaciones\n",
    "# y=2x\n",
    "# y=x+4\n",
    "#Remplazo y de la primera ecuacion en la segunda ecuacion\n",
    "# 2x=x+4\n",
    "# 2x-x=4\n",
    "# x=4\n",
    "\n",
    "#remplazo x en la segunda ecuacion\n",
    "# y=4+4\n",
    "\n",
    "# Igualo ecuacion 1 y 2 a cero o el numero entero\n",
    "# 2x-y=0\n",
    "# x-y=-4\n",
    "\n",
    "\n",
    "import numpy as np\n",
    "a=np.array([[2,-1],[1,-1]])\n",
    "# b= Almacena los valores del vector solucion \n",
    "b=np.array([0,-4])\n",
    "print(a)\n",
    "print(b)\n",
    "x=np.linalg.solve(a,b)\n",
    "print(x)"
   ]
  },
  {
   "cell_type": "code",
   "execution_count": 43,
   "id": "ddbbd403",
   "metadata": {},
   "outputs": [
    {
     "name": "stdout",
     "output_type": "stream",
     "text": [
      "0.6666666666666666   0.2   0.16666666666666666\n",
      "3.333333333333333\n"
     ]
    }
   ],
   "source": [
    "pag=2/3\n",
    "camp=1/5\n",
    "eventos=1/6\n",
    "\n",
    "camp_valor=20000\n",
    "print(pag)\n",
    "print(camp)\n",
    "\n",
    "x=pag/camp\n",
    "print(\"En las paginas se recogieron {} veces mas que en eventos publicos \".format(x))\n",
    "n=x*camp_valor\n",
    "print(\"En las paginas se recogio en total: {}\".format(n))"
   ]
  }
 ],
 "metadata": {
  "kernelspec": {
   "display_name": "Python 3",
   "language": "python",
   "name": "python3"
  },
  "language_info": {
   "codemirror_mode": {
    "name": "ipython",
    "version": 3
   },
   "file_extension": ".py",
   "mimetype": "text/x-python",
   "name": "python",
   "nbconvert_exporter": "python",
   "pygments_lexer": "ipython3",
   "version": "3.9.1"
  }
 },
 "nbformat": 4,
 "nbformat_minor": 5
}
