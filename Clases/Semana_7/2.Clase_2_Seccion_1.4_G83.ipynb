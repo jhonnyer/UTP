{
 "cells": [
  {
   "cell_type": "code",
   "execution_count": 3,
   "id": "b4fb2bbc",
   "metadata": {},
   "outputs": [
    {
     "name": "stdout",
     "output_type": "stream",
     "text": [
      "Hola Liliana\n",
      "Hola Liliana\n",
      "Hola Liliana\n"
     ]
    }
   ],
   "source": [
    "#Cadenas formateadas\n",
    "nombre='Liliana'\n",
    "cadena_formateada='Hola %s' %nombre\n",
    "print(cadena_formateada)\n",
    "print('Hola {}'.format(nombre))\n",
    "\n",
    "print('Hola '+nombre)"
   ]
  },
  {
   "cell_type": "code",
   "execution_count": 5,
   "id": "90d0b36c",
   "metadata": {},
   "outputs": [
    {
     "name": "stdout",
     "output_type": "stream",
     "text": [
      "Esto es una letra M: M\n",
      "Esto es un numero 8: 8\n",
      "Esto es una lista: [10, 30, 100]\n"
     ]
    }
   ],
   "source": [
    "print(\"Esto es una letra M: %s\" %'M')\n",
    "print(\"Esto es un numero 8: %s\" %8)\n",
    "print(\"Esto es una lista: %s\" %[10,30,100])"
   ]
  },
  {
   "cell_type": "code",
   "execution_count": 6,
   "id": "742ceaad",
   "metadata": {},
   "outputs": [
    {
     "name": "stdout",
     "output_type": "stream",
     "text": [
      "Hola Liliana y Catalina bienvenidas\n"
     ]
    }
   ],
   "source": [
    "nombre1='Liliana'\n",
    "nombre2='Catalina'\n",
    "print('Hola %s y %s bienvenidas' %(nombre1, nombre2))"
   ]
  },
  {
   "cell_type": "code",
   "execution_count": 7,
   "id": "5bd9874c",
   "metadata": {
    "scrolled": true
   },
   "outputs": [
    {
     "name": "stdout",
     "output_type": "stream",
     "text": [
      "*      Enero *  Enero      *\n",
      "*    Febrero *  Febrero    *\n",
      "*      Marzo *  Marzo      *\n",
      "*      Abril *  Abril      *\n",
      "*       Mayo *  Mayo       *\n",
      "*      Junio *  Junio      *\n"
     ]
    }
   ],
   "source": [
    "primeros_pasos=['Enero','Febrero','Marzo','Abril','Mayo','Junio']\n",
    "for i in primeros_pasos:\n",
    "    print(\"* %10s *  %-10s *\" %(i,i))"
   ]
  },
  {
   "cell_type": "code",
   "execution_count": 8,
   "id": "d2dd992d",
   "metadata": {},
   "outputs": [
    {
     "name": "stdout",
     "output_type": "stream",
     "text": [
      "El lenguaje de programación Python nacio en el año 1991\n"
     ]
    }
   ],
   "source": [
    "#Formateo de caracteres con entero\n",
    "print(\"El lenguaje de programación %s nacio en el año %d\" %('Python',1991))"
   ]
  },
  {
   "cell_type": "code",
   "execution_count": 9,
   "id": "6aa47d96",
   "metadata": {},
   "outputs": [
    {
     "name": "stdout",
     "output_type": "stream",
     "text": [
      "El lenguaje de programación Python nacio en el año 1991\n"
     ]
    }
   ],
   "source": [
    "#Formateo de caracteres con entero\n",
    "print(\"El lenguaje de programación %s nacio en el año %d\" %('Python',1991.98))"
   ]
  },
  {
   "cell_type": "code",
   "execution_count": 10,
   "id": "59e1c25e",
   "metadata": {},
   "outputs": [
    {
     "name": "stdout",
     "output_type": "stream",
     "text": [
      "El numero hexadecimal es 160 y el decimal es 10\n"
     ]
    }
   ],
   "source": [
    "hexadecimal=0XA0\n",
    "decimal=10.5\n",
    "print(\"El numero hexadecimal es %d y el decimal es %d\" %(hexadecimal ,decimal))"
   ]
  },
  {
   "cell_type": "code",
   "execution_count": 14,
   "id": "d87b427e",
   "metadata": {},
   "outputs": [
    {
     "name": "stdout",
     "output_type": "stream",
     "text": [
      "El número 1000 en hexadecimal (minuscula) es 3e8\n",
      "El número 1000 en hexadecimal (mayuscula) es 3E8\n",
      "El número 1000 en exponencial (minuscula) es 1.000000e+03\n",
      "El número 1000 en exponencial (mayuscula) es 1.000000E+03\n"
     ]
    }
   ],
   "source": [
    "#Formateo de un  numero entero en hexadecimal y en decimal\n",
    "numero=1000\n",
    "print(\"El número %d en hexadecimal (minuscula) es %x\" %(numero, numero))\n",
    "print(\"El número %d en hexadecimal (mayuscula) es %X\" %(numero, numero))\n",
    "print(\"El número %d en exponencial (minuscula) es %e\" %(numero, numero))\n",
    "print(\"El número %d en exponencial (mayuscula) es %E\" %(numero, numero))"
   ]
  },
  {
   "cell_type": "code",
   "execution_count": 15,
   "id": "1e1a7b7c",
   "metadata": {},
   "outputs": [
    {
     "name": "stdout",
     "output_type": "stream",
     "text": [
      "Un tercio es (sin decimales) es 0\n",
      "Un tercio es 0.333333\n"
     ]
    }
   ],
   "source": [
    "tercio=1.0/3\n",
    "print(\"Un tercio es (sin decimales) es %d\" %tercio)\n",
    "print(\"Un tercio es %f\" %tercio)"
   ]
  },
  {
   "cell_type": "code",
   "execution_count": 18,
   "id": "1545421b",
   "metadata": {
    "scrolled": true
   },
   "outputs": [
    {
     "name": "stdout",
     "output_type": "stream",
     "text": [
      "Un tercio es 0.333333\n",
      "un tercio es 0.33\n",
      "un tercio es 0.33333333\n",
      "un tercio es 0.3\n"
     ]
    }
   ],
   "source": [
    "tercio=1.0/3\n",
    "print(\"Un tercio es %f\" %tercio)\n",
    "print(\"un tercio es %.2f\" %tercio)\n",
    "print(\"un tercio es %.8f\" %tercio)\n",
    "print(\"un tercio es %.1f\" %tercio)"
   ]
  },
  {
   "cell_type": "code",
   "execution_count": 19,
   "id": "afe33bcd",
   "metadata": {},
   "outputs": [
    {
     "name": "stdout",
     "output_type": "stream",
     "text": [
      "Escriba su nombre, por favor: Jhonnyer\n",
      "Hola Jhonnyer\n",
      "Hola  Jhonnyer\n",
      "Hola Jhonnyer\n",
      "<class 'str'>\n"
     ]
    }
   ],
   "source": [
    "nombre=input(\"Escriba su nombre, por favor: \")\n",
    "print('Hola '+nombre)\n",
    "print('Hola ',nombre)\n",
    "print('Hola {}'.format(nombre))\n",
    "print(type(nombre))\n"
   ]
  },
  {
   "cell_type": "code",
   "execution_count": 24,
   "id": "4443572d",
   "metadata": {},
   "outputs": [
    {
     "name": "stdout",
     "output_type": "stream",
     "text": [
      "Escriba su edad, por favor: 19\n",
      "Tienes  19  años\n",
      "Tienes 19 años\n",
      "Tienes 19 años \n",
      "<class 'int'>\n"
     ]
    }
   ],
   "source": [
    "edad=int(input(\"Escriba su edad, por favor: \"))\n",
    "#print('Tienes '+edad+' años')\n",
    "print('Tienes ',edad,' años')\n",
    "print('Tienes {} años'.format(edad))\n",
    "print(\"Tienes %d años \" %edad)\n",
    "print(type(edad))\n"
   ]
  }
 ],
 "metadata": {
  "kernelspec": {
   "display_name": "Python 3",
   "language": "python",
   "name": "python3"
  },
  "language_info": {
   "codemirror_mode": {
    "name": "ipython",
    "version": 3
   },
   "file_extension": ".py",
   "mimetype": "text/x-python",
   "name": "python",
   "nbconvert_exporter": "python",
   "pygments_lexer": "ipython3",
   "version": "3.9.1"
  }
 },
 "nbformat": 4,
 "nbformat_minor": 5
}
