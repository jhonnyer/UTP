{
 "cells": [
  {
   "cell_type": "code",
   "execution_count": 1,
   "id": "1776da86",
   "metadata": {},
   "outputs": [
    {
     "name": "stdout",
     "output_type": "stream",
     "text": [
      "40\n"
     ]
    }
   ],
   "source": [
    "def suma(a,b):\n",
    "    return a+b\n",
    "\n",
    "a=suma(30,10)\n",
    "print(a)"
   ]
  },
  {
   "cell_type": "code",
   "execution_count": 2,
   "id": "288012ef",
   "metadata": {},
   "outputs": [
    {
     "name": "stdout",
     "output_type": "stream",
     "text": [
      "40\n"
     ]
    }
   ],
   "source": [
    "def suma(a,b):\n",
    "    c=a+b\n",
    "    return c\n",
    "\n",
    "valor=suma(30,10)\n",
    "print(valor)"
   ]
  },
  {
   "cell_type": "code",
   "execution_count": 3,
   "id": "89460bfa",
   "metadata": {},
   "outputs": [
    {
     "name": "stdout",
     "output_type": "stream",
     "text": [
      "30\n"
     ]
    }
   ],
   "source": [
    "b=20\n",
    "a=10\n",
    "c=suma(a,b)\n",
    "print(c)"
   ]
  },
  {
   "cell_type": "code",
   "execution_count": 4,
   "id": "5a0b04b4",
   "metadata": {},
   "outputs": [
    {
     "data": {
      "text/plain": [
       "46"
      ]
     },
     "execution_count": 4,
     "metadata": {},
     "output_type": "execute_result"
    }
   ],
   "source": [
    "suma(b=12,a=34)"
   ]
  },
  {
   "cell_type": "code",
   "execution_count": 5,
   "id": "918e6a4e",
   "metadata": {},
   "outputs": [
    {
     "data": {
      "text/plain": [
       "function"
      ]
     },
     "execution_count": 5,
     "metadata": {},
     "output_type": "execute_result"
    }
   ],
   "source": [
    "def consultar_nombre_genero(letra_genero): pass\n",
    "\n",
    "type(consultar_nombre_genero)"
   ]
  },
  {
   "cell_type": "code",
   "execution_count": 6,
   "id": "d4ce7213",
   "metadata": {},
   "outputs": [
    {
     "name": "stdout",
     "output_type": "stream",
     "text": [
      "None\n"
     ]
    }
   ],
   "source": [
    "consultar_nombre_genero(\"M\")\n",
    "variable=consultar_nombre_genero('M')\n",
    "print(variable)"
   ]
  },
  {
   "cell_type": "code",
   "execution_count": 7,
   "id": "550bffbb",
   "metadata": {},
   "outputs": [
    {
     "name": "stdout",
     "output_type": "stream",
     "text": [
      "11\n",
      "\n",
      "\n",
      "Fin\n",
      "None\n"
     ]
    }
   ],
   "source": [
    "def otra_suma(numero1,numero2):\n",
    "    print(numero1+numero2)\n",
    "    print(\"\\n\")\n",
    "    print(\"Fin\")\n",
    "    \n",
    "resultado=otra_suma(5,6)\n",
    "print(resultado)"
   ]
  },
  {
   "cell_type": "code",
   "execution_count": 8,
   "id": "c2421804",
   "metadata": {},
   "outputs": [
    {
     "name": "stdout",
     "output_type": "stream",
     "text": [
      "11\n",
      "\n",
      "\n",
      "11\n"
     ]
    }
   ],
   "source": [
    "def otra_suma(numero1,numero2):\n",
    "    print(numero1+numero2)\n",
    "    print(\"\\n\")\n",
    "    return numero1+numero2\n",
    "    \n",
    "resultado=otra_suma(5,6)\n",
    "print(resultado)"
   ]
  },
  {
   "cell_type": "code",
   "execution_count": 9,
   "id": "27fa12f5",
   "metadata": {},
   "outputs": [
    {
     "name": "stdout",
     "output_type": "stream",
     "text": [
      "22\n"
     ]
    }
   ],
   "source": [
    "#Realice una funcion que lea 2 numeros y lo muestr en la pantalla;\n",
    "#el resultado de la suma multipliquelo por dos\n",
    "\n",
    "\n",
    "def suma1(num1,num2):\n",
    "    numero=num1+num2\n",
    "    return numero\n",
    "\n",
    "var1=suma1(5,6)\n",
    "var2=var1*2\n",
    "print(var2)"
   ]
  },
  {
   "cell_type": "code",
   "execution_count": 10,
   "id": "b771ae24",
   "metadata": {},
   "outputs": [
    {
     "name": "stdout",
     "output_type": "stream",
     "text": [
      "Puedes realiza una transaccion\n",
      "Has retirado $ 5000\n",
      "El nuevo saldo es: $ 5000\n"
     ]
    }
   ],
   "source": [
    "cuenta=10000\n",
    "cajero=20000\n",
    "v_ret=5000\n",
    "\n",
    "if cajero>0 and cajero>cuenta:\n",
    "    print(\"Puedes realiza una transaccion\")\n",
    "    if cuenta>=v_ret:\n",
    "        cuenta=cuenta-v_ret\n",
    "        print(\"Has retirado $\",v_ret)\n",
    "        print(\"El nuevo saldo es: $\",cuenta)\n",
    "    else:\n",
    "        print(\"No puedes retirar dinero\")\n",
    "else:\n",
    "    print(\"No puedes retirar dinero\")\n",
    "    "
   ]
  },
  {
   "cell_type": "code",
   "execution_count": 11,
   "id": "60aa265f",
   "metadata": {},
   "outputs": [
    {
     "name": "stdout",
     "output_type": "stream",
     "text": [
      "El dinero del cajero es: 20000. El dinero en tu cuenta es: 10000\n",
      "Puedes realiza una transaccion\n",
      "Has retirado $ 5000\n",
      "El nuevo saldo es: $ 5000\n",
      "El dinero del cajero es: 15000. El dinero en tu cuenta es: 5000\n",
      "\n",
      "\n",
      "Puedes realiza una transaccion\n",
      "Has retirado $ 5000\n",
      "El nuevo saldo es: $ 0\n",
      "El dinero del cajero es: 15000. El dinero en tu cuenta es: 0\n",
      "\n",
      "\n",
      "Puedes realiza una transaccion\n",
      "No puedes retirar dinero\n",
      "El dinero del cajero es: 15000. El dinero en tu cuenta es: 0\n"
     ]
    }
   ],
   "source": [
    "def cajero_automatico(cajero,cuenta,v_ret):\n",
    "    if cajero>0 and cajero>cuenta:\n",
    "        print(\"Puedes realiza una transaccion\")\n",
    "        if cuenta>=v_ret:\n",
    "            cuenta=cuenta-v_ret\n",
    "            cajero=cajero-cuenta\n",
    "            print(\"Has retirado $\",v_ret)\n",
    "            print(\"El nuevo saldo es: $\",cuenta)\n",
    "            \n",
    "        else:\n",
    "            print(\"No puedes retirar dinero\")\n",
    "    else:\n",
    "        print(\"No puedes retirar dinero\")\n",
    "    return cajero, cuenta\n",
    "    \n",
    "cuenta=10000\n",
    "cajero=20000\n",
    "v_ret=5000\n",
    "\n",
    "print(\"El dinero del cajero es: {}. El dinero en tu cuenta es: {}\" .format(cajero, cuenta))\n",
    "cajero,cuenta=cajero_automatico(cajero,cuenta,v_ret)\n",
    "print(\"El dinero del cajero es: {}. El dinero en tu cuenta es: {}\" .format(cajero, cuenta))\n",
    "print(\"\\n\")\n",
    "\n",
    "cajero,cuenta=cajero_automatico(cajero,cuenta,v_ret)\n",
    "print(\"El dinero del cajero es: {}. El dinero en tu cuenta es: {}\" .format(cajero, cuenta))\n",
    "print(\"\\n\")\n",
    "\n",
    "cajero,cuenta=cajero_automatico(cajero,cuenta,v_ret)\n",
    "print(\"El dinero del cajero es: {}. El dinero en tu cuenta es: {}\" .format(cajero, cuenta))\n"
   ]
  },
  {
   "cell_type": "code",
   "execution_count": 12,
   "id": "d6e8a4f4",
   "metadata": {},
   "outputs": [
    {
     "name": "stdout",
     "output_type": "stream",
     "text": [
      "('David', 'Alvarez')\n"
     ]
    },
    {
     "ename": "NameError",
     "evalue": "name 'nombre' is not defined",
     "output_type": "error",
     "traceback": [
      "\u001b[0;31m---------------------------------------------------------------------------\u001b[0m",
      "\u001b[0;31mNameError\u001b[0m                                 Traceback (most recent call last)",
      "\u001b[0;32m<ipython-input-12-dbe97232a0b6>\u001b[0m in \u001b[0;36m<module>\u001b[0;34m\u001b[0m\n\u001b[1;32m      4\u001b[0m \u001b[0;34m\u001b[0m\u001b[0m\n\u001b[1;32m      5\u001b[0m \u001b[0mmi_funcion\u001b[0m\u001b[0;34m(\u001b[0m\u001b[0;34m'David'\u001b[0m\u001b[0;34m,\u001b[0m\u001b[0;34m'Alvarez'\u001b[0m\u001b[0;34m)\u001b[0m\u001b[0;34m\u001b[0m\u001b[0;34m\u001b[0m\u001b[0m\n\u001b[0;32m----> 6\u001b[0;31m \u001b[0mprint\u001b[0m\u001b[0;34m(\u001b[0m\u001b[0mnombre\u001b[0m\u001b[0;34m)\u001b[0m\u001b[0;34m\u001b[0m\u001b[0;34m\u001b[0m\u001b[0m\n\u001b[0m",
      "\u001b[0;31mNameError\u001b[0m: name 'nombre' is not defined"
     ]
    }
   ],
   "source": [
    "def mi_funcion(nombre,apellido):\n",
    "    nombre_completo=nombre,apellido\n",
    "    print(nombre_completo)\n",
    "    \n",
    "mi_funcion('David','Alvarez')\n",
    "print(nombre)"
   ]
  },
  {
   "cell_type": "code",
   "execution_count": null,
   "id": "bb51596a",
   "metadata": {},
   "outputs": [],
   "source": [
    "#Asignacion multiple\n",
    "def mi_funcion(nombre,apellido):\n",
    "    nombre_completo=nombre,apellido\n",
    "    print(nombre_completo)\n",
    "    return nombre, apellido, 10\n",
    "    \n",
    "nombre, apellido, ent=mi_funcion('David','Alvarez')\n",
    "print(nombre)\n",
    "print(apellido)\n",
    "print(ent)"
   ]
  },
  {
   "cell_type": "code",
   "execution_count": null,
   "id": "90b489a9",
   "metadata": {},
   "outputs": [],
   "source": [
    "var1=1\n",
    "var2=var1\n",
    "print(var1)\n",
    "print(var2)"
   ]
  },
  {
   "cell_type": "code",
   "execution_count": null,
   "id": "538274e6",
   "metadata": {},
   "outputs": [],
   "source": [
    "var1=var2=var3=var4=200\n",
    "print(var1,var2,var3,var4)"
   ]
  },
  {
   "cell_type": "code",
   "execution_count": null,
   "id": "f3fe4a9e",
   "metadata": {},
   "outputs": [],
   "source": [
    "var1, var2, var3 =10, 20, 30\n",
    "print(var1)\n",
    "print(var2)\n",
    "print(var3)"
   ]
  },
  {
   "cell_type": "code",
   "execution_count": null,
   "id": "e3407f39",
   "metadata": {},
   "outputs": [],
   "source": [
    "def saludar(nombre, mensaje=\"Hola\"):\n",
    "    print(mensaje,nombre)\n",
    "\n",
    "saludar('Jhonnyer')"
   ]
  },
  {
   "cell_type": "code",
   "execution_count": null,
   "id": "08bd44c3",
   "metadata": {
    "scrolled": false
   },
   "outputs": [],
   "source": [
    "def saludar(nombre, mensaje=\"Hola\"):\n",
    "    print(mensaje,nombre)\n",
    "    return mensaje, nombre\n",
    "\n",
    "mensaje, nombre=saludar('Jhonnyer')\n",
    "print(mensaje)\n",
    "print(nombre)"
   ]
  },
  {
   "cell_type": "code",
   "execution_count": null,
   "id": "535e51be",
   "metadata": {},
   "outputs": [],
   "source": [
    "def saludar(nombre, mensaje=\"Hola\"):\n",
    "    print(mensaje,nombre)\n",
    "    return mensaje, nombre\n",
    "\n",
    "mensaje, nombre=saludar(mensaje='Buen dia',nombre='Jhonnyer')\n",
    "print(mensaje)\n",
    "print(nombre)"
   ]
  },
  {
   "cell_type": "code",
   "execution_count": null,
   "id": "cef63c24",
   "metadata": {},
   "outputs": [],
   "source": [
    "def my_function(fname):\n",
    "    print(fname+' Gonzales')\n",
    "    \n",
    "my_function('Jhonnyer')\n",
    "my_function('Luis')"
   ]
  },
  {
   "cell_type": "code",
   "execution_count": null,
   "id": "3fa8335c",
   "metadata": {},
   "outputs": [],
   "source": [
    "my_function('1')"
   ]
  },
  {
   "cell_type": "code",
   "execution_count": null,
   "id": "67f872dc",
   "metadata": {},
   "outputs": [],
   "source": [
    "def my_function(fname, lname):\n",
    "    print(fname+\" \"+lname)\n",
    "    \n",
    "my_function('Jhonnyer','Galindez')\n",
    "my_function('Luis','Gonzales')"
   ]
  },
  {
   "cell_type": "code",
   "execution_count": null,
   "id": "e5fd1c3e",
   "metadata": {},
   "outputs": [],
   "source": [
    "my_function('Jhonnyer')"
   ]
  },
  {
   "cell_type": "code",
   "execution_count": null,
   "id": "38402832",
   "metadata": {},
   "outputs": [],
   "source": [
    "#El valor de n solo existe dentro de la funcion test, por fuera de la funcion no existe\n",
    "def test():\n",
    "    n=10\n",
    "    print(n)\n",
    "    \n",
    "test()\n",
    "print(n)"
   ]
  },
  {
   "cell_type": "code",
   "execution_count": null,
   "id": "5c64958e",
   "metadata": {},
   "outputs": [],
   "source": [
    "#El valor de n solo existe dentro de la funcion test, por fuera de la funcion no existe\n",
    "def test(a):\n",
    "    n=10+a\n",
    "    print(n)\n",
    "    return n\n",
    "    \n",
    "a=test(10)\n",
    "print(a)"
   ]
  },
  {
   "cell_type": "code",
   "execution_count": null,
   "id": "f211c11f",
   "metadata": {},
   "outputs": [],
   "source": [
    "#Acceder una variable declarada desde afuera\n",
    "m=10\n",
    "def test():\n",
    "    a=m*2\n",
    "    print(m)\n",
    "    print(a)\n",
    "test()"
   ]
  },
  {
   "cell_type": "code",
   "execution_count": null,
   "id": "32e6981c",
   "metadata": {},
   "outputs": [],
   "source": [
    "def test():\n",
    "    print(l)\n",
    "    return l*2\n",
    "\n",
    "l = 10\n",
    "a=test() \n",
    "print(a)"
   ]
  },
  {
   "cell_type": "code",
   "execution_count": null,
   "id": "0bd6d68b",
   "metadata": {},
   "outputs": [],
   "source": [
    "def prueba1():\n",
    "    x=10 #variable que solo existe en la funcion\n",
    "    print(x)\n",
    "\n",
    "#Variable externa\n",
    "x=5\n",
    "prueba1()\n",
    "print(x)"
   ]
  },
  {
   "cell_type": "code",
   "execution_count": null,
   "id": "85b4f411",
   "metadata": {},
   "outputs": [],
   "source": [
    "def prueba2():\n",
    "    global x #Variable hace referencia a una variable externa\n",
    "    x=6\n",
    "    print(x)\n",
    "    \n",
    "x=24\n",
    "prueba2()\n",
    "print(x)"
   ]
  },
  {
   "cell_type": "code",
   "execution_count": null,
   "id": "4295b76e",
   "metadata": {},
   "outputs": [],
   "source": [
    "def doblar():\n",
    "    global num\n",
    "    num=num*2\n",
    "#     num*=2\n",
    "num=6\n",
    "doblar()\n",
    "print(num)"
   ]
  },
  {
   "cell_type": "code",
   "execution_count": null,
   "id": "c4547764",
   "metadata": {},
   "outputs": [],
   "source": [
    "def test(num):\n",
    "    return num,num*2, num*4\n",
    "\n",
    "num1,num2,num3=test(5)\n",
    "print(num1)\n",
    "print(num2)\n",
    "print(num3)"
   ]
  },
  {
   "cell_type": "code",
   "execution_count": 19,
   "id": "cc9ecc0e",
   "metadata": {},
   "outputs": [
    {
     "data": {
      "text/plain": [
       "1"
      ]
     },
     "execution_count": 19,
     "metadata": {},
     "output_type": "execute_result"
    }
   ],
   "source": [
    "7%2\n"
   ]
  },
  {
   "cell_type": "code",
   "execution_count": 24,
   "id": "fee81a8d",
   "metadata": {},
   "outputs": [
    {
     "name": "stdout",
     "output_type": "stream",
     "text": [
      "impar\n"
     ]
    }
   ],
   "source": [
    "def tipo_numero(numero): \n",
    "    c=(numero%2)\n",
    "    if c==1:\n",
    "        print(\"impar\")\n",
    "    elif c==0: #else if (sino si) \n",
    "        print(\"par\")\n",
    "        \n",
    "tipo_numero(5)"
   ]
  },
  {
   "cell_type": "code",
   "execution_count": 13,
   "id": "e48fa677",
   "metadata": {},
   "outputs": [
    {
     "name": "stdout",
     "output_type": "stream",
     "text": [
      "Ingrese un numero12\n",
      "El número 12 es par\n"
     ]
    }
   ],
   "source": [
    "#### Definir una funcion que me indique si un numero ingresado por el teclado es par o impar\n",
    "def par_impar():\n",
    "    numero=int(input(\"Ingrese un numero\"))\n",
    "    if numero%2==0:\n",
    "        print(\"El número {} es par\".format(numero))\n",
    "    else:\n",
    "        print(\"El numero {} es impar\".format(numero))\n",
    "    \n",
    "par_impar()"
   ]
  }
 ],
 "metadata": {
  "kernelspec": {
   "display_name": "Python 3",
   "language": "python",
   "name": "python3"
  },
  "language_info": {
   "codemirror_mode": {
    "name": "ipython",
    "version": 3
   },
   "file_extension": ".py",
   "mimetype": "text/x-python",
   "name": "python",
   "nbconvert_exporter": "python",
   "pygments_lexer": "ipython3",
   "version": "3.9.1"
  }
 },
 "nbformat": 4,
 "nbformat_minor": 5
}
