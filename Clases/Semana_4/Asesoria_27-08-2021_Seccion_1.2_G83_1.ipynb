#!/usr/bin/env python3
# -*- coding: utf-8 -*-
"""
Created on Fri Aug 27 20:01:13 2021

@author: root
"""

#argumentos por keywords, que hacen referencia a los parametros de la funcion.
#Estas utilizan un formato clave-valor
def notas(codigo:str,n1:float,n2:float,n3:float,n4:float):
#     suma=n1+n2+n3+n4
    minimo=min(n1,n2,n3,n4)
    print("La nota minima fue: ",minimo)
    maximo=max(n1,n2,n3,n4)
    print("La nota maximo fue: ",maximo)
    resta=maximo-minimo
    print("La resta entre la nota maxima y la nota minima es: ",resta)
    suma=sum((n1,n2,n3))
    print(suma)
    print("El estudiante con el codigo {} tiene una sumatoria de notas de: {}".format(codigo,suma))
    
codigo="Est12345"
n1=3.4
n2=4
n3=4.6
n4=3.8

notas(n1=n1,n2=n2,n3=n3,n4=n4,codigo=codigo)