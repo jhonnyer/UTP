{
 "cells": [
  {
   "cell_type": "code",
   "execution_count": 6,
   "id": "301fcde6",
   "metadata": {},
   "outputs": [
    {
     "name": "stdout",
     "output_type": "stream",
     "text": [
      "A+C son igual a B\n"
     ]
    }
   ],
   "source": [
    "# Dados tres numeros, determinar si la suma de cualquier pareaja de elos es igual al tercer numero. Si se \n",
    "# cumple, esta condicion debe escribir iguales, sino escribir distinto.\n",
    "\n",
    "A=1\n",
    "B=3\n",
    "C=2\n",
    "\n",
    "if (A+B)==C:\n",
    "    print(\"A+B son igual a C\")\n",
    "elif (B+C)==A:\n",
    "    print(\"B+C son igual a A\")\n",
    "elif (A+C)==B:\n",
    "    print(\"A+C son igual a B\")\n",
    "else:\n",
    "    print(\"Distintos\")"
   ]
  },
  {
   "cell_type": "code",
   "execution_count": 8,
   "id": "b7a93478",
   "metadata": {},
   "outputs": [
    {
     "name": "stdout",
     "output_type": "stream",
     "text": [
      "Ingrese un numero: 5\n",
      "5.0 es un número impar\n"
     ]
    }
   ],
   "source": [
    "n=float(input(\"Ingrese un numero: \"))\n",
    "if n % 2 == 0:\n",
    "    print(n,\"es un número par\")\n",
    "else:\n",
    "    print(n,\"es un número impar\")"
   ]
  },
  {
   "cell_type": "code",
   "execution_count": 30,
   "id": "9a567610",
   "metadata": {},
   "outputs": [
    {
     "name": "stdout",
     "output_type": "stream",
     "text": [
      "Ingrese el valor a retirar: 100\n",
      "Has retirado:  100\n",
      "Tienes un nuevo saldo:  9900\n",
      "Ingrese el valor a retirar: 100\n",
      "Has retirado:  100\n",
      "Tienes un nuevo saldo:  9800\n"
     ]
    }
   ],
   "source": [
    "##### Realice un algoritmo que permita verificar el saldo de una cuenta en un cajero, \n",
    "#si tiene plata retirar un dinero, y recibir un mensaje del nuevo saldo, sino tiene plata no\n",
    "# puede retirar el dinero, debe recibir el valor del saldo y solicitar ingresar un nuevo valor\n",
    "#tener en cuenta que existen dos ramas de una condición. \n",
    "\n",
    "#Valor_Cuenta\n",
    "#Verificar que el cajero no tiene dinero suficiente\n",
    "#Introducir_valor_retirar\n",
    "#Sacar mensaje de acuerdo a la condicion\n",
    "    #Verificar si el cajero cuenta con el dinero\n",
    "        #\n",
    "        #\n",
    "        #\n",
    "    #si puede sacar dinero\n",
    "        #Comparar el valor que quiero retirar y el saldo de mi cuenta\n",
    "        #Restar el valor que yo introduci al valor que yo tengo\n",
    "        #mostrar el valor actual\n",
    "    #si no puede sacar dinero\n",
    "        #Mensaje del porque no se puede sacar dinero\n",
    "        #solicitar ingresar un nuevo valor\n",
    "        #retiro el dinero\n",
    "        #muestro un mensaje con el nuevo valor en la cuenta, mostrar mensaje valor retirado\n",
    "#Fin\n",
    "\n",
    "\n",
    "x=10000\n",
    "def cal_ban(x):\n",
    "    #dinero_cajer=20000\n",
    "    valor_ret=int(input(\"Ingrese el valor a retirar: \"))\n",
    "    while valor_ret>x:\n",
    "        print(\"No puedes retirar el dinero\")\n",
    "        print(\"El saldo en tu cuenta es: \",x)\n",
    "        if x==0:\n",
    "            print(\"No tienes dinero en tu cuenta\")\n",
    "            print(\"Por favor retira la tarjeta\")\n",
    "            break\n",
    "        else:\n",
    "            valor_ret=int(input(\"Ingrese el valor a retirar: \"))\n",
    "    else:\n",
    "        print(\"Has retirado: \",valor_ret)\n",
    "        y=x-valor_ret\n",
    "        return y\n",
    "\n",
    "val=cal_ban(x)\n",
    "x=val\n",
    "print(\"Tienes un nuevo saldo: \",x)\n",
    "val1=cal_ban(x)\n",
    "x=val1\n",
    "print(\"Tienes un nuevo saldo: \",x)"
   ]
  },
  {
   "cell_type": "code",
   "execution_count": 36,
   "id": "1c62cd84",
   "metadata": {},
   "outputs": [
    {
     "name": "stdout",
     "output_type": "stream",
     "text": [
      "Ingrese el valor a retirar: 12\n"
     ]
    },
    {
     "ename": "NameError",
     "evalue": "name 't' is not defined",
     "output_type": "error",
     "traceback": [
      "\u001b[0;31m---------------------------------------------------------------------------\u001b[0m",
      "\u001b[0;31mNameError\u001b[0m                                 Traceback (most recent call last)",
      "\u001b[0;32m<ipython-input-36-280cdec6025a>\u001b[0m in \u001b[0;36m<module>\u001b[0;34m\u001b[0m\n\u001b[1;32m     15\u001b[0m             \u001b[0;32mreturn\u001b[0m \u001b[0my\u001b[0m\u001b[0;34m\u001b[0m\u001b[0;34m\u001b[0m\u001b[0m\n\u001b[1;32m     16\u001b[0m \u001b[0;34m\u001b[0m\u001b[0m\n\u001b[0;32m---> 17\u001b[0;31m \u001b[0mval\u001b[0m\u001b[0;34m=\u001b[0m\u001b[0mcal_ban\u001b[0m\u001b[0;34m(\u001b[0m\u001b[0mx\u001b[0m\u001b[0;34m)\u001b[0m\u001b[0;34m\u001b[0m\u001b[0;34m\u001b[0m\u001b[0m\n\u001b[0m\u001b[1;32m     18\u001b[0m \u001b[0mx\u001b[0m\u001b[0;34m=\u001b[0m\u001b[0mval\u001b[0m\u001b[0;34m\u001b[0m\u001b[0;34m\u001b[0m\u001b[0m\n\u001b[1;32m     19\u001b[0m \u001b[0mprint\u001b[0m\u001b[0;34m(\u001b[0m\u001b[0;34m\"Tienes un nuevo saldo: \"\u001b[0m\u001b[0;34m,\u001b[0m\u001b[0mx\u001b[0m\u001b[0;34m)\u001b[0m\u001b[0;34m\u001b[0m\u001b[0;34m\u001b[0m\u001b[0m\n",
      "\u001b[0;32m<ipython-input-36-280cdec6025a>\u001b[0m in \u001b[0;36mcal_ban\u001b[0;34m(x)\u001b[0m\n\u001b[1;32m     11\u001b[0m             \u001b[0mprint\u001b[0m\u001b[0;34m(\u001b[0m\u001b[0;34m\"El saldo en tu cuenta es: \"\u001b[0m\u001b[0;34m,\u001b[0m\u001b[0mx\u001b[0m\u001b[0;34m)\u001b[0m\u001b[0;34m\u001b[0m\u001b[0;34m\u001b[0m\u001b[0m\n\u001b[1;32m     12\u001b[0m         \u001b[0;32melse\u001b[0m\u001b[0;34m:\u001b[0m\u001b[0;34m\u001b[0m\u001b[0;34m\u001b[0m\u001b[0m\n\u001b[0;32m---> 13\u001b[0;31m             \u001b[0mprint\u001b[0m\u001b[0;34m(\u001b[0m\u001b[0;34m\"Has retirado: \"\u001b[0m\u001b[0;34m,\u001b[0m\u001b[0mt\u001b[0m\u001b[0;34m)\u001b[0m\u001b[0;34m\u001b[0m\u001b[0;34m\u001b[0m\u001b[0m\n\u001b[0m\u001b[1;32m     14\u001b[0m             \u001b[0my\u001b[0m\u001b[0;34m=\u001b[0m\u001b[0mx\u001b[0m\u001b[0;34m-\u001b[0m\u001b[0mvalor_ret\u001b[0m\u001b[0;34m\u001b[0m\u001b[0;34m\u001b[0m\u001b[0m\n\u001b[1;32m     15\u001b[0m             \u001b[0;32mreturn\u001b[0m \u001b[0my\u001b[0m\u001b[0;34m\u001b[0m\u001b[0;34m\u001b[0m\u001b[0m\n",
      "\u001b[0;31mNameError\u001b[0m: name 't' is not defined"
     ]
    }
   ],
   "source": [
    "x=10000\n",
    "def cal_ban(x):\n",
    "    while x==0:\n",
    "        print(\"No tienes saldo sufienciente en tu cuenta\")\n",
    "        print(\"Por favor retira la tarjeta\")\n",
    "        break\n",
    "    else:\n",
    "        valor_ret=int(input(\"Ingrese el valor a retirar: \"))\n",
    "        if valor_ret>x:\n",
    "            print(\"No puedes retirar el dinero\")\n",
    "            print(\"El saldo en tu cuenta es: \",x)\n",
    "        else:\n",
    "            print(\"Has retirado: \",valor_ret)\n",
    "            y=x-valor_ret\n",
    "            return y\n",
    "\n",
    "val=cal_ban(x)\n",
    "x=val\n",
    "print(\"Tienes un nuevo saldo: \",x)\n",
    "val1=cal_ban(x)\n",
    "x=val1\n",
    "print(\"Tienes un nuevo saldo: \",x)"
   ]
  }
 ],
 "metadata": {
  "kernelspec": {
   "display_name": "Python 3",
   "language": "python",
   "name": "python3"
  },
  "language_info": {
   "codemirror_mode": {
    "name": "ipython",
    "version": 3
   },
   "file_extension": ".py",
   "mimetype": "text/x-python",
   "name": "python",
   "nbconvert_exporter": "python",
   "pygments_lexer": "ipython3",
   "version": "3.9.1"
  }
 },
 "nbformat": 4,
 "nbformat_minor": 5
}
