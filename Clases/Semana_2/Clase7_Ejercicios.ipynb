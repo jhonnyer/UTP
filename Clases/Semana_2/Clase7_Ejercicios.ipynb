{
 "cells": [
  {
   "cell_type": "code",
   "execution_count": 105,
   "id": "f204cae3",
   "metadata": {},
   "outputs": [
    {
     "name": "stdout",
     "output_type": "stream",
     "text": [
      "ingrese un valor: 10\n",
      "10\n"
     ]
    }
   ],
   "source": [
    "x=input(\"ingrese un valor: \")\n",
    "print(x)"
   ]
  },
  {
   "cell_type": "code",
   "execution_count": 108,
   "id": "3f8adc9b",
   "metadata": {},
   "outputs": [
    {
     "name": "stdout",
     "output_type": "stream",
     "text": [
      "5\n"
     ]
    }
   ],
   "source": [
    "a=2\n",
    "b=3\n",
    "c=a+b\n",
    "print(c)"
   ]
  },
  {
   "cell_type": "code",
   "execution_count": 111,
   "id": "5bdd93a7",
   "metadata": {},
   "outputs": [
    {
     "name": "stdout",
     "output_type": "stream",
     "text": [
      "12\n"
     ]
    }
   ],
   "source": [
    "#inicio\n",
    "#pida el primero numero\n",
    "#pida el segundo numero\n",
    "#realice la suma del primero numero y el segundo numero\n",
    "#guarde el resultado suma\n",
    "#imprima el resultado en pantalla\n",
    "#fin\n",
    "\n",
    "h=2\n",
    "f=10\n",
    "g=f+h\n",
    "print(g)\n"
   ]
  },
  {
   "cell_type": "code",
   "execution_count": 107,
   "id": "c4b38640",
   "metadata": {},
   "outputs": [
    {
     "name": "stdout",
     "output_type": "stream",
     "text": [
      "Viaja\n"
     ]
    }
   ],
   "source": [
    "x=1\n",
    "# True\n",
    "# False\n",
    "if x==1:\n",
    "    print(\"Viaja\")\n",
    "else:\n",
    "    print(\"No viaja\")"
   ]
  },
  {
   "cell_type": "code",
   "execution_count": 3,
   "id": "0fc127b3",
   "metadata": {},
   "outputs": [
    {
     "name": "stdout",
     "output_type": "stream",
     "text": [
      "El dinero invertido fue recuperado\n"
     ]
    }
   ],
   "source": [
    "ing=80000\n",
    "gas=80000\n",
    "\n",
    "if ing>=gas:\n",
    "    ganancia=ing-gas\n",
    "    print(\"la ganancia de la tienda es: \",ganancia)\n",
    "elif gas>ing:\n",
    "    perdida=ing-gas\n",
    "    per=(-perdida)\n",
    "    print(\"Las perdidad fueron: \",perdida)\n",
    "else:\n",
    "    print(\"El dinero invertido fue recuperado\")"
   ]
  },
  {
   "cell_type": "code",
   "execution_count": 10,
   "id": "4341c24a",
   "metadata": {},
   "outputs": [
    {
     "name": "stdout",
     "output_type": "stream",
     "text": [
      "El dinero invertido fue recuperado, la ganancia fue: $ 0\n",
      "Se obtuvieron $0 ganancias \n"
     ]
    }
   ],
   "source": [
    "ing=80000\n",
    "gas=80000\n",
    "\n",
    "if ing>=gas:\n",
    "    ganancia=ing-gas\n",
    "    print(\"El dinero invertido fue recuperado, la ganancia fue: $\",ganancia)\n",
    "    print(\"Se obtuvieron ${} ganancias \".format(ganancia))\n",
    "else:\n",
    "    perdida=ing-gas\n",
    "    per=(-perdida)\n",
    "    print(\"Las perdidad fueron: \",perdida)\n"
   ]
  },
  {
   "cell_type": "code",
   "execution_count": 121,
   "id": "c175b7dd",
   "metadata": {},
   "outputs": [
    {
     "name": "stdout",
     "output_type": "stream",
     "text": [
      "6\n",
      "200\n"
     ]
    }
   ],
   "source": [
    "a=3\n",
    "b=2\n",
    "c=a*b\n",
    "print(c)\n",
    "\n",
    "gaseosa=1000\n",
    "vendi=1200\n",
    "\n",
    "gan=vendi-gaseosa\n",
    "print(gan)\n"
   ]
  },
  {
   "cell_type": "code",
   "execution_count": 126,
   "id": "a5bcfd2a",
   "metadata": {},
   "outputs": [
    {
     "name": "stdout",
     "output_type": "stream",
     "text": [
      "Los numeros son distintos\n"
     ]
    }
   ],
   "source": [
    "# Dados tres numeros, determinar si la suma de cualquier pareja de ellos es igual al tercer numero. Si se \n",
    "# cumple, esta condicion debe escribir que la suma de los dos numeros es igual al tercero, sino escribir distinto.\n",
    "\n",
    "n1=80\n",
    "n2=40\n",
    "n3=30\n",
    "\n",
    "if (n1+n2)==n3:\n",
    "    print(\"Los numeros son iguales\")\n",
    "else:\n",
    "    if (n1+n3)==n2:\n",
    "        print(\"los numeros son iguales\")\n",
    "    else:\n",
    "        if (n2+n3)==n1:\n",
    "            print(\"Los numeros son iguales\")\n",
    "        else:\n",
    "            print(\"Los numeros son distintos\")"
   ]
  },
  {
   "cell_type": "code",
   "execution_count": 129,
   "id": "9fc6916d",
   "metadata": {},
   "outputs": [
    {
     "name": "stdout",
     "output_type": "stream",
     "text": [
      "los numeros son iguales\n"
     ]
    }
   ],
   "source": [
    "n1=10\n",
    "n2=40\n",
    "n3=30\n",
    "if (n1+n2)==n3:\n",
    "    print(\"Los numeros son iguales\")\n",
    "elif (n1+n3)==n2:\n",
    "    print(\"los numeros son iguales\")\n",
    "elif (n2+n3)==n1:\n",
    "    print(\"Los numeros son iguales\")\n",
    "else:\n",
    "    print(\"Los numeros son distintos\")"
   ]
  },
  {
   "cell_type": "code",
   "execution_count": 131,
   "id": "f1dc9a79",
   "metadata": {},
   "outputs": [
    {
     "name": "stdout",
     "output_type": "stream",
     "text": [
      "Los numeros son distintos\n"
     ]
    }
   ],
   "source": [
    "n1=80\n",
    "n2=40\n",
    "n3=30\n",
    "if (n1+n2)==n3 or (n2+n3)==n1 or (n1+n3)==n2:\n",
    "    print(\"Los numeros son iguales\")\n",
    "else:\n",
    "    print(\"Los numeros son distintos\")"
   ]
  },
  {
   "cell_type": "code",
   "execution_count": 138,
   "id": "3e2d4194",
   "metadata": {},
   "outputs": [
    {
     "name": "stdout",
     "output_type": "stream",
     "text": [
      "0\n",
      "1\n",
      "ingrese un numero: 910000\n",
      "910000  es un numero par\n"
     ]
    }
   ],
   "source": [
    "#ingrese un numero por teclado y determinar si es un numero par o un numero impar\n",
    "# 4 | 2\n",
    "# 0   2\n",
    "\n",
    "\n",
    "# 3  | 2\n",
    "# 1    1\n",
    "\n",
    "\n",
    "n=4%2\n",
    "print(n)\n",
    "z=3%2\n",
    "print(z)\n",
    "\n",
    "n=int(input(\"ingrese un numero: \"))\n",
    "if n%2==0:\n",
    "    print(n,\" es un numero par\")\n",
    "else:\n",
    "    print(n, \"es un numero impar\")"
   ]
  },
  {
   "cell_type": "code",
   "execution_count": 46,
   "id": "f264ce8b",
   "metadata": {},
   "outputs": [],
   "source": [
    "# Realice un algoritmo que permita verificar el saldo de una cuenta en un cajero, si \n",
    "#tiene dinero en la cuenta, puede retirar el dinero y recibir un mensaje del nuevo saldo, \n",
    "#sino tiene dinero no puede realizar el retiro y debe informar que tiene un saldo en ceros. \n",
    "#Adicionalmente, debe tener en cuenta si el  cajero tiene dinero disponible, sino indicarle\n",
    "#al usuario que no hay saldo disponible. Debe realizar minimo 2 retiros de dinero\n",
    "\n",
    "\n"
   ]
  }
 ],
 "metadata": {
  "kernelspec": {
   "display_name": "Python 3",
   "language": "python",
   "name": "python3"
  },
  "language_info": {
   "codemirror_mode": {
    "name": "ipython",
    "version": 3
   },
   "file_extension": ".py",
   "mimetype": "text/x-python",
   "name": "python",
   "nbconvert_exporter": "python",
   "pygments_lexer": "ipython3",
   "version": "3.9.1"
  }
 },
 "nbformat": 4,
 "nbformat_minor": 5
}
