{
 "cells": [
  {
   "cell_type": "code",
   "execution_count": 1,
   "id": "4166b657",
   "metadata": {},
   "outputs": [
    {
     "name": "stdout",
     "output_type": "stream",
     "text": [
      "5\n",
      "4\n",
      "3\n",
      "2\n",
      "1\n",
      "Despegue\n"
     ]
    }
   ],
   "source": [
    "n=5\n",
    "while n>0:\n",
    "    print(n)\n",
    "    n=n-1\n",
    "print(\"Despegue\")"
   ]
  },
  {
   "cell_type": "code",
   "execution_count": 5,
   "id": "585813ab",
   "metadata": {},
   "outputs": [
    {
     "name": "stdout",
     "output_type": "stream",
     "text": [
      "El valor de c es: 1. Iteración: 0\n",
      "El valor de c es: 2. Iteración: 1\n",
      "El valor de c es: 3. Iteración: 2\n",
      "El valor de c es: 4. Iteración: 3\n",
      "El valor de c es: 5. Iteración: 4\n",
      "El valor de c es: 6. Iteración: 5\n",
      "Finalización del bucle while\n"
     ]
    }
   ],
   "source": [
    "c=0\n",
    "i=0\n",
    "while c<=5:\n",
    "    c+=1\n",
    "    print(\"El valor de c es: {}. Iteración: {}\".format(c,i))\n",
    "    i=i+1\n",
    "print(\"Finalización del bucle while\")"
   ]
  },
  {
   "cell_type": "code",
   "execution_count": 6,
   "id": "aea136d3",
   "metadata": {},
   "outputs": [
    {
     "name": "stdout",
     "output_type": "stream",
     "text": [
      "El valor de c es: 1. Iteración: 0\n",
      "El valor de c es: 2. Iteración: 1\n",
      "El valor de c es: 3. Iteración: 2\n",
      "El valor de c es: 4. Iteración: 3\n",
      "El valor de c es: 5. Iteración: 4\n",
      "El valor de c es: 6. Iteración: 5\n",
      "Finalización del bucle while\n"
     ]
    }
   ],
   "source": [
    "#Encadenar la sentencia else en el ciclo while cuando la condicion no se cumple\n",
    "c=0\n",
    "i=0\n",
    "while c<=5:\n",
    "    c+=1\n",
    "    print(\"El valor de c es: {}. Iteración: {}\".format(c,i))\n",
    "    i=i+1\n",
    "else:\n",
    "    print(\"Finalización del bucle while\")"
   ]
  },
  {
   "cell_type": "code",
   "execution_count": 7,
   "id": "b71248fc",
   "metadata": {},
   "outputs": [
    {
     "data": {
      "text/plain": [
       "720"
      ]
     },
     "execution_count": 7,
     "metadata": {},
     "output_type": "execute_result"
    }
   ],
   "source": [
    "#Elementos de un while - Encontrar el valor de un factorial\n",
    "def factorial(n:int)->int:\n",
    "    resultado=1\n",
    "    numero_actual=2\n",
    "    while numero_actual<=n:\n",
    "        resultado=resultado*numero_actual\n",
    "        numero_actual+=1\n",
    "    return resultado\n",
    "\n",
    "factorial(6)"
   ]
  },
  {
   "cell_type": "code",
   "execution_count": 9,
   "id": "b471510c",
   "metadata": {},
   "outputs": [
    {
     "data": {
      "text/plain": [
       "720"
      ]
     },
     "execution_count": 9,
     "metadata": {},
     "output_type": "execute_result"
    }
   ],
   "source": [
    "#Elementos de un while - Encontrar el valor de un factorial\n",
    "#Mientras el numero_actual no sea mayor a n, debe hacer el cuerpo del ciclo while\n",
    "def factorial(n:int)->int:\n",
    "    resultado=1\n",
    "    numero_actual=2\n",
    "    while not numero_actual>n:\n",
    "        resultado=resultado*numero_actual\n",
    "        numero_actual+=1\n",
    "    return resultado\n",
    "\n",
    "factorial(6)"
   ]
  },
  {
   "cell_type": "markdown",
   "id": "32a09117",
   "metadata": {},
   "source": [
    "# Ciclo Infinito 1\n",
    "\n",
    "i=1\n",
    "while i>0:\n",
    "    print(i)\n",
    "    i=i+1\n",
    "print(termine)\n"
   ]
  },
  {
   "cell_type": "markdown",
   "id": "3772902b",
   "metadata": {},
   "source": [
    "# Ciclo Infinito 2\n",
    "\n",
    "i=1\n",
    "while i!=10:\n",
    "    print(i)\n",
    "    i=i+2\n",
    "print(\"termine\")\n"
   ]
  },
  {
   "cell_type": "code",
   "execution_count": 11,
   "id": "97093785",
   "metadata": {},
   "outputs": [
    {
     "name": "stdout",
     "output_type": "stream",
     "text": [
      "1\n",
      "2\n",
      "3\n",
      "4\n",
      "5\n",
      "6\n",
      "7\n",
      "8\n",
      "9\n",
      "termine\n"
     ]
    }
   ],
   "source": [
    "i=1\n",
    "while i<10:\n",
    "    print(i)\n",
    "    i=i+1\n",
    "print(\"termine\")"
   ]
  },
  {
   "cell_type": "code",
   "execution_count": 10,
   "id": "f86544eb",
   "metadata": {},
   "outputs": [
    {
     "name": "stdout",
     "output_type": "stream",
     "text": [
      "1\n",
      "2\n",
      "3\n",
      "4\n",
      "5\n",
      "6\n",
      "7\n",
      "8\n",
      "9\n",
      "termine\n"
     ]
    }
   ],
   "source": [
    "i=1\n",
    "while i!=10:\n",
    "    print(i)\n",
    "    i=i+1\n",
    "print(\"termine\")"
   ]
  },
  {
   "cell_type": "code",
   "execution_count": 14,
   "id": "d2a92866",
   "metadata": {},
   "outputs": [
    {
     "name": "stdout",
     "output_type": "stream",
     "text": [
      "Introduzca la nota del estudiante (-1 para salir): \n",
      "5\n",
      "Introduzca la nota del estudiante (-1 para salir): \n",
      "4\n",
      "Introduzca la nota del estudiante (-1 para salir): \n",
      "3\n",
      "Introduzca la nota del estudiante (-1 para salir): \n",
      "2\n",
      "Introduzca la nota del estudiante (-1 para salir): \n",
      "-1\n",
      "Promedio de notas del grado escolar es: 3.5\n"
     ]
    }
   ],
   "source": [
    "#Cilo while controlado por Evento\n",
    "promedio,total,contar=0.0,0,0\n",
    "print(\"Introduzca la nota del estudiante (-1 para salir): \")\n",
    "grado=int(input())\n",
    "while grado !=-1:\n",
    "    total=total+grado\n",
    "    contar=contar+1\n",
    "    print(\"Introduzca la nota del estudiante (-1 para salir): \")\n",
    "    grado=int(input())\n",
    "\n",
    "promedio=total/contar\n",
    "print(\"Promedio de notas del grado escolar es: \"+str(promedio))"
   ]
  },
  {
   "cell_type": "code",
   "execution_count": 16,
   "id": "e8380d53",
   "metadata": {},
   "outputs": [
    {
     "name": "stdout",
     "output_type": "stream",
     "text": [
      "Introduzca la nota del estudiante (-1 para salir): 6\n",
      "Introduzca la nota del estudiante (-1 para salir): 5\n",
      "Introduzca la nota del estudiante (-1 para salir): 4\n",
      "Introduzca la nota del estudiante (-1 para salir): -1\n",
      "Promedio de notas del grado escolar es: 5.0\n"
     ]
    }
   ],
   "source": [
    "#Cilo while con else\n",
    "promedio,total,contar=0.0,0,0\n",
    "mensaje=\"Introduzca la nota del estudiante (-1 para salir): \"\n",
    "grado=int(input(mensaje))\n",
    "while grado !=-1:\n",
    "    total=total+grado\n",
    "    contar=contar+1\n",
    "    grado=int(input(mensaje))\n",
    "else:\n",
    "    promedio=total/contar\n",
    "    print(\"Promedio de notas del grado escolar es: \"+str(promedio))"
   ]
  },
  {
   "cell_type": "code",
   "execution_count": 19,
   "id": "419e5dec",
   "metadata": {},
   "outputs": [
    {
     "name": "stdout",
     "output_type": "stream",
     "text": [
      "1\n",
      "1\n",
      "2\n",
      "3\n",
      "5\n",
      "8\n",
      "13\n",
      "21\n",
      "34\n",
      "55\n",
      "89\n"
     ]
    }
   ],
   "source": [
    "a,b=0,1\n",
    "while b<100:\n",
    "    print(b)\n",
    "    a,b=b,a+b"
   ]
  }
 ],
 "metadata": {
  "kernelspec": {
   "display_name": "Python 3",
   "language": "python",
   "name": "python3"
  },
  "language_info": {
   "codemirror_mode": {
    "name": "ipython",
    "version": 3
   },
   "file_extension": ".py",
   "mimetype": "text/x-python",
   "name": "python",
   "nbconvert_exporter": "python",
   "pygments_lexer": "ipython3",
   "version": "3.9.1"
  }
 },
 "nbformat": 4,
 "nbformat_minor": 5
}
